{
 "cells": [
  {
   "cell_type": "markdown",
   "id": "547a6093",
   "metadata": {},
   "source": [
    "# Classification"
   ]
  },
  {
   "cell_type": "code",
   "execution_count": 12,
   "id": "82fa7b16",
   "metadata": {},
   "outputs": [],
   "source": [
    "# Run this code to make Jupyter print every\n",
    "# printable statement and not just the last one\n",
    "from IPython.core.interactiveshell import InteractiveShell\n",
    "InteractiveShell.ast_node_interactivity = \"all\"\n",
    "\n",
    "# To visualize the data\n",
    "import matplotlib.pyplot as plt\n",
    "\n",
    "# Generic libraries\n",
    "import seaborn as sns\n",
    "import pandas as pd\n",
    "import numpy as np\n",
    "\n",
    "# Regression models\n",
    "import sklearn\n",
    "import scipy\n",
    "from scipy.stats import *\n",
    "import sklearn\n",
    "from sklearn.model_selection import train_test_split, GridSearchCV #split the data into training and test\n",
    "from sklearn.linear_model import LinearRegression #linear regression\n",
    "from sklearn.preprocessing import PolynomialFeatures #for polynomial regression\n",
    "from sklearn.metrics import r2_score, mean_squared_error\n",
    "\n",
    "# 5-folds crossvalidation\n",
    "from sklearn.model_selection import cross_val_score\n",
    "from sklearn.metrics import make_scorer, classification_report\n",
    "from sklearn.pipeline import Pipeline\n",
    "\n",
    "#classification\n",
    "from sklearn.linear_model import LogisticRegression\n",
    "from sklearn.discriminant_analysis import LinearDiscriminantAnalysis as LDA\n",
    "from sklearn.discriminant_analysis import QuadraticDiscriminantAnalysis as QDA\n",
    "from sklearn.neighbors import KNeighborsClassifier "
   ]
  },
  {
   "cell_type": "code",
   "execution_count": 2,
   "id": "37d14762",
   "metadata": {},
   "outputs": [
    {
     "data": {
      "text/plain": [
       "0    7807\n",
       "1    1441\n",
       "Name: Revenue, dtype: int64"
      ]
     },
     "execution_count": 2,
     "metadata": {},
     "output_type": "execute_result"
    },
    {
     "data": {
      "text/plain": [
       "0    2615\n",
       "1     467\n",
       "Name: Revenue, dtype: int64"
      ]
     },
     "execution_count": 2,
     "metadata": {},
     "output_type": "execute_result"
    }
   ],
   "source": [
    "training_set = pd.read_csv(\"training_set_complete.csv\")\n",
    "test_set = pd.read_csv(\"test_set_complete.csv\")\n",
    "training_set = training_set.drop(columns=['Unnamed: 0'])\n",
    "test_set = test_set.drop(columns=['Unnamed: 0'])\n",
    "training_set['Revenue'] = training_set['Revenue'].astype(int)\n",
    "test_set['Revenue'] = test_set['Revenue'].astype(int)\n",
    "training_set['Revenue'].value_counts()\n",
    "test_set['Revenue'].value_counts()\n",
    "categorical_features = ['Month_Aug', 'Month_Dec', 'Month_Feb', 'Month_Jul', 'Month_June',\n",
    "       'Month_Mar', 'Month_May', 'Month_Nov', 'Month_Oct', 'Month_Sep',\n",
    "       'OperatingSystems_1', 'OperatingSystems_2', 'OperatingSystems_3',\n",
    "       'OperatingSystems_4', 'OperatingSystems_5', 'OperatingSystems_6',\n",
    "       'OperatingSystems_7', 'OperatingSystems_8', 'Browser_1', 'Browser_2',\n",
    "       'Browser_3', 'Browser_4', 'Browser_5', 'Browser_6', 'Browser_7',\n",
    "       'Browser_8', 'Browser_9', 'Browser_10', 'Browser_11', 'Browser_12',\n",
    "       'Browser_13', 'Region_1', 'Region_2', 'Region_3', 'Region_4',\n",
    "       'Region_5', 'Region_6', 'Region_7', 'Region_8', 'Region_9',\n",
    "       'TrafficType_1', 'TrafficType_2', 'TrafficType_3', 'TrafficType_4',\n",
    "       'TrafficType_5', 'TrafficType_6', 'TrafficType_7', 'TrafficType_8',\n",
    "       'TrafficType_9', 'TrafficType_10', 'TrafficType_11', 'TrafficType_12',\n",
    "       'TrafficType_13', 'TrafficType_14', 'TrafficType_15', 'TrafficType_16',\n",
    "       'TrafficType_17', 'TrafficType_18', 'TrafficType_19', 'TrafficType_20',\n",
    "       'VisitorType_New_Visitor', 'VisitorType_Other',\n",
    "       'VisitorType_Returning_Visitor', 'Weekend_False', 'Weekend_True']\n",
    "training_set[categorical_features] = training_set[categorical_features].astype('category')\n",
    "test_set[categorical_features] = test_set[categorical_features].astype('category')"
   ]
  },
  {
   "cell_type": "markdown",
   "id": "12901cd6",
   "metadata": {},
   "source": [
    "## Logistic regression"
   ]
  },
  {
   "cell_type": "code",
   "execution_count": 33,
   "id": "0a8acdf4",
   "metadata": {},
   "outputs": [
    {
     "data": {
      "text/plain": [
       "0       0\n",
       "1       0\n",
       "2       0\n",
       "3       0\n",
       "4       0\n",
       "       ..\n",
       "9243    0\n",
       "9244    0\n",
       "9245    0\n",
       "9246    0\n",
       "9247    0\n",
       "Name: Month_June, Length: 9248, dtype: category\n",
       "Categories (2, int64): [0, 1]"
      ]
     },
     "execution_count": 33,
     "metadata": {},
     "output_type": "execute_result"
    }
   ],
   "source": [
    "X_train_full = training_set.drop(columns=['Revenue'])\n",
    "X_test_full = test_set.drop(columns=['Revenue'])\n",
    "y_train = training_set['Revenue']\n",
    "y_test = test_set['Revenue']\n",
    "X_train_full['Month_June']"
   ]
  },
  {
   "cell_type": "code",
   "execution_count": 42,
   "id": "aa452724",
   "metadata": {},
   "outputs": [
    {
     "name": "stdout",
     "output_type": "stream",
     "text": [
      "['Administrative', 'Administrative_Duration', 'Informational', 'Informational_Duration', 'ProductRelated', 'ProductRelated_Duration', 'BounceRates', 'ExitRates', 'PageValues', 'SpecialDay', 'Month_Aug', 'Month_Dec', 'Month_Feb', 'Month_Jul', 'Month_June', 'Month_Mar', 'Month_May', 'Month_Nov', 'Month_Oct', 'Month_Sep', 'OperatingSystems_1', 'OperatingSystems_2', 'OperatingSystems_3', 'OperatingSystems_4', 'OperatingSystems_6', 'OperatingSystems_8', 'Browser_1', 'Browser_2', 'Browser_3', 'Browser_4', 'Browser_5', 'Browser_6', 'Browser_7', 'Browser_8', 'Browser_10', 'Browser_13', 'Region_1', 'Region_2', 'Region_3', 'Region_4', 'Region_5', 'Region_6', 'Region_7', 'Region_8', 'Region_9', 'TrafficType_1', 'TrafficType_2', 'TrafficType_3', 'TrafficType_4', 'TrafficType_5', 'TrafficType_6', 'TrafficType_7', 'TrafficType_8', 'TrafficType_9', 'TrafficType_10', 'TrafficType_11', 'TrafficType_13', 'TrafficType_15', 'TrafficType_19', 'TrafficType_20', 'VisitorType_New_Visitor', 'VisitorType_Other', 'VisitorType_Returning_Visitor', 'Weekend_False', 'Weekend_True']\n"
     ]
    }
   ],
   "source": [
    "from sklearn.feature_selection import VarianceThreshold\n",
    "\n",
    "# Creazione dell'oggetto VarianceThreshold e specifica della soglia di varianza\n",
    "threshold = 0.001  # Soglia di varianza desiderata\n",
    "variance_selector = VarianceThreshold(threshold=threshold)\n",
    "\n",
    "# Applicazione della selezione della varianza sul dataset\n",
    "\n",
    "X_train = X_train_full.loc[:, variance_selector.fit(X_train_full).get_support()]\n",
    "columns_remaining = X_train_full.columns.tolist()\n",
    "\n",
    "X_test = X_test_full[columns_remaining]\n",
    "print(X_train.columns.tolist())"
   ]
  },
  {
   "cell_type": "markdown",
   "id": "792f64c9",
   "metadata": {},
   "source": [
    "#### Scaling data\n",
    "We scale the numerical features to avoid convergence problem with logistic regression."
   ]
  },
  {
   "cell_type": "code",
   "execution_count": 43,
   "id": "f0fd591a",
   "metadata": {},
   "outputs": [],
   "source": [
    "# FACCIAMO QUESTO STEP PER EVITARE PROBLEMI DI CONVERGENZA NEL MODELLO\n",
    "from sklearn.preprocessing import StandardScaler\n",
    "\n",
    "# Assuming you have your feature data X\n",
    "numeric_features = ['Administrative', 'Administrative_Duration', 'Informational',\n",
    "       'Informational_Duration', 'ProductRelated', 'ProductRelated_Duration',\n",
    "       'BounceRates', 'ExitRates', 'PageValues', 'SpecialDay']\n",
    "categorical_features = ['Month_Aug', 'Month_Dec', 'Month_Feb', 'Month_Jul', 'Month_June', 'Month_Mar', 'Month_May', \n",
    "                        'Month_Nov', 'Month_Oct', 'Month_Sep', 'OperatingSystems_1', 'OperatingSystems_2', 'OperatingSystems_3', 'OperatingSystems_4', 'OperatingSystems_6', 'OperatingSystems_8', 'Browser_1', 'Browser_2', 'Browser_3', 'Browser_4', 'Browser_5', 'Browser_6', 'Browser_7', 'Browser_8', 'Browser_10', 'Browser_13', 'Region_1', 'Region_2', 'Region_3', 'Region_4', 'Region_5',\n",
    "                        'Region_6', 'Region_7', 'Region_8', 'Region_9', 'TrafficType_1', 'TrafficType_2', \n",
    "                        'TrafficType_3', 'TrafficType_4', 'TrafficType_5', 'TrafficType_6', 'TrafficType_7', \n",
    "                        'TrafficType_8', 'TrafficType_9', 'TrafficType_10', 'TrafficType_11', 'TrafficType_13', \n",
    "                        'TrafficType_15', 'TrafficType_19', 'TrafficType_20', 'VisitorType_New_Visitor', 'VisitorType_Other', 'VisitorType_Returning_Visitor', 'Weekend_False', 'Weekend_True']\n",
    "scaler = StandardScaler()\n",
    "train_scaled = pd.DataFrame(scaler.fit_transform(X_train[numeric_features]))\n",
    "test_scaled = pd.DataFrame(scaler.fit_transform(X_test[numeric_features]))\n",
    "train_scaled.columns = X_train[numeric_features].columns\n",
    "test_scaled.columns = X_test[numeric_features].columns\n",
    "X_train_scaled = pd.concat([train_scaled,X_train[categorical_features]],axis=1)\n",
    "X_test_scaled = pd.concat([test_scaled,X_test[categorical_features]],axis=1)"
   ]
  },
  {
   "cell_type": "markdown",
   "id": "687db0bf",
   "metadata": {},
   "source": [
    "We use the solver saga because it's the most suitable for big datasets and supports the l1 penalization."
   ]
  },
  {
   "cell_type": "code",
   "execution_count": 44,
   "id": "25eca228",
   "metadata": {},
   "outputs": [
    {
     "data": {
      "text/plain": [
       "LogisticRegression(max_iter=1000, solver='newton-cg')"
      ]
     },
     "execution_count": 44,
     "metadata": {},
     "output_type": "execute_result"
    },
    {
     "name": "stdout",
     "output_type": "stream",
     "text": [
      "Train accuracy: 0.8833261245674741\n",
      "Test accuracy: 0.8890330953926022\n",
      "Cross-Validated Accuracy: [0.87567568 0.88432432 0.88972973 0.87135135 0.88756757 0.89837838\n",
      " 0.88108108 0.86810811 0.87662338 0.88203463]\n",
      "Mean Accuracy: 0.8814874224874224\n",
      "Cross-Validated Accuracy: [0.87055016 0.90291262 0.8961039  0.87337662 0.87012987 0.86688312\n",
      " 0.85714286 0.88961039 0.87337662 0.87987013]\n",
      "Mean Accuracy: 0.8779956289665026\n",
      "              precision    recall  f1-score   support\n",
      "\n",
      "           0       0.90      0.98      0.94      2615\n",
      "           1       0.76      0.40      0.52       467\n",
      "\n",
      "    accuracy                           0.89      3082\n",
      "   macro avg       0.83      0.69      0.73      3082\n",
      "weighted avg       0.88      0.89      0.87      3082\n",
      "\n"
     ]
    }
   ],
   "source": [
    "model = LogisticRegression(solver='newton-cg',max_iter=1000)    # 2- hyperparams\n",
    "model.fit(X_train_scaled, y_train)                                # 3- model fitting\n",
    "y_predict = model.predict(X_test_scaled)                        # 4- model testing\n",
    "\n",
    "def accuracy(y_pred, y_true):\n",
    "    return (y_pred == y_true).mean()\n",
    "\n",
    "print(\"Train accuracy:\", accuracy(y_train, model.predict(X_train_scaled)))\n",
    "print(\"Test accuracy:\", accuracy(y_test, model.predict(X_test_scaled)))\n",
    "coefficients = model.coef_\n",
    "\n",
    "cv_accuracy = cross_val_score(model, X_train_scaled, y_train, cv=10, scoring='accuracy')\n",
    "print(\"Cross-Validated Accuracy:\", cv_accuracy)\n",
    "print(\"Mean Accuracy:\", np.mean(cv_accuracy))\n",
    "\n",
    "cv_accuracy = cross_val_score(model, X_test_scaled, y_test, cv=10, scoring='accuracy')\n",
    "print(\"Cross-Validated Accuracy:\", cv_accuracy)\n",
    "print(\"Mean Accuracy:\", np.mean(cv_accuracy))\n",
    "print(classification_report(y_test,y_predict))\n"
   ]
  },
  {
   "cell_type": "code",
   "execution_count": 50,
   "id": "f488230e",
   "metadata": {},
   "outputs": [],
   "source": [
    "from sklearn.dummy import DummyRegressor\n",
    "from sklearn.model_selection import cross_val_score\n",
    "from sklearn.metrics import make_scorer\n",
    "\n",
    "def get_evaluator(scorer):\n",
    "    def evaluator(model, X, y, trained=False):\n",
    "        if not trained:\n",
    "            model = model.fit(X, y)\n",
    "        score = scorer(model, X, y)\n",
    "        return model, score\n",
    "    return evaluator   \n",
    "\n",
    "def get_cv_evaluator(scorer, cv=3):\n",
    "    def evaluator(model, X, y, trained=False):            \n",
    "        scores = cross_val_score(model, X, y, scoring=scorer, cv=cv)\n",
    "        if not trained:\n",
    "            model = model.fit(X, y)\n",
    "        return model, np.mean(scores)\n",
    "    \n",
    "    return evaluator\n",
    "\n",
    "def get_val_evaluator(scorer, val_size=0.1):\n",
    "    def evaluator(model, X, y, trained=False):\n",
    "        X_train_small, X_val, y_train_small, y_val = train_test_split(X, y, \n",
    "                                                                      test_size=val_size,\n",
    "                                                                      random_state=0)\n",
    "        \n",
    "        if not trained:\n",
    "            model = model.fit(X_train_small, y_train_small)\n",
    "        score = scorer(model, X_val, y_val) \n",
    "        \n",
    "        return model, score\n",
    "    \n",
    "    return evaluator\n",
    "\n",
    "\n",
    "possible_models = {\n",
    "    \"LogisticRegression\":LogisticRegression(solver=\"newton-cg\", penalty='none',max_iter=1000),\n",
    "    \"LDA\":LDA(),\n",
    "    \"QDA\":QDA(),\n",
    "    \"KNN\":KNeighborsClassifier(),\n",
    "    \"LinearRegression\":LinearRegression(fit_intercept=True),\n",
    "}\n",
    "\n",
    "def forward_selection(Xtrain_pd, ytrain, Xtest_pd, ytest,model_chosen,\n",
    "                      candidates_evaluator, candidates_argbest, # Metric to be used at 2.b\n",
    "                      subsets_evaluator, subsets_argbest,       # Metric to be used at 3\n",
    "                      test_evaluator=None, test_argbest=None,\n",
    "                      candidates_scorer_name=None,  # Name of 2. figure\n",
    "                      subsets_scorer_name=None,     # Name of 3. figure\n",
    "                      verbose=True, weight_step3=0):   \n",
    "    test_evaluator = subsets_evaluator if not test_evaluator else test_evaluator\n",
    "    test_argbest = subsets_argbest if not test_argbest else test_argbest\n",
    "    \n",
    "    # Global variable init\n",
    "    # ====================\n",
    "    num_features = Xtrain_pd.shape[-1]\n",
    "    best_candidate_metric = []\n",
    "    # subsets_* are lists containing one value for each Mk model (the best of the Mk candidates)\n",
    "    subsets_test = []\n",
    "    subsets_metric = []        # The best metric of each subset of dimension 'dim'\n",
    "    subsets_best_features = [] # The best features combination in each subset of dimension 'dim'\n",
    "    # A figure to keep track of candidates scores in each Mk subset\n",
    "    plt.figure()\n",
    "    candidate_fig = plt.subplot(111) # A global matplotlib figure\n",
    "    num_evaluations = 0        # A conter to keep track of the total number of trials\n",
    "    \n",
    "    selected_features = []\n",
    "    all_features = Xtrain_pd.columns\n",
    "    \n",
    "    \n",
    "    # 1. Train M0\n",
    "    # ===========\n",
    "    model = DummyRegressor()\n",
    "    # Compute (2.b) metrics\n",
    "    model, score = candidates_evaluator(model, Xtrain_pd[[]], ytrain)\n",
    "    best_candidate_metric.append(score)\n",
    "    subsets_best_features.append([])\n",
    "    _ = candidate_fig.scatter([0], [score], color=\"b\")\n",
    "    # Compute metric for step 3.\n",
    "    _, score = subsets_evaluator(model, Xtrain_pd[[]], ytrain, trained=True)\n",
    "    subsets_metric.append(score)\n",
    "    _, score = test_evaluator(model, Xtrain_pd[[]], ytrain, trained=True)\n",
    "    subsets_test.append(score)\n",
    "    \n",
    "    \n",
    "    for dim in range(num_features):\n",
    "        candidate_metrics = [] # metrics for all the models with dim features\n",
    "        candidate_models = []  # models with dim features\n",
    "        \n",
    "        remaining_features = all_features.difference(selected_features)\n",
    "        \n",
    "        # fit all the models with k features\n",
    "        for new_column in remaining_features:\n",
    "            Xtrain_sub = Xtrain_pd[selected_features+[new_column]].to_numpy()\n",
    "            model = possible_models[model_chosen]\n",
    "            #print(new_column)\n",
    "            model, score = candidates_evaluator(model, Xtrain_sub, ytrain)\n",
    "            candidate_models.append(model)\n",
    "            candidate_metrics.append(score)\n",
    "            num_evaluations += 1\n",
    "            \n",
    "        _ = candidate_fig.scatter([Xtrain_sub.shape[-1]]*len(candidate_metrics), candidate_metrics,\n",
    "                                  color=\"b\")\n",
    "        \n",
    "        idx_best_candidate = candidates_argbest(candidate_metrics) # select the best Mk model\n",
    "        selected_features.append(remaining_features[idx_best_candidate]) # Update selected feature\n",
    "        best_candidate_metric.append(candidate_metrics[idx_best_candidate]) # Save best candidate features\n",
    "        best_features = selected_features.copy()\n",
    "        subsets_best_features.append(best_features)\n",
    "        \n",
    "        \n",
    "        # Compute metric for the final step -> comparison of all the best models\n",
    "        best_subset_model = candidate_models[idx_best_candidate] # save the best model\n",
    "        best_subset_Xtrain = Xtrain_pd[best_features].to_numpy()\n",
    "        best_subset_Xtest = Xtest_pd[best_features].to_numpy()\n",
    "        _, score = test_evaluator(best_subset_model, best_subset_Xtest, ytest, trained=True)\n",
    "        subsets_test.append(score) # computing the metrics for the test set\n",
    "        _, score = subsets_evaluator(best_subset_model, best_subset_Xtrain, ytrain, trained=True)\n",
    "        subsets_metric.append(score) #computing the metrics for the training set\n",
    "        num_evaluations += weight_step3 \n",
    "        \n",
    "        if verbose:\n",
    "            print(\"............\")\n",
    "            print(\"Best model (M{}) with {} features: {}\".format(dim+1, dim+1, best_features))\n",
    "            print(\"M{} subset score (3.): {}\".format(dim+1, score))\n",
    "        \n",
    "    # choose the best candidates\n",
    "    best_subset_idx = subsets_argbest(subsets_metric)\n",
    "    best_features = subsets_best_features[best_subset_idx]\n",
    "    \n",
    "    if verbose:\n",
    "        print(\"\\n Best configuration has {} features\".format(best_subset_idx))\n",
    "        print(\"Features: {}\".format(subsets_best_features[best_subset_idx]))\n",
    "        print(\"Total number of trained models:\", num_evaluations)\n",
    "    \n",
    "    # Complete the subsets_fig figure by plotting\n",
    "    # a line connecting all best candidate score\n",
    "    best_candidate_score_idx = candidates_argbest(best_candidate_metric)\n",
    "    _ = candidate_fig.plot(range(len(best_candidate_metric)), best_candidate_metric)\n",
    "    _ = candidate_fig.scatter(best_candidate_score_idx, best_candidate_metric[best_candidate_score_idx],\n",
    "                              marker='X', label=\"Best\", color=\"r\")\n",
    "    candidate_fig.set_title(candidates_scorer_name)\n",
    "    candidate_fig.legend()\n",
    "    \n",
    "    # Plot a figure to show how te 3. metric evolves\n",
    "    plt.figure()\n",
    "    subsets_fig = plt.subplot(111)\n",
    "    _ = subsets_fig.plot(range(len(subsets_metric)), subsets_metric, label=\"Selection (3.) scores\")\n",
    "    _ = subsets_fig.scatter(best_subset_idx, subsets_metric[best_subset_idx],\n",
    "                              marker='X', label=\"Best (3.) score\", color=\"r\")\n",
    "    best_test_score_idx = test_argbest(subsets_test)\n",
    "    _ = subsets_fig.plot(range(len(subsets_test)), subsets_test, label=\"Test scores\")\n",
    "    _ = subsets_fig.scatter(best_test_score_idx, subsets_test[best_test_score_idx],\n",
    "                              marker='X', label=\"Best test score\", color=\"y\")\n",
    "    subsets_fig.set_title(subsets_scorer_name)\n",
    "    subsets_fig.legend()"
   ]
  },
  {
   "cell_type": "code",
   "execution_count": 45,
   "id": "535ef449",
   "metadata": {
    "scrolled": true
   },
   "outputs": [
    {
     "name": "stdout",
     "output_type": "stream",
     "text": [
      "............\n",
      "Best model (M1) with 1 features: ['PageValues']\n",
      "M1 subset score (3.): 0.8796491894815313\n",
      "............\n",
      "Best model (M2) with 2 features: ['PageValues', 'VisitorType_New_Visitor']\n",
      "M2 subset score (3.): 0.8822444856971629\n",
      "............\n",
      "Best model (M3) with 3 features: ['PageValues', 'VisitorType_New_Visitor', 'TrafficType_3']\n",
      "M3 subset score (3.): 0.8828932512826511\n",
      "............\n",
      "Best model (M4) with 4 features: ['PageValues', 'VisitorType_New_Visitor', 'TrafficType_3', 'TrafficType_10']\n",
      "M4 subset score (3.): 0.8828931928142312\n",
      "............\n",
      "Best model (M5) with 5 features: ['PageValues', 'VisitorType_New_Visitor', 'TrafficType_3', 'TrafficType_10', 'Browser_11']\n",
      "M5 subset score (3.): 0.8828931928142312\n",
      "............\n",
      "Best model (M6) with 6 features: ['PageValues', 'VisitorType_New_Visitor', 'TrafficType_3', 'TrafficType_10', 'Browser_11', 'Browser_1']\n",
      "M6 subset score (3.): 0.8827851431745429\n",
      "............\n",
      "Best model (M7) with 7 features: ['PageValues', 'VisitorType_New_Visitor', 'TrafficType_3', 'TrafficType_10', 'Browser_11', 'Browser_1', 'Browser_12']\n",
      "M7 subset score (3.): 0.8827851431745429\n",
      "............\n",
      "Best model (M8) with 8 features: ['PageValues', 'VisitorType_New_Visitor', 'TrafficType_3', 'TrafficType_10', 'Browser_11', 'Browser_1', 'Browser_12', 'Browser_9']\n",
      "M8 subset score (3.): 0.8827851431745429\n",
      "............\n",
      "Best model (M9) with 9 features: ['PageValues', 'VisitorType_New_Visitor', 'TrafficType_3', 'TrafficType_10', 'Browser_11', 'Browser_1', 'Browser_12', 'Browser_9', 'OperatingSystems_5']\n",
      "M9 subset score (3.): 0.8827851431745429\n",
      "............\n",
      "Best model (M10) with 10 features: ['PageValues', 'VisitorType_New_Visitor', 'TrafficType_3', 'TrafficType_10', 'Browser_11', 'Browser_1', 'Browser_12', 'Browser_9', 'OperatingSystems_5', 'OperatingSystems_7']\n",
      "M10 subset score (3.): 0.8827851431745429\n",
      "............\n",
      "Best model (M11) with 11 features: ['PageValues', 'VisitorType_New_Visitor', 'TrafficType_3', 'TrafficType_10', 'Browser_11', 'Browser_1', 'Browser_12', 'Browser_9', 'OperatingSystems_5', 'OperatingSystems_7', 'Browser_7']\n",
      "M11 subset score (3.): 0.8830014178591788\n",
      "............\n",
      "Best model (M12) with 12 features: ['PageValues', 'VisitorType_New_Visitor', 'TrafficType_3', 'TrafficType_10', 'Browser_11', 'Browser_1', 'Browser_12', 'Browser_9', 'OperatingSystems_5', 'OperatingSystems_7', 'Browser_7', 'TrafficType_11']\n",
      "M12 subset score (3.): 0.8833256837150835\n",
      "............\n",
      "Best model (M13) with 13 features: ['PageValues', 'VisitorType_New_Visitor', 'TrafficType_3', 'TrafficType_10', 'Browser_11', 'Browser_1', 'Browser_12', 'Browser_9', 'OperatingSystems_5', 'OperatingSystems_7', 'Browser_7', 'TrafficType_11', 'Browser_3']\n",
      "M13 subset score (3.): 0.8837582915527751\n",
      "............\n",
      "Best model (M14) with 14 features: ['PageValues', 'VisitorType_New_Visitor', 'TrafficType_3', 'TrafficType_10', 'Browser_11', 'Browser_1', 'Browser_12', 'Browser_9', 'OperatingSystems_5', 'OperatingSystems_7', 'Browser_7', 'TrafficType_11', 'Browser_3', 'Month_Feb']\n",
      "M14 subset score (3.): 0.8834339087600311\n",
      "............\n",
      "Best model (M15) with 15 features: ['PageValues', 'VisitorType_New_Visitor', 'TrafficType_3', 'TrafficType_10', 'Browser_11', 'Browser_1', 'Browser_12', 'Browser_9', 'OperatingSystems_5', 'OperatingSystems_7', 'Browser_7', 'TrafficType_11', 'Browser_3', 'Month_Feb', 'OperatingSystems_8']\n",
      "M15 subset score (3.): 0.8834339087600311\n",
      "............\n",
      "Best model (M16) with 16 features: ['PageValues', 'VisitorType_New_Visitor', 'TrafficType_3', 'TrafficType_10', 'Browser_11', 'Browser_1', 'Browser_12', 'Browser_9', 'OperatingSystems_5', 'OperatingSystems_7', 'Browser_7', 'TrafficType_11', 'Browser_3', 'Month_Feb', 'OperatingSystems_8', 'TrafficType_5']\n",
      "M16 subset score (3.): 0.8835420168681392\n",
      "............\n",
      "Best model (M17) with 17 features: ['PageValues', 'VisitorType_New_Visitor', 'TrafficType_3', 'TrafficType_10', 'Browser_11', 'Browser_1', 'Browser_12', 'Browser_9', 'OperatingSystems_5', 'OperatingSystems_7', 'Browser_7', 'TrafficType_11', 'Browser_3', 'Month_Feb', 'OperatingSystems_8', 'TrafficType_5', 'Region_8']\n",
      "M17 subset score (3.): 0.8835420168681392\n",
      "............\n",
      "Best model (M18) with 18 features: ['PageValues', 'VisitorType_New_Visitor', 'TrafficType_3', 'TrafficType_10', 'Browser_11', 'Browser_1', 'Browser_12', 'Browser_9', 'OperatingSystems_5', 'OperatingSystems_7', 'Browser_7', 'TrafficType_11', 'Browser_3', 'Month_Feb', 'OperatingSystems_8', 'TrafficType_5', 'Region_8', 'TrafficType_12']\n",
      "M18 subset score (3.): 0.8835420168681392\n",
      "............\n",
      "Best model (M19) with 19 features: ['PageValues', 'VisitorType_New_Visitor', 'TrafficType_3', 'TrafficType_10', 'Browser_11', 'Browser_1', 'Browser_12', 'Browser_9', 'OperatingSystems_5', 'OperatingSystems_7', 'Browser_7', 'TrafficType_11', 'Browser_3', 'Month_Feb', 'OperatingSystems_8', 'TrafficType_5', 'Region_8', 'TrafficType_12', 'TrafficType_16']\n",
      "M19 subset score (3.): 0.8835420168681392\n",
      "............\n",
      "Best model (M20) with 20 features: ['PageValues', 'VisitorType_New_Visitor', 'TrafficType_3', 'TrafficType_10', 'Browser_11', 'Browser_1', 'Browser_12', 'Browser_9', 'OperatingSystems_5', 'OperatingSystems_7', 'Browser_7', 'TrafficType_11', 'Browser_3', 'Month_Feb', 'OperatingSystems_8', 'TrafficType_5', 'Region_8', 'TrafficType_12', 'TrafficType_16', 'Browser_8']\n",
      "M20 subset score (3.): 0.8835420168681392\n",
      "............\n",
      "Best model (M21) with 21 features: ['PageValues', 'VisitorType_New_Visitor', 'TrafficType_3', 'TrafficType_10', 'Browser_11', 'Browser_1', 'Browser_12', 'Browser_9', 'OperatingSystems_5', 'OperatingSystems_7', 'Browser_7', 'TrafficType_11', 'Browser_3', 'Month_Feb', 'OperatingSystems_8', 'TrafficType_5', 'Region_8', 'TrafficType_12', 'TrafficType_16', 'Browser_8', 'TrafficType_14']\n",
      "M21 subset score (3.): 0.8835420168681392\n",
      "............\n",
      "Best model (M22) with 22 features: ['PageValues', 'VisitorType_New_Visitor', 'TrafficType_3', 'TrafficType_10', 'Browser_11', 'Browser_1', 'Browser_12', 'Browser_9', 'OperatingSystems_5', 'OperatingSystems_7', 'Browser_7', 'TrafficType_11', 'Browser_3', 'Month_Feb', 'OperatingSystems_8', 'TrafficType_5', 'Region_8', 'TrafficType_12', 'TrafficType_16', 'Browser_8', 'TrafficType_14', 'TrafficType_17']\n",
      "M22 subset score (3.): 0.8835420168681392\n",
      "............\n",
      "Best model (M23) with 23 features: ['PageValues', 'VisitorType_New_Visitor', 'TrafficType_3', 'TrafficType_10', 'Browser_11', 'Browser_1', 'Browser_12', 'Browser_9', 'OperatingSystems_5', 'OperatingSystems_7', 'Browser_7', 'TrafficType_11', 'Browser_3', 'Month_Feb', 'OperatingSystems_8', 'TrafficType_5', 'Region_8', 'TrafficType_12', 'TrafficType_16', 'Browser_8', 'TrafficType_14', 'TrafficType_17', 'TrafficType_18']\n",
      "M23 subset score (3.): 0.8835420168681392\n",
      "............\n",
      "Best model (M24) with 24 features: ['PageValues', 'VisitorType_New_Visitor', 'TrafficType_3', 'TrafficType_10', 'Browser_11', 'Browser_1', 'Browser_12', 'Browser_9', 'OperatingSystems_5', 'OperatingSystems_7', 'Browser_7', 'TrafficType_11', 'Browser_3', 'Month_Feb', 'OperatingSystems_8', 'TrafficType_5', 'Region_8', 'TrafficType_12', 'TrafficType_16', 'Browser_8', 'TrafficType_14', 'TrafficType_17', 'TrafficType_18', 'TrafficType_7']\n",
      "M24 subset score (3.): 0.8835420168681392\n",
      "............\n",
      "Best model (M25) with 25 features: ['PageValues', 'VisitorType_New_Visitor', 'TrafficType_3', 'TrafficType_10', 'Browser_11', 'Browser_1', 'Browser_12', 'Browser_9', 'OperatingSystems_5', 'OperatingSystems_7', 'Browser_7', 'TrafficType_11', 'Browser_3', 'Month_Feb', 'OperatingSystems_8', 'TrafficType_5', 'Region_8', 'TrafficType_12', 'TrafficType_16', 'Browser_8', 'TrafficType_14', 'TrafficType_17', 'TrafficType_18', 'TrafficType_7', 'Region_2']\n",
      "M25 subset score (3.): 0.8841908409220471\n",
      "............\n",
      "Best model (M26) with 26 features: ['PageValues', 'VisitorType_New_Visitor', 'TrafficType_3', 'TrafficType_10', 'Browser_11', 'Browser_1', 'Browser_12', 'Browser_9', 'OperatingSystems_5', 'OperatingSystems_7', 'Browser_7', 'TrafficType_11', 'Browser_3', 'Month_Feb', 'OperatingSystems_8', 'TrafficType_5', 'Region_8', 'TrafficType_12', 'TrafficType_16', 'Browser_8', 'TrafficType_14', 'TrafficType_17', 'TrafficType_18', 'TrafficType_7', 'Region_2', 'Browser_13']\n",
      "M26 subset score (3.): 0.8842990074985749\n"
     ]
    },
    {
     "name": "stdout",
     "output_type": "stream",
     "text": [
      "............\n",
      "Best model (M27) with 27 features: ['PageValues', 'VisitorType_New_Visitor', 'TrafficType_3', 'TrafficType_10', 'Browser_11', 'Browser_1', 'Browser_12', 'Browser_9', 'OperatingSystems_5', 'OperatingSystems_7', 'Browser_7', 'TrafficType_11', 'Browser_3', 'Month_Feb', 'OperatingSystems_8', 'TrafficType_5', 'Region_8', 'TrafficType_12', 'TrafficType_16', 'Browser_8', 'TrafficType_14', 'TrafficType_17', 'TrafficType_18', 'TrafficType_7', 'Region_2', 'Browser_13', 'TrafficType_9']\n",
      "M27 subset score (3.): 0.8842990074985749\n",
      "............\n",
      "Best model (M28) with 28 features: ['PageValues', 'VisitorType_New_Visitor', 'TrafficType_3', 'TrafficType_10', 'Browser_11', 'Browser_1', 'Browser_12', 'Browser_9', 'OperatingSystems_5', 'OperatingSystems_7', 'Browser_7', 'TrafficType_11', 'Browser_3', 'Month_Feb', 'OperatingSystems_8', 'TrafficType_5', 'Region_8', 'TrafficType_12', 'TrafficType_16', 'Browser_8', 'TrafficType_14', 'TrafficType_17', 'TrafficType_18', 'TrafficType_7', 'Region_2', 'Browser_13', 'TrafficType_9', 'VisitorType_Other']\n",
      "M28 subset score (3.): 0.8841908993904667\n",
      "............\n",
      "Best model (M29) with 29 features: ['PageValues', 'VisitorType_New_Visitor', 'TrafficType_3', 'TrafficType_10', 'Browser_11', 'Browser_1', 'Browser_12', 'Browser_9', 'OperatingSystems_5', 'OperatingSystems_7', 'Browser_7', 'TrafficType_11', 'Browser_3', 'Month_Feb', 'OperatingSystems_8', 'TrafficType_5', 'Region_8', 'TrafficType_12', 'TrafficType_16', 'Browser_8', 'TrafficType_14', 'TrafficType_17', 'TrafficType_18', 'TrafficType_7', 'Region_2', 'Browser_13', 'TrafficType_9', 'VisitorType_Other', 'OperatingSystems_6']\n",
      "M29 subset score (3.): 0.8842990074985749\n",
      "............\n",
      "Best model (M30) with 30 features: ['PageValues', 'VisitorType_New_Visitor', 'TrafficType_3', 'TrafficType_10', 'Browser_11', 'Browser_1', 'Browser_12', 'Browser_9', 'OperatingSystems_5', 'OperatingSystems_7', 'Browser_7', 'TrafficType_11', 'Browser_3', 'Month_Feb', 'OperatingSystems_8', 'TrafficType_5', 'Region_8', 'TrafficType_12', 'TrafficType_16', 'Browser_8', 'TrafficType_14', 'TrafficType_17', 'TrafficType_18', 'TrafficType_7', 'Region_2', 'Browser_13', 'TrafficType_9', 'VisitorType_Other', 'OperatingSystems_6', 'Region_6']\n",
      "M30 subset score (3.): 0.8844071156066831\n",
      "............\n",
      "Best model (M31) with 31 features: ['PageValues', 'VisitorType_New_Visitor', 'TrafficType_3', 'TrafficType_10', 'Browser_11', 'Browser_1', 'Browser_12', 'Browser_9', 'OperatingSystems_5', 'OperatingSystems_7', 'Browser_7', 'TrafficType_11', 'Browser_3', 'Month_Feb', 'OperatingSystems_8', 'TrafficType_5', 'Region_8', 'TrafficType_12', 'TrafficType_16', 'Browser_8', 'TrafficType_14', 'TrafficType_17', 'TrafficType_18', 'TrafficType_7', 'Region_2', 'Browser_13', 'TrafficType_9', 'VisitorType_Other', 'OperatingSystems_6', 'Region_6', 'Region_3']\n",
      "M31 subset score (3.): 0.8844070571382632\n",
      "............\n",
      "Best model (M32) with 32 features: ['PageValues', 'VisitorType_New_Visitor', 'TrafficType_3', 'TrafficType_10', 'Browser_11', 'Browser_1', 'Browser_12', 'Browser_9', 'OperatingSystems_5', 'OperatingSystems_7', 'Browser_7', 'TrafficType_11', 'Browser_3', 'Month_Feb', 'OperatingSystems_8', 'TrafficType_5', 'Region_8', 'TrafficType_12', 'TrafficType_16', 'Browser_8', 'TrafficType_14', 'TrafficType_17', 'TrafficType_18', 'TrafficType_7', 'Region_2', 'Browser_13', 'TrafficType_9', 'VisitorType_Other', 'OperatingSystems_6', 'Region_6', 'Region_3', 'Region_5']\n",
      "M32 subset score (3.): 0.8844070571382632\n",
      "............\n",
      "Best model (M33) with 33 features: ['PageValues', 'VisitorType_New_Visitor', 'TrafficType_3', 'TrafficType_10', 'Browser_11', 'Browser_1', 'Browser_12', 'Browser_9', 'OperatingSystems_5', 'OperatingSystems_7', 'Browser_7', 'TrafficType_11', 'Browser_3', 'Month_Feb', 'OperatingSystems_8', 'TrafficType_5', 'Region_8', 'TrafficType_12', 'TrafficType_16', 'Browser_8', 'TrafficType_14', 'TrafficType_17', 'TrafficType_18', 'TrafficType_7', 'Region_2', 'Browser_13', 'TrafficType_9', 'VisitorType_Other', 'OperatingSystems_6', 'Region_6', 'Region_3', 'Region_5', 'VisitorType_Returning_Visitor']\n",
      "M33 subset score (3.): 0.8844070571382632\n",
      "............\n",
      "Best model (M34) with 34 features: ['PageValues', 'VisitorType_New_Visitor', 'TrafficType_3', 'TrafficType_10', 'Browser_11', 'Browser_1', 'Browser_12', 'Browser_9', 'OperatingSystems_5', 'OperatingSystems_7', 'Browser_7', 'TrafficType_11', 'Browser_3', 'Month_Feb', 'OperatingSystems_8', 'TrafficType_5', 'Region_8', 'TrafficType_12', 'TrafficType_16', 'Browser_8', 'TrafficType_14', 'TrafficType_17', 'TrafficType_18', 'TrafficType_7', 'Region_2', 'Browser_13', 'TrafficType_9', 'VisitorType_Other', 'OperatingSystems_6', 'Region_6', 'Region_3', 'Region_5', 'VisitorType_Returning_Visitor', 'Browser_4']\n",
      "M34 subset score (3.): 0.8842989490301552\n",
      "............\n",
      "Best model (M35) with 35 features: ['PageValues', 'VisitorType_New_Visitor', 'TrafficType_3', 'TrafficType_10', 'Browser_11', 'Browser_1', 'Browser_12', 'Browser_9', 'OperatingSystems_5', 'OperatingSystems_7', 'Browser_7', 'TrafficType_11', 'Browser_3', 'Month_Feb', 'OperatingSystems_8', 'TrafficType_5', 'Region_8', 'TrafficType_12', 'TrafficType_16', 'Browser_8', 'TrafficType_14', 'TrafficType_17', 'TrafficType_18', 'TrafficType_7', 'Region_2', 'Browser_13', 'TrafficType_9', 'VisitorType_Other', 'OperatingSystems_6', 'Region_6', 'Region_3', 'Region_5', 'VisitorType_Returning_Visitor', 'Browser_4', 'Month_June']\n",
      "M35 subset score (3.): 0.8841908409220471\n",
      "............\n",
      "Best model (M36) with 36 features: ['PageValues', 'VisitorType_New_Visitor', 'TrafficType_3', 'TrafficType_10', 'Browser_11', 'Browser_1', 'Browser_12', 'Browser_9', 'OperatingSystems_5', 'OperatingSystems_7', 'Browser_7', 'TrafficType_11', 'Browser_3', 'Month_Feb', 'OperatingSystems_8', 'TrafficType_5', 'Region_8', 'TrafficType_12', 'TrafficType_16', 'Browser_8', 'TrafficType_14', 'TrafficType_17', 'TrafficType_18', 'TrafficType_7', 'Region_2', 'Browser_13', 'TrafficType_9', 'VisitorType_Other', 'OperatingSystems_6', 'Region_6', 'Region_3', 'Region_5', 'VisitorType_Returning_Visitor', 'Browser_4', 'Month_June', 'TrafficType_15']\n",
      "M36 subset score (3.): 0.8841908409220471\n",
      "............\n",
      "Best model (M37) with 37 features: ['PageValues', 'VisitorType_New_Visitor', 'TrafficType_3', 'TrafficType_10', 'Browser_11', 'Browser_1', 'Browser_12', 'Browser_9', 'OperatingSystems_5', 'OperatingSystems_7', 'Browser_7', 'TrafficType_11', 'Browser_3', 'Month_Feb', 'OperatingSystems_8', 'TrafficType_5', 'Region_8', 'TrafficType_12', 'TrafficType_16', 'Browser_8', 'TrafficType_14', 'TrafficType_17', 'TrafficType_18', 'TrafficType_7', 'Region_2', 'Browser_13', 'TrafficType_9', 'VisitorType_Other', 'OperatingSystems_6', 'Region_6', 'Region_3', 'Region_5', 'VisitorType_Returning_Visitor', 'Browser_4', 'Month_June', 'TrafficType_15', 'TrafficType_20']\n",
      "M37 subset score (3.): 0.8842990074985749\n",
      "............\n",
      "Best model (M38) with 38 features: ['PageValues', 'VisitorType_New_Visitor', 'TrafficType_3', 'TrafficType_10', 'Browser_11', 'Browser_1', 'Browser_12', 'Browser_9', 'OperatingSystems_5', 'OperatingSystems_7', 'Browser_7', 'TrafficType_11', 'Browser_3', 'Month_Feb', 'OperatingSystems_8', 'TrafficType_5', 'Region_8', 'TrafficType_12', 'TrafficType_16', 'Browser_8', 'TrafficType_14', 'TrafficType_17', 'TrafficType_18', 'TrafficType_7', 'Region_2', 'Browser_13', 'TrafficType_9', 'VisitorType_Other', 'OperatingSystems_6', 'Region_6', 'Region_3', 'Region_5', 'VisitorType_Returning_Visitor', 'Browser_4', 'Month_June', 'TrafficType_15', 'TrafficType_20', 'TrafficType_19']\n",
      "M38 subset score (3.): 0.8840826743455192\n",
      "............\n",
      "Best model (M39) with 39 features: ['PageValues', 'VisitorType_New_Visitor', 'TrafficType_3', 'TrafficType_10', 'Browser_11', 'Browser_1', 'Browser_12', 'Browser_9', 'OperatingSystems_5', 'OperatingSystems_7', 'Browser_7', 'TrafficType_11', 'Browser_3', 'Month_Feb', 'OperatingSystems_8', 'TrafficType_5', 'Region_8', 'TrafficType_12', 'TrafficType_16', 'Browser_8', 'TrafficType_14', 'TrafficType_17', 'TrafficType_18', 'TrafficType_7', 'Region_2', 'Browser_13', 'TrafficType_9', 'VisitorType_Other', 'OperatingSystems_6', 'Region_6', 'Region_3', 'Region_5', 'VisitorType_Returning_Visitor', 'Browser_4', 'Month_June', 'TrafficType_15', 'TrafficType_20', 'TrafficType_19', 'Region_7']\n",
      "M39 subset score (3.): 0.8841908409220471\n"
     ]
    },
    {
     "name": "stdout",
     "output_type": "stream",
     "text": [
      "............\n",
      "Best model (M40) with 40 features: ['PageValues', 'VisitorType_New_Visitor', 'TrafficType_3', 'TrafficType_10', 'Browser_11', 'Browser_1', 'Browser_12', 'Browser_9', 'OperatingSystems_5', 'OperatingSystems_7', 'Browser_7', 'TrafficType_11', 'Browser_3', 'Month_Feb', 'OperatingSystems_8', 'TrafficType_5', 'Region_8', 'TrafficType_12', 'TrafficType_16', 'Browser_8', 'TrafficType_14', 'TrafficType_17', 'TrafficType_18', 'TrafficType_7', 'Region_2', 'Browser_13', 'TrafficType_9', 'VisitorType_Other', 'OperatingSystems_6', 'Region_6', 'Region_3', 'Region_5', 'VisitorType_Returning_Visitor', 'Browser_4', 'Month_June', 'TrafficType_15', 'TrafficType_20', 'TrafficType_19', 'Region_7', 'OperatingSystems_1']\n",
      "M40 subset score (3.): 0.8841907824536273\n",
      "............\n",
      "Best model (M41) with 41 features: ['PageValues', 'VisitorType_New_Visitor', 'TrafficType_3', 'TrafficType_10', 'Browser_11', 'Browser_1', 'Browser_12', 'Browser_9', 'OperatingSystems_5', 'OperatingSystems_7', 'Browser_7', 'TrafficType_11', 'Browser_3', 'Month_Feb', 'OperatingSystems_8', 'TrafficType_5', 'Region_8', 'TrafficType_12', 'TrafficType_16', 'Browser_8', 'TrafficType_14', 'TrafficType_17', 'TrafficType_18', 'TrafficType_7', 'Region_2', 'Browser_13', 'TrafficType_9', 'VisitorType_Other', 'OperatingSystems_6', 'Region_6', 'Region_3', 'Region_5', 'VisitorType_Returning_Visitor', 'Browser_4', 'Month_June', 'TrafficType_15', 'TrafficType_20', 'TrafficType_19', 'Region_7', 'OperatingSystems_1', 'OperatingSystems_4']\n",
      "M41 subset score (3.): 0.8844069402014239\n",
      "............\n",
      "Best model (M42) with 42 features: ['PageValues', 'VisitorType_New_Visitor', 'TrafficType_3', 'TrafficType_10', 'Browser_11', 'Browser_1', 'Browser_12', 'Browser_9', 'OperatingSystems_5', 'OperatingSystems_7', 'Browser_7', 'TrafficType_11', 'Browser_3', 'Month_Feb', 'OperatingSystems_8', 'TrafficType_5', 'Region_8', 'TrafficType_12', 'TrafficType_16', 'Browser_8', 'TrafficType_14', 'TrafficType_17', 'TrafficType_18', 'TrafficType_7', 'Region_2', 'Browser_13', 'TrafficType_9', 'VisitorType_Other', 'OperatingSystems_6', 'Region_6', 'Region_3', 'Region_5', 'VisitorType_Returning_Visitor', 'Browser_4', 'Month_June', 'TrafficType_15', 'TrafficType_20', 'TrafficType_19', 'Region_7', 'OperatingSystems_1', 'OperatingSystems_4', 'Browser_5']\n",
      "M42 subset score (3.): 0.8842989490301552\n"
     ]
    },
    {
     "ename": "KeyboardInterrupt",
     "evalue": "",
     "output_type": "error",
     "traceback": [
      "\u001b[1;31m---------------------------------------------------------------------------\u001b[0m",
      "\u001b[1;31mKeyboardInterrupt\u001b[0m                         Traceback (most recent call last)",
      "\u001b[1;32m~\\AppData\\Local\\Temp\\ipykernel_23600\\1837131311.py\u001b[0m in \u001b[0;36m<module>\u001b[1;34m\u001b[0m\n\u001b[0;32m      1\u001b[0m \u001b[0mcv\u001b[0m \u001b[1;33m=\u001b[0m \u001b[1;36m5\u001b[0m\u001b[1;33m\u001b[0m\u001b[1;33m\u001b[0m\u001b[0m\n\u001b[0;32m      2\u001b[0m \u001b[1;31m#prima era 10!\u001b[0m\u001b[1;33m\u001b[0m\u001b[1;33m\u001b[0m\u001b[0m\n\u001b[1;32m----> 3\u001b[1;33m forward_selection(X_train_scaled, y_train, X_test_scaled, y_test,\"LogisticRegression\",\n\u001b[0m\u001b[0;32m      4\u001b[0m                   \u001b[0mget_evaluator\u001b[0m\u001b[1;33m(\u001b[0m\u001b[0mmake_scorer\u001b[0m\u001b[1;33m(\u001b[0m\u001b[0maccuracy\u001b[0m\u001b[1;33m)\u001b[0m\u001b[1;33m)\u001b[0m\u001b[1;33m,\u001b[0m \u001b[0mnp\u001b[0m\u001b[1;33m.\u001b[0m\u001b[0margmax\u001b[0m\u001b[1;33m,\u001b[0m \u001b[1;31m# 2.\u001b[0m\u001b[1;33m\u001b[0m\u001b[1;33m\u001b[0m\u001b[0m\n\u001b[0;32m      5\u001b[0m                   \u001b[0mget_cv_evaluator\u001b[0m\u001b[1;33m(\u001b[0m\u001b[0mmake_scorer\u001b[0m\u001b[1;33m(\u001b[0m\u001b[0maccuracy\u001b[0m\u001b[1;33m)\u001b[0m\u001b[1;33m,\u001b[0m \u001b[0mcv\u001b[0m\u001b[1;33m)\u001b[0m\u001b[1;33m,\u001b[0m \u001b[0mnp\u001b[0m\u001b[1;33m.\u001b[0m\u001b[0margmax\u001b[0m\u001b[1;33m,\u001b[0m \u001b[1;31m# 3.\u001b[0m\u001b[1;33m\u001b[0m\u001b[1;33m\u001b[0m\u001b[0m\n",
      "\u001b[1;32m~\\AppData\\Local\\Temp\\ipykernel_23600\\720061074.py\u001b[0m in \u001b[0;36mforward_selection\u001b[1;34m(Xtrain_pd, ytrain, Xtest_pd, ytest, model_chosen, candidates_evaluator, candidates_argbest, subsets_evaluator, subsets_argbest, test_evaluator, test_argbest, candidates_scorer_name, subsets_scorer_name, verbose, weight_step3)\u001b[0m\n\u001b[0;32m     95\u001b[0m             \u001b[0mXtrain_sub\u001b[0m \u001b[1;33m=\u001b[0m \u001b[0mXtrain_pd\u001b[0m\u001b[1;33m[\u001b[0m\u001b[0mselected_features\u001b[0m\u001b[1;33m+\u001b[0m\u001b[1;33m[\u001b[0m\u001b[0mnew_column\u001b[0m\u001b[1;33m]\u001b[0m\u001b[1;33m]\u001b[0m\u001b[1;33m.\u001b[0m\u001b[0mto_numpy\u001b[0m\u001b[1;33m(\u001b[0m\u001b[1;33m)\u001b[0m\u001b[1;33m\u001b[0m\u001b[1;33m\u001b[0m\u001b[0m\n\u001b[0;32m     96\u001b[0m             \u001b[0mmodel\u001b[0m \u001b[1;33m=\u001b[0m \u001b[0mpossible_models\u001b[0m\u001b[1;33m[\u001b[0m\u001b[0mmodel_chosen\u001b[0m\u001b[1;33m]\u001b[0m\u001b[1;33m\u001b[0m\u001b[1;33m\u001b[0m\u001b[0m\n\u001b[1;32m---> 97\u001b[1;33m             \u001b[0mmodel\u001b[0m\u001b[1;33m,\u001b[0m \u001b[0mscore\u001b[0m \u001b[1;33m=\u001b[0m \u001b[0mcandidates_evaluator\u001b[0m\u001b[1;33m(\u001b[0m\u001b[0mmodel\u001b[0m\u001b[1;33m,\u001b[0m \u001b[0mXtrain_sub\u001b[0m\u001b[1;33m,\u001b[0m \u001b[0mytrain\u001b[0m\u001b[1;33m)\u001b[0m\u001b[1;33m\u001b[0m\u001b[1;33m\u001b[0m\u001b[0m\n\u001b[0m\u001b[0;32m     98\u001b[0m             \u001b[0mcandidate_models\u001b[0m\u001b[1;33m.\u001b[0m\u001b[0mappend\u001b[0m\u001b[1;33m(\u001b[0m\u001b[0mmodel\u001b[0m\u001b[1;33m)\u001b[0m\u001b[1;33m\u001b[0m\u001b[1;33m\u001b[0m\u001b[0m\n\u001b[0;32m     99\u001b[0m             \u001b[0mcandidate_metrics\u001b[0m\u001b[1;33m.\u001b[0m\u001b[0mappend\u001b[0m\u001b[1;33m(\u001b[0m\u001b[0mscore\u001b[0m\u001b[1;33m)\u001b[0m\u001b[1;33m\u001b[0m\u001b[1;33m\u001b[0m\u001b[0m\n",
      "\u001b[1;32m~\\AppData\\Local\\Temp\\ipykernel_23600\\720061074.py\u001b[0m in \u001b[0;36mevaluator\u001b[1;34m(model, X, y, trained)\u001b[0m\n\u001b[0;32m      6\u001b[0m     \u001b[1;32mdef\u001b[0m \u001b[0mevaluator\u001b[0m\u001b[1;33m(\u001b[0m\u001b[0mmodel\u001b[0m\u001b[1;33m,\u001b[0m \u001b[0mX\u001b[0m\u001b[1;33m,\u001b[0m \u001b[0my\u001b[0m\u001b[1;33m,\u001b[0m \u001b[0mtrained\u001b[0m\u001b[1;33m=\u001b[0m\u001b[1;32mFalse\u001b[0m\u001b[1;33m)\u001b[0m\u001b[1;33m:\u001b[0m\u001b[1;33m\u001b[0m\u001b[1;33m\u001b[0m\u001b[0m\n\u001b[0;32m      7\u001b[0m         \u001b[1;32mif\u001b[0m \u001b[1;32mnot\u001b[0m \u001b[0mtrained\u001b[0m\u001b[1;33m:\u001b[0m\u001b[1;33m\u001b[0m\u001b[1;33m\u001b[0m\u001b[0m\n\u001b[1;32m----> 8\u001b[1;33m             \u001b[0mmodel\u001b[0m \u001b[1;33m=\u001b[0m \u001b[0mmodel\u001b[0m\u001b[1;33m.\u001b[0m\u001b[0mfit\u001b[0m\u001b[1;33m(\u001b[0m\u001b[0mX\u001b[0m\u001b[1;33m,\u001b[0m \u001b[0my\u001b[0m\u001b[1;33m)\u001b[0m\u001b[1;33m\u001b[0m\u001b[1;33m\u001b[0m\u001b[0m\n\u001b[0m\u001b[0;32m      9\u001b[0m         \u001b[0mscore\u001b[0m \u001b[1;33m=\u001b[0m \u001b[0mscorer\u001b[0m\u001b[1;33m(\u001b[0m\u001b[0mmodel\u001b[0m\u001b[1;33m,\u001b[0m \u001b[0mX\u001b[0m\u001b[1;33m,\u001b[0m \u001b[0my\u001b[0m\u001b[1;33m)\u001b[0m\u001b[1;33m\u001b[0m\u001b[1;33m\u001b[0m\u001b[0m\n\u001b[0;32m     10\u001b[0m         \u001b[1;32mreturn\u001b[0m \u001b[0mmodel\u001b[0m\u001b[1;33m,\u001b[0m \u001b[0mscore\u001b[0m\u001b[1;33m\u001b[0m\u001b[1;33m\u001b[0m\u001b[0m\n",
      "\u001b[1;32m~\\anaconda3\\lib\\site-packages\\sklearn\\linear_model\\_logistic.py\u001b[0m in \u001b[0;36mfit\u001b[1;34m(self, X, y, sample_weight)\u001b[0m\n\u001b[0;32m   1587\u001b[0m         \u001b[1;32melse\u001b[0m\u001b[1;33m:\u001b[0m\u001b[1;33m\u001b[0m\u001b[1;33m\u001b[0m\u001b[0m\n\u001b[0;32m   1588\u001b[0m             \u001b[0mprefer\u001b[0m \u001b[1;33m=\u001b[0m \u001b[1;34m\"processes\"\u001b[0m\u001b[1;33m\u001b[0m\u001b[1;33m\u001b[0m\u001b[0m\n\u001b[1;32m-> 1589\u001b[1;33m         fold_coefs_ = Parallel(\n\u001b[0m\u001b[0;32m   1590\u001b[0m             \u001b[0mn_jobs\u001b[0m\u001b[1;33m=\u001b[0m\u001b[0mself\u001b[0m\u001b[1;33m.\u001b[0m\u001b[0mn_jobs\u001b[0m\u001b[1;33m,\u001b[0m\u001b[1;33m\u001b[0m\u001b[1;33m\u001b[0m\u001b[0m\n\u001b[0;32m   1591\u001b[0m             \u001b[0mverbose\u001b[0m\u001b[1;33m=\u001b[0m\u001b[0mself\u001b[0m\u001b[1;33m.\u001b[0m\u001b[0mverbose\u001b[0m\u001b[1;33m,\u001b[0m\u001b[1;33m\u001b[0m\u001b[1;33m\u001b[0m\u001b[0m\n",
      "\u001b[1;32m~\\anaconda3\\lib\\site-packages\\joblib\\parallel.py\u001b[0m in \u001b[0;36m__call__\u001b[1;34m(self, iterable)\u001b[0m\n\u001b[0;32m   1041\u001b[0m             \u001b[1;31m# remaining jobs.\u001b[0m\u001b[1;33m\u001b[0m\u001b[1;33m\u001b[0m\u001b[0m\n\u001b[0;32m   1042\u001b[0m             \u001b[0mself\u001b[0m\u001b[1;33m.\u001b[0m\u001b[0m_iterating\u001b[0m \u001b[1;33m=\u001b[0m \u001b[1;32mFalse\u001b[0m\u001b[1;33m\u001b[0m\u001b[1;33m\u001b[0m\u001b[0m\n\u001b[1;32m-> 1043\u001b[1;33m             \u001b[1;32mif\u001b[0m \u001b[0mself\u001b[0m\u001b[1;33m.\u001b[0m\u001b[0mdispatch_one_batch\u001b[0m\u001b[1;33m(\u001b[0m\u001b[0miterator\u001b[0m\u001b[1;33m)\u001b[0m\u001b[1;33m:\u001b[0m\u001b[1;33m\u001b[0m\u001b[1;33m\u001b[0m\u001b[0m\n\u001b[0m\u001b[0;32m   1044\u001b[0m                 \u001b[0mself\u001b[0m\u001b[1;33m.\u001b[0m\u001b[0m_iterating\u001b[0m \u001b[1;33m=\u001b[0m \u001b[0mself\u001b[0m\u001b[1;33m.\u001b[0m\u001b[0m_original_iterator\u001b[0m \u001b[1;32mis\u001b[0m \u001b[1;32mnot\u001b[0m \u001b[1;32mNone\u001b[0m\u001b[1;33m\u001b[0m\u001b[1;33m\u001b[0m\u001b[0m\n\u001b[0;32m   1045\u001b[0m \u001b[1;33m\u001b[0m\u001b[0m\n",
      "\u001b[1;32m~\\anaconda3\\lib\\site-packages\\joblib\\parallel.py\u001b[0m in \u001b[0;36mdispatch_one_batch\u001b[1;34m(self, iterator)\u001b[0m\n\u001b[0;32m    859\u001b[0m                 \u001b[1;32mreturn\u001b[0m \u001b[1;32mFalse\u001b[0m\u001b[1;33m\u001b[0m\u001b[1;33m\u001b[0m\u001b[0m\n\u001b[0;32m    860\u001b[0m             \u001b[1;32melse\u001b[0m\u001b[1;33m:\u001b[0m\u001b[1;33m\u001b[0m\u001b[1;33m\u001b[0m\u001b[0m\n\u001b[1;32m--> 861\u001b[1;33m                 \u001b[0mself\u001b[0m\u001b[1;33m.\u001b[0m\u001b[0m_dispatch\u001b[0m\u001b[1;33m(\u001b[0m\u001b[0mtasks\u001b[0m\u001b[1;33m)\u001b[0m\u001b[1;33m\u001b[0m\u001b[1;33m\u001b[0m\u001b[0m\n\u001b[0m\u001b[0;32m    862\u001b[0m                 \u001b[1;32mreturn\u001b[0m \u001b[1;32mTrue\u001b[0m\u001b[1;33m\u001b[0m\u001b[1;33m\u001b[0m\u001b[0m\n\u001b[0;32m    863\u001b[0m \u001b[1;33m\u001b[0m\u001b[0m\n",
      "\u001b[1;32m~\\anaconda3\\lib\\site-packages\\joblib\\parallel.py\u001b[0m in \u001b[0;36m_dispatch\u001b[1;34m(self, batch)\u001b[0m\n\u001b[0;32m    777\u001b[0m         \u001b[1;32mwith\u001b[0m \u001b[0mself\u001b[0m\u001b[1;33m.\u001b[0m\u001b[0m_lock\u001b[0m\u001b[1;33m:\u001b[0m\u001b[1;33m\u001b[0m\u001b[1;33m\u001b[0m\u001b[0m\n\u001b[0;32m    778\u001b[0m             \u001b[0mjob_idx\u001b[0m \u001b[1;33m=\u001b[0m \u001b[0mlen\u001b[0m\u001b[1;33m(\u001b[0m\u001b[0mself\u001b[0m\u001b[1;33m.\u001b[0m\u001b[0m_jobs\u001b[0m\u001b[1;33m)\u001b[0m\u001b[1;33m\u001b[0m\u001b[1;33m\u001b[0m\u001b[0m\n\u001b[1;32m--> 779\u001b[1;33m             \u001b[0mjob\u001b[0m \u001b[1;33m=\u001b[0m \u001b[0mself\u001b[0m\u001b[1;33m.\u001b[0m\u001b[0m_backend\u001b[0m\u001b[1;33m.\u001b[0m\u001b[0mapply_async\u001b[0m\u001b[1;33m(\u001b[0m\u001b[0mbatch\u001b[0m\u001b[1;33m,\u001b[0m \u001b[0mcallback\u001b[0m\u001b[1;33m=\u001b[0m\u001b[0mcb\u001b[0m\u001b[1;33m)\u001b[0m\u001b[1;33m\u001b[0m\u001b[1;33m\u001b[0m\u001b[0m\n\u001b[0m\u001b[0;32m    780\u001b[0m             \u001b[1;31m# A job can complete so quickly than its callback is\u001b[0m\u001b[1;33m\u001b[0m\u001b[1;33m\u001b[0m\u001b[0m\n\u001b[0;32m    781\u001b[0m             \u001b[1;31m# called before we get here, causing self._jobs to\u001b[0m\u001b[1;33m\u001b[0m\u001b[1;33m\u001b[0m\u001b[0m\n",
      "\u001b[1;32m~\\anaconda3\\lib\\site-packages\\joblib\\_parallel_backends.py\u001b[0m in \u001b[0;36mapply_async\u001b[1;34m(self, func, callback)\u001b[0m\n\u001b[0;32m    206\u001b[0m     \u001b[1;32mdef\u001b[0m \u001b[0mapply_async\u001b[0m\u001b[1;33m(\u001b[0m\u001b[0mself\u001b[0m\u001b[1;33m,\u001b[0m \u001b[0mfunc\u001b[0m\u001b[1;33m,\u001b[0m \u001b[0mcallback\u001b[0m\u001b[1;33m=\u001b[0m\u001b[1;32mNone\u001b[0m\u001b[1;33m)\u001b[0m\u001b[1;33m:\u001b[0m\u001b[1;33m\u001b[0m\u001b[1;33m\u001b[0m\u001b[0m\n\u001b[0;32m    207\u001b[0m         \u001b[1;34m\"\"\"Schedule a func to be run\"\"\"\u001b[0m\u001b[1;33m\u001b[0m\u001b[1;33m\u001b[0m\u001b[0m\n\u001b[1;32m--> 208\u001b[1;33m         \u001b[0mresult\u001b[0m \u001b[1;33m=\u001b[0m \u001b[0mImmediateResult\u001b[0m\u001b[1;33m(\u001b[0m\u001b[0mfunc\u001b[0m\u001b[1;33m)\u001b[0m\u001b[1;33m\u001b[0m\u001b[1;33m\u001b[0m\u001b[0m\n\u001b[0m\u001b[0;32m    209\u001b[0m         \u001b[1;32mif\u001b[0m \u001b[0mcallback\u001b[0m\u001b[1;33m:\u001b[0m\u001b[1;33m\u001b[0m\u001b[1;33m\u001b[0m\u001b[0m\n\u001b[0;32m    210\u001b[0m             \u001b[0mcallback\u001b[0m\u001b[1;33m(\u001b[0m\u001b[0mresult\u001b[0m\u001b[1;33m)\u001b[0m\u001b[1;33m\u001b[0m\u001b[1;33m\u001b[0m\u001b[0m\n",
      "\u001b[1;32m~\\anaconda3\\lib\\site-packages\\joblib\\_parallel_backends.py\u001b[0m in \u001b[0;36m__init__\u001b[1;34m(self, batch)\u001b[0m\n\u001b[0;32m    570\u001b[0m         \u001b[1;31m# Don't delay the application, to avoid keeping the input\u001b[0m\u001b[1;33m\u001b[0m\u001b[1;33m\u001b[0m\u001b[0m\n\u001b[0;32m    571\u001b[0m         \u001b[1;31m# arguments in memory\u001b[0m\u001b[1;33m\u001b[0m\u001b[1;33m\u001b[0m\u001b[0m\n\u001b[1;32m--> 572\u001b[1;33m         \u001b[0mself\u001b[0m\u001b[1;33m.\u001b[0m\u001b[0mresults\u001b[0m \u001b[1;33m=\u001b[0m \u001b[0mbatch\u001b[0m\u001b[1;33m(\u001b[0m\u001b[1;33m)\u001b[0m\u001b[1;33m\u001b[0m\u001b[1;33m\u001b[0m\u001b[0m\n\u001b[0m\u001b[0;32m    573\u001b[0m \u001b[1;33m\u001b[0m\u001b[0m\n\u001b[0;32m    574\u001b[0m     \u001b[1;32mdef\u001b[0m \u001b[0mget\u001b[0m\u001b[1;33m(\u001b[0m\u001b[0mself\u001b[0m\u001b[1;33m)\u001b[0m\u001b[1;33m:\u001b[0m\u001b[1;33m\u001b[0m\u001b[1;33m\u001b[0m\u001b[0m\n",
      "\u001b[1;32m~\\anaconda3\\lib\\site-packages\\joblib\\parallel.py\u001b[0m in \u001b[0;36m__call__\u001b[1;34m(self)\u001b[0m\n\u001b[0;32m    260\u001b[0m         \u001b[1;31m# change the default number of processes to -1\u001b[0m\u001b[1;33m\u001b[0m\u001b[1;33m\u001b[0m\u001b[0m\n\u001b[0;32m    261\u001b[0m         \u001b[1;32mwith\u001b[0m \u001b[0mparallel_backend\u001b[0m\u001b[1;33m(\u001b[0m\u001b[0mself\u001b[0m\u001b[1;33m.\u001b[0m\u001b[0m_backend\u001b[0m\u001b[1;33m,\u001b[0m \u001b[0mn_jobs\u001b[0m\u001b[1;33m=\u001b[0m\u001b[0mself\u001b[0m\u001b[1;33m.\u001b[0m\u001b[0m_n_jobs\u001b[0m\u001b[1;33m)\u001b[0m\u001b[1;33m:\u001b[0m\u001b[1;33m\u001b[0m\u001b[1;33m\u001b[0m\u001b[0m\n\u001b[1;32m--> 262\u001b[1;33m             return [func(*args, **kwargs)\n\u001b[0m\u001b[0;32m    263\u001b[0m                     for func, args, kwargs in self.items]\n\u001b[0;32m    264\u001b[0m \u001b[1;33m\u001b[0m\u001b[0m\n",
      "\u001b[1;32m~\\anaconda3\\lib\\site-packages\\joblib\\parallel.py\u001b[0m in \u001b[0;36m<listcomp>\u001b[1;34m(.0)\u001b[0m\n\u001b[0;32m    260\u001b[0m         \u001b[1;31m# change the default number of processes to -1\u001b[0m\u001b[1;33m\u001b[0m\u001b[1;33m\u001b[0m\u001b[0m\n\u001b[0;32m    261\u001b[0m         \u001b[1;32mwith\u001b[0m \u001b[0mparallel_backend\u001b[0m\u001b[1;33m(\u001b[0m\u001b[0mself\u001b[0m\u001b[1;33m.\u001b[0m\u001b[0m_backend\u001b[0m\u001b[1;33m,\u001b[0m \u001b[0mn_jobs\u001b[0m\u001b[1;33m=\u001b[0m\u001b[0mself\u001b[0m\u001b[1;33m.\u001b[0m\u001b[0m_n_jobs\u001b[0m\u001b[1;33m)\u001b[0m\u001b[1;33m:\u001b[0m\u001b[1;33m\u001b[0m\u001b[1;33m\u001b[0m\u001b[0m\n\u001b[1;32m--> 262\u001b[1;33m             return [func(*args, **kwargs)\n\u001b[0m\u001b[0;32m    263\u001b[0m                     for func, args, kwargs in self.items]\n\u001b[0;32m    264\u001b[0m \u001b[1;33m\u001b[0m\u001b[0m\n",
      "\u001b[1;32m~\\anaconda3\\lib\\site-packages\\sklearn\\utils\\fixes.py\u001b[0m in \u001b[0;36m__call__\u001b[1;34m(self, *args, **kwargs)\u001b[0m\n\u001b[0;32m    214\u001b[0m     \u001b[1;32mdef\u001b[0m \u001b[0m__call__\u001b[0m\u001b[1;33m(\u001b[0m\u001b[0mself\u001b[0m\u001b[1;33m,\u001b[0m \u001b[1;33m*\u001b[0m\u001b[0margs\u001b[0m\u001b[1;33m,\u001b[0m \u001b[1;33m**\u001b[0m\u001b[0mkwargs\u001b[0m\u001b[1;33m)\u001b[0m\u001b[1;33m:\u001b[0m\u001b[1;33m\u001b[0m\u001b[1;33m\u001b[0m\u001b[0m\n\u001b[0;32m    215\u001b[0m         \u001b[1;32mwith\u001b[0m \u001b[0mconfig_context\u001b[0m\u001b[1;33m(\u001b[0m\u001b[1;33m**\u001b[0m\u001b[0mself\u001b[0m\u001b[1;33m.\u001b[0m\u001b[0mconfig\u001b[0m\u001b[1;33m)\u001b[0m\u001b[1;33m:\u001b[0m\u001b[1;33m\u001b[0m\u001b[1;33m\u001b[0m\u001b[0m\n\u001b[1;32m--> 216\u001b[1;33m             \u001b[1;32mreturn\u001b[0m \u001b[0mself\u001b[0m\u001b[1;33m.\u001b[0m\u001b[0mfunction\u001b[0m\u001b[1;33m(\u001b[0m\u001b[1;33m*\u001b[0m\u001b[0margs\u001b[0m\u001b[1;33m,\u001b[0m \u001b[1;33m**\u001b[0m\u001b[0mkwargs\u001b[0m\u001b[1;33m)\u001b[0m\u001b[1;33m\u001b[0m\u001b[1;33m\u001b[0m\u001b[0m\n\u001b[0m\u001b[0;32m    217\u001b[0m \u001b[1;33m\u001b[0m\u001b[0m\n\u001b[0;32m    218\u001b[0m \u001b[1;33m\u001b[0m\u001b[0m\n",
      "\u001b[1;32m~\\anaconda3\\lib\\site-packages\\sklearn\\linear_model\\_logistic.py\u001b[0m in \u001b[0;36m_logistic_regression_path\u001b[1;34m(X, y, pos_class, Cs, fit_intercept, max_iter, tol, verbose, solver, coef, class_weight, dual, penalty, intercept_scaling, multi_class, random_state, check_input, max_squared_sum, sample_weight, l1_ratio)\u001b[0m\n\u001b[0;32m    821\u001b[0m         \u001b[1;32melif\u001b[0m \u001b[0msolver\u001b[0m \u001b[1;33m==\u001b[0m \u001b[1;34m\"newton-cg\"\u001b[0m\u001b[1;33m:\u001b[0m\u001b[1;33m\u001b[0m\u001b[1;33m\u001b[0m\u001b[0m\n\u001b[0;32m    822\u001b[0m             \u001b[0margs\u001b[0m \u001b[1;33m=\u001b[0m \u001b[1;33m(\u001b[0m\u001b[0mX\u001b[0m\u001b[1;33m,\u001b[0m \u001b[0mtarget\u001b[0m\u001b[1;33m,\u001b[0m \u001b[1;36m1.0\u001b[0m \u001b[1;33m/\u001b[0m \u001b[0mC\u001b[0m\u001b[1;33m,\u001b[0m \u001b[0msample_weight\u001b[0m\u001b[1;33m)\u001b[0m\u001b[1;33m\u001b[0m\u001b[1;33m\u001b[0m\u001b[0m\n\u001b[1;32m--> 823\u001b[1;33m             w0, n_iter_i = _newton_cg(\n\u001b[0m\u001b[0;32m    824\u001b[0m                 \u001b[0mhess\u001b[0m\u001b[1;33m,\u001b[0m \u001b[0mfunc\u001b[0m\u001b[1;33m,\u001b[0m \u001b[0mgrad\u001b[0m\u001b[1;33m,\u001b[0m \u001b[0mw0\u001b[0m\u001b[1;33m,\u001b[0m \u001b[0margs\u001b[0m\u001b[1;33m=\u001b[0m\u001b[0margs\u001b[0m\u001b[1;33m,\u001b[0m \u001b[0mmaxiter\u001b[0m\u001b[1;33m=\u001b[0m\u001b[0mmax_iter\u001b[0m\u001b[1;33m,\u001b[0m \u001b[0mtol\u001b[0m\u001b[1;33m=\u001b[0m\u001b[0mtol\u001b[0m\u001b[1;33m\u001b[0m\u001b[1;33m\u001b[0m\u001b[0m\n\u001b[0;32m    825\u001b[0m             )\n",
      "\u001b[1;32m~\\anaconda3\\lib\\site-packages\\sklearn\\utils\\optimize.py\u001b[0m in \u001b[0;36m_newton_cg\u001b[1;34m(grad_hess, func, grad, x0, args, tol, maxiter, maxinner, line_search, warn)\u001b[0m\n\u001b[0;32m    191\u001b[0m         \u001b[1;31m# Inner loop: solve the Newton update by conjugate gradient, to\u001b[0m\u001b[1;33m\u001b[0m\u001b[1;33m\u001b[0m\u001b[0m\n\u001b[0;32m    192\u001b[0m         \u001b[1;31m# avoid inverting the Hessian\u001b[0m\u001b[1;33m\u001b[0m\u001b[1;33m\u001b[0m\u001b[0m\n\u001b[1;32m--> 193\u001b[1;33m         \u001b[0mxsupi\u001b[0m \u001b[1;33m=\u001b[0m \u001b[0m_cg\u001b[0m\u001b[1;33m(\u001b[0m\u001b[0mfhess_p\u001b[0m\u001b[1;33m,\u001b[0m \u001b[0mfgrad\u001b[0m\u001b[1;33m,\u001b[0m \u001b[0mmaxiter\u001b[0m\u001b[1;33m=\u001b[0m\u001b[0mmaxinner\u001b[0m\u001b[1;33m,\u001b[0m \u001b[0mtol\u001b[0m\u001b[1;33m=\u001b[0m\u001b[0mtermcond\u001b[0m\u001b[1;33m)\u001b[0m\u001b[1;33m\u001b[0m\u001b[1;33m\u001b[0m\u001b[0m\n\u001b[0m\u001b[0;32m    194\u001b[0m \u001b[1;33m\u001b[0m\u001b[0m\n\u001b[0;32m    195\u001b[0m         \u001b[0malphak\u001b[0m \u001b[1;33m=\u001b[0m \u001b[1;36m1.0\u001b[0m\u001b[1;33m\u001b[0m\u001b[1;33m\u001b[0m\u001b[0m\n",
      "\u001b[1;32m~\\anaconda3\\lib\\site-packages\\sklearn\\utils\\optimize.py\u001b[0m in \u001b[0;36m_cg\u001b[1;34m(fhess_p, fgrad, maxiter, tol)\u001b[0m\n\u001b[0;32m     86\u001b[0m             \u001b[1;32mbreak\u001b[0m\u001b[1;33m\u001b[0m\u001b[1;33m\u001b[0m\u001b[0m\n\u001b[0;32m     87\u001b[0m \u001b[1;33m\u001b[0m\u001b[0m\n\u001b[1;32m---> 88\u001b[1;33m         \u001b[0mAp\u001b[0m \u001b[1;33m=\u001b[0m \u001b[0mfhess_p\u001b[0m\u001b[1;33m(\u001b[0m\u001b[0mpsupi\u001b[0m\u001b[1;33m)\u001b[0m\u001b[1;33m\u001b[0m\u001b[1;33m\u001b[0m\u001b[0m\n\u001b[0m\u001b[0;32m     89\u001b[0m         \u001b[1;31m# check curvature\u001b[0m\u001b[1;33m\u001b[0m\u001b[1;33m\u001b[0m\u001b[0m\n\u001b[0;32m     90\u001b[0m         \u001b[0mcurv\u001b[0m \u001b[1;33m=\u001b[0m \u001b[0mnp\u001b[0m\u001b[1;33m.\u001b[0m\u001b[0mdot\u001b[0m\u001b[1;33m(\u001b[0m\u001b[0mpsupi\u001b[0m\u001b[1;33m,\u001b[0m \u001b[0mAp\u001b[0m\u001b[1;33m)\u001b[0m\u001b[1;33m\u001b[0m\u001b[1;33m\u001b[0m\u001b[0m\n",
      "\u001b[1;32m~\\anaconda3\\lib\\site-packages\\sklearn\\linear_model\\_logistic.py\u001b[0m in \u001b[0;36mHs\u001b[1;34m(s)\u001b[0m\n\u001b[0;32m    235\u001b[0m             \u001b[0mret\u001b[0m\u001b[1;33m[\u001b[0m\u001b[1;33m:\u001b[0m\u001b[0mn_features\u001b[0m\u001b[1;33m]\u001b[0m \u001b[1;33m=\u001b[0m \u001b[0mX\u001b[0m\u001b[1;33m.\u001b[0m\u001b[0mT\u001b[0m\u001b[1;33m.\u001b[0m\u001b[0mdot\u001b[0m\u001b[1;33m(\u001b[0m\u001b[0mdX\u001b[0m\u001b[1;33m.\u001b[0m\u001b[0mdot\u001b[0m\u001b[1;33m(\u001b[0m\u001b[0ms\u001b[0m\u001b[1;33m[\u001b[0m\u001b[1;33m:\u001b[0m\u001b[0mn_features\u001b[0m\u001b[1;33m]\u001b[0m\u001b[1;33m)\u001b[0m\u001b[1;33m)\u001b[0m\u001b[1;33m\u001b[0m\u001b[1;33m\u001b[0m\u001b[0m\n\u001b[0;32m    236\u001b[0m         \u001b[1;32melse\u001b[0m\u001b[1;33m:\u001b[0m\u001b[1;33m\u001b[0m\u001b[1;33m\u001b[0m\u001b[0m\n\u001b[1;32m--> 237\u001b[1;33m             \u001b[0mret\u001b[0m\u001b[1;33m[\u001b[0m\u001b[1;33m:\u001b[0m\u001b[0mn_features\u001b[0m\u001b[1;33m]\u001b[0m \u001b[1;33m=\u001b[0m \u001b[0mnp\u001b[0m\u001b[1;33m.\u001b[0m\u001b[0mlinalg\u001b[0m\u001b[1;33m.\u001b[0m\u001b[0mmulti_dot\u001b[0m\u001b[1;33m(\u001b[0m\u001b[1;33m[\u001b[0m\u001b[0mX\u001b[0m\u001b[1;33m.\u001b[0m\u001b[0mT\u001b[0m\u001b[1;33m,\u001b[0m \u001b[0mdX\u001b[0m\u001b[1;33m,\u001b[0m \u001b[0ms\u001b[0m\u001b[1;33m[\u001b[0m\u001b[1;33m:\u001b[0m\u001b[0mn_features\u001b[0m\u001b[1;33m]\u001b[0m\u001b[1;33m]\u001b[0m\u001b[1;33m)\u001b[0m\u001b[1;33m\u001b[0m\u001b[1;33m\u001b[0m\u001b[0m\n\u001b[0m\u001b[0;32m    238\u001b[0m         \u001b[0mret\u001b[0m\u001b[1;33m[\u001b[0m\u001b[1;33m:\u001b[0m\u001b[0mn_features\u001b[0m\u001b[1;33m]\u001b[0m \u001b[1;33m+=\u001b[0m \u001b[0malpha\u001b[0m \u001b[1;33m*\u001b[0m \u001b[0ms\u001b[0m\u001b[1;33m[\u001b[0m\u001b[1;33m:\u001b[0m\u001b[0mn_features\u001b[0m\u001b[1;33m]\u001b[0m\u001b[1;33m\u001b[0m\u001b[1;33m\u001b[0m\u001b[0m\n\u001b[0;32m    239\u001b[0m \u001b[1;33m\u001b[0m\u001b[0m\n",
      "\u001b[1;32m<__array_function__ internals>\u001b[0m in \u001b[0;36mmulti_dot\u001b[1;34m(*args, **kwargs)\u001b[0m\n",
      "\u001b[1;32m~\\anaconda3\\lib\\site-packages\\numpy\\linalg\\linalg.py\u001b[0m in \u001b[0;36mmulti_dot\u001b[1;34m(arrays, out)\u001b[0m\n\u001b[0;32m   2726\u001b[0m     \u001b[1;31m# _multi_dot_three is much faster than _multi_dot_matrix_chain_order\u001b[0m\u001b[1;33m\u001b[0m\u001b[1;33m\u001b[0m\u001b[0m\n\u001b[0;32m   2727\u001b[0m     \u001b[1;32mif\u001b[0m \u001b[0mn\u001b[0m \u001b[1;33m==\u001b[0m \u001b[1;36m3\u001b[0m\u001b[1;33m:\u001b[0m\u001b[1;33m\u001b[0m\u001b[1;33m\u001b[0m\u001b[0m\n\u001b[1;32m-> 2728\u001b[1;33m         \u001b[0mresult\u001b[0m \u001b[1;33m=\u001b[0m \u001b[0m_multi_dot_three\u001b[0m\u001b[1;33m(\u001b[0m\u001b[0marrays\u001b[0m\u001b[1;33m[\u001b[0m\u001b[1;36m0\u001b[0m\u001b[1;33m]\u001b[0m\u001b[1;33m,\u001b[0m \u001b[0marrays\u001b[0m\u001b[1;33m[\u001b[0m\u001b[1;36m1\u001b[0m\u001b[1;33m]\u001b[0m\u001b[1;33m,\u001b[0m \u001b[0marrays\u001b[0m\u001b[1;33m[\u001b[0m\u001b[1;36m2\u001b[0m\u001b[1;33m]\u001b[0m\u001b[1;33m,\u001b[0m \u001b[0mout\u001b[0m\u001b[1;33m=\u001b[0m\u001b[0mout\u001b[0m\u001b[1;33m)\u001b[0m\u001b[1;33m\u001b[0m\u001b[1;33m\u001b[0m\u001b[0m\n\u001b[0m\u001b[0;32m   2729\u001b[0m     \u001b[1;32melse\u001b[0m\u001b[1;33m:\u001b[0m\u001b[1;33m\u001b[0m\u001b[1;33m\u001b[0m\u001b[0m\n\u001b[0;32m   2730\u001b[0m         \u001b[0morder\u001b[0m \u001b[1;33m=\u001b[0m \u001b[0m_multi_dot_matrix_chain_order\u001b[0m\u001b[1;33m(\u001b[0m\u001b[0marrays\u001b[0m\u001b[1;33m)\u001b[0m\u001b[1;33m\u001b[0m\u001b[1;33m\u001b[0m\u001b[0m\n",
      "\u001b[1;32m~\\anaconda3\\lib\\site-packages\\numpy\\linalg\\linalg.py\u001b[0m in \u001b[0;36m_multi_dot_three\u001b[1;34m(A, B, C, out)\u001b[0m\n\u001b[0;32m   2758\u001b[0m         \u001b[1;32mreturn\u001b[0m \u001b[0mdot\u001b[0m\u001b[1;33m(\u001b[0m\u001b[0mdot\u001b[0m\u001b[1;33m(\u001b[0m\u001b[0mA\u001b[0m\u001b[1;33m,\u001b[0m \u001b[0mB\u001b[0m\u001b[1;33m)\u001b[0m\u001b[1;33m,\u001b[0m \u001b[0mC\u001b[0m\u001b[1;33m,\u001b[0m \u001b[0mout\u001b[0m\u001b[1;33m=\u001b[0m\u001b[0mout\u001b[0m\u001b[1;33m)\u001b[0m\u001b[1;33m\u001b[0m\u001b[1;33m\u001b[0m\u001b[0m\n\u001b[0;32m   2759\u001b[0m     \u001b[1;32melse\u001b[0m\u001b[1;33m:\u001b[0m\u001b[1;33m\u001b[0m\u001b[1;33m\u001b[0m\u001b[0m\n\u001b[1;32m-> 2760\u001b[1;33m         \u001b[1;32mreturn\u001b[0m \u001b[0mdot\u001b[0m\u001b[1;33m(\u001b[0m\u001b[0mA\u001b[0m\u001b[1;33m,\u001b[0m \u001b[0mdot\u001b[0m\u001b[1;33m(\u001b[0m\u001b[0mB\u001b[0m\u001b[1;33m,\u001b[0m \u001b[0mC\u001b[0m\u001b[1;33m)\u001b[0m\u001b[1;33m,\u001b[0m \u001b[0mout\u001b[0m\u001b[1;33m=\u001b[0m\u001b[0mout\u001b[0m\u001b[1;33m)\u001b[0m\u001b[1;33m\u001b[0m\u001b[1;33m\u001b[0m\u001b[0m\n\u001b[0m\u001b[0;32m   2761\u001b[0m \u001b[1;33m\u001b[0m\u001b[0m\n\u001b[0;32m   2762\u001b[0m \u001b[1;33m\u001b[0m\u001b[0m\n",
      "\u001b[1;32m<__array_function__ internals>\u001b[0m in \u001b[0;36mdot\u001b[1;34m(*args, **kwargs)\u001b[0m\n",
      "\u001b[1;31mKeyboardInterrupt\u001b[0m: "
     ]
    },
    {
     "data": {
      "image/png": "[encoded data removed]",
      "text/plain": [
       "<Figure size 640x480 with 1 Axes>"
      ]
     },
     "metadata": {},
     "output_type": "display_data"
    }
   ],
   "source": [
    "cv = 5\n",
    "#prima era 10!\n",
    "forward_selection(X_train_scaled, y_train, X_test_scaled, y_test,\"LogisticRegression\",\n",
    "                  get_evaluator(make_scorer(accuracy)), np.argmax, # 2.\n",
    "                  get_cv_evaluator(make_scorer(accuracy), cv), np.argmax, # 3.\n",
    "                  get_cv_evaluator(make_scorer(accuracy), cv), np.argmax, # test\n",
    "                  candidates_scorer_name=\"Accuracy\",\n",
    "                  subsets_scorer_name=\"Accuracy (CV)\",\n",
    "                  verbose=True, weight_step3=cv)"
   ]
  },
  {
   "cell_type": "code",
   "execution_count": 16,
   "id": "b5e5d397",
   "metadata": {},
   "outputs": [],
   "source": [
    "features = ['PageValues', 'VisitorType_New_Visitor', 'TrafficType_3', 'TrafficType_10', 'Browser_11', 'Browser_1', 'Browser_12', 'Browser_9', 'OperatingSystems_5', 'OperatingSystems_7', 'Browser_7', 'TrafficType_11', 'Browser_3', 'Month_Feb', 'OperatingSystems_8', 'TrafficType_5', 'Region_8', 'TrafficType_12', 'TrafficType_16', 'Browser_8', 'TrafficType_14', 'TrafficType_17', 'TrafficType_18',\n",
    "            'TrafficType_7', 'Region_2', 'Browser_13', 'TrafficType_9', 'VisitorType_Other', 'OperatingSystems_6', 'Region_6']\n",
    "\n",
    "#features = ['PageValues', 'VisitorType_New_Visitor', 'TrafficType_3', 'TrafficType_10', 'Browser_11', 'Browser_1', 'Browser_12', 'Browser_9', 'OperatingSystems_5', 'OperatingSystems_7', 'Browser_7', 'TrafficType_11', 'Browser_3', 'Month_Feb', 'OperatingSystems_8', 'TrafficType_5', 'Region_8', 'TrafficType_12', 'TrafficType_16', 'Browser_8', 'TrafficType_14', 'TrafficType_17', 'TrafficType_18', 'TrafficType_7', 'Region_2', 'Browser_13', 'TrafficType_9', 'VisitorType_Other', 'OperatingSystems_6', 'Region_6', 'Region_3', 'Region_5', 'VisitorType_Returning_Visitor', 'Browser_4', 'Month_June', 'TrafficType_15', 'TrafficType_20', 'TrafficType_19', 'Region_7', 'OperatingSystems_1', 'OperatingSystems_4', 'Browser_5']"
   ]
  },
  {
   "cell_type": "markdown",
   "id": "d611590e",
   "metadata": {},
   "source": [
    "Here we apply l1 penalization on the model which contains the best subset of features to see if we can remove some of them."
   ]
  },
  {
   "cell_type": "code",
   "execution_count": 17,
   "id": "c5674e0b",
   "metadata": {},
   "outputs": [
    {
     "data": {
      "text/plain": [
       "LogisticRegression(max_iter=1000, penalty='l1', solver='saga')"
      ]
     },
     "execution_count": 17,
     "metadata": {},
     "output_type": "execute_result"
    },
    {
     "name": "stdout",
     "output_type": "stream",
     "text": [
      "Train accuracy: 0.884083044982699\n",
      "Test accuracy: 0.890979883192732\n"
     ]
    },
    {
     "data": {
      "text/plain": [
       "array(['PageValues', 'VisitorType_New_Visitor', 'TrafficType_3',\n",
       "       'TrafficType_10', 'TrafficType_11', 'Browser_3', 'Month_Feb',\n",
       "       'TrafficType_5', 'Browser_8', 'Region_2', 'Browser_13',\n",
       "       'VisitorType_Other', 'OperatingSystems_6', 'Region_6'],\n",
       "      dtype='<U23')"
      ]
     },
     "execution_count": 17,
     "metadata": {},
     "output_type": "execute_result"
    },
    {
     "data": {
      "text/plain": [
       "LogisticRegression(max_iter=1000, penalty='l1', solver='saga')"
      ]
     },
     "execution_count": 17,
     "metadata": {},
     "output_type": "execute_result"
    },
    {
     "name": "stdout",
     "output_type": "stream",
     "text": [
      "Train accuracy: 0.884083044982699\n",
      "Test accuracy: 0.890979883192732\n"
     ]
    }
   ],
   "source": [
    "model = LogisticRegression(solver='saga',penalty='l1',max_iter=1000)    # 2- hyperparams\n",
    "model.fit(X_train_scaled[features], y_train)                                # 3- model fitting\n",
    "y_predict = model.predict(X_test_scaled[features])                        # 4- model testing\n",
    "\n",
    "print(\"Train accuracy:\", accuracy(y_train, model.predict(X_train_scaled[features])))\n",
    "print(\"Test accuracy:\", accuracy(y_test, model.predict(X_test_scaled[features])))\n",
    "mask = np.where(model.coef_ != 0,True, False).reshape(len(features))\n",
    "features = np.array(features)\n",
    "filtered_features = features[mask]\n",
    "filtered_features\n",
    "\n",
    "model = LogisticRegression(solver='saga',penalty='l1',max_iter=1000)    # 2- hyperparams\n",
    "model.fit(X_train_scaled[filtered_features], y_train)                                # 3- model fitting\n",
    "y_predict = model.predict(X_test_scaled[filtered_features]) \n",
    "print(\"Train accuracy:\", accuracy(y_train, model.predict(X_train_scaled[filtered_features])))\n",
    "print(\"Test accuracy:\", accuracy(y_test, model.predict(X_test_scaled[filtered_features])))"
   ]
  },
  {
   "cell_type": "markdown",
   "id": "17bd991c",
   "metadata": {},
   "source": [
    "# LDA"
   ]
  },
  {
   "cell_type": "code",
   "execution_count": 45,
   "id": "29d04943",
   "metadata": {},
   "outputs": [
    {
     "name": "stdout",
     "output_type": "stream",
     "text": [
      "Train accuracy: 0.8423442906574394\n",
      "Test accuracy: 0.8471771576898118\n"
     ]
    }
   ],
   "source": [
    "from sklearn.discriminant_analysis import LinearDiscriminantAnalysis as LDA\n",
    "model = LDA()\n",
    "model = model.fit(X_train_full[['Administrative']], y_train)\n",
    "\n",
    "print(\"Train accuracy:\", accuracy(y_train, model.predict(X_train_full[['Administrative']])))\n",
    "print(\"Test accuracy:\", accuracy(y_test, model.predict(X_test_full[['Administrative']])))"
   ]
  },
  {
   "cell_type": "code",
   "execution_count": 46,
   "id": "7c9560e0",
   "metadata": {},
   "outputs": [
    {
     "name": "stdout",
     "output_type": "stream",
     "text": [
      "Train accuracy: 0.9083044982698962\n",
      "Test accuracy: 0.8828682673588579\n"
     ]
    }
   ],
   "source": [
    "from sklearn.pipeline import Pipeline\n",
    "from sklearn.preprocessing import PolynomialFeatures\n",
    "\n",
    "model = Pipeline([\n",
    "    ('poly', PolynomialFeatures(degree=2)),\n",
    "    ('lda', LDA(store_covariance=True))])\n",
    "model = model.fit(X_train_full, y_train)\n",
    "\n",
    "print(\"Train accuracy:\", accuracy(y_train, model.predict(X_train_full)))\n",
    "print(\"Test accuracy:\", accuracy(y_test, model.predict(X_test_full)))"
   ]
  },
  {
   "cell_type": "code",
   "execution_count": 47,
   "id": "5e804e2f",
   "metadata": {},
   "outputs": [
    {
     "data": {
      "text/plain": [
       "-0.696623    4333\n",
       "-0.394193    1019\n",
       "-0.091763     844\n",
       " 0.210668     682\n",
       " 0.513098     581\n",
       " 0.815529     418\n",
       " 1.117959     318\n",
       " 1.420390     246\n",
       " 1.722820     219\n",
       " 2.025251     166\n",
       " 2.327681     124\n",
       " 2.630112      80\n",
       " 2.932542      60\n",
       " 3.234973      44\n",
       " 3.537403      34\n",
       " 3.839834      30\n",
       " 4.142264      15\n",
       " 4.444694      10\n",
       " 4.747125       9\n",
       " 5.049555       6\n",
       " 6.259277       3\n",
       " 5.956847       2\n",
       " 6.561708       2\n",
       " 5.654416       1\n",
       " 7.166569       1\n",
       " 7.468999       1\n",
       "Name: Administrative, dtype: int64"
      ]
     },
     "execution_count": 47,
     "metadata": {},
     "output_type": "execute_result"
    },
    {
     "data": {
      "text/plain": [
       "-0.698217    1435\n",
       "-0.401157     335\n",
       "-0.104096     270\n",
       " 0.192964     233\n",
       " 0.490024     184\n",
       " 0.787085     157\n",
       " 1.084145     114\n",
       " 1.381205      92\n",
       " 1.678266      68\n",
       " 1.975326      59\n",
       " 2.272387      29\n",
       " 2.866507      26\n",
       " 2.569447      25\n",
       " 3.163568      12\n",
       " 3.460628      10\n",
       " 4.054749       9\n",
       " 3.757688       8\n",
       " 4.351809       6\n",
       " 4.648870       3\n",
       " 6.431232       2\n",
       " 5.837111       2\n",
       " 5.242990       2\n",
       " 5.540051       1\n",
       "Name: Administrative, dtype: int64"
      ]
     },
     "execution_count": 47,
     "metadata": {},
     "output_type": "execute_result"
    },
    {
     "data": {
      "text/plain": [
       "-0.459916    4436\n",
       "-0.436701      42\n",
       "-0.430897      40\n",
       "-0.419290      33\n",
       "-0.396075      30\n",
       "             ... \n",
       " 5.192936       1\n",
       " 0.143287       1\n",
       " 1.638720       1\n",
       " 1.026424       1\n",
       " 0.020054       1\n",
       "Name: Administrative_Duration, Length: 2637, dtype: int64"
      ]
     },
     "execution_count": 47,
     "metadata": {},
     "output_type": "execute_result"
    },
    {
     "data": {
      "text/plain": [
       "-0.451470    1467\n",
       "-0.419804      15\n",
       "-0.430359      14\n",
       "-0.425082      13\n",
       "-0.393415      12\n",
       "             ... \n",
       " 0.157586       1\n",
       " 0.198753       1\n",
       "-0.265165       1\n",
       " 2.879379       1\n",
       " 1.497792       1\n",
       "Name: Administrative_Duration, Length: 1137, dtype: int64"
      ]
     },
     "execution_count": 47,
     "metadata": {},
     "output_type": "execute_result"
    },
    {
     "data": {
      "text/plain": [
       "-0.401006     7258\n",
       " 0.397724      808\n",
       " 1.196455      549\n",
       " 1.995186      268\n",
       " 2.793917      172\n",
       " 3.592647       72\n",
       " 4.391378       57\n",
       " 5.190109       28\n",
       " 6.787570       13\n",
       " 5.988840        9\n",
       " 7.586301        6\n",
       " 9.183763        5\n",
       " 10.781224       1\n",
       " 8.385032        1\n",
       " 9.982493        1\n",
       "Name: Informational, dtype: int64"
      ]
     },
     "execution_count": 47,
     "metadata": {},
     "output_type": "execute_result"
    },
    {
     "data": {
      "text/plain": [
       "-0.384068     2441\n",
       " 0.371805      233\n",
       " 1.127678      179\n",
       " 1.883551      112\n",
       " 2.639424       50\n",
       " 3.395298       27\n",
       " 4.151171       21\n",
       " 4.907044        8\n",
       " 5.662917        5\n",
       " 6.418790        2\n",
       " 11.709901       1\n",
       " 17.756886       1\n",
       " 10.198155       1\n",
       " 7.174663        1\n",
       "Name: Informational, dtype: int64"
      ]
     },
     "execution_count": 47,
     "metadata": {},
     "output_type": "execute_result"
    },
    {
     "data": {
      "text/plain": [
       "-0.248909    7425\n",
       "-0.184727      26\n",
       "-0.206121      23\n",
       "-0.198990      23\n",
       "-0.156202      18\n",
       "             ... \n",
       " 0.486806       1\n",
       " 3.446902       1\n",
       " 2.083035       1\n",
       " 0.859121       1\n",
       " 1.081084       1\n",
       "Name: Informational_Duration, Length: 1027, dtype: int64"
      ]
     },
     "execution_count": 47,
     "metadata": {},
     "output_type": "execute_result"
    },
    {
     "data": {
      "text/plain": [
       "-0.233198    2500\n",
       "-0.162912      10\n",
       "-0.106683       8\n",
       "-0.127769       8\n",
       "-0.169940       7\n",
       "             ... \n",
       " 0.063408       1\n",
       " 0.333305       1\n",
       " 0.615853       1\n",
       " 0.652402       1\n",
       " 1.351744       1\n",
       "Name: Informational_Duration, Length: 438, dtype: int64"
      ]
     },
     "execution_count": 47,
     "metadata": {},
     "output_type": "execute_result"
    },
    {
     "data": {
      "text/plain": [
       "-0.696682    473\n",
       "-0.673986    351\n",
       "-0.651289    346\n",
       "-0.628593    308\n",
       "-0.605897    293\n",
       "            ... \n",
       " 7.837162      1\n",
       " 5.045506      1\n",
       " 6.679646      1\n",
       " 4.410007      1\n",
       " 2.912045      1\n",
       "Name: ProductRelated, Length: 284, dtype: int64"
      ]
     },
     "execution_count": 47,
     "metadata": {},
     "output_type": "execute_result"
    },
    {
     "data": {
      "text/plain": [
       "-0.674914    149\n",
       "-0.565488    116\n",
       "-0.653029    114\n",
       "-0.631144    112\n",
       "-0.543603    100\n",
       "            ... \n",
       " 3.767796      1\n",
       " 4.336814      1\n",
       " 4.380584      1\n",
       " 4.796404      1\n",
       " 2.213942      1\n",
       "Name: ProductRelated, Length: 206, dtype: int64"
      ]
     },
     "execution_count": 47,
     "metadata": {},
     "output_type": "execute_result"
    },
    {
     "data": {
      "text/plain": [
       "-0.660707    590\n",
       "-0.650101     12\n",
       "-0.652892     12\n",
       "-0.654009     12\n",
       "-0.654567     12\n",
       "            ... \n",
       " 0.242751      1\n",
       "-0.140985      1\n",
       "-0.480265      1\n",
       "-0.279262      1\n",
       "-0.168804      1\n",
       "Name: ProductRelated_Duration, Length: 7358, dtype: int64"
      ]
     },
     "execution_count": 47,
     "metadata": {},
     "output_type": "execute_result"
    },
    {
     "data": {
      "text/plain": [
       "-0.548265    165\n",
       "-0.540677      9\n",
       "-0.542462      6\n",
       "-0.537552      6\n",
       "-0.543355      5\n",
       "            ... \n",
       "-0.299500      1\n",
       " 1.159063      1\n",
       " 1.076326      1\n",
       "-0.394572      1\n",
       "-0.466025      1\n",
       "Name: ProductRelated_Duration, Length: 2669, dtype: int64"
      ]
     },
     "execution_count": 47,
     "metadata": {},
     "output_type": "execute_result"
    },
    {
     "data": {
      "text/plain": [
       "-0.460505    4105\n",
       " 3.606271     545\n",
       " 0.895087     106\n",
       " 0.556189      89\n",
       " 0.120463      88\n",
       "             ... \n",
       "-0.263578       1\n",
       "-0.452546       1\n",
       "-0.341593       1\n",
       "-0.330188       1\n",
       "-0.182720       1\n",
       "Name: BounceRates, Length: 1551, dtype: int64"
      ]
     },
     "execution_count": 47,
     "metadata": {},
     "output_type": "execute_result"
    },
    {
     "data": {
      "text/plain": [
       "-0.449572    1413\n",
       " 3.868316     155\n",
       " 0.989724      28\n",
       "-0.089748      28\n",
       "-0.057037      27\n",
       "             ... \n",
       "-0.137093       1\n",
       " 0.002300       1\n",
       "-0.239675       1\n",
       " 0.136808       1\n",
       "-0.430799       1\n",
       "Name: BounceRates, Length: 651, dtype: int64"
      ]
     },
     "execution_count": 47,
     "metadata": {},
     "output_type": "execute_result"
    },
    {
     "data": {
      "text/plain": [
       " 3.246639    362\n",
       " 0.136630    180\n",
       " 1.173300    169\n",
       "-0.208927    150\n",
       " 0.482186    132\n",
       "            ... \n",
       "-0.620491      1\n",
       " 0.697744      1\n",
       "-0.333285      1\n",
       " 0.217693      1\n",
       "-0.631039      1\n",
       "Name: ExitRates, Length: 4995, dtype: int64"
      ]
     },
     "execution_count": 47,
     "metadata": {},
     "output_type": "execute_result"
    },
    {
     "data": {
      "text/plain": [
       " 3.419557    102\n",
       " 1.257278     62\n",
       " 0.176139     57\n",
       "-0.364431     53\n",
       "-0.184241     49\n",
       "            ... \n",
       " 0.775019      1\n",
       "-0.406162      1\n",
       " 0.481002      1\n",
       " 0.508620      1\n",
       " 0.968974      1\n",
       "Name: ExitRates, Length: 1922, dtype: int64"
      ]
     },
     "execution_count": 47,
     "metadata": {},
     "output_type": "execute_result"
    },
    {
     "data": {
      "text/plain": [
       "-0.316639    7184\n",
       " 2.609945       5\n",
       " 1.975986       3\n",
       " 1.866761       2\n",
       " 0.364152       2\n",
       "             ... \n",
       " 0.217300       1\n",
       " 0.233710       1\n",
       " 0.342103       1\n",
       " 2.237891       1\n",
       " 0.135411       1\n",
       "Name: PageValues, Length: 2043, dtype: int64"
      ]
     },
     "execution_count": 47,
     "metadata": {},
     "output_type": "execute_result"
    },
    {
     "data": {
      "text/plain": [
       "-0.318842    2416\n",
       "-0.029097       1\n",
       " 0.680783       1\n",
       "-0.216561       1\n",
       " 0.114062       1\n",
       "             ... \n",
       " 0.313397       1\n",
       " 2.755023       1\n",
       " 0.531473       1\n",
       " 0.996847       1\n",
       " 0.058875       1\n",
       "Name: PageValues, Length: 667, dtype: int64"
      ]
     },
     "execution_count": 47,
     "metadata": {},
     "output_type": "execute_result"
    },
    {
     "data": {
      "text/plain": [
       "-0.311980    8293\n",
       " 2.681996     267\n",
       " 3.679988     250\n",
       " 1.684004     188\n",
       " 0.686012     134\n",
       " 4.677980     116\n",
       "Name: SpecialDay, dtype: int64"
      ]
     },
     "execution_count": 47,
     "metadata": {},
     "output_type": "execute_result"
    },
    {
     "data": {
      "text/plain": [
       "-0.299214    2786\n",
       " 2.788431      84\n",
       " 3.817646      75\n",
       " 1.759216      55\n",
       " 0.730001      44\n",
       " 4.846861      38\n",
       "Name: SpecialDay, dtype: int64"
      ]
     },
     "execution_count": 47,
     "metadata": {},
     "output_type": "execute_result"
    },
    {
     "data": {
      "text/plain": [
       "0    8918\n",
       "1     330\n",
       "Name: Month_Aug, dtype: int64"
      ]
     },
     "execution_count": 47,
     "metadata": {},
     "output_type": "execute_result"
    },
    {
     "data": {
      "text/plain": [
       "0    2979\n",
       "1     103\n",
       "Name: Month_Aug, dtype: int64"
      ]
     },
     "execution_count": 47,
     "metadata": {},
     "output_type": "execute_result"
    },
    {
     "data": {
      "text/plain": [
       "0    7967\n",
       "1    1281\n",
       "Name: Month_Dec, dtype: int64"
      ]
     },
     "execution_count": 47,
     "metadata": {},
     "output_type": "execute_result"
    },
    {
     "data": {
      "text/plain": [
       "0    2636\n",
       "1     446\n",
       "Name: Month_Dec, dtype: int64"
      ]
     },
     "execution_count": 47,
     "metadata": {},
     "output_type": "execute_result"
    },
    {
     "data": {
      "text/plain": [
       "0    9108\n",
       "1     140\n",
       "Name: Month_Feb, dtype: int64"
      ]
     },
     "execution_count": 47,
     "metadata": {},
     "output_type": "execute_result"
    },
    {
     "data": {
      "text/plain": [
       "0    3038\n",
       "1      44\n",
       "Name: Month_Feb, dtype: int64"
      ]
     },
     "execution_count": 47,
     "metadata": {},
     "output_type": "execute_result"
    },
    {
     "data": {
      "text/plain": [
       "0    8930\n",
       "1     318\n",
       "Name: Month_Jul, dtype: int64"
      ]
     },
     "execution_count": 47,
     "metadata": {},
     "output_type": "execute_result"
    },
    {
     "data": {
      "text/plain": [
       "0    2968\n",
       "1     114\n",
       "Name: Month_Jul, dtype: int64"
      ]
     },
     "execution_count": 47,
     "metadata": {},
     "output_type": "execute_result"
    },
    {
     "data": {
      "text/plain": [
       "0    9040\n",
       "1     208\n",
       "Name: Month_June, dtype: int64"
      ]
     },
     "execution_count": 47,
     "metadata": {},
     "output_type": "execute_result"
    },
    {
     "data": {
      "text/plain": [
       "0    3002\n",
       "1      80\n",
       "Name: Month_June, dtype: int64"
      ]
     },
     "execution_count": 47,
     "metadata": {},
     "output_type": "execute_result"
    },
    {
     "data": {
      "text/plain": [
       "0    7825\n",
       "1    1423\n",
       "Name: Month_Mar, dtype: int64"
      ]
     },
     "execution_count": 47,
     "metadata": {},
     "output_type": "execute_result"
    },
    {
     "data": {
      "text/plain": [
       "0    2598\n",
       "1     484\n",
       "Name: Month_Mar, dtype: int64"
      ]
     },
     "execution_count": 47,
     "metadata": {},
     "output_type": "execute_result"
    },
    {
     "data": {
      "text/plain": [
       "0    6718\n",
       "1    2530\n",
       "Name: Month_May, dtype: int64"
      ]
     },
     "execution_count": 47,
     "metadata": {},
     "output_type": "execute_result"
    },
    {
     "data": {
      "text/plain": [
       "0    2248\n",
       "1     834\n",
       "Name: Month_May, dtype: int64"
      ]
     },
     "execution_count": 47,
     "metadata": {},
     "output_type": "execute_result"
    },
    {
     "data": {
      "text/plain": [
       "0    6988\n",
       "1    2260\n",
       "Name: Month_Nov, dtype: int64"
      ]
     },
     "execution_count": 47,
     "metadata": {},
     "output_type": "execute_result"
    },
    {
     "data": {
      "text/plain": [
       "0    2344\n",
       "1     738\n",
       "Name: Month_Nov, dtype: int64"
      ]
     },
     "execution_count": 47,
     "metadata": {},
     "output_type": "execute_result"
    },
    {
     "data": {
      "text/plain": [
       "0    8841\n",
       "1     407\n",
       "Name: Month_Oct, dtype: int64"
      ]
     },
     "execution_count": 47,
     "metadata": {},
     "output_type": "execute_result"
    },
    {
     "data": {
      "text/plain": [
       "0    2940\n",
       "1     142\n",
       "Name: Month_Oct, dtype: int64"
      ]
     },
     "execution_count": 47,
     "metadata": {},
     "output_type": "execute_result"
    },
    {
     "data": {
      "text/plain": [
       "0    8897\n",
       "1     351\n",
       "Name: Month_Sep, dtype: int64"
      ]
     },
     "execution_count": 47,
     "metadata": {},
     "output_type": "execute_result"
    },
    {
     "data": {
      "text/plain": [
       "0    2985\n",
       "1      97\n",
       "Name: Month_Sep, dtype: int64"
      ]
     },
     "execution_count": 47,
     "metadata": {},
     "output_type": "execute_result"
    },
    {
     "data": {
      "text/plain": [
       "0    7317\n",
       "1    1931\n",
       "Name: OperatingSystems_1, dtype: int64"
      ]
     },
     "execution_count": 47,
     "metadata": {},
     "output_type": "execute_result"
    },
    {
     "data": {
      "text/plain": [
       "0    2428\n",
       "1     654\n",
       "Name: OperatingSystems_1, dtype: int64"
      ]
     },
     "execution_count": 47,
     "metadata": {},
     "output_type": "execute_result"
    },
    {
     "data": {
      "text/plain": [
       "1    4949\n",
       "0    4299\n",
       "Name: OperatingSystems_2, dtype: int64"
      ]
     },
     "execution_count": 47,
     "metadata": {},
     "output_type": "execute_result"
    },
    {
     "data": {
      "text/plain": [
       "1    1652\n",
       "0    1430\n",
       "Name: OperatingSystems_2, dtype: int64"
      ]
     },
     "execution_count": 47,
     "metadata": {},
     "output_type": "execute_result"
    },
    {
     "data": {
      "text/plain": [
       "0    7314\n",
       "1    1934\n",
       "Name: OperatingSystems_3, dtype: int64"
      ]
     },
     "execution_count": 47,
     "metadata": {},
     "output_type": "execute_result"
    },
    {
     "data": {
      "text/plain": [
       "0    2461\n",
       "1     621\n",
       "Name: OperatingSystems_3, dtype: int64"
      ]
     },
     "execution_count": 47,
     "metadata": {},
     "output_type": "execute_result"
    },
    {
     "data": {
      "text/plain": [
       "0    8893\n",
       "1     355\n",
       "Name: OperatingSystems_4, dtype: int64"
      ]
     },
     "execution_count": 47,
     "metadata": {},
     "output_type": "execute_result"
    },
    {
     "data": {
      "text/plain": [
       "0    2959\n",
       "1     123\n",
       "Name: OperatingSystems_4, dtype: int64"
      ]
     },
     "execution_count": 47,
     "metadata": {},
     "output_type": "execute_result"
    },
    {
     "data": {
      "text/plain": [
       "0    9231\n",
       "1      17\n",
       "Name: OperatingSystems_6, dtype: int64"
      ]
     },
     "execution_count": 47,
     "metadata": {},
     "output_type": "execute_result"
    },
    {
     "data": {
      "text/plain": [
       "0    3080\n",
       "1       2\n",
       "Name: OperatingSystems_6, dtype: int64"
      ]
     },
     "execution_count": 47,
     "metadata": {},
     "output_type": "execute_result"
    },
    {
     "data": {
      "text/plain": [
       "0    9193\n",
       "1      55\n",
       "Name: OperatingSystems_8, dtype: int64"
      ]
     },
     "execution_count": 47,
     "metadata": {},
     "output_type": "execute_result"
    },
    {
     "data": {
      "text/plain": [
       "0    3058\n",
       "1      24\n",
       "Name: OperatingSystems_8, dtype: int64"
      ]
     },
     "execution_count": 47,
     "metadata": {},
     "output_type": "execute_result"
    },
    {
     "data": {
      "text/plain": [
       "0    7421\n",
       "1    1827\n",
       "Name: Browser_1, dtype: int64"
      ]
     },
     "execution_count": 47,
     "metadata": {},
     "output_type": "execute_result"
    },
    {
     "data": {
      "text/plain": [
       "0    2447\n",
       "1     635\n",
       "Name: Browser_1, dtype: int64"
      ]
     },
     "execution_count": 47,
     "metadata": {},
     "output_type": "execute_result"
    },
    {
     "data": {
      "text/plain": [
       "1    5973\n",
       "0    3275\n",
       "Name: Browser_2, dtype: int64"
      ]
     },
     "execution_count": 47,
     "metadata": {},
     "output_type": "execute_result"
    },
    {
     "data": {
      "text/plain": [
       "1    1988\n",
       "0    1094\n",
       "Name: Browser_2, dtype: int64"
      ]
     },
     "execution_count": 47,
     "metadata": {},
     "output_type": "execute_result"
    },
    {
     "data": {
      "text/plain": [
       "0    9176\n",
       "1      72\n",
       "Name: Browser_3, dtype: int64"
      ]
     },
     "execution_count": 47,
     "metadata": {},
     "output_type": "execute_result"
    },
    {
     "data": {
      "text/plain": [
       "0    3049\n",
       "1      33\n",
       "Name: Browser_3, dtype: int64"
      ]
     },
     "execution_count": 47,
     "metadata": {},
     "output_type": "execute_result"
    },
    {
     "data": {
      "text/plain": [
       "0    8686\n",
       "1     562\n",
       "Name: Browser_4, dtype: int64"
      ]
     },
     "execution_count": 47,
     "metadata": {},
     "output_type": "execute_result"
    },
    {
     "data": {
      "text/plain": [
       "0    2908\n",
       "1     174\n",
       "Name: Browser_4, dtype: int64"
      ]
     },
     "execution_count": 47,
     "metadata": {},
     "output_type": "execute_result"
    },
    {
     "data": {
      "text/plain": [
       "0    8890\n",
       "1     358\n",
       "Name: Browser_5, dtype: int64"
      ]
     },
     "execution_count": 47,
     "metadata": {},
     "output_type": "execute_result"
    },
    {
     "data": {
      "text/plain": [
       "0    2973\n",
       "1     109\n",
       "Name: Browser_5, dtype: int64"
      ]
     },
     "execution_count": 47,
     "metadata": {},
     "output_type": "execute_result"
    },
    {
     "data": {
      "text/plain": [
       "0    9112\n",
       "1     136\n",
       "Name: Browser_6, dtype: int64"
      ]
     },
     "execution_count": 47,
     "metadata": {},
     "output_type": "execute_result"
    },
    {
     "data": {
      "text/plain": [
       "0    3044\n",
       "1      38\n",
       "Name: Browser_6, dtype: int64"
      ]
     },
     "execution_count": 47,
     "metadata": {},
     "output_type": "execute_result"
    },
    {
     "data": {
      "text/plain": [
       "0    9209\n",
       "1      39\n",
       "Name: Browser_7, dtype: int64"
      ]
     },
     "execution_count": 47,
     "metadata": {},
     "output_type": "execute_result"
    },
    {
     "data": {
      "text/plain": [
       "0    3072\n",
       "1      10\n",
       "Name: Browser_7, dtype: int64"
      ]
     },
     "execution_count": 47,
     "metadata": {},
     "output_type": "execute_result"
    },
    {
     "data": {
      "text/plain": [
       "0    9142\n",
       "1     106\n",
       "Name: Browser_8, dtype: int64"
      ]
     },
     "execution_count": 47,
     "metadata": {},
     "output_type": "execute_result"
    },
    {
     "data": {
      "text/plain": [
       "0    3053\n",
       "1      29\n",
       "Name: Browser_8, dtype: int64"
      ]
     },
     "execution_count": 47,
     "metadata": {},
     "output_type": "execute_result"
    },
    {
     "data": {
      "text/plain": [
       "0    9123\n",
       "1     125\n",
       "Name: Browser_10, dtype: int64"
      ]
     },
     "execution_count": 47,
     "metadata": {},
     "output_type": "execute_result"
    },
    {
     "data": {
      "text/plain": [
       "0    3044\n",
       "1      38\n",
       "Name: Browser_10, dtype: int64"
      ]
     },
     "execution_count": 47,
     "metadata": {},
     "output_type": "execute_result"
    },
    {
     "data": {
      "text/plain": [
       "0    9208\n",
       "1      40\n",
       "Name: Browser_13, dtype: int64"
      ]
     },
     "execution_count": 47,
     "metadata": {},
     "output_type": "execute_result"
    },
    {
     "data": {
      "text/plain": [
       "0    3061\n",
       "1      21\n",
       "Name: Browser_13, dtype: int64"
      ]
     },
     "execution_count": 47,
     "metadata": {},
     "output_type": "execute_result"
    },
    {
     "data": {
      "text/plain": [
       "0    5667\n",
       "1    3581\n",
       "Name: Region_1, dtype: int64"
      ]
     },
     "execution_count": 47,
     "metadata": {},
     "output_type": "execute_result"
    },
    {
     "data": {
      "text/plain": [
       "0    1883\n",
       "1    1199\n",
       "Name: Region_1, dtype: int64"
      ]
     },
     "execution_count": 47,
     "metadata": {},
     "output_type": "execute_result"
    },
    {
     "data": {
      "text/plain": [
       "0    8388\n",
       "1     860\n",
       "Name: Region_2, dtype: int64"
      ]
     },
     "execution_count": 47,
     "metadata": {},
     "output_type": "execute_result"
    },
    {
     "data": {
      "text/plain": [
       "0    2806\n",
       "1     276\n",
       "Name: Region_2, dtype: int64"
      ]
     },
     "execution_count": 47,
     "metadata": {},
     "output_type": "execute_result"
    },
    {
     "data": {
      "text/plain": [
       "0    7402\n",
       "1    1846\n",
       "Name: Region_3, dtype: int64"
      ]
     },
     "execution_count": 47,
     "metadata": {},
     "output_type": "execute_result"
    },
    {
     "data": {
      "text/plain": [
       "0    2525\n",
       "1     557\n",
       "Name: Region_3, dtype: int64"
      ]
     },
     "execution_count": 47,
     "metadata": {},
     "output_type": "execute_result"
    },
    {
     "data": {
      "text/plain": [
       "0    8363\n",
       "1     885\n",
       "Name: Region_4, dtype: int64"
      ]
     },
     "execution_count": 47,
     "metadata": {},
     "output_type": "execute_result"
    },
    {
     "data": {
      "text/plain": [
       "0    2785\n",
       "1     297\n",
       "Name: Region_4, dtype: int64"
      ]
     },
     "execution_count": 47,
     "metadata": {},
     "output_type": "execute_result"
    },
    {
     "data": {
      "text/plain": [
       "0    9022\n",
       "1     226\n",
       "Name: Region_5, dtype: int64"
      ]
     },
     "execution_count": 47,
     "metadata": {},
     "output_type": "execute_result"
    },
    {
     "data": {
      "text/plain": [
       "0    2990\n",
       "1      92\n",
       "Name: Region_5, dtype: int64"
      ]
     },
     "execution_count": 47,
     "metadata": {},
     "output_type": "execute_result"
    },
    {
     "data": {
      "text/plain": [
       "0    8668\n",
       "1     580\n",
       "Name: Region_6, dtype: int64"
      ]
     },
     "execution_count": 47,
     "metadata": {},
     "output_type": "execute_result"
    },
    {
     "data": {
      "text/plain": [
       "0    2857\n",
       "1     225\n",
       "Name: Region_6, dtype: int64"
      ]
     },
     "execution_count": 47,
     "metadata": {},
     "output_type": "execute_result"
    },
    {
     "data": {
      "text/plain": [
       "0    8675\n",
       "1     573\n",
       "Name: Region_7, dtype: int64"
      ]
     },
     "execution_count": 47,
     "metadata": {},
     "output_type": "execute_result"
    },
    {
     "data": {
      "text/plain": [
       "0    2894\n",
       "1     188\n",
       "Name: Region_7, dtype: int64"
      ]
     },
     "execution_count": 47,
     "metadata": {},
     "output_type": "execute_result"
    },
    {
     "data": {
      "text/plain": [
       "0    8927\n",
       "1     321\n",
       "Name: Region_8, dtype: int64"
      ]
     },
     "execution_count": 47,
     "metadata": {},
     "output_type": "execute_result"
    },
    {
     "data": {
      "text/plain": [
       "0    2969\n",
       "1     113\n",
       "Name: Region_8, dtype: int64"
      ]
     },
     "execution_count": 47,
     "metadata": {},
     "output_type": "execute_result"
    },
    {
     "data": {
      "text/plain": [
       "0    8872\n",
       "1     376\n",
       "Name: Region_9, dtype: int64"
      ]
     },
     "execution_count": 47,
     "metadata": {},
     "output_type": "execute_result"
    },
    {
     "data": {
      "text/plain": [
       "0    2947\n",
       "1     135\n",
       "Name: Region_9, dtype: int64"
      ]
     },
     "execution_count": 47,
     "metadata": {},
     "output_type": "execute_result"
    },
    {
     "data": {
      "text/plain": [
       "0    7403\n",
       "1    1845\n",
       "Name: TrafficType_1, dtype: int64"
      ]
     },
     "execution_count": 47,
     "metadata": {},
     "output_type": "execute_result"
    },
    {
     "data": {
      "text/plain": [
       "0    2476\n",
       "1     606\n",
       "Name: TrafficType_1, dtype: int64"
      ]
     },
     "execution_count": 47,
     "metadata": {},
     "output_type": "execute_result"
    },
    {
     "data": {
      "text/plain": [
       "0    6274\n",
       "1    2974\n",
       "Name: TrafficType_2, dtype: int64"
      ]
     },
     "execution_count": 47,
     "metadata": {},
     "output_type": "execute_result"
    },
    {
     "data": {
      "text/plain": [
       "0    2143\n",
       "1     939\n",
       "Name: TrafficType_2, dtype: int64"
      ]
     },
     "execution_count": 47,
     "metadata": {},
     "output_type": "execute_result"
    },
    {
     "data": {
      "text/plain": [
       "0    7736\n",
       "1    1512\n",
       "Name: TrafficType_3, dtype: int64"
      ]
     },
     "execution_count": 47,
     "metadata": {},
     "output_type": "execute_result"
    },
    {
     "data": {
      "text/plain": [
       "0    2542\n",
       "1     540\n",
       "Name: TrafficType_3, dtype: int64"
      ]
     },
     "execution_count": 47,
     "metadata": {},
     "output_type": "execute_result"
    },
    {
     "data": {
      "text/plain": [
       "0    8444\n",
       "1     804\n",
       "Name: TrafficType_4, dtype: int64"
      ]
     },
     "execution_count": 47,
     "metadata": {},
     "output_type": "execute_result"
    },
    {
     "data": {
      "text/plain": [
       "0    2817\n",
       "1     265\n",
       "Name: TrafficType_4, dtype: int64"
      ]
     },
     "execution_count": 47,
     "metadata": {},
     "output_type": "execute_result"
    },
    {
     "data": {
      "text/plain": [
       "0    9038\n",
       "1     210\n",
       "Name: TrafficType_5, dtype: int64"
      ]
     },
     "execution_count": 47,
     "metadata": {},
     "output_type": "execute_result"
    },
    {
     "data": {
      "text/plain": [
       "0    3032\n",
       "1      50\n",
       "Name: TrafficType_5, dtype: int64"
      ]
     },
     "execution_count": 47,
     "metadata": {},
     "output_type": "execute_result"
    },
    {
     "data": {
      "text/plain": [
       "0    8928\n",
       "1     320\n",
       "Name: TrafficType_6, dtype: int64"
      ]
     },
     "execution_count": 47,
     "metadata": {},
     "output_type": "execute_result"
    },
    {
     "data": {
      "text/plain": [
       "0    2958\n",
       "1     124\n",
       "Name: TrafficType_6, dtype: int64"
      ]
     },
     "execution_count": 47,
     "metadata": {},
     "output_type": "execute_result"
    },
    {
     "data": {
      "text/plain": [
       "0    9220\n",
       "1      28\n",
       "Name: TrafficType_7, dtype: int64"
      ]
     },
     "execution_count": 47,
     "metadata": {},
     "output_type": "execute_result"
    },
    {
     "data": {
      "text/plain": [
       "0    3070\n",
       "1      12\n",
       "Name: TrafficType_7, dtype: int64"
      ]
     },
     "execution_count": 47,
     "metadata": {},
     "output_type": "execute_result"
    },
    {
     "data": {
      "text/plain": [
       "0    8992\n",
       "1     256\n",
       "Name: TrafficType_8, dtype: int64"
      ]
     },
     "execution_count": 47,
     "metadata": {},
     "output_type": "execute_result"
    },
    {
     "data": {
      "text/plain": [
       "0    2995\n",
       "1      87\n",
       "Name: TrafficType_8, dtype: int64"
      ]
     },
     "execution_count": 47,
     "metadata": {},
     "output_type": "execute_result"
    },
    {
     "data": {
      "text/plain": [
       "0    9217\n",
       "1      31\n",
       "Name: TrafficType_9, dtype: int64"
      ]
     },
     "execution_count": 47,
     "metadata": {},
     "output_type": "execute_result"
    },
    {
     "data": {
      "text/plain": [
       "0    3071\n",
       "1      11\n",
       "Name: TrafficType_9, dtype: int64"
      ]
     },
     "execution_count": 47,
     "metadata": {},
     "output_type": "execute_result"
    },
    {
     "data": {
      "text/plain": [
       "0    8915\n",
       "1     333\n",
       "Name: TrafficType_10, dtype: int64"
      ]
     },
     "execution_count": 47,
     "metadata": {},
     "output_type": "execute_result"
    },
    {
     "data": {
      "text/plain": [
       "0    2965\n",
       "1     117\n",
       "Name: TrafficType_10, dtype: int64"
      ]
     },
     "execution_count": 47,
     "metadata": {},
     "output_type": "execute_result"
    },
    {
     "data": {
      "text/plain": [
       "0    9072\n",
       "1     176\n",
       "Name: TrafficType_11, dtype: int64"
      ]
     },
     "execution_count": 47,
     "metadata": {},
     "output_type": "execute_result"
    },
    {
     "data": {
      "text/plain": [
       "0    3011\n",
       "1      71\n",
       "Name: TrafficType_11, dtype: int64"
      ]
     },
     "execution_count": 47,
     "metadata": {},
     "output_type": "execute_result"
    },
    {
     "data": {
      "text/plain": [
       "0    8690\n",
       "1     558\n",
       "Name: TrafficType_13, dtype: int64"
      ]
     },
     "execution_count": 47,
     "metadata": {},
     "output_type": "execute_result"
    },
    {
     "data": {
      "text/plain": [
       "0    2902\n",
       "1     180\n",
       "Name: TrafficType_13, dtype: int64"
      ]
     },
     "execution_count": 47,
     "metadata": {},
     "output_type": "execute_result"
    },
    {
     "data": {
      "text/plain": [
       "0    9222\n",
       "1      26\n",
       "Name: TrafficType_15, dtype: int64"
      ]
     },
     "execution_count": 47,
     "metadata": {},
     "output_type": "execute_result"
    },
    {
     "data": {
      "text/plain": [
       "0    3070\n",
       "1      12\n",
       "Name: TrafficType_15, dtype: int64"
      ]
     },
     "execution_count": 47,
     "metadata": {},
     "output_type": "execute_result"
    },
    {
     "data": {
      "text/plain": [
       "0    9236\n",
       "1      12\n",
       "Name: TrafficType_19, dtype: int64"
      ]
     },
     "execution_count": 47,
     "metadata": {},
     "output_type": "execute_result"
    },
    {
     "data": {
      "text/plain": [
       "0    3077\n",
       "1       5\n",
       "Name: TrafficType_19, dtype: int64"
      ]
     },
     "execution_count": 47,
     "metadata": {},
     "output_type": "execute_result"
    },
    {
     "data": {
      "text/plain": [
       "0    9104\n",
       "1     144\n",
       "Name: TrafficType_20, dtype: int64"
      ]
     },
     "execution_count": 47,
     "metadata": {},
     "output_type": "execute_result"
    },
    {
     "data": {
      "text/plain": [
       "0    3028\n",
       "1      54\n",
       "Name: TrafficType_20, dtype: int64"
      ]
     },
     "execution_count": 47,
     "metadata": {},
     "output_type": "execute_result"
    },
    {
     "data": {
      "text/plain": [
       "0    7959\n",
       "1    1289\n",
       "Name: VisitorType_New_Visitor, dtype: int64"
      ]
     },
     "execution_count": 47,
     "metadata": {},
     "output_type": "execute_result"
    },
    {
     "data": {
      "text/plain": [
       "0    2677\n",
       "1     405\n",
       "Name: VisitorType_New_Visitor, dtype: int64"
      ]
     },
     "execution_count": 47,
     "metadata": {},
     "output_type": "execute_result"
    },
    {
     "data": {
      "text/plain": [
       "0    9182\n",
       "1      66\n",
       "Name: VisitorType_Other, dtype: int64"
      ]
     },
     "execution_count": 47,
     "metadata": {},
     "output_type": "execute_result"
    },
    {
     "data": {
      "text/plain": [
       "0    3063\n",
       "1      19\n",
       "Name: VisitorType_Other, dtype: int64"
      ]
     },
     "execution_count": 47,
     "metadata": {},
     "output_type": "execute_result"
    },
    {
     "data": {
      "text/plain": [
       "1    7893\n",
       "0    1355\n",
       "Name: VisitorType_Returning_Visitor, dtype: int64"
      ]
     },
     "execution_count": 47,
     "metadata": {},
     "output_type": "execute_result"
    },
    {
     "data": {
      "text/plain": [
       "1    2658\n",
       "0     424\n",
       "Name: VisitorType_Returning_Visitor, dtype: int64"
      ]
     },
     "execution_count": 47,
     "metadata": {},
     "output_type": "execute_result"
    },
    {
     "data": {
      "text/plain": [
       "1    7126\n",
       "0    2122\n",
       "Name: Weekend_False, dtype: int64"
      ]
     },
     "execution_count": 47,
     "metadata": {},
     "output_type": "execute_result"
    },
    {
     "data": {
      "text/plain": [
       "1    2336\n",
       "0     746\n",
       "Name: Weekend_False, dtype: int64"
      ]
     },
     "execution_count": 47,
     "metadata": {},
     "output_type": "execute_result"
    },
    {
     "data": {
      "text/plain": [
       "0    7126\n",
       "1    2122\n",
       "Name: Weekend_True, dtype: int64"
      ]
     },
     "execution_count": 47,
     "metadata": {},
     "output_type": "execute_result"
    },
    {
     "data": {
      "text/plain": [
       "0    2336\n",
       "1     746\n",
       "Name: Weekend_True, dtype: int64"
      ]
     },
     "execution_count": 47,
     "metadata": {},
     "output_type": "execute_result"
    }
   ],
   "source": [
    "for col in X_train_scaled.columns:\n",
    "    X_train_scaled[col].value_counts()\n",
    "    X_test_scaled[col].value_counts()"
   ]
  },
  {
   "cell_type": "code",
   "execution_count": 51,
   "id": "9206f3d3",
   "metadata": {},
   "outputs": [
    {
     "name": "stdout",
     "output_type": "stream",
     "text": [
      "............\n",
      "Best model (M1) with 1 features: ['PageValues']\n",
      "M1 subset score (3.): 0.8765136450674579\n",
      "............\n",
      "Best model (M2) with 2 features: ['PageValues', 'ExitRates']\n",
      "M2 subset score (3.): 0.8793249236256268\n",
      "............\n",
      "Best model (M3) with 3 features: ['PageValues', 'ExitRates', 'BounceRates']\n",
      "M3 subset score (3.): 0.8788923157879351\n",
      "............\n",
      "Best model (M4) with 4 features: ['PageValues', 'ExitRates', 'BounceRates', 'Month_Oct']\n",
      "M4 subset score (3.): 0.8790004238960432\n",
      "............\n",
      "Best model (M5) with 5 features: ['PageValues', 'ExitRates', 'BounceRates', 'Month_Oct', 'VisitorType_Other']\n",
      "M5 subset score (3.): 0.879324865157207\n",
      "............\n",
      "Best model (M6) with 6 features: ['PageValues', 'ExitRates', 'BounceRates', 'Month_Oct', 'VisitorType_Other', 'TrafficType_5']\n",
      "M6 subset score (3.): 0.8790005408328826\n",
      "............\n",
      "Best model (M7) with 7 features: ['PageValues', 'ExitRates', 'BounceRates', 'Month_Oct', 'VisitorType_Other', 'TrafficType_5', 'OperatingSystems_1']\n",
      "M7 subset score (3.): 0.8791087074094104\n",
      "............\n",
      "Best model (M8) with 8 features: ['PageValues', 'ExitRates', 'BounceRates', 'Month_Oct', 'VisitorType_Other', 'TrafficType_5', 'OperatingSystems_1', 'Browser_3']\n",
      "M8 subset score (3.): 0.8792168155175186\n",
      "............\n",
      "Best model (M9) with 9 features: ['PageValues', 'ExitRates', 'BounceRates', 'Month_Oct', 'VisitorType_Other', 'TrafficType_5', 'OperatingSystems_1', 'Browser_3', 'Browser_7']\n",
      "M9 subset score (3.): 0.8792168155175186\n",
      "............\n",
      "Best model (M10) with 10 features: ['PageValues', 'ExitRates', 'BounceRates', 'Month_Oct', 'VisitorType_Other', 'TrafficType_5', 'OperatingSystems_1', 'Browser_3', 'Browser_7', 'Browser_8']\n",
      "M10 subset score (3.): 0.8792168155175186\n",
      "............\n",
      "Best model (M11) with 11 features: ['PageValues', 'ExitRates', 'BounceRates', 'Month_Oct', 'VisitorType_Other', 'TrafficType_5', 'OperatingSystems_1', 'Browser_3', 'Browser_7', 'Browser_8', 'Month_Aug']\n",
      "M11 subset score (3.): 0.8791087074094104\n",
      "............\n",
      "Best model (M12) with 12 features: ['PageValues', 'ExitRates', 'BounceRates', 'Month_Oct', 'VisitorType_Other', 'TrafficType_5', 'OperatingSystems_1', 'Browser_3', 'Browser_7', 'Browser_8', 'Month_Aug', 'Month_Sep']\n",
      "M12 subset score (3.): 0.8792168739859383\n",
      "............\n",
      "Best model (M13) with 13 features: ['PageValues', 'ExitRates', 'BounceRates', 'Month_Oct', 'VisitorType_Other', 'TrafficType_5', 'OperatingSystems_1', 'Browser_3', 'Browser_7', 'Browser_8', 'Month_Aug', 'Month_Sep', 'OperatingSystems_4']\n",
      "M13 subset score (3.): 0.879433207138994\n",
      "............\n",
      "Best model (M14) with 14 features: ['PageValues', 'ExitRates', 'BounceRates', 'Month_Oct', 'VisitorType_Other', 'TrafficType_5', 'OperatingSystems_1', 'Browser_3', 'Browser_7', 'Browser_8', 'Month_Aug', 'Month_Sep', 'OperatingSystems_4', 'Month_Feb']\n",
      "M14 subset score (3.): 0.8795412567786824\n",
      "............\n",
      "Best model (M15) with 15 features: ['PageValues', 'ExitRates', 'BounceRates', 'Month_Oct', 'VisitorType_Other', 'TrafficType_5', 'OperatingSystems_1', 'Browser_3', 'Browser_7', 'Browser_8', 'Month_Aug', 'Month_Sep', 'OperatingSystems_4', 'Month_Feb', 'Region_3']\n",
      "M15 subset score (3.): 0.8800817388508031\n",
      "............\n",
      "Best model (M16) with 16 features: ['PageValues', 'ExitRates', 'BounceRates', 'Month_Oct', 'VisitorType_Other', 'TrafficType_5', 'OperatingSystems_1', 'Browser_3', 'Browser_7', 'Browser_8', 'Month_Aug', 'Month_Sep', 'OperatingSystems_4', 'Month_Feb', 'Region_3', 'Browser_4']\n",
      "M16 subset score (3.): 0.8800817388508031\n",
      "............\n",
      "Best model (M17) with 17 features: ['PageValues', 'ExitRates', 'BounceRates', 'Month_Oct', 'VisitorType_Other', 'TrafficType_5', 'OperatingSystems_1', 'Browser_3', 'Browser_7', 'Browser_8', 'Month_Aug', 'Month_Sep', 'OperatingSystems_4', 'Month_Feb', 'Region_3', 'Browser_4', 'Region_7']\n",
      "M17 subset score (3.): 0.8801898469589113\n",
      "............\n",
      "Best model (M18) with 18 features: ['PageValues', 'ExitRates', 'BounceRates', 'Month_Oct', 'VisitorType_Other', 'TrafficType_5', 'OperatingSystems_1', 'Browser_3', 'Browser_7', 'Browser_8', 'Month_Aug', 'Month_Sep', 'OperatingSystems_4', 'Month_Feb', 'Region_3', 'Browser_4', 'Region_7', 'TrafficType_11']\n",
      "M18 subset score (3.): 0.8806224547966031\n",
      "............\n",
      "Best model (M19) with 19 features: ['PageValues', 'ExitRates', 'BounceRates', 'Month_Oct', 'VisitorType_Other', 'TrafficType_5', 'OperatingSystems_1', 'Browser_3', 'Browser_7', 'Browser_8', 'Month_Aug', 'Month_Sep', 'OperatingSystems_4', 'Month_Feb', 'Region_3', 'Browser_4', 'Region_7', 'TrafficType_11', 'TrafficType_10']\n",
      "M19 subset score (3.): 0.8807306213731309\n",
      "............\n",
      "Best model (M20) with 20 features: ['PageValues', 'ExitRates', 'BounceRates', 'Month_Oct', 'VisitorType_Other', 'TrafficType_5', 'OperatingSystems_1', 'Browser_3', 'Browser_7', 'Browser_8', 'Month_Aug', 'Month_Sep', 'OperatingSystems_4', 'Month_Feb', 'Region_3', 'Browser_4', 'Region_7', 'TrafficType_11', 'TrafficType_10', 'OperatingSystems_6']\n",
      "M20 subset score (3.): 0.8807306213731309\n",
      "............\n",
      "Best model (M21) with 21 features: ['PageValues', 'ExitRates', 'BounceRates', 'Month_Oct', 'VisitorType_Other', 'TrafficType_5', 'OperatingSystems_1', 'Browser_3', 'Browser_7', 'Browser_8', 'Month_Aug', 'Month_Sep', 'OperatingSystems_4', 'Month_Feb', 'Region_3', 'Browser_4', 'Region_7', 'TrafficType_11', 'TrafficType_10', 'OperatingSystems_6', 'OperatingSystems_8']\n",
      "M21 subset score (3.): 0.8807306213731309\n",
      "............\n",
      "Best model (M22) with 22 features: ['PageValues', 'ExitRates', 'BounceRates', 'Month_Oct', 'VisitorType_Other', 'TrafficType_5', 'OperatingSystems_1', 'Browser_3', 'Browser_7', 'Browser_8', 'Month_Aug', 'Month_Sep', 'OperatingSystems_4', 'Month_Feb', 'Region_3', 'Browser_4', 'Region_7', 'TrafficType_11', 'TrafficType_10', 'OperatingSystems_6', 'OperatingSystems_8', 'Region_5']\n",
      "M22 subset score (3.): 0.8807306213731309\n",
      "............\n",
      "Best model (M23) with 23 features: ['PageValues', 'ExitRates', 'BounceRates', 'Month_Oct', 'VisitorType_Other', 'TrafficType_5', 'OperatingSystems_1', 'Browser_3', 'Browser_7', 'Browser_8', 'Month_Aug', 'Month_Sep', 'OperatingSystems_4', 'Month_Feb', 'Region_3', 'Browser_4', 'Region_7', 'TrafficType_11', 'TrafficType_10', 'OperatingSystems_6', 'OperatingSystems_8', 'Region_5', 'Region_6']\n",
      "M23 subset score (3.): 0.8807306213731309\n",
      "............\n",
      "Best model (M24) with 24 features: ['PageValues', 'ExitRates', 'BounceRates', 'Month_Oct', 'VisitorType_Other', 'TrafficType_5', 'OperatingSystems_1', 'Browser_3', 'Browser_7', 'Browser_8', 'Month_Aug', 'Month_Sep', 'OperatingSystems_4', 'Month_Feb', 'Region_3', 'Browser_4', 'Region_7', 'TrafficType_11', 'TrafficType_10', 'OperatingSystems_6', 'OperatingSystems_8', 'Region_5', 'Region_6', 'TrafficType_15']\n",
      "M24 subset score (3.): 0.8807306213731309\n",
      "............\n",
      "Best model (M25) with 25 features: ['PageValues', 'ExitRates', 'BounceRates', 'Month_Oct', 'VisitorType_Other', 'TrafficType_5', 'OperatingSystems_1', 'Browser_3', 'Browser_7', 'Browser_8', 'Month_Aug', 'Month_Sep', 'OperatingSystems_4', 'Month_Feb', 'Region_3', 'Browser_4', 'Region_7', 'TrafficType_11', 'TrafficType_10', 'OperatingSystems_6', 'OperatingSystems_8', 'Region_5', 'Region_6', 'TrafficType_15', 'TrafficType_19']\n",
      "M25 subset score (3.): 0.8806224547966031\n",
      "............\n",
      "Best model (M26) with 26 features: ['PageValues', 'ExitRates', 'BounceRates', 'Month_Oct', 'VisitorType_Other', 'TrafficType_5', 'OperatingSystems_1', 'Browser_3', 'Browser_7', 'Browser_8', 'Month_Aug', 'Month_Sep', 'OperatingSystems_4', 'Month_Feb', 'Region_3', 'Browser_4', 'Region_7', 'TrafficType_11', 'TrafficType_10', 'OperatingSystems_6', 'OperatingSystems_8', 'Region_5', 'Region_6', 'TrafficType_15', 'TrafficType_19', 'TrafficType_4']\n",
      "M26 subset score (3.): 0.8808386710128191\n",
      "............\n",
      "Best model (M27) with 27 features: ['PageValues', 'ExitRates', 'BounceRates', 'Month_Oct', 'VisitorType_Other', 'TrafficType_5', 'OperatingSystems_1', 'Browser_3', 'Browser_7', 'Browser_8', 'Month_Aug', 'Month_Sep', 'OperatingSystems_4', 'Month_Feb', 'Region_3', 'Browser_4', 'Region_7', 'TrafficType_11', 'TrafficType_10', 'OperatingSystems_6', 'OperatingSystems_8', 'Region_5', 'Region_6', 'TrafficType_15', 'TrafficType_19', 'TrafficType_4', 'Browser_5']\n",
      "M27 subset score (3.): 0.8805142882200752\n"
     ]
    },
    {
     "name": "stdout",
     "output_type": "stream",
     "text": [
      "............\n",
      "Best model (M28) with 28 features: ['PageValues', 'ExitRates', 'BounceRates', 'Month_Oct', 'VisitorType_Other', 'TrafficType_5', 'OperatingSystems_1', 'Browser_3', 'Browser_7', 'Browser_8', 'Month_Aug', 'Month_Sep', 'OperatingSystems_4', 'Month_Feb', 'Region_3', 'Browser_4', 'Region_7', 'TrafficType_11', 'TrafficType_10', 'OperatingSystems_6', 'OperatingSystems_8', 'Region_5', 'Region_6', 'TrafficType_15', 'TrafficType_19', 'TrafficType_4', 'Browser_5', 'TrafficType_6']\n",
      "M28 subset score (3.): 0.8804061216435473\n",
      "............\n",
      "Best model (M29) with 29 features: ['PageValues', 'ExitRates', 'BounceRates', 'Month_Oct', 'VisitorType_Other', 'TrafficType_5', 'OperatingSystems_1', 'Browser_3', 'Browser_7', 'Browser_8', 'Month_Aug', 'Month_Sep', 'OperatingSystems_4', 'Month_Feb', 'Region_3', 'Browser_4', 'Region_7', 'TrafficType_11', 'TrafficType_10', 'OperatingSystems_6', 'OperatingSystems_8', 'Region_5', 'Region_6', 'TrafficType_15', 'TrafficType_19', 'TrafficType_4', 'Browser_5', 'TrafficType_6', 'Month_Jul']\n",
      "M29 subset score (3.): 0.8804061216435473\n",
      "............\n",
      "Best model (M30) with 30 features: ['PageValues', 'ExitRates', 'BounceRates', 'Month_Oct', 'VisitorType_Other', 'TrafficType_5', 'OperatingSystems_1', 'Browser_3', 'Browser_7', 'Browser_8', 'Month_Aug', 'Month_Sep', 'OperatingSystems_4', 'Month_Feb', 'Region_3', 'Browser_4', 'Region_7', 'TrafficType_11', 'TrafficType_10', 'OperatingSystems_6', 'OperatingSystems_8', 'Region_5', 'Region_6', 'TrafficType_15', 'TrafficType_19', 'TrafficType_4', 'Browser_5', 'TrafficType_6', 'Month_Jul', 'TrafficType_7']\n",
      "M30 subset score (3.): 0.8804061216435473\n",
      "............\n",
      "Best model (M31) with 31 features: ['PageValues', 'ExitRates', 'BounceRates', 'Month_Oct', 'VisitorType_Other', 'TrafficType_5', 'OperatingSystems_1', 'Browser_3', 'Browser_7', 'Browser_8', 'Month_Aug', 'Month_Sep', 'OperatingSystems_4', 'Month_Feb', 'Region_3', 'Browser_4', 'Region_7', 'TrafficType_11', 'TrafficType_10', 'OperatingSystems_6', 'OperatingSystems_8', 'Region_5', 'Region_6', 'TrafficType_15', 'TrafficType_19', 'TrafficType_4', 'Browser_5', 'TrafficType_6', 'Month_Jul', 'TrafficType_7', 'TrafficType_9']\n",
      "M31 subset score (3.): 0.8804061216435473\n",
      "............\n",
      "Best model (M32) with 32 features: ['PageValues', 'ExitRates', 'BounceRates', 'Month_Oct', 'VisitorType_Other', 'TrafficType_5', 'OperatingSystems_1', 'Browser_3', 'Browser_7', 'Browser_8', 'Month_Aug', 'Month_Sep', 'OperatingSystems_4', 'Month_Feb', 'Region_3', 'Browser_4', 'Region_7', 'TrafficType_11', 'TrafficType_10', 'OperatingSystems_6', 'OperatingSystems_8', 'Region_5', 'Region_6', 'TrafficType_15', 'TrafficType_19', 'TrafficType_4', 'Browser_5', 'TrafficType_6', 'Month_Jul', 'TrafficType_7', 'TrafficType_9', 'Browser_13']\n",
      "M32 subset score (3.): 0.8802979550670195\n",
      "............\n",
      "Best model (M33) with 33 features: ['PageValues', 'ExitRates', 'BounceRates', 'Month_Oct', 'VisitorType_Other', 'TrafficType_5', 'OperatingSystems_1', 'Browser_3', 'Browser_7', 'Browser_8', 'Month_Aug', 'Month_Sep', 'OperatingSystems_4', 'Month_Feb', 'Region_3', 'Browser_4', 'Region_7', 'TrafficType_11', 'TrafficType_10', 'OperatingSystems_6', 'OperatingSystems_8', 'Region_5', 'Region_6', 'TrafficType_15', 'TrafficType_19', 'TrafficType_4', 'Browser_5', 'TrafficType_6', 'Month_Jul', 'TrafficType_7', 'TrafficType_9', 'Browser_13', 'Browser_10']\n",
      "M33 subset score (3.): 0.8802979550670195\n",
      "............\n",
      "Best model (M34) with 34 features: ['PageValues', 'ExitRates', 'BounceRates', 'Month_Oct', 'VisitorType_Other', 'TrafficType_5', 'OperatingSystems_1', 'Browser_3', 'Browser_7', 'Browser_8', 'Month_Aug', 'Month_Sep', 'OperatingSystems_4', 'Month_Feb', 'Region_3', 'Browser_4', 'Region_7', 'TrafficType_11', 'TrafficType_10', 'OperatingSystems_6', 'OperatingSystems_8', 'Region_5', 'Region_6', 'TrafficType_15', 'TrafficType_19', 'TrafficType_4', 'Browser_5', 'TrafficType_6', 'Month_Jul', 'TrafficType_7', 'TrafficType_9', 'Browser_13', 'Browser_10', 'Month_Mar']\n",
      "M34 subset score (3.): 0.8807305044362913\n",
      "............\n",
      "Best model (M35) with 35 features: ['PageValues', 'ExitRates', 'BounceRates', 'Month_Oct', 'VisitorType_Other', 'TrafficType_5', 'OperatingSystems_1', 'Browser_3', 'Browser_7', 'Browser_8', 'Month_Aug', 'Month_Sep', 'OperatingSystems_4', 'Month_Feb', 'Region_3', 'Browser_4', 'Region_7', 'TrafficType_11', 'TrafficType_10', 'OperatingSystems_6', 'OperatingSystems_8', 'Region_5', 'Region_6', 'TrafficType_15', 'TrafficType_19', 'TrafficType_4', 'Browser_5', 'TrafficType_6', 'Month_Jul', 'TrafficType_7', 'TrafficType_9', 'Browser_13', 'Browser_10', 'Month_Mar', 'TrafficType_8']\n",
      "M35 subset score (3.): 0.8808386710128191\n",
      "............\n",
      "Best model (M36) with 36 features: ['PageValues', 'ExitRates', 'BounceRates', 'Month_Oct', 'VisitorType_Other', 'TrafficType_5', 'OperatingSystems_1', 'Browser_3', 'Browser_7', 'Browser_8', 'Month_Aug', 'Month_Sep', 'OperatingSystems_4', 'Month_Feb', 'Region_3', 'Browser_4', 'Region_7', 'TrafficType_11', 'TrafficType_10', 'OperatingSystems_6', 'OperatingSystems_8', 'Region_5', 'Region_6', 'TrafficType_15', 'TrafficType_19', 'TrafficType_4', 'Browser_5', 'TrafficType_6', 'Month_Jul', 'TrafficType_7', 'TrafficType_9', 'Browser_13', 'Browser_10', 'Month_Mar', 'TrafficType_8', 'Region_2']\n",
      "M36 subset score (3.): 0.8806224547966031\n",
      "............\n",
      "Best model (M37) with 37 features: ['PageValues', 'ExitRates', 'BounceRates', 'Month_Oct', 'VisitorType_Other', 'TrafficType_5', 'OperatingSystems_1', 'Browser_3', 'Browser_7', 'Browser_8', 'Month_Aug', 'Month_Sep', 'OperatingSystems_4', 'Month_Feb', 'Region_3', 'Browser_4', 'Region_7', 'TrafficType_11', 'TrafficType_10', 'OperatingSystems_6', 'OperatingSystems_8', 'Region_5', 'Region_6', 'TrafficType_15', 'TrafficType_19', 'TrafficType_4', 'Browser_5', 'TrafficType_6', 'Month_Jul', 'TrafficType_7', 'TrafficType_9', 'Browser_13', 'Browser_10', 'Month_Mar', 'TrafficType_8', 'Region_2', 'Browser_2']\n",
      "M37 subset score (3.): 0.8806224547966031\n",
      "............\n",
      "Best model (M38) with 38 features: ['PageValues', 'ExitRates', 'BounceRates', 'Month_Oct', 'VisitorType_Other', 'TrafficType_5', 'OperatingSystems_1', 'Browser_3', 'Browser_7', 'Browser_8', 'Month_Aug', 'Month_Sep', 'OperatingSystems_4', 'Month_Feb', 'Region_3', 'Browser_4', 'Region_7', 'TrafficType_11', 'TrafficType_10', 'OperatingSystems_6', 'OperatingSystems_8', 'Region_5', 'Region_6', 'TrafficType_15', 'TrafficType_19', 'TrafficType_4', 'Browser_5', 'TrafficType_6', 'Month_Jul', 'TrafficType_7', 'TrafficType_9', 'Browser_13', 'Browser_10', 'Month_Mar', 'TrafficType_8', 'Region_2', 'Browser_2', 'Month_June']\n",
      "M38 subset score (3.): 0.8806224547966031\n",
      "............\n",
      "Best model (M39) with 39 features: ['PageValues', 'ExitRates', 'BounceRates', 'Month_Oct', 'VisitorType_Other', 'TrafficType_5', 'OperatingSystems_1', 'Browser_3', 'Browser_7', 'Browser_8', 'Month_Aug', 'Month_Sep', 'OperatingSystems_4', 'Month_Feb', 'Region_3', 'Browser_4', 'Region_7', 'TrafficType_11', 'TrafficType_10', 'OperatingSystems_6', 'OperatingSystems_8', 'Region_5', 'Region_6', 'TrafficType_15', 'TrafficType_19', 'TrafficType_4', 'Browser_5', 'TrafficType_6', 'Month_Jul', 'TrafficType_7', 'TrafficType_9', 'Browser_13', 'Browser_10', 'Month_Mar', 'TrafficType_8', 'Region_2', 'Browser_2', 'Month_June', 'TrafficType_13']\n",
      "M39 subset score (3.): 0.8807305044362913\n",
      "............\n",
      "Best model (M40) with 40 features: ['PageValues', 'ExitRates', 'BounceRates', 'Month_Oct', 'VisitorType_Other', 'TrafficType_5', 'OperatingSystems_1', 'Browser_3', 'Browser_7', 'Browser_8', 'Month_Aug', 'Month_Sep', 'OperatingSystems_4', 'Month_Feb', 'Region_3', 'Browser_4', 'Region_7', 'TrafficType_11', 'TrafficType_10', 'OperatingSystems_6', 'OperatingSystems_8', 'Region_5', 'Region_6', 'TrafficType_15', 'TrafficType_19', 'TrafficType_4', 'Browser_5', 'TrafficType_6', 'Month_Jul', 'TrafficType_7', 'TrafficType_9', 'Browser_13', 'Browser_10', 'Month_Mar', 'TrafficType_8', 'Region_2', 'Browser_2', 'Month_June', 'TrafficType_13', 'Region_4']\n",
      "M40 subset score (3.): 0.8807304459678716\n",
      "............\n",
      "Best model (M41) with 41 features: ['PageValues', 'ExitRates', 'BounceRates', 'Month_Oct', 'VisitorType_Other', 'TrafficType_5', 'OperatingSystems_1', 'Browser_3', 'Browser_7', 'Browser_8', 'Month_Aug', 'Month_Sep', 'OperatingSystems_4', 'Month_Feb', 'Region_3', 'Browser_4', 'Region_7', 'TrafficType_11', 'TrafficType_10', 'OperatingSystems_6', 'OperatingSystems_8', 'Region_5', 'Region_6', 'TrafficType_15', 'TrafficType_19', 'TrafficType_4', 'Browser_5', 'TrafficType_6', 'Month_Jul', 'TrafficType_7', 'TrafficType_9', 'Browser_13', 'Browser_10', 'Month_Mar', 'TrafficType_8', 'Region_2', 'Browser_2', 'Month_June', 'TrafficType_13', 'Region_4', 'Weekend_False']\n",
      "M41 subset score (3.): 0.8805143466884949\n"
     ]
    },
    {
     "name": "stdout",
     "output_type": "stream",
     "text": [
      "............\n",
      "Best model (M42) with 42 features: ['PageValues', 'ExitRates', 'BounceRates', 'Month_Oct', 'VisitorType_Other', 'TrafficType_5', 'OperatingSystems_1', 'Browser_3', 'Browser_7', 'Browser_8', 'Month_Aug', 'Month_Sep', 'OperatingSystems_4', 'Month_Feb', 'Region_3', 'Browser_4', 'Region_7', 'TrafficType_11', 'TrafficType_10', 'OperatingSystems_6', 'OperatingSystems_8', 'Region_5', 'Region_6', 'TrafficType_15', 'TrafficType_19', 'TrafficType_4', 'Browser_5', 'TrafficType_6', 'Month_Jul', 'TrafficType_7', 'TrafficType_9', 'Browser_13', 'Browser_10', 'Month_Mar', 'TrafficType_8', 'Region_2', 'Browser_2', 'Month_June', 'TrafficType_13', 'Region_4', 'Weekend_False', 'Weekend_True']\n",
      "M42 subset score (3.): 0.8805143466884949\n",
      "............\n",
      "Best model (M43) with 43 features: ['PageValues', 'ExitRates', 'BounceRates', 'Month_Oct', 'VisitorType_Other', 'TrafficType_5', 'OperatingSystems_1', 'Browser_3', 'Browser_7', 'Browser_8', 'Month_Aug', 'Month_Sep', 'OperatingSystems_4', 'Month_Feb', 'Region_3', 'Browser_4', 'Region_7', 'TrafficType_11', 'TrafficType_10', 'OperatingSystems_6', 'OperatingSystems_8', 'Region_5', 'Region_6', 'TrafficType_15', 'TrafficType_19', 'TrafficType_4', 'Browser_5', 'TrafficType_6', 'Month_Jul', 'TrafficType_7', 'TrafficType_9', 'Browser_13', 'Browser_10', 'Month_Mar', 'TrafficType_8', 'Region_2', 'Browser_2', 'Month_June', 'TrafficType_13', 'Region_4', 'Weekend_False', 'Weekend_True', 'Browser_1']\n",
      "M43 subset score (3.): 0.8806225132650228\n",
      "............\n",
      "Best model (M44) with 44 features: ['PageValues', 'ExitRates', 'BounceRates', 'Month_Oct', 'VisitorType_Other', 'TrafficType_5', 'OperatingSystems_1', 'Browser_3', 'Browser_7', 'Browser_8', 'Month_Aug', 'Month_Sep', 'OperatingSystems_4', 'Month_Feb', 'Region_3', 'Browser_4', 'Region_7', 'TrafficType_11', 'TrafficType_10', 'OperatingSystems_6', 'OperatingSystems_8', 'Region_5', 'Region_6', 'TrafficType_15', 'TrafficType_19', 'TrafficType_4', 'Browser_5', 'TrafficType_6', 'Month_Jul', 'TrafficType_7', 'TrafficType_9', 'Browser_13', 'Browser_10', 'Month_Mar', 'TrafficType_8', 'Region_2', 'Browser_2', 'Month_June', 'TrafficType_13', 'Region_4', 'Weekend_False', 'Weekend_True', 'Browser_1', 'Browser_6']\n",
      "M44 subset score (3.): 0.8806225132650228\n",
      "............\n",
      "Best model (M45) with 45 features: ['PageValues', 'ExitRates', 'BounceRates', 'Month_Oct', 'VisitorType_Other', 'TrafficType_5', 'OperatingSystems_1', 'Browser_3', 'Browser_7', 'Browser_8', 'Month_Aug', 'Month_Sep', 'OperatingSystems_4', 'Month_Feb', 'Region_3', 'Browser_4', 'Region_7', 'TrafficType_11', 'TrafficType_10', 'OperatingSystems_6', 'OperatingSystems_8', 'Region_5', 'Region_6', 'TrafficType_15', 'TrafficType_19', 'TrafficType_4', 'Browser_5', 'TrafficType_6', 'Month_Jul', 'TrafficType_7', 'TrafficType_9', 'Browser_13', 'Browser_10', 'Month_Mar', 'TrafficType_8', 'Region_2', 'Browser_2', 'Month_June', 'TrafficType_13', 'Region_4', 'Weekend_False', 'Weekend_True', 'Browser_1', 'Browser_6', 'Region_8']\n",
      "M45 subset score (3.): 0.8804062970488065\n",
      "............\n",
      "Best model (M46) with 46 features: ['PageValues', 'ExitRates', 'BounceRates', 'Month_Oct', 'VisitorType_Other', 'TrafficType_5', 'OperatingSystems_1', 'Browser_3', 'Browser_7', 'Browser_8', 'Month_Aug', 'Month_Sep', 'OperatingSystems_4', 'Month_Feb', 'Region_3', 'Browser_4', 'Region_7', 'TrafficType_11', 'TrafficType_10', 'OperatingSystems_6', 'OperatingSystems_8', 'Region_5', 'Region_6', 'TrafficType_15', 'TrafficType_19', 'TrafficType_4', 'Browser_5', 'TrafficType_6', 'Month_Jul', 'TrafficType_7', 'TrafficType_9', 'Browser_13', 'Browser_10', 'Month_Mar', 'TrafficType_8', 'Region_2', 'Browser_2', 'Month_June', 'TrafficType_13', 'Region_4', 'Weekend_False', 'Weekend_True', 'Browser_1', 'Browser_6', 'Region_8', 'VisitorType_New_Visitor']\n",
      "M46 subset score (3.): 0.880189905427331\n",
      "............\n",
      "Best model (M47) with 47 features: ['PageValues', 'ExitRates', 'BounceRates', 'Month_Oct', 'VisitorType_Other', 'TrafficType_5', 'OperatingSystems_1', 'Browser_3', 'Browser_7', 'Browser_8', 'Month_Aug', 'Month_Sep', 'OperatingSystems_4', 'Month_Feb', 'Region_3', 'Browser_4', 'Region_7', 'TrafficType_11', 'TrafficType_10', 'OperatingSystems_6', 'OperatingSystems_8', 'Region_5', 'Region_6', 'TrafficType_15', 'TrafficType_19', 'TrafficType_4', 'Browser_5', 'TrafficType_6', 'Month_Jul', 'TrafficType_7', 'TrafficType_9', 'Browser_13', 'Browser_10', 'Month_Mar', 'TrafficType_8', 'Region_2', 'Browser_2', 'Month_June', 'TrafficType_13', 'Region_4', 'Weekend_False', 'Weekend_True', 'Browser_1', 'Browser_6', 'Region_8', 'VisitorType_New_Visitor', 'Informational_Duration']\n",
      "M47 subset score (3.): 0.8804063555172263\n",
      "............\n",
      "Best model (M48) with 48 features: ['PageValues', 'ExitRates', 'BounceRates', 'Month_Oct', 'VisitorType_Other', 'TrafficType_5', 'OperatingSystems_1', 'Browser_3', 'Browser_7', 'Browser_8', 'Month_Aug', 'Month_Sep', 'OperatingSystems_4', 'Month_Feb', 'Region_3', 'Browser_4', 'Region_7', 'TrafficType_11', 'TrafficType_10', 'OperatingSystems_6', 'OperatingSystems_8', 'Region_5', 'Region_6', 'TrafficType_15', 'TrafficType_19', 'TrafficType_4', 'Browser_5', 'TrafficType_6', 'Month_Jul', 'TrafficType_7', 'TrafficType_9', 'Browser_13', 'Browser_10', 'Month_Mar', 'TrafficType_8', 'Region_2', 'Browser_2', 'Month_June', 'TrafficType_13', 'Region_4', 'Weekend_False', 'Weekend_True', 'Browser_1', 'Browser_6', 'Region_8', 'VisitorType_New_Visitor', 'Informational_Duration', 'VisitorType_Returning_Visitor']\n",
      "M48 subset score (3.): 0.8804063555172263\n",
      "............\n",
      "Best model (M49) with 49 features: ['PageValues', 'ExitRates', 'BounceRates', 'Month_Oct', 'VisitorType_Other', 'TrafficType_5', 'OperatingSystems_1', 'Browser_3', 'Browser_7', 'Browser_8', 'Month_Aug', 'Month_Sep', 'OperatingSystems_4', 'Month_Feb', 'Region_3', 'Browser_4', 'Region_7', 'TrafficType_11', 'TrafficType_10', 'OperatingSystems_6', 'OperatingSystems_8', 'Region_5', 'Region_6', 'TrafficType_15', 'TrafficType_19', 'TrafficType_4', 'Browser_5', 'TrafficType_6', 'Month_Jul', 'TrafficType_7', 'TrafficType_9', 'Browser_13', 'Browser_10', 'Month_Mar', 'TrafficType_8', 'Region_2', 'Browser_2', 'Month_June', 'TrafficType_13', 'Region_4', 'Weekend_False', 'Weekend_True', 'Browser_1', 'Browser_6', 'Region_8', 'VisitorType_New_Visitor', 'Informational_Duration', 'VisitorType_Returning_Visitor', 'OperatingSystems_2']\n",
      "M49 subset score (3.): 0.8801899638957508\n",
      "............\n",
      "Best model (M50) with 50 features: ['PageValues', 'ExitRates', 'BounceRates', 'Month_Oct', 'VisitorType_Other', 'TrafficType_5', 'OperatingSystems_1', 'Browser_3', 'Browser_7', 'Browser_8', 'Month_Aug', 'Month_Sep', 'OperatingSystems_4', 'Month_Feb', 'Region_3', 'Browser_4', 'Region_7', 'TrafficType_11', 'TrafficType_10', 'OperatingSystems_6', 'OperatingSystems_8', 'Region_5', 'Region_6', 'TrafficType_15', 'TrafficType_19', 'TrafficType_4', 'Browser_5', 'TrafficType_6', 'Month_Jul', 'TrafficType_7', 'TrafficType_9', 'Browser_13', 'Browser_10', 'Month_Mar', 'TrafficType_8', 'Region_2', 'Browser_2', 'Month_June', 'TrafficType_13', 'Region_4', 'Weekend_False', 'Weekend_True', 'Browser_1', 'Browser_6', 'Region_8', 'VisitorType_New_Visitor', 'Informational_Duration', 'VisitorType_Returning_Visitor', 'OperatingSystems_2', 'Month_Dec']\n",
      "M50 subset score (3.): 0.8805141712832356\n",
      "............\n",
      "Best model (M51) with 51 features: ['PageValues', 'ExitRates', 'BounceRates', 'Month_Oct', 'VisitorType_Other', 'TrafficType_5', 'OperatingSystems_1', 'Browser_3', 'Browser_7', 'Browser_8', 'Month_Aug', 'Month_Sep', 'OperatingSystems_4', 'Month_Feb', 'Region_3', 'Browser_4', 'Region_7', 'TrafficType_11', 'TrafficType_10', 'OperatingSystems_6', 'OperatingSystems_8', 'Region_5', 'Region_6', 'TrafficType_15', 'TrafficType_19', 'TrafficType_4', 'Browser_5', 'TrafficType_6', 'Month_Jul', 'TrafficType_7', 'TrafficType_9', 'Browser_13', 'Browser_10', 'Month_Mar', 'TrafficType_8', 'Region_2', 'Browser_2', 'Month_June', 'TrafficType_13', 'Region_4', 'Weekend_False', 'Weekend_True', 'Browser_1', 'Browser_6', 'Region_8', 'VisitorType_New_Visitor', 'Informational_Duration', 'VisitorType_Returning_Visitor', 'OperatingSystems_2', 'Month_Dec', 'TrafficType_20']\n",
      "M51 subset score (3.): 0.8802979550670195\n"
     ]
    },
    {
     "name": "stdout",
     "output_type": "stream",
     "text": [
      "............\n",
      "Best model (M52) with 52 features: ['PageValues', 'ExitRates', 'BounceRates', 'Month_Oct', 'VisitorType_Other', 'TrafficType_5', 'OperatingSystems_1', 'Browser_3', 'Browser_7', 'Browser_8', 'Month_Aug', 'Month_Sep', 'OperatingSystems_4', 'Month_Feb', 'Region_3', 'Browser_4', 'Region_7', 'TrafficType_11', 'TrafficType_10', 'OperatingSystems_6', 'OperatingSystems_8', 'Region_5', 'Region_6', 'TrafficType_15', 'TrafficType_19', 'TrafficType_4', 'Browser_5', 'TrafficType_6', 'Month_Jul', 'TrafficType_7', 'TrafficType_9', 'Browser_13', 'Browser_10', 'Month_Mar', 'TrafficType_8', 'Region_2', 'Browser_2', 'Month_June', 'TrafficType_13', 'Region_4', 'Weekend_False', 'Weekend_True', 'Browser_1', 'Browser_6', 'Region_8', 'VisitorType_New_Visitor', 'Informational_Duration', 'VisitorType_Returning_Visitor', 'OperatingSystems_2', 'Month_Dec', 'TrafficType_20', 'TrafficType_1']\n",
      "M52 subset score (3.): 0.8802978965985997\n",
      "............\n",
      "Best model (M53) with 53 features: ['PageValues', 'ExitRates', 'BounceRates', 'Month_Oct', 'VisitorType_Other', 'TrafficType_5', 'OperatingSystems_1', 'Browser_3', 'Browser_7', 'Browser_8', 'Month_Aug', 'Month_Sep', 'OperatingSystems_4', 'Month_Feb', 'Region_3', 'Browser_4', 'Region_7', 'TrafficType_11', 'TrafficType_10', 'OperatingSystems_6', 'OperatingSystems_8', 'Region_5', 'Region_6', 'TrafficType_15', 'TrafficType_19', 'TrafficType_4', 'Browser_5', 'TrafficType_6', 'Month_Jul', 'TrafficType_7', 'TrafficType_9', 'Browser_13', 'Browser_10', 'Month_Mar', 'TrafficType_8', 'Region_2', 'Browser_2', 'Month_June', 'TrafficType_13', 'Region_4', 'Weekend_False', 'Weekend_True', 'Browser_1', 'Browser_6', 'Region_8', 'VisitorType_New_Visitor', 'Informational_Duration', 'VisitorType_Returning_Visitor', 'OperatingSystems_2', 'Month_Dec', 'TrafficType_20', 'TrafficType_1', 'OperatingSystems_3']\n",
      "M53 subset score (3.): 0.8802978965985997\n",
      "............\n",
      "Best model (M54) with 54 features: ['PageValues', 'ExitRates', 'BounceRates', 'Month_Oct', 'VisitorType_Other', 'TrafficType_5', 'OperatingSystems_1', 'Browser_3', 'Browser_7', 'Browser_8', 'Month_Aug', 'Month_Sep', 'OperatingSystems_4', 'Month_Feb', 'Region_3', 'Browser_4', 'Region_7', 'TrafficType_11', 'TrafficType_10', 'OperatingSystems_6', 'OperatingSystems_8', 'Region_5', 'Region_6', 'TrafficType_15', 'TrafficType_19', 'TrafficType_4', 'Browser_5', 'TrafficType_6', 'Month_Jul', 'TrafficType_7', 'TrafficType_9', 'Browser_13', 'Browser_10', 'Month_Mar', 'TrafficType_8', 'Region_2', 'Browser_2', 'Month_June', 'TrafficType_13', 'Region_4', 'Weekend_False', 'Weekend_True', 'Browser_1', 'Browser_6', 'Region_8', 'VisitorType_New_Visitor', 'Informational_Duration', 'VisitorType_Returning_Visitor', 'OperatingSystems_2', 'Month_Dec', 'TrafficType_20', 'TrafficType_1', 'OperatingSystems_3', 'Administrative_Duration']\n",
      "M54 subset score (3.): 0.8800816219139638\n",
      "............\n",
      "Best model (M55) with 55 features: ['PageValues', 'ExitRates', 'BounceRates', 'Month_Oct', 'VisitorType_Other', 'TrafficType_5', 'OperatingSystems_1', 'Browser_3', 'Browser_7', 'Browser_8', 'Month_Aug', 'Month_Sep', 'OperatingSystems_4', 'Month_Feb', 'Region_3', 'Browser_4', 'Region_7', 'TrafficType_11', 'TrafficType_10', 'OperatingSystems_6', 'OperatingSystems_8', 'Region_5', 'Region_6', 'TrafficType_15', 'TrafficType_19', 'TrafficType_4', 'Browser_5', 'TrafficType_6', 'Month_Jul', 'TrafficType_7', 'TrafficType_9', 'Browser_13', 'Browser_10', 'Month_Mar', 'TrafficType_8', 'Region_2', 'Browser_2', 'Month_June', 'TrafficType_13', 'Region_4', 'Weekend_False', 'Weekend_True', 'Browser_1', 'Browser_6', 'Region_8', 'VisitorType_New_Visitor', 'Informational_Duration', 'VisitorType_Returning_Visitor', 'OperatingSystems_2', 'Month_Dec', 'TrafficType_20', 'TrafficType_1', 'OperatingSystems_3', 'Administrative_Duration', 'Informational']\n",
      "M55 subset score (3.): 0.8799734553374359\n",
      "............\n",
      "Best model (M56) with 56 features: ['PageValues', 'ExitRates', 'BounceRates', 'Month_Oct', 'VisitorType_Other', 'TrafficType_5', 'OperatingSystems_1', 'Browser_3', 'Browser_7', 'Browser_8', 'Month_Aug', 'Month_Sep', 'OperatingSystems_4', 'Month_Feb', 'Region_3', 'Browser_4', 'Region_7', 'TrafficType_11', 'TrafficType_10', 'OperatingSystems_6', 'OperatingSystems_8', 'Region_5', 'Region_6', 'TrafficType_15', 'TrafficType_19', 'TrafficType_4', 'Browser_5', 'TrafficType_6', 'Month_Jul', 'TrafficType_7', 'TrafficType_9', 'Browser_13', 'Browser_10', 'Month_Mar', 'TrafficType_8', 'Region_2', 'Browser_2', 'Month_June', 'TrafficType_13', 'Region_4', 'Weekend_False', 'Weekend_True', 'Browser_1', 'Browser_6', 'Region_8', 'VisitorType_New_Visitor', 'Informational_Duration', 'VisitorType_Returning_Visitor', 'OperatingSystems_2', 'Month_Dec', 'TrafficType_20', 'TrafficType_1', 'OperatingSystems_3', 'Administrative_Duration', 'Informational', 'SpecialDay']\n",
      "M56 subset score (3.): 0.879865288760908\n",
      "............\n",
      "Best model (M57) with 57 features: ['PageValues', 'ExitRates', 'BounceRates', 'Month_Oct', 'VisitorType_Other', 'TrafficType_5', 'OperatingSystems_1', 'Browser_3', 'Browser_7', 'Browser_8', 'Month_Aug', 'Month_Sep', 'OperatingSystems_4', 'Month_Feb', 'Region_3', 'Browser_4', 'Region_7', 'TrafficType_11', 'TrafficType_10', 'OperatingSystems_6', 'OperatingSystems_8', 'Region_5', 'Region_6', 'TrafficType_15', 'TrafficType_19', 'TrafficType_4', 'Browser_5', 'TrafficType_6', 'Month_Jul', 'TrafficType_7', 'TrafficType_9', 'Browser_13', 'Browser_10', 'Month_Mar', 'TrafficType_8', 'Region_2', 'Browser_2', 'Month_June', 'TrafficType_13', 'Region_4', 'Weekend_False', 'Weekend_True', 'Browser_1', 'Browser_6', 'Region_8', 'VisitorType_New_Visitor', 'Informational_Duration', 'VisitorType_Returning_Visitor', 'OperatingSystems_2', 'Month_Dec', 'TrafficType_20', 'TrafficType_1', 'OperatingSystems_3', 'Administrative_Duration', 'Informational', 'SpecialDay', 'Administrative']\n",
      "M57 subset score (3.): 0.8797570637159604\n",
      "............\n",
      "Best model (M58) with 58 features: ['PageValues', 'ExitRates', 'BounceRates', 'Month_Oct', 'VisitorType_Other', 'TrafficType_5', 'OperatingSystems_1', 'Browser_3', 'Browser_7', 'Browser_8', 'Month_Aug', 'Month_Sep', 'OperatingSystems_4', 'Month_Feb', 'Region_3', 'Browser_4', 'Region_7', 'TrafficType_11', 'TrafficType_10', 'OperatingSystems_6', 'OperatingSystems_8', 'Region_5', 'Region_6', 'TrafficType_15', 'TrafficType_19', 'TrafficType_4', 'Browser_5', 'TrafficType_6', 'Month_Jul', 'TrafficType_7', 'TrafficType_9', 'Browser_13', 'Browser_10', 'Month_Mar', 'TrafficType_8', 'Region_2', 'Browser_2', 'Month_June', 'TrafficType_13', 'Region_4', 'Weekend_False', 'Weekend_True', 'Browser_1', 'Browser_6', 'Region_8', 'VisitorType_New_Visitor', 'Informational_Duration', 'VisitorType_Returning_Visitor', 'OperatingSystems_2', 'Month_Dec', 'TrafficType_20', 'TrafficType_1', 'OperatingSystems_3', 'Administrative_Duration', 'Informational', 'SpecialDay', 'Administrative', 'Month_May']\n",
      "M58 subset score (3.): 0.8786759241664596\n",
      "............\n",
      "Best model (M59) with 59 features: ['PageValues', 'ExitRates', 'BounceRates', 'Month_Oct', 'VisitorType_Other', 'TrafficType_5', 'OperatingSystems_1', 'Browser_3', 'Browser_7', 'Browser_8', 'Month_Aug', 'Month_Sep', 'OperatingSystems_4', 'Month_Feb', 'Region_3', 'Browser_4', 'Region_7', 'TrafficType_11', 'TrafficType_10', 'OperatingSystems_6', 'OperatingSystems_8', 'Region_5', 'Region_6', 'TrafficType_15', 'TrafficType_19', 'TrafficType_4', 'Browser_5', 'TrafficType_6', 'Month_Jul', 'TrafficType_7', 'TrafficType_9', 'Browser_13', 'Browser_10', 'Month_Mar', 'TrafficType_8', 'Region_2', 'Browser_2', 'Month_June', 'TrafficType_13', 'Region_4', 'Weekend_False', 'Weekend_True', 'Browser_1', 'Browser_6', 'Region_8', 'VisitorType_New_Visitor', 'Informational_Duration', 'VisitorType_Returning_Visitor', 'OperatingSystems_2', 'Month_Dec', 'TrafficType_20', 'TrafficType_1', 'OperatingSystems_3', 'Administrative_Duration', 'Informational', 'SpecialDay', 'Administrative', 'Month_May', 'ProductRelated_Duration']\n",
      "M59 subset score (3.): 0.879000248490784\n",
      "............\n",
      "Best model (M60) with 60 features: ['PageValues', 'ExitRates', 'BounceRates', 'Month_Oct', 'VisitorType_Other', 'TrafficType_5', 'OperatingSystems_1', 'Browser_3', 'Browser_7', 'Browser_8', 'Month_Aug', 'Month_Sep', 'OperatingSystems_4', 'Month_Feb', 'Region_3', 'Browser_4', 'Region_7', 'TrafficType_11', 'TrafficType_10', 'OperatingSystems_6', 'OperatingSystems_8', 'Region_5', 'Region_6', 'TrafficType_15', 'TrafficType_19', 'TrafficType_4', 'Browser_5', 'TrafficType_6', 'Month_Jul', 'TrafficType_7', 'TrafficType_9', 'Browser_13', 'Browser_10', 'Month_Mar', 'TrafficType_8', 'Region_2', 'Browser_2', 'Month_June', 'TrafficType_13', 'Region_4', 'Weekend_False', 'Weekend_True', 'Browser_1', 'Browser_6', 'Region_8', 'VisitorType_New_Visitor', 'Informational_Duration', 'VisitorType_Returning_Visitor', 'OperatingSystems_2', 'Month_Dec', 'TrafficType_20', 'TrafficType_1', 'OperatingSystems_3', 'Administrative_Duration', 'Informational', 'SpecialDay', 'Administrative', 'Month_May', 'ProductRelated_Duration', 'Month_Nov']\n",
      "M60 subset score (3.): 0.879000248490784\n"
     ]
    },
    {
     "name": "stdout",
     "output_type": "stream",
     "text": [
      "............\n",
      "Best model (M61) with 61 features: ['PageValues', 'ExitRates', 'BounceRates', 'Month_Oct', 'VisitorType_Other', 'TrafficType_5', 'OperatingSystems_1', 'Browser_3', 'Browser_7', 'Browser_8', 'Month_Aug', 'Month_Sep', 'OperatingSystems_4', 'Month_Feb', 'Region_3', 'Browser_4', 'Region_7', 'TrafficType_11', 'TrafficType_10', 'OperatingSystems_6', 'OperatingSystems_8', 'Region_5', 'Region_6', 'TrafficType_15', 'TrafficType_19', 'TrafficType_4', 'Browser_5', 'TrafficType_6', 'Month_Jul', 'TrafficType_7', 'TrafficType_9', 'Browser_13', 'Browser_10', 'Month_Mar', 'TrafficType_8', 'Region_2', 'Browser_2', 'Month_June', 'TrafficType_13', 'Region_4', 'Weekend_False', 'Weekend_True', 'Browser_1', 'Browser_6', 'Region_8', 'VisitorType_New_Visitor', 'Informational_Duration', 'VisitorType_Returning_Visitor', 'OperatingSystems_2', 'Month_Dec', 'TrafficType_20', 'TrafficType_1', 'OperatingSystems_3', 'Administrative_Duration', 'Informational', 'SpecialDay', 'Administrative', 'Month_May', 'ProductRelated_Duration', 'Month_Nov', 'ProductRelated']\n",
      "M61 subset score (3.): 0.8792166401122593\n",
      "............\n",
      "Best model (M62) with 62 features: ['PageValues', 'ExitRates', 'BounceRates', 'Month_Oct', 'VisitorType_Other', 'TrafficType_5', 'OperatingSystems_1', 'Browser_3', 'Browser_7', 'Browser_8', 'Month_Aug', 'Month_Sep', 'OperatingSystems_4', 'Month_Feb', 'Region_3', 'Browser_4', 'Region_7', 'TrafficType_11', 'TrafficType_10', 'OperatingSystems_6', 'OperatingSystems_8', 'Region_5', 'Region_6', 'TrafficType_15', 'TrafficType_19', 'TrafficType_4', 'Browser_5', 'TrafficType_6', 'Month_Jul', 'TrafficType_7', 'TrafficType_9', 'Browser_13', 'Browser_10', 'Month_Mar', 'TrafficType_8', 'Region_2', 'Browser_2', 'Month_June', 'TrafficType_13', 'Region_4', 'Weekend_False', 'Weekend_True', 'Browser_1', 'Browser_6', 'Region_8', 'VisitorType_New_Visitor', 'Informational_Duration', 'VisitorType_Returning_Visitor', 'OperatingSystems_2', 'Month_Dec', 'TrafficType_20', 'TrafficType_1', 'OperatingSystems_3', 'Administrative_Duration', 'Informational', 'SpecialDay', 'Administrative', 'Month_May', 'ProductRelated_Duration', 'Month_Nov', 'ProductRelated', 'TrafficType_2']\n",
      "M62 subset score (3.): 0.87867580722962\n",
      "............\n",
      "Best model (M63) with 63 features: ['PageValues', 'ExitRates', 'BounceRates', 'Month_Oct', 'VisitorType_Other', 'TrafficType_5', 'OperatingSystems_1', 'Browser_3', 'Browser_7', 'Browser_8', 'Month_Aug', 'Month_Sep', 'OperatingSystems_4', 'Month_Feb', 'Region_3', 'Browser_4', 'Region_7', 'TrafficType_11', 'TrafficType_10', 'OperatingSystems_6', 'OperatingSystems_8', 'Region_5', 'Region_6', 'TrafficType_15', 'TrafficType_19', 'TrafficType_4', 'Browser_5', 'TrafficType_6', 'Month_Jul', 'TrafficType_7', 'TrafficType_9', 'Browser_13', 'Browser_10', 'Month_Mar', 'TrafficType_8', 'Region_2', 'Browser_2', 'Month_June', 'TrafficType_13', 'Region_4', 'Weekend_False', 'Weekend_True', 'Browser_1', 'Browser_6', 'Region_8', 'VisitorType_New_Visitor', 'Informational_Duration', 'VisitorType_Returning_Visitor', 'OperatingSystems_2', 'Month_Dec', 'TrafficType_20', 'TrafficType_1', 'OperatingSystems_3', 'Administrative_Duration', 'Informational', 'SpecialDay', 'Administrative', 'Month_May', 'ProductRelated_Duration', 'Month_Nov', 'ProductRelated', 'TrafficType_2', 'Region_1']\n",
      "M63 subset score (3.): 0.8784596494818235\n",
      "............\n",
      "Best model (M64) with 64 features: ['PageValues', 'ExitRates', 'BounceRates', 'Month_Oct', 'VisitorType_Other', 'TrafficType_5', 'OperatingSystems_1', 'Browser_3', 'Browser_7', 'Browser_8', 'Month_Aug', 'Month_Sep', 'OperatingSystems_4', 'Month_Feb', 'Region_3', 'Browser_4', 'Region_7', 'TrafficType_11', 'TrafficType_10', 'OperatingSystems_6', 'OperatingSystems_8', 'Region_5', 'Region_6', 'TrafficType_15', 'TrafficType_19', 'TrafficType_4', 'Browser_5', 'TrafficType_6', 'Month_Jul', 'TrafficType_7', 'TrafficType_9', 'Browser_13', 'Browser_10', 'Month_Mar', 'TrafficType_8', 'Region_2', 'Browser_2', 'Month_June', 'TrafficType_13', 'Region_4', 'Weekend_False', 'Weekend_True', 'Browser_1', 'Browser_6', 'Region_8', 'VisitorType_New_Visitor', 'Informational_Duration', 'VisitorType_Returning_Visitor', 'OperatingSystems_2', 'Month_Dec', 'TrafficType_20', 'TrafficType_1', 'OperatingSystems_3', 'Administrative_Duration', 'Informational', 'SpecialDay', 'Administrative', 'Month_May', 'ProductRelated_Duration', 'Month_Nov', 'ProductRelated', 'TrafficType_2', 'Region_1', 'Region_9']\n",
      "M64 subset score (3.): 0.8784596494818235\n",
      "............\n",
      "Best model (M65) with 65 features: ['PageValues', 'ExitRates', 'BounceRates', 'Month_Oct', 'VisitorType_Other', 'TrafficType_5', 'OperatingSystems_1', 'Browser_3', 'Browser_7', 'Browser_8', 'Month_Aug', 'Month_Sep', 'OperatingSystems_4', 'Month_Feb', 'Region_3', 'Browser_4', 'Region_7', 'TrafficType_11', 'TrafficType_10', 'OperatingSystems_6', 'OperatingSystems_8', 'Region_5', 'Region_6', 'TrafficType_15', 'TrafficType_19', 'TrafficType_4', 'Browser_5', 'TrafficType_6', 'Month_Jul', 'TrafficType_7', 'TrafficType_9', 'Browser_13', 'Browser_10', 'Month_Mar', 'TrafficType_8', 'Region_2', 'Browser_2', 'Month_June', 'TrafficType_13', 'Region_4', 'Weekend_False', 'Weekend_True', 'Browser_1', 'Browser_6', 'Region_8', 'VisitorType_New_Visitor', 'Informational_Duration', 'VisitorType_Returning_Visitor', 'OperatingSystems_2', 'Month_Dec', 'TrafficType_20', 'TrafficType_1', 'OperatingSystems_3', 'Administrative_Duration', 'Informational', 'SpecialDay', 'Administrative', 'Month_May', 'ProductRelated_Duration', 'Month_Nov', 'ProductRelated', 'TrafficType_2', 'Region_1', 'Region_9', 'TrafficType_3']\n",
      "M65 subset score (3.): 0.8784596494818235\n",
      "\n",
      " Best configuration has 26 features\n",
      "Features: ['PageValues', 'ExitRates', 'BounceRates', 'Month_Oct', 'VisitorType_Other', 'TrafficType_5', 'OperatingSystems_1', 'Browser_3', 'Browser_7', 'Browser_8', 'Month_Aug', 'Month_Sep', 'OperatingSystems_4', 'Month_Feb', 'Region_3', 'Browser_4', 'Region_7', 'TrafficType_11', 'TrafficType_10', 'OperatingSystems_6', 'OperatingSystems_8', 'Region_5', 'Region_6', 'TrafficType_15', 'TrafficType_19', 'TrafficType_4']\n",
      "Total number of trained models: 2470\n"
     ]
    },
    {
     "data": {
      "image/png": "[encoded data removed]",
      "text/plain": [
       "<Figure size 640x480 with 1 Axes>"
      ]
     },
     "metadata": {},
     "output_type": "display_data"
    },
    {
     "data": {
      "image/png": "[encoded data removed]",
      "text/plain": [
       "<Figure size 640x480 with 1 Axes>"
      ]
     },
     "metadata": {},
     "output_type": "display_data"
    }
   ],
   "source": [
    "cv = 5\n",
    "#prima era 10!\n",
    "# qui sono stata costretta a togliere browser 9... Il motivo? bella domanda... ad un certo punto dava problemi\n",
    "forward_selection(X_train_scaled, y_train, X_test_scaled, y_test,\"LDA\",\n",
    "                  get_evaluator(make_scorer(accuracy)), np.argmax, # 2.\n",
    "                  get_cv_evaluator(make_scorer(accuracy), cv), np.argmax, # 3.\n",
    "                  get_cv_evaluator(make_scorer(accuracy), cv), np.argmax, # test\n",
    "                  candidates_scorer_name=\"Accuracy\",\n",
    "                  subsets_scorer_name=\"Accuracy (CV)\",\n",
    "                  verbose=True, weight_step3=cv)"
   ]
  },
  {
   "cell_type": "code",
   "execution_count": 69,
   "id": "2c2f4cd6",
   "metadata": {},
   "outputs": [
    {
     "ename": "KeyboardInterrupt",
     "evalue": "",
     "output_type": "error",
     "traceback": [
      "\u001b[1;31m---------------------------------------------------------------------------\u001b[0m",
      "\u001b[1;31mKeyboardInterrupt\u001b[0m                         Traceback (most recent call last)",
      "\u001b[1;32m~\\anaconda3\\lib\\site-packages\\sklearn\\pipeline.py\u001b[0m in \u001b[0;36mfit\u001b[1;34m(self, X, y, **fit_params)\u001b[0m\n\u001b[0;32m    393\u001b[0m                 \u001b[0mfit_params_last_step\u001b[0m \u001b[1;33m=\u001b[0m \u001b[0mfit_params_steps\u001b[0m\u001b[1;33m[\u001b[0m\u001b[0mself\u001b[0m\u001b[1;33m.\u001b[0m\u001b[0msteps\u001b[0m\u001b[1;33m[\u001b[0m\u001b[1;33m-\u001b[0m\u001b[1;36m1\u001b[0m\u001b[1;33m]\u001b[0m\u001b[1;33m[\u001b[0m\u001b[1;36m0\u001b[0m\u001b[1;33m]\u001b[0m\u001b[1;33m]\u001b[0m\u001b[1;33m\u001b[0m\u001b[1;33m\u001b[0m\u001b[0m\n\u001b[1;32m--> 394\u001b[1;33m                 \u001b[0mself\u001b[0m\u001b[1;33m.\u001b[0m\u001b[0m_final_estimator\u001b[0m\u001b[1;33m.\u001b[0m\u001b[0mfit\u001b[0m\u001b[1;33m(\u001b[0m\u001b[0mXt\u001b[0m\u001b[1;33m,\u001b[0m \u001b[0my\u001b[0m\u001b[1;33m,\u001b[0m \u001b[1;33m**\u001b[0m\u001b[0mfit_params_last_step\u001b[0m\u001b[1;33m)\u001b[0m\u001b[1;33m\u001b[0m\u001b[1;33m\u001b[0m\u001b[0m\n\u001b[0m\u001b[0;32m    395\u001b[0m \u001b[1;33m\u001b[0m\u001b[0m\n",
      "\u001b[1;32m~\\anaconda3\\lib\\site-packages\\sklearn\\discriminant_analysis.py\u001b[0m in \u001b[0;36mfit\u001b[1;34m(self, X, y)\u001b[0m\n\u001b[0;32m    589\u001b[0m                 )\n\u001b[1;32m--> 590\u001b[1;33m             \u001b[0mself\u001b[0m\u001b[1;33m.\u001b[0m\u001b[0m_solve_svd\u001b[0m\u001b[1;33m(\u001b[0m\u001b[0mX\u001b[0m\u001b[1;33m,\u001b[0m \u001b[0my\u001b[0m\u001b[1;33m)\u001b[0m\u001b[1;33m\u001b[0m\u001b[1;33m\u001b[0m\u001b[0m\n\u001b[0m\u001b[0;32m    591\u001b[0m         \u001b[1;32melif\u001b[0m \u001b[0mself\u001b[0m\u001b[1;33m.\u001b[0m\u001b[0msolver\u001b[0m \u001b[1;33m==\u001b[0m \u001b[1;34m\"lsqr\"\u001b[0m\u001b[1;33m:\u001b[0m\u001b[1;33m\u001b[0m\u001b[1;33m\u001b[0m\u001b[0m\n",
      "\u001b[1;32m~\\anaconda3\\lib\\site-packages\\sklearn\\discriminant_analysis.py\u001b[0m in \u001b[0;36m_solve_svd\u001b[1;34m(self, X, y)\u001b[0m\n\u001b[0;32m    487\u001b[0m         \u001b[1;31m# SVD of centered (within)scaled data\u001b[0m\u001b[1;33m\u001b[0m\u001b[1;33m\u001b[0m\u001b[0m\n\u001b[1;32m--> 488\u001b[1;33m         \u001b[0mU\u001b[0m\u001b[1;33m,\u001b[0m \u001b[0mS\u001b[0m\u001b[1;33m,\u001b[0m \u001b[0mVt\u001b[0m \u001b[1;33m=\u001b[0m \u001b[0mlinalg\u001b[0m\u001b[1;33m.\u001b[0m\u001b[0msvd\u001b[0m\u001b[1;33m(\u001b[0m\u001b[0mX\u001b[0m\u001b[1;33m,\u001b[0m \u001b[0mfull_matrices\u001b[0m\u001b[1;33m=\u001b[0m\u001b[1;32mFalse\u001b[0m\u001b[1;33m)\u001b[0m\u001b[1;33m\u001b[0m\u001b[1;33m\u001b[0m\u001b[0m\n\u001b[0m\u001b[0;32m    489\u001b[0m \u001b[1;33m\u001b[0m\u001b[0m\n",
      "\u001b[1;32m~\\anaconda3\\lib\\site-packages\\scipy\\linalg\\_decomp_svd.py\u001b[0m in \u001b[0;36msvd\u001b[1;34m(a, full_matrices, compute_uv, overwrite_a, check_finite, lapack_driver)\u001b[0m\n\u001b[0;32m    126\u001b[0m     \u001b[1;31m# perform decomposition\u001b[0m\u001b[1;33m\u001b[0m\u001b[1;33m\u001b[0m\u001b[0m\n\u001b[1;32m--> 127\u001b[1;33m     u, s, v, info = gesXd(a1, compute_uv=compute_uv, lwork=lwork,\n\u001b[0m\u001b[0;32m    128\u001b[0m                           full_matrices=full_matrices, overwrite_a=overwrite_a)\n",
      "\u001b[1;31mKeyboardInterrupt\u001b[0m: ",
      "\nDuring handling of the above exception, another exception occurred:\n",
      "\u001b[1;31mKeyboardInterrupt\u001b[0m                         Traceback (most recent call last)",
      "\u001b[1;32m~\\AppData\\Local\\Temp\\ipykernel_23600\\359233889.py\u001b[0m in \u001b[0;36m<module>\u001b[1;34m\u001b[0m\n\u001b[0;32m      6\u001b[0m cv = GridSearchCV(model, params, refit=True, cv=10, \n\u001b[0;32m      7\u001b[0m                   scoring=make_scorer(accuracy))\n\u001b[1;32m----> 8\u001b[1;33m \u001b[0mcv\u001b[0m\u001b[1;33m.\u001b[0m\u001b[0mfit\u001b[0m\u001b[1;33m(\u001b[0m\u001b[0mX_train_full\u001b[0m\u001b[1;33m,\u001b[0m \u001b[0my_train\u001b[0m\u001b[1;33m)\u001b[0m\u001b[1;33m\u001b[0m\u001b[1;33m\u001b[0m\u001b[0m\n\u001b[0m",
      "\u001b[1;32m~\\anaconda3\\lib\\site-packages\\sklearn\\model_selection\\_search.py\u001b[0m in \u001b[0;36mfit\u001b[1;34m(self, X, y, groups, **fit_params)\u001b[0m\n\u001b[0;32m    889\u001b[0m                 \u001b[1;32mreturn\u001b[0m \u001b[0mresults\u001b[0m\u001b[1;33m\u001b[0m\u001b[1;33m\u001b[0m\u001b[0m\n\u001b[0;32m    890\u001b[0m \u001b[1;33m\u001b[0m\u001b[0m\n\u001b[1;32m--> 891\u001b[1;33m             \u001b[0mself\u001b[0m\u001b[1;33m.\u001b[0m\u001b[0m_run_search\u001b[0m\u001b[1;33m(\u001b[0m\u001b[0mevaluate_candidates\u001b[0m\u001b[1;33m)\u001b[0m\u001b[1;33m\u001b[0m\u001b[1;33m\u001b[0m\u001b[0m\n\u001b[0m\u001b[0;32m    892\u001b[0m \u001b[1;33m\u001b[0m\u001b[0m\n\u001b[0;32m    893\u001b[0m             \u001b[1;31m# multimetric is determined here because in the case of a callable\u001b[0m\u001b[1;33m\u001b[0m\u001b[1;33m\u001b[0m\u001b[0m\n",
      "\u001b[1;32m~\\anaconda3\\lib\\site-packages\\sklearn\\model_selection\\_search.py\u001b[0m in \u001b[0;36m_run_search\u001b[1;34m(self, evaluate_candidates)\u001b[0m\n\u001b[0;32m   1390\u001b[0m     \u001b[1;32mdef\u001b[0m \u001b[0m_run_search\u001b[0m\u001b[1;33m(\u001b[0m\u001b[0mself\u001b[0m\u001b[1;33m,\u001b[0m \u001b[0mevaluate_candidates\u001b[0m\u001b[1;33m)\u001b[0m\u001b[1;33m:\u001b[0m\u001b[1;33m\u001b[0m\u001b[1;33m\u001b[0m\u001b[0m\n\u001b[0;32m   1391\u001b[0m         \u001b[1;34m\"\"\"Search all candidates in param_grid\"\"\"\u001b[0m\u001b[1;33m\u001b[0m\u001b[1;33m\u001b[0m\u001b[0m\n\u001b[1;32m-> 1392\u001b[1;33m         \u001b[0mevaluate_candidates\u001b[0m\u001b[1;33m(\u001b[0m\u001b[0mParameterGrid\u001b[0m\u001b[1;33m(\u001b[0m\u001b[0mself\u001b[0m\u001b[1;33m.\u001b[0m\u001b[0mparam_grid\u001b[0m\u001b[1;33m)\u001b[0m\u001b[1;33m)\u001b[0m\u001b[1;33m\u001b[0m\u001b[1;33m\u001b[0m\u001b[0m\n\u001b[0m\u001b[0;32m   1393\u001b[0m \u001b[1;33m\u001b[0m\u001b[0m\n\u001b[0;32m   1394\u001b[0m \u001b[1;33m\u001b[0m\u001b[0m\n",
      "\u001b[1;32m~\\anaconda3\\lib\\site-packages\\sklearn\\model_selection\\_search.py\u001b[0m in \u001b[0;36mevaluate_candidates\u001b[1;34m(candidate_params, cv, more_results)\u001b[0m\n\u001b[0;32m    836\u001b[0m                     )\n\u001b[0;32m    837\u001b[0m \u001b[1;33m\u001b[0m\u001b[0m\n\u001b[1;32m--> 838\u001b[1;33m                 out = parallel(\n\u001b[0m\u001b[0;32m    839\u001b[0m                     delayed(_fit_and_score)(\n\u001b[0;32m    840\u001b[0m                         \u001b[0mclone\u001b[0m\u001b[1;33m(\u001b[0m\u001b[0mbase_estimator\u001b[0m\u001b[1;33m)\u001b[0m\u001b[1;33m,\u001b[0m\u001b[1;33m\u001b[0m\u001b[1;33m\u001b[0m\u001b[0m\n",
      "\u001b[1;32m~\\anaconda3\\lib\\site-packages\\joblib\\parallel.py\u001b[0m in \u001b[0;36m__call__\u001b[1;34m(self, iterable)\u001b[0m\n\u001b[0;32m   1044\u001b[0m                 \u001b[0mself\u001b[0m\u001b[1;33m.\u001b[0m\u001b[0m_iterating\u001b[0m \u001b[1;33m=\u001b[0m \u001b[0mself\u001b[0m\u001b[1;33m.\u001b[0m\u001b[0m_original_iterator\u001b[0m \u001b[1;32mis\u001b[0m \u001b[1;32mnot\u001b[0m \u001b[1;32mNone\u001b[0m\u001b[1;33m\u001b[0m\u001b[1;33m\u001b[0m\u001b[0m\n\u001b[0;32m   1045\u001b[0m \u001b[1;33m\u001b[0m\u001b[0m\n\u001b[1;32m-> 1046\u001b[1;33m             \u001b[1;32mwhile\u001b[0m \u001b[0mself\u001b[0m\u001b[1;33m.\u001b[0m\u001b[0mdispatch_one_batch\u001b[0m\u001b[1;33m(\u001b[0m\u001b[0miterator\u001b[0m\u001b[1;33m)\u001b[0m\u001b[1;33m:\u001b[0m\u001b[1;33m\u001b[0m\u001b[1;33m\u001b[0m\u001b[0m\n\u001b[0m\u001b[0;32m   1047\u001b[0m                 \u001b[1;32mpass\u001b[0m\u001b[1;33m\u001b[0m\u001b[1;33m\u001b[0m\u001b[0m\n\u001b[0;32m   1048\u001b[0m \u001b[1;33m\u001b[0m\u001b[0m\n",
      "\u001b[1;32m~\\anaconda3\\lib\\site-packages\\joblib\\parallel.py\u001b[0m in \u001b[0;36mdispatch_one_batch\u001b[1;34m(self, iterator)\u001b[0m\n\u001b[0;32m    859\u001b[0m                 \u001b[1;32mreturn\u001b[0m \u001b[1;32mFalse\u001b[0m\u001b[1;33m\u001b[0m\u001b[1;33m\u001b[0m\u001b[0m\n\u001b[0;32m    860\u001b[0m             \u001b[1;32melse\u001b[0m\u001b[1;33m:\u001b[0m\u001b[1;33m\u001b[0m\u001b[1;33m\u001b[0m\u001b[0m\n\u001b[1;32m--> 861\u001b[1;33m                 \u001b[0mself\u001b[0m\u001b[1;33m.\u001b[0m\u001b[0m_dispatch\u001b[0m\u001b[1;33m(\u001b[0m\u001b[0mtasks\u001b[0m\u001b[1;33m)\u001b[0m\u001b[1;33m\u001b[0m\u001b[1;33m\u001b[0m\u001b[0m\n\u001b[0m\u001b[0;32m    862\u001b[0m                 \u001b[1;32mreturn\u001b[0m \u001b[1;32mTrue\u001b[0m\u001b[1;33m\u001b[0m\u001b[1;33m\u001b[0m\u001b[0m\n\u001b[0;32m    863\u001b[0m \u001b[1;33m\u001b[0m\u001b[0m\n",
      "\u001b[1;32m~\\anaconda3\\lib\\site-packages\\joblib\\parallel.py\u001b[0m in \u001b[0;36m_dispatch\u001b[1;34m(self, batch)\u001b[0m\n\u001b[0;32m    777\u001b[0m         \u001b[1;32mwith\u001b[0m \u001b[0mself\u001b[0m\u001b[1;33m.\u001b[0m\u001b[0m_lock\u001b[0m\u001b[1;33m:\u001b[0m\u001b[1;33m\u001b[0m\u001b[1;33m\u001b[0m\u001b[0m\n\u001b[0;32m    778\u001b[0m             \u001b[0mjob_idx\u001b[0m \u001b[1;33m=\u001b[0m \u001b[0mlen\u001b[0m\u001b[1;33m(\u001b[0m\u001b[0mself\u001b[0m\u001b[1;33m.\u001b[0m\u001b[0m_jobs\u001b[0m\u001b[1;33m)\u001b[0m\u001b[1;33m\u001b[0m\u001b[1;33m\u001b[0m\u001b[0m\n\u001b[1;32m--> 779\u001b[1;33m             \u001b[0mjob\u001b[0m \u001b[1;33m=\u001b[0m \u001b[0mself\u001b[0m\u001b[1;33m.\u001b[0m\u001b[0m_backend\u001b[0m\u001b[1;33m.\u001b[0m\u001b[0mapply_async\u001b[0m\u001b[1;33m(\u001b[0m\u001b[0mbatch\u001b[0m\u001b[1;33m,\u001b[0m \u001b[0mcallback\u001b[0m\u001b[1;33m=\u001b[0m\u001b[0mcb\u001b[0m\u001b[1;33m)\u001b[0m\u001b[1;33m\u001b[0m\u001b[1;33m\u001b[0m\u001b[0m\n\u001b[0m\u001b[0;32m    780\u001b[0m             \u001b[1;31m# A job can complete so quickly than its callback is\u001b[0m\u001b[1;33m\u001b[0m\u001b[1;33m\u001b[0m\u001b[0m\n\u001b[0;32m    781\u001b[0m             \u001b[1;31m# called before we get here, causing self._jobs to\u001b[0m\u001b[1;33m\u001b[0m\u001b[1;33m\u001b[0m\u001b[0m\n",
      "\u001b[1;32m~\\anaconda3\\lib\\site-packages\\joblib\\_parallel_backends.py\u001b[0m in \u001b[0;36mapply_async\u001b[1;34m(self, func, callback)\u001b[0m\n\u001b[0;32m    206\u001b[0m     \u001b[1;32mdef\u001b[0m \u001b[0mapply_async\u001b[0m\u001b[1;33m(\u001b[0m\u001b[0mself\u001b[0m\u001b[1;33m,\u001b[0m \u001b[0mfunc\u001b[0m\u001b[1;33m,\u001b[0m \u001b[0mcallback\u001b[0m\u001b[1;33m=\u001b[0m\u001b[1;32mNone\u001b[0m\u001b[1;33m)\u001b[0m\u001b[1;33m:\u001b[0m\u001b[1;33m\u001b[0m\u001b[1;33m\u001b[0m\u001b[0m\n\u001b[0;32m    207\u001b[0m         \u001b[1;34m\"\"\"Schedule a func to be run\"\"\"\u001b[0m\u001b[1;33m\u001b[0m\u001b[1;33m\u001b[0m\u001b[0m\n\u001b[1;32m--> 208\u001b[1;33m         \u001b[0mresult\u001b[0m \u001b[1;33m=\u001b[0m \u001b[0mImmediateResult\u001b[0m\u001b[1;33m(\u001b[0m\u001b[0mfunc\u001b[0m\u001b[1;33m)\u001b[0m\u001b[1;33m\u001b[0m\u001b[1;33m\u001b[0m\u001b[0m\n\u001b[0m\u001b[0;32m    209\u001b[0m         \u001b[1;32mif\u001b[0m \u001b[0mcallback\u001b[0m\u001b[1;33m:\u001b[0m\u001b[1;33m\u001b[0m\u001b[1;33m\u001b[0m\u001b[0m\n\u001b[0;32m    210\u001b[0m             \u001b[0mcallback\u001b[0m\u001b[1;33m(\u001b[0m\u001b[0mresult\u001b[0m\u001b[1;33m)\u001b[0m\u001b[1;33m\u001b[0m\u001b[1;33m\u001b[0m\u001b[0m\n",
      "\u001b[1;32m~\\anaconda3\\lib\\site-packages\\joblib\\_parallel_backends.py\u001b[0m in \u001b[0;36m__init__\u001b[1;34m(self, batch)\u001b[0m\n\u001b[0;32m    570\u001b[0m         \u001b[1;31m# Don't delay the application, to avoid keeping the input\u001b[0m\u001b[1;33m\u001b[0m\u001b[1;33m\u001b[0m\u001b[0m\n\u001b[0;32m    571\u001b[0m         \u001b[1;31m# arguments in memory\u001b[0m\u001b[1;33m\u001b[0m\u001b[1;33m\u001b[0m\u001b[0m\n\u001b[1;32m--> 572\u001b[1;33m         \u001b[0mself\u001b[0m\u001b[1;33m.\u001b[0m\u001b[0mresults\u001b[0m \u001b[1;33m=\u001b[0m \u001b[0mbatch\u001b[0m\u001b[1;33m(\u001b[0m\u001b[1;33m)\u001b[0m\u001b[1;33m\u001b[0m\u001b[1;33m\u001b[0m\u001b[0m\n\u001b[0m\u001b[0;32m    573\u001b[0m \u001b[1;33m\u001b[0m\u001b[0m\n\u001b[0;32m    574\u001b[0m     \u001b[1;32mdef\u001b[0m \u001b[0mget\u001b[0m\u001b[1;33m(\u001b[0m\u001b[0mself\u001b[0m\u001b[1;33m)\u001b[0m\u001b[1;33m:\u001b[0m\u001b[1;33m\u001b[0m\u001b[1;33m\u001b[0m\u001b[0m\n",
      "\u001b[1;32m~\\anaconda3\\lib\\site-packages\\joblib\\parallel.py\u001b[0m in \u001b[0;36m__call__\u001b[1;34m(self)\u001b[0m\n\u001b[0;32m    260\u001b[0m         \u001b[1;31m# change the default number of processes to -1\u001b[0m\u001b[1;33m\u001b[0m\u001b[1;33m\u001b[0m\u001b[0m\n\u001b[0;32m    261\u001b[0m         \u001b[1;32mwith\u001b[0m \u001b[0mparallel_backend\u001b[0m\u001b[1;33m(\u001b[0m\u001b[0mself\u001b[0m\u001b[1;33m.\u001b[0m\u001b[0m_backend\u001b[0m\u001b[1;33m,\u001b[0m \u001b[0mn_jobs\u001b[0m\u001b[1;33m=\u001b[0m\u001b[0mself\u001b[0m\u001b[1;33m.\u001b[0m\u001b[0m_n_jobs\u001b[0m\u001b[1;33m)\u001b[0m\u001b[1;33m:\u001b[0m\u001b[1;33m\u001b[0m\u001b[1;33m\u001b[0m\u001b[0m\n\u001b[1;32m--> 262\u001b[1;33m             return [func(*args, **kwargs)\n\u001b[0m\u001b[0;32m    263\u001b[0m                     for func, args, kwargs in self.items]\n\u001b[0;32m    264\u001b[0m \u001b[1;33m\u001b[0m\u001b[0m\n",
      "\u001b[1;32m~\\anaconda3\\lib\\site-packages\\joblib\\parallel.py\u001b[0m in \u001b[0;36m<listcomp>\u001b[1;34m(.0)\u001b[0m\n\u001b[0;32m    260\u001b[0m         \u001b[1;31m# change the default number of processes to -1\u001b[0m\u001b[1;33m\u001b[0m\u001b[1;33m\u001b[0m\u001b[0m\n\u001b[0;32m    261\u001b[0m         \u001b[1;32mwith\u001b[0m \u001b[0mparallel_backend\u001b[0m\u001b[1;33m(\u001b[0m\u001b[0mself\u001b[0m\u001b[1;33m.\u001b[0m\u001b[0m_backend\u001b[0m\u001b[1;33m,\u001b[0m \u001b[0mn_jobs\u001b[0m\u001b[1;33m=\u001b[0m\u001b[0mself\u001b[0m\u001b[1;33m.\u001b[0m\u001b[0m_n_jobs\u001b[0m\u001b[1;33m)\u001b[0m\u001b[1;33m:\u001b[0m\u001b[1;33m\u001b[0m\u001b[1;33m\u001b[0m\u001b[0m\n\u001b[1;32m--> 262\u001b[1;33m             return [func(*args, **kwargs)\n\u001b[0m\u001b[0;32m    263\u001b[0m                     for func, args, kwargs in self.items]\n\u001b[0;32m    264\u001b[0m \u001b[1;33m\u001b[0m\u001b[0m\n",
      "\u001b[1;32m~\\anaconda3\\lib\\site-packages\\sklearn\\utils\\fixes.py\u001b[0m in \u001b[0;36m__call__\u001b[1;34m(self, *args, **kwargs)\u001b[0m\n\u001b[0;32m    214\u001b[0m     \u001b[1;32mdef\u001b[0m \u001b[0m__call__\u001b[0m\u001b[1;33m(\u001b[0m\u001b[0mself\u001b[0m\u001b[1;33m,\u001b[0m \u001b[1;33m*\u001b[0m\u001b[0margs\u001b[0m\u001b[1;33m,\u001b[0m \u001b[1;33m**\u001b[0m\u001b[0mkwargs\u001b[0m\u001b[1;33m)\u001b[0m\u001b[1;33m:\u001b[0m\u001b[1;33m\u001b[0m\u001b[1;33m\u001b[0m\u001b[0m\n\u001b[0;32m    215\u001b[0m         \u001b[1;32mwith\u001b[0m \u001b[0mconfig_context\u001b[0m\u001b[1;33m(\u001b[0m\u001b[1;33m**\u001b[0m\u001b[0mself\u001b[0m\u001b[1;33m.\u001b[0m\u001b[0mconfig\u001b[0m\u001b[1;33m)\u001b[0m\u001b[1;33m:\u001b[0m\u001b[1;33m\u001b[0m\u001b[1;33m\u001b[0m\u001b[0m\n\u001b[1;32m--> 216\u001b[1;33m             \u001b[1;32mreturn\u001b[0m \u001b[0mself\u001b[0m\u001b[1;33m.\u001b[0m\u001b[0mfunction\u001b[0m\u001b[1;33m(\u001b[0m\u001b[1;33m*\u001b[0m\u001b[0margs\u001b[0m\u001b[1;33m,\u001b[0m \u001b[1;33m**\u001b[0m\u001b[0mkwargs\u001b[0m\u001b[1;33m)\u001b[0m\u001b[1;33m\u001b[0m\u001b[1;33m\u001b[0m\u001b[0m\n\u001b[0m\u001b[0;32m    217\u001b[0m \u001b[1;33m\u001b[0m\u001b[0m\n\u001b[0;32m    218\u001b[0m \u001b[1;33m\u001b[0m\u001b[0m\n",
      "\u001b[1;32m~\\anaconda3\\lib\\site-packages\\sklearn\\model_selection\\_validation.py\u001b[0m in \u001b[0;36m_fit_and_score\u001b[1;34m(estimator, X, y, scorer, train, test, verbose, parameters, fit_params, return_train_score, return_parameters, return_n_test_samples, return_times, return_estimator, split_progress, candidate_progress, error_score)\u001b[0m\n\u001b[0;32m    678\u001b[0m             \u001b[0mestimator\u001b[0m\u001b[1;33m.\u001b[0m\u001b[0mfit\u001b[0m\u001b[1;33m(\u001b[0m\u001b[0mX_train\u001b[0m\u001b[1;33m,\u001b[0m \u001b[1;33m**\u001b[0m\u001b[0mfit_params\u001b[0m\u001b[1;33m)\u001b[0m\u001b[1;33m\u001b[0m\u001b[1;33m\u001b[0m\u001b[0m\n\u001b[0;32m    679\u001b[0m         \u001b[1;32melse\u001b[0m\u001b[1;33m:\u001b[0m\u001b[1;33m\u001b[0m\u001b[1;33m\u001b[0m\u001b[0m\n\u001b[1;32m--> 680\u001b[1;33m             \u001b[0mestimator\u001b[0m\u001b[1;33m.\u001b[0m\u001b[0mfit\u001b[0m\u001b[1;33m(\u001b[0m\u001b[0mX_train\u001b[0m\u001b[1;33m,\u001b[0m \u001b[0my_train\u001b[0m\u001b[1;33m,\u001b[0m \u001b[1;33m**\u001b[0m\u001b[0mfit_params\u001b[0m\u001b[1;33m)\u001b[0m\u001b[1;33m\u001b[0m\u001b[1;33m\u001b[0m\u001b[0m\n\u001b[0m\u001b[0;32m    681\u001b[0m \u001b[1;33m\u001b[0m\u001b[0m\n\u001b[0;32m    682\u001b[0m     \u001b[1;32mexcept\u001b[0m \u001b[0mException\u001b[0m\u001b[1;33m:\u001b[0m\u001b[1;33m\u001b[0m\u001b[1;33m\u001b[0m\u001b[0m\n",
      "\u001b[1;32m~\\anaconda3\\lib\\site-packages\\sklearn\\pipeline.py\u001b[0m in \u001b[0;36mfit\u001b[1;34m(self, X, y, **fit_params)\u001b[0m\n\u001b[0;32m    392\u001b[0m             \u001b[1;32mif\u001b[0m \u001b[0mself\u001b[0m\u001b[1;33m.\u001b[0m\u001b[0m_final_estimator\u001b[0m \u001b[1;33m!=\u001b[0m \u001b[1;34m\"passthrough\"\u001b[0m\u001b[1;33m:\u001b[0m\u001b[1;33m\u001b[0m\u001b[1;33m\u001b[0m\u001b[0m\n\u001b[0;32m    393\u001b[0m                 \u001b[0mfit_params_last_step\u001b[0m \u001b[1;33m=\u001b[0m \u001b[0mfit_params_steps\u001b[0m\u001b[1;33m[\u001b[0m\u001b[0mself\u001b[0m\u001b[1;33m.\u001b[0m\u001b[0msteps\u001b[0m\u001b[1;33m[\u001b[0m\u001b[1;33m-\u001b[0m\u001b[1;36m1\u001b[0m\u001b[1;33m]\u001b[0m\u001b[1;33m[\u001b[0m\u001b[1;36m0\u001b[0m\u001b[1;33m]\u001b[0m\u001b[1;33m]\u001b[0m\u001b[1;33m\u001b[0m\u001b[1;33m\u001b[0m\u001b[0m\n\u001b[1;32m--> 394\u001b[1;33m                 \u001b[0mself\u001b[0m\u001b[1;33m.\u001b[0m\u001b[0m_final_estimator\u001b[0m\u001b[1;33m.\u001b[0m\u001b[0mfit\u001b[0m\u001b[1;33m(\u001b[0m\u001b[0mXt\u001b[0m\u001b[1;33m,\u001b[0m \u001b[0my\u001b[0m\u001b[1;33m,\u001b[0m \u001b[1;33m**\u001b[0m\u001b[0mfit_params_last_step\u001b[0m\u001b[1;33m)\u001b[0m\u001b[1;33m\u001b[0m\u001b[1;33m\u001b[0m\u001b[0m\n\u001b[0m\u001b[0;32m    395\u001b[0m \u001b[1;33m\u001b[0m\u001b[0m\n\u001b[0;32m    396\u001b[0m         \u001b[1;32mreturn\u001b[0m \u001b[0mself\u001b[0m\u001b[1;33m\u001b[0m\u001b[1;33m\u001b[0m\u001b[0m\n",
      "\u001b[1;32m~\\anaconda3\\lib\\contextlib.py\u001b[0m in \u001b[0;36m__exit__\u001b[1;34m(self, typ, value, traceback)\u001b[0m\n\u001b[0;32m    121\u001b[0m             \u001b[1;32mraise\u001b[0m \u001b[0mRuntimeError\u001b[0m\u001b[1;33m(\u001b[0m\u001b[1;34m\"generator didn't yield\"\u001b[0m\u001b[1;33m)\u001b[0m \u001b[1;32mfrom\u001b[0m \u001b[1;32mNone\u001b[0m\u001b[1;33m\u001b[0m\u001b[1;33m\u001b[0m\u001b[0m\n\u001b[0;32m    122\u001b[0m \u001b[1;33m\u001b[0m\u001b[0m\n\u001b[1;32m--> 123\u001b[1;33m     \u001b[1;32mdef\u001b[0m \u001b[0m__exit__\u001b[0m\u001b[1;33m(\u001b[0m\u001b[0mself\u001b[0m\u001b[1;33m,\u001b[0m \u001b[0mtyp\u001b[0m\u001b[1;33m,\u001b[0m \u001b[0mvalue\u001b[0m\u001b[1;33m,\u001b[0m \u001b[0mtraceback\u001b[0m\u001b[1;33m)\u001b[0m\u001b[1;33m:\u001b[0m\u001b[1;33m\u001b[0m\u001b[1;33m\u001b[0m\u001b[0m\n\u001b[0m\u001b[0;32m    124\u001b[0m         \u001b[1;32mif\u001b[0m \u001b[0mtyp\u001b[0m \u001b[1;32mis\u001b[0m \u001b[1;32mNone\u001b[0m\u001b[1;33m:\u001b[0m\u001b[1;33m\u001b[0m\u001b[1;33m\u001b[0m\u001b[0m\n\u001b[0;32m    125\u001b[0m             \u001b[1;32mtry\u001b[0m\u001b[1;33m:\u001b[0m\u001b[1;33m\u001b[0m\u001b[1;33m\u001b[0m\u001b[0m\n",
      "\u001b[1;31mKeyboardInterrupt\u001b[0m: "
     ]
    }
   ],
   "source": [
    "from sklearn.model_selection import GridSearchCV\n",
    "\n",
    "model = Pipeline([('poly', PolynomialFeatures()),\n",
    "                  ('lda', LDA(store_covariance=True))])\n",
    "params = {'poly__degree': range(1, 6)}\n",
    "cv = GridSearchCV(model, params, refit=True, cv=10, \n",
    "                  scoring=make_scorer(accuracy))\n",
    "cv.fit(X_train_full, y_train)"
   ]
  },
  {
   "cell_type": "markdown",
   "id": "cb0d07a9",
   "metadata": {},
   "source": [
    "## QDA"
   ]
  },
  {
   "cell_type": "code",
   "execution_count": 52,
   "id": "e2e5f7fb",
   "metadata": {},
   "outputs": [
    {
     "name": "stdout",
     "output_type": "stream",
     "text": [
      "Train accuracy: 0.26113754325259514\n",
      "Test accuracy: 0.2537313432835821\n"
     ]
    },
    {
     "name": "stderr",
     "output_type": "stream",
     "text": [
      "C:\\Users\\sarar\\anaconda3\\lib\\site-packages\\sklearn\\discriminant_analysis.py:878: UserWarning: Variables are collinear\n",
      "  warnings.warn(\"Variables are collinear\")\n"
     ]
    }
   ],
   "source": [
    "from sklearn.discriminant_analysis import QuadraticDiscriminantAnalysis as QDA\n",
    "model = QDA(store_covariance=True)\n",
    "model = model.fit(X_train_scaled, y_train)\n",
    "\n",
    "print(\"Train accuracy:\", accuracy(y_train, model.predict(X_train_scaled)))\n",
    "print(\"Test accuracy:\", accuracy(y_test, model.predict(X_test_scaled)))"
   ]
  },
  {
   "cell_type": "markdown",
   "id": "d91233d5",
   "metadata": {},
   "source": [
    "## KNN"
   ]
  },
  {
   "cell_type": "code",
   "execution_count": 53,
   "id": "04a2d1a1",
   "metadata": {},
   "outputs": [
    {
     "data": {
      "text/plain": [
       "KNeighborsClassifier(n_neighbors=6)"
      ]
     },
     "execution_count": 53,
     "metadata": {},
     "output_type": "execute_result"
    },
    {
     "name": "stderr",
     "output_type": "stream",
     "text": [
      "C:\\Users\\sarar\\anaconda3\\lib\\site-packages\\sklearn\\neighbors\\_classification.py:228: FutureWarning: Unlike other reduction functions (e.g. `skew`, `kurtosis`), the default behavior of `mode` typically preserves the axis it acts along. In SciPy 1.11.0, this behavior will change: the default value of `keepdims` will become False, the `axis` over which the statistic is taken will be eliminated, and the value None will no longer be accepted. Set `keepdims` to True or False to avoid this warning.\n",
      "  mode, _ = stats.mode(_y[neigh_ind, k], axis=1)\n"
     ]
    },
    {
     "name": "stdout",
     "output_type": "stream",
     "text": [
      "Train accuracy: 0.8831098615916955\n",
      "Test accuracy: 0.8754055807916937\n"
     ]
    },
    {
     "name": "stderr",
     "output_type": "stream",
     "text": [
      "C:\\Users\\sarar\\anaconda3\\lib\\site-packages\\sklearn\\neighbors\\_classification.py:228: FutureWarning: Unlike other reduction functions (e.g. `skew`, `kurtosis`), the default behavior of `mode` typically preserves the axis it acts along. In SciPy 1.11.0, this behavior will change: the default value of `keepdims` will become False, the `axis` over which the statistic is taken will be eliminated, and the value None will no longer be accepted. Set `keepdims` to True or False to avoid this warning.\n",
      "  mode, _ = stats.mode(_y[neigh_ind, k], axis=1)\n"
     ]
    }
   ],
   "source": [
    "# Train a KNN with different k values\n",
    "from sklearn.neighbors import KNeighborsClassifier\n",
    "model = KNeighborsClassifier(n_neighbors=6)\n",
    "model.fit(X_train_full, y_train)\n",
    "\n",
    "print(\"Train accuracy:\", accuracy(y_train, model.predict(X_train_full)))\n",
    "print(\"Test accuracy:\", accuracy(y_test, model.predict(X_test_full)))"
   ]
  },
  {
   "cell_type": "code",
   "execution_count": 77,
   "id": "f92da8ca",
   "metadata": {},
   "outputs": [
    {
     "data": {
      "text/plain": [
       "GridSearchCV(cv=10, estimator=KNeighborsClassifier(),\n",
       "             param_grid={'n_neighbors': range(1, 15)},\n",
       "             scoring=make_scorer(accuracy))"
      ]
     },
     "execution_count": 77,
     "metadata": {},
     "output_type": "execute_result"
    },
    {
     "data": {
      "text/plain": [
       "{'n_neighbors': 6}"
      ]
     },
     "execution_count": 77,
     "metadata": {},
     "output_type": "execute_result"
    }
   ],
   "source": [
    "from sklearn.model_selection import GridSearchCV\n",
    "import warnings\n",
    "warnings.filterwarnings(\"ignore\")\n",
    "model = KNeighborsClassifier()\n",
    "params = {'n_neighbors': range(1, 15)}\n",
    "cv = GridSearchCV(model, params, refit=True, cv=10, \n",
    "                  scoring=make_scorer(accuracy))\n",
    "cv.fit(X_train_full, y_train)\n",
    "cv.best_params_"
   ]
  }
 ],
 "metadata": {
  "kernelspec": {
   "display_name": "Python 3 (ipykernel)",
   "language": "python",
   "name": "python3"
  },
  "language_info": {
   "codemirror_mode": {
    "name": "ipython",
    "version": 3
   },
   "file_extension": ".py",
   "mimetype": "text/x-python",
   "name": "python",
   "nbconvert_exporter": "python",
   "pygments_lexer": "ipython3",
   "version": "3.9.13"
  }
 },
 "nbformat": 4,
 "nbformat_minor": 5
}
