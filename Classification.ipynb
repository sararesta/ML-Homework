{
 "cells": [
  {
   "cell_type": "markdown",
   "id": "547a6093",
   "metadata": {},
   "source": [
    "# Classification"
   ]
  },
  {
   "cell_type": "code",
   "execution_count": 1,
   "id": "82fa7b16",
   "metadata": {},
   "outputs": [],
   "source": [
    "# Run this code to make Jupyter print every\n",
    "# printable statement and not just the last one\n",
    "from IPython.core.interactiveshell import InteractiveShell\n",
    "InteractiveShell.ast_node_interactivity = \"all\"\n",
    "\n",
    "# To visualize the data\n",
    "import matplotlib.pyplot as plt\n",
    "\n",
    "# Generic libraries\n",
    "import seaborn as sns\n",
    "import pandas as pd\n",
    "import numpy as np\n",
    "\n",
    "# Regression models\n",
    "import sklearn\n",
    "import scipy\n",
    "from scipy.stats import *\n",
    "import sklearn\n",
    "from sklearn.model_selection import train_test_split, GridSearchCV #split the data into training and test\n",
    "from sklearn.linear_model import LinearRegression #linear regression\n",
    "from sklearn.preprocessing import PolynomialFeatures #for polynomial regression\n",
    "from sklearn.metrics import r2_score, mean_squared_error\n",
    "\n",
    "# 5-folds crossvalidation\n",
    "from sklearn.model_selection import cross_val_score\n",
    "from sklearn.metrics import make_scorer\n",
    "from sklearn.pipeline import Pipeline"
   ]
  },
  {
   "cell_type": "code",
   "execution_count": 2,
   "id": "37d14762",
   "metadata": {},
   "outputs": [
    {
     "data": {
      "text/plain": [
       "0    7807\n",
       "1    1441\n",
       "Name: Revenue, dtype: int64"
      ]
     },
     "execution_count": 2,
     "metadata": {},
     "output_type": "execute_result"
    },
    {
     "data": {
      "text/plain": [
       "0    2615\n",
       "1     467\n",
       "Name: Revenue, dtype: int64"
      ]
     },
     "execution_count": 2,
     "metadata": {},
     "output_type": "execute_result"
    }
   ],
   "source": [
    "training_set = pd.read_csv(\"training_set_complete.csv\")\n",
    "test_set = pd.read_csv(\"test_set_complete.csv\")\n",
    "training_set = training_set.drop(columns=['Unnamed: 0'])\n",
    "test_set = test_set.drop(columns=['Unnamed: 0'])\n",
    "training_set['Revenue'] = training_set['Revenue'].astype(int)\n",
    "test_set['Revenue'] = test_set['Revenue'].astype(int)\n",
    "training_set['Revenue'].value_counts()\n",
    "test_set['Revenue'].value_counts()\n"
   ]
  },
  {
   "cell_type": "markdown",
   "id": "12901cd6",
   "metadata": {},
   "source": [
    "## Logistic regression"
   ]
  },
  {
   "cell_type": "code",
   "execution_count": 3,
   "id": "0a8acdf4",
   "metadata": {},
   "outputs": [],
   "source": [
    "X_train_full = training_set.drop(columns=['Revenue'])\n",
    "X_test_full = test_set.drop(columns=['Revenue'])\n",
    "y_train = training_set['Revenue']\n",
    "y_test = test_set['Revenue']"
   ]
  },
  {
   "cell_type": "code",
   "execution_count": 4,
   "id": "f0fd591a",
   "metadata": {},
   "outputs": [],
   "source": [
    "# FACCIAMO QUESTO STEP PER EVITARE PROBLEMI DI CONVERGENZA NEL MODELLO\n",
    "from sklearn.preprocessing import StandardScaler\n",
    "\n",
    "# Assuming you have your feature data X\n",
    "scaler = StandardScaler()\n",
    "X_train_scaled = pd.DataFrame(scaler.fit_transform(X_train_full))\n",
    "X_test_scaled = pd.DataFrame(scaler.fit_transform(X_test_full))\n",
    "X_train_scaled.columns = X_train_full.columns\n",
    "X_test_scaled.columns = X_test_full.columns"
   ]
  },
  {
   "cell_type": "markdown",
   "id": "489e3a04",
   "metadata": {},
   "source": [
    "We use the solver saga because it's the most suitable for big datasets and supports the l1 penalization."
   ]
  },
  {
   "cell_type": "code",
   "execution_count": 12,
   "id": "25eca228",
   "metadata": {},
   "outputs": [
    {
     "data": {
      "text/plain": [
       "LogisticRegression(max_iter=1000, penalty='l1', solver='saga')"
      ]
     },
     "execution_count": 12,
     "metadata": {},
     "output_type": "execute_result"
    },
    {
     "name": "stdout",
     "output_type": "stream",
     "text": [
      "Train accuracy: 0.8831098615916955\n",
      "Test accuracy: 0.8890330953926022\n",
      "Administrative: -0.020095249656039305\n",
      "Administrative_Duration: 0.0004762730740422591\n",
      "Informational: 0.06302948840395912\n",
      "Informational_Duration: -0.0064258774807275185\n",
      "ProductRelated: 0.04785412008859644\n",
      "ProductRelated_Duration: 0.1635075492446544\n",
      "BounceRates: 0.007809911167128145\n",
      "ExitRates: -0.83364968945604\n",
      "PageValues: 1.4760367124575553\n",
      "SpecialDay: -0.016128902829364328\n",
      "Month_Aug: 0.03844556663668858\n",
      "Month_Dec: -0.13652017106683206\n",
      "Month_Feb: -0.18928299724124323\n",
      "Month_Jul: 0.09334385104792023\n",
      "Month_June: 0.0\n",
      "Month_Mar: -0.10488466281801892\n",
      "Month_May: -0.10283170061506347\n",
      "Month_Nov: 0.3037730993028001\n",
      "Month_Oct: 0.0392948512610761\n",
      "Month_Sep: 0.05466200789810293\n",
      "OperatingSystems_1: -0.054656111326039127\n",
      "OperatingSystems_2: 0.0869722035865344\n",
      "OperatingSystems_3: 0.0\n",
      "OperatingSystems_4: -0.01761219135663984\n",
      "OperatingSystems_5: 0.001490062273830371\n",
      "OperatingSystems_6: -0.03526086263625431\n",
      "OperatingSystems_7: -0.022289563679484654\n",
      "OperatingSystems_8: 0.012724819780525353\n",
      "Browser_1: 0.0527069168345904\n",
      "Browser_2: -0.06185230541888437\n",
      "Browser_3: -0.1470356290364183\n",
      "Browser_4: 0.007685118468511057\n",
      "Browser_5: 0.024144356611663993\n",
      "Browser_6: -0.07933183134998616\n",
      "Browser_7: -0.005959725160717679\n",
      "Browser_8: 0.044920123470727845\n",
      "Browser_9: 0.0\n",
      "Browser_10: 0.0\n",
      "Browser_11: 0.001490062273830371\n",
      "Browser_12: 0.030429549168834245\n",
      "Browser_13: -0.04747344090111456\n",
      "Region_1: 0.0\n",
      "Region_2: 0.06687422666776131\n",
      "Region_3: -0.00431806962896198\n",
      "Region_4: -0.02193762905793473\n",
      "Region_5: -0.003096718291189148\n",
      "Region_6: 0.062082851557897\n",
      "Region_7: 0.002129238944874788\n",
      "Region_8: 0.027191486771561073\n",
      "Region_9: -0.0897603320768696\n",
      "TrafficType_1: -0.021738622286610294\n",
      "TrafficType_2: 0.05065753049103832\n",
      "TrafficType_3: -0.10694325126178288\n",
      "TrafficType_4: 0.008196046571823132\n",
      "TrafficType_5: 0.024277726812605174\n",
      "TrafficType_6: -0.02612979842711868\n",
      "TrafficType_7: 0.0032513812209424282\n",
      "TrafficType_8: 0.09355089016898635\n",
      "TrafficType_9: 0.011835839295971515\n",
      "TrafficType_10: 0.07801730805933249\n",
      "TrafficType_11: 0.06268746730897347\n",
      "TrafficType_12: -0.011011603591435427\n",
      "TrafficType_13: -0.14170270131332477\n",
      "TrafficType_14: -0.09738525887948919\n",
      "TrafficType_15: -0.15366140528982364\n",
      "TrafficType_16: -0.03748014416499307\n",
      "TrafficType_17: -0.008223631299563406\n",
      "TrafficType_18: -0.058962450687282404\n",
      "TrafficType_19: -0.03614797349565997\n",
      "TrafficType_20: 0.09083829157418012\n",
      "VisitorType_New_Visitor: 0.05397693419020994\n",
      "VisitorType_Other: -0.024128485954937374\n",
      "VisitorType_Returning_Visitor: -0.025149209200497603\n",
      "Weekend_False: -0.019245732274474767\n",
      "Weekend_True: 0.019245732274470222\n"
     ]
    }
   ],
   "source": [
    "from sklearn.linear_model import LogisticRegression            # 1- model selection\n",
    "model = LogisticRegression(solver='saga', penalty='l1',max_iter=1000)      # 2- hyperparams\n",
    "model.fit(X_train_scaled, y_train)                               # 3- model fitting\n",
    "y_predict = model.predict(X_test_scaled)                        # 4- model testing\n",
    "\n",
    "def accuracy(y_pred, y_true):\n",
    "    return (y_pred == y_true).mean()\n",
    "\n",
    "print(\"Train accuracy:\", accuracy(y_train, model.predict(X_train_scaled)))\n",
    "print(\"Test accuracy:\", accuracy(y_test, model.predict(X_test_scaled)))\n",
    "coefficients = model.coef_\n",
    "for feature, coef in zip(X_train_scaled.columns, coefficients[0]):\n",
    "    print(f\"{feature}: {coef}\")"
   ]
  },
  {
   "cell_type": "code",
   "execution_count": 55,
   "id": "f488230e",
   "metadata": {},
   "outputs": [],
   "source": [
    "from sklearn.dummy import DummyRegressor\n",
    "from sklearn.model_selection import cross_val_score\n",
    "from sklearn.metrics import make_scorer\n",
    "\n",
    "def get_evaluator(scorer):\n",
    "    def evaluator(model, X, y, trained=False):\n",
    "        if not trained:\n",
    "            model = model.fit(X, y)\n",
    "        score = scorer(model, X, y)\n",
    "        return model, score\n",
    "    return evaluator   \n",
    "\n",
    "def get_cv_evaluator(scorer, cv=3):\n",
    "    def evaluator(model, X, y, trained=False):            \n",
    "        scores = cross_val_score(model, X, y, scoring=scorer, cv=cv)\n",
    "        if not trained:\n",
    "            model = model.fit(X, y)\n",
    "        return model, np.mean(scores)\n",
    "    \n",
    "    return evaluator\n",
    "\n",
    "def get_val_evaluator(scorer, val_size=0.1):\n",
    "    def evaluator(model, X, y, trained=False):\n",
    "        X_train_small, X_val, y_train_small, y_val = train_test_split(X, y, \n",
    "                                                                      test_size=val_size,\n",
    "                                                                      random_state=0)\n",
    "        \n",
    "        if not trained:\n",
    "            model = model.fit(X_train_small, y_train_small)\n",
    "        score = scorer(model, X_val, y_val) \n",
    "        \n",
    "        return model, score\n",
    "    \n",
    "    return evaluator\n",
    "\n",
    "def forward_selection(Xtrain_pd, ytrain, Xtest_pd, ytest,\n",
    "                      candidates_evaluator, candidates_argbest, # Metric to be used at 2.b\n",
    "                      subsets_evaluator, subsets_argbest,       # Metric to be used at 3\n",
    "                      test_evaluator=None, test_argbest=None,\n",
    "                      candidates_scorer_name=None,  # Name of 2. figure\n",
    "                      subsets_scorer_name=None,     # Name of 3. figure\n",
    "                      verbose=True, weight_step3=0):   \n",
    "    test_evaluator = subsets_evaluator if not test_evaluator else test_evaluator\n",
    "    test_argbest = subsets_argbest if not test_argbest else test_argbest\n",
    "    \n",
    "    # Global variable init\n",
    "    # ====================\n",
    "    num_features = Xtrain_pd.shape[-1]\n",
    "    best_candidate_metric = []\n",
    "    # subsets_* are lists containing one value for each Mk model (the best of the Mk candidates)\n",
    "    subsets_test = []\n",
    "    subsets_metric = []        # The best metric of each subset of dimension 'dim'\n",
    "    subsets_best_features = [] # The best features combination in each subset of dimension 'dim'\n",
    "    # A figure to keep track of candidates scores in each Mk subset\n",
    "    plt.figure()\n",
    "    candidate_fig = plt.subplot(111) # A global matplotlib figure\n",
    "    num_evaluations = 0        # A conter to keep track of the total number of trials\n",
    "    \n",
    "    selected_features = []\n",
    "    all_features = Xtrain_pd.columns\n",
    "    \n",
    "    \n",
    "    # 1. Train M0\n",
    "    # ===========\n",
    "    model = DummyRegressor()\n",
    "    # Compute (2.b) metrics\n",
    "    model, score = candidates_evaluator(model, Xtrain_pd[[]], ytrain)\n",
    "    best_candidate_metric.append(score)\n",
    "    subsets_best_features.append([])\n",
    "    _ = candidate_fig.scatter([0], [score], color=\"b\")\n",
    "    # Compute metric for step 3.\n",
    "    _, score = subsets_evaluator(model, Xtrain_pd[[]], ytrain, trained=True)\n",
    "    subsets_metric.append(score)\n",
    "    _, score = test_evaluator(model, Xtrain_pd[[]], ytrain, trained=True)\n",
    "    subsets_test.append(score)\n",
    "    \n",
    "    # 2. Evaluate all Mk candidates with\n",
    "    #    k=0...P features\n",
    "    # =========================================\n",
    "    for dim in range(num_features):\n",
    "        candidate_metrics = [] # Keep track of candidates metrics. Will be used to select the best\n",
    "        candidate_models = []  # Keep track of candidates trained models\n",
    "        \n",
    "        # 2.a Fixed the number of features 'dim', look at\n",
    "        #     all the possible candidate models with that\n",
    "        #     cardinality\n",
    "        # ===============================================\n",
    "        remaining_features = all_features.difference(selected_features)\n",
    "        \n",
    "        for new_column in remaining_features:\n",
    "            Xtrain_sub = Xtrain_pd[selected_features+[new_column]].to_numpy()\n",
    "            # //==========================================\\\\\n",
    "            # || ***** Difference from previous lab ***** ||\n",
    "            # \\\\==========================================//\n",
    "            model = LogisticRegression(solver=\"saga\", penalty='l1',max_iter=1000)\n",
    "            model, score = candidates_evaluator(model, Xtrain_sub, ytrain)\n",
    "            candidate_models.append(model)\n",
    "            candidate_metrics.append(score)\n",
    "            num_evaluations += 1\n",
    "            \n",
    "        _ = candidate_fig.scatter([Xtrain_sub.shape[-1]]*len(candidate_metrics), candidate_metrics,\n",
    "                                  color=\"b\")\n",
    "            \n",
    "        # 2.b Select the best candidate among those using\n",
    "        #     the same number of features (2.a)\n",
    "        # ===============================================\n",
    "        idx_best_candidate = candidates_argbest(candidate_metrics)\n",
    "        # Update selected feature\n",
    "        selected_features.append(remaining_features[idx_best_candidate])\n",
    "        # Save best candidate features\n",
    "        best_candidate_metric.append(candidate_metrics[idx_best_candidate])\n",
    "        best_features = selected_features.copy()\n",
    "        subsets_best_features.append(best_features)\n",
    "        \n",
    "        \n",
    "        # Compute metric for step 3.\n",
    "        best_subset_model = candidate_models[idx_best_candidate]\n",
    "        best_subset_Xtrain = Xtrain_pd[best_features].to_numpy()\n",
    "        best_subset_Xtest = Xtest_pd[best_features].to_numpy()\n",
    "        _, score = test_evaluator(best_subset_model, best_subset_Xtest, ytest, trained=True)\n",
    "        subsets_test.append(score)\n",
    "        _, score = subsets_evaluator(best_subset_model, best_subset_Xtrain, ytrain, trained=True)\n",
    "        subsets_metric.append(score)\n",
    "        num_evaluations += weight_step3 \n",
    "        \n",
    "        if verbose:\n",
    "            print(\"............\")\n",
    "            print(\"Best model (M{}) with {} features: {}\".format(dim+1, dim+1, best_features))\n",
    "            print(\"M{} subset score (3.): {}\".format(dim+1, score))\n",
    "        \n",
    "    # 3. Among all best candidates with increasing number\n",
    "    #    of features, select the best one\n",
    "    # ===================================================\n",
    "    best_subset_idx = subsets_argbest(subsets_metric)\n",
    "    best_features = subsets_best_features[best_subset_idx]\n",
    "    \n",
    "    if verbose:\n",
    "        print(\"\\n Best configuration has {} features\".format(best_subset_idx))\n",
    "        print(\"Features: {}\".format(subsets_best_features[best_subset_idx]))\n",
    "        print(\"Total number of trained models:\", num_evaluations)\n",
    "    \n",
    "    # Complete the subsets_fig figure by plotting\n",
    "    # a line connecting all best candidate score\n",
    "    best_candidate_score_idx = candidates_argbest(best_candidate_metric)\n",
    "    _ = candidate_fig.plot(range(len(best_candidate_metric)), best_candidate_metric)\n",
    "    _ = candidate_fig.scatter(best_candidate_score_idx, best_candidate_metric[best_candidate_score_idx],\n",
    "                              marker='X', label=\"Best\", color=\"r\")\n",
    "    candidate_fig.set_title(candidates_scorer_name)\n",
    "    candidate_fig.legend()\n",
    "    \n",
    "    # Plot a figure to show how te 3. metric evolves\n",
    "    plt.figure()\n",
    "    subsets_fig = plt.subplot(111)\n",
    "    _ = subsets_fig.plot(range(len(subsets_metric)), subsets_metric, label=\"Selection (3.) scores\")\n",
    "    _ = subsets_fig.scatter(best_subset_idx, subsets_metric[best_subset_idx],\n",
    "                              marker='X', label=\"Best (3.) score\", color=\"r\")\n",
    "    best_test_score_idx = test_argbest(subsets_test)\n",
    "    _ = subsets_fig.plot(range(len(subsets_test)), subsets_test, label=\"Test scores\")\n",
    "    _ = subsets_fig.scatter(best_test_score_idx, subsets_test[best_test_score_idx],\n",
    "                              marker='X', label=\"Best test score\", color=\"y\")\n",
    "    subsets_fig.set_title(subsets_scorer_name)\n",
    "    subsets_fig.legend()"
   ]
  },
  {
   "cell_type": "code",
   "execution_count": 56,
   "id": "535ef449",
   "metadata": {
    "scrolled": true
   },
   "outputs": [
    {
     "name": "stdout",
     "output_type": "stream",
     "text": [
      "............\n",
      "Best model (M1) with 1 features: ['PageValues']\n",
      "M1 subset score (3.): 0.8801909441909442\n",
      "............\n",
      "Best model (M2) with 2 features: ['PageValues', 'VisitorType_New_Visitor']\n",
      "M2 subset score (3.): 0.8822451152451153\n",
      "............\n",
      "Best model (M3) with 3 features: ['PageValues', 'VisitorType_New_Visitor', 'TrafficType_3']\n",
      "M3 subset score (3.): 0.8831102141102141\n",
      "............\n",
      "Best model (M4) with 4 features: ['PageValues', 'VisitorType_New_Visitor', 'TrafficType_3', 'TrafficType_10']\n",
      "M4 subset score (3.): 0.8834343044343044\n",
      "............\n",
      "Best model (M5) with 5 features: ['PageValues', 'VisitorType_New_Visitor', 'TrafficType_3', 'TrafficType_10', 'Browser_11']\n",
      "M5 subset score (3.): 0.8834343044343044\n",
      "............\n",
      "Best model (M6) with 6 features: ['PageValues', 'VisitorType_New_Visitor', 'TrafficType_3', 'TrafficType_10', 'Browser_11', 'Browser_1']\n",
      "M6 subset score (3.): 0.8833261963261962\n",
      "............\n",
      "Best model (M7) with 7 features: ['PageValues', 'VisitorType_New_Visitor', 'TrafficType_3', 'TrafficType_10', 'Browser_11', 'Browser_1', 'Browser_12']\n",
      "M7 subset score (3.): 0.8833261963261962\n",
      "............\n",
      "Best model (M8) with 8 features: ['PageValues', 'VisitorType_New_Visitor', 'TrafficType_3', 'TrafficType_10', 'Browser_11', 'Browser_1', 'Browser_12', 'Browser_9']\n",
      "M8 subset score (3.): 0.8833261963261962\n",
      "............\n",
      "Best model (M9) with 9 features: ['PageValues', 'VisitorType_New_Visitor', 'TrafficType_3', 'TrafficType_10', 'Browser_11', 'Browser_1', 'Browser_12', 'Browser_9', 'OperatingSystems_5']\n",
      "M9 subset score (3.): 0.8833261963261962\n",
      "............\n",
      "Best model (M10) with 10 features: ['PageValues', 'VisitorType_New_Visitor', 'TrafficType_3', 'TrafficType_10', 'Browser_11', 'Browser_1', 'Browser_12', 'Browser_9', 'OperatingSystems_5', 'OperatingSystems_7']\n",
      "M10 subset score (3.): 0.8833261963261962\n",
      "............\n",
      "Best model (M11) with 11 features: ['PageValues', 'VisitorType_New_Visitor', 'TrafficType_3', 'TrafficType_10', 'Browser_11', 'Browser_1', 'Browser_12', 'Browser_9', 'OperatingSystems_5', 'OperatingSystems_7', 'Browser_7']\n",
      "M11 subset score (3.): 0.8833261963261962\n",
      "............\n",
      "Best model (M12) with 12 features: ['PageValues', 'VisitorType_New_Visitor', 'TrafficType_3', 'TrafficType_10', 'Browser_11', 'Browser_1', 'Browser_12', 'Browser_9', 'OperatingSystems_5', 'OperatingSystems_7', 'Browser_7', 'TrafficType_11']\n",
      "M12 subset score (3.): 0.8832182052182052\n",
      "............\n",
      "Best model (M13) with 13 features: ['PageValues', 'VisitorType_New_Visitor', 'TrafficType_3', 'TrafficType_10', 'Browser_11', 'Browser_1', 'Browser_12', 'Browser_9', 'OperatingSystems_5', 'OperatingSystems_7', 'Browser_7', 'TrafficType_11', 'Browser_3']\n",
      "M13 subset score (3.): 0.8836506376506377\n",
      "............\n",
      "Best model (M14) with 14 features: ['PageValues', 'VisitorType_New_Visitor', 'TrafficType_3', 'TrafficType_10', 'Browser_11', 'Browser_1', 'Browser_12', 'Browser_9', 'OperatingSystems_5', 'OperatingSystems_7', 'Browser_7', 'TrafficType_11', 'Browser_3', 'Month_Feb']\n",
      "M14 subset score (3.): 0.8837587457587457\n",
      "............\n",
      "Best model (M15) with 15 features: ['PageValues', 'VisitorType_New_Visitor', 'TrafficType_3', 'TrafficType_10', 'Browser_11', 'Browser_1', 'Browser_12', 'Browser_9', 'OperatingSystems_5', 'OperatingSystems_7', 'Browser_7', 'TrafficType_11', 'Browser_3', 'Month_Feb', 'OperatingSystems_8']\n",
      "M15 subset score (3.): 0.8837587457587457\n",
      "............\n",
      "Best model (M16) with 16 features: ['PageValues', 'VisitorType_New_Visitor', 'TrafficType_3', 'TrafficType_10', 'Browser_11', 'Browser_1', 'Browser_12', 'Browser_9', 'OperatingSystems_5', 'OperatingSystems_7', 'Browser_7', 'TrafficType_11', 'Browser_3', 'Month_Feb', 'OperatingSystems_8', 'TrafficType_5']\n",
      "M16 subset score (3.): 0.8836506376506377\n",
      "............\n",
      "Best model (M17) with 17 features: ['PageValues', 'VisitorType_New_Visitor', 'TrafficType_3', 'TrafficType_10', 'Browser_11', 'Browser_1', 'Browser_12', 'Browser_9', 'OperatingSystems_5', 'OperatingSystems_7', 'Browser_7', 'TrafficType_11', 'Browser_3', 'Month_Feb', 'OperatingSystems_8', 'TrafficType_5', 'Region_8']\n",
      "M17 subset score (3.): 0.8836506376506377\n",
      "............\n",
      "Best model (M18) with 18 features: ['PageValues', 'VisitorType_New_Visitor', 'TrafficType_3', 'TrafficType_10', 'Browser_11', 'Browser_1', 'Browser_12', 'Browser_9', 'OperatingSystems_5', 'OperatingSystems_7', 'Browser_7', 'TrafficType_11', 'Browser_3', 'Month_Feb', 'OperatingSystems_8', 'TrafficType_5', 'Region_8', 'TrafficType_12']\n",
      "M18 subset score (3.): 0.8836506376506377\n",
      "............\n",
      "Best model (M19) with 19 features: ['PageValues', 'VisitorType_New_Visitor', 'TrafficType_3', 'TrafficType_10', 'Browser_11', 'Browser_1', 'Browser_12', 'Browser_9', 'OperatingSystems_5', 'OperatingSystems_7', 'Browser_7', 'TrafficType_11', 'Browser_3', 'Month_Feb', 'OperatingSystems_8', 'TrafficType_5', 'Region_8', 'TrafficType_12', 'TrafficType_16']\n",
      "M19 subset score (3.): 0.8837587457587457\n",
      "............\n",
      "Best model (M20) with 20 features: ['PageValues', 'VisitorType_New_Visitor', 'TrafficType_3', 'TrafficType_10', 'Browser_11', 'Browser_1', 'Browser_12', 'Browser_9', 'OperatingSystems_5', 'OperatingSystems_7', 'Browser_7', 'TrafficType_11', 'Browser_3', 'Month_Feb', 'OperatingSystems_8', 'TrafficType_5', 'Region_8', 'TrafficType_12', 'TrafficType_16', 'Browser_8']\n",
      "M20 subset score (3.): 0.8837587457587457\n",
      "............\n",
      "Best model (M21) with 21 features: ['PageValues', 'VisitorType_New_Visitor', 'TrafficType_3', 'TrafficType_10', 'Browser_11', 'Browser_1', 'Browser_12', 'Browser_9', 'OperatingSystems_5', 'OperatingSystems_7', 'Browser_7', 'TrafficType_11', 'Browser_3', 'Month_Feb', 'OperatingSystems_8', 'TrafficType_5', 'Region_8', 'TrafficType_12', 'TrafficType_16', 'Browser_8', 'TrafficType_14']\n",
      "M21 subset score (3.): 0.8837587457587457\n",
      "............\n",
      "Best model (M22) with 22 features: ['PageValues', 'VisitorType_New_Visitor', 'TrafficType_3', 'TrafficType_10', 'Browser_11', 'Browser_1', 'Browser_12', 'Browser_9', 'OperatingSystems_5', 'OperatingSystems_7', 'Browser_7', 'TrafficType_11', 'Browser_3', 'Month_Feb', 'OperatingSystems_8', 'TrafficType_5', 'Region_8', 'TrafficType_12', 'TrafficType_16', 'Browser_8', 'TrafficType_14', 'TrafficType_17']\n",
      "M22 subset score (3.): 0.8837587457587457\n",
      "............\n",
      "Best model (M23) with 23 features: ['PageValues', 'VisitorType_New_Visitor', 'TrafficType_3', 'TrafficType_10', 'Browser_11', 'Browser_1', 'Browser_12', 'Browser_9', 'OperatingSystems_5', 'OperatingSystems_7', 'Browser_7', 'TrafficType_11', 'Browser_3', 'Month_Feb', 'OperatingSystems_8', 'TrafficType_5', 'Region_8', 'TrafficType_12', 'TrafficType_16', 'Browser_8', 'TrafficType_14', 'TrafficType_17', 'TrafficType_18']\n",
      "M23 subset score (3.): 0.8837587457587457\n",
      "............\n",
      "Best model (M24) with 24 features: ['PageValues', 'VisitorType_New_Visitor', 'TrafficType_3', 'TrafficType_10', 'Browser_11', 'Browser_1', 'Browser_12', 'Browser_9', 'OperatingSystems_5', 'OperatingSystems_7', 'Browser_7', 'TrafficType_11', 'Browser_3', 'Month_Feb', 'OperatingSystems_8', 'TrafficType_5', 'Region_8', 'TrafficType_12', 'TrafficType_16', 'Browser_8', 'TrafficType_14', 'TrafficType_17', 'TrafficType_18', 'TrafficType_7']\n",
      "M24 subset score (3.): 0.8835425295425295\n",
      "............\n",
      "Best model (M25) with 25 features: ['PageValues', 'VisitorType_New_Visitor', 'TrafficType_3', 'TrafficType_10', 'Browser_11', 'Browser_1', 'Browser_12', 'Browser_9', 'OperatingSystems_5', 'OperatingSystems_7', 'Browser_7', 'TrafficType_11', 'Browser_3', 'Month_Feb', 'OperatingSystems_8', 'TrafficType_5', 'Region_8', 'TrafficType_12', 'TrafficType_16', 'Browser_8', 'TrafficType_14', 'TrafficType_17', 'TrafficType_18', 'TrafficType_7', 'Region_2']\n",
      "M25 subset score (3.): 0.8836506376506377\n",
      "............\n",
      "Best model (M26) with 26 features: ['PageValues', 'VisitorType_New_Visitor', 'TrafficType_3', 'TrafficType_10', 'Browser_11', 'Browser_1', 'Browser_12', 'Browser_9', 'OperatingSystems_5', 'OperatingSystems_7', 'Browser_7', 'TrafficType_11', 'Browser_3', 'Month_Feb', 'OperatingSystems_8', 'TrafficType_5', 'Region_8', 'TrafficType_12', 'TrafficType_16', 'Browser_8', 'TrafficType_14', 'TrafficType_17', 'TrafficType_18', 'TrafficType_7', 'Region_2', 'Browser_13']\n",
      "M26 subset score (3.): 0.8837586287586288\n"
     ]
    },
    {
     "name": "stdout",
     "output_type": "stream",
     "text": [
      "............\n",
      "Best model (M27) with 27 features: ['PageValues', 'VisitorType_New_Visitor', 'TrafficType_3', 'TrafficType_10', 'Browser_11', 'Browser_1', 'Browser_12', 'Browser_9', 'OperatingSystems_5', 'OperatingSystems_7', 'Browser_7', 'TrafficType_11', 'Browser_3', 'Month_Feb', 'OperatingSystems_8', 'TrafficType_5', 'Region_8', 'TrafficType_12', 'TrafficType_16', 'Browser_8', 'TrafficType_14', 'TrafficType_17', 'TrafficType_18', 'TrafficType_7', 'Region_2', 'Browser_13', 'TrafficType_9']\n",
      "M27 subset score (3.): 0.8837586287586288\n",
      "............\n",
      "Best model (M28) with 28 features: ['PageValues', 'VisitorType_New_Visitor', 'TrafficType_3', 'TrafficType_10', 'Browser_11', 'Browser_1', 'Browser_12', 'Browser_9', 'OperatingSystems_5', 'OperatingSystems_7', 'Browser_7', 'TrafficType_11', 'Browser_3', 'Month_Feb', 'OperatingSystems_8', 'TrafficType_5', 'Region_8', 'TrafficType_12', 'TrafficType_16', 'Browser_8', 'TrafficType_14', 'TrafficType_17', 'TrafficType_18', 'TrafficType_7', 'Region_2', 'Browser_13', 'TrafficType_9', 'VisitorType_Other']\n",
      "M28 subset score (3.): 0.8837586287586288\n",
      "............\n",
      "Best model (M29) with 29 features: ['PageValues', 'VisitorType_New_Visitor', 'TrafficType_3', 'TrafficType_10', 'Browser_11', 'Browser_1', 'Browser_12', 'Browser_9', 'OperatingSystems_5', 'OperatingSystems_7', 'Browser_7', 'TrafficType_11', 'Browser_3', 'Month_Feb', 'OperatingSystems_8', 'TrafficType_5', 'Region_8', 'TrafficType_12', 'TrafficType_16', 'Browser_8', 'TrafficType_14', 'TrafficType_17', 'TrafficType_18', 'TrafficType_7', 'Region_2', 'Browser_13', 'TrafficType_9', 'VisitorType_Other', 'OperatingSystems_6']\n",
      "M29 subset score (3.): 0.8837586287586288\n",
      "............\n",
      "Best model (M30) with 30 features: ['PageValues', 'VisitorType_New_Visitor', 'TrafficType_3', 'TrafficType_10', 'Browser_11', 'Browser_1', 'Browser_12', 'Browser_9', 'OperatingSystems_5', 'OperatingSystems_7', 'Browser_7', 'TrafficType_11', 'Browser_3', 'Month_Feb', 'OperatingSystems_8', 'TrafficType_5', 'Region_8', 'TrafficType_12', 'TrafficType_16', 'Browser_8', 'TrafficType_14', 'TrafficType_17', 'TrafficType_18', 'TrafficType_7', 'Region_2', 'Browser_13', 'TrafficType_9', 'VisitorType_Other', 'OperatingSystems_6', 'Region_6']\n",
      "M30 subset score (3.): 0.8837585117585117\n",
      "............\n",
      "Best model (M31) with 31 features: ['PageValues', 'VisitorType_New_Visitor', 'TrafficType_3', 'TrafficType_10', 'Browser_11', 'Browser_1', 'Browser_12', 'Browser_9', 'OperatingSystems_5', 'OperatingSystems_7', 'Browser_7', 'TrafficType_11', 'Browser_3', 'Month_Feb', 'OperatingSystems_8', 'TrafficType_5', 'Region_8', 'TrafficType_12', 'TrafficType_16', 'Browser_8', 'TrafficType_14', 'TrafficType_17', 'TrafficType_18', 'TrafficType_7', 'Region_2', 'Browser_13', 'TrafficType_9', 'VisitorType_Other', 'OperatingSystems_6', 'Region_6', 'Region_3']\n",
      "M31 subset score (3.): 0.8835422955422955\n",
      "............\n",
      "Best model (M32) with 32 features: ['PageValues', 'VisitorType_New_Visitor', 'TrafficType_3', 'TrafficType_10', 'Browser_11', 'Browser_1', 'Browser_12', 'Browser_9', 'OperatingSystems_5', 'OperatingSystems_7', 'Browser_7', 'TrafficType_11', 'Browser_3', 'Month_Feb', 'OperatingSystems_8', 'TrafficType_5', 'Region_8', 'TrafficType_12', 'TrafficType_16', 'Browser_8', 'TrafficType_14', 'TrafficType_17', 'TrafficType_18', 'TrafficType_7', 'Region_2', 'Browser_13', 'TrafficType_9', 'VisitorType_Other', 'OperatingSystems_6', 'Region_6', 'Region_3', 'Region_5']\n",
      "M32 subset score (3.): 0.8835422955422955\n",
      "............\n",
      "Best model (M33) with 33 features: ['PageValues', 'VisitorType_New_Visitor', 'TrafficType_3', 'TrafficType_10', 'Browser_11', 'Browser_1', 'Browser_12', 'Browser_9', 'OperatingSystems_5', 'OperatingSystems_7', 'Browser_7', 'TrafficType_11', 'Browser_3', 'Month_Feb', 'OperatingSystems_8', 'TrafficType_5', 'Region_8', 'TrafficType_12', 'TrafficType_16', 'Browser_8', 'TrafficType_14', 'TrafficType_17', 'TrafficType_18', 'TrafficType_7', 'Region_2', 'Browser_13', 'TrafficType_9', 'VisitorType_Other', 'OperatingSystems_6', 'Region_6', 'Region_3', 'Region_5', 'VisitorType_Returning_Visitor']\n",
      "M33 subset score (3.): 0.8835422955422955\n",
      "............\n",
      "Best model (M34) with 34 features: ['PageValues', 'VisitorType_New_Visitor', 'TrafficType_3', 'TrafficType_10', 'Browser_11', 'Browser_1', 'Browser_12', 'Browser_9', 'OperatingSystems_5', 'OperatingSystems_7', 'Browser_7', 'TrafficType_11', 'Browser_3', 'Month_Feb', 'OperatingSystems_8', 'TrafficType_5', 'Region_8', 'TrafficType_12', 'TrafficType_16', 'Browser_8', 'TrafficType_14', 'TrafficType_17', 'TrafficType_18', 'TrafficType_7', 'Region_2', 'Browser_13', 'TrafficType_9', 'VisitorType_Other', 'OperatingSystems_6', 'Region_6', 'Region_3', 'Region_5', 'VisitorType_Returning_Visitor', 'Browser_4']\n",
      "M34 subset score (3.): 0.8838668538668539\n",
      "............\n",
      "Best model (M35) with 35 features: ['PageValues', 'VisitorType_New_Visitor', 'TrafficType_3', 'TrafficType_10', 'Browser_11', 'Browser_1', 'Browser_12', 'Browser_9', 'OperatingSystems_5', 'OperatingSystems_7', 'Browser_7', 'TrafficType_11', 'Browser_3', 'Month_Feb', 'OperatingSystems_8', 'TrafficType_5', 'Region_8', 'TrafficType_12', 'TrafficType_16', 'Browser_8', 'TrafficType_14', 'TrafficType_17', 'TrafficType_18', 'TrafficType_7', 'Region_2', 'Browser_13', 'TrafficType_9', 'VisitorType_Other', 'OperatingSystems_6', 'Region_6', 'Region_3', 'Region_5', 'VisitorType_Returning_Visitor', 'Browser_4', 'Month_June']\n",
      "M35 subset score (3.): 0.8835424125424126\n",
      "............\n",
      "Best model (M36) with 36 features: ['PageValues', 'VisitorType_New_Visitor', 'TrafficType_3', 'TrafficType_10', 'Browser_11', 'Browser_1', 'Browser_12', 'Browser_9', 'OperatingSystems_5', 'OperatingSystems_7', 'Browser_7', 'TrafficType_11', 'Browser_3', 'Month_Feb', 'OperatingSystems_8', 'TrafficType_5', 'Region_8', 'TrafficType_12', 'TrafficType_16', 'Browser_8', 'TrafficType_14', 'TrafficType_17', 'TrafficType_18', 'TrafficType_7', 'Region_2', 'Browser_13', 'TrafficType_9', 'VisitorType_Other', 'OperatingSystems_6', 'Region_6', 'Region_3', 'Region_5', 'VisitorType_Returning_Visitor', 'Browser_4', 'Month_June', 'TrafficType_15']\n",
      "M36 subset score (3.): 0.8836506376506377\n",
      "............\n",
      "Best model (M37) with 37 features: ['PageValues', 'VisitorType_New_Visitor', 'TrafficType_3', 'TrafficType_10', 'Browser_11', 'Browser_1', 'Browser_12', 'Browser_9', 'OperatingSystems_5', 'OperatingSystems_7', 'Browser_7', 'TrafficType_11', 'Browser_3', 'Month_Feb', 'OperatingSystems_8', 'TrafficType_5', 'Region_8', 'TrafficType_12', 'TrafficType_16', 'Browser_8', 'TrafficType_14', 'TrafficType_17', 'TrafficType_18', 'TrafficType_7', 'Region_2', 'Browser_13', 'TrafficType_9', 'VisitorType_Other', 'OperatingSystems_6', 'Region_6', 'Region_3', 'Region_5', 'VisitorType_Returning_Visitor', 'Browser_4', 'Month_June', 'TrafficType_15', 'TrafficType_20']\n",
      "M37 subset score (3.): 0.8835425295425295\n",
      "............\n",
      "Best model (M38) with 38 features: ['PageValues', 'VisitorType_New_Visitor', 'TrafficType_3', 'TrafficType_10', 'Browser_11', 'Browser_1', 'Browser_12', 'Browser_9', 'OperatingSystems_5', 'OperatingSystems_7', 'Browser_7', 'TrafficType_11', 'Browser_3', 'Month_Feb', 'OperatingSystems_8', 'TrafficType_5', 'Region_8', 'TrafficType_12', 'TrafficType_16', 'Browser_8', 'TrafficType_14', 'TrafficType_17', 'TrafficType_18', 'TrafficType_7', 'Region_2', 'Browser_13', 'TrafficType_9', 'VisitorType_Other', 'OperatingSystems_6', 'Region_6', 'Region_3', 'Region_5', 'VisitorType_Returning_Visitor', 'Browser_4', 'Month_June', 'TrafficType_15', 'TrafficType_20', 'TrafficType_19']\n",
      "M38 subset score (3.): 0.8835425295425295\n",
      "............\n",
      "Best model (M39) with 39 features: ['PageValues', 'VisitorType_New_Visitor', 'TrafficType_3', 'TrafficType_10', 'Browser_11', 'Browser_1', 'Browser_12', 'Browser_9', 'OperatingSystems_5', 'OperatingSystems_7', 'Browser_7', 'TrafficType_11', 'Browser_3', 'Month_Feb', 'OperatingSystems_8', 'TrafficType_5', 'Region_8', 'TrafficType_12', 'TrafficType_16', 'Browser_8', 'TrafficType_14', 'TrafficType_17', 'TrafficType_18', 'TrafficType_7', 'Region_2', 'Browser_13', 'TrafficType_9', 'VisitorType_Other', 'OperatingSystems_6', 'Region_6', 'Region_3', 'Region_5', 'VisitorType_Returning_Visitor', 'Browser_4', 'Month_June', 'TrafficType_15', 'TrafficType_20', 'TrafficType_19', 'Region_7']\n",
      "M39 subset score (3.): 0.8837587457587459\n"
     ]
    },
    {
     "name": "stdout",
     "output_type": "stream",
     "text": [
      "............\n",
      "Best model (M40) with 40 features: ['PageValues', 'VisitorType_New_Visitor', 'TrafficType_3', 'TrafficType_10', 'Browser_11', 'Browser_1', 'Browser_12', 'Browser_9', 'OperatingSystems_5', 'OperatingSystems_7', 'Browser_7', 'TrafficType_11', 'Browser_3', 'Month_Feb', 'OperatingSystems_8', 'TrafficType_5', 'Region_8', 'TrafficType_12', 'TrafficType_16', 'Browser_8', 'TrafficType_14', 'TrafficType_17', 'TrafficType_18', 'TrafficType_7', 'Region_2', 'Browser_13', 'TrafficType_9', 'VisitorType_Other', 'OperatingSystems_6', 'Region_6', 'Region_3', 'Region_5', 'VisitorType_Returning_Visitor', 'Browser_4', 'Month_June', 'TrafficType_15', 'TrafficType_20', 'TrafficType_19', 'Region_7', 'OperatingSystems_1']\n",
      "M40 subset score (3.): 0.8838668538668539\n",
      "............\n",
      "Best model (M41) with 41 features: ['PageValues', 'VisitorType_New_Visitor', 'TrafficType_3', 'TrafficType_10', 'Browser_11', 'Browser_1', 'Browser_12', 'Browser_9', 'OperatingSystems_5', 'OperatingSystems_7', 'Browser_7', 'TrafficType_11', 'Browser_3', 'Month_Feb', 'OperatingSystems_8', 'TrafficType_5', 'Region_8', 'TrafficType_12', 'TrafficType_16', 'Browser_8', 'TrafficType_14', 'TrafficType_17', 'TrafficType_18', 'TrafficType_7', 'Region_2', 'Browser_13', 'TrafficType_9', 'VisitorType_Other', 'OperatingSystems_6', 'Region_6', 'Region_3', 'Region_5', 'VisitorType_Returning_Visitor', 'Browser_4', 'Month_June', 'TrafficType_15', 'TrafficType_20', 'TrafficType_19', 'Region_7', 'OperatingSystems_1', 'OperatingSystems_4']\n",
      "M41 subset score (3.): 0.883866736866737\n",
      "............\n",
      "Best model (M42) with 42 features: ['PageValues', 'VisitorType_New_Visitor', 'TrafficType_3', 'TrafficType_10', 'Browser_11', 'Browser_1', 'Browser_12', 'Browser_9', 'OperatingSystems_5', 'OperatingSystems_7', 'Browser_7', 'TrafficType_11', 'Browser_3', 'Month_Feb', 'OperatingSystems_8', 'TrafficType_5', 'Region_8', 'TrafficType_12', 'TrafficType_16', 'Browser_8', 'TrafficType_14', 'TrafficType_17', 'TrafficType_18', 'TrafficType_7', 'Region_2', 'Browser_13', 'TrafficType_9', 'VisitorType_Other', 'OperatingSystems_6', 'Region_6', 'Region_3', 'Region_5', 'VisitorType_Returning_Visitor', 'Browser_4', 'Month_June', 'TrafficType_15', 'TrafficType_20', 'TrafficType_19', 'Region_7', 'OperatingSystems_1', 'OperatingSystems_4', 'Browser_5']\n",
      "M42 subset score (3.): 0.884083187083187\n",
      "............\n",
      "Best model (M43) with 43 features: ['PageValues', 'VisitorType_New_Visitor', 'TrafficType_3', 'TrafficType_10', 'Browser_11', 'Browser_1', 'Browser_12', 'Browser_9', 'OperatingSystems_5', 'OperatingSystems_7', 'Browser_7', 'TrafficType_11', 'Browser_3', 'Month_Feb', 'OperatingSystems_8', 'TrafficType_5', 'Region_8', 'TrafficType_12', 'TrafficType_16', 'Browser_8', 'TrafficType_14', 'TrafficType_17', 'TrafficType_18', 'TrafficType_7', 'Region_2', 'Browser_13', 'TrafficType_9', 'VisitorType_Other', 'OperatingSystems_6', 'Region_6', 'Region_3', 'Region_5', 'VisitorType_Returning_Visitor', 'Browser_4', 'Month_June', 'TrafficType_15', 'TrafficType_20', 'TrafficType_19', 'Region_7', 'OperatingSystems_1', 'OperatingSystems_4', 'Browser_5', 'Region_9']\n",
      "M43 subset score (3.): 0.8836507546507546\n",
      "............\n",
      "Best model (M44) with 44 features: ['PageValues', 'VisitorType_New_Visitor', 'TrafficType_3', 'TrafficType_10', 'Browser_11', 'Browser_1', 'Browser_12', 'Browser_9', 'OperatingSystems_5', 'OperatingSystems_7', 'Browser_7', 'TrafficType_11', 'Browser_3', 'Month_Feb', 'OperatingSystems_8', 'TrafficType_5', 'Region_8', 'TrafficType_12', 'TrafficType_16', 'Browser_8', 'TrafficType_14', 'TrafficType_17', 'TrafficType_18', 'TrafficType_7', 'Region_2', 'Browser_13', 'TrafficType_9', 'VisitorType_Other', 'OperatingSystems_6', 'Region_6', 'Region_3', 'Region_5', 'VisitorType_Returning_Visitor', 'Browser_4', 'Month_June', 'TrafficType_15', 'TrafficType_20', 'TrafficType_19', 'Region_7', 'OperatingSystems_1', 'OperatingSystems_4', 'Browser_5', 'Region_9', 'BounceRates']\n",
      "M44 subset score (3.): 0.8834345384345383\n",
      "............\n",
      "Best model (M45) with 45 features: ['PageValues', 'VisitorType_New_Visitor', 'TrafficType_3', 'TrafficType_10', 'Browser_11', 'Browser_1', 'Browser_12', 'Browser_9', 'OperatingSystems_5', 'OperatingSystems_7', 'Browser_7', 'TrafficType_11', 'Browser_3', 'Month_Feb', 'OperatingSystems_8', 'TrafficType_5', 'Region_8', 'TrafficType_12', 'TrafficType_16', 'Browser_8', 'TrafficType_14', 'TrafficType_17', 'TrafficType_18', 'TrafficType_7', 'Region_2', 'Browser_13', 'TrafficType_9', 'VisitorType_Other', 'OperatingSystems_6', 'Region_6', 'Region_3', 'Region_5', 'VisitorType_Returning_Visitor', 'Browser_4', 'Month_June', 'TrafficType_15', 'TrafficType_20', 'TrafficType_19', 'Region_7', 'OperatingSystems_1', 'OperatingSystems_4', 'Browser_5', 'Region_9', 'BounceRates', 'OperatingSystems_2']\n",
      "M45 subset score (3.): 0.8831100971100971\n",
      "............\n",
      "Best model (M46) with 46 features: ['PageValues', 'VisitorType_New_Visitor', 'TrafficType_3', 'TrafficType_10', 'Browser_11', 'Browser_1', 'Browser_12', 'Browser_9', 'OperatingSystems_5', 'OperatingSystems_7', 'Browser_7', 'TrafficType_11', 'Browser_3', 'Month_Feb', 'OperatingSystems_8', 'TrafficType_5', 'Region_8', 'TrafficType_12', 'TrafficType_16', 'Browser_8', 'TrafficType_14', 'TrafficType_17', 'TrafficType_18', 'TrafficType_7', 'Region_2', 'Browser_13', 'TrafficType_9', 'VisitorType_Other', 'OperatingSystems_6', 'Region_6', 'Region_3', 'Region_5', 'VisitorType_Returning_Visitor', 'Browser_4', 'Month_June', 'TrafficType_15', 'TrafficType_20', 'TrafficType_19', 'Region_7', 'OperatingSystems_1', 'OperatingSystems_4', 'Browser_5', 'Region_9', 'BounceRates', 'OperatingSystems_2', 'TrafficType_6']\n",
      "M46 subset score (3.): 0.883002106002106\n",
      "............\n",
      "Best model (M47) with 47 features: ['PageValues', 'VisitorType_New_Visitor', 'TrafficType_3', 'TrafficType_10', 'Browser_11', 'Browser_1', 'Browser_12', 'Browser_9', 'OperatingSystems_5', 'OperatingSystems_7', 'Browser_7', 'TrafficType_11', 'Browser_3', 'Month_Feb', 'OperatingSystems_8', 'TrafficType_5', 'Region_8', 'TrafficType_12', 'TrafficType_16', 'Browser_8', 'TrafficType_14', 'TrafficType_17', 'TrafficType_18', 'TrafficType_7', 'Region_2', 'Browser_13', 'TrafficType_9', 'VisitorType_Other', 'OperatingSystems_6', 'Region_6', 'Region_3', 'Region_5', 'VisitorType_Returning_Visitor', 'Browser_4', 'Month_June', 'TrafficType_15', 'TrafficType_20', 'TrafficType_19', 'Region_7', 'OperatingSystems_1', 'OperatingSystems_4', 'Browser_5', 'Region_9', 'BounceRates', 'OperatingSystems_2', 'TrafficType_6', 'OperatingSystems_3']\n",
      "M47 subset score (3.): 0.883002106002106\n",
      "............\n",
      "Best model (M48) with 48 features: ['PageValues', 'VisitorType_New_Visitor', 'TrafficType_3', 'TrafficType_10', 'Browser_11', 'Browser_1', 'Browser_12', 'Browser_9', 'OperatingSystems_5', 'OperatingSystems_7', 'Browser_7', 'TrafficType_11', 'Browser_3', 'Month_Feb', 'OperatingSystems_8', 'TrafficType_5', 'Region_8', 'TrafficType_12', 'TrafficType_16', 'Browser_8', 'TrafficType_14', 'TrafficType_17', 'TrafficType_18', 'TrafficType_7', 'Region_2', 'Browser_13', 'TrafficType_9', 'VisitorType_Other', 'OperatingSystems_6', 'Region_6', 'Region_3', 'Region_5', 'VisitorType_Returning_Visitor', 'Browser_4', 'Month_June', 'TrafficType_15', 'TrafficType_20', 'TrafficType_19', 'Region_7', 'OperatingSystems_1', 'OperatingSystems_4', 'Browser_5', 'Region_9', 'BounceRates', 'OperatingSystems_2', 'TrafficType_6', 'OperatingSystems_3', 'Browser_10']\n",
      "M48 subset score (3.): 0.883002106002106\n",
      "............\n",
      "Best model (M49) with 49 features: ['PageValues', 'VisitorType_New_Visitor', 'TrafficType_3', 'TrafficType_10', 'Browser_11', 'Browser_1', 'Browser_12', 'Browser_9', 'OperatingSystems_5', 'OperatingSystems_7', 'Browser_7', 'TrafficType_11', 'Browser_3', 'Month_Feb', 'OperatingSystems_8', 'TrafficType_5', 'Region_8', 'TrafficType_12', 'TrafficType_16', 'Browser_8', 'TrafficType_14', 'TrafficType_17', 'TrafficType_18', 'TrafficType_7', 'Region_2', 'Browser_13', 'TrafficType_9', 'VisitorType_Other', 'OperatingSystems_6', 'Region_6', 'Region_3', 'Region_5', 'VisitorType_Returning_Visitor', 'Browser_4', 'Month_June', 'TrafficType_15', 'TrafficType_20', 'TrafficType_19', 'Region_7', 'OperatingSystems_1', 'OperatingSystems_4', 'Browser_5', 'Region_9', 'BounceRates', 'OperatingSystems_2', 'TrafficType_6', 'OperatingSystems_3', 'Browser_10', 'Month_Oct']\n",
      "M49 subset score (3.): 0.8832183222183223\n"
     ]
    },
    {
     "name": "stdout",
     "output_type": "stream",
     "text": [
      "............\n",
      "Best model (M50) with 50 features: ['PageValues', 'VisitorType_New_Visitor', 'TrafficType_3', 'TrafficType_10', 'Browser_11', 'Browser_1', 'Browser_12', 'Browser_9', 'OperatingSystems_5', 'OperatingSystems_7', 'Browser_7', 'TrafficType_11', 'Browser_3', 'Month_Feb', 'OperatingSystems_8', 'TrafficType_5', 'Region_8', 'TrafficType_12', 'TrafficType_16', 'Browser_8', 'TrafficType_14', 'TrafficType_17', 'TrafficType_18', 'TrafficType_7', 'Region_2', 'Browser_13', 'TrafficType_9', 'VisitorType_Other', 'OperatingSystems_6', 'Region_6', 'Region_3', 'Region_5', 'VisitorType_Returning_Visitor', 'Browser_4', 'Month_June', 'TrafficType_15', 'TrafficType_20', 'TrafficType_19', 'Region_7', 'OperatingSystems_1', 'OperatingSystems_4', 'Browser_5', 'Region_9', 'BounceRates', 'OperatingSystems_2', 'TrafficType_6', 'OperatingSystems_3', 'Browser_10', 'Month_Oct', 'Region_1']\n",
      "M50 subset score (3.): 0.8835427635427635\n",
      "............\n",
      "Best model (M51) with 51 features: ['PageValues', 'VisitorType_New_Visitor', 'TrafficType_3', 'TrafficType_10', 'Browser_11', 'Browser_1', 'Browser_12', 'Browser_9', 'OperatingSystems_5', 'OperatingSystems_7', 'Browser_7', 'TrafficType_11', 'Browser_3', 'Month_Feb', 'OperatingSystems_8', 'TrafficType_5', 'Region_8', 'TrafficType_12', 'TrafficType_16', 'Browser_8', 'TrafficType_14', 'TrafficType_17', 'TrafficType_18', 'TrafficType_7', 'Region_2', 'Browser_13', 'TrafficType_9', 'VisitorType_Other', 'OperatingSystems_6', 'Region_6', 'Region_3', 'Region_5', 'VisitorType_Returning_Visitor', 'Browser_4', 'Month_June', 'TrafficType_15', 'TrafficType_20', 'TrafficType_19', 'Region_7', 'OperatingSystems_1', 'OperatingSystems_4', 'Browser_5', 'Region_9', 'BounceRates', 'OperatingSystems_2', 'TrafficType_6', 'OperatingSystems_3', 'Browser_10', 'Month_Oct', 'Region_1', 'Month_Aug']\n",
      "M51 subset score (3.): 0.8835427635427635\n",
      "............\n",
      "Best model (M52) with 52 features: ['PageValues', 'VisitorType_New_Visitor', 'TrafficType_3', 'TrafficType_10', 'Browser_11', 'Browser_1', 'Browser_12', 'Browser_9', 'OperatingSystems_5', 'OperatingSystems_7', 'Browser_7', 'TrafficType_11', 'Browser_3', 'Month_Feb', 'OperatingSystems_8', 'TrafficType_5', 'Region_8', 'TrafficType_12', 'TrafficType_16', 'Browser_8', 'TrafficType_14', 'TrafficType_17', 'TrafficType_18', 'TrafficType_7', 'Region_2', 'Browser_13', 'TrafficType_9', 'VisitorType_Other', 'OperatingSystems_6', 'Region_6', 'Region_3', 'Region_5', 'VisitorType_Returning_Visitor', 'Browser_4', 'Month_June', 'TrafficType_15', 'TrafficType_20', 'TrafficType_19', 'Region_7', 'OperatingSystems_1', 'OperatingSystems_4', 'Browser_5', 'Region_9', 'BounceRates', 'OperatingSystems_2', 'TrafficType_6', 'OperatingSystems_3', 'Browser_10', 'Month_Oct', 'Region_1', 'Month_Aug', 'Region_4']\n",
      "M52 subset score (3.): 0.8835427635427635\n",
      "............\n",
      "Best model (M53) with 53 features: ['PageValues', 'VisitorType_New_Visitor', 'TrafficType_3', 'TrafficType_10', 'Browser_11', 'Browser_1', 'Browser_12', 'Browser_9', 'OperatingSystems_5', 'OperatingSystems_7', 'Browser_7', 'TrafficType_11', 'Browser_3', 'Month_Feb', 'OperatingSystems_8', 'TrafficType_5', 'Region_8', 'TrafficType_12', 'TrafficType_16', 'Browser_8', 'TrafficType_14', 'TrafficType_17', 'TrafficType_18', 'TrafficType_7', 'Region_2', 'Browser_13', 'TrafficType_9', 'VisitorType_Other', 'OperatingSystems_6', 'Region_6', 'Region_3', 'Region_5', 'VisitorType_Returning_Visitor', 'Browser_4', 'Month_June', 'TrafficType_15', 'TrafficType_20', 'TrafficType_19', 'Region_7', 'OperatingSystems_1', 'OperatingSystems_4', 'Browser_5', 'Region_9', 'BounceRates', 'OperatingSystems_2', 'TrafficType_6', 'OperatingSystems_3', 'Browser_10', 'Month_Oct', 'Region_1', 'Month_Aug', 'Region_4', 'Month_Sep']\n",
      "M53 subset score (3.): 0.8832183222183223\n",
      "............\n",
      "Best model (M54) with 54 features: ['PageValues', 'VisitorType_New_Visitor', 'TrafficType_3', 'TrafficType_10', 'Browser_11', 'Browser_1', 'Browser_12', 'Browser_9', 'OperatingSystems_5', 'OperatingSystems_7', 'Browser_7', 'TrafficType_11', 'Browser_3', 'Month_Feb', 'OperatingSystems_8', 'TrafficType_5', 'Region_8', 'TrafficType_12', 'TrafficType_16', 'Browser_8', 'TrafficType_14', 'TrafficType_17', 'TrafficType_18', 'TrafficType_7', 'Region_2', 'Browser_13', 'TrafficType_9', 'VisitorType_Other', 'OperatingSystems_6', 'Region_6', 'Region_3', 'Region_5', 'VisitorType_Returning_Visitor', 'Browser_4', 'Month_June', 'TrafficType_15', 'TrafficType_20', 'TrafficType_19', 'Region_7', 'OperatingSystems_1', 'OperatingSystems_4', 'Browser_5', 'Region_9', 'BounceRates', 'OperatingSystems_2', 'TrafficType_6', 'OperatingSystems_3', 'Browser_10', 'Month_Oct', 'Region_1', 'Month_Aug', 'Region_4', 'Month_Sep', 'TrafficType_4']\n",
      "M54 subset score (3.): 0.8835427635427635\n",
      "............\n",
      "Best model (M55) with 55 features: ['PageValues', 'VisitorType_New_Visitor', 'TrafficType_3', 'TrafficType_10', 'Browser_11', 'Browser_1', 'Browser_12', 'Browser_9', 'OperatingSystems_5', 'OperatingSystems_7', 'Browser_7', 'TrafficType_11', 'Browser_3', 'Month_Feb', 'OperatingSystems_8', 'TrafficType_5', 'Region_8', 'TrafficType_12', 'TrafficType_16', 'Browser_8', 'TrafficType_14', 'TrafficType_17', 'TrafficType_18', 'TrafficType_7', 'Region_2', 'Browser_13', 'TrafficType_9', 'VisitorType_Other', 'OperatingSystems_6', 'Region_6', 'Region_3', 'Region_5', 'VisitorType_Returning_Visitor', 'Browser_4', 'Month_June', 'TrafficType_15', 'TrafficType_20', 'TrafficType_19', 'Region_7', 'OperatingSystems_1', 'OperatingSystems_4', 'Browser_5', 'Region_9', 'BounceRates', 'OperatingSystems_2', 'TrafficType_6', 'OperatingSystems_3', 'Browser_10', 'Month_Oct', 'Region_1', 'Month_Aug', 'Region_4', 'Month_Sep', 'TrafficType_4', 'TrafficType_8']\n",
      "M55 subset score (3.): 0.8830019890019891\n",
      "............\n",
      "Best model (M56) with 56 features: ['PageValues', 'VisitorType_New_Visitor', 'TrafficType_3', 'TrafficType_10', 'Browser_11', 'Browser_1', 'Browser_12', 'Browser_9', 'OperatingSystems_5', 'OperatingSystems_7', 'Browser_7', 'TrafficType_11', 'Browser_3', 'Month_Feb', 'OperatingSystems_8', 'TrafficType_5', 'Region_8', 'TrafficType_12', 'TrafficType_16', 'Browser_8', 'TrafficType_14', 'TrafficType_17', 'TrafficType_18', 'TrafficType_7', 'Region_2', 'Browser_13', 'TrafficType_9', 'VisitorType_Other', 'OperatingSystems_6', 'Region_6', 'Region_3', 'Region_5', 'VisitorType_Returning_Visitor', 'Browser_4', 'Month_June', 'TrafficType_15', 'TrafficType_20', 'TrafficType_19', 'Region_7', 'OperatingSystems_1', 'OperatingSystems_4', 'Browser_5', 'Region_9', 'BounceRates', 'OperatingSystems_2', 'TrafficType_6', 'OperatingSystems_3', 'Browser_10', 'Month_Oct', 'Region_1', 'Month_Aug', 'Region_4', 'Month_Sep', 'TrafficType_4', 'TrafficType_8', 'Browser_2']\n",
      "M56 subset score (3.): 0.8826776646776647\n",
      "............\n",
      "Best model (M57) with 57 features: ['PageValues', 'VisitorType_New_Visitor', 'TrafficType_3', 'TrafficType_10', 'Browser_11', 'Browser_1', 'Browser_12', 'Browser_9', 'OperatingSystems_5', 'OperatingSystems_7', 'Browser_7', 'TrafficType_11', 'Browser_3', 'Month_Feb', 'OperatingSystems_8', 'TrafficType_5', 'Region_8', 'TrafficType_12', 'TrafficType_16', 'Browser_8', 'TrafficType_14', 'TrafficType_17', 'TrafficType_18', 'TrafficType_7', 'Region_2', 'Browser_13', 'TrafficType_9', 'VisitorType_Other', 'OperatingSystems_6', 'Region_6', 'Region_3', 'Region_5', 'VisitorType_Returning_Visitor', 'Browser_4', 'Month_June', 'TrafficType_15', 'TrafficType_20', 'TrafficType_19', 'Region_7', 'OperatingSystems_1', 'OperatingSystems_4', 'Browser_5', 'Region_9', 'BounceRates', 'OperatingSystems_2', 'TrafficType_6', 'OperatingSystems_3', 'Browser_10', 'Month_Oct', 'Region_1', 'Month_Aug', 'Region_4', 'Month_Sep', 'TrafficType_4', 'TrafficType_8', 'Browser_2', 'Browser_6']\n",
      "M57 subset score (3.): 0.8826776646776647\n",
      "............\n",
      "Best model (M58) with 58 features: ['PageValues', 'VisitorType_New_Visitor', 'TrafficType_3', 'TrafficType_10', 'Browser_11', 'Browser_1', 'Browser_12', 'Browser_9', 'OperatingSystems_5', 'OperatingSystems_7', 'Browser_7', 'TrafficType_11', 'Browser_3', 'Month_Feb', 'OperatingSystems_8', 'TrafficType_5', 'Region_8', 'TrafficType_12', 'TrafficType_16', 'Browser_8', 'TrafficType_14', 'TrafficType_17', 'TrafficType_18', 'TrafficType_7', 'Region_2', 'Browser_13', 'TrafficType_9', 'VisitorType_Other', 'OperatingSystems_6', 'Region_6', 'Region_3', 'Region_5', 'VisitorType_Returning_Visitor', 'Browser_4', 'Month_June', 'TrafficType_15', 'TrafficType_20', 'TrafficType_19', 'Region_7', 'OperatingSystems_1', 'OperatingSystems_4', 'Browser_5', 'Region_9', 'BounceRates', 'OperatingSystems_2', 'TrafficType_6', 'OperatingSystems_3', 'Browser_10', 'Month_Oct', 'Region_1', 'Month_Aug', 'Region_4', 'Month_Sep', 'TrafficType_4', 'TrafficType_8', 'Browser_2', 'Browser_6', 'Weekend_False']\n",
      "M58 subset score (3.): 0.8830019890019891\n"
     ]
    },
    {
     "name": "stdout",
     "output_type": "stream",
     "text": [
      "............\n",
      "Best model (M59) with 59 features: ['PageValues', 'VisitorType_New_Visitor', 'TrafficType_3', 'TrafficType_10', 'Browser_11', 'Browser_1', 'Browser_12', 'Browser_9', 'OperatingSystems_5', 'OperatingSystems_7', 'Browser_7', 'TrafficType_11', 'Browser_3', 'Month_Feb', 'OperatingSystems_8', 'TrafficType_5', 'Region_8', 'TrafficType_12', 'TrafficType_16', 'Browser_8', 'TrafficType_14', 'TrafficType_17', 'TrafficType_18', 'TrafficType_7', 'Region_2', 'Browser_13', 'TrafficType_9', 'VisitorType_Other', 'OperatingSystems_6', 'Region_6', 'Region_3', 'Region_5', 'VisitorType_Returning_Visitor', 'Browser_4', 'Month_June', 'TrafficType_15', 'TrafficType_20', 'TrafficType_19', 'Region_7', 'OperatingSystems_1', 'OperatingSystems_4', 'Browser_5', 'Region_9', 'BounceRates', 'OperatingSystems_2', 'TrafficType_6', 'OperatingSystems_3', 'Browser_10', 'Month_Oct', 'Region_1', 'Month_Aug', 'Region_4', 'Month_Sep', 'TrafficType_4', 'TrafficType_8', 'Browser_2', 'Browser_6', 'Weekend_False', 'Month_Dec']\n",
      "M59 subset score (3.): 0.8830019890019891\n",
      "............\n",
      "Best model (M60) with 60 features: ['PageValues', 'VisitorType_New_Visitor', 'TrafficType_3', 'TrafficType_10', 'Browser_11', 'Browser_1', 'Browser_12', 'Browser_9', 'OperatingSystems_5', 'OperatingSystems_7', 'Browser_7', 'TrafficType_11', 'Browser_3', 'Month_Feb', 'OperatingSystems_8', 'TrafficType_5', 'Region_8', 'TrafficType_12', 'TrafficType_16', 'Browser_8', 'TrafficType_14', 'TrafficType_17', 'TrafficType_18', 'TrafficType_7', 'Region_2', 'Browser_13', 'TrafficType_9', 'VisitorType_Other', 'OperatingSystems_6', 'Region_6', 'Region_3', 'Region_5', 'VisitorType_Returning_Visitor', 'Browser_4', 'Month_June', 'TrafficType_15', 'TrafficType_20', 'TrafficType_19', 'Region_7', 'OperatingSystems_1', 'OperatingSystems_4', 'Browser_5', 'Region_9', 'BounceRates', 'OperatingSystems_2', 'TrafficType_6', 'OperatingSystems_3', 'Browser_10', 'Month_Oct', 'Region_1', 'Month_Aug', 'Region_4', 'Month_Sep', 'TrafficType_4', 'TrafficType_8', 'Browser_2', 'Browser_6', 'Weekend_False', 'Month_Dec', 'Weekend_True']\n",
      "M60 subset score (3.): 0.8830019890019891\n",
      "............\n",
      "Best model (M61) with 61 features: ['PageValues', 'VisitorType_New_Visitor', 'TrafficType_3', 'TrafficType_10', 'Browser_11', 'Browser_1', 'Browser_12', 'Browser_9', 'OperatingSystems_5', 'OperatingSystems_7', 'Browser_7', 'TrafficType_11', 'Browser_3', 'Month_Feb', 'OperatingSystems_8', 'TrafficType_5', 'Region_8', 'TrafficType_12', 'TrafficType_16', 'Browser_8', 'TrafficType_14', 'TrafficType_17', 'TrafficType_18', 'TrafficType_7', 'Region_2', 'Browser_13', 'TrafficType_9', 'VisitorType_Other', 'OperatingSystems_6', 'Region_6', 'Region_3', 'Region_5', 'VisitorType_Returning_Visitor', 'Browser_4', 'Month_June', 'TrafficType_15', 'TrafficType_20', 'TrafficType_19', 'Region_7', 'OperatingSystems_1', 'OperatingSystems_4', 'Browser_5', 'Region_9', 'BounceRates', 'OperatingSystems_2', 'TrafficType_6', 'OperatingSystems_3', 'Browser_10', 'Month_Oct', 'Region_1', 'Month_Aug', 'Region_4', 'Month_Sep', 'TrafficType_4', 'TrafficType_8', 'Browser_2', 'Browser_6', 'Weekend_False', 'Month_Dec', 'Weekend_True', 'Administrative_Duration']\n",
      "M61 subset score (3.): 0.8822451152451153\n",
      "............\n",
      "Best model (M62) with 62 features: ['PageValues', 'VisitorType_New_Visitor', 'TrafficType_3', 'TrafficType_10', 'Browser_11', 'Browser_1', 'Browser_12', 'Browser_9', 'OperatingSystems_5', 'OperatingSystems_7', 'Browser_7', 'TrafficType_11', 'Browser_3', 'Month_Feb', 'OperatingSystems_8', 'TrafficType_5', 'Region_8', 'TrafficType_12', 'TrafficType_16', 'Browser_8', 'TrafficType_14', 'TrafficType_17', 'TrafficType_18', 'TrafficType_7', 'Region_2', 'Browser_13', 'TrafficType_9', 'VisitorType_Other', 'OperatingSystems_6', 'Region_6', 'Region_3', 'Region_5', 'VisitorType_Returning_Visitor', 'Browser_4', 'Month_June', 'TrafficType_15', 'TrafficType_20', 'TrafficType_19', 'Region_7', 'OperatingSystems_1', 'OperatingSystems_4', 'Browser_5', 'Region_9', 'BounceRates', 'OperatingSystems_2', 'TrafficType_6', 'OperatingSystems_3', 'Browser_10', 'Month_Oct', 'Region_1', 'Month_Aug', 'Region_4', 'Month_Sep', 'TrafficType_4', 'TrafficType_8', 'Browser_2', 'Browser_6', 'Weekend_False', 'Month_Dec', 'Weekend_True', 'Administrative_Duration', 'Month_Jul']\n",
      "M62 subset score (3.): 0.8822449982449981\n",
      "............\n",
      "Best model (M63) with 63 features: ['PageValues', 'VisitorType_New_Visitor', 'TrafficType_3', 'TrafficType_10', 'Browser_11', 'Browser_1', 'Browser_12', 'Browser_9', 'OperatingSystems_5', 'OperatingSystems_7', 'Browser_7', 'TrafficType_11', 'Browser_3', 'Month_Feb', 'OperatingSystems_8', 'TrafficType_5', 'Region_8', 'TrafficType_12', 'TrafficType_16', 'Browser_8', 'TrafficType_14', 'TrafficType_17', 'TrafficType_18', 'TrafficType_7', 'Region_2', 'Browser_13', 'TrafficType_9', 'VisitorType_Other', 'OperatingSystems_6', 'Region_6', 'Region_3', 'Region_5', 'VisitorType_Returning_Visitor', 'Browser_4', 'Month_June', 'TrafficType_15', 'TrafficType_20', 'TrafficType_19', 'Region_7', 'OperatingSystems_1', 'OperatingSystems_4', 'Browser_5', 'Region_9', 'BounceRates', 'OperatingSystems_2', 'TrafficType_6', 'OperatingSystems_3', 'Browser_10', 'Month_Oct', 'Region_1', 'Month_Aug', 'Region_4', 'Month_Sep', 'TrafficType_4', 'TrafficType_8', 'Browser_2', 'Browser_6', 'Weekend_False', 'Month_Dec', 'Weekend_True', 'Administrative_Duration', 'Month_Jul', 'TrafficType_1']\n",
      "M63 subset score (3.): 0.8824613314613314\n",
      "............\n",
      "Best model (M64) with 64 features: ['PageValues', 'VisitorType_New_Visitor', 'TrafficType_3', 'TrafficType_10', 'Browser_11', 'Browser_1', 'Browser_12', 'Browser_9', 'OperatingSystems_5', 'OperatingSystems_7', 'Browser_7', 'TrafficType_11', 'Browser_3', 'Month_Feb', 'OperatingSystems_8', 'TrafficType_5', 'Region_8', 'TrafficType_12', 'TrafficType_16', 'Browser_8', 'TrafficType_14', 'TrafficType_17', 'TrafficType_18', 'TrafficType_7', 'Region_2', 'Browser_13', 'TrafficType_9', 'VisitorType_Other', 'OperatingSystems_6', 'Region_6', 'Region_3', 'Region_5', 'VisitorType_Returning_Visitor', 'Browser_4', 'Month_June', 'TrafficType_15', 'TrafficType_20', 'TrafficType_19', 'Region_7', 'OperatingSystems_1', 'OperatingSystems_4', 'Browser_5', 'Region_9', 'BounceRates', 'OperatingSystems_2', 'TrafficType_6', 'OperatingSystems_3', 'Browser_10', 'Month_Oct', 'Region_1', 'Month_Aug', 'Region_4', 'Month_Sep', 'TrafficType_4', 'TrafficType_8', 'Browser_2', 'Browser_6', 'Weekend_False', 'Month_Dec', 'Weekend_True', 'Administrative_Duration', 'Month_Jul', 'TrafficType_1', 'ExitRates']\n",
      "M64 subset score (3.): 0.8832184392184391\n",
      "............\n",
      "Best model (M65) with 65 features: ['PageValues', 'VisitorType_New_Visitor', 'TrafficType_3', 'TrafficType_10', 'Browser_11', 'Browser_1', 'Browser_12', 'Browser_9', 'OperatingSystems_5', 'OperatingSystems_7', 'Browser_7', 'TrafficType_11', 'Browser_3', 'Month_Feb', 'OperatingSystems_8', 'TrafficType_5', 'Region_8', 'TrafficType_12', 'TrafficType_16', 'Browser_8', 'TrafficType_14', 'TrafficType_17', 'TrafficType_18', 'TrafficType_7', 'Region_2', 'Browser_13', 'TrafficType_9', 'VisitorType_Other', 'OperatingSystems_6', 'Region_6', 'Region_3', 'Region_5', 'VisitorType_Returning_Visitor', 'Browser_4', 'Month_June', 'TrafficType_15', 'TrafficType_20', 'TrafficType_19', 'Region_7', 'OperatingSystems_1', 'OperatingSystems_4', 'Browser_5', 'Region_9', 'BounceRates', 'OperatingSystems_2', 'TrafficType_6', 'OperatingSystems_3', 'Browser_10', 'Month_Oct', 'Region_1', 'Month_Aug', 'Region_4', 'Month_Sep', 'TrafficType_4', 'TrafficType_8', 'Browser_2', 'Browser_6', 'Weekend_False', 'Month_Dec', 'Weekend_True', 'Administrative_Duration', 'Month_Jul', 'TrafficType_1', 'ExitRates', 'Administrative']\n",
      "M65 subset score (3.): 0.882894114894115\n",
      "............\n",
      "Best model (M66) with 66 features: ['PageValues', 'VisitorType_New_Visitor', 'TrafficType_3', 'TrafficType_10', 'Browser_11', 'Browser_1', 'Browser_12', 'Browser_9', 'OperatingSystems_5', 'OperatingSystems_7', 'Browser_7', 'TrafficType_11', 'Browser_3', 'Month_Feb', 'OperatingSystems_8', 'TrafficType_5', 'Region_8', 'TrafficType_12', 'TrafficType_16', 'Browser_8', 'TrafficType_14', 'TrafficType_17', 'TrafficType_18', 'TrafficType_7', 'Region_2', 'Browser_13', 'TrafficType_9', 'VisitorType_Other', 'OperatingSystems_6', 'Region_6', 'Region_3', 'Region_5', 'VisitorType_Returning_Visitor', 'Browser_4', 'Month_June', 'TrafficType_15', 'TrafficType_20', 'TrafficType_19', 'Region_7', 'OperatingSystems_1', 'OperatingSystems_4', 'Browser_5', 'Region_9', 'BounceRates', 'OperatingSystems_2', 'TrafficType_6', 'OperatingSystems_3', 'Browser_10', 'Month_Oct', 'Region_1', 'Month_Aug', 'Region_4', 'Month_Sep', 'TrafficType_4', 'TrafficType_8', 'Browser_2', 'Browser_6', 'Weekend_False', 'Month_Dec', 'Weekend_True', 'Administrative_Duration', 'Month_Jul', 'TrafficType_1', 'ExitRates', 'Administrative', 'ProductRelated_Duration']\n",
      "M66 subset score (3.): 0.8831102141102141\n"
     ]
    },
    {
     "name": "stdout",
     "output_type": "stream",
     "text": [
      "............\n",
      "Best model (M67) with 67 features: ['PageValues', 'VisitorType_New_Visitor', 'TrafficType_3', 'TrafficType_10', 'Browser_11', 'Browser_1', 'Browser_12', 'Browser_9', 'OperatingSystems_5', 'OperatingSystems_7', 'Browser_7', 'TrafficType_11', 'Browser_3', 'Month_Feb', 'OperatingSystems_8', 'TrafficType_5', 'Region_8', 'TrafficType_12', 'TrafficType_16', 'Browser_8', 'TrafficType_14', 'TrafficType_17', 'TrafficType_18', 'TrafficType_7', 'Region_2', 'Browser_13', 'TrafficType_9', 'VisitorType_Other', 'OperatingSystems_6', 'Region_6', 'Region_3', 'Region_5', 'VisitorType_Returning_Visitor', 'Browser_4', 'Month_June', 'TrafficType_15', 'TrafficType_20', 'TrafficType_19', 'Region_7', 'OperatingSystems_1', 'OperatingSystems_4', 'Browser_5', 'Region_9', 'BounceRates', 'OperatingSystems_2', 'TrafficType_6', 'OperatingSystems_3', 'Browser_10', 'Month_Oct', 'Region_1', 'Month_Aug', 'Region_4', 'Month_Sep', 'TrafficType_4', 'TrafficType_8', 'Browser_2', 'Browser_6', 'Weekend_False', 'Month_Dec', 'Weekend_True', 'Administrative_Duration', 'Month_Jul', 'TrafficType_1', 'ExitRates', 'Administrative', 'ProductRelated_Duration', 'ProductRelated']\n",
      "M67 subset score (3.): 0.8831098631098631\n",
      "............\n",
      "Best model (M68) with 68 features: ['PageValues', 'VisitorType_New_Visitor', 'TrafficType_3', 'TrafficType_10', 'Browser_11', 'Browser_1', 'Browser_12', 'Browser_9', 'OperatingSystems_5', 'OperatingSystems_7', 'Browser_7', 'TrafficType_11', 'Browser_3', 'Month_Feb', 'OperatingSystems_8', 'TrafficType_5', 'Region_8', 'TrafficType_12', 'TrafficType_16', 'Browser_8', 'TrafficType_14', 'TrafficType_17', 'TrafficType_18', 'TrafficType_7', 'Region_2', 'Browser_13', 'TrafficType_9', 'VisitorType_Other', 'OperatingSystems_6', 'Region_6', 'Region_3', 'Region_5', 'VisitorType_Returning_Visitor', 'Browser_4', 'Month_June', 'TrafficType_15', 'TrafficType_20', 'TrafficType_19', 'Region_7', 'OperatingSystems_1', 'OperatingSystems_4', 'Browser_5', 'Region_9', 'BounceRates', 'OperatingSystems_2', 'TrafficType_6', 'OperatingSystems_3', 'Browser_10', 'Month_Oct', 'Region_1', 'Month_Aug', 'Region_4', 'Month_Sep', 'TrafficType_4', 'TrafficType_8', 'Browser_2', 'Browser_6', 'Weekend_False', 'Month_Dec', 'Weekend_True', 'Administrative_Duration', 'Month_Jul', 'TrafficType_1', 'ExitRates', 'Administrative', 'ProductRelated_Duration', 'ProductRelated', 'Informational_Duration']\n",
      "M68 subset score (3.): 0.8832179712179713\n",
      "............\n",
      "Best model (M69) with 69 features: ['PageValues', 'VisitorType_New_Visitor', 'TrafficType_3', 'TrafficType_10', 'Browser_11', 'Browser_1', 'Browser_12', 'Browser_9', 'OperatingSystems_5', 'OperatingSystems_7', 'Browser_7', 'TrafficType_11', 'Browser_3', 'Month_Feb', 'OperatingSystems_8', 'TrafficType_5', 'Region_8', 'TrafficType_12', 'TrafficType_16', 'Browser_8', 'TrafficType_14', 'TrafficType_17', 'TrafficType_18', 'TrafficType_7', 'Region_2', 'Browser_13', 'TrafficType_9', 'VisitorType_Other', 'OperatingSystems_6', 'Region_6', 'Region_3', 'Region_5', 'VisitorType_Returning_Visitor', 'Browser_4', 'Month_June', 'TrafficType_15', 'TrafficType_20', 'TrafficType_19', 'Region_7', 'OperatingSystems_1', 'OperatingSystems_4', 'Browser_5', 'Region_9', 'BounceRates', 'OperatingSystems_2', 'TrafficType_6', 'OperatingSystems_3', 'Browser_10', 'Month_Oct', 'Region_1', 'Month_Aug', 'Region_4', 'Month_Sep', 'TrafficType_4', 'TrafficType_8', 'Browser_2', 'Browser_6', 'Weekend_False', 'Month_Dec', 'Weekend_True', 'Administrative_Duration', 'Month_Jul', 'TrafficType_1', 'ExitRates', 'Administrative', 'ProductRelated_Duration', 'ProductRelated', 'Informational_Duration', 'SpecialDay']\n",
      "M69 subset score (3.): 0.8831103311103311\n",
      "............\n",
      "Best model (M70) with 70 features: ['PageValues', 'VisitorType_New_Visitor', 'TrafficType_3', 'TrafficType_10', 'Browser_11', 'Browser_1', 'Browser_12', 'Browser_9', 'OperatingSystems_5', 'OperatingSystems_7', 'Browser_7', 'TrafficType_11', 'Browser_3', 'Month_Feb', 'OperatingSystems_8', 'TrafficType_5', 'Region_8', 'TrafficType_12', 'TrafficType_16', 'Browser_8', 'TrafficType_14', 'TrafficType_17', 'TrafficType_18', 'TrafficType_7', 'Region_2', 'Browser_13', 'TrafficType_9', 'VisitorType_Other', 'OperatingSystems_6', 'Region_6', 'Region_3', 'Region_5', 'VisitorType_Returning_Visitor', 'Browser_4', 'Month_June', 'TrafficType_15', 'TrafficType_20', 'TrafficType_19', 'Region_7', 'OperatingSystems_1', 'OperatingSystems_4', 'Browser_5', 'Region_9', 'BounceRates', 'OperatingSystems_2', 'TrafficType_6', 'OperatingSystems_3', 'Browser_10', 'Month_Oct', 'Region_1', 'Month_Aug', 'Region_4', 'Month_Sep', 'TrafficType_4', 'TrafficType_8', 'Browser_2', 'Browser_6', 'Weekend_False', 'Month_Dec', 'Weekend_True', 'Administrative_Duration', 'Month_Jul', 'TrafficType_1', 'ExitRates', 'Administrative', 'ProductRelated_Duration', 'ProductRelated', 'Informational_Duration', 'SpecialDay', 'Informational']\n",
      "M70 subset score (3.): 0.8831103311103311\n",
      "............\n",
      "Best model (M71) with 71 features: ['PageValues', 'VisitorType_New_Visitor', 'TrafficType_3', 'TrafficType_10', 'Browser_11', 'Browser_1', 'Browser_12', 'Browser_9', 'OperatingSystems_5', 'OperatingSystems_7', 'Browser_7', 'TrafficType_11', 'Browser_3', 'Month_Feb', 'OperatingSystems_8', 'TrafficType_5', 'Region_8', 'TrafficType_12', 'TrafficType_16', 'Browser_8', 'TrafficType_14', 'TrafficType_17', 'TrafficType_18', 'TrafficType_7', 'Region_2', 'Browser_13', 'TrafficType_9', 'VisitorType_Other', 'OperatingSystems_6', 'Region_6', 'Region_3', 'Region_5', 'VisitorType_Returning_Visitor', 'Browser_4', 'Month_June', 'TrafficType_15', 'TrafficType_20', 'TrafficType_19', 'Region_7', 'OperatingSystems_1', 'OperatingSystems_4', 'Browser_5', 'Region_9', 'BounceRates', 'OperatingSystems_2', 'TrafficType_6', 'OperatingSystems_3', 'Browser_10', 'Month_Oct', 'Region_1', 'Month_Aug', 'Region_4', 'Month_Sep', 'TrafficType_4', 'TrafficType_8', 'Browser_2', 'Browser_6', 'Weekend_False', 'Month_Dec', 'Weekend_True', 'Administrative_Duration', 'Month_Jul', 'TrafficType_1', 'ExitRates', 'Administrative', 'ProductRelated_Duration', 'ProductRelated', 'Informational_Duration', 'SpecialDay', 'Informational', 'Month_May']\n",
      "M71 subset score (3.): 0.8821367731367731\n",
      "............\n",
      "Best model (M72) with 72 features: ['PageValues', 'VisitorType_New_Visitor', 'TrafficType_3', 'TrafficType_10', 'Browser_11', 'Browser_1', 'Browser_12', 'Browser_9', 'OperatingSystems_5', 'OperatingSystems_7', 'Browser_7', 'TrafficType_11', 'Browser_3', 'Month_Feb', 'OperatingSystems_8', 'TrafficType_5', 'Region_8', 'TrafficType_12', 'TrafficType_16', 'Browser_8', 'TrafficType_14', 'TrafficType_17', 'TrafficType_18', 'TrafficType_7', 'Region_2', 'Browser_13', 'TrafficType_9', 'VisitorType_Other', 'OperatingSystems_6', 'Region_6', 'Region_3', 'Region_5', 'VisitorType_Returning_Visitor', 'Browser_4', 'Month_June', 'TrafficType_15', 'TrafficType_20', 'TrafficType_19', 'Region_7', 'OperatingSystems_1', 'OperatingSystems_4', 'Browser_5', 'Region_9', 'BounceRates', 'OperatingSystems_2', 'TrafficType_6', 'OperatingSystems_3', 'Browser_10', 'Month_Oct', 'Region_1', 'Month_Aug', 'Region_4', 'Month_Sep', 'TrafficType_4', 'TrafficType_8', 'Browser_2', 'Browser_6', 'Weekend_False', 'Month_Dec', 'Weekend_True', 'Administrative_Duration', 'Month_Jul', 'TrafficType_1', 'ExitRates', 'Administrative', 'ProductRelated_Duration', 'ProductRelated', 'Informational_Duration', 'SpecialDay', 'Informational', 'Month_May', 'TrafficType_13']\n",
      "M72 subset score (3.): 0.8824608634608635\n",
      "............\n",
      "Best model (M73) with 73 features: ['PageValues', 'VisitorType_New_Visitor', 'TrafficType_3', 'TrafficType_10', 'Browser_11', 'Browser_1', 'Browser_12', 'Browser_9', 'OperatingSystems_5', 'OperatingSystems_7', 'Browser_7', 'TrafficType_11', 'Browser_3', 'Month_Feb', 'OperatingSystems_8', 'TrafficType_5', 'Region_8', 'TrafficType_12', 'TrafficType_16', 'Browser_8', 'TrafficType_14', 'TrafficType_17', 'TrafficType_18', 'TrafficType_7', 'Region_2', 'Browser_13', 'TrafficType_9', 'VisitorType_Other', 'OperatingSystems_6', 'Region_6', 'Region_3', 'Region_5', 'VisitorType_Returning_Visitor', 'Browser_4', 'Month_June', 'TrafficType_15', 'TrafficType_20', 'TrafficType_19', 'Region_7', 'OperatingSystems_1', 'OperatingSystems_4', 'Browser_5', 'Region_9', 'BounceRates', 'OperatingSystems_2', 'TrafficType_6', 'OperatingSystems_3', 'Browser_10', 'Month_Oct', 'Region_1', 'Month_Aug', 'Region_4', 'Month_Sep', 'TrafficType_4', 'TrafficType_8', 'Browser_2', 'Browser_6', 'Weekend_False', 'Month_Dec', 'Weekend_True', 'Administrative_Duration', 'Month_Jul', 'TrafficType_1', 'ExitRates', 'Administrative', 'ProductRelated_Duration', 'ProductRelated', 'Informational_Duration', 'SpecialDay', 'Informational', 'Month_May', 'TrafficType_13', 'TrafficType_2']\n",
      "M73 subset score (3.): 0.8824608634608635\n"
     ]
    },
    {
     "name": "stdout",
     "output_type": "stream",
     "text": [
      "............\n",
      "Best model (M74) with 74 features: ['PageValues', 'VisitorType_New_Visitor', 'TrafficType_3', 'TrafficType_10', 'Browser_11', 'Browser_1', 'Browser_12', 'Browser_9', 'OperatingSystems_5', 'OperatingSystems_7', 'Browser_7', 'TrafficType_11', 'Browser_3', 'Month_Feb', 'OperatingSystems_8', 'TrafficType_5', 'Region_8', 'TrafficType_12', 'TrafficType_16', 'Browser_8', 'TrafficType_14', 'TrafficType_17', 'TrafficType_18', 'TrafficType_7', 'Region_2', 'Browser_13', 'TrafficType_9', 'VisitorType_Other', 'OperatingSystems_6', 'Region_6', 'Region_3', 'Region_5', 'VisitorType_Returning_Visitor', 'Browser_4', 'Month_June', 'TrafficType_15', 'TrafficType_20', 'TrafficType_19', 'Region_7', 'OperatingSystems_1', 'OperatingSystems_4', 'Browser_5', 'Region_9', 'BounceRates', 'OperatingSystems_2', 'TrafficType_6', 'OperatingSystems_3', 'Browser_10', 'Month_Oct', 'Region_1', 'Month_Aug', 'Region_4', 'Month_Sep', 'TrafficType_4', 'TrafficType_8', 'Browser_2', 'Browser_6', 'Weekend_False', 'Month_Dec', 'Weekend_True', 'Administrative_Duration', 'Month_Jul', 'TrafficType_1', 'ExitRates', 'Administrative', 'ProductRelated_Duration', 'ProductRelated', 'Informational_Duration', 'SpecialDay', 'Informational', 'Month_May', 'TrafficType_13', 'TrafficType_2', 'Month_Mar']\n",
      "M74 subset score (3.): 0.8817035217035217\n",
      "............\n",
      "Best model (M75) with 75 features: ['PageValues', 'VisitorType_New_Visitor', 'TrafficType_3', 'TrafficType_10', 'Browser_11', 'Browser_1', 'Browser_12', 'Browser_9', 'OperatingSystems_5', 'OperatingSystems_7', 'Browser_7', 'TrafficType_11', 'Browser_3', 'Month_Feb', 'OperatingSystems_8', 'TrafficType_5', 'Region_8', 'TrafficType_12', 'TrafficType_16', 'Browser_8', 'TrafficType_14', 'TrafficType_17', 'TrafficType_18', 'TrafficType_7', 'Region_2', 'Browser_13', 'TrafficType_9', 'VisitorType_Other', 'OperatingSystems_6', 'Region_6', 'Region_3', 'Region_5', 'VisitorType_Returning_Visitor', 'Browser_4', 'Month_June', 'TrafficType_15', 'TrafficType_20', 'TrafficType_19', 'Region_7', 'OperatingSystems_1', 'OperatingSystems_4', 'Browser_5', 'Region_9', 'BounceRates', 'OperatingSystems_2', 'TrafficType_6', 'OperatingSystems_3', 'Browser_10', 'Month_Oct', 'Region_1', 'Month_Aug', 'Region_4', 'Month_Sep', 'TrafficType_4', 'TrafficType_8', 'Browser_2', 'Browser_6', 'Weekend_False', 'Month_Dec', 'Weekend_True', 'Administrative_Duration', 'Month_Jul', 'TrafficType_1', 'ExitRates', 'Administrative', 'ProductRelated_Duration', 'ProductRelated', 'Informational_Duration', 'SpecialDay', 'Informational', 'Month_May', 'TrafficType_13', 'TrafficType_2', 'Month_Mar', 'Month_Nov']\n",
      "M75 subset score (3.): 0.8817035217035217\n",
      "\n",
      " Best configuration has 42 features\n",
      "Features: ['PageValues', 'VisitorType_New_Visitor', 'TrafficType_3', 'TrafficType_10', 'Browser_11', 'Browser_1', 'Browser_12', 'Browser_9', 'OperatingSystems_5', 'OperatingSystems_7', 'Browser_7', 'TrafficType_11', 'Browser_3', 'Month_Feb', 'OperatingSystems_8', 'TrafficType_5', 'Region_8', 'TrafficType_12', 'TrafficType_16', 'Browser_8', 'TrafficType_14', 'TrafficType_17', 'TrafficType_18', 'TrafficType_7', 'Region_2', 'Browser_13', 'TrafficType_9', 'VisitorType_Other', 'OperatingSystems_6', 'Region_6', 'Region_3', 'Region_5', 'VisitorType_Returning_Visitor', 'Browser_4', 'Month_June', 'TrafficType_15', 'TrafficType_20', 'TrafficType_19', 'Region_7', 'OperatingSystems_1', 'OperatingSystems_4', 'Browser_5']\n",
      "Total number of trained models: 3600\n"
     ]
    },
    {
     "data": {
      "image/png": "[encoded data removed]",
      "text/plain": [
       "<Figure size 640x480 with 1 Axes>"
      ]
     },
     "metadata": {},
     "output_type": "display_data"
    },
    {
     "data": {
      "image/png": "[encoded data removed]",
      "text/plain": [
       "<Figure size 640x480 with 1 Axes>"
      ]
     },
     "metadata": {},
     "output_type": "display_data"
    }
   ],
   "source": [
    "cv = 10\n",
    "forward_selection(X_train_scaled, y_train, X_test_scaled, y_test,\n",
    "                  get_evaluator(make_scorer(accuracy)), np.argmax, # 2.\n",
    "                  get_cv_evaluator(make_scorer(accuracy), cv), np.argmax, # 3.\n",
    "                  get_evaluator(make_scorer(accuracy)), np.argmax, # test\n",
    "                  candidates_scorer_name=\"Accuracy\",\n",
    "                  subsets_scorer_name=\"Accuracy (CV)\",\n",
    "                  verbose=True, weight_step3=cv)"
   ]
  },
  {
   "cell_type": "code",
   "execution_count": 9,
   "id": "b5e5d397",
   "metadata": {},
   "outputs": [
    {
     "data": {
      "text/plain": [
       "LogisticRegression(C=0.0001, max_iter=1000, penalty='l1', solver='saga')"
      ]
     },
     "execution_count": 9,
     "metadata": {},
     "output_type": "execute_result"
    },
    {
     "data": {
      "text/plain": [
       "LogisticRegression(C=0.00514949494949495, max_iter=1000, penalty='l1',\n",
       "                   solver='saga')"
      ]
     },
     "execution_count": 9,
     "metadata": {},
     "output_type": "execute_result"
    },
    {
     "data": {
      "text/plain": [
       "LogisticRegression(C=0.010198989898989898, max_iter=1000, penalty='l1',\n",
       "                   solver='saga')"
      ]
     },
     "execution_count": 9,
     "metadata": {},
     "output_type": "execute_result"
    },
    {
     "data": {
      "text/plain": [
       "LogisticRegression(C=0.015248484848484848, max_iter=1000, penalty='l1',\n",
       "                   solver='saga')"
      ]
     },
     "execution_count": 9,
     "metadata": {},
     "output_type": "execute_result"
    },
    {
     "data": {
      "text/plain": [
       "LogisticRegression(C=0.020297979797979798, max_iter=1000, penalty='l1',\n",
       "                   solver='saga')"
      ]
     },
     "execution_count": 9,
     "metadata": {},
     "output_type": "execute_result"
    },
    {
     "data": {
      "text/plain": [
       "LogisticRegression(C=0.025347474747474747, max_iter=1000, penalty='l1',\n",
       "                   solver='saga')"
      ]
     },
     "execution_count": 9,
     "metadata": {},
     "output_type": "execute_result"
    },
    {
     "data": {
      "text/plain": [
       "LogisticRegression(C=0.030396969696969697, max_iter=1000, penalty='l1',\n",
       "                   solver='saga')"
      ]
     },
     "execution_count": 9,
     "metadata": {},
     "output_type": "execute_result"
    },
    {
     "data": {
      "text/plain": [
       "LogisticRegression(C=0.03544646464646465, max_iter=1000, penalty='l1',\n",
       "                   solver='saga')"
      ]
     },
     "execution_count": 9,
     "metadata": {},
     "output_type": "execute_result"
    },
    {
     "data": {
      "text/plain": [
       "LogisticRegression(C=0.0404959595959596, max_iter=1000, penalty='l1',\n",
       "                   solver='saga')"
      ]
     },
     "execution_count": 9,
     "metadata": {},
     "output_type": "execute_result"
    },
    {
     "data": {
      "text/plain": [
       "LogisticRegression(C=0.04554545454545455, max_iter=1000, penalty='l1',\n",
       "                   solver='saga')"
      ]
     },
     "execution_count": 9,
     "metadata": {},
     "output_type": "execute_result"
    },
    {
     "data": {
      "text/plain": [
       "LogisticRegression(C=0.0505949494949495, max_iter=1000, penalty='l1',\n",
       "                   solver='saga')"
      ]
     },
     "execution_count": 9,
     "metadata": {},
     "output_type": "execute_result"
    },
    {
     "data": {
      "text/plain": [
       "LogisticRegression(C=0.05564444444444445, max_iter=1000, penalty='l1',\n",
       "                   solver='saga')"
      ]
     },
     "execution_count": 9,
     "metadata": {},
     "output_type": "execute_result"
    },
    {
     "data": {
      "text/plain": [
       "LogisticRegression(C=0.0606939393939394, max_iter=1000, penalty='l1',\n",
       "                   solver='saga')"
      ]
     },
     "execution_count": 9,
     "metadata": {},
     "output_type": "execute_result"
    },
    {
     "data": {
      "text/plain": [
       "LogisticRegression(C=0.06574343434343434, max_iter=1000, penalty='l1',\n",
       "                   solver='saga')"
      ]
     },
     "execution_count": 9,
     "metadata": {},
     "output_type": "execute_result"
    },
    {
     "data": {
      "text/plain": [
       "LogisticRegression(C=0.0707929292929293, max_iter=1000, penalty='l1',\n",
       "                   solver='saga')"
      ]
     },
     "execution_count": 9,
     "metadata": {},
     "output_type": "execute_result"
    },
    {
     "data": {
      "text/plain": [
       "LogisticRegression(C=0.07584242424242425, max_iter=1000, penalty='l1',\n",
       "                   solver='saga')"
      ]
     },
     "execution_count": 9,
     "metadata": {},
     "output_type": "execute_result"
    },
    {
     "data": {
      "text/plain": [
       "LogisticRegression(C=0.0808919191919192, max_iter=1000, penalty='l1',\n",
       "                   solver='saga')"
      ]
     },
     "execution_count": 9,
     "metadata": {},
     "output_type": "execute_result"
    },
    {
     "data": {
      "text/plain": [
       "LogisticRegression(C=0.08594141414141414, max_iter=1000, penalty='l1',\n",
       "                   solver='saga')"
      ]
     },
     "execution_count": 9,
     "metadata": {},
     "output_type": "execute_result"
    },
    {
     "data": {
      "text/plain": [
       "LogisticRegression(C=0.0909909090909091, max_iter=1000, penalty='l1',\n",
       "                   solver='saga')"
      ]
     },
     "execution_count": 9,
     "metadata": {},
     "output_type": "execute_result"
    },
    {
     "data": {
      "text/plain": [
       "LogisticRegression(C=0.09604040404040405, max_iter=1000, penalty='l1',\n",
       "                   solver='saga')"
      ]
     },
     "execution_count": 9,
     "metadata": {},
     "output_type": "execute_result"
    },
    {
     "data": {
      "text/plain": [
       "LogisticRegression(C=0.101089898989899, max_iter=1000, penalty='l1',\n",
       "                   solver='saga')"
      ]
     },
     "execution_count": 9,
     "metadata": {},
     "output_type": "execute_result"
    },
    {
     "data": {
      "text/plain": [
       "LogisticRegression(C=0.10613939393939394, max_iter=1000, penalty='l1',\n",
       "                   solver='saga')"
      ]
     },
     "execution_count": 9,
     "metadata": {},
     "output_type": "execute_result"
    },
    {
     "data": {
      "text/plain": [
       "LogisticRegression(C=0.11118888888888889, max_iter=1000, penalty='l1',\n",
       "                   solver='saga')"
      ]
     },
     "execution_count": 9,
     "metadata": {},
     "output_type": "execute_result"
    },
    {
     "data": {
      "text/plain": [
       "LogisticRegression(C=0.11623838383838385, max_iter=1000, penalty='l1',\n",
       "                   solver='saga')"
      ]
     },
     "execution_count": 9,
     "metadata": {},
     "output_type": "execute_result"
    },
    {
     "data": {
      "text/plain": [
       "LogisticRegression(C=0.12128787878787879, max_iter=1000, penalty='l1',\n",
       "                   solver='saga')"
      ]
     },
     "execution_count": 9,
     "metadata": {},
     "output_type": "execute_result"
    },
    {
     "data": {
      "text/plain": [
       "LogisticRegression(C=0.12633737373737372, max_iter=1000, penalty='l1',\n",
       "                   solver='saga')"
      ]
     },
     "execution_count": 9,
     "metadata": {},
     "output_type": "execute_result"
    },
    {
     "data": {
      "text/plain": [
       "LogisticRegression(C=0.13138686868686866, max_iter=1000, penalty='l1',\n",
       "                   solver='saga')"
      ]
     },
     "execution_count": 9,
     "metadata": {},
     "output_type": "execute_result"
    },
    {
     "data": {
      "text/plain": [
       "LogisticRegression(C=0.13643636363636363, max_iter=1000, penalty='l1',\n",
       "                   solver='saga')"
      ]
     },
     "execution_count": 9,
     "metadata": {},
     "output_type": "execute_result"
    },
    {
     "data": {
      "text/plain": [
       "LogisticRegression(C=0.14148585858585858, max_iter=1000, penalty='l1',\n",
       "                   solver='saga')"
      ]
     },
     "execution_count": 9,
     "metadata": {},
     "output_type": "execute_result"
    },
    {
     "data": {
      "text/plain": [
       "LogisticRegression(C=0.14653535353535352, max_iter=1000, penalty='l1',\n",
       "                   solver='saga')"
      ]
     },
     "execution_count": 9,
     "metadata": {},
     "output_type": "execute_result"
    },
    {
     "data": {
      "text/plain": [
       "LogisticRegression(C=0.1515848484848485, max_iter=1000, penalty='l1',\n",
       "                   solver='saga')"
      ]
     },
     "execution_count": 9,
     "metadata": {},
     "output_type": "execute_result"
    },
    {
     "data": {
      "text/plain": [
       "LogisticRegression(C=0.15663434343434343, max_iter=1000, penalty='l1',\n",
       "                   solver='saga')"
      ]
     },
     "execution_count": 9,
     "metadata": {},
     "output_type": "execute_result"
    },
    {
     "data": {
      "text/plain": [
       "LogisticRegression(C=0.16168383838383837, max_iter=1000, penalty='l1',\n",
       "                   solver='saga')"
      ]
     },
     "execution_count": 9,
     "metadata": {},
     "output_type": "execute_result"
    },
    {
     "data": {
      "text/plain": [
       "LogisticRegression(C=0.16673333333333332, max_iter=1000, penalty='l1',\n",
       "                   solver='saga')"
      ]
     },
     "execution_count": 9,
     "metadata": {},
     "output_type": "execute_result"
    },
    {
     "data": {
      "text/plain": [
       "LogisticRegression(C=0.17178282828282826, max_iter=1000, penalty='l1',\n",
       "                   solver='saga')"
      ]
     },
     "execution_count": 9,
     "metadata": {},
     "output_type": "execute_result"
    },
    {
     "data": {
      "text/plain": [
       "LogisticRegression(C=0.17683232323232323, max_iter=1000, penalty='l1',\n",
       "                   solver='saga')"
      ]
     },
     "execution_count": 9,
     "metadata": {},
     "output_type": "execute_result"
    },
    {
     "data": {
      "text/plain": [
       "LogisticRegression(C=0.18188181818181817, max_iter=1000, penalty='l1',\n",
       "                   solver='saga')"
      ]
     },
     "execution_count": 9,
     "metadata": {},
     "output_type": "execute_result"
    },
    {
     "data": {
      "text/plain": [
       "LogisticRegression(C=0.18693131313131311, max_iter=1000, penalty='l1',\n",
       "                   solver='saga')"
      ]
     },
     "execution_count": 9,
     "metadata": {},
     "output_type": "execute_result"
    },
    {
     "data": {
      "text/plain": [
       "LogisticRegression(C=0.19198080808080809, max_iter=1000, penalty='l1',\n",
       "                   solver='saga')"
      ]
     },
     "execution_count": 9,
     "metadata": {},
     "output_type": "execute_result"
    },
    {
     "data": {
      "text/plain": [
       "LogisticRegression(C=0.19703030303030303, max_iter=1000, penalty='l1',\n",
       "                   solver='saga')"
      ]
     },
     "execution_count": 9,
     "metadata": {},
     "output_type": "execute_result"
    },
    {
     "data": {
      "text/plain": [
       "LogisticRegression(C=0.20207979797979797, max_iter=1000, penalty='l1',\n",
       "                   solver='saga')"
      ]
     },
     "execution_count": 9,
     "metadata": {},
     "output_type": "execute_result"
    },
    {
     "data": {
      "text/plain": [
       "LogisticRegression(C=0.2071292929292929, max_iter=1000, penalty='l1',\n",
       "                   solver='saga')"
      ]
     },
     "execution_count": 9,
     "metadata": {},
     "output_type": "execute_result"
    },
    {
     "data": {
      "text/plain": [
       "LogisticRegression(C=0.21217878787878786, max_iter=1000, penalty='l1',\n",
       "                   solver='saga')"
      ]
     },
     "execution_count": 9,
     "metadata": {},
     "output_type": "execute_result"
    },
    {
     "data": {
      "text/plain": [
       "LogisticRegression(C=0.21722828282828283, max_iter=1000, penalty='l1',\n",
       "                   solver='saga')"
      ]
     },
     "execution_count": 9,
     "metadata": {},
     "output_type": "execute_result"
    },
    {
     "data": {
      "text/plain": [
       "LogisticRegression(C=0.22227777777777777, max_iter=1000, penalty='l1',\n",
       "                   solver='saga')"
      ]
     },
     "execution_count": 9,
     "metadata": {},
     "output_type": "execute_result"
    },
    {
     "data": {
      "text/plain": [
       "LogisticRegression(C=0.2273272727272727, max_iter=1000, penalty='l1',\n",
       "                   solver='saga')"
      ]
     },
     "execution_count": 9,
     "metadata": {},
     "output_type": "execute_result"
    },
    {
     "data": {
      "text/plain": [
       "LogisticRegression(C=0.23237676767676768, max_iter=1000, penalty='l1',\n",
       "                   solver='saga')"
      ]
     },
     "execution_count": 9,
     "metadata": {},
     "output_type": "execute_result"
    },
    {
     "data": {
      "text/plain": [
       "LogisticRegression(C=0.23742626262626262, max_iter=1000, penalty='l1',\n",
       "                   solver='saga')"
      ]
     },
     "execution_count": 9,
     "metadata": {},
     "output_type": "execute_result"
    },
    {
     "data": {
      "text/plain": [
       "LogisticRegression(C=0.24247575757575757, max_iter=1000, penalty='l1',\n",
       "                   solver='saga')"
      ]
     },
     "execution_count": 9,
     "metadata": {},
     "output_type": "execute_result"
    },
    {
     "data": {
      "text/plain": [
       "LogisticRegression(C=0.2475252525252525, max_iter=1000, penalty='l1',\n",
       "                   solver='saga')"
      ]
     },
     "execution_count": 9,
     "metadata": {},
     "output_type": "execute_result"
    },
    {
     "data": {
      "text/plain": [
       "LogisticRegression(C=0.25257474747474745, max_iter=1000, penalty='l1',\n",
       "                   solver='saga')"
      ]
     },
     "execution_count": 9,
     "metadata": {},
     "output_type": "execute_result"
    },
    {
     "data": {
      "text/plain": [
       "LogisticRegression(C=0.2576242424242424, max_iter=1000, penalty='l1',\n",
       "                   solver='saga')"
      ]
     },
     "execution_count": 9,
     "metadata": {},
     "output_type": "execute_result"
    },
    {
     "data": {
      "text/plain": [
       "LogisticRegression(C=0.26267373737373734, max_iter=1000, penalty='l1',\n",
       "                   solver='saga')"
      ]
     },
     "execution_count": 9,
     "metadata": {},
     "output_type": "execute_result"
    },
    {
     "data": {
      "text/plain": [
       "LogisticRegression(C=0.2677232323232323, max_iter=1000, penalty='l1',\n",
       "                   solver='saga')"
      ]
     },
     "execution_count": 9,
     "metadata": {},
     "output_type": "execute_result"
    },
    {
     "data": {
      "text/plain": [
       "LogisticRegression(C=0.2727727272727273, max_iter=1000, penalty='l1',\n",
       "                   solver='saga')"
      ]
     },
     "execution_count": 9,
     "metadata": {},
     "output_type": "execute_result"
    },
    {
     "data": {
      "text/plain": [
       "LogisticRegression(C=0.2778222222222222, max_iter=1000, penalty='l1',\n",
       "                   solver='saga')"
      ]
     },
     "execution_count": 9,
     "metadata": {},
     "output_type": "execute_result"
    },
    {
     "data": {
      "text/plain": [
       "LogisticRegression(C=0.28287171717171716, max_iter=1000, penalty='l1',\n",
       "                   solver='saga')"
      ]
     },
     "execution_count": 9,
     "metadata": {},
     "output_type": "execute_result"
    },
    {
     "data": {
      "text/plain": [
       "LogisticRegression(C=0.28792121212121213, max_iter=1000, penalty='l1',\n",
       "                   solver='saga')"
      ]
     },
     "execution_count": 9,
     "metadata": {},
     "output_type": "execute_result"
    },
    {
     "data": {
      "text/plain": [
       "LogisticRegression(C=0.29297070707070705, max_iter=1000, penalty='l1',\n",
       "                   solver='saga')"
      ]
     },
     "execution_count": 9,
     "metadata": {},
     "output_type": "execute_result"
    },
    {
     "data": {
      "text/plain": [
       "LogisticRegression(C=0.298020202020202, max_iter=1000, penalty='l1',\n",
       "                   solver='saga')"
      ]
     },
     "execution_count": 9,
     "metadata": {},
     "output_type": "execute_result"
    },
    {
     "data": {
      "text/plain": [
       "LogisticRegression(C=0.303069696969697, max_iter=1000, penalty='l1',\n",
       "                   solver='saga')"
      ]
     },
     "execution_count": 9,
     "metadata": {},
     "output_type": "execute_result"
    },
    {
     "data": {
      "text/plain": [
       "LogisticRegression(C=0.3081191919191919, max_iter=1000, penalty='l1',\n",
       "                   solver='saga')"
      ]
     },
     "execution_count": 9,
     "metadata": {},
     "output_type": "execute_result"
    },
    {
     "data": {
      "text/plain": [
       "LogisticRegression(C=0.3131686868686869, max_iter=1000, penalty='l1',\n",
       "                   solver='saga')"
      ]
     },
     "execution_count": 9,
     "metadata": {},
     "output_type": "execute_result"
    },
    {
     "data": {
      "text/plain": [
       "LogisticRegression(C=0.3182181818181818, max_iter=1000, penalty='l1',\n",
       "                   solver='saga')"
      ]
     },
     "execution_count": 9,
     "metadata": {},
     "output_type": "execute_result"
    },
    {
     "data": {
      "text/plain": [
       "LogisticRegression(C=0.32326767676767676, max_iter=1000, penalty='l1',\n",
       "                   solver='saga')"
      ]
     },
     "execution_count": 9,
     "metadata": {},
     "output_type": "execute_result"
    },
    {
     "data": {
      "text/plain": [
       "LogisticRegression(C=0.32831717171717173, max_iter=1000, penalty='l1',\n",
       "                   solver='saga')"
      ]
     },
     "execution_count": 9,
     "metadata": {},
     "output_type": "execute_result"
    },
    {
     "data": {
      "text/plain": [
       "LogisticRegression(C=0.33336666666666664, max_iter=1000, penalty='l1',\n",
       "                   solver='saga')"
      ]
     },
     "execution_count": 9,
     "metadata": {},
     "output_type": "execute_result"
    },
    {
     "data": {
      "text/plain": [
       "LogisticRegression(C=0.3384161616161616, max_iter=1000, penalty='l1',\n",
       "                   solver='saga')"
      ]
     },
     "execution_count": 9,
     "metadata": {},
     "output_type": "execute_result"
    },
    {
     "data": {
      "text/plain": [
       "LogisticRegression(C=0.34346565656565653, max_iter=1000, penalty='l1',\n",
       "                   solver='saga')"
      ]
     },
     "execution_count": 9,
     "metadata": {},
     "output_type": "execute_result"
    },
    {
     "data": {
      "text/plain": [
       "LogisticRegression(C=0.3485151515151515, max_iter=1000, penalty='l1',\n",
       "                   solver='saga')"
      ]
     },
     "execution_count": 9,
     "metadata": {},
     "output_type": "execute_result"
    },
    {
     "data": {
      "text/plain": [
       "LogisticRegression(C=0.35356464646464647, max_iter=1000, penalty='l1',\n",
       "                   solver='saga')"
      ]
     },
     "execution_count": 9,
     "metadata": {},
     "output_type": "execute_result"
    },
    {
     "data": {
      "text/plain": [
       "LogisticRegression(C=0.3586141414141414, max_iter=1000, penalty='l1',\n",
       "                   solver='saga')"
      ]
     },
     "execution_count": 9,
     "metadata": {},
     "output_type": "execute_result"
    },
    {
     "data": {
      "text/plain": [
       "LogisticRegression(C=0.36366363636363636, max_iter=1000, penalty='l1',\n",
       "                   solver='saga')"
      ]
     },
     "execution_count": 9,
     "metadata": {},
     "output_type": "execute_result"
    },
    {
     "data": {
      "text/plain": [
       "LogisticRegression(C=0.3687131313131313, max_iter=1000, penalty='l1',\n",
       "                   solver='saga')"
      ]
     },
     "execution_count": 9,
     "metadata": {},
     "output_type": "execute_result"
    },
    {
     "data": {
      "text/plain": [
       "LogisticRegression(C=0.37376262626262624, max_iter=1000, penalty='l1',\n",
       "                   solver='saga')"
      ]
     },
     "execution_count": 9,
     "metadata": {},
     "output_type": "execute_result"
    },
    {
     "data": {
      "text/plain": [
       "LogisticRegression(C=0.3788121212121212, max_iter=1000, penalty='l1',\n",
       "                   solver='saga')"
      ]
     },
     "execution_count": 9,
     "metadata": {},
     "output_type": "execute_result"
    },
    {
     "data": {
      "text/plain": [
       "LogisticRegression(C=0.3838616161616162, max_iter=1000, penalty='l1',\n",
       "                   solver='saga')"
      ]
     },
     "execution_count": 9,
     "metadata": {},
     "output_type": "execute_result"
    },
    {
     "data": {
      "text/plain": [
       "LogisticRegression(C=0.3889111111111111, max_iter=1000, penalty='l1',\n",
       "                   solver='saga')"
      ]
     },
     "execution_count": 9,
     "metadata": {},
     "output_type": "execute_result"
    },
    {
     "data": {
      "text/plain": [
       "LogisticRegression(C=0.39396060606060607, max_iter=1000, penalty='l1',\n",
       "                   solver='saga')"
      ]
     },
     "execution_count": 9,
     "metadata": {},
     "output_type": "execute_result"
    },
    {
     "data": {
      "text/plain": [
       "LogisticRegression(C=0.399010101010101, max_iter=1000, penalty='l1',\n",
       "                   solver='saga')"
      ]
     },
     "execution_count": 9,
     "metadata": {},
     "output_type": "execute_result"
    },
    {
     "data": {
      "text/plain": [
       "LogisticRegression(C=0.40405959595959595, max_iter=1000, penalty='l1',\n",
       "                   solver='saga')"
      ]
     },
     "execution_count": 9,
     "metadata": {},
     "output_type": "execute_result"
    },
    {
     "data": {
      "text/plain": [
       "LogisticRegression(C=0.4091090909090909, max_iter=1000, penalty='l1',\n",
       "                   solver='saga')"
      ]
     },
     "execution_count": 9,
     "metadata": {},
     "output_type": "execute_result"
    },
    {
     "data": {
      "text/plain": [
       "LogisticRegression(C=0.41415858585858584, max_iter=1000, penalty='l1',\n",
       "                   solver='saga')"
      ]
     },
     "execution_count": 9,
     "metadata": {},
     "output_type": "execute_result"
    },
    {
     "data": {
      "text/plain": [
       "LogisticRegression(C=0.4192080808080808, max_iter=1000, penalty='l1',\n",
       "                   solver='saga')"
      ]
     },
     "execution_count": 9,
     "metadata": {},
     "output_type": "execute_result"
    },
    {
     "data": {
      "text/plain": [
       "LogisticRegression(C=0.4242575757575757, max_iter=1000, penalty='l1',\n",
       "                   solver='saga')"
      ]
     },
     "execution_count": 9,
     "metadata": {},
     "output_type": "execute_result"
    },
    {
     "data": {
      "text/plain": [
       "LogisticRegression(C=0.4293070707070707, max_iter=1000, penalty='l1',\n",
       "                   solver='saga')"
      ]
     },
     "execution_count": 9,
     "metadata": {},
     "output_type": "execute_result"
    },
    {
     "data": {
      "text/plain": [
       "LogisticRegression(C=0.43435656565656566, max_iter=1000, penalty='l1',\n",
       "                   solver='saga')"
      ]
     },
     "execution_count": 9,
     "metadata": {},
     "output_type": "execute_result"
    },
    {
     "data": {
      "text/plain": [
       "LogisticRegression(C=0.4394060606060606, max_iter=1000, penalty='l1',\n",
       "                   solver='saga')"
      ]
     },
     "execution_count": 9,
     "metadata": {},
     "output_type": "execute_result"
    },
    {
     "data": {
      "text/plain": [
       "LogisticRegression(C=0.44445555555555555, max_iter=1000, penalty='l1',\n",
       "                   solver='saga')"
      ]
     },
     "execution_count": 9,
     "metadata": {},
     "output_type": "execute_result"
    },
    {
     "data": {
      "text/plain": [
       "LogisticRegression(C=0.4495050505050505, max_iter=1000, penalty='l1',\n",
       "                   solver='saga')"
      ]
     },
     "execution_count": 9,
     "metadata": {},
     "output_type": "execute_result"
    },
    {
     "data": {
      "text/plain": [
       "LogisticRegression(C=0.45455454545454543, max_iter=1000, penalty='l1',\n",
       "                   solver='saga')"
      ]
     },
     "execution_count": 9,
     "metadata": {},
     "output_type": "execute_result"
    },
    {
     "data": {
      "text/plain": [
       "LogisticRegression(C=0.4596040404040404, max_iter=1000, penalty='l1',\n",
       "                   solver='saga')"
      ]
     },
     "execution_count": 9,
     "metadata": {},
     "output_type": "execute_result"
    },
    {
     "data": {
      "text/plain": [
       "LogisticRegression(C=0.4646535353535354, max_iter=1000, penalty='l1',\n",
       "                   solver='saga')"
      ]
     },
     "execution_count": 9,
     "metadata": {},
     "output_type": "execute_result"
    },
    {
     "data": {
      "text/plain": [
       "LogisticRegression(C=0.4697030303030303, max_iter=1000, penalty='l1',\n",
       "                   solver='saga')"
      ]
     },
     "execution_count": 9,
     "metadata": {},
     "output_type": "execute_result"
    },
    {
     "data": {
      "text/plain": [
       "LogisticRegression(C=0.47475252525252526, max_iter=1000, penalty='l1',\n",
       "                   solver='saga')"
      ]
     },
     "execution_count": 9,
     "metadata": {},
     "output_type": "execute_result"
    },
    {
     "data": {
      "text/plain": [
       "LogisticRegression(C=0.4798020202020202, max_iter=1000, penalty='l1',\n",
       "                   solver='saga')"
      ]
     },
     "execution_count": 9,
     "metadata": {},
     "output_type": "execute_result"
    },
    {
     "data": {
      "text/plain": [
       "LogisticRegression(C=0.48485151515151514, max_iter=1000, penalty='l1',\n",
       "                   solver='saga')"
      ]
     },
     "execution_count": 9,
     "metadata": {},
     "output_type": "execute_result"
    },
    {
     "data": {
      "text/plain": [
       "LogisticRegression(C=0.4899010101010101, max_iter=1000, penalty='l1',\n",
       "                   solver='saga')"
      ]
     },
     "execution_count": 9,
     "metadata": {},
     "output_type": "execute_result"
    },
    {
     "data": {
      "text/plain": [
       "LogisticRegression(C=0.49495050505050503, max_iter=1000, penalty='l1',\n",
       "                   solver='saga')"
      ]
     },
     "execution_count": 9,
     "metadata": {},
     "output_type": "execute_result"
    },
    {
     "data": {
      "text/plain": [
       "LogisticRegression(C=0.5, max_iter=1000, penalty='l1', solver='saga')"
      ]
     },
     "execution_count": 9,
     "metadata": {},
     "output_type": "execute_result"
    }
   ],
   "source": [
    "C_vals = np.linspace(1e-4, 0.5, 100)\n",
    "betas = []\n",
    "\n",
    "from sklearn import preprocessing\n",
    "X_std = preprocessing.scale(X_train_scaled)\n",
    "\n",
    "for C in C_vals:\n",
    "    model = LogisticRegression(solver='saga', penalty='l1', C=C,max_iter=1000)\n",
    "    model.fit(X_std, y_train)\n",
    "    beta = model.coef_.reshape(-1)\n",
    "    #beta = (beta - beta.min()) / beta.ptp()\n",
    "    betas.append(beta)\n",
    "betas = np.stack(betas, axis=1)  # [Nfeat, NCvals]\n",
    "\n"
   ]
  },
  {
   "cell_type": "code",
   "execution_count": 10,
   "id": "c5674e0b",
   "metadata": {},
   "outputs": [
    {
     "data": {
      "text/plain": [
       "[<matplotlib.lines.Line2D at 0x26ba8e59610>]"
      ]
     },
     "execution_count": 10,
     "metadata": {},
     "output_type": "execute_result"
    },
    {
     "data": {
      "text/plain": [
       "[<matplotlib.lines.Line2D at 0x26ba8e59880>]"
      ]
     },
     "execution_count": 10,
     "metadata": {},
     "output_type": "execute_result"
    },
    {
     "data": {
      "text/plain": [
       "[<matplotlib.lines.Line2D at 0x26ba8e59b20>]"
      ]
     },
     "execution_count": 10,
     "metadata": {},
     "output_type": "execute_result"
    },
    {
     "data": {
      "text/plain": [
       "[<matplotlib.lines.Line2D at 0x26ba8e59df0>]"
      ]
     },
     "execution_count": 10,
     "metadata": {},
     "output_type": "execute_result"
    },
    {
     "data": {
      "text/plain": [
       "[<matplotlib.lines.Line2D at 0x26ba8e6d100>]"
      ]
     },
     "execution_count": 10,
     "metadata": {},
     "output_type": "execute_result"
    },
    {
     "data": {
      "text/plain": [
       "[<matplotlib.lines.Line2D at 0x26ba8e6d3d0>]"
      ]
     },
     "execution_count": 10,
     "metadata": {},
     "output_type": "execute_result"
    },
    {
     "data": {
      "text/plain": [
       "[<matplotlib.lines.Line2D at 0x26ba8e6d6a0>]"
      ]
     },
     "execution_count": 10,
     "metadata": {},
     "output_type": "execute_result"
    },
    {
     "data": {
      "text/plain": [
       "[<matplotlib.lines.Line2D at 0x26ba8e6d9a0>]"
      ]
     },
     "execution_count": 10,
     "metadata": {},
     "output_type": "execute_result"
    },
    {
     "data": {
      "text/plain": [
       "[<matplotlib.lines.Line2D at 0x26ba8e6dc70>]"
      ]
     },
     "execution_count": 10,
     "metadata": {},
     "output_type": "execute_result"
    },
    {
     "data": {
      "text/plain": [
       "[<matplotlib.lines.Line2D at 0x26ba8e6df40>]"
      ]
     },
     "execution_count": 10,
     "metadata": {},
     "output_type": "execute_result"
    },
    {
     "data": {
      "text/plain": [
       "[<matplotlib.lines.Line2D at 0x26ba8e59640>]"
      ]
     },
     "execution_count": 10,
     "metadata": {},
     "output_type": "execute_result"
    },
    {
     "data": {
      "text/plain": [
       "[<matplotlib.lines.Line2D at 0x26ba8e784f0>]"
      ]
     },
     "execution_count": 10,
     "metadata": {},
     "output_type": "execute_result"
    },
    {
     "data": {
      "text/plain": [
       "[<matplotlib.lines.Line2D at 0x26ba8e786d0>]"
      ]
     },
     "execution_count": 10,
     "metadata": {},
     "output_type": "execute_result"
    },
    {
     "data": {
      "text/plain": [
       "[<matplotlib.lines.Line2D at 0x26ba8e78a90>]"
      ]
     },
     "execution_count": 10,
     "metadata": {},
     "output_type": "execute_result"
    },
    {
     "data": {
      "text/plain": [
       "[<matplotlib.lines.Line2D at 0x26ba8e78d60>]"
      ]
     },
     "execution_count": 10,
     "metadata": {},
     "output_type": "execute_result"
    },
    {
     "data": {
      "text/plain": [
       "[<matplotlib.lines.Line2D at 0x26ba8e88070>]"
      ]
     },
     "execution_count": 10,
     "metadata": {},
     "output_type": "execute_result"
    },
    {
     "data": {
      "text/plain": [
       "[<matplotlib.lines.Line2D at 0x26ba8e88280>]"
      ]
     },
     "execution_count": 10,
     "metadata": {},
     "output_type": "execute_result"
    },
    {
     "data": {
      "text/plain": [
       "[<matplotlib.lines.Line2D at 0x26ba8e88610>]"
      ]
     },
     "execution_count": 10,
     "metadata": {},
     "output_type": "execute_result"
    },
    {
     "data": {
      "text/plain": [
       "[<matplotlib.lines.Line2D at 0x26ba8e888e0>]"
      ]
     },
     "execution_count": 10,
     "metadata": {},
     "output_type": "execute_result"
    },
    {
     "data": {
      "text/plain": [
       "[<matplotlib.lines.Line2D at 0x26ba8e88bb0>]"
      ]
     },
     "execution_count": 10,
     "metadata": {},
     "output_type": "execute_result"
    },
    {
     "data": {
      "text/plain": [
       "[<matplotlib.lines.Line2D at 0x26ba8e88e80>]"
      ]
     },
     "execution_count": 10,
     "metadata": {},
     "output_type": "execute_result"
    },
    {
     "data": {
      "text/plain": [
       "[<matplotlib.lines.Line2D at 0x26ba8e94190>]"
      ]
     },
     "execution_count": 10,
     "metadata": {},
     "output_type": "execute_result"
    },
    {
     "data": {
      "text/plain": [
       "[<matplotlib.lines.Line2D at 0x26ba8e94460>]"
      ]
     },
     "execution_count": 10,
     "metadata": {},
     "output_type": "execute_result"
    },
    {
     "data": {
      "text/plain": [
       "[<matplotlib.lines.Line2D at 0x26ba8e94730>]"
      ]
     },
     "execution_count": 10,
     "metadata": {},
     "output_type": "execute_result"
    },
    {
     "data": {
      "text/plain": [
       "[<matplotlib.lines.Line2D at 0x26ba8e94a00>]"
      ]
     },
     "execution_count": 10,
     "metadata": {},
     "output_type": "execute_result"
    },
    {
     "data": {
      "text/plain": [
       "[<matplotlib.lines.Line2D at 0x26ba8e94cd0>]"
      ]
     },
     "execution_count": 10,
     "metadata": {},
     "output_type": "execute_result"
    },
    {
     "data": {
      "text/plain": [
       "[<matplotlib.lines.Line2D at 0x26ba8e94fa0>]"
      ]
     },
     "execution_count": 10,
     "metadata": {},
     "output_type": "execute_result"
    },
    {
     "data": {
      "text/plain": [
       "[<matplotlib.lines.Line2D at 0x26ba8ea12b0>]"
      ]
     },
     "execution_count": 10,
     "metadata": {},
     "output_type": "execute_result"
    },
    {
     "data": {
      "text/plain": [
       "[<matplotlib.lines.Line2D at 0x26ba8ea15b0>]"
      ]
     },
     "execution_count": 10,
     "metadata": {},
     "output_type": "execute_result"
    },
    {
     "data": {
      "text/plain": [
       "[<matplotlib.lines.Line2D at 0x26ba8ea17f0>]"
      ]
     },
     "execution_count": 10,
     "metadata": {},
     "output_type": "execute_result"
    },
    {
     "data": {
      "text/plain": [
       "[<matplotlib.lines.Line2D at 0x26ba8ea1b20>]"
      ]
     },
     "execution_count": 10,
     "metadata": {},
     "output_type": "execute_result"
    },
    {
     "data": {
      "text/plain": [
       "[<matplotlib.lines.Line2D at 0x26ba8ea1df0>]"
      ]
     },
     "execution_count": 10,
     "metadata": {},
     "output_type": "execute_result"
    },
    {
     "data": {
      "text/plain": [
       "[<matplotlib.lines.Line2D at 0x26ba8ead100>]"
      ]
     },
     "execution_count": 10,
     "metadata": {},
     "output_type": "execute_result"
    },
    {
     "data": {
      "text/plain": [
       "[<matplotlib.lines.Line2D at 0x26ba8ead3d0>]"
      ]
     },
     "execution_count": 10,
     "metadata": {},
     "output_type": "execute_result"
    },
    {
     "data": {
      "text/plain": [
       "[<matplotlib.lines.Line2D at 0x26ba8ead6a0>]"
      ]
     },
     "execution_count": 10,
     "metadata": {},
     "output_type": "execute_result"
    },
    {
     "data": {
      "text/plain": [
       "[<matplotlib.lines.Line2D at 0x26ba8ead9a0>]"
      ]
     },
     "execution_count": 10,
     "metadata": {},
     "output_type": "execute_result"
    },
    {
     "data": {
      "text/plain": [
       "[<matplotlib.lines.Line2D at 0x26ba8eadbe0>]"
      ]
     },
     "execution_count": 10,
     "metadata": {},
     "output_type": "execute_result"
    },
    {
     "data": {
      "text/plain": [
       "[<matplotlib.lines.Line2D at 0x26ba8eadf10>]"
      ]
     },
     "execution_count": 10,
     "metadata": {},
     "output_type": "execute_result"
    },
    {
     "data": {
      "text/plain": [
       "[<matplotlib.lines.Line2D at 0x26ba8ebb220>]"
      ]
     },
     "execution_count": 10,
     "metadata": {},
     "output_type": "execute_result"
    },
    {
     "data": {
      "text/plain": [
       "[<matplotlib.lines.Line2D at 0x26ba8ebb4f0>]"
      ]
     },
     "execution_count": 10,
     "metadata": {},
     "output_type": "execute_result"
    },
    {
     "data": {
      "text/plain": [
       "[<matplotlib.lines.Line2D at 0x26ba8ebb7c0>]"
      ]
     },
     "execution_count": 10,
     "metadata": {},
     "output_type": "execute_result"
    },
    {
     "data": {
      "text/plain": [
       "[<matplotlib.lines.Line2D at 0x26ba8ebba90>]"
      ]
     },
     "execution_count": 10,
     "metadata": {},
     "output_type": "execute_result"
    },
    {
     "data": {
      "text/plain": [
       "[<matplotlib.lines.Line2D at 0x26ba8ebbd60>]"
      ]
     },
     "execution_count": 10,
     "metadata": {},
     "output_type": "execute_result"
    },
    {
     "data": {
      "text/plain": [
       "[<matplotlib.lines.Line2D at 0x26ba8ec5070>]"
      ]
     },
     "execution_count": 10,
     "metadata": {},
     "output_type": "execute_result"
    },
    {
     "data": {
      "text/plain": [
       "[<matplotlib.lines.Line2D at 0x26ba8ec5340>]"
      ]
     },
     "execution_count": 10,
     "metadata": {},
     "output_type": "execute_result"
    },
    {
     "data": {
      "text/plain": [
       "[<matplotlib.lines.Line2D at 0x26ba8ec5610>]"
      ]
     },
     "execution_count": 10,
     "metadata": {},
     "output_type": "execute_result"
    },
    {
     "data": {
      "text/plain": [
       "[<matplotlib.lines.Line2D at 0x26ba8ec5910>]"
      ]
     },
     "execution_count": 10,
     "metadata": {},
     "output_type": "execute_result"
    },
    {
     "data": {
      "text/plain": [
       "[<matplotlib.lines.Line2D at 0x26ba8ec5bb0>]"
      ]
     },
     "execution_count": 10,
     "metadata": {},
     "output_type": "execute_result"
    },
    {
     "data": {
      "text/plain": [
       "[<matplotlib.lines.Line2D at 0x26ba8ec5eb0>]"
      ]
     },
     "execution_count": 10,
     "metadata": {},
     "output_type": "execute_result"
    },
    {
     "data": {
      "text/plain": [
       "[<matplotlib.lines.Line2D at 0x26ba8ece1c0>]"
      ]
     },
     "execution_count": 10,
     "metadata": {},
     "output_type": "execute_result"
    },
    {
     "data": {
      "text/plain": [
       "[<matplotlib.lines.Line2D at 0x26ba8ece490>]"
      ]
     },
     "execution_count": 10,
     "metadata": {},
     "output_type": "execute_result"
    },
    {
     "data": {
      "text/plain": [
       "[<matplotlib.lines.Line2D at 0x26ba8ece790>]"
      ]
     },
     "execution_count": 10,
     "metadata": {},
     "output_type": "execute_result"
    },
    {
     "data": {
      "text/plain": [
       "[<matplotlib.lines.Line2D at 0x26ba8ecea60>]"
      ]
     },
     "execution_count": 10,
     "metadata": {},
     "output_type": "execute_result"
    },
    {
     "data": {
      "text/plain": [
       "[<matplotlib.lines.Line2D at 0x26ba8ececa0>]"
      ]
     },
     "execution_count": 10,
     "metadata": {},
     "output_type": "execute_result"
    },
    {
     "data": {
      "text/plain": [
       "[<matplotlib.lines.Line2D at 0x26ba8ecefd0>]"
      ]
     },
     "execution_count": 10,
     "metadata": {},
     "output_type": "execute_result"
    },
    {
     "data": {
      "text/plain": [
       "[<matplotlib.lines.Line2D at 0x26ba8edf310>]"
      ]
     },
     "execution_count": 10,
     "metadata": {},
     "output_type": "execute_result"
    },
    {
     "data": {
      "text/plain": [
       "[<matplotlib.lines.Line2D at 0x26ba8edf5b0>]"
      ]
     },
     "execution_count": 10,
     "metadata": {},
     "output_type": "execute_result"
    },
    {
     "data": {
      "text/plain": [
       "[<matplotlib.lines.Line2D at 0x26ba8edf8b0>]"
      ]
     },
     "execution_count": 10,
     "metadata": {},
     "output_type": "execute_result"
    },
    {
     "data": {
      "text/plain": [
       "[<matplotlib.lines.Line2D at 0x26ba8edfaf0>]"
      ]
     },
     "execution_count": 10,
     "metadata": {},
     "output_type": "execute_result"
    },
    {
     "data": {
      "text/plain": [
       "[<matplotlib.lines.Line2D at 0x26ba8edfe50>]"
      ]
     },
     "execution_count": 10,
     "metadata": {},
     "output_type": "execute_result"
    },
    {
     "data": {
      "text/plain": [
       "[<matplotlib.lines.Line2D at 0x26ba8eec160>]"
      ]
     },
     "execution_count": 10,
     "metadata": {},
     "output_type": "execute_result"
    },
    {
     "data": {
      "text/plain": [
       "[<matplotlib.lines.Line2D at 0x26ba8eec400>]"
      ]
     },
     "execution_count": 10,
     "metadata": {},
     "output_type": "execute_result"
    },
    {
     "data": {
      "text/plain": [
       "[<matplotlib.lines.Line2D at 0x26ba8eec700>]"
      ]
     },
     "execution_count": 10,
     "metadata": {},
     "output_type": "execute_result"
    },
    {
     "data": {
      "text/plain": [
       "[<matplotlib.lines.Line2D at 0x26ba8eec9d0>]"
      ]
     },
     "execution_count": 10,
     "metadata": {},
     "output_type": "execute_result"
    },
    {
     "data": {
      "text/plain": [
       "[<matplotlib.lines.Line2D at 0x26ba8eecca0>]"
      ]
     },
     "execution_count": 10,
     "metadata": {},
     "output_type": "execute_result"
    },
    {
     "data": {
      "text/plain": [
       "[<matplotlib.lines.Line2D at 0x26ba8eecfa0>]"
      ]
     },
     "execution_count": 10,
     "metadata": {},
     "output_type": "execute_result"
    },
    {
     "data": {
      "text/plain": [
       "[<matplotlib.lines.Line2D at 0x26ba8ef82b0>]"
      ]
     },
     "execution_count": 10,
     "metadata": {},
     "output_type": "execute_result"
    },
    {
     "data": {
      "text/plain": [
       "[<matplotlib.lines.Line2D at 0x26ba8ef8580>]"
      ]
     },
     "execution_count": 10,
     "metadata": {},
     "output_type": "execute_result"
    },
    {
     "data": {
      "text/plain": [
       "[<matplotlib.lines.Line2D at 0x26ba8ef8850>]"
      ]
     },
     "execution_count": 10,
     "metadata": {},
     "output_type": "execute_result"
    },
    {
     "data": {
      "text/plain": [
       "[<matplotlib.lines.Line2D at 0x26ba8ef8b20>]"
      ]
     },
     "execution_count": 10,
     "metadata": {},
     "output_type": "execute_result"
    },
    {
     "data": {
      "text/plain": [
       "[<matplotlib.lines.Line2D at 0x26ba8ef8e20>]"
      ]
     },
     "execution_count": 10,
     "metadata": {},
     "output_type": "execute_result"
    },
    {
     "data": {
      "text/plain": [
       "[<matplotlib.lines.Line2D at 0x26ba8f05100>]"
      ]
     },
     "execution_count": 10,
     "metadata": {},
     "output_type": "execute_result"
    },
    {
     "data": {
      "text/plain": [
       "[<matplotlib.lines.Line2D at 0x26ba8f053d0>]"
      ]
     },
     "execution_count": 10,
     "metadata": {},
     "output_type": "execute_result"
    },
    {
     "data": {
      "text/plain": [
       "[<matplotlib.lines.Line2D at 0x26ba8f056d0>]"
      ]
     },
     "execution_count": 10,
     "metadata": {},
     "output_type": "execute_result"
    },
    {
     "data": {
      "text/plain": [
       "[<matplotlib.lines.Line2D at 0x26ba8f059a0>]"
      ]
     },
     "execution_count": 10,
     "metadata": {},
     "output_type": "execute_result"
    },
    {
     "data": {
      "text/plain": [
       "<matplotlib.legend.Legend at 0x26ba7a70220>"
      ]
     },
     "execution_count": 10,
     "metadata": {},
     "output_type": "execute_result"
    },
    {
     "data": {
      "text/plain": [
       "Text(0.5, 0, 'C=1/lambda')"
      ]
     },
     "execution_count": 10,
     "metadata": {},
     "output_type": "execute_result"
    },
    {
     "data": {
      "text/plain": [
       "Text(0, 0.5, 'beta')"
      ]
     },
     "execution_count": 10,
     "metadata": {},
     "output_type": "execute_result"
    },
    {
     "data": {
      "image/png": "[encoded data removed]",
      "text/plain": [
       "<Figure size 640x480 with 1 Axes>"
      ]
     },
     "metadata": {},
     "output_type": "display_data"
    }
   ],
   "source": [
    "for beta, name in zip(betas, X_train_scaled.columns):\n",
    "    plt.plot(C_vals, beta, label=name)\n",
    "plt.legend()\n",
    "plt.xlabel(\"C=1/lambda\")\n",
    "plt.ylabel(\"beta\")"
   ]
  },
  {
   "cell_type": "markdown",
   "id": "17bd991c",
   "metadata": {},
   "source": [
    "# LDA"
   ]
  },
  {
   "cell_type": "code",
   "execution_count": 64,
   "id": "29d04943",
   "metadata": {},
   "outputs": [
    {
     "name": "stdout",
     "output_type": "stream",
     "text": [
      "Train accuracy: 0.879757785467128\n",
      "Test accuracy: 0.8854639844256976\n"
     ]
    }
   ],
   "source": [
    "from sklearn.discriminant_analysis import LinearDiscriminantAnalysis as LDA\n",
    "model = LDA()\n",
    "model = model.fit(X_train_full, y_train)\n",
    "\n",
    "print(\"Train accuracy:\", accuracy(y_train, model.predict(X_train_full)))\n",
    "print(\"Test accuracy:\", accuracy(y_test, model.predict(X_test_full)))"
   ]
  },
  {
   "cell_type": "code",
   "execution_count": 65,
   "id": "7c9560e0",
   "metadata": {},
   "outputs": [
    {
     "name": "stdout",
     "output_type": "stream",
     "text": [
      "Train accuracy: 0.9083044982698962\n",
      "Test accuracy: 0.8828682673588579\n"
     ]
    }
   ],
   "source": [
    "from sklearn.pipeline import Pipeline\n",
    "from sklearn.preprocessing import PolynomialFeatures\n",
    "\n",
    "model = Pipeline([\n",
    "    ('poly', PolynomialFeatures(degree=2)),\n",
    "    ('lda', LDA(store_covariance=True))])\n",
    "model = model.fit(X_train_full, y_train)\n",
    "\n",
    "print(\"Train accuracy:\", accuracy(y_train, model.predict(X_train_full)))\n",
    "print(\"Test accuracy:\", accuracy(y_test, model.predict(X_test_full)))"
   ]
  },
  {
   "cell_type": "code",
   "execution_count": 68,
   "id": "2c2f4cd6",
   "metadata": {},
   "outputs": [
    {
     "name": "stderr",
     "output_type": "stream",
     "text": [
      "C:\\Users\\sarar\\anaconda3\\lib\\site-packages\\sklearn\\model_selection\\_validation.py:372: FitFailedWarning: \n",
      "30 fits failed out of a total of 50.\n",
      "The score on these train-test partitions for these parameters will be set to nan.\n",
      "If these failures are not expected, you can try to debug them by setting error_score='raise'.\n",
      "\n",
      "Below are more details about the failures:\n",
      "--------------------------------------------------------------------------------\n",
      "7 fits failed with the following error:\n",
      "Traceback (most recent call last):\n",
      "  File \"C:\\Users\\sarar\\anaconda3\\lib\\site-packages\\sklearn\\model_selection\\_validation.py\", line 680, in _fit_and_score\n",
      "    estimator.fit(X_train, y_train, **fit_params)\n",
      "  File \"C:\\Users\\sarar\\anaconda3\\lib\\site-packages\\sklearn\\pipeline.py\", line 394, in fit\n",
      "    self._final_estimator.fit(Xt, y, **fit_params_last_step)\n",
      "  File \"C:\\Users\\sarar\\anaconda3\\lib\\site-packages\\sklearn\\discriminant_analysis.py\", line 590, in fit\n",
      "    self._solve_svd(X, y)\n",
      "  File \"C:\\Users\\sarar\\anaconda3\\lib\\site-packages\\sklearn\\discriminant_analysis.py\", line 468, in _solve_svd\n",
      "    self.covariance_ = _class_cov(X, y, self.priors_)\n",
      "  File \"C:\\Users\\sarar\\anaconda3\\lib\\site-packages\\sklearn\\discriminant_analysis.py\", line 162, in _class_cov\n",
      "    Xg = X[y == group, :]\n",
      "numpy.core._exceptions._ArrayMemoryError: Unable to allocate 3.98 GiB for an array with shape (7026, 76076) and data type float64\n",
      "\n",
      "--------------------------------------------------------------------------------\n",
      "3 fits failed with the following error:\n",
      "Traceback (most recent call last):\n",
      "  File \"C:\\Users\\sarar\\anaconda3\\lib\\site-packages\\sklearn\\model_selection\\_validation.py\", line 680, in _fit_and_score\n",
      "    estimator.fit(X_train, y_train, **fit_params)\n",
      "  File \"C:\\Users\\sarar\\anaconda3\\lib\\site-packages\\sklearn\\pipeline.py\", line 394, in fit\n",
      "    self._final_estimator.fit(Xt, y, **fit_params_last_step)\n",
      "  File \"C:\\Users\\sarar\\anaconda3\\lib\\site-packages\\sklearn\\discriminant_analysis.py\", line 590, in fit\n",
      "    self._solve_svd(X, y)\n",
      "  File \"C:\\Users\\sarar\\anaconda3\\lib\\site-packages\\sklearn\\discriminant_analysis.py\", line 468, in _solve_svd\n",
      "    self.covariance_ = _class_cov(X, y, self.priors_)\n",
      "  File \"C:\\Users\\sarar\\anaconda3\\lib\\site-packages\\sklearn\\discriminant_analysis.py\", line 162, in _class_cov\n",
      "    Xg = X[y == group, :]\n",
      "numpy.core._exceptions._ArrayMemoryError: Unable to allocate 3.98 GiB for an array with shape (7027, 76076) and data type float64\n",
      "\n",
      "--------------------------------------------------------------------------------\n",
      "8 fits failed with the following error:\n",
      "Traceback (most recent call last):\n",
      "  File \"C:\\Users\\sarar\\anaconda3\\lib\\site-packages\\sklearn\\model_selection\\_validation.py\", line 680, in _fit_and_score\n",
      "    estimator.fit(X_train, y_train, **fit_params)\n",
      "  File \"C:\\Users\\sarar\\anaconda3\\lib\\site-packages\\sklearn\\pipeline.py\", line 390, in fit\n",
      "    Xt = self._fit(X, y, **fit_params_steps)\n",
      "  File \"C:\\Users\\sarar\\anaconda3\\lib\\site-packages\\sklearn\\pipeline.py\", line 348, in _fit\n",
      "    X, fitted_transformer = fit_transform_one_cached(\n",
      "  File \"C:\\Users\\sarar\\anaconda3\\lib\\site-packages\\joblib\\memory.py\", line 349, in __call__\n",
      "    return self.func(*args, **kwargs)\n",
      "  File \"C:\\Users\\sarar\\anaconda3\\lib\\site-packages\\sklearn\\pipeline.py\", line 893, in _fit_transform_one\n",
      "    res = transformer.fit_transform(X, y, **fit_params)\n",
      "  File \"C:\\Users\\sarar\\anaconda3\\lib\\site-packages\\sklearn\\base.py\", line 855, in fit_transform\n",
      "    return self.fit(X, y, **fit_params).transform(X)\n",
      "  File \"C:\\Users\\sarar\\anaconda3\\lib\\site-packages\\sklearn\\preprocessing\\_polynomial.py\", line 421, in transform\n",
      "    XP = np.empty(\n",
      "numpy.core._exceptions._ArrayMemoryError: Unable to allocate 93.2 GiB for an array with shape (8323, 1502501) and data type float64\n",
      "\n",
      "--------------------------------------------------------------------------------\n",
      "2 fits failed with the following error:\n",
      "Traceback (most recent call last):\n",
      "  File \"C:\\Users\\sarar\\anaconda3\\lib\\site-packages\\sklearn\\model_selection\\_validation.py\", line 680, in _fit_and_score\n",
      "    estimator.fit(X_train, y_train, **fit_params)\n",
      "  File \"C:\\Users\\sarar\\anaconda3\\lib\\site-packages\\sklearn\\pipeline.py\", line 390, in fit\n",
      "    Xt = self._fit(X, y, **fit_params_steps)\n",
      "  File \"C:\\Users\\sarar\\anaconda3\\lib\\site-packages\\sklearn\\pipeline.py\", line 348, in _fit\n",
      "    X, fitted_transformer = fit_transform_one_cached(\n",
      "  File \"C:\\Users\\sarar\\anaconda3\\lib\\site-packages\\joblib\\memory.py\", line 349, in __call__\n",
      "    return self.func(*args, **kwargs)\n",
      "  File \"C:\\Users\\sarar\\anaconda3\\lib\\site-packages\\sklearn\\pipeline.py\", line 893, in _fit_transform_one\n",
      "    res = transformer.fit_transform(X, y, **fit_params)\n",
      "  File \"C:\\Users\\sarar\\anaconda3\\lib\\site-packages\\sklearn\\base.py\", line 855, in fit_transform\n",
      "    return self.fit(X, y, **fit_params).transform(X)\n",
      "  File \"C:\\Users\\sarar\\anaconda3\\lib\\site-packages\\sklearn\\preprocessing\\_polynomial.py\", line 421, in transform\n",
      "    XP = np.empty(\n",
      "numpy.core._exceptions._ArrayMemoryError: Unable to allocate 93.2 GiB for an array with shape (8324, 1502501) and data type float64\n",
      "\n",
      "--------------------------------------------------------------------------------\n",
      "8 fits failed with the following error:\n",
      "Traceback (most recent call last):\n",
      "  File \"C:\\Users\\sarar\\anaconda3\\lib\\site-packages\\sklearn\\model_selection\\_validation.py\", line 680, in _fit_and_score\n",
      "    estimator.fit(X_train, y_train, **fit_params)\n",
      "  File \"C:\\Users\\sarar\\anaconda3\\lib\\site-packages\\sklearn\\pipeline.py\", line 390, in fit\n",
      "    Xt = self._fit(X, y, **fit_params_steps)\n",
      "  File \"C:\\Users\\sarar\\anaconda3\\lib\\site-packages\\sklearn\\pipeline.py\", line 348, in _fit\n",
      "    X, fitted_transformer = fit_transform_one_cached(\n",
      "  File \"C:\\Users\\sarar\\anaconda3\\lib\\site-packages\\joblib\\memory.py\", line 349, in __call__\n",
      "    return self.func(*args, **kwargs)\n",
      "  File \"C:\\Users\\sarar\\anaconda3\\lib\\site-packages\\sklearn\\pipeline.py\", line 893, in _fit_transform_one\n",
      "    res = transformer.fit_transform(X, y, **fit_params)\n",
      "  File \"C:\\Users\\sarar\\anaconda3\\lib\\site-packages\\sklearn\\base.py\", line 855, in fit_transform\n",
      "    return self.fit(X, y, **fit_params).transform(X)\n",
      "  File \"C:\\Users\\sarar\\anaconda3\\lib\\site-packages\\sklearn\\preprocessing\\_polynomial.py\", line 421, in transform\n",
      "    XP = np.empty(\n",
      "numpy.core._exceptions._ArrayMemoryError: Unable to allocate 1.46 TiB for an array with shape (8323, 24040016) and data type float64\n",
      "\n",
      "--------------------------------------------------------------------------------\n",
      "2 fits failed with the following error:\n",
      "Traceback (most recent call last):\n",
      "  File \"C:\\Users\\sarar\\anaconda3\\lib\\site-packages\\sklearn\\model_selection\\_validation.py\", line 680, in _fit_and_score\n",
      "    estimator.fit(X_train, y_train, **fit_params)\n",
      "  File \"C:\\Users\\sarar\\anaconda3\\lib\\site-packages\\sklearn\\pipeline.py\", line 390, in fit\n",
      "    Xt = self._fit(X, y, **fit_params_steps)\n",
      "  File \"C:\\Users\\sarar\\anaconda3\\lib\\site-packages\\sklearn\\pipeline.py\", line 348, in _fit\n",
      "    X, fitted_transformer = fit_transform_one_cached(\n",
      "  File \"C:\\Users\\sarar\\anaconda3\\lib\\site-packages\\joblib\\memory.py\", line 349, in __call__\n",
      "    return self.func(*args, **kwargs)\n",
      "  File \"C:\\Users\\sarar\\anaconda3\\lib\\site-packages\\sklearn\\pipeline.py\", line 893, in _fit_transform_one\n",
      "    res = transformer.fit_transform(X, y, **fit_params)\n",
      "  File \"C:\\Users\\sarar\\anaconda3\\lib\\site-packages\\sklearn\\base.py\", line 855, in fit_transform\n",
      "    return self.fit(X, y, **fit_params).transform(X)\n",
      "  File \"C:\\Users\\sarar\\anaconda3\\lib\\site-packages\\sklearn\\preprocessing\\_polynomial.py\", line 421, in transform\n",
      "    XP = np.empty(\n",
      "numpy.core._exceptions._ArrayMemoryError: Unable to allocate 1.46 TiB for an array with shape (8324, 24040016) and data type float64\n",
      "\n",
      "  warnings.warn(some_fits_failed_message, FitFailedWarning)\n",
      "C:\\Users\\sarar\\anaconda3\\lib\\site-packages\\sklearn\\model_selection\\_search.py:969: UserWarning: One or more of the test scores are non-finite: [0.87846028 0.87229777        nan        nan        nan]\n",
      "  warnings.warn(\n"
     ]
    },
    {
     "data": {
      "text/plain": [
       "GridSearchCV(cv=10,\n",
       "             estimator=Pipeline(steps=[('poly', PolynomialFeatures()),\n",
       "                                       ('lda',\n",
       "                                        LinearDiscriminantAnalysis(store_covariance=True))]),\n",
       "             param_grid={'poly__degree': range(1, 6)},\n",
       "             scoring=make_scorer(accuracy))"
      ]
     },
     "execution_count": 68,
     "metadata": {},
     "output_type": "execute_result"
    }
   ],
   "source": [
    "from sklearn.model_selection import GridSearchCV\n",
    "\n",
    "model = Pipeline([('poly', PolynomialFeatures()),\n",
    "                  ('lda', LDA(store_covariance=True))])\n",
    "params = {'poly__degree': range(1, 6)}\n",
    "cv = GridSearchCV(model, params, refit=True, cv=10, \n",
    "                  scoring=make_scorer(accuracy))\n",
    "cv.fit(X_train_full, y_train)"
   ]
  },
  {
   "cell_type": "markdown",
   "id": "cb0d07a9",
   "metadata": {},
   "source": [
    "## QDA"
   ]
  },
  {
   "cell_type": "code",
   "execution_count": 99,
   "id": "e2e5f7fb",
   "metadata": {},
   "outputs": [
    {
     "name": "stdout",
     "output_type": "stream",
     "text": [
      "Train accuracy: 0.18933823529411764\n",
      "Test accuracy: 0.18397144711226476\n"
     ]
    },
    {
     "name": "stderr",
     "output_type": "stream",
     "text": [
      "C:\\Users\\sarar\\anaconda3\\lib\\site-packages\\sklearn\\discriminant_analysis.py:878: UserWarning: Variables are collinear\n",
      "  warnings.warn(\"Variables are collinear\")\n"
     ]
    }
   ],
   "source": [
    "from sklearn.discriminant_analysis import QuadraticDiscriminantAnalysis as QDA\n",
    "model = QDA(store_covariance=True)\n",
    "model = model.fit(X_train_full, y_train)\n",
    "\n",
    "print(\"Train accuracy:\", accuracy(y_train, model.predict(X_train_full)))\n",
    "print(\"Test accuracy:\", accuracy(y_test, model.predict(X_test_full)))"
   ]
  },
  {
   "cell_type": "markdown",
   "id": "d91233d5",
   "metadata": {},
   "source": [
    "## KNN"
   ]
  },
  {
   "cell_type": "code",
   "execution_count": 113,
   "id": "04a2d1a1",
   "metadata": {},
   "outputs": [
    {
     "data": {
      "text/plain": [
       "KNeighborsClassifier(n_neighbors=6)"
      ]
     },
     "execution_count": 113,
     "metadata": {},
     "output_type": "execute_result"
    },
    {
     "name": "stderr",
     "output_type": "stream",
     "text": [
      "C:\\Users\\sarar\\anaconda3\\lib\\site-packages\\sklearn\\neighbors\\_classification.py:228: FutureWarning: Unlike other reduction functions (e.g. `skew`, `kurtosis`), the default behavior of `mode` typically preserves the axis it acts along. In SciPy 1.11.0, this behavior will change: the default value of `keepdims` will become False, the `axis` over which the statistic is taken will be eliminated, and the value None will no longer be accepted. Set `keepdims` to True or False to avoid this warning.\n",
      "  mode, _ = stats.mode(_y[neigh_ind, k], axis=1)\n"
     ]
    },
    {
     "name": "stdout",
     "output_type": "stream",
     "text": [
      "Train accuracy: 0.8831098615916955\n",
      "Test accuracy: 0.8754055807916937\n"
     ]
    },
    {
     "name": "stderr",
     "output_type": "stream",
     "text": [
      "C:\\Users\\sarar\\anaconda3\\lib\\site-packages\\sklearn\\neighbors\\_classification.py:228: FutureWarning: Unlike other reduction functions (e.g. `skew`, `kurtosis`), the default behavior of `mode` typically preserves the axis it acts along. In SciPy 1.11.0, this behavior will change: the default value of `keepdims` will become False, the `axis` over which the statistic is taken will be eliminated, and the value None will no longer be accepted. Set `keepdims` to True or False to avoid this warning.\n",
      "  mode, _ = stats.mode(_y[neigh_ind, k], axis=1)\n"
     ]
    }
   ],
   "source": [
    "# Train a KNN with different k values\n",
    "from sklearn.neighbors import KNeighborsClassifier\n",
    "model = KNeighborsClassifier(n_neighbors=6)\n",
    "model.fit(X_train_full, y_train)\n",
    "\n",
    "print(\"Train accuracy:\", accuracy(y_train, model.predict(X_train_full)))\n",
    "print(\"Test accuracy:\", accuracy(y_test, model.predict(X_test_full)))"
   ]
  },
  {
   "cell_type": "code",
   "execution_count": 112,
   "id": "f92da8ca",
   "metadata": {},
   "outputs": [
    {
     "name": "stderr",
     "output_type": "stream",
     "text": [
      "C:\\Users\\sarar\\anaconda3\\lib\\site-packages\\sklearn\\neighbors\\_classification.py:228: FutureWarning: Unlike other reduction functions (e.g. `skew`, `kurtosis`), the default behavior of `mode` typically preserves the axis it acts along. In SciPy 1.11.0, this behavior will change: the default value of `keepdims` will become False, the `axis` over which the statistic is taken will be eliminated, and the value None will no longer be accepted. Set `keepdims` to True or False to avoid this warning.\n",
      "  mode, _ = stats.mode(_y[neigh_ind, k], axis=1)\n",
      "C:\\Users\\sarar\\anaconda3\\lib\\site-packages\\sklearn\\neighbors\\_classification.py:228: FutureWarning: Unlike other reduction functions (e.g. `skew`, `kurtosis`), the default behavior of `mode` typically preserves the axis it acts along. In SciPy 1.11.0, this behavior will change: the default value of `keepdims` will become False, the `axis` over which the statistic is taken will be eliminated, and the value None will no longer be accepted. Set `keepdims` to True or False to avoid this warning.\n",
      "  mode, _ = stats.mode(_y[neigh_ind, k], axis=1)\n",
      "C:\\Users\\sarar\\anaconda3\\lib\\site-packages\\sklearn\\neighbors\\_classification.py:228: FutureWarning: Unlike other reduction functions (e.g. `skew`, `kurtosis`), the default behavior of `mode` typically preserves the axis it acts along. In SciPy 1.11.0, this behavior will change: the default value of `keepdims` will become False, the `axis` over which the statistic is taken will be eliminated, and the value None will no longer be accepted. Set `keepdims` to True or False to avoid this warning.\n",
      "  mode, _ = stats.mode(_y[neigh_ind, k], axis=1)\n",
      "C:\\Users\\sarar\\anaconda3\\lib\\site-packages\\sklearn\\neighbors\\_classification.py:228: FutureWarning: Unlike other reduction functions (e.g. `skew`, `kurtosis`), the default behavior of `mode` typically preserves the axis it acts along. In SciPy 1.11.0, this behavior will change: the default value of `keepdims` will become False, the `axis` over which the statistic is taken will be eliminated, and the value None will no longer be accepted. Set `keepdims` to True or False to avoid this warning.\n",
      "  mode, _ = stats.mode(_y[neigh_ind, k], axis=1)\n",
      "C:\\Users\\sarar\\anaconda3\\lib\\site-packages\\sklearn\\neighbors\\_classification.py:228: FutureWarning: Unlike other reduction functions (e.g. `skew`, `kurtosis`), the default behavior of `mode` typically preserves the axis it acts along. In SciPy 1.11.0, this behavior will change: the default value of `keepdims` will become False, the `axis` over which the statistic is taken will be eliminated, and the value None will no longer be accepted. Set `keepdims` to True or False to avoid this warning.\n",
      "  mode, _ = stats.mode(_y[neigh_ind, k], axis=1)\n",
      "C:\\Users\\sarar\\anaconda3\\lib\\site-packages\\sklearn\\neighbors\\_classification.py:228: FutureWarning: Unlike other reduction functions (e.g. `skew`, `kurtosis`), the default behavior of `mode` typically preserves the axis it acts along. In SciPy 1.11.0, this behavior will change: the default value of `keepdims` will become False, the `axis` over which the statistic is taken will be eliminated, and the value None will no longer be accepted. Set `keepdims` to True or False to avoid this warning.\n",
      "  mode, _ = stats.mode(_y[neigh_ind, k], axis=1)\n",
      "C:\\Users\\sarar\\anaconda3\\lib\\site-packages\\sklearn\\neighbors\\_classification.py:228: FutureWarning: Unlike other reduction functions (e.g. `skew`, `kurtosis`), the default behavior of `mode` typically preserves the axis it acts along. In SciPy 1.11.0, this behavior will change: the default value of `keepdims` will become False, the `axis` over which the statistic is taken will be eliminated, and the value None will no longer be accepted. Set `keepdims` to True or False to avoid this warning.\n",
      "  mode, _ = stats.mode(_y[neigh_ind, k], axis=1)\n",
      "C:\\Users\\sarar\\anaconda3\\lib\\site-packages\\sklearn\\neighbors\\_classification.py:228: FutureWarning: Unlike other reduction functions (e.g. `skew`, `kurtosis`), the default behavior of `mode` typically preserves the axis it acts along. In SciPy 1.11.0, this behavior will change: the default value of `keepdims` will become False, the `axis` over which the statistic is taken will be eliminated, and the value None will no longer be accepted. Set `keepdims` to True or False to avoid this warning.\n",
      "  mode, _ = stats.mode(_y[neigh_ind, k], axis=1)\n",
      "C:\\Users\\sarar\\anaconda3\\lib\\site-packages\\sklearn\\neighbors\\_classification.py:228: FutureWarning: Unlike other reduction functions (e.g. `skew`, `kurtosis`), the default behavior of `mode` typically preserves the axis it acts along. In SciPy 1.11.0, this behavior will change: the default value of `keepdims` will become False, the `axis` over which the statistic is taken will be eliminated, and the value None will no longer be accepted. Set `keepdims` to True or False to avoid this warning.\n",
      "  mode, _ = stats.mode(_y[neigh_ind, k], axis=1)\n",
      "C:\\Users\\sarar\\anaconda3\\lib\\site-packages\\sklearn\\neighbors\\_classification.py:228: FutureWarning: Unlike other reduction functions (e.g. `skew`, `kurtosis`), the default behavior of `mode` typically preserves the axis it acts along. In SciPy 1.11.0, this behavior will change: the default value of `keepdims` will become False, the `axis` over which the statistic is taken will be eliminated, and the value None will no longer be accepted. Set `keepdims` to True or False to avoid this warning.\n",
      "  mode, _ = stats.mode(_y[neigh_ind, k], axis=1)\n",
      "C:\\Users\\sarar\\anaconda3\\lib\\site-packages\\sklearn\\neighbors\\_classification.py:228: FutureWarning: Unlike other reduction functions (e.g. `skew`, `kurtosis`), the default behavior of `mode` typically preserves the axis it acts along. In SciPy 1.11.0, this behavior will change: the default value of `keepdims` will become False, the `axis` over which the statistic is taken will be eliminated, and the value None will no longer be accepted. Set `keepdims` to True or False to avoid this warning.\n",
      "  mode, _ = stats.mode(_y[neigh_ind, k], axis=1)\n",
      "C:\\Users\\sarar\\anaconda3\\lib\\site-packages\\sklearn\\neighbors\\_classification.py:228: FutureWarning: Unlike other reduction functions (e.g. `skew`, `kurtosis`), the default behavior of `mode` typically preserves the axis it acts along. In SciPy 1.11.0, this behavior will change: the default value of `keepdims` will become False, the `axis` over which the statistic is taken will be eliminated, and the value None will no longer be accepted. Set `keepdims` to True or False to avoid this warning.\n",
      "  mode, _ = stats.mode(_y[neigh_ind, k], axis=1)\n",
      "C:\\Users\\sarar\\anaconda3\\lib\\site-packages\\sklearn\\neighbors\\_classification.py:228: FutureWarning: Unlike other reduction functions (e.g. `skew`, `kurtosis`), the default behavior of `mode` typically preserves the axis it acts along. In SciPy 1.11.0, this behavior will change: the default value of `keepdims` will become False, the `axis` over which the statistic is taken will be eliminated, and the value None will no longer be accepted. Set `keepdims` to True or False to avoid this warning.\n",
      "  mode, _ = stats.mode(_y[neigh_ind, k], axis=1)\n",
      "C:\\Users\\sarar\\anaconda3\\lib\\site-packages\\sklearn\\neighbors\\_classification.py:228: FutureWarning: Unlike other reduction functions (e.g. `skew`, `kurtosis`), the default behavior of `mode` typically preserves the axis it acts along. In SciPy 1.11.0, this behavior will change: the default value of `keepdims` will become False, the `axis` over which the statistic is taken will be eliminated, and the value None will no longer be accepted. Set `keepdims` to True or False to avoid this warning.\n",
      "  mode, _ = stats.mode(_y[neigh_ind, k], axis=1)\n",
      "C:\\Users\\sarar\\anaconda3\\lib\\site-packages\\sklearn\\neighbors\\_classification.py:228: FutureWarning: Unlike other reduction functions (e.g. `skew`, `kurtosis`), the default behavior of `mode` typically preserves the axis it acts along. In SciPy 1.11.0, this behavior will change: the default value of `keepdims` will become False, the `axis` over which the statistic is taken will be eliminated, and the value None will no longer be accepted. Set `keepdims` to True or False to avoid this warning.\n",
      "  mode, _ = stats.mode(_y[neigh_ind, k], axis=1)\n",
      "C:\\Users\\sarar\\anaconda3\\lib\\site-packages\\sklearn\\neighbors\\_classification.py:228: FutureWarning: Unlike other reduction functions (e.g. `skew`, `kurtosis`), the default behavior of `mode` typically preserves the axis it acts along. In SciPy 1.11.0, this behavior will change: the default value of `keepdims` will become False, the `axis` over which the statistic is taken will be eliminated, and the value None will no longer be accepted. Set `keepdims` to True or False to avoid this warning.\n",
      "  mode, _ = stats.mode(_y[neigh_ind, k], axis=1)\n",
      "C:\\Users\\sarar\\anaconda3\\lib\\site-packages\\sklearn\\neighbors\\_classification.py:228: FutureWarning: Unlike other reduction functions (e.g. `skew`, `kurtosis`), the default behavior of `mode` typically preserves the axis it acts along. In SciPy 1.11.0, this behavior will change: the default value of `keepdims` will become False, the `axis` over which the statistic is taken will be eliminated, and the value None will no longer be accepted. Set `keepdims` to True or False to avoid this warning.\n",
      "  mode, _ = stats.mode(_y[neigh_ind, k], axis=1)\n"
     ]
    },
    {
     "name": "stderr",
     "output_type": "stream",
     "text": [
      "C:\\Users\\sarar\\anaconda3\\lib\\site-packages\\sklearn\\neighbors\\_classification.py:228: FutureWarning: Unlike other reduction functions (e.g. `skew`, `kurtosis`), the default behavior of `mode` typically preserves the axis it acts along. In SciPy 1.11.0, this behavior will change: the default value of `keepdims` will become False, the `axis` over which the statistic is taken will be eliminated, and the value None will no longer be accepted. Set `keepdims` to True or False to avoid this warning.\n",
      "  mode, _ = stats.mode(_y[neigh_ind, k], axis=1)\n",
      "C:\\Users\\sarar\\anaconda3\\lib\\site-packages\\sklearn\\neighbors\\_classification.py:228: FutureWarning: Unlike other reduction functions (e.g. `skew`, `kurtosis`), the default behavior of `mode` typically preserves the axis it acts along. In SciPy 1.11.0, this behavior will change: the default value of `keepdims` will become False, the `axis` over which the statistic is taken will be eliminated, and the value None will no longer be accepted. Set `keepdims` to True or False to avoid this warning.\n",
      "  mode, _ = stats.mode(_y[neigh_ind, k], axis=1)\n",
      "C:\\Users\\sarar\\anaconda3\\lib\\site-packages\\sklearn\\neighbors\\_classification.py:228: FutureWarning: Unlike other reduction functions (e.g. `skew`, `kurtosis`), the default behavior of `mode` typically preserves the axis it acts along. In SciPy 1.11.0, this behavior will change: the default value of `keepdims` will become False, the `axis` over which the statistic is taken will be eliminated, and the value None will no longer be accepted. Set `keepdims` to True or False to avoid this warning.\n",
      "  mode, _ = stats.mode(_y[neigh_ind, k], axis=1)\n",
      "C:\\Users\\sarar\\anaconda3\\lib\\site-packages\\sklearn\\neighbors\\_classification.py:228: FutureWarning: Unlike other reduction functions (e.g. `skew`, `kurtosis`), the default behavior of `mode` typically preserves the axis it acts along. In SciPy 1.11.0, this behavior will change: the default value of `keepdims` will become False, the `axis` over which the statistic is taken will be eliminated, and the value None will no longer be accepted. Set `keepdims` to True or False to avoid this warning.\n",
      "  mode, _ = stats.mode(_y[neigh_ind, k], axis=1)\n",
      "C:\\Users\\sarar\\anaconda3\\lib\\site-packages\\sklearn\\neighbors\\_classification.py:228: FutureWarning: Unlike other reduction functions (e.g. `skew`, `kurtosis`), the default behavior of `mode` typically preserves the axis it acts along. In SciPy 1.11.0, this behavior will change: the default value of `keepdims` will become False, the `axis` over which the statistic is taken will be eliminated, and the value None will no longer be accepted. Set `keepdims` to True or False to avoid this warning.\n",
      "  mode, _ = stats.mode(_y[neigh_ind, k], axis=1)\n",
      "C:\\Users\\sarar\\anaconda3\\lib\\site-packages\\sklearn\\neighbors\\_classification.py:228: FutureWarning: Unlike other reduction functions (e.g. `skew`, `kurtosis`), the default behavior of `mode` typically preserves the axis it acts along. In SciPy 1.11.0, this behavior will change: the default value of `keepdims` will become False, the `axis` over which the statistic is taken will be eliminated, and the value None will no longer be accepted. Set `keepdims` to True or False to avoid this warning.\n",
      "  mode, _ = stats.mode(_y[neigh_ind, k], axis=1)\n",
      "C:\\Users\\sarar\\anaconda3\\lib\\site-packages\\sklearn\\neighbors\\_classification.py:228: FutureWarning: Unlike other reduction functions (e.g. `skew`, `kurtosis`), the default behavior of `mode` typically preserves the axis it acts along. In SciPy 1.11.0, this behavior will change: the default value of `keepdims` will become False, the `axis` over which the statistic is taken will be eliminated, and the value None will no longer be accepted. Set `keepdims` to True or False to avoid this warning.\n",
      "  mode, _ = stats.mode(_y[neigh_ind, k], axis=1)\n",
      "C:\\Users\\sarar\\anaconda3\\lib\\site-packages\\sklearn\\neighbors\\_classification.py:228: FutureWarning: Unlike other reduction functions (e.g. `skew`, `kurtosis`), the default behavior of `mode` typically preserves the axis it acts along. In SciPy 1.11.0, this behavior will change: the default value of `keepdims` will become False, the `axis` over which the statistic is taken will be eliminated, and the value None will no longer be accepted. Set `keepdims` to True or False to avoid this warning.\n",
      "  mode, _ = stats.mode(_y[neigh_ind, k], axis=1)\n",
      "C:\\Users\\sarar\\anaconda3\\lib\\site-packages\\sklearn\\neighbors\\_classification.py:228: FutureWarning: Unlike other reduction functions (e.g. `skew`, `kurtosis`), the default behavior of `mode` typically preserves the axis it acts along. In SciPy 1.11.0, this behavior will change: the default value of `keepdims` will become False, the `axis` over which the statistic is taken will be eliminated, and the value None will no longer be accepted. Set `keepdims` to True or False to avoid this warning.\n",
      "  mode, _ = stats.mode(_y[neigh_ind, k], axis=1)\n",
      "C:\\Users\\sarar\\anaconda3\\lib\\site-packages\\sklearn\\neighbors\\_classification.py:228: FutureWarning: Unlike other reduction functions (e.g. `skew`, `kurtosis`), the default behavior of `mode` typically preserves the axis it acts along. In SciPy 1.11.0, this behavior will change: the default value of `keepdims` will become False, the `axis` over which the statistic is taken will be eliminated, and the value None will no longer be accepted. Set `keepdims` to True or False to avoid this warning.\n",
      "  mode, _ = stats.mode(_y[neigh_ind, k], axis=1)\n",
      "C:\\Users\\sarar\\anaconda3\\lib\\site-packages\\sklearn\\neighbors\\_classification.py:228: FutureWarning: Unlike other reduction functions (e.g. `skew`, `kurtosis`), the default behavior of `mode` typically preserves the axis it acts along. In SciPy 1.11.0, this behavior will change: the default value of `keepdims` will become False, the `axis` over which the statistic is taken will be eliminated, and the value None will no longer be accepted. Set `keepdims` to True or False to avoid this warning.\n",
      "  mode, _ = stats.mode(_y[neigh_ind, k], axis=1)\n",
      "C:\\Users\\sarar\\anaconda3\\lib\\site-packages\\sklearn\\neighbors\\_classification.py:228: FutureWarning: Unlike other reduction functions (e.g. `skew`, `kurtosis`), the default behavior of `mode` typically preserves the axis it acts along. In SciPy 1.11.0, this behavior will change: the default value of `keepdims` will become False, the `axis` over which the statistic is taken will be eliminated, and the value None will no longer be accepted. Set `keepdims` to True or False to avoid this warning.\n",
      "  mode, _ = stats.mode(_y[neigh_ind, k], axis=1)\n",
      "C:\\Users\\sarar\\anaconda3\\lib\\site-packages\\sklearn\\neighbors\\_classification.py:228: FutureWarning: Unlike other reduction functions (e.g. `skew`, `kurtosis`), the default behavior of `mode` typically preserves the axis it acts along. In SciPy 1.11.0, this behavior will change: the default value of `keepdims` will become False, the `axis` over which the statistic is taken will be eliminated, and the value None will no longer be accepted. Set `keepdims` to True or False to avoid this warning.\n",
      "  mode, _ = stats.mode(_y[neigh_ind, k], axis=1)\n",
      "C:\\Users\\sarar\\anaconda3\\lib\\site-packages\\sklearn\\neighbors\\_classification.py:228: FutureWarning: Unlike other reduction functions (e.g. `skew`, `kurtosis`), the default behavior of `mode` typically preserves the axis it acts along. In SciPy 1.11.0, this behavior will change: the default value of `keepdims` will become False, the `axis` over which the statistic is taken will be eliminated, and the value None will no longer be accepted. Set `keepdims` to True or False to avoid this warning.\n",
      "  mode, _ = stats.mode(_y[neigh_ind, k], axis=1)\n",
      "C:\\Users\\sarar\\anaconda3\\lib\\site-packages\\sklearn\\neighbors\\_classification.py:228: FutureWarning: Unlike other reduction functions (e.g. `skew`, `kurtosis`), the default behavior of `mode` typically preserves the axis it acts along. In SciPy 1.11.0, this behavior will change: the default value of `keepdims` will become False, the `axis` over which the statistic is taken will be eliminated, and the value None will no longer be accepted. Set `keepdims` to True or False to avoid this warning.\n",
      "  mode, _ = stats.mode(_y[neigh_ind, k], axis=1)\n",
      "C:\\Users\\sarar\\anaconda3\\lib\\site-packages\\sklearn\\neighbors\\_classification.py:228: FutureWarning: Unlike other reduction functions (e.g. `skew`, `kurtosis`), the default behavior of `mode` typically preserves the axis it acts along. In SciPy 1.11.0, this behavior will change: the default value of `keepdims` will become False, the `axis` over which the statistic is taken will be eliminated, and the value None will no longer be accepted. Set `keepdims` to True or False to avoid this warning.\n",
      "  mode, _ = stats.mode(_y[neigh_ind, k], axis=1)\n"
     ]
    },
    {
     "name": "stderr",
     "output_type": "stream",
     "text": [
      "C:\\Users\\sarar\\anaconda3\\lib\\site-packages\\sklearn\\neighbors\\_classification.py:228: FutureWarning: Unlike other reduction functions (e.g. `skew`, `kurtosis`), the default behavior of `mode` typically preserves the axis it acts along. In SciPy 1.11.0, this behavior will change: the default value of `keepdims` will become False, the `axis` over which the statistic is taken will be eliminated, and the value None will no longer be accepted. Set `keepdims` to True or False to avoid this warning.\n",
      "  mode, _ = stats.mode(_y[neigh_ind, k], axis=1)\n",
      "C:\\Users\\sarar\\anaconda3\\lib\\site-packages\\sklearn\\neighbors\\_classification.py:228: FutureWarning: Unlike other reduction functions (e.g. `skew`, `kurtosis`), the default behavior of `mode` typically preserves the axis it acts along. In SciPy 1.11.0, this behavior will change: the default value of `keepdims` will become False, the `axis` over which the statistic is taken will be eliminated, and the value None will no longer be accepted. Set `keepdims` to True or False to avoid this warning.\n",
      "  mode, _ = stats.mode(_y[neigh_ind, k], axis=1)\n",
      "C:\\Users\\sarar\\anaconda3\\lib\\site-packages\\sklearn\\neighbors\\_classification.py:228: FutureWarning: Unlike other reduction functions (e.g. `skew`, `kurtosis`), the default behavior of `mode` typically preserves the axis it acts along. In SciPy 1.11.0, this behavior will change: the default value of `keepdims` will become False, the `axis` over which the statistic is taken will be eliminated, and the value None will no longer be accepted. Set `keepdims` to True or False to avoid this warning.\n",
      "  mode, _ = stats.mode(_y[neigh_ind, k], axis=1)\n",
      "C:\\Users\\sarar\\anaconda3\\lib\\site-packages\\sklearn\\neighbors\\_classification.py:228: FutureWarning: Unlike other reduction functions (e.g. `skew`, `kurtosis`), the default behavior of `mode` typically preserves the axis it acts along. In SciPy 1.11.0, this behavior will change: the default value of `keepdims` will become False, the `axis` over which the statistic is taken will be eliminated, and the value None will no longer be accepted. Set `keepdims` to True or False to avoid this warning.\n",
      "  mode, _ = stats.mode(_y[neigh_ind, k], axis=1)\n",
      "C:\\Users\\sarar\\anaconda3\\lib\\site-packages\\sklearn\\neighbors\\_classification.py:228: FutureWarning: Unlike other reduction functions (e.g. `skew`, `kurtosis`), the default behavior of `mode` typically preserves the axis it acts along. In SciPy 1.11.0, this behavior will change: the default value of `keepdims` will become False, the `axis` over which the statistic is taken will be eliminated, and the value None will no longer be accepted. Set `keepdims` to True or False to avoid this warning.\n",
      "  mode, _ = stats.mode(_y[neigh_ind, k], axis=1)\n",
      "C:\\Users\\sarar\\anaconda3\\lib\\site-packages\\sklearn\\neighbors\\_classification.py:228: FutureWarning: Unlike other reduction functions (e.g. `skew`, `kurtosis`), the default behavior of `mode` typically preserves the axis it acts along. In SciPy 1.11.0, this behavior will change: the default value of `keepdims` will become False, the `axis` over which the statistic is taken will be eliminated, and the value None will no longer be accepted. Set `keepdims` to True or False to avoid this warning.\n",
      "  mode, _ = stats.mode(_y[neigh_ind, k], axis=1)\n",
      "C:\\Users\\sarar\\anaconda3\\lib\\site-packages\\sklearn\\neighbors\\_classification.py:228: FutureWarning: Unlike other reduction functions (e.g. `skew`, `kurtosis`), the default behavior of `mode` typically preserves the axis it acts along. In SciPy 1.11.0, this behavior will change: the default value of `keepdims` will become False, the `axis` over which the statistic is taken will be eliminated, and the value None will no longer be accepted. Set `keepdims` to True or False to avoid this warning.\n",
      "  mode, _ = stats.mode(_y[neigh_ind, k], axis=1)\n",
      "C:\\Users\\sarar\\anaconda3\\lib\\site-packages\\sklearn\\neighbors\\_classification.py:228: FutureWarning: Unlike other reduction functions (e.g. `skew`, `kurtosis`), the default behavior of `mode` typically preserves the axis it acts along. In SciPy 1.11.0, this behavior will change: the default value of `keepdims` will become False, the `axis` over which the statistic is taken will be eliminated, and the value None will no longer be accepted. Set `keepdims` to True or False to avoid this warning.\n",
      "  mode, _ = stats.mode(_y[neigh_ind, k], axis=1)\n",
      "C:\\Users\\sarar\\anaconda3\\lib\\site-packages\\sklearn\\neighbors\\_classification.py:228: FutureWarning: Unlike other reduction functions (e.g. `skew`, `kurtosis`), the default behavior of `mode` typically preserves the axis it acts along. In SciPy 1.11.0, this behavior will change: the default value of `keepdims` will become False, the `axis` over which the statistic is taken will be eliminated, and the value None will no longer be accepted. Set `keepdims` to True or False to avoid this warning.\n",
      "  mode, _ = stats.mode(_y[neigh_ind, k], axis=1)\n",
      "C:\\Users\\sarar\\anaconda3\\lib\\site-packages\\sklearn\\neighbors\\_classification.py:228: FutureWarning: Unlike other reduction functions (e.g. `skew`, `kurtosis`), the default behavior of `mode` typically preserves the axis it acts along. In SciPy 1.11.0, this behavior will change: the default value of `keepdims` will become False, the `axis` over which the statistic is taken will be eliminated, and the value None will no longer be accepted. Set `keepdims` to True or False to avoid this warning.\n",
      "  mode, _ = stats.mode(_y[neigh_ind, k], axis=1)\n",
      "C:\\Users\\sarar\\anaconda3\\lib\\site-packages\\sklearn\\neighbors\\_classification.py:228: FutureWarning: Unlike other reduction functions (e.g. `skew`, `kurtosis`), the default behavior of `mode` typically preserves the axis it acts along. In SciPy 1.11.0, this behavior will change: the default value of `keepdims` will become False, the `axis` over which the statistic is taken will be eliminated, and the value None will no longer be accepted. Set `keepdims` to True or False to avoid this warning.\n",
      "  mode, _ = stats.mode(_y[neigh_ind, k], axis=1)\n",
      "C:\\Users\\sarar\\anaconda3\\lib\\site-packages\\sklearn\\neighbors\\_classification.py:228: FutureWarning: Unlike other reduction functions (e.g. `skew`, `kurtosis`), the default behavior of `mode` typically preserves the axis it acts along. In SciPy 1.11.0, this behavior will change: the default value of `keepdims` will become False, the `axis` over which the statistic is taken will be eliminated, and the value None will no longer be accepted. Set `keepdims` to True or False to avoid this warning.\n",
      "  mode, _ = stats.mode(_y[neigh_ind, k], axis=1)\n",
      "C:\\Users\\sarar\\anaconda3\\lib\\site-packages\\sklearn\\neighbors\\_classification.py:228: FutureWarning: Unlike other reduction functions (e.g. `skew`, `kurtosis`), the default behavior of `mode` typically preserves the axis it acts along. In SciPy 1.11.0, this behavior will change: the default value of `keepdims` will become False, the `axis` over which the statistic is taken will be eliminated, and the value None will no longer be accepted. Set `keepdims` to True or False to avoid this warning.\n",
      "  mode, _ = stats.mode(_y[neigh_ind, k], axis=1)\n",
      "C:\\Users\\sarar\\anaconda3\\lib\\site-packages\\sklearn\\neighbors\\_classification.py:228: FutureWarning: Unlike other reduction functions (e.g. `skew`, `kurtosis`), the default behavior of `mode` typically preserves the axis it acts along. In SciPy 1.11.0, this behavior will change: the default value of `keepdims` will become False, the `axis` over which the statistic is taken will be eliminated, and the value None will no longer be accepted. Set `keepdims` to True or False to avoid this warning.\n",
      "  mode, _ = stats.mode(_y[neigh_ind, k], axis=1)\n",
      "C:\\Users\\sarar\\anaconda3\\lib\\site-packages\\sklearn\\neighbors\\_classification.py:228: FutureWarning: Unlike other reduction functions (e.g. `skew`, `kurtosis`), the default behavior of `mode` typically preserves the axis it acts along. In SciPy 1.11.0, this behavior will change: the default value of `keepdims` will become False, the `axis` over which the statistic is taken will be eliminated, and the value None will no longer be accepted. Set `keepdims` to True or False to avoid this warning.\n",
      "  mode, _ = stats.mode(_y[neigh_ind, k], axis=1)\n",
      "C:\\Users\\sarar\\anaconda3\\lib\\site-packages\\sklearn\\neighbors\\_classification.py:228: FutureWarning: Unlike other reduction functions (e.g. `skew`, `kurtosis`), the default behavior of `mode` typically preserves the axis it acts along. In SciPy 1.11.0, this behavior will change: the default value of `keepdims` will become False, the `axis` over which the statistic is taken will be eliminated, and the value None will no longer be accepted. Set `keepdims` to True or False to avoid this warning.\n",
      "  mode, _ = stats.mode(_y[neigh_ind, k], axis=1)\n"
     ]
    },
    {
     "name": "stderr",
     "output_type": "stream",
     "text": [
      "C:\\Users\\sarar\\anaconda3\\lib\\site-packages\\sklearn\\neighbors\\_classification.py:228: FutureWarning: Unlike other reduction functions (e.g. `skew`, `kurtosis`), the default behavior of `mode` typically preserves the axis it acts along. In SciPy 1.11.0, this behavior will change: the default value of `keepdims` will become False, the `axis` over which the statistic is taken will be eliminated, and the value None will no longer be accepted. Set `keepdims` to True or False to avoid this warning.\n",
      "  mode, _ = stats.mode(_y[neigh_ind, k], axis=1)\n",
      "C:\\Users\\sarar\\anaconda3\\lib\\site-packages\\sklearn\\neighbors\\_classification.py:228: FutureWarning: Unlike other reduction functions (e.g. `skew`, `kurtosis`), the default behavior of `mode` typically preserves the axis it acts along. In SciPy 1.11.0, this behavior will change: the default value of `keepdims` will become False, the `axis` over which the statistic is taken will be eliminated, and the value None will no longer be accepted. Set `keepdims` to True or False to avoid this warning.\n",
      "  mode, _ = stats.mode(_y[neigh_ind, k], axis=1)\n",
      "C:\\Users\\sarar\\anaconda3\\lib\\site-packages\\sklearn\\neighbors\\_classification.py:228: FutureWarning: Unlike other reduction functions (e.g. `skew`, `kurtosis`), the default behavior of `mode` typically preserves the axis it acts along. In SciPy 1.11.0, this behavior will change: the default value of `keepdims` will become False, the `axis` over which the statistic is taken will be eliminated, and the value None will no longer be accepted. Set `keepdims` to True or False to avoid this warning.\n",
      "  mode, _ = stats.mode(_y[neigh_ind, k], axis=1)\n",
      "C:\\Users\\sarar\\anaconda3\\lib\\site-packages\\sklearn\\neighbors\\_classification.py:228: FutureWarning: Unlike other reduction functions (e.g. `skew`, `kurtosis`), the default behavior of `mode` typically preserves the axis it acts along. In SciPy 1.11.0, this behavior will change: the default value of `keepdims` will become False, the `axis` over which the statistic is taken will be eliminated, and the value None will no longer be accepted. Set `keepdims` to True or False to avoid this warning.\n",
      "  mode, _ = stats.mode(_y[neigh_ind, k], axis=1)\n",
      "C:\\Users\\sarar\\anaconda3\\lib\\site-packages\\sklearn\\neighbors\\_classification.py:228: FutureWarning: Unlike other reduction functions (e.g. `skew`, `kurtosis`), the default behavior of `mode` typically preserves the axis it acts along. In SciPy 1.11.0, this behavior will change: the default value of `keepdims` will become False, the `axis` over which the statistic is taken will be eliminated, and the value None will no longer be accepted. Set `keepdims` to True or False to avoid this warning.\n",
      "  mode, _ = stats.mode(_y[neigh_ind, k], axis=1)\n",
      "C:\\Users\\sarar\\anaconda3\\lib\\site-packages\\sklearn\\neighbors\\_classification.py:228: FutureWarning: Unlike other reduction functions (e.g. `skew`, `kurtosis`), the default behavior of `mode` typically preserves the axis it acts along. In SciPy 1.11.0, this behavior will change: the default value of `keepdims` will become False, the `axis` over which the statistic is taken will be eliminated, and the value None will no longer be accepted. Set `keepdims` to True or False to avoid this warning.\n",
      "  mode, _ = stats.mode(_y[neigh_ind, k], axis=1)\n",
      "C:\\Users\\sarar\\anaconda3\\lib\\site-packages\\sklearn\\neighbors\\_classification.py:228: FutureWarning: Unlike other reduction functions (e.g. `skew`, `kurtosis`), the default behavior of `mode` typically preserves the axis it acts along. In SciPy 1.11.0, this behavior will change: the default value of `keepdims` will become False, the `axis` over which the statistic is taken will be eliminated, and the value None will no longer be accepted. Set `keepdims` to True or False to avoid this warning.\n",
      "  mode, _ = stats.mode(_y[neigh_ind, k], axis=1)\n",
      "C:\\Users\\sarar\\anaconda3\\lib\\site-packages\\sklearn\\neighbors\\_classification.py:228: FutureWarning: Unlike other reduction functions (e.g. `skew`, `kurtosis`), the default behavior of `mode` typically preserves the axis it acts along. In SciPy 1.11.0, this behavior will change: the default value of `keepdims` will become False, the `axis` over which the statistic is taken will be eliminated, and the value None will no longer be accepted. Set `keepdims` to True or False to avoid this warning.\n",
      "  mode, _ = stats.mode(_y[neigh_ind, k], axis=1)\n",
      "C:\\Users\\sarar\\anaconda3\\lib\\site-packages\\sklearn\\neighbors\\_classification.py:228: FutureWarning: Unlike other reduction functions (e.g. `skew`, `kurtosis`), the default behavior of `mode` typically preserves the axis it acts along. In SciPy 1.11.0, this behavior will change: the default value of `keepdims` will become False, the `axis` over which the statistic is taken will be eliminated, and the value None will no longer be accepted. Set `keepdims` to True or False to avoid this warning.\n",
      "  mode, _ = stats.mode(_y[neigh_ind, k], axis=1)\n",
      "C:\\Users\\sarar\\anaconda3\\lib\\site-packages\\sklearn\\neighbors\\_classification.py:228: FutureWarning: Unlike other reduction functions (e.g. `skew`, `kurtosis`), the default behavior of `mode` typically preserves the axis it acts along. In SciPy 1.11.0, this behavior will change: the default value of `keepdims` will become False, the `axis` over which the statistic is taken will be eliminated, and the value None will no longer be accepted. Set `keepdims` to True or False to avoid this warning.\n",
      "  mode, _ = stats.mode(_y[neigh_ind, k], axis=1)\n",
      "C:\\Users\\sarar\\anaconda3\\lib\\site-packages\\sklearn\\neighbors\\_classification.py:228: FutureWarning: Unlike other reduction functions (e.g. `skew`, `kurtosis`), the default behavior of `mode` typically preserves the axis it acts along. In SciPy 1.11.0, this behavior will change: the default value of `keepdims` will become False, the `axis` over which the statistic is taken will be eliminated, and the value None will no longer be accepted. Set `keepdims` to True or False to avoid this warning.\n",
      "  mode, _ = stats.mode(_y[neigh_ind, k], axis=1)\n",
      "C:\\Users\\sarar\\anaconda3\\lib\\site-packages\\sklearn\\neighbors\\_classification.py:228: FutureWarning: Unlike other reduction functions (e.g. `skew`, `kurtosis`), the default behavior of `mode` typically preserves the axis it acts along. In SciPy 1.11.0, this behavior will change: the default value of `keepdims` will become False, the `axis` over which the statistic is taken will be eliminated, and the value None will no longer be accepted. Set `keepdims` to True or False to avoid this warning.\n",
      "  mode, _ = stats.mode(_y[neigh_ind, k], axis=1)\n",
      "C:\\Users\\sarar\\anaconda3\\lib\\site-packages\\sklearn\\neighbors\\_classification.py:228: FutureWarning: Unlike other reduction functions (e.g. `skew`, `kurtosis`), the default behavior of `mode` typically preserves the axis it acts along. In SciPy 1.11.0, this behavior will change: the default value of `keepdims` will become False, the `axis` over which the statistic is taken will be eliminated, and the value None will no longer be accepted. Set `keepdims` to True or False to avoid this warning.\n",
      "  mode, _ = stats.mode(_y[neigh_ind, k], axis=1)\n",
      "C:\\Users\\sarar\\anaconda3\\lib\\site-packages\\sklearn\\neighbors\\_classification.py:228: FutureWarning: Unlike other reduction functions (e.g. `skew`, `kurtosis`), the default behavior of `mode` typically preserves the axis it acts along. In SciPy 1.11.0, this behavior will change: the default value of `keepdims` will become False, the `axis` over which the statistic is taken will be eliminated, and the value None will no longer be accepted. Set `keepdims` to True or False to avoid this warning.\n",
      "  mode, _ = stats.mode(_y[neigh_ind, k], axis=1)\n",
      "C:\\Users\\sarar\\anaconda3\\lib\\site-packages\\sklearn\\neighbors\\_classification.py:228: FutureWarning: Unlike other reduction functions (e.g. `skew`, `kurtosis`), the default behavior of `mode` typically preserves the axis it acts along. In SciPy 1.11.0, this behavior will change: the default value of `keepdims` will become False, the `axis` over which the statistic is taken will be eliminated, and the value None will no longer be accepted. Set `keepdims` to True or False to avoid this warning.\n",
      "  mode, _ = stats.mode(_y[neigh_ind, k], axis=1)\n",
      "C:\\Users\\sarar\\anaconda3\\lib\\site-packages\\sklearn\\neighbors\\_classification.py:228: FutureWarning: Unlike other reduction functions (e.g. `skew`, `kurtosis`), the default behavior of `mode` typically preserves the axis it acts along. In SciPy 1.11.0, this behavior will change: the default value of `keepdims` will become False, the `axis` over which the statistic is taken will be eliminated, and the value None will no longer be accepted. Set `keepdims` to True or False to avoid this warning.\n",
      "  mode, _ = stats.mode(_y[neigh_ind, k], axis=1)\n"
     ]
    },
    {
     "name": "stderr",
     "output_type": "stream",
     "text": [
      "C:\\Users\\sarar\\anaconda3\\lib\\site-packages\\sklearn\\neighbors\\_classification.py:228: FutureWarning: Unlike other reduction functions (e.g. `skew`, `kurtosis`), the default behavior of `mode` typically preserves the axis it acts along. In SciPy 1.11.0, this behavior will change: the default value of `keepdims` will become False, the `axis` over which the statistic is taken will be eliminated, and the value None will no longer be accepted. Set `keepdims` to True or False to avoid this warning.\n",
      "  mode, _ = stats.mode(_y[neigh_ind, k], axis=1)\n",
      "C:\\Users\\sarar\\anaconda3\\lib\\site-packages\\sklearn\\neighbors\\_classification.py:228: FutureWarning: Unlike other reduction functions (e.g. `skew`, `kurtosis`), the default behavior of `mode` typically preserves the axis it acts along. In SciPy 1.11.0, this behavior will change: the default value of `keepdims` will become False, the `axis` over which the statistic is taken will be eliminated, and the value None will no longer be accepted. Set `keepdims` to True or False to avoid this warning.\n",
      "  mode, _ = stats.mode(_y[neigh_ind, k], axis=1)\n",
      "C:\\Users\\sarar\\anaconda3\\lib\\site-packages\\sklearn\\neighbors\\_classification.py:228: FutureWarning: Unlike other reduction functions (e.g. `skew`, `kurtosis`), the default behavior of `mode` typically preserves the axis it acts along. In SciPy 1.11.0, this behavior will change: the default value of `keepdims` will become False, the `axis` over which the statistic is taken will be eliminated, and the value None will no longer be accepted. Set `keepdims` to True or False to avoid this warning.\n",
      "  mode, _ = stats.mode(_y[neigh_ind, k], axis=1)\n",
      "C:\\Users\\sarar\\anaconda3\\lib\\site-packages\\sklearn\\neighbors\\_classification.py:228: FutureWarning: Unlike other reduction functions (e.g. `skew`, `kurtosis`), the default behavior of `mode` typically preserves the axis it acts along. In SciPy 1.11.0, this behavior will change: the default value of `keepdims` will become False, the `axis` over which the statistic is taken will be eliminated, and the value None will no longer be accepted. Set `keepdims` to True or False to avoid this warning.\n",
      "  mode, _ = stats.mode(_y[neigh_ind, k], axis=1)\n",
      "C:\\Users\\sarar\\anaconda3\\lib\\site-packages\\sklearn\\neighbors\\_classification.py:228: FutureWarning: Unlike other reduction functions (e.g. `skew`, `kurtosis`), the default behavior of `mode` typically preserves the axis it acts along. In SciPy 1.11.0, this behavior will change: the default value of `keepdims` will become False, the `axis` over which the statistic is taken will be eliminated, and the value None will no longer be accepted. Set `keepdims` to True or False to avoid this warning.\n",
      "  mode, _ = stats.mode(_y[neigh_ind, k], axis=1)\n",
      "C:\\Users\\sarar\\anaconda3\\lib\\site-packages\\sklearn\\neighbors\\_classification.py:228: FutureWarning: Unlike other reduction functions (e.g. `skew`, `kurtosis`), the default behavior of `mode` typically preserves the axis it acts along. In SciPy 1.11.0, this behavior will change: the default value of `keepdims` will become False, the `axis` over which the statistic is taken will be eliminated, and the value None will no longer be accepted. Set `keepdims` to True or False to avoid this warning.\n",
      "  mode, _ = stats.mode(_y[neigh_ind, k], axis=1)\n",
      "C:\\Users\\sarar\\anaconda3\\lib\\site-packages\\sklearn\\neighbors\\_classification.py:228: FutureWarning: Unlike other reduction functions (e.g. `skew`, `kurtosis`), the default behavior of `mode` typically preserves the axis it acts along. In SciPy 1.11.0, this behavior will change: the default value of `keepdims` will become False, the `axis` over which the statistic is taken will be eliminated, and the value None will no longer be accepted. Set `keepdims` to True or False to avoid this warning.\n",
      "  mode, _ = stats.mode(_y[neigh_ind, k], axis=1)\n",
      "C:\\Users\\sarar\\anaconda3\\lib\\site-packages\\sklearn\\neighbors\\_classification.py:228: FutureWarning: Unlike other reduction functions (e.g. `skew`, `kurtosis`), the default behavior of `mode` typically preserves the axis it acts along. In SciPy 1.11.0, this behavior will change: the default value of `keepdims` will become False, the `axis` over which the statistic is taken will be eliminated, and the value None will no longer be accepted. Set `keepdims` to True or False to avoid this warning.\n",
      "  mode, _ = stats.mode(_y[neigh_ind, k], axis=1)\n",
      "C:\\Users\\sarar\\anaconda3\\lib\\site-packages\\sklearn\\neighbors\\_classification.py:228: FutureWarning: Unlike other reduction functions (e.g. `skew`, `kurtosis`), the default behavior of `mode` typically preserves the axis it acts along. In SciPy 1.11.0, this behavior will change: the default value of `keepdims` will become False, the `axis` over which the statistic is taken will be eliminated, and the value None will no longer be accepted. Set `keepdims` to True or False to avoid this warning.\n",
      "  mode, _ = stats.mode(_y[neigh_ind, k], axis=1)\n",
      "C:\\Users\\sarar\\anaconda3\\lib\\site-packages\\sklearn\\neighbors\\_classification.py:228: FutureWarning: Unlike other reduction functions (e.g. `skew`, `kurtosis`), the default behavior of `mode` typically preserves the axis it acts along. In SciPy 1.11.0, this behavior will change: the default value of `keepdims` will become False, the `axis` over which the statistic is taken will be eliminated, and the value None will no longer be accepted. Set `keepdims` to True or False to avoid this warning.\n",
      "  mode, _ = stats.mode(_y[neigh_ind, k], axis=1)\n",
      "C:\\Users\\sarar\\anaconda3\\lib\\site-packages\\sklearn\\neighbors\\_classification.py:228: FutureWarning: Unlike other reduction functions (e.g. `skew`, `kurtosis`), the default behavior of `mode` typically preserves the axis it acts along. In SciPy 1.11.0, this behavior will change: the default value of `keepdims` will become False, the `axis` over which the statistic is taken will be eliminated, and the value None will no longer be accepted. Set `keepdims` to True or False to avoid this warning.\n",
      "  mode, _ = stats.mode(_y[neigh_ind, k], axis=1)\n",
      "C:\\Users\\sarar\\anaconda3\\lib\\site-packages\\sklearn\\neighbors\\_classification.py:228: FutureWarning: Unlike other reduction functions (e.g. `skew`, `kurtosis`), the default behavior of `mode` typically preserves the axis it acts along. In SciPy 1.11.0, this behavior will change: the default value of `keepdims` will become False, the `axis` over which the statistic is taken will be eliminated, and the value None will no longer be accepted. Set `keepdims` to True or False to avoid this warning.\n",
      "  mode, _ = stats.mode(_y[neigh_ind, k], axis=1)\n",
      "C:\\Users\\sarar\\anaconda3\\lib\\site-packages\\sklearn\\neighbors\\_classification.py:228: FutureWarning: Unlike other reduction functions (e.g. `skew`, `kurtosis`), the default behavior of `mode` typically preserves the axis it acts along. In SciPy 1.11.0, this behavior will change: the default value of `keepdims` will become False, the `axis` over which the statistic is taken will be eliminated, and the value None will no longer be accepted. Set `keepdims` to True or False to avoid this warning.\n",
      "  mode, _ = stats.mode(_y[neigh_ind, k], axis=1)\n",
      "C:\\Users\\sarar\\anaconda3\\lib\\site-packages\\sklearn\\neighbors\\_classification.py:228: FutureWarning: Unlike other reduction functions (e.g. `skew`, `kurtosis`), the default behavior of `mode` typically preserves the axis it acts along. In SciPy 1.11.0, this behavior will change: the default value of `keepdims` will become False, the `axis` over which the statistic is taken will be eliminated, and the value None will no longer be accepted. Set `keepdims` to True or False to avoid this warning.\n",
      "  mode, _ = stats.mode(_y[neigh_ind, k], axis=1)\n",
      "C:\\Users\\sarar\\anaconda3\\lib\\site-packages\\sklearn\\neighbors\\_classification.py:228: FutureWarning: Unlike other reduction functions (e.g. `skew`, `kurtosis`), the default behavior of `mode` typically preserves the axis it acts along. In SciPy 1.11.0, this behavior will change: the default value of `keepdims` will become False, the `axis` over which the statistic is taken will be eliminated, and the value None will no longer be accepted. Set `keepdims` to True or False to avoid this warning.\n",
      "  mode, _ = stats.mode(_y[neigh_ind, k], axis=1)\n",
      "C:\\Users\\sarar\\anaconda3\\lib\\site-packages\\sklearn\\neighbors\\_classification.py:228: FutureWarning: Unlike other reduction functions (e.g. `skew`, `kurtosis`), the default behavior of `mode` typically preserves the axis it acts along. In SciPy 1.11.0, this behavior will change: the default value of `keepdims` will become False, the `axis` over which the statistic is taken will be eliminated, and the value None will no longer be accepted. Set `keepdims` to True or False to avoid this warning.\n",
      "  mode, _ = stats.mode(_y[neigh_ind, k], axis=1)\n"
     ]
    },
    {
     "name": "stderr",
     "output_type": "stream",
     "text": [
      "C:\\Users\\sarar\\anaconda3\\lib\\site-packages\\sklearn\\neighbors\\_classification.py:228: FutureWarning: Unlike other reduction functions (e.g. `skew`, `kurtosis`), the default behavior of `mode` typically preserves the axis it acts along. In SciPy 1.11.0, this behavior will change: the default value of `keepdims` will become False, the `axis` over which the statistic is taken will be eliminated, and the value None will no longer be accepted. Set `keepdims` to True or False to avoid this warning.\n",
      "  mode, _ = stats.mode(_y[neigh_ind, k], axis=1)\n",
      "C:\\Users\\sarar\\anaconda3\\lib\\site-packages\\sklearn\\neighbors\\_classification.py:228: FutureWarning: Unlike other reduction functions (e.g. `skew`, `kurtosis`), the default behavior of `mode` typically preserves the axis it acts along. In SciPy 1.11.0, this behavior will change: the default value of `keepdims` will become False, the `axis` over which the statistic is taken will be eliminated, and the value None will no longer be accepted. Set `keepdims` to True or False to avoid this warning.\n",
      "  mode, _ = stats.mode(_y[neigh_ind, k], axis=1)\n",
      "C:\\Users\\sarar\\anaconda3\\lib\\site-packages\\sklearn\\neighbors\\_classification.py:228: FutureWarning: Unlike other reduction functions (e.g. `skew`, `kurtosis`), the default behavior of `mode` typically preserves the axis it acts along. In SciPy 1.11.0, this behavior will change: the default value of `keepdims` will become False, the `axis` over which the statistic is taken will be eliminated, and the value None will no longer be accepted. Set `keepdims` to True or False to avoid this warning.\n",
      "  mode, _ = stats.mode(_y[neigh_ind, k], axis=1)\n",
      "C:\\Users\\sarar\\anaconda3\\lib\\site-packages\\sklearn\\neighbors\\_classification.py:228: FutureWarning: Unlike other reduction functions (e.g. `skew`, `kurtosis`), the default behavior of `mode` typically preserves the axis it acts along. In SciPy 1.11.0, this behavior will change: the default value of `keepdims` will become False, the `axis` over which the statistic is taken will be eliminated, and the value None will no longer be accepted. Set `keepdims` to True or False to avoid this warning.\n",
      "  mode, _ = stats.mode(_y[neigh_ind, k], axis=1)\n",
      "C:\\Users\\sarar\\anaconda3\\lib\\site-packages\\sklearn\\neighbors\\_classification.py:228: FutureWarning: Unlike other reduction functions (e.g. `skew`, `kurtosis`), the default behavior of `mode` typically preserves the axis it acts along. In SciPy 1.11.0, this behavior will change: the default value of `keepdims` will become False, the `axis` over which the statistic is taken will be eliminated, and the value None will no longer be accepted. Set `keepdims` to True or False to avoid this warning.\n",
      "  mode, _ = stats.mode(_y[neigh_ind, k], axis=1)\n",
      "C:\\Users\\sarar\\anaconda3\\lib\\site-packages\\sklearn\\neighbors\\_classification.py:228: FutureWarning: Unlike other reduction functions (e.g. `skew`, `kurtosis`), the default behavior of `mode` typically preserves the axis it acts along. In SciPy 1.11.0, this behavior will change: the default value of `keepdims` will become False, the `axis` over which the statistic is taken will be eliminated, and the value None will no longer be accepted. Set `keepdims` to True or False to avoid this warning.\n",
      "  mode, _ = stats.mode(_y[neigh_ind, k], axis=1)\n",
      "C:\\Users\\sarar\\anaconda3\\lib\\site-packages\\sklearn\\neighbors\\_classification.py:228: FutureWarning: Unlike other reduction functions (e.g. `skew`, `kurtosis`), the default behavior of `mode` typically preserves the axis it acts along. In SciPy 1.11.0, this behavior will change: the default value of `keepdims` will become False, the `axis` over which the statistic is taken will be eliminated, and the value None will no longer be accepted. Set `keepdims` to True or False to avoid this warning.\n",
      "  mode, _ = stats.mode(_y[neigh_ind, k], axis=1)\n",
      "C:\\Users\\sarar\\anaconda3\\lib\\site-packages\\sklearn\\neighbors\\_classification.py:228: FutureWarning: Unlike other reduction functions (e.g. `skew`, `kurtosis`), the default behavior of `mode` typically preserves the axis it acts along. In SciPy 1.11.0, this behavior will change: the default value of `keepdims` will become False, the `axis` over which the statistic is taken will be eliminated, and the value None will no longer be accepted. Set `keepdims` to True or False to avoid this warning.\n",
      "  mode, _ = stats.mode(_y[neigh_ind, k], axis=1)\n",
      "C:\\Users\\sarar\\anaconda3\\lib\\site-packages\\sklearn\\neighbors\\_classification.py:228: FutureWarning: Unlike other reduction functions (e.g. `skew`, `kurtosis`), the default behavior of `mode` typically preserves the axis it acts along. In SciPy 1.11.0, this behavior will change: the default value of `keepdims` will become False, the `axis` over which the statistic is taken will be eliminated, and the value None will no longer be accepted. Set `keepdims` to True or False to avoid this warning.\n",
      "  mode, _ = stats.mode(_y[neigh_ind, k], axis=1)\n",
      "C:\\Users\\sarar\\anaconda3\\lib\\site-packages\\sklearn\\neighbors\\_classification.py:228: FutureWarning: Unlike other reduction functions (e.g. `skew`, `kurtosis`), the default behavior of `mode` typically preserves the axis it acts along. In SciPy 1.11.0, this behavior will change: the default value of `keepdims` will become False, the `axis` over which the statistic is taken will be eliminated, and the value None will no longer be accepted. Set `keepdims` to True or False to avoid this warning.\n",
      "  mode, _ = stats.mode(_y[neigh_ind, k], axis=1)\n",
      "C:\\Users\\sarar\\anaconda3\\lib\\site-packages\\sklearn\\neighbors\\_classification.py:228: FutureWarning: Unlike other reduction functions (e.g. `skew`, `kurtosis`), the default behavior of `mode` typically preserves the axis it acts along. In SciPy 1.11.0, this behavior will change: the default value of `keepdims` will become False, the `axis` over which the statistic is taken will be eliminated, and the value None will no longer be accepted. Set `keepdims` to True or False to avoid this warning.\n",
      "  mode, _ = stats.mode(_y[neigh_ind, k], axis=1)\n",
      "C:\\Users\\sarar\\anaconda3\\lib\\site-packages\\sklearn\\neighbors\\_classification.py:228: FutureWarning: Unlike other reduction functions (e.g. `skew`, `kurtosis`), the default behavior of `mode` typically preserves the axis it acts along. In SciPy 1.11.0, this behavior will change: the default value of `keepdims` will become False, the `axis` over which the statistic is taken will be eliminated, and the value None will no longer be accepted. Set `keepdims` to True or False to avoid this warning.\n",
      "  mode, _ = stats.mode(_y[neigh_ind, k], axis=1)\n",
      "C:\\Users\\sarar\\anaconda3\\lib\\site-packages\\sklearn\\neighbors\\_classification.py:228: FutureWarning: Unlike other reduction functions (e.g. `skew`, `kurtosis`), the default behavior of `mode` typically preserves the axis it acts along. In SciPy 1.11.0, this behavior will change: the default value of `keepdims` will become False, the `axis` over which the statistic is taken will be eliminated, and the value None will no longer be accepted. Set `keepdims` to True or False to avoid this warning.\n",
      "  mode, _ = stats.mode(_y[neigh_ind, k], axis=1)\n",
      "C:\\Users\\sarar\\anaconda3\\lib\\site-packages\\sklearn\\neighbors\\_classification.py:228: FutureWarning: Unlike other reduction functions (e.g. `skew`, `kurtosis`), the default behavior of `mode` typically preserves the axis it acts along. In SciPy 1.11.0, this behavior will change: the default value of `keepdims` will become False, the `axis` over which the statistic is taken will be eliminated, and the value None will no longer be accepted. Set `keepdims` to True or False to avoid this warning.\n",
      "  mode, _ = stats.mode(_y[neigh_ind, k], axis=1)\n",
      "C:\\Users\\sarar\\anaconda3\\lib\\site-packages\\sklearn\\neighbors\\_classification.py:228: FutureWarning: Unlike other reduction functions (e.g. `skew`, `kurtosis`), the default behavior of `mode` typically preserves the axis it acts along. In SciPy 1.11.0, this behavior will change: the default value of `keepdims` will become False, the `axis` over which the statistic is taken will be eliminated, and the value None will no longer be accepted. Set `keepdims` to True or False to avoid this warning.\n",
      "  mode, _ = stats.mode(_y[neigh_ind, k], axis=1)\n",
      "C:\\Users\\sarar\\anaconda3\\lib\\site-packages\\sklearn\\neighbors\\_classification.py:228: FutureWarning: Unlike other reduction functions (e.g. `skew`, `kurtosis`), the default behavior of `mode` typically preserves the axis it acts along. In SciPy 1.11.0, this behavior will change: the default value of `keepdims` will become False, the `axis` over which the statistic is taken will be eliminated, and the value None will no longer be accepted. Set `keepdims` to True or False to avoid this warning.\n",
      "  mode, _ = stats.mode(_y[neigh_ind, k], axis=1)\n"
     ]
    },
    {
     "name": "stderr",
     "output_type": "stream",
     "text": [
      "C:\\Users\\sarar\\anaconda3\\lib\\site-packages\\sklearn\\neighbors\\_classification.py:228: FutureWarning: Unlike other reduction functions (e.g. `skew`, `kurtosis`), the default behavior of `mode` typically preserves the axis it acts along. In SciPy 1.11.0, this behavior will change: the default value of `keepdims` will become False, the `axis` over which the statistic is taken will be eliminated, and the value None will no longer be accepted. Set `keepdims` to True or False to avoid this warning.\n",
      "  mode, _ = stats.mode(_y[neigh_ind, k], axis=1)\n",
      "C:\\Users\\sarar\\anaconda3\\lib\\site-packages\\sklearn\\neighbors\\_classification.py:228: FutureWarning: Unlike other reduction functions (e.g. `skew`, `kurtosis`), the default behavior of `mode` typically preserves the axis it acts along. In SciPy 1.11.0, this behavior will change: the default value of `keepdims` will become False, the `axis` over which the statistic is taken will be eliminated, and the value None will no longer be accepted. Set `keepdims` to True or False to avoid this warning.\n",
      "  mode, _ = stats.mode(_y[neigh_ind, k], axis=1)\n",
      "C:\\Users\\sarar\\anaconda3\\lib\\site-packages\\sklearn\\neighbors\\_classification.py:228: FutureWarning: Unlike other reduction functions (e.g. `skew`, `kurtosis`), the default behavior of `mode` typically preserves the axis it acts along. In SciPy 1.11.0, this behavior will change: the default value of `keepdims` will become False, the `axis` over which the statistic is taken will be eliminated, and the value None will no longer be accepted. Set `keepdims` to True or False to avoid this warning.\n",
      "  mode, _ = stats.mode(_y[neigh_ind, k], axis=1)\n",
      "C:\\Users\\sarar\\anaconda3\\lib\\site-packages\\sklearn\\neighbors\\_classification.py:228: FutureWarning: Unlike other reduction functions (e.g. `skew`, `kurtosis`), the default behavior of `mode` typically preserves the axis it acts along. In SciPy 1.11.0, this behavior will change: the default value of `keepdims` will become False, the `axis` over which the statistic is taken will be eliminated, and the value None will no longer be accepted. Set `keepdims` to True or False to avoid this warning.\n",
      "  mode, _ = stats.mode(_y[neigh_ind, k], axis=1)\n",
      "C:\\Users\\sarar\\anaconda3\\lib\\site-packages\\sklearn\\neighbors\\_classification.py:228: FutureWarning: Unlike other reduction functions (e.g. `skew`, `kurtosis`), the default behavior of `mode` typically preserves the axis it acts along. In SciPy 1.11.0, this behavior will change: the default value of `keepdims` will become False, the `axis` over which the statistic is taken will be eliminated, and the value None will no longer be accepted. Set `keepdims` to True or False to avoid this warning.\n",
      "  mode, _ = stats.mode(_y[neigh_ind, k], axis=1)\n",
      "C:\\Users\\sarar\\anaconda3\\lib\\site-packages\\sklearn\\neighbors\\_classification.py:228: FutureWarning: Unlike other reduction functions (e.g. `skew`, `kurtosis`), the default behavior of `mode` typically preserves the axis it acts along. In SciPy 1.11.0, this behavior will change: the default value of `keepdims` will become False, the `axis` over which the statistic is taken will be eliminated, and the value None will no longer be accepted. Set `keepdims` to True or False to avoid this warning.\n",
      "  mode, _ = stats.mode(_y[neigh_ind, k], axis=1)\n",
      "C:\\Users\\sarar\\anaconda3\\lib\\site-packages\\sklearn\\neighbors\\_classification.py:228: FutureWarning: Unlike other reduction functions (e.g. `skew`, `kurtosis`), the default behavior of `mode` typically preserves the axis it acts along. In SciPy 1.11.0, this behavior will change: the default value of `keepdims` will become False, the `axis` over which the statistic is taken will be eliminated, and the value None will no longer be accepted. Set `keepdims` to True or False to avoid this warning.\n",
      "  mode, _ = stats.mode(_y[neigh_ind, k], axis=1)\n",
      "C:\\Users\\sarar\\anaconda3\\lib\\site-packages\\sklearn\\neighbors\\_classification.py:228: FutureWarning: Unlike other reduction functions (e.g. `skew`, `kurtosis`), the default behavior of `mode` typically preserves the axis it acts along. In SciPy 1.11.0, this behavior will change: the default value of `keepdims` will become False, the `axis` over which the statistic is taken will be eliminated, and the value None will no longer be accepted. Set `keepdims` to True or False to avoid this warning.\n",
      "  mode, _ = stats.mode(_y[neigh_ind, k], axis=1)\n",
      "C:\\Users\\sarar\\anaconda3\\lib\\site-packages\\sklearn\\neighbors\\_classification.py:228: FutureWarning: Unlike other reduction functions (e.g. `skew`, `kurtosis`), the default behavior of `mode` typically preserves the axis it acts along. In SciPy 1.11.0, this behavior will change: the default value of `keepdims` will become False, the `axis` over which the statistic is taken will be eliminated, and the value None will no longer be accepted. Set `keepdims` to True or False to avoid this warning.\n",
      "  mode, _ = stats.mode(_y[neigh_ind, k], axis=1)\n",
      "C:\\Users\\sarar\\anaconda3\\lib\\site-packages\\sklearn\\neighbors\\_classification.py:228: FutureWarning: Unlike other reduction functions (e.g. `skew`, `kurtosis`), the default behavior of `mode` typically preserves the axis it acts along. In SciPy 1.11.0, this behavior will change: the default value of `keepdims` will become False, the `axis` over which the statistic is taken will be eliminated, and the value None will no longer be accepted. Set `keepdims` to True or False to avoid this warning.\n",
      "  mode, _ = stats.mode(_y[neigh_ind, k], axis=1)\n",
      "C:\\Users\\sarar\\anaconda3\\lib\\site-packages\\sklearn\\neighbors\\_classification.py:228: FutureWarning: Unlike other reduction functions (e.g. `skew`, `kurtosis`), the default behavior of `mode` typically preserves the axis it acts along. In SciPy 1.11.0, this behavior will change: the default value of `keepdims` will become False, the `axis` over which the statistic is taken will be eliminated, and the value None will no longer be accepted. Set `keepdims` to True or False to avoid this warning.\n",
      "  mode, _ = stats.mode(_y[neigh_ind, k], axis=1)\n",
      "C:\\Users\\sarar\\anaconda3\\lib\\site-packages\\sklearn\\neighbors\\_classification.py:228: FutureWarning: Unlike other reduction functions (e.g. `skew`, `kurtosis`), the default behavior of `mode` typically preserves the axis it acts along. In SciPy 1.11.0, this behavior will change: the default value of `keepdims` will become False, the `axis` over which the statistic is taken will be eliminated, and the value None will no longer be accepted. Set `keepdims` to True or False to avoid this warning.\n",
      "  mode, _ = stats.mode(_y[neigh_ind, k], axis=1)\n",
      "C:\\Users\\sarar\\anaconda3\\lib\\site-packages\\sklearn\\neighbors\\_classification.py:228: FutureWarning: Unlike other reduction functions (e.g. `skew`, `kurtosis`), the default behavior of `mode` typically preserves the axis it acts along. In SciPy 1.11.0, this behavior will change: the default value of `keepdims` will become False, the `axis` over which the statistic is taken will be eliminated, and the value None will no longer be accepted. Set `keepdims` to True or False to avoid this warning.\n",
      "  mode, _ = stats.mode(_y[neigh_ind, k], axis=1)\n",
      "C:\\Users\\sarar\\anaconda3\\lib\\site-packages\\sklearn\\neighbors\\_classification.py:228: FutureWarning: Unlike other reduction functions (e.g. `skew`, `kurtosis`), the default behavior of `mode` typically preserves the axis it acts along. In SciPy 1.11.0, this behavior will change: the default value of `keepdims` will become False, the `axis` over which the statistic is taken will be eliminated, and the value None will no longer be accepted. Set `keepdims` to True or False to avoid this warning.\n",
      "  mode, _ = stats.mode(_y[neigh_ind, k], axis=1)\n",
      "C:\\Users\\sarar\\anaconda3\\lib\\site-packages\\sklearn\\neighbors\\_classification.py:228: FutureWarning: Unlike other reduction functions (e.g. `skew`, `kurtosis`), the default behavior of `mode` typically preserves the axis it acts along. In SciPy 1.11.0, this behavior will change: the default value of `keepdims` will become False, the `axis` over which the statistic is taken will be eliminated, and the value None will no longer be accepted. Set `keepdims` to True or False to avoid this warning.\n",
      "  mode, _ = stats.mode(_y[neigh_ind, k], axis=1)\n",
      "C:\\Users\\sarar\\anaconda3\\lib\\site-packages\\sklearn\\neighbors\\_classification.py:228: FutureWarning: Unlike other reduction functions (e.g. `skew`, `kurtosis`), the default behavior of `mode` typically preserves the axis it acts along. In SciPy 1.11.0, this behavior will change: the default value of `keepdims` will become False, the `axis` over which the statistic is taken will be eliminated, and the value None will no longer be accepted. Set `keepdims` to True or False to avoid this warning.\n",
      "  mode, _ = stats.mode(_y[neigh_ind, k], axis=1)\n"
     ]
    },
    {
     "name": "stderr",
     "output_type": "stream",
     "text": [
      "C:\\Users\\sarar\\anaconda3\\lib\\site-packages\\sklearn\\neighbors\\_classification.py:228: FutureWarning: Unlike other reduction functions (e.g. `skew`, `kurtosis`), the default behavior of `mode` typically preserves the axis it acts along. In SciPy 1.11.0, this behavior will change: the default value of `keepdims` will become False, the `axis` over which the statistic is taken will be eliminated, and the value None will no longer be accepted. Set `keepdims` to True or False to avoid this warning.\n",
      "  mode, _ = stats.mode(_y[neigh_ind, k], axis=1)\n",
      "C:\\Users\\sarar\\anaconda3\\lib\\site-packages\\sklearn\\neighbors\\_classification.py:228: FutureWarning: Unlike other reduction functions (e.g. `skew`, `kurtosis`), the default behavior of `mode` typically preserves the axis it acts along. In SciPy 1.11.0, this behavior will change: the default value of `keepdims` will become False, the `axis` over which the statistic is taken will be eliminated, and the value None will no longer be accepted. Set `keepdims` to True or False to avoid this warning.\n",
      "  mode, _ = stats.mode(_y[neigh_ind, k], axis=1)\n",
      "C:\\Users\\sarar\\anaconda3\\lib\\site-packages\\sklearn\\neighbors\\_classification.py:228: FutureWarning: Unlike other reduction functions (e.g. `skew`, `kurtosis`), the default behavior of `mode` typically preserves the axis it acts along. In SciPy 1.11.0, this behavior will change: the default value of `keepdims` will become False, the `axis` over which the statistic is taken will be eliminated, and the value None will no longer be accepted. Set `keepdims` to True or False to avoid this warning.\n",
      "  mode, _ = stats.mode(_y[neigh_ind, k], axis=1)\n",
      "C:\\Users\\sarar\\anaconda3\\lib\\site-packages\\sklearn\\neighbors\\_classification.py:228: FutureWarning: Unlike other reduction functions (e.g. `skew`, `kurtosis`), the default behavior of `mode` typically preserves the axis it acts along. In SciPy 1.11.0, this behavior will change: the default value of `keepdims` will become False, the `axis` over which the statistic is taken will be eliminated, and the value None will no longer be accepted. Set `keepdims` to True or False to avoid this warning.\n",
      "  mode, _ = stats.mode(_y[neigh_ind, k], axis=1)\n",
      "C:\\Users\\sarar\\anaconda3\\lib\\site-packages\\sklearn\\neighbors\\_classification.py:228: FutureWarning: Unlike other reduction functions (e.g. `skew`, `kurtosis`), the default behavior of `mode` typically preserves the axis it acts along. In SciPy 1.11.0, this behavior will change: the default value of `keepdims` will become False, the `axis` over which the statistic is taken will be eliminated, and the value None will no longer be accepted. Set `keepdims` to True or False to avoid this warning.\n",
      "  mode, _ = stats.mode(_y[neigh_ind, k], axis=1)\n",
      "C:\\Users\\sarar\\anaconda3\\lib\\site-packages\\sklearn\\neighbors\\_classification.py:228: FutureWarning: Unlike other reduction functions (e.g. `skew`, `kurtosis`), the default behavior of `mode` typically preserves the axis it acts along. In SciPy 1.11.0, this behavior will change: the default value of `keepdims` will become False, the `axis` over which the statistic is taken will be eliminated, and the value None will no longer be accepted. Set `keepdims` to True or False to avoid this warning.\n",
      "  mode, _ = stats.mode(_y[neigh_ind, k], axis=1)\n",
      "C:\\Users\\sarar\\anaconda3\\lib\\site-packages\\sklearn\\neighbors\\_classification.py:228: FutureWarning: Unlike other reduction functions (e.g. `skew`, `kurtosis`), the default behavior of `mode` typically preserves the axis it acts along. In SciPy 1.11.0, this behavior will change: the default value of `keepdims` will become False, the `axis` over which the statistic is taken will be eliminated, and the value None will no longer be accepted. Set `keepdims` to True or False to avoid this warning.\n",
      "  mode, _ = stats.mode(_y[neigh_ind, k], axis=1)\n",
      "C:\\Users\\sarar\\anaconda3\\lib\\site-packages\\sklearn\\neighbors\\_classification.py:228: FutureWarning: Unlike other reduction functions (e.g. `skew`, `kurtosis`), the default behavior of `mode` typically preserves the axis it acts along. In SciPy 1.11.0, this behavior will change: the default value of `keepdims` will become False, the `axis` over which the statistic is taken will be eliminated, and the value None will no longer be accepted. Set `keepdims` to True or False to avoid this warning.\n",
      "  mode, _ = stats.mode(_y[neigh_ind, k], axis=1)\n",
      "C:\\Users\\sarar\\anaconda3\\lib\\site-packages\\sklearn\\neighbors\\_classification.py:228: FutureWarning: Unlike other reduction functions (e.g. `skew`, `kurtosis`), the default behavior of `mode` typically preserves the axis it acts along. In SciPy 1.11.0, this behavior will change: the default value of `keepdims` will become False, the `axis` over which the statistic is taken will be eliminated, and the value None will no longer be accepted. Set `keepdims` to True or False to avoid this warning.\n",
      "  mode, _ = stats.mode(_y[neigh_ind, k], axis=1)\n",
      "C:\\Users\\sarar\\anaconda3\\lib\\site-packages\\sklearn\\neighbors\\_classification.py:228: FutureWarning: Unlike other reduction functions (e.g. `skew`, `kurtosis`), the default behavior of `mode` typically preserves the axis it acts along. In SciPy 1.11.0, this behavior will change: the default value of `keepdims` will become False, the `axis` over which the statistic is taken will be eliminated, and the value None will no longer be accepted. Set `keepdims` to True or False to avoid this warning.\n",
      "  mode, _ = stats.mode(_y[neigh_ind, k], axis=1)\n",
      "C:\\Users\\sarar\\anaconda3\\lib\\site-packages\\sklearn\\neighbors\\_classification.py:228: FutureWarning: Unlike other reduction functions (e.g. `skew`, `kurtosis`), the default behavior of `mode` typically preserves the axis it acts along. In SciPy 1.11.0, this behavior will change: the default value of `keepdims` will become False, the `axis` over which the statistic is taken will be eliminated, and the value None will no longer be accepted. Set `keepdims` to True or False to avoid this warning.\n",
      "  mode, _ = stats.mode(_y[neigh_ind, k], axis=1)\n",
      "C:\\Users\\sarar\\anaconda3\\lib\\site-packages\\sklearn\\neighbors\\_classification.py:228: FutureWarning: Unlike other reduction functions (e.g. `skew`, `kurtosis`), the default behavior of `mode` typically preserves the axis it acts along. In SciPy 1.11.0, this behavior will change: the default value of `keepdims` will become False, the `axis` over which the statistic is taken will be eliminated, and the value None will no longer be accepted. Set `keepdims` to True or False to avoid this warning.\n",
      "  mode, _ = stats.mode(_y[neigh_ind, k], axis=1)\n",
      "C:\\Users\\sarar\\anaconda3\\lib\\site-packages\\sklearn\\neighbors\\_classification.py:228: FutureWarning: Unlike other reduction functions (e.g. `skew`, `kurtosis`), the default behavior of `mode` typically preserves the axis it acts along. In SciPy 1.11.0, this behavior will change: the default value of `keepdims` will become False, the `axis` over which the statistic is taken will be eliminated, and the value None will no longer be accepted. Set `keepdims` to True or False to avoid this warning.\n",
      "  mode, _ = stats.mode(_y[neigh_ind, k], axis=1)\n",
      "C:\\Users\\sarar\\anaconda3\\lib\\site-packages\\sklearn\\neighbors\\_classification.py:228: FutureWarning: Unlike other reduction functions (e.g. `skew`, `kurtosis`), the default behavior of `mode` typically preserves the axis it acts along. In SciPy 1.11.0, this behavior will change: the default value of `keepdims` will become False, the `axis` over which the statistic is taken will be eliminated, and the value None will no longer be accepted. Set `keepdims` to True or False to avoid this warning.\n",
      "  mode, _ = stats.mode(_y[neigh_ind, k], axis=1)\n",
      "C:\\Users\\sarar\\anaconda3\\lib\\site-packages\\sklearn\\neighbors\\_classification.py:228: FutureWarning: Unlike other reduction functions (e.g. `skew`, `kurtosis`), the default behavior of `mode` typically preserves the axis it acts along. In SciPy 1.11.0, this behavior will change: the default value of `keepdims` will become False, the `axis` over which the statistic is taken will be eliminated, and the value None will no longer be accepted. Set `keepdims` to True or False to avoid this warning.\n",
      "  mode, _ = stats.mode(_y[neigh_ind, k], axis=1)\n",
      "C:\\Users\\sarar\\anaconda3\\lib\\site-packages\\sklearn\\neighbors\\_classification.py:228: FutureWarning: Unlike other reduction functions (e.g. `skew`, `kurtosis`), the default behavior of `mode` typically preserves the axis it acts along. In SciPy 1.11.0, this behavior will change: the default value of `keepdims` will become False, the `axis` over which the statistic is taken will be eliminated, and the value None will no longer be accepted. Set `keepdims` to True or False to avoid this warning.\n",
      "  mode, _ = stats.mode(_y[neigh_ind, k], axis=1)\n"
     ]
    },
    {
     "name": "stderr",
     "output_type": "stream",
     "text": [
      "C:\\Users\\sarar\\anaconda3\\lib\\site-packages\\sklearn\\neighbors\\_classification.py:228: FutureWarning: Unlike other reduction functions (e.g. `skew`, `kurtosis`), the default behavior of `mode` typically preserves the axis it acts along. In SciPy 1.11.0, this behavior will change: the default value of `keepdims` will become False, the `axis` over which the statistic is taken will be eliminated, and the value None will no longer be accepted. Set `keepdims` to True or False to avoid this warning.\n",
      "  mode, _ = stats.mode(_y[neigh_ind, k], axis=1)\n",
      "C:\\Users\\sarar\\anaconda3\\lib\\site-packages\\sklearn\\neighbors\\_classification.py:228: FutureWarning: Unlike other reduction functions (e.g. `skew`, `kurtosis`), the default behavior of `mode` typically preserves the axis it acts along. In SciPy 1.11.0, this behavior will change: the default value of `keepdims` will become False, the `axis` over which the statistic is taken will be eliminated, and the value None will no longer be accepted. Set `keepdims` to True or False to avoid this warning.\n",
      "  mode, _ = stats.mode(_y[neigh_ind, k], axis=1)\n",
      "C:\\Users\\sarar\\anaconda3\\lib\\site-packages\\sklearn\\neighbors\\_classification.py:228: FutureWarning: Unlike other reduction functions (e.g. `skew`, `kurtosis`), the default behavior of `mode` typically preserves the axis it acts along. In SciPy 1.11.0, this behavior will change: the default value of `keepdims` will become False, the `axis` over which the statistic is taken will be eliminated, and the value None will no longer be accepted. Set `keepdims` to True or False to avoid this warning.\n",
      "  mode, _ = stats.mode(_y[neigh_ind, k], axis=1)\n",
      "C:\\Users\\sarar\\anaconda3\\lib\\site-packages\\sklearn\\neighbors\\_classification.py:228: FutureWarning: Unlike other reduction functions (e.g. `skew`, `kurtosis`), the default behavior of `mode` typically preserves the axis it acts along. In SciPy 1.11.0, this behavior will change: the default value of `keepdims` will become False, the `axis` over which the statistic is taken will be eliminated, and the value None will no longer be accepted. Set `keepdims` to True or False to avoid this warning.\n",
      "  mode, _ = stats.mode(_y[neigh_ind, k], axis=1)\n",
      "C:\\Users\\sarar\\anaconda3\\lib\\site-packages\\sklearn\\neighbors\\_classification.py:228: FutureWarning: Unlike other reduction functions (e.g. `skew`, `kurtosis`), the default behavior of `mode` typically preserves the axis it acts along. In SciPy 1.11.0, this behavior will change: the default value of `keepdims` will become False, the `axis` over which the statistic is taken will be eliminated, and the value None will no longer be accepted. Set `keepdims` to True or False to avoid this warning.\n",
      "  mode, _ = stats.mode(_y[neigh_ind, k], axis=1)\n",
      "C:\\Users\\sarar\\anaconda3\\lib\\site-packages\\sklearn\\neighbors\\_classification.py:228: FutureWarning: Unlike other reduction functions (e.g. `skew`, `kurtosis`), the default behavior of `mode` typically preserves the axis it acts along. In SciPy 1.11.0, this behavior will change: the default value of `keepdims` will become False, the `axis` over which the statistic is taken will be eliminated, and the value None will no longer be accepted. Set `keepdims` to True or False to avoid this warning.\n",
      "  mode, _ = stats.mode(_y[neigh_ind, k], axis=1)\n",
      "C:\\Users\\sarar\\anaconda3\\lib\\site-packages\\sklearn\\neighbors\\_classification.py:228: FutureWarning: Unlike other reduction functions (e.g. `skew`, `kurtosis`), the default behavior of `mode` typically preserves the axis it acts along. In SciPy 1.11.0, this behavior will change: the default value of `keepdims` will become False, the `axis` over which the statistic is taken will be eliminated, and the value None will no longer be accepted. Set `keepdims` to True or False to avoid this warning.\n",
      "  mode, _ = stats.mode(_y[neigh_ind, k], axis=1)\n",
      "C:\\Users\\sarar\\anaconda3\\lib\\site-packages\\sklearn\\neighbors\\_classification.py:228: FutureWarning: Unlike other reduction functions (e.g. `skew`, `kurtosis`), the default behavior of `mode` typically preserves the axis it acts along. In SciPy 1.11.0, this behavior will change: the default value of `keepdims` will become False, the `axis` over which the statistic is taken will be eliminated, and the value None will no longer be accepted. Set `keepdims` to True or False to avoid this warning.\n",
      "  mode, _ = stats.mode(_y[neigh_ind, k], axis=1)\n",
      "C:\\Users\\sarar\\anaconda3\\lib\\site-packages\\sklearn\\neighbors\\_classification.py:228: FutureWarning: Unlike other reduction functions (e.g. `skew`, `kurtosis`), the default behavior of `mode` typically preserves the axis it acts along. In SciPy 1.11.0, this behavior will change: the default value of `keepdims` will become False, the `axis` over which the statistic is taken will be eliminated, and the value None will no longer be accepted. Set `keepdims` to True or False to avoid this warning.\n",
      "  mode, _ = stats.mode(_y[neigh_ind, k], axis=1)\n",
      "C:\\Users\\sarar\\anaconda3\\lib\\site-packages\\sklearn\\neighbors\\_classification.py:228: FutureWarning: Unlike other reduction functions (e.g. `skew`, `kurtosis`), the default behavior of `mode` typically preserves the axis it acts along. In SciPy 1.11.0, this behavior will change: the default value of `keepdims` will become False, the `axis` over which the statistic is taken will be eliminated, and the value None will no longer be accepted. Set `keepdims` to True or False to avoid this warning.\n",
      "  mode, _ = stats.mode(_y[neigh_ind, k], axis=1)\n",
      "C:\\Users\\sarar\\anaconda3\\lib\\site-packages\\sklearn\\neighbors\\_classification.py:228: FutureWarning: Unlike other reduction functions (e.g. `skew`, `kurtosis`), the default behavior of `mode` typically preserves the axis it acts along. In SciPy 1.11.0, this behavior will change: the default value of `keepdims` will become False, the `axis` over which the statistic is taken will be eliminated, and the value None will no longer be accepted. Set `keepdims` to True or False to avoid this warning.\n",
      "  mode, _ = stats.mode(_y[neigh_ind, k], axis=1)\n"
     ]
    },
    {
     "data": {
      "text/plain": [
       "GridSearchCV(cv=10, estimator=KNeighborsClassifier(),\n",
       "             param_grid={'n_neighbors': range(1, 15)},\n",
       "             scoring=make_scorer(accuracy))"
      ]
     },
     "execution_count": 112,
     "metadata": {},
     "output_type": "execute_result"
    },
    {
     "data": {
      "text/plain": [
       "{'n_neighbors': 6}"
      ]
     },
     "execution_count": 112,
     "metadata": {},
     "output_type": "execute_result"
    }
   ],
   "source": [
    "from sklearn.model_selection import GridSearchCV\n",
    "\n",
    "model = KNeighborsClassifier()\n",
    "params = {'n_neighbors': range(1, 15)}\n",
    "cv = GridSearchCV(model, params, refit=True, cv=10, \n",
    "                  scoring=make_scorer(accuracy))\n",
    "cv.fit(X_train_full, y_train)\n",
    "cv.best_params_"
   ]
  }
 ],
 "metadata": {
  "kernelspec": {
   "display_name": "Python 3 (ipykernel)",
   "language": "python",
   "name": "python3"
  },
  "language_info": {
   "codemirror_mode": {
    "name": "ipython",
    "version": 3
   },
   "file_extension": ".py",
   "mimetype": "text/x-python",
   "name": "python",
   "nbconvert_exporter": "python",
   "pygments_lexer": "ipython3",
   "version": "3.9.13"
  }
 },
 "nbformat": 4,
 "nbformat_minor": 5
}
