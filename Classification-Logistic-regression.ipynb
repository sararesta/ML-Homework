{
 "cells": [
  {
   "cell_type": "markdown",
   "id": "547a6093",
   "metadata": {},
   "source": [
    "# Classification"
   ]
  },
  {
   "cell_type": "code",
   "execution_count": 37,
   "id": "82fa7b16",
   "metadata": {},
   "outputs": [],
   "source": [
    "# Run this code to make Jupyter print every\n",
    "# printable statement and not just the last one\n",
    "from IPython.core.interactiveshell import InteractiveShell\n",
    "InteractiveShell.ast_node_interactivity = \"all\"\n",
    "\n",
    "# To visualize the data\n",
    "import matplotlib.pyplot as plt\n",
    "\n",
    "# Generic libraries\n",
    "import seaborn as sns\n",
    "import pandas as pd\n",
    "import numpy as np\n",
    "\n",
    "# Regression models\n",
    "import sklearn\n",
    "import scipy\n",
    "from scipy.stats import *\n",
    "import sklearn\n",
    "from sklearn.model_selection import train_test_split, GridSearchCV #split the data into training and test\n",
    "from sklearn.linear_model import LinearRegression #linear regression\n",
    "from sklearn.preprocessing import PolynomialFeatures #for polynomial regression\n",
    "from sklearn.metrics import r2_score, mean_squared_error\n",
    "\n",
    "# 5-folds crossvalidation\n",
    "from sklearn.model_selection import cross_val_score\n",
    "from sklearn.metrics import make_scorer\n",
    "from sklearn.pipeline import Pipeline"
   ]
  },
  {
   "cell_type": "code",
   "execution_count": 80,
   "id": "37d14762",
   "metadata": {},
   "outputs": [
    {
     "data": {
      "text/plain": [
       "0    7807\n",
       "1    1441\n",
       "Name: Revenue, dtype: int64"
      ]
     },
     "execution_count": 80,
     "metadata": {},
     "output_type": "execute_result"
    },
    {
     "data": {
      "text/plain": [
       "0    2615\n",
       "1     467\n",
       "Name: Revenue, dtype: int64"
      ]
     },
     "execution_count": 80,
     "metadata": {},
     "output_type": "execute_result"
    }
   ],
   "source": [
    "training_set = pd.read_csv(\"training_set_complete.csv\")\n",
    "test_set = pd.read_csv(\"test_set_complete.csv\")\n",
    "training_set = training_set.drop(columns=['Unnamed: 0'])\n",
    "test_set = test_set.drop(columns=['Unnamed: 0'])\n",
    "training_set['Revenue'] = training_set['Revenue'].astype(int)\n",
    "test_set['Revenue'] = test_set['Revenue'].astype(int)\n",
    "training_set['Revenue'].value_counts()\n",
    "test_set['Revenue'].value_counts()\n"
   ]
  },
  {
   "cell_type": "markdown",
   "id": "12901cd6",
   "metadata": {},
   "source": [
    "## Logistic regression"
   ]
  },
  {
   "cell_type": "code",
   "execution_count": 81,
   "id": "0a8acdf4",
   "metadata": {},
   "outputs": [],
   "source": [
    "X_train_full = training_set.drop(columns=['Revenue'])\n",
    "X_test_full = test_set.drop(columns=['Revenue'])\n",
    "y_train = training_set['Revenue']\n",
    "y_test = test_set['Revenue']"
   ]
  },
  {
   "cell_type": "code",
   "execution_count": 82,
   "id": "f0fd591a",
   "metadata": {},
   "outputs": [],
   "source": [
    "# FACCIAMO QUESTO STEP PER EVITARE PROBLEMI DI CONVERGENZA NEL MODELLO\n",
    "from sklearn.preprocessing import StandardScaler\n",
    "\n",
    "# Assuming you have your feature data X\n",
    "scaler = StandardScaler()\n",
    "X_train_scaled = pd.DataFrame(scaler.fit_transform(X_train_full))\n",
    "X_test_scaled = pd.DataFrame(scaler.fit_transform(X_test_full))\n",
    "X_train_scaled.columns = X_train_full.columns\n",
    "X_test_scaled.columns = X_test_full.columns"
   ]
  },
  {
   "cell_type": "code",
   "execution_count": 87,
   "id": "25eca228",
   "metadata": {},
   "outputs": [
    {
     "data": {
      "text/plain": [
       "LogisticRegression(penalty='l1', solver='liblinear')"
      ]
     },
     "execution_count": 87,
     "metadata": {},
     "output_type": "execute_result"
    },
    {
     "name": "stdout",
     "output_type": "stream",
     "text": [
      "Train accuracy: 0.8832179930795848\n",
      "Test accuracy: 0.8893575600259571\n"
     ]
    }
   ],
   "source": [
    "from sklearn.linear_model import LogisticRegression            # 1- model selection\n",
    "model = LogisticRegression(solver='liblinear', penalty='l1',max_iter=100)      # 2- hyperparams\n",
    "model.fit(X_train_scaled, y_train)                               # 3- model fitting\n",
    "y_predict = model.predict(X_test_scaled)                        # 4- model testing\n",
    "\n",
    "def accuracy(y_pred, y_true):\n",
    "    return (y_pred == y_true).mean()\n",
    "\n",
    "print(\"Train accuracy:\", accuracy(y_train, model.predict(X_train_scaled)))\n",
    "print(\"Test accuracy:\", accuracy(y_test, model.predict(X_test_scaled)))"
   ]
  },
  {
   "cell_type": "code",
   "execution_count": 55,
   "id": "f488230e",
   "metadata": {},
   "outputs": [],
   "source": [
    "from sklearn.dummy import DummyRegressor\n",
    "from sklearn.model_selection import cross_val_score\n",
    "from sklearn.metrics import make_scorer\n",
    "\n",
    "def get_evaluator(scorer):\n",
    "    def evaluator(model, X, y, trained=False):\n",
    "        if not trained:\n",
    "            model = model.fit(X, y)\n",
    "        score = scorer(model, X, y)\n",
    "        return model, score\n",
    "    return evaluator   \n",
    "\n",
    "def get_cv_evaluator(scorer, cv=3):\n",
    "    def evaluator(model, X, y, trained=False):            \n",
    "        scores = cross_val_score(model, X, y, scoring=scorer, cv=cv)\n",
    "        if not trained:\n",
    "            model = model.fit(X, y)\n",
    "        return model, np.mean(scores)\n",
    "    \n",
    "    return evaluator\n",
    "\n",
    "def get_val_evaluator(scorer, val_size=0.1):\n",
    "    def evaluator(model, X, y, trained=False):\n",
    "        X_train_small, X_val, y_train_small, y_val = train_test_split(X, y, \n",
    "                                                                      test_size=val_size,\n",
    "                                                                      random_state=0)\n",
    "        \n",
    "        if not trained:\n",
    "            model = model.fit(X_train_small, y_train_small)\n",
    "        score = scorer(model, X_val, y_val) \n",
    "        \n",
    "        return model, score\n",
    "    \n",
    "    return evaluator\n",
    "\n",
    "def forward_selection(Xtrain_pd, ytrain, Xtest_pd, ytest,\n",
    "                      candidates_evaluator, candidates_argbest, # Metric to be used at 2.b\n",
    "                      subsets_evaluator, subsets_argbest,       # Metric to be used at 3\n",
    "                      test_evaluator=None, test_argbest=None,\n",
    "                      candidates_scorer_name=None,  # Name of 2. figure\n",
    "                      subsets_scorer_name=None,     # Name of 3. figure\n",
    "                      verbose=True, weight_step3=0):   \n",
    "    test_evaluator = subsets_evaluator if not test_evaluator else test_evaluator\n",
    "    test_argbest = subsets_argbest if not test_argbest else test_argbest\n",
    "    \n",
    "    # Global variable init\n",
    "    # ====================\n",
    "    num_features = Xtrain_pd.shape[-1]\n",
    "    best_candidate_metric = []\n",
    "    # subsets_* are lists containing one value for each Mk model (the best of the Mk candidates)\n",
    "    subsets_test = []\n",
    "    subsets_metric = []        # The best metric of each subset of dimension 'dim'\n",
    "    subsets_best_features = [] # The best features combination in each subset of dimension 'dim'\n",
    "    # A figure to keep track of candidates scores in each Mk subset\n",
    "    plt.figure()\n",
    "    candidate_fig = plt.subplot(111) # A global matplotlib figure\n",
    "    num_evaluations = 0        # A conter to keep track of the total number of trials\n",
    "    \n",
    "    selected_features = []\n",
    "    all_features = Xtrain_pd.columns\n",
    "    \n",
    "    \n",
    "    # 1. Train M0\n",
    "    # ===========\n",
    "    model = DummyRegressor()\n",
    "    # Compute (2.b) metrics\n",
    "    model, score = candidates_evaluator(model, Xtrain_pd[[]], ytrain)\n",
    "    best_candidate_metric.append(score)\n",
    "    subsets_best_features.append([])\n",
    "    _ = candidate_fig.scatter([0], [score], color=\"b\")\n",
    "    # Compute metric for step 3.\n",
    "    _, score = subsets_evaluator(model, Xtrain_pd[[]], ytrain, trained=True)\n",
    "    subsets_metric.append(score)\n",
    "    _, score = test_evaluator(model, Xtrain_pd[[]], ytrain, trained=True)\n",
    "    subsets_test.append(score)\n",
    "    \n",
    "    # 2. Evaluate all Mk candidates with\n",
    "    #    k=0...P features\n",
    "    # =========================================\n",
    "    for dim in range(num_features):\n",
    "        candidate_metrics = [] # Keep track of candidates metrics. Will be used to select the best\n",
    "        candidate_models = []  # Keep track of candidates trained models\n",
    "        \n",
    "        # 2.a Fixed the number of features 'dim', look at\n",
    "        #     all the possible candidate models with that\n",
    "        #     cardinality\n",
    "        # ===============================================\n",
    "        remaining_features = all_features.difference(selected_features)\n",
    "        \n",
    "        for new_column in remaining_features:\n",
    "            Xtrain_sub = Xtrain_pd[selected_features+[new_column]].to_numpy()\n",
    "            # //==========================================\\\\\n",
    "            # || ***** Difference from previous lab ***** ||\n",
    "            # \\\\==========================================//\n",
    "            model = LogisticRegression(solver=\"newton-cg\", penalty='none')\n",
    "            model, score = candidates_evaluator(model, Xtrain_sub, ytrain)\n",
    "            candidate_models.append(model)\n",
    "            candidate_metrics.append(score)\n",
    "            num_evaluations += 1\n",
    "            \n",
    "        _ = candidate_fig.scatter([Xtrain_sub.shape[-1]]*len(candidate_metrics), candidate_metrics,\n",
    "                                  color=\"b\")\n",
    "            \n",
    "        # 2.b Select the best candidate among those using\n",
    "        #     the same number of features (2.a)\n",
    "        # ===============================================\n",
    "        idx_best_candidate = candidates_argbest(candidate_metrics)\n",
    "        # Update selected feature\n",
    "        selected_features.append(remaining_features[idx_best_candidate])\n",
    "        # Save best candidate features\n",
    "        best_candidate_metric.append(candidate_metrics[idx_best_candidate])\n",
    "        best_features = selected_features.copy()\n",
    "        subsets_best_features.append(best_features)\n",
    "        \n",
    "        \n",
    "        # Compute metric for step 3.\n",
    "        best_subset_model = candidate_models[idx_best_candidate]\n",
    "        best_subset_Xtrain = Xtrain_pd[best_features].to_numpy()\n",
    "        best_subset_Xtest = Xtest_pd[best_features].to_numpy()\n",
    "        _, score = test_evaluator(best_subset_model, best_subset_Xtest, ytest, trained=True)\n",
    "        subsets_test.append(score)\n",
    "        _, score = subsets_evaluator(best_subset_model, best_subset_Xtrain, ytrain, trained=True)\n",
    "        subsets_metric.append(score)\n",
    "        num_evaluations += weight_step3 \n",
    "        \n",
    "        if verbose:\n",
    "            print(\"............\")\n",
    "            print(\"Best model (M{}) with {} features: {}\".format(dim+1, dim+1, best_features))\n",
    "            print(\"M{} subset score (3.): {}\".format(dim+1, score))\n",
    "        \n",
    "    # 3. Among all best candidates with increasing number\n",
    "    #    of features, select the best one\n",
    "    # ===================================================\n",
    "    best_subset_idx = subsets_argbest(subsets_metric)\n",
    "    best_features = subsets_best_features[best_subset_idx]\n",
    "    \n",
    "    if verbose:\n",
    "        print(\"\\n Best configuration has {} features\".format(best_subset_idx))\n",
    "        print(\"Features: {}\".format(subsets_best_features[best_subset_idx]))\n",
    "        print(\"Total number of trained models:\", num_evaluations)\n",
    "    \n",
    "    # Complete the subsets_fig figure by plotting\n",
    "    # a line connecting all best candidate score\n",
    "    best_candidate_score_idx = candidates_argbest(best_candidate_metric)\n",
    "    _ = candidate_fig.plot(range(len(best_candidate_metric)), best_candidate_metric)\n",
    "    _ = candidate_fig.scatter(best_candidate_score_idx, best_candidate_metric[best_candidate_score_idx],\n",
    "                              marker='X', label=\"Best\", color=\"r\")\n",
    "    candidate_fig.set_title(candidates_scorer_name)\n",
    "    candidate_fig.legend()\n",
    "    \n",
    "    # Plot a figure to show how te 3. metric evolves\n",
    "    plt.figure()\n",
    "    subsets_fig = plt.subplot(111)\n",
    "    _ = subsets_fig.plot(range(len(subsets_metric)), subsets_metric, label=\"Selection (3.) scores\")\n",
    "    _ = subsets_fig.scatter(best_subset_idx, subsets_metric[best_subset_idx],\n",
    "                              marker='X', label=\"Best (3.) score\", color=\"r\")\n",
    "    best_test_score_idx = test_argbest(subsets_test)\n",
    "    _ = subsets_fig.plot(range(len(subsets_test)), subsets_test, label=\"Test scores\")\n",
    "    _ = subsets_fig.scatter(best_test_score_idx, subsets_test[best_test_score_idx],\n",
    "                              marker='X', label=\"Best test score\", color=\"y\")\n",
    "    subsets_fig.set_title(subsets_scorer_name)\n",
    "    subsets_fig.legend()"
   ]
  },
  {
   "cell_type": "code",
   "execution_count": 56,
   "id": "535ef449",
   "metadata": {},
   "outputs": [
    {
     "name": "stdout",
     "output_type": "stream",
     "text": [
      "............\n",
      "Best model (M1) with 1 features: ['PageValues']\n",
      "M1 subset score (3.): 0.8801909441909442\n",
      "............\n",
      "Best model (M2) with 2 features: ['PageValues', 'VisitorType_New_Visitor']\n",
      "M2 subset score (3.): 0.8822451152451153\n",
      "............\n",
      "Best model (M3) with 3 features: ['PageValues', 'VisitorType_New_Visitor', 'TrafficType_3']\n",
      "M3 subset score (3.): 0.8831102141102141\n",
      "............\n",
      "Best model (M4) with 4 features: ['PageValues', 'VisitorType_New_Visitor', 'TrafficType_3', 'TrafficType_10']\n",
      "M4 subset score (3.): 0.8834343044343044\n",
      "............\n",
      "Best model (M5) with 5 features: ['PageValues', 'VisitorType_New_Visitor', 'TrafficType_3', 'TrafficType_10', 'Browser_11']\n",
      "M5 subset score (3.): 0.8834343044343044\n",
      "............\n",
      "Best model (M6) with 6 features: ['PageValues', 'VisitorType_New_Visitor', 'TrafficType_3', 'TrafficType_10', 'Browser_11', 'Browser_1']\n",
      "M6 subset score (3.): 0.8833261963261962\n",
      "............\n",
      "Best model (M7) with 7 features: ['PageValues', 'VisitorType_New_Visitor', 'TrafficType_3', 'TrafficType_10', 'Browser_11', 'Browser_1', 'Browser_12']\n",
      "M7 subset score (3.): 0.8833261963261962\n",
      "............\n",
      "Best model (M8) with 8 features: ['PageValues', 'VisitorType_New_Visitor', 'TrafficType_3', 'TrafficType_10', 'Browser_11', 'Browser_1', 'Browser_12', 'Browser_9']\n",
      "M8 subset score (3.): 0.8833261963261962\n",
      "............\n",
      "Best model (M9) with 9 features: ['PageValues', 'VisitorType_New_Visitor', 'TrafficType_3', 'TrafficType_10', 'Browser_11', 'Browser_1', 'Browser_12', 'Browser_9', 'OperatingSystems_5']\n",
      "M9 subset score (3.): 0.8833261963261962\n",
      "............\n",
      "Best model (M10) with 10 features: ['PageValues', 'VisitorType_New_Visitor', 'TrafficType_3', 'TrafficType_10', 'Browser_11', 'Browser_1', 'Browser_12', 'Browser_9', 'OperatingSystems_5', 'OperatingSystems_7']\n",
      "M10 subset score (3.): 0.8833261963261962\n",
      "............\n",
      "Best model (M11) with 11 features: ['PageValues', 'VisitorType_New_Visitor', 'TrafficType_3', 'TrafficType_10', 'Browser_11', 'Browser_1', 'Browser_12', 'Browser_9', 'OperatingSystems_5', 'OperatingSystems_7', 'Browser_7']\n",
      "M11 subset score (3.): 0.8833261963261962\n",
      "............\n",
      "Best model (M12) with 12 features: ['PageValues', 'VisitorType_New_Visitor', 'TrafficType_3', 'TrafficType_10', 'Browser_11', 'Browser_1', 'Browser_12', 'Browser_9', 'OperatingSystems_5', 'OperatingSystems_7', 'Browser_7', 'TrafficType_11']\n",
      "M12 subset score (3.): 0.8832182052182052\n",
      "............\n",
      "Best model (M13) with 13 features: ['PageValues', 'VisitorType_New_Visitor', 'TrafficType_3', 'TrafficType_10', 'Browser_11', 'Browser_1', 'Browser_12', 'Browser_9', 'OperatingSystems_5', 'OperatingSystems_7', 'Browser_7', 'TrafficType_11', 'Browser_3']\n",
      "M13 subset score (3.): 0.8836506376506377\n",
      "............\n",
      "Best model (M14) with 14 features: ['PageValues', 'VisitorType_New_Visitor', 'TrafficType_3', 'TrafficType_10', 'Browser_11', 'Browser_1', 'Browser_12', 'Browser_9', 'OperatingSystems_5', 'OperatingSystems_7', 'Browser_7', 'TrafficType_11', 'Browser_3', 'Month_Feb']\n",
      "M14 subset score (3.): 0.8837587457587457\n",
      "............\n",
      "Best model (M15) with 15 features: ['PageValues', 'VisitorType_New_Visitor', 'TrafficType_3', 'TrafficType_10', 'Browser_11', 'Browser_1', 'Browser_12', 'Browser_9', 'OperatingSystems_5', 'OperatingSystems_7', 'Browser_7', 'TrafficType_11', 'Browser_3', 'Month_Feb', 'OperatingSystems_8']\n",
      "M15 subset score (3.): 0.8837587457587457\n",
      "............\n",
      "Best model (M16) with 16 features: ['PageValues', 'VisitorType_New_Visitor', 'TrafficType_3', 'TrafficType_10', 'Browser_11', 'Browser_1', 'Browser_12', 'Browser_9', 'OperatingSystems_5', 'OperatingSystems_7', 'Browser_7', 'TrafficType_11', 'Browser_3', 'Month_Feb', 'OperatingSystems_8', 'TrafficType_5']\n",
      "M16 subset score (3.): 0.8836506376506377\n",
      "............\n",
      "Best model (M17) with 17 features: ['PageValues', 'VisitorType_New_Visitor', 'TrafficType_3', 'TrafficType_10', 'Browser_11', 'Browser_1', 'Browser_12', 'Browser_9', 'OperatingSystems_5', 'OperatingSystems_7', 'Browser_7', 'TrafficType_11', 'Browser_3', 'Month_Feb', 'OperatingSystems_8', 'TrafficType_5', 'Region_8']\n",
      "M17 subset score (3.): 0.8836506376506377\n",
      "............\n",
      "Best model (M18) with 18 features: ['PageValues', 'VisitorType_New_Visitor', 'TrafficType_3', 'TrafficType_10', 'Browser_11', 'Browser_1', 'Browser_12', 'Browser_9', 'OperatingSystems_5', 'OperatingSystems_7', 'Browser_7', 'TrafficType_11', 'Browser_3', 'Month_Feb', 'OperatingSystems_8', 'TrafficType_5', 'Region_8', 'TrafficType_12']\n",
      "M18 subset score (3.): 0.8836506376506377\n",
      "............\n",
      "Best model (M19) with 19 features: ['PageValues', 'VisitorType_New_Visitor', 'TrafficType_3', 'TrafficType_10', 'Browser_11', 'Browser_1', 'Browser_12', 'Browser_9', 'OperatingSystems_5', 'OperatingSystems_7', 'Browser_7', 'TrafficType_11', 'Browser_3', 'Month_Feb', 'OperatingSystems_8', 'TrafficType_5', 'Region_8', 'TrafficType_12', 'TrafficType_16']\n",
      "M19 subset score (3.): 0.8837587457587457\n",
      "............\n",
      "Best model (M20) with 20 features: ['PageValues', 'VisitorType_New_Visitor', 'TrafficType_3', 'TrafficType_10', 'Browser_11', 'Browser_1', 'Browser_12', 'Browser_9', 'OperatingSystems_5', 'OperatingSystems_7', 'Browser_7', 'TrafficType_11', 'Browser_3', 'Month_Feb', 'OperatingSystems_8', 'TrafficType_5', 'Region_8', 'TrafficType_12', 'TrafficType_16', 'Browser_8']\n",
      "M20 subset score (3.): 0.8837587457587457\n",
      "............\n",
      "Best model (M21) with 21 features: ['PageValues', 'VisitorType_New_Visitor', 'TrafficType_3', 'TrafficType_10', 'Browser_11', 'Browser_1', 'Browser_12', 'Browser_9', 'OperatingSystems_5', 'OperatingSystems_7', 'Browser_7', 'TrafficType_11', 'Browser_3', 'Month_Feb', 'OperatingSystems_8', 'TrafficType_5', 'Region_8', 'TrafficType_12', 'TrafficType_16', 'Browser_8', 'TrafficType_14']\n",
      "M21 subset score (3.): 0.8837587457587457\n",
      "............\n",
      "Best model (M22) with 22 features: ['PageValues', 'VisitorType_New_Visitor', 'TrafficType_3', 'TrafficType_10', 'Browser_11', 'Browser_1', 'Browser_12', 'Browser_9', 'OperatingSystems_5', 'OperatingSystems_7', 'Browser_7', 'TrafficType_11', 'Browser_3', 'Month_Feb', 'OperatingSystems_8', 'TrafficType_5', 'Region_8', 'TrafficType_12', 'TrafficType_16', 'Browser_8', 'TrafficType_14', 'TrafficType_17']\n",
      "M22 subset score (3.): 0.8837587457587457\n",
      "............\n",
      "Best model (M23) with 23 features: ['PageValues', 'VisitorType_New_Visitor', 'TrafficType_3', 'TrafficType_10', 'Browser_11', 'Browser_1', 'Browser_12', 'Browser_9', 'OperatingSystems_5', 'OperatingSystems_7', 'Browser_7', 'TrafficType_11', 'Browser_3', 'Month_Feb', 'OperatingSystems_8', 'TrafficType_5', 'Region_8', 'TrafficType_12', 'TrafficType_16', 'Browser_8', 'TrafficType_14', 'TrafficType_17', 'TrafficType_18']\n",
      "M23 subset score (3.): 0.8837587457587457\n",
      "............\n",
      "Best model (M24) with 24 features: ['PageValues', 'VisitorType_New_Visitor', 'TrafficType_3', 'TrafficType_10', 'Browser_11', 'Browser_1', 'Browser_12', 'Browser_9', 'OperatingSystems_5', 'OperatingSystems_7', 'Browser_7', 'TrafficType_11', 'Browser_3', 'Month_Feb', 'OperatingSystems_8', 'TrafficType_5', 'Region_8', 'TrafficType_12', 'TrafficType_16', 'Browser_8', 'TrafficType_14', 'TrafficType_17', 'TrafficType_18', 'TrafficType_7']\n",
      "M24 subset score (3.): 0.8835425295425295\n",
      "............\n",
      "Best model (M25) with 25 features: ['PageValues', 'VisitorType_New_Visitor', 'TrafficType_3', 'TrafficType_10', 'Browser_11', 'Browser_1', 'Browser_12', 'Browser_9', 'OperatingSystems_5', 'OperatingSystems_7', 'Browser_7', 'TrafficType_11', 'Browser_3', 'Month_Feb', 'OperatingSystems_8', 'TrafficType_5', 'Region_8', 'TrafficType_12', 'TrafficType_16', 'Browser_8', 'TrafficType_14', 'TrafficType_17', 'TrafficType_18', 'TrafficType_7', 'Region_2']\n",
      "M25 subset score (3.): 0.8836506376506377\n",
      "............\n",
      "Best model (M26) with 26 features: ['PageValues', 'VisitorType_New_Visitor', 'TrafficType_3', 'TrafficType_10', 'Browser_11', 'Browser_1', 'Browser_12', 'Browser_9', 'OperatingSystems_5', 'OperatingSystems_7', 'Browser_7', 'TrafficType_11', 'Browser_3', 'Month_Feb', 'OperatingSystems_8', 'TrafficType_5', 'Region_8', 'TrafficType_12', 'TrafficType_16', 'Browser_8', 'TrafficType_14', 'TrafficType_17', 'TrafficType_18', 'TrafficType_7', 'Region_2', 'Browser_13']\n",
      "M26 subset score (3.): 0.8837586287586288\n"
     ]
    },
    {
     "name": "stdout",
     "output_type": "stream",
     "text": [
      "............\n",
      "Best model (M27) with 27 features: ['PageValues', 'VisitorType_New_Visitor', 'TrafficType_3', 'TrafficType_10', 'Browser_11', 'Browser_1', 'Browser_12', 'Browser_9', 'OperatingSystems_5', 'OperatingSystems_7', 'Browser_7', 'TrafficType_11', 'Browser_3', 'Month_Feb', 'OperatingSystems_8', 'TrafficType_5', 'Region_8', 'TrafficType_12', 'TrafficType_16', 'Browser_8', 'TrafficType_14', 'TrafficType_17', 'TrafficType_18', 'TrafficType_7', 'Region_2', 'Browser_13', 'TrafficType_9']\n",
      "M27 subset score (3.): 0.8837586287586288\n",
      "............\n",
      "Best model (M28) with 28 features: ['PageValues', 'VisitorType_New_Visitor', 'TrafficType_3', 'TrafficType_10', 'Browser_11', 'Browser_1', 'Browser_12', 'Browser_9', 'OperatingSystems_5', 'OperatingSystems_7', 'Browser_7', 'TrafficType_11', 'Browser_3', 'Month_Feb', 'OperatingSystems_8', 'TrafficType_5', 'Region_8', 'TrafficType_12', 'TrafficType_16', 'Browser_8', 'TrafficType_14', 'TrafficType_17', 'TrafficType_18', 'TrafficType_7', 'Region_2', 'Browser_13', 'TrafficType_9', 'VisitorType_Other']\n",
      "M28 subset score (3.): 0.8837586287586288\n",
      "............\n",
      "Best model (M29) with 29 features: ['PageValues', 'VisitorType_New_Visitor', 'TrafficType_3', 'TrafficType_10', 'Browser_11', 'Browser_1', 'Browser_12', 'Browser_9', 'OperatingSystems_5', 'OperatingSystems_7', 'Browser_7', 'TrafficType_11', 'Browser_3', 'Month_Feb', 'OperatingSystems_8', 'TrafficType_5', 'Region_8', 'TrafficType_12', 'TrafficType_16', 'Browser_8', 'TrafficType_14', 'TrafficType_17', 'TrafficType_18', 'TrafficType_7', 'Region_2', 'Browser_13', 'TrafficType_9', 'VisitorType_Other', 'OperatingSystems_6']\n",
      "M29 subset score (3.): 0.8837586287586288\n",
      "............\n",
      "Best model (M30) with 30 features: ['PageValues', 'VisitorType_New_Visitor', 'TrafficType_3', 'TrafficType_10', 'Browser_11', 'Browser_1', 'Browser_12', 'Browser_9', 'OperatingSystems_5', 'OperatingSystems_7', 'Browser_7', 'TrafficType_11', 'Browser_3', 'Month_Feb', 'OperatingSystems_8', 'TrafficType_5', 'Region_8', 'TrafficType_12', 'TrafficType_16', 'Browser_8', 'TrafficType_14', 'TrafficType_17', 'TrafficType_18', 'TrafficType_7', 'Region_2', 'Browser_13', 'TrafficType_9', 'VisitorType_Other', 'OperatingSystems_6', 'Region_6']\n",
      "M30 subset score (3.): 0.8837585117585117\n",
      "............\n",
      "Best model (M31) with 31 features: ['PageValues', 'VisitorType_New_Visitor', 'TrafficType_3', 'TrafficType_10', 'Browser_11', 'Browser_1', 'Browser_12', 'Browser_9', 'OperatingSystems_5', 'OperatingSystems_7', 'Browser_7', 'TrafficType_11', 'Browser_3', 'Month_Feb', 'OperatingSystems_8', 'TrafficType_5', 'Region_8', 'TrafficType_12', 'TrafficType_16', 'Browser_8', 'TrafficType_14', 'TrafficType_17', 'TrafficType_18', 'TrafficType_7', 'Region_2', 'Browser_13', 'TrafficType_9', 'VisitorType_Other', 'OperatingSystems_6', 'Region_6', 'Region_3']\n",
      "M31 subset score (3.): 0.8835422955422955\n",
      "............\n",
      "Best model (M32) with 32 features: ['PageValues', 'VisitorType_New_Visitor', 'TrafficType_3', 'TrafficType_10', 'Browser_11', 'Browser_1', 'Browser_12', 'Browser_9', 'OperatingSystems_5', 'OperatingSystems_7', 'Browser_7', 'TrafficType_11', 'Browser_3', 'Month_Feb', 'OperatingSystems_8', 'TrafficType_5', 'Region_8', 'TrafficType_12', 'TrafficType_16', 'Browser_8', 'TrafficType_14', 'TrafficType_17', 'TrafficType_18', 'TrafficType_7', 'Region_2', 'Browser_13', 'TrafficType_9', 'VisitorType_Other', 'OperatingSystems_6', 'Region_6', 'Region_3', 'Region_5']\n",
      "M32 subset score (3.): 0.8835422955422955\n",
      "............\n",
      "Best model (M33) with 33 features: ['PageValues', 'VisitorType_New_Visitor', 'TrafficType_3', 'TrafficType_10', 'Browser_11', 'Browser_1', 'Browser_12', 'Browser_9', 'OperatingSystems_5', 'OperatingSystems_7', 'Browser_7', 'TrafficType_11', 'Browser_3', 'Month_Feb', 'OperatingSystems_8', 'TrafficType_5', 'Region_8', 'TrafficType_12', 'TrafficType_16', 'Browser_8', 'TrafficType_14', 'TrafficType_17', 'TrafficType_18', 'TrafficType_7', 'Region_2', 'Browser_13', 'TrafficType_9', 'VisitorType_Other', 'OperatingSystems_6', 'Region_6', 'Region_3', 'Region_5', 'VisitorType_Returning_Visitor']\n",
      "M33 subset score (3.): 0.8835422955422955\n",
      "............\n",
      "Best model (M34) with 34 features: ['PageValues', 'VisitorType_New_Visitor', 'TrafficType_3', 'TrafficType_10', 'Browser_11', 'Browser_1', 'Browser_12', 'Browser_9', 'OperatingSystems_5', 'OperatingSystems_7', 'Browser_7', 'TrafficType_11', 'Browser_3', 'Month_Feb', 'OperatingSystems_8', 'TrafficType_5', 'Region_8', 'TrafficType_12', 'TrafficType_16', 'Browser_8', 'TrafficType_14', 'TrafficType_17', 'TrafficType_18', 'TrafficType_7', 'Region_2', 'Browser_13', 'TrafficType_9', 'VisitorType_Other', 'OperatingSystems_6', 'Region_6', 'Region_3', 'Region_5', 'VisitorType_Returning_Visitor', 'Browser_4']\n",
      "M34 subset score (3.): 0.8838668538668539\n",
      "............\n",
      "Best model (M35) with 35 features: ['PageValues', 'VisitorType_New_Visitor', 'TrafficType_3', 'TrafficType_10', 'Browser_11', 'Browser_1', 'Browser_12', 'Browser_9', 'OperatingSystems_5', 'OperatingSystems_7', 'Browser_7', 'TrafficType_11', 'Browser_3', 'Month_Feb', 'OperatingSystems_8', 'TrafficType_5', 'Region_8', 'TrafficType_12', 'TrafficType_16', 'Browser_8', 'TrafficType_14', 'TrafficType_17', 'TrafficType_18', 'TrafficType_7', 'Region_2', 'Browser_13', 'TrafficType_9', 'VisitorType_Other', 'OperatingSystems_6', 'Region_6', 'Region_3', 'Region_5', 'VisitorType_Returning_Visitor', 'Browser_4', 'Month_June']\n",
      "M35 subset score (3.): 0.8835424125424126\n",
      "............\n",
      "Best model (M36) with 36 features: ['PageValues', 'VisitorType_New_Visitor', 'TrafficType_3', 'TrafficType_10', 'Browser_11', 'Browser_1', 'Browser_12', 'Browser_9', 'OperatingSystems_5', 'OperatingSystems_7', 'Browser_7', 'TrafficType_11', 'Browser_3', 'Month_Feb', 'OperatingSystems_8', 'TrafficType_5', 'Region_8', 'TrafficType_12', 'TrafficType_16', 'Browser_8', 'TrafficType_14', 'TrafficType_17', 'TrafficType_18', 'TrafficType_7', 'Region_2', 'Browser_13', 'TrafficType_9', 'VisitorType_Other', 'OperatingSystems_6', 'Region_6', 'Region_3', 'Region_5', 'VisitorType_Returning_Visitor', 'Browser_4', 'Month_June', 'TrafficType_15']\n",
      "M36 subset score (3.): 0.8836506376506377\n",
      "............\n",
      "Best model (M37) with 37 features: ['PageValues', 'VisitorType_New_Visitor', 'TrafficType_3', 'TrafficType_10', 'Browser_11', 'Browser_1', 'Browser_12', 'Browser_9', 'OperatingSystems_5', 'OperatingSystems_7', 'Browser_7', 'TrafficType_11', 'Browser_3', 'Month_Feb', 'OperatingSystems_8', 'TrafficType_5', 'Region_8', 'TrafficType_12', 'TrafficType_16', 'Browser_8', 'TrafficType_14', 'TrafficType_17', 'TrafficType_18', 'TrafficType_7', 'Region_2', 'Browser_13', 'TrafficType_9', 'VisitorType_Other', 'OperatingSystems_6', 'Region_6', 'Region_3', 'Region_5', 'VisitorType_Returning_Visitor', 'Browser_4', 'Month_June', 'TrafficType_15', 'TrafficType_20']\n",
      "M37 subset score (3.): 0.8835425295425295\n",
      "............\n",
      "Best model (M38) with 38 features: ['PageValues', 'VisitorType_New_Visitor', 'TrafficType_3', 'TrafficType_10', 'Browser_11', 'Browser_1', 'Browser_12', 'Browser_9', 'OperatingSystems_5', 'OperatingSystems_7', 'Browser_7', 'TrafficType_11', 'Browser_3', 'Month_Feb', 'OperatingSystems_8', 'TrafficType_5', 'Region_8', 'TrafficType_12', 'TrafficType_16', 'Browser_8', 'TrafficType_14', 'TrafficType_17', 'TrafficType_18', 'TrafficType_7', 'Region_2', 'Browser_13', 'TrafficType_9', 'VisitorType_Other', 'OperatingSystems_6', 'Region_6', 'Region_3', 'Region_5', 'VisitorType_Returning_Visitor', 'Browser_4', 'Month_June', 'TrafficType_15', 'TrafficType_20', 'TrafficType_19']\n",
      "M38 subset score (3.): 0.8835425295425295\n",
      "............\n",
      "Best model (M39) with 39 features: ['PageValues', 'VisitorType_New_Visitor', 'TrafficType_3', 'TrafficType_10', 'Browser_11', 'Browser_1', 'Browser_12', 'Browser_9', 'OperatingSystems_5', 'OperatingSystems_7', 'Browser_7', 'TrafficType_11', 'Browser_3', 'Month_Feb', 'OperatingSystems_8', 'TrafficType_5', 'Region_8', 'TrafficType_12', 'TrafficType_16', 'Browser_8', 'TrafficType_14', 'TrafficType_17', 'TrafficType_18', 'TrafficType_7', 'Region_2', 'Browser_13', 'TrafficType_9', 'VisitorType_Other', 'OperatingSystems_6', 'Region_6', 'Region_3', 'Region_5', 'VisitorType_Returning_Visitor', 'Browser_4', 'Month_June', 'TrafficType_15', 'TrafficType_20', 'TrafficType_19', 'Region_7']\n",
      "M39 subset score (3.): 0.8837587457587459\n"
     ]
    },
    {
     "name": "stdout",
     "output_type": "stream",
     "text": [
      "............\n",
      "Best model (M40) with 40 features: ['PageValues', 'VisitorType_New_Visitor', 'TrafficType_3', 'TrafficType_10', 'Browser_11', 'Browser_1', 'Browser_12', 'Browser_9', 'OperatingSystems_5', 'OperatingSystems_7', 'Browser_7', 'TrafficType_11', 'Browser_3', 'Month_Feb', 'OperatingSystems_8', 'TrafficType_5', 'Region_8', 'TrafficType_12', 'TrafficType_16', 'Browser_8', 'TrafficType_14', 'TrafficType_17', 'TrafficType_18', 'TrafficType_7', 'Region_2', 'Browser_13', 'TrafficType_9', 'VisitorType_Other', 'OperatingSystems_6', 'Region_6', 'Region_3', 'Region_5', 'VisitorType_Returning_Visitor', 'Browser_4', 'Month_June', 'TrafficType_15', 'TrafficType_20', 'TrafficType_19', 'Region_7', 'OperatingSystems_1']\n",
      "M40 subset score (3.): 0.8838668538668539\n",
      "............\n",
      "Best model (M41) with 41 features: ['PageValues', 'VisitorType_New_Visitor', 'TrafficType_3', 'TrafficType_10', 'Browser_11', 'Browser_1', 'Browser_12', 'Browser_9', 'OperatingSystems_5', 'OperatingSystems_7', 'Browser_7', 'TrafficType_11', 'Browser_3', 'Month_Feb', 'OperatingSystems_8', 'TrafficType_5', 'Region_8', 'TrafficType_12', 'TrafficType_16', 'Browser_8', 'TrafficType_14', 'TrafficType_17', 'TrafficType_18', 'TrafficType_7', 'Region_2', 'Browser_13', 'TrafficType_9', 'VisitorType_Other', 'OperatingSystems_6', 'Region_6', 'Region_3', 'Region_5', 'VisitorType_Returning_Visitor', 'Browser_4', 'Month_June', 'TrafficType_15', 'TrafficType_20', 'TrafficType_19', 'Region_7', 'OperatingSystems_1', 'OperatingSystems_4']\n",
      "M41 subset score (3.): 0.883866736866737\n",
      "............\n",
      "Best model (M42) with 42 features: ['PageValues', 'VisitorType_New_Visitor', 'TrafficType_3', 'TrafficType_10', 'Browser_11', 'Browser_1', 'Browser_12', 'Browser_9', 'OperatingSystems_5', 'OperatingSystems_7', 'Browser_7', 'TrafficType_11', 'Browser_3', 'Month_Feb', 'OperatingSystems_8', 'TrafficType_5', 'Region_8', 'TrafficType_12', 'TrafficType_16', 'Browser_8', 'TrafficType_14', 'TrafficType_17', 'TrafficType_18', 'TrafficType_7', 'Region_2', 'Browser_13', 'TrafficType_9', 'VisitorType_Other', 'OperatingSystems_6', 'Region_6', 'Region_3', 'Region_5', 'VisitorType_Returning_Visitor', 'Browser_4', 'Month_June', 'TrafficType_15', 'TrafficType_20', 'TrafficType_19', 'Region_7', 'OperatingSystems_1', 'OperatingSystems_4', 'Browser_5']\n",
      "M42 subset score (3.): 0.884083187083187\n",
      "............\n",
      "Best model (M43) with 43 features: ['PageValues', 'VisitorType_New_Visitor', 'TrafficType_3', 'TrafficType_10', 'Browser_11', 'Browser_1', 'Browser_12', 'Browser_9', 'OperatingSystems_5', 'OperatingSystems_7', 'Browser_7', 'TrafficType_11', 'Browser_3', 'Month_Feb', 'OperatingSystems_8', 'TrafficType_5', 'Region_8', 'TrafficType_12', 'TrafficType_16', 'Browser_8', 'TrafficType_14', 'TrafficType_17', 'TrafficType_18', 'TrafficType_7', 'Region_2', 'Browser_13', 'TrafficType_9', 'VisitorType_Other', 'OperatingSystems_6', 'Region_6', 'Region_3', 'Region_5', 'VisitorType_Returning_Visitor', 'Browser_4', 'Month_June', 'TrafficType_15', 'TrafficType_20', 'TrafficType_19', 'Region_7', 'OperatingSystems_1', 'OperatingSystems_4', 'Browser_5', 'Region_9']\n",
      "M43 subset score (3.): 0.8836507546507546\n",
      "............\n",
      "Best model (M44) with 44 features: ['PageValues', 'VisitorType_New_Visitor', 'TrafficType_3', 'TrafficType_10', 'Browser_11', 'Browser_1', 'Browser_12', 'Browser_9', 'OperatingSystems_5', 'OperatingSystems_7', 'Browser_7', 'TrafficType_11', 'Browser_3', 'Month_Feb', 'OperatingSystems_8', 'TrafficType_5', 'Region_8', 'TrafficType_12', 'TrafficType_16', 'Browser_8', 'TrafficType_14', 'TrafficType_17', 'TrafficType_18', 'TrafficType_7', 'Region_2', 'Browser_13', 'TrafficType_9', 'VisitorType_Other', 'OperatingSystems_6', 'Region_6', 'Region_3', 'Region_5', 'VisitorType_Returning_Visitor', 'Browser_4', 'Month_June', 'TrafficType_15', 'TrafficType_20', 'TrafficType_19', 'Region_7', 'OperatingSystems_1', 'OperatingSystems_4', 'Browser_5', 'Region_9', 'BounceRates']\n",
      "M44 subset score (3.): 0.8834345384345383\n",
      "............\n",
      "Best model (M45) with 45 features: ['PageValues', 'VisitorType_New_Visitor', 'TrafficType_3', 'TrafficType_10', 'Browser_11', 'Browser_1', 'Browser_12', 'Browser_9', 'OperatingSystems_5', 'OperatingSystems_7', 'Browser_7', 'TrafficType_11', 'Browser_3', 'Month_Feb', 'OperatingSystems_8', 'TrafficType_5', 'Region_8', 'TrafficType_12', 'TrafficType_16', 'Browser_8', 'TrafficType_14', 'TrafficType_17', 'TrafficType_18', 'TrafficType_7', 'Region_2', 'Browser_13', 'TrafficType_9', 'VisitorType_Other', 'OperatingSystems_6', 'Region_6', 'Region_3', 'Region_5', 'VisitorType_Returning_Visitor', 'Browser_4', 'Month_June', 'TrafficType_15', 'TrafficType_20', 'TrafficType_19', 'Region_7', 'OperatingSystems_1', 'OperatingSystems_4', 'Browser_5', 'Region_9', 'BounceRates', 'OperatingSystems_2']\n",
      "M45 subset score (3.): 0.8831100971100971\n",
      "............\n",
      "Best model (M46) with 46 features: ['PageValues', 'VisitorType_New_Visitor', 'TrafficType_3', 'TrafficType_10', 'Browser_11', 'Browser_1', 'Browser_12', 'Browser_9', 'OperatingSystems_5', 'OperatingSystems_7', 'Browser_7', 'TrafficType_11', 'Browser_3', 'Month_Feb', 'OperatingSystems_8', 'TrafficType_5', 'Region_8', 'TrafficType_12', 'TrafficType_16', 'Browser_8', 'TrafficType_14', 'TrafficType_17', 'TrafficType_18', 'TrafficType_7', 'Region_2', 'Browser_13', 'TrafficType_9', 'VisitorType_Other', 'OperatingSystems_6', 'Region_6', 'Region_3', 'Region_5', 'VisitorType_Returning_Visitor', 'Browser_4', 'Month_June', 'TrafficType_15', 'TrafficType_20', 'TrafficType_19', 'Region_7', 'OperatingSystems_1', 'OperatingSystems_4', 'Browser_5', 'Region_9', 'BounceRates', 'OperatingSystems_2', 'TrafficType_6']\n",
      "M46 subset score (3.): 0.883002106002106\n",
      "............\n",
      "Best model (M47) with 47 features: ['PageValues', 'VisitorType_New_Visitor', 'TrafficType_3', 'TrafficType_10', 'Browser_11', 'Browser_1', 'Browser_12', 'Browser_9', 'OperatingSystems_5', 'OperatingSystems_7', 'Browser_7', 'TrafficType_11', 'Browser_3', 'Month_Feb', 'OperatingSystems_8', 'TrafficType_5', 'Region_8', 'TrafficType_12', 'TrafficType_16', 'Browser_8', 'TrafficType_14', 'TrafficType_17', 'TrafficType_18', 'TrafficType_7', 'Region_2', 'Browser_13', 'TrafficType_9', 'VisitorType_Other', 'OperatingSystems_6', 'Region_6', 'Region_3', 'Region_5', 'VisitorType_Returning_Visitor', 'Browser_4', 'Month_June', 'TrafficType_15', 'TrafficType_20', 'TrafficType_19', 'Region_7', 'OperatingSystems_1', 'OperatingSystems_4', 'Browser_5', 'Region_9', 'BounceRates', 'OperatingSystems_2', 'TrafficType_6', 'OperatingSystems_3']\n",
      "M47 subset score (3.): 0.883002106002106\n",
      "............\n",
      "Best model (M48) with 48 features: ['PageValues', 'VisitorType_New_Visitor', 'TrafficType_3', 'TrafficType_10', 'Browser_11', 'Browser_1', 'Browser_12', 'Browser_9', 'OperatingSystems_5', 'OperatingSystems_7', 'Browser_7', 'TrafficType_11', 'Browser_3', 'Month_Feb', 'OperatingSystems_8', 'TrafficType_5', 'Region_8', 'TrafficType_12', 'TrafficType_16', 'Browser_8', 'TrafficType_14', 'TrafficType_17', 'TrafficType_18', 'TrafficType_7', 'Region_2', 'Browser_13', 'TrafficType_9', 'VisitorType_Other', 'OperatingSystems_6', 'Region_6', 'Region_3', 'Region_5', 'VisitorType_Returning_Visitor', 'Browser_4', 'Month_June', 'TrafficType_15', 'TrafficType_20', 'TrafficType_19', 'Region_7', 'OperatingSystems_1', 'OperatingSystems_4', 'Browser_5', 'Region_9', 'BounceRates', 'OperatingSystems_2', 'TrafficType_6', 'OperatingSystems_3', 'Browser_10']\n",
      "M48 subset score (3.): 0.883002106002106\n",
      "............\n",
      "Best model (M49) with 49 features: ['PageValues', 'VisitorType_New_Visitor', 'TrafficType_3', 'TrafficType_10', 'Browser_11', 'Browser_1', 'Browser_12', 'Browser_9', 'OperatingSystems_5', 'OperatingSystems_7', 'Browser_7', 'TrafficType_11', 'Browser_3', 'Month_Feb', 'OperatingSystems_8', 'TrafficType_5', 'Region_8', 'TrafficType_12', 'TrafficType_16', 'Browser_8', 'TrafficType_14', 'TrafficType_17', 'TrafficType_18', 'TrafficType_7', 'Region_2', 'Browser_13', 'TrafficType_9', 'VisitorType_Other', 'OperatingSystems_6', 'Region_6', 'Region_3', 'Region_5', 'VisitorType_Returning_Visitor', 'Browser_4', 'Month_June', 'TrafficType_15', 'TrafficType_20', 'TrafficType_19', 'Region_7', 'OperatingSystems_1', 'OperatingSystems_4', 'Browser_5', 'Region_9', 'BounceRates', 'OperatingSystems_2', 'TrafficType_6', 'OperatingSystems_3', 'Browser_10', 'Month_Oct']\n",
      "M49 subset score (3.): 0.8832183222183223\n"
     ]
    },
    {
     "name": "stdout",
     "output_type": "stream",
     "text": [
      "............\n",
      "Best model (M50) with 50 features: ['PageValues', 'VisitorType_New_Visitor', 'TrafficType_3', 'TrafficType_10', 'Browser_11', 'Browser_1', 'Browser_12', 'Browser_9', 'OperatingSystems_5', 'OperatingSystems_7', 'Browser_7', 'TrafficType_11', 'Browser_3', 'Month_Feb', 'OperatingSystems_8', 'TrafficType_5', 'Region_8', 'TrafficType_12', 'TrafficType_16', 'Browser_8', 'TrafficType_14', 'TrafficType_17', 'TrafficType_18', 'TrafficType_7', 'Region_2', 'Browser_13', 'TrafficType_9', 'VisitorType_Other', 'OperatingSystems_6', 'Region_6', 'Region_3', 'Region_5', 'VisitorType_Returning_Visitor', 'Browser_4', 'Month_June', 'TrafficType_15', 'TrafficType_20', 'TrafficType_19', 'Region_7', 'OperatingSystems_1', 'OperatingSystems_4', 'Browser_5', 'Region_9', 'BounceRates', 'OperatingSystems_2', 'TrafficType_6', 'OperatingSystems_3', 'Browser_10', 'Month_Oct', 'Region_1']\n",
      "M50 subset score (3.): 0.8835427635427635\n",
      "............\n",
      "Best model (M51) with 51 features: ['PageValues', 'VisitorType_New_Visitor', 'TrafficType_3', 'TrafficType_10', 'Browser_11', 'Browser_1', 'Browser_12', 'Browser_9', 'OperatingSystems_5', 'OperatingSystems_7', 'Browser_7', 'TrafficType_11', 'Browser_3', 'Month_Feb', 'OperatingSystems_8', 'TrafficType_5', 'Region_8', 'TrafficType_12', 'TrafficType_16', 'Browser_8', 'TrafficType_14', 'TrafficType_17', 'TrafficType_18', 'TrafficType_7', 'Region_2', 'Browser_13', 'TrafficType_9', 'VisitorType_Other', 'OperatingSystems_6', 'Region_6', 'Region_3', 'Region_5', 'VisitorType_Returning_Visitor', 'Browser_4', 'Month_June', 'TrafficType_15', 'TrafficType_20', 'TrafficType_19', 'Region_7', 'OperatingSystems_1', 'OperatingSystems_4', 'Browser_5', 'Region_9', 'BounceRates', 'OperatingSystems_2', 'TrafficType_6', 'OperatingSystems_3', 'Browser_10', 'Month_Oct', 'Region_1', 'Month_Aug']\n",
      "M51 subset score (3.): 0.8835427635427635\n",
      "............\n",
      "Best model (M52) with 52 features: ['PageValues', 'VisitorType_New_Visitor', 'TrafficType_3', 'TrafficType_10', 'Browser_11', 'Browser_1', 'Browser_12', 'Browser_9', 'OperatingSystems_5', 'OperatingSystems_7', 'Browser_7', 'TrafficType_11', 'Browser_3', 'Month_Feb', 'OperatingSystems_8', 'TrafficType_5', 'Region_8', 'TrafficType_12', 'TrafficType_16', 'Browser_8', 'TrafficType_14', 'TrafficType_17', 'TrafficType_18', 'TrafficType_7', 'Region_2', 'Browser_13', 'TrafficType_9', 'VisitorType_Other', 'OperatingSystems_6', 'Region_6', 'Region_3', 'Region_5', 'VisitorType_Returning_Visitor', 'Browser_4', 'Month_June', 'TrafficType_15', 'TrafficType_20', 'TrafficType_19', 'Region_7', 'OperatingSystems_1', 'OperatingSystems_4', 'Browser_5', 'Region_9', 'BounceRates', 'OperatingSystems_2', 'TrafficType_6', 'OperatingSystems_3', 'Browser_10', 'Month_Oct', 'Region_1', 'Month_Aug', 'Region_4']\n",
      "M52 subset score (3.): 0.8835427635427635\n",
      "............\n",
      "Best model (M53) with 53 features: ['PageValues', 'VisitorType_New_Visitor', 'TrafficType_3', 'TrafficType_10', 'Browser_11', 'Browser_1', 'Browser_12', 'Browser_9', 'OperatingSystems_5', 'OperatingSystems_7', 'Browser_7', 'TrafficType_11', 'Browser_3', 'Month_Feb', 'OperatingSystems_8', 'TrafficType_5', 'Region_8', 'TrafficType_12', 'TrafficType_16', 'Browser_8', 'TrafficType_14', 'TrafficType_17', 'TrafficType_18', 'TrafficType_7', 'Region_2', 'Browser_13', 'TrafficType_9', 'VisitorType_Other', 'OperatingSystems_6', 'Region_6', 'Region_3', 'Region_5', 'VisitorType_Returning_Visitor', 'Browser_4', 'Month_June', 'TrafficType_15', 'TrafficType_20', 'TrafficType_19', 'Region_7', 'OperatingSystems_1', 'OperatingSystems_4', 'Browser_5', 'Region_9', 'BounceRates', 'OperatingSystems_2', 'TrafficType_6', 'OperatingSystems_3', 'Browser_10', 'Month_Oct', 'Region_1', 'Month_Aug', 'Region_4', 'Month_Sep']\n",
      "M53 subset score (3.): 0.8832183222183223\n",
      "............\n",
      "Best model (M54) with 54 features: ['PageValues', 'VisitorType_New_Visitor', 'TrafficType_3', 'TrafficType_10', 'Browser_11', 'Browser_1', 'Browser_12', 'Browser_9', 'OperatingSystems_5', 'OperatingSystems_7', 'Browser_7', 'TrafficType_11', 'Browser_3', 'Month_Feb', 'OperatingSystems_8', 'TrafficType_5', 'Region_8', 'TrafficType_12', 'TrafficType_16', 'Browser_8', 'TrafficType_14', 'TrafficType_17', 'TrafficType_18', 'TrafficType_7', 'Region_2', 'Browser_13', 'TrafficType_9', 'VisitorType_Other', 'OperatingSystems_6', 'Region_6', 'Region_3', 'Region_5', 'VisitorType_Returning_Visitor', 'Browser_4', 'Month_June', 'TrafficType_15', 'TrafficType_20', 'TrafficType_19', 'Region_7', 'OperatingSystems_1', 'OperatingSystems_4', 'Browser_5', 'Region_9', 'BounceRates', 'OperatingSystems_2', 'TrafficType_6', 'OperatingSystems_3', 'Browser_10', 'Month_Oct', 'Region_1', 'Month_Aug', 'Region_4', 'Month_Sep', 'TrafficType_4']\n",
      "M54 subset score (3.): 0.8835427635427635\n",
      "............\n",
      "Best model (M55) with 55 features: ['PageValues', 'VisitorType_New_Visitor', 'TrafficType_3', 'TrafficType_10', 'Browser_11', 'Browser_1', 'Browser_12', 'Browser_9', 'OperatingSystems_5', 'OperatingSystems_7', 'Browser_7', 'TrafficType_11', 'Browser_3', 'Month_Feb', 'OperatingSystems_8', 'TrafficType_5', 'Region_8', 'TrafficType_12', 'TrafficType_16', 'Browser_8', 'TrafficType_14', 'TrafficType_17', 'TrafficType_18', 'TrafficType_7', 'Region_2', 'Browser_13', 'TrafficType_9', 'VisitorType_Other', 'OperatingSystems_6', 'Region_6', 'Region_3', 'Region_5', 'VisitorType_Returning_Visitor', 'Browser_4', 'Month_June', 'TrafficType_15', 'TrafficType_20', 'TrafficType_19', 'Region_7', 'OperatingSystems_1', 'OperatingSystems_4', 'Browser_5', 'Region_9', 'BounceRates', 'OperatingSystems_2', 'TrafficType_6', 'OperatingSystems_3', 'Browser_10', 'Month_Oct', 'Region_1', 'Month_Aug', 'Region_4', 'Month_Sep', 'TrafficType_4', 'TrafficType_8']\n",
      "M55 subset score (3.): 0.8830019890019891\n",
      "............\n",
      "Best model (M56) with 56 features: ['PageValues', 'VisitorType_New_Visitor', 'TrafficType_3', 'TrafficType_10', 'Browser_11', 'Browser_1', 'Browser_12', 'Browser_9', 'OperatingSystems_5', 'OperatingSystems_7', 'Browser_7', 'TrafficType_11', 'Browser_3', 'Month_Feb', 'OperatingSystems_8', 'TrafficType_5', 'Region_8', 'TrafficType_12', 'TrafficType_16', 'Browser_8', 'TrafficType_14', 'TrafficType_17', 'TrafficType_18', 'TrafficType_7', 'Region_2', 'Browser_13', 'TrafficType_9', 'VisitorType_Other', 'OperatingSystems_6', 'Region_6', 'Region_3', 'Region_5', 'VisitorType_Returning_Visitor', 'Browser_4', 'Month_June', 'TrafficType_15', 'TrafficType_20', 'TrafficType_19', 'Region_7', 'OperatingSystems_1', 'OperatingSystems_4', 'Browser_5', 'Region_9', 'BounceRates', 'OperatingSystems_2', 'TrafficType_6', 'OperatingSystems_3', 'Browser_10', 'Month_Oct', 'Region_1', 'Month_Aug', 'Region_4', 'Month_Sep', 'TrafficType_4', 'TrafficType_8', 'Browser_2']\n",
      "M56 subset score (3.): 0.8826776646776647\n",
      "............\n",
      "Best model (M57) with 57 features: ['PageValues', 'VisitorType_New_Visitor', 'TrafficType_3', 'TrafficType_10', 'Browser_11', 'Browser_1', 'Browser_12', 'Browser_9', 'OperatingSystems_5', 'OperatingSystems_7', 'Browser_7', 'TrafficType_11', 'Browser_3', 'Month_Feb', 'OperatingSystems_8', 'TrafficType_5', 'Region_8', 'TrafficType_12', 'TrafficType_16', 'Browser_8', 'TrafficType_14', 'TrafficType_17', 'TrafficType_18', 'TrafficType_7', 'Region_2', 'Browser_13', 'TrafficType_9', 'VisitorType_Other', 'OperatingSystems_6', 'Region_6', 'Region_3', 'Region_5', 'VisitorType_Returning_Visitor', 'Browser_4', 'Month_June', 'TrafficType_15', 'TrafficType_20', 'TrafficType_19', 'Region_7', 'OperatingSystems_1', 'OperatingSystems_4', 'Browser_5', 'Region_9', 'BounceRates', 'OperatingSystems_2', 'TrafficType_6', 'OperatingSystems_3', 'Browser_10', 'Month_Oct', 'Region_1', 'Month_Aug', 'Region_4', 'Month_Sep', 'TrafficType_4', 'TrafficType_8', 'Browser_2', 'Browser_6']\n",
      "M57 subset score (3.): 0.8826776646776647\n",
      "............\n",
      "Best model (M58) with 58 features: ['PageValues', 'VisitorType_New_Visitor', 'TrafficType_3', 'TrafficType_10', 'Browser_11', 'Browser_1', 'Browser_12', 'Browser_9', 'OperatingSystems_5', 'OperatingSystems_7', 'Browser_7', 'TrafficType_11', 'Browser_3', 'Month_Feb', 'OperatingSystems_8', 'TrafficType_5', 'Region_8', 'TrafficType_12', 'TrafficType_16', 'Browser_8', 'TrafficType_14', 'TrafficType_17', 'TrafficType_18', 'TrafficType_7', 'Region_2', 'Browser_13', 'TrafficType_9', 'VisitorType_Other', 'OperatingSystems_6', 'Region_6', 'Region_3', 'Region_5', 'VisitorType_Returning_Visitor', 'Browser_4', 'Month_June', 'TrafficType_15', 'TrafficType_20', 'TrafficType_19', 'Region_7', 'OperatingSystems_1', 'OperatingSystems_4', 'Browser_5', 'Region_9', 'BounceRates', 'OperatingSystems_2', 'TrafficType_6', 'OperatingSystems_3', 'Browser_10', 'Month_Oct', 'Region_1', 'Month_Aug', 'Region_4', 'Month_Sep', 'TrafficType_4', 'TrafficType_8', 'Browser_2', 'Browser_6', 'Weekend_False']\n",
      "M58 subset score (3.): 0.8830019890019891\n"
     ]
    },
    {
     "name": "stdout",
     "output_type": "stream",
     "text": [
      "............\n",
      "Best model (M59) with 59 features: ['PageValues', 'VisitorType_New_Visitor', 'TrafficType_3', 'TrafficType_10', 'Browser_11', 'Browser_1', 'Browser_12', 'Browser_9', 'OperatingSystems_5', 'OperatingSystems_7', 'Browser_7', 'TrafficType_11', 'Browser_3', 'Month_Feb', 'OperatingSystems_8', 'TrafficType_5', 'Region_8', 'TrafficType_12', 'TrafficType_16', 'Browser_8', 'TrafficType_14', 'TrafficType_17', 'TrafficType_18', 'TrafficType_7', 'Region_2', 'Browser_13', 'TrafficType_9', 'VisitorType_Other', 'OperatingSystems_6', 'Region_6', 'Region_3', 'Region_5', 'VisitorType_Returning_Visitor', 'Browser_4', 'Month_June', 'TrafficType_15', 'TrafficType_20', 'TrafficType_19', 'Region_7', 'OperatingSystems_1', 'OperatingSystems_4', 'Browser_5', 'Region_9', 'BounceRates', 'OperatingSystems_2', 'TrafficType_6', 'OperatingSystems_3', 'Browser_10', 'Month_Oct', 'Region_1', 'Month_Aug', 'Region_4', 'Month_Sep', 'TrafficType_4', 'TrafficType_8', 'Browser_2', 'Browser_6', 'Weekend_False', 'Month_Dec']\n",
      "M59 subset score (3.): 0.8830019890019891\n",
      "............\n",
      "Best model (M60) with 60 features: ['PageValues', 'VisitorType_New_Visitor', 'TrafficType_3', 'TrafficType_10', 'Browser_11', 'Browser_1', 'Browser_12', 'Browser_9', 'OperatingSystems_5', 'OperatingSystems_7', 'Browser_7', 'TrafficType_11', 'Browser_3', 'Month_Feb', 'OperatingSystems_8', 'TrafficType_5', 'Region_8', 'TrafficType_12', 'TrafficType_16', 'Browser_8', 'TrafficType_14', 'TrafficType_17', 'TrafficType_18', 'TrafficType_7', 'Region_2', 'Browser_13', 'TrafficType_9', 'VisitorType_Other', 'OperatingSystems_6', 'Region_6', 'Region_3', 'Region_5', 'VisitorType_Returning_Visitor', 'Browser_4', 'Month_June', 'TrafficType_15', 'TrafficType_20', 'TrafficType_19', 'Region_7', 'OperatingSystems_1', 'OperatingSystems_4', 'Browser_5', 'Region_9', 'BounceRates', 'OperatingSystems_2', 'TrafficType_6', 'OperatingSystems_3', 'Browser_10', 'Month_Oct', 'Region_1', 'Month_Aug', 'Region_4', 'Month_Sep', 'TrafficType_4', 'TrafficType_8', 'Browser_2', 'Browser_6', 'Weekend_False', 'Month_Dec', 'Weekend_True']\n",
      "M60 subset score (3.): 0.8830019890019891\n",
      "............\n",
      "Best model (M61) with 61 features: ['PageValues', 'VisitorType_New_Visitor', 'TrafficType_3', 'TrafficType_10', 'Browser_11', 'Browser_1', 'Browser_12', 'Browser_9', 'OperatingSystems_5', 'OperatingSystems_7', 'Browser_7', 'TrafficType_11', 'Browser_3', 'Month_Feb', 'OperatingSystems_8', 'TrafficType_5', 'Region_8', 'TrafficType_12', 'TrafficType_16', 'Browser_8', 'TrafficType_14', 'TrafficType_17', 'TrafficType_18', 'TrafficType_7', 'Region_2', 'Browser_13', 'TrafficType_9', 'VisitorType_Other', 'OperatingSystems_6', 'Region_6', 'Region_3', 'Region_5', 'VisitorType_Returning_Visitor', 'Browser_4', 'Month_June', 'TrafficType_15', 'TrafficType_20', 'TrafficType_19', 'Region_7', 'OperatingSystems_1', 'OperatingSystems_4', 'Browser_5', 'Region_9', 'BounceRates', 'OperatingSystems_2', 'TrafficType_6', 'OperatingSystems_3', 'Browser_10', 'Month_Oct', 'Region_1', 'Month_Aug', 'Region_4', 'Month_Sep', 'TrafficType_4', 'TrafficType_8', 'Browser_2', 'Browser_6', 'Weekend_False', 'Month_Dec', 'Weekend_True', 'Administrative_Duration']\n",
      "M61 subset score (3.): 0.8822451152451153\n",
      "............\n",
      "Best model (M62) with 62 features: ['PageValues', 'VisitorType_New_Visitor', 'TrafficType_3', 'TrafficType_10', 'Browser_11', 'Browser_1', 'Browser_12', 'Browser_9', 'OperatingSystems_5', 'OperatingSystems_7', 'Browser_7', 'TrafficType_11', 'Browser_3', 'Month_Feb', 'OperatingSystems_8', 'TrafficType_5', 'Region_8', 'TrafficType_12', 'TrafficType_16', 'Browser_8', 'TrafficType_14', 'TrafficType_17', 'TrafficType_18', 'TrafficType_7', 'Region_2', 'Browser_13', 'TrafficType_9', 'VisitorType_Other', 'OperatingSystems_6', 'Region_6', 'Region_3', 'Region_5', 'VisitorType_Returning_Visitor', 'Browser_4', 'Month_June', 'TrafficType_15', 'TrafficType_20', 'TrafficType_19', 'Region_7', 'OperatingSystems_1', 'OperatingSystems_4', 'Browser_5', 'Region_9', 'BounceRates', 'OperatingSystems_2', 'TrafficType_6', 'OperatingSystems_3', 'Browser_10', 'Month_Oct', 'Region_1', 'Month_Aug', 'Region_4', 'Month_Sep', 'TrafficType_4', 'TrafficType_8', 'Browser_2', 'Browser_6', 'Weekend_False', 'Month_Dec', 'Weekend_True', 'Administrative_Duration', 'Month_Jul']\n",
      "M62 subset score (3.): 0.8822449982449981\n",
      "............\n",
      "Best model (M63) with 63 features: ['PageValues', 'VisitorType_New_Visitor', 'TrafficType_3', 'TrafficType_10', 'Browser_11', 'Browser_1', 'Browser_12', 'Browser_9', 'OperatingSystems_5', 'OperatingSystems_7', 'Browser_7', 'TrafficType_11', 'Browser_3', 'Month_Feb', 'OperatingSystems_8', 'TrafficType_5', 'Region_8', 'TrafficType_12', 'TrafficType_16', 'Browser_8', 'TrafficType_14', 'TrafficType_17', 'TrafficType_18', 'TrafficType_7', 'Region_2', 'Browser_13', 'TrafficType_9', 'VisitorType_Other', 'OperatingSystems_6', 'Region_6', 'Region_3', 'Region_5', 'VisitorType_Returning_Visitor', 'Browser_4', 'Month_June', 'TrafficType_15', 'TrafficType_20', 'TrafficType_19', 'Region_7', 'OperatingSystems_1', 'OperatingSystems_4', 'Browser_5', 'Region_9', 'BounceRates', 'OperatingSystems_2', 'TrafficType_6', 'OperatingSystems_3', 'Browser_10', 'Month_Oct', 'Region_1', 'Month_Aug', 'Region_4', 'Month_Sep', 'TrafficType_4', 'TrafficType_8', 'Browser_2', 'Browser_6', 'Weekend_False', 'Month_Dec', 'Weekend_True', 'Administrative_Duration', 'Month_Jul', 'TrafficType_1']\n",
      "M63 subset score (3.): 0.8824613314613314\n",
      "............\n",
      "Best model (M64) with 64 features: ['PageValues', 'VisitorType_New_Visitor', 'TrafficType_3', 'TrafficType_10', 'Browser_11', 'Browser_1', 'Browser_12', 'Browser_9', 'OperatingSystems_5', 'OperatingSystems_7', 'Browser_7', 'TrafficType_11', 'Browser_3', 'Month_Feb', 'OperatingSystems_8', 'TrafficType_5', 'Region_8', 'TrafficType_12', 'TrafficType_16', 'Browser_8', 'TrafficType_14', 'TrafficType_17', 'TrafficType_18', 'TrafficType_7', 'Region_2', 'Browser_13', 'TrafficType_9', 'VisitorType_Other', 'OperatingSystems_6', 'Region_6', 'Region_3', 'Region_5', 'VisitorType_Returning_Visitor', 'Browser_4', 'Month_June', 'TrafficType_15', 'TrafficType_20', 'TrafficType_19', 'Region_7', 'OperatingSystems_1', 'OperatingSystems_4', 'Browser_5', 'Region_9', 'BounceRates', 'OperatingSystems_2', 'TrafficType_6', 'OperatingSystems_3', 'Browser_10', 'Month_Oct', 'Region_1', 'Month_Aug', 'Region_4', 'Month_Sep', 'TrafficType_4', 'TrafficType_8', 'Browser_2', 'Browser_6', 'Weekend_False', 'Month_Dec', 'Weekend_True', 'Administrative_Duration', 'Month_Jul', 'TrafficType_1', 'ExitRates']\n",
      "M64 subset score (3.): 0.8832184392184391\n",
      "............\n",
      "Best model (M65) with 65 features: ['PageValues', 'VisitorType_New_Visitor', 'TrafficType_3', 'TrafficType_10', 'Browser_11', 'Browser_1', 'Browser_12', 'Browser_9', 'OperatingSystems_5', 'OperatingSystems_7', 'Browser_7', 'TrafficType_11', 'Browser_3', 'Month_Feb', 'OperatingSystems_8', 'TrafficType_5', 'Region_8', 'TrafficType_12', 'TrafficType_16', 'Browser_8', 'TrafficType_14', 'TrafficType_17', 'TrafficType_18', 'TrafficType_7', 'Region_2', 'Browser_13', 'TrafficType_9', 'VisitorType_Other', 'OperatingSystems_6', 'Region_6', 'Region_3', 'Region_5', 'VisitorType_Returning_Visitor', 'Browser_4', 'Month_June', 'TrafficType_15', 'TrafficType_20', 'TrafficType_19', 'Region_7', 'OperatingSystems_1', 'OperatingSystems_4', 'Browser_5', 'Region_9', 'BounceRates', 'OperatingSystems_2', 'TrafficType_6', 'OperatingSystems_3', 'Browser_10', 'Month_Oct', 'Region_1', 'Month_Aug', 'Region_4', 'Month_Sep', 'TrafficType_4', 'TrafficType_8', 'Browser_2', 'Browser_6', 'Weekend_False', 'Month_Dec', 'Weekend_True', 'Administrative_Duration', 'Month_Jul', 'TrafficType_1', 'ExitRates', 'Administrative']\n",
      "M65 subset score (3.): 0.882894114894115\n",
      "............\n",
      "Best model (M66) with 66 features: ['PageValues', 'VisitorType_New_Visitor', 'TrafficType_3', 'TrafficType_10', 'Browser_11', 'Browser_1', 'Browser_12', 'Browser_9', 'OperatingSystems_5', 'OperatingSystems_7', 'Browser_7', 'TrafficType_11', 'Browser_3', 'Month_Feb', 'OperatingSystems_8', 'TrafficType_5', 'Region_8', 'TrafficType_12', 'TrafficType_16', 'Browser_8', 'TrafficType_14', 'TrafficType_17', 'TrafficType_18', 'TrafficType_7', 'Region_2', 'Browser_13', 'TrafficType_9', 'VisitorType_Other', 'OperatingSystems_6', 'Region_6', 'Region_3', 'Region_5', 'VisitorType_Returning_Visitor', 'Browser_4', 'Month_June', 'TrafficType_15', 'TrafficType_20', 'TrafficType_19', 'Region_7', 'OperatingSystems_1', 'OperatingSystems_4', 'Browser_5', 'Region_9', 'BounceRates', 'OperatingSystems_2', 'TrafficType_6', 'OperatingSystems_3', 'Browser_10', 'Month_Oct', 'Region_1', 'Month_Aug', 'Region_4', 'Month_Sep', 'TrafficType_4', 'TrafficType_8', 'Browser_2', 'Browser_6', 'Weekend_False', 'Month_Dec', 'Weekend_True', 'Administrative_Duration', 'Month_Jul', 'TrafficType_1', 'ExitRates', 'Administrative', 'ProductRelated_Duration']\n",
      "M66 subset score (3.): 0.8831102141102141\n"
     ]
    },
    {
     "name": "stdout",
     "output_type": "stream",
     "text": [
      "............\n",
      "Best model (M67) with 67 features: ['PageValues', 'VisitorType_New_Visitor', 'TrafficType_3', 'TrafficType_10', 'Browser_11', 'Browser_1', 'Browser_12', 'Browser_9', 'OperatingSystems_5', 'OperatingSystems_7', 'Browser_7', 'TrafficType_11', 'Browser_3', 'Month_Feb', 'OperatingSystems_8', 'TrafficType_5', 'Region_8', 'TrafficType_12', 'TrafficType_16', 'Browser_8', 'TrafficType_14', 'TrafficType_17', 'TrafficType_18', 'TrafficType_7', 'Region_2', 'Browser_13', 'TrafficType_9', 'VisitorType_Other', 'OperatingSystems_6', 'Region_6', 'Region_3', 'Region_5', 'VisitorType_Returning_Visitor', 'Browser_4', 'Month_June', 'TrafficType_15', 'TrafficType_20', 'TrafficType_19', 'Region_7', 'OperatingSystems_1', 'OperatingSystems_4', 'Browser_5', 'Region_9', 'BounceRates', 'OperatingSystems_2', 'TrafficType_6', 'OperatingSystems_3', 'Browser_10', 'Month_Oct', 'Region_1', 'Month_Aug', 'Region_4', 'Month_Sep', 'TrafficType_4', 'TrafficType_8', 'Browser_2', 'Browser_6', 'Weekend_False', 'Month_Dec', 'Weekend_True', 'Administrative_Duration', 'Month_Jul', 'TrafficType_1', 'ExitRates', 'Administrative', 'ProductRelated_Duration', 'ProductRelated']\n",
      "M67 subset score (3.): 0.8831098631098631\n",
      "............\n",
      "Best model (M68) with 68 features: ['PageValues', 'VisitorType_New_Visitor', 'TrafficType_3', 'TrafficType_10', 'Browser_11', 'Browser_1', 'Browser_12', 'Browser_9', 'OperatingSystems_5', 'OperatingSystems_7', 'Browser_7', 'TrafficType_11', 'Browser_3', 'Month_Feb', 'OperatingSystems_8', 'TrafficType_5', 'Region_8', 'TrafficType_12', 'TrafficType_16', 'Browser_8', 'TrafficType_14', 'TrafficType_17', 'TrafficType_18', 'TrafficType_7', 'Region_2', 'Browser_13', 'TrafficType_9', 'VisitorType_Other', 'OperatingSystems_6', 'Region_6', 'Region_3', 'Region_5', 'VisitorType_Returning_Visitor', 'Browser_4', 'Month_June', 'TrafficType_15', 'TrafficType_20', 'TrafficType_19', 'Region_7', 'OperatingSystems_1', 'OperatingSystems_4', 'Browser_5', 'Region_9', 'BounceRates', 'OperatingSystems_2', 'TrafficType_6', 'OperatingSystems_3', 'Browser_10', 'Month_Oct', 'Region_1', 'Month_Aug', 'Region_4', 'Month_Sep', 'TrafficType_4', 'TrafficType_8', 'Browser_2', 'Browser_6', 'Weekend_False', 'Month_Dec', 'Weekend_True', 'Administrative_Duration', 'Month_Jul', 'TrafficType_1', 'ExitRates', 'Administrative', 'ProductRelated_Duration', 'ProductRelated', 'Informational_Duration']\n",
      "M68 subset score (3.): 0.8832179712179713\n",
      "............\n",
      "Best model (M69) with 69 features: ['PageValues', 'VisitorType_New_Visitor', 'TrafficType_3', 'TrafficType_10', 'Browser_11', 'Browser_1', 'Browser_12', 'Browser_9', 'OperatingSystems_5', 'OperatingSystems_7', 'Browser_7', 'TrafficType_11', 'Browser_3', 'Month_Feb', 'OperatingSystems_8', 'TrafficType_5', 'Region_8', 'TrafficType_12', 'TrafficType_16', 'Browser_8', 'TrafficType_14', 'TrafficType_17', 'TrafficType_18', 'TrafficType_7', 'Region_2', 'Browser_13', 'TrafficType_9', 'VisitorType_Other', 'OperatingSystems_6', 'Region_6', 'Region_3', 'Region_5', 'VisitorType_Returning_Visitor', 'Browser_4', 'Month_June', 'TrafficType_15', 'TrafficType_20', 'TrafficType_19', 'Region_7', 'OperatingSystems_1', 'OperatingSystems_4', 'Browser_5', 'Region_9', 'BounceRates', 'OperatingSystems_2', 'TrafficType_6', 'OperatingSystems_3', 'Browser_10', 'Month_Oct', 'Region_1', 'Month_Aug', 'Region_4', 'Month_Sep', 'TrafficType_4', 'TrafficType_8', 'Browser_2', 'Browser_6', 'Weekend_False', 'Month_Dec', 'Weekend_True', 'Administrative_Duration', 'Month_Jul', 'TrafficType_1', 'ExitRates', 'Administrative', 'ProductRelated_Duration', 'ProductRelated', 'Informational_Duration', 'SpecialDay']\n",
      "M69 subset score (3.): 0.8831103311103311\n",
      "............\n",
      "Best model (M70) with 70 features: ['PageValues', 'VisitorType_New_Visitor', 'TrafficType_3', 'TrafficType_10', 'Browser_11', 'Browser_1', 'Browser_12', 'Browser_9', 'OperatingSystems_5', 'OperatingSystems_7', 'Browser_7', 'TrafficType_11', 'Browser_3', 'Month_Feb', 'OperatingSystems_8', 'TrafficType_5', 'Region_8', 'TrafficType_12', 'TrafficType_16', 'Browser_8', 'TrafficType_14', 'TrafficType_17', 'TrafficType_18', 'TrafficType_7', 'Region_2', 'Browser_13', 'TrafficType_9', 'VisitorType_Other', 'OperatingSystems_6', 'Region_6', 'Region_3', 'Region_5', 'VisitorType_Returning_Visitor', 'Browser_4', 'Month_June', 'TrafficType_15', 'TrafficType_20', 'TrafficType_19', 'Region_7', 'OperatingSystems_1', 'OperatingSystems_4', 'Browser_5', 'Region_9', 'BounceRates', 'OperatingSystems_2', 'TrafficType_6', 'OperatingSystems_3', 'Browser_10', 'Month_Oct', 'Region_1', 'Month_Aug', 'Region_4', 'Month_Sep', 'TrafficType_4', 'TrafficType_8', 'Browser_2', 'Browser_6', 'Weekend_False', 'Month_Dec', 'Weekend_True', 'Administrative_Duration', 'Month_Jul', 'TrafficType_1', 'ExitRates', 'Administrative', 'ProductRelated_Duration', 'ProductRelated', 'Informational_Duration', 'SpecialDay', 'Informational']\n",
      "M70 subset score (3.): 0.8831103311103311\n",
      "............\n",
      "Best model (M71) with 71 features: ['PageValues', 'VisitorType_New_Visitor', 'TrafficType_3', 'TrafficType_10', 'Browser_11', 'Browser_1', 'Browser_12', 'Browser_9', 'OperatingSystems_5', 'OperatingSystems_7', 'Browser_7', 'TrafficType_11', 'Browser_3', 'Month_Feb', 'OperatingSystems_8', 'TrafficType_5', 'Region_8', 'TrafficType_12', 'TrafficType_16', 'Browser_8', 'TrafficType_14', 'TrafficType_17', 'TrafficType_18', 'TrafficType_7', 'Region_2', 'Browser_13', 'TrafficType_9', 'VisitorType_Other', 'OperatingSystems_6', 'Region_6', 'Region_3', 'Region_5', 'VisitorType_Returning_Visitor', 'Browser_4', 'Month_June', 'TrafficType_15', 'TrafficType_20', 'TrafficType_19', 'Region_7', 'OperatingSystems_1', 'OperatingSystems_4', 'Browser_5', 'Region_9', 'BounceRates', 'OperatingSystems_2', 'TrafficType_6', 'OperatingSystems_3', 'Browser_10', 'Month_Oct', 'Region_1', 'Month_Aug', 'Region_4', 'Month_Sep', 'TrafficType_4', 'TrafficType_8', 'Browser_2', 'Browser_6', 'Weekend_False', 'Month_Dec', 'Weekend_True', 'Administrative_Duration', 'Month_Jul', 'TrafficType_1', 'ExitRates', 'Administrative', 'ProductRelated_Duration', 'ProductRelated', 'Informational_Duration', 'SpecialDay', 'Informational', 'Month_May']\n",
      "M71 subset score (3.): 0.8821367731367731\n",
      "............\n",
      "Best model (M72) with 72 features: ['PageValues', 'VisitorType_New_Visitor', 'TrafficType_3', 'TrafficType_10', 'Browser_11', 'Browser_1', 'Browser_12', 'Browser_9', 'OperatingSystems_5', 'OperatingSystems_7', 'Browser_7', 'TrafficType_11', 'Browser_3', 'Month_Feb', 'OperatingSystems_8', 'TrafficType_5', 'Region_8', 'TrafficType_12', 'TrafficType_16', 'Browser_8', 'TrafficType_14', 'TrafficType_17', 'TrafficType_18', 'TrafficType_7', 'Region_2', 'Browser_13', 'TrafficType_9', 'VisitorType_Other', 'OperatingSystems_6', 'Region_6', 'Region_3', 'Region_5', 'VisitorType_Returning_Visitor', 'Browser_4', 'Month_June', 'TrafficType_15', 'TrafficType_20', 'TrafficType_19', 'Region_7', 'OperatingSystems_1', 'OperatingSystems_4', 'Browser_5', 'Region_9', 'BounceRates', 'OperatingSystems_2', 'TrafficType_6', 'OperatingSystems_3', 'Browser_10', 'Month_Oct', 'Region_1', 'Month_Aug', 'Region_4', 'Month_Sep', 'TrafficType_4', 'TrafficType_8', 'Browser_2', 'Browser_6', 'Weekend_False', 'Month_Dec', 'Weekend_True', 'Administrative_Duration', 'Month_Jul', 'TrafficType_1', 'ExitRates', 'Administrative', 'ProductRelated_Duration', 'ProductRelated', 'Informational_Duration', 'SpecialDay', 'Informational', 'Month_May', 'TrafficType_13']\n",
      "M72 subset score (3.): 0.8824608634608635\n",
      "............\n",
      "Best model (M73) with 73 features: ['PageValues', 'VisitorType_New_Visitor', 'TrafficType_3', 'TrafficType_10', 'Browser_11', 'Browser_1', 'Browser_12', 'Browser_9', 'OperatingSystems_5', 'OperatingSystems_7', 'Browser_7', 'TrafficType_11', 'Browser_3', 'Month_Feb', 'OperatingSystems_8', 'TrafficType_5', 'Region_8', 'TrafficType_12', 'TrafficType_16', 'Browser_8', 'TrafficType_14', 'TrafficType_17', 'TrafficType_18', 'TrafficType_7', 'Region_2', 'Browser_13', 'TrafficType_9', 'VisitorType_Other', 'OperatingSystems_6', 'Region_6', 'Region_3', 'Region_5', 'VisitorType_Returning_Visitor', 'Browser_4', 'Month_June', 'TrafficType_15', 'TrafficType_20', 'TrafficType_19', 'Region_7', 'OperatingSystems_1', 'OperatingSystems_4', 'Browser_5', 'Region_9', 'BounceRates', 'OperatingSystems_2', 'TrafficType_6', 'OperatingSystems_3', 'Browser_10', 'Month_Oct', 'Region_1', 'Month_Aug', 'Region_4', 'Month_Sep', 'TrafficType_4', 'TrafficType_8', 'Browser_2', 'Browser_6', 'Weekend_False', 'Month_Dec', 'Weekend_True', 'Administrative_Duration', 'Month_Jul', 'TrafficType_1', 'ExitRates', 'Administrative', 'ProductRelated_Duration', 'ProductRelated', 'Informational_Duration', 'SpecialDay', 'Informational', 'Month_May', 'TrafficType_13', 'TrafficType_2']\n",
      "M73 subset score (3.): 0.8824608634608635\n"
     ]
    },
    {
     "name": "stdout",
     "output_type": "stream",
     "text": [
      "............\n",
      "Best model (M74) with 74 features: ['PageValues', 'VisitorType_New_Visitor', 'TrafficType_3', 'TrafficType_10', 'Browser_11', 'Browser_1', 'Browser_12', 'Browser_9', 'OperatingSystems_5', 'OperatingSystems_7', 'Browser_7', 'TrafficType_11', 'Browser_3', 'Month_Feb', 'OperatingSystems_8', 'TrafficType_5', 'Region_8', 'TrafficType_12', 'TrafficType_16', 'Browser_8', 'TrafficType_14', 'TrafficType_17', 'TrafficType_18', 'TrafficType_7', 'Region_2', 'Browser_13', 'TrafficType_9', 'VisitorType_Other', 'OperatingSystems_6', 'Region_6', 'Region_3', 'Region_5', 'VisitorType_Returning_Visitor', 'Browser_4', 'Month_June', 'TrafficType_15', 'TrafficType_20', 'TrafficType_19', 'Region_7', 'OperatingSystems_1', 'OperatingSystems_4', 'Browser_5', 'Region_9', 'BounceRates', 'OperatingSystems_2', 'TrafficType_6', 'OperatingSystems_3', 'Browser_10', 'Month_Oct', 'Region_1', 'Month_Aug', 'Region_4', 'Month_Sep', 'TrafficType_4', 'TrafficType_8', 'Browser_2', 'Browser_6', 'Weekend_False', 'Month_Dec', 'Weekend_True', 'Administrative_Duration', 'Month_Jul', 'TrafficType_1', 'ExitRates', 'Administrative', 'ProductRelated_Duration', 'ProductRelated', 'Informational_Duration', 'SpecialDay', 'Informational', 'Month_May', 'TrafficType_13', 'TrafficType_2', 'Month_Mar']\n",
      "M74 subset score (3.): 0.8817035217035217\n",
      "............\n",
      "Best model (M75) with 75 features: ['PageValues', 'VisitorType_New_Visitor', 'TrafficType_3', 'TrafficType_10', 'Browser_11', 'Browser_1', 'Browser_12', 'Browser_9', 'OperatingSystems_5', 'OperatingSystems_7', 'Browser_7', 'TrafficType_11', 'Browser_3', 'Month_Feb', 'OperatingSystems_8', 'TrafficType_5', 'Region_8', 'TrafficType_12', 'TrafficType_16', 'Browser_8', 'TrafficType_14', 'TrafficType_17', 'TrafficType_18', 'TrafficType_7', 'Region_2', 'Browser_13', 'TrafficType_9', 'VisitorType_Other', 'OperatingSystems_6', 'Region_6', 'Region_3', 'Region_5', 'VisitorType_Returning_Visitor', 'Browser_4', 'Month_June', 'TrafficType_15', 'TrafficType_20', 'TrafficType_19', 'Region_7', 'OperatingSystems_1', 'OperatingSystems_4', 'Browser_5', 'Region_9', 'BounceRates', 'OperatingSystems_2', 'TrafficType_6', 'OperatingSystems_3', 'Browser_10', 'Month_Oct', 'Region_1', 'Month_Aug', 'Region_4', 'Month_Sep', 'TrafficType_4', 'TrafficType_8', 'Browser_2', 'Browser_6', 'Weekend_False', 'Month_Dec', 'Weekend_True', 'Administrative_Duration', 'Month_Jul', 'TrafficType_1', 'ExitRates', 'Administrative', 'ProductRelated_Duration', 'ProductRelated', 'Informational_Duration', 'SpecialDay', 'Informational', 'Month_May', 'TrafficType_13', 'TrafficType_2', 'Month_Mar', 'Month_Nov']\n",
      "M75 subset score (3.): 0.8817035217035217\n",
      "\n",
      " Best configuration has 42 features\n",
      "Features: ['PageValues', 'VisitorType_New_Visitor', 'TrafficType_3', 'TrafficType_10', 'Browser_11', 'Browser_1', 'Browser_12', 'Browser_9', 'OperatingSystems_5', 'OperatingSystems_7', 'Browser_7', 'TrafficType_11', 'Browser_3', 'Month_Feb', 'OperatingSystems_8', 'TrafficType_5', 'Region_8', 'TrafficType_12', 'TrafficType_16', 'Browser_8', 'TrafficType_14', 'TrafficType_17', 'TrafficType_18', 'TrafficType_7', 'Region_2', 'Browser_13', 'TrafficType_9', 'VisitorType_Other', 'OperatingSystems_6', 'Region_6', 'Region_3', 'Region_5', 'VisitorType_Returning_Visitor', 'Browser_4', 'Month_June', 'TrafficType_15', 'TrafficType_20', 'TrafficType_19', 'Region_7', 'OperatingSystems_1', 'OperatingSystems_4', 'Browser_5']\n",
      "Total number of trained models: 3600\n"
     ]
    },
    {
     "data": {
      "image/png": "[encoded data removed]",
      "text/plain": [
       "<Figure size 640x480 with 1 Axes>"
      ]
     },
     "metadata": {},
     "output_type": "display_data"
    },
    {
     "data": {
      "image/png": "[encoded data removed]",
      "text/plain": [
       "<Figure size 640x480 with 1 Axes>"
      ]
     },
     "metadata": {},
     "output_type": "display_data"
    }
   ],
   "source": [
    "cv = 10\n",
    "forward_selection(X_train_scaled, y_train, X_test_scaled, y_test,\n",
    "                  get_evaluator(make_scorer(accuracy)), np.argmax, # 2.\n",
    "                  get_cv_evaluator(make_scorer(accuracy), cv), np.argmax, # 3.\n",
    "                  get_evaluator(make_scorer(accuracy)), np.argmax, # test\n",
    "                  candidates_scorer_name=\"Accuracy\",\n",
    "                  subsets_scorer_name=\"Accuracy (CV)\",\n",
    "                  verbose=True, weight_step3=cv)"
   ]
  },
  {
   "cell_type": "code",
   "execution_count": 88,
   "id": "b5e5d397",
   "metadata": {},
   "outputs": [
    {
     "data": {
      "text/plain": [
       "LogisticRegression(C=0.0001, penalty='l1', solver='liblinear')"
      ]
     },
     "execution_count": 88,
     "metadata": {},
     "output_type": "execute_result"
    },
    {
     "data": {
      "text/plain": [
       "LogisticRegression(C=0.00514949494949495, penalty='l1', solver='liblinear')"
      ]
     },
     "execution_count": 88,
     "metadata": {},
     "output_type": "execute_result"
    },
    {
     "data": {
      "text/plain": [
       "LogisticRegression(C=0.010198989898989898, penalty='l1', solver='liblinear')"
      ]
     },
     "execution_count": 88,
     "metadata": {},
     "output_type": "execute_result"
    },
    {
     "data": {
      "text/plain": [
       "LogisticRegression(C=0.015248484848484848, penalty='l1', solver='liblinear')"
      ]
     },
     "execution_count": 88,
     "metadata": {},
     "output_type": "execute_result"
    },
    {
     "data": {
      "text/plain": [
       "LogisticRegression(C=0.020297979797979798, penalty='l1', solver='liblinear')"
      ]
     },
     "execution_count": 88,
     "metadata": {},
     "output_type": "execute_result"
    },
    {
     "data": {
      "text/plain": [
       "LogisticRegression(C=0.025347474747474747, penalty='l1', solver='liblinear')"
      ]
     },
     "execution_count": 88,
     "metadata": {},
     "output_type": "execute_result"
    },
    {
     "data": {
      "text/plain": [
       "LogisticRegression(C=0.030396969696969697, penalty='l1', solver='liblinear')"
      ]
     },
     "execution_count": 88,
     "metadata": {},
     "output_type": "execute_result"
    },
    {
     "data": {
      "text/plain": [
       "LogisticRegression(C=0.03544646464646465, penalty='l1', solver='liblinear')"
      ]
     },
     "execution_count": 88,
     "metadata": {},
     "output_type": "execute_result"
    },
    {
     "data": {
      "text/plain": [
       "LogisticRegression(C=0.0404959595959596, penalty='l1', solver='liblinear')"
      ]
     },
     "execution_count": 88,
     "metadata": {},
     "output_type": "execute_result"
    },
    {
     "data": {
      "text/plain": [
       "LogisticRegression(C=0.04554545454545455, penalty='l1', solver='liblinear')"
      ]
     },
     "execution_count": 88,
     "metadata": {},
     "output_type": "execute_result"
    },
    {
     "data": {
      "text/plain": [
       "LogisticRegression(C=0.0505949494949495, penalty='l1', solver='liblinear')"
      ]
     },
     "execution_count": 88,
     "metadata": {},
     "output_type": "execute_result"
    },
    {
     "data": {
      "text/plain": [
       "LogisticRegression(C=0.05564444444444445, penalty='l1', solver='liblinear')"
      ]
     },
     "execution_count": 88,
     "metadata": {},
     "output_type": "execute_result"
    },
    {
     "data": {
      "text/plain": [
       "LogisticRegression(C=0.0606939393939394, penalty='l1', solver='liblinear')"
      ]
     },
     "execution_count": 88,
     "metadata": {},
     "output_type": "execute_result"
    },
    {
     "data": {
      "text/plain": [
       "LogisticRegression(C=0.06574343434343434, penalty='l1', solver='liblinear')"
      ]
     },
     "execution_count": 88,
     "metadata": {},
     "output_type": "execute_result"
    },
    {
     "data": {
      "text/plain": [
       "LogisticRegression(C=0.0707929292929293, penalty='l1', solver='liblinear')"
      ]
     },
     "execution_count": 88,
     "metadata": {},
     "output_type": "execute_result"
    },
    {
     "data": {
      "text/plain": [
       "LogisticRegression(C=0.07584242424242425, penalty='l1', solver='liblinear')"
      ]
     },
     "execution_count": 88,
     "metadata": {},
     "output_type": "execute_result"
    },
    {
     "data": {
      "text/plain": [
       "LogisticRegression(C=0.0808919191919192, penalty='l1', solver='liblinear')"
      ]
     },
     "execution_count": 88,
     "metadata": {},
     "output_type": "execute_result"
    },
    {
     "data": {
      "text/plain": [
       "LogisticRegression(C=0.08594141414141414, penalty='l1', solver='liblinear')"
      ]
     },
     "execution_count": 88,
     "metadata": {},
     "output_type": "execute_result"
    },
    {
     "data": {
      "text/plain": [
       "LogisticRegression(C=0.0909909090909091, penalty='l1', solver='liblinear')"
      ]
     },
     "execution_count": 88,
     "metadata": {},
     "output_type": "execute_result"
    },
    {
     "data": {
      "text/plain": [
       "LogisticRegression(C=0.09604040404040405, penalty='l1', solver='liblinear')"
      ]
     },
     "execution_count": 88,
     "metadata": {},
     "output_type": "execute_result"
    },
    {
     "data": {
      "text/plain": [
       "LogisticRegression(C=0.101089898989899, penalty='l1', solver='liblinear')"
      ]
     },
     "execution_count": 88,
     "metadata": {},
     "output_type": "execute_result"
    },
    {
     "data": {
      "text/plain": [
       "LogisticRegression(C=0.10613939393939394, penalty='l1', solver='liblinear')"
      ]
     },
     "execution_count": 88,
     "metadata": {},
     "output_type": "execute_result"
    },
    {
     "data": {
      "text/plain": [
       "LogisticRegression(C=0.11118888888888889, penalty='l1', solver='liblinear')"
      ]
     },
     "execution_count": 88,
     "metadata": {},
     "output_type": "execute_result"
    },
    {
     "data": {
      "text/plain": [
       "LogisticRegression(C=0.11623838383838385, penalty='l1', solver='liblinear')"
      ]
     },
     "execution_count": 88,
     "metadata": {},
     "output_type": "execute_result"
    },
    {
     "data": {
      "text/plain": [
       "LogisticRegression(C=0.12128787878787879, penalty='l1', solver='liblinear')"
      ]
     },
     "execution_count": 88,
     "metadata": {},
     "output_type": "execute_result"
    },
    {
     "data": {
      "text/plain": [
       "LogisticRegression(C=0.12633737373737372, penalty='l1', solver='liblinear')"
      ]
     },
     "execution_count": 88,
     "metadata": {},
     "output_type": "execute_result"
    },
    {
     "data": {
      "text/plain": [
       "LogisticRegression(C=0.13138686868686866, penalty='l1', solver='liblinear')"
      ]
     },
     "execution_count": 88,
     "metadata": {},
     "output_type": "execute_result"
    },
    {
     "data": {
      "text/plain": [
       "LogisticRegression(C=0.13643636363636363, penalty='l1', solver='liblinear')"
      ]
     },
     "execution_count": 88,
     "metadata": {},
     "output_type": "execute_result"
    },
    {
     "data": {
      "text/plain": [
       "LogisticRegression(C=0.14148585858585858, penalty='l1', solver='liblinear')"
      ]
     },
     "execution_count": 88,
     "metadata": {},
     "output_type": "execute_result"
    },
    {
     "data": {
      "text/plain": [
       "LogisticRegression(C=0.14653535353535352, penalty='l1', solver='liblinear')"
      ]
     },
     "execution_count": 88,
     "metadata": {},
     "output_type": "execute_result"
    },
    {
     "data": {
      "text/plain": [
       "LogisticRegression(C=0.1515848484848485, penalty='l1', solver='liblinear')"
      ]
     },
     "execution_count": 88,
     "metadata": {},
     "output_type": "execute_result"
    },
    {
     "data": {
      "text/plain": [
       "LogisticRegression(C=0.15663434343434343, penalty='l1', solver='liblinear')"
      ]
     },
     "execution_count": 88,
     "metadata": {},
     "output_type": "execute_result"
    },
    {
     "data": {
      "text/plain": [
       "LogisticRegression(C=0.16168383838383837, penalty='l1', solver='liblinear')"
      ]
     },
     "execution_count": 88,
     "metadata": {},
     "output_type": "execute_result"
    },
    {
     "data": {
      "text/plain": [
       "LogisticRegression(C=0.16673333333333332, penalty='l1', solver='liblinear')"
      ]
     },
     "execution_count": 88,
     "metadata": {},
     "output_type": "execute_result"
    },
    {
     "data": {
      "text/plain": [
       "LogisticRegression(C=0.17178282828282826, penalty='l1', solver='liblinear')"
      ]
     },
     "execution_count": 88,
     "metadata": {},
     "output_type": "execute_result"
    },
    {
     "data": {
      "text/plain": [
       "LogisticRegression(C=0.17683232323232323, penalty='l1', solver='liblinear')"
      ]
     },
     "execution_count": 88,
     "metadata": {},
     "output_type": "execute_result"
    },
    {
     "data": {
      "text/plain": [
       "LogisticRegression(C=0.18188181818181817, penalty='l1', solver='liblinear')"
      ]
     },
     "execution_count": 88,
     "metadata": {},
     "output_type": "execute_result"
    },
    {
     "data": {
      "text/plain": [
       "LogisticRegression(C=0.18693131313131311, penalty='l1', solver='liblinear')"
      ]
     },
     "execution_count": 88,
     "metadata": {},
     "output_type": "execute_result"
    },
    {
     "data": {
      "text/plain": [
       "LogisticRegression(C=0.19198080808080809, penalty='l1', solver='liblinear')"
      ]
     },
     "execution_count": 88,
     "metadata": {},
     "output_type": "execute_result"
    },
    {
     "data": {
      "text/plain": [
       "LogisticRegression(C=0.19703030303030303, penalty='l1', solver='liblinear')"
      ]
     },
     "execution_count": 88,
     "metadata": {},
     "output_type": "execute_result"
    },
    {
     "data": {
      "text/plain": [
       "LogisticRegression(C=0.20207979797979797, penalty='l1', solver='liblinear')"
      ]
     },
     "execution_count": 88,
     "metadata": {},
     "output_type": "execute_result"
    },
    {
     "data": {
      "text/plain": [
       "LogisticRegression(C=0.2071292929292929, penalty='l1', solver='liblinear')"
      ]
     },
     "execution_count": 88,
     "metadata": {},
     "output_type": "execute_result"
    },
    {
     "data": {
      "text/plain": [
       "LogisticRegression(C=0.21217878787878786, penalty='l1', solver='liblinear')"
      ]
     },
     "execution_count": 88,
     "metadata": {},
     "output_type": "execute_result"
    },
    {
     "data": {
      "text/plain": [
       "LogisticRegression(C=0.21722828282828283, penalty='l1', solver='liblinear')"
      ]
     },
     "execution_count": 88,
     "metadata": {},
     "output_type": "execute_result"
    },
    {
     "data": {
      "text/plain": [
       "LogisticRegression(C=0.22227777777777777, penalty='l1', solver='liblinear')"
      ]
     },
     "execution_count": 88,
     "metadata": {},
     "output_type": "execute_result"
    },
    {
     "data": {
      "text/plain": [
       "LogisticRegression(C=0.2273272727272727, penalty='l1', solver='liblinear')"
      ]
     },
     "execution_count": 88,
     "metadata": {},
     "output_type": "execute_result"
    },
    {
     "data": {
      "text/plain": [
       "LogisticRegression(C=0.23237676767676768, penalty='l1', solver='liblinear')"
      ]
     },
     "execution_count": 88,
     "metadata": {},
     "output_type": "execute_result"
    },
    {
     "data": {
      "text/plain": [
       "LogisticRegression(C=0.23742626262626262, penalty='l1', solver='liblinear')"
      ]
     },
     "execution_count": 88,
     "metadata": {},
     "output_type": "execute_result"
    },
    {
     "data": {
      "text/plain": [
       "LogisticRegression(C=0.24247575757575757, penalty='l1', solver='liblinear')"
      ]
     },
     "execution_count": 88,
     "metadata": {},
     "output_type": "execute_result"
    },
    {
     "data": {
      "text/plain": [
       "LogisticRegression(C=0.2475252525252525, penalty='l1', solver='liblinear')"
      ]
     },
     "execution_count": 88,
     "metadata": {},
     "output_type": "execute_result"
    },
    {
     "data": {
      "text/plain": [
       "LogisticRegression(C=0.25257474747474745, penalty='l1', solver='liblinear')"
      ]
     },
     "execution_count": 88,
     "metadata": {},
     "output_type": "execute_result"
    },
    {
     "data": {
      "text/plain": [
       "LogisticRegression(C=0.2576242424242424, penalty='l1', solver='liblinear')"
      ]
     },
     "execution_count": 88,
     "metadata": {},
     "output_type": "execute_result"
    },
    {
     "data": {
      "text/plain": [
       "LogisticRegression(C=0.26267373737373734, penalty='l1', solver='liblinear')"
      ]
     },
     "execution_count": 88,
     "metadata": {},
     "output_type": "execute_result"
    },
    {
     "data": {
      "text/plain": [
       "LogisticRegression(C=0.2677232323232323, penalty='l1', solver='liblinear')"
      ]
     },
     "execution_count": 88,
     "metadata": {},
     "output_type": "execute_result"
    },
    {
     "data": {
      "text/plain": [
       "LogisticRegression(C=0.2727727272727273, penalty='l1', solver='liblinear')"
      ]
     },
     "execution_count": 88,
     "metadata": {},
     "output_type": "execute_result"
    },
    {
     "data": {
      "text/plain": [
       "LogisticRegression(C=0.2778222222222222, penalty='l1', solver='liblinear')"
      ]
     },
     "execution_count": 88,
     "metadata": {},
     "output_type": "execute_result"
    },
    {
     "data": {
      "text/plain": [
       "LogisticRegression(C=0.28287171717171716, penalty='l1', solver='liblinear')"
      ]
     },
     "execution_count": 88,
     "metadata": {},
     "output_type": "execute_result"
    },
    {
     "data": {
      "text/plain": [
       "LogisticRegression(C=0.28792121212121213, penalty='l1', solver='liblinear')"
      ]
     },
     "execution_count": 88,
     "metadata": {},
     "output_type": "execute_result"
    },
    {
     "data": {
      "text/plain": [
       "LogisticRegression(C=0.29297070707070705, penalty='l1', solver='liblinear')"
      ]
     },
     "execution_count": 88,
     "metadata": {},
     "output_type": "execute_result"
    },
    {
     "data": {
      "text/plain": [
       "LogisticRegression(C=0.298020202020202, penalty='l1', solver='liblinear')"
      ]
     },
     "execution_count": 88,
     "metadata": {},
     "output_type": "execute_result"
    },
    {
     "data": {
      "text/plain": [
       "LogisticRegression(C=0.303069696969697, penalty='l1', solver='liblinear')"
      ]
     },
     "execution_count": 88,
     "metadata": {},
     "output_type": "execute_result"
    },
    {
     "data": {
      "text/plain": [
       "LogisticRegression(C=0.3081191919191919, penalty='l1', solver='liblinear')"
      ]
     },
     "execution_count": 88,
     "metadata": {},
     "output_type": "execute_result"
    },
    {
     "data": {
      "text/plain": [
       "LogisticRegression(C=0.3131686868686869, penalty='l1', solver='liblinear')"
      ]
     },
     "execution_count": 88,
     "metadata": {},
     "output_type": "execute_result"
    },
    {
     "data": {
      "text/plain": [
       "LogisticRegression(C=0.3182181818181818, penalty='l1', solver='liblinear')"
      ]
     },
     "execution_count": 88,
     "metadata": {},
     "output_type": "execute_result"
    },
    {
     "data": {
      "text/plain": [
       "LogisticRegression(C=0.32326767676767676, penalty='l1', solver='liblinear')"
      ]
     },
     "execution_count": 88,
     "metadata": {},
     "output_type": "execute_result"
    },
    {
     "data": {
      "text/plain": [
       "LogisticRegression(C=0.32831717171717173, penalty='l1', solver='liblinear')"
      ]
     },
     "execution_count": 88,
     "metadata": {},
     "output_type": "execute_result"
    },
    {
     "data": {
      "text/plain": [
       "LogisticRegression(C=0.33336666666666664, penalty='l1', solver='liblinear')"
      ]
     },
     "execution_count": 88,
     "metadata": {},
     "output_type": "execute_result"
    },
    {
     "data": {
      "text/plain": [
       "LogisticRegression(C=0.3384161616161616, penalty='l1', solver='liblinear')"
      ]
     },
     "execution_count": 88,
     "metadata": {},
     "output_type": "execute_result"
    },
    {
     "data": {
      "text/plain": [
       "LogisticRegression(C=0.34346565656565653, penalty='l1', solver='liblinear')"
      ]
     },
     "execution_count": 88,
     "metadata": {},
     "output_type": "execute_result"
    },
    {
     "data": {
      "text/plain": [
       "LogisticRegression(C=0.3485151515151515, penalty='l1', solver='liblinear')"
      ]
     },
     "execution_count": 88,
     "metadata": {},
     "output_type": "execute_result"
    },
    {
     "data": {
      "text/plain": [
       "LogisticRegression(C=0.35356464646464647, penalty='l1', solver='liblinear')"
      ]
     },
     "execution_count": 88,
     "metadata": {},
     "output_type": "execute_result"
    },
    {
     "data": {
      "text/plain": [
       "LogisticRegression(C=0.3586141414141414, penalty='l1', solver='liblinear')"
      ]
     },
     "execution_count": 88,
     "metadata": {},
     "output_type": "execute_result"
    },
    {
     "data": {
      "text/plain": [
       "LogisticRegression(C=0.36366363636363636, penalty='l1', solver='liblinear')"
      ]
     },
     "execution_count": 88,
     "metadata": {},
     "output_type": "execute_result"
    },
    {
     "data": {
      "text/plain": [
       "LogisticRegression(C=0.3687131313131313, penalty='l1', solver='liblinear')"
      ]
     },
     "execution_count": 88,
     "metadata": {},
     "output_type": "execute_result"
    },
    {
     "data": {
      "text/plain": [
       "LogisticRegression(C=0.37376262626262624, penalty='l1', solver='liblinear')"
      ]
     },
     "execution_count": 88,
     "metadata": {},
     "output_type": "execute_result"
    },
    {
     "data": {
      "text/plain": [
       "LogisticRegression(C=0.3788121212121212, penalty='l1', solver='liblinear')"
      ]
     },
     "execution_count": 88,
     "metadata": {},
     "output_type": "execute_result"
    },
    {
     "data": {
      "text/plain": [
       "LogisticRegression(C=0.3838616161616162, penalty='l1', solver='liblinear')"
      ]
     },
     "execution_count": 88,
     "metadata": {},
     "output_type": "execute_result"
    },
    {
     "data": {
      "text/plain": [
       "LogisticRegression(C=0.3889111111111111, penalty='l1', solver='liblinear')"
      ]
     },
     "execution_count": 88,
     "metadata": {},
     "output_type": "execute_result"
    },
    {
     "data": {
      "text/plain": [
       "LogisticRegression(C=0.39396060606060607, penalty='l1', solver='liblinear')"
      ]
     },
     "execution_count": 88,
     "metadata": {},
     "output_type": "execute_result"
    },
    {
     "data": {
      "text/plain": [
       "LogisticRegression(C=0.399010101010101, penalty='l1', solver='liblinear')"
      ]
     },
     "execution_count": 88,
     "metadata": {},
     "output_type": "execute_result"
    },
    {
     "data": {
      "text/plain": [
       "LogisticRegression(C=0.40405959595959595, penalty='l1', solver='liblinear')"
      ]
     },
     "execution_count": 88,
     "metadata": {},
     "output_type": "execute_result"
    },
    {
     "data": {
      "text/plain": [
       "LogisticRegression(C=0.4091090909090909, penalty='l1', solver='liblinear')"
      ]
     },
     "execution_count": 88,
     "metadata": {},
     "output_type": "execute_result"
    },
    {
     "data": {
      "text/plain": [
       "LogisticRegression(C=0.41415858585858584, penalty='l1', solver='liblinear')"
      ]
     },
     "execution_count": 88,
     "metadata": {},
     "output_type": "execute_result"
    },
    {
     "data": {
      "text/plain": [
       "LogisticRegression(C=0.4192080808080808, penalty='l1', solver='liblinear')"
      ]
     },
     "execution_count": 88,
     "metadata": {},
     "output_type": "execute_result"
    },
    {
     "data": {
      "text/plain": [
       "LogisticRegression(C=0.4242575757575757, penalty='l1', solver='liblinear')"
      ]
     },
     "execution_count": 88,
     "metadata": {},
     "output_type": "execute_result"
    },
    {
     "data": {
      "text/plain": [
       "LogisticRegression(C=0.4293070707070707, penalty='l1', solver='liblinear')"
      ]
     },
     "execution_count": 88,
     "metadata": {},
     "output_type": "execute_result"
    },
    {
     "data": {
      "text/plain": [
       "LogisticRegression(C=0.43435656565656566, penalty='l1', solver='liblinear')"
      ]
     },
     "execution_count": 88,
     "metadata": {},
     "output_type": "execute_result"
    },
    {
     "data": {
      "text/plain": [
       "LogisticRegression(C=0.4394060606060606, penalty='l1', solver='liblinear')"
      ]
     },
     "execution_count": 88,
     "metadata": {},
     "output_type": "execute_result"
    },
    {
     "data": {
      "text/plain": [
       "LogisticRegression(C=0.44445555555555555, penalty='l1', solver='liblinear')"
      ]
     },
     "execution_count": 88,
     "metadata": {},
     "output_type": "execute_result"
    },
    {
     "data": {
      "text/plain": [
       "LogisticRegression(C=0.4495050505050505, penalty='l1', solver='liblinear')"
      ]
     },
     "execution_count": 88,
     "metadata": {},
     "output_type": "execute_result"
    },
    {
     "data": {
      "text/plain": [
       "LogisticRegression(C=0.45455454545454543, penalty='l1', solver='liblinear')"
      ]
     },
     "execution_count": 88,
     "metadata": {},
     "output_type": "execute_result"
    },
    {
     "data": {
      "text/plain": [
       "LogisticRegression(C=0.4596040404040404, penalty='l1', solver='liblinear')"
      ]
     },
     "execution_count": 88,
     "metadata": {},
     "output_type": "execute_result"
    },
    {
     "data": {
      "text/plain": [
       "LogisticRegression(C=0.4646535353535354, penalty='l1', solver='liblinear')"
      ]
     },
     "execution_count": 88,
     "metadata": {},
     "output_type": "execute_result"
    },
    {
     "data": {
      "text/plain": [
       "LogisticRegression(C=0.4697030303030303, penalty='l1', solver='liblinear')"
      ]
     },
     "execution_count": 88,
     "metadata": {},
     "output_type": "execute_result"
    },
    {
     "data": {
      "text/plain": [
       "LogisticRegression(C=0.47475252525252526, penalty='l1', solver='liblinear')"
      ]
     },
     "execution_count": 88,
     "metadata": {},
     "output_type": "execute_result"
    },
    {
     "data": {
      "text/plain": [
       "LogisticRegression(C=0.4798020202020202, penalty='l1', solver='liblinear')"
      ]
     },
     "execution_count": 88,
     "metadata": {},
     "output_type": "execute_result"
    },
    {
     "data": {
      "text/plain": [
       "LogisticRegression(C=0.48485151515151514, penalty='l1', solver='liblinear')"
      ]
     },
     "execution_count": 88,
     "metadata": {},
     "output_type": "execute_result"
    },
    {
     "data": {
      "text/plain": [
       "LogisticRegression(C=0.4899010101010101, penalty='l1', solver='liblinear')"
      ]
     },
     "execution_count": 88,
     "metadata": {},
     "output_type": "execute_result"
    },
    {
     "data": {
      "text/plain": [
       "LogisticRegression(C=0.49495050505050503, penalty='l1', solver='liblinear')"
      ]
     },
     "execution_count": 88,
     "metadata": {},
     "output_type": "execute_result"
    },
    {
     "data": {
      "text/plain": [
       "LogisticRegression(C=0.5, penalty='l1', solver='liblinear')"
      ]
     },
     "execution_count": 88,
     "metadata": {},
     "output_type": "execute_result"
    }
   ],
   "source": [
    "C_vals = np.linspace(1e-4, 0.5, 100)\n",
    "betas = []\n",
    "\n",
    "from sklearn import preprocessing\n",
    "X_std = preprocessing.scale(X_train_scaled)\n",
    "\n",
    "for C in C_vals:\n",
    "    model = LogisticRegression(solver='liblinear', penalty='l1', C=C)\n",
    "    model.fit(X_std, y_train)\n",
    "    beta = model.coef_.reshape(-1)\n",
    "    #beta = (beta - beta.min()) / beta.ptp()\n",
    "    betas.append(beta)\n",
    "betas = np.stack(betas, axis=1)  # [Nfeat, NCvals]\n",
    "\n"
   ]
  },
  {
   "cell_type": "code",
   "execution_count": 61,
   "id": "c5674e0b",
   "metadata": {},
   "outputs": [
    {
     "data": {
      "text/plain": [
       "[<matplotlib.lines.Line2D at 0x251da667130>]"
      ]
     },
     "execution_count": 61,
     "metadata": {},
     "output_type": "execute_result"
    },
    {
     "data": {
      "text/plain": [
       "[<matplotlib.lines.Line2D at 0x251da6674c0>]"
      ]
     },
     "execution_count": 61,
     "metadata": {},
     "output_type": "execute_result"
    },
    {
     "data": {
      "text/plain": [
       "[<matplotlib.lines.Line2D at 0x251da667760>]"
      ]
     },
     "execution_count": 61,
     "metadata": {},
     "output_type": "execute_result"
    },
    {
     "data": {
      "text/plain": [
       "[<matplotlib.lines.Line2D at 0x251da667a30>]"
      ]
     },
     "execution_count": 61,
     "metadata": {},
     "output_type": "execute_result"
    },
    {
     "data": {
      "text/plain": [
       "[<matplotlib.lines.Line2D at 0x251da667d30>]"
      ]
     },
     "execution_count": 61,
     "metadata": {},
     "output_type": "execute_result"
    },
    {
     "data": {
      "text/plain": [
       "[<matplotlib.lines.Line2D at 0x251da671040>]"
      ]
     },
     "execution_count": 61,
     "metadata": {},
     "output_type": "execute_result"
    },
    {
     "data": {
      "text/plain": [
       "[<matplotlib.lines.Line2D at 0x251da6712e0>]"
      ]
     },
     "execution_count": 61,
     "metadata": {},
     "output_type": "execute_result"
    },
    {
     "data": {
      "text/plain": [
       "[<matplotlib.lines.Line2D at 0x251da6715b0>]"
      ]
     },
     "execution_count": 61,
     "metadata": {},
     "output_type": "execute_result"
    },
    {
     "data": {
      "text/plain": [
       "[<matplotlib.lines.Line2D at 0x251da6718b0>]"
      ]
     },
     "execution_count": 61,
     "metadata": {},
     "output_type": "execute_result"
    },
    {
     "data": {
      "text/plain": [
       "[<matplotlib.lines.Line2D at 0x251da671b50>]"
      ]
     },
     "execution_count": 61,
     "metadata": {},
     "output_type": "execute_result"
    },
    {
     "data": {
      "text/plain": [
       "[<matplotlib.lines.Line2D at 0x251da667160>]"
      ]
     },
     "execution_count": 61,
     "metadata": {},
     "output_type": "execute_result"
    },
    {
     "data": {
      "text/plain": [
       "[<matplotlib.lines.Line2D at 0x251da681190>]"
      ]
     },
     "execution_count": 61,
     "metadata": {},
     "output_type": "execute_result"
    },
    {
     "data": {
      "text/plain": [
       "[<matplotlib.lines.Line2D at 0x251da681400>]"
      ]
     },
     "execution_count": 61,
     "metadata": {},
     "output_type": "execute_result"
    },
    {
     "data": {
      "text/plain": [
       "[<matplotlib.lines.Line2D at 0x251da681700>]"
      ]
     },
     "execution_count": 61,
     "metadata": {},
     "output_type": "execute_result"
    },
    {
     "data": {
      "text/plain": [
       "[<matplotlib.lines.Line2D at 0x251da681940>]"
      ]
     },
     "execution_count": 61,
     "metadata": {},
     "output_type": "execute_result"
    },
    {
     "data": {
      "text/plain": [
       "[<matplotlib.lines.Line2D at 0x251da681cd0>]"
      ]
     },
     "execution_count": 61,
     "metadata": {},
     "output_type": "execute_result"
    },
    {
     "data": {
      "text/plain": [
       "[<matplotlib.lines.Line2D at 0x251da681fa0>]"
      ]
     },
     "execution_count": 61,
     "metadata": {},
     "output_type": "execute_result"
    },
    {
     "data": {
      "text/plain": [
       "[<matplotlib.lines.Line2D at 0x251da68c220>]"
      ]
     },
     "execution_count": 61,
     "metadata": {},
     "output_type": "execute_result"
    },
    {
     "data": {
      "text/plain": [
       "[<matplotlib.lines.Line2D at 0x251da68c5e0>]"
      ]
     },
     "execution_count": 61,
     "metadata": {},
     "output_type": "execute_result"
    },
    {
     "data": {
      "text/plain": [
       "[<matplotlib.lines.Line2D at 0x251da68c7c0>]"
      ]
     },
     "execution_count": 61,
     "metadata": {},
     "output_type": "execute_result"
    },
    {
     "data": {
      "text/plain": [
       "[<matplotlib.lines.Line2D at 0x251da68caf0>]"
      ]
     },
     "execution_count": 61,
     "metadata": {},
     "output_type": "execute_result"
    },
    {
     "data": {
      "text/plain": [
       "[<matplotlib.lines.Line2D at 0x251da68ce50>]"
      ]
     },
     "execution_count": 61,
     "metadata": {},
     "output_type": "execute_result"
    },
    {
     "data": {
      "text/plain": [
       "[<matplotlib.lines.Line2D at 0x251da69a070>]"
      ]
     },
     "execution_count": 61,
     "metadata": {},
     "output_type": "execute_result"
    },
    {
     "data": {
      "text/plain": [
       "[<matplotlib.lines.Line2D at 0x251da69a3a0>]"
      ]
     },
     "execution_count": 61,
     "metadata": {},
     "output_type": "execute_result"
    },
    {
     "data": {
      "text/plain": [
       "[<matplotlib.lines.Line2D at 0x251da69a670>]"
      ]
     },
     "execution_count": 61,
     "metadata": {},
     "output_type": "execute_result"
    },
    {
     "data": {
      "text/plain": [
       "[<matplotlib.lines.Line2D at 0x251da69a9d0>]"
      ]
     },
     "execution_count": 61,
     "metadata": {},
     "output_type": "execute_result"
    },
    {
     "data": {
      "text/plain": [
       "[<matplotlib.lines.Line2D at 0x251da69abb0>]"
      ]
     },
     "execution_count": 61,
     "metadata": {},
     "output_type": "execute_result"
    },
    {
     "data": {
      "text/plain": [
       "[<matplotlib.lines.Line2D at 0x251da69aee0>]"
      ]
     },
     "execution_count": 61,
     "metadata": {},
     "output_type": "execute_result"
    },
    {
     "data": {
      "text/plain": [
       "[<matplotlib.lines.Line2D at 0x251d9f531f0>]"
      ]
     },
     "execution_count": 61,
     "metadata": {},
     "output_type": "execute_result"
    },
    {
     "data": {
      "text/plain": [
       "[<matplotlib.lines.Line2D at 0x251d9f534c0>]"
      ]
     },
     "execution_count": 61,
     "metadata": {},
     "output_type": "execute_result"
    },
    {
     "data": {
      "text/plain": [
       "[<matplotlib.lines.Line2D at 0x251d9f537c0>]"
      ]
     },
     "execution_count": 61,
     "metadata": {},
     "output_type": "execute_result"
    },
    {
     "data": {
      "text/plain": [
       "[<matplotlib.lines.Line2D at 0x251d9f53a60>]"
      ]
     },
     "execution_count": 61,
     "metadata": {},
     "output_type": "execute_result"
    },
    {
     "data": {
      "text/plain": [
       "[<matplotlib.lines.Line2D at 0x251d9f53d30>]"
      ]
     },
     "execution_count": 61,
     "metadata": {},
     "output_type": "execute_result"
    },
    {
     "data": {
      "text/plain": [
       "[<matplotlib.lines.Line2D at 0x251d9f5d040>]"
      ]
     },
     "execution_count": 61,
     "metadata": {},
     "output_type": "execute_result"
    },
    {
     "data": {
      "text/plain": [
       "[<matplotlib.lines.Line2D at 0x251d9f5d310>]"
      ]
     },
     "execution_count": 61,
     "metadata": {},
     "output_type": "execute_result"
    },
    {
     "data": {
      "text/plain": [
       "[<matplotlib.lines.Line2D at 0x251d9f5d5e0>]"
      ]
     },
     "execution_count": 61,
     "metadata": {},
     "output_type": "execute_result"
    },
    {
     "data": {
      "text/plain": [
       "[<matplotlib.lines.Line2D at 0x251d9f5d8b0>]"
      ]
     },
     "execution_count": 61,
     "metadata": {},
     "output_type": "execute_result"
    },
    {
     "data": {
      "text/plain": [
       "[<matplotlib.lines.Line2D at 0x251d9f5db80>]"
      ]
     },
     "execution_count": 61,
     "metadata": {},
     "output_type": "execute_result"
    },
    {
     "data": {
      "text/plain": [
       "[<matplotlib.lines.Line2D at 0x251d9f5de50>]"
      ]
     },
     "execution_count": 61,
     "metadata": {},
     "output_type": "execute_result"
    },
    {
     "data": {
      "text/plain": [
       "[<matplotlib.lines.Line2D at 0x251d9f6e160>]"
      ]
     },
     "execution_count": 61,
     "metadata": {},
     "output_type": "execute_result"
    },
    {
     "data": {
      "text/plain": [
       "[<matplotlib.lines.Line2D at 0x251d9f6e460>]"
      ]
     },
     "execution_count": 61,
     "metadata": {},
     "output_type": "execute_result"
    },
    {
     "data": {
      "text/plain": [
       "[<matplotlib.lines.Line2D at 0x251d9f6e6a0>]"
      ]
     },
     "execution_count": 61,
     "metadata": {},
     "output_type": "execute_result"
    },
    {
     "data": {
      "text/plain": [
       "[<matplotlib.lines.Line2D at 0x251d9f6ea30>]"
      ]
     },
     "execution_count": 61,
     "metadata": {},
     "output_type": "execute_result"
    },
    {
     "data": {
      "text/plain": [
       "[<matplotlib.lines.Line2D at 0x251d9e5eb50>]"
      ]
     },
     "execution_count": 61,
     "metadata": {},
     "output_type": "execute_result"
    },
    {
     "data": {
      "text/plain": [
       "[<matplotlib.lines.Line2D at 0x251d9564970>]"
      ]
     },
     "execution_count": 61,
     "metadata": {},
     "output_type": "execute_result"
    },
    {
     "data": {
      "text/plain": [
       "[<matplotlib.lines.Line2D at 0x251d9f6ed60>]"
      ]
     },
     "execution_count": 61,
     "metadata": {},
     "output_type": "execute_result"
    },
    {
     "data": {
      "text/plain": [
       "[<matplotlib.lines.Line2D at 0x251d9f7c070>]"
      ]
     },
     "execution_count": 61,
     "metadata": {},
     "output_type": "execute_result"
    },
    {
     "data": {
      "text/plain": [
       "[<matplotlib.lines.Line2D at 0x251d9f7c340>]"
      ]
     },
     "execution_count": 61,
     "metadata": {},
     "output_type": "execute_result"
    },
    {
     "data": {
      "text/plain": [
       "[<matplotlib.lines.Line2D at 0x251d9f7c640>]"
      ]
     },
     "execution_count": 61,
     "metadata": {},
     "output_type": "execute_result"
    },
    {
     "data": {
      "text/plain": [
       "[<matplotlib.lines.Line2D at 0x251d9f7c880>]"
      ]
     },
     "execution_count": 61,
     "metadata": {},
     "output_type": "execute_result"
    },
    {
     "data": {
      "text/plain": [
       "[<matplotlib.lines.Line2D at 0x251d9f7cbb0>]"
      ]
     },
     "execution_count": 61,
     "metadata": {},
     "output_type": "execute_result"
    },
    {
     "data": {
      "text/plain": [
       "[<matplotlib.lines.Line2D at 0x251d9f7ce80>]"
      ]
     },
     "execution_count": 61,
     "metadata": {},
     "output_type": "execute_result"
    },
    {
     "data": {
      "text/plain": [
       "[<matplotlib.lines.Line2D at 0x251d9f89190>]"
      ]
     },
     "execution_count": 61,
     "metadata": {},
     "output_type": "execute_result"
    },
    {
     "data": {
      "text/plain": [
       "[<matplotlib.lines.Line2D at 0x251d9f89460>]"
      ]
     },
     "execution_count": 61,
     "metadata": {},
     "output_type": "execute_result"
    },
    {
     "data": {
      "text/plain": [
       "[<matplotlib.lines.Line2D at 0x251d9f89730>]"
      ]
     },
     "execution_count": 61,
     "metadata": {},
     "output_type": "execute_result"
    },
    {
     "data": {
      "text/plain": [
       "[<matplotlib.lines.Line2D at 0x251d9f89a30>]"
      ]
     },
     "execution_count": 61,
     "metadata": {},
     "output_type": "execute_result"
    },
    {
     "data": {
      "text/plain": [
       "[<matplotlib.lines.Line2D at 0x251d9f89d60>]"
      ]
     },
     "execution_count": 61,
     "metadata": {},
     "output_type": "execute_result"
    },
    {
     "data": {
      "text/plain": [
       "[<matplotlib.lines.Line2D at 0x251d9f89fd0>]"
      ]
     },
     "execution_count": 61,
     "metadata": {},
     "output_type": "execute_result"
    },
    {
     "data": {
      "text/plain": [
       "[<matplotlib.lines.Line2D at 0x251d9f94250>]"
      ]
     },
     "execution_count": 61,
     "metadata": {},
     "output_type": "execute_result"
    },
    {
     "data": {
      "text/plain": [
       "[<matplotlib.lines.Line2D at 0x251d9f945b0>]"
      ]
     },
     "execution_count": 61,
     "metadata": {},
     "output_type": "execute_result"
    },
    {
     "data": {
      "text/plain": [
       "[<matplotlib.lines.Line2D at 0x251d9f94880>]"
      ]
     },
     "execution_count": 61,
     "metadata": {},
     "output_type": "execute_result"
    },
    {
     "data": {
      "text/plain": [
       "[<matplotlib.lines.Line2D at 0x251d9f94b50>]"
      ]
     },
     "execution_count": 61,
     "metadata": {},
     "output_type": "execute_result"
    },
    {
     "data": {
      "text/plain": [
       "[<matplotlib.lines.Line2D at 0x251d9f94e50>]"
      ]
     },
     "execution_count": 61,
     "metadata": {},
     "output_type": "execute_result"
    },
    {
     "data": {
      "text/plain": [
       "[<matplotlib.lines.Line2D at 0x251d9fa2130>]"
      ]
     },
     "execution_count": 61,
     "metadata": {},
     "output_type": "execute_result"
    },
    {
     "data": {
      "text/plain": [
       "[<matplotlib.lines.Line2D at 0x251d9fa2430>]"
      ]
     },
     "execution_count": 61,
     "metadata": {},
     "output_type": "execute_result"
    },
    {
     "data": {
      "text/plain": [
       "[<matplotlib.lines.Line2D at 0x251d9fa26d0>]"
      ]
     },
     "execution_count": 61,
     "metadata": {},
     "output_type": "execute_result"
    },
    {
     "data": {
      "text/plain": [
       "[<matplotlib.lines.Line2D at 0x251d9fa29a0>]"
      ]
     },
     "execution_count": 61,
     "metadata": {},
     "output_type": "execute_result"
    },
    {
     "data": {
      "text/plain": [
       "[<matplotlib.lines.Line2D at 0x251d9fa2c70>]"
      ]
     },
     "execution_count": 61,
     "metadata": {},
     "output_type": "execute_result"
    },
    {
     "data": {
      "text/plain": [
       "[<matplotlib.lines.Line2D at 0x251d9fa2f40>]"
      ]
     },
     "execution_count": 61,
     "metadata": {},
     "output_type": "execute_result"
    },
    {
     "data": {
      "text/plain": [
       "[<matplotlib.lines.Line2D at 0x251d9fab250>]"
      ]
     },
     "execution_count": 61,
     "metadata": {},
     "output_type": "execute_result"
    },
    {
     "data": {
      "text/plain": [
       "[<matplotlib.lines.Line2D at 0x251d9fab550>]"
      ]
     },
     "execution_count": 61,
     "metadata": {},
     "output_type": "execute_result"
    },
    {
     "data": {
      "text/plain": [
       "[<matplotlib.lines.Line2D at 0x251d9fab7f0>]"
      ]
     },
     "execution_count": 61,
     "metadata": {},
     "output_type": "execute_result"
    },
    {
     "data": {
      "text/plain": [
       "[<matplotlib.lines.Line2D at 0x251d9fabac0>]"
      ]
     },
     "execution_count": 61,
     "metadata": {},
     "output_type": "execute_result"
    },
    {
     "data": {
      "text/plain": [
       "[<matplotlib.lines.Line2D at 0x251d9fabdc0>]"
      ]
     },
     "execution_count": 61,
     "metadata": {},
     "output_type": "execute_result"
    },
    {
     "data": {
      "text/plain": [
       "[<matplotlib.lines.Line2D at 0x251d9fbb0d0>]"
      ]
     },
     "execution_count": 61,
     "metadata": {},
     "output_type": "execute_result"
    },
    {
     "data": {
      "text/plain": [
       "<matplotlib.legend.Legend at 0x251d9e84f40>"
      ]
     },
     "execution_count": 61,
     "metadata": {},
     "output_type": "execute_result"
    },
    {
     "data": {
      "text/plain": [
       "Text(0.5, 0, 'C=1/lambda')"
      ]
     },
     "execution_count": 61,
     "metadata": {},
     "output_type": "execute_result"
    },
    {
     "data": {
      "text/plain": [
       "Text(0, 0.5, 'beta')"
      ]
     },
     "execution_count": 61,
     "metadata": {},
     "output_type": "execute_result"
    },
    {
     "data": {
      "image/png": "[encoded data removed]",
      "text/plain": [
       "<Figure size 640x480 with 1 Axes>"
      ]
     },
     "metadata": {},
     "output_type": "display_data"
    }
   ],
   "source": [
    "for beta, name in zip(betas, X_train_scaled.columns):\n",
    "    plt.plot(C_vals, beta, label=name)\n",
    "plt.legend()\n",
    "plt.xlabel(\"C=1/lambda\")\n",
    "plt.ylabel(\"beta\")"
   ]
  },
  {
   "cell_type": "markdown",
   "id": "17bd991c",
   "metadata": {},
   "source": [
    "# LDA"
   ]
  },
  {
   "cell_type": "code",
   "execution_count": 64,
   "id": "29d04943",
   "metadata": {},
   "outputs": [
    {
     "name": "stdout",
     "output_type": "stream",
     "text": [
      "Train accuracy: 0.879757785467128\n",
      "Test accuracy: 0.8854639844256976\n"
     ]
    }
   ],
   "source": [
    "from sklearn.discriminant_analysis import LinearDiscriminantAnalysis as LDA\n",
    "model = LDA()\n",
    "model = model.fit(X_train_full, y_train)\n",
    "\n",
    "print(\"Train accuracy:\", accuracy(y_train, model.predict(X_train_full)))\n",
    "print(\"Test accuracy:\", accuracy(y_test, model.predict(X_test_full)))"
   ]
  },
  {
   "cell_type": "code",
   "execution_count": 65,
   "id": "7c9560e0",
   "metadata": {},
   "outputs": [
    {
     "name": "stdout",
     "output_type": "stream",
     "text": [
      "Train accuracy: 0.9083044982698962\n",
      "Test accuracy: 0.8828682673588579\n"
     ]
    }
   ],
   "source": [
    "from sklearn.pipeline import Pipeline\n",
    "from sklearn.preprocessing import PolynomialFeatures\n",
    "\n",
    "model = Pipeline([\n",
    "    ('poly', PolynomialFeatures(degree=2)),\n",
    "    ('lda', LDA(store_covariance=True))])\n",
    "model = model.fit(X_train_full, y_train)\n",
    "\n",
    "print(\"Train accuracy:\", accuracy(y_train, model.predict(X_train_full)))\n",
    "print(\"Test accuracy:\", accuracy(y_test, model.predict(X_test_full)))"
   ]
  },
  {
   "cell_type": "code",
   "execution_count": 68,
   "id": "2c2f4cd6",
   "metadata": {},
   "outputs": [
    {
     "name": "stderr",
     "output_type": "stream",
     "text": [
      "C:\\Users\\sarar\\anaconda3\\lib\\site-packages\\sklearn\\model_selection\\_validation.py:372: FitFailedWarning: \n",
      "30 fits failed out of a total of 50.\n",
      "The score on these train-test partitions for these parameters will be set to nan.\n",
      "If these failures are not expected, you can try to debug them by setting error_score='raise'.\n",
      "\n",
      "Below are more details about the failures:\n",
      "--------------------------------------------------------------------------------\n",
      "7 fits failed with the following error:\n",
      "Traceback (most recent call last):\n",
      "  File \"C:\\Users\\sarar\\anaconda3\\lib\\site-packages\\sklearn\\model_selection\\_validation.py\", line 680, in _fit_and_score\n",
      "    estimator.fit(X_train, y_train, **fit_params)\n",
      "  File \"C:\\Users\\sarar\\anaconda3\\lib\\site-packages\\sklearn\\pipeline.py\", line 394, in fit\n",
      "    self._final_estimator.fit(Xt, y, **fit_params_last_step)\n",
      "  File \"C:\\Users\\sarar\\anaconda3\\lib\\site-packages\\sklearn\\discriminant_analysis.py\", line 590, in fit\n",
      "    self._solve_svd(X, y)\n",
      "  File \"C:\\Users\\sarar\\anaconda3\\lib\\site-packages\\sklearn\\discriminant_analysis.py\", line 468, in _solve_svd\n",
      "    self.covariance_ = _class_cov(X, y, self.priors_)\n",
      "  File \"C:\\Users\\sarar\\anaconda3\\lib\\site-packages\\sklearn\\discriminant_analysis.py\", line 162, in _class_cov\n",
      "    Xg = X[y == group, :]\n",
      "numpy.core._exceptions._ArrayMemoryError: Unable to allocate 3.98 GiB for an array with shape (7026, 76076) and data type float64\n",
      "\n",
      "--------------------------------------------------------------------------------\n",
      "3 fits failed with the following error:\n",
      "Traceback (most recent call last):\n",
      "  File \"C:\\Users\\sarar\\anaconda3\\lib\\site-packages\\sklearn\\model_selection\\_validation.py\", line 680, in _fit_and_score\n",
      "    estimator.fit(X_train, y_train, **fit_params)\n",
      "  File \"C:\\Users\\sarar\\anaconda3\\lib\\site-packages\\sklearn\\pipeline.py\", line 394, in fit\n",
      "    self._final_estimator.fit(Xt, y, **fit_params_last_step)\n",
      "  File \"C:\\Users\\sarar\\anaconda3\\lib\\site-packages\\sklearn\\discriminant_analysis.py\", line 590, in fit\n",
      "    self._solve_svd(X, y)\n",
      "  File \"C:\\Users\\sarar\\anaconda3\\lib\\site-packages\\sklearn\\discriminant_analysis.py\", line 468, in _solve_svd\n",
      "    self.covariance_ = _class_cov(X, y, self.priors_)\n",
      "  File \"C:\\Users\\sarar\\anaconda3\\lib\\site-packages\\sklearn\\discriminant_analysis.py\", line 162, in _class_cov\n",
      "    Xg = X[y == group, :]\n",
      "numpy.core._exceptions._ArrayMemoryError: Unable to allocate 3.98 GiB for an array with shape (7027, 76076) and data type float64\n",
      "\n",
      "--------------------------------------------------------------------------------\n",
      "8 fits failed with the following error:\n",
      "Traceback (most recent call last):\n",
      "  File \"C:\\Users\\sarar\\anaconda3\\lib\\site-packages\\sklearn\\model_selection\\_validation.py\", line 680, in _fit_and_score\n",
      "    estimator.fit(X_train, y_train, **fit_params)\n",
      "  File \"C:\\Users\\sarar\\anaconda3\\lib\\site-packages\\sklearn\\pipeline.py\", line 390, in fit\n",
      "    Xt = self._fit(X, y, **fit_params_steps)\n",
      "  File \"C:\\Users\\sarar\\anaconda3\\lib\\site-packages\\sklearn\\pipeline.py\", line 348, in _fit\n",
      "    X, fitted_transformer = fit_transform_one_cached(\n",
      "  File \"C:\\Users\\sarar\\anaconda3\\lib\\site-packages\\joblib\\memory.py\", line 349, in __call__\n",
      "    return self.func(*args, **kwargs)\n",
      "  File \"C:\\Users\\sarar\\anaconda3\\lib\\site-packages\\sklearn\\pipeline.py\", line 893, in _fit_transform_one\n",
      "    res = transformer.fit_transform(X, y, **fit_params)\n",
      "  File \"C:\\Users\\sarar\\anaconda3\\lib\\site-packages\\sklearn\\base.py\", line 855, in fit_transform\n",
      "    return self.fit(X, y, **fit_params).transform(X)\n",
      "  File \"C:\\Users\\sarar\\anaconda3\\lib\\site-packages\\sklearn\\preprocessing\\_polynomial.py\", line 421, in transform\n",
      "    XP = np.empty(\n",
      "numpy.core._exceptions._ArrayMemoryError: Unable to allocate 93.2 GiB for an array with shape (8323, 1502501) and data type float64\n",
      "\n",
      "--------------------------------------------------------------------------------\n",
      "2 fits failed with the following error:\n",
      "Traceback (most recent call last):\n",
      "  File \"C:\\Users\\sarar\\anaconda3\\lib\\site-packages\\sklearn\\model_selection\\_validation.py\", line 680, in _fit_and_score\n",
      "    estimator.fit(X_train, y_train, **fit_params)\n",
      "  File \"C:\\Users\\sarar\\anaconda3\\lib\\site-packages\\sklearn\\pipeline.py\", line 390, in fit\n",
      "    Xt = self._fit(X, y, **fit_params_steps)\n",
      "  File \"C:\\Users\\sarar\\anaconda3\\lib\\site-packages\\sklearn\\pipeline.py\", line 348, in _fit\n",
      "    X, fitted_transformer = fit_transform_one_cached(\n",
      "  File \"C:\\Users\\sarar\\anaconda3\\lib\\site-packages\\joblib\\memory.py\", line 349, in __call__\n",
      "    return self.func(*args, **kwargs)\n",
      "  File \"C:\\Users\\sarar\\anaconda3\\lib\\site-packages\\sklearn\\pipeline.py\", line 893, in _fit_transform_one\n",
      "    res = transformer.fit_transform(X, y, **fit_params)\n",
      "  File \"C:\\Users\\sarar\\anaconda3\\lib\\site-packages\\sklearn\\base.py\", line 855, in fit_transform\n",
      "    return self.fit(X, y, **fit_params).transform(X)\n",
      "  File \"C:\\Users\\sarar\\anaconda3\\lib\\site-packages\\sklearn\\preprocessing\\_polynomial.py\", line 421, in transform\n",
      "    XP = np.empty(\n",
      "numpy.core._exceptions._ArrayMemoryError: Unable to allocate 93.2 GiB for an array with shape (8324, 1502501) and data type float64\n",
      "\n",
      "--------------------------------------------------------------------------------\n",
      "8 fits failed with the following error:\n",
      "Traceback (most recent call last):\n",
      "  File \"C:\\Users\\sarar\\anaconda3\\lib\\site-packages\\sklearn\\model_selection\\_validation.py\", line 680, in _fit_and_score\n",
      "    estimator.fit(X_train, y_train, **fit_params)\n",
      "  File \"C:\\Users\\sarar\\anaconda3\\lib\\site-packages\\sklearn\\pipeline.py\", line 390, in fit\n",
      "    Xt = self._fit(X, y, **fit_params_steps)\n",
      "  File \"C:\\Users\\sarar\\anaconda3\\lib\\site-packages\\sklearn\\pipeline.py\", line 348, in _fit\n",
      "    X, fitted_transformer = fit_transform_one_cached(\n",
      "  File \"C:\\Users\\sarar\\anaconda3\\lib\\site-packages\\joblib\\memory.py\", line 349, in __call__\n",
      "    return self.func(*args, **kwargs)\n",
      "  File \"C:\\Users\\sarar\\anaconda3\\lib\\site-packages\\sklearn\\pipeline.py\", line 893, in _fit_transform_one\n",
      "    res = transformer.fit_transform(X, y, **fit_params)\n",
      "  File \"C:\\Users\\sarar\\anaconda3\\lib\\site-packages\\sklearn\\base.py\", line 855, in fit_transform\n",
      "    return self.fit(X, y, **fit_params).transform(X)\n",
      "  File \"C:\\Users\\sarar\\anaconda3\\lib\\site-packages\\sklearn\\preprocessing\\_polynomial.py\", line 421, in transform\n",
      "    XP = np.empty(\n",
      "numpy.core._exceptions._ArrayMemoryError: Unable to allocate 1.46 TiB for an array with shape (8323, 24040016) and data type float64\n",
      "\n",
      "--------------------------------------------------------------------------------\n",
      "2 fits failed with the following error:\n",
      "Traceback (most recent call last):\n",
      "  File \"C:\\Users\\sarar\\anaconda3\\lib\\site-packages\\sklearn\\model_selection\\_validation.py\", line 680, in _fit_and_score\n",
      "    estimator.fit(X_train, y_train, **fit_params)\n",
      "  File \"C:\\Users\\sarar\\anaconda3\\lib\\site-packages\\sklearn\\pipeline.py\", line 390, in fit\n",
      "    Xt = self._fit(X, y, **fit_params_steps)\n",
      "  File \"C:\\Users\\sarar\\anaconda3\\lib\\site-packages\\sklearn\\pipeline.py\", line 348, in _fit\n",
      "    X, fitted_transformer = fit_transform_one_cached(\n",
      "  File \"C:\\Users\\sarar\\anaconda3\\lib\\site-packages\\joblib\\memory.py\", line 349, in __call__\n",
      "    return self.func(*args, **kwargs)\n",
      "  File \"C:\\Users\\sarar\\anaconda3\\lib\\site-packages\\sklearn\\pipeline.py\", line 893, in _fit_transform_one\n",
      "    res = transformer.fit_transform(X, y, **fit_params)\n",
      "  File \"C:\\Users\\sarar\\anaconda3\\lib\\site-packages\\sklearn\\base.py\", line 855, in fit_transform\n",
      "    return self.fit(X, y, **fit_params).transform(X)\n",
      "  File \"C:\\Users\\sarar\\anaconda3\\lib\\site-packages\\sklearn\\preprocessing\\_polynomial.py\", line 421, in transform\n",
      "    XP = np.empty(\n",
      "numpy.core._exceptions._ArrayMemoryError: Unable to allocate 1.46 TiB for an array with shape (8324, 24040016) and data type float64\n",
      "\n",
      "  warnings.warn(some_fits_failed_message, FitFailedWarning)\n",
      "C:\\Users\\sarar\\anaconda3\\lib\\site-packages\\sklearn\\model_selection\\_search.py:969: UserWarning: One or more of the test scores are non-finite: [0.87846028 0.87229777        nan        nan        nan]\n",
      "  warnings.warn(\n"
     ]
    },
    {
     "data": {
      "text/plain": [
       "GridSearchCV(cv=10,\n",
       "             estimator=Pipeline(steps=[('poly', PolynomialFeatures()),\n",
       "                                       ('lda',\n",
       "                                        LinearDiscriminantAnalysis(store_covariance=True))]),\n",
       "             param_grid={'poly__degree': range(1, 6)},\n",
       "             scoring=make_scorer(accuracy))"
      ]
     },
     "execution_count": 68,
     "metadata": {},
     "output_type": "execute_result"
    }
   ],
   "source": [
    "from sklearn.model_selection import GridSearchCV\n",
    "\n",
    "model = Pipeline([('poly', PolynomialFeatures()),\n",
    "                  ('lda', LDA(store_covariance=True))])\n",
    "params = {'poly__degree': range(1, 6)}\n",
    "cv = GridSearchCV(model, params, refit=True, cv=10, \n",
    "                  scoring=make_scorer(accuracy))\n",
    "cv.fit(X_train_full, y_train)"
   ]
  },
  {
   "cell_type": "markdown",
   "id": "cb0d07a9",
   "metadata": {},
   "source": [
    "## QDA"
   ]
  },
  {
   "cell_type": "code",
   "execution_count": 99,
   "id": "e2e5f7fb",
   "metadata": {},
   "outputs": [
    {
     "name": "stdout",
     "output_type": "stream",
     "text": [
      "Train accuracy: 0.18933823529411764\n",
      "Test accuracy: 0.18397144711226476\n"
     ]
    },
    {
     "name": "stderr",
     "output_type": "stream",
     "text": [
      "C:\\Users\\sarar\\anaconda3\\lib\\site-packages\\sklearn\\discriminant_analysis.py:878: UserWarning: Variables are collinear\n",
      "  warnings.warn(\"Variables are collinear\")\n"
     ]
    }
   ],
   "source": [
    "from sklearn.discriminant_analysis import QuadraticDiscriminantAnalysis as QDA\n",
    "model = QDA(store_covariance=True)\n",
    "model = model.fit(X_train_full, y_train)\n",
    "\n",
    "print(\"Train accuracy:\", accuracy(y_train, model.predict(X_train_full)))\n",
    "print(\"Test accuracy:\", accuracy(y_test, model.predict(X_test_full)))"
   ]
  },
  {
   "cell_type": "markdown",
   "id": "d91233d5",
   "metadata": {},
   "source": [
    "## KNN"
   ]
  },
  {
   "cell_type": "code",
   "execution_count": 113,
   "id": "04a2d1a1",
   "metadata": {},
   "outputs": [
    {
     "data": {
      "text/plain": [
       "KNeighborsClassifier(n_neighbors=6)"
      ]
     },
     "execution_count": 113,
     "metadata": {},
     "output_type": "execute_result"
    },
    {
     "name": "stderr",
     "output_type": "stream",
     "text": [
      "C:\\Users\\sarar\\anaconda3\\lib\\site-packages\\sklearn\\neighbors\\_classification.py:228: FutureWarning: Unlike other reduction functions (e.g. `skew`, `kurtosis`), the default behavior of `mode` typically preserves the axis it acts along. In SciPy 1.11.0, this behavior will change: the default value of `keepdims` will become False, the `axis` over which the statistic is taken will be eliminated, and the value None will no longer be accepted. Set `keepdims` to True or False to avoid this warning.\n",
      "  mode, _ = stats.mode(_y[neigh_ind, k], axis=1)\n"
     ]
    },
    {
     "name": "stdout",
     "output_type": "stream",
     "text": [
      "Train accuracy: 0.8831098615916955\n",
      "Test accuracy: 0.8754055807916937\n"
     ]
    },
    {
     "name": "stderr",
     "output_type": "stream",
     "text": [
      "C:\\Users\\sarar\\anaconda3\\lib\\site-packages\\sklearn\\neighbors\\_classification.py:228: FutureWarning: Unlike other reduction functions (e.g. `skew`, `kurtosis`), the default behavior of `mode` typically preserves the axis it acts along. In SciPy 1.11.0, this behavior will change: the default value of `keepdims` will become False, the `axis` over which the statistic is taken will be eliminated, and the value None will no longer be accepted. Set `keepdims` to True or False to avoid this warning.\n",
      "  mode, _ = stats.mode(_y[neigh_ind, k], axis=1)\n"
     ]
    }
   ],
   "source": [
    "# Train a KNN with different k values\n",
    "from sklearn.neighbors import KNeighborsClassifier\n",
    "model = KNeighborsClassifier(n_neighbors=6)\n",
    "model.fit(X_train_full, y_train)\n",
    "\n",
    "print(\"Train accuracy:\", accuracy(y_train, model.predict(X_train_full)))\n",
    "print(\"Test accuracy:\", accuracy(y_test, model.predict(X_test_full)))"
   ]
  },
  {
   "cell_type": "code",
   "execution_count": 112,
   "id": "f92da8ca",
   "metadata": {},
   "outputs": [
    {
     "name": "stderr",
     "output_type": "stream",
     "text": [
      "C:\\Users\\sarar\\anaconda3\\lib\\site-packages\\sklearn\\neighbors\\_classification.py:228: FutureWarning: Unlike other reduction functions (e.g. `skew`, `kurtosis`), the default behavior of `mode` typically preserves the axis it acts along. In SciPy 1.11.0, this behavior will change: the default value of `keepdims` will become False, the `axis` over which the statistic is taken will be eliminated, and the value None will no longer be accepted. Set `keepdims` to True or False to avoid this warning.\n",
      "  mode, _ = stats.mode(_y[neigh_ind, k], axis=1)\n",
      "C:\\Users\\sarar\\anaconda3\\lib\\site-packages\\sklearn\\neighbors\\_classification.py:228: FutureWarning: Unlike other reduction functions (e.g. `skew`, `kurtosis`), the default behavior of `mode` typically preserves the axis it acts along. In SciPy 1.11.0, this behavior will change: the default value of `keepdims` will become False, the `axis` over which the statistic is taken will be eliminated, and the value None will no longer be accepted. Set `keepdims` to True or False to avoid this warning.\n",
      "  mode, _ = stats.mode(_y[neigh_ind, k], axis=1)\n",
      "C:\\Users\\sarar\\anaconda3\\lib\\site-packages\\sklearn\\neighbors\\_classification.py:228: FutureWarning: Unlike other reduction functions (e.g. `skew`, `kurtosis`), the default behavior of `mode` typically preserves the axis it acts along. In SciPy 1.11.0, this behavior will change: the default value of `keepdims` will become False, the `axis` over which the statistic is taken will be eliminated, and the value None will no longer be accepted. Set `keepdims` to True or False to avoid this warning.\n",
      "  mode, _ = stats.mode(_y[neigh_ind, k], axis=1)\n",
      "C:\\Users\\sarar\\anaconda3\\lib\\site-packages\\sklearn\\neighbors\\_classification.py:228: FutureWarning: Unlike other reduction functions (e.g. `skew`, `kurtosis`), the default behavior of `mode` typically preserves the axis it acts along. In SciPy 1.11.0, this behavior will change: the default value of `keepdims` will become False, the `axis` over which the statistic is taken will be eliminated, and the value None will no longer be accepted. Set `keepdims` to True or False to avoid this warning.\n",
      "  mode, _ = stats.mode(_y[neigh_ind, k], axis=1)\n",
      "C:\\Users\\sarar\\anaconda3\\lib\\site-packages\\sklearn\\neighbors\\_classification.py:228: FutureWarning: Unlike other reduction functions (e.g. `skew`, `kurtosis`), the default behavior of `mode` typically preserves the axis it acts along. In SciPy 1.11.0, this behavior will change: the default value of `keepdims` will become False, the `axis` over which the statistic is taken will be eliminated, and the value None will no longer be accepted. Set `keepdims` to True or False to avoid this warning.\n",
      "  mode, _ = stats.mode(_y[neigh_ind, k], axis=1)\n",
      "C:\\Users\\sarar\\anaconda3\\lib\\site-packages\\sklearn\\neighbors\\_classification.py:228: FutureWarning: Unlike other reduction functions (e.g. `skew`, `kurtosis`), the default behavior of `mode` typically preserves the axis it acts along. In SciPy 1.11.0, this behavior will change: the default value of `keepdims` will become False, the `axis` over which the statistic is taken will be eliminated, and the value None will no longer be accepted. Set `keepdims` to True or False to avoid this warning.\n",
      "  mode, _ = stats.mode(_y[neigh_ind, k], axis=1)\n",
      "C:\\Users\\sarar\\anaconda3\\lib\\site-packages\\sklearn\\neighbors\\_classification.py:228: FutureWarning: Unlike other reduction functions (e.g. `skew`, `kurtosis`), the default behavior of `mode` typically preserves the axis it acts along. In SciPy 1.11.0, this behavior will change: the default value of `keepdims` will become False, the `axis` over which the statistic is taken will be eliminated, and the value None will no longer be accepted. Set `keepdims` to True or False to avoid this warning.\n",
      "  mode, _ = stats.mode(_y[neigh_ind, k], axis=1)\n",
      "C:\\Users\\sarar\\anaconda3\\lib\\site-packages\\sklearn\\neighbors\\_classification.py:228: FutureWarning: Unlike other reduction functions (e.g. `skew`, `kurtosis`), the default behavior of `mode` typically preserves the axis it acts along. In SciPy 1.11.0, this behavior will change: the default value of `keepdims` will become False, the `axis` over which the statistic is taken will be eliminated, and the value None will no longer be accepted. Set `keepdims` to True or False to avoid this warning.\n",
      "  mode, _ = stats.mode(_y[neigh_ind, k], axis=1)\n",
      "C:\\Users\\sarar\\anaconda3\\lib\\site-packages\\sklearn\\neighbors\\_classification.py:228: FutureWarning: Unlike other reduction functions (e.g. `skew`, `kurtosis`), the default behavior of `mode` typically preserves the axis it acts along. In SciPy 1.11.0, this behavior will change: the default value of `keepdims` will become False, the `axis` over which the statistic is taken will be eliminated, and the value None will no longer be accepted. Set `keepdims` to True or False to avoid this warning.\n",
      "  mode, _ = stats.mode(_y[neigh_ind, k], axis=1)\n",
      "C:\\Users\\sarar\\anaconda3\\lib\\site-packages\\sklearn\\neighbors\\_classification.py:228: FutureWarning: Unlike other reduction functions (e.g. `skew`, `kurtosis`), the default behavior of `mode` typically preserves the axis it acts along. In SciPy 1.11.0, this behavior will change: the default value of `keepdims` will become False, the `axis` over which the statistic is taken will be eliminated, and the value None will no longer be accepted. Set `keepdims` to True or False to avoid this warning.\n",
      "  mode, _ = stats.mode(_y[neigh_ind, k], axis=1)\n",
      "C:\\Users\\sarar\\anaconda3\\lib\\site-packages\\sklearn\\neighbors\\_classification.py:228: FutureWarning: Unlike other reduction functions (e.g. `skew`, `kurtosis`), the default behavior of `mode` typically preserves the axis it acts along. In SciPy 1.11.0, this behavior will change: the default value of `keepdims` will become False, the `axis` over which the statistic is taken will be eliminated, and the value None will no longer be accepted. Set `keepdims` to True or False to avoid this warning.\n",
      "  mode, _ = stats.mode(_y[neigh_ind, k], axis=1)\n",
      "C:\\Users\\sarar\\anaconda3\\lib\\site-packages\\sklearn\\neighbors\\_classification.py:228: FutureWarning: Unlike other reduction functions (e.g. `skew`, `kurtosis`), the default behavior of `mode` typically preserves the axis it acts along. In SciPy 1.11.0, this behavior will change: the default value of `keepdims` will become False, the `axis` over which the statistic is taken will be eliminated, and the value None will no longer be accepted. Set `keepdims` to True or False to avoid this warning.\n",
      "  mode, _ = stats.mode(_y[neigh_ind, k], axis=1)\n",
      "C:\\Users\\sarar\\anaconda3\\lib\\site-packages\\sklearn\\neighbors\\_classification.py:228: FutureWarning: Unlike other reduction functions (e.g. `skew`, `kurtosis`), the default behavior of `mode` typically preserves the axis it acts along. In SciPy 1.11.0, this behavior will change: the default value of `keepdims` will become False, the `axis` over which the statistic is taken will be eliminated, and the value None will no longer be accepted. Set `keepdims` to True or False to avoid this warning.\n",
      "  mode, _ = stats.mode(_y[neigh_ind, k], axis=1)\n",
      "C:\\Users\\sarar\\anaconda3\\lib\\site-packages\\sklearn\\neighbors\\_classification.py:228: FutureWarning: Unlike other reduction functions (e.g. `skew`, `kurtosis`), the default behavior of `mode` typically preserves the axis it acts along. In SciPy 1.11.0, this behavior will change: the default value of `keepdims` will become False, the `axis` over which the statistic is taken will be eliminated, and the value None will no longer be accepted. Set `keepdims` to True or False to avoid this warning.\n",
      "  mode, _ = stats.mode(_y[neigh_ind, k], axis=1)\n",
      "C:\\Users\\sarar\\anaconda3\\lib\\site-packages\\sklearn\\neighbors\\_classification.py:228: FutureWarning: Unlike other reduction functions (e.g. `skew`, `kurtosis`), the default behavior of `mode` typically preserves the axis it acts along. In SciPy 1.11.0, this behavior will change: the default value of `keepdims` will become False, the `axis` over which the statistic is taken will be eliminated, and the value None will no longer be accepted. Set `keepdims` to True or False to avoid this warning.\n",
      "  mode, _ = stats.mode(_y[neigh_ind, k], axis=1)\n",
      "C:\\Users\\sarar\\anaconda3\\lib\\site-packages\\sklearn\\neighbors\\_classification.py:228: FutureWarning: Unlike other reduction functions (e.g. `skew`, `kurtosis`), the default behavior of `mode` typically preserves the axis it acts along. In SciPy 1.11.0, this behavior will change: the default value of `keepdims` will become False, the `axis` over which the statistic is taken will be eliminated, and the value None will no longer be accepted. Set `keepdims` to True or False to avoid this warning.\n",
      "  mode, _ = stats.mode(_y[neigh_ind, k], axis=1)\n",
      "C:\\Users\\sarar\\anaconda3\\lib\\site-packages\\sklearn\\neighbors\\_classification.py:228: FutureWarning: Unlike other reduction functions (e.g. `skew`, `kurtosis`), the default behavior of `mode` typically preserves the axis it acts along. In SciPy 1.11.0, this behavior will change: the default value of `keepdims` will become False, the `axis` over which the statistic is taken will be eliminated, and the value None will no longer be accepted. Set `keepdims` to True or False to avoid this warning.\n",
      "  mode, _ = stats.mode(_y[neigh_ind, k], axis=1)\n"
     ]
    },
    {
     "name": "stderr",
     "output_type": "stream",
     "text": [
      "C:\\Users\\sarar\\anaconda3\\lib\\site-packages\\sklearn\\neighbors\\_classification.py:228: FutureWarning: Unlike other reduction functions (e.g. `skew`, `kurtosis`), the default behavior of `mode` typically preserves the axis it acts along. In SciPy 1.11.0, this behavior will change: the default value of `keepdims` will become False, the `axis` over which the statistic is taken will be eliminated, and the value None will no longer be accepted. Set `keepdims` to True or False to avoid this warning.\n",
      "  mode, _ = stats.mode(_y[neigh_ind, k], axis=1)\n",
      "C:\\Users\\sarar\\anaconda3\\lib\\site-packages\\sklearn\\neighbors\\_classification.py:228: FutureWarning: Unlike other reduction functions (e.g. `skew`, `kurtosis`), the default behavior of `mode` typically preserves the axis it acts along. In SciPy 1.11.0, this behavior will change: the default value of `keepdims` will become False, the `axis` over which the statistic is taken will be eliminated, and the value None will no longer be accepted. Set `keepdims` to True or False to avoid this warning.\n",
      "  mode, _ = stats.mode(_y[neigh_ind, k], axis=1)\n",
      "C:\\Users\\sarar\\anaconda3\\lib\\site-packages\\sklearn\\neighbors\\_classification.py:228: FutureWarning: Unlike other reduction functions (e.g. `skew`, `kurtosis`), the default behavior of `mode` typically preserves the axis it acts along. In SciPy 1.11.0, this behavior will change: the default value of `keepdims` will become False, the `axis` over which the statistic is taken will be eliminated, and the value None will no longer be accepted. Set `keepdims` to True or False to avoid this warning.\n",
      "  mode, _ = stats.mode(_y[neigh_ind, k], axis=1)\n",
      "C:\\Users\\sarar\\anaconda3\\lib\\site-packages\\sklearn\\neighbors\\_classification.py:228: FutureWarning: Unlike other reduction functions (e.g. `skew`, `kurtosis`), the default behavior of `mode` typically preserves the axis it acts along. In SciPy 1.11.0, this behavior will change: the default value of `keepdims` will become False, the `axis` over which the statistic is taken will be eliminated, and the value None will no longer be accepted. Set `keepdims` to True or False to avoid this warning.\n",
      "  mode, _ = stats.mode(_y[neigh_ind, k], axis=1)\n",
      "C:\\Users\\sarar\\anaconda3\\lib\\site-packages\\sklearn\\neighbors\\_classification.py:228: FutureWarning: Unlike other reduction functions (e.g. `skew`, `kurtosis`), the default behavior of `mode` typically preserves the axis it acts along. In SciPy 1.11.0, this behavior will change: the default value of `keepdims` will become False, the `axis` over which the statistic is taken will be eliminated, and the value None will no longer be accepted. Set `keepdims` to True or False to avoid this warning.\n",
      "  mode, _ = stats.mode(_y[neigh_ind, k], axis=1)\n",
      "C:\\Users\\sarar\\anaconda3\\lib\\site-packages\\sklearn\\neighbors\\_classification.py:228: FutureWarning: Unlike other reduction functions (e.g. `skew`, `kurtosis`), the default behavior of `mode` typically preserves the axis it acts along. In SciPy 1.11.0, this behavior will change: the default value of `keepdims` will become False, the `axis` over which the statistic is taken will be eliminated, and the value None will no longer be accepted. Set `keepdims` to True or False to avoid this warning.\n",
      "  mode, _ = stats.mode(_y[neigh_ind, k], axis=1)\n",
      "C:\\Users\\sarar\\anaconda3\\lib\\site-packages\\sklearn\\neighbors\\_classification.py:228: FutureWarning: Unlike other reduction functions (e.g. `skew`, `kurtosis`), the default behavior of `mode` typically preserves the axis it acts along. In SciPy 1.11.0, this behavior will change: the default value of `keepdims` will become False, the `axis` over which the statistic is taken will be eliminated, and the value None will no longer be accepted. Set `keepdims` to True or False to avoid this warning.\n",
      "  mode, _ = stats.mode(_y[neigh_ind, k], axis=1)\n",
      "C:\\Users\\sarar\\anaconda3\\lib\\site-packages\\sklearn\\neighbors\\_classification.py:228: FutureWarning: Unlike other reduction functions (e.g. `skew`, `kurtosis`), the default behavior of `mode` typically preserves the axis it acts along. In SciPy 1.11.0, this behavior will change: the default value of `keepdims` will become False, the `axis` over which the statistic is taken will be eliminated, and the value None will no longer be accepted. Set `keepdims` to True or False to avoid this warning.\n",
      "  mode, _ = stats.mode(_y[neigh_ind, k], axis=1)\n",
      "C:\\Users\\sarar\\anaconda3\\lib\\site-packages\\sklearn\\neighbors\\_classification.py:228: FutureWarning: Unlike other reduction functions (e.g. `skew`, `kurtosis`), the default behavior of `mode` typically preserves the axis it acts along. In SciPy 1.11.0, this behavior will change: the default value of `keepdims` will become False, the `axis` over which the statistic is taken will be eliminated, and the value None will no longer be accepted. Set `keepdims` to True or False to avoid this warning.\n",
      "  mode, _ = stats.mode(_y[neigh_ind, k], axis=1)\n",
      "C:\\Users\\sarar\\anaconda3\\lib\\site-packages\\sklearn\\neighbors\\_classification.py:228: FutureWarning: Unlike other reduction functions (e.g. `skew`, `kurtosis`), the default behavior of `mode` typically preserves the axis it acts along. In SciPy 1.11.0, this behavior will change: the default value of `keepdims` will become False, the `axis` over which the statistic is taken will be eliminated, and the value None will no longer be accepted. Set `keepdims` to True or False to avoid this warning.\n",
      "  mode, _ = stats.mode(_y[neigh_ind, k], axis=1)\n",
      "C:\\Users\\sarar\\anaconda3\\lib\\site-packages\\sklearn\\neighbors\\_classification.py:228: FutureWarning: Unlike other reduction functions (e.g. `skew`, `kurtosis`), the default behavior of `mode` typically preserves the axis it acts along. In SciPy 1.11.0, this behavior will change: the default value of `keepdims` will become False, the `axis` over which the statistic is taken will be eliminated, and the value None will no longer be accepted. Set `keepdims` to True or False to avoid this warning.\n",
      "  mode, _ = stats.mode(_y[neigh_ind, k], axis=1)\n",
      "C:\\Users\\sarar\\anaconda3\\lib\\site-packages\\sklearn\\neighbors\\_classification.py:228: FutureWarning: Unlike other reduction functions (e.g. `skew`, `kurtosis`), the default behavior of `mode` typically preserves the axis it acts along. In SciPy 1.11.0, this behavior will change: the default value of `keepdims` will become False, the `axis` over which the statistic is taken will be eliminated, and the value None will no longer be accepted. Set `keepdims` to True or False to avoid this warning.\n",
      "  mode, _ = stats.mode(_y[neigh_ind, k], axis=1)\n",
      "C:\\Users\\sarar\\anaconda3\\lib\\site-packages\\sklearn\\neighbors\\_classification.py:228: FutureWarning: Unlike other reduction functions (e.g. `skew`, `kurtosis`), the default behavior of `mode` typically preserves the axis it acts along. In SciPy 1.11.0, this behavior will change: the default value of `keepdims` will become False, the `axis` over which the statistic is taken will be eliminated, and the value None will no longer be accepted. Set `keepdims` to True or False to avoid this warning.\n",
      "  mode, _ = stats.mode(_y[neigh_ind, k], axis=1)\n",
      "C:\\Users\\sarar\\anaconda3\\lib\\site-packages\\sklearn\\neighbors\\_classification.py:228: FutureWarning: Unlike other reduction functions (e.g. `skew`, `kurtosis`), the default behavior of `mode` typically preserves the axis it acts along. In SciPy 1.11.0, this behavior will change: the default value of `keepdims` will become False, the `axis` over which the statistic is taken will be eliminated, and the value None will no longer be accepted. Set `keepdims` to True or False to avoid this warning.\n",
      "  mode, _ = stats.mode(_y[neigh_ind, k], axis=1)\n",
      "C:\\Users\\sarar\\anaconda3\\lib\\site-packages\\sklearn\\neighbors\\_classification.py:228: FutureWarning: Unlike other reduction functions (e.g. `skew`, `kurtosis`), the default behavior of `mode` typically preserves the axis it acts along. In SciPy 1.11.0, this behavior will change: the default value of `keepdims` will become False, the `axis` over which the statistic is taken will be eliminated, and the value None will no longer be accepted. Set `keepdims` to True or False to avoid this warning.\n",
      "  mode, _ = stats.mode(_y[neigh_ind, k], axis=1)\n",
      "C:\\Users\\sarar\\anaconda3\\lib\\site-packages\\sklearn\\neighbors\\_classification.py:228: FutureWarning: Unlike other reduction functions (e.g. `skew`, `kurtosis`), the default behavior of `mode` typically preserves the axis it acts along. In SciPy 1.11.0, this behavior will change: the default value of `keepdims` will become False, the `axis` over which the statistic is taken will be eliminated, and the value None will no longer be accepted. Set `keepdims` to True or False to avoid this warning.\n",
      "  mode, _ = stats.mode(_y[neigh_ind, k], axis=1)\n"
     ]
    },
    {
     "name": "stderr",
     "output_type": "stream",
     "text": [
      "C:\\Users\\sarar\\anaconda3\\lib\\site-packages\\sklearn\\neighbors\\_classification.py:228: FutureWarning: Unlike other reduction functions (e.g. `skew`, `kurtosis`), the default behavior of `mode` typically preserves the axis it acts along. In SciPy 1.11.0, this behavior will change: the default value of `keepdims` will become False, the `axis` over which the statistic is taken will be eliminated, and the value None will no longer be accepted. Set `keepdims` to True or False to avoid this warning.\n",
      "  mode, _ = stats.mode(_y[neigh_ind, k], axis=1)\n",
      "C:\\Users\\sarar\\anaconda3\\lib\\site-packages\\sklearn\\neighbors\\_classification.py:228: FutureWarning: Unlike other reduction functions (e.g. `skew`, `kurtosis`), the default behavior of `mode` typically preserves the axis it acts along. In SciPy 1.11.0, this behavior will change: the default value of `keepdims` will become False, the `axis` over which the statistic is taken will be eliminated, and the value None will no longer be accepted. Set `keepdims` to True or False to avoid this warning.\n",
      "  mode, _ = stats.mode(_y[neigh_ind, k], axis=1)\n",
      "C:\\Users\\sarar\\anaconda3\\lib\\site-packages\\sklearn\\neighbors\\_classification.py:228: FutureWarning: Unlike other reduction functions (e.g. `skew`, `kurtosis`), the default behavior of `mode` typically preserves the axis it acts along. In SciPy 1.11.0, this behavior will change: the default value of `keepdims` will become False, the `axis` over which the statistic is taken will be eliminated, and the value None will no longer be accepted. Set `keepdims` to True or False to avoid this warning.\n",
      "  mode, _ = stats.mode(_y[neigh_ind, k], axis=1)\n",
      "C:\\Users\\sarar\\anaconda3\\lib\\site-packages\\sklearn\\neighbors\\_classification.py:228: FutureWarning: Unlike other reduction functions (e.g. `skew`, `kurtosis`), the default behavior of `mode` typically preserves the axis it acts along. In SciPy 1.11.0, this behavior will change: the default value of `keepdims` will become False, the `axis` over which the statistic is taken will be eliminated, and the value None will no longer be accepted. Set `keepdims` to True or False to avoid this warning.\n",
      "  mode, _ = stats.mode(_y[neigh_ind, k], axis=1)\n",
      "C:\\Users\\sarar\\anaconda3\\lib\\site-packages\\sklearn\\neighbors\\_classification.py:228: FutureWarning: Unlike other reduction functions (e.g. `skew`, `kurtosis`), the default behavior of `mode` typically preserves the axis it acts along. In SciPy 1.11.0, this behavior will change: the default value of `keepdims` will become False, the `axis` over which the statistic is taken will be eliminated, and the value None will no longer be accepted. Set `keepdims` to True or False to avoid this warning.\n",
      "  mode, _ = stats.mode(_y[neigh_ind, k], axis=1)\n",
      "C:\\Users\\sarar\\anaconda3\\lib\\site-packages\\sklearn\\neighbors\\_classification.py:228: FutureWarning: Unlike other reduction functions (e.g. `skew`, `kurtosis`), the default behavior of `mode` typically preserves the axis it acts along. In SciPy 1.11.0, this behavior will change: the default value of `keepdims` will become False, the `axis` over which the statistic is taken will be eliminated, and the value None will no longer be accepted. Set `keepdims` to True or False to avoid this warning.\n",
      "  mode, _ = stats.mode(_y[neigh_ind, k], axis=1)\n",
      "C:\\Users\\sarar\\anaconda3\\lib\\site-packages\\sklearn\\neighbors\\_classification.py:228: FutureWarning: Unlike other reduction functions (e.g. `skew`, `kurtosis`), the default behavior of `mode` typically preserves the axis it acts along. In SciPy 1.11.0, this behavior will change: the default value of `keepdims` will become False, the `axis` over which the statistic is taken will be eliminated, and the value None will no longer be accepted. Set `keepdims` to True or False to avoid this warning.\n",
      "  mode, _ = stats.mode(_y[neigh_ind, k], axis=1)\n",
      "C:\\Users\\sarar\\anaconda3\\lib\\site-packages\\sklearn\\neighbors\\_classification.py:228: FutureWarning: Unlike other reduction functions (e.g. `skew`, `kurtosis`), the default behavior of `mode` typically preserves the axis it acts along. In SciPy 1.11.0, this behavior will change: the default value of `keepdims` will become False, the `axis` over which the statistic is taken will be eliminated, and the value None will no longer be accepted. Set `keepdims` to True or False to avoid this warning.\n",
      "  mode, _ = stats.mode(_y[neigh_ind, k], axis=1)\n",
      "C:\\Users\\sarar\\anaconda3\\lib\\site-packages\\sklearn\\neighbors\\_classification.py:228: FutureWarning: Unlike other reduction functions (e.g. `skew`, `kurtosis`), the default behavior of `mode` typically preserves the axis it acts along. In SciPy 1.11.0, this behavior will change: the default value of `keepdims` will become False, the `axis` over which the statistic is taken will be eliminated, and the value None will no longer be accepted. Set `keepdims` to True or False to avoid this warning.\n",
      "  mode, _ = stats.mode(_y[neigh_ind, k], axis=1)\n",
      "C:\\Users\\sarar\\anaconda3\\lib\\site-packages\\sklearn\\neighbors\\_classification.py:228: FutureWarning: Unlike other reduction functions (e.g. `skew`, `kurtosis`), the default behavior of `mode` typically preserves the axis it acts along. In SciPy 1.11.0, this behavior will change: the default value of `keepdims` will become False, the `axis` over which the statistic is taken will be eliminated, and the value None will no longer be accepted. Set `keepdims` to True or False to avoid this warning.\n",
      "  mode, _ = stats.mode(_y[neigh_ind, k], axis=1)\n",
      "C:\\Users\\sarar\\anaconda3\\lib\\site-packages\\sklearn\\neighbors\\_classification.py:228: FutureWarning: Unlike other reduction functions (e.g. `skew`, `kurtosis`), the default behavior of `mode` typically preserves the axis it acts along. In SciPy 1.11.0, this behavior will change: the default value of `keepdims` will become False, the `axis` over which the statistic is taken will be eliminated, and the value None will no longer be accepted. Set `keepdims` to True or False to avoid this warning.\n",
      "  mode, _ = stats.mode(_y[neigh_ind, k], axis=1)\n",
      "C:\\Users\\sarar\\anaconda3\\lib\\site-packages\\sklearn\\neighbors\\_classification.py:228: FutureWarning: Unlike other reduction functions (e.g. `skew`, `kurtosis`), the default behavior of `mode` typically preserves the axis it acts along. In SciPy 1.11.0, this behavior will change: the default value of `keepdims` will become False, the `axis` over which the statistic is taken will be eliminated, and the value None will no longer be accepted. Set `keepdims` to True or False to avoid this warning.\n",
      "  mode, _ = stats.mode(_y[neigh_ind, k], axis=1)\n",
      "C:\\Users\\sarar\\anaconda3\\lib\\site-packages\\sklearn\\neighbors\\_classification.py:228: FutureWarning: Unlike other reduction functions (e.g. `skew`, `kurtosis`), the default behavior of `mode` typically preserves the axis it acts along. In SciPy 1.11.0, this behavior will change: the default value of `keepdims` will become False, the `axis` over which the statistic is taken will be eliminated, and the value None will no longer be accepted. Set `keepdims` to True or False to avoid this warning.\n",
      "  mode, _ = stats.mode(_y[neigh_ind, k], axis=1)\n",
      "C:\\Users\\sarar\\anaconda3\\lib\\site-packages\\sklearn\\neighbors\\_classification.py:228: FutureWarning: Unlike other reduction functions (e.g. `skew`, `kurtosis`), the default behavior of `mode` typically preserves the axis it acts along. In SciPy 1.11.0, this behavior will change: the default value of `keepdims` will become False, the `axis` over which the statistic is taken will be eliminated, and the value None will no longer be accepted. Set `keepdims` to True or False to avoid this warning.\n",
      "  mode, _ = stats.mode(_y[neigh_ind, k], axis=1)\n",
      "C:\\Users\\sarar\\anaconda3\\lib\\site-packages\\sklearn\\neighbors\\_classification.py:228: FutureWarning: Unlike other reduction functions (e.g. `skew`, `kurtosis`), the default behavior of `mode` typically preserves the axis it acts along. In SciPy 1.11.0, this behavior will change: the default value of `keepdims` will become False, the `axis` over which the statistic is taken will be eliminated, and the value None will no longer be accepted. Set `keepdims` to True or False to avoid this warning.\n",
      "  mode, _ = stats.mode(_y[neigh_ind, k], axis=1)\n",
      "C:\\Users\\sarar\\anaconda3\\lib\\site-packages\\sklearn\\neighbors\\_classification.py:228: FutureWarning: Unlike other reduction functions (e.g. `skew`, `kurtosis`), the default behavior of `mode` typically preserves the axis it acts along. In SciPy 1.11.0, this behavior will change: the default value of `keepdims` will become False, the `axis` over which the statistic is taken will be eliminated, and the value None will no longer be accepted. Set `keepdims` to True or False to avoid this warning.\n",
      "  mode, _ = stats.mode(_y[neigh_ind, k], axis=1)\n"
     ]
    },
    {
     "name": "stderr",
     "output_type": "stream",
     "text": [
      "C:\\Users\\sarar\\anaconda3\\lib\\site-packages\\sklearn\\neighbors\\_classification.py:228: FutureWarning: Unlike other reduction functions (e.g. `skew`, `kurtosis`), the default behavior of `mode` typically preserves the axis it acts along. In SciPy 1.11.0, this behavior will change: the default value of `keepdims` will become False, the `axis` over which the statistic is taken will be eliminated, and the value None will no longer be accepted. Set `keepdims` to True or False to avoid this warning.\n",
      "  mode, _ = stats.mode(_y[neigh_ind, k], axis=1)\n",
      "C:\\Users\\sarar\\anaconda3\\lib\\site-packages\\sklearn\\neighbors\\_classification.py:228: FutureWarning: Unlike other reduction functions (e.g. `skew`, `kurtosis`), the default behavior of `mode` typically preserves the axis it acts along. In SciPy 1.11.0, this behavior will change: the default value of `keepdims` will become False, the `axis` over which the statistic is taken will be eliminated, and the value None will no longer be accepted. Set `keepdims` to True or False to avoid this warning.\n",
      "  mode, _ = stats.mode(_y[neigh_ind, k], axis=1)\n",
      "C:\\Users\\sarar\\anaconda3\\lib\\site-packages\\sklearn\\neighbors\\_classification.py:228: FutureWarning: Unlike other reduction functions (e.g. `skew`, `kurtosis`), the default behavior of `mode` typically preserves the axis it acts along. In SciPy 1.11.0, this behavior will change: the default value of `keepdims` will become False, the `axis` over which the statistic is taken will be eliminated, and the value None will no longer be accepted. Set `keepdims` to True or False to avoid this warning.\n",
      "  mode, _ = stats.mode(_y[neigh_ind, k], axis=1)\n",
      "C:\\Users\\sarar\\anaconda3\\lib\\site-packages\\sklearn\\neighbors\\_classification.py:228: FutureWarning: Unlike other reduction functions (e.g. `skew`, `kurtosis`), the default behavior of `mode` typically preserves the axis it acts along. In SciPy 1.11.0, this behavior will change: the default value of `keepdims` will become False, the `axis` over which the statistic is taken will be eliminated, and the value None will no longer be accepted. Set `keepdims` to True or False to avoid this warning.\n",
      "  mode, _ = stats.mode(_y[neigh_ind, k], axis=1)\n",
      "C:\\Users\\sarar\\anaconda3\\lib\\site-packages\\sklearn\\neighbors\\_classification.py:228: FutureWarning: Unlike other reduction functions (e.g. `skew`, `kurtosis`), the default behavior of `mode` typically preserves the axis it acts along. In SciPy 1.11.0, this behavior will change: the default value of `keepdims` will become False, the `axis` over which the statistic is taken will be eliminated, and the value None will no longer be accepted. Set `keepdims` to True or False to avoid this warning.\n",
      "  mode, _ = stats.mode(_y[neigh_ind, k], axis=1)\n",
      "C:\\Users\\sarar\\anaconda3\\lib\\site-packages\\sklearn\\neighbors\\_classification.py:228: FutureWarning: Unlike other reduction functions (e.g. `skew`, `kurtosis`), the default behavior of `mode` typically preserves the axis it acts along. In SciPy 1.11.0, this behavior will change: the default value of `keepdims` will become False, the `axis` over which the statistic is taken will be eliminated, and the value None will no longer be accepted. Set `keepdims` to True or False to avoid this warning.\n",
      "  mode, _ = stats.mode(_y[neigh_ind, k], axis=1)\n",
      "C:\\Users\\sarar\\anaconda3\\lib\\site-packages\\sklearn\\neighbors\\_classification.py:228: FutureWarning: Unlike other reduction functions (e.g. `skew`, `kurtosis`), the default behavior of `mode` typically preserves the axis it acts along. In SciPy 1.11.0, this behavior will change: the default value of `keepdims` will become False, the `axis` over which the statistic is taken will be eliminated, and the value None will no longer be accepted. Set `keepdims` to True or False to avoid this warning.\n",
      "  mode, _ = stats.mode(_y[neigh_ind, k], axis=1)\n",
      "C:\\Users\\sarar\\anaconda3\\lib\\site-packages\\sklearn\\neighbors\\_classification.py:228: FutureWarning: Unlike other reduction functions (e.g. `skew`, `kurtosis`), the default behavior of `mode` typically preserves the axis it acts along. In SciPy 1.11.0, this behavior will change: the default value of `keepdims` will become False, the `axis` over which the statistic is taken will be eliminated, and the value None will no longer be accepted. Set `keepdims` to True or False to avoid this warning.\n",
      "  mode, _ = stats.mode(_y[neigh_ind, k], axis=1)\n",
      "C:\\Users\\sarar\\anaconda3\\lib\\site-packages\\sklearn\\neighbors\\_classification.py:228: FutureWarning: Unlike other reduction functions (e.g. `skew`, `kurtosis`), the default behavior of `mode` typically preserves the axis it acts along. In SciPy 1.11.0, this behavior will change: the default value of `keepdims` will become False, the `axis` over which the statistic is taken will be eliminated, and the value None will no longer be accepted. Set `keepdims` to True or False to avoid this warning.\n",
      "  mode, _ = stats.mode(_y[neigh_ind, k], axis=1)\n",
      "C:\\Users\\sarar\\anaconda3\\lib\\site-packages\\sklearn\\neighbors\\_classification.py:228: FutureWarning: Unlike other reduction functions (e.g. `skew`, `kurtosis`), the default behavior of `mode` typically preserves the axis it acts along. In SciPy 1.11.0, this behavior will change: the default value of `keepdims` will become False, the `axis` over which the statistic is taken will be eliminated, and the value None will no longer be accepted. Set `keepdims` to True or False to avoid this warning.\n",
      "  mode, _ = stats.mode(_y[neigh_ind, k], axis=1)\n",
      "C:\\Users\\sarar\\anaconda3\\lib\\site-packages\\sklearn\\neighbors\\_classification.py:228: FutureWarning: Unlike other reduction functions (e.g. `skew`, `kurtosis`), the default behavior of `mode` typically preserves the axis it acts along. In SciPy 1.11.0, this behavior will change: the default value of `keepdims` will become False, the `axis` over which the statistic is taken will be eliminated, and the value None will no longer be accepted. Set `keepdims` to True or False to avoid this warning.\n",
      "  mode, _ = stats.mode(_y[neigh_ind, k], axis=1)\n",
      "C:\\Users\\sarar\\anaconda3\\lib\\site-packages\\sklearn\\neighbors\\_classification.py:228: FutureWarning: Unlike other reduction functions (e.g. `skew`, `kurtosis`), the default behavior of `mode` typically preserves the axis it acts along. In SciPy 1.11.0, this behavior will change: the default value of `keepdims` will become False, the `axis` over which the statistic is taken will be eliminated, and the value None will no longer be accepted. Set `keepdims` to True or False to avoid this warning.\n",
      "  mode, _ = stats.mode(_y[neigh_ind, k], axis=1)\n",
      "C:\\Users\\sarar\\anaconda3\\lib\\site-packages\\sklearn\\neighbors\\_classification.py:228: FutureWarning: Unlike other reduction functions (e.g. `skew`, `kurtosis`), the default behavior of `mode` typically preserves the axis it acts along. In SciPy 1.11.0, this behavior will change: the default value of `keepdims` will become False, the `axis` over which the statistic is taken will be eliminated, and the value None will no longer be accepted. Set `keepdims` to True or False to avoid this warning.\n",
      "  mode, _ = stats.mode(_y[neigh_ind, k], axis=1)\n",
      "C:\\Users\\sarar\\anaconda3\\lib\\site-packages\\sklearn\\neighbors\\_classification.py:228: FutureWarning: Unlike other reduction functions (e.g. `skew`, `kurtosis`), the default behavior of `mode` typically preserves the axis it acts along. In SciPy 1.11.0, this behavior will change: the default value of `keepdims` will become False, the `axis` over which the statistic is taken will be eliminated, and the value None will no longer be accepted. Set `keepdims` to True or False to avoid this warning.\n",
      "  mode, _ = stats.mode(_y[neigh_ind, k], axis=1)\n",
      "C:\\Users\\sarar\\anaconda3\\lib\\site-packages\\sklearn\\neighbors\\_classification.py:228: FutureWarning: Unlike other reduction functions (e.g. `skew`, `kurtosis`), the default behavior of `mode` typically preserves the axis it acts along. In SciPy 1.11.0, this behavior will change: the default value of `keepdims` will become False, the `axis` over which the statistic is taken will be eliminated, and the value None will no longer be accepted. Set `keepdims` to True or False to avoid this warning.\n",
      "  mode, _ = stats.mode(_y[neigh_ind, k], axis=1)\n",
      "C:\\Users\\sarar\\anaconda3\\lib\\site-packages\\sklearn\\neighbors\\_classification.py:228: FutureWarning: Unlike other reduction functions (e.g. `skew`, `kurtosis`), the default behavior of `mode` typically preserves the axis it acts along. In SciPy 1.11.0, this behavior will change: the default value of `keepdims` will become False, the `axis` over which the statistic is taken will be eliminated, and the value None will no longer be accepted. Set `keepdims` to True or False to avoid this warning.\n",
      "  mode, _ = stats.mode(_y[neigh_ind, k], axis=1)\n"
     ]
    },
    {
     "name": "stderr",
     "output_type": "stream",
     "text": [
      "C:\\Users\\sarar\\anaconda3\\lib\\site-packages\\sklearn\\neighbors\\_classification.py:228: FutureWarning: Unlike other reduction functions (e.g. `skew`, `kurtosis`), the default behavior of `mode` typically preserves the axis it acts along. In SciPy 1.11.0, this behavior will change: the default value of `keepdims` will become False, the `axis` over which the statistic is taken will be eliminated, and the value None will no longer be accepted. Set `keepdims` to True or False to avoid this warning.\n",
      "  mode, _ = stats.mode(_y[neigh_ind, k], axis=1)\n",
      "C:\\Users\\sarar\\anaconda3\\lib\\site-packages\\sklearn\\neighbors\\_classification.py:228: FutureWarning: Unlike other reduction functions (e.g. `skew`, `kurtosis`), the default behavior of `mode` typically preserves the axis it acts along. In SciPy 1.11.0, this behavior will change: the default value of `keepdims` will become False, the `axis` over which the statistic is taken will be eliminated, and the value None will no longer be accepted. Set `keepdims` to True or False to avoid this warning.\n",
      "  mode, _ = stats.mode(_y[neigh_ind, k], axis=1)\n",
      "C:\\Users\\sarar\\anaconda3\\lib\\site-packages\\sklearn\\neighbors\\_classification.py:228: FutureWarning: Unlike other reduction functions (e.g. `skew`, `kurtosis`), the default behavior of `mode` typically preserves the axis it acts along. In SciPy 1.11.0, this behavior will change: the default value of `keepdims` will become False, the `axis` over which the statistic is taken will be eliminated, and the value None will no longer be accepted. Set `keepdims` to True or False to avoid this warning.\n",
      "  mode, _ = stats.mode(_y[neigh_ind, k], axis=1)\n",
      "C:\\Users\\sarar\\anaconda3\\lib\\site-packages\\sklearn\\neighbors\\_classification.py:228: FutureWarning: Unlike other reduction functions (e.g. `skew`, `kurtosis`), the default behavior of `mode` typically preserves the axis it acts along. In SciPy 1.11.0, this behavior will change: the default value of `keepdims` will become False, the `axis` over which the statistic is taken will be eliminated, and the value None will no longer be accepted. Set `keepdims` to True or False to avoid this warning.\n",
      "  mode, _ = stats.mode(_y[neigh_ind, k], axis=1)\n",
      "C:\\Users\\sarar\\anaconda3\\lib\\site-packages\\sklearn\\neighbors\\_classification.py:228: FutureWarning: Unlike other reduction functions (e.g. `skew`, `kurtosis`), the default behavior of `mode` typically preserves the axis it acts along. In SciPy 1.11.0, this behavior will change: the default value of `keepdims` will become False, the `axis` over which the statistic is taken will be eliminated, and the value None will no longer be accepted. Set `keepdims` to True or False to avoid this warning.\n",
      "  mode, _ = stats.mode(_y[neigh_ind, k], axis=1)\n",
      "C:\\Users\\sarar\\anaconda3\\lib\\site-packages\\sklearn\\neighbors\\_classification.py:228: FutureWarning: Unlike other reduction functions (e.g. `skew`, `kurtosis`), the default behavior of `mode` typically preserves the axis it acts along. In SciPy 1.11.0, this behavior will change: the default value of `keepdims` will become False, the `axis` over which the statistic is taken will be eliminated, and the value None will no longer be accepted. Set `keepdims` to True or False to avoid this warning.\n",
      "  mode, _ = stats.mode(_y[neigh_ind, k], axis=1)\n",
      "C:\\Users\\sarar\\anaconda3\\lib\\site-packages\\sklearn\\neighbors\\_classification.py:228: FutureWarning: Unlike other reduction functions (e.g. `skew`, `kurtosis`), the default behavior of `mode` typically preserves the axis it acts along. In SciPy 1.11.0, this behavior will change: the default value of `keepdims` will become False, the `axis` over which the statistic is taken will be eliminated, and the value None will no longer be accepted. Set `keepdims` to True or False to avoid this warning.\n",
      "  mode, _ = stats.mode(_y[neigh_ind, k], axis=1)\n",
      "C:\\Users\\sarar\\anaconda3\\lib\\site-packages\\sklearn\\neighbors\\_classification.py:228: FutureWarning: Unlike other reduction functions (e.g. `skew`, `kurtosis`), the default behavior of `mode` typically preserves the axis it acts along. In SciPy 1.11.0, this behavior will change: the default value of `keepdims` will become False, the `axis` over which the statistic is taken will be eliminated, and the value None will no longer be accepted. Set `keepdims` to True or False to avoid this warning.\n",
      "  mode, _ = stats.mode(_y[neigh_ind, k], axis=1)\n",
      "C:\\Users\\sarar\\anaconda3\\lib\\site-packages\\sklearn\\neighbors\\_classification.py:228: FutureWarning: Unlike other reduction functions (e.g. `skew`, `kurtosis`), the default behavior of `mode` typically preserves the axis it acts along. In SciPy 1.11.0, this behavior will change: the default value of `keepdims` will become False, the `axis` over which the statistic is taken will be eliminated, and the value None will no longer be accepted. Set `keepdims` to True or False to avoid this warning.\n",
      "  mode, _ = stats.mode(_y[neigh_ind, k], axis=1)\n",
      "C:\\Users\\sarar\\anaconda3\\lib\\site-packages\\sklearn\\neighbors\\_classification.py:228: FutureWarning: Unlike other reduction functions (e.g. `skew`, `kurtosis`), the default behavior of `mode` typically preserves the axis it acts along. In SciPy 1.11.0, this behavior will change: the default value of `keepdims` will become False, the `axis` over which the statistic is taken will be eliminated, and the value None will no longer be accepted. Set `keepdims` to True or False to avoid this warning.\n",
      "  mode, _ = stats.mode(_y[neigh_ind, k], axis=1)\n",
      "C:\\Users\\sarar\\anaconda3\\lib\\site-packages\\sklearn\\neighbors\\_classification.py:228: FutureWarning: Unlike other reduction functions (e.g. `skew`, `kurtosis`), the default behavior of `mode` typically preserves the axis it acts along. In SciPy 1.11.0, this behavior will change: the default value of `keepdims` will become False, the `axis` over which the statistic is taken will be eliminated, and the value None will no longer be accepted. Set `keepdims` to True or False to avoid this warning.\n",
      "  mode, _ = stats.mode(_y[neigh_ind, k], axis=1)\n",
      "C:\\Users\\sarar\\anaconda3\\lib\\site-packages\\sklearn\\neighbors\\_classification.py:228: FutureWarning: Unlike other reduction functions (e.g. `skew`, `kurtosis`), the default behavior of `mode` typically preserves the axis it acts along. In SciPy 1.11.0, this behavior will change: the default value of `keepdims` will become False, the `axis` over which the statistic is taken will be eliminated, and the value None will no longer be accepted. Set `keepdims` to True or False to avoid this warning.\n",
      "  mode, _ = stats.mode(_y[neigh_ind, k], axis=1)\n",
      "C:\\Users\\sarar\\anaconda3\\lib\\site-packages\\sklearn\\neighbors\\_classification.py:228: FutureWarning: Unlike other reduction functions (e.g. `skew`, `kurtosis`), the default behavior of `mode` typically preserves the axis it acts along. In SciPy 1.11.0, this behavior will change: the default value of `keepdims` will become False, the `axis` over which the statistic is taken will be eliminated, and the value None will no longer be accepted. Set `keepdims` to True or False to avoid this warning.\n",
      "  mode, _ = stats.mode(_y[neigh_ind, k], axis=1)\n",
      "C:\\Users\\sarar\\anaconda3\\lib\\site-packages\\sklearn\\neighbors\\_classification.py:228: FutureWarning: Unlike other reduction functions (e.g. `skew`, `kurtosis`), the default behavior of `mode` typically preserves the axis it acts along. In SciPy 1.11.0, this behavior will change: the default value of `keepdims` will become False, the `axis` over which the statistic is taken will be eliminated, and the value None will no longer be accepted. Set `keepdims` to True or False to avoid this warning.\n",
      "  mode, _ = stats.mode(_y[neigh_ind, k], axis=1)\n",
      "C:\\Users\\sarar\\anaconda3\\lib\\site-packages\\sklearn\\neighbors\\_classification.py:228: FutureWarning: Unlike other reduction functions (e.g. `skew`, `kurtosis`), the default behavior of `mode` typically preserves the axis it acts along. In SciPy 1.11.0, this behavior will change: the default value of `keepdims` will become False, the `axis` over which the statistic is taken will be eliminated, and the value None will no longer be accepted. Set `keepdims` to True or False to avoid this warning.\n",
      "  mode, _ = stats.mode(_y[neigh_ind, k], axis=1)\n",
      "C:\\Users\\sarar\\anaconda3\\lib\\site-packages\\sklearn\\neighbors\\_classification.py:228: FutureWarning: Unlike other reduction functions (e.g. `skew`, `kurtosis`), the default behavior of `mode` typically preserves the axis it acts along. In SciPy 1.11.0, this behavior will change: the default value of `keepdims` will become False, the `axis` over which the statistic is taken will be eliminated, and the value None will no longer be accepted. Set `keepdims` to True or False to avoid this warning.\n",
      "  mode, _ = stats.mode(_y[neigh_ind, k], axis=1)\n"
     ]
    },
    {
     "name": "stderr",
     "output_type": "stream",
     "text": [
      "C:\\Users\\sarar\\anaconda3\\lib\\site-packages\\sklearn\\neighbors\\_classification.py:228: FutureWarning: Unlike other reduction functions (e.g. `skew`, `kurtosis`), the default behavior of `mode` typically preserves the axis it acts along. In SciPy 1.11.0, this behavior will change: the default value of `keepdims` will become False, the `axis` over which the statistic is taken will be eliminated, and the value None will no longer be accepted. Set `keepdims` to True or False to avoid this warning.\n",
      "  mode, _ = stats.mode(_y[neigh_ind, k], axis=1)\n",
      "C:\\Users\\sarar\\anaconda3\\lib\\site-packages\\sklearn\\neighbors\\_classification.py:228: FutureWarning: Unlike other reduction functions (e.g. `skew`, `kurtosis`), the default behavior of `mode` typically preserves the axis it acts along. In SciPy 1.11.0, this behavior will change: the default value of `keepdims` will become False, the `axis` over which the statistic is taken will be eliminated, and the value None will no longer be accepted. Set `keepdims` to True or False to avoid this warning.\n",
      "  mode, _ = stats.mode(_y[neigh_ind, k], axis=1)\n",
      "C:\\Users\\sarar\\anaconda3\\lib\\site-packages\\sklearn\\neighbors\\_classification.py:228: FutureWarning: Unlike other reduction functions (e.g. `skew`, `kurtosis`), the default behavior of `mode` typically preserves the axis it acts along. In SciPy 1.11.0, this behavior will change: the default value of `keepdims` will become False, the `axis` over which the statistic is taken will be eliminated, and the value None will no longer be accepted. Set `keepdims` to True or False to avoid this warning.\n",
      "  mode, _ = stats.mode(_y[neigh_ind, k], axis=1)\n",
      "C:\\Users\\sarar\\anaconda3\\lib\\site-packages\\sklearn\\neighbors\\_classification.py:228: FutureWarning: Unlike other reduction functions (e.g. `skew`, `kurtosis`), the default behavior of `mode` typically preserves the axis it acts along. In SciPy 1.11.0, this behavior will change: the default value of `keepdims` will become False, the `axis` over which the statistic is taken will be eliminated, and the value None will no longer be accepted. Set `keepdims` to True or False to avoid this warning.\n",
      "  mode, _ = stats.mode(_y[neigh_ind, k], axis=1)\n",
      "C:\\Users\\sarar\\anaconda3\\lib\\site-packages\\sklearn\\neighbors\\_classification.py:228: FutureWarning: Unlike other reduction functions (e.g. `skew`, `kurtosis`), the default behavior of `mode` typically preserves the axis it acts along. In SciPy 1.11.0, this behavior will change: the default value of `keepdims` will become False, the `axis` over which the statistic is taken will be eliminated, and the value None will no longer be accepted. Set `keepdims` to True or False to avoid this warning.\n",
      "  mode, _ = stats.mode(_y[neigh_ind, k], axis=1)\n",
      "C:\\Users\\sarar\\anaconda3\\lib\\site-packages\\sklearn\\neighbors\\_classification.py:228: FutureWarning: Unlike other reduction functions (e.g. `skew`, `kurtosis`), the default behavior of `mode` typically preserves the axis it acts along. In SciPy 1.11.0, this behavior will change: the default value of `keepdims` will become False, the `axis` over which the statistic is taken will be eliminated, and the value None will no longer be accepted. Set `keepdims` to True or False to avoid this warning.\n",
      "  mode, _ = stats.mode(_y[neigh_ind, k], axis=1)\n",
      "C:\\Users\\sarar\\anaconda3\\lib\\site-packages\\sklearn\\neighbors\\_classification.py:228: FutureWarning: Unlike other reduction functions (e.g. `skew`, `kurtosis`), the default behavior of `mode` typically preserves the axis it acts along. In SciPy 1.11.0, this behavior will change: the default value of `keepdims` will become False, the `axis` over which the statistic is taken will be eliminated, and the value None will no longer be accepted. Set `keepdims` to True or False to avoid this warning.\n",
      "  mode, _ = stats.mode(_y[neigh_ind, k], axis=1)\n",
      "C:\\Users\\sarar\\anaconda3\\lib\\site-packages\\sklearn\\neighbors\\_classification.py:228: FutureWarning: Unlike other reduction functions (e.g. `skew`, `kurtosis`), the default behavior of `mode` typically preserves the axis it acts along. In SciPy 1.11.0, this behavior will change: the default value of `keepdims` will become False, the `axis` over which the statistic is taken will be eliminated, and the value None will no longer be accepted. Set `keepdims` to True or False to avoid this warning.\n",
      "  mode, _ = stats.mode(_y[neigh_ind, k], axis=1)\n",
      "C:\\Users\\sarar\\anaconda3\\lib\\site-packages\\sklearn\\neighbors\\_classification.py:228: FutureWarning: Unlike other reduction functions (e.g. `skew`, `kurtosis`), the default behavior of `mode` typically preserves the axis it acts along. In SciPy 1.11.0, this behavior will change: the default value of `keepdims` will become False, the `axis` over which the statistic is taken will be eliminated, and the value None will no longer be accepted. Set `keepdims` to True or False to avoid this warning.\n",
      "  mode, _ = stats.mode(_y[neigh_ind, k], axis=1)\n",
      "C:\\Users\\sarar\\anaconda3\\lib\\site-packages\\sklearn\\neighbors\\_classification.py:228: FutureWarning: Unlike other reduction functions (e.g. `skew`, `kurtosis`), the default behavior of `mode` typically preserves the axis it acts along. In SciPy 1.11.0, this behavior will change: the default value of `keepdims` will become False, the `axis` over which the statistic is taken will be eliminated, and the value None will no longer be accepted. Set `keepdims` to True or False to avoid this warning.\n",
      "  mode, _ = stats.mode(_y[neigh_ind, k], axis=1)\n",
      "C:\\Users\\sarar\\anaconda3\\lib\\site-packages\\sklearn\\neighbors\\_classification.py:228: FutureWarning: Unlike other reduction functions (e.g. `skew`, `kurtosis`), the default behavior of `mode` typically preserves the axis it acts along. In SciPy 1.11.0, this behavior will change: the default value of `keepdims` will become False, the `axis` over which the statistic is taken will be eliminated, and the value None will no longer be accepted. Set `keepdims` to True or False to avoid this warning.\n",
      "  mode, _ = stats.mode(_y[neigh_ind, k], axis=1)\n",
      "C:\\Users\\sarar\\anaconda3\\lib\\site-packages\\sklearn\\neighbors\\_classification.py:228: FutureWarning: Unlike other reduction functions (e.g. `skew`, `kurtosis`), the default behavior of `mode` typically preserves the axis it acts along. In SciPy 1.11.0, this behavior will change: the default value of `keepdims` will become False, the `axis` over which the statistic is taken will be eliminated, and the value None will no longer be accepted. Set `keepdims` to True or False to avoid this warning.\n",
      "  mode, _ = stats.mode(_y[neigh_ind, k], axis=1)\n",
      "C:\\Users\\sarar\\anaconda3\\lib\\site-packages\\sklearn\\neighbors\\_classification.py:228: FutureWarning: Unlike other reduction functions (e.g. `skew`, `kurtosis`), the default behavior of `mode` typically preserves the axis it acts along. In SciPy 1.11.0, this behavior will change: the default value of `keepdims` will become False, the `axis` over which the statistic is taken will be eliminated, and the value None will no longer be accepted. Set `keepdims` to True or False to avoid this warning.\n",
      "  mode, _ = stats.mode(_y[neigh_ind, k], axis=1)\n",
      "C:\\Users\\sarar\\anaconda3\\lib\\site-packages\\sklearn\\neighbors\\_classification.py:228: FutureWarning: Unlike other reduction functions (e.g. `skew`, `kurtosis`), the default behavior of `mode` typically preserves the axis it acts along. In SciPy 1.11.0, this behavior will change: the default value of `keepdims` will become False, the `axis` over which the statistic is taken will be eliminated, and the value None will no longer be accepted. Set `keepdims` to True or False to avoid this warning.\n",
      "  mode, _ = stats.mode(_y[neigh_ind, k], axis=1)\n",
      "C:\\Users\\sarar\\anaconda3\\lib\\site-packages\\sklearn\\neighbors\\_classification.py:228: FutureWarning: Unlike other reduction functions (e.g. `skew`, `kurtosis`), the default behavior of `mode` typically preserves the axis it acts along. In SciPy 1.11.0, this behavior will change: the default value of `keepdims` will become False, the `axis` over which the statistic is taken will be eliminated, and the value None will no longer be accepted. Set `keepdims` to True or False to avoid this warning.\n",
      "  mode, _ = stats.mode(_y[neigh_ind, k], axis=1)\n",
      "C:\\Users\\sarar\\anaconda3\\lib\\site-packages\\sklearn\\neighbors\\_classification.py:228: FutureWarning: Unlike other reduction functions (e.g. `skew`, `kurtosis`), the default behavior of `mode` typically preserves the axis it acts along. In SciPy 1.11.0, this behavior will change: the default value of `keepdims` will become False, the `axis` over which the statistic is taken will be eliminated, and the value None will no longer be accepted. Set `keepdims` to True or False to avoid this warning.\n",
      "  mode, _ = stats.mode(_y[neigh_ind, k], axis=1)\n"
     ]
    },
    {
     "name": "stderr",
     "output_type": "stream",
     "text": [
      "C:\\Users\\sarar\\anaconda3\\lib\\site-packages\\sklearn\\neighbors\\_classification.py:228: FutureWarning: Unlike other reduction functions (e.g. `skew`, `kurtosis`), the default behavior of `mode` typically preserves the axis it acts along. In SciPy 1.11.0, this behavior will change: the default value of `keepdims` will become False, the `axis` over which the statistic is taken will be eliminated, and the value None will no longer be accepted. Set `keepdims` to True or False to avoid this warning.\n",
      "  mode, _ = stats.mode(_y[neigh_ind, k], axis=1)\n",
      "C:\\Users\\sarar\\anaconda3\\lib\\site-packages\\sklearn\\neighbors\\_classification.py:228: FutureWarning: Unlike other reduction functions (e.g. `skew`, `kurtosis`), the default behavior of `mode` typically preserves the axis it acts along. In SciPy 1.11.0, this behavior will change: the default value of `keepdims` will become False, the `axis` over which the statistic is taken will be eliminated, and the value None will no longer be accepted. Set `keepdims` to True or False to avoid this warning.\n",
      "  mode, _ = stats.mode(_y[neigh_ind, k], axis=1)\n",
      "C:\\Users\\sarar\\anaconda3\\lib\\site-packages\\sklearn\\neighbors\\_classification.py:228: FutureWarning: Unlike other reduction functions (e.g. `skew`, `kurtosis`), the default behavior of `mode` typically preserves the axis it acts along. In SciPy 1.11.0, this behavior will change: the default value of `keepdims` will become False, the `axis` over which the statistic is taken will be eliminated, and the value None will no longer be accepted. Set `keepdims` to True or False to avoid this warning.\n",
      "  mode, _ = stats.mode(_y[neigh_ind, k], axis=1)\n",
      "C:\\Users\\sarar\\anaconda3\\lib\\site-packages\\sklearn\\neighbors\\_classification.py:228: FutureWarning: Unlike other reduction functions (e.g. `skew`, `kurtosis`), the default behavior of `mode` typically preserves the axis it acts along. In SciPy 1.11.0, this behavior will change: the default value of `keepdims` will become False, the `axis` over which the statistic is taken will be eliminated, and the value None will no longer be accepted. Set `keepdims` to True or False to avoid this warning.\n",
      "  mode, _ = stats.mode(_y[neigh_ind, k], axis=1)\n",
      "C:\\Users\\sarar\\anaconda3\\lib\\site-packages\\sklearn\\neighbors\\_classification.py:228: FutureWarning: Unlike other reduction functions (e.g. `skew`, `kurtosis`), the default behavior of `mode` typically preserves the axis it acts along. In SciPy 1.11.0, this behavior will change: the default value of `keepdims` will become False, the `axis` over which the statistic is taken will be eliminated, and the value None will no longer be accepted. Set `keepdims` to True or False to avoid this warning.\n",
      "  mode, _ = stats.mode(_y[neigh_ind, k], axis=1)\n",
      "C:\\Users\\sarar\\anaconda3\\lib\\site-packages\\sklearn\\neighbors\\_classification.py:228: FutureWarning: Unlike other reduction functions (e.g. `skew`, `kurtosis`), the default behavior of `mode` typically preserves the axis it acts along. In SciPy 1.11.0, this behavior will change: the default value of `keepdims` will become False, the `axis` over which the statistic is taken will be eliminated, and the value None will no longer be accepted. Set `keepdims` to True or False to avoid this warning.\n",
      "  mode, _ = stats.mode(_y[neigh_ind, k], axis=1)\n",
      "C:\\Users\\sarar\\anaconda3\\lib\\site-packages\\sklearn\\neighbors\\_classification.py:228: FutureWarning: Unlike other reduction functions (e.g. `skew`, `kurtosis`), the default behavior of `mode` typically preserves the axis it acts along. In SciPy 1.11.0, this behavior will change: the default value of `keepdims` will become False, the `axis` over which the statistic is taken will be eliminated, and the value None will no longer be accepted. Set `keepdims` to True or False to avoid this warning.\n",
      "  mode, _ = stats.mode(_y[neigh_ind, k], axis=1)\n",
      "C:\\Users\\sarar\\anaconda3\\lib\\site-packages\\sklearn\\neighbors\\_classification.py:228: FutureWarning: Unlike other reduction functions (e.g. `skew`, `kurtosis`), the default behavior of `mode` typically preserves the axis it acts along. In SciPy 1.11.0, this behavior will change: the default value of `keepdims` will become False, the `axis` over which the statistic is taken will be eliminated, and the value None will no longer be accepted. Set `keepdims` to True or False to avoid this warning.\n",
      "  mode, _ = stats.mode(_y[neigh_ind, k], axis=1)\n",
      "C:\\Users\\sarar\\anaconda3\\lib\\site-packages\\sklearn\\neighbors\\_classification.py:228: FutureWarning: Unlike other reduction functions (e.g. `skew`, `kurtosis`), the default behavior of `mode` typically preserves the axis it acts along. In SciPy 1.11.0, this behavior will change: the default value of `keepdims` will become False, the `axis` over which the statistic is taken will be eliminated, and the value None will no longer be accepted. Set `keepdims` to True or False to avoid this warning.\n",
      "  mode, _ = stats.mode(_y[neigh_ind, k], axis=1)\n",
      "C:\\Users\\sarar\\anaconda3\\lib\\site-packages\\sklearn\\neighbors\\_classification.py:228: FutureWarning: Unlike other reduction functions (e.g. `skew`, `kurtosis`), the default behavior of `mode` typically preserves the axis it acts along. In SciPy 1.11.0, this behavior will change: the default value of `keepdims` will become False, the `axis` over which the statistic is taken will be eliminated, and the value None will no longer be accepted. Set `keepdims` to True or False to avoid this warning.\n",
      "  mode, _ = stats.mode(_y[neigh_ind, k], axis=1)\n",
      "C:\\Users\\sarar\\anaconda3\\lib\\site-packages\\sklearn\\neighbors\\_classification.py:228: FutureWarning: Unlike other reduction functions (e.g. `skew`, `kurtosis`), the default behavior of `mode` typically preserves the axis it acts along. In SciPy 1.11.0, this behavior will change: the default value of `keepdims` will become False, the `axis` over which the statistic is taken will be eliminated, and the value None will no longer be accepted. Set `keepdims` to True or False to avoid this warning.\n",
      "  mode, _ = stats.mode(_y[neigh_ind, k], axis=1)\n",
      "C:\\Users\\sarar\\anaconda3\\lib\\site-packages\\sklearn\\neighbors\\_classification.py:228: FutureWarning: Unlike other reduction functions (e.g. `skew`, `kurtosis`), the default behavior of `mode` typically preserves the axis it acts along. In SciPy 1.11.0, this behavior will change: the default value of `keepdims` will become False, the `axis` over which the statistic is taken will be eliminated, and the value None will no longer be accepted. Set `keepdims` to True or False to avoid this warning.\n",
      "  mode, _ = stats.mode(_y[neigh_ind, k], axis=1)\n",
      "C:\\Users\\sarar\\anaconda3\\lib\\site-packages\\sklearn\\neighbors\\_classification.py:228: FutureWarning: Unlike other reduction functions (e.g. `skew`, `kurtosis`), the default behavior of `mode` typically preserves the axis it acts along. In SciPy 1.11.0, this behavior will change: the default value of `keepdims` will become False, the `axis` over which the statistic is taken will be eliminated, and the value None will no longer be accepted. Set `keepdims` to True or False to avoid this warning.\n",
      "  mode, _ = stats.mode(_y[neigh_ind, k], axis=1)\n",
      "C:\\Users\\sarar\\anaconda3\\lib\\site-packages\\sklearn\\neighbors\\_classification.py:228: FutureWarning: Unlike other reduction functions (e.g. `skew`, `kurtosis`), the default behavior of `mode` typically preserves the axis it acts along. In SciPy 1.11.0, this behavior will change: the default value of `keepdims` will become False, the `axis` over which the statistic is taken will be eliminated, and the value None will no longer be accepted. Set `keepdims` to True or False to avoid this warning.\n",
      "  mode, _ = stats.mode(_y[neigh_ind, k], axis=1)\n",
      "C:\\Users\\sarar\\anaconda3\\lib\\site-packages\\sklearn\\neighbors\\_classification.py:228: FutureWarning: Unlike other reduction functions (e.g. `skew`, `kurtosis`), the default behavior of `mode` typically preserves the axis it acts along. In SciPy 1.11.0, this behavior will change: the default value of `keepdims` will become False, the `axis` over which the statistic is taken will be eliminated, and the value None will no longer be accepted. Set `keepdims` to True or False to avoid this warning.\n",
      "  mode, _ = stats.mode(_y[neigh_ind, k], axis=1)\n",
      "C:\\Users\\sarar\\anaconda3\\lib\\site-packages\\sklearn\\neighbors\\_classification.py:228: FutureWarning: Unlike other reduction functions (e.g. `skew`, `kurtosis`), the default behavior of `mode` typically preserves the axis it acts along. In SciPy 1.11.0, this behavior will change: the default value of `keepdims` will become False, the `axis` over which the statistic is taken will be eliminated, and the value None will no longer be accepted. Set `keepdims` to True or False to avoid this warning.\n",
      "  mode, _ = stats.mode(_y[neigh_ind, k], axis=1)\n"
     ]
    },
    {
     "name": "stderr",
     "output_type": "stream",
     "text": [
      "C:\\Users\\sarar\\anaconda3\\lib\\site-packages\\sklearn\\neighbors\\_classification.py:228: FutureWarning: Unlike other reduction functions (e.g. `skew`, `kurtosis`), the default behavior of `mode` typically preserves the axis it acts along. In SciPy 1.11.0, this behavior will change: the default value of `keepdims` will become False, the `axis` over which the statistic is taken will be eliminated, and the value None will no longer be accepted. Set `keepdims` to True or False to avoid this warning.\n",
      "  mode, _ = stats.mode(_y[neigh_ind, k], axis=1)\n",
      "C:\\Users\\sarar\\anaconda3\\lib\\site-packages\\sklearn\\neighbors\\_classification.py:228: FutureWarning: Unlike other reduction functions (e.g. `skew`, `kurtosis`), the default behavior of `mode` typically preserves the axis it acts along. In SciPy 1.11.0, this behavior will change: the default value of `keepdims` will become False, the `axis` over which the statistic is taken will be eliminated, and the value None will no longer be accepted. Set `keepdims` to True or False to avoid this warning.\n",
      "  mode, _ = stats.mode(_y[neigh_ind, k], axis=1)\n",
      "C:\\Users\\sarar\\anaconda3\\lib\\site-packages\\sklearn\\neighbors\\_classification.py:228: FutureWarning: Unlike other reduction functions (e.g. `skew`, `kurtosis`), the default behavior of `mode` typically preserves the axis it acts along. In SciPy 1.11.0, this behavior will change: the default value of `keepdims` will become False, the `axis` over which the statistic is taken will be eliminated, and the value None will no longer be accepted. Set `keepdims` to True or False to avoid this warning.\n",
      "  mode, _ = stats.mode(_y[neigh_ind, k], axis=1)\n",
      "C:\\Users\\sarar\\anaconda3\\lib\\site-packages\\sklearn\\neighbors\\_classification.py:228: FutureWarning: Unlike other reduction functions (e.g. `skew`, `kurtosis`), the default behavior of `mode` typically preserves the axis it acts along. In SciPy 1.11.0, this behavior will change: the default value of `keepdims` will become False, the `axis` over which the statistic is taken will be eliminated, and the value None will no longer be accepted. Set `keepdims` to True or False to avoid this warning.\n",
      "  mode, _ = stats.mode(_y[neigh_ind, k], axis=1)\n",
      "C:\\Users\\sarar\\anaconda3\\lib\\site-packages\\sklearn\\neighbors\\_classification.py:228: FutureWarning: Unlike other reduction functions (e.g. `skew`, `kurtosis`), the default behavior of `mode` typically preserves the axis it acts along. In SciPy 1.11.0, this behavior will change: the default value of `keepdims` will become False, the `axis` over which the statistic is taken will be eliminated, and the value None will no longer be accepted. Set `keepdims` to True or False to avoid this warning.\n",
      "  mode, _ = stats.mode(_y[neigh_ind, k], axis=1)\n",
      "C:\\Users\\sarar\\anaconda3\\lib\\site-packages\\sklearn\\neighbors\\_classification.py:228: FutureWarning: Unlike other reduction functions (e.g. `skew`, `kurtosis`), the default behavior of `mode` typically preserves the axis it acts along. In SciPy 1.11.0, this behavior will change: the default value of `keepdims` will become False, the `axis` over which the statistic is taken will be eliminated, and the value None will no longer be accepted. Set `keepdims` to True or False to avoid this warning.\n",
      "  mode, _ = stats.mode(_y[neigh_ind, k], axis=1)\n",
      "C:\\Users\\sarar\\anaconda3\\lib\\site-packages\\sklearn\\neighbors\\_classification.py:228: FutureWarning: Unlike other reduction functions (e.g. `skew`, `kurtosis`), the default behavior of `mode` typically preserves the axis it acts along. In SciPy 1.11.0, this behavior will change: the default value of `keepdims` will become False, the `axis` over which the statistic is taken will be eliminated, and the value None will no longer be accepted. Set `keepdims` to True or False to avoid this warning.\n",
      "  mode, _ = stats.mode(_y[neigh_ind, k], axis=1)\n",
      "C:\\Users\\sarar\\anaconda3\\lib\\site-packages\\sklearn\\neighbors\\_classification.py:228: FutureWarning: Unlike other reduction functions (e.g. `skew`, `kurtosis`), the default behavior of `mode` typically preserves the axis it acts along. In SciPy 1.11.0, this behavior will change: the default value of `keepdims` will become False, the `axis` over which the statistic is taken will be eliminated, and the value None will no longer be accepted. Set `keepdims` to True or False to avoid this warning.\n",
      "  mode, _ = stats.mode(_y[neigh_ind, k], axis=1)\n",
      "C:\\Users\\sarar\\anaconda3\\lib\\site-packages\\sklearn\\neighbors\\_classification.py:228: FutureWarning: Unlike other reduction functions (e.g. `skew`, `kurtosis`), the default behavior of `mode` typically preserves the axis it acts along. In SciPy 1.11.0, this behavior will change: the default value of `keepdims` will become False, the `axis` over which the statistic is taken will be eliminated, and the value None will no longer be accepted. Set `keepdims` to True or False to avoid this warning.\n",
      "  mode, _ = stats.mode(_y[neigh_ind, k], axis=1)\n",
      "C:\\Users\\sarar\\anaconda3\\lib\\site-packages\\sklearn\\neighbors\\_classification.py:228: FutureWarning: Unlike other reduction functions (e.g. `skew`, `kurtosis`), the default behavior of `mode` typically preserves the axis it acts along. In SciPy 1.11.0, this behavior will change: the default value of `keepdims` will become False, the `axis` over which the statistic is taken will be eliminated, and the value None will no longer be accepted. Set `keepdims` to True or False to avoid this warning.\n",
      "  mode, _ = stats.mode(_y[neigh_ind, k], axis=1)\n",
      "C:\\Users\\sarar\\anaconda3\\lib\\site-packages\\sklearn\\neighbors\\_classification.py:228: FutureWarning: Unlike other reduction functions (e.g. `skew`, `kurtosis`), the default behavior of `mode` typically preserves the axis it acts along. In SciPy 1.11.0, this behavior will change: the default value of `keepdims` will become False, the `axis` over which the statistic is taken will be eliminated, and the value None will no longer be accepted. Set `keepdims` to True or False to avoid this warning.\n",
      "  mode, _ = stats.mode(_y[neigh_ind, k], axis=1)\n",
      "C:\\Users\\sarar\\anaconda3\\lib\\site-packages\\sklearn\\neighbors\\_classification.py:228: FutureWarning: Unlike other reduction functions (e.g. `skew`, `kurtosis`), the default behavior of `mode` typically preserves the axis it acts along. In SciPy 1.11.0, this behavior will change: the default value of `keepdims` will become False, the `axis` over which the statistic is taken will be eliminated, and the value None will no longer be accepted. Set `keepdims` to True or False to avoid this warning.\n",
      "  mode, _ = stats.mode(_y[neigh_ind, k], axis=1)\n",
      "C:\\Users\\sarar\\anaconda3\\lib\\site-packages\\sklearn\\neighbors\\_classification.py:228: FutureWarning: Unlike other reduction functions (e.g. `skew`, `kurtosis`), the default behavior of `mode` typically preserves the axis it acts along. In SciPy 1.11.0, this behavior will change: the default value of `keepdims` will become False, the `axis` over which the statistic is taken will be eliminated, and the value None will no longer be accepted. Set `keepdims` to True or False to avoid this warning.\n",
      "  mode, _ = stats.mode(_y[neigh_ind, k], axis=1)\n",
      "C:\\Users\\sarar\\anaconda3\\lib\\site-packages\\sklearn\\neighbors\\_classification.py:228: FutureWarning: Unlike other reduction functions (e.g. `skew`, `kurtosis`), the default behavior of `mode` typically preserves the axis it acts along. In SciPy 1.11.0, this behavior will change: the default value of `keepdims` will become False, the `axis` over which the statistic is taken will be eliminated, and the value None will no longer be accepted. Set `keepdims` to True or False to avoid this warning.\n",
      "  mode, _ = stats.mode(_y[neigh_ind, k], axis=1)\n",
      "C:\\Users\\sarar\\anaconda3\\lib\\site-packages\\sklearn\\neighbors\\_classification.py:228: FutureWarning: Unlike other reduction functions (e.g. `skew`, `kurtosis`), the default behavior of `mode` typically preserves the axis it acts along. In SciPy 1.11.0, this behavior will change: the default value of `keepdims` will become False, the `axis` over which the statistic is taken will be eliminated, and the value None will no longer be accepted. Set `keepdims` to True or False to avoid this warning.\n",
      "  mode, _ = stats.mode(_y[neigh_ind, k], axis=1)\n",
      "C:\\Users\\sarar\\anaconda3\\lib\\site-packages\\sklearn\\neighbors\\_classification.py:228: FutureWarning: Unlike other reduction functions (e.g. `skew`, `kurtosis`), the default behavior of `mode` typically preserves the axis it acts along. In SciPy 1.11.0, this behavior will change: the default value of `keepdims` will become False, the `axis` over which the statistic is taken will be eliminated, and the value None will no longer be accepted. Set `keepdims` to True or False to avoid this warning.\n",
      "  mode, _ = stats.mode(_y[neigh_ind, k], axis=1)\n"
     ]
    },
    {
     "name": "stderr",
     "output_type": "stream",
     "text": [
      "C:\\Users\\sarar\\anaconda3\\lib\\site-packages\\sklearn\\neighbors\\_classification.py:228: FutureWarning: Unlike other reduction functions (e.g. `skew`, `kurtosis`), the default behavior of `mode` typically preserves the axis it acts along. In SciPy 1.11.0, this behavior will change: the default value of `keepdims` will become False, the `axis` over which the statistic is taken will be eliminated, and the value None will no longer be accepted. Set `keepdims` to True or False to avoid this warning.\n",
      "  mode, _ = stats.mode(_y[neigh_ind, k], axis=1)\n",
      "C:\\Users\\sarar\\anaconda3\\lib\\site-packages\\sklearn\\neighbors\\_classification.py:228: FutureWarning: Unlike other reduction functions (e.g. `skew`, `kurtosis`), the default behavior of `mode` typically preserves the axis it acts along. In SciPy 1.11.0, this behavior will change: the default value of `keepdims` will become False, the `axis` over which the statistic is taken will be eliminated, and the value None will no longer be accepted. Set `keepdims` to True or False to avoid this warning.\n",
      "  mode, _ = stats.mode(_y[neigh_ind, k], axis=1)\n",
      "C:\\Users\\sarar\\anaconda3\\lib\\site-packages\\sklearn\\neighbors\\_classification.py:228: FutureWarning: Unlike other reduction functions (e.g. `skew`, `kurtosis`), the default behavior of `mode` typically preserves the axis it acts along. In SciPy 1.11.0, this behavior will change: the default value of `keepdims` will become False, the `axis` over which the statistic is taken will be eliminated, and the value None will no longer be accepted. Set `keepdims` to True or False to avoid this warning.\n",
      "  mode, _ = stats.mode(_y[neigh_ind, k], axis=1)\n",
      "C:\\Users\\sarar\\anaconda3\\lib\\site-packages\\sklearn\\neighbors\\_classification.py:228: FutureWarning: Unlike other reduction functions (e.g. `skew`, `kurtosis`), the default behavior of `mode` typically preserves the axis it acts along. In SciPy 1.11.0, this behavior will change: the default value of `keepdims` will become False, the `axis` over which the statistic is taken will be eliminated, and the value None will no longer be accepted. Set `keepdims` to True or False to avoid this warning.\n",
      "  mode, _ = stats.mode(_y[neigh_ind, k], axis=1)\n",
      "C:\\Users\\sarar\\anaconda3\\lib\\site-packages\\sklearn\\neighbors\\_classification.py:228: FutureWarning: Unlike other reduction functions (e.g. `skew`, `kurtosis`), the default behavior of `mode` typically preserves the axis it acts along. In SciPy 1.11.0, this behavior will change: the default value of `keepdims` will become False, the `axis` over which the statistic is taken will be eliminated, and the value None will no longer be accepted. Set `keepdims` to True or False to avoid this warning.\n",
      "  mode, _ = stats.mode(_y[neigh_ind, k], axis=1)\n",
      "C:\\Users\\sarar\\anaconda3\\lib\\site-packages\\sklearn\\neighbors\\_classification.py:228: FutureWarning: Unlike other reduction functions (e.g. `skew`, `kurtosis`), the default behavior of `mode` typically preserves the axis it acts along. In SciPy 1.11.0, this behavior will change: the default value of `keepdims` will become False, the `axis` over which the statistic is taken will be eliminated, and the value None will no longer be accepted. Set `keepdims` to True or False to avoid this warning.\n",
      "  mode, _ = stats.mode(_y[neigh_ind, k], axis=1)\n",
      "C:\\Users\\sarar\\anaconda3\\lib\\site-packages\\sklearn\\neighbors\\_classification.py:228: FutureWarning: Unlike other reduction functions (e.g. `skew`, `kurtosis`), the default behavior of `mode` typically preserves the axis it acts along. In SciPy 1.11.0, this behavior will change: the default value of `keepdims` will become False, the `axis` over which the statistic is taken will be eliminated, and the value None will no longer be accepted. Set `keepdims` to True or False to avoid this warning.\n",
      "  mode, _ = stats.mode(_y[neigh_ind, k], axis=1)\n",
      "C:\\Users\\sarar\\anaconda3\\lib\\site-packages\\sklearn\\neighbors\\_classification.py:228: FutureWarning: Unlike other reduction functions (e.g. `skew`, `kurtosis`), the default behavior of `mode` typically preserves the axis it acts along. In SciPy 1.11.0, this behavior will change: the default value of `keepdims` will become False, the `axis` over which the statistic is taken will be eliminated, and the value None will no longer be accepted. Set `keepdims` to True or False to avoid this warning.\n",
      "  mode, _ = stats.mode(_y[neigh_ind, k], axis=1)\n",
      "C:\\Users\\sarar\\anaconda3\\lib\\site-packages\\sklearn\\neighbors\\_classification.py:228: FutureWarning: Unlike other reduction functions (e.g. `skew`, `kurtosis`), the default behavior of `mode` typically preserves the axis it acts along. In SciPy 1.11.0, this behavior will change: the default value of `keepdims` will become False, the `axis` over which the statistic is taken will be eliminated, and the value None will no longer be accepted. Set `keepdims` to True or False to avoid this warning.\n",
      "  mode, _ = stats.mode(_y[neigh_ind, k], axis=1)\n",
      "C:\\Users\\sarar\\anaconda3\\lib\\site-packages\\sklearn\\neighbors\\_classification.py:228: FutureWarning: Unlike other reduction functions (e.g. `skew`, `kurtosis`), the default behavior of `mode` typically preserves the axis it acts along. In SciPy 1.11.0, this behavior will change: the default value of `keepdims` will become False, the `axis` over which the statistic is taken will be eliminated, and the value None will no longer be accepted. Set `keepdims` to True or False to avoid this warning.\n",
      "  mode, _ = stats.mode(_y[neigh_ind, k], axis=1)\n",
      "C:\\Users\\sarar\\anaconda3\\lib\\site-packages\\sklearn\\neighbors\\_classification.py:228: FutureWarning: Unlike other reduction functions (e.g. `skew`, `kurtosis`), the default behavior of `mode` typically preserves the axis it acts along. In SciPy 1.11.0, this behavior will change: the default value of `keepdims` will become False, the `axis` over which the statistic is taken will be eliminated, and the value None will no longer be accepted. Set `keepdims` to True or False to avoid this warning.\n",
      "  mode, _ = stats.mode(_y[neigh_ind, k], axis=1)\n"
     ]
    },
    {
     "data": {
      "text/plain": [
       "GridSearchCV(cv=10, estimator=KNeighborsClassifier(),\n",
       "             param_grid={'n_neighbors': range(1, 15)},\n",
       "             scoring=make_scorer(accuracy))"
      ]
     },
     "execution_count": 112,
     "metadata": {},
     "output_type": "execute_result"
    },
    {
     "data": {
      "text/plain": [
       "{'n_neighbors': 6}"
      ]
     },
     "execution_count": 112,
     "metadata": {},
     "output_type": "execute_result"
    }
   ],
   "source": [
    "from sklearn.model_selection import GridSearchCV\n",
    "\n",
    "model = KNeighborsClassifier()\n",
    "params = {'n_neighbors': range(1, 15)}\n",
    "cv = GridSearchCV(model, params, refit=True, cv=10, \n",
    "                  scoring=make_scorer(accuracy))\n",
    "cv.fit(X_train_full, y_train)\n",
    "cv.best_params_"
   ]
  }
 ],
 "metadata": {
  "kernelspec": {
   "display_name": "Python 3 (ipykernel)",
   "language": "python",
   "name": "python3"
  },
  "language_info": {
   "codemirror_mode": {
    "name": "ipython",
    "version": 3
   },
   "file_extension": ".py",
   "mimetype": "text/x-python",
   "name": "python",
   "nbconvert_exporter": "python",
   "pygments_lexer": "ipython3",
   "version": "3.9.13"
  }
 },
 "nbformat": 4,
 "nbformat_minor": 5
}
