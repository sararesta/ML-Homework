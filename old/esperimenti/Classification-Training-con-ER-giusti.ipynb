{
 "cells": [
  {
   "cell_type": "markdown",
   "id": "547a6093",
   "metadata": {},
   "source": [
    "# 2. Classification"
   ]
  },
  {
   "cell_type": "code",
   "execution_count": 1,
   "id": "82fa7b16",
   "metadata": {},
   "outputs": [],
   "source": [
    "# Run this code to make Jupyter print every\n",
    "# printable statement and not just the last one\n",
    "import warnings\n",
    "warnings.filterwarnings(\"ignore\")\n",
    "from IPython.core.interactiveshell import InteractiveShell\n",
    "InteractiveShell.ast_node_interactivity = \"all\"\n",
    "\n",
    "# To visualize the data\n",
    "import matplotlib.pyplot as plt\n",
    "\n",
    "# Generic libraries\n",
    "import seaborn as sns\n",
    "import pandas as pd\n",
    "import numpy as np\n",
    "\n",
    "# Regression models\n",
    "import sklearn\n",
    "import scipy\n",
    "from scipy.stats import *\n",
    "import sklearn\n",
    "from sklearn.model_selection import train_test_split, GridSearchCV #split the data into training and test\n",
    "from sklearn.linear_model import LinearRegression #linear regression\n",
    "from sklearn.preprocessing import PolynomialFeatures #for polynomial regression\n",
    "from sklearn.metrics import r2_score, mean_squared_error\n",
    "\n",
    "# 5-folds crossvalidation\n",
    "from sklearn.model_selection import cross_val_score\n",
    "from sklearn.metrics import make_scorer, classification_report, roc_auc_score\n",
    "from sklearn.pipeline import Pipeline\n",
    "\n",
    "#classification\n",
    "from sklearn.linear_model import LogisticRegression\n",
    "from sklearn.discriminant_analysis import LinearDiscriminantAnalysis as LDA\n",
    "from sklearn.discriminant_analysis import QuadraticDiscriminantAnalysis as QDA\n",
    "from sklearn.neighbors import KNeighborsClassifier \n",
    "from sklearn.model_selection import KFold\n",
    "from sklearn.svm import SVC\n",
    "from sklearn.svm import LinearSVC"
   ]
  },
  {
   "cell_type": "markdown",
   "id": "3bb4a7cb",
   "metadata": {},
   "source": [
    "## Preprocessing"
   ]
  },
  {
   "cell_type": "code",
   "execution_count": 2,
   "id": "37d14762",
   "metadata": {},
   "outputs": [],
   "source": [
    "training_set = pd.read_csv(\"training_set_complete1.csv\")\n",
    "\n",
    "#test_set = pd.read_csv(\"test_set_complete.csv\")\n",
    "training_set = training_set.drop(columns=['Unnamed: 0'])\n",
    "#test_set = test_set.drop(columns=['Unnamed: 0'])\n",
    "#training_set['Revenue'] = training_set['Revenue'].astype(int)\n",
    "\n",
    "# DA TOGLIERE UNA VOLTA CHE UNIAMO I NOTEBOOK!!!!\n",
    "\n",
    "training_set['Month']=training_set['Month'].astype('category')\n",
    "training_set['OperatingSystems']=training_set['OperatingSystems'].astype('category')\n",
    "training_set['Browser']=training_set['Browser'].astype('category')\n",
    "training_set['Region']=training_set['Region'].astype('category')\n",
    "training_set['TrafficType']=training_set['TrafficType'].astype('category')\n",
    "training_set['VisitorType']=training_set['VisitorType'].astype('category')\n",
    "training_set['Weekend']=training_set['Weekend'].astype('category')\n",
    "#training_set['Revenue']=training_set['Revenue'].astype('category')\n",
    "\n",
    "\n",
    "# We uniform the categories between training and test set\n",
    "\n",
    "all_categories_browser = list(range(1,14))\n",
    "all_categories_traffic_type = list(range(1,21))\n",
    "training_set['Browser'] = training_set['Browser'].cat.set_categories(all_categories_browser)\n",
    "training_set['TrafficType'] = training_set['TrafficType'].cat.set_categories(all_categories_traffic_type)\n",
    "#training_set['Weekend'] = np.where(training_set['Weekend']=='True',1,0)\n",
    "\n",
    "training_set = pd.get_dummies(training_set, columns=['Month', 'OperatingSystems', 'Browser', 'Region', 'TrafficType', 'VisitorType','Weekend'], drop_first=False)\n",
    "\n",
    "\n",
    "\n",
    "#test_set['Revenue'] = test_set['Revenue'].astype(int)\n",
    "#training_set['Revenue'].value_counts()\n",
    "#test_set['Revenue'].value_counts()\n",
    "categorical_features = ['Month_Aug', 'Month_Dec', 'Month_Feb', 'Month_Jul', 'Month_June',\n",
    "       'Month_Mar', 'Month_May', 'Month_Nov', 'Month_Oct', 'Month_Sep',\n",
    "       'OperatingSystems_1', 'OperatingSystems_2', 'OperatingSystems_3',\n",
    "       'OperatingSystems_4', 'OperatingSystems_5', 'OperatingSystems_6',\n",
    "       'OperatingSystems_7', 'OperatingSystems_8', 'Browser_1', 'Browser_2',\n",
    "       'Browser_3', 'Browser_4', 'Browser_5', 'Browser_6', 'Browser_7',\n",
    "       'Browser_8', 'Browser_9', 'Browser_10', 'Browser_11', 'Browser_12',\n",
    "       'Browser_13', 'Region_1', 'Region_2', 'Region_3', 'Region_4',\n",
    "       'Region_5', 'Region_6', 'Region_7', 'Region_8', 'Region_9',\n",
    "       'TrafficType_1', 'TrafficType_2', 'TrafficType_3', 'TrafficType_4',\n",
    "       'TrafficType_5', 'TrafficType_6', 'TrafficType_7', 'TrafficType_8',\n",
    "       'TrafficType_9', 'TrafficType_10', 'TrafficType_11', 'TrafficType_12',\n",
    "       'TrafficType_13', 'TrafficType_14', 'TrafficType_15', 'TrafficType_16',\n",
    "       'TrafficType_17', 'TrafficType_18', 'TrafficType_19', 'TrafficType_20',\n",
    "       'VisitorType_New_Visitor', 'VisitorType_Other',\n",
    "       'VisitorType_Returning_Visitor', 'Weekend_False', 'Weekend_True']\n",
    "#training_set[categorical_features] = training_set[categorical_features].astype('category')\n",
    "#test_set[categorical_features] = test_set[categorical_features].astype('category')"
   ]
  },
  {
   "cell_type": "code",
   "execution_count": 3,
   "id": "0a8acdf4",
   "metadata": {},
   "outputs": [],
   "source": [
    "X_train_full = training_set.drop(columns=['Revenue'])\n",
    "#X_test_full = test_set.drop(columns=['Revenue'])\n",
    "y_train = training_set['Revenue']\n",
    "#y_test = test_set['Revenue']"
   ]
  },
  {
   "cell_type": "markdown",
   "id": "f0ef0717",
   "metadata": {},
   "source": [
    "### Variance selection\n",
    "We apply variance selection to remove all the features with a very low variance."
   ]
  },
  {
   "cell_type": "code",
   "execution_count": 4,
   "id": "4622c48b",
   "metadata": {},
   "outputs": [
    {
     "name": "stdout",
     "output_type": "stream",
     "text": [
      "['Administrative', 'Administrative_Duration', 'Informational', 'Informational_Duration', 'ProductRelated', 'ProductRelated_Duration', 'BounceRates', 'ExitRates', 'PageValues', 'SpecialDay', 'Month_Aug', 'Month_Dec', 'Month_Feb', 'Month_Jul', 'Month_June', 'Month_Mar', 'Month_May', 'Month_Nov', 'Month_Oct', 'Month_Sep', 'OperatingSystems_1', 'OperatingSystems_2', 'OperatingSystems_3', 'OperatingSystems_4', 'OperatingSystems_6', 'OperatingSystems_8', 'Browser_1', 'Browser_2', 'Browser_3', 'Browser_4', 'Browser_5', 'Browser_6', 'Browser_7', 'Browser_8', 'Browser_10', 'Browser_13', 'Region_1', 'Region_2', 'Region_3', 'Region_4', 'Region_5', 'Region_6', 'Region_7', 'Region_8', 'Region_9', 'TrafficType_1', 'TrafficType_2', 'TrafficType_3', 'TrafficType_4', 'TrafficType_5', 'TrafficType_6', 'TrafficType_7', 'TrafficType_8', 'TrafficType_9', 'TrafficType_10', 'TrafficType_11', 'TrafficType_13', 'TrafficType_15', 'TrafficType_19', 'TrafficType_20', 'VisitorType_New_Visitor', 'VisitorType_Other', 'VisitorType_Returning_Visitor', 'Weekend_False', 'Weekend_True']\n"
     ]
    },
    {
     "data": {
      "text/plain": [
       "65"
      ]
     },
     "execution_count": 4,
     "metadata": {},
     "output_type": "execute_result"
    }
   ],
   "source": [
    "from sklearn.feature_selection import VarianceThreshold\n",
    "\n",
    "threshold = 0.001  # Soglia di varianza desiderata\n",
    "variance_selector = VarianceThreshold(threshold=threshold)\n",
    "\n",
    "# Applicazione della selezione della varianza sul dataset\n",
    "\n",
    "X_train = X_train_full.loc[:, variance_selector.fit(X_train_full).get_support()]\n",
    "columns_remaining = X_train.columns.tolist()\n",
    "\n",
    "#X_test = X_test_full[columns_remaining]\n",
    "print(X_train.columns.tolist())\n",
    "len(columns_remaining)"
   ]
  },
  {
   "cell_type": "markdown",
   "id": "63e2ae20",
   "metadata": {},
   "source": [
    "### Functions and algorithms"
   ]
  },
  {
   "cell_type": "markdown",
   "id": "6dfbd150",
   "metadata": {},
   "source": [
    "#### Feature selection: Forward stepwise selection\n",
    "We chose this algorithm because it's more scalable on a big dataset."
   ]
  },
  {
   "cell_type": "code",
   "execution_count": 5,
   "id": "f488230e",
   "metadata": {},
   "outputs": [],
   "source": [
    "from sklearn.dummy import DummyRegressor\n",
    "from sklearn.model_selection import cross_val_score\n",
    "from sklearn.metrics import make_scorer\n",
    "\n",
    "def get_evaluator(scorer):\n",
    "    def evaluator(model, X, y, trained=False):\n",
    "        if not trained:\n",
    "            model = model.fit(X, y)\n",
    "        score = scorer(model, X, y)\n",
    "        return model, score\n",
    "    return evaluator   \n",
    "\n",
    "def get_cv_evaluator(scorer, cv=3):\n",
    "    def evaluator(model, X, y, trained=False):            \n",
    "        scores = cross_val_score(model, X, y, scoring=scorer, cv=cv)\n",
    "        if not trained:\n",
    "            model = model.fit(X, y)\n",
    "        return model, np.mean(scores)\n",
    "    \n",
    "    return evaluator\n",
    "\n",
    "def get_val_evaluator(scorer, val_size=0.1):\n",
    "    def evaluator(model, X, y, trained=False):\n",
    "        X_train_small, X_val, y_train_small, y_val = train_test_split(X, y, \n",
    "                                                                      test_size=val_size,\n",
    "                                                                      random_state=0)\n",
    "        \n",
    "        if not trained:\n",
    "            model = model.fit(X_train_small, y_train_small)\n",
    "        score = scorer(model, X_val, y_val) \n",
    "        \n",
    "        return model, score\n",
    "    \n",
    "    return evaluator\n",
    "\n",
    "\n",
    "possible_models = {\n",
    "    \"LogisticRegression\":LogisticRegression(solver=\"newton-cg\", max_iter=1000),\n",
    "    \"LDA\":LDA(),\n",
    "    \"QDA\":QDA(),\n",
    "    #\"KNN\":KNeighborsClassifier(n_neighbors=6),\n",
    "    \"LinearRegression\":LinearRegression(fit_intercept=True),\n",
    "    \"SVM\":LinearSVC(C=0.1,max_iter=1000)\n",
    "}\n",
    "\n",
    "#da qui inizia il ctrl Z\n",
    "\n",
    "def forward_selection(Xtrain_pd, ytrain, model_chosen,\n",
    "                      candidates_evaluator, candidates_argbest, # Metric to be used at 2.b\n",
    "                      subsets_evaluator, subsets_argbest,       # Metric to be used at 3\n",
    "                      candidates_scorer_name=None,  # Name of 2. figure\n",
    "                      subsets_scorer_name=None,     # Name of 3. figure\n",
    "                      verbose=True, weight_step3=0):   \n",
    "    \n",
    "    \n",
    "    # Global variable init\n",
    "    # ====================\n",
    "    num_features = Xtrain_pd.shape[-1]\n",
    "    best_candidate_metric = []\n",
    "    # subsets_* are lists containing one value for each Mk model (the best of the Mk candidates)\n",
    "    subsets_metric = []        # The best metric of each subset of dimension 'dim'\n",
    "    subsets_best_features = [] # The best features combination in each subset of dimension 'dim'\n",
    "    # A figure to keep track of candidates scores in each Mk subset\n",
    "    num_evaluations = 0        # A conter to keep track of the total number of trials\n",
    "    \n",
    "    selected_features = []\n",
    "    all_features = Xtrain_pd.columns\n",
    "    \n",
    "    \n",
    "    # 1. Train M0\n",
    "    # ===========\n",
    "    model = DummyRegressor()\n",
    "    # Compute (2.b) metrics\n",
    "    model, score = candidates_evaluator(model, Xtrain_pd[[]], ytrain)\n",
    "    best_candidate_metric.append(score)\n",
    "    subsets_best_features.append([])\n",
    "    # Compute metric for step 3.\n",
    "    _, score = subsets_evaluator(model, Xtrain_pd[[]], ytrain, trained=True)\n",
    "    subsets_metric.append(score)\n",
    "    \n",
    "    \n",
    "    for dim in range(num_features):\n",
    "        candidate_metrics = [] # metrics for all the models with dim features\n",
    "        candidate_models = []  # models with dim features\n",
    "        \n",
    "        remaining_features = all_features.difference(selected_features)\n",
    "        \n",
    "        # fit all the models with k features\n",
    "        for new_column in remaining_features:\n",
    "            Xtrain_sub = Xtrain_pd[selected_features+[new_column]].to_numpy()\n",
    "            model = possible_models[model_chosen]\n",
    "            #print(new_column)\n",
    "            model, score = candidates_evaluator(model, Xtrain_sub, ytrain)\n",
    "            candidate_models.append(model)\n",
    "            candidate_metrics.append(score)\n",
    "            num_evaluations += 1\n",
    "            \n",
    "        \n",
    "        idx_best_candidate = candidates_argbest(candidate_metrics) # select the best Mk model\n",
    "        selected_features.append(remaining_features[idx_best_candidate]) # Update selected feature\n",
    "        best_candidate_metric.append(candidate_metrics[idx_best_candidate]) # Save best candidate features\n",
    "        best_features = selected_features.copy()\n",
    "        subsets_best_features.append(best_features)\n",
    "        \n",
    "        \n",
    "        # Compute metric for the final step -> comparison of all the best models\n",
    "        best_subset_model = candidate_models[idx_best_candidate] # save the best model\n",
    "        best_subset_Xtrain = Xtrain_pd[best_features].to_numpy()\n",
    "        _, score = subsets_evaluator(best_subset_model, best_subset_Xtrain, ytrain, trained=True)\n",
    "        subsets_metric.append(score) #computing the metrics for the training set\n",
    "        num_evaluations += weight_step3 \n",
    "        \n",
    "        if verbose:\n",
    "            print(\"............\")\n",
    "            print(\"Best model (M{}) with {} features: {}\".format(dim+1, dim+1, best_features))\n",
    "            print(\"M{} subset score (3.): {}\".format(dim+1, score))\n",
    "        \n",
    "    # choose the best candidates\n",
    "    best_subset_idx = subsets_argbest(subsets_metric)\n",
    "    best_features = subsets_best_features[best_subset_idx]\n",
    "    \n",
    "    if verbose:\n",
    "        print(\"\\n Best configuration has {} features\".format(best_subset_idx))\n",
    "        print(\"Features: {}\".format(subsets_best_features[best_subset_idx]))\n",
    "        print(\"Total number of trained models:\", num_evaluations)\n",
    "    \n",
    "    # Complete the subsets_fig figure by plotting\n",
    "    # a line connecting all best candidate score\n",
    "    best_candidate_score_idx = candidates_argbest(best_candidate_metric)\n",
    "    return best_features\n",
    "    "
   ]
  },
  {
   "cell_type": "markdown",
   "id": "b06c7e91",
   "metadata": {},
   "source": [
    "#### Accuracy"
   ]
  },
  {
   "cell_type": "code",
   "execution_count": 6,
   "id": "6fd571b8",
   "metadata": {},
   "outputs": [],
   "source": [
    "def accuracy(y_pred, y_true):\n",
    "    return (y_pred == y_true).mean()\n",
    "\n",
    "def calculate_sensitivity_specificity(confusion_matrix):\n",
    "    # Extract values from the confusion matrix\n",
    "    TN, FP, FN, TP = confusion_matrix.ravel()\n",
    "\n",
    "    # Calculate Sensitivity (Recall)\n",
    "    sensitivity = TP / (TP + FN)\n",
    "\n",
    "    # Calculate Specificity\n",
    "    specificity = TN / (TN + FP)\n",
    "\n",
    "    return sensitivity, specificity"
   ]
  },
  {
   "cell_type": "markdown",
   "id": "982a7418",
   "metadata": {},
   "source": [
    "#### Evaluation metrics"
   ]
  },
  {
   "cell_type": "code",
   "execution_count": 7,
   "id": "160e03e6",
   "metadata": {},
   "outputs": [],
   "source": [
    "from sklearn.metrics import confusion_matrix\n",
    "\n",
    "def classification_metrics_training(model, model_name, X_train, y_train, cv):\n",
    "    #sensitivity\n",
    "    sensitivity_train = np.mean(np.absolute(cross_val_score(model, X_train, y_train, cv=cv, scoring='recall', n_jobs=-1)))\n",
    "    \n",
    "    #specificity\n",
    "    specificity_train = np.mean(np.absolute(cross_val_score(model, X_train, y_train, cv=cv, scoring='precision', n_jobs=-1)))\n",
    "    \n",
    "    #accuracy\n",
    "    accuracy_train = np.mean(np.absolute(cross_val_score(model, X_train, y_train, cv=cv, scoring='accuracy', n_jobs=-1)))\n",
    "                         \n",
    "    # building a dataframe\n",
    "    data = {\n",
    "        'Model': [model_name],\n",
    "        'Accuracy': [accuracy_train],\n",
    "        'Sensitivity': [sensitivity_train],\n",
    "        'Specificity': [specificity_train],\n",
    "    }\n",
    "    return pd.DataFrame(data)                    "
   ]
  },
  {
   "cell_type": "code",
   "execution_count": 8,
   "id": "e866b1d7",
   "metadata": {},
   "outputs": [],
   "source": [
    "def classification_metrics_test(model, model_name,X_train,y_train,X_test,y_test,threshold):\n",
    "    # building the confusion matrix for test performances\n",
    "    model = model.fit(X_train,y_train)\n",
    "    #ypred = model.predict(X_test)\n",
    "    y_pred_proba = model.predict_proba(X_test)[:, 1]  # Probability of positive class (class 1)\n",
    "\n",
    "    # Convert probabilities to binary predictions\n",
    "    ypred = (y_pred_proba > threshold).astype(int)\n",
    "    \n",
    "    cm = confusion_matrix(y_test.to_numpy(), np.array(ypred))\n",
    "    sensitivity_test, specificity_test = calculate_sensitivity_specificity(cm)\n",
    "    \n",
    "    accuracy_test = accuracy(ypred, y_test)\n",
    "    \n",
    "    # building a dataframe\n",
    "    data = {\n",
    "        'Model': [model_name],\n",
    "        'Accuracy': [accuracy_test],\n",
    "        'Sensitivity': [sensitivity_test],\n",
    "        'Specificity': [specificity_test],\n",
    "    }\n",
    "    return pd.DataFrame(data), cm"
   ]
  },
  {
   "cell_type": "code",
   "execution_count": 9,
   "id": "bd019a07",
   "metadata": {},
   "outputs": [],
   "source": [
    "# We compute the empirical threshold\n",
    "empirical_threshold = y_train.mean()\n",
    "\n",
    "from sklearn.metrics import accuracy_score, precision_score, recall_score, f1_score\n",
    "def classification_metrics_empirical_threshold(model, model_name, X_train, y_train,threshold=0.5):\n",
    "    \n",
    "    model = model.fit(X_train, y_train)\n",
    "    \n",
    "    # Get predicted probabilities\n",
    "    y_pred_proba = model.predict_proba(X_train)[:, 1]  # Probability of positive class (class 1)\n",
    "\n",
    "    # Convert probabilities to binary predictions\n",
    "    y_pred = (y_pred_proba > threshold).astype(int)\n",
    "\n",
    "    # Evaluate the performance using various metrics\n",
    "    accuracy = accuracy_score(y_train, y_pred)\n",
    "    specificity = precision_score(y_train, y_pred)\n",
    "    sensitivity = recall_score(y_train, y_pred)\n",
    "    f1 = f1_score(y_train, y_pred)\n",
    "    \n",
    "    data = {\n",
    "        'Model': [model_name],\n",
    "        'Accuracy': [accuracy],\n",
    "        'Sensitivity': [sensitivity],\n",
    "        'Specificity': [specificity],\n",
    "    }\n",
    "    return pd.DataFrame(data) \n"
   ]
  },
  {
   "cell_type": "markdown",
   "id": "12901cd6",
   "metadata": {},
   "source": [
    "## Logistic regression"
   ]
  },
  {
   "cell_type": "markdown",
   "id": "792f64c9",
   "metadata": {},
   "source": [
    "### Scaling data\n",
    "We scale the numerical features to avoid convergence problem with logistic regression."
   ]
  },
  {
   "cell_type": "code",
   "execution_count": 10,
   "id": "f0fd591a",
   "metadata": {},
   "outputs": [],
   "source": [
    "# FACCIAMO QUESTO STEP PER EVITARE PROBLEMI DI CONVERGENZA NEL MODELLO\n",
    "from sklearn.preprocessing import StandardScaler\n",
    "\n",
    "# Assuming you have your feature data X\n",
    "numeric_features = ['Administrative', 'Administrative_Duration', 'Informational',\n",
    "       'Informational_Duration', 'ProductRelated', 'ProductRelated_Duration',\n",
    "       'BounceRates', 'ExitRates', 'PageValues', 'SpecialDay']\n",
    "categorical_features = ['Month_Aug', 'Month_Dec', 'Month_Feb', 'Month_Jul', 'Month_June', 'Month_Mar', 'Month_May', \n",
    "                        'Month_Nov', 'Month_Oct', 'Month_Sep', 'OperatingSystems_1', 'OperatingSystems_2', 'OperatingSystems_3', 'OperatingSystems_4', 'OperatingSystems_6', 'OperatingSystems_8', 'Browser_1', 'Browser_2', 'Browser_3', 'Browser_4', 'Browser_5', 'Browser_6', 'Browser_7', 'Browser_8', 'Browser_10', 'Browser_13', 'Region_1', 'Region_2', 'Region_3', 'Region_4', 'Region_5',\n",
    "                        'Region_6', 'Region_7', 'Region_8', 'Region_9', 'TrafficType_1', 'TrafficType_2', \n",
    "                        'TrafficType_3', 'TrafficType_4', 'TrafficType_5', 'TrafficType_6', 'TrafficType_7', \n",
    "                        'TrafficType_8', 'TrafficType_9', 'TrafficType_10', 'TrafficType_11', 'TrafficType_13', \n",
    "                        'TrafficType_15', 'TrafficType_19', 'TrafficType_20', 'VisitorType_New_Visitor', 'VisitorType_Other', 'VisitorType_Returning_Visitor', 'Weekend_False', 'Weekend_True']\n",
    "scaler = StandardScaler()\n",
    "train_scaled = pd.DataFrame(scaler.fit_transform(X_train[numeric_features]))\n",
    "#test_scaled = pd.DataFrame(scaler.fit_transform(X_test[numeric_features]))\n",
    "train_scaled.columns = X_train[numeric_features].columns\n",
    "#test_scaled.columns = X_test[numeric_features].columns\n",
    "X_train_scaled = pd.concat([train_scaled,X_train[categorical_features]],axis=1)\n",
    "#X_test_scaled = pd.concat([test_scaled,X_test[categorical_features]],axis=1)"
   ]
  },
  {
   "cell_type": "markdown",
   "id": "687db0bf",
   "metadata": {},
   "source": [
    "### Feature selection"
   ]
  },
  {
   "cell_type": "code",
   "execution_count": 11,
   "id": "535ef449",
   "metadata": {
    "scrolled": true
   },
   "outputs": [
    {
     "name": "stdout",
     "output_type": "stream",
     "text": [
      "............\n",
      "Best model (M1) with 1 features: ['PageValues']\n",
      "M1 subset score (3.): 0.8801900808325904\n",
      "............\n",
      "Best model (M2) with 2 features: ['PageValues', 'VisitorType_New_Visitor']\n",
      "M2 subset score (3.): 0.8822445441655826\n",
      "............\n",
      "Best model (M3) with 3 features: ['PageValues', 'VisitorType_New_Visitor', 'Region_9']\n",
      "M3 subset score (3.): 0.8822447195708418\n",
      "............\n",
      "Best model (M4) with 4 features: ['PageValues', 'VisitorType_New_Visitor', 'Region_9', 'Browser_7']\n",
      "M4 subset score (3.): 0.8822447195708418\n",
      "............\n",
      "Best model (M5) with 5 features: ['PageValues', 'VisitorType_New_Visitor', 'Region_9', 'Browser_7', 'Browser_3']\n",
      "M5 subset score (3.): 0.882460935787058\n",
      "............\n",
      "Best model (M6) with 6 features: ['PageValues', 'VisitorType_New_Visitor', 'Region_9', 'Browser_7', 'Browser_3', 'TrafficType_11']\n",
      "M6 subset score (3.): 0.8827853770482219\n",
      "............\n",
      "Best model (M7) with 7 features: ['PageValues', 'VisitorType_New_Visitor', 'Region_9', 'Browser_7', 'Browser_3', 'TrafficType_11', 'Month_Feb']\n",
      "M7 subset score (3.): 0.8827854939850613\n",
      "............\n",
      "Best model (M8) with 8 features: ['PageValues', 'VisitorType_New_Visitor', 'Region_9', 'Browser_7', 'Browser_3', 'TrafficType_11', 'Month_Feb', 'Browser_2']\n",
      "M8 subset score (3.): 0.8831098183093857\n",
      "............\n",
      "Best model (M9) with 9 features: ['PageValues', 'VisitorType_New_Visitor', 'Region_9', 'Browser_7', 'Browser_3', 'TrafficType_11', 'Month_Feb', 'Browser_2', 'TrafficType_6']\n",
      "M9 subset score (3.): 0.88289348515633\n",
      "............\n",
      "Best model (M10) with 10 features: ['PageValues', 'VisitorType_New_Visitor', 'Region_9', 'Browser_7', 'Browser_3', 'TrafficType_11', 'Month_Feb', 'Browser_2', 'TrafficType_6', 'OperatingSystems_8']\n",
      "M10 subset score (3.): 0.88289348515633\n",
      "............\n",
      "Best model (M11) with 11 features: ['PageValues', 'VisitorType_New_Visitor', 'Region_9', 'Browser_7', 'Browser_3', 'TrafficType_11', 'Month_Feb', 'Browser_2', 'TrafficType_6', 'OperatingSystems_8', 'Region_8']\n",
      "M11 subset score (3.): 0.8830015932644381\n",
      "............\n",
      "Best model (M12) with 12 features: ['PageValues', 'VisitorType_New_Visitor', 'Region_9', 'Browser_7', 'Browser_3', 'TrafficType_11', 'Month_Feb', 'Browser_2', 'TrafficType_6', 'OperatingSystems_8', 'Region_8', 'Region_7']\n",
      "M12 subset score (3.): 0.8831097013725462\n",
      "............\n",
      "Best model (M13) with 13 features: ['PageValues', 'VisitorType_New_Visitor', 'Region_9', 'Browser_7', 'Browser_3', 'TrafficType_11', 'Month_Feb', 'Browser_2', 'TrafficType_6', 'OperatingSystems_8', 'Region_8', 'Region_7', 'OperatingSystems_6']\n",
      "M13 subset score (3.): 0.8830015347960183\n",
      "............\n",
      "Best model (M14) with 14 features: ['PageValues', 'VisitorType_New_Visitor', 'Region_9', 'Browser_7', 'Browser_3', 'TrafficType_11', 'Month_Feb', 'Browser_2', 'TrafficType_6', 'OperatingSystems_8', 'Region_8', 'Region_7', 'OperatingSystems_6', 'Browser_8']\n",
      "M14 subset score (3.): 0.8828934266879103\n",
      "............\n",
      "Best model (M15) with 15 features: ['PageValues', 'VisitorType_New_Visitor', 'Region_9', 'Browser_7', 'Browser_3', 'TrafficType_11', 'Month_Feb', 'Browser_2', 'TrafficType_6', 'OperatingSystems_8', 'Region_8', 'Region_7', 'OperatingSystems_6', 'Browser_8', 'Region_5']\n",
      "M15 subset score (3.): 0.8830015347960183\n",
      "............\n",
      "Best model (M16) with 16 features: ['PageValues', 'VisitorType_New_Visitor', 'Region_9', 'Browser_7', 'Browser_3', 'TrafficType_11', 'Month_Feb', 'Browser_2', 'TrafficType_6', 'OperatingSystems_8', 'Region_8', 'Region_7', 'OperatingSystems_6', 'Browser_8', 'Region_5', 'Month_Aug']\n",
      "M16 subset score (3.): 0.8831097013725462\n",
      "............\n",
      "Best model (M17) with 17 features: ['PageValues', 'VisitorType_New_Visitor', 'Region_9', 'Browser_7', 'Browser_3', 'TrafficType_11', 'Month_Feb', 'Browser_2', 'TrafficType_6', 'OperatingSystems_8', 'Region_8', 'Region_7', 'OperatingSystems_6', 'Browser_8', 'Region_5', 'Month_Aug', 'Region_2']\n",
      "M17 subset score (3.): 0.8831095844357068\n",
      "............\n",
      "Best model (M18) with 18 features: ['PageValues', 'VisitorType_New_Visitor', 'Region_9', 'Browser_7', 'Browser_3', 'TrafficType_11', 'Month_Feb', 'Browser_2', 'TrafficType_6', 'OperatingSystems_8', 'Region_8', 'Region_7', 'OperatingSystems_6', 'Browser_8', 'Region_5', 'Month_Aug', 'Region_2', 'TrafficType_7']\n",
      "M18 subset score (3.): 0.8831095844357068\n",
      "............\n",
      "Best model (M19) with 19 features: ['PageValues', 'VisitorType_New_Visitor', 'Region_9', 'Browser_7', 'Browser_3', 'TrafficType_11', 'Month_Feb', 'Browser_2', 'TrafficType_6', 'OperatingSystems_8', 'Region_8', 'Region_7', 'OperatingSystems_6', 'Browser_8', 'Region_5', 'Month_Aug', 'Region_2', 'TrafficType_7', 'TrafficType_15']\n",
      "M19 subset score (3.): 0.8831096429041265\n",
      "............\n",
      "Best model (M20) with 20 features: ['PageValues', 'VisitorType_New_Visitor', 'Region_9', 'Browser_7', 'Browser_3', 'TrafficType_11', 'Month_Feb', 'Browser_2', 'TrafficType_6', 'OperatingSystems_8', 'Region_8', 'Region_7', 'OperatingSystems_6', 'Browser_8', 'Region_5', 'Month_Aug', 'Region_2', 'TrafficType_7', 'TrafficType_15', 'TrafficType_19']\n",
      "M20 subset score (3.): 0.8831096429041265\n",
      "............\n",
      "Best model (M21) with 21 features: ['PageValues', 'VisitorType_New_Visitor', 'Region_9', 'Browser_7', 'Browser_3', 'TrafficType_11', 'Month_Feb', 'Browser_2', 'TrafficType_6', 'OperatingSystems_8', 'Region_8', 'Region_7', 'OperatingSystems_6', 'Browser_8', 'Region_5', 'Month_Aug', 'Region_2', 'TrafficType_7', 'TrafficType_15', 'TrafficType_19', 'TrafficType_9']\n",
      "M21 subset score (3.): 0.8831096429041265\n",
      "............\n",
      "Best model (M22) with 22 features: ['PageValues', 'VisitorType_New_Visitor', 'Region_9', 'Browser_7', 'Browser_3', 'TrafficType_11', 'Month_Feb', 'Browser_2', 'TrafficType_6', 'OperatingSystems_8', 'Region_8', 'Region_7', 'OperatingSystems_6', 'Browser_8', 'Region_5', 'Month_Aug', 'Region_2', 'TrafficType_7', 'TrafficType_15', 'TrafficType_19', 'TrafficType_9', 'TrafficType_5']\n",
      "M22 subset score (3.): 0.8832178094806544\n",
      "............\n",
      "Best model (M23) with 23 features: ['PageValues', 'VisitorType_New_Visitor', 'Region_9', 'Browser_7', 'Browser_3', 'TrafficType_11', 'Month_Feb', 'Browser_2', 'TrafficType_6', 'OperatingSystems_8', 'Region_8', 'Region_7', 'OperatingSystems_6', 'Browser_8', 'Region_5', 'Month_Aug', 'Region_2', 'TrafficType_7', 'TrafficType_15', 'TrafficType_19', 'TrafficType_9', 'TrafficType_5', 'Region_3']\n",
      "M23 subset score (3.): 0.8833258591203427\n",
      "............\n",
      "Best model (M24) with 24 features: ['PageValues', 'VisitorType_New_Visitor', 'Region_9', 'Browser_7', 'Browser_3', 'TrafficType_11', 'Month_Feb', 'Browser_2', 'TrafficType_6', 'OperatingSystems_8', 'Region_8', 'Region_7', 'OperatingSystems_6', 'Browser_8', 'Region_5', 'Month_Aug', 'Region_2', 'TrafficType_7', 'TrafficType_15', 'TrafficType_19', 'TrafficType_9', 'TrafficType_5', 'Region_3', 'VisitorType_Other']\n",
      "M24 subset score (3.): 0.8835421338049786\n",
      "............\n",
      "Best model (M25) with 25 features: ['PageValues', 'VisitorType_New_Visitor', 'Region_9', 'Browser_7', 'Browser_3', 'TrafficType_11', 'Month_Feb', 'Browser_2', 'TrafficType_6', 'OperatingSystems_8', 'Region_8', 'Region_7', 'OperatingSystems_6', 'Browser_8', 'Region_5', 'Month_Aug', 'Region_2', 'TrafficType_7', 'TrafficType_15', 'TrafficType_19', 'TrafficType_9', 'TrafficType_5', 'Region_3', 'VisitorType_Other', 'TrafficType_10']\n",
      "M25 subset score (3.): 0.8836502419130868\n",
      "............\n",
      "Best model (M26) with 26 features: ['PageValues', 'VisitorType_New_Visitor', 'Region_9', 'Browser_7', 'Browser_3', 'TrafficType_11', 'Month_Feb', 'Browser_2', 'TrafficType_6', 'OperatingSystems_8', 'Region_8', 'Region_7', 'OperatingSystems_6', 'Browser_8', 'Region_5', 'Month_Aug', 'Region_2', 'TrafficType_7', 'TrafficType_15', 'TrafficType_19', 'TrafficType_9', 'TrafficType_5', 'Region_3', 'VisitorType_Other', 'TrafficType_10', 'Browser_13']\n",
      "M26 subset score (3.): 0.8836502419130868\n",
      "............\n",
      "Best model (M27) with 27 features: ['PageValues', 'VisitorType_New_Visitor', 'Region_9', 'Browser_7', 'Browser_3', 'TrafficType_11', 'Month_Feb', 'Browser_2', 'TrafficType_6', 'OperatingSystems_8', 'Region_8', 'Region_7', 'OperatingSystems_6', 'Browser_8', 'Region_5', 'Month_Aug', 'Region_2', 'TrafficType_7', 'TrafficType_15', 'TrafficType_19', 'TrafficType_9', 'TrafficType_5', 'Region_3', 'VisitorType_Other', 'TrafficType_10', 'Browser_13', 'Month_Jul']\n",
      "M27 subset score (3.): 0.8834339087600311\n"
     ]
    },
    {
     "name": "stdout",
     "output_type": "stream",
     "text": [
      "............\n",
      "Best model (M28) with 28 features: ['PageValues', 'VisitorType_New_Visitor', 'Region_9', 'Browser_7', 'Browser_3', 'TrafficType_11', 'Month_Feb', 'Browser_2', 'TrafficType_6', 'OperatingSystems_8', 'Region_8', 'Region_7', 'OperatingSystems_6', 'Browser_8', 'Region_5', 'Month_Aug', 'Region_2', 'TrafficType_7', 'TrafficType_15', 'TrafficType_19', 'TrafficType_9', 'TrafficType_5', 'Region_3', 'VisitorType_Other', 'TrafficType_10', 'Browser_13', 'Month_Jul', 'VisitorType_Returning_Visitor']\n",
      "M28 subset score (3.): 0.8834339087600311\n",
      "............\n",
      "Best model (M29) with 29 features: ['PageValues', 'VisitorType_New_Visitor', 'Region_9', 'Browser_7', 'Browser_3', 'TrafficType_11', 'Month_Feb', 'Browser_2', 'TrafficType_6', 'OperatingSystems_8', 'Region_8', 'Region_7', 'OperatingSystems_6', 'Browser_8', 'Region_5', 'Month_Aug', 'Region_2', 'TrafficType_7', 'TrafficType_15', 'TrafficType_19', 'TrafficType_9', 'TrafficType_5', 'Region_3', 'VisitorType_Other', 'TrafficType_10', 'Browser_13', 'Month_Jul', 'VisitorType_Returning_Visitor', 'Month_June']\n",
      "M29 subset score (3.): 0.8833258591203427\n",
      "............\n",
      "Best model (M30) with 30 features: ['PageValues', 'VisitorType_New_Visitor', 'Region_9', 'Browser_7', 'Browser_3', 'TrafficType_11', 'Month_Feb', 'Browser_2', 'TrafficType_6', 'OperatingSystems_8', 'Region_8', 'Region_7', 'OperatingSystems_6', 'Browser_8', 'Region_5', 'Month_Aug', 'Region_2', 'TrafficType_7', 'TrafficType_15', 'TrafficType_19', 'TrafficType_9', 'TrafficType_5', 'Region_3', 'VisitorType_Other', 'TrafficType_10', 'Browser_13', 'Month_Jul', 'VisitorType_Returning_Visitor', 'Month_June', 'Browser_6']\n",
      "M30 subset score (3.): 0.8834340256968705\n",
      "............\n",
      "Best model (M31) with 31 features: ['PageValues', 'VisitorType_New_Visitor', 'Region_9', 'Browser_7', 'Browser_3', 'TrafficType_11', 'Month_Feb', 'Browser_2', 'TrafficType_6', 'OperatingSystems_8', 'Region_8', 'Region_7', 'OperatingSystems_6', 'Browser_8', 'Region_5', 'Month_Aug', 'Region_2', 'TrafficType_7', 'TrafficType_15', 'TrafficType_19', 'TrafficType_9', 'TrafficType_5', 'Region_3', 'VisitorType_Other', 'TrafficType_10', 'Browser_13', 'Month_Jul', 'VisitorType_Returning_Visitor', 'Month_June', 'Browser_6', 'Region_6']\n",
      "M31 subset score (3.): 0.8836503588499263\n",
      "............\n",
      "Best model (M32) with 32 features: ['PageValues', 'VisitorType_New_Visitor', 'Region_9', 'Browser_7', 'Browser_3', 'TrafficType_11', 'Month_Feb', 'Browser_2', 'TrafficType_6', 'OperatingSystems_8', 'Region_8', 'Region_7', 'OperatingSystems_6', 'Browser_8', 'Region_5', 'Month_Aug', 'Region_2', 'TrafficType_7', 'TrafficType_15', 'TrafficType_19', 'TrafficType_9', 'TrafficType_5', 'Region_3', 'VisitorType_Other', 'TrafficType_10', 'Browser_13', 'Month_Jul', 'VisitorType_Returning_Visitor', 'Month_June', 'Browser_6', 'Region_6', 'OperatingSystems_4']\n",
      "M32 subset score (3.): 0.8835421922733984\n",
      "............\n",
      "Best model (M33) with 33 features: ['PageValues', 'VisitorType_New_Visitor', 'Region_9', 'Browser_7', 'Browser_3', 'TrafficType_11', 'Month_Feb', 'Browser_2', 'TrafficType_6', 'OperatingSystems_8', 'Region_8', 'Region_7', 'OperatingSystems_6', 'Browser_8', 'Region_5', 'Month_Aug', 'Region_2', 'TrafficType_7', 'TrafficType_15', 'TrafficType_19', 'TrafficType_9', 'TrafficType_5', 'Region_3', 'VisitorType_Other', 'TrafficType_10', 'Browser_13', 'Month_Jul', 'VisitorType_Returning_Visitor', 'Month_June', 'Browser_6', 'Region_6', 'OperatingSystems_4', 'Browser_4']\n",
      "M33 subset score (3.): 0.8834339672284507\n",
      "............\n",
      "Best model (M34) with 34 features: ['PageValues', 'VisitorType_New_Visitor', 'Region_9', 'Browser_7', 'Browser_3', 'TrafficType_11', 'Month_Feb', 'Browser_2', 'TrafficType_6', 'OperatingSystems_8', 'Region_8', 'Region_7', 'OperatingSystems_6', 'Browser_8', 'Region_5', 'Month_Aug', 'Region_2', 'TrafficType_7', 'TrafficType_15', 'TrafficType_19', 'TrafficType_9', 'TrafficType_5', 'Region_3', 'VisitorType_Other', 'TrafficType_10', 'Browser_13', 'Month_Jul', 'VisitorType_Returning_Visitor', 'Month_June', 'Browser_6', 'Region_6', 'OperatingSystems_4', 'Browser_4', 'Browser_5']\n",
      "M34 subset score (3.): 0.8835421922733984\n",
      "............\n",
      "Best model (M35) with 35 features: ['PageValues', 'VisitorType_New_Visitor', 'Region_9', 'Browser_7', 'Browser_3', 'TrafficType_11', 'Month_Feb', 'Browser_2', 'TrafficType_6', 'OperatingSystems_8', 'Region_8', 'Region_7', 'OperatingSystems_6', 'Browser_8', 'Region_5', 'Month_Aug', 'Region_2', 'TrafficType_7', 'TrafficType_15', 'TrafficType_19', 'TrafficType_9', 'TrafficType_5', 'Region_3', 'VisitorType_Other', 'TrafficType_10', 'Browser_13', 'Month_Jul', 'VisitorType_Returning_Visitor', 'Month_June', 'Browser_6', 'Region_6', 'OperatingSystems_4', 'Browser_4', 'Browser_5', 'Month_Oct']\n",
      "M35 subset score (3.): 0.8834341426337101\n",
      "............\n",
      "Best model (M36) with 36 features: ['PageValues', 'VisitorType_New_Visitor', 'Region_9', 'Browser_7', 'Browser_3', 'TrafficType_11', 'Month_Feb', 'Browser_2', 'TrafficType_6', 'OperatingSystems_8', 'Region_8', 'Region_7', 'OperatingSystems_6', 'Browser_8', 'Region_5', 'Month_Aug', 'Region_2', 'TrafficType_7', 'TrafficType_15', 'TrafficType_19', 'TrafficType_9', 'TrafficType_5', 'Region_3', 'VisitorType_Other', 'TrafficType_10', 'Browser_13', 'Month_Jul', 'VisitorType_Returning_Visitor', 'Month_June', 'Browser_6', 'Region_6', 'OperatingSystems_4', 'Browser_4', 'Browser_5', 'Month_Oct', 'Browser_10']\n",
      "M36 subset score (3.): 0.8835421922733984\n",
      "............\n",
      "Best model (M37) with 37 features: ['PageValues', 'VisitorType_New_Visitor', 'Region_9', 'Browser_7', 'Browser_3', 'TrafficType_11', 'Month_Feb', 'Browser_2', 'TrafficType_6', 'OperatingSystems_8', 'Region_8', 'Region_7', 'OperatingSystems_6', 'Browser_8', 'Region_5', 'Month_Aug', 'Region_2', 'TrafficType_7', 'TrafficType_15', 'TrafficType_19', 'TrafficType_9', 'TrafficType_5', 'Region_3', 'VisitorType_Other', 'TrafficType_10', 'Browser_13', 'Month_Jul', 'VisitorType_Returning_Visitor', 'Month_June', 'Browser_6', 'Region_6', 'OperatingSystems_4', 'Browser_4', 'Browser_5', 'Month_Oct', 'Browser_10', 'Browser_1']\n",
      "M37 subset score (3.): 0.8835421922733984\n",
      "............\n",
      "Best model (M38) with 38 features: ['PageValues', 'VisitorType_New_Visitor', 'Region_9', 'Browser_7', 'Browser_3', 'TrafficType_11', 'Month_Feb', 'Browser_2', 'TrafficType_6', 'OperatingSystems_8', 'Region_8', 'Region_7', 'OperatingSystems_6', 'Browser_8', 'Region_5', 'Month_Aug', 'Region_2', 'TrafficType_7', 'TrafficType_15', 'TrafficType_19', 'TrafficType_9', 'TrafficType_5', 'Region_3', 'VisitorType_Other', 'TrafficType_10', 'Browser_13', 'Month_Jul', 'VisitorType_Returning_Visitor', 'Month_June', 'Browser_6', 'Region_6', 'OperatingSystems_4', 'Browser_4', 'Browser_5', 'Month_Oct', 'Browser_10', 'Browser_1', 'OperatingSystems_1']\n",
      "M38 subset score (3.): 0.8832178094806544\n",
      "............\n",
      "Best model (M39) with 39 features: ['PageValues', 'VisitorType_New_Visitor', 'Region_9', 'Browser_7', 'Browser_3', 'TrafficType_11', 'Month_Feb', 'Browser_2', 'TrafficType_6', 'OperatingSystems_8', 'Region_8', 'Region_7', 'OperatingSystems_6', 'Browser_8', 'Region_5', 'Month_Aug', 'Region_2', 'TrafficType_7', 'TrafficType_15', 'TrafficType_19', 'TrafficType_9', 'TrafficType_5', 'Region_3', 'VisitorType_Other', 'TrafficType_10', 'Browser_13', 'Month_Jul', 'VisitorType_Returning_Visitor', 'Month_June', 'Browser_6', 'Region_6', 'OperatingSystems_4', 'Browser_4', 'Browser_5', 'Month_Oct', 'Browser_10', 'Browser_1', 'OperatingSystems_1', 'TrafficType_20']\n",
      "M39 subset score (3.): 0.8830015347960183\n",
      "............\n",
      "Best model (M40) with 40 features: ['PageValues', 'VisitorType_New_Visitor', 'Region_9', 'Browser_7', 'Browser_3', 'TrafficType_11', 'Month_Feb', 'Browser_2', 'TrafficType_6', 'OperatingSystems_8', 'Region_8', 'Region_7', 'OperatingSystems_6', 'Browser_8', 'Region_5', 'Month_Aug', 'Region_2', 'TrafficType_7', 'TrafficType_15', 'TrafficType_19', 'TrafficType_9', 'TrafficType_5', 'Region_3', 'VisitorType_Other', 'TrafficType_10', 'Browser_13', 'Month_Jul', 'VisitorType_Returning_Visitor', 'Month_June', 'Browser_6', 'Region_6', 'OperatingSystems_4', 'Browser_4', 'Browser_5', 'Month_Oct', 'Browser_10', 'Browser_1', 'OperatingSystems_1', 'TrafficType_20', 'Region_4']\n",
      "M40 subset score (3.): 0.8824608188502185\n"
     ]
    },
    {
     "name": "stdout",
     "output_type": "stream",
     "text": [
      "............\n",
      "Best model (M41) with 41 features: ['PageValues', 'VisitorType_New_Visitor', 'Region_9', 'Browser_7', 'Browser_3', 'TrafficType_11', 'Month_Feb', 'Browser_2', 'TrafficType_6', 'OperatingSystems_8', 'Region_8', 'Region_7', 'OperatingSystems_6', 'Browser_8', 'Region_5', 'Month_Aug', 'Region_2', 'TrafficType_7', 'TrafficType_15', 'TrafficType_19', 'TrafficType_9', 'TrafficType_5', 'Region_3', 'VisitorType_Other', 'TrafficType_10', 'Browser_13', 'Month_Jul', 'VisitorType_Returning_Visitor', 'Month_June', 'Browser_6', 'Region_6', 'OperatingSystems_4', 'Browser_4', 'Browser_5', 'Month_Oct', 'Browser_10', 'Browser_1', 'OperatingSystems_1', 'TrafficType_20', 'Region_4', 'Region_1']\n",
      "M41 subset score (3.): 0.8823526522736908\n",
      "............\n",
      "Best model (M42) with 42 features: ['PageValues', 'VisitorType_New_Visitor', 'Region_9', 'Browser_7', 'Browser_3', 'TrafficType_11', 'Month_Feb', 'Browser_2', 'TrafficType_6', 'OperatingSystems_8', 'Region_8', 'Region_7', 'OperatingSystems_6', 'Browser_8', 'Region_5', 'Month_Aug', 'Region_2', 'TrafficType_7', 'TrafficType_15', 'TrafficType_19', 'TrafficType_9', 'TrafficType_5', 'Region_3', 'VisitorType_Other', 'TrafficType_10', 'Browser_13', 'Month_Jul', 'VisitorType_Returning_Visitor', 'Month_June', 'Browser_6', 'Region_6', 'OperatingSystems_4', 'Browser_4', 'Browser_5', 'Month_Oct', 'Browser_10', 'Browser_1', 'OperatingSystems_1', 'TrafficType_20', 'Region_4', 'Region_1', 'TrafficType_8']\n",
      "M42 subset score (3.): 0.8824607603817988\n",
      "............\n",
      "Best model (M43) with 43 features: ['PageValues', 'VisitorType_New_Visitor', 'Region_9', 'Browser_7', 'Browser_3', 'TrafficType_11', 'Month_Feb', 'Browser_2', 'TrafficType_6', 'OperatingSystems_8', 'Region_8', 'Region_7', 'OperatingSystems_6', 'Browser_8', 'Region_5', 'Month_Aug', 'Region_2', 'TrafficType_7', 'TrafficType_15', 'TrafficType_19', 'TrafficType_9', 'TrafficType_5', 'Region_3', 'VisitorType_Other', 'TrafficType_10', 'Browser_13', 'Month_Jul', 'VisitorType_Returning_Visitor', 'Month_June', 'Browser_6', 'Region_6', 'OperatingSystems_4', 'Browser_4', 'Browser_5', 'Month_Oct', 'Browser_10', 'Browser_1', 'OperatingSystems_1', 'TrafficType_20', 'Region_4', 'Region_1', 'TrafficType_8', 'TrafficType_4']\n",
      "M43 subset score (3.): 0.8818119947963107\n",
      "............\n",
      "Best model (M44) with 44 features: ['PageValues', 'VisitorType_New_Visitor', 'Region_9', 'Browser_7', 'Browser_3', 'TrafficType_11', 'Month_Feb', 'Browser_2', 'TrafficType_6', 'OperatingSystems_8', 'Region_8', 'Region_7', 'OperatingSystems_6', 'Browser_8', 'Region_5', 'Month_Aug', 'Region_2', 'TrafficType_7', 'TrafficType_15', 'TrafficType_19', 'TrafficType_9', 'TrafficType_5', 'Region_3', 'VisitorType_Other', 'TrafficType_10', 'Browser_13', 'Month_Jul', 'VisitorType_Returning_Visitor', 'Month_June', 'Browser_6', 'Region_6', 'OperatingSystems_4', 'Browser_4', 'Browser_5', 'Month_Oct', 'Browser_10', 'Browser_1', 'OperatingSystems_1', 'TrafficType_20', 'Region_4', 'Region_1', 'TrafficType_8', 'TrafficType_4', 'TrafficType_3']\n",
      "M44 subset score (3.): 0.8819200444359991\n",
      "............\n",
      "Best model (M45) with 45 features: ['PageValues', 'VisitorType_New_Visitor', 'Region_9', 'Browser_7', 'Browser_3', 'TrafficType_11', 'Month_Feb', 'Browser_2', 'TrafficType_6', 'OperatingSystems_8', 'Region_8', 'Region_7', 'OperatingSystems_6', 'Browser_8', 'Region_5', 'Month_Aug', 'Region_2', 'TrafficType_7', 'TrafficType_15', 'TrafficType_19', 'TrafficType_9', 'TrafficType_5', 'Region_3', 'VisitorType_Other', 'TrafficType_10', 'Browser_13', 'Month_Jul', 'VisitorType_Returning_Visitor', 'Month_June', 'Browser_6', 'Region_6', 'OperatingSystems_4', 'Browser_4', 'Browser_5', 'Month_Oct', 'Browser_10', 'Browser_1', 'OperatingSystems_1', 'TrafficType_20', 'Region_4', 'Region_1', 'TrafficType_8', 'TrafficType_4', 'TrafficType_3', 'ExitRates']\n",
      "M45 subset score (3.): 0.8831094674988671\n",
      "............\n",
      "Best model (M46) with 46 features: ['PageValues', 'VisitorType_New_Visitor', 'Region_9', 'Browser_7', 'Browser_3', 'TrafficType_11', 'Month_Feb', 'Browser_2', 'TrafficType_6', 'OperatingSystems_8', 'Region_8', 'Region_7', 'OperatingSystems_6', 'Browser_8', 'Region_5', 'Month_Aug', 'Region_2', 'TrafficType_7', 'TrafficType_15', 'TrafficType_19', 'TrafficType_9', 'TrafficType_5', 'Region_3', 'VisitorType_Other', 'TrafficType_10', 'Browser_13', 'Month_Jul', 'VisitorType_Returning_Visitor', 'Month_June', 'Browser_6', 'Region_6', 'OperatingSystems_4', 'Browser_4', 'Browser_5', 'Month_Oct', 'Browser_10', 'Browser_1', 'OperatingSystems_1', 'TrafficType_20', 'Region_4', 'Region_1', 'TrafficType_8', 'TrafficType_4', 'TrafficType_3', 'ExitRates', 'Weekend_False']\n",
      "M46 subset score (3.): 0.8830014178591788\n",
      "............\n",
      "Best model (M47) with 47 features: ['PageValues', 'VisitorType_New_Visitor', 'Region_9', 'Browser_7', 'Browser_3', 'TrafficType_11', 'Month_Feb', 'Browser_2', 'TrafficType_6', 'OperatingSystems_8', 'Region_8', 'Region_7', 'OperatingSystems_6', 'Browser_8', 'Region_5', 'Month_Aug', 'Region_2', 'TrafficType_7', 'TrafficType_15', 'TrafficType_19', 'TrafficType_9', 'TrafficType_5', 'Region_3', 'VisitorType_Other', 'TrafficType_10', 'Browser_13', 'Month_Jul', 'VisitorType_Returning_Visitor', 'Month_June', 'Browser_6', 'Region_6', 'OperatingSystems_4', 'Browser_4', 'Browser_5', 'Month_Oct', 'Browser_10', 'Browser_1', 'OperatingSystems_1', 'TrafficType_20', 'Region_4', 'Region_1', 'TrafficType_8', 'TrafficType_4', 'TrafficType_3', 'ExitRates', 'Weekend_False', 'BounceRates']\n",
      "M47 subset score (3.): 0.8830014763275986\n",
      "............\n",
      "Best model (M48) with 48 features: ['PageValues', 'VisitorType_New_Visitor', 'Region_9', 'Browser_7', 'Browser_3', 'TrafficType_11', 'Month_Feb', 'Browser_2', 'TrafficType_6', 'OperatingSystems_8', 'Region_8', 'Region_7', 'OperatingSystems_6', 'Browser_8', 'Region_5', 'Month_Aug', 'Region_2', 'TrafficType_7', 'TrafficType_15', 'TrafficType_19', 'TrafficType_9', 'TrafficType_5', 'Region_3', 'VisitorType_Other', 'TrafficType_10', 'Browser_13', 'Month_Jul', 'VisitorType_Returning_Visitor', 'Month_June', 'Browser_6', 'Region_6', 'OperatingSystems_4', 'Browser_4', 'Browser_5', 'Month_Oct', 'Browser_10', 'Browser_1', 'OperatingSystems_1', 'TrafficType_20', 'Region_4', 'Region_1', 'TrafficType_8', 'TrafficType_4', 'TrafficType_3', 'ExitRates', 'Weekend_False', 'BounceRates', 'Weekend_True']\n",
      "M48 subset score (3.): 0.8830014763275986\n",
      "............\n",
      "Best model (M49) with 49 features: ['PageValues', 'VisitorType_New_Visitor', 'Region_9', 'Browser_7', 'Browser_3', 'TrafficType_11', 'Month_Feb', 'Browser_2', 'TrafficType_6', 'OperatingSystems_8', 'Region_8', 'Region_7', 'OperatingSystems_6', 'Browser_8', 'Region_5', 'Month_Aug', 'Region_2', 'TrafficType_7', 'TrafficType_15', 'TrafficType_19', 'TrafficType_9', 'TrafficType_5', 'Region_3', 'VisitorType_Other', 'TrafficType_10', 'Browser_13', 'Month_Jul', 'VisitorType_Returning_Visitor', 'Month_June', 'Browser_6', 'Region_6', 'OperatingSystems_4', 'Browser_4', 'Browser_5', 'Month_Oct', 'Browser_10', 'Browser_1', 'OperatingSystems_1', 'TrafficType_20', 'Region_4', 'Region_1', 'TrafficType_8', 'TrafficType_4', 'TrafficType_3', 'ExitRates', 'Weekend_False', 'BounceRates', 'Weekend_True', 'Month_Sep']\n",
      "M49 subset score (3.): 0.8828932512826511\n",
      "............\n",
      "Best model (M50) with 50 features: ['PageValues', 'VisitorType_New_Visitor', 'Region_9', 'Browser_7', 'Browser_3', 'TrafficType_11', 'Month_Feb', 'Browser_2', 'TrafficType_6', 'OperatingSystems_8', 'Region_8', 'Region_7', 'OperatingSystems_6', 'Browser_8', 'Region_5', 'Month_Aug', 'Region_2', 'TrafficType_7', 'TrafficType_15', 'TrafficType_19', 'TrafficType_9', 'TrafficType_5', 'Region_3', 'VisitorType_Other', 'TrafficType_10', 'Browser_13', 'Month_Jul', 'VisitorType_Returning_Visitor', 'Month_June', 'Browser_6', 'Region_6', 'OperatingSystems_4', 'Browser_4', 'Browser_5', 'Month_Oct', 'Browser_10', 'Browser_1', 'OperatingSystems_1', 'TrafficType_20', 'Region_4', 'Region_1', 'TrafficType_8', 'TrafficType_4', 'TrafficType_3', 'ExitRates', 'Weekend_False', 'BounceRates', 'Weekend_True', 'Month_Sep', 'TrafficType_13']\n",
      "M50 subset score (3.): 0.8831094674988671\n",
      "............\n",
      "Best model (M51) with 51 features: ['PageValues', 'VisitorType_New_Visitor', 'Region_9', 'Browser_7', 'Browser_3', 'TrafficType_11', 'Month_Feb', 'Browser_2', 'TrafficType_6', 'OperatingSystems_8', 'Region_8', 'Region_7', 'OperatingSystems_6', 'Browser_8', 'Region_5', 'Month_Aug', 'Region_2', 'TrafficType_7', 'TrafficType_15', 'TrafficType_19', 'TrafficType_9', 'TrafficType_5', 'Region_3', 'VisitorType_Other', 'TrafficType_10', 'Browser_13', 'Month_Jul', 'VisitorType_Returning_Visitor', 'Month_June', 'Browser_6', 'Region_6', 'OperatingSystems_4', 'Browser_4', 'Browser_5', 'Month_Oct', 'Browser_10', 'Browser_1', 'OperatingSystems_1', 'TrafficType_20', 'Region_4', 'Region_1', 'TrafficType_8', 'TrafficType_4', 'TrafficType_3', 'ExitRates', 'Weekend_False', 'BounceRates', 'Weekend_True', 'Month_Sep', 'TrafficType_13', 'Month_Dec']\n",
      "M51 subset score (3.): 0.8835420753365589\n"
     ]
    },
    {
     "name": "stdout",
     "output_type": "stream",
     "text": [
      "............\n",
      "Best model (M52) with 52 features: ['PageValues', 'VisitorType_New_Visitor', 'Region_9', 'Browser_7', 'Browser_3', 'TrafficType_11', 'Month_Feb', 'Browser_2', 'TrafficType_6', 'OperatingSystems_8', 'Region_8', 'Region_7', 'OperatingSystems_6', 'Browser_8', 'Region_5', 'Month_Aug', 'Region_2', 'TrafficType_7', 'TrafficType_15', 'TrafficType_19', 'TrafficType_9', 'TrafficType_5', 'Region_3', 'VisitorType_Other', 'TrafficType_10', 'Browser_13', 'Month_Jul', 'VisitorType_Returning_Visitor', 'Month_June', 'Browser_6', 'Region_6', 'OperatingSystems_4', 'Browser_4', 'Browser_5', 'Month_Oct', 'Browser_10', 'Browser_1', 'OperatingSystems_1', 'TrafficType_20', 'Region_4', 'Region_1', 'TrafficType_8', 'TrafficType_4', 'TrafficType_3', 'ExitRates', 'Weekend_False', 'BounceRates', 'Weekend_True', 'Month_Sep', 'TrafficType_13', 'Month_Dec', 'TrafficType_1']\n",
      "M52 subset score (3.): 0.8831095844357068\n",
      "............\n",
      "Best model (M53) with 53 features: ['PageValues', 'VisitorType_New_Visitor', 'Region_9', 'Browser_7', 'Browser_3', 'TrafficType_11', 'Month_Feb', 'Browser_2', 'TrafficType_6', 'OperatingSystems_8', 'Region_8', 'Region_7', 'OperatingSystems_6', 'Browser_8', 'Region_5', 'Month_Aug', 'Region_2', 'TrafficType_7', 'TrafficType_15', 'TrafficType_19', 'TrafficType_9', 'TrafficType_5', 'Region_3', 'VisitorType_Other', 'TrafficType_10', 'Browser_13', 'Month_Jul', 'VisitorType_Returning_Visitor', 'Month_June', 'Browser_6', 'Region_6', 'OperatingSystems_4', 'Browser_4', 'Browser_5', 'Month_Oct', 'Browser_10', 'Browser_1', 'OperatingSystems_1', 'TrafficType_20', 'Region_4', 'Region_1', 'TrafficType_8', 'TrafficType_4', 'TrafficType_3', 'ExitRates', 'Weekend_False', 'BounceRates', 'Weekend_True', 'Month_Sep', 'TrafficType_13', 'Month_Dec', 'TrafficType_1', 'TrafficType_2']\n",
      "M53 subset score (3.): 0.8826771520032743\n",
      "............\n",
      "Best model (M54) with 54 features: ['PageValues', 'VisitorType_New_Visitor', 'Region_9', 'Browser_7', 'Browser_3', 'TrafficType_11', 'Month_Feb', 'Browser_2', 'TrafficType_6', 'OperatingSystems_8', 'Region_8', 'Region_7', 'OperatingSystems_6', 'Browser_8', 'Region_5', 'Month_Aug', 'Region_2', 'TrafficType_7', 'TrafficType_15', 'TrafficType_19', 'TrafficType_9', 'TrafficType_5', 'Region_3', 'VisitorType_Other', 'TrafficType_10', 'Browser_13', 'Month_Jul', 'VisitorType_Returning_Visitor', 'Month_June', 'Browser_6', 'Region_6', 'OperatingSystems_4', 'Browser_4', 'Browser_5', 'Month_Oct', 'Browser_10', 'Browser_1', 'OperatingSystems_1', 'TrafficType_20', 'Region_4', 'Region_1', 'TrafficType_8', 'TrafficType_4', 'TrafficType_3', 'ExitRates', 'Weekend_False', 'BounceRates', 'Weekend_True', 'Month_Sep', 'TrafficType_13', 'Month_Dec', 'TrafficType_1', 'TrafficType_2', 'Informational_Duration']\n",
      "M54 subset score (3.): 0.8834340841652903\n",
      "............\n",
      "Best model (M55) with 55 features: ['PageValues', 'VisitorType_New_Visitor', 'Region_9', 'Browser_7', 'Browser_3', 'TrafficType_11', 'Month_Feb', 'Browser_2', 'TrafficType_6', 'OperatingSystems_8', 'Region_8', 'Region_7', 'OperatingSystems_6', 'Browser_8', 'Region_5', 'Month_Aug', 'Region_2', 'TrafficType_7', 'TrafficType_15', 'TrafficType_19', 'TrafficType_9', 'TrafficType_5', 'Region_3', 'VisitorType_Other', 'TrafficType_10', 'Browser_13', 'Month_Jul', 'VisitorType_Returning_Visitor', 'Month_June', 'Browser_6', 'Region_6', 'OperatingSystems_4', 'Browser_4', 'Browser_5', 'Month_Oct', 'Browser_10', 'Browser_1', 'OperatingSystems_1', 'TrafficType_20', 'Region_4', 'Region_1', 'TrafficType_8', 'TrafficType_4', 'TrafficType_3', 'ExitRates', 'Weekend_False', 'BounceRates', 'Weekend_True', 'Month_Sep', 'TrafficType_13', 'Month_Dec', 'TrafficType_1', 'TrafficType_2', 'Informational_Duration', 'Month_Mar']\n",
      "M55 subset score (3.): 0.8826770935348545\n",
      "............\n",
      "Best model (M56) with 56 features: ['PageValues', 'VisitorType_New_Visitor', 'Region_9', 'Browser_7', 'Browser_3', 'TrafficType_11', 'Month_Feb', 'Browser_2', 'TrafficType_6', 'OperatingSystems_8', 'Region_8', 'Region_7', 'OperatingSystems_6', 'Browser_8', 'Region_5', 'Month_Aug', 'Region_2', 'TrafficType_7', 'TrafficType_15', 'TrafficType_19', 'TrafficType_9', 'TrafficType_5', 'Region_3', 'VisitorType_Other', 'TrafficType_10', 'Browser_13', 'Month_Jul', 'VisitorType_Returning_Visitor', 'Month_June', 'Browser_6', 'Region_6', 'OperatingSystems_4', 'Browser_4', 'Browser_5', 'Month_Oct', 'Browser_10', 'Browser_1', 'OperatingSystems_1', 'TrafficType_20', 'Region_4', 'Region_1', 'TrafficType_8', 'TrafficType_4', 'TrafficType_3', 'ExitRates', 'Weekend_False', 'BounceRates', 'Weekend_True', 'Month_Sep', 'TrafficType_13', 'Month_Dec', 'TrafficType_1', 'TrafficType_2', 'Informational_Duration', 'Month_Mar', 'Administrative_Duration']\n",
      "M56 subset score (3.): 0.8818119363278909\n",
      "............\n",
      "Best model (M57) with 57 features: ['PageValues', 'VisitorType_New_Visitor', 'Region_9', 'Browser_7', 'Browser_3', 'TrafficType_11', 'Month_Feb', 'Browser_2', 'TrafficType_6', 'OperatingSystems_8', 'Region_8', 'Region_7', 'OperatingSystems_6', 'Browser_8', 'Region_5', 'Month_Aug', 'Region_2', 'TrafficType_7', 'TrafficType_15', 'TrafficType_19', 'TrafficType_9', 'TrafficType_5', 'Region_3', 'VisitorType_Other', 'TrafficType_10', 'Browser_13', 'Month_Jul', 'VisitorType_Returning_Visitor', 'Month_June', 'Browser_6', 'Region_6', 'OperatingSystems_4', 'Browser_4', 'Browser_5', 'Month_Oct', 'Browser_10', 'Browser_1', 'OperatingSystems_1', 'TrafficType_20', 'Region_4', 'Region_1', 'TrafficType_8', 'TrafficType_4', 'TrafficType_3', 'ExitRates', 'Weekend_False', 'BounceRates', 'Weekend_True', 'Month_Sep', 'TrafficType_13', 'Month_Dec', 'TrafficType_1', 'TrafficType_2', 'Informational_Duration', 'Month_Mar', 'Administrative_Duration', 'Month_Nov']\n",
      "M57 subset score (3.): 0.8824604680397\n",
      "............\n",
      "Best model (M58) with 58 features: ['PageValues', 'VisitorType_New_Visitor', 'Region_9', 'Browser_7', 'Browser_3', 'TrafficType_11', 'Month_Feb', 'Browser_2', 'TrafficType_6', 'OperatingSystems_8', 'Region_8', 'Region_7', 'OperatingSystems_6', 'Browser_8', 'Region_5', 'Month_Aug', 'Region_2', 'TrafficType_7', 'TrafficType_15', 'TrafficType_19', 'TrafficType_9', 'TrafficType_5', 'Region_3', 'VisitorType_Other', 'TrafficType_10', 'Browser_13', 'Month_Jul', 'VisitorType_Returning_Visitor', 'Month_June', 'Browser_6', 'Region_6', 'OperatingSystems_4', 'Browser_4', 'Browser_5', 'Month_Oct', 'Browser_10', 'Browser_1', 'OperatingSystems_1', 'TrafficType_20', 'Region_4', 'Region_1', 'TrafficType_8', 'TrafficType_4', 'TrafficType_3', 'ExitRates', 'Weekend_False', 'BounceRates', 'Weekend_True', 'Month_Sep', 'TrafficType_13', 'Month_Dec', 'TrafficType_1', 'TrafficType_2', 'Informational_Duration', 'Month_Mar', 'Administrative_Duration', 'Month_Nov', 'OperatingSystems_3']\n",
      "M58 subset score (3.): 0.8825684007425488\n",
      "............\n",
      "Best model (M59) with 59 features: ['PageValues', 'VisitorType_New_Visitor', 'Region_9', 'Browser_7', 'Browser_3', 'TrafficType_11', 'Month_Feb', 'Browser_2', 'TrafficType_6', 'OperatingSystems_8', 'Region_8', 'Region_7', 'OperatingSystems_6', 'Browser_8', 'Region_5', 'Month_Aug', 'Region_2', 'TrafficType_7', 'TrafficType_15', 'TrafficType_19', 'TrafficType_9', 'TrafficType_5', 'Region_3', 'VisitorType_Other', 'TrafficType_10', 'Browser_13', 'Month_Jul', 'VisitorType_Returning_Visitor', 'Month_June', 'Browser_6', 'Region_6', 'OperatingSystems_4', 'Browser_4', 'Browser_5', 'Month_Oct', 'Browser_10', 'Browser_1', 'OperatingSystems_1', 'TrafficType_20', 'Region_4', 'Region_1', 'TrafficType_8', 'TrafficType_4', 'TrafficType_3', 'ExitRates', 'Weekend_False', 'BounceRates', 'Weekend_True', 'Month_Sep', 'TrafficType_13', 'Month_Dec', 'TrafficType_1', 'TrafficType_2', 'Informational_Duration', 'Month_Mar', 'Administrative_Duration', 'Month_Nov', 'OperatingSystems_3', 'Informational']\n",
      "M59 subset score (3.): 0.8825685176793885\n",
      "............\n",
      "Best model (M60) with 60 features: ['PageValues', 'VisitorType_New_Visitor', 'Region_9', 'Browser_7', 'Browser_3', 'TrafficType_11', 'Month_Feb', 'Browser_2', 'TrafficType_6', 'OperatingSystems_8', 'Region_8', 'Region_7', 'OperatingSystems_6', 'Browser_8', 'Region_5', 'Month_Aug', 'Region_2', 'TrafficType_7', 'TrafficType_15', 'TrafficType_19', 'TrafficType_9', 'TrafficType_5', 'Region_3', 'VisitorType_Other', 'TrafficType_10', 'Browser_13', 'Month_Jul', 'VisitorType_Returning_Visitor', 'Month_June', 'Browser_6', 'Region_6', 'OperatingSystems_4', 'Browser_4', 'Browser_5', 'Month_Oct', 'Browser_10', 'Browser_1', 'OperatingSystems_1', 'TrafficType_20', 'Region_4', 'Region_1', 'TrafficType_8', 'TrafficType_4', 'TrafficType_3', 'ExitRates', 'Weekend_False', 'BounceRates', 'Weekend_True', 'Month_Sep', 'TrafficType_13', 'Month_Dec', 'TrafficType_1', 'TrafficType_2', 'Informational_Duration', 'Month_Mar', 'Administrative_Duration', 'Month_Nov', 'OperatingSystems_3', 'Informational', 'SpecialDay']\n",
      "M60 subset score (3.): 0.8825684592109686\n"
     ]
    },
    {
     "name": "stdout",
     "output_type": "stream",
     "text": [
      "............\n",
      "Best model (M61) with 61 features: ['PageValues', 'VisitorType_New_Visitor', 'Region_9', 'Browser_7', 'Browser_3', 'TrafficType_11', 'Month_Feb', 'Browser_2', 'TrafficType_6', 'OperatingSystems_8', 'Region_8', 'Region_7', 'OperatingSystems_6', 'Browser_8', 'Region_5', 'Month_Aug', 'Region_2', 'TrafficType_7', 'TrafficType_15', 'TrafficType_19', 'TrafficType_9', 'TrafficType_5', 'Region_3', 'VisitorType_Other', 'TrafficType_10', 'Browser_13', 'Month_Jul', 'VisitorType_Returning_Visitor', 'Month_June', 'Browser_6', 'Region_6', 'OperatingSystems_4', 'Browser_4', 'Browser_5', 'Month_Oct', 'Browser_10', 'Browser_1', 'OperatingSystems_1', 'TrafficType_20', 'Region_4', 'Region_1', 'TrafficType_8', 'TrafficType_4', 'TrafficType_3', 'ExitRates', 'Weekend_False', 'BounceRates', 'Weekend_True', 'Month_Sep', 'TrafficType_13', 'Month_Dec', 'TrafficType_1', 'TrafficType_2', 'Informational_Duration', 'Month_Mar', 'Administrative_Duration', 'Month_Nov', 'OperatingSystems_3', 'Informational', 'SpecialDay', 'OperatingSystems_2']\n",
      "M61 subset score (3.): 0.882568400742549\n",
      "............\n",
      "Best model (M62) with 62 features: ['PageValues', 'VisitorType_New_Visitor', 'Region_9', 'Browser_7', 'Browser_3', 'TrafficType_11', 'Month_Feb', 'Browser_2', 'TrafficType_6', 'OperatingSystems_8', 'Region_8', 'Region_7', 'OperatingSystems_6', 'Browser_8', 'Region_5', 'Month_Aug', 'Region_2', 'TrafficType_7', 'TrafficType_15', 'TrafficType_19', 'TrafficType_9', 'TrafficType_5', 'Region_3', 'VisitorType_Other', 'TrafficType_10', 'Browser_13', 'Month_Jul', 'VisitorType_Returning_Visitor', 'Month_June', 'Browser_6', 'Region_6', 'OperatingSystems_4', 'Browser_4', 'Browser_5', 'Month_Oct', 'Browser_10', 'Browser_1', 'OperatingSystems_1', 'TrafficType_20', 'Region_4', 'Region_1', 'TrafficType_8', 'TrafficType_4', 'TrafficType_3', 'ExitRates', 'Weekend_False', 'BounceRates', 'Weekend_True', 'Month_Sep', 'TrafficType_13', 'Month_Dec', 'TrafficType_1', 'TrafficType_2', 'Informational_Duration', 'Month_Mar', 'Administrative_Duration', 'Month_Nov', 'OperatingSystems_3', 'Informational', 'SpecialDay', 'OperatingSystems_2', 'ProductRelated']\n",
      "M62 subset score (3.): 0.881595661643255\n",
      "............\n",
      "Best model (M63) with 63 features: ['PageValues', 'VisitorType_New_Visitor', 'Region_9', 'Browser_7', 'Browser_3', 'TrafficType_11', 'Month_Feb', 'Browser_2', 'TrafficType_6', 'OperatingSystems_8', 'Region_8', 'Region_7', 'OperatingSystems_6', 'Browser_8', 'Region_5', 'Month_Aug', 'Region_2', 'TrafficType_7', 'TrafficType_15', 'TrafficType_19', 'TrafficType_9', 'TrafficType_5', 'Region_3', 'VisitorType_Other', 'TrafficType_10', 'Browser_13', 'Month_Jul', 'VisitorType_Returning_Visitor', 'Month_June', 'Browser_6', 'Region_6', 'OperatingSystems_4', 'Browser_4', 'Browser_5', 'Month_Oct', 'Browser_10', 'Browser_1', 'OperatingSystems_1', 'TrafficType_20', 'Region_4', 'Region_1', 'TrafficType_8', 'TrafficType_4', 'TrafficType_3', 'ExitRates', 'Weekend_False', 'BounceRates', 'Weekend_True', 'Month_Sep', 'TrafficType_13', 'Month_Dec', 'TrafficType_1', 'TrafficType_2', 'Informational_Duration', 'Month_Mar', 'Administrative_Duration', 'Month_Nov', 'OperatingSystems_3', 'Informational', 'SpecialDay', 'OperatingSystems_2', 'ProductRelated', 'Administrative']\n",
      "M63 subset score (3.): 0.8814875535351469\n",
      "............\n",
      "Best model (M64) with 64 features: ['PageValues', 'VisitorType_New_Visitor', 'Region_9', 'Browser_7', 'Browser_3', 'TrafficType_11', 'Month_Feb', 'Browser_2', 'TrafficType_6', 'OperatingSystems_8', 'Region_8', 'Region_7', 'OperatingSystems_6', 'Browser_8', 'Region_5', 'Month_Aug', 'Region_2', 'TrafficType_7', 'TrafficType_15', 'TrafficType_19', 'TrafficType_9', 'TrafficType_5', 'Region_3', 'VisitorType_Other', 'TrafficType_10', 'Browser_13', 'Month_Jul', 'VisitorType_Returning_Visitor', 'Month_June', 'Browser_6', 'Region_6', 'OperatingSystems_4', 'Browser_4', 'Browser_5', 'Month_Oct', 'Browser_10', 'Browser_1', 'OperatingSystems_1', 'TrafficType_20', 'Region_4', 'Region_1', 'TrafficType_8', 'TrafficType_4', 'TrafficType_3', 'ExitRates', 'Weekend_False', 'BounceRates', 'Weekend_True', 'Month_Sep', 'TrafficType_13', 'Month_Dec', 'TrafficType_1', 'TrafficType_2', 'Informational_Duration', 'Month_Mar', 'Administrative_Duration', 'Month_Nov', 'OperatingSystems_3', 'Informational', 'SpecialDay', 'OperatingSystems_2', 'ProductRelated', 'Administrative', 'Month_May']\n",
      "M64 subset score (3.): 0.8812712788505108\n",
      "............\n",
      "Best model (M65) with 65 features: ['PageValues', 'VisitorType_New_Visitor', 'Region_9', 'Browser_7', 'Browser_3', 'TrafficType_11', 'Month_Feb', 'Browser_2', 'TrafficType_6', 'OperatingSystems_8', 'Region_8', 'Region_7', 'OperatingSystems_6', 'Browser_8', 'Region_5', 'Month_Aug', 'Region_2', 'TrafficType_7', 'TrafficType_15', 'TrafficType_19', 'TrafficType_9', 'TrafficType_5', 'Region_3', 'VisitorType_Other', 'TrafficType_10', 'Browser_13', 'Month_Jul', 'VisitorType_Returning_Visitor', 'Month_June', 'Browser_6', 'Region_6', 'OperatingSystems_4', 'Browser_4', 'Browser_5', 'Month_Oct', 'Browser_10', 'Browser_1', 'OperatingSystems_1', 'TrafficType_20', 'Region_4', 'Region_1', 'TrafficType_8', 'TrafficType_4', 'TrafficType_3', 'ExitRates', 'Weekend_False', 'BounceRates', 'Weekend_True', 'Month_Sep', 'TrafficType_13', 'Month_Dec', 'TrafficType_1', 'TrafficType_2', 'Informational_Duration', 'Month_Mar', 'Administrative_Duration', 'Month_Nov', 'OperatingSystems_3', 'Informational', 'SpecialDay', 'OperatingSystems_2', 'ProductRelated', 'Administrative', 'Month_May', 'ProductRelated_Duration']\n",
      "M65 subset score (3.): 0.8814874950667271\n",
      "\n",
      " Best configuration has 31 features\n",
      "Features: ['PageValues', 'VisitorType_New_Visitor', 'Region_9', 'Browser_7', 'Browser_3', 'TrafficType_11', 'Month_Feb', 'Browser_2', 'TrafficType_6', 'OperatingSystems_8', 'Region_8', 'Region_7', 'OperatingSystems_6', 'Browser_8', 'Region_5', 'Month_Aug', 'Region_2', 'TrafficType_7', 'TrafficType_15', 'TrafficType_19', 'TrafficType_9', 'TrafficType_5', 'Region_3', 'VisitorType_Other', 'TrafficType_10', 'Browser_13', 'Month_Jul', 'VisitorType_Returning_Visitor', 'Month_June', 'Browser_6', 'Region_6']\n",
      "Total number of trained models: 2470\n"
     ]
    },
    {
     "data": {
      "text/plain": [
       "['PageValues',\n",
       " 'VisitorType_New_Visitor',\n",
       " 'Region_9',\n",
       " 'Browser_7',\n",
       " 'Browser_3',\n",
       " 'TrafficType_11',\n",
       " 'Month_Feb',\n",
       " 'Browser_2',\n",
       " 'TrafficType_6',\n",
       " 'OperatingSystems_8',\n",
       " 'Region_8',\n",
       " 'Region_7',\n",
       " 'OperatingSystems_6',\n",
       " 'Browser_8',\n",
       " 'Region_5',\n",
       " 'Month_Aug',\n",
       " 'Region_2',\n",
       " 'TrafficType_7',\n",
       " 'TrafficType_15',\n",
       " 'TrafficType_19',\n",
       " 'TrafficType_9',\n",
       " 'TrafficType_5',\n",
       " 'Region_3',\n",
       " 'VisitorType_Other',\n",
       " 'TrafficType_10',\n",
       " 'Browser_13',\n",
       " 'Month_Jul',\n",
       " 'VisitorType_Returning_Visitor',\n",
       " 'Month_June',\n",
       " 'Browser_6',\n",
       " 'Region_6']"
      ]
     },
     "execution_count": 11,
     "metadata": {},
     "output_type": "execute_result"
    }
   ],
   "source": [
    "cv = KFold(n_splits=5, random_state=42, shuffle=True)\n",
    "features_logistic = forward_selection(X_train_scaled, y_train, \"LogisticRegression\",\n",
    "                  get_evaluator(make_scorer(accuracy)), np.argmax, # 2.\n",
    "                  get_cv_evaluator(make_scorer(accuracy), cv), np.argmax, # 3.\n",
    "                  candidates_scorer_name=\"Accuracy\",\n",
    "                  subsets_scorer_name=\"Accuracy (CV)\",\n",
    "                  verbose=True, weight_step3=cv.n_splits)\n",
    "features_logistic"
   ]
  },
  {
   "cell_type": "markdown",
   "id": "6efe8489",
   "metadata": {},
   "source": [
    "### Evaluation Metrics"
   ]
  },
  {
   "cell_type": "code",
   "execution_count": 12,
   "id": "dcc10a78",
   "metadata": {},
   "outputs": [
    {
     "data": {
      "text/html": [
       "<div>\n",
       "<style scoped>\n",
       "    .dataframe tbody tr th:only-of-type {\n",
       "        vertical-align: middle;\n",
       "    }\n",
       "\n",
       "    .dataframe tbody tr th {\n",
       "        vertical-align: top;\n",
       "    }\n",
       "\n",
       "    .dataframe thead th {\n",
       "        text-align: right;\n",
       "    }\n",
       "</style>\n",
       "<table border=\"1\" class=\"dataframe\">\n",
       "  <thead>\n",
       "    <tr style=\"text-align: right;\">\n",
       "      <th></th>\n",
       "      <th>Model</th>\n",
       "      <th>Accuracy</th>\n",
       "      <th>Sensitivity</th>\n",
       "      <th>Specificity</th>\n",
       "    </tr>\n",
       "  </thead>\n",
       "  <tbody>\n",
       "    <tr>\n",
       "      <th>0</th>\n",
       "      <td>LogisticRegression</td>\n",
       "      <td>0.883326</td>\n",
       "      <td>0.358404</td>\n",
       "      <td>0.770811</td>\n",
       "    </tr>\n",
       "  </tbody>\n",
       "</table>\n",
       "</div>"
      ],
      "text/plain": [
       "                Model  Accuracy  Sensitivity  Specificity\n",
       "0  LogisticRegression  0.883326     0.358404     0.770811"
      ]
     },
     "execution_count": 12,
     "metadata": {},
     "output_type": "execute_result"
    }
   ],
   "source": [
    "model_logistic = LogisticRegression(solver=\"newton-cg\",penalty=\"none\",max_iter=1000)\n",
    "train_scores_logistic = classification_metrics_training(model_logistic, \"LogisticRegression\", X_train_scaled[features_logistic], y_train,cv)\n",
    "train_scores_logistic"
   ]
  },
  {
   "cell_type": "markdown",
   "id": "3ec82040",
   "metadata": {},
   "source": [
    "The sensitivity is very low, we try to improve it using the empirical threshold"
   ]
  },
  {
   "cell_type": "code",
   "execution_count": 13,
   "id": "bf18bb67",
   "metadata": {},
   "outputs": [
    {
     "data": {
      "text/html": [
       "<div>\n",
       "<style scoped>\n",
       "    .dataframe tbody tr th:only-of-type {\n",
       "        vertical-align: middle;\n",
       "    }\n",
       "\n",
       "    .dataframe tbody tr th {\n",
       "        vertical-align: top;\n",
       "    }\n",
       "\n",
       "    .dataframe thead th {\n",
       "        text-align: right;\n",
       "    }\n",
       "</style>\n",
       "<table border=\"1\" class=\"dataframe\">\n",
       "  <thead>\n",
       "    <tr style=\"text-align: right;\">\n",
       "      <th></th>\n",
       "      <th>Model</th>\n",
       "      <th>Accuracy</th>\n",
       "      <th>Sensitivity</th>\n",
       "      <th>Specificity</th>\n",
       "    </tr>\n",
       "  </thead>\n",
       "  <tbody>\n",
       "    <tr>\n",
       "      <th>0</th>\n",
       "      <td>LogisticRegression</td>\n",
       "      <td>0.881812</td>\n",
       "      <td>0.653019</td>\n",
       "      <td>0.613429</td>\n",
       "    </tr>\n",
       "  </tbody>\n",
       "</table>\n",
       "</div>"
      ],
      "text/plain": [
       "                Model  Accuracy  Sensitivity  Specificity\n",
       "0  LogisticRegression  0.881812     0.653019     0.613429"
      ]
     },
     "execution_count": 13,
     "metadata": {},
     "output_type": "execute_result"
    }
   ],
   "source": [
    "train_scores_logistic_empirical = classification_metrics_empirical_threshold(model_logistic, 'LogisticRegression', X_train_scaled[features_logistic], y_train,empirical_threshold)\n",
    "train_scores_logistic_empirical"
   ]
  },
  {
   "cell_type": "markdown",
   "id": "17bd991c",
   "metadata": {},
   "source": [
    "# LDA"
   ]
  },
  {
   "cell_type": "markdown",
   "id": "bc563bb6",
   "metadata": {},
   "source": [
    "### Feature selection"
   ]
  },
  {
   "cell_type": "code",
   "execution_count": 14,
   "id": "29d04943",
   "metadata": {},
   "outputs": [
    {
     "name": "stdout",
     "output_type": "stream",
     "text": [
      "............\n",
      "Best model (M1) with 1 features: ['PageValues']\n",
      "M1 subset score (3.): 0.8766217531755661\n",
      "............\n",
      "Best model (M2) with 2 features: ['PageValues', 'ExitRates']\n",
      "M2 subset score (3.): 0.8791087658778303\n",
      "............\n",
      "Best model (M3) with 3 features: ['PageValues', 'ExitRates', 'TrafficType_2']\n",
      "M3 subset score (3.): 0.8793249820940463\n",
      "............\n",
      "Best model (M4) with 4 features: ['PageValues', 'ExitRates', 'TrafficType_2', 'OperatingSystems_2']\n",
      "M4 subset score (3.): 0.8801900808325904\n",
      "............\n",
      "Best model (M5) with 5 features: ['PageValues', 'ExitRates', 'TrafficType_2', 'OperatingSystems_2', 'TrafficType_5']\n",
      "M5 subset score (3.): 0.8802981304722787\n",
      "............\n",
      "Best model (M6) with 6 features: ['PageValues', 'ExitRates', 'TrafficType_2', 'OperatingSystems_2', 'TrafficType_5', 'Browser_1']\n",
      "M6 subset score (3.): 0.8802981889406984\n",
      "............\n",
      "Best model (M7) with 7 features: ['PageValues', 'ExitRates', 'TrafficType_2', 'OperatingSystems_2', 'TrafficType_5', 'Browser_1', 'Region_2']\n",
      "M7 subset score (3.): 0.8801901393010102\n",
      "............\n",
      "Best model (M8) with 8 features: ['PageValues', 'ExitRates', 'TrafficType_2', 'OperatingSystems_2', 'TrafficType_5', 'Browser_1', 'Region_2', 'Month_Sep']\n",
      "M8 subset score (3.): 0.8802983643459577\n",
      "............\n",
      "Best model (M9) with 9 features: ['PageValues', 'ExitRates', 'TrafficType_2', 'OperatingSystems_2', 'TrafficType_5', 'Browser_1', 'Region_2', 'Month_Sep', 'VisitorType_Other']\n",
      "M9 subset score (3.): 0.8804064724540659\n",
      "............\n",
      "Best model (M10) with 10 features: ['PageValues', 'ExitRates', 'TrafficType_2', 'OperatingSystems_2', 'TrafficType_5', 'Browser_1', 'Region_2', 'Month_Sep', 'VisitorType_Other', 'Browser_10']\n",
      "M10 subset score (3.): 0.8804064724540659\n",
      "............\n",
      "Best model (M11) with 11 features: ['PageValues', 'ExitRates', 'TrafficType_2', 'OperatingSystems_2', 'TrafficType_5', 'Browser_1', 'Region_2', 'Month_Sep', 'VisitorType_Other', 'Browser_10', 'Browser_13']\n",
      "M11 subset score (3.): 0.8801901393010102\n",
      "............\n",
      "Best model (M12) with 12 features: ['PageValues', 'ExitRates', 'TrafficType_2', 'OperatingSystems_2', 'TrafficType_5', 'Browser_1', 'Region_2', 'Month_Sep', 'VisitorType_Other', 'Browser_10', 'Browser_13', 'Browser_7']\n",
      "M12 subset score (3.): 0.8801901393010102\n",
      "............\n",
      "Best model (M13) with 13 features: ['PageValues', 'ExitRates', 'TrafficType_2', 'OperatingSystems_2', 'TrafficType_5', 'Browser_1', 'Region_2', 'Month_Sep', 'VisitorType_Other', 'Browser_10', 'Browser_13', 'Browser_7', 'OperatingSystems_4']\n",
      "M13 subset score (3.): 0.8799738646163741\n",
      "............\n",
      "Best model (M14) with 14 features: ['PageValues', 'ExitRates', 'TrafficType_2', 'OperatingSystems_2', 'TrafficType_5', 'Browser_1', 'Region_2', 'Month_Sep', 'VisitorType_Other', 'Browser_10', 'Browser_13', 'Browser_7', 'OperatingSystems_4', 'Browser_8']\n",
      "M14 subset score (3.): 0.880082031192902\n",
      "............\n",
      "Best model (M15) with 15 features: ['PageValues', 'ExitRates', 'TrafficType_2', 'OperatingSystems_2', 'TrafficType_5', 'Browser_1', 'Region_2', 'Month_Sep', 'VisitorType_Other', 'Browser_10', 'Browser_13', 'Browser_7', 'OperatingSystems_4', 'Browser_8', 'TrafficType_15']\n",
      "M15 subset score (3.): 0.880082031192902\n",
      "............\n",
      "Best model (M16) with 16 features: ['PageValues', 'ExitRates', 'TrafficType_2', 'OperatingSystems_2', 'TrafficType_5', 'Browser_1', 'Region_2', 'Month_Sep', 'VisitorType_Other', 'Browser_10', 'Browser_13', 'Browser_7', 'OperatingSystems_4', 'Browser_8', 'TrafficType_15', 'OperatingSystems_8']\n",
      "M16 subset score (3.): 0.880082031192902\n",
      "............\n",
      "Best model (M17) with 17 features: ['PageValues', 'ExitRates', 'TrafficType_2', 'OperatingSystems_2', 'TrafficType_5', 'Browser_1', 'Region_2', 'Month_Sep', 'VisitorType_Other', 'Browser_10', 'Browser_13', 'Browser_7', 'OperatingSystems_4', 'Browser_8', 'TrafficType_15', 'OperatingSystems_8', 'Region_8']\n",
      "M17 subset score (3.): 0.880082031192902\n",
      "............\n",
      "Best model (M18) with 18 features: ['PageValues', 'ExitRates', 'TrafficType_2', 'OperatingSystems_2', 'TrafficType_5', 'Browser_1', 'Region_2', 'Month_Sep', 'VisitorType_Other', 'Browser_10', 'Browser_13', 'Browser_7', 'OperatingSystems_4', 'Browser_8', 'TrafficType_15', 'OperatingSystems_8', 'Region_8', 'TrafficType_19']\n",
      "M18 subset score (3.): 0.880082031192902\n",
      "............\n",
      "Best model (M19) with 19 features: ['PageValues', 'ExitRates', 'TrafficType_2', 'OperatingSystems_2', 'TrafficType_5', 'Browser_1', 'Region_2', 'Month_Sep', 'VisitorType_Other', 'Browser_10', 'Browser_13', 'Browser_7', 'OperatingSystems_4', 'Browser_8', 'TrafficType_15', 'OperatingSystems_8', 'Region_8', 'TrafficType_19', 'TrafficType_4']\n",
      "M19 subset score (3.): 0.8802982474091182\n",
      "............\n",
      "Best model (M20) with 20 features: ['PageValues', 'ExitRates', 'TrafficType_2', 'OperatingSystems_2', 'TrafficType_5', 'Browser_1', 'Region_2', 'Month_Sep', 'VisitorType_Other', 'Browser_10', 'Browser_13', 'Browser_7', 'OperatingSystems_4', 'Browser_8', 'TrafficType_15', 'OperatingSystems_8', 'Region_8', 'TrafficType_19', 'TrafficType_4', 'TrafficType_11']\n",
      "M20 subset score (3.): 0.8804062970488065\n",
      "............\n",
      "Best model (M21) with 21 features: ['PageValues', 'ExitRates', 'TrafficType_2', 'OperatingSystems_2', 'TrafficType_5', 'Browser_1', 'Region_2', 'Month_Sep', 'VisitorType_Other', 'Browser_10', 'Browser_13', 'Browser_7', 'OperatingSystems_4', 'Browser_8', 'TrafficType_15', 'OperatingSystems_8', 'Region_8', 'TrafficType_19', 'TrafficType_4', 'TrafficType_11', 'Browser_3']\n",
      "M21 subset score (3.): 0.8806225717334424\n",
      "............\n",
      "Best model (M22) with 22 features: ['PageValues', 'ExitRates', 'TrafficType_2', 'OperatingSystems_2', 'TrafficType_5', 'Browser_1', 'Region_2', 'Month_Sep', 'VisitorType_Other', 'Browser_10', 'Browser_13', 'Browser_7', 'OperatingSystems_4', 'Browser_8', 'TrafficType_15', 'OperatingSystems_8', 'Region_8', 'TrafficType_19', 'TrafficType_4', 'TrafficType_11', 'Browser_3', 'Browser_4']\n",
      "M22 subset score (3.): 0.8807307383099705\n",
      "............\n",
      "Best model (M23) with 23 features: ['PageValues', 'ExitRates', 'TrafficType_2', 'OperatingSystems_2', 'TrafficType_5', 'Browser_1', 'Region_2', 'Month_Sep', 'VisitorType_Other', 'Browser_10', 'Browser_13', 'Browser_7', 'OperatingSystems_4', 'Browser_8', 'TrafficType_15', 'OperatingSystems_8', 'Region_8', 'TrafficType_19', 'TrafficType_4', 'TrafficType_11', 'Browser_3', 'Browser_4', 'OperatingSystems_6']\n",
      "M23 subset score (3.): 0.8807307383099705\n",
      "............\n",
      "Best model (M24) with 24 features: ['PageValues', 'ExitRates', 'TrafficType_2', 'OperatingSystems_2', 'TrafficType_5', 'Browser_1', 'Region_2', 'Month_Sep', 'VisitorType_Other', 'Browser_10', 'Browser_13', 'Browser_7', 'OperatingSystems_4', 'Browser_8', 'TrafficType_15', 'OperatingSystems_8', 'Region_8', 'TrafficType_19', 'TrafficType_4', 'TrafficType_11', 'Browser_3', 'Browser_4', 'OperatingSystems_6', 'Region_3']\n",
      "M24 subset score (3.): 0.8806226302018623\n",
      "............\n",
      "Best model (M25) with 25 features: ['PageValues', 'ExitRates', 'TrafficType_2', 'OperatingSystems_2', 'TrafficType_5', 'Browser_1', 'Region_2', 'Month_Sep', 'VisitorType_Other', 'Browser_10', 'Browser_13', 'Browser_7', 'OperatingSystems_4', 'Browser_8', 'TrafficType_15', 'OperatingSystems_8', 'Region_8', 'TrafficType_19', 'TrafficType_4', 'TrafficType_11', 'Browser_3', 'Browser_4', 'OperatingSystems_6', 'Region_3', 'Browser_5']\n",
      "M25 subset score (3.): 0.8807307383099705\n",
      "............\n",
      "Best model (M26) with 26 features: ['PageValues', 'ExitRates', 'TrafficType_2', 'OperatingSystems_2', 'TrafficType_5', 'Browser_1', 'Region_2', 'Month_Sep', 'VisitorType_Other', 'Browser_10', 'Browser_13', 'Browser_7', 'OperatingSystems_4', 'Browser_8', 'TrafficType_15', 'OperatingSystems_8', 'Region_8', 'TrafficType_19', 'TrafficType_4', 'TrafficType_11', 'Browser_3', 'Browser_4', 'OperatingSystems_6', 'Region_3', 'Browser_5', 'Month_Feb']\n",
      "M26 subset score (3.): 0.8808389048864982\n",
      "............\n",
      "Best model (M27) with 27 features: ['PageValues', 'ExitRates', 'TrafficType_2', 'OperatingSystems_2', 'TrafficType_5', 'Browser_1', 'Region_2', 'Month_Sep', 'VisitorType_Other', 'Browser_10', 'Browser_13', 'Browser_7', 'OperatingSystems_4', 'Browser_8', 'TrafficType_15', 'OperatingSystems_8', 'Region_8', 'TrafficType_19', 'TrafficType_4', 'TrafficType_11', 'Browser_3', 'Browser_4', 'OperatingSystems_6', 'Region_3', 'Browser_5', 'Month_Feb', 'Region_6']\n",
      "M27 subset score (3.): 0.8806226302018623\n"
     ]
    },
    {
     "name": "stdout",
     "output_type": "stream",
     "text": [
      "............\n",
      "Best model (M28) with 28 features: ['PageValues', 'ExitRates', 'TrafficType_2', 'OperatingSystems_2', 'TrafficType_5', 'Browser_1', 'Region_2', 'Month_Sep', 'VisitorType_Other', 'Browser_10', 'Browser_13', 'Browser_7', 'OperatingSystems_4', 'Browser_8', 'TrafficType_15', 'OperatingSystems_8', 'Region_8', 'TrafficType_19', 'TrafficType_4', 'TrafficType_11', 'Browser_3', 'Browser_4', 'OperatingSystems_6', 'Region_3', 'Browser_5', 'Month_Feb', 'Region_6', 'Month_Aug']\n",
      "M28 subset score (3.): 0.8806226302018623\n",
      "............\n",
      "Best model (M29) with 29 features: ['PageValues', 'ExitRates', 'TrafficType_2', 'OperatingSystems_2', 'TrafficType_5', 'Browser_1', 'Region_2', 'Month_Sep', 'VisitorType_Other', 'Browser_10', 'Browser_13', 'Browser_7', 'OperatingSystems_4', 'Browser_8', 'TrafficType_15', 'OperatingSystems_8', 'Region_8', 'TrafficType_19', 'TrafficType_4', 'TrafficType_11', 'Browser_3', 'Browser_4', 'OperatingSystems_6', 'Region_3', 'Browser_5', 'Month_Feb', 'Region_6', 'Month_Aug', 'OperatingSystems_1']\n",
      "M29 subset score (3.): 0.8807307967783901\n",
      "............\n",
      "Best model (M30) with 30 features: ['PageValues', 'ExitRates', 'TrafficType_2', 'OperatingSystems_2', 'TrafficType_5', 'Browser_1', 'Region_2', 'Month_Sep', 'VisitorType_Other', 'Browser_10', 'Browser_13', 'Browser_7', 'OperatingSystems_4', 'Browser_8', 'TrafficType_15', 'OperatingSystems_8', 'Region_8', 'TrafficType_19', 'TrafficType_4', 'TrafficType_11', 'Browser_3', 'Browser_4', 'OperatingSystems_6', 'Region_3', 'Browser_5', 'Month_Feb', 'Region_6', 'Month_Aug', 'OperatingSystems_1', 'OperatingSystems_3']\n",
      "M30 subset score (3.): 0.8806226302018623\n",
      "............\n",
      "Best model (M31) with 31 features: ['PageValues', 'ExitRates', 'TrafficType_2', 'OperatingSystems_2', 'TrafficType_5', 'Browser_1', 'Region_2', 'Month_Sep', 'VisitorType_Other', 'Browser_10', 'Browser_13', 'Browser_7', 'OperatingSystems_4', 'Browser_8', 'TrafficType_15', 'OperatingSystems_8', 'Region_8', 'TrafficType_19', 'TrafficType_4', 'TrafficType_11', 'Browser_3', 'Browser_4', 'OperatingSystems_6', 'Region_3', 'Browser_5', 'Month_Feb', 'Region_6', 'Month_Aug', 'OperatingSystems_1', 'OperatingSystems_3', 'TrafficType_7']\n",
      "M31 subset score (3.): 0.8806226302018623\n",
      "............\n",
      "Best model (M32) with 32 features: ['PageValues', 'ExitRates', 'TrafficType_2', 'OperatingSystems_2', 'TrafficType_5', 'Browser_1', 'Region_2', 'Month_Sep', 'VisitorType_Other', 'Browser_10', 'Browser_13', 'Browser_7', 'OperatingSystems_4', 'Browser_8', 'TrafficType_15', 'OperatingSystems_8', 'Region_8', 'TrafficType_19', 'TrafficType_4', 'TrafficType_11', 'Browser_3', 'Browser_4', 'OperatingSystems_6', 'Region_3', 'Browser_5', 'Month_Feb', 'Region_6', 'Month_Aug', 'OperatingSystems_1', 'OperatingSystems_3', 'TrafficType_7', 'TrafficType_9']\n",
      "M32 subset score (3.): 0.8806226302018623\n",
      "............\n",
      "Best model (M33) with 33 features: ['PageValues', 'ExitRates', 'TrafficType_2', 'OperatingSystems_2', 'TrafficType_5', 'Browser_1', 'Region_2', 'Month_Sep', 'VisitorType_Other', 'Browser_10', 'Browser_13', 'Browser_7', 'OperatingSystems_4', 'Browser_8', 'TrafficType_15', 'OperatingSystems_8', 'Region_8', 'TrafficType_19', 'TrafficType_4', 'TrafficType_11', 'Browser_3', 'Browser_4', 'OperatingSystems_6', 'Region_3', 'Browser_5', 'Month_Feb', 'Region_6', 'Month_Aug', 'OperatingSystems_1', 'OperatingSystems_3', 'TrafficType_7', 'TrafficType_9', 'Month_June']\n",
      "M33 subset score (3.): 0.8807307967783901\n",
      "............\n",
      "Best model (M34) with 34 features: ['PageValues', 'ExitRates', 'TrafficType_2', 'OperatingSystems_2', 'TrafficType_5', 'Browser_1', 'Region_2', 'Month_Sep', 'VisitorType_Other', 'Browser_10', 'Browser_13', 'Browser_7', 'OperatingSystems_4', 'Browser_8', 'TrafficType_15', 'OperatingSystems_8', 'Region_8', 'TrafficType_19', 'TrafficType_4', 'TrafficType_11', 'Browser_3', 'Browser_4', 'OperatingSystems_6', 'Region_3', 'Browser_5', 'Month_Feb', 'Region_6', 'Month_Aug', 'OperatingSystems_1', 'OperatingSystems_3', 'TrafficType_7', 'TrafficType_9', 'Month_June', 'Region_7']\n",
      "M34 subset score (3.): 0.8808389048864982\n",
      "............\n",
      "Best model (M35) with 35 features: ['PageValues', 'ExitRates', 'TrafficType_2', 'OperatingSystems_2', 'TrafficType_5', 'Browser_1', 'Region_2', 'Month_Sep', 'VisitorType_Other', 'Browser_10', 'Browser_13', 'Browser_7', 'OperatingSystems_4', 'Browser_8', 'TrafficType_15', 'OperatingSystems_8', 'Region_8', 'TrafficType_19', 'TrafficType_4', 'TrafficType_11', 'Browser_3', 'Browser_4', 'OperatingSystems_6', 'Region_3', 'Browser_5', 'Month_Feb', 'Region_6', 'Month_Aug', 'OperatingSystems_1', 'OperatingSystems_3', 'TrafficType_7', 'TrafficType_9', 'Month_June', 'Region_7', 'Browser_2']\n",
      "M35 subset score (3.): 0.880838963354918\n",
      "............\n",
      "Best model (M36) with 36 features: ['PageValues', 'ExitRates', 'TrafficType_2', 'OperatingSystems_2', 'TrafficType_5', 'Browser_1', 'Region_2', 'Month_Sep', 'VisitorType_Other', 'Browser_10', 'Browser_13', 'Browser_7', 'OperatingSystems_4', 'Browser_8', 'TrafficType_15', 'OperatingSystems_8', 'Region_8', 'TrafficType_19', 'TrafficType_4', 'TrafficType_11', 'Browser_3', 'Browser_4', 'OperatingSystems_6', 'Region_3', 'Browser_5', 'Month_Feb', 'Region_6', 'Month_Aug', 'OperatingSystems_1', 'OperatingSystems_3', 'TrafficType_7', 'TrafficType_9', 'Month_June', 'Region_7', 'Browser_2', 'Month_Oct']\n",
      "M36 subset score (3.): 0.880622688670282\n",
      "............\n",
      "Best model (M37) with 37 features: ['PageValues', 'ExitRates', 'TrafficType_2', 'OperatingSystems_2', 'TrafficType_5', 'Browser_1', 'Region_2', 'Month_Sep', 'VisitorType_Other', 'Browser_10', 'Browser_13', 'Browser_7', 'OperatingSystems_4', 'Browser_8', 'TrafficType_15', 'OperatingSystems_8', 'Region_8', 'TrafficType_19', 'TrafficType_4', 'TrafficType_11', 'Browser_3', 'Browser_4', 'OperatingSystems_6', 'Region_3', 'Browser_5', 'Month_Feb', 'Region_6', 'Month_Aug', 'OperatingSystems_1', 'OperatingSystems_3', 'TrafficType_7', 'TrafficType_9', 'Month_June', 'Region_7', 'Browser_2', 'Month_Oct', 'TrafficType_6']\n",
      "M37 subset score (3.): 0.8805145805621739\n",
      "............\n",
      "Best model (M38) with 38 features: ['PageValues', 'ExitRates', 'TrafficType_2', 'OperatingSystems_2', 'TrafficType_5', 'Browser_1', 'Region_2', 'Month_Sep', 'VisitorType_Other', 'Browser_10', 'Browser_13', 'Browser_7', 'OperatingSystems_4', 'Browser_8', 'TrafficType_15', 'OperatingSystems_8', 'Region_8', 'TrafficType_19', 'TrafficType_4', 'TrafficType_11', 'Browser_3', 'Browser_4', 'OperatingSystems_6', 'Region_3', 'Browser_5', 'Month_Feb', 'Region_6', 'Month_Aug', 'OperatingSystems_1', 'OperatingSystems_3', 'TrafficType_7', 'TrafficType_9', 'Month_June', 'Region_7', 'Browser_2', 'Month_Oct', 'TrafficType_6', 'TrafficType_1']\n",
      "M38 subset score (3.): 0.8801901393010102\n",
      "............\n",
      "Best model (M39) with 39 features: ['PageValues', 'ExitRates', 'TrafficType_2', 'OperatingSystems_2', 'TrafficType_5', 'Browser_1', 'Region_2', 'Month_Sep', 'VisitorType_Other', 'Browser_10', 'Browser_13', 'Browser_7', 'OperatingSystems_4', 'Browser_8', 'TrafficType_15', 'OperatingSystems_8', 'Region_8', 'TrafficType_19', 'TrafficType_4', 'TrafficType_11', 'Browser_3', 'Browser_4', 'OperatingSystems_6', 'Region_3', 'Browser_5', 'Month_Feb', 'Region_6', 'Month_Aug', 'OperatingSystems_1', 'OperatingSystems_3', 'TrafficType_7', 'TrafficType_9', 'Month_June', 'Region_7', 'Browser_2', 'Month_Oct', 'TrafficType_6', 'TrafficType_1', 'Region_5']\n",
      "M39 subset score (3.): 0.880082031192902\n",
      "............\n",
      "Best model (M40) with 40 features: ['PageValues', 'ExitRates', 'TrafficType_2', 'OperatingSystems_2', 'TrafficType_5', 'Browser_1', 'Region_2', 'Month_Sep', 'VisitorType_Other', 'Browser_10', 'Browser_13', 'Browser_7', 'OperatingSystems_4', 'Browser_8', 'TrafficType_15', 'OperatingSystems_8', 'Region_8', 'TrafficType_19', 'TrafficType_4', 'TrafficType_11', 'Browser_3', 'Browser_4', 'OperatingSystems_6', 'Region_3', 'Browser_5', 'Month_Feb', 'Region_6', 'Month_Aug', 'OperatingSystems_1', 'OperatingSystems_3', 'TrafficType_7', 'TrafficType_9', 'Month_June', 'Region_7', 'Browser_2', 'Month_Oct', 'TrafficType_6', 'TrafficType_1', 'Region_5', 'Browser_6']\n",
      "M40 subset score (3.): 0.8800820896613217\n",
      "............\n",
      "Best model (M41) with 41 features: ['PageValues', 'ExitRates', 'TrafficType_2', 'OperatingSystems_2', 'TrafficType_5', 'Browser_1', 'Region_2', 'Month_Sep', 'VisitorType_Other', 'Browser_10', 'Browser_13', 'Browser_7', 'OperatingSystems_4', 'Browser_8', 'TrafficType_15', 'OperatingSystems_8', 'Region_8', 'TrafficType_19', 'TrafficType_4', 'TrafficType_11', 'Browser_3', 'Browser_4', 'OperatingSystems_6', 'Region_3', 'Browser_5', 'Month_Feb', 'Region_6', 'Month_Aug', 'OperatingSystems_1', 'OperatingSystems_3', 'TrafficType_7', 'TrafficType_9', 'Month_June', 'Region_7', 'Browser_2', 'Month_Oct', 'TrafficType_6', 'TrafficType_1', 'Region_5', 'Browser_6', 'Region_4']\n",
      "M41 subset score (3.): 0.8801901393010102\n"
     ]
    },
    {
     "name": "stdout",
     "output_type": "stream",
     "text": [
      "............\n",
      "Best model (M42) with 42 features: ['PageValues', 'ExitRates', 'TrafficType_2', 'OperatingSystems_2', 'TrafficType_5', 'Browser_1', 'Region_2', 'Month_Sep', 'VisitorType_Other', 'Browser_10', 'Browser_13', 'Browser_7', 'OperatingSystems_4', 'Browser_8', 'TrafficType_15', 'OperatingSystems_8', 'Region_8', 'TrafficType_19', 'TrafficType_4', 'TrafficType_11', 'Browser_3', 'Browser_4', 'OperatingSystems_6', 'Region_3', 'Browser_5', 'Month_Feb', 'Region_6', 'Month_Aug', 'OperatingSystems_1', 'OperatingSystems_3', 'TrafficType_7', 'TrafficType_9', 'Month_June', 'Region_7', 'Browser_2', 'Month_Oct', 'TrafficType_6', 'TrafficType_1', 'Region_5', 'Browser_6', 'Region_4', 'TrafficType_3']\n",
      "M42 subset score (3.): 0.8801901977694297\n",
      "............\n",
      "Best model (M43) with 43 features: ['PageValues', 'ExitRates', 'TrafficType_2', 'OperatingSystems_2', 'TrafficType_5', 'Browser_1', 'Region_2', 'Month_Sep', 'VisitorType_Other', 'Browser_10', 'Browser_13', 'Browser_7', 'OperatingSystems_4', 'Browser_8', 'TrafficType_15', 'OperatingSystems_8', 'Region_8', 'TrafficType_19', 'TrafficType_4', 'TrafficType_11', 'Browser_3', 'Browser_4', 'OperatingSystems_6', 'Region_3', 'Browser_5', 'Month_Feb', 'Region_6', 'Month_Aug', 'OperatingSystems_1', 'OperatingSystems_3', 'TrafficType_7', 'TrafficType_9', 'Month_June', 'Region_7', 'Browser_2', 'Month_Oct', 'TrafficType_6', 'TrafficType_1', 'Region_5', 'Browser_6', 'Region_4', 'TrafficType_3', 'TrafficType_10']\n",
      "M43 subset score (3.): 0.8802982474091181\n",
      "............\n",
      "Best model (M44) with 44 features: ['PageValues', 'ExitRates', 'TrafficType_2', 'OperatingSystems_2', 'TrafficType_5', 'Browser_1', 'Region_2', 'Month_Sep', 'VisitorType_Other', 'Browser_10', 'Browser_13', 'Browser_7', 'OperatingSystems_4', 'Browser_8', 'TrafficType_15', 'OperatingSystems_8', 'Region_8', 'TrafficType_19', 'TrafficType_4', 'TrafficType_11', 'Browser_3', 'Browser_4', 'OperatingSystems_6', 'Region_3', 'Browser_5', 'Month_Feb', 'Region_6', 'Month_Aug', 'OperatingSystems_1', 'OperatingSystems_3', 'TrafficType_7', 'TrafficType_9', 'Month_June', 'Region_7', 'Browser_2', 'Month_Oct', 'TrafficType_6', 'TrafficType_1', 'Region_5', 'Browser_6', 'Region_4', 'TrafficType_3', 'TrafficType_10', 'BounceRates']\n",
      "M44 subset score (3.): 0.8801900808325904\n",
      "............\n",
      "Best model (M45) with 45 features: ['PageValues', 'ExitRates', 'TrafficType_2', 'OperatingSystems_2', 'TrafficType_5', 'Browser_1', 'Region_2', 'Month_Sep', 'VisitorType_Other', 'Browser_10', 'Browser_13', 'Browser_7', 'OperatingSystems_4', 'Browser_8', 'TrafficType_15', 'OperatingSystems_8', 'Region_8', 'TrafficType_19', 'TrafficType_4', 'TrafficType_11', 'Browser_3', 'Browser_4', 'OperatingSystems_6', 'Region_3', 'Browser_5', 'Month_Feb', 'Region_6', 'Month_Aug', 'OperatingSystems_1', 'OperatingSystems_3', 'TrafficType_7', 'TrafficType_9', 'Month_June', 'Region_7', 'Browser_2', 'Month_Oct', 'TrafficType_6', 'TrafficType_1', 'Region_5', 'Browser_6', 'Region_4', 'TrafficType_3', 'TrafficType_10', 'BounceRates', 'TrafficType_8']\n",
      "M45 subset score (3.): 0.8806226302018623\n",
      "............\n",
      "Best model (M46) with 46 features: ['PageValues', 'ExitRates', 'TrafficType_2', 'OperatingSystems_2', 'TrafficType_5', 'Browser_1', 'Region_2', 'Month_Sep', 'VisitorType_Other', 'Browser_10', 'Browser_13', 'Browser_7', 'OperatingSystems_4', 'Browser_8', 'TrafficType_15', 'OperatingSystems_8', 'Region_8', 'TrafficType_19', 'TrafficType_4', 'TrafficType_11', 'Browser_3', 'Browser_4', 'OperatingSystems_6', 'Region_3', 'Browser_5', 'Month_Feb', 'Region_6', 'Month_Aug', 'OperatingSystems_1', 'OperatingSystems_3', 'TrafficType_7', 'TrafficType_9', 'Month_June', 'Region_7', 'Browser_2', 'Month_Oct', 'TrafficType_6', 'TrafficType_1', 'Region_5', 'Browser_6', 'Region_4', 'TrafficType_3', 'TrafficType_10', 'BounceRates', 'TrafficType_8', 'Month_Dec']\n",
      "M46 subset score (3.): 0.8802981889406984\n",
      "............\n",
      "Best model (M47) with 47 features: ['PageValues', 'ExitRates', 'TrafficType_2', 'OperatingSystems_2', 'TrafficType_5', 'Browser_1', 'Region_2', 'Month_Sep', 'VisitorType_Other', 'Browser_10', 'Browser_13', 'Browser_7', 'OperatingSystems_4', 'Browser_8', 'TrafficType_15', 'OperatingSystems_8', 'Region_8', 'TrafficType_19', 'TrafficType_4', 'TrafficType_11', 'Browser_3', 'Browser_4', 'OperatingSystems_6', 'Region_3', 'Browser_5', 'Month_Feb', 'Region_6', 'Month_Aug', 'OperatingSystems_1', 'OperatingSystems_3', 'TrafficType_7', 'TrafficType_9', 'Month_June', 'Region_7', 'Browser_2', 'Month_Oct', 'TrafficType_6', 'TrafficType_1', 'Region_5', 'Browser_6', 'Region_4', 'TrafficType_3', 'TrafficType_10', 'BounceRates', 'TrafficType_8', 'Month_Dec', 'VisitorType_New_Visitor']\n",
      "M47 subset score (3.): 0.880622688670282\n",
      "............\n",
      "Best model (M48) with 48 features: ['PageValues', 'ExitRates', 'TrafficType_2', 'OperatingSystems_2', 'TrafficType_5', 'Browser_1', 'Region_2', 'Month_Sep', 'VisitorType_Other', 'Browser_10', 'Browser_13', 'Browser_7', 'OperatingSystems_4', 'Browser_8', 'TrafficType_15', 'OperatingSystems_8', 'Region_8', 'TrafficType_19', 'TrafficType_4', 'TrafficType_11', 'Browser_3', 'Browser_4', 'OperatingSystems_6', 'Region_3', 'Browser_5', 'Month_Feb', 'Region_6', 'Month_Aug', 'OperatingSystems_1', 'OperatingSystems_3', 'TrafficType_7', 'TrafficType_9', 'Month_June', 'Region_7', 'Browser_2', 'Month_Oct', 'TrafficType_6', 'TrafficType_1', 'Region_5', 'Browser_6', 'Region_4', 'TrafficType_3', 'TrafficType_10', 'BounceRates', 'TrafficType_8', 'Month_Dec', 'VisitorType_New_Visitor', 'Weekend_False']\n",
      "M48 subset score (3.): 0.8808389048864982\n",
      "............\n",
      "Best model (M49) with 49 features: ['PageValues', 'ExitRates', 'TrafficType_2', 'OperatingSystems_2', 'TrafficType_5', 'Browser_1', 'Region_2', 'Month_Sep', 'VisitorType_Other', 'Browser_10', 'Browser_13', 'Browser_7', 'OperatingSystems_4', 'Browser_8', 'TrafficType_15', 'OperatingSystems_8', 'Region_8', 'TrafficType_19', 'TrafficType_4', 'TrafficType_11', 'Browser_3', 'Browser_4', 'OperatingSystems_6', 'Region_3', 'Browser_5', 'Month_Feb', 'Region_6', 'Month_Aug', 'OperatingSystems_1', 'OperatingSystems_3', 'TrafficType_7', 'TrafficType_9', 'Month_June', 'Region_7', 'Browser_2', 'Month_Oct', 'TrafficType_6', 'TrafficType_1', 'Region_5', 'Browser_6', 'Region_4', 'TrafficType_3', 'TrafficType_10', 'BounceRates', 'TrafficType_8', 'Month_Dec', 'VisitorType_New_Visitor', 'Weekend_False', 'VisitorType_Returning_Visitor']\n",
      "M49 subset score (3.): 0.8808389048864982\n",
      "............\n",
      "Best model (M50) with 50 features: ['PageValues', 'ExitRates', 'TrafficType_2', 'OperatingSystems_2', 'TrafficType_5', 'Browser_1', 'Region_2', 'Month_Sep', 'VisitorType_Other', 'Browser_10', 'Browser_13', 'Browser_7', 'OperatingSystems_4', 'Browser_8', 'TrafficType_15', 'OperatingSystems_8', 'Region_8', 'TrafficType_19', 'TrafficType_4', 'TrafficType_11', 'Browser_3', 'Browser_4', 'OperatingSystems_6', 'Region_3', 'Browser_5', 'Month_Feb', 'Region_6', 'Month_Aug', 'OperatingSystems_1', 'OperatingSystems_3', 'TrafficType_7', 'TrafficType_9', 'Month_June', 'Region_7', 'Browser_2', 'Month_Oct', 'TrafficType_6', 'TrafficType_1', 'Region_5', 'Browser_6', 'Region_4', 'TrafficType_3', 'TrafficType_10', 'BounceRates', 'TrafficType_8', 'Month_Dec', 'VisitorType_New_Visitor', 'Weekend_False', 'VisitorType_Returning_Visitor', 'Weekend_True']\n",
      "M50 subset score (3.): 0.8808389048864982\n",
      "............\n",
      "Best model (M51) with 51 features: ['PageValues', 'ExitRates', 'TrafficType_2', 'OperatingSystems_2', 'TrafficType_5', 'Browser_1', 'Region_2', 'Month_Sep', 'VisitorType_Other', 'Browser_10', 'Browser_13', 'Browser_7', 'OperatingSystems_4', 'Browser_8', 'TrafficType_15', 'OperatingSystems_8', 'Region_8', 'TrafficType_19', 'TrafficType_4', 'TrafficType_11', 'Browser_3', 'Browser_4', 'OperatingSystems_6', 'Region_3', 'Browser_5', 'Month_Feb', 'Region_6', 'Month_Aug', 'OperatingSystems_1', 'OperatingSystems_3', 'TrafficType_7', 'TrafficType_9', 'Month_June', 'Region_7', 'Browser_2', 'Month_Oct', 'TrafficType_6', 'TrafficType_1', 'Region_5', 'Browser_6', 'Region_4', 'TrafficType_3', 'TrafficType_10', 'BounceRates', 'TrafficType_8', 'Month_Dec', 'VisitorType_New_Visitor', 'Weekend_False', 'VisitorType_Returning_Visitor', 'Weekend_True', 'SpecialDay']\n",
      "M51 subset score (3.): 0.8807308552468098\n"
     ]
    },
    {
     "name": "stdout",
     "output_type": "stream",
     "text": [
      "............\n",
      "Best model (M52) with 52 features: ['PageValues', 'ExitRates', 'TrafficType_2', 'OperatingSystems_2', 'TrafficType_5', 'Browser_1', 'Region_2', 'Month_Sep', 'VisitorType_Other', 'Browser_10', 'Browser_13', 'Browser_7', 'OperatingSystems_4', 'Browser_8', 'TrafficType_15', 'OperatingSystems_8', 'Region_8', 'TrafficType_19', 'TrafficType_4', 'TrafficType_11', 'Browser_3', 'Browser_4', 'OperatingSystems_6', 'Region_3', 'Browser_5', 'Month_Feb', 'Region_6', 'Month_Aug', 'OperatingSystems_1', 'OperatingSystems_3', 'TrafficType_7', 'TrafficType_9', 'Month_June', 'Region_7', 'Browser_2', 'Month_Oct', 'TrafficType_6', 'TrafficType_1', 'Region_5', 'Browser_6', 'Region_4', 'TrafficType_3', 'TrafficType_10', 'BounceRates', 'TrafficType_8', 'Month_Dec', 'VisitorType_New_Visitor', 'Weekend_False', 'VisitorType_Returning_Visitor', 'Weekend_True', 'SpecialDay', 'Region_1']\n",
      "M52 subset score (3.): 0.8806225717334424\n",
      "............\n",
      "Best model (M53) with 53 features: ['PageValues', 'ExitRates', 'TrafficType_2', 'OperatingSystems_2', 'TrafficType_5', 'Browser_1', 'Region_2', 'Month_Sep', 'VisitorType_Other', 'Browser_10', 'Browser_13', 'Browser_7', 'OperatingSystems_4', 'Browser_8', 'TrafficType_15', 'OperatingSystems_8', 'Region_8', 'TrafficType_19', 'TrafficType_4', 'TrafficType_11', 'Browser_3', 'Browser_4', 'OperatingSystems_6', 'Region_3', 'Browser_5', 'Month_Feb', 'Region_6', 'Month_Aug', 'OperatingSystems_1', 'OperatingSystems_3', 'TrafficType_7', 'TrafficType_9', 'Month_June', 'Region_7', 'Browser_2', 'Month_Oct', 'TrafficType_6', 'TrafficType_1', 'Region_5', 'Browser_6', 'Region_4', 'TrafficType_3', 'TrafficType_10', 'BounceRates', 'TrafficType_8', 'Month_Dec', 'VisitorType_New_Visitor', 'Weekend_False', 'VisitorType_Returning_Visitor', 'Weekend_True', 'SpecialDay', 'Region_1', 'Region_9']\n",
      "M53 subset score (3.): 0.8806225717334424\n",
      "............\n",
      "Best model (M54) with 54 features: ['PageValues', 'ExitRates', 'TrafficType_2', 'OperatingSystems_2', 'TrafficType_5', 'Browser_1', 'Region_2', 'Month_Sep', 'VisitorType_Other', 'Browser_10', 'Browser_13', 'Browser_7', 'OperatingSystems_4', 'Browser_8', 'TrafficType_15', 'OperatingSystems_8', 'Region_8', 'TrafficType_19', 'TrafficType_4', 'TrafficType_11', 'Browser_3', 'Browser_4', 'OperatingSystems_6', 'Region_3', 'Browser_5', 'Month_Feb', 'Region_6', 'Month_Aug', 'OperatingSystems_1', 'OperatingSystems_3', 'TrafficType_7', 'TrafficType_9', 'Month_June', 'Region_7', 'Browser_2', 'Month_Oct', 'TrafficType_6', 'TrafficType_1', 'Region_5', 'Browser_6', 'Region_4', 'TrafficType_3', 'TrafficType_10', 'BounceRates', 'TrafficType_8', 'Month_Dec', 'VisitorType_New_Visitor', 'Weekend_False', 'VisitorType_Returning_Visitor', 'Weekend_True', 'SpecialDay', 'Region_1', 'Region_9', 'Month_Jul']\n",
      "M54 subset score (3.): 0.8804062970488065\n",
      "............\n",
      "Best model (M55) with 55 features: ['PageValues', 'ExitRates', 'TrafficType_2', 'OperatingSystems_2', 'TrafficType_5', 'Browser_1', 'Region_2', 'Month_Sep', 'VisitorType_Other', 'Browser_10', 'Browser_13', 'Browser_7', 'OperatingSystems_4', 'Browser_8', 'TrafficType_15', 'OperatingSystems_8', 'Region_8', 'TrafficType_19', 'TrafficType_4', 'TrafficType_11', 'Browser_3', 'Browser_4', 'OperatingSystems_6', 'Region_3', 'Browser_5', 'Month_Feb', 'Region_6', 'Month_Aug', 'OperatingSystems_1', 'OperatingSystems_3', 'TrafficType_7', 'TrafficType_9', 'Month_June', 'Region_7', 'Browser_2', 'Month_Oct', 'TrafficType_6', 'TrafficType_1', 'Region_5', 'Browser_6', 'Region_4', 'TrafficType_3', 'TrafficType_10', 'BounceRates', 'TrafficType_8', 'Month_Dec', 'VisitorType_New_Visitor', 'Weekend_False', 'VisitorType_Returning_Visitor', 'Weekend_True', 'SpecialDay', 'Region_1', 'Region_9', 'Month_Jul', 'Month_Mar']\n",
      "M55 subset score (3.): 0.8802983058775379\n",
      "............\n",
      "Best model (M56) with 56 features: ['PageValues', 'ExitRates', 'TrafficType_2', 'OperatingSystems_2', 'TrafficType_5', 'Browser_1', 'Region_2', 'Month_Sep', 'VisitorType_Other', 'Browser_10', 'Browser_13', 'Browser_7', 'OperatingSystems_4', 'Browser_8', 'TrafficType_15', 'OperatingSystems_8', 'Region_8', 'TrafficType_19', 'TrafficType_4', 'TrafficType_11', 'Browser_3', 'Browser_4', 'OperatingSystems_6', 'Region_3', 'Browser_5', 'Month_Feb', 'Region_6', 'Month_Aug', 'OperatingSystems_1', 'OperatingSystems_3', 'TrafficType_7', 'TrafficType_9', 'Month_June', 'Region_7', 'Browser_2', 'Month_Oct', 'TrafficType_6', 'TrafficType_1', 'Region_5', 'Browser_6', 'Region_4', 'TrafficType_3', 'TrafficType_10', 'BounceRates', 'TrafficType_8', 'Month_Dec', 'VisitorType_New_Visitor', 'Weekend_False', 'VisitorType_Returning_Visitor', 'Weekend_True', 'SpecialDay', 'Region_1', 'Region_9', 'Month_Jul', 'Month_Mar', 'TrafficType_20']\n",
      "M56 subset score (3.): 0.8796494818236299\n",
      "............\n",
      "Best model (M57) with 57 features: ['PageValues', 'ExitRates', 'TrafficType_2', 'OperatingSystems_2', 'TrafficType_5', 'Browser_1', 'Region_2', 'Month_Sep', 'VisitorType_Other', 'Browser_10', 'Browser_13', 'Browser_7', 'OperatingSystems_4', 'Browser_8', 'TrafficType_15', 'OperatingSystems_8', 'Region_8', 'TrafficType_19', 'TrafficType_4', 'TrafficType_11', 'Browser_3', 'Browser_4', 'OperatingSystems_6', 'Region_3', 'Browser_5', 'Month_Feb', 'Region_6', 'Month_Aug', 'OperatingSystems_1', 'OperatingSystems_3', 'TrafficType_7', 'TrafficType_9', 'Month_June', 'Region_7', 'Browser_2', 'Month_Oct', 'TrafficType_6', 'TrafficType_1', 'Region_5', 'Browser_6', 'Region_4', 'TrafficType_3', 'TrafficType_10', 'BounceRates', 'TrafficType_8', 'Month_Dec', 'VisitorType_New_Visitor', 'Weekend_False', 'VisitorType_Returning_Visitor', 'Weekend_True', 'SpecialDay', 'Region_1', 'Region_9', 'Month_Jul', 'Month_Mar', 'TrafficType_20', 'TrafficType_13']\n",
      "M57 subset score (3.): 0.8796494818236299\n",
      "............\n",
      "Best model (M58) with 58 features: ['PageValues', 'ExitRates', 'TrafficType_2', 'OperatingSystems_2', 'TrafficType_5', 'Browser_1', 'Region_2', 'Month_Sep', 'VisitorType_Other', 'Browser_10', 'Browser_13', 'Browser_7', 'OperatingSystems_4', 'Browser_8', 'TrafficType_15', 'OperatingSystems_8', 'Region_8', 'TrafficType_19', 'TrafficType_4', 'TrafficType_11', 'Browser_3', 'Browser_4', 'OperatingSystems_6', 'Region_3', 'Browser_5', 'Month_Feb', 'Region_6', 'Month_Aug', 'OperatingSystems_1', 'OperatingSystems_3', 'TrafficType_7', 'TrafficType_9', 'Month_June', 'Region_7', 'Browser_2', 'Month_Oct', 'TrafficType_6', 'TrafficType_1', 'Region_5', 'Browser_6', 'Region_4', 'TrafficType_3', 'TrafficType_10', 'BounceRates', 'TrafficType_8', 'Month_Dec', 'VisitorType_New_Visitor', 'Weekend_False', 'VisitorType_Returning_Visitor', 'Weekend_True', 'SpecialDay', 'Region_1', 'Region_9', 'Month_Jul', 'Month_Mar', 'TrafficType_20', 'TrafficType_13', 'ProductRelated_Duration']\n",
      "M58 subset score (3.): 0.878243959481385\n",
      "............\n",
      "Best model (M59) with 59 features: ['PageValues', 'ExitRates', 'TrafficType_2', 'OperatingSystems_2', 'TrafficType_5', 'Browser_1', 'Region_2', 'Month_Sep', 'VisitorType_Other', 'Browser_10', 'Browser_13', 'Browser_7', 'OperatingSystems_4', 'Browser_8', 'TrafficType_15', 'OperatingSystems_8', 'Region_8', 'TrafficType_19', 'TrafficType_4', 'TrafficType_11', 'Browser_3', 'Browser_4', 'OperatingSystems_6', 'Region_3', 'Browser_5', 'Month_Feb', 'Region_6', 'Month_Aug', 'OperatingSystems_1', 'OperatingSystems_3', 'TrafficType_7', 'TrafficType_9', 'Month_June', 'Region_7', 'Browser_2', 'Month_Oct', 'TrafficType_6', 'TrafficType_1', 'Region_5', 'Browser_6', 'Region_4', 'TrafficType_3', 'TrafficType_10', 'BounceRates', 'TrafficType_8', 'Month_Dec', 'VisitorType_New_Visitor', 'Weekend_False', 'VisitorType_Returning_Visitor', 'Weekend_True', 'SpecialDay', 'Region_1', 'Region_9', 'Month_Jul', 'Month_Mar', 'TrafficType_20', 'TrafficType_13', 'ProductRelated_Duration', 'Administrative']\n",
      "M59 subset score (3.): 0.8782440179498048\n",
      "............\n",
      "Best model (M60) with 60 features: ['PageValues', 'ExitRates', 'TrafficType_2', 'OperatingSystems_2', 'TrafficType_5', 'Browser_1', 'Region_2', 'Month_Sep', 'VisitorType_Other', 'Browser_10', 'Browser_13', 'Browser_7', 'OperatingSystems_4', 'Browser_8', 'TrafficType_15', 'OperatingSystems_8', 'Region_8', 'TrafficType_19', 'TrafficType_4', 'TrafficType_11', 'Browser_3', 'Browser_4', 'OperatingSystems_6', 'Region_3', 'Browser_5', 'Month_Feb', 'Region_6', 'Month_Aug', 'OperatingSystems_1', 'OperatingSystems_3', 'TrafficType_7', 'TrafficType_9', 'Month_June', 'Region_7', 'Browser_2', 'Month_Oct', 'TrafficType_6', 'TrafficType_1', 'Region_5', 'Browser_6', 'Region_4', 'TrafficType_3', 'TrafficType_10', 'BounceRates', 'TrafficType_8', 'Month_Dec', 'VisitorType_New_Visitor', 'Weekend_False', 'VisitorType_Returning_Visitor', 'Weekend_True', 'SpecialDay', 'Region_1', 'Region_9', 'Month_Jul', 'Month_Mar', 'TrafficType_20', 'TrafficType_13', 'ProductRelated_Duration', 'Administrative', 'ProductRelated']\n",
      "M60 subset score (3.): 0.8779196936254806\n"
     ]
    },
    {
     "name": "stdout",
     "output_type": "stream",
     "text": [
      "............\n",
      "Best model (M61) with 61 features: ['PageValues', 'ExitRates', 'TrafficType_2', 'OperatingSystems_2', 'TrafficType_5', 'Browser_1', 'Region_2', 'Month_Sep', 'VisitorType_Other', 'Browser_10', 'Browser_13', 'Browser_7', 'OperatingSystems_4', 'Browser_8', 'TrafficType_15', 'OperatingSystems_8', 'Region_8', 'TrafficType_19', 'TrafficType_4', 'TrafficType_11', 'Browser_3', 'Browser_4', 'OperatingSystems_6', 'Region_3', 'Browser_5', 'Month_Feb', 'Region_6', 'Month_Aug', 'OperatingSystems_1', 'OperatingSystems_3', 'TrafficType_7', 'TrafficType_9', 'Month_June', 'Region_7', 'Browser_2', 'Month_Oct', 'TrafficType_6', 'TrafficType_1', 'Region_5', 'Browser_6', 'Region_4', 'TrafficType_3', 'TrafficType_10', 'BounceRates', 'TrafficType_8', 'Month_Dec', 'VisitorType_New_Visitor', 'Weekend_False', 'VisitorType_Returning_Visitor', 'Weekend_True', 'SpecialDay', 'Region_1', 'Region_9', 'Month_Jul', 'Month_Mar', 'TrafficType_20', 'TrafficType_13', 'ProductRelated_Duration', 'Administrative', 'ProductRelated', 'Administrative_Duration']\n",
      "M61 subset score (3.): 0.8781358513732769\n",
      "............\n",
      "Best model (M62) with 62 features: ['PageValues', 'ExitRates', 'TrafficType_2', 'OperatingSystems_2', 'TrafficType_5', 'Browser_1', 'Region_2', 'Month_Sep', 'VisitorType_Other', 'Browser_10', 'Browser_13', 'Browser_7', 'OperatingSystems_4', 'Browser_8', 'TrafficType_15', 'OperatingSystems_8', 'Region_8', 'TrafficType_19', 'TrafficType_4', 'TrafficType_11', 'Browser_3', 'Browser_4', 'OperatingSystems_6', 'Region_3', 'Browser_5', 'Month_Feb', 'Region_6', 'Month_Aug', 'OperatingSystems_1', 'OperatingSystems_3', 'TrafficType_7', 'TrafficType_9', 'Month_June', 'Region_7', 'Browser_2', 'Month_Oct', 'TrafficType_6', 'TrafficType_1', 'Region_5', 'Browser_6', 'Region_4', 'TrafficType_3', 'TrafficType_10', 'BounceRates', 'TrafficType_8', 'Month_Dec', 'VisitorType_New_Visitor', 'Weekend_False', 'VisitorType_Returning_Visitor', 'Weekend_True', 'SpecialDay', 'Region_1', 'Region_9', 'Month_Jul', 'Month_Mar', 'TrafficType_20', 'TrafficType_13', 'ProductRelated_Duration', 'Administrative', 'ProductRelated', 'Administrative_Duration', 'Informational_Duration']\n",
      "M62 subset score (3.): 0.8783521845263327\n",
      "............\n",
      "Best model (M63) with 63 features: ['PageValues', 'ExitRates', 'TrafficType_2', 'OperatingSystems_2', 'TrafficType_5', 'Browser_1', 'Region_2', 'Month_Sep', 'VisitorType_Other', 'Browser_10', 'Browser_13', 'Browser_7', 'OperatingSystems_4', 'Browser_8', 'TrafficType_15', 'OperatingSystems_8', 'Region_8', 'TrafficType_19', 'TrafficType_4', 'TrafficType_11', 'Browser_3', 'Browser_4', 'OperatingSystems_6', 'Region_3', 'Browser_5', 'Month_Feb', 'Region_6', 'Month_Aug', 'OperatingSystems_1', 'OperatingSystems_3', 'TrafficType_7', 'TrafficType_9', 'Month_June', 'Region_7', 'Browser_2', 'Month_Oct', 'TrafficType_6', 'TrafficType_1', 'Region_5', 'Browser_6', 'Region_4', 'TrafficType_3', 'TrafficType_10', 'BounceRates', 'TrafficType_8', 'Month_Dec', 'VisitorType_New_Visitor', 'Weekend_False', 'VisitorType_Returning_Visitor', 'Weekend_True', 'SpecialDay', 'Region_1', 'Region_9', 'Month_Jul', 'Month_Mar', 'TrafficType_20', 'TrafficType_13', 'ProductRelated_Duration', 'Administrative', 'ProductRelated', 'Administrative_Duration', 'Informational_Duration', 'Informational']\n",
      "M63 subset score (3.): 0.8777034189408447\n",
      "............\n",
      "Best model (M64) with 64 features: ['PageValues', 'ExitRates', 'TrafficType_2', 'OperatingSystems_2', 'TrafficType_5', 'Browser_1', 'Region_2', 'Month_Sep', 'VisitorType_Other', 'Browser_10', 'Browser_13', 'Browser_7', 'OperatingSystems_4', 'Browser_8', 'TrafficType_15', 'OperatingSystems_8', 'Region_8', 'TrafficType_19', 'TrafficType_4', 'TrafficType_11', 'Browser_3', 'Browser_4', 'OperatingSystems_6', 'Region_3', 'Browser_5', 'Month_Feb', 'Region_6', 'Month_Aug', 'OperatingSystems_1', 'OperatingSystems_3', 'TrafficType_7', 'TrafficType_9', 'Month_June', 'Region_7', 'Browser_2', 'Month_Oct', 'TrafficType_6', 'TrafficType_1', 'Region_5', 'Browser_6', 'Region_4', 'TrafficType_3', 'TrafficType_10', 'BounceRates', 'TrafficType_8', 'Month_Dec', 'VisitorType_New_Visitor', 'Weekend_False', 'VisitorType_Returning_Visitor', 'Weekend_True', 'SpecialDay', 'Region_1', 'Region_9', 'Month_Jul', 'Month_Mar', 'TrafficType_20', 'TrafficType_13', 'ProductRelated_Duration', 'Administrative', 'ProductRelated', 'Administrative_Duration', 'Informational_Duration', 'Informational', 'Month_May']\n",
      "M64 subset score (3.): 0.8771625275897856\n",
      "............\n",
      "Best model (M65) with 65 features: ['PageValues', 'ExitRates', 'TrafficType_2', 'OperatingSystems_2', 'TrafficType_5', 'Browser_1', 'Region_2', 'Month_Sep', 'VisitorType_Other', 'Browser_10', 'Browser_13', 'Browser_7', 'OperatingSystems_4', 'Browser_8', 'TrafficType_15', 'OperatingSystems_8', 'Region_8', 'TrafficType_19', 'TrafficType_4', 'TrafficType_11', 'Browser_3', 'Browser_4', 'OperatingSystems_6', 'Region_3', 'Browser_5', 'Month_Feb', 'Region_6', 'Month_Aug', 'OperatingSystems_1', 'OperatingSystems_3', 'TrafficType_7', 'TrafficType_9', 'Month_June', 'Region_7', 'Browser_2', 'Month_Oct', 'TrafficType_6', 'TrafficType_1', 'Region_5', 'Browser_6', 'Region_4', 'TrafficType_3', 'TrafficType_10', 'BounceRates', 'TrafficType_8', 'Month_Dec', 'VisitorType_New_Visitor', 'Weekend_False', 'VisitorType_Returning_Visitor', 'Weekend_True', 'SpecialDay', 'Region_1', 'Region_9', 'Month_Jul', 'Month_Mar', 'TrafficType_20', 'TrafficType_13', 'ProductRelated_Duration', 'Administrative', 'ProductRelated', 'Administrative_Duration', 'Informational_Duration', 'Informational', 'Month_May', 'Month_Nov']\n",
      "M65 subset score (3.): 0.8771625275897856\n",
      "\n",
      " Best configuration has 35 features\n",
      "Features: ['PageValues', 'ExitRates', 'TrafficType_2', 'OperatingSystems_2', 'TrafficType_5', 'Browser_1', 'Region_2', 'Month_Sep', 'VisitorType_Other', 'Browser_10', 'Browser_13', 'Browser_7', 'OperatingSystems_4', 'Browser_8', 'TrafficType_15', 'OperatingSystems_8', 'Region_8', 'TrafficType_19', 'TrafficType_4', 'TrafficType_11', 'Browser_3', 'Browser_4', 'OperatingSystems_6', 'Region_3', 'Browser_5', 'Month_Feb', 'Region_6', 'Month_Aug', 'OperatingSystems_1', 'OperatingSystems_3', 'TrafficType_7', 'TrafficType_9', 'Month_June', 'Region_7', 'Browser_2']\n",
      "Total number of trained models: 2470\n"
     ]
    },
    {
     "data": {
      "text/plain": [
       "['PageValues',\n",
       " 'ExitRates',\n",
       " 'TrafficType_2',\n",
       " 'OperatingSystems_2',\n",
       " 'TrafficType_5',\n",
       " 'Browser_1',\n",
       " 'Region_2',\n",
       " 'Month_Sep',\n",
       " 'VisitorType_Other',\n",
       " 'Browser_10',\n",
       " 'Browser_13',\n",
       " 'Browser_7',\n",
       " 'OperatingSystems_4',\n",
       " 'Browser_8',\n",
       " 'TrafficType_15',\n",
       " 'OperatingSystems_8',\n",
       " 'Region_8',\n",
       " 'TrafficType_19',\n",
       " 'TrafficType_4',\n",
       " 'TrafficType_11',\n",
       " 'Browser_3',\n",
       " 'Browser_4',\n",
       " 'OperatingSystems_6',\n",
       " 'Region_3',\n",
       " 'Browser_5',\n",
       " 'Month_Feb',\n",
       " 'Region_6',\n",
       " 'Month_Aug',\n",
       " 'OperatingSystems_1',\n",
       " 'OperatingSystems_3',\n",
       " 'TrafficType_7',\n",
       " 'TrafficType_9',\n",
       " 'Month_June',\n",
       " 'Region_7',\n",
       " 'Browser_2']"
      ]
     },
     "execution_count": 14,
     "metadata": {},
     "output_type": "execute_result"
    }
   ],
   "source": [
    "cv = KFold(n_splits=5, random_state=42, shuffle=True)\n",
    "features_LDA = forward_selection(X_train_scaled, y_train, \"LDA\",\n",
    "                  get_evaluator(make_scorer(accuracy)), np.argmax, # 2.\n",
    "                  get_cv_evaluator(make_scorer(accuracy), cv), np.argmax, # 3.\n",
    "                  candidates_scorer_name=\"Accuracy\",\n",
    "                  subsets_scorer_name=\"Accuracy (CV)\",\n",
    "                  verbose=True, weight_step3=cv.n_splits)\n",
    "features_LDA"
   ]
  },
  {
   "cell_type": "markdown",
   "id": "a043ba09",
   "metadata": {},
   "source": [
    "### Evaluation metrics"
   ]
  },
  {
   "cell_type": "code",
   "execution_count": 15,
   "id": "dc267b38",
   "metadata": {},
   "outputs": [
    {
     "data": {
      "text/html": [
       "<div>\n",
       "<style scoped>\n",
       "    .dataframe tbody tr th:only-of-type {\n",
       "        vertical-align: middle;\n",
       "    }\n",
       "\n",
       "    .dataframe tbody tr th {\n",
       "        vertical-align: top;\n",
       "    }\n",
       "\n",
       "    .dataframe thead th {\n",
       "        text-align: right;\n",
       "    }\n",
       "</style>\n",
       "<table border=\"1\" class=\"dataframe\">\n",
       "  <thead>\n",
       "    <tr style=\"text-align: right;\">\n",
       "      <th></th>\n",
       "      <th>Model</th>\n",
       "      <th>Accuracy</th>\n",
       "      <th>Sensitivity</th>\n",
       "      <th>Specificity</th>\n",
       "    </tr>\n",
       "  </thead>\n",
       "  <tbody>\n",
       "    <tr>\n",
       "      <th>0</th>\n",
       "      <td>LDA</td>\n",
       "      <td>0.880839</td>\n",
       "      <td>0.324807</td>\n",
       "      <td>0.784963</td>\n",
       "    </tr>\n",
       "  </tbody>\n",
       "</table>\n",
       "</div>"
      ],
      "text/plain": [
       "  Model  Accuracy  Sensitivity  Specificity\n",
       "0   LDA  0.880839     0.324807     0.784963"
      ]
     },
     "execution_count": 15,
     "metadata": {},
     "output_type": "execute_result"
    }
   ],
   "source": [
    "model_LDA =LDA(store_covariance=True)\n",
    "train_scores_LDA = classification_metrics_training(model_LDA, \"LDA\", X_train_scaled[features_LDA], y_train, cv)\n",
    "train_scores_LDA"
   ]
  },
  {
   "cell_type": "markdown",
   "id": "51b16029",
   "metadata": {},
   "source": [
    "We try to improve the sensitivity by setting the empirical threshold"
   ]
  },
  {
   "cell_type": "code",
   "execution_count": 16,
   "id": "b1e3cb3b",
   "metadata": {},
   "outputs": [
    {
     "data": {
      "text/html": [
       "<div>\n",
       "<style scoped>\n",
       "    .dataframe tbody tr th:only-of-type {\n",
       "        vertical-align: middle;\n",
       "    }\n",
       "\n",
       "    .dataframe tbody tr th {\n",
       "        vertical-align: top;\n",
       "    }\n",
       "\n",
       "    .dataframe thead th {\n",
       "        text-align: right;\n",
       "    }\n",
       "</style>\n",
       "<table border=\"1\" class=\"dataframe\">\n",
       "  <thead>\n",
       "    <tr style=\"text-align: right;\">\n",
       "      <th></th>\n",
       "      <th>Model</th>\n",
       "      <th>Accuracy</th>\n",
       "      <th>Sensitivity</th>\n",
       "      <th>Specificity</th>\n",
       "    </tr>\n",
       "  </thead>\n",
       "  <tbody>\n",
       "    <tr>\n",
       "      <th>0</th>\n",
       "      <td>LDA</td>\n",
       "      <td>0.889273</td>\n",
       "      <td>0.554476</td>\n",
       "      <td>0.676545</td>\n",
       "    </tr>\n",
       "  </tbody>\n",
       "</table>\n",
       "</div>"
      ],
      "text/plain": [
       "  Model  Accuracy  Sensitivity  Specificity\n",
       "0   LDA  0.889273     0.554476     0.676545"
      ]
     },
     "execution_count": 16,
     "metadata": {},
     "output_type": "execute_result"
    }
   ],
   "source": [
    "train_scores_LDA_empirical = classification_metrics_empirical_threshold(model_LDA, 'LDA', X_train_scaled[features_LDA], y_train,empirical_threshold)\n",
    "train_scores_LDA_empirical"
   ]
  },
  {
   "cell_type": "markdown",
   "id": "cb0d07a9",
   "metadata": {},
   "source": [
    "## QDA"
   ]
  },
  {
   "cell_type": "markdown",
   "id": "6265074c",
   "metadata": {},
   "source": [
    "### Feature selection"
   ]
  },
  {
   "cell_type": "code",
   "execution_count": 17,
   "id": "0ee0e365",
   "metadata": {
    "scrolled": true
   },
   "outputs": [
    {
     "name": "stdout",
     "output_type": "stream",
     "text": [
      "............\n",
      "Best model (M1) with 1 features: ['PageValues']\n",
      "M1 subset score (3.): 0.8819197520939003\n",
      "............\n",
      "Best model (M2) with 2 features: ['PageValues', 'BounceRates']\n",
      "M2 subset score (3.): 0.8859206291201964\n",
      "............\n",
      "Best model (M3) with 3 features: ['PageValues', 'BounceRates', 'VisitorType_New_Visitor']\n",
      "M3 subset score (3.): 0.889272857497844\n",
      "............\n",
      "Best model (M4) with 4 features: ['PageValues', 'BounceRates', 'VisitorType_New_Visitor', 'Browser_7']\n",
      "M4 subset score (3.): 0.8883000014617105\n",
      "............\n",
      "Best model (M5) with 5 features: ['PageValues', 'BounceRates', 'VisitorType_New_Visitor', 'Browser_7', 'OperatingSystems_2']\n",
      "M5 subset score (3.): 0.878894362182626\n",
      "............\n",
      "Best model (M6) with 6 features: ['PageValues', 'BounceRates', 'VisitorType_New_Visitor', 'Browser_7', 'OperatingSystems_2', 'Region_9']\n",
      "M6 subset score (3.): 0.8795431277681143\n",
      "............\n",
      "Best model (M7) with 7 features: ['PageValues', 'BounceRates', 'VisitorType_New_Visitor', 'Browser_7', 'OperatingSystems_2', 'Region_9', 'Weekend_False']\n",
      "M7 subset score (3.): 0.8811648663265753\n",
      "............\n",
      "Best model (M8) with 8 features: ['PageValues', 'BounceRates', 'VisitorType_New_Visitor', 'Browser_7', 'OperatingSystems_2', 'Region_9', 'Weekend_False', 'Region_1']\n",
      "M8 subset score (3.): 0.8842998845248712\n",
      "............\n",
      "Best model (M9) with 9 features: ['PageValues', 'BounceRates', 'VisitorType_New_Visitor', 'Browser_7', 'OperatingSystems_2', 'Region_9', 'Weekend_False', 'Region_1', 'TrafficType_6']\n",
      "M9 subset score (3.): 0.8788944791194655\n",
      "............\n",
      "Best model (M10) with 10 features: ['PageValues', 'BounceRates', 'VisitorType_New_Visitor', 'Browser_7', 'OperatingSystems_2', 'Region_9', 'Weekend_False', 'Region_1', 'TrafficType_6', 'Region_4']\n",
      "M10 subset score (3.): 0.8791105783988424\n",
      "............\n",
      "Best model (M11) with 11 features: ['PageValues', 'BounceRates', 'VisitorType_New_Visitor', 'Browser_7', 'OperatingSystems_2', 'Region_9', 'Weekend_False', 'Region_1', 'TrafficType_6', 'Region_4', 'TrafficType_9']\n",
      "M11 subset score (3.): 0.8599686024585969\n",
      "............\n",
      "Best model (M12) with 12 features: ['PageValues', 'BounceRates', 'VisitorType_New_Visitor', 'Browser_7', 'OperatingSystems_2', 'Region_9', 'Weekend_False', 'Region_1', 'TrafficType_6', 'Region_4', 'TrafficType_9', 'TrafficType_7']\n",
      "M12 subset score (3.): 0.8743473316474939\n",
      "............\n",
      "Best model (M13) with 13 features: ['PageValues', 'BounceRates', 'VisitorType_New_Visitor', 'Browser_7', 'OperatingSystems_2', 'Region_9', 'Weekend_False', 'Region_1', 'TrafficType_6', 'Region_4', 'TrafficType_9', 'TrafficType_7', 'OperatingSystems_6']\n",
      "M13 subset score (3.): 0.8613719614693114\n",
      "............\n",
      "Best model (M14) with 14 features: ['PageValues', 'BounceRates', 'VisitorType_New_Visitor', 'Browser_7', 'OperatingSystems_2', 'Region_9', 'Weekend_False', 'Region_1', 'TrafficType_6', 'Region_4', 'TrafficType_9', 'TrafficType_7', 'OperatingSystems_6', 'Region_8']\n",
      "M14 subset score (3.): 0.8512076359756187\n",
      "............\n",
      "Best model (M15) with 15 features: ['PageValues', 'BounceRates', 'VisitorType_New_Visitor', 'Browser_7', 'OperatingSystems_2', 'Region_9', 'Weekend_False', 'Region_1', 'TrafficType_6', 'Region_4', 'TrafficType_9', 'TrafficType_7', 'OperatingSystems_6', 'Region_8', 'TrafficType_2']\n",
      "M15 subset score (3.): 0.8506672123719176\n",
      "............\n",
      "Best model (M16) with 16 features: ['PageValues', 'BounceRates', 'VisitorType_New_Visitor', 'Browser_7', 'OperatingSystems_2', 'Region_9', 'Weekend_False', 'Region_1', 'TrafficType_6', 'Region_4', 'TrafficType_9', 'TrafficType_7', 'OperatingSystems_6', 'Region_8', 'TrafficType_2', 'TrafficType_4']\n",
      "M16 subset score (3.): 0.850667563182436\n",
      "............\n",
      "Best model (M17) with 17 features: ['PageValues', 'BounceRates', 'VisitorType_New_Visitor', 'Browser_7', 'OperatingSystems_2', 'Region_9', 'Weekend_False', 'Region_1', 'TrafficType_6', 'Region_4', 'TrafficType_9', 'TrafficType_7', 'OperatingSystems_6', 'Region_8', 'TrafficType_2', 'TrafficType_4', 'Browser_13']\n",
      "M17 subset score (3.): 0.870238697323608\n",
      "............\n",
      "Best model (M18) with 18 features: ['PageValues', 'BounceRates', 'VisitorType_New_Visitor', 'Browser_7', 'OperatingSystems_2', 'Region_9', 'Weekend_False', 'Region_1', 'TrafficType_6', 'Region_4', 'TrafficType_9', 'TrafficType_7', 'OperatingSystems_6', 'Region_8', 'TrafficType_2', 'TrafficType_4', 'Browser_13', 'Region_7']\n",
      "M18 subset score (3.): 0.8669952786751056\n",
      "............\n",
      "Best model (M19) with 19 features: ['PageValues', 'BounceRates', 'VisitorType_New_Visitor', 'Browser_7', 'OperatingSystems_2', 'Region_9', 'Weekend_False', 'Region_1', 'TrafficType_6', 'Region_4', 'TrafficType_9', 'TrafficType_7', 'OperatingSystems_6', 'Region_8', 'TrafficType_2', 'TrafficType_4', 'Browser_13', 'Region_7', 'Month_May']\n",
      "M19 subset score (3.): 0.8553177904784179\n",
      "............\n",
      "Best model (M20) with 20 features: ['PageValues', 'BounceRates', 'VisitorType_New_Visitor', 'Browser_7', 'OperatingSystems_2', 'Region_9', 'Weekend_False', 'Region_1', 'TrafficType_6', 'Region_4', 'TrafficType_9', 'TrafficType_7', 'OperatingSystems_6', 'Region_8', 'TrafficType_2', 'TrafficType_4', 'Browser_13', 'Region_7', 'Month_May', 'Region_6']\n",
      "M20 subset score (3.): 0.8551007557043253\n",
      "............\n",
      "Best model (M21) with 21 features: ['PageValues', 'BounceRates', 'VisitorType_New_Visitor', 'Browser_7', 'OperatingSystems_2', 'Region_9', 'Weekend_False', 'Region_1', 'TrafficType_6', 'Region_4', 'TrafficType_9', 'TrafficType_7', 'OperatingSystems_6', 'Region_8', 'TrafficType_2', 'TrafficType_4', 'Browser_13', 'Region_7', 'Month_May', 'Region_6', 'TrafficType_20']\n",
      "M21 subset score (3.): 0.8665627877742536\n",
      "............\n",
      "Best model (M22) with 22 features: ['PageValues', 'BounceRates', 'VisitorType_New_Visitor', 'Browser_7', 'OperatingSystems_2', 'Region_9', 'Weekend_False', 'Region_1', 'TrafficType_6', 'Region_4', 'TrafficType_9', 'TrafficType_7', 'OperatingSystems_6', 'Region_8', 'TrafficType_2', 'TrafficType_4', 'Browser_13', 'Region_7', 'Month_May', 'Region_6', 'TrafficType_20', 'Month_Dec']\n",
      "M22 subset score (3.): 0.8658064987648546\n",
      "............\n",
      "Best model (M23) with 23 features: ['PageValues', 'BounceRates', 'VisitorType_New_Visitor', 'Browser_7', 'OperatingSystems_2', 'Region_9', 'Weekend_False', 'Region_1', 'TrafficType_6', 'Region_4', 'TrafficType_9', 'TrafficType_7', 'OperatingSystems_6', 'Region_8', 'TrafficType_2', 'TrafficType_4', 'Browser_13', 'Region_7', 'Month_May', 'Region_6', 'TrafficType_20', 'Month_Dec', 'Browser_2']\n",
      "M23 subset score (3.): 0.8628874044406765\n",
      "............\n",
      "Best model (M24) with 24 features: ['PageValues', 'BounceRates', 'VisitorType_New_Visitor', 'Browser_7', 'OperatingSystems_2', 'Region_9', 'Weekend_False', 'Region_1', 'TrafficType_6', 'Region_4', 'TrafficType_9', 'TrafficType_7', 'OperatingSystems_6', 'Region_8', 'TrafficType_2', 'TrafficType_4', 'Browser_13', 'Region_7', 'Month_May', 'Region_6', 'TrafficType_20', 'Month_Dec', 'Browser_2', 'Region_2']\n",
      "M24 subset score (3.): 0.8619144899361231\n",
      "............\n",
      "Best model (M25) with 25 features: ['PageValues', 'BounceRates', 'VisitorType_New_Visitor', 'Browser_7', 'OperatingSystems_2', 'Region_9', 'Weekend_False', 'Region_1', 'TrafficType_6', 'Region_4', 'TrafficType_9', 'TrafficType_7', 'OperatingSystems_6', 'Region_8', 'TrafficType_2', 'TrafficType_4', 'Browser_13', 'Region_7', 'Month_May', 'Region_6', 'TrafficType_20', 'Month_Dec', 'Browser_2', 'Region_2', 'Browser_1']\n",
      "M25 subset score (3.): 0.8586701942613246\n",
      "............\n",
      "Best model (M26) with 26 features: ['PageValues', 'BounceRates', 'VisitorType_New_Visitor', 'Browser_7', 'OperatingSystems_2', 'Region_9', 'Weekend_False', 'Region_1', 'TrafficType_6', 'Region_4', 'TrafficType_9', 'TrafficType_7', 'OperatingSystems_6', 'Region_8', 'TrafficType_2', 'TrafficType_4', 'Browser_13', 'Region_7', 'Month_May', 'Region_6', 'TrafficType_20', 'Month_Dec', 'Browser_2', 'Region_2', 'Browser_1', 'Weekend_True']\n",
      "M26 subset score (3.): 0.7885067457939281\n",
      "............\n",
      "Best model (M27) with 27 features: ['PageValues', 'BounceRates', 'VisitorType_New_Visitor', 'Browser_7', 'OperatingSystems_2', 'Region_9', 'Weekend_False', 'Region_1', 'TrafficType_6', 'Region_4', 'TrafficType_9', 'TrafficType_7', 'OperatingSystems_6', 'Region_8', 'TrafficType_2', 'TrafficType_4', 'Browser_13', 'Region_7', 'Month_May', 'Region_6', 'TrafficType_20', 'Month_Dec', 'Browser_2', 'Region_2', 'Browser_1', 'Weekend_True', 'TrafficType_3']\n",
      "M27 subset score (3.): 0.7861287182260682\n"
     ]
    },
    {
     "name": "stdout",
     "output_type": "stream",
     "text": [
      "............\n",
      "Best model (M28) with 28 features: ['PageValues', 'BounceRates', 'VisitorType_New_Visitor', 'Browser_7', 'OperatingSystems_2', 'Region_9', 'Weekend_False', 'Region_1', 'TrafficType_6', 'Region_4', 'TrafficType_9', 'TrafficType_7', 'OperatingSystems_6', 'Region_8', 'TrafficType_2', 'TrafficType_4', 'Browser_13', 'Region_7', 'Month_May', 'Region_6', 'TrafficType_20', 'Month_Dec', 'Browser_2', 'Region_2', 'Browser_1', 'Weekend_True', 'TrafficType_3', 'OperatingSystems_1']\n",
      "M28 subset score (3.): 0.826778711648371\n",
      "............\n",
      "Best model (M29) with 29 features: ['PageValues', 'BounceRates', 'VisitorType_New_Visitor', 'Browser_7', 'OperatingSystems_2', 'Region_9', 'Weekend_False', 'Region_1', 'TrafficType_6', 'Region_4', 'TrafficType_9', 'TrafficType_7', 'OperatingSystems_6', 'Region_8', 'TrafficType_2', 'TrafficType_4', 'Browser_13', 'Region_7', 'Month_May', 'Region_6', 'TrafficType_20', 'Month_Dec', 'Browser_2', 'Region_2', 'Browser_1', 'Weekend_True', 'TrafficType_3', 'OperatingSystems_1', 'TrafficType_1']\n",
      "M29 subset score (3.): 0.7672074021019397\n",
      "............\n",
      "Best model (M30) with 30 features: ['PageValues', 'BounceRates', 'VisitorType_New_Visitor', 'Browser_7', 'OperatingSystems_2', 'Region_9', 'Weekend_False', 'Region_1', 'TrafficType_6', 'Region_4', 'TrafficType_9', 'TrafficType_7', 'OperatingSystems_6', 'Region_8', 'TrafficType_2', 'TrafficType_4', 'Browser_13', 'Region_7', 'Month_May', 'Region_6', 'TrafficType_20', 'Month_Dec', 'Browser_2', 'Region_2', 'Browser_1', 'Weekend_True', 'TrafficType_3', 'OperatingSystems_1', 'TrafficType_1', 'Browser_8']\n",
      "M30 subset score (3.): 0.7603794600441438\n",
      "............\n",
      "Best model (M31) with 31 features: ['PageValues', 'BounceRates', 'VisitorType_New_Visitor', 'Browser_7', 'OperatingSystems_2', 'Region_9', 'Weekend_False', 'Region_1', 'TrafficType_6', 'Region_4', 'TrafficType_9', 'TrafficType_7', 'OperatingSystems_6', 'Region_8', 'TrafficType_2', 'TrafficType_4', 'Browser_13', 'Region_7', 'Month_May', 'Region_6', 'TrafficType_20', 'Month_Dec', 'Browser_2', 'Region_2', 'Browser_1', 'Weekend_True', 'TrafficType_3', 'OperatingSystems_1', 'TrafficType_1', 'Browser_8', 'Month_Jul']\n",
      "M31 subset score (3.): 0.7225162469121366\n",
      "............\n",
      "Best model (M32) with 32 features: ['PageValues', 'BounceRates', 'VisitorType_New_Visitor', 'Browser_7', 'OperatingSystems_2', 'Region_9', 'Weekend_False', 'Region_1', 'TrafficType_6', 'Region_4', 'TrafficType_9', 'TrafficType_7', 'OperatingSystems_6', 'Region_8', 'TrafficType_2', 'TrafficType_4', 'Browser_13', 'Region_7', 'Month_May', 'Region_6', 'TrafficType_20', 'Month_Dec', 'Browser_2', 'Region_2', 'Browser_1', 'Weekend_True', 'TrafficType_3', 'OperatingSystems_1', 'TrafficType_1', 'Browser_8', 'Month_Jul', 'OperatingSystems_4']\n",
      "M32 subset score (3.): 0.6924508499846521\n",
      "............\n",
      "Best model (M33) with 33 features: ['PageValues', 'BounceRates', 'VisitorType_New_Visitor', 'Browser_7', 'OperatingSystems_2', 'Region_9', 'Weekend_False', 'Region_1', 'TrafficType_6', 'Region_4', 'TrafficType_9', 'TrafficType_7', 'OperatingSystems_6', 'Region_8', 'TrafficType_2', 'TrafficType_4', 'Browser_13', 'Region_7', 'Month_May', 'Region_6', 'TrafficType_20', 'Month_Dec', 'Browser_2', 'Region_2', 'Browser_1', 'Weekend_True', 'TrafficType_3', 'OperatingSystems_1', 'TrafficType_1', 'Browser_8', 'Month_Jul', 'OperatingSystems_4', 'Browser_4']\n",
      "M33 subset score (3.): 0.8159623463376844\n",
      "............\n",
      "Best model (M34) with 34 features: ['PageValues', 'BounceRates', 'VisitorType_New_Visitor', 'Browser_7', 'OperatingSystems_2', 'Region_9', 'Weekend_False', 'Region_1', 'TrafficType_6', 'Region_4', 'TrafficType_9', 'TrafficType_7', 'OperatingSystems_6', 'Region_8', 'TrafficType_2', 'TrafficType_4', 'Browser_13', 'Region_7', 'Month_May', 'Region_6', 'TrafficType_20', 'Month_Dec', 'Browser_2', 'Region_2', 'Browser_1', 'Weekend_True', 'TrafficType_3', 'OperatingSystems_1', 'TrafficType_1', 'Browser_8', 'Month_Jul', 'OperatingSystems_4', 'Browser_4', 'Region_3']\n",
      "M34 subset score (3.): 0.7629850467016502\n",
      "............\n",
      "Best model (M35) with 35 features: ['PageValues', 'BounceRates', 'VisitorType_New_Visitor', 'Browser_7', 'OperatingSystems_2', 'Region_9', 'Weekend_False', 'Region_1', 'TrafficType_6', 'Region_4', 'TrafficType_9', 'TrafficType_7', 'OperatingSystems_6', 'Region_8', 'TrafficType_2', 'TrafficType_4', 'Browser_13', 'Region_7', 'Month_May', 'Region_6', 'TrafficType_20', 'Month_Dec', 'Browser_2', 'Region_2', 'Browser_1', 'Weekend_True', 'TrafficType_3', 'OperatingSystems_1', 'TrafficType_1', 'Browser_8', 'Month_Jul', 'OperatingSystems_4', 'Browser_4', 'Region_3', 'Month_June']\n",
      "M35 subset score (3.): 0.7384151550143978\n",
      "............\n",
      "Best model (M36) with 36 features: ['PageValues', 'BounceRates', 'VisitorType_New_Visitor', 'Browser_7', 'OperatingSystems_2', 'Region_9', 'Weekend_False', 'Region_1', 'TrafficType_6', 'Region_4', 'TrafficType_9', 'TrafficType_7', 'OperatingSystems_6', 'Region_8', 'TrafficType_2', 'TrafficType_4', 'Browser_13', 'Region_7', 'Month_May', 'Region_6', 'TrafficType_20', 'Month_Dec', 'Browser_2', 'Region_2', 'Browser_1', 'Weekend_True', 'TrafficType_3', 'OperatingSystems_1', 'TrafficType_1', 'Browser_8', 'Month_Jul', 'OperatingSystems_4', 'Browser_4', 'Region_3', 'Month_June', 'ProductRelated']\n",
      "M36 subset score (3.): 0.7023396722845073\n",
      "............\n",
      "Best model (M37) with 37 features: ['PageValues', 'BounceRates', 'VisitorType_New_Visitor', 'Browser_7', 'OperatingSystems_2', 'Region_9', 'Weekend_False', 'Region_1', 'TrafficType_6', 'Region_4', 'TrafficType_9', 'TrafficType_7', 'OperatingSystems_6', 'Region_8', 'TrafficType_2', 'TrafficType_4', 'Browser_13', 'Region_7', 'Month_May', 'Region_6', 'TrafficType_20', 'Month_Dec', 'Browser_2', 'Region_2', 'Browser_1', 'Weekend_True', 'TrafficType_3', 'OperatingSystems_1', 'TrafficType_1', 'Browser_8', 'Month_Jul', 'OperatingSystems_4', 'Browser_4', 'Region_3', 'Month_June', 'ProductRelated', 'OperatingSystems_3']\n",
      "M37 subset score (3.): 0.767842603014047\n",
      "............\n",
      "Best model (M38) with 38 features: ['PageValues', 'BounceRates', 'VisitorType_New_Visitor', 'Browser_7', 'OperatingSystems_2', 'Region_9', 'Weekend_False', 'Region_1', 'TrafficType_6', 'Region_4', 'TrafficType_9', 'TrafficType_7', 'OperatingSystems_6', 'Region_8', 'TrafficType_2', 'TrafficType_4', 'Browser_13', 'Region_7', 'Month_May', 'Region_6', 'TrafficType_20', 'Month_Dec', 'Browser_2', 'Region_2', 'Browser_1', 'Weekend_True', 'TrafficType_3', 'OperatingSystems_1', 'TrafficType_1', 'Browser_8', 'Month_Jul', 'OperatingSystems_4', 'Browser_4', 'Region_3', 'Month_June', 'ProductRelated', 'OperatingSystems_3', 'Informational']\n",
      "M38 subset score (3.): 0.7649239179688071\n",
      "............\n",
      "Best model (M39) with 39 features: ['PageValues', 'BounceRates', 'VisitorType_New_Visitor', 'Browser_7', 'OperatingSystems_2', 'Region_9', 'Weekend_False', 'Region_1', 'TrafficType_6', 'Region_4', 'TrafficType_9', 'TrafficType_7', 'OperatingSystems_6', 'Region_8', 'TrafficType_2', 'TrafficType_4', 'Browser_13', 'Region_7', 'Month_May', 'Region_6', 'TrafficType_20', 'Month_Dec', 'Browser_2', 'Region_2', 'Browser_1', 'Weekend_True', 'TrafficType_3', 'OperatingSystems_1', 'TrafficType_1', 'Browser_8', 'Month_Jul', 'OperatingSystems_4', 'Browser_4', 'Region_3', 'Month_June', 'ProductRelated', 'OperatingSystems_3', 'Informational', 'Month_Nov']\n",
      "M39 subset score (3.): 0.6467444491544005\n",
      "............\n",
      "Best model (M40) with 40 features: ['PageValues', 'BounceRates', 'VisitorType_New_Visitor', 'Browser_7', 'OperatingSystems_2', 'Region_9', 'Weekend_False', 'Region_1', 'TrafficType_6', 'Region_4', 'TrafficType_9', 'TrafficType_7', 'OperatingSystems_6', 'Region_8', 'TrafficType_2', 'TrafficType_4', 'Browser_13', 'Region_7', 'Month_May', 'Region_6', 'TrafficType_20', 'Month_Dec', 'Browser_2', 'Region_2', 'Browser_1', 'Weekend_True', 'TrafficType_3', 'OperatingSystems_1', 'TrafficType_1', 'Browser_8', 'Month_Jul', 'OperatingSystems_4', 'Browser_4', 'Region_3', 'Month_June', 'ProductRelated', 'OperatingSystems_3', 'Informational', 'Month_Nov', 'Administrative']\n",
      "M40 subset score (3.): 0.7478476897665649\n",
      "............\n",
      "Best model (M41) with 41 features: ['PageValues', 'BounceRates', 'VisitorType_New_Visitor', 'Browser_7', 'OperatingSystems_2', 'Region_9', 'Weekend_False', 'Region_1', 'TrafficType_6', 'Region_4', 'TrafficType_9', 'TrafficType_7', 'OperatingSystems_6', 'Region_8', 'TrafficType_2', 'TrafficType_4', 'Browser_13', 'Region_7', 'Month_May', 'Region_6', 'TrafficType_20', 'Month_Dec', 'Browser_2', 'Region_2', 'Browser_1', 'Weekend_True', 'TrafficType_3', 'OperatingSystems_1', 'TrafficType_1', 'Browser_8', 'Month_Jul', 'OperatingSystems_4', 'Browser_4', 'Region_3', 'Month_June', 'ProductRelated', 'OperatingSystems_3', 'Informational', 'Month_Nov', 'Administrative', 'Month_Mar']\n",
      "M41 subset score (3.): 0.6684975077836084\n"
     ]
    },
    {
     "name": "stdout",
     "output_type": "stream",
     "text": [
      "............\n",
      "Best model (M42) with 42 features: ['PageValues', 'BounceRates', 'VisitorType_New_Visitor', 'Browser_7', 'OperatingSystems_2', 'Region_9', 'Weekend_False', 'Region_1', 'TrafficType_6', 'Region_4', 'TrafficType_9', 'TrafficType_7', 'OperatingSystems_6', 'Region_8', 'TrafficType_2', 'TrafficType_4', 'Browser_13', 'Region_7', 'Month_May', 'Region_6', 'TrafficType_20', 'Month_Dec', 'Browser_2', 'Region_2', 'Browser_1', 'Weekend_True', 'TrafficType_3', 'OperatingSystems_1', 'TrafficType_1', 'Browser_8', 'Month_Jul', 'OperatingSystems_4', 'Browser_4', 'Region_3', 'Month_June', 'ProductRelated', 'OperatingSystems_3', 'Informational', 'Month_Nov', 'Administrative', 'Month_Mar', 'Informational_Duration']\n",
      "M42 subset score (3.): 0.6084675719526991\n",
      "............\n",
      "Best model (M43) with 43 features: ['PageValues', 'BounceRates', 'VisitorType_New_Visitor', 'Browser_7', 'OperatingSystems_2', 'Region_9', 'Weekend_False', 'Region_1', 'TrafficType_6', 'Region_4', 'TrafficType_9', 'TrafficType_7', 'OperatingSystems_6', 'Region_8', 'TrafficType_2', 'TrafficType_4', 'Browser_13', 'Region_7', 'Month_May', 'Region_6', 'TrafficType_20', 'Month_Dec', 'Browser_2', 'Region_2', 'Browser_1', 'Weekend_True', 'TrafficType_3', 'OperatingSystems_1', 'TrafficType_1', 'Browser_8', 'Month_Jul', 'OperatingSystems_4', 'Browser_4', 'Region_3', 'Month_June', 'ProductRelated', 'OperatingSystems_3', 'Informational', 'Month_Nov', 'Administrative', 'Month_Mar', 'Informational_Duration', 'Administrative_Duration']\n",
      "M43 subset score (3.): 0.7516378466081008\n",
      "............\n",
      "Best model (M44) with 44 features: ['PageValues', 'BounceRates', 'VisitorType_New_Visitor', 'Browser_7', 'OperatingSystems_2', 'Region_9', 'Weekend_False', 'Region_1', 'TrafficType_6', 'Region_4', 'TrafficType_9', 'TrafficType_7', 'OperatingSystems_6', 'Region_8', 'TrafficType_2', 'TrafficType_4', 'Browser_13', 'Region_7', 'Month_May', 'Region_6', 'TrafficType_20', 'Month_Dec', 'Browser_2', 'Region_2', 'Browser_1', 'Weekend_True', 'TrafficType_3', 'OperatingSystems_1', 'TrafficType_1', 'Browser_8', 'Month_Jul', 'OperatingSystems_4', 'Browser_4', 'Region_3', 'Month_June', 'ProductRelated', 'OperatingSystems_3', 'Informational', 'Month_Nov', 'Administrative', 'Month_Mar', 'Informational_Duration', 'Administrative_Duration', 'VisitorType_Returning_Visitor']\n",
      "M44 subset score (3.): 0.5751529680031573\n",
      "............\n",
      "Best model (M45) with 45 features: ['PageValues', 'BounceRates', 'VisitorType_New_Visitor', 'Browser_7', 'OperatingSystems_2', 'Region_9', 'Weekend_False', 'Region_1', 'TrafficType_6', 'Region_4', 'TrafficType_9', 'TrafficType_7', 'OperatingSystems_6', 'Region_8', 'TrafficType_2', 'TrafficType_4', 'Browser_13', 'Region_7', 'Month_May', 'Region_6', 'TrafficType_20', 'Month_Dec', 'Browser_2', 'Region_2', 'Browser_1', 'Weekend_True', 'TrafficType_3', 'OperatingSystems_1', 'TrafficType_1', 'Browser_8', 'Month_Jul', 'OperatingSystems_4', 'Browser_4', 'Region_3', 'Month_June', 'ProductRelated', 'OperatingSystems_3', 'Informational', 'Month_Nov', 'Administrative', 'Month_Mar', 'Informational_Duration', 'Administrative_Duration', 'VisitorType_Returning_Visitor', 'VisitorType_Other']\n",
      "M45 subset score (3.): 0.65151202256881\n",
      "............\n",
      "Best model (M46) with 46 features: ['PageValues', 'BounceRates', 'VisitorType_New_Visitor', 'Browser_7', 'OperatingSystems_2', 'Region_9', 'Weekend_False', 'Region_1', 'TrafficType_6', 'Region_4', 'TrafficType_9', 'TrafficType_7', 'OperatingSystems_6', 'Region_8', 'TrafficType_2', 'TrafficType_4', 'Browser_13', 'Region_7', 'Month_May', 'Region_6', 'TrafficType_20', 'Month_Dec', 'Browser_2', 'Region_2', 'Browser_1', 'Weekend_True', 'TrafficType_3', 'OperatingSystems_1', 'TrafficType_1', 'Browser_8', 'Month_Jul', 'OperatingSystems_4', 'Browser_4', 'Region_3', 'Month_June', 'ProductRelated', 'OperatingSystems_3', 'Informational', 'Month_Nov', 'Administrative', 'Month_Mar', 'Informational_Duration', 'Administrative_Duration', 'VisitorType_Returning_Visitor', 'VisitorType_Other', 'Month_Sep']\n",
      "M46 subset score (3.): 0.6835168754476488\n",
      "............\n",
      "Best model (M47) with 47 features: ['PageValues', 'BounceRates', 'VisitorType_New_Visitor', 'Browser_7', 'OperatingSystems_2', 'Region_9', 'Weekend_False', 'Region_1', 'TrafficType_6', 'Region_4', 'TrafficType_9', 'TrafficType_7', 'OperatingSystems_6', 'Region_8', 'TrafficType_2', 'TrafficType_4', 'Browser_13', 'Region_7', 'Month_May', 'Region_6', 'TrafficType_20', 'Month_Dec', 'Browser_2', 'Region_2', 'Browser_1', 'Weekend_True', 'TrafficType_3', 'OperatingSystems_1', 'TrafficType_1', 'Browser_8', 'Month_Jul', 'OperatingSystems_4', 'Browser_4', 'Region_3', 'Month_June', 'ProductRelated', 'OperatingSystems_3', 'Informational', 'Month_Nov', 'Administrative', 'Month_Mar', 'Informational_Duration', 'Administrative_Duration', 'VisitorType_Returning_Visitor', 'VisitorType_Other', 'Month_Sep', 'Browser_6']\n",
      "M47 subset score (3.): 0.6344294213088156\n",
      "............\n",
      "Best model (M48) with 48 features: ['PageValues', 'BounceRates', 'VisitorType_New_Visitor', 'Browser_7', 'OperatingSystems_2', 'Region_9', 'Weekend_False', 'Region_1', 'TrafficType_6', 'Region_4', 'TrafficType_9', 'TrafficType_7', 'OperatingSystems_6', 'Region_8', 'TrafficType_2', 'TrafficType_4', 'Browser_13', 'Region_7', 'Month_May', 'Region_6', 'TrafficType_20', 'Month_Dec', 'Browser_2', 'Region_2', 'Browser_1', 'Weekend_True', 'TrafficType_3', 'OperatingSystems_1', 'TrafficType_1', 'Browser_8', 'Month_Jul', 'OperatingSystems_4', 'Browser_4', 'Region_3', 'Month_June', 'ProductRelated', 'OperatingSystems_3', 'Informational', 'Month_Nov', 'Administrative', 'Month_Mar', 'Informational_Duration', 'Administrative_Duration', 'VisitorType_Returning_Visitor', 'VisitorType_Other', 'Month_Sep', 'Browser_6', 'OperatingSystems_8']\n",
      "M48 subset score (3.): 0.5359947963106426\n",
      "............\n",
      "Best model (M49) with 49 features: ['PageValues', 'BounceRates', 'VisitorType_New_Visitor', 'Browser_7', 'OperatingSystems_2', 'Region_9', 'Weekend_False', 'Region_1', 'TrafficType_6', 'Region_4', 'TrafficType_9', 'TrafficType_7', 'OperatingSystems_6', 'Region_8', 'TrafficType_2', 'TrafficType_4', 'Browser_13', 'Region_7', 'Month_May', 'Region_6', 'TrafficType_20', 'Month_Dec', 'Browser_2', 'Region_2', 'Browser_1', 'Weekend_True', 'TrafficType_3', 'OperatingSystems_1', 'TrafficType_1', 'Browser_8', 'Month_Jul', 'OperatingSystems_4', 'Browser_4', 'Region_3', 'Month_June', 'ProductRelated', 'OperatingSystems_3', 'Informational', 'Month_Nov', 'Administrative', 'Month_Mar', 'Informational_Duration', 'Administrative_Duration', 'VisitorType_Returning_Visitor', 'VisitorType_Other', 'Month_Sep', 'Browser_6', 'OperatingSystems_8', 'Month_Oct']\n",
      "M49 subset score (3.): 0.6194754798064696\n",
      "............\n",
      "Best model (M50) with 50 features: ['PageValues', 'BounceRates', 'VisitorType_New_Visitor', 'Browser_7', 'OperatingSystems_2', 'Region_9', 'Weekend_False', 'Region_1', 'TrafficType_6', 'Region_4', 'TrafficType_9', 'TrafficType_7', 'OperatingSystems_6', 'Region_8', 'TrafficType_2', 'TrafficType_4', 'Browser_13', 'Region_7', 'Month_May', 'Region_6', 'TrafficType_20', 'Month_Dec', 'Browser_2', 'Region_2', 'Browser_1', 'Weekend_True', 'TrafficType_3', 'OperatingSystems_1', 'TrafficType_1', 'Browser_8', 'Month_Jul', 'OperatingSystems_4', 'Browser_4', 'Region_3', 'Month_June', 'ProductRelated', 'OperatingSystems_3', 'Informational', 'Month_Nov', 'Administrative', 'Month_Mar', 'Informational_Duration', 'Administrative_Duration', 'VisitorType_Returning_Visitor', 'VisitorType_Other', 'Month_Sep', 'Browser_6', 'OperatingSystems_8', 'Month_Oct', 'ProductRelated_Duration']\n",
      "M50 subset score (3.): 0.5659474661248594\n",
      "............\n",
      "Best model (M51) with 51 features: ['PageValues', 'BounceRates', 'VisitorType_New_Visitor', 'Browser_7', 'OperatingSystems_2', 'Region_9', 'Weekend_False', 'Region_1', 'TrafficType_6', 'Region_4', 'TrafficType_9', 'TrafficType_7', 'OperatingSystems_6', 'Region_8', 'TrafficType_2', 'TrafficType_4', 'Browser_13', 'Region_7', 'Month_May', 'Region_6', 'TrafficType_20', 'Month_Dec', 'Browser_2', 'Region_2', 'Browser_1', 'Weekend_True', 'TrafficType_3', 'OperatingSystems_1', 'TrafficType_1', 'Browser_8', 'Month_Jul', 'OperatingSystems_4', 'Browser_4', 'Region_3', 'Month_June', 'ProductRelated', 'OperatingSystems_3', 'Informational', 'Month_Nov', 'Administrative', 'Month_Mar', 'Informational_Duration', 'Administrative_Duration', 'VisitorType_Returning_Visitor', 'VisitorType_Other', 'Month_Sep', 'Browser_6', 'OperatingSystems_8', 'Month_Oct', 'ProductRelated_Duration', 'TrafficType_19']\n",
      "M51 subset score (3.): 0.4722177363951296\n"
     ]
    },
    {
     "name": "stdout",
     "output_type": "stream",
     "text": [
      "............\n",
      "Best model (M52) with 52 features: ['PageValues', 'BounceRates', 'VisitorType_New_Visitor', 'Browser_7', 'OperatingSystems_2', 'Region_9', 'Weekend_False', 'Region_1', 'TrafficType_6', 'Region_4', 'TrafficType_9', 'TrafficType_7', 'OperatingSystems_6', 'Region_8', 'TrafficType_2', 'TrafficType_4', 'Browser_13', 'Region_7', 'Month_May', 'Region_6', 'TrafficType_20', 'Month_Dec', 'Browser_2', 'Region_2', 'Browser_1', 'Weekend_True', 'TrafficType_3', 'OperatingSystems_1', 'TrafficType_1', 'Browser_8', 'Month_Jul', 'OperatingSystems_4', 'Browser_4', 'Region_3', 'Month_June', 'ProductRelated', 'OperatingSystems_3', 'Informational', 'Month_Nov', 'Administrative', 'Month_Mar', 'Informational_Duration', 'Administrative_Duration', 'VisitorType_Returning_Visitor', 'VisitorType_Other', 'Month_Sep', 'Browser_6', 'OperatingSystems_8', 'Month_Oct', 'ProductRelated_Duration', 'TrafficType_19', 'Browser_3']\n",
      "M52 subset score (3.): 0.4866046511627907\n",
      "............\n",
      "Best model (M53) with 53 features: ['PageValues', 'BounceRates', 'VisitorType_New_Visitor', 'Browser_7', 'OperatingSystems_2', 'Region_9', 'Weekend_False', 'Region_1', 'TrafficType_6', 'Region_4', 'TrafficType_9', 'TrafficType_7', 'OperatingSystems_6', 'Region_8', 'TrafficType_2', 'TrafficType_4', 'Browser_13', 'Region_7', 'Month_May', 'Region_6', 'TrafficType_20', 'Month_Dec', 'Browser_2', 'Region_2', 'Browser_1', 'Weekend_True', 'TrafficType_3', 'OperatingSystems_1', 'TrafficType_1', 'Browser_8', 'Month_Jul', 'OperatingSystems_4', 'Browser_4', 'Region_3', 'Month_June', 'ProductRelated', 'OperatingSystems_3', 'Informational', 'Month_Nov', 'Administrative', 'Month_Mar', 'Informational_Duration', 'Administrative_Duration', 'VisitorType_Returning_Visitor', 'VisitorType_Other', 'Month_Sep', 'Browser_6', 'OperatingSystems_8', 'Month_Oct', 'ProductRelated_Duration', 'TrafficType_19', 'Browser_3', 'TrafficType_10']\n",
      "M53 subset score (3.): 0.4648713548594565\n",
      "............\n",
      "Best model (M54) with 54 features: ['PageValues', 'BounceRates', 'VisitorType_New_Visitor', 'Browser_7', 'OperatingSystems_2', 'Region_9', 'Weekend_False', 'Region_1', 'TrafficType_6', 'Region_4', 'TrafficType_9', 'TrafficType_7', 'OperatingSystems_6', 'Region_8', 'TrafficType_2', 'TrafficType_4', 'Browser_13', 'Region_7', 'Month_May', 'Region_6', 'TrafficType_20', 'Month_Dec', 'Browser_2', 'Region_2', 'Browser_1', 'Weekend_True', 'TrafficType_3', 'OperatingSystems_1', 'TrafficType_1', 'Browser_8', 'Month_Jul', 'OperatingSystems_4', 'Browser_4', 'Region_3', 'Month_June', 'ProductRelated', 'OperatingSystems_3', 'Informational', 'Month_Nov', 'Administrative', 'Month_Mar', 'Informational_Duration', 'Administrative_Duration', 'VisitorType_Returning_Visitor', 'VisitorType_Other', 'Month_Sep', 'Browser_6', 'OperatingSystems_8', 'Month_Oct', 'ProductRelated_Duration', 'TrafficType_19', 'Browser_3', 'TrafficType_10', 'TrafficType_8']\n",
      "M54 subset score (3.): 0.4678782102816716\n",
      "............\n",
      "Best model (M55) with 55 features: ['PageValues', 'BounceRates', 'VisitorType_New_Visitor', 'Browser_7', 'OperatingSystems_2', 'Region_9', 'Weekend_False', 'Region_1', 'TrafficType_6', 'Region_4', 'TrafficType_9', 'TrafficType_7', 'OperatingSystems_6', 'Region_8', 'TrafficType_2', 'TrafficType_4', 'Browser_13', 'Region_7', 'Month_May', 'Region_6', 'TrafficType_20', 'Month_Dec', 'Browser_2', 'Region_2', 'Browser_1', 'Weekend_True', 'TrafficType_3', 'OperatingSystems_1', 'TrafficType_1', 'Browser_8', 'Month_Jul', 'OperatingSystems_4', 'Browser_4', 'Region_3', 'Month_June', 'ProductRelated', 'OperatingSystems_3', 'Informational', 'Month_Nov', 'Administrative', 'Month_Mar', 'Informational_Duration', 'Administrative_Duration', 'VisitorType_Returning_Visitor', 'VisitorType_Other', 'Month_Sep', 'Browser_6', 'OperatingSystems_8', 'Month_Oct', 'ProductRelated_Duration', 'TrafficType_19', 'Browser_3', 'TrafficType_10', 'TrafficType_8', 'Region_5']\n",
      "M55 subset score (3.): 0.4537254615350884\n",
      "............\n",
      "Best model (M56) with 56 features: ['PageValues', 'BounceRates', 'VisitorType_New_Visitor', 'Browser_7', 'OperatingSystems_2', 'Region_9', 'Weekend_False', 'Region_1', 'TrafficType_6', 'Region_4', 'TrafficType_9', 'TrafficType_7', 'OperatingSystems_6', 'Region_8', 'TrafficType_2', 'TrafficType_4', 'Browser_13', 'Region_7', 'Month_May', 'Region_6', 'TrafficType_20', 'Month_Dec', 'Browser_2', 'Region_2', 'Browser_1', 'Weekend_True', 'TrafficType_3', 'OperatingSystems_1', 'TrafficType_1', 'Browser_8', 'Month_Jul', 'OperatingSystems_4', 'Browser_4', 'Region_3', 'Month_June', 'ProductRelated', 'OperatingSystems_3', 'Informational', 'Month_Nov', 'Administrative', 'Month_Mar', 'Informational_Duration', 'Administrative_Duration', 'VisitorType_Returning_Visitor', 'VisitorType_Other', 'Month_Sep', 'Browser_6', 'OperatingSystems_8', 'Month_Oct', 'ProductRelated_Duration', 'TrafficType_19', 'Browser_3', 'TrafficType_10', 'TrafficType_8', 'Region_5', 'TrafficType_11']\n",
      "M56 subset score (3.): 0.4916720506336515\n",
      "............\n",
      "Best model (M57) with 57 features: ['PageValues', 'BounceRates', 'VisitorType_New_Visitor', 'Browser_7', 'OperatingSystems_2', 'Region_9', 'Weekend_False', 'Region_1', 'TrafficType_6', 'Region_4', 'TrafficType_9', 'TrafficType_7', 'OperatingSystems_6', 'Region_8', 'TrafficType_2', 'TrafficType_4', 'Browser_13', 'Region_7', 'Month_May', 'Region_6', 'TrafficType_20', 'Month_Dec', 'Browser_2', 'Region_2', 'Browser_1', 'Weekend_True', 'TrafficType_3', 'OperatingSystems_1', 'TrafficType_1', 'Browser_8', 'Month_Jul', 'OperatingSystems_4', 'Browser_4', 'Region_3', 'Month_June', 'ProductRelated', 'OperatingSystems_3', 'Informational', 'Month_Nov', 'Administrative', 'Month_Mar', 'Informational_Duration', 'Administrative_Duration', 'VisitorType_Returning_Visitor', 'VisitorType_Other', 'Month_Sep', 'Browser_6', 'OperatingSystems_8', 'Month_Oct', 'ProductRelated_Duration', 'TrafficType_19', 'Browser_3', 'TrafficType_10', 'TrafficType_8', 'Region_5', 'TrafficType_11', 'TrafficType_5']\n",
      "M57 subset score (3.): 0.47090985631385845\n",
      "............\n",
      "Best model (M58) with 58 features: ['PageValues', 'BounceRates', 'VisitorType_New_Visitor', 'Browser_7', 'OperatingSystems_2', 'Region_9', 'Weekend_False', 'Region_1', 'TrafficType_6', 'Region_4', 'TrafficType_9', 'TrafficType_7', 'OperatingSystems_6', 'Region_8', 'TrafficType_2', 'TrafficType_4', 'Browser_13', 'Region_7', 'Month_May', 'Region_6', 'TrafficType_20', 'Month_Dec', 'Browser_2', 'Region_2', 'Browser_1', 'Weekend_True', 'TrafficType_3', 'OperatingSystems_1', 'TrafficType_1', 'Browser_8', 'Month_Jul', 'OperatingSystems_4', 'Browser_4', 'Region_3', 'Month_June', 'ProductRelated', 'OperatingSystems_3', 'Informational', 'Month_Nov', 'Administrative', 'Month_Mar', 'Informational_Duration', 'Administrative_Duration', 'VisitorType_Returning_Visitor', 'VisitorType_Other', 'Month_Sep', 'Browser_6', 'OperatingSystems_8', 'Month_Oct', 'ProductRelated_Duration', 'TrafficType_19', 'Browser_3', 'TrafficType_10', 'TrafficType_8', 'Region_5', 'TrafficType_11', 'TrafficType_5', 'ExitRates']\n",
      "M58 subset score (3.): 0.45209846081885025\n",
      "............\n",
      "Best model (M59) with 59 features: ['PageValues', 'BounceRates', 'VisitorType_New_Visitor', 'Browser_7', 'OperatingSystems_2', 'Region_9', 'Weekend_False', 'Region_1', 'TrafficType_6', 'Region_4', 'TrafficType_9', 'TrafficType_7', 'OperatingSystems_6', 'Region_8', 'TrafficType_2', 'TrafficType_4', 'Browser_13', 'Region_7', 'Month_May', 'Region_6', 'TrafficType_20', 'Month_Dec', 'Browser_2', 'Region_2', 'Browser_1', 'Weekend_True', 'TrafficType_3', 'OperatingSystems_1', 'TrafficType_1', 'Browser_8', 'Month_Jul', 'OperatingSystems_4', 'Browser_4', 'Region_3', 'Month_June', 'ProductRelated', 'OperatingSystems_3', 'Informational', 'Month_Nov', 'Administrative', 'Month_Mar', 'Informational_Duration', 'Administrative_Duration', 'VisitorType_Returning_Visitor', 'VisitorType_Other', 'Month_Sep', 'Browser_6', 'OperatingSystems_8', 'Month_Oct', 'ProductRelated_Duration', 'TrafficType_19', 'Browser_3', 'TrafficType_10', 'TrafficType_8', 'Region_5', 'TrafficType_11', 'TrafficType_5', 'ExitRates', 'Browser_10']\n",
      "M59 subset score (3.): 0.4518910148655958\n",
      "............\n",
      "Best model (M60) with 60 features: ['PageValues', 'BounceRates', 'VisitorType_New_Visitor', 'Browser_7', 'OperatingSystems_2', 'Region_9', 'Weekend_False', 'Region_1', 'TrafficType_6', 'Region_4', 'TrafficType_9', 'TrafficType_7', 'OperatingSystems_6', 'Region_8', 'TrafficType_2', 'TrafficType_4', 'Browser_13', 'Region_7', 'Month_May', 'Region_6', 'TrafficType_20', 'Month_Dec', 'Browser_2', 'Region_2', 'Browser_1', 'Weekend_True', 'TrafficType_3', 'OperatingSystems_1', 'TrafficType_1', 'Browser_8', 'Month_Jul', 'OperatingSystems_4', 'Browser_4', 'Region_3', 'Month_June', 'ProductRelated', 'OperatingSystems_3', 'Informational', 'Month_Nov', 'Administrative', 'Month_Mar', 'Informational_Duration', 'Administrative_Duration', 'VisitorType_Returning_Visitor', 'VisitorType_Other', 'Month_Sep', 'Browser_6', 'OperatingSystems_8', 'Month_Oct', 'ProductRelated_Duration', 'TrafficType_19', 'Browser_3', 'TrafficType_10', 'TrafficType_8', 'Region_5', 'TrafficType_11', 'TrafficType_5', 'ExitRates', 'Browser_10', 'SpecialDay']\n",
      "M60 subset score (3.): 0.44302655927966905\n"
     ]
    },
    {
     "name": "stdout",
     "output_type": "stream",
     "text": [
      "............\n",
      "Best model (M61) with 61 features: ['PageValues', 'BounceRates', 'VisitorType_New_Visitor', 'Browser_7', 'OperatingSystems_2', 'Region_9', 'Weekend_False', 'Region_1', 'TrafficType_6', 'Region_4', 'TrafficType_9', 'TrafficType_7', 'OperatingSystems_6', 'Region_8', 'TrafficType_2', 'TrafficType_4', 'Browser_13', 'Region_7', 'Month_May', 'Region_6', 'TrafficType_20', 'Month_Dec', 'Browser_2', 'Region_2', 'Browser_1', 'Weekend_True', 'TrafficType_3', 'OperatingSystems_1', 'TrafficType_1', 'Browser_8', 'Month_Jul', 'OperatingSystems_4', 'Browser_4', 'Region_3', 'Month_June', 'ProductRelated', 'OperatingSystems_3', 'Informational', 'Month_Nov', 'Administrative', 'Month_Mar', 'Informational_Duration', 'Administrative_Duration', 'VisitorType_Returning_Visitor', 'VisitorType_Other', 'Month_Sep', 'Browser_6', 'OperatingSystems_8', 'Month_Oct', 'ProductRelated_Duration', 'TrafficType_19', 'Browser_3', 'TrafficType_10', 'TrafficType_8', 'Region_5', 'TrafficType_11', 'TrafficType_5', 'ExitRates', 'Browser_10', 'SpecialDay', 'Browser_5']\n",
      "M61 subset score (3.): 0.45881332495285987\n",
      "............\n",
      "Best model (M62) with 62 features: ['PageValues', 'BounceRates', 'VisitorType_New_Visitor', 'Browser_7', 'OperatingSystems_2', 'Region_9', 'Weekend_False', 'Region_1', 'TrafficType_6', 'Region_4', 'TrafficType_9', 'TrafficType_7', 'OperatingSystems_6', 'Region_8', 'TrafficType_2', 'TrafficType_4', 'Browser_13', 'Region_7', 'Month_May', 'Region_6', 'TrafficType_20', 'Month_Dec', 'Browser_2', 'Region_2', 'Browser_1', 'Weekend_True', 'TrafficType_3', 'OperatingSystems_1', 'TrafficType_1', 'Browser_8', 'Month_Jul', 'OperatingSystems_4', 'Browser_4', 'Region_3', 'Month_June', 'ProductRelated', 'OperatingSystems_3', 'Informational', 'Month_Nov', 'Administrative', 'Month_Mar', 'Informational_Duration', 'Administrative_Duration', 'VisitorType_Returning_Visitor', 'VisitorType_Other', 'Month_Sep', 'Browser_6', 'OperatingSystems_8', 'Month_Oct', 'ProductRelated_Duration', 'TrafficType_19', 'Browser_3', 'TrafficType_10', 'TrafficType_8', 'Region_5', 'TrafficType_11', 'TrafficType_5', 'ExitRates', 'Browser_10', 'SpecialDay', 'Browser_5', 'Month_Feb']\n",
      "M62 subset score (3.): 0.4321063540555158\n",
      "............\n",
      "Best model (M63) with 63 features: ['PageValues', 'BounceRates', 'VisitorType_New_Visitor', 'Browser_7', 'OperatingSystems_2', 'Region_9', 'Weekend_False', 'Region_1', 'TrafficType_6', 'Region_4', 'TrafficType_9', 'TrafficType_7', 'OperatingSystems_6', 'Region_8', 'TrafficType_2', 'TrafficType_4', 'Browser_13', 'Region_7', 'Month_May', 'Region_6', 'TrafficType_20', 'Month_Dec', 'Browser_2', 'Region_2', 'Browser_1', 'Weekend_True', 'TrafficType_3', 'OperatingSystems_1', 'TrafficType_1', 'Browser_8', 'Month_Jul', 'OperatingSystems_4', 'Browser_4', 'Region_3', 'Month_June', 'ProductRelated', 'OperatingSystems_3', 'Informational', 'Month_Nov', 'Administrative', 'Month_Mar', 'Informational_Duration', 'Administrative_Duration', 'VisitorType_Returning_Visitor', 'VisitorType_Other', 'Month_Sep', 'Browser_6', 'OperatingSystems_8', 'Month_Oct', 'ProductRelated_Duration', 'TrafficType_19', 'Browser_3', 'TrafficType_10', 'TrafficType_8', 'Region_5', 'TrafficType_11', 'TrafficType_5', 'ExitRates', 'Browser_10', 'SpecialDay', 'Browser_5', 'Month_Feb', 'Month_Aug']\n",
      "M63 subset score (3.): 0.44130004531302525\n",
      "............\n",
      "Best model (M64) with 64 features: ['PageValues', 'BounceRates', 'VisitorType_New_Visitor', 'Browser_7', 'OperatingSystems_2', 'Region_9', 'Weekend_False', 'Region_1', 'TrafficType_6', 'Region_4', 'TrafficType_9', 'TrafficType_7', 'OperatingSystems_6', 'Region_8', 'TrafficType_2', 'TrafficType_4', 'Browser_13', 'Region_7', 'Month_May', 'Region_6', 'TrafficType_20', 'Month_Dec', 'Browser_2', 'Region_2', 'Browser_1', 'Weekend_True', 'TrafficType_3', 'OperatingSystems_1', 'TrafficType_1', 'Browser_8', 'Month_Jul', 'OperatingSystems_4', 'Browser_4', 'Region_3', 'Month_June', 'ProductRelated', 'OperatingSystems_3', 'Informational', 'Month_Nov', 'Administrative', 'Month_Mar', 'Informational_Duration', 'Administrative_Duration', 'VisitorType_Returning_Visitor', 'VisitorType_Other', 'Month_Sep', 'Browser_6', 'OperatingSystems_8', 'Month_Oct', 'ProductRelated_Duration', 'TrafficType_19', 'Browser_3', 'TrafficType_10', 'TrafficType_8', 'Region_5', 'TrafficType_11', 'TrafficType_5', 'ExitRates', 'Browser_10', 'SpecialDay', 'Browser_5', 'Month_Feb', 'Month_Aug', 'TrafficType_15']\n",
      "M64 subset score (3.): 0.25173162995337145\n",
      "............\n",
      "Best model (M65) with 65 features: ['PageValues', 'BounceRates', 'VisitorType_New_Visitor', 'Browser_7', 'OperatingSystems_2', 'Region_9', 'Weekend_False', 'Region_1', 'TrafficType_6', 'Region_4', 'TrafficType_9', 'TrafficType_7', 'OperatingSystems_6', 'Region_8', 'TrafficType_2', 'TrafficType_4', 'Browser_13', 'Region_7', 'Month_May', 'Region_6', 'TrafficType_20', 'Month_Dec', 'Browser_2', 'Region_2', 'Browser_1', 'Weekend_True', 'TrafficType_3', 'OperatingSystems_1', 'TrafficType_1', 'Browser_8', 'Month_Jul', 'OperatingSystems_4', 'Browser_4', 'Region_3', 'Month_June', 'ProductRelated', 'OperatingSystems_3', 'Informational', 'Month_Nov', 'Administrative', 'Month_Mar', 'Informational_Duration', 'Administrative_Duration', 'VisitorType_Returning_Visitor', 'VisitorType_Other', 'Month_Sep', 'Browser_6', 'OperatingSystems_8', 'Month_Oct', 'ProductRelated_Duration', 'TrafficType_19', 'Browser_3', 'TrafficType_10', 'TrafficType_8', 'Region_5', 'TrafficType_11', 'TrafficType_5', 'ExitRates', 'Browser_10', 'SpecialDay', 'Browser_5', 'Month_Feb', 'Month_Aug', 'TrafficType_15', 'TrafficType_13']\n",
      "M65 subset score (3.): 0.2461066171634046\n",
      "\n",
      " Best configuration has 3 features\n",
      "Features: ['PageValues', 'BounceRates', 'VisitorType_New_Visitor']\n",
      "Total number of trained models: 2470\n"
     ]
    },
    {
     "data": {
      "text/plain": [
       "['PageValues', 'BounceRates', 'VisitorType_New_Visitor']"
      ]
     },
     "execution_count": 17,
     "metadata": {},
     "output_type": "execute_result"
    }
   ],
   "source": [
    "#import warnings\n",
    "#warnings.filterwarnings(\"ignore\")\n",
    "cv = KFold(n_splits=5, random_state=42, shuffle=True)\n",
    "features_QDA = forward_selection(X_train_scaled, y_train, \"QDA\",\n",
    "                  get_evaluator(make_scorer(accuracy)), np.argmax, # 2.\n",
    "                  get_cv_evaluator(make_scorer(accuracy), cv), np.argmax, # 3.\n",
    "                  candidates_scorer_name=\"Accuracy\",\n",
    "                  subsets_scorer_name=\"Accuracy (CV)\",\n",
    "                  verbose=True, weight_step3=cv.n_splits)\n",
    "features_QDA"
   ]
  },
  {
   "cell_type": "markdown",
   "id": "7033b22a",
   "metadata": {},
   "source": [
    "### Evaluation"
   ]
  },
  {
   "cell_type": "code",
   "execution_count": 18,
   "id": "4cb46676",
   "metadata": {},
   "outputs": [
    {
     "data": {
      "text/html": [
       "<div>\n",
       "<style scoped>\n",
       "    .dataframe tbody tr th:only-of-type {\n",
       "        vertical-align: middle;\n",
       "    }\n",
       "\n",
       "    .dataframe tbody tr th {\n",
       "        vertical-align: top;\n",
       "    }\n",
       "\n",
       "    .dataframe thead th {\n",
       "        text-align: right;\n",
       "    }\n",
       "</style>\n",
       "<table border=\"1\" class=\"dataframe\">\n",
       "  <thead>\n",
       "    <tr style=\"text-align: right;\">\n",
       "      <th></th>\n",
       "      <th>Model</th>\n",
       "      <th>Accuracy</th>\n",
       "      <th>Sensitivity</th>\n",
       "      <th>Specificity</th>\n",
       "    </tr>\n",
       "  </thead>\n",
       "  <tbody>\n",
       "    <tr>\n",
       "      <th>0</th>\n",
       "      <td>QDA</td>\n",
       "      <td>0.889273</td>\n",
       "      <td>0.458385</td>\n",
       "      <td>0.730068</td>\n",
       "    </tr>\n",
       "  </tbody>\n",
       "</table>\n",
       "</div>"
      ],
      "text/plain": [
       "  Model  Accuracy  Sensitivity  Specificity\n",
       "0   QDA  0.889273     0.458385     0.730068"
      ]
     },
     "execution_count": 18,
     "metadata": {},
     "output_type": "execute_result"
    }
   ],
   "source": [
    "model_QDA = QDA(store_covariance=True)\n",
    "train_scores_QDA = classification_metrics_training(model_QDA, \"QDA\", X_train_scaled[features_QDA], y_train, cv)\n",
    "train_scores_QDA"
   ]
  },
  {
   "cell_type": "markdown",
   "id": "723e77d7",
   "metadata": {},
   "source": [
    "The sensitivity is very high with respect to the specificity, so we try to set the empirical threshold"
   ]
  },
  {
   "cell_type": "code",
   "execution_count": 19,
   "id": "b9f41197",
   "metadata": {},
   "outputs": [
    {
     "data": {
      "text/html": [
       "<div>\n",
       "<style scoped>\n",
       "    .dataframe tbody tr th:only-of-type {\n",
       "        vertical-align: middle;\n",
       "    }\n",
       "\n",
       "    .dataframe tbody tr th {\n",
       "        vertical-align: top;\n",
       "    }\n",
       "\n",
       "    .dataframe thead th {\n",
       "        text-align: right;\n",
       "    }\n",
       "</style>\n",
       "<table border=\"1\" class=\"dataframe\">\n",
       "  <thead>\n",
       "    <tr style=\"text-align: right;\">\n",
       "      <th></th>\n",
       "      <th>Model</th>\n",
       "      <th>Accuracy</th>\n",
       "      <th>Sensitivity</th>\n",
       "      <th>Specificity</th>\n",
       "    </tr>\n",
       "  </thead>\n",
       "  <tbody>\n",
       "    <tr>\n",
       "      <th>0</th>\n",
       "      <td>QDA</td>\n",
       "      <td>0.801579</td>\n",
       "      <td>0.664122</td>\n",
       "      <td>0.414645</td>\n",
       "    </tr>\n",
       "  </tbody>\n",
       "</table>\n",
       "</div>"
      ],
      "text/plain": [
       "  Model  Accuracy  Sensitivity  Specificity\n",
       "0   QDA  0.801579     0.664122     0.414645"
      ]
     },
     "execution_count": 19,
     "metadata": {},
     "output_type": "execute_result"
    }
   ],
   "source": [
    "train_scores_QDA_empirical = classification_metrics_empirical_threshold(model_QDA, 'QDA', X_train_scaled[features_QDA], y_train, empirical_threshold)\n",
    "train_scores_QDA_empirical"
   ]
  },
  {
   "cell_type": "markdown",
   "id": "d91233d5",
   "metadata": {},
   "source": [
    "## KNN"
   ]
  },
  {
   "cell_type": "markdown",
   "id": "8a20dd3a",
   "metadata": {},
   "source": [
    "### With all features"
   ]
  },
  {
   "cell_type": "code",
   "execution_count": 20,
   "id": "f3215791",
   "metadata": {},
   "outputs": [],
   "source": [
    "from sklearn.model_selection import GridSearchCV\n",
    "import warnings\n",
    "warnings.filterwarnings(\"ignore\")"
   ]
  },
  {
   "cell_type": "code",
   "execution_count": 21,
   "id": "f92da8ca",
   "metadata": {},
   "outputs": [
    {
     "data": {
      "text/plain": [
       "GridSearchCV(cv=KFold(n_splits=5, random_state=42, shuffle=True),\n",
       "             estimator=KNeighborsClassifier(),\n",
       "             param_grid={'n_neighbors': range(1, 15)},\n",
       "             scoring=make_scorer(accuracy))"
      ]
     },
     "execution_count": 21,
     "metadata": {},
     "output_type": "execute_result"
    }
   ],
   "source": [
    "model_KNN_all = KNeighborsClassifier()\n",
    "params = {'n_neighbors': range(1, 15)}\n",
    "cv = KFold(n_splits=5, random_state=42, shuffle=True)\n",
    "cv_KNN_all = GridSearchCV(model_KNN_all, params, refit=True, cv=cv, \n",
    "                  scoring=make_scorer(accuracy))\n",
    "cv_KNN_all.fit(X_train, y_train)"
   ]
  },
  {
   "cell_type": "code",
   "execution_count": 22,
   "id": "04a2d1a1",
   "metadata": {},
   "outputs": [
    {
     "data": {
      "text/html": [
       "<div>\n",
       "<style scoped>\n",
       "    .dataframe tbody tr th:only-of-type {\n",
       "        vertical-align: middle;\n",
       "    }\n",
       "\n",
       "    .dataframe tbody tr th {\n",
       "        vertical-align: top;\n",
       "    }\n",
       "\n",
       "    .dataframe thead th {\n",
       "        text-align: right;\n",
       "    }\n",
       "</style>\n",
       "<table border=\"1\" class=\"dataframe\">\n",
       "  <thead>\n",
       "    <tr style=\"text-align: right;\">\n",
       "      <th></th>\n",
       "      <th>Model</th>\n",
       "      <th>Accuracy</th>\n",
       "      <th>Sensitivity</th>\n",
       "      <th>Specificity</th>\n",
       "    </tr>\n",
       "  </thead>\n",
       "  <tbody>\n",
       "    <tr>\n",
       "      <th>0</th>\n",
       "      <td>KNN</td>\n",
       "      <td>0.861808</td>\n",
       "      <td>0.190424</td>\n",
       "      <td>0.712251</td>\n",
       "    </tr>\n",
       "  </tbody>\n",
       "</table>\n",
       "</div>"
      ],
      "text/plain": [
       "  Model  Accuracy  Sensitivity  Specificity\n",
       "0   KNN  0.861808     0.190424     0.712251"
      ]
     },
     "execution_count": 22,
     "metadata": {},
     "output_type": "execute_result"
    }
   ],
   "source": [
    "model_KNN_all = KNeighborsClassifier(n_neighbors=cv_KNN_all.best_params_['n_neighbors'])\n",
    "train_scores_KNN_all = classification_metrics_training(model_KNN_all, \"KNN\", X_train, y_train, cv)\n",
    "train_scores_KNN_all"
   ]
  },
  {
   "cell_type": "code",
   "execution_count": 23,
   "id": "5a86f80c",
   "metadata": {},
   "outputs": [
    {
     "data": {
      "text/html": [
       "<div>\n",
       "<style scoped>\n",
       "    .dataframe tbody tr th:only-of-type {\n",
       "        vertical-align: middle;\n",
       "    }\n",
       "\n",
       "    .dataframe tbody tr th {\n",
       "        vertical-align: top;\n",
       "    }\n",
       "\n",
       "    .dataframe thead th {\n",
       "        text-align: right;\n",
       "    }\n",
       "</style>\n",
       "<table border=\"1\" class=\"dataframe\">\n",
       "  <thead>\n",
       "    <tr style=\"text-align: right;\">\n",
       "      <th></th>\n",
       "      <th>Model</th>\n",
       "      <th>Accuracy</th>\n",
       "      <th>Sensitivity</th>\n",
       "      <th>Specificity</th>\n",
       "    </tr>\n",
       "  </thead>\n",
       "  <tbody>\n",
       "    <tr>\n",
       "      <th>0</th>\n",
       "      <td>KNN</td>\n",
       "      <td>0.82407</td>\n",
       "      <td>0.816794</td>\n",
       "      <td>0.463386</td>\n",
       "    </tr>\n",
       "  </tbody>\n",
       "</table>\n",
       "</div>"
      ],
      "text/plain": [
       "  Model  Accuracy  Sensitivity  Specificity\n",
       "0   KNN   0.82407     0.816794     0.463386"
      ]
     },
     "execution_count": 23,
     "metadata": {},
     "output_type": "execute_result"
    }
   ],
   "source": [
    "train_scores_KNN_all_empirical = classification_metrics_empirical_threshold(model_KNN_all, 'KNN', X_train, y_train,empirical_threshold)\n",
    "train_scores_KNN_all_empirical"
   ]
  },
  {
   "cell_type": "markdown",
   "id": "3fc0b4fc",
   "metadata": {},
   "source": [
    "### With only numeric features\n",
    "KNN has two main issues: \n",
    "1. It is not scalable with a large amount of features\n",
    "2. It relies on a distance metric to compute the distance between points. This distance may not be significant in case of categorical variables (even if we use one-hot encoding)\n",
    "3. From the previous analysis we can also notice that even with the empirical threshold the performances don't improve significantly\n",
    "\n",
    "So for these reasons we also fit a model with just the numeric features."
   ]
  },
  {
   "cell_type": "code",
   "execution_count": 24,
   "id": "00843bca",
   "metadata": {},
   "outputs": [
    {
     "data": {
      "text/plain": [
       "GridSearchCV(cv=KFold(n_splits=5, random_state=42, shuffle=True),\n",
       "             estimator=KNeighborsClassifier(),\n",
       "             param_grid={'n_neighbors': range(1, 50)},\n",
       "             scoring=make_scorer(accuracy))"
      ]
     },
     "execution_count": 24,
     "metadata": {},
     "output_type": "execute_result"
    }
   ],
   "source": [
    "model_KNN_numeric = KNeighborsClassifier()\n",
    "params = {'n_neighbors': range(1, 50)}\n",
    "cv_KNN_numeric = GridSearchCV(model_KNN_numeric, params, refit=True, cv=cv, \n",
    "                  scoring=make_scorer(accuracy))\n",
    "cv_KNN_numeric.fit(X_train[numeric_features], y_train)\n",
    "model_KNN_numeric = KNeighborsClassifier(n_neighbors=cv_KNN_numeric.best_params_['n_neighbors'])\n"
   ]
  },
  {
   "cell_type": "code",
   "execution_count": 25,
   "id": "b9984ba5",
   "metadata": {},
   "outputs": [
    {
     "data": {
      "text/html": [
       "<div>\n",
       "<style scoped>\n",
       "    .dataframe tbody tr th:only-of-type {\n",
       "        vertical-align: middle;\n",
       "    }\n",
       "\n",
       "    .dataframe tbody tr th {\n",
       "        vertical-align: top;\n",
       "    }\n",
       "\n",
       "    .dataframe thead th {\n",
       "        text-align: right;\n",
       "    }\n",
       "</style>\n",
       "<table border=\"1\" class=\"dataframe\">\n",
       "  <thead>\n",
       "    <tr style=\"text-align: right;\">\n",
       "      <th></th>\n",
       "      <th>Model</th>\n",
       "      <th>Accuracy</th>\n",
       "      <th>Sensitivity</th>\n",
       "      <th>Specificity</th>\n",
       "    </tr>\n",
       "  </thead>\n",
       "  <tbody>\n",
       "    <tr>\n",
       "      <th>0</th>\n",
       "      <td>KNN</td>\n",
       "      <td>0.861916</td>\n",
       "      <td>0.191162</td>\n",
       "      <td>0.713084</td>\n",
       "    </tr>\n",
       "  </tbody>\n",
       "</table>\n",
       "</div>"
      ],
      "text/plain": [
       "  Model  Accuracy  Sensitivity  Specificity\n",
       "0   KNN  0.861916     0.191162     0.713084"
      ]
     },
     "execution_count": 25,
     "metadata": {},
     "output_type": "execute_result"
    }
   ],
   "source": [
    "train_scores_KNN_numeric = classification_metrics_training(model_KNN_numeric, \"KNN\", X_train[numeric_features], y_train, cv)\n",
    "train_scores_KNN_numeric"
   ]
  },
  {
   "cell_type": "code",
   "execution_count": 26,
   "id": "0611f3e7",
   "metadata": {},
   "outputs": [
    {
     "data": {
      "text/html": [
       "<div>\n",
       "<style scoped>\n",
       "    .dataframe tbody tr th:only-of-type {\n",
       "        vertical-align: middle;\n",
       "    }\n",
       "\n",
       "    .dataframe tbody tr th {\n",
       "        vertical-align: top;\n",
       "    }\n",
       "\n",
       "    .dataframe thead th {\n",
       "        text-align: right;\n",
       "    }\n",
       "</style>\n",
       "<table border=\"1\" class=\"dataframe\">\n",
       "  <thead>\n",
       "    <tr style=\"text-align: right;\">\n",
       "      <th></th>\n",
       "      <th>Model</th>\n",
       "      <th>Accuracy</th>\n",
       "      <th>Sensitivity</th>\n",
       "      <th>Specificity</th>\n",
       "    </tr>\n",
       "  </thead>\n",
       "  <tbody>\n",
       "    <tr>\n",
       "      <th>0</th>\n",
       "      <td>KNN</td>\n",
       "      <td>0.823638</td>\n",
       "      <td>0.815406</td>\n",
       "      <td>0.462598</td>\n",
       "    </tr>\n",
       "  </tbody>\n",
       "</table>\n",
       "</div>"
      ],
      "text/plain": [
       "  Model  Accuracy  Sensitivity  Specificity\n",
       "0   KNN  0.823638     0.815406     0.462598"
      ]
     },
     "execution_count": 26,
     "metadata": {},
     "output_type": "execute_result"
    }
   ],
   "source": [
    "train_scores_KNN_numeric_empirical = classification_metrics_empirical_threshold(model_KNN_numeric, 'KNN', X_train[numeric_features], y_train, empirical_threshold)\n",
    "train_scores_KNN_numeric_empirical"
   ]
  },
  {
   "cell_type": "markdown",
   "id": "ee7590e1",
   "metadata": {},
   "source": [
    "## SVM"
   ]
  },
  {
   "cell_type": "markdown",
   "id": "3ab17648",
   "metadata": {},
   "source": [
    "### Choosing the optimal kernel"
   ]
  },
  {
   "cell_type": "code",
   "execution_count": 27,
   "id": "36026f0d",
   "metadata": {},
   "outputs": [
    {
     "name": "stdout",
     "output_type": "stream",
     "text": [
      "linear\n",
      "sono linear...\n",
      "rbf\n",
      "nonlinear\n",
      "poly\n",
      "nonlinear\n",
      "sigmoid\n",
      "nonlinear\n"
     ]
    }
   ],
   "source": [
    "kernels = ['linear', 'rbf', 'poly', 'sigmoid']\n",
    "score = []\n",
    "for kern in kernels:\n",
    "    cv = KFold(n_splits=5, random_state=1, shuffle=True)\n",
    "    print(kern)\n",
    "    if kern == 'linear':\n",
    "        print('sono linear...')\n",
    "        model_SVM = LinearSVC()\n",
    "    else:\n",
    "        print('nonlinear')\n",
    "        model_SVM = SVC(kernel=kern)\n",
    "    scores = cross_val_score(model_SVM, X_train, y_train, scoring='accuracy', cv=cv, n_jobs=-1)\n",
    "    score.append(np.mean(scores))\n",
    "\n",
    "max_index = score.index(max(score))\n",
    "best_kernel = kernels[max_index]\n",
    "acc_best_model = max(score)"
   ]
  },
  {
   "cell_type": "markdown",
   "id": "5352c4c6",
   "metadata": {},
   "source": [
    "### Choosing the best C"
   ]
  },
  {
   "cell_type": "code",
   "execution_count": 28,
   "id": "77a910fe",
   "metadata": {},
   "outputs": [
    {
     "data": {
      "text/plain": [
       "0.1"
      ]
     },
     "execution_count": 28,
     "metadata": {},
     "output_type": "execute_result"
    }
   ],
   "source": [
    "C_s= [0.1,1,10,100]\n",
    "\n",
    "score_c = []\n",
    "   \n",
    "for c in C_s:\n",
    "    model_SVM = LinearSVC(C=c)\n",
    "    cv = KFold(n_splits=5, random_state=1, shuffle=True)\n",
    "    scores_score = cross_val_score(model_SVM, X_train, y_train, scoring='accuracy', cv=cv, n_jobs=-1)\n",
    "    score_c.append(np.mean(scores_score))\n",
    "best_score_c = score_c.index(max(score_c))\n",
    "   \n",
    "\n",
    "best_c = C_s[best_score_c]\n",
    "best_c"
   ]
  },
  {
   "cell_type": "code",
   "execution_count": 29,
   "id": "5f0f0f8a",
   "metadata": {},
   "outputs": [
    {
     "name": "stdout",
     "output_type": "stream",
     "text": [
      "............\n",
      "Best model (M1) with 1 features: ['PageValues']\n",
      "M1 subset score (3.): 0.8788924911931943\n",
      "............\n",
      "Best model (M2) with 2 features: ['PageValues', 'ExitRates']\n",
      "M2 subset score (3.): 0.8797575899317381\n",
      "............\n",
      "Best model (M3) with 3 features: ['PageValues', 'ExitRates', 'TrafficType_2']\n",
      "M3 subset score (3.): 0.8804063555172263\n",
      "............\n",
      "Best model (M4) with 4 features: ['PageValues', 'ExitRates', 'TrafficType_2', 'OperatingSystems_2']\n",
      "M4 subset score (3.): 0.8802982474091181\n",
      "............\n",
      "Best model (M5) with 5 features: ['PageValues', 'ExitRates', 'TrafficType_2', 'OperatingSystems_2', 'TrafficType_11']\n",
      "M5 subset score (3.): 0.8808388464180783\n",
      "............\n",
      "Best model (M6) with 6 features: ['PageValues', 'ExitRates', 'TrafficType_2', 'OperatingSystems_2', 'TrafficType_11', 'TrafficType_5']\n",
      "M6 subset score (3.): 0.8809469545261865\n",
      "............\n",
      "Best model (M7) with 7 features: ['PageValues', 'ExitRates', 'TrafficType_2', 'OperatingSystems_2', 'TrafficType_11', 'TrafficType_5', 'OperatingSystems_3']\n",
      "M7 subset score (3.): 0.8807306798415505\n",
      "............\n",
      "Best model (M8) with 8 features: ['PageValues', 'ExitRates', 'TrafficType_2', 'OperatingSystems_2', 'TrafficType_11', 'TrafficType_5', 'OperatingSystems_3', 'Browser_10']\n",
      "M8 subset score (3.): 0.8805144051569146\n",
      "............\n",
      "Best model (M9) with 9 features: ['PageValues', 'ExitRates', 'TrafficType_2', 'OperatingSystems_2', 'TrafficType_11', 'TrafficType_5', 'OperatingSystems_3', 'Browser_10', 'Browser_3']\n",
      "M9 subset score (3.): 0.8806225717334424\n",
      "............\n",
      "Best model (M10) with 10 features: ['PageValues', 'ExitRates', 'TrafficType_2', 'OperatingSystems_2', 'TrafficType_11', 'TrafficType_5', 'OperatingSystems_3', 'Browser_10', 'Browser_3', 'Browser_7']\n",
      "M10 subset score (3.): 0.8806225717334424\n",
      "............\n",
      "Best model (M11) with 11 features: ['PageValues', 'ExitRates', 'TrafficType_2', 'OperatingSystems_2', 'TrafficType_11', 'TrafficType_5', 'OperatingSystems_3', 'Browser_10', 'Browser_3', 'Browser_7', 'Browser_8']\n",
      "M11 subset score (3.): 0.8806225717334424\n",
      "............\n",
      "Best model (M12) with 12 features: ['PageValues', 'ExitRates', 'TrafficType_2', 'OperatingSystems_2', 'TrafficType_11', 'TrafficType_5', 'OperatingSystems_3', 'Browser_10', 'Browser_3', 'Browser_7', 'Browser_8', 'Month_Oct']\n",
      "M12 subset score (3.): 0.8805144636253344\n",
      "............\n",
      "Best model (M13) with 13 features: ['PageValues', 'ExitRates', 'TrafficType_2', 'OperatingSystems_2', 'TrafficType_11', 'TrafficType_5', 'OperatingSystems_3', 'Browser_10', 'Browser_3', 'Browser_7', 'Browser_8', 'Month_Oct', 'Browser_13']\n",
      "M13 subset score (3.): 0.8806226302018623\n",
      "............\n",
      "Best model (M14) with 14 features: ['PageValues', 'ExitRates', 'TrafficType_2', 'OperatingSystems_2', 'TrafficType_11', 'TrafficType_5', 'OperatingSystems_3', 'Browser_10', 'Browser_3', 'Browser_7', 'Browser_8', 'Month_Oct', 'Browser_13', 'Month_June']\n",
      "M14 subset score (3.): 0.8807307967783901\n",
      "............\n",
      "Best model (M15) with 15 features: ['PageValues', 'ExitRates', 'TrafficType_2', 'OperatingSystems_2', 'TrafficType_11', 'TrafficType_5', 'OperatingSystems_3', 'Browser_10', 'Browser_3', 'Browser_7', 'Browser_8', 'Month_Oct', 'Browser_13', 'Month_June', 'OperatingSystems_1']\n",
      "M15 subset score (3.): 0.8805144636253344\n",
      "............\n",
      "Best model (M16) with 16 features: ['PageValues', 'ExitRates', 'TrafficType_2', 'OperatingSystems_2', 'TrafficType_11', 'TrafficType_5', 'OperatingSystems_3', 'Browser_10', 'Browser_3', 'Browser_7', 'Browser_8', 'Month_Oct', 'Browser_13', 'Month_June', 'OperatingSystems_1', 'OperatingSystems_4']\n",
      "M16 subset score (3.): 0.8805144636253344\n",
      "............\n",
      "Best model (M17) with 17 features: ['PageValues', 'ExitRates', 'TrafficType_2', 'OperatingSystems_2', 'TrafficType_11', 'TrafficType_5', 'OperatingSystems_3', 'Browser_10', 'Browser_3', 'Browser_7', 'Browser_8', 'Month_Oct', 'Browser_13', 'Month_June', 'OperatingSystems_1', 'OperatingSystems_4', 'OperatingSystems_6']\n",
      "M17 subset score (3.): 0.8805144636253344\n",
      "............\n",
      "Best model (M18) with 18 features: ['PageValues', 'ExitRates', 'TrafficType_2', 'OperatingSystems_2', 'TrafficType_11', 'TrafficType_5', 'OperatingSystems_3', 'Browser_10', 'Browser_3', 'Browser_7', 'Browser_8', 'Month_Oct', 'Browser_13', 'Month_June', 'OperatingSystems_1', 'OperatingSystems_4', 'OperatingSystems_6', 'OperatingSystems_8']\n",
      "M18 subset score (3.): 0.8805144636253344\n",
      "............\n",
      "Best model (M19) with 19 features: ['PageValues', 'ExitRates', 'TrafficType_2', 'OperatingSystems_2', 'TrafficType_11', 'TrafficType_5', 'OperatingSystems_3', 'Browser_10', 'Browser_3', 'Browser_7', 'Browser_8', 'Month_Oct', 'Browser_13', 'Month_June', 'OperatingSystems_1', 'OperatingSystems_4', 'OperatingSystems_6', 'OperatingSystems_8', 'Region_3']\n",
      "M19 subset score (3.): 0.8805144636253344\n",
      "............\n",
      "Best model (M20) with 20 features: ['PageValues', 'ExitRates', 'TrafficType_2', 'OperatingSystems_2', 'TrafficType_11', 'TrafficType_5', 'OperatingSystems_3', 'Browser_10', 'Browser_3', 'Browser_7', 'Browser_8', 'Month_Oct', 'Browser_13', 'Month_June', 'OperatingSystems_1', 'OperatingSystems_4', 'OperatingSystems_6', 'OperatingSystems_8', 'Region_3', 'Browser_4']\n",
      "M20 subset score (3.): 0.8804062970488065\n",
      "............\n",
      "Best model (M21) with 21 features: ['PageValues', 'ExitRates', 'TrafficType_2', 'OperatingSystems_2', 'TrafficType_11', 'TrafficType_5', 'OperatingSystems_3', 'Browser_10', 'Browser_3', 'Browser_7', 'Browser_8', 'Month_Oct', 'Browser_13', 'Month_June', 'OperatingSystems_1', 'OperatingSystems_4', 'OperatingSystems_6', 'OperatingSystems_8', 'Region_3', 'Browser_4', 'TrafficType_8']\n",
      "M21 subset score (3.): 0.8808389048864982\n",
      "............\n",
      "Best model (M22) with 22 features: ['PageValues', 'ExitRates', 'TrafficType_2', 'OperatingSystems_2', 'TrafficType_11', 'TrafficType_5', 'OperatingSystems_3', 'Browser_10', 'Browser_3', 'Browser_7', 'Browser_8', 'Month_Oct', 'Browser_13', 'Month_June', 'OperatingSystems_1', 'OperatingSystems_4', 'OperatingSystems_6', 'OperatingSystems_8', 'Region_3', 'Browser_4', 'TrafficType_8', 'VisitorType_New_Visitor']\n",
      "M22 subset score (3.): 0.8808390802917574\n",
      "............\n",
      "Best model (M23) with 23 features: ['PageValues', 'ExitRates', 'TrafficType_2', 'OperatingSystems_2', 'TrafficType_11', 'TrafficType_5', 'OperatingSystems_3', 'Browser_10', 'Browser_3', 'Browser_7', 'Browser_8', 'Month_Oct', 'Browser_13', 'Month_June', 'OperatingSystems_1', 'OperatingSystems_4', 'OperatingSystems_6', 'OperatingSystems_8', 'Region_3', 'Browser_4', 'TrafficType_8', 'VisitorType_New_Visitor', 'Browser_5']\n",
      "M23 subset score (3.): 0.8809471883998656\n",
      "............\n",
      "Best model (M24) with 24 features: ['PageValues', 'ExitRates', 'TrafficType_2', 'OperatingSystems_2', 'TrafficType_11', 'TrafficType_5', 'OperatingSystems_3', 'Browser_10', 'Browser_3', 'Browser_7', 'Browser_8', 'Month_Oct', 'Browser_13', 'Month_June', 'OperatingSystems_1', 'OperatingSystems_4', 'OperatingSystems_6', 'OperatingSystems_8', 'Region_3', 'Browser_4', 'TrafficType_8', 'VisitorType_New_Visitor', 'Browser_5', 'TrafficType_13']\n",
      "M24 subset score (3.): 0.8811634046160817\n",
      "............\n",
      "Best model (M25) with 25 features: ['PageValues', 'ExitRates', 'TrafficType_2', 'OperatingSystems_2', 'TrafficType_11', 'TrafficType_5', 'OperatingSystems_3', 'Browser_10', 'Browser_3', 'Browser_7', 'Browser_8', 'Month_Oct', 'Browser_13', 'Month_June', 'OperatingSystems_1', 'OperatingSystems_4', 'OperatingSystems_6', 'OperatingSystems_8', 'Region_3', 'Browser_4', 'TrafficType_8', 'VisitorType_New_Visitor', 'Browser_5', 'TrafficType_13', 'TrafficType_20']\n",
      "M25 subset score (3.): 0.8809471299314457\n",
      "............\n",
      "Best model (M26) with 26 features: ['PageValues', 'ExitRates', 'TrafficType_2', 'OperatingSystems_2', 'TrafficType_11', 'TrafficType_5', 'OperatingSystems_3', 'Browser_10', 'Browser_3', 'Browser_7', 'Browser_8', 'Month_Oct', 'Browser_13', 'Month_June', 'OperatingSystems_1', 'OperatingSystems_4', 'OperatingSystems_6', 'OperatingSystems_8', 'Region_3', 'Browser_4', 'TrafficType_8', 'VisitorType_New_Visitor', 'Browser_5', 'TrafficType_13', 'TrafficType_20', 'VisitorType_Other']\n",
      "M26 subset score (3.): 0.8810552380395539\n",
      "............\n",
      "Best model (M27) with 27 features: ['PageValues', 'ExitRates', 'TrafficType_2', 'OperatingSystems_2', 'TrafficType_11', 'TrafficType_5', 'OperatingSystems_3', 'Browser_10', 'Browser_3', 'Browser_7', 'Browser_8', 'Month_Oct', 'Browser_13', 'Month_June', 'OperatingSystems_1', 'OperatingSystems_4', 'OperatingSystems_6', 'OperatingSystems_8', 'Region_3', 'Browser_4', 'TrafficType_8', 'VisitorType_New_Visitor', 'Browser_5', 'TrafficType_13', 'TrafficType_20', 'VisitorType_Other', 'Browser_2']\n",
      "M27 subset score (3.): 0.880947071463026\n"
     ]
    },
    {
     "name": "stdout",
     "output_type": "stream",
     "text": [
      "............\n",
      "Best model (M28) with 28 features: ['PageValues', 'ExitRates', 'TrafficType_2', 'OperatingSystems_2', 'TrafficType_11', 'TrafficType_5', 'OperatingSystems_3', 'Browser_10', 'Browser_3', 'Browser_7', 'Browser_8', 'Month_Oct', 'Browser_13', 'Month_June', 'OperatingSystems_1', 'OperatingSystems_4', 'OperatingSystems_6', 'OperatingSystems_8', 'Region_3', 'Browser_4', 'TrafficType_8', 'VisitorType_New_Visitor', 'Browser_5', 'TrafficType_13', 'TrafficType_20', 'VisitorType_Other', 'Browser_2', 'Month_Aug']\n",
      "M28 subset score (3.): 0.8810552380395539\n",
      "............\n",
      "Best model (M29) with 29 features: ['PageValues', 'ExitRates', 'TrafficType_2', 'OperatingSystems_2', 'TrafficType_11', 'TrafficType_5', 'OperatingSystems_3', 'Browser_10', 'Browser_3', 'Browser_7', 'Browser_8', 'Month_Oct', 'Browser_13', 'Month_June', 'OperatingSystems_1', 'OperatingSystems_4', 'OperatingSystems_6', 'OperatingSystems_8', 'Region_3', 'Browser_4', 'TrafficType_8', 'VisitorType_New_Visitor', 'Browser_5', 'TrafficType_13', 'TrafficType_20', 'VisitorType_Other', 'Browser_2', 'Month_Aug', 'Month_Feb']\n",
      "M29 subset score (3.): 0.880947071463026\n",
      "............\n",
      "Best model (M30) with 30 features: ['PageValues', 'ExitRates', 'TrafficType_2', 'OperatingSystems_2', 'TrafficType_11', 'TrafficType_5', 'OperatingSystems_3', 'Browser_10', 'Browser_3', 'Browser_7', 'Browser_8', 'Month_Oct', 'Browser_13', 'Month_June', 'OperatingSystems_1', 'OperatingSystems_4', 'OperatingSystems_6', 'OperatingSystems_8', 'Region_3', 'Browser_4', 'TrafficType_8', 'VisitorType_New_Visitor', 'Browser_5', 'TrafficType_13', 'TrafficType_20', 'VisitorType_Other', 'Browser_2', 'Month_Aug', 'Month_Feb', 'Region_5']\n",
      "M30 subset score (3.): 0.880838963354918\n",
      "............\n",
      "Best model (M31) with 31 features: ['PageValues', 'ExitRates', 'TrafficType_2', 'OperatingSystems_2', 'TrafficType_11', 'TrafficType_5', 'OperatingSystems_3', 'Browser_10', 'Browser_3', 'Browser_7', 'Browser_8', 'Month_Oct', 'Browser_13', 'Month_June', 'OperatingSystems_1', 'OperatingSystems_4', 'OperatingSystems_6', 'OperatingSystems_8', 'Region_3', 'Browser_4', 'TrafficType_8', 'VisitorType_New_Visitor', 'Browser_5', 'TrafficType_13', 'TrafficType_20', 'VisitorType_Other', 'Browser_2', 'Month_Aug', 'Month_Feb', 'Region_5', 'Region_8']\n",
      "M31 subset score (3.): 0.880838963354918\n",
      "............\n",
      "Best model (M32) with 32 features: ['PageValues', 'ExitRates', 'TrafficType_2', 'OperatingSystems_2', 'TrafficType_11', 'TrafficType_5', 'OperatingSystems_3', 'Browser_10', 'Browser_3', 'Browser_7', 'Browser_8', 'Month_Oct', 'Browser_13', 'Month_June', 'OperatingSystems_1', 'OperatingSystems_4', 'OperatingSystems_6', 'OperatingSystems_8', 'Region_3', 'Browser_4', 'TrafficType_8', 'VisitorType_New_Visitor', 'Browser_5', 'TrafficType_13', 'TrafficType_20', 'VisitorType_Other', 'Browser_2', 'Month_Aug', 'Month_Feb', 'Region_5', 'Region_8', 'TrafficType_1']\n",
      "M32 subset score (3.): 0.880838963354918\n",
      "............\n",
      "Best model (M33) with 33 features: ['PageValues', 'ExitRates', 'TrafficType_2', 'OperatingSystems_2', 'TrafficType_11', 'TrafficType_5', 'OperatingSystems_3', 'Browser_10', 'Browser_3', 'Browser_7', 'Browser_8', 'Month_Oct', 'Browser_13', 'Month_June', 'OperatingSystems_1', 'OperatingSystems_4', 'OperatingSystems_6', 'OperatingSystems_8', 'Region_3', 'Browser_4', 'TrafficType_8', 'VisitorType_New_Visitor', 'Browser_5', 'TrafficType_13', 'TrafficType_20', 'VisitorType_Other', 'Browser_2', 'Month_Aug', 'Month_Feb', 'Region_5', 'Region_8', 'TrafficType_1', 'TrafficType_15']\n",
      "M33 subset score (3.): 0.880838963354918\n",
      "............\n",
      "Best model (M34) with 34 features: ['PageValues', 'ExitRates', 'TrafficType_2', 'OperatingSystems_2', 'TrafficType_11', 'TrafficType_5', 'OperatingSystems_3', 'Browser_10', 'Browser_3', 'Browser_7', 'Browser_8', 'Month_Oct', 'Browser_13', 'Month_June', 'OperatingSystems_1', 'OperatingSystems_4', 'OperatingSystems_6', 'OperatingSystems_8', 'Region_3', 'Browser_4', 'TrafficType_8', 'VisitorType_New_Visitor', 'Browser_5', 'TrafficType_13', 'TrafficType_20', 'VisitorType_Other', 'Browser_2', 'Month_Aug', 'Month_Feb', 'Region_5', 'Region_8', 'TrafficType_1', 'TrafficType_15', 'TrafficType_19']\n",
      "M34 subset score (3.): 0.880838963354918\n",
      "............\n",
      "Best model (M35) with 35 features: ['PageValues', 'ExitRates', 'TrafficType_2', 'OperatingSystems_2', 'TrafficType_11', 'TrafficType_5', 'OperatingSystems_3', 'Browser_10', 'Browser_3', 'Browser_7', 'Browser_8', 'Month_Oct', 'Browser_13', 'Month_June', 'OperatingSystems_1', 'OperatingSystems_4', 'OperatingSystems_6', 'OperatingSystems_8', 'Region_3', 'Browser_4', 'TrafficType_8', 'VisitorType_New_Visitor', 'Browser_5', 'TrafficType_13', 'TrafficType_20', 'VisitorType_Other', 'Browser_2', 'Month_Aug', 'Month_Feb', 'Region_5', 'Region_8', 'TrafficType_1', 'TrafficType_15', 'TrafficType_19', 'TrafficType_4']\n",
      "M35 subset score (3.): 0.880838963354918\n",
      "............\n",
      "Best model (M36) with 36 features: ['PageValues', 'ExitRates', 'TrafficType_2', 'OperatingSystems_2', 'TrafficType_11', 'TrafficType_5', 'OperatingSystems_3', 'Browser_10', 'Browser_3', 'Browser_7', 'Browser_8', 'Month_Oct', 'Browser_13', 'Month_June', 'OperatingSystems_1', 'OperatingSystems_4', 'OperatingSystems_6', 'OperatingSystems_8', 'Region_3', 'Browser_4', 'TrafficType_8', 'VisitorType_New_Visitor', 'Browser_5', 'TrafficType_13', 'TrafficType_20', 'VisitorType_Other', 'Browser_2', 'Month_Aug', 'Month_Feb', 'Region_5', 'Region_8', 'TrafficType_1', 'TrafficType_15', 'TrafficType_19', 'TrafficType_4', 'TrafficType_6']\n",
      "M36 subset score (3.): 0.8807308552468098\n",
      "............\n",
      "Best model (M37) with 37 features: ['PageValues', 'ExitRates', 'TrafficType_2', 'OperatingSystems_2', 'TrafficType_11', 'TrafficType_5', 'OperatingSystems_3', 'Browser_10', 'Browser_3', 'Browser_7', 'Browser_8', 'Month_Oct', 'Browser_13', 'Month_June', 'OperatingSystems_1', 'OperatingSystems_4', 'OperatingSystems_6', 'OperatingSystems_8', 'Region_3', 'Browser_4', 'TrafficType_8', 'VisitorType_New_Visitor', 'Browser_5', 'TrafficType_13', 'TrafficType_20', 'VisitorType_Other', 'Browser_2', 'Month_Aug', 'Month_Feb', 'Region_5', 'Region_8', 'TrafficType_1', 'TrafficType_15', 'TrafficType_19', 'TrafficType_4', 'TrafficType_6', 'TrafficType_7']\n",
      "M37 subset score (3.): 0.8807308552468098\n",
      "............\n",
      "Best model (M38) with 38 features: ['PageValues', 'ExitRates', 'TrafficType_2', 'OperatingSystems_2', 'TrafficType_11', 'TrafficType_5', 'OperatingSystems_3', 'Browser_10', 'Browser_3', 'Browser_7', 'Browser_8', 'Month_Oct', 'Browser_13', 'Month_June', 'OperatingSystems_1', 'OperatingSystems_4', 'OperatingSystems_6', 'OperatingSystems_8', 'Region_3', 'Browser_4', 'TrafficType_8', 'VisitorType_New_Visitor', 'Browser_5', 'TrafficType_13', 'TrafficType_20', 'VisitorType_Other', 'Browser_2', 'Month_Aug', 'Month_Feb', 'Region_5', 'Region_8', 'TrafficType_1', 'TrafficType_15', 'TrafficType_19', 'TrafficType_4', 'TrafficType_6', 'TrafficType_7', 'TrafficType_9']\n",
      "M38 subset score (3.): 0.8807308552468098\n",
      "............\n",
      "Best model (M39) with 39 features: ['PageValues', 'ExitRates', 'TrafficType_2', 'OperatingSystems_2', 'TrafficType_11', 'TrafficType_5', 'OperatingSystems_3', 'Browser_10', 'Browser_3', 'Browser_7', 'Browser_8', 'Month_Oct', 'Browser_13', 'Month_June', 'OperatingSystems_1', 'OperatingSystems_4', 'OperatingSystems_6', 'OperatingSystems_8', 'Region_3', 'Browser_4', 'TrafficType_8', 'VisitorType_New_Visitor', 'Browser_5', 'TrafficType_13', 'TrafficType_20', 'VisitorType_Other', 'Browser_2', 'Month_Aug', 'Month_Feb', 'Region_5', 'Region_8', 'TrafficType_1', 'TrafficType_15', 'TrafficType_19', 'TrafficType_4', 'TrafficType_6', 'TrafficType_7', 'TrafficType_9', 'Month_Sep']\n",
      "M39 subset score (3.): 0.8805145805621738\n",
      "............\n",
      "Best model (M40) with 40 features: ['PageValues', 'ExitRates', 'TrafficType_2', 'OperatingSystems_2', 'TrafficType_11', 'TrafficType_5', 'OperatingSystems_3', 'Browser_10', 'Browser_3', 'Browser_7', 'Browser_8', 'Month_Oct', 'Browser_13', 'Month_June', 'OperatingSystems_1', 'OperatingSystems_4', 'OperatingSystems_6', 'OperatingSystems_8', 'Region_3', 'Browser_4', 'TrafficType_8', 'VisitorType_New_Visitor', 'Browser_5', 'TrafficType_13', 'TrafficType_20', 'VisitorType_Other', 'Browser_2', 'Month_Aug', 'Month_Feb', 'Region_5', 'Region_8', 'TrafficType_1', 'TrafficType_15', 'TrafficType_19', 'TrafficType_4', 'TrafficType_6', 'TrafficType_7', 'TrafficType_9', 'Month_Sep', 'VisitorType_Returning_Visitor']\n",
      "M40 subset score (3.): 0.880622688670282\n"
     ]
    },
    {
     "name": "stdout",
     "output_type": "stream",
     "text": [
      "............\n",
      "Best model (M41) with 41 features: ['PageValues', 'ExitRates', 'TrafficType_2', 'OperatingSystems_2', 'TrafficType_11', 'TrafficType_5', 'OperatingSystems_3', 'Browser_10', 'Browser_3', 'Browser_7', 'Browser_8', 'Month_Oct', 'Browser_13', 'Month_June', 'OperatingSystems_1', 'OperatingSystems_4', 'OperatingSystems_6', 'OperatingSystems_8', 'Region_3', 'Browser_4', 'TrafficType_8', 'VisitorType_New_Visitor', 'Browser_5', 'TrafficType_13', 'TrafficType_20', 'VisitorType_Other', 'Browser_2', 'Month_Aug', 'Month_Feb', 'Region_5', 'Region_8', 'TrafficType_1', 'TrafficType_15', 'TrafficType_19', 'TrafficType_4', 'TrafficType_6', 'TrafficType_7', 'TrafficType_9', 'Month_Sep', 'VisitorType_Returning_Visitor', 'Region_2']\n",
      "M41 subset score (3.): 0.8807307967783901\n",
      "............\n",
      "Best model (M42) with 42 features: ['PageValues', 'ExitRates', 'TrafficType_2', 'OperatingSystems_2', 'TrafficType_11', 'TrafficType_5', 'OperatingSystems_3', 'Browser_10', 'Browser_3', 'Browser_7', 'Browser_8', 'Month_Oct', 'Browser_13', 'Month_June', 'OperatingSystems_1', 'OperatingSystems_4', 'OperatingSystems_6', 'OperatingSystems_8', 'Region_3', 'Browser_4', 'TrafficType_8', 'VisitorType_New_Visitor', 'Browser_5', 'TrafficType_13', 'TrafficType_20', 'VisitorType_Other', 'Browser_2', 'Month_Aug', 'Month_Feb', 'Region_5', 'Region_8', 'TrafficType_1', 'TrafficType_15', 'TrafficType_19', 'TrafficType_4', 'TrafficType_6', 'TrafficType_7', 'TrafficType_9', 'Month_Sep', 'VisitorType_Returning_Visitor', 'Region_2', 'BounceRates']\n",
      "M42 subset score (3.): 0.880838963354918\n",
      "............\n",
      "Best model (M43) with 43 features: ['PageValues', 'ExitRates', 'TrafficType_2', 'OperatingSystems_2', 'TrafficType_11', 'TrafficType_5', 'OperatingSystems_3', 'Browser_10', 'Browser_3', 'Browser_7', 'Browser_8', 'Month_Oct', 'Browser_13', 'Month_June', 'OperatingSystems_1', 'OperatingSystems_4', 'OperatingSystems_6', 'OperatingSystems_8', 'Region_3', 'Browser_4', 'TrafficType_8', 'VisitorType_New_Visitor', 'Browser_5', 'TrafficType_13', 'TrafficType_20', 'VisitorType_Other', 'Browser_2', 'Month_Aug', 'Month_Feb', 'Region_5', 'Region_8', 'TrafficType_1', 'TrafficType_15', 'TrafficType_19', 'TrafficType_4', 'TrafficType_6', 'TrafficType_7', 'TrafficType_9', 'Month_Sep', 'VisitorType_Returning_Visitor', 'Region_2', 'BounceRates', 'Region_6']\n",
      "M43 subset score (3.): 0.880838963354918\n",
      "............\n",
      "Best model (M44) with 44 features: ['PageValues', 'ExitRates', 'TrafficType_2', 'OperatingSystems_2', 'TrafficType_11', 'TrafficType_5', 'OperatingSystems_3', 'Browser_10', 'Browser_3', 'Browser_7', 'Browser_8', 'Month_Oct', 'Browser_13', 'Month_June', 'OperatingSystems_1', 'OperatingSystems_4', 'OperatingSystems_6', 'OperatingSystems_8', 'Region_3', 'Browser_4', 'TrafficType_8', 'VisitorType_New_Visitor', 'Browser_5', 'TrafficType_13', 'TrafficType_20', 'VisitorType_Other', 'Browser_2', 'Month_Aug', 'Month_Feb', 'Region_5', 'Region_8', 'TrafficType_1', 'TrafficType_15', 'TrafficType_19', 'TrafficType_4', 'TrafficType_6', 'TrafficType_7', 'TrafficType_9', 'Month_Sep', 'VisitorType_Returning_Visitor', 'Region_2', 'BounceRates', 'Region_6', 'TrafficType_3']\n",
      "M44 subset score (3.): 0.8807307967783901\n",
      "............\n",
      "Best model (M45) with 45 features: ['PageValues', 'ExitRates', 'TrafficType_2', 'OperatingSystems_2', 'TrafficType_11', 'TrafficType_5', 'OperatingSystems_3', 'Browser_10', 'Browser_3', 'Browser_7', 'Browser_8', 'Month_Oct', 'Browser_13', 'Month_June', 'OperatingSystems_1', 'OperatingSystems_4', 'OperatingSystems_6', 'OperatingSystems_8', 'Region_3', 'Browser_4', 'TrafficType_8', 'VisitorType_New_Visitor', 'Browser_5', 'TrafficType_13', 'TrafficType_20', 'VisitorType_Other', 'Browser_2', 'Month_Aug', 'Month_Feb', 'Region_5', 'Region_8', 'TrafficType_1', 'TrafficType_15', 'TrafficType_19', 'TrafficType_4', 'TrafficType_6', 'TrafficType_7', 'TrafficType_9', 'Month_Sep', 'VisitorType_Returning_Visitor', 'Region_2', 'BounceRates', 'Region_6', 'TrafficType_3', 'Browser_1']\n",
      "M45 subset score (3.): 0.8807308552468098\n",
      "............\n",
      "Best model (M46) with 46 features: ['PageValues', 'ExitRates', 'TrafficType_2', 'OperatingSystems_2', 'TrafficType_11', 'TrafficType_5', 'OperatingSystems_3', 'Browser_10', 'Browser_3', 'Browser_7', 'Browser_8', 'Month_Oct', 'Browser_13', 'Month_June', 'OperatingSystems_1', 'OperatingSystems_4', 'OperatingSystems_6', 'OperatingSystems_8', 'Region_3', 'Browser_4', 'TrafficType_8', 'VisitorType_New_Visitor', 'Browser_5', 'TrafficType_13', 'TrafficType_20', 'VisitorType_Other', 'Browser_2', 'Month_Aug', 'Month_Feb', 'Region_5', 'Region_8', 'TrafficType_1', 'TrafficType_15', 'TrafficType_19', 'TrafficType_4', 'TrafficType_6', 'TrafficType_7', 'TrafficType_9', 'Month_Sep', 'VisitorType_Returning_Visitor', 'Region_2', 'BounceRates', 'Region_6', 'TrafficType_3', 'Browser_1', 'Browser_6']\n",
      "M46 subset score (3.): 0.8808390218233377\n",
      "............\n",
      "Best model (M47) with 47 features: ['PageValues', 'ExitRates', 'TrafficType_2', 'OperatingSystems_2', 'TrafficType_11', 'TrafficType_5', 'OperatingSystems_3', 'Browser_10', 'Browser_3', 'Browser_7', 'Browser_8', 'Month_Oct', 'Browser_13', 'Month_June', 'OperatingSystems_1', 'OperatingSystems_4', 'OperatingSystems_6', 'OperatingSystems_8', 'Region_3', 'Browser_4', 'TrafficType_8', 'VisitorType_New_Visitor', 'Browser_5', 'TrafficType_13', 'TrafficType_20', 'VisitorType_Other', 'Browser_2', 'Month_Aug', 'Month_Feb', 'Region_5', 'Region_8', 'TrafficType_1', 'TrafficType_15', 'TrafficType_19', 'TrafficType_4', 'TrafficType_6', 'TrafficType_7', 'TrafficType_9', 'Month_Sep', 'VisitorType_Returning_Visitor', 'Region_2', 'BounceRates', 'Region_6', 'TrafficType_3', 'Browser_1', 'Browser_6', 'TrafficType_10']\n",
      "M47 subset score (3.): 0.8808390218233377\n",
      "............\n",
      "Best model (M48) with 48 features: ['PageValues', 'ExitRates', 'TrafficType_2', 'OperatingSystems_2', 'TrafficType_11', 'TrafficType_5', 'OperatingSystems_3', 'Browser_10', 'Browser_3', 'Browser_7', 'Browser_8', 'Month_Oct', 'Browser_13', 'Month_June', 'OperatingSystems_1', 'OperatingSystems_4', 'OperatingSystems_6', 'OperatingSystems_8', 'Region_3', 'Browser_4', 'TrafficType_8', 'VisitorType_New_Visitor', 'Browser_5', 'TrafficType_13', 'TrafficType_20', 'VisitorType_Other', 'Browser_2', 'Month_Aug', 'Month_Feb', 'Region_5', 'Region_8', 'TrafficType_1', 'TrafficType_15', 'TrafficType_19', 'TrafficType_4', 'TrafficType_6', 'TrafficType_7', 'TrafficType_9', 'Month_Sep', 'VisitorType_Returning_Visitor', 'Region_2', 'BounceRates', 'Region_6', 'TrafficType_3', 'Browser_1', 'Browser_6', 'TrafficType_10', 'Weekend_True']\n",
      "M48 subset score (3.): 0.8807307967783901\n",
      "............\n",
      "Best model (M49) with 49 features: ['PageValues', 'ExitRates', 'TrafficType_2', 'OperatingSystems_2', 'TrafficType_11', 'TrafficType_5', 'OperatingSystems_3', 'Browser_10', 'Browser_3', 'Browser_7', 'Browser_8', 'Month_Oct', 'Browser_13', 'Month_June', 'OperatingSystems_1', 'OperatingSystems_4', 'OperatingSystems_6', 'OperatingSystems_8', 'Region_3', 'Browser_4', 'TrafficType_8', 'VisitorType_New_Visitor', 'Browser_5', 'TrafficType_13', 'TrafficType_20', 'VisitorType_Other', 'Browser_2', 'Month_Aug', 'Month_Feb', 'Region_5', 'Region_8', 'TrafficType_1', 'TrafficType_15', 'TrafficType_19', 'TrafficType_4', 'TrafficType_6', 'TrafficType_7', 'TrafficType_9', 'Month_Sep', 'VisitorType_Returning_Visitor', 'Region_2', 'BounceRates', 'Region_6', 'TrafficType_3', 'Browser_1', 'Browser_6', 'TrafficType_10', 'Weekend_True', 'Weekend_False']\n",
      "M49 subset score (3.): 0.8807307967783901\n",
      "............\n",
      "Best model (M50) with 50 features: ['PageValues', 'ExitRates', 'TrafficType_2', 'OperatingSystems_2', 'TrafficType_11', 'TrafficType_5', 'OperatingSystems_3', 'Browser_10', 'Browser_3', 'Browser_7', 'Browser_8', 'Month_Oct', 'Browser_13', 'Month_June', 'OperatingSystems_1', 'OperatingSystems_4', 'OperatingSystems_6', 'OperatingSystems_8', 'Region_3', 'Browser_4', 'TrafficType_8', 'VisitorType_New_Visitor', 'Browser_5', 'TrafficType_13', 'TrafficType_20', 'VisitorType_Other', 'Browser_2', 'Month_Aug', 'Month_Feb', 'Region_5', 'Region_8', 'TrafficType_1', 'TrafficType_15', 'TrafficType_19', 'TrafficType_4', 'TrafficType_6', 'TrafficType_7', 'TrafficType_9', 'Month_Sep', 'VisitorType_Returning_Visitor', 'Region_2', 'BounceRates', 'Region_6', 'TrafficType_3', 'Browser_1', 'Browser_6', 'TrafficType_10', 'Weekend_True', 'Weekend_False', 'Region_7']\n",
      "M50 subset score (3.): 0.8808389048864982\n"
     ]
    },
    {
     "name": "stdout",
     "output_type": "stream",
     "text": [
      "............\n",
      "Best model (M51) with 51 features: ['PageValues', 'ExitRates', 'TrafficType_2', 'OperatingSystems_2', 'TrafficType_11', 'TrafficType_5', 'OperatingSystems_3', 'Browser_10', 'Browser_3', 'Browser_7', 'Browser_8', 'Month_Oct', 'Browser_13', 'Month_June', 'OperatingSystems_1', 'OperatingSystems_4', 'OperatingSystems_6', 'OperatingSystems_8', 'Region_3', 'Browser_4', 'TrafficType_8', 'VisitorType_New_Visitor', 'Browser_5', 'TrafficType_13', 'TrafficType_20', 'VisitorType_Other', 'Browser_2', 'Month_Aug', 'Month_Feb', 'Region_5', 'Region_8', 'TrafficType_1', 'TrafficType_15', 'TrafficType_19', 'TrafficType_4', 'TrafficType_6', 'TrafficType_7', 'TrafficType_9', 'Month_Sep', 'VisitorType_Returning_Visitor', 'Region_2', 'BounceRates', 'Region_6', 'TrafficType_3', 'Browser_1', 'Browser_6', 'TrafficType_10', 'Weekend_True', 'Weekend_False', 'Region_7', 'Region_9']\n",
      "M51 subset score (3.): 0.8808389048864982\n",
      "............\n",
      "Best model (M52) with 52 features: ['PageValues', 'ExitRates', 'TrafficType_2', 'OperatingSystems_2', 'TrafficType_11', 'TrafficType_5', 'OperatingSystems_3', 'Browser_10', 'Browser_3', 'Browser_7', 'Browser_8', 'Month_Oct', 'Browser_13', 'Month_June', 'OperatingSystems_1', 'OperatingSystems_4', 'OperatingSystems_6', 'OperatingSystems_8', 'Region_3', 'Browser_4', 'TrafficType_8', 'VisitorType_New_Visitor', 'Browser_5', 'TrafficType_13', 'TrafficType_20', 'VisitorType_Other', 'Browser_2', 'Month_Aug', 'Month_Feb', 'Region_5', 'Region_8', 'TrafficType_1', 'TrafficType_15', 'TrafficType_19', 'TrafficType_4', 'TrafficType_6', 'TrafficType_7', 'TrafficType_9', 'Month_Sep', 'VisitorType_Returning_Visitor', 'Region_2', 'BounceRates', 'Region_6', 'TrafficType_3', 'Browser_1', 'Browser_6', 'TrafficType_10', 'Weekend_True', 'Weekend_False', 'Region_7', 'Region_9', 'Administrative_Duration']\n",
      "M52 subset score (3.): 0.8806226302018623\n",
      "............\n",
      "Best model (M53) with 53 features: ['PageValues', 'ExitRates', 'TrafficType_2', 'OperatingSystems_2', 'TrafficType_11', 'TrafficType_5', 'OperatingSystems_3', 'Browser_10', 'Browser_3', 'Browser_7', 'Browser_8', 'Month_Oct', 'Browser_13', 'Month_June', 'OperatingSystems_1', 'OperatingSystems_4', 'OperatingSystems_6', 'OperatingSystems_8', 'Region_3', 'Browser_4', 'TrafficType_8', 'VisitorType_New_Visitor', 'Browser_5', 'TrafficType_13', 'TrafficType_20', 'VisitorType_Other', 'Browser_2', 'Month_Aug', 'Month_Feb', 'Region_5', 'Region_8', 'TrafficType_1', 'TrafficType_15', 'TrafficType_19', 'TrafficType_4', 'TrafficType_6', 'TrafficType_7', 'TrafficType_9', 'Month_Sep', 'VisitorType_Returning_Visitor', 'Region_2', 'BounceRates', 'Region_6', 'TrafficType_3', 'Browser_1', 'Browser_6', 'TrafficType_10', 'Weekend_True', 'Weekend_False', 'Region_7', 'Region_9', 'Administrative_Duration', 'Region_1']\n",
      "M53 subset score (3.): 0.8805145220937541\n"
     ]
    },
    {
     "name": "stderr",
     "output_type": "stream",
     "text": [
      "C:\\Users\\unieuro\\anaconda3\\lib\\site-packages\\sklearn\\svm\\_base.py:1206: ConvergenceWarning: Liblinear failed to converge, increase the number of iterations.\n",
      "  warnings.warn(\n"
     ]
    },
    {
     "name": "stdout",
     "output_type": "stream",
     "text": [
      "............\n",
      "Best model (M54) with 54 features: ['PageValues', 'ExitRates', 'TrafficType_2', 'OperatingSystems_2', 'TrafficType_11', 'TrafficType_5', 'OperatingSystems_3', 'Browser_10', 'Browser_3', 'Browser_7', 'Browser_8', 'Month_Oct', 'Browser_13', 'Month_June', 'OperatingSystems_1', 'OperatingSystems_4', 'OperatingSystems_6', 'OperatingSystems_8', 'Region_3', 'Browser_4', 'TrafficType_8', 'VisitorType_New_Visitor', 'Browser_5', 'TrafficType_13', 'TrafficType_20', 'VisitorType_Other', 'Browser_2', 'Month_Aug', 'Month_Feb', 'Region_5', 'Region_8', 'TrafficType_1', 'TrafficType_15', 'TrafficType_19', 'TrafficType_4', 'TrafficType_6', 'TrafficType_7', 'TrafficType_9', 'Month_Sep', 'VisitorType_Returning_Visitor', 'Region_2', 'BounceRates', 'Region_6', 'TrafficType_3', 'Browser_1', 'Browser_6', 'TrafficType_10', 'Weekend_True', 'Weekend_False', 'Region_7', 'Region_9', 'Administrative_Duration', 'Region_1', 'Region_4']\n",
      "M54 subset score (3.): 0.8805145220937541\n",
      "............\n",
      "Best model (M55) with 55 features: ['PageValues', 'ExitRates', 'TrafficType_2', 'OperatingSystems_2', 'TrafficType_11', 'TrafficType_5', 'OperatingSystems_3', 'Browser_10', 'Browser_3', 'Browser_7', 'Browser_8', 'Month_Oct', 'Browser_13', 'Month_June', 'OperatingSystems_1', 'OperatingSystems_4', 'OperatingSystems_6', 'OperatingSystems_8', 'Region_3', 'Browser_4', 'TrafficType_8', 'VisitorType_New_Visitor', 'Browser_5', 'TrafficType_13', 'TrafficType_20', 'VisitorType_Other', 'Browser_2', 'Month_Aug', 'Month_Feb', 'Region_5', 'Region_8', 'TrafficType_1', 'TrafficType_15', 'TrafficType_19', 'TrafficType_4', 'TrafficType_6', 'TrafficType_7', 'TrafficType_9', 'Month_Sep', 'VisitorType_Returning_Visitor', 'Region_2', 'BounceRates', 'Region_6', 'TrafficType_3', 'Browser_1', 'Browser_6', 'TrafficType_10', 'Weekend_True', 'Weekend_False', 'Region_7', 'Region_9', 'Administrative_Duration', 'Region_1', 'Region_4', 'Informational']\n",
      "M55 subset score (3.): 0.8796495402920499\n"
     ]
    },
    {
     "name": "stderr",
     "output_type": "stream",
     "text": [
      "C:\\Users\\unieuro\\anaconda3\\lib\\site-packages\\sklearn\\svm\\_base.py:1206: ConvergenceWarning: Liblinear failed to converge, increase the number of iterations.\n",
      "  warnings.warn(\n",
      "C:\\Users\\unieuro\\anaconda3\\lib\\site-packages\\sklearn\\svm\\_base.py:1206: ConvergenceWarning: Liblinear failed to converge, increase the number of iterations.\n",
      "  warnings.warn(\n"
     ]
    },
    {
     "name": "stdout",
     "output_type": "stream",
     "text": [
      "............\n",
      "Best model (M56) with 56 features: ['PageValues', 'ExitRates', 'TrafficType_2', 'OperatingSystems_2', 'TrafficType_11', 'TrafficType_5', 'OperatingSystems_3', 'Browser_10', 'Browser_3', 'Browser_7', 'Browser_8', 'Month_Oct', 'Browser_13', 'Month_June', 'OperatingSystems_1', 'OperatingSystems_4', 'OperatingSystems_6', 'OperatingSystems_8', 'Region_3', 'Browser_4', 'TrafficType_8', 'VisitorType_New_Visitor', 'Browser_5', 'TrafficType_13', 'TrafficType_20', 'VisitorType_Other', 'Browser_2', 'Month_Aug', 'Month_Feb', 'Region_5', 'Region_8', 'TrafficType_1', 'TrafficType_15', 'TrafficType_19', 'TrafficType_4', 'TrafficType_6', 'TrafficType_7', 'TrafficType_9', 'Month_Sep', 'VisitorType_Returning_Visitor', 'Region_2', 'BounceRates', 'Region_6', 'TrafficType_3', 'Browser_1', 'Browser_6', 'TrafficType_10', 'Weekend_True', 'Weekend_False', 'Region_7', 'Region_9', 'Administrative_Duration', 'Region_1', 'Region_4', 'Informational', 'Informational_Duration']\n",
      "M56 subset score (3.): 0.8798658734451056\n"
     ]
    },
    {
     "name": "stderr",
     "output_type": "stream",
     "text": [
      "C:\\Users\\unieuro\\anaconda3\\lib\\site-packages\\sklearn\\svm\\_base.py:1206: ConvergenceWarning: Liblinear failed to converge, increase the number of iterations.\n",
      "  warnings.warn(\n",
      "C:\\Users\\unieuro\\anaconda3\\lib\\site-packages\\sklearn\\svm\\_base.py:1206: ConvergenceWarning: Liblinear failed to converge, increase the number of iterations.\n",
      "  warnings.warn(\n",
      "C:\\Users\\unieuro\\anaconda3\\lib\\site-packages\\sklearn\\svm\\_base.py:1206: ConvergenceWarning: Liblinear failed to converge, increase the number of iterations.\n",
      "  warnings.warn(\n"
     ]
    },
    {
     "name": "stdout",
     "output_type": "stream",
     "text": [
      "............\n",
      "Best model (M57) with 57 features: ['PageValues', 'ExitRates', 'TrafficType_2', 'OperatingSystems_2', 'TrafficType_11', 'TrafficType_5', 'OperatingSystems_3', 'Browser_10', 'Browser_3', 'Browser_7', 'Browser_8', 'Month_Oct', 'Browser_13', 'Month_June', 'OperatingSystems_1', 'OperatingSystems_4', 'OperatingSystems_6', 'OperatingSystems_8', 'Region_3', 'Browser_4', 'TrafficType_8', 'VisitorType_New_Visitor', 'Browser_5', 'TrafficType_13', 'TrafficType_20', 'VisitorType_Other', 'Browser_2', 'Month_Aug', 'Month_Feb', 'Region_5', 'Region_8', 'TrafficType_1', 'TrafficType_15', 'TrafficType_19', 'TrafficType_4', 'TrafficType_6', 'TrafficType_7', 'TrafficType_9', 'Month_Sep', 'VisitorType_Returning_Visitor', 'Region_2', 'BounceRates', 'Region_6', 'TrafficType_3', 'Browser_1', 'Browser_6', 'TrafficType_10', 'Weekend_True', 'Weekend_False', 'Region_7', 'Region_9', 'Administrative_Duration', 'Region_1', 'Region_4', 'Informational', 'Informational_Duration', 'Administrative']\n",
      "M57 subset score (3.): 0.879865756508266\n"
     ]
    },
    {
     "name": "stderr",
     "output_type": "stream",
     "text": [
      "C:\\Users\\unieuro\\anaconda3\\lib\\site-packages\\sklearn\\svm\\_base.py:1206: ConvergenceWarning: Liblinear failed to converge, increase the number of iterations.\n",
      "  warnings.warn(\n",
      "C:\\Users\\unieuro\\anaconda3\\lib\\site-packages\\sklearn\\svm\\_base.py:1206: ConvergenceWarning: Liblinear failed to converge, increase the number of iterations.\n",
      "  warnings.warn(\n"
     ]
    },
    {
     "name": "stdout",
     "output_type": "stream",
     "text": [
      "............\n",
      "Best model (M58) with 58 features: ['PageValues', 'ExitRates', 'TrafficType_2', 'OperatingSystems_2', 'TrafficType_11', 'TrafficType_5', 'OperatingSystems_3', 'Browser_10', 'Browser_3', 'Browser_7', 'Browser_8', 'Month_Oct', 'Browser_13', 'Month_June', 'OperatingSystems_1', 'OperatingSystems_4', 'OperatingSystems_6', 'OperatingSystems_8', 'Region_3', 'Browser_4', 'TrafficType_8', 'VisitorType_New_Visitor', 'Browser_5', 'TrafficType_13', 'TrafficType_20', 'VisitorType_Other', 'Browser_2', 'Month_Aug', 'Month_Feb', 'Region_5', 'Region_8', 'TrafficType_1', 'TrafficType_15', 'TrafficType_19', 'TrafficType_4', 'TrafficType_6', 'TrafficType_7', 'TrafficType_9', 'Month_Sep', 'VisitorType_Returning_Visitor', 'Region_2', 'BounceRates', 'Region_6', 'TrafficType_3', 'Browser_1', 'Browser_6', 'TrafficType_10', 'Weekend_True', 'Weekend_False', 'Region_7', 'Region_9', 'Administrative_Duration', 'Region_1', 'Region_4', 'Informational', 'Informational_Duration', 'Administrative', 'Month_Dec']\n",
      "M58 subset score (3.): 0.8796494233552103\n"
     ]
    },
    {
     "name": "stderr",
     "output_type": "stream",
     "text": [
      "C:\\Users\\unieuro\\anaconda3\\lib\\site-packages\\sklearn\\svm\\_base.py:1206: ConvergenceWarning: Liblinear failed to converge, increase the number of iterations.\n",
      "  warnings.warn(\n",
      "C:\\Users\\unieuro\\anaconda3\\lib\\site-packages\\sklearn\\svm\\_base.py:1206: ConvergenceWarning: Liblinear failed to converge, increase the number of iterations.\n",
      "  warnings.warn(\n",
      "C:\\Users\\unieuro\\anaconda3\\lib\\site-packages\\sklearn\\svm\\_base.py:1206: ConvergenceWarning: Liblinear failed to converge, increase the number of iterations.\n",
      "  warnings.warn(\n",
      "C:\\Users\\unieuro\\anaconda3\\lib\\site-packages\\sklearn\\svm\\_base.py:1206: ConvergenceWarning: Liblinear failed to converge, increase the number of iterations.\n",
      "  warnings.warn(\n",
      "C:\\Users\\unieuro\\anaconda3\\lib\\site-packages\\sklearn\\svm\\_base.py:1206: ConvergenceWarning: Liblinear failed to converge, increase the number of iterations.\n",
      "  warnings.warn(\n",
      "C:\\Users\\unieuro\\anaconda3\\lib\\site-packages\\sklearn\\svm\\_base.py:1206: ConvergenceWarning: Liblinear failed to converge, increase the number of iterations.\n",
      "  warnings.warn(\n"
     ]
    },
    {
     "name": "stdout",
     "output_type": "stream",
     "text": [
      "............\n",
      "Best model (M59) with 59 features: ['PageValues', 'ExitRates', 'TrafficType_2', 'OperatingSystems_2', 'TrafficType_11', 'TrafficType_5', 'OperatingSystems_3', 'Browser_10', 'Browser_3', 'Browser_7', 'Browser_8', 'Month_Oct', 'Browser_13', 'Month_June', 'OperatingSystems_1', 'OperatingSystems_4', 'OperatingSystems_6', 'OperatingSystems_8', 'Region_3', 'Browser_4', 'TrafficType_8', 'VisitorType_New_Visitor', 'Browser_5', 'TrafficType_13', 'TrafficType_20', 'VisitorType_Other', 'Browser_2', 'Month_Aug', 'Month_Feb', 'Region_5', 'Region_8', 'TrafficType_1', 'TrafficType_15', 'TrafficType_19', 'TrafficType_4', 'TrafficType_6', 'TrafficType_7', 'TrafficType_9', 'Month_Sep', 'VisitorType_Returning_Visitor', 'Region_2', 'BounceRates', 'Region_6', 'TrafficType_3', 'Browser_1', 'Browser_6', 'TrafficType_10', 'Weekend_True', 'Weekend_False', 'Region_7', 'Region_9', 'Administrative_Duration', 'Region_1', 'Region_4', 'Informational', 'Informational_Duration', 'Administrative', 'Month_Dec', 'ProductRelated']\n",
      "M59 subset score (3.): 0.8794332656074137\n"
     ]
    },
    {
     "name": "stderr",
     "output_type": "stream",
     "text": [
      "C:\\Users\\unieuro\\anaconda3\\lib\\site-packages\\sklearn\\svm\\_base.py:1206: ConvergenceWarning: Liblinear failed to converge, increase the number of iterations.\n",
      "  warnings.warn(\n",
      "C:\\Users\\unieuro\\anaconda3\\lib\\site-packages\\sklearn\\svm\\_base.py:1206: ConvergenceWarning: Liblinear failed to converge, increase the number of iterations.\n",
      "  warnings.warn(\n",
      "C:\\Users\\unieuro\\anaconda3\\lib\\site-packages\\sklearn\\svm\\_base.py:1206: ConvergenceWarning: Liblinear failed to converge, increase the number of iterations.\n",
      "  warnings.warn(\n",
      "C:\\Users\\unieuro\\anaconda3\\lib\\site-packages\\sklearn\\svm\\_base.py:1206: ConvergenceWarning: Liblinear failed to converge, increase the number of iterations.\n",
      "  warnings.warn(\n",
      "C:\\Users\\unieuro\\anaconda3\\lib\\site-packages\\sklearn\\svm\\_base.py:1206: ConvergenceWarning: Liblinear failed to converge, increase the number of iterations.\n",
      "  warnings.warn(\n",
      "C:\\Users\\unieuro\\anaconda3\\lib\\site-packages\\sklearn\\svm\\_base.py:1206: ConvergenceWarning: Liblinear failed to converge, increase the number of iterations.\n",
      "  warnings.warn(\n",
      "C:\\Users\\unieuro\\anaconda3\\lib\\site-packages\\sklearn\\svm\\_base.py:1206: ConvergenceWarning: Liblinear failed to converge, increase the number of iterations.\n",
      "  warnings.warn(\n"
     ]
    },
    {
     "name": "stdout",
     "output_type": "stream",
     "text": [
      "............\n",
      "Best model (M60) with 60 features: ['PageValues', 'ExitRates', 'TrafficType_2', 'OperatingSystems_2', 'TrafficType_11', 'TrafficType_5', 'OperatingSystems_3', 'Browser_10', 'Browser_3', 'Browser_7', 'Browser_8', 'Month_Oct', 'Browser_13', 'Month_June', 'OperatingSystems_1', 'OperatingSystems_4', 'OperatingSystems_6', 'OperatingSystems_8', 'Region_3', 'Browser_4', 'TrafficType_8', 'VisitorType_New_Visitor', 'Browser_5', 'TrafficType_13', 'TrafficType_20', 'VisitorType_Other', 'Browser_2', 'Month_Aug', 'Month_Feb', 'Region_5', 'Region_8', 'TrafficType_1', 'TrafficType_15', 'TrafficType_19', 'TrafficType_4', 'TrafficType_6', 'TrafficType_7', 'TrafficType_9', 'Month_Sep', 'VisitorType_Returning_Visitor', 'Region_2', 'BounceRates', 'Region_6', 'TrafficType_3', 'Browser_1', 'Browser_6', 'TrafficType_10', 'Weekend_True', 'Weekend_False', 'Region_7', 'Region_9', 'Administrative_Duration', 'Region_1', 'Region_4', 'Informational', 'Informational_Duration', 'Administrative', 'Month_Dec', 'ProductRelated', 'SpecialDay']\n",
      "M60 subset score (3.): 0.8796495987604696\n"
     ]
    },
    {
     "name": "stderr",
     "output_type": "stream",
     "text": [
      "C:\\Users\\unieuro\\anaconda3\\lib\\site-packages\\sklearn\\svm\\_base.py:1206: ConvergenceWarning: Liblinear failed to converge, increase the number of iterations.\n",
      "  warnings.warn(\n",
      "C:\\Users\\unieuro\\anaconda3\\lib\\site-packages\\sklearn\\svm\\_base.py:1206: ConvergenceWarning: Liblinear failed to converge, increase the number of iterations.\n",
      "  warnings.warn(\n",
      "C:\\Users\\unieuro\\anaconda3\\lib\\site-packages\\sklearn\\svm\\_base.py:1206: ConvergenceWarning: Liblinear failed to converge, increase the number of iterations.\n",
      "  warnings.warn(\n"
     ]
    },
    {
     "name": "stdout",
     "output_type": "stream",
     "text": [
      "............\n",
      "Best model (M61) with 61 features: ['PageValues', 'ExitRates', 'TrafficType_2', 'OperatingSystems_2', 'TrafficType_11', 'TrafficType_5', 'OperatingSystems_3', 'Browser_10', 'Browser_3', 'Browser_7', 'Browser_8', 'Month_Oct', 'Browser_13', 'Month_June', 'OperatingSystems_1', 'OperatingSystems_4', 'OperatingSystems_6', 'OperatingSystems_8', 'Region_3', 'Browser_4', 'TrafficType_8', 'VisitorType_New_Visitor', 'Browser_5', 'TrafficType_13', 'TrafficType_20', 'VisitorType_Other', 'Browser_2', 'Month_Aug', 'Month_Feb', 'Region_5', 'Region_8', 'TrafficType_1', 'TrafficType_15', 'TrafficType_19', 'TrafficType_4', 'TrafficType_6', 'TrafficType_7', 'TrafficType_9', 'Month_Sep', 'VisitorType_Returning_Visitor', 'Region_2', 'BounceRates', 'Region_6', 'TrafficType_3', 'Browser_1', 'Browser_6', 'TrafficType_10', 'Weekend_True', 'Weekend_False', 'Region_7', 'Region_9', 'Administrative_Duration', 'Region_1', 'Region_4', 'Informational', 'Informational_Duration', 'Administrative', 'Month_Dec', 'ProductRelated', 'SpecialDay', 'Month_Mar']\n",
      "M61 subset score (3.): 0.8800821481297414\n"
     ]
    },
    {
     "name": "stderr",
     "output_type": "stream",
     "text": [
      "C:\\Users\\unieuro\\anaconda3\\lib\\site-packages\\sklearn\\svm\\_base.py:1206: ConvergenceWarning: Liblinear failed to converge, increase the number of iterations.\n",
      "  warnings.warn(\n",
      "C:\\Users\\unieuro\\anaconda3\\lib\\site-packages\\sklearn\\svm\\_base.py:1206: ConvergenceWarning: Liblinear failed to converge, increase the number of iterations.\n",
      "  warnings.warn(\n",
      "C:\\Users\\unieuro\\anaconda3\\lib\\site-packages\\sklearn\\svm\\_base.py:1206: ConvergenceWarning: Liblinear failed to converge, increase the number of iterations.\n",
      "  warnings.warn(\n",
      "C:\\Users\\unieuro\\anaconda3\\lib\\site-packages\\sklearn\\svm\\_base.py:1206: ConvergenceWarning: Liblinear failed to converge, increase the number of iterations.\n",
      "  warnings.warn(\n",
      "C:\\Users\\unieuro\\anaconda3\\lib\\site-packages\\sklearn\\svm\\_base.py:1206: ConvergenceWarning: Liblinear failed to converge, increase the number of iterations.\n",
      "  warnings.warn(\n",
      "C:\\Users\\unieuro\\anaconda3\\lib\\site-packages\\sklearn\\svm\\_base.py:1206: ConvergenceWarning: Liblinear failed to converge, increase the number of iterations.\n",
      "  warnings.warn(\n"
     ]
    },
    {
     "name": "stdout",
     "output_type": "stream",
     "text": [
      "............\n",
      "Best model (M62) with 62 features: ['PageValues', 'ExitRates', 'TrafficType_2', 'OperatingSystems_2', 'TrafficType_11', 'TrafficType_5', 'OperatingSystems_3', 'Browser_10', 'Browser_3', 'Browser_7', 'Browser_8', 'Month_Oct', 'Browser_13', 'Month_June', 'OperatingSystems_1', 'OperatingSystems_4', 'OperatingSystems_6', 'OperatingSystems_8', 'Region_3', 'Browser_4', 'TrafficType_8', 'VisitorType_New_Visitor', 'Browser_5', 'TrafficType_13', 'TrafficType_20', 'VisitorType_Other', 'Browser_2', 'Month_Aug', 'Month_Feb', 'Region_5', 'Region_8', 'TrafficType_1', 'TrafficType_15', 'TrafficType_19', 'TrafficType_4', 'TrafficType_6', 'TrafficType_7', 'TrafficType_9', 'Month_Sep', 'VisitorType_Returning_Visitor', 'Region_2', 'BounceRates', 'Region_6', 'TrafficType_3', 'Browser_1', 'Browser_6', 'TrafficType_10', 'Weekend_True', 'Weekend_False', 'Region_7', 'Region_9', 'Administrative_Duration', 'Region_1', 'Region_4', 'Informational', 'Informational_Duration', 'Administrative', 'Month_Dec', 'ProductRelated', 'SpecialDay', 'Month_Mar', 'Month_Jul']\n",
      "M62 subset score (3.): 0.8799739815532135\n"
     ]
    },
    {
     "name": "stderr",
     "output_type": "stream",
     "text": [
      "C:\\Users\\unieuro\\anaconda3\\lib\\site-packages\\sklearn\\svm\\_base.py:1206: ConvergenceWarning: Liblinear failed to converge, increase the number of iterations.\n",
      "  warnings.warn(\n",
      "C:\\Users\\unieuro\\anaconda3\\lib\\site-packages\\sklearn\\svm\\_base.py:1206: ConvergenceWarning: Liblinear failed to converge, increase the number of iterations.\n",
      "  warnings.warn(\n"
     ]
    },
    {
     "name": "stdout",
     "output_type": "stream",
     "text": [
      "............\n",
      "Best model (M63) with 63 features: ['PageValues', 'ExitRates', 'TrafficType_2', 'OperatingSystems_2', 'TrafficType_11', 'TrafficType_5', 'OperatingSystems_3', 'Browser_10', 'Browser_3', 'Browser_7', 'Browser_8', 'Month_Oct', 'Browser_13', 'Month_June', 'OperatingSystems_1', 'OperatingSystems_4', 'OperatingSystems_6', 'OperatingSystems_8', 'Region_3', 'Browser_4', 'TrafficType_8', 'VisitorType_New_Visitor', 'Browser_5', 'TrafficType_13', 'TrafficType_20', 'VisitorType_Other', 'Browser_2', 'Month_Aug', 'Month_Feb', 'Region_5', 'Region_8', 'TrafficType_1', 'TrafficType_15', 'TrafficType_19', 'TrafficType_4', 'TrafficType_6', 'TrafficType_7', 'TrafficType_9', 'Month_Sep', 'VisitorType_Returning_Visitor', 'Region_2', 'BounceRates', 'Region_6', 'TrafficType_3', 'Browser_1', 'Browser_6', 'TrafficType_10', 'Weekend_True', 'Weekend_False', 'Region_7', 'Region_9', 'Administrative_Duration', 'Region_1', 'Region_4', 'Informational', 'Informational_Duration', 'Administrative', 'Month_Dec', 'ProductRelated', 'SpecialDay', 'Month_Mar', 'Month_Jul', 'Month_May']\n",
      "M63 subset score (3.): 0.879000657769722\n"
     ]
    },
    {
     "name": "stderr",
     "output_type": "stream",
     "text": [
      "C:\\Users\\unieuro\\anaconda3\\lib\\site-packages\\sklearn\\svm\\_base.py:1206: ConvergenceWarning: Liblinear failed to converge, increase the number of iterations.\n",
      "  warnings.warn(\n",
      "C:\\Users\\unieuro\\anaconda3\\lib\\site-packages\\sklearn\\svm\\_base.py:1206: ConvergenceWarning: Liblinear failed to converge, increase the number of iterations.\n",
      "  warnings.warn(\n",
      "C:\\Users\\unieuro\\anaconda3\\lib\\site-packages\\sklearn\\svm\\_base.py:1206: ConvergenceWarning: Liblinear failed to converge, increase the number of iterations.\n",
      "  warnings.warn(\n",
      "C:\\Users\\unieuro\\anaconda3\\lib\\site-packages\\sklearn\\svm\\_base.py:1206: ConvergenceWarning: Liblinear failed to converge, increase the number of iterations.\n",
      "  warnings.warn(\n"
     ]
    },
    {
     "name": "stdout",
     "output_type": "stream",
     "text": [
      "............\n",
      "Best model (M64) with 64 features: ['PageValues', 'ExitRates', 'TrafficType_2', 'OperatingSystems_2', 'TrafficType_11', 'TrafficType_5', 'OperatingSystems_3', 'Browser_10', 'Browser_3', 'Browser_7', 'Browser_8', 'Month_Oct', 'Browser_13', 'Month_June', 'OperatingSystems_1', 'OperatingSystems_4', 'OperatingSystems_6', 'OperatingSystems_8', 'Region_3', 'Browser_4', 'TrafficType_8', 'VisitorType_New_Visitor', 'Browser_5', 'TrafficType_13', 'TrafficType_20', 'VisitorType_Other', 'Browser_2', 'Month_Aug', 'Month_Feb', 'Region_5', 'Region_8', 'TrafficType_1', 'TrafficType_15', 'TrafficType_19', 'TrafficType_4', 'TrafficType_6', 'TrafficType_7', 'TrafficType_9', 'Month_Sep', 'VisitorType_Returning_Visitor', 'Region_2', 'BounceRates', 'Region_6', 'TrafficType_3', 'Browser_1', 'Browser_6', 'TrafficType_10', 'Weekend_True', 'Weekend_False', 'Region_7', 'Region_9', 'Administrative_Duration', 'Region_1', 'Region_4', 'Informational', 'Informational_Duration', 'Administrative', 'Month_Dec', 'ProductRelated', 'SpecialDay', 'Month_Mar', 'Month_Jul', 'Month_May', 'Month_Nov']\n",
      "M64 subset score (3.): 0.8791088828146698\n"
     ]
    },
    {
     "name": "stderr",
     "output_type": "stream",
     "text": [
      "C:\\Users\\unieuro\\anaconda3\\lib\\site-packages\\sklearn\\svm\\_base.py:1206: ConvergenceWarning: Liblinear failed to converge, increase the number of iterations.\n",
      "  warnings.warn(\n",
      "C:\\Users\\unieuro\\anaconda3\\lib\\site-packages\\sklearn\\svm\\_base.py:1206: ConvergenceWarning: Liblinear failed to converge, increase the number of iterations.\n",
      "  warnings.warn(\n",
      "C:\\Users\\unieuro\\anaconda3\\lib\\site-packages\\sklearn\\svm\\_base.py:1206: ConvergenceWarning: Liblinear failed to converge, increase the number of iterations.\n",
      "  warnings.warn(\n",
      "C:\\Users\\unieuro\\anaconda3\\lib\\site-packages\\sklearn\\svm\\_base.py:1206: ConvergenceWarning: Liblinear failed to converge, increase the number of iterations.\n",
      "  warnings.warn(\n",
      "C:\\Users\\unieuro\\anaconda3\\lib\\site-packages\\sklearn\\svm\\_base.py:1206: ConvergenceWarning: Liblinear failed to converge, increase the number of iterations.\n",
      "  warnings.warn(\n"
     ]
    },
    {
     "name": "stdout",
     "output_type": "stream",
     "text": [
      "............\n",
      "Best model (M65) with 65 features: ['PageValues', 'ExitRates', 'TrafficType_2', 'OperatingSystems_2', 'TrafficType_11', 'TrafficType_5', 'OperatingSystems_3', 'Browser_10', 'Browser_3', 'Browser_7', 'Browser_8', 'Month_Oct', 'Browser_13', 'Month_June', 'OperatingSystems_1', 'OperatingSystems_4', 'OperatingSystems_6', 'OperatingSystems_8', 'Region_3', 'Browser_4', 'TrafficType_8', 'VisitorType_New_Visitor', 'Browser_5', 'TrafficType_13', 'TrafficType_20', 'VisitorType_Other', 'Browser_2', 'Month_Aug', 'Month_Feb', 'Region_5', 'Region_8', 'TrafficType_1', 'TrafficType_15', 'TrafficType_19', 'TrafficType_4', 'TrafficType_6', 'TrafficType_7', 'TrafficType_9', 'Month_Sep', 'VisitorType_Returning_Visitor', 'Region_2', 'BounceRates', 'Region_6', 'TrafficType_3', 'Browser_1', 'Browser_6', 'TrafficType_10', 'Weekend_True', 'Weekend_False', 'Region_7', 'Region_9', 'Administrative_Duration', 'Region_1', 'Region_4', 'Informational', 'Informational_Duration', 'Administrative', 'Month_Dec', 'ProductRelated', 'SpecialDay', 'Month_Mar', 'Month_Jul', 'Month_May', 'Month_Nov', 'ProductRelated_Duration']\n",
      "M65 subset score (3.): 0.8786763334453978\n",
      "\n",
      " Best configuration has 24 features\n",
      "Features: ['PageValues', 'ExitRates', 'TrafficType_2', 'OperatingSystems_2', 'TrafficType_11', 'TrafficType_5', 'OperatingSystems_3', 'Browser_10', 'Browser_3', 'Browser_7', 'Browser_8', 'Month_Oct', 'Browser_13', 'Month_June', 'OperatingSystems_1', 'OperatingSystems_4', 'OperatingSystems_6', 'OperatingSystems_8', 'Region_3', 'Browser_4', 'TrafficType_8', 'VisitorType_New_Visitor', 'Browser_5', 'TrafficType_13']\n",
      "Total number of trained models: 2470\n"
     ]
    },
    {
     "data": {
      "text/plain": [
       "['PageValues',\n",
       " 'ExitRates',\n",
       " 'TrafficType_2',\n",
       " 'OperatingSystems_2',\n",
       " 'TrafficType_11',\n",
       " 'TrafficType_5',\n",
       " 'OperatingSystems_3',\n",
       " 'Browser_10',\n",
       " 'Browser_3',\n",
       " 'Browser_7',\n",
       " 'Browser_8',\n",
       " 'Month_Oct',\n",
       " 'Browser_13',\n",
       " 'Month_June',\n",
       " 'OperatingSystems_1',\n",
       " 'OperatingSystems_4',\n",
       " 'OperatingSystems_6',\n",
       " 'OperatingSystems_8',\n",
       " 'Region_3',\n",
       " 'Browser_4',\n",
       " 'TrafficType_8',\n",
       " 'VisitorType_New_Visitor',\n",
       " 'Browser_5',\n",
       " 'TrafficType_13']"
      ]
     },
     "execution_count": 29,
     "metadata": {},
     "output_type": "execute_result"
    }
   ],
   "source": [
    "import warnings\n",
    "#warnings.filterwarnings(\"ignore\")\n",
    "warnings.filterwarnings(\"default\")\n",
    "\n",
    "cv = KFold(n_splits=5, random_state=42, shuffle=True)\n",
    "features_SVM = forward_selection(X_train_scaled, y_train, \"SVM\",\n",
    "                  get_evaluator(make_scorer(accuracy)), np.argmax, # 2.\n",
    "                  get_cv_evaluator(make_scorer(accuracy), cv), np.argmax, # 3.\n",
    "                  candidates_scorer_name=\"Accuracy\",\n",
    "                  subsets_scorer_name=\"Accuracy (CV)\",\n",
    "                  verbose=True, weight_step3=cv.n_splits)\n",
    "features_SVM"
   ]
  },
  {
   "cell_type": "code",
   "execution_count": 30,
   "id": "349158e7",
   "metadata": {},
   "outputs": [
    {
     "name": "stderr",
     "output_type": "stream",
     "text": [
      "C:\\Users\\unieuro\\anaconda3\\lib\\site-packages\\sklearn\\svm\\_base.py:1206: ConvergenceWarning: Liblinear failed to converge, increase the number of iterations.\n",
      "  warnings.warn(\n"
     ]
    }
   ],
   "source": [
    "model_SVM = LinearSVC()\n",
    "model_SVM = model_SVM.fit(X_train_scaled[features_SVM],y_train)"
   ]
  },
  {
   "cell_type": "code",
   "execution_count": 31,
   "id": "62db157d",
   "metadata": {},
   "outputs": [
    {
     "data": {
      "text/html": [
       "<div>\n",
       "<style scoped>\n",
       "    .dataframe tbody tr th:only-of-type {\n",
       "        vertical-align: middle;\n",
       "    }\n",
       "\n",
       "    .dataframe tbody tr th {\n",
       "        vertical-align: top;\n",
       "    }\n",
       "\n",
       "    .dataframe thead th {\n",
       "        text-align: right;\n",
       "    }\n",
       "</style>\n",
       "<table border=\"1\" class=\"dataframe\">\n",
       "  <thead>\n",
       "    <tr style=\"text-align: right;\">\n",
       "      <th></th>\n",
       "      <th>Model</th>\n",
       "      <th>Accuracy</th>\n",
       "      <th>Sensitivity</th>\n",
       "      <th>Specificity</th>\n",
       "    </tr>\n",
       "  </thead>\n",
       "  <tbody>\n",
       "    <tr>\n",
       "      <th>0</th>\n",
       "      <td>SVM</td>\n",
       "      <td>0.881163</td>\n",
       "      <td>0.33379</td>\n",
       "      <td>0.775894</td>\n",
       "    </tr>\n",
       "  </tbody>\n",
       "</table>\n",
       "</div>"
      ],
      "text/plain": [
       "  Model  Accuracy  Sensitivity  Specificity\n",
       "0   SVM  0.881163      0.33379     0.775894"
      ]
     },
     "execution_count": 31,
     "metadata": {},
     "output_type": "execute_result"
    }
   ],
   "source": [
    "train_scores_SVM = classification_metrics_training(model_SVM, \"SVM\", X_train_scaled[features_SVM], y_train, cv)\n",
    "train_scores_SVM"
   ]
  },
  {
   "cell_type": "code",
   "execution_count": 32,
   "id": "bd05b05f",
   "metadata": {},
   "outputs": [],
   "source": [
    "#train_scores_SVM_empirical = classification_metrics_empirical_threshold(model_SVM, 'SVM', X_train_scaled[features_SVM], y_train, empirical_threshold)\n",
    "#train_scores_SVM_empirical"
   ]
  },
  {
   "cell_type": "markdown",
   "id": "4fff5c13",
   "metadata": {},
   "source": [
    "## Algorithm comparison"
   ]
  },
  {
   "cell_type": "markdown",
   "id": "8418f866",
   "metadata": {},
   "source": [
    "### Metric comparison"
   ]
  },
  {
   "cell_type": "markdown",
   "id": "d769180a",
   "metadata": {},
   "source": [
    "#### Threshold = 0.5"
   ]
  },
  {
   "cell_type": "code",
   "execution_count": 33,
   "id": "9660726d",
   "metadata": {},
   "outputs": [
    {
     "data": {
      "text/html": [
       "<div>\n",
       "<style scoped>\n",
       "    .dataframe tbody tr th:only-of-type {\n",
       "        vertical-align: middle;\n",
       "    }\n",
       "\n",
       "    .dataframe tbody tr th {\n",
       "        vertical-align: top;\n",
       "    }\n",
       "\n",
       "    .dataframe thead th {\n",
       "        text-align: right;\n",
       "    }\n",
       "</style>\n",
       "<table border=\"1\" class=\"dataframe\">\n",
       "  <thead>\n",
       "    <tr style=\"text-align: right;\">\n",
       "      <th></th>\n",
       "      <th>Model</th>\n",
       "      <th>Accuracy</th>\n",
       "      <th>Sensitivity</th>\n",
       "      <th>Specificity</th>\n",
       "    </tr>\n",
       "  </thead>\n",
       "  <tbody>\n",
       "    <tr>\n",
       "      <th>0</th>\n",
       "      <td>LogisticRegression</td>\n",
       "      <td>0.883326</td>\n",
       "      <td>0.358404</td>\n",
       "      <td>0.770811</td>\n",
       "    </tr>\n",
       "    <tr>\n",
       "      <th>0</th>\n",
       "      <td>LDA</td>\n",
       "      <td>0.880839</td>\n",
       "      <td>0.324807</td>\n",
       "      <td>0.784963</td>\n",
       "    </tr>\n",
       "    <tr>\n",
       "      <th>0</th>\n",
       "      <td>QDA</td>\n",
       "      <td>0.889273</td>\n",
       "      <td>0.458385</td>\n",
       "      <td>0.730068</td>\n",
       "    </tr>\n",
       "    <tr>\n",
       "      <th>0</th>\n",
       "      <td>KNN</td>\n",
       "      <td>0.861808</td>\n",
       "      <td>0.190424</td>\n",
       "      <td>0.712251</td>\n",
       "    </tr>\n",
       "    <tr>\n",
       "      <th>0</th>\n",
       "      <td>KNN</td>\n",
       "      <td>0.861916</td>\n",
       "      <td>0.191162</td>\n",
       "      <td>0.713084</td>\n",
       "    </tr>\n",
       "    <tr>\n",
       "      <th>0</th>\n",
       "      <td>SVM</td>\n",
       "      <td>0.881163</td>\n",
       "      <td>0.333790</td>\n",
       "      <td>0.775894</td>\n",
       "    </tr>\n",
       "  </tbody>\n",
       "</table>\n",
       "</div>"
      ],
      "text/plain": [
       "                Model  Accuracy  Sensitivity  Specificity\n",
       "0  LogisticRegression  0.883326     0.358404     0.770811\n",
       "0                 LDA  0.880839     0.324807     0.784963\n",
       "0                 QDA  0.889273     0.458385     0.730068\n",
       "0                 KNN  0.861808     0.190424     0.712251\n",
       "0                 KNN  0.861916     0.191162     0.713084\n",
       "0                 SVM  0.881163     0.333790     0.775894"
      ]
     },
     "execution_count": 33,
     "metadata": {},
     "output_type": "execute_result"
    }
   ],
   "source": [
    "metrics_df = pd.concat([train_scores_logistic,train_scores_LDA,train_scores_QDA,train_scores_KNN_all,train_scores_KNN_numeric,train_scores_SVM],axis=0)\n",
    "metrics_df"
   ]
  },
  {
   "cell_type": "markdown",
   "id": "611b6d11",
   "metadata": {},
   "source": [
    "#### Empirical threshold"
   ]
  },
  {
   "cell_type": "code",
   "execution_count": 34,
   "id": "e60add0f",
   "metadata": {},
   "outputs": [
    {
     "data": {
      "text/html": [
       "<div>\n",
       "<style scoped>\n",
       "    .dataframe tbody tr th:only-of-type {\n",
       "        vertical-align: middle;\n",
       "    }\n",
       "\n",
       "    .dataframe tbody tr th {\n",
       "        vertical-align: top;\n",
       "    }\n",
       "\n",
       "    .dataframe thead th {\n",
       "        text-align: right;\n",
       "    }\n",
       "</style>\n",
       "<table border=\"1\" class=\"dataframe\">\n",
       "  <thead>\n",
       "    <tr style=\"text-align: right;\">\n",
       "      <th></th>\n",
       "      <th>Model</th>\n",
       "      <th>Accuracy</th>\n",
       "      <th>Sensitivity</th>\n",
       "      <th>Specificity</th>\n",
       "    </tr>\n",
       "  </thead>\n",
       "  <tbody>\n",
       "    <tr>\n",
       "      <th>0</th>\n",
       "      <td>LogisticRegression</td>\n",
       "      <td>0.881812</td>\n",
       "      <td>0.653019</td>\n",
       "      <td>0.613429</td>\n",
       "    </tr>\n",
       "    <tr>\n",
       "      <th>0</th>\n",
       "      <td>LDA</td>\n",
       "      <td>0.889273</td>\n",
       "      <td>0.554476</td>\n",
       "      <td>0.676545</td>\n",
       "    </tr>\n",
       "    <tr>\n",
       "      <th>0</th>\n",
       "      <td>QDA</td>\n",
       "      <td>0.801579</td>\n",
       "      <td>0.664122</td>\n",
       "      <td>0.414645</td>\n",
       "    </tr>\n",
       "    <tr>\n",
       "      <th>0</th>\n",
       "      <td>KNN</td>\n",
       "      <td>0.824070</td>\n",
       "      <td>0.816794</td>\n",
       "      <td>0.463386</td>\n",
       "    </tr>\n",
       "    <tr>\n",
       "      <th>0</th>\n",
       "      <td>KNN</td>\n",
       "      <td>0.823638</td>\n",
       "      <td>0.815406</td>\n",
       "      <td>0.462598</td>\n",
       "    </tr>\n",
       "  </tbody>\n",
       "</table>\n",
       "</div>"
      ],
      "text/plain": [
       "                Model  Accuracy  Sensitivity  Specificity\n",
       "0  LogisticRegression  0.881812     0.653019     0.613429\n",
       "0                 LDA  0.889273     0.554476     0.676545\n",
       "0                 QDA  0.801579     0.664122     0.414645\n",
       "0                 KNN  0.824070     0.816794     0.463386\n",
       "0                 KNN  0.823638     0.815406     0.462598"
      ]
     },
     "execution_count": 34,
     "metadata": {},
     "output_type": "execute_result"
    }
   ],
   "source": [
    "metrics_df_empirical = pd.concat([train_scores_logistic_empirical,train_scores_LDA_empirical,train_scores_QDA_empirical,train_scores_KNN_all_empirical,train_scores_KNN_numeric_empirical],axis=0)\n",
    "metrics_df_empirical"
   ]
  },
  {
   "cell_type": "code",
   "execution_count": 36,
   "id": "45ae2a35",
   "metadata": {},
   "outputs": [
    {
     "data": {
      "text/plain": [
       "LogisticRegression(max_iter=1000, penalty='none', solver='newton-cg')"
      ]
     },
     "execution_count": 36,
     "metadata": {},
     "output_type": "execute_result"
    },
    {
     "data": {
      "text/plain": [
       "LinearDiscriminantAnalysis(store_covariance=True)"
      ]
     },
     "execution_count": 36,
     "metadata": {},
     "output_type": "execute_result"
    },
    {
     "data": {
      "text/plain": [
       "QuadraticDiscriminantAnalysis(store_covariance=True)"
      ]
     },
     "execution_count": 36,
     "metadata": {},
     "output_type": "execute_result"
    },
    {
     "data": {
      "text/plain": [
       "KNeighborsClassifier(n_neighbors=8)"
      ]
     },
     "execution_count": 36,
     "metadata": {},
     "output_type": "execute_result"
    },
    {
     "data": {
      "text/plain": [
       "KNeighborsClassifier(n_neighbors=8)"
      ]
     },
     "execution_count": 36,
     "metadata": {},
     "output_type": "execute_result"
    },
    {
     "data": {
      "text/plain": [
       "[0.8618030563329214,\n",
       " 0.8780395749752864,\n",
       " 0.8387214467131983,\n",
       " 0.9071313782973999,\n",
       " 0.9059376774184488]"
      ]
     },
     "execution_count": 36,
     "metadata": {},
     "output_type": "execute_result"
    },
    {
     "data": {
      "image/png": "[encoded data removed]",
      "text/plain": [
       "<Figure size 640x480 with 1 Axes>"
      ]
     },
     "metadata": {},
     "output_type": "display_data"
    }
   ],
   "source": [
    "from sklearn.metrics import roc_curve\n",
    "\n",
    "def plot_roc(predict_fn, X, y, label=None):\n",
    "    fprs, tprs, t = roc_curve(y, predict_fn(X)[:,-1])\n",
    "    \n",
    "    # Plot the ROC\n",
    "    plt.plot(fprs, tprs, label=\"ROC \"+label)\n",
    "    plt.xlabel(\"FPR = 1 - specificity\")\n",
    "    plt.ylabel(\"TPR = sensitivity\")\n",
    "    plt.legend()\n",
    "\n",
    "auc_list = []\n",
    "\n",
    "for name, model, X in [('lr', model_logistic, X_train_scaled[features_logistic]), \n",
    "                    ('lda', model_LDA, X_train_scaled[features_LDA]), \n",
    "                    ('qda', model_QDA, X_train_scaled[features_QDA]),\n",
    "                    #('SVM', model_SVM,X_train_scaled[features_SVM]),\n",
    "                    ('KNN-all', model_KNN_all, X_train),\n",
    "                    ('KNN-numeric', model_KNN_numeric, X_train[numeric_features])\n",
    "                   ]:\n",
    "    model.fit(X, y_train) # sistemare questa parte, fitta i modelli prima in modo che sia tutto ok\n",
    "    plot_roc(model.predict_proba, X, y_train, name)\n",
    "    y_prob_pred = model.predict_proba(X)[:, 1]\n",
    "    auc = roc_auc_score(y_train, y_prob_pred)\n",
    "    auc_list.append(auc)\n",
    "auc_list"
   ]
  },
  {
   "cell_type": "code",
   "execution_count": null,
   "id": "055f4667",
   "metadata": {},
   "outputs": [],
   "source": []
  }
 ],
 "metadata": {
  "kernelspec": {
   "display_name": "Python 3 (ipykernel)",
   "language": "python",
   "name": "python3"
  },
  "language_info": {
   "codemirror_mode": {
    "name": "ipython",
    "version": 3
   },
   "file_extension": ".py",
   "mimetype": "text/x-python",
   "name": "python",
   "nbconvert_exporter": "python",
   "pygments_lexer": "ipython3",
   "version": "3.9.13"
  }
 },
 "nbformat": 4,
 "nbformat_minor": 5
}
