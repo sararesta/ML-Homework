{
 "cells": [
  {
   "cell_type": "markdown",
   "id": "547a6093",
   "metadata": {},
   "source": [
    "# 2. Classification"
   ]
  },
  {
   "cell_type": "code",
   "execution_count": 1,
   "id": "82fa7b16",
   "metadata": {},
   "outputs": [],
   "source": [
    "# Run this code to make Jupyter print every\n",
    "# printable statement and not just the last one\n",
    "import warnings\n",
    "warnings.filterwarnings(\"ignore\")\n",
    "from IPython.core.interactiveshell import InteractiveShell\n",
    "InteractiveShell.ast_node_interactivity = \"all\"\n",
    "\n",
    "# To visualize the data\n",
    "import matplotlib.pyplot as plt\n",
    "\n",
    "# Generic libraries\n",
    "import seaborn as sns\n",
    "import pandas as pd\n",
    "import numpy as np\n",
    "\n",
    "# Regression models\n",
    "import sklearn\n",
    "import scipy\n",
    "from scipy.stats import *\n",
    "import sklearn\n",
    "from sklearn.model_selection import train_test_split, GridSearchCV #split the data into training and test\n",
    "from sklearn.linear_model import LinearRegression #linear regression\n",
    "from sklearn.preprocessing import PolynomialFeatures #for polynomial regression\n",
    "from sklearn.metrics import r2_score, mean_squared_error\n",
    "\n",
    "# 5-folds crossvalidation\n",
    "from sklearn.model_selection import cross_val_score\n",
    "from sklearn.metrics import make_scorer, classification_report, roc_auc_score\n",
    "from sklearn.pipeline import Pipeline\n",
    "\n",
    "#classification\n",
    "from sklearn.linear_model import LogisticRegression\n",
    "from sklearn.discriminant_analysis import LinearDiscriminantAnalysis as LDA\n",
    "from sklearn.discriminant_analysis import QuadraticDiscriminantAnalysis as QDA\n",
    "from sklearn.neighbors import KNeighborsClassifier \n",
    "from sklearn.model_selection import KFold\n",
    "from sklearn.svm import SVC\n",
    "from sklearn.svm import LinearSVC"
   ]
  },
  {
   "cell_type": "markdown",
   "id": "3bb4a7cb",
   "metadata": {},
   "source": [
    "## Preprocessing"
   ]
  },
  {
   "cell_type": "code",
   "execution_count": 2,
   "id": "37d14762",
   "metadata": {},
   "outputs": [],
   "source": [
    "training_set = pd.read_csv(\"online_shoppers_intention.csv\")\n",
    "\n",
    "#test_set = pd.read_csv(\"test_set_complete.csv\")\n",
    "#training_set = training_set.drop(columns=['Unnamed: 0'])\n",
    "#test_set = test_set.drop(columns=['Unnamed: 0'])\n",
    "#training_set['Revenue'] = training_set['Revenue'].astype(int)\n",
    "\n",
    "# DA TOGLIERE UNA VOLTA CHE UNIAMO I NOTEBOOK!!!!\n",
    "\n",
    "training_set['Month']=training_set['Month'].astype('category')\n",
    "training_set['OperatingSystems']=training_set['OperatingSystems'].astype('category')\n",
    "training_set['Browser']=training_set['Browser'].astype('category')\n",
    "training_set['Region']=training_set['Region'].astype('category')\n",
    "training_set['TrafficType']=training_set['TrafficType'].astype('category')\n",
    "training_set['VisitorType']=training_set['VisitorType'].astype('category')\n",
    "training_set['Weekend']=training_set['Weekend'].astype('category')\n",
    "#training_set['Revenue']=training_set['Revenue'].astype('category')\n",
    "\n",
    "\n",
    "# We uniform the categories between training and test set\n",
    "\n",
    "all_categories_browser = list(range(1,14))\n",
    "all_categories_traffic_type = list(range(1,21))\n",
    "training_set['Browser'] = training_set['Browser'].cat.set_categories(all_categories_browser)\n",
    "training_set['TrafficType'] = training_set['TrafficType'].cat.set_categories(all_categories_traffic_type)\n",
    "#training_set['Weekend'] = np.where(training_set['Weekend']=='True',1,0)\n",
    "\n",
    "training_set = pd.get_dummies(training_set, columns=['Month', 'OperatingSystems', 'Browser', 'Region', 'TrafficType', 'VisitorType','Weekend'], drop_first=False)\n",
    "\n",
    "\n",
    "\n",
    "#test_set['Revenue'] = test_set['Revenue'].astype(int)\n",
    "#training_set['Revenue'].value_counts()\n",
    "#test_set['Revenue'].value_counts()\n",
    "categorical_features = ['Month_Aug', 'Month_Dec', 'Month_Feb', 'Month_Jul', 'Month_June',\n",
    "       'Month_Mar', 'Month_May', 'Month_Nov', 'Month_Oct', 'Month_Sep',\n",
    "       'OperatingSystems_1', 'OperatingSystems_2', 'OperatingSystems_3',\n",
    "       'OperatingSystems_4', 'OperatingSystems_5', 'OperatingSystems_6',\n",
    "       'OperatingSystems_7', 'OperatingSystems_8', 'Browser_1', 'Browser_2',\n",
    "       'Browser_3', 'Browser_4', 'Browser_5', 'Browser_6', 'Browser_7',\n",
    "       'Browser_8', 'Browser_9', 'Browser_10', 'Browser_11', 'Browser_12',\n",
    "       'Browser_13', 'Region_1', 'Region_2', 'Region_3', 'Region_4',\n",
    "       'Region_5', 'Region_6', 'Region_7', 'Region_8', 'Region_9',\n",
    "       'TrafficType_1', 'TrafficType_2', 'TrafficType_3', 'TrafficType_4',\n",
    "       'TrafficType_5', 'TrafficType_6', 'TrafficType_7', 'TrafficType_8',\n",
    "       'TrafficType_9', 'TrafficType_10', 'TrafficType_11', 'TrafficType_12',\n",
    "       'TrafficType_13', 'TrafficType_14', 'TrafficType_15', 'TrafficType_16',\n",
    "       'TrafficType_17', 'TrafficType_18', 'TrafficType_19', 'TrafficType_20',\n",
    "       'VisitorType_New_Visitor', 'VisitorType_Other',\n",
    "       'VisitorType_Returning_Visitor', 'Weekend_False', 'Weekend_True']\n",
    "#training_set[categorical_features] = training_set[categorical_features].astype('category')\n",
    "#test_set[categorical_features] = test_set[categorical_features].astype('category')"
   ]
  },
  {
   "cell_type": "code",
   "execution_count": 3,
   "id": "0a8acdf4",
   "metadata": {},
   "outputs": [],
   "source": [
    "X_train_full = training_set.drop(columns=['Revenue'])\n",
    "#X_test_full = test_set.drop(columns=['Revenue'])\n",
    "y_train = training_set['Revenue']\n",
    "#y_test = test_set['Revenue']"
   ]
  },
  {
   "cell_type": "markdown",
   "id": "f0ef0717",
   "metadata": {},
   "source": [
    "### Variance selection\n",
    "We apply variance selection to remove all the features with a very low variance."
   ]
  },
  {
   "cell_type": "code",
   "execution_count": 4,
   "id": "4622c48b",
   "metadata": {},
   "outputs": [
    {
     "name": "stdout",
     "output_type": "stream",
     "text": [
      "['Administrative', 'Administrative_Duration', 'Informational', 'Informational_Duration', 'ProductRelated', 'ProductRelated_Duration', 'BounceRates', 'ExitRates', 'PageValues', 'SpecialDay', 'Month_Aug', 'Month_Dec', 'Month_Feb', 'Month_Jul', 'Month_June', 'Month_Mar', 'Month_May', 'Month_Nov', 'Month_Oct', 'Month_Sep', 'OperatingSystems_1', 'OperatingSystems_2', 'OperatingSystems_3', 'OperatingSystems_4', 'OperatingSystems_6', 'OperatingSystems_8', 'Browser_1', 'Browser_2', 'Browser_3', 'Browser_4', 'Browser_5', 'Browser_6', 'Browser_7', 'Browser_8', 'Browser_10', 'Browser_13', 'Region_1', 'Region_2', 'Region_3', 'Region_4', 'Region_5', 'Region_6', 'Region_7', 'Region_8', 'Region_9', 'TrafficType_1', 'TrafficType_2', 'TrafficType_3', 'TrafficType_4', 'TrafficType_5', 'TrafficType_6', 'TrafficType_7', 'TrafficType_8', 'TrafficType_9', 'TrafficType_10', 'TrafficType_11', 'TrafficType_13', 'TrafficType_14', 'TrafficType_15', 'TrafficType_19', 'TrafficType_20', 'VisitorType_New_Visitor', 'VisitorType_Other', 'VisitorType_Returning_Visitor', 'Weekend_False', 'Weekend_True']\n"
     ]
    },
    {
     "data": {
      "text/plain": [
       "66"
      ]
     },
     "execution_count": 4,
     "metadata": {},
     "output_type": "execute_result"
    }
   ],
   "source": [
    "from sklearn.feature_selection import VarianceThreshold\n",
    "\n",
    "threshold = 0.001  # Soglia di varianza desiderata\n",
    "variance_selector = VarianceThreshold(threshold=threshold)\n",
    "\n",
    "# Applicazione della selezione della varianza sul dataset\n",
    "\n",
    "X_train = X_train_full.loc[:, variance_selector.fit(X_train_full).get_support()]\n",
    "columns_remaining = X_train.columns.tolist()\n",
    "\n",
    "#X_test = X_test_full[columns_remaining]\n",
    "print(X_train.columns.tolist())\n",
    "len(columns_remaining)"
   ]
  },
  {
   "cell_type": "markdown",
   "id": "63e2ae20",
   "metadata": {},
   "source": [
    "### Functions and algorithms"
   ]
  },
  {
   "cell_type": "markdown",
   "id": "6dfbd150",
   "metadata": {},
   "source": [
    "#### Feature selection: Forward stepwise selection\n",
    "We chose this algorithm because it's more scalable on a big dataset."
   ]
  },
  {
   "cell_type": "code",
   "execution_count": 5,
   "id": "f488230e",
   "metadata": {},
   "outputs": [],
   "source": [
    "from sklearn.dummy import DummyRegressor\n",
    "from sklearn.model_selection import cross_val_score\n",
    "from sklearn.metrics import make_scorer\n",
    "\n",
    "def get_evaluator(scorer):\n",
    "    def evaluator(model, X, y, trained=False):\n",
    "        if not trained:\n",
    "            model = model.fit(X, y)\n",
    "        score = scorer(model, X, y)\n",
    "        return model, score\n",
    "    return evaluator   \n",
    "\n",
    "def get_cv_evaluator(scorer, cv=3):\n",
    "    def evaluator(model, X, y, trained=False):            \n",
    "        scores = cross_val_score(model, X, y, scoring=scorer, cv=cv)\n",
    "        if not trained:\n",
    "            model = model.fit(X, y)\n",
    "        return model, np.mean(scores)\n",
    "    \n",
    "    return evaluator\n",
    "\n",
    "def get_val_evaluator(scorer, val_size=0.1):\n",
    "    def evaluator(model, X, y, trained=False):\n",
    "        X_train_small, X_val, y_train_small, y_val = train_test_split(X, y, \n",
    "                                                                      test_size=val_size,\n",
    "                                                                      random_state=0)\n",
    "        \n",
    "        if not trained:\n",
    "            model = model.fit(X_train_small, y_train_small)\n",
    "        score = scorer(model, X_val, y_val) \n",
    "        \n",
    "        return model, score\n",
    "    \n",
    "    return evaluator\n",
    "\n",
    "\n",
    "possible_models = {\n",
    "    \"LogisticRegression\":LogisticRegression(solver=\"newton-cg\", max_iter=1000),\n",
    "    \"LDA\":LDA(),\n",
    "    \"QDA\":QDA(),\n",
    "    #\"KNN\":KNeighborsClassifier(n_neighbors=6),\n",
    "    \"LinearRegression\":LinearRegression(fit_intercept=True),\n",
    "    \"SVM\":LinearSVC(C=0.1,max_iter=1000)\n",
    "}\n",
    "\n",
    "#da qui inizia il ctrl Z\n",
    "\n",
    "def forward_selection(Xtrain_pd, ytrain, model_chosen,\n",
    "                      candidates_evaluator, candidates_argbest, # Metric to be used at 2.b\n",
    "                      subsets_evaluator, subsets_argbest,       # Metric to be used at 3\n",
    "                      candidates_scorer_name=None,  # Name of 2. figure\n",
    "                      subsets_scorer_name=None,     # Name of 3. figure\n",
    "                      verbose=True, weight_step3=0):   \n",
    "    \n",
    "    \n",
    "    # Global variable init\n",
    "    # ====================\n",
    "    num_features = Xtrain_pd.shape[-1]\n",
    "    best_candidate_metric = []\n",
    "    # subsets_* are lists containing one value for each Mk model (the best of the Mk candidates)\n",
    "    subsets_metric = []        # The best metric of each subset of dimension 'dim'\n",
    "    subsets_best_features = [] # The best features combination in each subset of dimension 'dim'\n",
    "    # A figure to keep track of candidates scores in each Mk subset\n",
    "    num_evaluations = 0        # A conter to keep track of the total number of trials\n",
    "    \n",
    "    selected_features = []\n",
    "    all_features = Xtrain_pd.columns\n",
    "    \n",
    "    \n",
    "    # 1. Train M0\n",
    "    # ===========\n",
    "    model = DummyRegressor()\n",
    "    # Compute (2.b) metrics\n",
    "    model, score = candidates_evaluator(model, Xtrain_pd[[]], ytrain)\n",
    "    best_candidate_metric.append(score)\n",
    "    subsets_best_features.append([])\n",
    "    # Compute metric for step 3.\n",
    "    _, score = subsets_evaluator(model, Xtrain_pd[[]], ytrain, trained=True)\n",
    "    subsets_metric.append(score)\n",
    "    \n",
    "    \n",
    "    for dim in range(num_features):\n",
    "        candidate_metrics = [] # metrics for all the models with dim features\n",
    "        candidate_models = []  # models with dim features\n",
    "        \n",
    "        remaining_features = all_features.difference(selected_features)\n",
    "        \n",
    "        # fit all the models with k features\n",
    "        for new_column in remaining_features:\n",
    "            Xtrain_sub = Xtrain_pd[selected_features+[new_column]].to_numpy()\n",
    "            model = possible_models[model_chosen]\n",
    "            #print(new_column)\n",
    "            model, score = candidates_evaluator(model, Xtrain_sub, ytrain)\n",
    "            candidate_models.append(model)\n",
    "            candidate_metrics.append(score)\n",
    "            num_evaluations += 1\n",
    "            \n",
    "        \n",
    "        idx_best_candidate = candidates_argbest(candidate_metrics) # select the best Mk model\n",
    "        selected_features.append(remaining_features[idx_best_candidate]) # Update selected feature\n",
    "        best_candidate_metric.append(candidate_metrics[idx_best_candidate]) # Save best candidate features\n",
    "        best_features = selected_features.copy()\n",
    "        subsets_best_features.append(best_features)\n",
    "        \n",
    "        \n",
    "        # Compute metric for the final step -> comparison of all the best models\n",
    "        best_subset_model = candidate_models[idx_best_candidate] # save the best model\n",
    "        best_subset_Xtrain = Xtrain_pd[best_features].to_numpy()\n",
    "        _, score = subsets_evaluator(best_subset_model, best_subset_Xtrain, ytrain, trained=True)\n",
    "        subsets_metric.append(score) #computing the metrics for the training set\n",
    "        num_evaluations += weight_step3 \n",
    "        \n",
    "        if verbose:\n",
    "            print(\"............\")\n",
    "            print(\"Best model (M{}) with {} features: {}\".format(dim+1, dim+1, best_features))\n",
    "            print(\"M{} subset score (3.): {}\".format(dim+1, score))\n",
    "        \n",
    "    # choose the best candidates\n",
    "    best_subset_idx = subsets_argbest(subsets_metric)\n",
    "    best_features = subsets_best_features[best_subset_idx]\n",
    "    \n",
    "    if verbose:\n",
    "        print(\"\\n Best configuration has {} features\".format(best_subset_idx))\n",
    "        print(\"Features: {}\".format(subsets_best_features[best_subset_idx]))\n",
    "        print(\"Total number of trained models:\", num_evaluations)\n",
    "    \n",
    "    # Complete the subsets_fig figure by plotting\n",
    "    # a line connecting all best candidate score\n",
    "    best_candidate_score_idx = candidates_argbest(best_candidate_metric)\n",
    "    return best_features\n",
    "    "
   ]
  },
  {
   "cell_type": "markdown",
   "id": "b06c7e91",
   "metadata": {},
   "source": [
    "#### Accuracy"
   ]
  },
  {
   "cell_type": "code",
   "execution_count": 6,
   "id": "6fd571b8",
   "metadata": {},
   "outputs": [],
   "source": [
    "def accuracy(y_pred, y_true):\n",
    "    return (y_pred == y_true).mean()\n",
    "\n",
    "def calculate_sensitivity_specificity(confusion_matrix):\n",
    "    # Extract values from the confusion matrix\n",
    "    TN, FP, FN, TP = confusion_matrix.ravel()\n",
    "\n",
    "    # Calculate Sensitivity (Recall)\n",
    "    sensitivity = TP / (TP + FN)\n",
    "\n",
    "    # Calculate Specificity\n",
    "    specificity = TN / (TN + FP)\n",
    "\n",
    "    return sensitivity, specificity"
   ]
  },
  {
   "cell_type": "markdown",
   "id": "982a7418",
   "metadata": {},
   "source": [
    "#### Evaluation metrics"
   ]
  },
  {
   "cell_type": "code",
   "execution_count": 7,
   "id": "160e03e6",
   "metadata": {},
   "outputs": [],
   "source": [
    "from sklearn.metrics import confusion_matrix\n",
    "\n",
    "def classification_metrics_training(model, model_name, X_train, y_train, cv):\n",
    "    #sensitivity\n",
    "    sensitivity_train = np.mean(np.absolute(cross_val_score(model, X_train, y_train, cv=cv, scoring='recall', n_jobs=-1)))\n",
    "    \n",
    "    #specificity\n",
    "    specificity_train = np.mean(np.absolute(cross_val_score(model, X_train, y_train, cv=cv, scoring='precision', n_jobs=-1)))\n",
    "    \n",
    "    #accuracy\n",
    "    accuracy_train = np.mean(np.absolute(cross_val_score(model, X_train, y_train, cv=cv, scoring='accuracy', n_jobs=-1)))\n",
    "                         \n",
    "    # building a dataframe\n",
    "    data = {\n",
    "        'Model': [model_name],\n",
    "        'Accuracy': [accuracy_train],\n",
    "        'Sensitivity': [sensitivity_train],\n",
    "        'Specificity': [specificity_train],\n",
    "    }\n",
    "    return pd.DataFrame(data)                    "
   ]
  },
  {
   "cell_type": "code",
   "execution_count": 8,
   "id": "e866b1d7",
   "metadata": {},
   "outputs": [],
   "source": [
    "def classification_metrics_test(model, model_name,X_train,y_train,X_test,y_test,threshold):\n",
    "    # building the confusion matrix for test performances\n",
    "    model = model.fit(X_train,y_train)\n",
    "    #ypred = model.predict(X_test)\n",
    "    y_pred_proba = model.predict_proba(X_test)[:, 1]  # Probability of positive class (class 1)\n",
    "\n",
    "    # Convert probabilities to binary predictions\n",
    "    ypred = (y_pred_proba > threshold).astype(int)\n",
    "    \n",
    "    cm = confusion_matrix(y_test.to_numpy(), np.array(ypred))\n",
    "    sensitivity_test, specificity_test = calculate_sensitivity_specificity(cm)\n",
    "    \n",
    "    accuracy_test = accuracy(ypred, y_test)\n",
    "    \n",
    "    # building a dataframe\n",
    "    data = {\n",
    "        'Model': [model_name],\n",
    "        'Accuracy': [accuracy_test],\n",
    "        'Sensitivity': [sensitivity_test],\n",
    "        'Specificity': [specificity_test],\n",
    "    }\n",
    "    return pd.DataFrame(data), cm"
   ]
  },
  {
   "cell_type": "code",
   "execution_count": 9,
   "id": "bd019a07",
   "metadata": {},
   "outputs": [],
   "source": [
    "# We compute the empirical threshold\n",
    "empirical_threshold = y_train.mean()\n",
    "\n",
    "from sklearn.metrics import accuracy_score, precision_score, recall_score, f1_score\n",
    "def classification_metrics_empirical_threshold(model, model_name, X_train, y_train,threshold=0.5):\n",
    "    \n",
    "    model = model.fit(X_train, y_train)\n",
    "    \n",
    "    # Get predicted probabilities\n",
    "    y_pred_proba = model.predict_proba(X_train)[:, 1]  # Probability of positive class (class 1)\n",
    "\n",
    "    # Convert probabilities to binary predictions\n",
    "    y_pred = (y_pred_proba > threshold).astype(int)\n",
    "\n",
    "    # Evaluate the performance using various metrics\n",
    "    accuracy = accuracy_score(y_train, y_pred)\n",
    "    specificity = precision_score(y_train, y_pred)\n",
    "    sensitivity = recall_score(y_train, y_pred)\n",
    "    f1 = f1_score(y_train, y_pred)\n",
    "    \n",
    "    data = {\n",
    "        'Model': [model_name],\n",
    "        'Accuracy': [accuracy],\n",
    "        'Sensitivity': [sensitivity],\n",
    "        'Specificity': [specificity],\n",
    "    }\n",
    "    return pd.DataFrame(data) \n"
   ]
  },
  {
   "cell_type": "markdown",
   "id": "12901cd6",
   "metadata": {},
   "source": [
    "## Logistic regression"
   ]
  },
  {
   "cell_type": "markdown",
   "id": "792f64c9",
   "metadata": {},
   "source": [
    "### Scaling data\n",
    "We scale the numerical features to avoid convergence problem with logistic regression."
   ]
  },
  {
   "cell_type": "code",
   "execution_count": 10,
   "id": "f0fd591a",
   "metadata": {},
   "outputs": [],
   "source": [
    "# FACCIAMO QUESTO STEP PER EVITARE PROBLEMI DI CONVERGENZA NEL MODELLO\n",
    "from sklearn.preprocessing import StandardScaler\n",
    "\n",
    "# Assuming you have your feature data X\n",
    "numeric_features = ['Administrative', 'Administrative_Duration', 'Informational',\n",
    "       'Informational_Duration', 'ProductRelated', 'ProductRelated_Duration',\n",
    "       'BounceRates', 'ExitRates', 'PageValues', 'SpecialDay']\n",
    "categorical_features = ['Month_Aug', 'Month_Dec', 'Month_Feb', 'Month_Jul', 'Month_June', 'Month_Mar', 'Month_May', \n",
    "                        'Month_Nov', 'Month_Oct', 'Month_Sep', 'OperatingSystems_1', 'OperatingSystems_2', 'OperatingSystems_3', 'OperatingSystems_4', 'OperatingSystems_6', 'OperatingSystems_8', 'Browser_1', 'Browser_2', 'Browser_3', 'Browser_4', 'Browser_5', 'Browser_6', 'Browser_7', 'Browser_8', 'Browser_10', 'Browser_13', 'Region_1', 'Region_2', 'Region_3', 'Region_4', 'Region_5',\n",
    "                        'Region_6', 'Region_7', 'Region_8', 'Region_9', 'TrafficType_1', 'TrafficType_2', \n",
    "                        'TrafficType_3', 'TrafficType_4', 'TrafficType_5', 'TrafficType_6', 'TrafficType_7', \n",
    "                        'TrafficType_8', 'TrafficType_9', 'TrafficType_10', 'TrafficType_11', 'TrafficType_13', \n",
    "                        'TrafficType_15', 'TrafficType_19', 'TrafficType_20', 'VisitorType_New_Visitor', 'VisitorType_Other', 'VisitorType_Returning_Visitor', 'Weekend_False', 'Weekend_True']\n",
    "scaler = StandardScaler()\n",
    "train_scaled = pd.DataFrame(scaler.fit_transform(X_train[numeric_features]))\n",
    "#test_scaled = pd.DataFrame(scaler.fit_transform(X_test[numeric_features]))\n",
    "train_scaled.columns = X_train[numeric_features].columns\n",
    "#test_scaled.columns = X_test[numeric_features].columns\n",
    "X_train_scaled = pd.concat([train_scaled,X_train[categorical_features]],axis=1)\n",
    "#X_test_scaled = pd.concat([test_scaled,X_test[categorical_features]],axis=1)"
   ]
  },
  {
   "cell_type": "markdown",
   "id": "687db0bf",
   "metadata": {},
   "source": [
    "### Feature selection"
   ]
  },
  {
   "cell_type": "code",
   "execution_count": 11,
   "id": "535ef449",
   "metadata": {
    "scrolled": true
   },
   "outputs": [
    {
     "name": "stdout",
     "output_type": "stream",
     "text": [
      "............\n",
      "Best model (M1) with 1 features: ['PageValues']\n",
      "M1 subset score (3.): 0.8828872668288728\n",
      "............\n",
      "Best model (M2) with 2 features: ['PageValues', 'VisitorType_New_Visitor']\n",
      "M2 subset score (3.): 0.8846715328467154\n",
      "............\n",
      "Best model (M3) with 3 features: ['PageValues', 'VisitorType_New_Visitor', 'Region_2']\n",
      "M3 subset score (3.): 0.8849959448499595\n",
      "............\n",
      "Best model (M4) with 4 features: ['PageValues', 'VisitorType_New_Visitor', 'Region_2', 'Browser_3']\n",
      "M4 subset score (3.): 0.8850770478507706\n",
      "............\n",
      "Best model (M5) with 5 features: ['PageValues', 'VisitorType_New_Visitor', 'Region_2', 'Browser_3', 'Browser_7']\n",
      "M5 subset score (3.): 0.8850770478507706\n",
      "............\n",
      "Best model (M6) with 6 features: ['PageValues', 'VisitorType_New_Visitor', 'Region_2', 'Browser_3', 'Browser_7', 'OperatingSystems_8']\n",
      "M6 subset score (3.): 0.8850770478507706\n",
      "............\n",
      "Best model (M7) with 7 features: ['PageValues', 'VisitorType_New_Visitor', 'Region_2', 'Browser_3', 'Browser_7', 'OperatingSystems_8', 'TrafficType_5']\n",
      "M7 subset score (3.): 0.8850770478507706\n",
      "............\n",
      "Best model (M8) with 8 features: ['PageValues', 'VisitorType_New_Visitor', 'Region_2', 'Browser_3', 'Browser_7', 'OperatingSystems_8', 'TrafficType_5', 'Browser_13']\n",
      "M8 subset score (3.): 0.8850770478507706\n",
      "............\n",
      "Best model (M9) with 9 features: ['PageValues', 'VisitorType_New_Visitor', 'Region_2', 'Browser_3', 'Browser_7', 'OperatingSystems_8', 'TrafficType_5', 'Browser_13', 'Browser_8']\n",
      "M9 subset score (3.): 0.8849959448499595\n",
      "............\n",
      "Best model (M10) with 10 features: ['PageValues', 'VisitorType_New_Visitor', 'Region_2', 'Browser_3', 'Browser_7', 'OperatingSystems_8', 'TrafficType_5', 'Browser_13', 'Browser_8', 'Region_7']\n",
      "M10 subset score (3.): 0.8849959448499595\n",
      "............\n",
      "Best model (M11) with 11 features: ['PageValues', 'VisitorType_New_Visitor', 'Region_2', 'Browser_3', 'Browser_7', 'OperatingSystems_8', 'TrafficType_5', 'Browser_13', 'Browser_8', 'Region_7', 'TrafficType_19']\n",
      "M11 subset score (3.): 0.8849959448499595\n",
      "............\n",
      "Best model (M12) with 12 features: ['PageValues', 'VisitorType_New_Visitor', 'Region_2', 'Browser_3', 'Browser_7', 'OperatingSystems_8', 'TrafficType_5', 'Browser_13', 'Browser_8', 'Region_7', 'TrafficType_19', 'VisitorType_Other']\n",
      "M12 subset score (3.): 0.8850770478507706\n",
      "............\n",
      "Best model (M13) with 13 features: ['PageValues', 'VisitorType_New_Visitor', 'Region_2', 'Browser_3', 'Browser_7', 'OperatingSystems_8', 'TrafficType_5', 'Browser_13', 'Browser_8', 'Region_7', 'TrafficType_19', 'VisitorType_Other', 'Region_3']\n",
      "M13 subset score (3.): 0.8851581508515813\n",
      "............\n",
      "Best model (M14) with 14 features: ['PageValues', 'VisitorType_New_Visitor', 'Region_2', 'Browser_3', 'Browser_7', 'OperatingSystems_8', 'TrafficType_5', 'Browser_13', 'Browser_8', 'Region_7', 'TrafficType_19', 'VisitorType_Other', 'Region_3', 'Month_Aug']\n",
      "M14 subset score (3.): 0.8849148418491485\n",
      "............\n",
      "Best model (M15) with 15 features: ['PageValues', 'VisitorType_New_Visitor', 'Region_2', 'Browser_3', 'Browser_7', 'OperatingSystems_8', 'TrafficType_5', 'Browser_13', 'Browser_8', 'Region_7', 'TrafficType_19', 'VisitorType_Other', 'Region_3', 'Month_Aug', 'Browser_6']\n",
      "M15 subset score (3.): 0.8849959448499594\n",
      "............\n",
      "Best model (M16) with 16 features: ['PageValues', 'VisitorType_New_Visitor', 'Region_2', 'Browser_3', 'Browser_7', 'OperatingSystems_8', 'TrafficType_5', 'Browser_13', 'Browser_8', 'Region_7', 'TrafficType_19', 'VisitorType_Other', 'Region_3', 'Month_Aug', 'Browser_6', 'Browser_2']\n",
      "M16 subset score (3.): 0.8849959448499594\n",
      "............\n",
      "Best model (M17) with 17 features: ['PageValues', 'VisitorType_New_Visitor', 'Region_2', 'Browser_3', 'Browser_7', 'OperatingSystems_8', 'TrafficType_5', 'Browser_13', 'Browser_8', 'Region_7', 'TrafficType_19', 'VisitorType_Other', 'Region_3', 'Month_Aug', 'Browser_6', 'Browser_2', 'Month_Feb']\n",
      "M17 subset score (3.): 0.8849959448499594\n",
      "............\n",
      "Best model (M18) with 18 features: ['PageValues', 'VisitorType_New_Visitor', 'Region_2', 'Browser_3', 'Browser_7', 'OperatingSystems_8', 'TrafficType_5', 'Browser_13', 'Browser_8', 'Region_7', 'TrafficType_19', 'VisitorType_Other', 'Region_3', 'Month_Aug', 'Browser_6', 'Browser_2', 'Month_Feb', 'TrafficType_9']\n",
      "M18 subset score (3.): 0.8850770478507706\n",
      "............\n",
      "Best model (M19) with 19 features: ['PageValues', 'VisitorType_New_Visitor', 'Region_2', 'Browser_3', 'Browser_7', 'OperatingSystems_8', 'TrafficType_5', 'Browser_13', 'Browser_8', 'Region_7', 'TrafficType_19', 'VisitorType_Other', 'Region_3', 'Month_Aug', 'Browser_6', 'Browser_2', 'Month_Feb', 'TrafficType_9', 'VisitorType_Returning_Visitor']\n",
      "M19 subset score (3.): 0.8850770478507706\n",
      "............\n",
      "Best model (M20) with 20 features: ['PageValues', 'VisitorType_New_Visitor', 'Region_2', 'Browser_3', 'Browser_7', 'OperatingSystems_8', 'TrafficType_5', 'Browser_13', 'Browser_8', 'Region_7', 'TrafficType_19', 'VisitorType_Other', 'Region_3', 'Month_Aug', 'Browser_6', 'Browser_2', 'Month_Feb', 'TrafficType_9', 'VisitorType_Returning_Visitor', 'Region_6']\n",
      "M20 subset score (3.): 0.8849959448499594\n",
      "............\n",
      "Best model (M21) with 21 features: ['PageValues', 'VisitorType_New_Visitor', 'Region_2', 'Browser_3', 'Browser_7', 'OperatingSystems_8', 'TrafficType_5', 'Browser_13', 'Browser_8', 'Region_7', 'TrafficType_19', 'VisitorType_Other', 'Region_3', 'Month_Aug', 'Browser_6', 'Browser_2', 'Month_Feb', 'TrafficType_9', 'VisitorType_Returning_Visitor', 'Region_6', 'TrafficType_11']\n",
      "M21 subset score (3.): 0.8850770478507706\n",
      "............\n",
      "Best model (M22) with 22 features: ['PageValues', 'VisitorType_New_Visitor', 'Region_2', 'Browser_3', 'Browser_7', 'OperatingSystems_8', 'TrafficType_5', 'Browser_13', 'Browser_8', 'Region_7', 'TrafficType_19', 'VisitorType_Other', 'Region_3', 'Month_Aug', 'Browser_6', 'Browser_2', 'Month_Feb', 'TrafficType_9', 'VisitorType_Returning_Visitor', 'Region_6', 'TrafficType_11', 'OperatingSystems_6']\n",
      "M22 subset score (3.): 0.8850770478507706\n",
      "............\n",
      "Best model (M23) with 23 features: ['PageValues', 'VisitorType_New_Visitor', 'Region_2', 'Browser_3', 'Browser_7', 'OperatingSystems_8', 'TrafficType_5', 'Browser_13', 'Browser_8', 'Region_7', 'TrafficType_19', 'VisitorType_Other', 'Region_3', 'Month_Aug', 'Browser_6', 'Browser_2', 'Month_Feb', 'TrafficType_9', 'VisitorType_Returning_Visitor', 'Region_6', 'TrafficType_11', 'OperatingSystems_6', 'TrafficType_15']\n",
      "M23 subset score (3.): 0.8852392538523925\n",
      "............\n",
      "Best model (M24) with 24 features: ['PageValues', 'VisitorType_New_Visitor', 'Region_2', 'Browser_3', 'Browser_7', 'OperatingSystems_8', 'TrafficType_5', 'Browser_13', 'Browser_8', 'Region_7', 'TrafficType_19', 'VisitorType_Other', 'Region_3', 'Month_Aug', 'Browser_6', 'Browser_2', 'Month_Feb', 'TrafficType_9', 'VisitorType_Returning_Visitor', 'Region_6', 'TrafficType_11', 'OperatingSystems_6', 'TrafficType_15', 'Browser_4']\n",
      "M24 subset score (3.): 0.8849959448499594\n",
      "............\n",
      "Best model (M25) with 25 features: ['PageValues', 'VisitorType_New_Visitor', 'Region_2', 'Browser_3', 'Browser_7', 'OperatingSystems_8', 'TrafficType_5', 'Browser_13', 'Browser_8', 'Region_7', 'TrafficType_19', 'VisitorType_Other', 'Region_3', 'Month_Aug', 'Browser_6', 'Browser_2', 'Month_Feb', 'TrafficType_9', 'VisitorType_Returning_Visitor', 'Region_6', 'TrafficType_11', 'OperatingSystems_6', 'TrafficType_15', 'Browser_4', 'Month_June']\n",
      "M25 subset score (3.): 0.8848337388483373\n",
      "............\n",
      "Best model (M26) with 26 features: ['PageValues', 'VisitorType_New_Visitor', 'Region_2', 'Browser_3', 'Browser_7', 'OperatingSystems_8', 'TrafficType_5', 'Browser_13', 'Browser_8', 'Region_7', 'TrafficType_19', 'VisitorType_Other', 'Region_3', 'Month_Aug', 'Browser_6', 'Browser_2', 'Month_Feb', 'TrafficType_9', 'VisitorType_Returning_Visitor', 'Region_6', 'TrafficType_11', 'OperatingSystems_6', 'TrafficType_15', 'Browser_4', 'Month_June', 'Month_Oct']\n",
      "M26 subset score (3.): 0.8844282238442822\n",
      "............\n",
      "Best model (M27) with 27 features: ['PageValues', 'VisitorType_New_Visitor', 'Region_2', 'Browser_3', 'Browser_7', 'OperatingSystems_8', 'TrafficType_5', 'Browser_13', 'Browser_8', 'Region_7', 'TrafficType_19', 'VisitorType_Other', 'Region_3', 'Month_Aug', 'Browser_6', 'Browser_2', 'Month_Feb', 'TrafficType_9', 'VisitorType_Returning_Visitor', 'Region_6', 'TrafficType_11', 'OperatingSystems_6', 'TrafficType_15', 'Browser_4', 'Month_June', 'Month_Oct', 'OperatingSystems_1']\n",
      "M27 subset score (3.): 0.8847526358475264\n"
     ]
    },
    {
     "name": "stdout",
     "output_type": "stream",
     "text": [
      "............\n",
      "Best model (M28) with 28 features: ['PageValues', 'VisitorType_New_Visitor', 'Region_2', 'Browser_3', 'Browser_7', 'OperatingSystems_8', 'TrafficType_5', 'Browser_13', 'Browser_8', 'Region_7', 'TrafficType_19', 'VisitorType_Other', 'Region_3', 'Month_Aug', 'Browser_6', 'Browser_2', 'Month_Feb', 'TrafficType_9', 'VisitorType_Returning_Visitor', 'Region_6', 'TrafficType_11', 'OperatingSystems_6', 'TrafficType_15', 'Browser_4', 'Month_June', 'Month_Oct', 'OperatingSystems_1', 'Month_Jul']\n",
      "M28 subset score (3.): 0.8848337388483373\n",
      "............\n",
      "Best model (M29) with 29 features: ['PageValues', 'VisitorType_New_Visitor', 'Region_2', 'Browser_3', 'Browser_7', 'OperatingSystems_8', 'TrafficType_5', 'Browser_13', 'Browser_8', 'Region_7', 'TrafficType_19', 'VisitorType_Other', 'Region_3', 'Month_Aug', 'Browser_6', 'Browser_2', 'Month_Feb', 'TrafficType_9', 'VisitorType_Returning_Visitor', 'Region_6', 'TrafficType_11', 'OperatingSystems_6', 'TrafficType_15', 'Browser_4', 'Month_June', 'Month_Oct', 'OperatingSystems_1', 'Month_Jul', 'Region_8']\n",
      "M29 subset score (3.): 0.8845904298459043\n",
      "............\n",
      "Best model (M30) with 30 features: ['PageValues', 'VisitorType_New_Visitor', 'Region_2', 'Browser_3', 'Browser_7', 'OperatingSystems_8', 'TrafficType_5', 'Browser_13', 'Browser_8', 'Region_7', 'TrafficType_19', 'VisitorType_Other', 'Region_3', 'Month_Aug', 'Browser_6', 'Browser_2', 'Month_Feb', 'TrafficType_9', 'VisitorType_Returning_Visitor', 'Region_6', 'TrafficType_11', 'OperatingSystems_6', 'TrafficType_15', 'Browser_4', 'Month_June', 'Month_Oct', 'OperatingSystems_1', 'Month_Jul', 'Region_8', 'Region_9']\n",
      "M30 subset score (3.): 0.8845904298459043\n",
      "............\n",
      "Best model (M31) with 31 features: ['PageValues', 'VisitorType_New_Visitor', 'Region_2', 'Browser_3', 'Browser_7', 'OperatingSystems_8', 'TrafficType_5', 'Browser_13', 'Browser_8', 'Region_7', 'TrafficType_19', 'VisitorType_Other', 'Region_3', 'Month_Aug', 'Browser_6', 'Browser_2', 'Month_Feb', 'TrafficType_9', 'VisitorType_Returning_Visitor', 'Region_6', 'TrafficType_11', 'OperatingSystems_6', 'TrafficType_15', 'Browser_4', 'Month_June', 'Month_Oct', 'OperatingSystems_1', 'Month_Jul', 'Region_8', 'Region_9', 'TrafficType_10']\n",
      "M31 subset score (3.): 0.8850770478507706\n",
      "............\n",
      "Best model (M32) with 32 features: ['PageValues', 'VisitorType_New_Visitor', 'Region_2', 'Browser_3', 'Browser_7', 'OperatingSystems_8', 'TrafficType_5', 'Browser_13', 'Browser_8', 'Region_7', 'TrafficType_19', 'VisitorType_Other', 'Region_3', 'Month_Aug', 'Browser_6', 'Browser_2', 'Month_Feb', 'TrafficType_9', 'VisitorType_Returning_Visitor', 'Region_6', 'TrafficType_11', 'OperatingSystems_6', 'TrafficType_15', 'Browser_4', 'Month_June', 'Month_Oct', 'OperatingSystems_1', 'Month_Jul', 'Region_8', 'Region_9', 'TrafficType_10', 'Browser_10']\n",
      "M32 subset score (3.): 0.8849959448499594\n",
      "............\n",
      "Best model (M33) with 33 features: ['PageValues', 'VisitorType_New_Visitor', 'Region_2', 'Browser_3', 'Browser_7', 'OperatingSystems_8', 'TrafficType_5', 'Browser_13', 'Browser_8', 'Region_7', 'TrafficType_19', 'VisitorType_Other', 'Region_3', 'Month_Aug', 'Browser_6', 'Browser_2', 'Month_Feb', 'TrafficType_9', 'VisitorType_Returning_Visitor', 'Region_6', 'TrafficType_11', 'OperatingSystems_6', 'TrafficType_15', 'Browser_4', 'Month_June', 'Month_Oct', 'OperatingSystems_1', 'Month_Jul', 'Region_8', 'Region_9', 'TrafficType_10', 'Browser_10', 'Month_Dec']\n",
      "M33 subset score (3.): 0.8852392538523925\n",
      "............\n",
      "Best model (M34) with 34 features: ['PageValues', 'VisitorType_New_Visitor', 'Region_2', 'Browser_3', 'Browser_7', 'OperatingSystems_8', 'TrafficType_5', 'Browser_13', 'Browser_8', 'Region_7', 'TrafficType_19', 'VisitorType_Other', 'Region_3', 'Month_Aug', 'Browser_6', 'Browser_2', 'Month_Feb', 'TrafficType_9', 'VisitorType_Returning_Visitor', 'Region_6', 'TrafficType_11', 'OperatingSystems_6', 'TrafficType_15', 'Browser_4', 'Month_June', 'Month_Oct', 'OperatingSystems_1', 'Month_Jul', 'Region_8', 'Region_9', 'TrafficType_10', 'Browser_10', 'Month_Dec', 'Month_Sep']\n",
      "M34 subset score (3.): 0.8854014598540146\n",
      "............\n",
      "Best model (M35) with 35 features: ['PageValues', 'VisitorType_New_Visitor', 'Region_2', 'Browser_3', 'Browser_7', 'OperatingSystems_8', 'TrafficType_5', 'Browser_13', 'Browser_8', 'Region_7', 'TrafficType_19', 'VisitorType_Other', 'Region_3', 'Month_Aug', 'Browser_6', 'Browser_2', 'Month_Feb', 'TrafficType_9', 'VisitorType_Returning_Visitor', 'Region_6', 'TrafficType_11', 'OperatingSystems_6', 'TrafficType_15', 'Browser_4', 'Month_June', 'Month_Oct', 'OperatingSystems_1', 'Month_Jul', 'Region_8', 'Region_9', 'TrafficType_10', 'Browser_10', 'Month_Dec', 'Month_Sep', 'TrafficType_6']\n",
      "M35 subset score (3.): 0.8852392538523925\n",
      "............\n",
      "Best model (M36) with 36 features: ['PageValues', 'VisitorType_New_Visitor', 'Region_2', 'Browser_3', 'Browser_7', 'OperatingSystems_8', 'TrafficType_5', 'Browser_13', 'Browser_8', 'Region_7', 'TrafficType_19', 'VisitorType_Other', 'Region_3', 'Month_Aug', 'Browser_6', 'Browser_2', 'Month_Feb', 'TrafficType_9', 'VisitorType_Returning_Visitor', 'Region_6', 'TrafficType_11', 'OperatingSystems_6', 'TrafficType_15', 'Browser_4', 'Month_June', 'Month_Oct', 'OperatingSystems_1', 'Month_Jul', 'Region_8', 'Region_9', 'TrafficType_10', 'Browser_10', 'Month_Dec', 'Month_Sep', 'TrafficType_6', 'OperatingSystems_4']\n",
      "M36 subset score (3.): 0.8853203568532034\n",
      "............\n",
      "Best model (M37) with 37 features: ['PageValues', 'VisitorType_New_Visitor', 'Region_2', 'Browser_3', 'Browser_7', 'OperatingSystems_8', 'TrafficType_5', 'Browser_13', 'Browser_8', 'Region_7', 'TrafficType_19', 'VisitorType_Other', 'Region_3', 'Month_Aug', 'Browser_6', 'Browser_2', 'Month_Feb', 'TrafficType_9', 'VisitorType_Returning_Visitor', 'Region_6', 'TrafficType_11', 'OperatingSystems_6', 'TrafficType_15', 'Browser_4', 'Month_June', 'Month_Oct', 'OperatingSystems_1', 'Month_Jul', 'Region_8', 'Region_9', 'TrafficType_10', 'Browser_10', 'Month_Dec', 'Month_Sep', 'TrafficType_6', 'OperatingSystems_4', 'BounceRates']\n",
      "M37 subset score (3.): 0.8849959448499595\n",
      "............\n",
      "Best model (M38) with 38 features: ['PageValues', 'VisitorType_New_Visitor', 'Region_2', 'Browser_3', 'Browser_7', 'OperatingSystems_8', 'TrafficType_5', 'Browser_13', 'Browser_8', 'Region_7', 'TrafficType_19', 'VisitorType_Other', 'Region_3', 'Month_Aug', 'Browser_6', 'Browser_2', 'Month_Feb', 'TrafficType_9', 'VisitorType_Returning_Visitor', 'Region_6', 'TrafficType_11', 'OperatingSystems_6', 'TrafficType_15', 'Browser_4', 'Month_June', 'Month_Oct', 'OperatingSystems_1', 'Month_Jul', 'Region_8', 'Region_9', 'TrafficType_10', 'Browser_10', 'Month_Dec', 'Month_Sep', 'TrafficType_6', 'OperatingSystems_4', 'BounceRates', 'Weekend_False']\n",
      "M38 subset score (3.): 0.8857258718572588\n",
      "............\n",
      "Best model (M39) with 39 features: ['PageValues', 'VisitorType_New_Visitor', 'Region_2', 'Browser_3', 'Browser_7', 'OperatingSystems_8', 'TrafficType_5', 'Browser_13', 'Browser_8', 'Region_7', 'TrafficType_19', 'VisitorType_Other', 'Region_3', 'Month_Aug', 'Browser_6', 'Browser_2', 'Month_Feb', 'TrafficType_9', 'VisitorType_Returning_Visitor', 'Region_6', 'TrafficType_11', 'OperatingSystems_6', 'TrafficType_15', 'Browser_4', 'Month_June', 'Month_Oct', 'OperatingSystems_1', 'Month_Jul', 'Region_8', 'Region_9', 'TrafficType_10', 'Browser_10', 'Month_Dec', 'Month_Sep', 'TrafficType_6', 'OperatingSystems_4', 'BounceRates', 'Weekend_False', 'TrafficType_8']\n",
      "M39 subset score (3.): 0.8858880778588807\n",
      "............\n",
      "Best model (M40) with 40 features: ['PageValues', 'VisitorType_New_Visitor', 'Region_2', 'Browser_3', 'Browser_7', 'OperatingSystems_8', 'TrafficType_5', 'Browser_13', 'Browser_8', 'Region_7', 'TrafficType_19', 'VisitorType_Other', 'Region_3', 'Month_Aug', 'Browser_6', 'Browser_2', 'Month_Feb', 'TrafficType_9', 'VisitorType_Returning_Visitor', 'Region_6', 'TrafficType_11', 'OperatingSystems_6', 'TrafficType_15', 'Browser_4', 'Month_June', 'Month_Oct', 'OperatingSystems_1', 'Month_Jul', 'Region_8', 'Region_9', 'TrafficType_10', 'Browser_10', 'Month_Dec', 'Month_Sep', 'TrafficType_6', 'OperatingSystems_4', 'BounceRates', 'Weekend_False', 'TrafficType_8', 'Browser_5']\n",
      "M40 subset score (3.): 0.8858069748580697\n"
     ]
    },
    {
     "name": "stdout",
     "output_type": "stream",
     "text": [
      "............\n",
      "Best model (M41) with 41 features: ['PageValues', 'VisitorType_New_Visitor', 'Region_2', 'Browser_3', 'Browser_7', 'OperatingSystems_8', 'TrafficType_5', 'Browser_13', 'Browser_8', 'Region_7', 'TrafficType_19', 'VisitorType_Other', 'Region_3', 'Month_Aug', 'Browser_6', 'Browser_2', 'Month_Feb', 'TrafficType_9', 'VisitorType_Returning_Visitor', 'Region_6', 'TrafficType_11', 'OperatingSystems_6', 'TrafficType_15', 'Browser_4', 'Month_June', 'Month_Oct', 'OperatingSystems_1', 'Month_Jul', 'Region_8', 'Region_9', 'TrafficType_10', 'Browser_10', 'Month_Dec', 'Month_Sep', 'TrafficType_6', 'OperatingSystems_4', 'BounceRates', 'Weekend_False', 'TrafficType_8', 'Browser_5', 'TrafficType_1']\n",
      "M41 subset score (3.): 0.8856447688564477\n",
      "............\n",
      "Best model (M42) with 42 features: ['PageValues', 'VisitorType_New_Visitor', 'Region_2', 'Browser_3', 'Browser_7', 'OperatingSystems_8', 'TrafficType_5', 'Browser_13', 'Browser_8', 'Region_7', 'TrafficType_19', 'VisitorType_Other', 'Region_3', 'Month_Aug', 'Browser_6', 'Browser_2', 'Month_Feb', 'TrafficType_9', 'VisitorType_Returning_Visitor', 'Region_6', 'TrafficType_11', 'OperatingSystems_6', 'TrafficType_15', 'Browser_4', 'Month_June', 'Month_Oct', 'OperatingSystems_1', 'Month_Jul', 'Region_8', 'Region_9', 'TrafficType_10', 'Browser_10', 'Month_Dec', 'Month_Sep', 'TrafficType_6', 'OperatingSystems_4', 'BounceRates', 'Weekend_False', 'TrafficType_8', 'Browser_5', 'TrafficType_1', 'Browser_1']\n",
      "M42 subset score (3.): 0.8856447688564477\n",
      "............\n",
      "Best model (M43) with 43 features: ['PageValues', 'VisitorType_New_Visitor', 'Region_2', 'Browser_3', 'Browser_7', 'OperatingSystems_8', 'TrafficType_5', 'Browser_13', 'Browser_8', 'Region_7', 'TrafficType_19', 'VisitorType_Other', 'Region_3', 'Month_Aug', 'Browser_6', 'Browser_2', 'Month_Feb', 'TrafficType_9', 'VisitorType_Returning_Visitor', 'Region_6', 'TrafficType_11', 'OperatingSystems_6', 'TrafficType_15', 'Browser_4', 'Month_June', 'Month_Oct', 'OperatingSystems_1', 'Month_Jul', 'Region_8', 'Region_9', 'TrafficType_10', 'Browser_10', 'Month_Dec', 'Month_Sep', 'TrafficType_6', 'OperatingSystems_4', 'BounceRates', 'Weekend_False', 'TrafficType_8', 'Browser_5', 'TrafficType_1', 'Browser_1', 'TrafficType_7']\n",
      "M43 subset score (3.): 0.8855636658556367\n",
      "............\n",
      "Best model (M44) with 44 features: ['PageValues', 'VisitorType_New_Visitor', 'Region_2', 'Browser_3', 'Browser_7', 'OperatingSystems_8', 'TrafficType_5', 'Browser_13', 'Browser_8', 'Region_7', 'TrafficType_19', 'VisitorType_Other', 'Region_3', 'Month_Aug', 'Browser_6', 'Browser_2', 'Month_Feb', 'TrafficType_9', 'VisitorType_Returning_Visitor', 'Region_6', 'TrafficType_11', 'OperatingSystems_6', 'TrafficType_15', 'Browser_4', 'Month_June', 'Month_Oct', 'OperatingSystems_1', 'Month_Jul', 'Region_8', 'Region_9', 'TrafficType_10', 'Browser_10', 'Month_Dec', 'Month_Sep', 'TrafficType_6', 'OperatingSystems_4', 'BounceRates', 'Weekend_False', 'TrafficType_8', 'Browser_5', 'TrafficType_1', 'Browser_1', 'TrafficType_7', 'TrafficType_20']\n",
      "M44 subset score (3.): 0.8855636658556367\n",
      "............\n",
      "Best model (M45) with 45 features: ['PageValues', 'VisitorType_New_Visitor', 'Region_2', 'Browser_3', 'Browser_7', 'OperatingSystems_8', 'TrafficType_5', 'Browser_13', 'Browser_8', 'Region_7', 'TrafficType_19', 'VisitorType_Other', 'Region_3', 'Month_Aug', 'Browser_6', 'Browser_2', 'Month_Feb', 'TrafficType_9', 'VisitorType_Returning_Visitor', 'Region_6', 'TrafficType_11', 'OperatingSystems_6', 'TrafficType_15', 'Browser_4', 'Month_June', 'Month_Oct', 'OperatingSystems_1', 'Month_Jul', 'Region_8', 'Region_9', 'TrafficType_10', 'Browser_10', 'Month_Dec', 'Month_Sep', 'TrafficType_6', 'OperatingSystems_4', 'BounceRates', 'Weekend_False', 'TrafficType_8', 'Browser_5', 'TrafficType_1', 'Browser_1', 'TrafficType_7', 'TrafficType_20', 'Weekend_True']\n",
      "M45 subset score (3.): 0.8855636658556367\n",
      "............\n",
      "Best model (M46) with 46 features: ['PageValues', 'VisitorType_New_Visitor', 'Region_2', 'Browser_3', 'Browser_7', 'OperatingSystems_8', 'TrafficType_5', 'Browser_13', 'Browser_8', 'Region_7', 'TrafficType_19', 'VisitorType_Other', 'Region_3', 'Month_Aug', 'Browser_6', 'Browser_2', 'Month_Feb', 'TrafficType_9', 'VisitorType_Returning_Visitor', 'Region_6', 'TrafficType_11', 'OperatingSystems_6', 'TrafficType_15', 'Browser_4', 'Month_June', 'Month_Oct', 'OperatingSystems_1', 'Month_Jul', 'Region_8', 'Region_9', 'TrafficType_10', 'Browser_10', 'Month_Dec', 'Month_Sep', 'TrafficType_6', 'OperatingSystems_4', 'BounceRates', 'Weekend_False', 'TrafficType_8', 'Browser_5', 'TrafficType_1', 'Browser_1', 'TrafficType_7', 'TrafficType_20', 'Weekend_True', 'SpecialDay']\n",
      "M46 subset score (3.): 0.8850770478507706\n",
      "............\n",
      "Best model (M47) with 47 features: ['PageValues', 'VisitorType_New_Visitor', 'Region_2', 'Browser_3', 'Browser_7', 'OperatingSystems_8', 'TrafficType_5', 'Browser_13', 'Browser_8', 'Region_7', 'TrafficType_19', 'VisitorType_Other', 'Region_3', 'Month_Aug', 'Browser_6', 'Browser_2', 'Month_Feb', 'TrafficType_9', 'VisitorType_Returning_Visitor', 'Region_6', 'TrafficType_11', 'OperatingSystems_6', 'TrafficType_15', 'Browser_4', 'Month_June', 'Month_Oct', 'OperatingSystems_1', 'Month_Jul', 'Region_8', 'Region_9', 'TrafficType_10', 'Browser_10', 'Month_Dec', 'Month_Sep', 'TrafficType_6', 'OperatingSystems_4', 'BounceRates', 'Weekend_False', 'TrafficType_8', 'Browser_5', 'TrafficType_1', 'Browser_1', 'TrafficType_7', 'TrafficType_20', 'Weekend_True', 'SpecialDay', 'ExitRates']\n",
      "M47 subset score (3.): 0.8855636658556367\n",
      "............\n",
      "Best model (M48) with 48 features: ['PageValues', 'VisitorType_New_Visitor', 'Region_2', 'Browser_3', 'Browser_7', 'OperatingSystems_8', 'TrafficType_5', 'Browser_13', 'Browser_8', 'Region_7', 'TrafficType_19', 'VisitorType_Other', 'Region_3', 'Month_Aug', 'Browser_6', 'Browser_2', 'Month_Feb', 'TrafficType_9', 'VisitorType_Returning_Visitor', 'Region_6', 'TrafficType_11', 'OperatingSystems_6', 'TrafficType_15', 'Browser_4', 'Month_June', 'Month_Oct', 'OperatingSystems_1', 'Month_Jul', 'Region_8', 'Region_9', 'TrafficType_10', 'Browser_10', 'Month_Dec', 'Month_Sep', 'TrafficType_6', 'OperatingSystems_4', 'BounceRates', 'Weekend_False', 'TrafficType_8', 'Browser_5', 'TrafficType_1', 'Browser_1', 'TrafficType_7', 'TrafficType_20', 'Weekend_True', 'SpecialDay', 'ExitRates', 'TrafficType_3']\n",
      "M48 subset score (3.): 0.8862124898621249\n",
      "............\n",
      "Best model (M49) with 49 features: ['PageValues', 'VisitorType_New_Visitor', 'Region_2', 'Browser_3', 'Browser_7', 'OperatingSystems_8', 'TrafficType_5', 'Browser_13', 'Browser_8', 'Region_7', 'TrafficType_19', 'VisitorType_Other', 'Region_3', 'Month_Aug', 'Browser_6', 'Browser_2', 'Month_Feb', 'TrafficType_9', 'VisitorType_Returning_Visitor', 'Region_6', 'TrafficType_11', 'OperatingSystems_6', 'TrafficType_15', 'Browser_4', 'Month_June', 'Month_Oct', 'OperatingSystems_1', 'Month_Jul', 'Region_8', 'Region_9', 'TrafficType_10', 'Browser_10', 'Month_Dec', 'Month_Sep', 'TrafficType_6', 'OperatingSystems_4', 'BounceRates', 'Weekend_False', 'TrafficType_8', 'Browser_5', 'TrafficType_1', 'Browser_1', 'TrafficType_7', 'TrafficType_20', 'Weekend_True', 'SpecialDay', 'ExitRates', 'TrafficType_3', 'TrafficType_13']\n",
      "M49 subset score (3.): 0.8863746958637468\n",
      "............\n",
      "Best model (M50) with 50 features: ['PageValues', 'VisitorType_New_Visitor', 'Region_2', 'Browser_3', 'Browser_7', 'OperatingSystems_8', 'TrafficType_5', 'Browser_13', 'Browser_8', 'Region_7', 'TrafficType_19', 'VisitorType_Other', 'Region_3', 'Month_Aug', 'Browser_6', 'Browser_2', 'Month_Feb', 'TrafficType_9', 'VisitorType_Returning_Visitor', 'Region_6', 'TrafficType_11', 'OperatingSystems_6', 'TrafficType_15', 'Browser_4', 'Month_June', 'Month_Oct', 'OperatingSystems_1', 'Month_Jul', 'Region_8', 'Region_9', 'TrafficType_10', 'Browser_10', 'Month_Dec', 'Month_Sep', 'TrafficType_6', 'OperatingSystems_4', 'BounceRates', 'Weekend_False', 'TrafficType_8', 'Browser_5', 'TrafficType_1', 'Browser_1', 'TrafficType_7', 'TrafficType_20', 'Weekend_True', 'SpecialDay', 'ExitRates', 'TrafficType_3', 'TrafficType_13', 'OperatingSystems_3']\n",
      "M50 subset score (3.): 0.8859691808596917\n",
      "............\n",
      "Best model (M51) with 51 features: ['PageValues', 'VisitorType_New_Visitor', 'Region_2', 'Browser_3', 'Browser_7', 'OperatingSystems_8', 'TrafficType_5', 'Browser_13', 'Browser_8', 'Region_7', 'TrafficType_19', 'VisitorType_Other', 'Region_3', 'Month_Aug', 'Browser_6', 'Browser_2', 'Month_Feb', 'TrafficType_9', 'VisitorType_Returning_Visitor', 'Region_6', 'TrafficType_11', 'OperatingSystems_6', 'TrafficType_15', 'Browser_4', 'Month_June', 'Month_Oct', 'OperatingSystems_1', 'Month_Jul', 'Region_8', 'Region_9', 'TrafficType_10', 'Browser_10', 'Month_Dec', 'Month_Sep', 'TrafficType_6', 'OperatingSystems_4', 'BounceRates', 'Weekend_False', 'TrafficType_8', 'Browser_5', 'TrafficType_1', 'Browser_1', 'TrafficType_7', 'TrafficType_20', 'Weekend_True', 'SpecialDay', 'ExitRates', 'TrafficType_3', 'TrafficType_13', 'OperatingSystems_3', 'Region_1']\n",
      "M51 subset score (3.): 0.8864557988645579\n"
     ]
    },
    {
     "name": "stdout",
     "output_type": "stream",
     "text": [
      "............\n",
      "Best model (M52) with 52 features: ['PageValues', 'VisitorType_New_Visitor', 'Region_2', 'Browser_3', 'Browser_7', 'OperatingSystems_8', 'TrafficType_5', 'Browser_13', 'Browser_8', 'Region_7', 'TrafficType_19', 'VisitorType_Other', 'Region_3', 'Month_Aug', 'Browser_6', 'Browser_2', 'Month_Feb', 'TrafficType_9', 'VisitorType_Returning_Visitor', 'Region_6', 'TrafficType_11', 'OperatingSystems_6', 'TrafficType_15', 'Browser_4', 'Month_June', 'Month_Oct', 'OperatingSystems_1', 'Month_Jul', 'Region_8', 'Region_9', 'TrafficType_10', 'Browser_10', 'Month_Dec', 'Month_Sep', 'TrafficType_6', 'OperatingSystems_4', 'BounceRates', 'Weekend_False', 'TrafficType_8', 'Browser_5', 'TrafficType_1', 'Browser_1', 'TrafficType_7', 'TrafficType_20', 'Weekend_True', 'SpecialDay', 'ExitRates', 'TrafficType_3', 'TrafficType_13', 'OperatingSystems_3', 'Region_1', 'OperatingSystems_2']\n",
      "M52 subset score (3.): 0.8863746958637468\n",
      "............\n",
      "Best model (M53) with 53 features: ['PageValues', 'VisitorType_New_Visitor', 'Region_2', 'Browser_3', 'Browser_7', 'OperatingSystems_8', 'TrafficType_5', 'Browser_13', 'Browser_8', 'Region_7', 'TrafficType_19', 'VisitorType_Other', 'Region_3', 'Month_Aug', 'Browser_6', 'Browser_2', 'Month_Feb', 'TrafficType_9', 'VisitorType_Returning_Visitor', 'Region_6', 'TrafficType_11', 'OperatingSystems_6', 'TrafficType_15', 'Browser_4', 'Month_June', 'Month_Oct', 'OperatingSystems_1', 'Month_Jul', 'Region_8', 'Region_9', 'TrafficType_10', 'Browser_10', 'Month_Dec', 'Month_Sep', 'TrafficType_6', 'OperatingSystems_4', 'BounceRates', 'Weekend_False', 'TrafficType_8', 'Browser_5', 'TrafficType_1', 'Browser_1', 'TrafficType_7', 'TrafficType_20', 'Weekend_True', 'SpecialDay', 'ExitRates', 'TrafficType_3', 'TrafficType_13', 'OperatingSystems_3', 'Region_1', 'OperatingSystems_2', 'Region_4']\n",
      "M53 subset score (3.): 0.8862124898621249\n",
      "............\n",
      "Best model (M54) with 54 features: ['PageValues', 'VisitorType_New_Visitor', 'Region_2', 'Browser_3', 'Browser_7', 'OperatingSystems_8', 'TrafficType_5', 'Browser_13', 'Browser_8', 'Region_7', 'TrafficType_19', 'VisitorType_Other', 'Region_3', 'Month_Aug', 'Browser_6', 'Browser_2', 'Month_Feb', 'TrafficType_9', 'VisitorType_Returning_Visitor', 'Region_6', 'TrafficType_11', 'OperatingSystems_6', 'TrafficType_15', 'Browser_4', 'Month_June', 'Month_Oct', 'OperatingSystems_1', 'Month_Jul', 'Region_8', 'Region_9', 'TrafficType_10', 'Browser_10', 'Month_Dec', 'Month_Sep', 'TrafficType_6', 'OperatingSystems_4', 'BounceRates', 'Weekend_False', 'TrafficType_8', 'Browser_5', 'TrafficType_1', 'Browser_1', 'TrafficType_7', 'TrafficType_20', 'Weekend_True', 'SpecialDay', 'ExitRates', 'TrafficType_3', 'TrafficType_13', 'OperatingSystems_3', 'Region_1', 'OperatingSystems_2', 'Region_4', 'Region_5']\n",
      "M54 subset score (3.): 0.8862124898621249\n",
      "............\n",
      "Best model (M55) with 55 features: ['PageValues', 'VisitorType_New_Visitor', 'Region_2', 'Browser_3', 'Browser_7', 'OperatingSystems_8', 'TrafficType_5', 'Browser_13', 'Browser_8', 'Region_7', 'TrafficType_19', 'VisitorType_Other', 'Region_3', 'Month_Aug', 'Browser_6', 'Browser_2', 'Month_Feb', 'TrafficType_9', 'VisitorType_Returning_Visitor', 'Region_6', 'TrafficType_11', 'OperatingSystems_6', 'TrafficType_15', 'Browser_4', 'Month_June', 'Month_Oct', 'OperatingSystems_1', 'Month_Jul', 'Region_8', 'Region_9', 'TrafficType_10', 'Browser_10', 'Month_Dec', 'Month_Sep', 'TrafficType_6', 'OperatingSystems_4', 'BounceRates', 'Weekend_False', 'TrafficType_8', 'Browser_5', 'TrafficType_1', 'Browser_1', 'TrafficType_7', 'TrafficType_20', 'Weekend_True', 'SpecialDay', 'ExitRates', 'TrafficType_3', 'TrafficType_13', 'OperatingSystems_3', 'Region_1', 'OperatingSystems_2', 'Region_4', 'Region_5', 'TrafficType_4']\n",
      "M55 subset score (3.): 0.8857258718572586\n",
      "............\n",
      "Best model (M56) with 56 features: ['PageValues', 'VisitorType_New_Visitor', 'Region_2', 'Browser_3', 'Browser_7', 'OperatingSystems_8', 'TrafficType_5', 'Browser_13', 'Browser_8', 'Region_7', 'TrafficType_19', 'VisitorType_Other', 'Region_3', 'Month_Aug', 'Browser_6', 'Browser_2', 'Month_Feb', 'TrafficType_9', 'VisitorType_Returning_Visitor', 'Region_6', 'TrafficType_11', 'OperatingSystems_6', 'TrafficType_15', 'Browser_4', 'Month_June', 'Month_Oct', 'OperatingSystems_1', 'Month_Jul', 'Region_8', 'Region_9', 'TrafficType_10', 'Browser_10', 'Month_Dec', 'Month_Sep', 'TrafficType_6', 'OperatingSystems_4', 'BounceRates', 'Weekend_False', 'TrafficType_8', 'Browser_5', 'TrafficType_1', 'Browser_1', 'TrafficType_7', 'TrafficType_20', 'Weekend_True', 'SpecialDay', 'ExitRates', 'TrafficType_3', 'TrafficType_13', 'OperatingSystems_3', 'Region_1', 'OperatingSystems_2', 'Region_4', 'Region_5', 'TrafficType_4', 'TrafficType_2']\n",
      "M56 subset score (3.): 0.8860502838605028\n",
      "............\n",
      "Best model (M57) with 57 features: ['PageValues', 'VisitorType_New_Visitor', 'Region_2', 'Browser_3', 'Browser_7', 'OperatingSystems_8', 'TrafficType_5', 'Browser_13', 'Browser_8', 'Region_7', 'TrafficType_19', 'VisitorType_Other', 'Region_3', 'Month_Aug', 'Browser_6', 'Browser_2', 'Month_Feb', 'TrafficType_9', 'VisitorType_Returning_Visitor', 'Region_6', 'TrafficType_11', 'OperatingSystems_6', 'TrafficType_15', 'Browser_4', 'Month_June', 'Month_Oct', 'OperatingSystems_1', 'Month_Jul', 'Region_8', 'Region_9', 'TrafficType_10', 'Browser_10', 'Month_Dec', 'Month_Sep', 'TrafficType_6', 'OperatingSystems_4', 'BounceRates', 'Weekend_False', 'TrafficType_8', 'Browser_5', 'TrafficType_1', 'Browser_1', 'TrafficType_7', 'TrafficType_20', 'Weekend_True', 'SpecialDay', 'ExitRates', 'TrafficType_3', 'TrafficType_13', 'OperatingSystems_3', 'Region_1', 'OperatingSystems_2', 'Region_4', 'Region_5', 'TrafficType_4', 'TrafficType_2', 'Informational_Duration']\n",
      "M57 subset score (3.): 0.8851581508515813\n",
      "............\n",
      "Best model (M58) with 58 features: ['PageValues', 'VisitorType_New_Visitor', 'Region_2', 'Browser_3', 'Browser_7', 'OperatingSystems_8', 'TrafficType_5', 'Browser_13', 'Browser_8', 'Region_7', 'TrafficType_19', 'VisitorType_Other', 'Region_3', 'Month_Aug', 'Browser_6', 'Browser_2', 'Month_Feb', 'TrafficType_9', 'VisitorType_Returning_Visitor', 'Region_6', 'TrafficType_11', 'OperatingSystems_6', 'TrafficType_15', 'Browser_4', 'Month_June', 'Month_Oct', 'OperatingSystems_1', 'Month_Jul', 'Region_8', 'Region_9', 'TrafficType_10', 'Browser_10', 'Month_Dec', 'Month_Sep', 'TrafficType_6', 'OperatingSystems_4', 'BounceRates', 'Weekend_False', 'TrafficType_8', 'Browser_5', 'TrafficType_1', 'Browser_1', 'TrafficType_7', 'TrafficType_20', 'Weekend_True', 'SpecialDay', 'ExitRates', 'TrafficType_3', 'TrafficType_13', 'OperatingSystems_3', 'Region_1', 'OperatingSystems_2', 'Region_4', 'Region_5', 'TrafficType_4', 'TrafficType_2', 'Informational_Duration', 'Administrative_Duration']\n",
      "M58 subset score (3.): 0.8847526358475264\n",
      "............\n",
      "Best model (M59) with 59 features: ['PageValues', 'VisitorType_New_Visitor', 'Region_2', 'Browser_3', 'Browser_7', 'OperatingSystems_8', 'TrafficType_5', 'Browser_13', 'Browser_8', 'Region_7', 'TrafficType_19', 'VisitorType_Other', 'Region_3', 'Month_Aug', 'Browser_6', 'Browser_2', 'Month_Feb', 'TrafficType_9', 'VisitorType_Returning_Visitor', 'Region_6', 'TrafficType_11', 'OperatingSystems_6', 'TrafficType_15', 'Browser_4', 'Month_June', 'Month_Oct', 'OperatingSystems_1', 'Month_Jul', 'Region_8', 'Region_9', 'TrafficType_10', 'Browser_10', 'Month_Dec', 'Month_Sep', 'TrafficType_6', 'OperatingSystems_4', 'BounceRates', 'Weekend_False', 'TrafficType_8', 'Browser_5', 'TrafficType_1', 'Browser_1', 'TrafficType_7', 'TrafficType_20', 'Weekend_True', 'SpecialDay', 'ExitRates', 'TrafficType_3', 'TrafficType_13', 'OperatingSystems_3', 'Region_1', 'OperatingSystems_2', 'Region_4', 'Region_5', 'TrafficType_4', 'TrafficType_2', 'Informational_Duration', 'Administrative_Duration', 'ProductRelated_Duration']\n",
      "M59 subset score (3.): 0.8858880778588807\n",
      "............\n",
      "Best model (M60) with 60 features: ['PageValues', 'VisitorType_New_Visitor', 'Region_2', 'Browser_3', 'Browser_7', 'OperatingSystems_8', 'TrafficType_5', 'Browser_13', 'Browser_8', 'Region_7', 'TrafficType_19', 'VisitorType_Other', 'Region_3', 'Month_Aug', 'Browser_6', 'Browser_2', 'Month_Feb', 'TrafficType_9', 'VisitorType_Returning_Visitor', 'Region_6', 'TrafficType_11', 'OperatingSystems_6', 'TrafficType_15', 'Browser_4', 'Month_June', 'Month_Oct', 'OperatingSystems_1', 'Month_Jul', 'Region_8', 'Region_9', 'TrafficType_10', 'Browser_10', 'Month_Dec', 'Month_Sep', 'TrafficType_6', 'OperatingSystems_4', 'BounceRates', 'Weekend_False', 'TrafficType_8', 'Browser_5', 'TrafficType_1', 'Browser_1', 'TrafficType_7', 'TrafficType_20', 'Weekend_True', 'SpecialDay', 'ExitRates', 'TrafficType_3', 'TrafficType_13', 'OperatingSystems_3', 'Region_1', 'OperatingSystems_2', 'Region_4', 'Region_5', 'TrafficType_4', 'TrafficType_2', 'Informational_Duration', 'Administrative_Duration', 'ProductRelated_Duration', 'Administrative']\n",
      "M60 subset score (3.): 0.8854014598540146\n"
     ]
    },
    {
     "name": "stdout",
     "output_type": "stream",
     "text": [
      "............\n",
      "Best model (M61) with 61 features: ['PageValues', 'VisitorType_New_Visitor', 'Region_2', 'Browser_3', 'Browser_7', 'OperatingSystems_8', 'TrafficType_5', 'Browser_13', 'Browser_8', 'Region_7', 'TrafficType_19', 'VisitorType_Other', 'Region_3', 'Month_Aug', 'Browser_6', 'Browser_2', 'Month_Feb', 'TrafficType_9', 'VisitorType_Returning_Visitor', 'Region_6', 'TrafficType_11', 'OperatingSystems_6', 'TrafficType_15', 'Browser_4', 'Month_June', 'Month_Oct', 'OperatingSystems_1', 'Month_Jul', 'Region_8', 'Region_9', 'TrafficType_10', 'Browser_10', 'Month_Dec', 'Month_Sep', 'TrafficType_6', 'OperatingSystems_4', 'BounceRates', 'Weekend_False', 'TrafficType_8', 'Browser_5', 'TrafficType_1', 'Browser_1', 'TrafficType_7', 'TrafficType_20', 'Weekend_True', 'SpecialDay', 'ExitRates', 'TrafficType_3', 'TrafficType_13', 'OperatingSystems_3', 'Region_1', 'OperatingSystems_2', 'Region_4', 'Region_5', 'TrafficType_4', 'TrafficType_2', 'Informational_Duration', 'Administrative_Duration', 'ProductRelated_Duration', 'Administrative', 'Informational']\n",
      "M61 subset score (3.): 0.8854825628548257\n",
      "............\n",
      "Best model (M62) with 62 features: ['PageValues', 'VisitorType_New_Visitor', 'Region_2', 'Browser_3', 'Browser_7', 'OperatingSystems_8', 'TrafficType_5', 'Browser_13', 'Browser_8', 'Region_7', 'TrafficType_19', 'VisitorType_Other', 'Region_3', 'Month_Aug', 'Browser_6', 'Browser_2', 'Month_Feb', 'TrafficType_9', 'VisitorType_Returning_Visitor', 'Region_6', 'TrafficType_11', 'OperatingSystems_6', 'TrafficType_15', 'Browser_4', 'Month_June', 'Month_Oct', 'OperatingSystems_1', 'Month_Jul', 'Region_8', 'Region_9', 'TrafficType_10', 'Browser_10', 'Month_Dec', 'Month_Sep', 'TrafficType_6', 'OperatingSystems_4', 'BounceRates', 'Weekend_False', 'TrafficType_8', 'Browser_5', 'TrafficType_1', 'Browser_1', 'TrafficType_7', 'TrafficType_20', 'Weekend_True', 'SpecialDay', 'ExitRates', 'TrafficType_3', 'TrafficType_13', 'OperatingSystems_3', 'Region_1', 'OperatingSystems_2', 'Region_4', 'Region_5', 'TrafficType_4', 'TrafficType_2', 'Informational_Duration', 'Administrative_Duration', 'ProductRelated_Duration', 'Administrative', 'Informational', 'ProductRelated']\n",
      "M62 subset score (3.): 0.8854014598540145\n",
      "............\n",
      "Best model (M63) with 63 features: ['PageValues', 'VisitorType_New_Visitor', 'Region_2', 'Browser_3', 'Browser_7', 'OperatingSystems_8', 'TrafficType_5', 'Browser_13', 'Browser_8', 'Region_7', 'TrafficType_19', 'VisitorType_Other', 'Region_3', 'Month_Aug', 'Browser_6', 'Browser_2', 'Month_Feb', 'TrafficType_9', 'VisitorType_Returning_Visitor', 'Region_6', 'TrafficType_11', 'OperatingSystems_6', 'TrafficType_15', 'Browser_4', 'Month_June', 'Month_Oct', 'OperatingSystems_1', 'Month_Jul', 'Region_8', 'Region_9', 'TrafficType_10', 'Browser_10', 'Month_Dec', 'Month_Sep', 'TrafficType_6', 'OperatingSystems_4', 'BounceRates', 'Weekend_False', 'TrafficType_8', 'Browser_5', 'TrafficType_1', 'Browser_1', 'TrafficType_7', 'TrafficType_20', 'Weekend_True', 'SpecialDay', 'ExitRates', 'TrafficType_3', 'TrafficType_13', 'OperatingSystems_3', 'Region_1', 'OperatingSystems_2', 'Region_4', 'Region_5', 'TrafficType_4', 'TrafficType_2', 'Informational_Duration', 'Administrative_Duration', 'ProductRelated_Duration', 'Administrative', 'Informational', 'ProductRelated', 'Month_May']\n",
      "M63 subset score (3.): 0.8845093268450933\n",
      "............\n",
      "Best model (M64) with 64 features: ['PageValues', 'VisitorType_New_Visitor', 'Region_2', 'Browser_3', 'Browser_7', 'OperatingSystems_8', 'TrafficType_5', 'Browser_13', 'Browser_8', 'Region_7', 'TrafficType_19', 'VisitorType_Other', 'Region_3', 'Month_Aug', 'Browser_6', 'Browser_2', 'Month_Feb', 'TrafficType_9', 'VisitorType_Returning_Visitor', 'Region_6', 'TrafficType_11', 'OperatingSystems_6', 'TrafficType_15', 'Browser_4', 'Month_June', 'Month_Oct', 'OperatingSystems_1', 'Month_Jul', 'Region_8', 'Region_9', 'TrafficType_10', 'Browser_10', 'Month_Dec', 'Month_Sep', 'TrafficType_6', 'OperatingSystems_4', 'BounceRates', 'Weekend_False', 'TrafficType_8', 'Browser_5', 'TrafficType_1', 'Browser_1', 'TrafficType_7', 'TrafficType_20', 'Weekend_True', 'SpecialDay', 'ExitRates', 'TrafficType_3', 'TrafficType_13', 'OperatingSystems_3', 'Region_1', 'OperatingSystems_2', 'Region_4', 'Region_5', 'TrafficType_4', 'TrafficType_2', 'Informational_Duration', 'Administrative_Duration', 'ProductRelated_Duration', 'Administrative', 'Informational', 'ProductRelated', 'Month_May', 'Month_Nov']\n",
      "M64 subset score (3.): 0.8843471208434712\n",
      "............\n",
      "Best model (M65) with 65 features: ['PageValues', 'VisitorType_New_Visitor', 'Region_2', 'Browser_3', 'Browser_7', 'OperatingSystems_8', 'TrafficType_5', 'Browser_13', 'Browser_8', 'Region_7', 'TrafficType_19', 'VisitorType_Other', 'Region_3', 'Month_Aug', 'Browser_6', 'Browser_2', 'Month_Feb', 'TrafficType_9', 'VisitorType_Returning_Visitor', 'Region_6', 'TrafficType_11', 'OperatingSystems_6', 'TrafficType_15', 'Browser_4', 'Month_June', 'Month_Oct', 'OperatingSystems_1', 'Month_Jul', 'Region_8', 'Region_9', 'TrafficType_10', 'Browser_10', 'Month_Dec', 'Month_Sep', 'TrafficType_6', 'OperatingSystems_4', 'BounceRates', 'Weekend_False', 'TrafficType_8', 'Browser_5', 'TrafficType_1', 'Browser_1', 'TrafficType_7', 'TrafficType_20', 'Weekend_True', 'SpecialDay', 'ExitRates', 'TrafficType_3', 'TrafficType_13', 'OperatingSystems_3', 'Region_1', 'OperatingSystems_2', 'Region_4', 'Region_5', 'TrafficType_4', 'TrafficType_2', 'Informational_Duration', 'Administrative_Duration', 'ProductRelated_Duration', 'Administrative', 'Informational', 'ProductRelated', 'Month_May', 'Month_Nov', 'Month_Mar']\n",
      "M65 subset score (3.): 0.8845093268450934\n",
      "\n",
      " Best configuration has 51 features\n",
      "Features: ['PageValues', 'VisitorType_New_Visitor', 'Region_2', 'Browser_3', 'Browser_7', 'OperatingSystems_8', 'TrafficType_5', 'Browser_13', 'Browser_8', 'Region_7', 'TrafficType_19', 'VisitorType_Other', 'Region_3', 'Month_Aug', 'Browser_6', 'Browser_2', 'Month_Feb', 'TrafficType_9', 'VisitorType_Returning_Visitor', 'Region_6', 'TrafficType_11', 'OperatingSystems_6', 'TrafficType_15', 'Browser_4', 'Month_June', 'Month_Oct', 'OperatingSystems_1', 'Month_Jul', 'Region_8', 'Region_9', 'TrafficType_10', 'Browser_10', 'Month_Dec', 'Month_Sep', 'TrafficType_6', 'OperatingSystems_4', 'BounceRates', 'Weekend_False', 'TrafficType_8', 'Browser_5', 'TrafficType_1', 'Browser_1', 'TrafficType_7', 'TrafficType_20', 'Weekend_True', 'SpecialDay', 'ExitRates', 'TrafficType_3', 'TrafficType_13', 'OperatingSystems_3', 'Region_1']\n",
      "Total number of trained models: 2470\n"
     ]
    },
    {
     "data": {
      "text/plain": [
       "['PageValues',\n",
       " 'VisitorType_New_Visitor',\n",
       " 'Region_2',\n",
       " 'Browser_3',\n",
       " 'Browser_7',\n",
       " 'OperatingSystems_8',\n",
       " 'TrafficType_5',\n",
       " 'Browser_13',\n",
       " 'Browser_8',\n",
       " 'Region_7',\n",
       " 'TrafficType_19',\n",
       " 'VisitorType_Other',\n",
       " 'Region_3',\n",
       " 'Month_Aug',\n",
       " 'Browser_6',\n",
       " 'Browser_2',\n",
       " 'Month_Feb',\n",
       " 'TrafficType_9',\n",
       " 'VisitorType_Returning_Visitor',\n",
       " 'Region_6',\n",
       " 'TrafficType_11',\n",
       " 'OperatingSystems_6',\n",
       " 'TrafficType_15',\n",
       " 'Browser_4',\n",
       " 'Month_June',\n",
       " 'Month_Oct',\n",
       " 'OperatingSystems_1',\n",
       " 'Month_Jul',\n",
       " 'Region_8',\n",
       " 'Region_9',\n",
       " 'TrafficType_10',\n",
       " 'Browser_10',\n",
       " 'Month_Dec',\n",
       " 'Month_Sep',\n",
       " 'TrafficType_6',\n",
       " 'OperatingSystems_4',\n",
       " 'BounceRates',\n",
       " 'Weekend_False',\n",
       " 'TrafficType_8',\n",
       " 'Browser_5',\n",
       " 'TrafficType_1',\n",
       " 'Browser_1',\n",
       " 'TrafficType_7',\n",
       " 'TrafficType_20',\n",
       " 'Weekend_True',\n",
       " 'SpecialDay',\n",
       " 'ExitRates',\n",
       " 'TrafficType_3',\n",
       " 'TrafficType_13',\n",
       " 'OperatingSystems_3',\n",
       " 'Region_1']"
      ]
     },
     "execution_count": 11,
     "metadata": {},
     "output_type": "execute_result"
    }
   ],
   "source": [
    "cv = KFold(n_splits=5, random_state=42, shuffle=True)\n",
    "features_logistic = forward_selection(X_train_scaled, y_train, \"LogisticRegression\",\n",
    "                  get_evaluator(make_scorer(accuracy)), np.argmax, # 2.\n",
    "                  get_cv_evaluator(make_scorer(accuracy), cv), np.argmax, # 3.\n",
    "                  candidates_scorer_name=\"Accuracy\",\n",
    "                  subsets_scorer_name=\"Accuracy (CV)\",\n",
    "                  verbose=True, weight_step3=cv.n_splits)\n",
    "features_logistic"
   ]
  },
  {
   "cell_type": "markdown",
   "id": "6efe8489",
   "metadata": {},
   "source": [
    "### Evaluation Metrics"
   ]
  },
  {
   "cell_type": "code",
   "execution_count": 12,
   "id": "dcc10a78",
   "metadata": {},
   "outputs": [
    {
     "data": {
      "text/html": [
       "<div>\n",
       "<style scoped>\n",
       "    .dataframe tbody tr th:only-of-type {\n",
       "        vertical-align: middle;\n",
       "    }\n",
       "\n",
       "    .dataframe tbody tr th {\n",
       "        vertical-align: top;\n",
       "    }\n",
       "\n",
       "    .dataframe thead th {\n",
       "        text-align: right;\n",
       "    }\n",
       "</style>\n",
       "<table border=\"1\" class=\"dataframe\">\n",
       "  <thead>\n",
       "    <tr style=\"text-align: right;\">\n",
       "      <th></th>\n",
       "      <th>Model</th>\n",
       "      <th>Accuracy</th>\n",
       "      <th>Sensitivity</th>\n",
       "      <th>Specificity</th>\n",
       "    </tr>\n",
       "  </thead>\n",
       "  <tbody>\n",
       "    <tr>\n",
       "      <th>0</th>\n",
       "      <td>LogisticRegression</td>\n",
       "      <td>0.885807</td>\n",
       "      <td>0.375886</td>\n",
       "      <td>0.768263</td>\n",
       "    </tr>\n",
       "  </tbody>\n",
       "</table>\n",
       "</div>"
      ],
      "text/plain": [
       "                Model  Accuracy  Sensitivity  Specificity\n",
       "0  LogisticRegression  0.885807     0.375886     0.768263"
      ]
     },
     "execution_count": 12,
     "metadata": {},
     "output_type": "execute_result"
    }
   ],
   "source": [
    "model_logistic = LogisticRegression(solver=\"newton-cg\",penalty=\"none\",max_iter=1000)\n",
    "train_scores_logistic = classification_metrics_training(model_logistic, \"LogisticRegression\", X_train_scaled[features_logistic], y_train,cv)\n",
    "train_scores_logistic"
   ]
  },
  {
   "cell_type": "markdown",
   "id": "3ec82040",
   "metadata": {},
   "source": [
    "The sensitivity is very low, we try to improve it using the empirical threshold"
   ]
  },
  {
   "cell_type": "code",
   "execution_count": 13,
   "id": "bf18bb67",
   "metadata": {},
   "outputs": [
    {
     "data": {
      "text/html": [
       "<div>\n",
       "<style scoped>\n",
       "    .dataframe tbody tr th:only-of-type {\n",
       "        vertical-align: middle;\n",
       "    }\n",
       "\n",
       "    .dataframe tbody tr th {\n",
       "        vertical-align: top;\n",
       "    }\n",
       "\n",
       "    .dataframe thead th {\n",
       "        text-align: right;\n",
       "    }\n",
       "</style>\n",
       "<table border=\"1\" class=\"dataframe\">\n",
       "  <thead>\n",
       "    <tr style=\"text-align: right;\">\n",
       "      <th></th>\n",
       "      <th>Model</th>\n",
       "      <th>Accuracy</th>\n",
       "      <th>Sensitivity</th>\n",
       "      <th>Specificity</th>\n",
       "    </tr>\n",
       "  </thead>\n",
       "  <tbody>\n",
       "    <tr>\n",
       "      <th>0</th>\n",
       "      <td>LogisticRegression</td>\n",
       "      <td>0.832279</td>\n",
       "      <td>0.748428</td>\n",
       "      <td>0.473475</td>\n",
       "    </tr>\n",
       "  </tbody>\n",
       "</table>\n",
       "</div>"
      ],
      "text/plain": [
       "                Model  Accuracy  Sensitivity  Specificity\n",
       "0  LogisticRegression  0.832279     0.748428     0.473475"
      ]
     },
     "execution_count": 13,
     "metadata": {},
     "output_type": "execute_result"
    }
   ],
   "source": [
    "train_scores_logistic_empirical = classification_metrics_empirical_threshold(model_logistic, 'LogisticRegression', X_train_scaled[features_logistic], y_train,empirical_threshold)\n",
    "train_scores_logistic_empirical"
   ]
  },
  {
   "cell_type": "markdown",
   "id": "17bd991c",
   "metadata": {},
   "source": [
    "# LDA"
   ]
  },
  {
   "cell_type": "markdown",
   "id": "bc563bb6",
   "metadata": {},
   "source": [
    "### Feature selection"
   ]
  },
  {
   "cell_type": "code",
   "execution_count": 14,
   "id": "29d04943",
   "metadata": {},
   "outputs": [
    {
     "name": "stdout",
     "output_type": "stream",
     "text": [
      "............\n",
      "Best model (M1) with 1 features: ['PageValues']\n",
      "M1 subset score (3.): 0.8789943227899432\n",
      "............\n",
      "Best model (M2) with 2 features: ['PageValues', 'ExitRates']\n",
      "M2 subset score (3.): 0.8815085158150853\n",
      "............\n",
      "Best model (M3) with 3 features: ['PageValues', 'ExitRates', 'Administrative_Duration']\n",
      "M3 subset score (3.): 0.8812652068126521\n",
      "............\n",
      "Best model (M4) with 4 features: ['PageValues', 'ExitRates', 'Administrative_Duration', 'VisitorType_Other']\n",
      "M4 subset score (3.): 0.8813463098134632\n",
      "............\n",
      "Best model (M5) with 5 features: ['PageValues', 'ExitRates', 'Administrative_Duration', 'VisitorType_Other', 'Browser_1']\n",
      "M5 subset score (3.): 0.8814274128142742\n",
      "............\n",
      "Best model (M6) with 6 features: ['PageValues', 'ExitRates', 'Administrative_Duration', 'VisitorType_Other', 'Browser_1', 'Browser_13']\n",
      "M6 subset score (3.): 0.8812652068126521\n",
      "............\n",
      "Best model (M7) with 7 features: ['PageValues', 'ExitRates', 'Administrative_Duration', 'VisitorType_Other', 'Browser_1', 'Browser_13', 'Month_Aug']\n",
      "M7 subset score (3.): 0.8812652068126521\n",
      "............\n",
      "Best model (M8) with 8 features: ['PageValues', 'ExitRates', 'Administrative_Duration', 'VisitorType_Other', 'Browser_1', 'Browser_13', 'Month_Aug', 'OperatingSystems_4']\n",
      "M8 subset score (3.): 0.8813463098134632\n",
      "............\n",
      "Best model (M9) with 9 features: ['PageValues', 'ExitRates', 'Administrative_Duration', 'VisitorType_Other', 'Browser_1', 'Browser_13', 'Month_Aug', 'OperatingSystems_4', 'Browser_3']\n",
      "M9 subset score (3.): 0.8814274128142742\n",
      "............\n",
      "Best model (M10) with 10 features: ['PageValues', 'ExitRates', 'Administrative_Duration', 'VisitorType_Other', 'Browser_1', 'Browser_13', 'Month_Aug', 'OperatingSystems_4', 'Browser_3', 'Browser_4']\n",
      "M10 subset score (3.): 0.8815896188158963\n",
      "............\n",
      "Best model (M11) with 11 features: ['PageValues', 'ExitRates', 'Administrative_Duration', 'VisitorType_Other', 'Browser_1', 'Browser_13', 'Month_Aug', 'OperatingSystems_4', 'Browser_3', 'Browser_4', 'Month_Feb']\n",
      "M11 subset score (3.): 0.8817518248175183\n",
      "............\n",
      "Best model (M12) with 12 features: ['PageValues', 'ExitRates', 'Administrative_Duration', 'VisitorType_Other', 'Browser_1', 'Browser_13', 'Month_Aug', 'OperatingSystems_4', 'Browser_3', 'Browser_4', 'Month_Feb', 'Browser_7']\n",
      "M12 subset score (3.): 0.8816707218167072\n",
      "............\n",
      "Best model (M13) with 13 features: ['PageValues', 'ExitRates', 'Administrative_Duration', 'VisitorType_Other', 'Browser_1', 'Browser_13', 'Month_Aug', 'OperatingSystems_4', 'Browser_3', 'Browser_4', 'Month_Feb', 'Browser_7', 'Month_June']\n",
      "M13 subset score (3.): 0.8815085158150853\n",
      "............\n",
      "Best model (M14) with 14 features: ['PageValues', 'ExitRates', 'Administrative_Duration', 'VisitorType_Other', 'Browser_1', 'Browser_13', 'Month_Aug', 'OperatingSystems_4', 'Browser_3', 'Browser_4', 'Month_Feb', 'Browser_7', 'Month_June', 'OperatingSystems_6']\n",
      "M14 subset score (3.): 0.8815085158150853\n",
      "............\n",
      "Best model (M15) with 15 features: ['PageValues', 'ExitRates', 'Administrative_Duration', 'VisitorType_Other', 'Browser_1', 'Browser_13', 'Month_Aug', 'OperatingSystems_4', 'Browser_3', 'Browser_4', 'Month_Feb', 'Browser_7', 'Month_June', 'OperatingSystems_6', 'Month_Jul']\n",
      "M15 subset score (3.): 0.8817518248175183\n",
      "............\n",
      "Best model (M16) with 16 features: ['PageValues', 'ExitRates', 'Administrative_Duration', 'VisitorType_Other', 'Browser_1', 'Browser_13', 'Month_Aug', 'OperatingSystems_4', 'Browser_3', 'Browser_4', 'Month_Feb', 'Browser_7', 'Month_June', 'OperatingSystems_6', 'Month_Jul', 'OperatingSystems_8']\n",
      "M16 subset score (3.): 0.8817518248175183\n",
      "............\n",
      "Best model (M17) with 17 features: ['PageValues', 'ExitRates', 'Administrative_Duration', 'VisitorType_Other', 'Browser_1', 'Browser_13', 'Month_Aug', 'OperatingSystems_4', 'Browser_3', 'Browser_4', 'Month_Feb', 'Browser_7', 'Month_June', 'OperatingSystems_6', 'Month_Jul', 'OperatingSystems_8', 'Region_4']\n",
      "M17 subset score (3.): 0.8813463098134632\n",
      "............\n",
      "Best model (M18) with 18 features: ['PageValues', 'ExitRates', 'Administrative_Duration', 'VisitorType_Other', 'Browser_1', 'Browser_13', 'Month_Aug', 'OperatingSystems_4', 'Browser_3', 'Browser_4', 'Month_Feb', 'Browser_7', 'Month_June', 'OperatingSystems_6', 'Month_Jul', 'OperatingSystems_8', 'Region_4', 'Browser_8']\n",
      "M18 subset score (3.): 0.8813463098134632\n",
      "............\n",
      "Best model (M19) with 19 features: ['PageValues', 'ExitRates', 'Administrative_Duration', 'VisitorType_Other', 'Browser_1', 'Browser_13', 'Month_Aug', 'OperatingSystems_4', 'Browser_3', 'Browser_4', 'Month_Feb', 'Browser_7', 'Month_June', 'OperatingSystems_6', 'Month_Jul', 'OperatingSystems_8', 'Region_4', 'Browser_8', 'OperatingSystems_1']\n",
      "M19 subset score (3.): 0.8814274128142742\n",
      "............\n",
      "Best model (M20) with 20 features: ['PageValues', 'ExitRates', 'Administrative_Duration', 'VisitorType_Other', 'Browser_1', 'Browser_13', 'Month_Aug', 'OperatingSystems_4', 'Browser_3', 'Browser_4', 'Month_Feb', 'Browser_7', 'Month_June', 'OperatingSystems_6', 'Month_Jul', 'OperatingSystems_8', 'Region_4', 'Browser_8', 'OperatingSystems_1', 'TrafficType_19']\n",
      "M20 subset score (3.): 0.8814274128142742\n",
      "............\n",
      "Best model (M21) with 21 features: ['PageValues', 'ExitRates', 'Administrative_Duration', 'VisitorType_Other', 'Browser_1', 'Browser_13', 'Month_Aug', 'OperatingSystems_4', 'Browser_3', 'Browser_4', 'Month_Feb', 'Browser_7', 'Month_June', 'OperatingSystems_6', 'Month_Jul', 'OperatingSystems_8', 'Region_4', 'Browser_8', 'OperatingSystems_1', 'TrafficType_19', 'TrafficType_15']\n",
      "M21 subset score (3.): 0.8815085158150853\n",
      "............\n",
      "Best model (M22) with 22 features: ['PageValues', 'ExitRates', 'Administrative_Duration', 'VisitorType_Other', 'Browser_1', 'Browser_13', 'Month_Aug', 'OperatingSystems_4', 'Browser_3', 'Browser_4', 'Month_Feb', 'Browser_7', 'Month_June', 'OperatingSystems_6', 'Month_Jul', 'OperatingSystems_8', 'Region_4', 'Browser_8', 'OperatingSystems_1', 'TrafficType_19', 'TrafficType_15', 'TrafficType_9']\n",
      "M22 subset score (3.): 0.8815085158150853\n",
      "............\n",
      "Best model (M23) with 23 features: ['PageValues', 'ExitRates', 'Administrative_Duration', 'VisitorType_Other', 'Browser_1', 'Browser_13', 'Month_Aug', 'OperatingSystems_4', 'Browser_3', 'Browser_4', 'Month_Feb', 'Browser_7', 'Month_June', 'OperatingSystems_6', 'Month_Jul', 'OperatingSystems_8', 'Region_4', 'Browser_8', 'OperatingSystems_1', 'TrafficType_19', 'TrafficType_15', 'TrafficType_9', 'Browser_2']\n",
      "M23 subset score (3.): 0.8813463098134632\n",
      "............\n",
      "Best model (M24) with 24 features: ['PageValues', 'ExitRates', 'Administrative_Duration', 'VisitorType_Other', 'Browser_1', 'Browser_13', 'Month_Aug', 'OperatingSystems_4', 'Browser_3', 'Browser_4', 'Month_Feb', 'Browser_7', 'Month_June', 'OperatingSystems_6', 'Month_Jul', 'OperatingSystems_8', 'Region_4', 'Browser_8', 'OperatingSystems_1', 'TrafficType_19', 'TrafficType_15', 'TrafficType_9', 'Browser_2', 'Browser_10']\n",
      "M24 subset score (3.): 0.8813463098134632\n",
      "............\n",
      "Best model (M25) with 25 features: ['PageValues', 'ExitRates', 'Administrative_Duration', 'VisitorType_Other', 'Browser_1', 'Browser_13', 'Month_Aug', 'OperatingSystems_4', 'Browser_3', 'Browser_4', 'Month_Feb', 'Browser_7', 'Month_June', 'OperatingSystems_6', 'Month_Jul', 'OperatingSystems_8', 'Region_4', 'Browser_8', 'OperatingSystems_1', 'TrafficType_19', 'TrafficType_15', 'TrafficType_9', 'Browser_2', 'Browser_10', 'Region_7']\n",
      "M25 subset score (3.): 0.8815085158150853\n",
      "............\n",
      "Best model (M26) with 26 features: ['PageValues', 'ExitRates', 'Administrative_Duration', 'VisitorType_Other', 'Browser_1', 'Browser_13', 'Month_Aug', 'OperatingSystems_4', 'Browser_3', 'Browser_4', 'Month_Feb', 'Browser_7', 'Month_June', 'OperatingSystems_6', 'Month_Jul', 'OperatingSystems_8', 'Region_4', 'Browser_8', 'OperatingSystems_1', 'TrafficType_19', 'TrafficType_15', 'TrafficType_9', 'Browser_2', 'Browser_10', 'Region_7', 'Month_Sep']\n",
      "M26 subset score (3.): 0.8815896188158963\n",
      "............\n",
      "Best model (M27) with 27 features: ['PageValues', 'ExitRates', 'Administrative_Duration', 'VisitorType_Other', 'Browser_1', 'Browser_13', 'Month_Aug', 'OperatingSystems_4', 'Browser_3', 'Browser_4', 'Month_Feb', 'Browser_7', 'Month_June', 'OperatingSystems_6', 'Month_Jul', 'OperatingSystems_8', 'Region_4', 'Browser_8', 'OperatingSystems_1', 'TrafficType_19', 'TrafficType_15', 'TrafficType_9', 'Browser_2', 'Browser_10', 'Region_7', 'Month_Sep', 'Region_2']\n",
      "M27 subset score (3.): 0.8812652068126521\n"
     ]
    },
    {
     "name": "stdout",
     "output_type": "stream",
     "text": [
      "............\n",
      "Best model (M28) with 28 features: ['PageValues', 'ExitRates', 'Administrative_Duration', 'VisitorType_Other', 'Browser_1', 'Browser_13', 'Month_Aug', 'OperatingSystems_4', 'Browser_3', 'Browser_4', 'Month_Feb', 'Browser_7', 'Month_June', 'OperatingSystems_6', 'Month_Jul', 'OperatingSystems_8', 'Region_4', 'Browser_8', 'OperatingSystems_1', 'TrafficType_19', 'TrafficType_15', 'TrafficType_9', 'Browser_2', 'Browser_10', 'Region_7', 'Month_Sep', 'Region_2', 'Region_3']\n",
      "M28 subset score (3.): 0.8817518248175183\n",
      "............\n",
      "Best model (M29) with 29 features: ['PageValues', 'ExitRates', 'Administrative_Duration', 'VisitorType_Other', 'Browser_1', 'Browser_13', 'Month_Aug', 'OperatingSystems_4', 'Browser_3', 'Browser_4', 'Month_Feb', 'Browser_7', 'Month_June', 'OperatingSystems_6', 'Month_Jul', 'OperatingSystems_8', 'Region_4', 'Browser_8', 'OperatingSystems_1', 'TrafficType_19', 'TrafficType_15', 'TrafficType_9', 'Browser_2', 'Browser_10', 'Region_7', 'Month_Sep', 'Region_2', 'Region_3', 'TrafficType_4']\n",
      "M29 subset score (3.): 0.8813463098134632\n",
      "............\n",
      "Best model (M30) with 30 features: ['PageValues', 'ExitRates', 'Administrative_Duration', 'VisitorType_Other', 'Browser_1', 'Browser_13', 'Month_Aug', 'OperatingSystems_4', 'Browser_3', 'Browser_4', 'Month_Feb', 'Browser_7', 'Month_June', 'OperatingSystems_6', 'Month_Jul', 'OperatingSystems_8', 'Region_4', 'Browser_8', 'OperatingSystems_1', 'TrafficType_19', 'TrafficType_15', 'TrafficType_9', 'Browser_2', 'Browser_10', 'Region_7', 'Month_Sep', 'Region_2', 'Region_3', 'TrafficType_4', 'TrafficType_5']\n",
      "M30 subset score (3.): 0.8815085158150853\n",
      "............\n",
      "Best model (M31) with 31 features: ['PageValues', 'ExitRates', 'Administrative_Duration', 'VisitorType_Other', 'Browser_1', 'Browser_13', 'Month_Aug', 'OperatingSystems_4', 'Browser_3', 'Browser_4', 'Month_Feb', 'Browser_7', 'Month_June', 'OperatingSystems_6', 'Month_Jul', 'OperatingSystems_8', 'Region_4', 'Browser_8', 'OperatingSystems_1', 'TrafficType_19', 'TrafficType_15', 'TrafficType_9', 'Browser_2', 'Browser_10', 'Region_7', 'Month_Sep', 'Region_2', 'Region_3', 'TrafficType_4', 'TrafficType_5', 'Month_Oct']\n",
      "M31 subset score (3.): 0.8815896188158963\n",
      "............\n",
      "Best model (M32) with 32 features: ['PageValues', 'ExitRates', 'Administrative_Duration', 'VisitorType_Other', 'Browser_1', 'Browser_13', 'Month_Aug', 'OperatingSystems_4', 'Browser_3', 'Browser_4', 'Month_Feb', 'Browser_7', 'Month_June', 'OperatingSystems_6', 'Month_Jul', 'OperatingSystems_8', 'Region_4', 'Browser_8', 'OperatingSystems_1', 'TrafficType_19', 'TrafficType_15', 'TrafficType_9', 'Browser_2', 'Browser_10', 'Region_7', 'Month_Sep', 'Region_2', 'Region_3', 'TrafficType_4', 'TrafficType_5', 'Month_Oct', 'TrafficType_20']\n",
      "M32 subset score (3.): 0.8815085158150853\n",
      "............\n",
      "Best model (M33) with 33 features: ['PageValues', 'ExitRates', 'Administrative_Duration', 'VisitorType_Other', 'Browser_1', 'Browser_13', 'Month_Aug', 'OperatingSystems_4', 'Browser_3', 'Browser_4', 'Month_Feb', 'Browser_7', 'Month_June', 'OperatingSystems_6', 'Month_Jul', 'OperatingSystems_8', 'Region_4', 'Browser_8', 'OperatingSystems_1', 'TrafficType_19', 'TrafficType_15', 'TrafficType_9', 'Browser_2', 'Browser_10', 'Region_7', 'Month_Sep', 'Region_2', 'Region_3', 'TrafficType_4', 'TrafficType_5', 'Month_Oct', 'TrafficType_20', 'SpecialDay']\n",
      "M33 subset score (3.): 0.881021897810219\n",
      "............\n",
      "Best model (M34) with 34 features: ['PageValues', 'ExitRates', 'Administrative_Duration', 'VisitorType_Other', 'Browser_1', 'Browser_13', 'Month_Aug', 'OperatingSystems_4', 'Browser_3', 'Browser_4', 'Month_Feb', 'Browser_7', 'Month_June', 'OperatingSystems_6', 'Month_Jul', 'OperatingSystems_8', 'Region_4', 'Browser_8', 'OperatingSystems_1', 'TrafficType_19', 'TrafficType_15', 'TrafficType_9', 'Browser_2', 'Browser_10', 'Region_7', 'Month_Sep', 'Region_2', 'Region_3', 'TrafficType_4', 'TrafficType_5', 'Month_Oct', 'TrafficType_20', 'SpecialDay', 'TrafficType_10']\n",
      "M34 subset score (3.): 0.8812652068126521\n",
      "............\n",
      "Best model (M35) with 35 features: ['PageValues', 'ExitRates', 'Administrative_Duration', 'VisitorType_Other', 'Browser_1', 'Browser_13', 'Month_Aug', 'OperatingSystems_4', 'Browser_3', 'Browser_4', 'Month_Feb', 'Browser_7', 'Month_June', 'OperatingSystems_6', 'Month_Jul', 'OperatingSystems_8', 'Region_4', 'Browser_8', 'OperatingSystems_1', 'TrafficType_19', 'TrafficType_15', 'TrafficType_9', 'Browser_2', 'Browser_10', 'Region_7', 'Month_Sep', 'Region_2', 'Region_3', 'TrafficType_4', 'TrafficType_5', 'Month_Oct', 'TrafficType_20', 'SpecialDay', 'TrafficType_10', 'Browser_6']\n",
      "M35 subset score (3.): 0.8811841038118411\n",
      "............\n",
      "Best model (M36) with 36 features: ['PageValues', 'ExitRates', 'Administrative_Duration', 'VisitorType_Other', 'Browser_1', 'Browser_13', 'Month_Aug', 'OperatingSystems_4', 'Browser_3', 'Browser_4', 'Month_Feb', 'Browser_7', 'Month_June', 'OperatingSystems_6', 'Month_Jul', 'OperatingSystems_8', 'Region_4', 'Browser_8', 'OperatingSystems_1', 'TrafficType_19', 'TrafficType_15', 'TrafficType_9', 'Browser_2', 'Browser_10', 'Region_7', 'Month_Sep', 'Region_2', 'Region_3', 'TrafficType_4', 'TrafficType_5', 'Month_Oct', 'TrafficType_20', 'SpecialDay', 'TrafficType_10', 'Browser_6', 'Browser_5']\n",
      "M36 subset score (3.): 0.8813463098134632\n",
      "............\n",
      "Best model (M37) with 37 features: ['PageValues', 'ExitRates', 'Administrative_Duration', 'VisitorType_Other', 'Browser_1', 'Browser_13', 'Month_Aug', 'OperatingSystems_4', 'Browser_3', 'Browser_4', 'Month_Feb', 'Browser_7', 'Month_June', 'OperatingSystems_6', 'Month_Jul', 'OperatingSystems_8', 'Region_4', 'Browser_8', 'OperatingSystems_1', 'TrafficType_19', 'TrafficType_15', 'TrafficType_9', 'Browser_2', 'Browser_10', 'Region_7', 'Month_Sep', 'Region_2', 'Region_3', 'TrafficType_4', 'TrafficType_5', 'Month_Oct', 'TrafficType_20', 'SpecialDay', 'TrafficType_10', 'Browser_6', 'Browser_5', 'Region_9']\n",
      "M37 subset score (3.): 0.8813463098134632\n",
      "............\n",
      "Best model (M38) with 38 features: ['PageValues', 'ExitRates', 'Administrative_Duration', 'VisitorType_Other', 'Browser_1', 'Browser_13', 'Month_Aug', 'OperatingSystems_4', 'Browser_3', 'Browser_4', 'Month_Feb', 'Browser_7', 'Month_June', 'OperatingSystems_6', 'Month_Jul', 'OperatingSystems_8', 'Region_4', 'Browser_8', 'OperatingSystems_1', 'TrafficType_19', 'TrafficType_15', 'TrafficType_9', 'Browser_2', 'Browser_10', 'Region_7', 'Month_Sep', 'Region_2', 'Region_3', 'TrafficType_4', 'TrafficType_5', 'Month_Oct', 'TrafficType_20', 'SpecialDay', 'TrafficType_10', 'Browser_6', 'Browser_5', 'Region_9', 'TrafficType_6']\n",
      "M38 subset score (3.): 0.8812652068126521\n",
      "............\n",
      "Best model (M39) with 39 features: ['PageValues', 'ExitRates', 'Administrative_Duration', 'VisitorType_Other', 'Browser_1', 'Browser_13', 'Month_Aug', 'OperatingSystems_4', 'Browser_3', 'Browser_4', 'Month_Feb', 'Browser_7', 'Month_June', 'OperatingSystems_6', 'Month_Jul', 'OperatingSystems_8', 'Region_4', 'Browser_8', 'OperatingSystems_1', 'TrafficType_19', 'TrafficType_15', 'TrafficType_9', 'Browser_2', 'Browser_10', 'Region_7', 'Month_Sep', 'Region_2', 'Region_3', 'TrafficType_4', 'TrafficType_5', 'Month_Oct', 'TrafficType_20', 'SpecialDay', 'TrafficType_10', 'Browser_6', 'Browser_5', 'Region_9', 'TrafficType_6', 'BounceRates']\n",
      "M39 subset score (3.): 0.8813463098134632\n",
      "............\n",
      "Best model (M40) with 40 features: ['PageValues', 'ExitRates', 'Administrative_Duration', 'VisitorType_Other', 'Browser_1', 'Browser_13', 'Month_Aug', 'OperatingSystems_4', 'Browser_3', 'Browser_4', 'Month_Feb', 'Browser_7', 'Month_June', 'OperatingSystems_6', 'Month_Jul', 'OperatingSystems_8', 'Region_4', 'Browser_8', 'OperatingSystems_1', 'TrafficType_19', 'TrafficType_15', 'TrafficType_9', 'Browser_2', 'Browser_10', 'Region_7', 'Month_Sep', 'Region_2', 'Region_3', 'TrafficType_4', 'TrafficType_5', 'Month_Oct', 'TrafficType_20', 'SpecialDay', 'TrafficType_10', 'Browser_6', 'Browser_5', 'Region_9', 'TrafficType_6', 'BounceRates', 'TrafficType_7']\n",
      "M40 subset score (3.): 0.8811030008110301\n",
      "............\n",
      "Best model (M41) with 41 features: ['PageValues', 'ExitRates', 'Administrative_Duration', 'VisitorType_Other', 'Browser_1', 'Browser_13', 'Month_Aug', 'OperatingSystems_4', 'Browser_3', 'Browser_4', 'Month_Feb', 'Browser_7', 'Month_June', 'OperatingSystems_6', 'Month_Jul', 'OperatingSystems_8', 'Region_4', 'Browser_8', 'OperatingSystems_1', 'TrafficType_19', 'TrafficType_15', 'TrafficType_9', 'Browser_2', 'Browser_10', 'Region_7', 'Month_Sep', 'Region_2', 'Region_3', 'TrafficType_4', 'TrafficType_5', 'Month_Oct', 'TrafficType_20', 'SpecialDay', 'TrafficType_10', 'Browser_6', 'Browser_5', 'Region_9', 'TrafficType_6', 'BounceRates', 'TrafficType_7', 'TrafficType_11']\n",
      "M41 subset score (3.): 0.8811030008110301\n"
     ]
    },
    {
     "name": "stdout",
     "output_type": "stream",
     "text": [
      "............\n",
      "Best model (M42) with 42 features: ['PageValues', 'ExitRates', 'Administrative_Duration', 'VisitorType_Other', 'Browser_1', 'Browser_13', 'Month_Aug', 'OperatingSystems_4', 'Browser_3', 'Browser_4', 'Month_Feb', 'Browser_7', 'Month_June', 'OperatingSystems_6', 'Month_Jul', 'OperatingSystems_8', 'Region_4', 'Browser_8', 'OperatingSystems_1', 'TrafficType_19', 'TrafficType_15', 'TrafficType_9', 'Browser_2', 'Browser_10', 'Region_7', 'Month_Sep', 'Region_2', 'Region_3', 'TrafficType_4', 'TrafficType_5', 'Month_Oct', 'TrafficType_20', 'SpecialDay', 'TrafficType_10', 'Browser_6', 'Browser_5', 'Region_9', 'TrafficType_6', 'BounceRates', 'TrafficType_7', 'TrafficType_11', 'Region_5']\n",
      "M42 subset score (3.): 0.8808596918085969\n",
      "............\n",
      "Best model (M43) with 43 features: ['PageValues', 'ExitRates', 'Administrative_Duration', 'VisitorType_Other', 'Browser_1', 'Browser_13', 'Month_Aug', 'OperatingSystems_4', 'Browser_3', 'Browser_4', 'Month_Feb', 'Browser_7', 'Month_June', 'OperatingSystems_6', 'Month_Jul', 'OperatingSystems_8', 'Region_4', 'Browser_8', 'OperatingSystems_1', 'TrafficType_19', 'TrafficType_15', 'TrafficType_9', 'Browser_2', 'Browser_10', 'Region_7', 'Month_Sep', 'Region_2', 'Region_3', 'TrafficType_4', 'TrafficType_5', 'Month_Oct', 'TrafficType_20', 'SpecialDay', 'TrafficType_10', 'Browser_6', 'Browser_5', 'Region_9', 'TrafficType_6', 'BounceRates', 'TrafficType_7', 'TrafficType_11', 'Region_5', 'TrafficType_8']\n",
      "M43 subset score (3.): 0.880940794809408\n",
      "............\n",
      "Best model (M44) with 44 features: ['PageValues', 'ExitRates', 'Administrative_Duration', 'VisitorType_Other', 'Browser_1', 'Browser_13', 'Month_Aug', 'OperatingSystems_4', 'Browser_3', 'Browser_4', 'Month_Feb', 'Browser_7', 'Month_June', 'OperatingSystems_6', 'Month_Jul', 'OperatingSystems_8', 'Region_4', 'Browser_8', 'OperatingSystems_1', 'TrafficType_19', 'TrafficType_15', 'TrafficType_9', 'Browser_2', 'Browser_10', 'Region_7', 'Month_Sep', 'Region_2', 'Region_3', 'TrafficType_4', 'TrafficType_5', 'Month_Oct', 'TrafficType_20', 'SpecialDay', 'TrafficType_10', 'Browser_6', 'Browser_5', 'Region_9', 'TrafficType_6', 'BounceRates', 'TrafficType_7', 'TrafficType_11', 'Region_5', 'TrafficType_8', 'Month_Mar']\n",
      "M44 subset score (3.): 0.8808596918085969\n",
      "............\n",
      "Best model (M45) with 45 features: ['PageValues', 'ExitRates', 'Administrative_Duration', 'VisitorType_Other', 'Browser_1', 'Browser_13', 'Month_Aug', 'OperatingSystems_4', 'Browser_3', 'Browser_4', 'Month_Feb', 'Browser_7', 'Month_June', 'OperatingSystems_6', 'Month_Jul', 'OperatingSystems_8', 'Region_4', 'Browser_8', 'OperatingSystems_1', 'TrafficType_19', 'TrafficType_15', 'TrafficType_9', 'Browser_2', 'Browser_10', 'Region_7', 'Month_Sep', 'Region_2', 'Region_3', 'TrafficType_4', 'TrafficType_5', 'Month_Oct', 'TrafficType_20', 'SpecialDay', 'TrafficType_10', 'Browser_6', 'Browser_5', 'Region_9', 'TrafficType_6', 'BounceRates', 'TrafficType_7', 'TrafficType_11', 'Region_5', 'TrafficType_8', 'Month_Mar', 'Region_6']\n",
      "M45 subset score (3.): 0.8805352798053528\n",
      "............\n",
      "Best model (M46) with 46 features: ['PageValues', 'ExitRates', 'Administrative_Duration', 'VisitorType_Other', 'Browser_1', 'Browser_13', 'Month_Aug', 'OperatingSystems_4', 'Browser_3', 'Browser_4', 'Month_Feb', 'Browser_7', 'Month_June', 'OperatingSystems_6', 'Month_Jul', 'OperatingSystems_8', 'Region_4', 'Browser_8', 'OperatingSystems_1', 'TrafficType_19', 'TrafficType_15', 'TrafficType_9', 'Browser_2', 'Browser_10', 'Region_7', 'Month_Sep', 'Region_2', 'Region_3', 'TrafficType_4', 'TrafficType_5', 'Month_Oct', 'TrafficType_20', 'SpecialDay', 'TrafficType_10', 'Browser_6', 'Browser_5', 'Region_9', 'TrafficType_6', 'BounceRates', 'TrafficType_7', 'TrafficType_11', 'Region_5', 'TrafficType_8', 'Month_Mar', 'Region_6', 'Month_Dec']\n",
      "M46 subset score (3.): 0.8806163828061638\n",
      "............\n",
      "Best model (M47) with 47 features: ['PageValues', 'ExitRates', 'Administrative_Duration', 'VisitorType_Other', 'Browser_1', 'Browser_13', 'Month_Aug', 'OperatingSystems_4', 'Browser_3', 'Browser_4', 'Month_Feb', 'Browser_7', 'Month_June', 'OperatingSystems_6', 'Month_Jul', 'OperatingSystems_8', 'Region_4', 'Browser_8', 'OperatingSystems_1', 'TrafficType_19', 'TrafficType_15', 'TrafficType_9', 'Browser_2', 'Browser_10', 'Region_7', 'Month_Sep', 'Region_2', 'Region_3', 'TrafficType_4', 'TrafficType_5', 'Month_Oct', 'TrafficType_20', 'SpecialDay', 'TrafficType_10', 'Browser_6', 'Browser_5', 'Region_9', 'TrafficType_6', 'BounceRates', 'TrafficType_7', 'TrafficType_11', 'Region_5', 'TrafficType_8', 'Month_Mar', 'Region_6', 'Month_Dec', 'OperatingSystems_2']\n",
      "M47 subset score (3.): 0.8808596918085969\n",
      "............\n",
      "Best model (M48) with 48 features: ['PageValues', 'ExitRates', 'Administrative_Duration', 'VisitorType_Other', 'Browser_1', 'Browser_13', 'Month_Aug', 'OperatingSystems_4', 'Browser_3', 'Browser_4', 'Month_Feb', 'Browser_7', 'Month_June', 'OperatingSystems_6', 'Month_Jul', 'OperatingSystems_8', 'Region_4', 'Browser_8', 'OperatingSystems_1', 'TrafficType_19', 'TrafficType_15', 'TrafficType_9', 'Browser_2', 'Browser_10', 'Region_7', 'Month_Sep', 'Region_2', 'Region_3', 'TrafficType_4', 'TrafficType_5', 'Month_Oct', 'TrafficType_20', 'SpecialDay', 'TrafficType_10', 'Browser_6', 'Browser_5', 'Region_9', 'TrafficType_6', 'BounceRates', 'TrafficType_7', 'TrafficType_11', 'Region_5', 'TrafficType_8', 'Month_Mar', 'Region_6', 'Month_Dec', 'OperatingSystems_2', 'OperatingSystems_3']\n",
      "M48 subset score (3.): 0.8807785888077859\n",
      "............\n",
      "Best model (M49) with 49 features: ['PageValues', 'ExitRates', 'Administrative_Duration', 'VisitorType_Other', 'Browser_1', 'Browser_13', 'Month_Aug', 'OperatingSystems_4', 'Browser_3', 'Browser_4', 'Month_Feb', 'Browser_7', 'Month_June', 'OperatingSystems_6', 'Month_Jul', 'OperatingSystems_8', 'Region_4', 'Browser_8', 'OperatingSystems_1', 'TrafficType_19', 'TrafficType_15', 'TrafficType_9', 'Browser_2', 'Browser_10', 'Region_7', 'Month_Sep', 'Region_2', 'Region_3', 'TrafficType_4', 'TrafficType_5', 'Month_Oct', 'TrafficType_20', 'SpecialDay', 'TrafficType_10', 'Browser_6', 'Browser_5', 'Region_9', 'TrafficType_6', 'BounceRates', 'TrafficType_7', 'TrafficType_11', 'Region_5', 'TrafficType_8', 'Month_Mar', 'Region_6', 'Month_Dec', 'OperatingSystems_2', 'OperatingSystems_3', 'Region_1']\n",
      "M49 subset score (3.): 0.8807785888077859\n",
      "............\n",
      "Best model (M50) with 50 features: ['PageValues', 'ExitRates', 'Administrative_Duration', 'VisitorType_Other', 'Browser_1', 'Browser_13', 'Month_Aug', 'OperatingSystems_4', 'Browser_3', 'Browser_4', 'Month_Feb', 'Browser_7', 'Month_June', 'OperatingSystems_6', 'Month_Jul', 'OperatingSystems_8', 'Region_4', 'Browser_8', 'OperatingSystems_1', 'TrafficType_19', 'TrafficType_15', 'TrafficType_9', 'Browser_2', 'Browser_10', 'Region_7', 'Month_Sep', 'Region_2', 'Region_3', 'TrafficType_4', 'TrafficType_5', 'Month_Oct', 'TrafficType_20', 'SpecialDay', 'TrafficType_10', 'Browser_6', 'Browser_5', 'Region_9', 'TrafficType_6', 'BounceRates', 'TrafficType_7', 'TrafficType_11', 'Region_5', 'TrafficType_8', 'Month_Mar', 'Region_6', 'Month_Dec', 'OperatingSystems_2', 'OperatingSystems_3', 'Region_1', 'Region_8']\n",
      "M50 subset score (3.): 0.8807785888077859\n",
      "............\n",
      "Best model (M51) with 51 features: ['PageValues', 'ExitRates', 'Administrative_Duration', 'VisitorType_Other', 'Browser_1', 'Browser_13', 'Month_Aug', 'OperatingSystems_4', 'Browser_3', 'Browser_4', 'Month_Feb', 'Browser_7', 'Month_June', 'OperatingSystems_6', 'Month_Jul', 'OperatingSystems_8', 'Region_4', 'Browser_8', 'OperatingSystems_1', 'TrafficType_19', 'TrafficType_15', 'TrafficType_9', 'Browser_2', 'Browser_10', 'Region_7', 'Month_Sep', 'Region_2', 'Region_3', 'TrafficType_4', 'TrafficType_5', 'Month_Oct', 'TrafficType_20', 'SpecialDay', 'TrafficType_10', 'Browser_6', 'Browser_5', 'Region_9', 'TrafficType_6', 'BounceRates', 'TrafficType_7', 'TrafficType_11', 'Region_5', 'TrafficType_8', 'Month_Mar', 'Region_6', 'Month_Dec', 'OperatingSystems_2', 'OperatingSystems_3', 'Region_1', 'Region_8', 'TrafficType_13']\n",
      "M51 subset score (3.): 0.8811030008110301\n",
      "............\n",
      "Best model (M52) with 52 features: ['PageValues', 'ExitRates', 'Administrative_Duration', 'VisitorType_Other', 'Browser_1', 'Browser_13', 'Month_Aug', 'OperatingSystems_4', 'Browser_3', 'Browser_4', 'Month_Feb', 'Browser_7', 'Month_June', 'OperatingSystems_6', 'Month_Jul', 'OperatingSystems_8', 'Region_4', 'Browser_8', 'OperatingSystems_1', 'TrafficType_19', 'TrafficType_15', 'TrafficType_9', 'Browser_2', 'Browser_10', 'Region_7', 'Month_Sep', 'Region_2', 'Region_3', 'TrafficType_4', 'TrafficType_5', 'Month_Oct', 'TrafficType_20', 'SpecialDay', 'TrafficType_10', 'Browser_6', 'Browser_5', 'Region_9', 'TrafficType_6', 'BounceRates', 'TrafficType_7', 'TrafficType_11', 'Region_5', 'TrafficType_8', 'Month_Mar', 'Region_6', 'Month_Dec', 'OperatingSystems_2', 'OperatingSystems_3', 'Region_1', 'Region_8', 'TrafficType_13', 'VisitorType_New_Visitor']\n",
      "M52 subset score (3.): 0.8813463098134632\n"
     ]
    },
    {
     "name": "stdout",
     "output_type": "stream",
     "text": [
      "............\n",
      "Best model (M53) with 53 features: ['PageValues', 'ExitRates', 'Administrative_Duration', 'VisitorType_Other', 'Browser_1', 'Browser_13', 'Month_Aug', 'OperatingSystems_4', 'Browser_3', 'Browser_4', 'Month_Feb', 'Browser_7', 'Month_June', 'OperatingSystems_6', 'Month_Jul', 'OperatingSystems_8', 'Region_4', 'Browser_8', 'OperatingSystems_1', 'TrafficType_19', 'TrafficType_15', 'TrafficType_9', 'Browser_2', 'Browser_10', 'Region_7', 'Month_Sep', 'Region_2', 'Region_3', 'TrafficType_4', 'TrafficType_5', 'Month_Oct', 'TrafficType_20', 'SpecialDay', 'TrafficType_10', 'Browser_6', 'Browser_5', 'Region_9', 'TrafficType_6', 'BounceRates', 'TrafficType_7', 'TrafficType_11', 'Region_5', 'TrafficType_8', 'Month_Mar', 'Region_6', 'Month_Dec', 'OperatingSystems_2', 'OperatingSystems_3', 'Region_1', 'Region_8', 'TrafficType_13', 'VisitorType_New_Visitor', 'Weekend_False']\n",
      "M53 subset score (3.): 0.8814274128142742\n",
      "............\n",
      "Best model (M54) with 54 features: ['PageValues', 'ExitRates', 'Administrative_Duration', 'VisitorType_Other', 'Browser_1', 'Browser_13', 'Month_Aug', 'OperatingSystems_4', 'Browser_3', 'Browser_4', 'Month_Feb', 'Browser_7', 'Month_June', 'OperatingSystems_6', 'Month_Jul', 'OperatingSystems_8', 'Region_4', 'Browser_8', 'OperatingSystems_1', 'TrafficType_19', 'TrafficType_15', 'TrafficType_9', 'Browser_2', 'Browser_10', 'Region_7', 'Month_Sep', 'Region_2', 'Region_3', 'TrafficType_4', 'TrafficType_5', 'Month_Oct', 'TrafficType_20', 'SpecialDay', 'TrafficType_10', 'Browser_6', 'Browser_5', 'Region_9', 'TrafficType_6', 'BounceRates', 'TrafficType_7', 'TrafficType_11', 'Region_5', 'TrafficType_8', 'Month_Mar', 'Region_6', 'Month_Dec', 'OperatingSystems_2', 'OperatingSystems_3', 'Region_1', 'Region_8', 'TrafficType_13', 'VisitorType_New_Visitor', 'Weekend_False', 'TrafficType_1']\n",
      "M54 subset score (3.): 0.8813463098134632\n",
      "............\n",
      "Best model (M55) with 55 features: ['PageValues', 'ExitRates', 'Administrative_Duration', 'VisitorType_Other', 'Browser_1', 'Browser_13', 'Month_Aug', 'OperatingSystems_4', 'Browser_3', 'Browser_4', 'Month_Feb', 'Browser_7', 'Month_June', 'OperatingSystems_6', 'Month_Jul', 'OperatingSystems_8', 'Region_4', 'Browser_8', 'OperatingSystems_1', 'TrafficType_19', 'TrafficType_15', 'TrafficType_9', 'Browser_2', 'Browser_10', 'Region_7', 'Month_Sep', 'Region_2', 'Region_3', 'TrafficType_4', 'TrafficType_5', 'Month_Oct', 'TrafficType_20', 'SpecialDay', 'TrafficType_10', 'Browser_6', 'Browser_5', 'Region_9', 'TrafficType_6', 'BounceRates', 'TrafficType_7', 'TrafficType_11', 'Region_5', 'TrafficType_8', 'Month_Mar', 'Region_6', 'Month_Dec', 'OperatingSystems_2', 'OperatingSystems_3', 'Region_1', 'Region_8', 'TrafficType_13', 'VisitorType_New_Visitor', 'Weekend_False', 'TrafficType_1', 'VisitorType_Returning_Visitor']\n",
      "M55 subset score (3.): 0.8813463098134632\n",
      "............\n",
      "Best model (M56) with 56 features: ['PageValues', 'ExitRates', 'Administrative_Duration', 'VisitorType_Other', 'Browser_1', 'Browser_13', 'Month_Aug', 'OperatingSystems_4', 'Browser_3', 'Browser_4', 'Month_Feb', 'Browser_7', 'Month_June', 'OperatingSystems_6', 'Month_Jul', 'OperatingSystems_8', 'Region_4', 'Browser_8', 'OperatingSystems_1', 'TrafficType_19', 'TrafficType_15', 'TrafficType_9', 'Browser_2', 'Browser_10', 'Region_7', 'Month_Sep', 'Region_2', 'Region_3', 'TrafficType_4', 'TrafficType_5', 'Month_Oct', 'TrafficType_20', 'SpecialDay', 'TrafficType_10', 'Browser_6', 'Browser_5', 'Region_9', 'TrafficType_6', 'BounceRates', 'TrafficType_7', 'TrafficType_11', 'Region_5', 'TrafficType_8', 'Month_Mar', 'Region_6', 'Month_Dec', 'OperatingSystems_2', 'OperatingSystems_3', 'Region_1', 'Region_8', 'TrafficType_13', 'VisitorType_New_Visitor', 'Weekend_False', 'TrafficType_1', 'VisitorType_Returning_Visitor', 'Weekend_True']\n",
      "M56 subset score (3.): 0.8813463098134632\n",
      "............\n",
      "Best model (M57) with 57 features: ['PageValues', 'ExitRates', 'Administrative_Duration', 'VisitorType_Other', 'Browser_1', 'Browser_13', 'Month_Aug', 'OperatingSystems_4', 'Browser_3', 'Browser_4', 'Month_Feb', 'Browser_7', 'Month_June', 'OperatingSystems_6', 'Month_Jul', 'OperatingSystems_8', 'Region_4', 'Browser_8', 'OperatingSystems_1', 'TrafficType_19', 'TrafficType_15', 'TrafficType_9', 'Browser_2', 'Browser_10', 'Region_7', 'Month_Sep', 'Region_2', 'Region_3', 'TrafficType_4', 'TrafficType_5', 'Month_Oct', 'TrafficType_20', 'SpecialDay', 'TrafficType_10', 'Browser_6', 'Browser_5', 'Region_9', 'TrafficType_6', 'BounceRates', 'TrafficType_7', 'TrafficType_11', 'Region_5', 'TrafficType_8', 'Month_Mar', 'Region_6', 'Month_Dec', 'OperatingSystems_2', 'OperatingSystems_3', 'Region_1', 'Region_8', 'TrafficType_13', 'VisitorType_New_Visitor', 'Weekend_False', 'TrafficType_1', 'VisitorType_Returning_Visitor', 'Weekend_True', 'Informational_Duration']\n",
      "M57 subset score (3.): 0.8806974858069749\n",
      "............\n",
      "Best model (M58) with 58 features: ['PageValues', 'ExitRates', 'Administrative_Duration', 'VisitorType_Other', 'Browser_1', 'Browser_13', 'Month_Aug', 'OperatingSystems_4', 'Browser_3', 'Browser_4', 'Month_Feb', 'Browser_7', 'Month_June', 'OperatingSystems_6', 'Month_Jul', 'OperatingSystems_8', 'Region_4', 'Browser_8', 'OperatingSystems_1', 'TrafficType_19', 'TrafficType_15', 'TrafficType_9', 'Browser_2', 'Browser_10', 'Region_7', 'Month_Sep', 'Region_2', 'Region_3', 'TrafficType_4', 'TrafficType_5', 'Month_Oct', 'TrafficType_20', 'SpecialDay', 'TrafficType_10', 'Browser_6', 'Browser_5', 'Region_9', 'TrafficType_6', 'BounceRates', 'TrafficType_7', 'TrafficType_11', 'Region_5', 'TrafficType_8', 'Month_Mar', 'Region_6', 'Month_Dec', 'OperatingSystems_2', 'OperatingSystems_3', 'Region_1', 'Region_8', 'TrafficType_13', 'VisitorType_New_Visitor', 'Weekend_False', 'TrafficType_1', 'VisitorType_Returning_Visitor', 'Weekend_True', 'Informational_Duration', 'Informational']\n",
      "M58 subset score (3.): 0.8806974858069749\n",
      "............\n",
      "Best model (M59) with 59 features: ['PageValues', 'ExitRates', 'Administrative_Duration', 'VisitorType_Other', 'Browser_1', 'Browser_13', 'Month_Aug', 'OperatingSystems_4', 'Browser_3', 'Browser_4', 'Month_Feb', 'Browser_7', 'Month_June', 'OperatingSystems_6', 'Month_Jul', 'OperatingSystems_8', 'Region_4', 'Browser_8', 'OperatingSystems_1', 'TrafficType_19', 'TrafficType_15', 'TrafficType_9', 'Browser_2', 'Browser_10', 'Region_7', 'Month_Sep', 'Region_2', 'Region_3', 'TrafficType_4', 'TrafficType_5', 'Month_Oct', 'TrafficType_20', 'SpecialDay', 'TrafficType_10', 'Browser_6', 'Browser_5', 'Region_9', 'TrafficType_6', 'BounceRates', 'TrafficType_7', 'TrafficType_11', 'Region_5', 'TrafficType_8', 'Month_Mar', 'Region_6', 'Month_Dec', 'OperatingSystems_2', 'OperatingSystems_3', 'Region_1', 'Region_8', 'TrafficType_13', 'VisitorType_New_Visitor', 'Weekend_False', 'TrafficType_1', 'VisitorType_Returning_Visitor', 'Weekend_True', 'Informational_Duration', 'Informational', 'Month_May']\n",
      "M59 subset score (3.): 0.8799675587996756\n",
      "............\n",
      "Best model (M60) with 60 features: ['PageValues', 'ExitRates', 'Administrative_Duration', 'VisitorType_Other', 'Browser_1', 'Browser_13', 'Month_Aug', 'OperatingSystems_4', 'Browser_3', 'Browser_4', 'Month_Feb', 'Browser_7', 'Month_June', 'OperatingSystems_6', 'Month_Jul', 'OperatingSystems_8', 'Region_4', 'Browser_8', 'OperatingSystems_1', 'TrafficType_19', 'TrafficType_15', 'TrafficType_9', 'Browser_2', 'Browser_10', 'Region_7', 'Month_Sep', 'Region_2', 'Region_3', 'TrafficType_4', 'TrafficType_5', 'Month_Oct', 'TrafficType_20', 'SpecialDay', 'TrafficType_10', 'Browser_6', 'Browser_5', 'Region_9', 'TrafficType_6', 'BounceRates', 'TrafficType_7', 'TrafficType_11', 'Region_5', 'TrafficType_8', 'Month_Mar', 'Region_6', 'Month_Dec', 'OperatingSystems_2', 'OperatingSystems_3', 'Region_1', 'Region_8', 'TrafficType_13', 'VisitorType_New_Visitor', 'Weekend_False', 'TrafficType_1', 'VisitorType_Returning_Visitor', 'Weekend_True', 'Informational_Duration', 'Informational', 'Month_May', 'TrafficType_2']\n",
      "M60 subset score (3.): 0.8795620437956204\n",
      "............\n",
      "Best model (M61) with 61 features: ['PageValues', 'ExitRates', 'Administrative_Duration', 'VisitorType_Other', 'Browser_1', 'Browser_13', 'Month_Aug', 'OperatingSystems_4', 'Browser_3', 'Browser_4', 'Month_Feb', 'Browser_7', 'Month_June', 'OperatingSystems_6', 'Month_Jul', 'OperatingSystems_8', 'Region_4', 'Browser_8', 'OperatingSystems_1', 'TrafficType_19', 'TrafficType_15', 'TrafficType_9', 'Browser_2', 'Browser_10', 'Region_7', 'Month_Sep', 'Region_2', 'Region_3', 'TrafficType_4', 'TrafficType_5', 'Month_Oct', 'TrafficType_20', 'SpecialDay', 'TrafficType_10', 'Browser_6', 'Browser_5', 'Region_9', 'TrafficType_6', 'BounceRates', 'TrafficType_7', 'TrafficType_11', 'Region_5', 'TrafficType_8', 'Month_Mar', 'Region_6', 'Month_Dec', 'OperatingSystems_2', 'OperatingSystems_3', 'Region_1', 'Region_8', 'TrafficType_13', 'VisitorType_New_Visitor', 'Weekend_False', 'TrafficType_1', 'VisitorType_Returning_Visitor', 'Weekend_True', 'Informational_Duration', 'Informational', 'Month_May', 'TrafficType_2', 'ProductRelated']\n",
      "M61 subset score (3.): 0.8791565287915653\n"
     ]
    },
    {
     "name": "stdout",
     "output_type": "stream",
     "text": [
      "............\n",
      "Best model (M62) with 62 features: ['PageValues', 'ExitRates', 'Administrative_Duration', 'VisitorType_Other', 'Browser_1', 'Browser_13', 'Month_Aug', 'OperatingSystems_4', 'Browser_3', 'Browser_4', 'Month_Feb', 'Browser_7', 'Month_June', 'OperatingSystems_6', 'Month_Jul', 'OperatingSystems_8', 'Region_4', 'Browser_8', 'OperatingSystems_1', 'TrafficType_19', 'TrafficType_15', 'TrafficType_9', 'Browser_2', 'Browser_10', 'Region_7', 'Month_Sep', 'Region_2', 'Region_3', 'TrafficType_4', 'TrafficType_5', 'Month_Oct', 'TrafficType_20', 'SpecialDay', 'TrafficType_10', 'Browser_6', 'Browser_5', 'Region_9', 'TrafficType_6', 'BounceRates', 'TrafficType_7', 'TrafficType_11', 'Region_5', 'TrafficType_8', 'Month_Mar', 'Region_6', 'Month_Dec', 'OperatingSystems_2', 'OperatingSystems_3', 'Region_1', 'Region_8', 'TrafficType_13', 'VisitorType_New_Visitor', 'Weekend_False', 'TrafficType_1', 'VisitorType_Returning_Visitor', 'Weekend_True', 'Informational_Duration', 'Informational', 'Month_May', 'TrafficType_2', 'ProductRelated', 'Month_Nov']\n",
      "M62 subset score (3.): 0.8791565287915653\n",
      "............\n",
      "Best model (M63) with 63 features: ['PageValues', 'ExitRates', 'Administrative_Duration', 'VisitorType_Other', 'Browser_1', 'Browser_13', 'Month_Aug', 'OperatingSystems_4', 'Browser_3', 'Browser_4', 'Month_Feb', 'Browser_7', 'Month_June', 'OperatingSystems_6', 'Month_Jul', 'OperatingSystems_8', 'Region_4', 'Browser_8', 'OperatingSystems_1', 'TrafficType_19', 'TrafficType_15', 'TrafficType_9', 'Browser_2', 'Browser_10', 'Region_7', 'Month_Sep', 'Region_2', 'Region_3', 'TrafficType_4', 'TrafficType_5', 'Month_Oct', 'TrafficType_20', 'SpecialDay', 'TrafficType_10', 'Browser_6', 'Browser_5', 'Region_9', 'TrafficType_6', 'BounceRates', 'TrafficType_7', 'TrafficType_11', 'Region_5', 'TrafficType_8', 'Month_Mar', 'Region_6', 'Month_Dec', 'OperatingSystems_2', 'OperatingSystems_3', 'Region_1', 'Region_8', 'TrafficType_13', 'VisitorType_New_Visitor', 'Weekend_False', 'TrafficType_1', 'VisitorType_Returning_Visitor', 'Weekend_True', 'Informational_Duration', 'Informational', 'Month_May', 'TrafficType_2', 'ProductRelated', 'Month_Nov', 'TrafficType_3']\n",
      "M63 subset score (3.): 0.8792376317923762\n",
      "............\n",
      "Best model (M64) with 64 features: ['PageValues', 'ExitRates', 'Administrative_Duration', 'VisitorType_Other', 'Browser_1', 'Browser_13', 'Month_Aug', 'OperatingSystems_4', 'Browser_3', 'Browser_4', 'Month_Feb', 'Browser_7', 'Month_June', 'OperatingSystems_6', 'Month_Jul', 'OperatingSystems_8', 'Region_4', 'Browser_8', 'OperatingSystems_1', 'TrafficType_19', 'TrafficType_15', 'TrafficType_9', 'Browser_2', 'Browser_10', 'Region_7', 'Month_Sep', 'Region_2', 'Region_3', 'TrafficType_4', 'TrafficType_5', 'Month_Oct', 'TrafficType_20', 'SpecialDay', 'TrafficType_10', 'Browser_6', 'Browser_5', 'Region_9', 'TrafficType_6', 'BounceRates', 'TrafficType_7', 'TrafficType_11', 'Region_5', 'TrafficType_8', 'Month_Mar', 'Region_6', 'Month_Dec', 'OperatingSystems_2', 'OperatingSystems_3', 'Region_1', 'Region_8', 'TrafficType_13', 'VisitorType_New_Visitor', 'Weekend_False', 'TrafficType_1', 'VisitorType_Returning_Visitor', 'Weekend_True', 'Informational_Duration', 'Informational', 'Month_May', 'TrafficType_2', 'ProductRelated', 'Month_Nov', 'TrafficType_3', 'ProductRelated_Duration']\n",
      "M64 subset score (3.): 0.8793998377939983\n",
      "............\n",
      "Best model (M65) with 65 features: ['PageValues', 'ExitRates', 'Administrative_Duration', 'VisitorType_Other', 'Browser_1', 'Browser_13', 'Month_Aug', 'OperatingSystems_4', 'Browser_3', 'Browser_4', 'Month_Feb', 'Browser_7', 'Month_June', 'OperatingSystems_6', 'Month_Jul', 'OperatingSystems_8', 'Region_4', 'Browser_8', 'OperatingSystems_1', 'TrafficType_19', 'TrafficType_15', 'TrafficType_9', 'Browser_2', 'Browser_10', 'Region_7', 'Month_Sep', 'Region_2', 'Region_3', 'TrafficType_4', 'TrafficType_5', 'Month_Oct', 'TrafficType_20', 'SpecialDay', 'TrafficType_10', 'Browser_6', 'Browser_5', 'Region_9', 'TrafficType_6', 'BounceRates', 'TrafficType_7', 'TrafficType_11', 'Region_5', 'TrafficType_8', 'Month_Mar', 'Region_6', 'Month_Dec', 'OperatingSystems_2', 'OperatingSystems_3', 'Region_1', 'Region_8', 'TrafficType_13', 'VisitorType_New_Visitor', 'Weekend_False', 'TrafficType_1', 'VisitorType_Returning_Visitor', 'Weekend_True', 'Informational_Duration', 'Informational', 'Month_May', 'TrafficType_2', 'ProductRelated', 'Month_Nov', 'TrafficType_3', 'ProductRelated_Duration', 'Administrative']\n",
      "M65 subset score (3.): 0.8793998377939983\n",
      "\n",
      " Best configuration has 11 features\n",
      "Features: ['PageValues', 'ExitRates', 'Administrative_Duration', 'VisitorType_Other', 'Browser_1', 'Browser_13', 'Month_Aug', 'OperatingSystems_4', 'Browser_3', 'Browser_4', 'Month_Feb']\n",
      "Total number of trained models: 2470\n"
     ]
    },
    {
     "data": {
      "text/plain": [
       "['PageValues',\n",
       " 'ExitRates',\n",
       " 'Administrative_Duration',\n",
       " 'VisitorType_Other',\n",
       " 'Browser_1',\n",
       " 'Browser_13',\n",
       " 'Month_Aug',\n",
       " 'OperatingSystems_4',\n",
       " 'Browser_3',\n",
       " 'Browser_4',\n",
       " 'Month_Feb']"
      ]
     },
     "execution_count": 14,
     "metadata": {},
     "output_type": "execute_result"
    }
   ],
   "source": [
    "cv = KFold(n_splits=5, random_state=42, shuffle=True)\n",
    "features_LDA = forward_selection(X_train_scaled, y_train, \"LDA\",\n",
    "                  get_evaluator(make_scorer(accuracy)), np.argmax, # 2.\n",
    "                  get_cv_evaluator(make_scorer(accuracy), cv), np.argmax, # 3.\n",
    "                  candidates_scorer_name=\"Accuracy\",\n",
    "                  subsets_scorer_name=\"Accuracy (CV)\",\n",
    "                  verbose=True, weight_step3=cv.n_splits)\n",
    "features_LDA"
   ]
  },
  {
   "cell_type": "markdown",
   "id": "a043ba09",
   "metadata": {},
   "source": [
    "### Evaluation metrics"
   ]
  },
  {
   "cell_type": "code",
   "execution_count": 15,
   "id": "dc267b38",
   "metadata": {},
   "outputs": [
    {
     "data": {
      "text/html": [
       "<div>\n",
       "<style scoped>\n",
       "    .dataframe tbody tr th:only-of-type {\n",
       "        vertical-align: middle;\n",
       "    }\n",
       "\n",
       "    .dataframe tbody tr th {\n",
       "        vertical-align: top;\n",
       "    }\n",
       "\n",
       "    .dataframe thead th {\n",
       "        text-align: right;\n",
       "    }\n",
       "</style>\n",
       "<table border=\"1\" class=\"dataframe\">\n",
       "  <thead>\n",
       "    <tr style=\"text-align: right;\">\n",
       "      <th></th>\n",
       "      <th>Model</th>\n",
       "      <th>Accuracy</th>\n",
       "      <th>Sensitivity</th>\n",
       "      <th>Specificity</th>\n",
       "    </tr>\n",
       "  </thead>\n",
       "  <tbody>\n",
       "    <tr>\n",
       "      <th>0</th>\n",
       "      <td>LDA</td>\n",
       "      <td>0.881752</td>\n",
       "      <td>0.32734</td>\n",
       "      <td>0.781677</td>\n",
       "    </tr>\n",
       "  </tbody>\n",
       "</table>\n",
       "</div>"
      ],
      "text/plain": [
       "  Model  Accuracy  Sensitivity  Specificity\n",
       "0   LDA  0.881752      0.32734     0.781677"
      ]
     },
     "execution_count": 15,
     "metadata": {},
     "output_type": "execute_result"
    }
   ],
   "source": [
    "model_LDA =LDA(store_covariance=True)\n",
    "train_scores_LDA = classification_metrics_training(model_LDA, \"LDA\", X_train_scaled[features_LDA], y_train, cv)\n",
    "train_scores_LDA"
   ]
  },
  {
   "cell_type": "markdown",
   "id": "51b16029",
   "metadata": {},
   "source": [
    "We try to improve the sensitivity by setting the empirical threshold"
   ]
  },
  {
   "cell_type": "code",
   "execution_count": 16,
   "id": "b1e3cb3b",
   "metadata": {},
   "outputs": [
    {
     "data": {
      "text/html": [
       "<div>\n",
       "<style scoped>\n",
       "    .dataframe tbody tr th:only-of-type {\n",
       "        vertical-align: middle;\n",
       "    }\n",
       "\n",
       "    .dataframe tbody tr th {\n",
       "        vertical-align: top;\n",
       "    }\n",
       "\n",
       "    .dataframe thead th {\n",
       "        text-align: right;\n",
       "    }\n",
       "</style>\n",
       "<table border=\"1\" class=\"dataframe\">\n",
       "  <thead>\n",
       "    <tr style=\"text-align: right;\">\n",
       "      <th></th>\n",
       "      <th>Model</th>\n",
       "      <th>Accuracy</th>\n",
       "      <th>Sensitivity</th>\n",
       "      <th>Specificity</th>\n",
       "    </tr>\n",
       "  </thead>\n",
       "  <tbody>\n",
       "    <tr>\n",
       "      <th>0</th>\n",
       "      <td>LDA</td>\n",
       "      <td>0.889862</td>\n",
       "      <td>0.568658</td>\n",
       "      <td>0.669753</td>\n",
       "    </tr>\n",
       "  </tbody>\n",
       "</table>\n",
       "</div>"
      ],
      "text/plain": [
       "  Model  Accuracy  Sensitivity  Specificity\n",
       "0   LDA  0.889862     0.568658     0.669753"
      ]
     },
     "execution_count": 16,
     "metadata": {},
     "output_type": "execute_result"
    }
   ],
   "source": [
    "train_scores_LDA_empirical = classification_metrics_empirical_threshold(model_LDA, 'LDA', X_train_scaled[features_LDA], y_train,empirical_threshold)\n",
    "train_scores_LDA_empirical"
   ]
  },
  {
   "cell_type": "markdown",
   "id": "cb0d07a9",
   "metadata": {},
   "source": [
    "## QDA"
   ]
  },
  {
   "cell_type": "markdown",
   "id": "6265074c",
   "metadata": {},
   "source": [
    "### Feature selection"
   ]
  },
  {
   "cell_type": "code",
   "execution_count": 17,
   "id": "0ee0e365",
   "metadata": {
    "scrolled": true
   },
   "outputs": [
    {
     "name": "stdout",
     "output_type": "stream",
     "text": [
      "............\n",
      "Best model (M1) with 1 features: ['PageValues']\n",
      "M1 subset score (3.): 0.8849148418491485\n",
      "............\n",
      "Best model (M2) with 2 features: ['PageValues', 'BounceRates']\n",
      "M2 subset score (3.): 0.8893755068937551\n",
      "............\n",
      "Best model (M3) with 3 features: ['PageValues', 'BounceRates', 'VisitorType_New_Visitor']\n",
      "M3 subset score (3.): 0.8916463909164639\n",
      "............\n",
      "Best model (M4) with 4 features: ['PageValues', 'BounceRates', 'VisitorType_New_Visitor', 'TrafficType_19']\n",
      "M4 subset score (3.): 0.7437145174371451\n",
      "............\n",
      "Best model (M5) with 5 features: ['PageValues', 'BounceRates', 'VisitorType_New_Visitor', 'TrafficType_19', 'OperatingSystems_1']\n",
      "M5 subset score (3.): 0.7438767234387672\n",
      "............\n",
      "Best model (M6) with 6 features: ['PageValues', 'BounceRates', 'VisitorType_New_Visitor', 'TrafficType_19', 'OperatingSystems_1', 'Region_7']\n",
      "M6 subset score (3.): 0.8819140308191402\n",
      "............\n",
      "Best model (M7) with 7 features: ['PageValues', 'BounceRates', 'VisitorType_New_Visitor', 'TrafficType_19', 'OperatingSystems_1', 'Region_7', 'Region_6']\n",
      "M7 subset score (3.): 0.8770478507704784\n",
      "............\n",
      "Best model (M8) with 8 features: ['PageValues', 'BounceRates', 'VisitorType_New_Visitor', 'TrafficType_19', 'OperatingSystems_1', 'Region_7', 'Region_6', 'Browser_8']\n",
      "M8 subset score (3.): 0.7496350364963503\n",
      "............\n",
      "Best model (M9) with 9 features: ['PageValues', 'BounceRates', 'VisitorType_New_Visitor', 'TrafficType_19', 'OperatingSystems_1', 'Region_7', 'Region_6', 'Browser_8', 'TrafficType_7']\n",
      "M9 subset score (3.): 0.8358475263584753\n",
      "............\n",
      "Best model (M10) with 10 features: ['PageValues', 'BounceRates', 'VisitorType_New_Visitor', 'TrafficType_19', 'OperatingSystems_1', 'Region_7', 'Region_6', 'Browser_8', 'TrafficType_7', 'Weekend_False']\n",
      "M10 subset score (3.): 0.8105433901054339\n",
      "............\n",
      "Best model (M11) with 11 features: ['PageValues', 'BounceRates', 'VisitorType_New_Visitor', 'TrafficType_19', 'OperatingSystems_1', 'Region_7', 'Region_6', 'Browser_8', 'TrafficType_7', 'Weekend_False', 'OperatingSystems_6']\n",
      "M11 subset score (3.): 0.7399837793998378\n",
      "............\n",
      "Best model (M12) with 12 features: ['PageValues', 'BounceRates', 'VisitorType_New_Visitor', 'TrafficType_19', 'OperatingSystems_1', 'Region_7', 'Region_6', 'Browser_8', 'TrafficType_7', 'Weekend_False', 'OperatingSystems_6', 'Browser_7']\n",
      "M12 subset score (3.): 0.7321167883211679\n",
      "............\n",
      "Best model (M13) with 13 features: ['PageValues', 'BounceRates', 'VisitorType_New_Visitor', 'TrafficType_19', 'OperatingSystems_1', 'Region_7', 'Region_6', 'Browser_8', 'TrafficType_7', 'Weekend_False', 'OperatingSystems_6', 'Browser_7', 'Region_4']\n",
      "M13 subset score (3.): 0.8682887266828873\n",
      "............\n",
      "Best model (M14) with 14 features: ['PageValues', 'BounceRates', 'VisitorType_New_Visitor', 'TrafficType_19', 'OperatingSystems_1', 'Region_7', 'Region_6', 'Browser_8', 'TrafficType_7', 'Weekend_False', 'OperatingSystems_6', 'Browser_7', 'Region_4', 'Region_5']\n",
      "M14 subset score (3.): 0.8493917274939171\n",
      "............\n",
      "Best model (M15) with 15 features: ['PageValues', 'BounceRates', 'VisitorType_New_Visitor', 'TrafficType_19', 'OperatingSystems_1', 'Region_7', 'Region_6', 'Browser_8', 'TrafficType_7', 'Weekend_False', 'OperatingSystems_6', 'Browser_7', 'Region_4', 'Region_5', 'Month_Jul']\n",
      "M15 subset score (3.): 0.827007299270073\n",
      "............\n",
      "Best model (M16) with 16 features: ['PageValues', 'BounceRates', 'VisitorType_New_Visitor', 'TrafficType_19', 'OperatingSystems_1', 'Region_7', 'Region_6', 'Browser_8', 'TrafficType_7', 'Weekend_False', 'OperatingSystems_6', 'Browser_7', 'Region_4', 'Region_5', 'Month_Jul', 'TrafficType_4']\n",
      "M16 subset score (3.): 0.754014598540146\n",
      "............\n",
      "Best model (M17) with 17 features: ['PageValues', 'BounceRates', 'VisitorType_New_Visitor', 'TrafficType_19', 'OperatingSystems_1', 'Region_7', 'Region_6', 'Browser_8', 'TrafficType_7', 'Weekend_False', 'OperatingSystems_6', 'Browser_7', 'Region_4', 'Region_5', 'Month_Jul', 'TrafficType_4', 'Browser_13']\n",
      "M17 subset score (3.): 0.754176804541768\n",
      "............\n",
      "Best model (M18) with 18 features: ['PageValues', 'BounceRates', 'VisitorType_New_Visitor', 'TrafficType_19', 'OperatingSystems_1', 'Region_7', 'Region_6', 'Browser_8', 'TrafficType_7', 'Weekend_False', 'OperatingSystems_6', 'Browser_7', 'Region_4', 'Region_5', 'Month_Jul', 'TrafficType_4', 'Browser_13', 'VisitorType_Other']\n",
      "M18 subset score (3.): 0.7844282238442821\n",
      "............\n",
      "Best model (M19) with 19 features: ['PageValues', 'BounceRates', 'VisitorType_New_Visitor', 'TrafficType_19', 'OperatingSystems_1', 'Region_7', 'Region_6', 'Browser_8', 'TrafficType_7', 'Weekend_False', 'OperatingSystems_6', 'Browser_7', 'Region_4', 'Region_5', 'Month_Jul', 'TrafficType_4', 'Browser_13', 'VisitorType_Other', 'Region_9']\n",
      "M19 subset score (3.): 0.7677210056772099\n",
      "............\n",
      "Best model (M20) with 20 features: ['PageValues', 'BounceRates', 'VisitorType_New_Visitor', 'TrafficType_19', 'OperatingSystems_1', 'Region_7', 'Region_6', 'Browser_8', 'TrafficType_7', 'Weekend_False', 'OperatingSystems_6', 'Browser_7', 'Region_4', 'Region_5', 'Month_Jul', 'TrafficType_4', 'Browser_13', 'VisitorType_Other', 'Region_9', 'Browser_4']\n",
      "M20 subset score (3.): 0.7340632603406327\n",
      "............\n",
      "Best model (M21) with 21 features: ['PageValues', 'BounceRates', 'VisitorType_New_Visitor', 'TrafficType_19', 'OperatingSystems_1', 'Region_7', 'Region_6', 'Browser_8', 'TrafficType_7', 'Weekend_False', 'OperatingSystems_6', 'Browser_7', 'Region_4', 'Region_5', 'Month_Jul', 'TrafficType_4', 'Browser_13', 'VisitorType_Other', 'Region_9', 'Browser_4', 'Region_1']\n",
      "M21 subset score (3.): 0.7732360097323602\n",
      "............\n",
      "Best model (M22) with 22 features: ['PageValues', 'BounceRates', 'VisitorType_New_Visitor', 'TrafficType_19', 'OperatingSystems_1', 'Region_7', 'Region_6', 'Browser_8', 'TrafficType_7', 'Weekend_False', 'OperatingSystems_6', 'Browser_7', 'Region_4', 'Region_5', 'Month_Jul', 'TrafficType_4', 'Browser_13', 'VisitorType_Other', 'Region_9', 'Browser_4', 'Region_1', 'Region_3']\n",
      "M22 subset score (3.): 0.7421735604217357\n",
      "............\n",
      "Best model (M23) with 23 features: ['PageValues', 'BounceRates', 'VisitorType_New_Visitor', 'TrafficType_19', 'OperatingSystems_1', 'Region_7', 'Region_6', 'Browser_8', 'TrafficType_7', 'Weekend_False', 'OperatingSystems_6', 'Browser_7', 'Region_4', 'Region_5', 'Month_Jul', 'TrafficType_4', 'Browser_13', 'VisitorType_Other', 'Region_9', 'Browser_4', 'Region_1', 'Region_3', 'TrafficType_2']\n",
      "M23 subset score (3.): 0.7818329278183294\n",
      "............\n",
      "Best model (M24) with 24 features: ['PageValues', 'BounceRates', 'VisitorType_New_Visitor', 'TrafficType_19', 'OperatingSystems_1', 'Region_7', 'Region_6', 'Browser_8', 'TrafficType_7', 'Weekend_False', 'OperatingSystems_6', 'Browser_7', 'Region_4', 'Region_5', 'Month_Jul', 'TrafficType_4', 'Browser_13', 'VisitorType_Other', 'Region_9', 'Browser_4', 'Region_1', 'Region_3', 'TrafficType_2', 'TrafficType_20']\n",
      "M24 subset score (3.): 0.7344687753446878\n",
      "............\n",
      "Best model (M25) with 25 features: ['PageValues', 'BounceRates', 'VisitorType_New_Visitor', 'TrafficType_19', 'OperatingSystems_1', 'Region_7', 'Region_6', 'Browser_8', 'TrafficType_7', 'Weekend_False', 'OperatingSystems_6', 'Browser_7', 'Region_4', 'Region_5', 'Month_Jul', 'TrafficType_4', 'Browser_13', 'VisitorType_Other', 'Region_9', 'Browser_4', 'Region_1', 'Region_3', 'TrafficType_2', 'TrafficType_20', 'Browser_2']\n",
      "M25 subset score (3.): 0.8333333333333334\n",
      "............\n",
      "Best model (M26) with 26 features: ['PageValues', 'BounceRates', 'VisitorType_New_Visitor', 'TrafficType_19', 'OperatingSystems_1', 'Region_7', 'Region_6', 'Browser_8', 'TrafficType_7', 'Weekend_False', 'OperatingSystems_6', 'Browser_7', 'Region_4', 'Region_5', 'Month_Jul', 'TrafficType_4', 'Browser_13', 'VisitorType_Other', 'Region_9', 'Browser_4', 'Region_1', 'Region_3', 'TrafficType_2', 'TrafficType_20', 'Browser_2', 'OperatingSystems_2']\n",
      "M26 subset score (3.): 0.7290348742903487\n",
      "............\n",
      "Best model (M27) with 27 features: ['PageValues', 'BounceRates', 'VisitorType_New_Visitor', 'TrafficType_19', 'OperatingSystems_1', 'Region_7', 'Region_6', 'Browser_8', 'TrafficType_7', 'Weekend_False', 'OperatingSystems_6', 'Browser_7', 'Region_4', 'Region_5', 'Month_Jul', 'TrafficType_4', 'Browser_13', 'VisitorType_Other', 'Region_9', 'Browser_4', 'Region_1', 'Region_3', 'TrafficType_2', 'TrafficType_20', 'Browser_2', 'OperatingSystems_2', 'Month_May']\n",
      "M27 subset score (3.): 0.7258718572587186\n"
     ]
    },
    {
     "name": "stdout",
     "output_type": "stream",
     "text": [
      "............\n",
      "Best model (M28) with 28 features: ['PageValues', 'BounceRates', 'VisitorType_New_Visitor', 'TrafficType_19', 'OperatingSystems_1', 'Region_7', 'Region_6', 'Browser_8', 'TrafficType_7', 'Weekend_False', 'OperatingSystems_6', 'Browser_7', 'Region_4', 'Region_5', 'Month_Jul', 'TrafficType_4', 'Browser_13', 'VisitorType_Other', 'Region_9', 'Browser_4', 'Region_1', 'Region_3', 'TrafficType_2', 'TrafficType_20', 'Browser_2', 'OperatingSystems_2', 'Month_May', 'Browser_1']\n",
      "M28 subset score (3.): 0.729764801297648\n",
      "............\n",
      "Best model (M29) with 29 features: ['PageValues', 'BounceRates', 'VisitorType_New_Visitor', 'TrafficType_19', 'OperatingSystems_1', 'Region_7', 'Region_6', 'Browser_8', 'TrafficType_7', 'Weekend_False', 'OperatingSystems_6', 'Browser_7', 'Region_4', 'Region_5', 'Month_Jul', 'TrafficType_4', 'Browser_13', 'VisitorType_Other', 'Region_9', 'Browser_4', 'Region_1', 'Region_3', 'TrafficType_2', 'TrafficType_20', 'Browser_2', 'OperatingSystems_2', 'Month_May', 'Browser_1', 'ProductRelated_Duration']\n",
      "M29 subset score (3.): 0.7257096512570965\n",
      "............\n",
      "Best model (M30) with 30 features: ['PageValues', 'BounceRates', 'VisitorType_New_Visitor', 'TrafficType_19', 'OperatingSystems_1', 'Region_7', 'Region_6', 'Browser_8', 'TrafficType_7', 'Weekend_False', 'OperatingSystems_6', 'Browser_7', 'Region_4', 'Region_5', 'Month_Jul', 'TrafficType_4', 'Browser_13', 'VisitorType_Other', 'Region_9', 'Browser_4', 'Region_1', 'Region_3', 'TrafficType_2', 'TrafficType_20', 'Browser_2', 'OperatingSystems_2', 'Month_May', 'Browser_1', 'ProductRelated_Duration', 'VisitorType_Returning_Visitor']\n",
      "M30 subset score (3.): 0.711111111111111\n",
      "............\n",
      "Best model (M31) with 31 features: ['PageValues', 'BounceRates', 'VisitorType_New_Visitor', 'TrafficType_19', 'OperatingSystems_1', 'Region_7', 'Region_6', 'Browser_8', 'TrafficType_7', 'Weekend_False', 'OperatingSystems_6', 'Browser_7', 'Region_4', 'Region_5', 'Month_Jul', 'TrafficType_4', 'Browser_13', 'VisitorType_Other', 'Region_9', 'Browser_4', 'Region_1', 'Region_3', 'TrafficType_2', 'TrafficType_20', 'Browser_2', 'OperatingSystems_2', 'Month_May', 'Browser_1', 'ProductRelated_Duration', 'VisitorType_Returning_Visitor', 'Region_2']\n",
      "M31 subset score (3.): 0.6941605839416058\n",
      "............\n",
      "Best model (M32) with 32 features: ['PageValues', 'BounceRates', 'VisitorType_New_Visitor', 'TrafficType_19', 'OperatingSystems_1', 'Region_7', 'Region_6', 'Browser_8', 'TrafficType_7', 'Weekend_False', 'OperatingSystems_6', 'Browser_7', 'Region_4', 'Region_5', 'Month_Jul', 'TrafficType_4', 'Browser_13', 'VisitorType_Other', 'Region_9', 'Browser_4', 'Region_1', 'Region_3', 'TrafficType_2', 'TrafficType_20', 'Browser_2', 'OperatingSystems_2', 'Month_May', 'Browser_1', 'ProductRelated_Duration', 'VisitorType_Returning_Visitor', 'Region_2', 'Region_8']\n",
      "M32 subset score (3.): 0.6822384428223844\n",
      "............\n",
      "Best model (M33) with 33 features: ['PageValues', 'BounceRates', 'VisitorType_New_Visitor', 'TrafficType_19', 'OperatingSystems_1', 'Region_7', 'Region_6', 'Browser_8', 'TrafficType_7', 'Weekend_False', 'OperatingSystems_6', 'Browser_7', 'Region_4', 'Region_5', 'Month_Jul', 'TrafficType_4', 'Browser_13', 'VisitorType_Other', 'Region_9', 'Browser_4', 'Region_1', 'Region_3', 'TrafficType_2', 'TrafficType_20', 'Browser_2', 'OperatingSystems_2', 'Month_May', 'Browser_1', 'ProductRelated_Duration', 'VisitorType_Returning_Visitor', 'Region_2', 'Region_8', 'TrafficType_9']\n",
      "M33 subset score (3.): 0.6836171938361719\n",
      "............\n",
      "Best model (M34) with 34 features: ['PageValues', 'BounceRates', 'VisitorType_New_Visitor', 'TrafficType_19', 'OperatingSystems_1', 'Region_7', 'Region_6', 'Browser_8', 'TrafficType_7', 'Weekend_False', 'OperatingSystems_6', 'Browser_7', 'Region_4', 'Region_5', 'Month_Jul', 'TrafficType_4', 'Browser_13', 'VisitorType_Other', 'Region_9', 'Browser_4', 'Region_1', 'Region_3', 'TrafficType_2', 'TrafficType_20', 'Browser_2', 'OperatingSystems_2', 'Month_May', 'Browser_1', 'ProductRelated_Duration', 'VisitorType_Returning_Visitor', 'Region_2', 'Region_8', 'TrafficType_9', 'Month_June']\n",
      "M34 subset score (3.): 0.675750202757502\n",
      "............\n",
      "Best model (M35) with 35 features: ['PageValues', 'BounceRates', 'VisitorType_New_Visitor', 'TrafficType_19', 'OperatingSystems_1', 'Region_7', 'Region_6', 'Browser_8', 'TrafficType_7', 'Weekend_False', 'OperatingSystems_6', 'Browser_7', 'Region_4', 'Region_5', 'Month_Jul', 'TrafficType_4', 'Browser_13', 'VisitorType_Other', 'Region_9', 'Browser_4', 'Region_1', 'Region_3', 'TrafficType_2', 'TrafficType_20', 'Browser_2', 'OperatingSystems_2', 'Month_May', 'Browser_1', 'ProductRelated_Duration', 'VisitorType_Returning_Visitor', 'Region_2', 'Region_8', 'TrafficType_9', 'Month_June', 'Weekend_True']\n",
      "M35 subset score (3.): 0.6148418491484186\n",
      "............\n",
      "Best model (M36) with 36 features: ['PageValues', 'BounceRates', 'VisitorType_New_Visitor', 'TrafficType_19', 'OperatingSystems_1', 'Region_7', 'Region_6', 'Browser_8', 'TrafficType_7', 'Weekend_False', 'OperatingSystems_6', 'Browser_7', 'Region_4', 'Region_5', 'Month_Jul', 'TrafficType_4', 'Browser_13', 'VisitorType_Other', 'Region_9', 'Browser_4', 'Region_1', 'Region_3', 'TrafficType_2', 'TrafficType_20', 'Browser_2', 'OperatingSystems_2', 'Month_May', 'Browser_1', 'ProductRelated_Duration', 'VisitorType_Returning_Visitor', 'Region_2', 'Region_8', 'TrafficType_9', 'Month_June', 'Weekend_True', 'OperatingSystems_8']\n",
      "M36 subset score (3.): 0.6385239253852393\n",
      "............\n",
      "Best model (M37) with 37 features: ['PageValues', 'BounceRates', 'VisitorType_New_Visitor', 'TrafficType_19', 'OperatingSystems_1', 'Region_7', 'Region_6', 'Browser_8', 'TrafficType_7', 'Weekend_False', 'OperatingSystems_6', 'Browser_7', 'Region_4', 'Region_5', 'Month_Jul', 'TrafficType_4', 'Browser_13', 'VisitorType_Other', 'Region_9', 'Browser_4', 'Region_1', 'Region_3', 'TrafficType_2', 'TrafficType_20', 'Browser_2', 'OperatingSystems_2', 'Month_May', 'Browser_1', 'ProductRelated_Duration', 'VisitorType_Returning_Visitor', 'Region_2', 'Region_8', 'TrafficType_9', 'Month_June', 'Weekend_True', 'OperatingSystems_8', 'Month_Sep']\n",
      "M37 subset score (3.): 0.6283860502838604\n",
      "............\n",
      "Best model (M38) with 38 features: ['PageValues', 'BounceRates', 'VisitorType_New_Visitor', 'TrafficType_19', 'OperatingSystems_1', 'Region_7', 'Region_6', 'Browser_8', 'TrafficType_7', 'Weekend_False', 'OperatingSystems_6', 'Browser_7', 'Region_4', 'Region_5', 'Month_Jul', 'TrafficType_4', 'Browser_13', 'VisitorType_Other', 'Region_9', 'Browser_4', 'Region_1', 'Region_3', 'TrafficType_2', 'TrafficType_20', 'Browser_2', 'OperatingSystems_2', 'Month_May', 'Browser_1', 'ProductRelated_Duration', 'VisitorType_Returning_Visitor', 'Region_2', 'Region_8', 'TrafficType_9', 'Month_June', 'Weekend_True', 'OperatingSystems_8', 'Month_Sep', 'Month_Mar']\n",
      "M38 subset score (3.): 0.6214111922141119\n",
      "............\n",
      "Best model (M39) with 39 features: ['PageValues', 'BounceRates', 'VisitorType_New_Visitor', 'TrafficType_19', 'OperatingSystems_1', 'Region_7', 'Region_6', 'Browser_8', 'TrafficType_7', 'Weekend_False', 'OperatingSystems_6', 'Browser_7', 'Region_4', 'Region_5', 'Month_Jul', 'TrafficType_4', 'Browser_13', 'VisitorType_Other', 'Region_9', 'Browser_4', 'Region_1', 'Region_3', 'TrafficType_2', 'TrafficType_20', 'Browser_2', 'OperatingSystems_2', 'Month_May', 'Browser_1', 'ProductRelated_Duration', 'VisitorType_Returning_Visitor', 'Region_2', 'Region_8', 'TrafficType_9', 'Month_June', 'Weekend_True', 'OperatingSystems_8', 'Month_Sep', 'Month_Mar', 'Month_Nov']\n",
      "M39 subset score (3.): 0.6673965936739659\n",
      "............\n",
      "Best model (M40) with 40 features: ['PageValues', 'BounceRates', 'VisitorType_New_Visitor', 'TrafficType_19', 'OperatingSystems_1', 'Region_7', 'Region_6', 'Browser_8', 'TrafficType_7', 'Weekend_False', 'OperatingSystems_6', 'Browser_7', 'Region_4', 'Region_5', 'Month_Jul', 'TrafficType_4', 'Browser_13', 'VisitorType_Other', 'Region_9', 'Browser_4', 'Region_1', 'Region_3', 'TrafficType_2', 'TrafficType_20', 'Browser_2', 'OperatingSystems_2', 'Month_May', 'Browser_1', 'ProductRelated_Duration', 'VisitorType_Returning_Visitor', 'Region_2', 'Region_8', 'TrafficType_9', 'Month_June', 'Weekend_True', 'OperatingSystems_8', 'Month_Sep', 'Month_Mar', 'Month_Nov', 'OperatingSystems_4']\n",
      "M40 subset score (3.): 0.6257096512570965\n"
     ]
    },
    {
     "name": "stdout",
     "output_type": "stream",
     "text": [
      "............\n",
      "Best model (M41) with 41 features: ['PageValues', 'BounceRates', 'VisitorType_New_Visitor', 'TrafficType_19', 'OperatingSystems_1', 'Region_7', 'Region_6', 'Browser_8', 'TrafficType_7', 'Weekend_False', 'OperatingSystems_6', 'Browser_7', 'Region_4', 'Region_5', 'Month_Jul', 'TrafficType_4', 'Browser_13', 'VisitorType_Other', 'Region_9', 'Browser_4', 'Region_1', 'Region_3', 'TrafficType_2', 'TrafficType_20', 'Browser_2', 'OperatingSystems_2', 'Month_May', 'Browser_1', 'ProductRelated_Duration', 'VisitorType_Returning_Visitor', 'Region_2', 'Region_8', 'TrafficType_9', 'Month_June', 'Weekend_True', 'OperatingSystems_8', 'Month_Sep', 'Month_Mar', 'Month_Nov', 'OperatingSystems_4', 'Browser_10']\n",
      "M41 subset score (3.): 0.6326034063260341\n",
      "............\n",
      "Best model (M42) with 42 features: ['PageValues', 'BounceRates', 'VisitorType_New_Visitor', 'TrafficType_19', 'OperatingSystems_1', 'Region_7', 'Region_6', 'Browser_8', 'TrafficType_7', 'Weekend_False', 'OperatingSystems_6', 'Browser_7', 'Region_4', 'Region_5', 'Month_Jul', 'TrafficType_4', 'Browser_13', 'VisitorType_Other', 'Region_9', 'Browser_4', 'Region_1', 'Region_3', 'TrafficType_2', 'TrafficType_20', 'Browser_2', 'OperatingSystems_2', 'Month_May', 'Browser_1', 'ProductRelated_Duration', 'VisitorType_Returning_Visitor', 'Region_2', 'Region_8', 'TrafficType_9', 'Month_June', 'Weekend_True', 'OperatingSystems_8', 'Month_Sep', 'Month_Mar', 'Month_Nov', 'OperatingSystems_4', 'Browser_10', 'Month_Dec']\n",
      "M42 subset score (3.): 0.6059205190592053\n",
      "............\n",
      "Best model (M43) with 43 features: ['PageValues', 'BounceRates', 'VisitorType_New_Visitor', 'TrafficType_19', 'OperatingSystems_1', 'Region_7', 'Region_6', 'Browser_8', 'TrafficType_7', 'Weekend_False', 'OperatingSystems_6', 'Browser_7', 'Region_4', 'Region_5', 'Month_Jul', 'TrafficType_4', 'Browser_13', 'VisitorType_Other', 'Region_9', 'Browser_4', 'Region_1', 'Region_3', 'TrafficType_2', 'TrafficType_20', 'Browser_2', 'OperatingSystems_2', 'Month_May', 'Browser_1', 'ProductRelated_Duration', 'VisitorType_Returning_Visitor', 'Region_2', 'Region_8', 'TrafficType_9', 'Month_June', 'Weekend_True', 'OperatingSystems_8', 'Month_Sep', 'Month_Mar', 'Month_Nov', 'OperatingSystems_4', 'Browser_10', 'Month_Dec', 'Informational']\n",
      "M43 subset score (3.): 0.5937550689375507\n",
      "............\n",
      "Best model (M44) with 44 features: ['PageValues', 'BounceRates', 'VisitorType_New_Visitor', 'TrafficType_19', 'OperatingSystems_1', 'Region_7', 'Region_6', 'Browser_8', 'TrafficType_7', 'Weekend_False', 'OperatingSystems_6', 'Browser_7', 'Region_4', 'Region_5', 'Month_Jul', 'TrafficType_4', 'Browser_13', 'VisitorType_Other', 'Region_9', 'Browser_4', 'Region_1', 'Region_3', 'TrafficType_2', 'TrafficType_20', 'Browser_2', 'OperatingSystems_2', 'Month_May', 'Browser_1', 'ProductRelated_Duration', 'VisitorType_Returning_Visitor', 'Region_2', 'Region_8', 'TrafficType_9', 'Month_June', 'Weekend_True', 'OperatingSystems_8', 'Month_Sep', 'Month_Mar', 'Month_Nov', 'OperatingSystems_4', 'Browser_10', 'Month_Dec', 'Informational', 'Informational_Duration']\n",
      "M44 subset score (3.): 0.6304947283049473\n",
      "............\n",
      "Best model (M45) with 45 features: ['PageValues', 'BounceRates', 'VisitorType_New_Visitor', 'TrafficType_19', 'OperatingSystems_1', 'Region_7', 'Region_6', 'Browser_8', 'TrafficType_7', 'Weekend_False', 'OperatingSystems_6', 'Browser_7', 'Region_4', 'Region_5', 'Month_Jul', 'TrafficType_4', 'Browser_13', 'VisitorType_Other', 'Region_9', 'Browser_4', 'Region_1', 'Region_3', 'TrafficType_2', 'TrafficType_20', 'Browser_2', 'OperatingSystems_2', 'Month_May', 'Browser_1', 'ProductRelated_Duration', 'VisitorType_Returning_Visitor', 'Region_2', 'Region_8', 'TrafficType_9', 'Month_June', 'Weekend_True', 'OperatingSystems_8', 'Month_Sep', 'Month_Mar', 'Month_Nov', 'OperatingSystems_4', 'Browser_10', 'Month_Dec', 'Informational', 'Informational_Duration', 'Administrative']\n",
      "M45 subset score (3.): 0.6265206812652068\n",
      "............\n",
      "Best model (M46) with 46 features: ['PageValues', 'BounceRates', 'VisitorType_New_Visitor', 'TrafficType_19', 'OperatingSystems_1', 'Region_7', 'Region_6', 'Browser_8', 'TrafficType_7', 'Weekend_False', 'OperatingSystems_6', 'Browser_7', 'Region_4', 'Region_5', 'Month_Jul', 'TrafficType_4', 'Browser_13', 'VisitorType_Other', 'Region_9', 'Browser_4', 'Region_1', 'Region_3', 'TrafficType_2', 'TrafficType_20', 'Browser_2', 'OperatingSystems_2', 'Month_May', 'Browser_1', 'ProductRelated_Duration', 'VisitorType_Returning_Visitor', 'Region_2', 'Region_8', 'TrafficType_9', 'Month_June', 'Weekend_True', 'OperatingSystems_8', 'Month_Sep', 'Month_Mar', 'Month_Nov', 'OperatingSystems_4', 'Browser_10', 'Month_Dec', 'Informational', 'Informational_Duration', 'Administrative', 'SpecialDay']\n",
      "M46 subset score (3.): 0.6043795620437956\n",
      "............\n",
      "Best model (M47) with 47 features: ['PageValues', 'BounceRates', 'VisitorType_New_Visitor', 'TrafficType_19', 'OperatingSystems_1', 'Region_7', 'Region_6', 'Browser_8', 'TrafficType_7', 'Weekend_False', 'OperatingSystems_6', 'Browser_7', 'Region_4', 'Region_5', 'Month_Jul', 'TrafficType_4', 'Browser_13', 'VisitorType_Other', 'Region_9', 'Browser_4', 'Region_1', 'Region_3', 'TrafficType_2', 'TrafficType_20', 'Browser_2', 'OperatingSystems_2', 'Month_May', 'Browser_1', 'ProductRelated_Duration', 'VisitorType_Returning_Visitor', 'Region_2', 'Region_8', 'TrafficType_9', 'Month_June', 'Weekend_True', 'OperatingSystems_8', 'Month_Sep', 'Month_Mar', 'Month_Nov', 'OperatingSystems_4', 'Browser_10', 'Month_Dec', 'Informational', 'Informational_Duration', 'Administrative', 'SpecialDay', 'TrafficType_10']\n",
      "M47 subset score (3.): 0.6319545823195458\n",
      "............\n",
      "Best model (M48) with 48 features: ['PageValues', 'BounceRates', 'VisitorType_New_Visitor', 'TrafficType_19', 'OperatingSystems_1', 'Region_7', 'Region_6', 'Browser_8', 'TrafficType_7', 'Weekend_False', 'OperatingSystems_6', 'Browser_7', 'Region_4', 'Region_5', 'Month_Jul', 'TrafficType_4', 'Browser_13', 'VisitorType_Other', 'Region_9', 'Browser_4', 'Region_1', 'Region_3', 'TrafficType_2', 'TrafficType_20', 'Browser_2', 'OperatingSystems_2', 'Month_May', 'Browser_1', 'ProductRelated_Duration', 'VisitorType_Returning_Visitor', 'Region_2', 'Region_8', 'TrafficType_9', 'Month_June', 'Weekend_True', 'OperatingSystems_8', 'Month_Sep', 'Month_Mar', 'Month_Nov', 'OperatingSystems_4', 'Browser_10', 'Month_Dec', 'Informational', 'Informational_Duration', 'Administrative', 'SpecialDay', 'TrafficType_10', 'Browser_6']\n",
      "M48 subset score (3.): 0.5884833738848336\n",
      "............\n",
      "Best model (M49) with 49 features: ['PageValues', 'BounceRates', 'VisitorType_New_Visitor', 'TrafficType_19', 'OperatingSystems_1', 'Region_7', 'Region_6', 'Browser_8', 'TrafficType_7', 'Weekend_False', 'OperatingSystems_6', 'Browser_7', 'Region_4', 'Region_5', 'Month_Jul', 'TrafficType_4', 'Browser_13', 'VisitorType_Other', 'Region_9', 'Browser_4', 'Region_1', 'Region_3', 'TrafficType_2', 'TrafficType_20', 'Browser_2', 'OperatingSystems_2', 'Month_May', 'Browser_1', 'ProductRelated_Duration', 'VisitorType_Returning_Visitor', 'Region_2', 'Region_8', 'TrafficType_9', 'Month_June', 'Weekend_True', 'OperatingSystems_8', 'Month_Sep', 'Month_Mar', 'Month_Nov', 'OperatingSystems_4', 'Browser_10', 'Month_Dec', 'Informational', 'Informational_Duration', 'Administrative', 'SpecialDay', 'TrafficType_10', 'Browser_6', 'Month_Aug']\n",
      "M49 subset score (3.): 0.6009732360097323\n",
      "............\n",
      "Best model (M50) with 50 features: ['PageValues', 'BounceRates', 'VisitorType_New_Visitor', 'TrafficType_19', 'OperatingSystems_1', 'Region_7', 'Region_6', 'Browser_8', 'TrafficType_7', 'Weekend_False', 'OperatingSystems_6', 'Browser_7', 'Region_4', 'Region_5', 'Month_Jul', 'TrafficType_4', 'Browser_13', 'VisitorType_Other', 'Region_9', 'Browser_4', 'Region_1', 'Region_3', 'TrafficType_2', 'TrafficType_20', 'Browser_2', 'OperatingSystems_2', 'Month_May', 'Browser_1', 'ProductRelated_Duration', 'VisitorType_Returning_Visitor', 'Region_2', 'Region_8', 'TrafficType_9', 'Month_June', 'Weekend_True', 'OperatingSystems_8', 'Month_Sep', 'Month_Mar', 'Month_Nov', 'OperatingSystems_4', 'Browser_10', 'Month_Dec', 'Informational', 'Informational_Duration', 'Administrative', 'SpecialDay', 'TrafficType_10', 'Browser_6', 'Month_Aug', 'TrafficType_6']\n",
      "M50 subset score (3.): 0.608272506082725\n"
     ]
    },
    {
     "name": "stdout",
     "output_type": "stream",
     "text": [
      "............\n",
      "Best model (M51) with 51 features: ['PageValues', 'BounceRates', 'VisitorType_New_Visitor', 'TrafficType_19', 'OperatingSystems_1', 'Region_7', 'Region_6', 'Browser_8', 'TrafficType_7', 'Weekend_False', 'OperatingSystems_6', 'Browser_7', 'Region_4', 'Region_5', 'Month_Jul', 'TrafficType_4', 'Browser_13', 'VisitorType_Other', 'Region_9', 'Browser_4', 'Region_1', 'Region_3', 'TrafficType_2', 'TrafficType_20', 'Browser_2', 'OperatingSystems_2', 'Month_May', 'Browser_1', 'ProductRelated_Duration', 'VisitorType_Returning_Visitor', 'Region_2', 'Region_8', 'TrafficType_9', 'Month_June', 'Weekend_True', 'OperatingSystems_8', 'Month_Sep', 'Month_Mar', 'Month_Nov', 'OperatingSystems_4', 'Browser_10', 'Month_Dec', 'Informational', 'Informational_Duration', 'Administrative', 'SpecialDay', 'TrafficType_10', 'Browser_6', 'Month_Aug', 'TrafficType_6', 'ExitRates']\n",
      "M51 subset score (3.): 0.6002433090024331\n",
      "............\n",
      "Best model (M52) with 52 features: ['PageValues', 'BounceRates', 'VisitorType_New_Visitor', 'TrafficType_19', 'OperatingSystems_1', 'Region_7', 'Region_6', 'Browser_8', 'TrafficType_7', 'Weekend_False', 'OperatingSystems_6', 'Browser_7', 'Region_4', 'Region_5', 'Month_Jul', 'TrafficType_4', 'Browser_13', 'VisitorType_Other', 'Region_9', 'Browser_4', 'Region_1', 'Region_3', 'TrafficType_2', 'TrafficType_20', 'Browser_2', 'OperatingSystems_2', 'Month_May', 'Browser_1', 'ProductRelated_Duration', 'VisitorType_Returning_Visitor', 'Region_2', 'Region_8', 'TrafficType_9', 'Month_June', 'Weekend_True', 'OperatingSystems_8', 'Month_Sep', 'Month_Mar', 'Month_Nov', 'OperatingSystems_4', 'Browser_10', 'Month_Dec', 'Informational', 'Informational_Duration', 'Administrative', 'SpecialDay', 'TrafficType_10', 'Browser_6', 'Month_Aug', 'TrafficType_6', 'ExitRates', 'TrafficType_3']\n",
      "M52 subset score (3.): 0.5968369829683697\n",
      "............\n",
      "Best model (M53) with 53 features: ['PageValues', 'BounceRates', 'VisitorType_New_Visitor', 'TrafficType_19', 'OperatingSystems_1', 'Region_7', 'Region_6', 'Browser_8', 'TrafficType_7', 'Weekend_False', 'OperatingSystems_6', 'Browser_7', 'Region_4', 'Region_5', 'Month_Jul', 'TrafficType_4', 'Browser_13', 'VisitorType_Other', 'Region_9', 'Browser_4', 'Region_1', 'Region_3', 'TrafficType_2', 'TrafficType_20', 'Browser_2', 'OperatingSystems_2', 'Month_May', 'Browser_1', 'ProductRelated_Duration', 'VisitorType_Returning_Visitor', 'Region_2', 'Region_8', 'TrafficType_9', 'Month_June', 'Weekend_True', 'OperatingSystems_8', 'Month_Sep', 'Month_Mar', 'Month_Nov', 'OperatingSystems_4', 'Browser_10', 'Month_Dec', 'Informational', 'Informational_Duration', 'Administrative', 'SpecialDay', 'TrafficType_10', 'Browser_6', 'Month_Aug', 'TrafficType_6', 'ExitRates', 'TrafficType_3', 'TrafficType_1']\n",
      "M53 subset score (3.): 0.6154906731549068\n",
      "............\n",
      "Best model (M54) with 54 features: ['PageValues', 'BounceRates', 'VisitorType_New_Visitor', 'TrafficType_19', 'OperatingSystems_1', 'Region_7', 'Region_6', 'Browser_8', 'TrafficType_7', 'Weekend_False', 'OperatingSystems_6', 'Browser_7', 'Region_4', 'Region_5', 'Month_Jul', 'TrafficType_4', 'Browser_13', 'VisitorType_Other', 'Region_9', 'Browser_4', 'Region_1', 'Region_3', 'TrafficType_2', 'TrafficType_20', 'Browser_2', 'OperatingSystems_2', 'Month_May', 'Browser_1', 'ProductRelated_Duration', 'VisitorType_Returning_Visitor', 'Region_2', 'Region_8', 'TrafficType_9', 'Month_June', 'Weekend_True', 'OperatingSystems_8', 'Month_Sep', 'Month_Mar', 'Month_Nov', 'OperatingSystems_4', 'Browser_10', 'Month_Dec', 'Informational', 'Informational_Duration', 'Administrative', 'SpecialDay', 'TrafficType_10', 'Browser_6', 'Month_Aug', 'TrafficType_6', 'ExitRates', 'TrafficType_3', 'TrafficType_1', 'OperatingSystems_3']\n",
      "M54 subset score (3.): 0.6030819140308192\n",
      "............\n",
      "Best model (M55) with 55 features: ['PageValues', 'BounceRates', 'VisitorType_New_Visitor', 'TrafficType_19', 'OperatingSystems_1', 'Region_7', 'Region_6', 'Browser_8', 'TrafficType_7', 'Weekend_False', 'OperatingSystems_6', 'Browser_7', 'Region_4', 'Region_5', 'Month_Jul', 'TrafficType_4', 'Browser_13', 'VisitorType_Other', 'Region_9', 'Browser_4', 'Region_1', 'Region_3', 'TrafficType_2', 'TrafficType_20', 'Browser_2', 'OperatingSystems_2', 'Month_May', 'Browser_1', 'ProductRelated_Duration', 'VisitorType_Returning_Visitor', 'Region_2', 'Region_8', 'TrafficType_9', 'Month_June', 'Weekend_True', 'OperatingSystems_8', 'Month_Sep', 'Month_Mar', 'Month_Nov', 'OperatingSystems_4', 'Browser_10', 'Month_Dec', 'Informational', 'Informational_Duration', 'Administrative', 'SpecialDay', 'TrafficType_10', 'Browser_6', 'Month_Aug', 'TrafficType_6', 'ExitRates', 'TrafficType_3', 'TrafficType_1', 'OperatingSystems_3', 'TrafficType_13']\n",
      "M55 subset score (3.): 0.6394971613949716\n",
      "............\n",
      "Best model (M56) with 56 features: ['PageValues', 'BounceRates', 'VisitorType_New_Visitor', 'TrafficType_19', 'OperatingSystems_1', 'Region_7', 'Region_6', 'Browser_8', 'TrafficType_7', 'Weekend_False', 'OperatingSystems_6', 'Browser_7', 'Region_4', 'Region_5', 'Month_Jul', 'TrafficType_4', 'Browser_13', 'VisitorType_Other', 'Region_9', 'Browser_4', 'Region_1', 'Region_3', 'TrafficType_2', 'TrafficType_20', 'Browser_2', 'OperatingSystems_2', 'Month_May', 'Browser_1', 'ProductRelated_Duration', 'VisitorType_Returning_Visitor', 'Region_2', 'Region_8', 'TrafficType_9', 'Month_June', 'Weekend_True', 'OperatingSystems_8', 'Month_Sep', 'Month_Mar', 'Month_Nov', 'OperatingSystems_4', 'Browser_10', 'Month_Dec', 'Informational', 'Informational_Duration', 'Administrative', 'SpecialDay', 'TrafficType_10', 'Browser_6', 'Month_Aug', 'TrafficType_6', 'ExitRates', 'TrafficType_3', 'TrafficType_1', 'OperatingSystems_3', 'TrafficType_13', 'ProductRelated']\n",
      "M56 subset score (3.): 0.567558799675588\n",
      "............\n",
      "Best model (M57) with 57 features: ['PageValues', 'BounceRates', 'VisitorType_New_Visitor', 'TrafficType_19', 'OperatingSystems_1', 'Region_7', 'Region_6', 'Browser_8', 'TrafficType_7', 'Weekend_False', 'OperatingSystems_6', 'Browser_7', 'Region_4', 'Region_5', 'Month_Jul', 'TrafficType_4', 'Browser_13', 'VisitorType_Other', 'Region_9', 'Browser_4', 'Region_1', 'Region_3', 'TrafficType_2', 'TrafficType_20', 'Browser_2', 'OperatingSystems_2', 'Month_May', 'Browser_1', 'ProductRelated_Duration', 'VisitorType_Returning_Visitor', 'Region_2', 'Region_8', 'TrafficType_9', 'Month_June', 'Weekend_True', 'OperatingSystems_8', 'Month_Sep', 'Month_Mar', 'Month_Nov', 'OperatingSystems_4', 'Browser_10', 'Month_Dec', 'Informational', 'Informational_Duration', 'Administrative', 'SpecialDay', 'TrafficType_10', 'Browser_6', 'Month_Aug', 'TrafficType_6', 'ExitRates', 'TrafficType_3', 'TrafficType_1', 'OperatingSystems_3', 'TrafficType_13', 'ProductRelated', 'TrafficType_5']\n",
      "M57 subset score (3.): 0.5965936739659368\n",
      "............\n",
      "Best model (M58) with 58 features: ['PageValues', 'BounceRates', 'VisitorType_New_Visitor', 'TrafficType_19', 'OperatingSystems_1', 'Region_7', 'Region_6', 'Browser_8', 'TrafficType_7', 'Weekend_False', 'OperatingSystems_6', 'Browser_7', 'Region_4', 'Region_5', 'Month_Jul', 'TrafficType_4', 'Browser_13', 'VisitorType_Other', 'Region_9', 'Browser_4', 'Region_1', 'Region_3', 'TrafficType_2', 'TrafficType_20', 'Browser_2', 'OperatingSystems_2', 'Month_May', 'Browser_1', 'ProductRelated_Duration', 'VisitorType_Returning_Visitor', 'Region_2', 'Region_8', 'TrafficType_9', 'Month_June', 'Weekend_True', 'OperatingSystems_8', 'Month_Sep', 'Month_Mar', 'Month_Nov', 'OperatingSystems_4', 'Browser_10', 'Month_Dec', 'Informational', 'Informational_Duration', 'Administrative', 'SpecialDay', 'TrafficType_10', 'Browser_6', 'Month_Aug', 'TrafficType_6', 'ExitRates', 'TrafficType_3', 'TrafficType_1', 'OperatingSystems_3', 'TrafficType_13', 'ProductRelated', 'TrafficType_5', 'TrafficType_11']\n",
      "M58 subset score (3.): 0.6072992700729928\n",
      "............\n",
      "Best model (M59) with 59 features: ['PageValues', 'BounceRates', 'VisitorType_New_Visitor', 'TrafficType_19', 'OperatingSystems_1', 'Region_7', 'Region_6', 'Browser_8', 'TrafficType_7', 'Weekend_False', 'OperatingSystems_6', 'Browser_7', 'Region_4', 'Region_5', 'Month_Jul', 'TrafficType_4', 'Browser_13', 'VisitorType_Other', 'Region_9', 'Browser_4', 'Region_1', 'Region_3', 'TrafficType_2', 'TrafficType_20', 'Browser_2', 'OperatingSystems_2', 'Month_May', 'Browser_1', 'ProductRelated_Duration', 'VisitorType_Returning_Visitor', 'Region_2', 'Region_8', 'TrafficType_9', 'Month_June', 'Weekend_True', 'OperatingSystems_8', 'Month_Sep', 'Month_Mar', 'Month_Nov', 'OperatingSystems_4', 'Browser_10', 'Month_Dec', 'Informational', 'Informational_Duration', 'Administrative', 'SpecialDay', 'TrafficType_10', 'Browser_6', 'Month_Aug', 'TrafficType_6', 'ExitRates', 'TrafficType_3', 'TrafficType_1', 'OperatingSystems_3', 'TrafficType_13', 'ProductRelated', 'TrafficType_5', 'TrafficType_11', 'TrafficType_8']\n",
      "M59 subset score (3.): 0.5582319545823196\n"
     ]
    },
    {
     "name": "stdout",
     "output_type": "stream",
     "text": [
      "............\n",
      "Best model (M60) with 60 features: ['PageValues', 'BounceRates', 'VisitorType_New_Visitor', 'TrafficType_19', 'OperatingSystems_1', 'Region_7', 'Region_6', 'Browser_8', 'TrafficType_7', 'Weekend_False', 'OperatingSystems_6', 'Browser_7', 'Region_4', 'Region_5', 'Month_Jul', 'TrafficType_4', 'Browser_13', 'VisitorType_Other', 'Region_9', 'Browser_4', 'Region_1', 'Region_3', 'TrafficType_2', 'TrafficType_20', 'Browser_2', 'OperatingSystems_2', 'Month_May', 'Browser_1', 'ProductRelated_Duration', 'VisitorType_Returning_Visitor', 'Region_2', 'Region_8', 'TrafficType_9', 'Month_June', 'Weekend_True', 'OperatingSystems_8', 'Month_Sep', 'Month_Mar', 'Month_Nov', 'OperatingSystems_4', 'Browser_10', 'Month_Dec', 'Informational', 'Informational_Duration', 'Administrative', 'SpecialDay', 'TrafficType_10', 'Browser_6', 'Month_Aug', 'TrafficType_6', 'ExitRates', 'TrafficType_3', 'TrafficType_1', 'OperatingSystems_3', 'TrafficType_13', 'ProductRelated', 'TrafficType_5', 'TrafficType_11', 'TrafficType_8', 'Browser_3']\n",
      "M60 subset score (3.): 0.5883211678832116\n",
      "............\n",
      "Best model (M61) with 61 features: ['PageValues', 'BounceRates', 'VisitorType_New_Visitor', 'TrafficType_19', 'OperatingSystems_1', 'Region_7', 'Region_6', 'Browser_8', 'TrafficType_7', 'Weekend_False', 'OperatingSystems_6', 'Browser_7', 'Region_4', 'Region_5', 'Month_Jul', 'TrafficType_4', 'Browser_13', 'VisitorType_Other', 'Region_9', 'Browser_4', 'Region_1', 'Region_3', 'TrafficType_2', 'TrafficType_20', 'Browser_2', 'OperatingSystems_2', 'Month_May', 'Browser_1', 'ProductRelated_Duration', 'VisitorType_Returning_Visitor', 'Region_2', 'Region_8', 'TrafficType_9', 'Month_June', 'Weekend_True', 'OperatingSystems_8', 'Month_Sep', 'Month_Mar', 'Month_Nov', 'OperatingSystems_4', 'Browser_10', 'Month_Dec', 'Informational', 'Informational_Duration', 'Administrative', 'SpecialDay', 'TrafficType_10', 'Browser_6', 'Month_Aug', 'TrafficType_6', 'ExitRates', 'TrafficType_3', 'TrafficType_1', 'OperatingSystems_3', 'TrafficType_13', 'ProductRelated', 'TrafficType_5', 'TrafficType_11', 'TrafficType_8', 'Browser_3', 'Browser_5']\n",
      "M61 subset score (3.): 0.5754257907542579\n",
      "............\n",
      "Best model (M62) with 62 features: ['PageValues', 'BounceRates', 'VisitorType_New_Visitor', 'TrafficType_19', 'OperatingSystems_1', 'Region_7', 'Region_6', 'Browser_8', 'TrafficType_7', 'Weekend_False', 'OperatingSystems_6', 'Browser_7', 'Region_4', 'Region_5', 'Month_Jul', 'TrafficType_4', 'Browser_13', 'VisitorType_Other', 'Region_9', 'Browser_4', 'Region_1', 'Region_3', 'TrafficType_2', 'TrafficType_20', 'Browser_2', 'OperatingSystems_2', 'Month_May', 'Browser_1', 'ProductRelated_Duration', 'VisitorType_Returning_Visitor', 'Region_2', 'Region_8', 'TrafficType_9', 'Month_June', 'Weekend_True', 'OperatingSystems_8', 'Month_Sep', 'Month_Mar', 'Month_Nov', 'OperatingSystems_4', 'Browser_10', 'Month_Dec', 'Informational', 'Informational_Duration', 'Administrative', 'SpecialDay', 'TrafficType_10', 'Browser_6', 'Month_Aug', 'TrafficType_6', 'ExitRates', 'TrafficType_3', 'TrafficType_1', 'OperatingSystems_3', 'TrafficType_13', 'ProductRelated', 'TrafficType_5', 'TrafficType_11', 'TrafficType_8', 'Browser_3', 'Browser_5', 'Month_Feb']\n",
      "M62 subset score (3.): 0.5204379562043796\n",
      "............\n",
      "Best model (M63) with 63 features: ['PageValues', 'BounceRates', 'VisitorType_New_Visitor', 'TrafficType_19', 'OperatingSystems_1', 'Region_7', 'Region_6', 'Browser_8', 'TrafficType_7', 'Weekend_False', 'OperatingSystems_6', 'Browser_7', 'Region_4', 'Region_5', 'Month_Jul', 'TrafficType_4', 'Browser_13', 'VisitorType_Other', 'Region_9', 'Browser_4', 'Region_1', 'Region_3', 'TrafficType_2', 'TrafficType_20', 'Browser_2', 'OperatingSystems_2', 'Month_May', 'Browser_1', 'ProductRelated_Duration', 'VisitorType_Returning_Visitor', 'Region_2', 'Region_8', 'TrafficType_9', 'Month_June', 'Weekend_True', 'OperatingSystems_8', 'Month_Sep', 'Month_Mar', 'Month_Nov', 'OperatingSystems_4', 'Browser_10', 'Month_Dec', 'Informational', 'Informational_Duration', 'Administrative', 'SpecialDay', 'TrafficType_10', 'Browser_6', 'Month_Aug', 'TrafficType_6', 'ExitRates', 'TrafficType_3', 'TrafficType_1', 'OperatingSystems_3', 'TrafficType_13', 'ProductRelated', 'TrafficType_5', 'TrafficType_11', 'TrafficType_8', 'Browser_3', 'Browser_5', 'Month_Feb', 'Administrative_Duration']\n",
      "M63 subset score (3.): 0.5729115977291159\n",
      "............\n",
      "Best model (M64) with 64 features: ['PageValues', 'BounceRates', 'VisitorType_New_Visitor', 'TrafficType_19', 'OperatingSystems_1', 'Region_7', 'Region_6', 'Browser_8', 'TrafficType_7', 'Weekend_False', 'OperatingSystems_6', 'Browser_7', 'Region_4', 'Region_5', 'Month_Jul', 'TrafficType_4', 'Browser_13', 'VisitorType_Other', 'Region_9', 'Browser_4', 'Region_1', 'Region_3', 'TrafficType_2', 'TrafficType_20', 'Browser_2', 'OperatingSystems_2', 'Month_May', 'Browser_1', 'ProductRelated_Duration', 'VisitorType_Returning_Visitor', 'Region_2', 'Region_8', 'TrafficType_9', 'Month_June', 'Weekend_True', 'OperatingSystems_8', 'Month_Sep', 'Month_Mar', 'Month_Nov', 'OperatingSystems_4', 'Browser_10', 'Month_Dec', 'Informational', 'Informational_Duration', 'Administrative', 'SpecialDay', 'TrafficType_10', 'Browser_6', 'Month_Aug', 'TrafficType_6', 'ExitRates', 'TrafficType_3', 'TrafficType_1', 'OperatingSystems_3', 'TrafficType_13', 'ProductRelated', 'TrafficType_5', 'TrafficType_11', 'TrafficType_8', 'Browser_3', 'Browser_5', 'Month_Feb', 'Administrative_Duration', 'Month_Oct']\n",
      "M64 subset score (3.): 0.5562854825628548\n",
      "............\n",
      "Best model (M65) with 65 features: ['PageValues', 'BounceRates', 'VisitorType_New_Visitor', 'TrafficType_19', 'OperatingSystems_1', 'Region_7', 'Region_6', 'Browser_8', 'TrafficType_7', 'Weekend_False', 'OperatingSystems_6', 'Browser_7', 'Region_4', 'Region_5', 'Month_Jul', 'TrafficType_4', 'Browser_13', 'VisitorType_Other', 'Region_9', 'Browser_4', 'Region_1', 'Region_3', 'TrafficType_2', 'TrafficType_20', 'Browser_2', 'OperatingSystems_2', 'Month_May', 'Browser_1', 'ProductRelated_Duration', 'VisitorType_Returning_Visitor', 'Region_2', 'Region_8', 'TrafficType_9', 'Month_June', 'Weekend_True', 'OperatingSystems_8', 'Month_Sep', 'Month_Mar', 'Month_Nov', 'OperatingSystems_4', 'Browser_10', 'Month_Dec', 'Informational', 'Informational_Duration', 'Administrative', 'SpecialDay', 'TrafficType_10', 'Browser_6', 'Month_Aug', 'TrafficType_6', 'ExitRates', 'TrafficType_3', 'TrafficType_1', 'OperatingSystems_3', 'TrafficType_13', 'ProductRelated', 'TrafficType_5', 'TrafficType_11', 'TrafficType_8', 'Browser_3', 'Browser_5', 'Month_Feb', 'Administrative_Duration', 'Month_Oct', 'TrafficType_15']\n",
      "M65 subset score (3.): 0.3151662611516626\n",
      "\n",
      " Best configuration has 3 features\n",
      "Features: ['PageValues', 'BounceRates', 'VisitorType_New_Visitor']\n",
      "Total number of trained models: 2470\n"
     ]
    },
    {
     "data": {
      "text/plain": [
       "['PageValues', 'BounceRates', 'VisitorType_New_Visitor']"
      ]
     },
     "execution_count": 17,
     "metadata": {},
     "output_type": "execute_result"
    }
   ],
   "source": [
    "#import warnings\n",
    "#warnings.filterwarnings(\"ignore\")\n",
    "cv = KFold(n_splits=5, random_state=42, shuffle=True)\n",
    "features_QDA = forward_selection(X_train_scaled, y_train, \"QDA\",\n",
    "                  get_evaluator(make_scorer(accuracy)), np.argmax, # 2.\n",
    "                  get_cv_evaluator(make_scorer(accuracy), cv), np.argmax, # 3.\n",
    "                  candidates_scorer_name=\"Accuracy\",\n",
    "                  subsets_scorer_name=\"Accuracy (CV)\",\n",
    "                  verbose=True, weight_step3=cv.n_splits)\n",
    "features_QDA"
   ]
  },
  {
   "cell_type": "markdown",
   "id": "7033b22a",
   "metadata": {},
   "source": [
    "### Evaluation"
   ]
  },
  {
   "cell_type": "code",
   "execution_count": 18,
   "id": "4cb46676",
   "metadata": {},
   "outputs": [
    {
     "data": {
      "text/html": [
       "<div>\n",
       "<style scoped>\n",
       "    .dataframe tbody tr th:only-of-type {\n",
       "        vertical-align: middle;\n",
       "    }\n",
       "\n",
       "    .dataframe tbody tr th {\n",
       "        vertical-align: top;\n",
       "    }\n",
       "\n",
       "    .dataframe thead th {\n",
       "        text-align: right;\n",
       "    }\n",
       "</style>\n",
       "<table border=\"1\" class=\"dataframe\">\n",
       "  <thead>\n",
       "    <tr style=\"text-align: right;\">\n",
       "      <th></th>\n",
       "      <th>Model</th>\n",
       "      <th>Accuracy</th>\n",
       "      <th>Sensitivity</th>\n",
       "      <th>Specificity</th>\n",
       "    </tr>\n",
       "  </thead>\n",
       "  <tbody>\n",
       "    <tr>\n",
       "      <th>0</th>\n",
       "      <td>QDA</td>\n",
       "      <td>0.891646</td>\n",
       "      <td>0.465982</td>\n",
       "      <td>0.737137</td>\n",
       "    </tr>\n",
       "  </tbody>\n",
       "</table>\n",
       "</div>"
      ],
      "text/plain": [
       "  Model  Accuracy  Sensitivity  Specificity\n",
       "0   QDA  0.891646     0.465982     0.737137"
      ]
     },
     "execution_count": 18,
     "metadata": {},
     "output_type": "execute_result"
    }
   ],
   "source": [
    "model_QDA = QDA(store_covariance=True)\n",
    "train_scores_QDA = classification_metrics_training(model_QDA, \"QDA\", X_train_scaled[features_QDA], y_train, cv)\n",
    "train_scores_QDA"
   ]
  },
  {
   "cell_type": "markdown",
   "id": "723e77d7",
   "metadata": {},
   "source": [
    "The sensitivity is very high with respect to the specificity, so we try to set the empirical threshold"
   ]
  },
  {
   "cell_type": "code",
   "execution_count": 19,
   "id": "b9f41197",
   "metadata": {},
   "outputs": [
    {
     "data": {
      "text/html": [
       "<div>\n",
       "<style scoped>\n",
       "    .dataframe tbody tr th:only-of-type {\n",
       "        vertical-align: middle;\n",
       "    }\n",
       "\n",
       "    .dataframe tbody tr th {\n",
       "        vertical-align: top;\n",
       "    }\n",
       "\n",
       "    .dataframe thead th {\n",
       "        text-align: right;\n",
       "    }\n",
       "</style>\n",
       "<table border=\"1\" class=\"dataframe\">\n",
       "  <thead>\n",
       "    <tr style=\"text-align: right;\">\n",
       "      <th></th>\n",
       "      <th>Model</th>\n",
       "      <th>Accuracy</th>\n",
       "      <th>Sensitivity</th>\n",
       "      <th>Specificity</th>\n",
       "    </tr>\n",
       "  </thead>\n",
       "  <tbody>\n",
       "    <tr>\n",
       "      <th>0</th>\n",
       "      <td>QDA</td>\n",
       "      <td>0.804866</td>\n",
       "      <td>0.675577</td>\n",
       "      <td>0.419051</td>\n",
       "    </tr>\n",
       "  </tbody>\n",
       "</table>\n",
       "</div>"
      ],
      "text/plain": [
       "  Model  Accuracy  Sensitivity  Specificity\n",
       "0   QDA  0.804866     0.675577     0.419051"
      ]
     },
     "execution_count": 19,
     "metadata": {},
     "output_type": "execute_result"
    }
   ],
   "source": [
    "train_scores_QDA_empirical = classification_metrics_empirical_threshold(model_QDA, 'QDA', X_train_scaled[features_QDA], y_train, empirical_threshold)\n",
    "train_scores_QDA_empirical"
   ]
  },
  {
   "cell_type": "markdown",
   "id": "d91233d5",
   "metadata": {},
   "source": [
    "## KNN"
   ]
  },
  {
   "cell_type": "markdown",
   "id": "8a20dd3a",
   "metadata": {},
   "source": [
    "### With all features"
   ]
  },
  {
   "cell_type": "code",
   "execution_count": 20,
   "id": "f3215791",
   "metadata": {},
   "outputs": [],
   "source": [
    "from sklearn.model_selection import GridSearchCV\n",
    "import warnings\n",
    "warnings.filterwarnings(\"ignore\")"
   ]
  },
  {
   "cell_type": "code",
   "execution_count": 21,
   "id": "f92da8ca",
   "metadata": {},
   "outputs": [
    {
     "data": {
      "text/plain": [
       "GridSearchCV(cv=KFold(n_splits=5, random_state=42, shuffle=True),\n",
       "             estimator=KNeighborsClassifier(),\n",
       "             param_grid={'n_neighbors': range(1, 15)},\n",
       "             scoring=make_scorer(accuracy))"
      ]
     },
     "execution_count": 21,
     "metadata": {},
     "output_type": "execute_result"
    }
   ],
   "source": [
    "model_KNN_all = KNeighborsClassifier()\n",
    "params = {'n_neighbors': range(1, 15)}\n",
    "cv = KFold(n_splits=5, random_state=42, shuffle=True)\n",
    "cv_KNN_all = GridSearchCV(model_KNN_all, params, refit=True, cv=cv, \n",
    "                  scoring=make_scorer(accuracy))\n",
    "cv_KNN_all.fit(X_train, y_train)"
   ]
  },
  {
   "cell_type": "code",
   "execution_count": 22,
   "id": "04a2d1a1",
   "metadata": {},
   "outputs": [
    {
     "data": {
      "text/html": [
       "<div>\n",
       "<style scoped>\n",
       "    .dataframe tbody tr th:only-of-type {\n",
       "        vertical-align: middle;\n",
       "    }\n",
       "\n",
       "    .dataframe tbody tr th {\n",
       "        vertical-align: top;\n",
       "    }\n",
       "\n",
       "    .dataframe thead th {\n",
       "        text-align: right;\n",
       "    }\n",
       "</style>\n",
       "<table border=\"1\" class=\"dataframe\">\n",
       "  <thead>\n",
       "    <tr style=\"text-align: right;\">\n",
       "      <th></th>\n",
       "      <th>Model</th>\n",
       "      <th>Accuracy</th>\n",
       "      <th>Sensitivity</th>\n",
       "      <th>Specificity</th>\n",
       "    </tr>\n",
       "  </thead>\n",
       "  <tbody>\n",
       "    <tr>\n",
       "      <th>0</th>\n",
       "      <td>KNN</td>\n",
       "      <td>0.86691</td>\n",
       "      <td>0.233585</td>\n",
       "      <td>0.714339</td>\n",
       "    </tr>\n",
       "  </tbody>\n",
       "</table>\n",
       "</div>"
      ],
      "text/plain": [
       "  Model  Accuracy  Sensitivity  Specificity\n",
       "0   KNN   0.86691     0.233585     0.714339"
      ]
     },
     "execution_count": 22,
     "metadata": {},
     "output_type": "execute_result"
    }
   ],
   "source": [
    "model_KNN_all = KNeighborsClassifier(n_neighbors=cv_KNN_all.best_params_['n_neighbors'])\n",
    "train_scores_KNN_all = classification_metrics_training(model_KNN_all, \"KNN\", X_train, y_train, cv)\n",
    "train_scores_KNN_all"
   ]
  },
  {
   "cell_type": "code",
   "execution_count": 23,
   "id": "5a86f80c",
   "metadata": {},
   "outputs": [
    {
     "data": {
      "text/html": [
       "<div>\n",
       "<style scoped>\n",
       "    .dataframe tbody tr th:only-of-type {\n",
       "        vertical-align: middle;\n",
       "    }\n",
       "\n",
       "    .dataframe tbody tr th {\n",
       "        vertical-align: top;\n",
       "    }\n",
       "\n",
       "    .dataframe thead th {\n",
       "        text-align: right;\n",
       "    }\n",
       "</style>\n",
       "<table border=\"1\" class=\"dataframe\">\n",
       "  <thead>\n",
       "    <tr style=\"text-align: right;\">\n",
       "      <th></th>\n",
       "      <th>Model</th>\n",
       "      <th>Accuracy</th>\n",
       "      <th>Sensitivity</th>\n",
       "      <th>Specificity</th>\n",
       "    </tr>\n",
       "  </thead>\n",
       "  <tbody>\n",
       "    <tr>\n",
       "      <th>0</th>\n",
       "      <td>KNN</td>\n",
       "      <td>0.735604</td>\n",
       "      <td>1.0</td>\n",
       "      <td>0.369195</td>\n",
       "    </tr>\n",
       "  </tbody>\n",
       "</table>\n",
       "</div>"
      ],
      "text/plain": [
       "  Model  Accuracy  Sensitivity  Specificity\n",
       "0   KNN  0.735604          1.0     0.369195"
      ]
     },
     "execution_count": 23,
     "metadata": {},
     "output_type": "execute_result"
    }
   ],
   "source": [
    "train_scores_KNN_all_empirical = classification_metrics_empirical_threshold(model_KNN_all, 'KNN', X_train, y_train,empirical_threshold)\n",
    "train_scores_KNN_all_empirical"
   ]
  },
  {
   "cell_type": "markdown",
   "id": "3fc0b4fc",
   "metadata": {},
   "source": [
    "### With only numeric features\n",
    "KNN has two main issues: \n",
    "1. It is not scalable with a large amount of features\n",
    "2. It relies on a distance metric to compute the distance between points. This distance may not be significant in case of categorical variables (even if we use one-hot encoding)\n",
    "3. From the previous analysis we can also notice that even with the empirical threshold the performances don't improve significantly\n",
    "\n",
    "So for these reasons we also fit a model with just the numeric features."
   ]
  },
  {
   "cell_type": "code",
   "execution_count": 24,
   "id": "00843bca",
   "metadata": {},
   "outputs": [
    {
     "data": {
      "text/plain": [
       "GridSearchCV(cv=KFold(n_splits=5, random_state=42, shuffle=True),\n",
       "             estimator=KNeighborsClassifier(),\n",
       "             param_grid={'n_neighbors': range(1, 50)},\n",
       "             scoring=make_scorer(accuracy))"
      ]
     },
     "execution_count": 24,
     "metadata": {},
     "output_type": "execute_result"
    }
   ],
   "source": [
    "model_KNN_numeric = KNeighborsClassifier()\n",
    "params = {'n_neighbors': range(1, 50)}\n",
    "cv_KNN_numeric = GridSearchCV(model_KNN_numeric, params, refit=True, cv=cv, \n",
    "                  scoring=make_scorer(accuracy))\n",
    "cv_KNN_numeric.fit(X_train[numeric_features], y_train)\n",
    "model_KNN_numeric = KNeighborsClassifier(n_neighbors=cv_KNN_numeric.best_params_['n_neighbors'])\n"
   ]
  },
  {
   "cell_type": "code",
   "execution_count": 25,
   "id": "b9984ba5",
   "metadata": {},
   "outputs": [
    {
     "data": {
      "text/html": [
       "<div>\n",
       "<style scoped>\n",
       "    .dataframe tbody tr th:only-of-type {\n",
       "        vertical-align: middle;\n",
       "    }\n",
       "\n",
       "    .dataframe tbody tr th {\n",
       "        vertical-align: top;\n",
       "    }\n",
       "\n",
       "    .dataframe thead th {\n",
       "        text-align: right;\n",
       "    }\n",
       "</style>\n",
       "<table border=\"1\" class=\"dataframe\">\n",
       "  <thead>\n",
       "    <tr style=\"text-align: right;\">\n",
       "      <th></th>\n",
       "      <th>Model</th>\n",
       "      <th>Accuracy</th>\n",
       "      <th>Sensitivity</th>\n",
       "      <th>Specificity</th>\n",
       "    </tr>\n",
       "  </thead>\n",
       "  <tbody>\n",
       "    <tr>\n",
       "      <th>0</th>\n",
       "      <td>KNN</td>\n",
       "      <td>0.866991</td>\n",
       "      <td>0.233585</td>\n",
       "      <td>0.715303</td>\n",
       "    </tr>\n",
       "  </tbody>\n",
       "</table>\n",
       "</div>"
      ],
      "text/plain": [
       "  Model  Accuracy  Sensitivity  Specificity\n",
       "0   KNN  0.866991     0.233585     0.715303"
      ]
     },
     "execution_count": 25,
     "metadata": {},
     "output_type": "execute_result"
    }
   ],
   "source": [
    "train_scores_KNN_numeric = classification_metrics_training(model_KNN_numeric, \"KNN\", X_train[numeric_features], y_train, cv)\n",
    "train_scores_KNN_numeric"
   ]
  },
  {
   "cell_type": "code",
   "execution_count": 26,
   "id": "0611f3e7",
   "metadata": {},
   "outputs": [
    {
     "data": {
      "text/html": [
       "<div>\n",
       "<style scoped>\n",
       "    .dataframe tbody tr th:only-of-type {\n",
       "        vertical-align: middle;\n",
       "    }\n",
       "\n",
       "    .dataframe tbody tr th {\n",
       "        vertical-align: top;\n",
       "    }\n",
       "\n",
       "    .dataframe thead th {\n",
       "        text-align: right;\n",
       "    }\n",
       "</style>\n",
       "<table border=\"1\" class=\"dataframe\">\n",
       "  <thead>\n",
       "    <tr style=\"text-align: right;\">\n",
       "      <th></th>\n",
       "      <th>Model</th>\n",
       "      <th>Accuracy</th>\n",
       "      <th>Sensitivity</th>\n",
       "      <th>Specificity</th>\n",
       "    </tr>\n",
       "  </thead>\n",
       "  <tbody>\n",
       "    <tr>\n",
       "      <th>0</th>\n",
       "      <td>KNN</td>\n",
       "      <td>0.73601</td>\n",
       "      <td>0.998952</td>\n",
       "      <td>0.369451</td>\n",
       "    </tr>\n",
       "  </tbody>\n",
       "</table>\n",
       "</div>"
      ],
      "text/plain": [
       "  Model  Accuracy  Sensitivity  Specificity\n",
       "0   KNN   0.73601     0.998952     0.369451"
      ]
     },
     "execution_count": 26,
     "metadata": {},
     "output_type": "execute_result"
    }
   ],
   "source": [
    "train_scores_KNN_numeric_empirical = classification_metrics_empirical_threshold(model_KNN_numeric, 'KNN', X_train[numeric_features], y_train, empirical_threshold)\n",
    "train_scores_KNN_numeric_empirical"
   ]
  },
  {
   "cell_type": "markdown",
   "id": "ee7590e1",
   "metadata": {},
   "source": [
    "## SVM"
   ]
  },
  {
   "cell_type": "markdown",
   "id": "3ab17648",
   "metadata": {},
   "source": [
    "### Choosing the optimal kernel"
   ]
  },
  {
   "cell_type": "code",
   "execution_count": 27,
   "id": "36026f0d",
   "metadata": {},
   "outputs": [
    {
     "name": "stdout",
     "output_type": "stream",
     "text": [
      "linear\n",
      "sono linear...\n",
      "rbf\n",
      "nonlinear\n",
      "poly\n",
      "nonlinear\n",
      "sigmoid\n",
      "nonlinear\n"
     ]
    }
   ],
   "source": [
    "kernels = ['linear', 'rbf', 'poly', 'sigmoid']\n",
    "score = []\n",
    "for kern in kernels:\n",
    "    cv = KFold(n_splits=5, random_state=1, shuffle=True)\n",
    "    print(kern)\n",
    "    if kern == 'linear':\n",
    "        print('sono linear...')\n",
    "        model_SVM = LinearSVC()\n",
    "    else:\n",
    "        print('nonlinear')\n",
    "        model_SVM = SVC(kernel=kern)\n",
    "    scores = cross_val_score(model_SVM, X_train, y_train, scoring='accuracy', cv=cv, n_jobs=-1)\n",
    "    score.append(np.mean(scores))\n",
    "\n",
    "max_index = score.index(max(score))\n",
    "best_kernel = kernels[max_index]\n",
    "acc_best_model = max(score)"
   ]
  },
  {
   "cell_type": "markdown",
   "id": "5352c4c6",
   "metadata": {},
   "source": [
    "### Choosing the best C"
   ]
  },
  {
   "cell_type": "code",
   "execution_count": 28,
   "id": "77a910fe",
   "metadata": {},
   "outputs": [
    {
     "data": {
      "text/plain": [
       "0.1"
      ]
     },
     "execution_count": 28,
     "metadata": {},
     "output_type": "execute_result"
    }
   ],
   "source": [
    "C_s= [0.1,1,10,100]\n",
    "\n",
    "score_c = []\n",
    "   \n",
    "for c in C_s:\n",
    "    model_SVM = LinearSVC(C=c)\n",
    "    cv = KFold(n_splits=5, random_state=1, shuffle=True)\n",
    "    scores_score = cross_val_score(model_SVM, X_train, y_train, scoring='accuracy', cv=cv, n_jobs=-1)\n",
    "    score_c.append(np.mean(scores_score))\n",
    "best_score_c = score_c.index(max(score_c))\n",
    "   \n",
    "\n",
    "best_c = C_s[best_score_c]\n",
    "best_c"
   ]
  },
  {
   "cell_type": "code",
   "execution_count": 29,
   "id": "5f0f0f8a",
   "metadata": {},
   "outputs": [
    {
     "name": "stderr",
     "output_type": "stream",
     "text": [
      "C:\\Users\\unieuro\\anaconda3\\lib\\site-packages\\sklearn\\svm\\_base.py:1206: ConvergenceWarning: Liblinear failed to converge, increase the number of iterations.\n",
      "  warnings.warn(\n"
     ]
    },
    {
     "name": "stdout",
     "output_type": "stream",
     "text": [
      "............\n",
      "Best model (M1) with 1 features: ['PageValues']\n",
      "M1 subset score (3.): 0.880940794809408\n"
     ]
    },
    {
     "name": "stderr",
     "output_type": "stream",
     "text": [
      "C:\\Users\\unieuro\\anaconda3\\lib\\site-packages\\sklearn\\svm\\_base.py:1206: ConvergenceWarning: Liblinear failed to converge, increase the number of iterations.\n",
      "  warnings.warn(\n"
     ]
    },
    {
     "name": "stdout",
     "output_type": "stream",
     "text": [
      "............\n",
      "Best model (M2) with 2 features: ['PageValues', 'ExitRates']\n",
      "M2 subset score (3.): 0.8820762368207624\n"
     ]
    },
    {
     "name": "stderr",
     "output_type": "stream",
     "text": [
      "C:\\Users\\unieuro\\anaconda3\\lib\\site-packages\\sklearn\\svm\\_base.py:1206: ConvergenceWarning: Liblinear failed to converge, increase the number of iterations.\n",
      "  warnings.warn(\n"
     ]
    },
    {
     "name": "stdout",
     "output_type": "stream",
     "text": [
      "............\n",
      "Best model (M3) with 3 features: ['PageValues', 'ExitRates', 'TrafficType_2']\n",
      "M3 subset score (3.): 0.8819140308191404\n"
     ]
    },
    {
     "name": "stderr",
     "output_type": "stream",
     "text": [
      "C:\\Users\\unieuro\\anaconda3\\lib\\site-packages\\sklearn\\svm\\_base.py:1206: ConvergenceWarning: Liblinear failed to converge, increase the number of iterations.\n",
      "  warnings.warn(\n"
     ]
    },
    {
     "name": "stdout",
     "output_type": "stream",
     "text": [
      "............\n",
      "Best model (M4) with 4 features: ['PageValues', 'ExitRates', 'TrafficType_2', 'Month_Dec']\n",
      "M4 subset score (3.): 0.8827250608272506\n"
     ]
    },
    {
     "name": "stderr",
     "output_type": "stream",
     "text": [
      "C:\\Users\\unieuro\\anaconda3\\lib\\site-packages\\sklearn\\svm\\_base.py:1206: ConvergenceWarning: Liblinear failed to converge, increase the number of iterations.\n",
      "  warnings.warn(\n"
     ]
    },
    {
     "name": "stdout",
     "output_type": "stream",
     "text": [
      "............\n",
      "Best model (M5) with 5 features: ['PageValues', 'ExitRates', 'TrafficType_2', 'Month_Dec', 'TrafficType_11']\n",
      "M5 subset score (3.): 0.8826439578264396\n"
     ]
    },
    {
     "name": "stderr",
     "output_type": "stream",
     "text": [
      "C:\\Users\\unieuro\\anaconda3\\lib\\site-packages\\sklearn\\svm\\_base.py:1206: ConvergenceWarning: Liblinear failed to converge, increase the number of iterations.\n",
      "  warnings.warn(\n"
     ]
    },
    {
     "name": "stdout",
     "output_type": "stream",
     "text": [
      "............\n",
      "Best model (M6) with 6 features: ['PageValues', 'ExitRates', 'TrafficType_2', 'Month_Dec', 'TrafficType_11', 'TrafficType_10']\n",
      "M6 subset score (3.): 0.8822384428223845\n"
     ]
    },
    {
     "name": "stderr",
     "output_type": "stream",
     "text": [
      "C:\\Users\\unieuro\\anaconda3\\lib\\site-packages\\sklearn\\svm\\_base.py:1206: ConvergenceWarning: Liblinear failed to converge, increase the number of iterations.\n",
      "  warnings.warn(\n"
     ]
    },
    {
     "name": "stdout",
     "output_type": "stream",
     "text": [
      "............\n",
      "Best model (M7) with 7 features: ['PageValues', 'ExitRates', 'TrafficType_2', 'Month_Dec', 'TrafficType_11', 'TrafficType_10', 'Month_Aug']\n",
      "M7 subset score (3.): 0.8822384428223845\n"
     ]
    },
    {
     "name": "stderr",
     "output_type": "stream",
     "text": [
      "C:\\Users\\unieuro\\anaconda3\\lib\\site-packages\\sklearn\\svm\\_base.py:1206: ConvergenceWarning: Liblinear failed to converge, increase the number of iterations.\n",
      "  warnings.warn(\n"
     ]
    },
    {
     "name": "stdout",
     "output_type": "stream",
     "text": [
      "............\n",
      "Best model (M8) with 8 features: ['PageValues', 'ExitRates', 'TrafficType_2', 'Month_Dec', 'TrafficType_11', 'TrafficType_10', 'Month_Aug', 'Browser_3']\n",
      "M8 subset score (3.): 0.8824006488240066\n"
     ]
    },
    {
     "name": "stderr",
     "output_type": "stream",
     "text": [
      "C:\\Users\\unieuro\\anaconda3\\lib\\site-packages\\sklearn\\svm\\_base.py:1206: ConvergenceWarning: Liblinear failed to converge, increase the number of iterations.\n",
      "  warnings.warn(\n"
     ]
    },
    {
     "name": "stdout",
     "output_type": "stream",
     "text": [
      "............\n",
      "Best model (M9) with 9 features: ['PageValues', 'ExitRates', 'TrafficType_2', 'Month_Dec', 'TrafficType_11', 'TrafficType_10', 'Month_Aug', 'Browser_3', 'Browser_1']\n",
      "M9 subset score (3.): 0.8827250608272508\n"
     ]
    },
    {
     "name": "stderr",
     "output_type": "stream",
     "text": [
      "C:\\Users\\unieuro\\anaconda3\\lib\\site-packages\\sklearn\\svm\\_base.py:1206: ConvergenceWarning: Liblinear failed to converge, increase the number of iterations.\n",
      "  warnings.warn(\n"
     ]
    },
    {
     "name": "stdout",
     "output_type": "stream",
     "text": [
      "............\n",
      "Best model (M10) with 10 features: ['PageValues', 'ExitRates', 'TrafficType_2', 'Month_Dec', 'TrafficType_11', 'TrafficType_10', 'Month_Aug', 'Browser_3', 'Browser_1', 'TrafficType_20']\n",
      "M10 subset score (3.): 0.8824817518248175\n"
     ]
    },
    {
     "name": "stderr",
     "output_type": "stream",
     "text": [
      "C:\\Users\\unieuro\\anaconda3\\lib\\site-packages\\sklearn\\svm\\_base.py:1206: ConvergenceWarning: Liblinear failed to converge, increase the number of iterations.\n",
      "  warnings.warn(\n"
     ]
    },
    {
     "name": "stdout",
     "output_type": "stream",
     "text": [
      "............\n",
      "Best model (M11) with 11 features: ['PageValues', 'ExitRates', 'TrafficType_2', 'Month_Dec', 'TrafficType_11', 'TrafficType_10', 'Month_Aug', 'Browser_3', 'Browser_1', 'TrafficType_20', 'Browser_7']\n",
      "M11 subset score (3.): 0.8824817518248175\n"
     ]
    },
    {
     "name": "stderr",
     "output_type": "stream",
     "text": [
      "C:\\Users\\unieuro\\anaconda3\\lib\\site-packages\\sklearn\\svm\\_base.py:1206: ConvergenceWarning: Liblinear failed to converge, increase the number of iterations.\n",
      "  warnings.warn(\n"
     ]
    },
    {
     "name": "stdout",
     "output_type": "stream",
     "text": [
      "............\n",
      "Best model (M12) with 12 features: ['PageValues', 'ExitRates', 'TrafficType_2', 'Month_Dec', 'TrafficType_11', 'TrafficType_10', 'Month_Aug', 'Browser_3', 'Browser_1', 'TrafficType_20', 'Browser_7', 'Browser_13']\n",
      "M12 subset score (3.): 0.8824817518248175\n"
     ]
    },
    {
     "name": "stderr",
     "output_type": "stream",
     "text": [
      "C:\\Users\\unieuro\\anaconda3\\lib\\site-packages\\sklearn\\svm\\_base.py:1206: ConvergenceWarning: Liblinear failed to converge, increase the number of iterations.\n",
      "  warnings.warn(\n"
     ]
    },
    {
     "name": "stdout",
     "output_type": "stream",
     "text": [
      "............\n",
      "Best model (M13) with 13 features: ['PageValues', 'ExitRates', 'TrafficType_2', 'Month_Dec', 'TrafficType_11', 'TrafficType_10', 'Month_Aug', 'Browser_3', 'Browser_1', 'TrafficType_20', 'Browser_7', 'Browser_13', 'Month_Feb']\n",
      "M13 subset score (3.): 0.8825628548256287\n"
     ]
    },
    {
     "name": "stderr",
     "output_type": "stream",
     "text": [
      "C:\\Users\\unieuro\\anaconda3\\lib\\site-packages\\sklearn\\svm\\_base.py:1206: ConvergenceWarning: Liblinear failed to converge, increase the number of iterations.\n",
      "  warnings.warn(\n"
     ]
    },
    {
     "name": "stdout",
     "output_type": "stream",
     "text": [
      "............\n",
      "Best model (M14) with 14 features: ['PageValues', 'ExitRates', 'TrafficType_2', 'Month_Dec', 'TrafficType_11', 'TrafficType_10', 'Month_Aug', 'Browser_3', 'Browser_1', 'TrafficType_20', 'Browser_7', 'Browser_13', 'Month_Feb', 'Browser_6']\n",
      "M14 subset score (3.): 0.8825628548256287\n"
     ]
    },
    {
     "name": "stderr",
     "output_type": "stream",
     "text": [
      "C:\\Users\\unieuro\\anaconda3\\lib\\site-packages\\sklearn\\svm\\_base.py:1206: ConvergenceWarning: Liblinear failed to converge, increase the number of iterations.\n",
      "  warnings.warn(\n"
     ]
    },
    {
     "name": "stdout",
     "output_type": "stream",
     "text": [
      "............\n",
      "Best model (M15) with 15 features: ['PageValues', 'ExitRates', 'TrafficType_2', 'Month_Dec', 'TrafficType_11', 'TrafficType_10', 'Month_Aug', 'Browser_3', 'Browser_1', 'TrafficType_20', 'Browser_7', 'Browser_13', 'Month_Feb', 'Browser_6', 'Browser_4']\n",
      "M15 subset score (3.): 0.8827250608272508\n"
     ]
    },
    {
     "name": "stderr",
     "output_type": "stream",
     "text": [
      "C:\\Users\\unieuro\\anaconda3\\lib\\site-packages\\sklearn\\svm\\_base.py:1206: ConvergenceWarning: Liblinear failed to converge, increase the number of iterations.\n",
      "  warnings.warn(\n"
     ]
    },
    {
     "name": "stdout",
     "output_type": "stream",
     "text": [
      "............\n",
      "Best model (M16) with 16 features: ['PageValues', 'ExitRates', 'TrafficType_2', 'Month_Dec', 'TrafficType_11', 'TrafficType_10', 'Month_Aug', 'Browser_3', 'Browser_1', 'TrafficType_20', 'Browser_7', 'Browser_13', 'Month_Feb', 'Browser_6', 'Browser_4', 'Month_Oct']\n",
      "M16 subset score (3.): 0.8824006488240066\n"
     ]
    },
    {
     "name": "stderr",
     "output_type": "stream",
     "text": [
      "C:\\Users\\unieuro\\anaconda3\\lib\\site-packages\\sklearn\\svm\\_base.py:1206: ConvergenceWarning: Liblinear failed to converge, increase the number of iterations.\n",
      "  warnings.warn(\n"
     ]
    },
    {
     "name": "stdout",
     "output_type": "stream",
     "text": [
      "............\n",
      "Best model (M17) with 17 features: ['PageValues', 'ExitRates', 'TrafficType_2', 'Month_Dec', 'TrafficType_11', 'TrafficType_10', 'Month_Aug', 'Browser_3', 'Browser_1', 'TrafficType_20', 'Browser_7', 'Browser_13', 'Month_Feb', 'Browser_6', 'Browser_4', 'Month_Oct', 'OperatingSystems_1']\n",
      "M17 subset score (3.): 0.8824006488240066\n"
     ]
    },
    {
     "name": "stderr",
     "output_type": "stream",
     "text": [
      "C:\\Users\\unieuro\\anaconda3\\lib\\site-packages\\sklearn\\svm\\_base.py:1206: ConvergenceWarning: Liblinear failed to converge, increase the number of iterations.\n",
      "  warnings.warn(\n"
     ]
    },
    {
     "name": "stdout",
     "output_type": "stream",
     "text": [
      "............\n",
      "Best model (M18) with 18 features: ['PageValues', 'ExitRates', 'TrafficType_2', 'Month_Dec', 'TrafficType_11', 'TrafficType_10', 'Month_Aug', 'Browser_3', 'Browser_1', 'TrafficType_20', 'Browser_7', 'Browser_13', 'Month_Feb', 'Browser_6', 'Browser_4', 'Month_Oct', 'OperatingSystems_1', 'OperatingSystems_6']\n",
      "M18 subset score (3.): 0.8825628548256287\n"
     ]
    },
    {
     "name": "stderr",
     "output_type": "stream",
     "text": [
      "C:\\Users\\unieuro\\anaconda3\\lib\\site-packages\\sklearn\\svm\\_base.py:1206: ConvergenceWarning: Liblinear failed to converge, increase the number of iterations.\n",
      "  warnings.warn(\n"
     ]
    },
    {
     "name": "stdout",
     "output_type": "stream",
     "text": [
      "............\n",
      "Best model (M19) with 19 features: ['PageValues', 'ExitRates', 'TrafficType_2', 'Month_Dec', 'TrafficType_11', 'TrafficType_10', 'Month_Aug', 'Browser_3', 'Browser_1', 'TrafficType_20', 'Browser_7', 'Browser_13', 'Month_Feb', 'Browser_6', 'Browser_4', 'Month_Oct', 'OperatingSystems_1', 'OperatingSystems_6', 'Month_Sep']\n",
      "M19 subset score (3.): 0.8824006488240066\n"
     ]
    },
    {
     "name": "stderr",
     "output_type": "stream",
     "text": [
      "C:\\Users\\unieuro\\anaconda3\\lib\\site-packages\\sklearn\\svm\\_base.py:1206: ConvergenceWarning: Liblinear failed to converge, increase the number of iterations.\n",
      "  warnings.warn(\n"
     ]
    },
    {
     "name": "stdout",
     "output_type": "stream",
     "text": [
      "............\n",
      "Best model (M20) with 20 features: ['PageValues', 'ExitRates', 'TrafficType_2', 'Month_Dec', 'TrafficType_11', 'TrafficType_10', 'Month_Aug', 'Browser_3', 'Browser_1', 'TrafficType_20', 'Browser_7', 'Browser_13', 'Month_Feb', 'Browser_6', 'Browser_4', 'Month_Oct', 'OperatingSystems_1', 'OperatingSystems_6', 'Month_Sep', 'OperatingSystems_8']\n",
      "M20 subset score (3.): 0.8824817518248175\n"
     ]
    },
    {
     "name": "stderr",
     "output_type": "stream",
     "text": [
      "C:\\Users\\unieuro\\anaconda3\\lib\\site-packages\\sklearn\\svm\\_base.py:1206: ConvergenceWarning: Liblinear failed to converge, increase the number of iterations.\n",
      "  warnings.warn(\n"
     ]
    },
    {
     "name": "stdout",
     "output_type": "stream",
     "text": [
      "............\n",
      "Best model (M21) with 21 features: ['PageValues', 'ExitRates', 'TrafficType_2', 'Month_Dec', 'TrafficType_11', 'TrafficType_10', 'Month_Aug', 'Browser_3', 'Browser_1', 'TrafficType_20', 'Browser_7', 'Browser_13', 'Month_Feb', 'Browser_6', 'Browser_4', 'Month_Oct', 'OperatingSystems_1', 'OperatingSystems_6', 'Month_Sep', 'OperatingSystems_8', 'Region_1']\n",
      "M21 subset score (3.): 0.8823195458231954\n"
     ]
    },
    {
     "name": "stderr",
     "output_type": "stream",
     "text": [
      "C:\\Users\\unieuro\\anaconda3\\lib\\site-packages\\sklearn\\svm\\_base.py:1206: ConvergenceWarning: Liblinear failed to converge, increase the number of iterations.\n",
      "  warnings.warn(\n"
     ]
    },
    {
     "name": "stdout",
     "output_type": "stream",
     "text": [
      "............\n",
      "Best model (M22) with 22 features: ['PageValues', 'ExitRates', 'TrafficType_2', 'Month_Dec', 'TrafficType_11', 'TrafficType_10', 'Month_Aug', 'Browser_3', 'Browser_1', 'TrafficType_20', 'Browser_7', 'Browser_13', 'Month_Feb', 'Browser_6', 'Browser_4', 'Month_Oct', 'OperatingSystems_1', 'OperatingSystems_6', 'Month_Sep', 'OperatingSystems_8', 'Region_1', 'Browser_8']\n",
      "M22 subset score (3.): 0.8824817518248175\n"
     ]
    },
    {
     "name": "stderr",
     "output_type": "stream",
     "text": [
      "C:\\Users\\unieuro\\anaconda3\\lib\\site-packages\\sklearn\\svm\\_base.py:1206: ConvergenceWarning: Liblinear failed to converge, increase the number of iterations.\n",
      "  warnings.warn(\n"
     ]
    },
    {
     "name": "stdout",
     "output_type": "stream",
     "text": [
      "............\n",
      "Best model (M23) with 23 features: ['PageValues', 'ExitRates', 'TrafficType_2', 'Month_Dec', 'TrafficType_11', 'TrafficType_10', 'Month_Aug', 'Browser_3', 'Browser_1', 'TrafficType_20', 'Browser_7', 'Browser_13', 'Month_Feb', 'Browser_6', 'Browser_4', 'Month_Oct', 'OperatingSystems_1', 'OperatingSystems_6', 'Month_Sep', 'OperatingSystems_8', 'Region_1', 'Browser_8', 'VisitorType_Other']\n",
      "M23 subset score (3.): 0.8825628548256287\n"
     ]
    },
    {
     "name": "stderr",
     "output_type": "stream",
     "text": [
      "C:\\Users\\unieuro\\anaconda3\\lib\\site-packages\\sklearn\\svm\\_base.py:1206: ConvergenceWarning: Liblinear failed to converge, increase the number of iterations.\n",
      "  warnings.warn(\n"
     ]
    },
    {
     "name": "stdout",
     "output_type": "stream",
     "text": [
      "............\n",
      "Best model (M24) with 24 features: ['PageValues', 'ExitRates', 'TrafficType_2', 'Month_Dec', 'TrafficType_11', 'TrafficType_10', 'Month_Aug', 'Browser_3', 'Browser_1', 'TrafficType_20', 'Browser_7', 'Browser_13', 'Month_Feb', 'Browser_6', 'Browser_4', 'Month_Oct', 'OperatingSystems_1', 'OperatingSystems_6', 'Month_Sep', 'OperatingSystems_8', 'Region_1', 'Browser_8', 'VisitorType_Other', 'Region_3']\n",
      "M24 subset score (3.): 0.8823195458231954\n"
     ]
    },
    {
     "name": "stderr",
     "output_type": "stream",
     "text": [
      "C:\\Users\\unieuro\\anaconda3\\lib\\site-packages\\sklearn\\svm\\_base.py:1206: ConvergenceWarning: Liblinear failed to converge, increase the number of iterations.\n",
      "  warnings.warn(\n"
     ]
    },
    {
     "name": "stdout",
     "output_type": "stream",
     "text": [
      "............\n",
      "Best model (M25) with 25 features: ['PageValues', 'ExitRates', 'TrafficType_2', 'Month_Dec', 'TrafficType_11', 'TrafficType_10', 'Month_Aug', 'Browser_3', 'Browser_1', 'TrafficType_20', 'Browser_7', 'Browser_13', 'Month_Feb', 'Browser_6', 'Browser_4', 'Month_Oct', 'OperatingSystems_1', 'OperatingSystems_6', 'Month_Sep', 'OperatingSystems_8', 'Region_1', 'Browser_8', 'VisitorType_Other', 'Region_3', 'Region_4']\n",
      "M25 subset score (3.): 0.8826439578264396\n"
     ]
    },
    {
     "name": "stderr",
     "output_type": "stream",
     "text": [
      "C:\\Users\\unieuro\\anaconda3\\lib\\site-packages\\sklearn\\svm\\_base.py:1206: ConvergenceWarning: Liblinear failed to converge, increase the number of iterations.\n",
      "  warnings.warn(\n"
     ]
    },
    {
     "name": "stdout",
     "output_type": "stream",
     "text": [
      "............\n",
      "Best model (M26) with 26 features: ['PageValues', 'ExitRates', 'TrafficType_2', 'Month_Dec', 'TrafficType_11', 'TrafficType_10', 'Month_Aug', 'Browser_3', 'Browser_1', 'TrafficType_20', 'Browser_7', 'Browser_13', 'Month_Feb', 'Browser_6', 'Browser_4', 'Month_Oct', 'OperatingSystems_1', 'OperatingSystems_6', 'Month_Sep', 'OperatingSystems_8', 'Region_1', 'Browser_8', 'VisitorType_Other', 'Region_3', 'Region_4', 'TrafficType_15']\n",
      "M26 subset score (3.): 0.8826439578264396\n"
     ]
    },
    {
     "name": "stderr",
     "output_type": "stream",
     "text": [
      "C:\\Users\\unieuro\\anaconda3\\lib\\site-packages\\sklearn\\svm\\_base.py:1206: ConvergenceWarning: Liblinear failed to converge, increase the number of iterations.\n",
      "  warnings.warn(\n"
     ]
    },
    {
     "name": "stdout",
     "output_type": "stream",
     "text": [
      "............\n",
      "Best model (M27) with 27 features: ['PageValues', 'ExitRates', 'TrafficType_2', 'Month_Dec', 'TrafficType_11', 'TrafficType_10', 'Month_Aug', 'Browser_3', 'Browser_1', 'TrafficType_20', 'Browser_7', 'Browser_13', 'Month_Feb', 'Browser_6', 'Browser_4', 'Month_Oct', 'OperatingSystems_1', 'OperatingSystems_6', 'Month_Sep', 'OperatingSystems_8', 'Region_1', 'Browser_8', 'VisitorType_Other', 'Region_3', 'Region_4', 'TrafficType_15', 'TrafficType_19']\n",
      "M27 subset score (3.): 0.8826439578264396\n"
     ]
    },
    {
     "name": "stderr",
     "output_type": "stream",
     "text": [
      "C:\\Users\\unieuro\\anaconda3\\lib\\site-packages\\sklearn\\svm\\_base.py:1206: ConvergenceWarning: Liblinear failed to converge, increase the number of iterations.\n",
      "  warnings.warn(\n"
     ]
    },
    {
     "name": "stdout",
     "output_type": "stream",
     "text": [
      "............\n",
      "Best model (M28) with 28 features: ['PageValues', 'ExitRates', 'TrafficType_2', 'Month_Dec', 'TrafficType_11', 'TrafficType_10', 'Month_Aug', 'Browser_3', 'Browser_1', 'TrafficType_20', 'Browser_7', 'Browser_13', 'Month_Feb', 'Browser_6', 'Browser_4', 'Month_Oct', 'OperatingSystems_1', 'OperatingSystems_6', 'Month_Sep', 'OperatingSystems_8', 'Region_1', 'Browser_8', 'VisitorType_Other', 'Region_3', 'Region_4', 'TrafficType_15', 'TrafficType_19', 'TrafficType_9']\n",
      "M28 subset score (3.): 0.8826439578264396\n"
     ]
    },
    {
     "name": "stderr",
     "output_type": "stream",
     "text": [
      "C:\\Users\\unieuro\\anaconda3\\lib\\site-packages\\sklearn\\svm\\_base.py:1206: ConvergenceWarning: Liblinear failed to converge, increase the number of iterations.\n",
      "  warnings.warn(\n"
     ]
    },
    {
     "name": "stdout",
     "output_type": "stream",
     "text": [
      "............\n",
      "Best model (M29) with 29 features: ['PageValues', 'ExitRates', 'TrafficType_2', 'Month_Dec', 'TrafficType_11', 'TrafficType_10', 'Month_Aug', 'Browser_3', 'Browser_1', 'TrafficType_20', 'Browser_7', 'Browser_13', 'Month_Feb', 'Browser_6', 'Browser_4', 'Month_Oct', 'OperatingSystems_1', 'OperatingSystems_6', 'Month_Sep', 'OperatingSystems_8', 'Region_1', 'Browser_8', 'VisitorType_Other', 'Region_3', 'Region_4', 'TrafficType_15', 'TrafficType_19', 'TrafficType_9', 'Browser_2']\n",
      "M29 subset score (3.): 0.8825628548256287\n"
     ]
    },
    {
     "name": "stderr",
     "output_type": "stream",
     "text": [
      "C:\\Users\\unieuro\\anaconda3\\lib\\site-packages\\sklearn\\svm\\_base.py:1206: ConvergenceWarning: Liblinear failed to converge, increase the number of iterations.\n",
      "  warnings.warn(\n"
     ]
    },
    {
     "name": "stdout",
     "output_type": "stream",
     "text": [
      "............\n",
      "Best model (M30) with 30 features: ['PageValues', 'ExitRates', 'TrafficType_2', 'Month_Dec', 'TrafficType_11', 'TrafficType_10', 'Month_Aug', 'Browser_3', 'Browser_1', 'TrafficType_20', 'Browser_7', 'Browser_13', 'Month_Feb', 'Browser_6', 'Browser_4', 'Month_Oct', 'OperatingSystems_1', 'OperatingSystems_6', 'Month_Sep', 'OperatingSystems_8', 'Region_1', 'Browser_8', 'VisitorType_Other', 'Region_3', 'Region_4', 'TrafficType_15', 'TrafficType_19', 'TrafficType_9', 'Browser_2', 'Region_5']\n",
      "M30 subset score (3.): 0.8823195458231954\n"
     ]
    },
    {
     "name": "stderr",
     "output_type": "stream",
     "text": [
      "C:\\Users\\unieuro\\anaconda3\\lib\\site-packages\\sklearn\\svm\\_base.py:1206: ConvergenceWarning: Liblinear failed to converge, increase the number of iterations.\n",
      "  warnings.warn(\n"
     ]
    },
    {
     "name": "stdout",
     "output_type": "stream",
     "text": [
      "............\n",
      "Best model (M31) with 31 features: ['PageValues', 'ExitRates', 'TrafficType_2', 'Month_Dec', 'TrafficType_11', 'TrafficType_10', 'Month_Aug', 'Browser_3', 'Browser_1', 'TrafficType_20', 'Browser_7', 'Browser_13', 'Month_Feb', 'Browser_6', 'Browser_4', 'Month_Oct', 'OperatingSystems_1', 'OperatingSystems_6', 'Month_Sep', 'OperatingSystems_8', 'Region_1', 'Browser_8', 'VisitorType_Other', 'Region_3', 'Region_4', 'TrafficType_15', 'TrafficType_19', 'TrafficType_9', 'Browser_2', 'Region_5', 'Region_6']\n",
      "M31 subset score (3.): 0.8824006488240066\n"
     ]
    },
    {
     "name": "stderr",
     "output_type": "stream",
     "text": [
      "C:\\Users\\unieuro\\anaconda3\\lib\\site-packages\\sklearn\\svm\\_base.py:1206: ConvergenceWarning: Liblinear failed to converge, increase the number of iterations.\n",
      "  warnings.warn(\n"
     ]
    },
    {
     "name": "stdout",
     "output_type": "stream",
     "text": [
      "............\n",
      "Best model (M32) with 32 features: ['PageValues', 'ExitRates', 'TrafficType_2', 'Month_Dec', 'TrafficType_11', 'TrafficType_10', 'Month_Aug', 'Browser_3', 'Browser_1', 'TrafficType_20', 'Browser_7', 'Browser_13', 'Month_Feb', 'Browser_6', 'Browser_4', 'Month_Oct', 'OperatingSystems_1', 'OperatingSystems_6', 'Month_Sep', 'OperatingSystems_8', 'Region_1', 'Browser_8', 'VisitorType_Other', 'Region_3', 'Region_4', 'TrafficType_15', 'TrafficType_19', 'TrafficType_9', 'Browser_2', 'Region_5', 'Region_6', 'TrafficType_6']\n",
      "M32 subset score (3.): 0.8823195458231954\n"
     ]
    },
    {
     "name": "stderr",
     "output_type": "stream",
     "text": [
      "C:\\Users\\unieuro\\anaconda3\\lib\\site-packages\\sklearn\\svm\\_base.py:1206: ConvergenceWarning: Liblinear failed to converge, increase the number of iterations.\n",
      "  warnings.warn(\n"
     ]
    },
    {
     "name": "stdout",
     "output_type": "stream",
     "text": [
      "............\n",
      "Best model (M33) with 33 features: ['PageValues', 'ExitRates', 'TrafficType_2', 'Month_Dec', 'TrafficType_11', 'TrafficType_10', 'Month_Aug', 'Browser_3', 'Browser_1', 'TrafficType_20', 'Browser_7', 'Browser_13', 'Month_Feb', 'Browser_6', 'Browser_4', 'Month_Oct', 'OperatingSystems_1', 'OperatingSystems_6', 'Month_Sep', 'OperatingSystems_8', 'Region_1', 'Browser_8', 'VisitorType_Other', 'Region_3', 'Region_4', 'TrafficType_15', 'TrafficType_19', 'TrafficType_9', 'Browser_2', 'Region_5', 'Region_6', 'TrafficType_6', 'Weekend_False']\n",
      "M33 subset score (3.): 0.8824817518248175\n"
     ]
    },
    {
     "name": "stderr",
     "output_type": "stream",
     "text": [
      "C:\\Users\\unieuro\\anaconda3\\lib\\site-packages\\sklearn\\svm\\_base.py:1206: ConvergenceWarning: Liblinear failed to converge, increase the number of iterations.\n",
      "  warnings.warn(\n"
     ]
    },
    {
     "name": "stdout",
     "output_type": "stream",
     "text": [
      "............\n",
      "Best model (M34) with 34 features: ['PageValues', 'ExitRates', 'TrafficType_2', 'Month_Dec', 'TrafficType_11', 'TrafficType_10', 'Month_Aug', 'Browser_3', 'Browser_1', 'TrafficType_20', 'Browser_7', 'Browser_13', 'Month_Feb', 'Browser_6', 'Browser_4', 'Month_Oct', 'OperatingSystems_1', 'OperatingSystems_6', 'Month_Sep', 'OperatingSystems_8', 'Region_1', 'Browser_8', 'VisitorType_Other', 'Region_3', 'Region_4', 'TrafficType_15', 'TrafficType_19', 'TrafficType_9', 'Browser_2', 'Region_5', 'Region_6', 'TrafficType_6', 'Weekend_False', 'Region_7']\n",
      "M34 subset score (3.): 0.8826439578264396\n"
     ]
    },
    {
     "name": "stderr",
     "output_type": "stream",
     "text": [
      "C:\\Users\\unieuro\\anaconda3\\lib\\site-packages\\sklearn\\svm\\_base.py:1206: ConvergenceWarning: Liblinear failed to converge, increase the number of iterations.\n",
      "  warnings.warn(\n"
     ]
    },
    {
     "name": "stdout",
     "output_type": "stream",
     "text": [
      "............\n",
      "Best model (M35) with 35 features: ['PageValues', 'ExitRates', 'TrafficType_2', 'Month_Dec', 'TrafficType_11', 'TrafficType_10', 'Month_Aug', 'Browser_3', 'Browser_1', 'TrafficType_20', 'Browser_7', 'Browser_13', 'Month_Feb', 'Browser_6', 'Browser_4', 'Month_Oct', 'OperatingSystems_1', 'OperatingSystems_6', 'Month_Sep', 'OperatingSystems_8', 'Region_1', 'Browser_8', 'VisitorType_Other', 'Region_3', 'Region_4', 'TrafficType_15', 'TrafficType_19', 'TrafficType_9', 'Browser_2', 'Region_5', 'Region_6', 'TrafficType_6', 'Weekend_False', 'Region_7', 'Month_June']\n",
      "M35 subset score (3.): 0.8824817518248175\n"
     ]
    },
    {
     "name": "stderr",
     "output_type": "stream",
     "text": [
      "C:\\Users\\unieuro\\anaconda3\\lib\\site-packages\\sklearn\\svm\\_base.py:1206: ConvergenceWarning: Liblinear failed to converge, increase the number of iterations.\n",
      "  warnings.warn(\n"
     ]
    },
    {
     "name": "stdout",
     "output_type": "stream",
     "text": [
      "............\n",
      "Best model (M36) with 36 features: ['PageValues', 'ExitRates', 'TrafficType_2', 'Month_Dec', 'TrafficType_11', 'TrafficType_10', 'Month_Aug', 'Browser_3', 'Browser_1', 'TrafficType_20', 'Browser_7', 'Browser_13', 'Month_Feb', 'Browser_6', 'Browser_4', 'Month_Oct', 'OperatingSystems_1', 'OperatingSystems_6', 'Month_Sep', 'OperatingSystems_8', 'Region_1', 'Browser_8', 'VisitorType_Other', 'Region_3', 'Region_4', 'TrafficType_15', 'TrafficType_19', 'TrafficType_9', 'Browser_2', 'Region_5', 'Region_6', 'TrafficType_6', 'Weekend_False', 'Region_7', 'Month_June', 'Weekend_True']\n",
      "M36 subset score (3.): 0.8824817518248175\n"
     ]
    },
    {
     "name": "stderr",
     "output_type": "stream",
     "text": [
      "C:\\Users\\unieuro\\anaconda3\\lib\\site-packages\\sklearn\\svm\\_base.py:1206: ConvergenceWarning: Liblinear failed to converge, increase the number of iterations.\n",
      "  warnings.warn(\n"
     ]
    },
    {
     "name": "stdout",
     "output_type": "stream",
     "text": [
      "............\n",
      "Best model (M37) with 37 features: ['PageValues', 'ExitRates', 'TrafficType_2', 'Month_Dec', 'TrafficType_11', 'TrafficType_10', 'Month_Aug', 'Browser_3', 'Browser_1', 'TrafficType_20', 'Browser_7', 'Browser_13', 'Month_Feb', 'Browser_6', 'Browser_4', 'Month_Oct', 'OperatingSystems_1', 'OperatingSystems_6', 'Month_Sep', 'OperatingSystems_8', 'Region_1', 'Browser_8', 'VisitorType_Other', 'Region_3', 'Region_4', 'TrafficType_15', 'TrafficType_19', 'TrafficType_9', 'Browser_2', 'Region_5', 'Region_6', 'TrafficType_6', 'Weekend_False', 'Region_7', 'Month_June', 'Weekend_True', 'BounceRates']\n",
      "M37 subset score (3.): 0.8824006488240066\n"
     ]
    },
    {
     "name": "stderr",
     "output_type": "stream",
     "text": [
      "C:\\Users\\unieuro\\anaconda3\\lib\\site-packages\\sklearn\\svm\\_base.py:1206: ConvergenceWarning: Liblinear failed to converge, increase the number of iterations.\n",
      "  warnings.warn(\n"
     ]
    },
    {
     "name": "stdout",
     "output_type": "stream",
     "text": [
      "............\n",
      "Best model (M38) with 38 features: ['PageValues', 'ExitRates', 'TrafficType_2', 'Month_Dec', 'TrafficType_11', 'TrafficType_10', 'Month_Aug', 'Browser_3', 'Browser_1', 'TrafficType_20', 'Browser_7', 'Browser_13', 'Month_Feb', 'Browser_6', 'Browser_4', 'Month_Oct', 'OperatingSystems_1', 'OperatingSystems_6', 'Month_Sep', 'OperatingSystems_8', 'Region_1', 'Browser_8', 'VisitorType_Other', 'Region_3', 'Region_4', 'TrafficType_15', 'TrafficType_19', 'TrafficType_9', 'Browser_2', 'Region_5', 'Region_6', 'TrafficType_6', 'Weekend_False', 'Region_7', 'Month_June', 'Weekend_True', 'BounceRates', 'Browser_10']\n",
      "M38 subset score (3.): 0.8824817518248176\n"
     ]
    },
    {
     "name": "stderr",
     "output_type": "stream",
     "text": [
      "C:\\Users\\unieuro\\anaconda3\\lib\\site-packages\\sklearn\\svm\\_base.py:1206: ConvergenceWarning: Liblinear failed to converge, increase the number of iterations.\n",
      "  warnings.warn(\n"
     ]
    },
    {
     "name": "stdout",
     "output_type": "stream",
     "text": [
      "............\n",
      "Best model (M39) with 39 features: ['PageValues', 'ExitRates', 'TrafficType_2', 'Month_Dec', 'TrafficType_11', 'TrafficType_10', 'Month_Aug', 'Browser_3', 'Browser_1', 'TrafficType_20', 'Browser_7', 'Browser_13', 'Month_Feb', 'Browser_6', 'Browser_4', 'Month_Oct', 'OperatingSystems_1', 'OperatingSystems_6', 'Month_Sep', 'OperatingSystems_8', 'Region_1', 'Browser_8', 'VisitorType_Other', 'Region_3', 'Region_4', 'TrafficType_15', 'TrafficType_19', 'TrafficType_9', 'Browser_2', 'Region_5', 'Region_6', 'TrafficType_6', 'Weekend_False', 'Region_7', 'Month_June', 'Weekend_True', 'BounceRates', 'Browser_10', 'Browser_5']\n",
      "M39 subset score (3.): 0.8824817518248176\n"
     ]
    },
    {
     "name": "stderr",
     "output_type": "stream",
     "text": [
      "C:\\Users\\unieuro\\anaconda3\\lib\\site-packages\\sklearn\\svm\\_base.py:1206: ConvergenceWarning: Liblinear failed to converge, increase the number of iterations.\n",
      "  warnings.warn(\n"
     ]
    },
    {
     "name": "stdout",
     "output_type": "stream",
     "text": [
      "............\n",
      "Best model (M40) with 40 features: ['PageValues', 'ExitRates', 'TrafficType_2', 'Month_Dec', 'TrafficType_11', 'TrafficType_10', 'Month_Aug', 'Browser_3', 'Browser_1', 'TrafficType_20', 'Browser_7', 'Browser_13', 'Month_Feb', 'Browser_6', 'Browser_4', 'Month_Oct', 'OperatingSystems_1', 'OperatingSystems_6', 'Month_Sep', 'OperatingSystems_8', 'Region_1', 'Browser_8', 'VisitorType_Other', 'Region_3', 'Region_4', 'TrafficType_15', 'TrafficType_19', 'TrafficType_9', 'Browser_2', 'Region_5', 'Region_6', 'TrafficType_6', 'Weekend_False', 'Region_7', 'Month_June', 'Weekend_True', 'BounceRates', 'Browser_10', 'Browser_5', 'TrafficType_3']\n",
      "M40 subset score (3.): 0.8823195458231956\n"
     ]
    },
    {
     "name": "stderr",
     "output_type": "stream",
     "text": [
      "C:\\Users\\unieuro\\anaconda3\\lib\\site-packages\\sklearn\\svm\\_base.py:1206: ConvergenceWarning: Liblinear failed to converge, increase the number of iterations.\n",
      "  warnings.warn(\n"
     ]
    },
    {
     "name": "stdout",
     "output_type": "stream",
     "text": [
      "............\n",
      "Best model (M41) with 41 features: ['PageValues', 'ExitRates', 'TrafficType_2', 'Month_Dec', 'TrafficType_11', 'TrafficType_10', 'Month_Aug', 'Browser_3', 'Browser_1', 'TrafficType_20', 'Browser_7', 'Browser_13', 'Month_Feb', 'Browser_6', 'Browser_4', 'Month_Oct', 'OperatingSystems_1', 'OperatingSystems_6', 'Month_Sep', 'OperatingSystems_8', 'Region_1', 'Browser_8', 'VisitorType_Other', 'Region_3', 'Region_4', 'TrafficType_15', 'TrafficType_19', 'TrafficType_9', 'Browser_2', 'Region_5', 'Region_6', 'TrafficType_6', 'Weekend_False', 'Region_7', 'Month_June', 'Weekend_True', 'BounceRates', 'Browser_10', 'Browser_5', 'TrafficType_3', 'OperatingSystems_4']\n",
      "M41 subset score (3.): 0.8824006488240066\n"
     ]
    },
    {
     "name": "stderr",
     "output_type": "stream",
     "text": [
      "C:\\Users\\unieuro\\anaconda3\\lib\\site-packages\\sklearn\\svm\\_base.py:1206: ConvergenceWarning: Liblinear failed to converge, increase the number of iterations.\n",
      "  warnings.warn(\n"
     ]
    },
    {
     "name": "stdout",
     "output_type": "stream",
     "text": [
      "............\n",
      "Best model (M42) with 42 features: ['PageValues', 'ExitRates', 'TrafficType_2', 'Month_Dec', 'TrafficType_11', 'TrafficType_10', 'Month_Aug', 'Browser_3', 'Browser_1', 'TrafficType_20', 'Browser_7', 'Browser_13', 'Month_Feb', 'Browser_6', 'Browser_4', 'Month_Oct', 'OperatingSystems_1', 'OperatingSystems_6', 'Month_Sep', 'OperatingSystems_8', 'Region_1', 'Browser_8', 'VisitorType_Other', 'Region_3', 'Region_4', 'TrafficType_15', 'TrafficType_19', 'TrafficType_9', 'Browser_2', 'Region_5', 'Region_6', 'TrafficType_6', 'Weekend_False', 'Region_7', 'Month_June', 'Weekend_True', 'BounceRates', 'Browser_10', 'Browser_5', 'TrafficType_3', 'OperatingSystems_4', 'TrafficType_1']\n",
      "M42 subset score (3.): 0.8824817518248175\n"
     ]
    },
    {
     "name": "stderr",
     "output_type": "stream",
     "text": [
      "C:\\Users\\unieuro\\anaconda3\\lib\\site-packages\\sklearn\\svm\\_base.py:1206: ConvergenceWarning: Liblinear failed to converge, increase the number of iterations.\n",
      "  warnings.warn(\n"
     ]
    },
    {
     "name": "stdout",
     "output_type": "stream",
     "text": [
      "............\n",
      "Best model (M43) with 43 features: ['PageValues', 'ExitRates', 'TrafficType_2', 'Month_Dec', 'TrafficType_11', 'TrafficType_10', 'Month_Aug', 'Browser_3', 'Browser_1', 'TrafficType_20', 'Browser_7', 'Browser_13', 'Month_Feb', 'Browser_6', 'Browser_4', 'Month_Oct', 'OperatingSystems_1', 'OperatingSystems_6', 'Month_Sep', 'OperatingSystems_8', 'Region_1', 'Browser_8', 'VisitorType_Other', 'Region_3', 'Region_4', 'TrafficType_15', 'TrafficType_19', 'TrafficType_9', 'Browser_2', 'Region_5', 'Region_6', 'TrafficType_6', 'Weekend_False', 'Region_7', 'Month_June', 'Weekend_True', 'BounceRates', 'Browser_10', 'Browser_5', 'TrafficType_3', 'OperatingSystems_4', 'TrafficType_1', 'TrafficType_5']\n",
      "M43 subset score (3.): 0.8824006488240066\n"
     ]
    },
    {
     "name": "stderr",
     "output_type": "stream",
     "text": [
      "C:\\Users\\unieuro\\anaconda3\\lib\\site-packages\\sklearn\\svm\\_base.py:1206: ConvergenceWarning: Liblinear failed to converge, increase the number of iterations.\n",
      "  warnings.warn(\n"
     ]
    },
    {
     "name": "stdout",
     "output_type": "stream",
     "text": [
      "............\n",
      "Best model (M44) with 44 features: ['PageValues', 'ExitRates', 'TrafficType_2', 'Month_Dec', 'TrafficType_11', 'TrafficType_10', 'Month_Aug', 'Browser_3', 'Browser_1', 'TrafficType_20', 'Browser_7', 'Browser_13', 'Month_Feb', 'Browser_6', 'Browser_4', 'Month_Oct', 'OperatingSystems_1', 'OperatingSystems_6', 'Month_Sep', 'OperatingSystems_8', 'Region_1', 'Browser_8', 'VisitorType_Other', 'Region_3', 'Region_4', 'TrafficType_15', 'TrafficType_19', 'TrafficType_9', 'Browser_2', 'Region_5', 'Region_6', 'TrafficType_6', 'Weekend_False', 'Region_7', 'Month_June', 'Weekend_True', 'BounceRates', 'Browser_10', 'Browser_5', 'TrafficType_3', 'OperatingSystems_4', 'TrafficType_1', 'TrafficType_5', 'Month_Jul']\n",
      "M44 subset score (3.): 0.8823195458231956\n"
     ]
    },
    {
     "name": "stderr",
     "output_type": "stream",
     "text": [
      "C:\\Users\\unieuro\\anaconda3\\lib\\site-packages\\sklearn\\svm\\_base.py:1206: ConvergenceWarning: Liblinear failed to converge, increase the number of iterations.\n",
      "  warnings.warn(\n"
     ]
    },
    {
     "name": "stdout",
     "output_type": "stream",
     "text": [
      "............\n",
      "Best model (M45) with 45 features: ['PageValues', 'ExitRates', 'TrafficType_2', 'Month_Dec', 'TrafficType_11', 'TrafficType_10', 'Month_Aug', 'Browser_3', 'Browser_1', 'TrafficType_20', 'Browser_7', 'Browser_13', 'Month_Feb', 'Browser_6', 'Browser_4', 'Month_Oct', 'OperatingSystems_1', 'OperatingSystems_6', 'Month_Sep', 'OperatingSystems_8', 'Region_1', 'Browser_8', 'VisitorType_Other', 'Region_3', 'Region_4', 'TrafficType_15', 'TrafficType_19', 'TrafficType_9', 'Browser_2', 'Region_5', 'Region_6', 'TrafficType_6', 'Weekend_False', 'Region_7', 'Month_June', 'Weekend_True', 'BounceRates', 'Browser_10', 'Browser_5', 'TrafficType_3', 'OperatingSystems_4', 'TrafficType_1', 'TrafficType_5', 'Month_Jul', 'TrafficType_7']\n",
      "M45 subset score (3.): 0.8821573398215735\n"
     ]
    },
    {
     "name": "stderr",
     "output_type": "stream",
     "text": [
      "C:\\Users\\unieuro\\anaconda3\\lib\\site-packages\\sklearn\\svm\\_base.py:1206: ConvergenceWarning: Liblinear failed to converge, increase the number of iterations.\n",
      "  warnings.warn(\n"
     ]
    },
    {
     "name": "stdout",
     "output_type": "stream",
     "text": [
      "............\n",
      "Best model (M46) with 46 features: ['PageValues', 'ExitRates', 'TrafficType_2', 'Month_Dec', 'TrafficType_11', 'TrafficType_10', 'Month_Aug', 'Browser_3', 'Browser_1', 'TrafficType_20', 'Browser_7', 'Browser_13', 'Month_Feb', 'Browser_6', 'Browser_4', 'Month_Oct', 'OperatingSystems_1', 'OperatingSystems_6', 'Month_Sep', 'OperatingSystems_8', 'Region_1', 'Browser_8', 'VisitorType_Other', 'Region_3', 'Region_4', 'TrafficType_15', 'TrafficType_19', 'TrafficType_9', 'Browser_2', 'Region_5', 'Region_6', 'TrafficType_6', 'Weekend_False', 'Region_7', 'Month_June', 'Weekend_True', 'BounceRates', 'Browser_10', 'Browser_5', 'TrafficType_3', 'OperatingSystems_4', 'TrafficType_1', 'TrafficType_5', 'Month_Jul', 'TrafficType_7', 'VisitorType_Returning_Visitor']\n",
      "M46 subset score (3.): 0.8822384428223845\n"
     ]
    },
    {
     "name": "stderr",
     "output_type": "stream",
     "text": [
      "C:\\Users\\unieuro\\anaconda3\\lib\\site-packages\\sklearn\\svm\\_base.py:1206: ConvergenceWarning: Liblinear failed to converge, increase the number of iterations.\n",
      "  warnings.warn(\n"
     ]
    },
    {
     "name": "stdout",
     "output_type": "stream",
     "text": [
      "............\n",
      "Best model (M47) with 47 features: ['PageValues', 'ExitRates', 'TrafficType_2', 'Month_Dec', 'TrafficType_11', 'TrafficType_10', 'Month_Aug', 'Browser_3', 'Browser_1', 'TrafficType_20', 'Browser_7', 'Browser_13', 'Month_Feb', 'Browser_6', 'Browser_4', 'Month_Oct', 'OperatingSystems_1', 'OperatingSystems_6', 'Month_Sep', 'OperatingSystems_8', 'Region_1', 'Browser_8', 'VisitorType_Other', 'Region_3', 'Region_4', 'TrafficType_15', 'TrafficType_19', 'TrafficType_9', 'Browser_2', 'Region_5', 'Region_6', 'TrafficType_6', 'Weekend_False', 'Region_7', 'Month_June', 'Weekend_True', 'BounceRates', 'Browser_10', 'Browser_5', 'TrafficType_3', 'OperatingSystems_4', 'TrafficType_1', 'TrafficType_5', 'Month_Jul', 'TrafficType_7', 'VisitorType_Returning_Visitor', 'Region_9']\n",
      "M47 subset score (3.): 0.8822384428223845\n"
     ]
    },
    {
     "name": "stderr",
     "output_type": "stream",
     "text": [
      "C:\\Users\\unieuro\\anaconda3\\lib\\site-packages\\sklearn\\svm\\_base.py:1206: ConvergenceWarning: Liblinear failed to converge, increase the number of iterations.\n",
      "  warnings.warn(\n"
     ]
    },
    {
     "name": "stdout",
     "output_type": "stream",
     "text": [
      "............\n",
      "Best model (M48) with 48 features: ['PageValues', 'ExitRates', 'TrafficType_2', 'Month_Dec', 'TrafficType_11', 'TrafficType_10', 'Month_Aug', 'Browser_3', 'Browser_1', 'TrafficType_20', 'Browser_7', 'Browser_13', 'Month_Feb', 'Browser_6', 'Browser_4', 'Month_Oct', 'OperatingSystems_1', 'OperatingSystems_6', 'Month_Sep', 'OperatingSystems_8', 'Region_1', 'Browser_8', 'VisitorType_Other', 'Region_3', 'Region_4', 'TrafficType_15', 'TrafficType_19', 'TrafficType_9', 'Browser_2', 'Region_5', 'Region_6', 'TrafficType_6', 'Weekend_False', 'Region_7', 'Month_June', 'Weekend_True', 'BounceRates', 'Browser_10', 'Browser_5', 'TrafficType_3', 'OperatingSystems_4', 'TrafficType_1', 'TrafficType_5', 'Month_Jul', 'TrafficType_7', 'VisitorType_Returning_Visitor', 'Region_9', 'VisitorType_New_Visitor']\n",
      "M48 subset score (3.): 0.8822384428223845\n"
     ]
    },
    {
     "name": "stderr",
     "output_type": "stream",
     "text": [
      "C:\\Users\\unieuro\\anaconda3\\lib\\site-packages\\sklearn\\svm\\_base.py:1206: ConvergenceWarning: Liblinear failed to converge, increase the number of iterations.\n",
      "  warnings.warn(\n"
     ]
    },
    {
     "name": "stdout",
     "output_type": "stream",
     "text": [
      "............\n",
      "Best model (M49) with 49 features: ['PageValues', 'ExitRates', 'TrafficType_2', 'Month_Dec', 'TrafficType_11', 'TrafficType_10', 'Month_Aug', 'Browser_3', 'Browser_1', 'TrafficType_20', 'Browser_7', 'Browser_13', 'Month_Feb', 'Browser_6', 'Browser_4', 'Month_Oct', 'OperatingSystems_1', 'OperatingSystems_6', 'Month_Sep', 'OperatingSystems_8', 'Region_1', 'Browser_8', 'VisitorType_Other', 'Region_3', 'Region_4', 'TrafficType_15', 'TrafficType_19', 'TrafficType_9', 'Browser_2', 'Region_5', 'Region_6', 'TrafficType_6', 'Weekend_False', 'Region_7', 'Month_June', 'Weekend_True', 'BounceRates', 'Browser_10', 'Browser_5', 'TrafficType_3', 'OperatingSystems_4', 'TrafficType_1', 'TrafficType_5', 'Month_Jul', 'TrafficType_7', 'VisitorType_Returning_Visitor', 'Region_9', 'VisitorType_New_Visitor', 'Administrative_Duration']\n",
      "M49 subset score (3.): 0.8820762368207624\n"
     ]
    },
    {
     "name": "stderr",
     "output_type": "stream",
     "text": [
      "C:\\Users\\unieuro\\anaconda3\\lib\\site-packages\\sklearn\\svm\\_base.py:1206: ConvergenceWarning: Liblinear failed to converge, increase the number of iterations.\n",
      "  warnings.warn(\n",
      "C:\\Users\\unieuro\\anaconda3\\lib\\site-packages\\sklearn\\svm\\_base.py:1206: ConvergenceWarning: Liblinear failed to converge, increase the number of iterations.\n",
      "  warnings.warn(\n"
     ]
    },
    {
     "name": "stdout",
     "output_type": "stream",
     "text": [
      "............\n",
      "Best model (M50) with 50 features: ['PageValues', 'ExitRates', 'TrafficType_2', 'Month_Dec', 'TrafficType_11', 'TrafficType_10', 'Month_Aug', 'Browser_3', 'Browser_1', 'TrafficType_20', 'Browser_7', 'Browser_13', 'Month_Feb', 'Browser_6', 'Browser_4', 'Month_Oct', 'OperatingSystems_1', 'OperatingSystems_6', 'Month_Sep', 'OperatingSystems_8', 'Region_1', 'Browser_8', 'VisitorType_Other', 'Region_3', 'Region_4', 'TrafficType_15', 'TrafficType_19', 'TrafficType_9', 'Browser_2', 'Region_5', 'Region_6', 'TrafficType_6', 'Weekend_False', 'Region_7', 'Month_June', 'Weekend_True', 'BounceRates', 'Browser_10', 'Browser_5', 'TrafficType_3', 'OperatingSystems_4', 'TrafficType_1', 'TrafficType_5', 'Month_Jul', 'TrafficType_7', 'VisitorType_Returning_Visitor', 'Region_9', 'VisitorType_New_Visitor', 'Administrative_Duration', 'Region_8']\n",
      "M50 subset score (3.): 0.8819951338199514\n"
     ]
    },
    {
     "name": "stderr",
     "output_type": "stream",
     "text": [
      "C:\\Users\\unieuro\\anaconda3\\lib\\site-packages\\sklearn\\svm\\_base.py:1206: ConvergenceWarning: Liblinear failed to converge, increase the number of iterations.\n",
      "  warnings.warn(\n",
      "C:\\Users\\unieuro\\anaconda3\\lib\\site-packages\\sklearn\\svm\\_base.py:1206: ConvergenceWarning: Liblinear failed to converge, increase the number of iterations.\n",
      "  warnings.warn(\n"
     ]
    },
    {
     "name": "stdout",
     "output_type": "stream",
     "text": [
      "............\n",
      "Best model (M51) with 51 features: ['PageValues', 'ExitRates', 'TrafficType_2', 'Month_Dec', 'TrafficType_11', 'TrafficType_10', 'Month_Aug', 'Browser_3', 'Browser_1', 'TrafficType_20', 'Browser_7', 'Browser_13', 'Month_Feb', 'Browser_6', 'Browser_4', 'Month_Oct', 'OperatingSystems_1', 'OperatingSystems_6', 'Month_Sep', 'OperatingSystems_8', 'Region_1', 'Browser_8', 'VisitorType_Other', 'Region_3', 'Region_4', 'TrafficType_15', 'TrafficType_19', 'TrafficType_9', 'Browser_2', 'Region_5', 'Region_6', 'TrafficType_6', 'Weekend_False', 'Region_7', 'Month_June', 'Weekend_True', 'BounceRates', 'Browser_10', 'Browser_5', 'TrafficType_3', 'OperatingSystems_4', 'TrafficType_1', 'TrafficType_5', 'Month_Jul', 'TrafficType_7', 'VisitorType_Returning_Visitor', 'Region_9', 'VisitorType_New_Visitor', 'Administrative_Duration', 'Region_8', 'Region_2']\n",
      "M51 subset score (3.): 0.8819951338199514\n"
     ]
    },
    {
     "name": "stderr",
     "output_type": "stream",
     "text": [
      "C:\\Users\\unieuro\\anaconda3\\lib\\site-packages\\sklearn\\svm\\_base.py:1206: ConvergenceWarning: Liblinear failed to converge, increase the number of iterations.\n",
      "  warnings.warn(\n",
      "C:\\Users\\unieuro\\anaconda3\\lib\\site-packages\\sklearn\\svm\\_base.py:1206: ConvergenceWarning: Liblinear failed to converge, increase the number of iterations.\n",
      "  warnings.warn(\n"
     ]
    },
    {
     "name": "stdout",
     "output_type": "stream",
     "text": [
      "............\n",
      "Best model (M52) with 52 features: ['PageValues', 'ExitRates', 'TrafficType_2', 'Month_Dec', 'TrafficType_11', 'TrafficType_10', 'Month_Aug', 'Browser_3', 'Browser_1', 'TrafficType_20', 'Browser_7', 'Browser_13', 'Month_Feb', 'Browser_6', 'Browser_4', 'Month_Oct', 'OperatingSystems_1', 'OperatingSystems_6', 'Month_Sep', 'OperatingSystems_8', 'Region_1', 'Browser_8', 'VisitorType_Other', 'Region_3', 'Region_4', 'TrafficType_15', 'TrafficType_19', 'TrafficType_9', 'Browser_2', 'Region_5', 'Region_6', 'TrafficType_6', 'Weekend_False', 'Region_7', 'Month_June', 'Weekend_True', 'BounceRates', 'Browser_10', 'Browser_5', 'TrafficType_3', 'OperatingSystems_4', 'TrafficType_1', 'TrafficType_5', 'Month_Jul', 'TrafficType_7', 'VisitorType_Returning_Visitor', 'Region_9', 'VisitorType_New_Visitor', 'Administrative_Duration', 'Region_8', 'Region_2', 'TrafficType_4']\n",
      "M52 subset score (3.): 0.8818329278183293\n"
     ]
    },
    {
     "name": "stderr",
     "output_type": "stream",
     "text": [
      "C:\\Users\\unieuro\\anaconda3\\lib\\site-packages\\sklearn\\svm\\_base.py:1206: ConvergenceWarning: Liblinear failed to converge, increase the number of iterations.\n",
      "  warnings.warn(\n",
      "C:\\Users\\unieuro\\anaconda3\\lib\\site-packages\\sklearn\\svm\\_base.py:1206: ConvergenceWarning: Liblinear failed to converge, increase the number of iterations.\n",
      "  warnings.warn(\n"
     ]
    },
    {
     "name": "stdout",
     "output_type": "stream",
     "text": [
      "............\n",
      "Best model (M53) with 53 features: ['PageValues', 'ExitRates', 'TrafficType_2', 'Month_Dec', 'TrafficType_11', 'TrafficType_10', 'Month_Aug', 'Browser_3', 'Browser_1', 'TrafficType_20', 'Browser_7', 'Browser_13', 'Month_Feb', 'Browser_6', 'Browser_4', 'Month_Oct', 'OperatingSystems_1', 'OperatingSystems_6', 'Month_Sep', 'OperatingSystems_8', 'Region_1', 'Browser_8', 'VisitorType_Other', 'Region_3', 'Region_4', 'TrafficType_15', 'TrafficType_19', 'TrafficType_9', 'Browser_2', 'Region_5', 'Region_6', 'TrafficType_6', 'Weekend_False', 'Region_7', 'Month_June', 'Weekend_True', 'BounceRates', 'Browser_10', 'Browser_5', 'TrafficType_3', 'OperatingSystems_4', 'TrafficType_1', 'TrafficType_5', 'Month_Jul', 'TrafficType_7', 'VisitorType_Returning_Visitor', 'Region_9', 'VisitorType_New_Visitor', 'Administrative_Duration', 'Region_8', 'Region_2', 'TrafficType_4', 'TrafficType_13']\n",
      "M53 subset score (3.): 0.8818329278183293\n"
     ]
    },
    {
     "name": "stderr",
     "output_type": "stream",
     "text": [
      "C:\\Users\\unieuro\\anaconda3\\lib\\site-packages\\sklearn\\svm\\_base.py:1206: ConvergenceWarning: Liblinear failed to converge, increase the number of iterations.\n",
      "  warnings.warn(\n",
      "C:\\Users\\unieuro\\anaconda3\\lib\\site-packages\\sklearn\\svm\\_base.py:1206: ConvergenceWarning: Liblinear failed to converge, increase the number of iterations.\n",
      "  warnings.warn(\n",
      "C:\\Users\\unieuro\\anaconda3\\lib\\site-packages\\sklearn\\svm\\_base.py:1206: ConvergenceWarning: Liblinear failed to converge, increase the number of iterations.\n",
      "  warnings.warn(\n",
      "C:\\Users\\unieuro\\anaconda3\\lib\\site-packages\\sklearn\\svm\\_base.py:1206: ConvergenceWarning: Liblinear failed to converge, increase the number of iterations.\n",
      "  warnings.warn(\n",
      "C:\\Users\\unieuro\\anaconda3\\lib\\site-packages\\sklearn\\svm\\_base.py:1206: ConvergenceWarning: Liblinear failed to converge, increase the number of iterations.\n",
      "  warnings.warn(\n",
      "C:\\Users\\unieuro\\anaconda3\\lib\\site-packages\\sklearn\\svm\\_base.py:1206: ConvergenceWarning: Liblinear failed to converge, increase the number of iterations.\n",
      "  warnings.warn(\n",
      "C:\\Users\\unieuro\\anaconda3\\lib\\site-packages\\sklearn\\svm\\_base.py:1206: ConvergenceWarning: Liblinear failed to converge, increase the number of iterations.\n",
      "  warnings.warn(\n"
     ]
    },
    {
     "name": "stdout",
     "output_type": "stream",
     "text": [
      "............\n",
      "Best model (M54) with 54 features: ['PageValues', 'ExitRates', 'TrafficType_2', 'Month_Dec', 'TrafficType_11', 'TrafficType_10', 'Month_Aug', 'Browser_3', 'Browser_1', 'TrafficType_20', 'Browser_7', 'Browser_13', 'Month_Feb', 'Browser_6', 'Browser_4', 'Month_Oct', 'OperatingSystems_1', 'OperatingSystems_6', 'Month_Sep', 'OperatingSystems_8', 'Region_1', 'Browser_8', 'VisitorType_Other', 'Region_3', 'Region_4', 'TrafficType_15', 'TrafficType_19', 'TrafficType_9', 'Browser_2', 'Region_5', 'Region_6', 'TrafficType_6', 'Weekend_False', 'Region_7', 'Month_June', 'Weekend_True', 'BounceRates', 'Browser_10', 'Browser_5', 'TrafficType_3', 'OperatingSystems_4', 'TrafficType_1', 'TrafficType_5', 'Month_Jul', 'TrafficType_7', 'VisitorType_Returning_Visitor', 'Region_9', 'VisitorType_New_Visitor', 'Administrative_Duration', 'Region_8', 'Region_2', 'TrafficType_4', 'TrafficType_13', 'Informational_Duration']\n",
      "M54 subset score (3.): 0.8814274128142742\n"
     ]
    },
    {
     "name": "stderr",
     "output_type": "stream",
     "text": [
      "C:\\Users\\unieuro\\anaconda3\\lib\\site-packages\\sklearn\\svm\\_base.py:1206: ConvergenceWarning: Liblinear failed to converge, increase the number of iterations.\n",
      "  warnings.warn(\n",
      "C:\\Users\\unieuro\\anaconda3\\lib\\site-packages\\sklearn\\svm\\_base.py:1206: ConvergenceWarning: Liblinear failed to converge, increase the number of iterations.\n",
      "  warnings.warn(\n",
      "C:\\Users\\unieuro\\anaconda3\\lib\\site-packages\\sklearn\\svm\\_base.py:1206: ConvergenceWarning: Liblinear failed to converge, increase the number of iterations.\n",
      "  warnings.warn(\n",
      "C:\\Users\\unieuro\\anaconda3\\lib\\site-packages\\sklearn\\svm\\_base.py:1206: ConvergenceWarning: Liblinear failed to converge, increase the number of iterations.\n",
      "  warnings.warn(\n",
      "C:\\Users\\unieuro\\anaconda3\\lib\\site-packages\\sklearn\\svm\\_base.py:1206: ConvergenceWarning: Liblinear failed to converge, increase the number of iterations.\n",
      "  warnings.warn(\n",
      "C:\\Users\\unieuro\\anaconda3\\lib\\site-packages\\sklearn\\svm\\_base.py:1206: ConvergenceWarning: Liblinear failed to converge, increase the number of iterations.\n",
      "  warnings.warn(\n",
      "C:\\Users\\unieuro\\anaconda3\\lib\\site-packages\\sklearn\\svm\\_base.py:1206: ConvergenceWarning: Liblinear failed to converge, increase the number of iterations.\n",
      "  warnings.warn(\n",
      "C:\\Users\\unieuro\\anaconda3\\lib\\site-packages\\sklearn\\svm\\_base.py:1206: ConvergenceWarning: Liblinear failed to converge, increase the number of iterations.\n",
      "  warnings.warn(\n",
      "C:\\Users\\unieuro\\anaconda3\\lib\\site-packages\\sklearn\\svm\\_base.py:1206: ConvergenceWarning: Liblinear failed to converge, increase the number of iterations.\n",
      "  warnings.warn(\n",
      "C:\\Users\\unieuro\\anaconda3\\lib\\site-packages\\sklearn\\svm\\_base.py:1206: ConvergenceWarning: Liblinear failed to converge, increase the number of iterations.\n",
      "  warnings.warn(\n",
      "C:\\Users\\unieuro\\anaconda3\\lib\\site-packages\\sklearn\\svm\\_base.py:1206: ConvergenceWarning: Liblinear failed to converge, increase the number of iterations.\n",
      "  warnings.warn(\n",
      "C:\\Users\\unieuro\\anaconda3\\lib\\site-packages\\sklearn\\svm\\_base.py:1206: ConvergenceWarning: Liblinear failed to converge, increase the number of iterations.\n",
      "  warnings.warn(\n",
      "C:\\Users\\unieuro\\anaconda3\\lib\\site-packages\\sklearn\\svm\\_base.py:1206: ConvergenceWarning: Liblinear failed to converge, increase the number of iterations.\n",
      "  warnings.warn(\n",
      "C:\\Users\\unieuro\\anaconda3\\lib\\site-packages\\sklearn\\svm\\_base.py:1206: ConvergenceWarning: Liblinear failed to converge, increase the number of iterations.\n",
      "  warnings.warn(\n",
      "C:\\Users\\unieuro\\anaconda3\\lib\\site-packages\\sklearn\\svm\\_base.py:1206: ConvergenceWarning: Liblinear failed to converge, increase the number of iterations.\n",
      "  warnings.warn(\n"
     ]
    },
    {
     "name": "stdout",
     "output_type": "stream",
     "text": [
      "............\n",
      "Best model (M55) with 55 features: ['PageValues', 'ExitRates', 'TrafficType_2', 'Month_Dec', 'TrafficType_11', 'TrafficType_10', 'Month_Aug', 'Browser_3', 'Browser_1', 'TrafficType_20', 'Browser_7', 'Browser_13', 'Month_Feb', 'Browser_6', 'Browser_4', 'Month_Oct', 'OperatingSystems_1', 'OperatingSystems_6', 'Month_Sep', 'OperatingSystems_8', 'Region_1', 'Browser_8', 'VisitorType_Other', 'Region_3', 'Region_4', 'TrafficType_15', 'TrafficType_19', 'TrafficType_9', 'Browser_2', 'Region_5', 'Region_6', 'TrafficType_6', 'Weekend_False', 'Region_7', 'Month_June', 'Weekend_True', 'BounceRates', 'Browser_10', 'Browser_5', 'TrafficType_3', 'OperatingSystems_4', 'TrafficType_1', 'TrafficType_5', 'Month_Jul', 'TrafficType_7', 'VisitorType_Returning_Visitor', 'Region_9', 'VisitorType_New_Visitor', 'Administrative_Duration', 'Region_8', 'Region_2', 'TrafficType_4', 'TrafficType_13', 'Informational_Duration', 'TrafficType_8']\n",
      "M55 subset score (3.): 0.8817518248175183\n"
     ]
    },
    {
     "name": "stderr",
     "output_type": "stream",
     "text": [
      "C:\\Users\\unieuro\\anaconda3\\lib\\site-packages\\sklearn\\svm\\_base.py:1206: ConvergenceWarning: Liblinear failed to converge, increase the number of iterations.\n",
      "  warnings.warn(\n",
      "C:\\Users\\unieuro\\anaconda3\\lib\\site-packages\\sklearn\\svm\\_base.py:1206: ConvergenceWarning: Liblinear failed to converge, increase the number of iterations.\n",
      "  warnings.warn(\n",
      "C:\\Users\\unieuro\\anaconda3\\lib\\site-packages\\sklearn\\svm\\_base.py:1206: ConvergenceWarning: Liblinear failed to converge, increase the number of iterations.\n",
      "  warnings.warn(\n",
      "C:\\Users\\unieuro\\anaconda3\\lib\\site-packages\\sklearn\\svm\\_base.py:1206: ConvergenceWarning: Liblinear failed to converge, increase the number of iterations.\n",
      "  warnings.warn(\n",
      "C:\\Users\\unieuro\\anaconda3\\lib\\site-packages\\sklearn\\svm\\_base.py:1206: ConvergenceWarning: Liblinear failed to converge, increase the number of iterations.\n",
      "  warnings.warn(\n",
      "C:\\Users\\unieuro\\anaconda3\\lib\\site-packages\\sklearn\\svm\\_base.py:1206: ConvergenceWarning: Liblinear failed to converge, increase the number of iterations.\n",
      "  warnings.warn(\n",
      "C:\\Users\\unieuro\\anaconda3\\lib\\site-packages\\sklearn\\svm\\_base.py:1206: ConvergenceWarning: Liblinear failed to converge, increase the number of iterations.\n",
      "  warnings.warn(\n",
      "C:\\Users\\unieuro\\anaconda3\\lib\\site-packages\\sklearn\\svm\\_base.py:1206: ConvergenceWarning: Liblinear failed to converge, increase the number of iterations.\n",
      "  warnings.warn(\n",
      "C:\\Users\\unieuro\\anaconda3\\lib\\site-packages\\sklearn\\svm\\_base.py:1206: ConvergenceWarning: Liblinear failed to converge, increase the number of iterations.\n",
      "  warnings.warn(\n",
      "C:\\Users\\unieuro\\anaconda3\\lib\\site-packages\\sklearn\\svm\\_base.py:1206: ConvergenceWarning: Liblinear failed to converge, increase the number of iterations.\n",
      "  warnings.warn(\n",
      "C:\\Users\\unieuro\\anaconda3\\lib\\site-packages\\sklearn\\svm\\_base.py:1206: ConvergenceWarning: Liblinear failed to converge, increase the number of iterations.\n",
      "  warnings.warn(\n",
      "C:\\Users\\unieuro\\anaconda3\\lib\\site-packages\\sklearn\\svm\\_base.py:1206: ConvergenceWarning: Liblinear failed to converge, increase the number of iterations.\n",
      "  warnings.warn(\n",
      "C:\\Users\\unieuro\\anaconda3\\lib\\site-packages\\sklearn\\svm\\_base.py:1206: ConvergenceWarning: Liblinear failed to converge, increase the number of iterations.\n",
      "  warnings.warn(\n",
      "C:\\Users\\unieuro\\anaconda3\\lib\\site-packages\\sklearn\\svm\\_base.py:1206: ConvergenceWarning: Liblinear failed to converge, increase the number of iterations.\n",
      "  warnings.warn(\n"
     ]
    },
    {
     "name": "stdout",
     "output_type": "stream",
     "text": [
      "............\n",
      "Best model (M56) with 56 features: ['PageValues', 'ExitRates', 'TrafficType_2', 'Month_Dec', 'TrafficType_11', 'TrafficType_10', 'Month_Aug', 'Browser_3', 'Browser_1', 'TrafficType_20', 'Browser_7', 'Browser_13', 'Month_Feb', 'Browser_6', 'Browser_4', 'Month_Oct', 'OperatingSystems_1', 'OperatingSystems_6', 'Month_Sep', 'OperatingSystems_8', 'Region_1', 'Browser_8', 'VisitorType_Other', 'Region_3', 'Region_4', 'TrafficType_15', 'TrafficType_19', 'TrafficType_9', 'Browser_2', 'Region_5', 'Region_6', 'TrafficType_6', 'Weekend_False', 'Region_7', 'Month_June', 'Weekend_True', 'BounceRates', 'Browser_10', 'Browser_5', 'TrafficType_3', 'OperatingSystems_4', 'TrafficType_1', 'TrafficType_5', 'Month_Jul', 'TrafficType_7', 'VisitorType_Returning_Visitor', 'Region_9', 'VisitorType_New_Visitor', 'Administrative_Duration', 'Region_8', 'Region_2', 'TrafficType_4', 'TrafficType_13', 'Informational_Duration', 'TrafficType_8', 'SpecialDay']\n",
      "M56 subset score (3.): 0.8815896188158963\n"
     ]
    },
    {
     "name": "stderr",
     "output_type": "stream",
     "text": [
      "C:\\Users\\unieuro\\anaconda3\\lib\\site-packages\\sklearn\\svm\\_base.py:1206: ConvergenceWarning: Liblinear failed to converge, increase the number of iterations.\n",
      "  warnings.warn(\n",
      "C:\\Users\\unieuro\\anaconda3\\lib\\site-packages\\sklearn\\svm\\_base.py:1206: ConvergenceWarning: Liblinear failed to converge, increase the number of iterations.\n",
      "  warnings.warn(\n",
      "C:\\Users\\unieuro\\anaconda3\\lib\\site-packages\\sklearn\\svm\\_base.py:1206: ConvergenceWarning: Liblinear failed to converge, increase the number of iterations.\n",
      "  warnings.warn(\n",
      "C:\\Users\\unieuro\\anaconda3\\lib\\site-packages\\sklearn\\svm\\_base.py:1206: ConvergenceWarning: Liblinear failed to converge, increase the number of iterations.\n",
      "  warnings.warn(\n",
      "C:\\Users\\unieuro\\anaconda3\\lib\\site-packages\\sklearn\\svm\\_base.py:1206: ConvergenceWarning: Liblinear failed to converge, increase the number of iterations.\n",
      "  warnings.warn(\n",
      "C:\\Users\\unieuro\\anaconda3\\lib\\site-packages\\sklearn\\svm\\_base.py:1206: ConvergenceWarning: Liblinear failed to converge, increase the number of iterations.\n",
      "  warnings.warn(\n",
      "C:\\Users\\unieuro\\anaconda3\\lib\\site-packages\\sklearn\\svm\\_base.py:1206: ConvergenceWarning: Liblinear failed to converge, increase the number of iterations.\n",
      "  warnings.warn(\n",
      "C:\\Users\\unieuro\\anaconda3\\lib\\site-packages\\sklearn\\svm\\_base.py:1206: ConvergenceWarning: Liblinear failed to converge, increase the number of iterations.\n",
      "  warnings.warn(\n",
      "C:\\Users\\unieuro\\anaconda3\\lib\\site-packages\\sklearn\\svm\\_base.py:1206: ConvergenceWarning: Liblinear failed to converge, increase the number of iterations.\n",
      "  warnings.warn(\n",
      "C:\\Users\\unieuro\\anaconda3\\lib\\site-packages\\sklearn\\svm\\_base.py:1206: ConvergenceWarning: Liblinear failed to converge, increase the number of iterations.\n",
      "  warnings.warn(\n",
      "C:\\Users\\unieuro\\anaconda3\\lib\\site-packages\\sklearn\\svm\\_base.py:1206: ConvergenceWarning: Liblinear failed to converge, increase the number of iterations.\n",
      "  warnings.warn(\n",
      "C:\\Users\\unieuro\\anaconda3\\lib\\site-packages\\sklearn\\svm\\_base.py:1206: ConvergenceWarning: Liblinear failed to converge, increase the number of iterations.\n",
      "  warnings.warn(\n",
      "C:\\Users\\unieuro\\anaconda3\\lib\\site-packages\\sklearn\\svm\\_base.py:1206: ConvergenceWarning: Liblinear failed to converge, increase the number of iterations.\n",
      "  warnings.warn(\n"
     ]
    },
    {
     "name": "stdout",
     "output_type": "stream",
     "text": [
      "............\n",
      "Best model (M57) with 57 features: ['PageValues', 'ExitRates', 'TrafficType_2', 'Month_Dec', 'TrafficType_11', 'TrafficType_10', 'Month_Aug', 'Browser_3', 'Browser_1', 'TrafficType_20', 'Browser_7', 'Browser_13', 'Month_Feb', 'Browser_6', 'Browser_4', 'Month_Oct', 'OperatingSystems_1', 'OperatingSystems_6', 'Month_Sep', 'OperatingSystems_8', 'Region_1', 'Browser_8', 'VisitorType_Other', 'Region_3', 'Region_4', 'TrafficType_15', 'TrafficType_19', 'TrafficType_9', 'Browser_2', 'Region_5', 'Region_6', 'TrafficType_6', 'Weekend_False', 'Region_7', 'Month_June', 'Weekend_True', 'BounceRates', 'Browser_10', 'Browser_5', 'TrafficType_3', 'OperatingSystems_4', 'TrafficType_1', 'TrafficType_5', 'Month_Jul', 'TrafficType_7', 'VisitorType_Returning_Visitor', 'Region_9', 'VisitorType_New_Visitor', 'Administrative_Duration', 'Region_8', 'Region_2', 'TrafficType_4', 'TrafficType_13', 'Informational_Duration', 'TrafficType_8', 'SpecialDay', 'Administrative']\n",
      "M57 subset score (3.): 0.880940794809408\n"
     ]
    },
    {
     "name": "stderr",
     "output_type": "stream",
     "text": [
      "C:\\Users\\unieuro\\anaconda3\\lib\\site-packages\\sklearn\\svm\\_base.py:1206: ConvergenceWarning: Liblinear failed to converge, increase the number of iterations.\n",
      "  warnings.warn(\n",
      "C:\\Users\\unieuro\\anaconda3\\lib\\site-packages\\sklearn\\svm\\_base.py:1206: ConvergenceWarning: Liblinear failed to converge, increase the number of iterations.\n",
      "  warnings.warn(\n",
      "C:\\Users\\unieuro\\anaconda3\\lib\\site-packages\\sklearn\\svm\\_base.py:1206: ConvergenceWarning: Liblinear failed to converge, increase the number of iterations.\n",
      "  warnings.warn(\n",
      "C:\\Users\\unieuro\\anaconda3\\lib\\site-packages\\sklearn\\svm\\_base.py:1206: ConvergenceWarning: Liblinear failed to converge, increase the number of iterations.\n",
      "  warnings.warn(\n",
      "C:\\Users\\unieuro\\anaconda3\\lib\\site-packages\\sklearn\\svm\\_base.py:1206: ConvergenceWarning: Liblinear failed to converge, increase the number of iterations.\n",
      "  warnings.warn(\n",
      "C:\\Users\\unieuro\\anaconda3\\lib\\site-packages\\sklearn\\svm\\_base.py:1206: ConvergenceWarning: Liblinear failed to converge, increase the number of iterations.\n",
      "  warnings.warn(\n",
      "C:\\Users\\unieuro\\anaconda3\\lib\\site-packages\\sklearn\\svm\\_base.py:1206: ConvergenceWarning: Liblinear failed to converge, increase the number of iterations.\n",
      "  warnings.warn(\n",
      "C:\\Users\\unieuro\\anaconda3\\lib\\site-packages\\sklearn\\svm\\_base.py:1206: ConvergenceWarning: Liblinear failed to converge, increase the number of iterations.\n",
      "  warnings.warn(\n",
      "C:\\Users\\unieuro\\anaconda3\\lib\\site-packages\\sklearn\\svm\\_base.py:1206: ConvergenceWarning: Liblinear failed to converge, increase the number of iterations.\n",
      "  warnings.warn(\n",
      "C:\\Users\\unieuro\\anaconda3\\lib\\site-packages\\sklearn\\svm\\_base.py:1206: ConvergenceWarning: Liblinear failed to converge, increase the number of iterations.\n",
      "  warnings.warn(\n",
      "C:\\Users\\unieuro\\anaconda3\\lib\\site-packages\\sklearn\\svm\\_base.py:1206: ConvergenceWarning: Liblinear failed to converge, increase the number of iterations.\n",
      "  warnings.warn(\n",
      "C:\\Users\\unieuro\\anaconda3\\lib\\site-packages\\sklearn\\svm\\_base.py:1206: ConvergenceWarning: Liblinear failed to converge, increase the number of iterations.\n",
      "  warnings.warn(\n",
      "C:\\Users\\unieuro\\anaconda3\\lib\\site-packages\\sklearn\\svm\\_base.py:1206: ConvergenceWarning: Liblinear failed to converge, increase the number of iterations.\n",
      "  warnings.warn(\n"
     ]
    },
    {
     "name": "stdout",
     "output_type": "stream",
     "text": [
      "............\n",
      "Best model (M58) with 58 features: ['PageValues', 'ExitRates', 'TrafficType_2', 'Month_Dec', 'TrafficType_11', 'TrafficType_10', 'Month_Aug', 'Browser_3', 'Browser_1', 'TrafficType_20', 'Browser_7', 'Browser_13', 'Month_Feb', 'Browser_6', 'Browser_4', 'Month_Oct', 'OperatingSystems_1', 'OperatingSystems_6', 'Month_Sep', 'OperatingSystems_8', 'Region_1', 'Browser_8', 'VisitorType_Other', 'Region_3', 'Region_4', 'TrafficType_15', 'TrafficType_19', 'TrafficType_9', 'Browser_2', 'Region_5', 'Region_6', 'TrafficType_6', 'Weekend_False', 'Region_7', 'Month_June', 'Weekend_True', 'BounceRates', 'Browser_10', 'Browser_5', 'TrafficType_3', 'OperatingSystems_4', 'TrafficType_1', 'TrafficType_5', 'Month_Jul', 'TrafficType_7', 'VisitorType_Returning_Visitor', 'Region_9', 'VisitorType_New_Visitor', 'Administrative_Duration', 'Region_8', 'Region_2', 'TrafficType_4', 'TrafficType_13', 'Informational_Duration', 'TrafficType_8', 'SpecialDay', 'Administrative', 'Informational']\n",
      "M58 subset score (3.): 0.8811841038118411\n"
     ]
    },
    {
     "name": "stderr",
     "output_type": "stream",
     "text": [
      "C:\\Users\\unieuro\\anaconda3\\lib\\site-packages\\sklearn\\svm\\_base.py:1206: ConvergenceWarning: Liblinear failed to converge, increase the number of iterations.\n",
      "  warnings.warn(\n",
      "C:\\Users\\unieuro\\anaconda3\\lib\\site-packages\\sklearn\\svm\\_base.py:1206: ConvergenceWarning: Liblinear failed to converge, increase the number of iterations.\n",
      "  warnings.warn(\n",
      "C:\\Users\\unieuro\\anaconda3\\lib\\site-packages\\sklearn\\svm\\_base.py:1206: ConvergenceWarning: Liblinear failed to converge, increase the number of iterations.\n",
      "  warnings.warn(\n",
      "C:\\Users\\unieuro\\anaconda3\\lib\\site-packages\\sklearn\\svm\\_base.py:1206: ConvergenceWarning: Liblinear failed to converge, increase the number of iterations.\n",
      "  warnings.warn(\n",
      "C:\\Users\\unieuro\\anaconda3\\lib\\site-packages\\sklearn\\svm\\_base.py:1206: ConvergenceWarning: Liblinear failed to converge, increase the number of iterations.\n",
      "  warnings.warn(\n",
      "C:\\Users\\unieuro\\anaconda3\\lib\\site-packages\\sklearn\\svm\\_base.py:1206: ConvergenceWarning: Liblinear failed to converge, increase the number of iterations.\n",
      "  warnings.warn(\n",
      "C:\\Users\\unieuro\\anaconda3\\lib\\site-packages\\sklearn\\svm\\_base.py:1206: ConvergenceWarning: Liblinear failed to converge, increase the number of iterations.\n",
      "  warnings.warn(\n",
      "C:\\Users\\unieuro\\anaconda3\\lib\\site-packages\\sklearn\\svm\\_base.py:1206: ConvergenceWarning: Liblinear failed to converge, increase the number of iterations.\n",
      "  warnings.warn(\n",
      "C:\\Users\\unieuro\\anaconda3\\lib\\site-packages\\sklearn\\svm\\_base.py:1206: ConvergenceWarning: Liblinear failed to converge, increase the number of iterations.\n",
      "  warnings.warn(\n",
      "C:\\Users\\unieuro\\anaconda3\\lib\\site-packages\\sklearn\\svm\\_base.py:1206: ConvergenceWarning: Liblinear failed to converge, increase the number of iterations.\n",
      "  warnings.warn(\n",
      "C:\\Users\\unieuro\\anaconda3\\lib\\site-packages\\sklearn\\svm\\_base.py:1206: ConvergenceWarning: Liblinear failed to converge, increase the number of iterations.\n",
      "  warnings.warn(\n",
      "C:\\Users\\unieuro\\anaconda3\\lib\\site-packages\\sklearn\\svm\\_base.py:1206: ConvergenceWarning: Liblinear failed to converge, increase the number of iterations.\n",
      "  warnings.warn(\n"
     ]
    },
    {
     "name": "stdout",
     "output_type": "stream",
     "text": [
      "............\n",
      "Best model (M59) with 59 features: ['PageValues', 'ExitRates', 'TrafficType_2', 'Month_Dec', 'TrafficType_11', 'TrafficType_10', 'Month_Aug', 'Browser_3', 'Browser_1', 'TrafficType_20', 'Browser_7', 'Browser_13', 'Month_Feb', 'Browser_6', 'Browser_4', 'Month_Oct', 'OperatingSystems_1', 'OperatingSystems_6', 'Month_Sep', 'OperatingSystems_8', 'Region_1', 'Browser_8', 'VisitorType_Other', 'Region_3', 'Region_4', 'TrafficType_15', 'TrafficType_19', 'TrafficType_9', 'Browser_2', 'Region_5', 'Region_6', 'TrafficType_6', 'Weekend_False', 'Region_7', 'Month_June', 'Weekend_True', 'BounceRates', 'Browser_10', 'Browser_5', 'TrafficType_3', 'OperatingSystems_4', 'TrafficType_1', 'TrafficType_5', 'Month_Jul', 'TrafficType_7', 'VisitorType_Returning_Visitor', 'Region_9', 'VisitorType_New_Visitor', 'Administrative_Duration', 'Region_8', 'Region_2', 'TrafficType_4', 'TrafficType_13', 'Informational_Duration', 'TrafficType_8', 'SpecialDay', 'Administrative', 'Informational', 'Month_Mar']\n",
      "M59 subset score (3.): 0.880940794809408\n"
     ]
    },
    {
     "name": "stderr",
     "output_type": "stream",
     "text": [
      "C:\\Users\\unieuro\\anaconda3\\lib\\site-packages\\sklearn\\svm\\_base.py:1206: ConvergenceWarning: Liblinear failed to converge, increase the number of iterations.\n",
      "  warnings.warn(\n",
      "C:\\Users\\unieuro\\anaconda3\\lib\\site-packages\\sklearn\\svm\\_base.py:1206: ConvergenceWarning: Liblinear failed to converge, increase the number of iterations.\n",
      "  warnings.warn(\n",
      "C:\\Users\\unieuro\\anaconda3\\lib\\site-packages\\sklearn\\svm\\_base.py:1206: ConvergenceWarning: Liblinear failed to converge, increase the number of iterations.\n",
      "  warnings.warn(\n",
      "C:\\Users\\unieuro\\anaconda3\\lib\\site-packages\\sklearn\\svm\\_base.py:1206: ConvergenceWarning: Liblinear failed to converge, increase the number of iterations.\n",
      "  warnings.warn(\n",
      "C:\\Users\\unieuro\\anaconda3\\lib\\site-packages\\sklearn\\svm\\_base.py:1206: ConvergenceWarning: Liblinear failed to converge, increase the number of iterations.\n",
      "  warnings.warn(\n",
      "C:\\Users\\unieuro\\anaconda3\\lib\\site-packages\\sklearn\\svm\\_base.py:1206: ConvergenceWarning: Liblinear failed to converge, increase the number of iterations.\n",
      "  warnings.warn(\n",
      "C:\\Users\\unieuro\\anaconda3\\lib\\site-packages\\sklearn\\svm\\_base.py:1206: ConvergenceWarning: Liblinear failed to converge, increase the number of iterations.\n",
      "  warnings.warn(\n",
      "C:\\Users\\unieuro\\anaconda3\\lib\\site-packages\\sklearn\\svm\\_base.py:1206: ConvergenceWarning: Liblinear failed to converge, increase the number of iterations.\n",
      "  warnings.warn(\n",
      "C:\\Users\\unieuro\\anaconda3\\lib\\site-packages\\sklearn\\svm\\_base.py:1206: ConvergenceWarning: Liblinear failed to converge, increase the number of iterations.\n",
      "  warnings.warn(\n",
      "C:\\Users\\unieuro\\anaconda3\\lib\\site-packages\\sklearn\\svm\\_base.py:1206: ConvergenceWarning: Liblinear failed to converge, increase the number of iterations.\n",
      "  warnings.warn(\n",
      "C:\\Users\\unieuro\\anaconda3\\lib\\site-packages\\sklearn\\svm\\_base.py:1206: ConvergenceWarning: Liblinear failed to converge, increase the number of iterations.\n",
      "  warnings.warn(\n"
     ]
    },
    {
     "name": "stdout",
     "output_type": "stream",
     "text": [
      "............\n",
      "Best model (M60) with 60 features: ['PageValues', 'ExitRates', 'TrafficType_2', 'Month_Dec', 'TrafficType_11', 'TrafficType_10', 'Month_Aug', 'Browser_3', 'Browser_1', 'TrafficType_20', 'Browser_7', 'Browser_13', 'Month_Feb', 'Browser_6', 'Browser_4', 'Month_Oct', 'OperatingSystems_1', 'OperatingSystems_6', 'Month_Sep', 'OperatingSystems_8', 'Region_1', 'Browser_8', 'VisitorType_Other', 'Region_3', 'Region_4', 'TrafficType_15', 'TrafficType_19', 'TrafficType_9', 'Browser_2', 'Region_5', 'Region_6', 'TrafficType_6', 'Weekend_False', 'Region_7', 'Month_June', 'Weekend_True', 'BounceRates', 'Browser_10', 'Browser_5', 'TrafficType_3', 'OperatingSystems_4', 'TrafficType_1', 'TrafficType_5', 'Month_Jul', 'TrafficType_7', 'VisitorType_Returning_Visitor', 'Region_9', 'VisitorType_New_Visitor', 'Administrative_Duration', 'Region_8', 'Region_2', 'TrafficType_4', 'TrafficType_13', 'Informational_Duration', 'TrafficType_8', 'SpecialDay', 'Administrative', 'Informational', 'Month_Mar', 'ProductRelated']\n",
      "M60 subset score (3.): 0.8808596918085969\n"
     ]
    },
    {
     "name": "stderr",
     "output_type": "stream",
     "text": [
      "C:\\Users\\unieuro\\anaconda3\\lib\\site-packages\\sklearn\\svm\\_base.py:1206: ConvergenceWarning: Liblinear failed to converge, increase the number of iterations.\n",
      "  warnings.warn(\n",
      "C:\\Users\\unieuro\\anaconda3\\lib\\site-packages\\sklearn\\svm\\_base.py:1206: ConvergenceWarning: Liblinear failed to converge, increase the number of iterations.\n",
      "  warnings.warn(\n",
      "C:\\Users\\unieuro\\anaconda3\\lib\\site-packages\\sklearn\\svm\\_base.py:1206: ConvergenceWarning: Liblinear failed to converge, increase the number of iterations.\n",
      "  warnings.warn(\n",
      "C:\\Users\\unieuro\\anaconda3\\lib\\site-packages\\sklearn\\svm\\_base.py:1206: ConvergenceWarning: Liblinear failed to converge, increase the number of iterations.\n",
      "  warnings.warn(\n",
      "C:\\Users\\unieuro\\anaconda3\\lib\\site-packages\\sklearn\\svm\\_base.py:1206: ConvergenceWarning: Liblinear failed to converge, increase the number of iterations.\n",
      "  warnings.warn(\n",
      "C:\\Users\\unieuro\\anaconda3\\lib\\site-packages\\sklearn\\svm\\_base.py:1206: ConvergenceWarning: Liblinear failed to converge, increase the number of iterations.\n",
      "  warnings.warn(\n",
      "C:\\Users\\unieuro\\anaconda3\\lib\\site-packages\\sklearn\\svm\\_base.py:1206: ConvergenceWarning: Liblinear failed to converge, increase the number of iterations.\n",
      "  warnings.warn(\n",
      "C:\\Users\\unieuro\\anaconda3\\lib\\site-packages\\sklearn\\svm\\_base.py:1206: ConvergenceWarning: Liblinear failed to converge, increase the number of iterations.\n",
      "  warnings.warn(\n",
      "C:\\Users\\unieuro\\anaconda3\\lib\\site-packages\\sklearn\\svm\\_base.py:1206: ConvergenceWarning: Liblinear failed to converge, increase the number of iterations.\n",
      "  warnings.warn(\n",
      "C:\\Users\\unieuro\\anaconda3\\lib\\site-packages\\sklearn\\svm\\_base.py:1206: ConvergenceWarning: Liblinear failed to converge, increase the number of iterations.\n",
      "  warnings.warn(\n"
     ]
    },
    {
     "name": "stdout",
     "output_type": "stream",
     "text": [
      "............\n",
      "Best model (M61) with 61 features: ['PageValues', 'ExitRates', 'TrafficType_2', 'Month_Dec', 'TrafficType_11', 'TrafficType_10', 'Month_Aug', 'Browser_3', 'Browser_1', 'TrafficType_20', 'Browser_7', 'Browser_13', 'Month_Feb', 'Browser_6', 'Browser_4', 'Month_Oct', 'OperatingSystems_1', 'OperatingSystems_6', 'Month_Sep', 'OperatingSystems_8', 'Region_1', 'Browser_8', 'VisitorType_Other', 'Region_3', 'Region_4', 'TrafficType_15', 'TrafficType_19', 'TrafficType_9', 'Browser_2', 'Region_5', 'Region_6', 'TrafficType_6', 'Weekend_False', 'Region_7', 'Month_June', 'Weekend_True', 'BounceRates', 'Browser_10', 'Browser_5', 'TrafficType_3', 'OperatingSystems_4', 'TrafficType_1', 'TrafficType_5', 'Month_Jul', 'TrafficType_7', 'VisitorType_Returning_Visitor', 'Region_9', 'VisitorType_New_Visitor', 'Administrative_Duration', 'Region_8', 'Region_2', 'TrafficType_4', 'TrafficType_13', 'Informational_Duration', 'TrafficType_8', 'SpecialDay', 'Administrative', 'Informational', 'Month_Mar', 'ProductRelated', 'OperatingSystems_2']\n",
      "M61 subset score (3.): 0.8811841038118411\n"
     ]
    },
    {
     "name": "stderr",
     "output_type": "stream",
     "text": [
      "C:\\Users\\unieuro\\anaconda3\\lib\\site-packages\\sklearn\\svm\\_base.py:1206: ConvergenceWarning: Liblinear failed to converge, increase the number of iterations.\n",
      "  warnings.warn(\n",
      "C:\\Users\\unieuro\\anaconda3\\lib\\site-packages\\sklearn\\svm\\_base.py:1206: ConvergenceWarning: Liblinear failed to converge, increase the number of iterations.\n",
      "  warnings.warn(\n",
      "C:\\Users\\unieuro\\anaconda3\\lib\\site-packages\\sklearn\\svm\\_base.py:1206: ConvergenceWarning: Liblinear failed to converge, increase the number of iterations.\n",
      "  warnings.warn(\n",
      "C:\\Users\\unieuro\\anaconda3\\lib\\site-packages\\sklearn\\svm\\_base.py:1206: ConvergenceWarning: Liblinear failed to converge, increase the number of iterations.\n",
      "  warnings.warn(\n",
      "C:\\Users\\unieuro\\anaconda3\\lib\\site-packages\\sklearn\\svm\\_base.py:1206: ConvergenceWarning: Liblinear failed to converge, increase the number of iterations.\n",
      "  warnings.warn(\n",
      "C:\\Users\\unieuro\\anaconda3\\lib\\site-packages\\sklearn\\svm\\_base.py:1206: ConvergenceWarning: Liblinear failed to converge, increase the number of iterations.\n",
      "  warnings.warn(\n",
      "C:\\Users\\unieuro\\anaconda3\\lib\\site-packages\\sklearn\\svm\\_base.py:1206: ConvergenceWarning: Liblinear failed to converge, increase the number of iterations.\n",
      "  warnings.warn(\n",
      "C:\\Users\\unieuro\\anaconda3\\lib\\site-packages\\sklearn\\svm\\_base.py:1206: ConvergenceWarning: Liblinear failed to converge, increase the number of iterations.\n",
      "  warnings.warn(\n",
      "C:\\Users\\unieuro\\anaconda3\\lib\\site-packages\\sklearn\\svm\\_base.py:1206: ConvergenceWarning: Liblinear failed to converge, increase the number of iterations.\n",
      "  warnings.warn(\n"
     ]
    },
    {
     "name": "stdout",
     "output_type": "stream",
     "text": [
      "............\n",
      "Best model (M62) with 62 features: ['PageValues', 'ExitRates', 'TrafficType_2', 'Month_Dec', 'TrafficType_11', 'TrafficType_10', 'Month_Aug', 'Browser_3', 'Browser_1', 'TrafficType_20', 'Browser_7', 'Browser_13', 'Month_Feb', 'Browser_6', 'Browser_4', 'Month_Oct', 'OperatingSystems_1', 'OperatingSystems_6', 'Month_Sep', 'OperatingSystems_8', 'Region_1', 'Browser_8', 'VisitorType_Other', 'Region_3', 'Region_4', 'TrafficType_15', 'TrafficType_19', 'TrafficType_9', 'Browser_2', 'Region_5', 'Region_6', 'TrafficType_6', 'Weekend_False', 'Region_7', 'Month_June', 'Weekend_True', 'BounceRates', 'Browser_10', 'Browser_5', 'TrafficType_3', 'OperatingSystems_4', 'TrafficType_1', 'TrafficType_5', 'Month_Jul', 'TrafficType_7', 'VisitorType_Returning_Visitor', 'Region_9', 'VisitorType_New_Visitor', 'Administrative_Duration', 'Region_8', 'Region_2', 'TrafficType_4', 'TrafficType_13', 'Informational_Duration', 'TrafficType_8', 'SpecialDay', 'Administrative', 'Informational', 'Month_Mar', 'ProductRelated', 'OperatingSystems_2', 'OperatingSystems_3']\n",
      "M62 subset score (3.): 0.8811841038118411\n"
     ]
    },
    {
     "name": "stderr",
     "output_type": "stream",
     "text": [
      "C:\\Users\\unieuro\\anaconda3\\lib\\site-packages\\sklearn\\svm\\_base.py:1206: ConvergenceWarning: Liblinear failed to converge, increase the number of iterations.\n",
      "  warnings.warn(\n",
      "C:\\Users\\unieuro\\anaconda3\\lib\\site-packages\\sklearn\\svm\\_base.py:1206: ConvergenceWarning: Liblinear failed to converge, increase the number of iterations.\n",
      "  warnings.warn(\n",
      "C:\\Users\\unieuro\\anaconda3\\lib\\site-packages\\sklearn\\svm\\_base.py:1206: ConvergenceWarning: Liblinear failed to converge, increase the number of iterations.\n",
      "  warnings.warn(\n",
      "C:\\Users\\unieuro\\anaconda3\\lib\\site-packages\\sklearn\\svm\\_base.py:1206: ConvergenceWarning: Liblinear failed to converge, increase the number of iterations.\n",
      "  warnings.warn(\n",
      "C:\\Users\\unieuro\\anaconda3\\lib\\site-packages\\sklearn\\svm\\_base.py:1206: ConvergenceWarning: Liblinear failed to converge, increase the number of iterations.\n",
      "  warnings.warn(\n",
      "C:\\Users\\unieuro\\anaconda3\\lib\\site-packages\\sklearn\\svm\\_base.py:1206: ConvergenceWarning: Liblinear failed to converge, increase the number of iterations.\n",
      "  warnings.warn(\n",
      "C:\\Users\\unieuro\\anaconda3\\lib\\site-packages\\sklearn\\svm\\_base.py:1206: ConvergenceWarning: Liblinear failed to converge, increase the number of iterations.\n",
      "  warnings.warn(\n",
      "C:\\Users\\unieuro\\anaconda3\\lib\\site-packages\\sklearn\\svm\\_base.py:1206: ConvergenceWarning: Liblinear failed to converge, increase the number of iterations.\n",
      "  warnings.warn(\n"
     ]
    },
    {
     "name": "stdout",
     "output_type": "stream",
     "text": [
      "............\n",
      "Best model (M63) with 63 features: ['PageValues', 'ExitRates', 'TrafficType_2', 'Month_Dec', 'TrafficType_11', 'TrafficType_10', 'Month_Aug', 'Browser_3', 'Browser_1', 'TrafficType_20', 'Browser_7', 'Browser_13', 'Month_Feb', 'Browser_6', 'Browser_4', 'Month_Oct', 'OperatingSystems_1', 'OperatingSystems_6', 'Month_Sep', 'OperatingSystems_8', 'Region_1', 'Browser_8', 'VisitorType_Other', 'Region_3', 'Region_4', 'TrafficType_15', 'TrafficType_19', 'TrafficType_9', 'Browser_2', 'Region_5', 'Region_6', 'TrafficType_6', 'Weekend_False', 'Region_7', 'Month_June', 'Weekend_True', 'BounceRates', 'Browser_10', 'Browser_5', 'TrafficType_3', 'OperatingSystems_4', 'TrafficType_1', 'TrafficType_5', 'Month_Jul', 'TrafficType_7', 'VisitorType_Returning_Visitor', 'Region_9', 'VisitorType_New_Visitor', 'Administrative_Duration', 'Region_8', 'Region_2', 'TrafficType_4', 'TrafficType_13', 'Informational_Duration', 'TrafficType_8', 'SpecialDay', 'Administrative', 'Informational', 'Month_Mar', 'ProductRelated', 'OperatingSystems_2', 'OperatingSystems_3', 'ProductRelated_Duration']\n",
      "M63 subset score (3.): 0.8806163828061638\n"
     ]
    },
    {
     "name": "stderr",
     "output_type": "stream",
     "text": [
      "C:\\Users\\unieuro\\anaconda3\\lib\\site-packages\\sklearn\\svm\\_base.py:1206: ConvergenceWarning: Liblinear failed to converge, increase the number of iterations.\n",
      "  warnings.warn(\n",
      "C:\\Users\\unieuro\\anaconda3\\lib\\site-packages\\sklearn\\svm\\_base.py:1206: ConvergenceWarning: Liblinear failed to converge, increase the number of iterations.\n",
      "  warnings.warn(\n",
      "C:\\Users\\unieuro\\anaconda3\\lib\\site-packages\\sklearn\\svm\\_base.py:1206: ConvergenceWarning: Liblinear failed to converge, increase the number of iterations.\n",
      "  warnings.warn(\n",
      "C:\\Users\\unieuro\\anaconda3\\lib\\site-packages\\sklearn\\svm\\_base.py:1206: ConvergenceWarning: Liblinear failed to converge, increase the number of iterations.\n",
      "  warnings.warn(\n",
      "C:\\Users\\unieuro\\anaconda3\\lib\\site-packages\\sklearn\\svm\\_base.py:1206: ConvergenceWarning: Liblinear failed to converge, increase the number of iterations.\n",
      "  warnings.warn(\n",
      "C:\\Users\\unieuro\\anaconda3\\lib\\site-packages\\sklearn\\svm\\_base.py:1206: ConvergenceWarning: Liblinear failed to converge, increase the number of iterations.\n",
      "  warnings.warn(\n",
      "C:\\Users\\unieuro\\anaconda3\\lib\\site-packages\\sklearn\\svm\\_base.py:1206: ConvergenceWarning: Liblinear failed to converge, increase the number of iterations.\n",
      "  warnings.warn(\n"
     ]
    },
    {
     "name": "stdout",
     "output_type": "stream",
     "text": [
      "............\n",
      "Best model (M64) with 64 features: ['PageValues', 'ExitRates', 'TrafficType_2', 'Month_Dec', 'TrafficType_11', 'TrafficType_10', 'Month_Aug', 'Browser_3', 'Browser_1', 'TrafficType_20', 'Browser_7', 'Browser_13', 'Month_Feb', 'Browser_6', 'Browser_4', 'Month_Oct', 'OperatingSystems_1', 'OperatingSystems_6', 'Month_Sep', 'OperatingSystems_8', 'Region_1', 'Browser_8', 'VisitorType_Other', 'Region_3', 'Region_4', 'TrafficType_15', 'TrafficType_19', 'TrafficType_9', 'Browser_2', 'Region_5', 'Region_6', 'TrafficType_6', 'Weekend_False', 'Region_7', 'Month_June', 'Weekend_True', 'BounceRates', 'Browser_10', 'Browser_5', 'TrafficType_3', 'OperatingSystems_4', 'TrafficType_1', 'TrafficType_5', 'Month_Jul', 'TrafficType_7', 'VisitorType_Returning_Visitor', 'Region_9', 'VisitorType_New_Visitor', 'Administrative_Duration', 'Region_8', 'Region_2', 'TrafficType_4', 'TrafficType_13', 'Informational_Duration', 'TrafficType_8', 'SpecialDay', 'Administrative', 'Informational', 'Month_Mar', 'ProductRelated', 'OperatingSystems_2', 'OperatingSystems_3', 'ProductRelated_Duration', 'Month_Nov']\n",
      "M64 subset score (3.): 0.8802108678021087\n"
     ]
    },
    {
     "name": "stderr",
     "output_type": "stream",
     "text": [
      "C:\\Users\\unieuro\\anaconda3\\lib\\site-packages\\sklearn\\svm\\_base.py:1206: ConvergenceWarning: Liblinear failed to converge, increase the number of iterations.\n",
      "  warnings.warn(\n",
      "C:\\Users\\unieuro\\anaconda3\\lib\\site-packages\\sklearn\\svm\\_base.py:1206: ConvergenceWarning: Liblinear failed to converge, increase the number of iterations.\n",
      "  warnings.warn(\n",
      "C:\\Users\\unieuro\\anaconda3\\lib\\site-packages\\sklearn\\svm\\_base.py:1206: ConvergenceWarning: Liblinear failed to converge, increase the number of iterations.\n",
      "  warnings.warn(\n",
      "C:\\Users\\unieuro\\anaconda3\\lib\\site-packages\\sklearn\\svm\\_base.py:1206: ConvergenceWarning: Liblinear failed to converge, increase the number of iterations.\n",
      "  warnings.warn(\n",
      "C:\\Users\\unieuro\\anaconda3\\lib\\site-packages\\sklearn\\svm\\_base.py:1206: ConvergenceWarning: Liblinear failed to converge, increase the number of iterations.\n",
      "  warnings.warn(\n"
     ]
    },
    {
     "name": "stdout",
     "output_type": "stream",
     "text": [
      "............\n",
      "Best model (M65) with 65 features: ['PageValues', 'ExitRates', 'TrafficType_2', 'Month_Dec', 'TrafficType_11', 'TrafficType_10', 'Month_Aug', 'Browser_3', 'Browser_1', 'TrafficType_20', 'Browser_7', 'Browser_13', 'Month_Feb', 'Browser_6', 'Browser_4', 'Month_Oct', 'OperatingSystems_1', 'OperatingSystems_6', 'Month_Sep', 'OperatingSystems_8', 'Region_1', 'Browser_8', 'VisitorType_Other', 'Region_3', 'Region_4', 'TrafficType_15', 'TrafficType_19', 'TrafficType_9', 'Browser_2', 'Region_5', 'Region_6', 'TrafficType_6', 'Weekend_False', 'Region_7', 'Month_June', 'Weekend_True', 'BounceRates', 'Browser_10', 'Browser_5', 'TrafficType_3', 'OperatingSystems_4', 'TrafficType_1', 'TrafficType_5', 'Month_Jul', 'TrafficType_7', 'VisitorType_Returning_Visitor', 'Region_9', 'VisitorType_New_Visitor', 'Administrative_Duration', 'Region_8', 'Region_2', 'TrafficType_4', 'TrafficType_13', 'Informational_Duration', 'TrafficType_8', 'SpecialDay', 'Administrative', 'Informational', 'Month_Mar', 'ProductRelated', 'OperatingSystems_2', 'OperatingSystems_3', 'ProductRelated_Duration', 'Month_Nov', 'Month_May']\n",
      "M65 subset score (3.): 0.8802919708029198\n",
      "\n",
      " Best configuration has 9 features\n",
      "Features: ['PageValues', 'ExitRates', 'TrafficType_2', 'Month_Dec', 'TrafficType_11', 'TrafficType_10', 'Month_Aug', 'Browser_3', 'Browser_1']\n",
      "Total number of trained models: 2470\n"
     ]
    },
    {
     "name": "stderr",
     "output_type": "stream",
     "text": [
      "C:\\Users\\unieuro\\anaconda3\\lib\\site-packages\\sklearn\\svm\\_base.py:1206: ConvergenceWarning: Liblinear failed to converge, increase the number of iterations.\n",
      "  warnings.warn(\n"
     ]
    },
    {
     "data": {
      "text/plain": [
       "['PageValues',\n",
       " 'ExitRates',\n",
       " 'TrafficType_2',\n",
       " 'Month_Dec',\n",
       " 'TrafficType_11',\n",
       " 'TrafficType_10',\n",
       " 'Month_Aug',\n",
       " 'Browser_3',\n",
       " 'Browser_1']"
      ]
     },
     "execution_count": 29,
     "metadata": {},
     "output_type": "execute_result"
    }
   ],
   "source": [
    "import warnings\n",
    "#warnings.filterwarnings(\"ignore\")\n",
    "warnings.filterwarnings(\"default\")\n",
    "\n",
    "cv = KFold(n_splits=5, random_state=42, shuffle=True)\n",
    "features_SVM = forward_selection(X_train_scaled, y_train, \"SVM\",\n",
    "                  get_evaluator(make_scorer(accuracy)), np.argmax, # 2.\n",
    "                  get_cv_evaluator(make_scorer(accuracy), cv), np.argmax, # 3.\n",
    "                  candidates_scorer_name=\"Accuracy\",\n",
    "                  subsets_scorer_name=\"Accuracy (CV)\",\n",
    "                  verbose=True, weight_step3=cv.n_splits)\n",
    "features_SVM"
   ]
  },
  {
   "cell_type": "code",
   "execution_count": 30,
   "id": "349158e7",
   "metadata": {},
   "outputs": [
    {
     "name": "stderr",
     "output_type": "stream",
     "text": [
      "C:\\Users\\unieuro\\anaconda3\\lib\\site-packages\\sklearn\\svm\\_base.py:1206: ConvergenceWarning: Liblinear failed to converge, increase the number of iterations.\n",
      "  warnings.warn(\n"
     ]
    }
   ],
   "source": [
    "model_SVM = LinearSVC()\n",
    "model_SVM = model_SVM.fit(X_train_scaled[features_SVM],y_train)"
   ]
  },
  {
   "cell_type": "code",
   "execution_count": 31,
   "id": "62db157d",
   "metadata": {},
   "outputs": [
    {
     "data": {
      "text/html": [
       "<div>\n",
       "<style scoped>\n",
       "    .dataframe tbody tr th:only-of-type {\n",
       "        vertical-align: middle;\n",
       "    }\n",
       "\n",
       "    .dataframe tbody tr th {\n",
       "        vertical-align: top;\n",
       "    }\n",
       "\n",
       "    .dataframe thead th {\n",
       "        text-align: right;\n",
       "    }\n",
       "</style>\n",
       "<table border=\"1\" class=\"dataframe\">\n",
       "  <thead>\n",
       "    <tr style=\"text-align: right;\">\n",
       "      <th></th>\n",
       "      <th>Model</th>\n",
       "      <th>Accuracy</th>\n",
       "      <th>Sensitivity</th>\n",
       "      <th>Specificity</th>\n",
       "    </tr>\n",
       "  </thead>\n",
       "  <tbody>\n",
       "    <tr>\n",
       "      <th>0</th>\n",
       "      <td>SVM</td>\n",
       "      <td>0.882725</td>\n",
       "      <td>0.335762</td>\n",
       "      <td>0.781815</td>\n",
       "    </tr>\n",
       "  </tbody>\n",
       "</table>\n",
       "</div>"
      ],
      "text/plain": [
       "  Model  Accuracy  Sensitivity  Specificity\n",
       "0   SVM  0.882725     0.335762     0.781815"
      ]
     },
     "execution_count": 31,
     "metadata": {},
     "output_type": "execute_result"
    }
   ],
   "source": [
    "train_scores_SVM = classification_metrics_training(model_SVM, \"SVM\", X_train_scaled[features_SVM], y_train, cv)\n",
    "train_scores_SVM"
   ]
  },
  {
   "cell_type": "code",
   "execution_count": 32,
   "id": "bd05b05f",
   "metadata": {},
   "outputs": [],
   "source": [
    "#train_scores_SVM_empirical = classification_metrics_empirical_threshold(model_SVM, 'SVM', X_train_scaled[features_SVM], y_train, empirical_threshold)\n",
    "#train_scores_SVM_empirical"
   ]
  },
  {
   "cell_type": "markdown",
   "id": "4fff5c13",
   "metadata": {},
   "source": [
    "## Algorithm comparison"
   ]
  },
  {
   "cell_type": "markdown",
   "id": "8418f866",
   "metadata": {},
   "source": [
    "### Metric comparison"
   ]
  },
  {
   "cell_type": "markdown",
   "id": "d769180a",
   "metadata": {},
   "source": [
    "#### Threshold = 0.5"
   ]
  },
  {
   "cell_type": "code",
   "execution_count": 33,
   "id": "9660726d",
   "metadata": {},
   "outputs": [
    {
     "data": {
      "text/html": [
       "<div>\n",
       "<style scoped>\n",
       "    .dataframe tbody tr th:only-of-type {\n",
       "        vertical-align: middle;\n",
       "    }\n",
       "\n",
       "    .dataframe tbody tr th {\n",
       "        vertical-align: top;\n",
       "    }\n",
       "\n",
       "    .dataframe thead th {\n",
       "        text-align: right;\n",
       "    }\n",
       "</style>\n",
       "<table border=\"1\" class=\"dataframe\">\n",
       "  <thead>\n",
       "    <tr style=\"text-align: right;\">\n",
       "      <th></th>\n",
       "      <th>Model</th>\n",
       "      <th>Accuracy</th>\n",
       "      <th>Sensitivity</th>\n",
       "      <th>Specificity</th>\n",
       "    </tr>\n",
       "  </thead>\n",
       "  <tbody>\n",
       "    <tr>\n",
       "      <th>0</th>\n",
       "      <td>LogisticRegression</td>\n",
       "      <td>0.885807</td>\n",
       "      <td>0.375886</td>\n",
       "      <td>0.768263</td>\n",
       "    </tr>\n",
       "    <tr>\n",
       "      <th>0</th>\n",
       "      <td>LDA</td>\n",
       "      <td>0.881752</td>\n",
       "      <td>0.327340</td>\n",
       "      <td>0.781677</td>\n",
       "    </tr>\n",
       "    <tr>\n",
       "      <th>0</th>\n",
       "      <td>QDA</td>\n",
       "      <td>0.891646</td>\n",
       "      <td>0.465982</td>\n",
       "      <td>0.737137</td>\n",
       "    </tr>\n",
       "    <tr>\n",
       "      <th>0</th>\n",
       "      <td>KNN</td>\n",
       "      <td>0.866910</td>\n",
       "      <td>0.233585</td>\n",
       "      <td>0.714339</td>\n",
       "    </tr>\n",
       "    <tr>\n",
       "      <th>0</th>\n",
       "      <td>KNN</td>\n",
       "      <td>0.866991</td>\n",
       "      <td>0.233585</td>\n",
       "      <td>0.715303</td>\n",
       "    </tr>\n",
       "    <tr>\n",
       "      <th>0</th>\n",
       "      <td>SVM</td>\n",
       "      <td>0.882725</td>\n",
       "      <td>0.335762</td>\n",
       "      <td>0.781815</td>\n",
       "    </tr>\n",
       "  </tbody>\n",
       "</table>\n",
       "</div>"
      ],
      "text/plain": [
       "                Model  Accuracy  Sensitivity  Specificity\n",
       "0  LogisticRegression  0.885807     0.375886     0.768263\n",
       "0                 LDA  0.881752     0.327340     0.781677\n",
       "0                 QDA  0.891646     0.465982     0.737137\n",
       "0                 KNN  0.866910     0.233585     0.714339\n",
       "0                 KNN  0.866991     0.233585     0.715303\n",
       "0                 SVM  0.882725     0.335762     0.781815"
      ]
     },
     "execution_count": 33,
     "metadata": {},
     "output_type": "execute_result"
    }
   ],
   "source": [
    "metrics_df = pd.concat([train_scores_logistic,train_scores_LDA,train_scores_QDA,train_scores_KNN_all,train_scores_KNN_numeric,train_scores_SVM],axis=0)\n",
    "metrics_df"
   ]
  },
  {
   "cell_type": "markdown",
   "id": "611b6d11",
   "metadata": {},
   "source": [
    "#### Empirical threshold"
   ]
  },
  {
   "cell_type": "code",
   "execution_count": 34,
   "id": "e60add0f",
   "metadata": {},
   "outputs": [
    {
     "data": {
      "text/html": [
       "<div>\n",
       "<style scoped>\n",
       "    .dataframe tbody tr th:only-of-type {\n",
       "        vertical-align: middle;\n",
       "    }\n",
       "\n",
       "    .dataframe tbody tr th {\n",
       "        vertical-align: top;\n",
       "    }\n",
       "\n",
       "    .dataframe thead th {\n",
       "        text-align: right;\n",
       "    }\n",
       "</style>\n",
       "<table border=\"1\" class=\"dataframe\">\n",
       "  <thead>\n",
       "    <tr style=\"text-align: right;\">\n",
       "      <th></th>\n",
       "      <th>Model</th>\n",
       "      <th>Accuracy</th>\n",
       "      <th>Sensitivity</th>\n",
       "      <th>Specificity</th>\n",
       "    </tr>\n",
       "  </thead>\n",
       "  <tbody>\n",
       "    <tr>\n",
       "      <th>0</th>\n",
       "      <td>LogisticRegression</td>\n",
       "      <td>0.832279</td>\n",
       "      <td>0.748428</td>\n",
       "      <td>0.473475</td>\n",
       "    </tr>\n",
       "    <tr>\n",
       "      <th>0</th>\n",
       "      <td>LDA</td>\n",
       "      <td>0.889862</td>\n",
       "      <td>0.568658</td>\n",
       "      <td>0.669753</td>\n",
       "    </tr>\n",
       "    <tr>\n",
       "      <th>0</th>\n",
       "      <td>QDA</td>\n",
       "      <td>0.804866</td>\n",
       "      <td>0.675577</td>\n",
       "      <td>0.419051</td>\n",
       "    </tr>\n",
       "    <tr>\n",
       "      <th>0</th>\n",
       "      <td>KNN</td>\n",
       "      <td>0.735604</td>\n",
       "      <td>1.000000</td>\n",
       "      <td>0.369195</td>\n",
       "    </tr>\n",
       "    <tr>\n",
       "      <th>0</th>\n",
       "      <td>KNN</td>\n",
       "      <td>0.736010</td>\n",
       "      <td>0.998952</td>\n",
       "      <td>0.369451</td>\n",
       "    </tr>\n",
       "  </tbody>\n",
       "</table>\n",
       "</div>"
      ],
      "text/plain": [
       "                Model  Accuracy  Sensitivity  Specificity\n",
       "0  LogisticRegression  0.832279     0.748428     0.473475\n",
       "0                 LDA  0.889862     0.568658     0.669753\n",
       "0                 QDA  0.804866     0.675577     0.419051\n",
       "0                 KNN  0.735604     1.000000     0.369195\n",
       "0                 KNN  0.736010     0.998952     0.369451"
      ]
     },
     "execution_count": 34,
     "metadata": {},
     "output_type": "execute_result"
    }
   ],
   "source": [
    "metrics_df_empirical = pd.concat([train_scores_logistic_empirical,train_scores_LDA_empirical,train_scores_QDA_empirical,train_scores_KNN_all_empirical,train_scores_KNN_numeric_empirical],axis=0)\n",
    "metrics_df_empirical"
   ]
  },
  {
   "cell_type": "code",
   "execution_count": 42,
   "id": "45ae2a35",
   "metadata": {},
   "outputs": [
    {
     "data": {
      "text/plain": [
       "LogisticRegression(max_iter=1000, penalty='none', solver='newton-cg')"
      ]
     },
     "execution_count": 42,
     "metadata": {},
     "output_type": "execute_result"
    },
    {
     "data": {
      "text/plain": [
       "LinearDiscriminantAnalysis(store_covariance=True)"
      ]
     },
     "execution_count": 42,
     "metadata": {},
     "output_type": "execute_result"
    },
    {
     "data": {
      "text/plain": [
       "QuadraticDiscriminantAnalysis(store_covariance=True)"
      ]
     },
     "execution_count": 42,
     "metadata": {},
     "output_type": "execute_result"
    },
    {
     "data": {
      "text/plain": [
       "CalibratedClassifierCV(base_estimator=LinearSVC(), cv='prefit')"
      ]
     },
     "execution_count": 42,
     "metadata": {},
     "output_type": "execute_result"
    },
    {
     "data": {
      "text/plain": [
       "KNeighborsClassifier(n_neighbors=6)"
      ]
     },
     "execution_count": 42,
     "metadata": {},
     "output_type": "execute_result"
    },
    {
     "data": {
      "text/plain": [
       "KNeighborsClassifier(n_neighbors=6)"
      ]
     },
     "execution_count": 42,
     "metadata": {},
     "output_type": "execute_result"
    },
    {
     "data": {
      "text/plain": [
       "KNeighborsClassifier(n_neighbors=6)"
      ]
     },
     "execution_count": 42,
     "metadata": {},
     "output_type": "execute_result"
    },
    {
     "data": {
      "text/plain": [
       "[0.8788140220634707,\n",
       " 0.8795001361818472,\n",
       " 0.8440581818335428,\n",
       " 0.8839273285788368,\n",
       " 0.9236997449758554,\n",
       " 0.9232056331812201,\n",
       " 0.9119768917308049]"
      ]
     },
     "execution_count": 42,
     "metadata": {},
     "output_type": "execute_result"
    },
    {
     "data": {
      "image/png": "[encoded data removed]",
      "text/plain": [
       "<Figure size 640x480 with 1 Axes>"
      ]
     },
     "metadata": {},
     "output_type": "display_data"
    }
   ],
   "source": [
    "from sklearn.metrics import roc_curve\n",
    "from sklearn.calibration import CalibratedClassifierCV\n",
    "\n",
    "calibrated_svc = CalibratedClassifierCV(model_SVM, method='sigmoid', cv='prefit')\n",
    "\n",
    "def plot_roc(predict_fn, X, y, label=None):\n",
    "    fprs, tprs, t = roc_curve(y, predict_fn(X)[:,-1])\n",
    "    \n",
    "    # Plot the ROC\n",
    "    plt.plot(fprs, tprs, label=\"ROC \"+label)\n",
    "    plt.xlabel(\"FPR = 1 - specificity\")\n",
    "    plt.ylabel(\"TPR = sensitivity\")\n",
    "    plt.legend()\n",
    "\n",
    "auc_list = []\n",
    "\n",
    "for name, model, X in [('lr', model_logistic, X_train_scaled[features_logistic]), \n",
    "                    ('lda', model_LDA, X_train_scaled[features_LDA]), \n",
    "                    ('qda', model_QDA, X_train_scaled[features_QDA]),\n",
    "                    ('SVM', calibrated_svc,X_train_scaled[features_SVM]),\n",
    "                    ('KNN-all', model_KNN_all, X_train),\n",
    "                    ('KNN-numeric', model_KNN_numeric, X_train[numeric_features]),\n",
    "                    ('KNN-pagevalues', KNeighborsClassifier(n_neighbors=cv_KNN_numeric.best_params_['n_neighbors']), X_train[['PageValues','ProductRelated','Administrative']])\n",
    "                   ]:\n",
    "    model.fit(X, y_train) # sistemare questa parte, fitta i modelli prima in modo che sia tutto ok\n",
    "    plot_roc(model.predict_proba, X, y_train, name)\n",
    "    y_prob_pred = model.predict_proba(X)[:, 1]\n",
    "    auc = roc_auc_score(y_train, y_prob_pred)\n",
    "    auc_list.append(auc)\n",
    "auc_list"
   ]
  },
  {
   "cell_type": "code",
   "execution_count": null,
   "id": "055f4667",
   "metadata": {},
   "outputs": [],
   "source": []
  }
 ],
 "metadata": {
  "kernelspec": {
   "display_name": "Python 3 (ipykernel)",
   "language": "python",
   "name": "python3"
  },
  "language_info": {
   "codemirror_mode": {
    "name": "ipython",
    "version": 3
   },
   "file_extension": ".py",
   "mimetype": "text/x-python",
   "name": "python",
   "nbconvert_exporter": "python",
   "pygments_lexer": "ipython3",
   "version": "3.9.13"
  }
 },
 "nbformat": 4,
 "nbformat_minor": 5
}
