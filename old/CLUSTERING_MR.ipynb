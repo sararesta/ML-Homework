{
 "cells": [
  {
   "cell_type": "markdown",
   "id": "9475290a",
   "metadata": {},
   "source": [
    "# 3. Clustering"
   ]
  },
  {
   "cell_type": "code",
   "execution_count": 1,
   "id": "ae8c5103",
   "metadata": {},
   "outputs": [],
   "source": [
    "# INSERISCI IN IMPORT\n",
    "\n",
    "# Run this code to make Jupyter print every\n",
    "# printable statement and not just the last one\n",
    "from IPython.core.interactiveshell import InteractiveShell\n",
    "InteractiveShell.ast_node_interactivity = \"all\"\n",
    "\n",
    "# To visualize the data\n",
    "import matplotlib.pyplot as plt\n",
    "\n",
    "# Generic libraries\n",
    "import seaborn as sns\n",
    "import pandas as pd\n",
    "import numpy as np\n",
    "\n",
    "# Regression models\n",
    "import sklearn\n",
    "import scipy\n",
    "from scipy.stats import *\n",
    "import sklearn\n",
    "from sklearn.model_selection import train_test_split, GridSearchCV #split the data into training and test\n",
    "from sklearn.linear_model import LinearRegression #linear regression\n",
    "from sklearn.preprocessing import PolynomialFeatures #for polynomial regression\n",
    "from sklearn.metrics import r2_score, mean_squared_error\n",
    "\n",
    "# 5-folds crossvalidation\n",
    "from sklearn.model_selection import cross_val_score\n",
    "from sklearn.metrics import make_scorer, classification_report\n",
    "from sklearn.pipeline import Pipeline\n",
    "\n",
    "#classification\n",
    "from sklearn.linear_model import LogisticRegression\n",
    "from sklearn.discriminant_analysis import LinearDiscriminantAnalysis as LDA\n",
    "from sklearn.discriminant_analysis import QuadraticDiscriminantAnalysis as QDA\n",
    "from sklearn.neighbors import KNeighborsClassifier "
   ]
  },
  {
   "cell_type": "code",
   "execution_count": 2,
   "id": "2a967eeb",
   "metadata": {},
   "outputs": [],
   "source": [
    "# INSERISCI IN IMPORT\n",
    "\n",
    "# Libraries specific for clustering\n",
    "import matplotlib.colors as mcolors\n",
    "import random\n",
    "from sklearn.datasets import load_digits\n",
    "from sklearn.decomposition import PCA\n",
    "from scipy.cluster.hierarchy import dendrogram, linkage\n",
    "from scipy.cluster.hierarchy import dendrogram, linkage\n",
    "from scipy.cluster.hierarchy import dendrogram\n",
    "from sklearn.cluster import AgglomerativeClustering\n",
    "from sklearn.cluster import AgglomerativeClustering\n",
    "from sklearn.metrics import pairwise_distances\n",
    "from sklearn.preprocessing import normalize\n",
    "from sklearn.metrics import silhouette_score\n",
    "from sklearn.cluster import KMeans\n",
    "from sklearn import cluster, datasets\n",
    "from sklearn.preprocessing import StandardScaler\n",
    "from sklearn.cluster import DBSCAN\n",
    "from sklearn.preprocessing import StandardScaler\n"
   ]
  },
  {
   "cell_type": "code",
   "execution_count": 3,
   "id": "97b52dfb",
   "metadata": {},
   "outputs": [],
   "source": [
    "# QUESTO VA TOLTO\n",
    "\n",
    "training_set = pd.read_csv(\"NOTEBOOK/training_set_complete.csv\")\n",
    "test_set = pd.read_csv(\"NOTEBOOK/test_set_complete.csv\")\n",
    "#training_set = training_set.drop(columns=['Unnamed: 0'])\n",
    "#test_set = test_set.drop(columns=['Unnamed: 0'])\n",
    "training_set['Revenue'] = training_set['Revenue'].astype(int)\n",
    "test_set['Revenue'] = test_set['Revenue'].astype(int)\n",
    "#training_set['Revenue'].value_counts()\n",
    "#test_set['Revenue'].value_counts()\n",
    "categorical_features = ['Month_Aug', 'Month_Dec', 'Month_Feb', 'Month_Jul', 'Month_June',\n",
    "       'Month_Mar', 'Month_May', 'Month_Nov', 'Month_Oct', 'Month_Sep',\n",
    "       'OperatingSystems_1', 'OperatingSystems_2', 'OperatingSystems_3',\n",
    "       'OperatingSystems_4', 'OperatingSystems_5', 'OperatingSystems_6',\n",
    "       'OperatingSystems_7', 'OperatingSystems_8', 'Browser_1', 'Browser_2',\n",
    "       'Browser_3', 'Browser_4', 'Browser_5', 'Browser_6', 'Browser_7',\n",
    "       'Browser_8', 'Browser_9', 'Browser_10', 'Browser_11', 'Browser_12',\n",
    "       'Browser_13', 'Region_1', 'Region_2', 'Region_3', 'Region_4',\n",
    "       'Region_5', 'Region_6', 'Region_7', 'Region_8', 'Region_9',\n",
    "       'TrafficType_1', 'TrafficType_2', 'TrafficType_3', 'TrafficType_4',\n",
    "       'TrafficType_5', 'TrafficType_6', 'TrafficType_7', 'TrafficType_8',\n",
    "       'TrafficType_9', 'TrafficType_10', 'TrafficType_11', 'TrafficType_12',\n",
    "       'TrafficType_13', 'TrafficType_14', 'TrafficType_15', 'TrafficType_16',\n",
    "       'TrafficType_17', 'TrafficType_18', 'TrafficType_19', 'TrafficType_20',\n",
    "       'VisitorType_New_Visitor', 'VisitorType_Other',\n",
    "       'VisitorType_Returning_Visitor', 'Weekend_False', 'Weekend_True']\n",
    "#training_set[categorical_features] = training_set[categorical_features].astype('category')\n",
    "#test_set[categorical_features] = test_set[categorical_features].astype('category')"
   ]
  },
  {
   "cell_type": "code",
   "execution_count": 5,
   "id": "46ea10dd",
   "metadata": {},
   "outputs": [],
   "source": [
    "# QUESTO VA INTEGRATO\n",
    "\n",
    "X_train_full = training_set.drop(columns=['Revenue'])\n",
    "X_test_full = test_set.drop(columns=['Revenue'])\n",
    "y_train = training_set['Revenue']\n",
    "y_test = test_set['Revenue']"
   ]
  },
  {
   "cell_type": "code",
   "execution_count": 7,
   "id": "0b0a0177",
   "metadata": {},
   "outputs": [],
   "source": [
    "# ADATTARE\n",
    "\n",
    "# FACCIAMO QUESTO STEP PER EVITARE PROBLEMI DI CONVERGENZA NEL MODELLO\n",
    "from sklearn.preprocessing import StandardScaler\n",
    "\n",
    "# Assuming you have your feature data X\n",
    "numeric_features = ['Administrative', 'Administrative_Duration', 'Informational',\n",
    "       'Informational_Duration', 'ProductRelated', 'ProductRelated_Duration',\n",
    "       'BounceRates', 'ExitRates', 'PageValues', 'SpecialDay']\n",
    "categorical_features = ['Month_Aug', 'Month_Dec', 'Month_Feb', 'Month_Jul', 'Month_June', 'Month_Mar', 'Month_May', \n",
    "                        'Month_Nov', 'Month_Oct', 'Month_Sep', 'OperatingSystems_1', 'OperatingSystems_2', 'OperatingSystems_3', 'OperatingSystems_4', 'OperatingSystems_6', 'OperatingSystems_8', 'Browser_1', 'Browser_2', 'Browser_3', 'Browser_4', 'Browser_5', 'Browser_6', 'Browser_7', 'Browser_8', 'Browser_10', 'Browser_13', 'Region_1', 'Region_2', 'Region_3', 'Region_4', 'Region_5',\n",
    "                        'Region_6', 'Region_7', 'Region_8', 'Region_9', 'TrafficType_1', 'TrafficType_2', \n",
    "                        'TrafficType_3', 'TrafficType_4', 'TrafficType_5', 'TrafficType_6', 'TrafficType_7', \n",
    "                        'TrafficType_8', 'TrafficType_9', 'TrafficType_10', 'TrafficType_11', 'TrafficType_13', \n",
    "                        'TrafficType_15', 'TrafficType_19', 'TrafficType_20', 'VisitorType_New_Visitor', 'VisitorType_Other', 'VisitorType_Returning_Visitor', 'Weekend_False', 'Weekend_True']\n",
    "scaler = StandardScaler()\n",
    "train_scaled = pd.DataFrame(scaler.fit_transform(X_train_full[numeric_features]))\n",
    "test_scaled = pd.DataFrame(scaler.fit_transform(X_test_full[numeric_features]))\n",
    "train_scaled.columns = X_train_full[numeric_features].columns\n",
    "test_scaled.columns = X_test_full[numeric_features].columns\n",
    "X_train_scaled = pd.concat([train_scaled,X_train_full[categorical_features]],axis=1)\n",
    "X_test_scaled = pd.concat([test_scaled,X_test_full[categorical_features]],axis=1)"
   ]
  },
  {
   "cell_type": "code",
   "execution_count": 8,
   "id": "4650f3ec",
   "metadata": {},
   "outputs": [
    {
     "name": "stdout",
     "output_type": "stream",
     "text": [
      "['Administrative', 'Administrative_Duration', 'Informational', 'Informational_Duration', 'ProductRelated', 'ProductRelated_Duration', 'BounceRates', 'ExitRates', 'PageValues', 'SpecialDay', 'Month_Aug', 'Month_Dec', 'Month_Feb', 'Month_Jul', 'Month_June', 'Month_Mar', 'Month_May', 'Month_Nov', 'Month_Oct', 'Month_Sep', 'OperatingSystems_1', 'OperatingSystems_2', 'OperatingSystems_3', 'OperatingSystems_4', 'Browser_1', 'Browser_2', 'Browser_3', 'Browser_4', 'Browser_5', 'Browser_6', 'Browser_8', 'Browser_10', 'Region_1', 'Region_2', 'Region_3', 'Region_4', 'Region_5', 'Region_6', 'Region_7', 'Region_8', 'Region_9', 'TrafficType_1', 'TrafficType_2', 'TrafficType_3', 'TrafficType_4', 'TrafficType_5', 'TrafficType_6', 'TrafficType_8', 'TrafficType_10', 'TrafficType_11', 'TrafficType_13', 'TrafficType_20', 'VisitorType_New_Visitor', 'VisitorType_Returning_Visitor', 'Weekend_False', 'Weekend_True']\n"
     ]
    },
    {
     "data": {
      "text/plain": [
       "56"
      ]
     },
     "execution_count": 8,
     "metadata": {},
     "output_type": "execute_result"
    }
   ],
   "source": [
    "# ADATTATO\n",
    "\n",
    "from sklearn.feature_selection import VarianceThreshold\n",
    "\n",
    "threshold = 0.0075  # Soglia di varianza desiderata\n",
    "variance_selector = VarianceThreshold(threshold=threshold)\n",
    "\n",
    "# Applicazione della selezione della varianza sul dataset\n",
    "\n",
    "X_train_scaled = X_train_scaled.loc[:, variance_selector.fit(X_train_scaled).get_support()]\n",
    "columns_remaining = X_train_scaled.columns.tolist()\n",
    "\n",
    "X_test_scaled = X_test_scaled[columns_remaining]\n",
    "print(X_train_scaled.columns.tolist())\n",
    "len(columns_remaining)"
   ]
  },
  {
   "cell_type": "markdown",
   "id": "c8afa3c6",
   "metadata": {},
   "source": [
    "## 3.1 Setting the constant parameters"
   ]
  },
  {
   "cell_type": "code",
   "execution_count": 9,
   "id": "32545c90",
   "metadata": {},
   "outputs": [],
   "source": [
    "n_clusters = 2\n",
    "element_distance_metric = 'euclidean'\n",
    "linkage = 'ward'"
   ]
  },
  {
   "cell_type": "markdown",
   "id": "a338a713",
   "metadata": {},
   "source": [
    "## 3.2 Functions to evaluate clustering performances"
   ]
  },
  {
   "cell_type": "markdown",
   "id": "e886c2d0",
   "metadata": {},
   "source": [
    "Se gli cross correlation indexes non si usano, li dobbiamo buttare via e spieghiamo che usiamo solo gli external indexes come metodo di valutazione degli algoritmi di clustering."
   ]
  },
  {
   "cell_type": "markdown",
   "id": "1d7d07ed",
   "metadata": {},
   "source": [
    "### Cross-correlation index"
   ]
  },
  {
   "cell_type": "code",
   "execution_count": 10,
   "id": "9f1ed932",
   "metadata": {},
   "outputs": [],
   "source": [
    "# similarity matrix\n",
    "def plot_similarity_matrix(X,y,metric=element_distance_metric):\n",
    "    sim = similarity_mat(X, metric=element_distance_metric)\n",
    "    plot_sorted_mat(sim, y)\n",
    "\n",
    "# incidence matrix\n",
    "def plot_incidence_matrix(y_pred):\n",
    "    inc = incidence_mat(y_predict)\n",
    "    plot_sorted_mat(inc, y_predict)"
   ]
  },
  {
   "cell_type": "markdown",
   "id": "28dc3ba2",
   "metadata": {},
   "source": [
    "### External Indexes"
   ]
  },
  {
   "cell_type": "code",
   "execution_count": 11,
   "id": "89c73920",
   "metadata": {},
   "outputs": [],
   "source": [
    "def get_count_nk(cluster_labels,k):\n",
    "    return np.count_nonzero(cluster_labels == k)\n",
    "\n",
    "def get_count_nj(class_labels,j):\n",
    "    return np.count_nonzero(class_labels == j)\n",
    "\n",
    "def get_count_nkj(cluster_labels,class_labels,k,j):\n",
    "    return len(np.intersect1d(np.where(cluster_labels == k)[0], np.where(class_labels == j)[0]))\n",
    "\n",
    "def get_precision(cluster_labels, class_labels, k, j):\n",
    "    return get_count_nkj(cluster_labels,class_labels,k,j)/get_count_nk(cluster_labels,k)\n",
    "\n",
    "def get_recall(cluster_labels, class_labels, k, j):\n",
    "    return get_count_nkj(cluster_labels,class_labels,k,j)/get_count_nj(class_labels,j)\n",
    "\n",
    "def get_cluster_purity(cluster_labels,class_labels,k):\n",
    "    precisions = []\n",
    "    labels_in_cluster_k = np.unique(cluster_labels)\n",
    "    for label in labels_in_cluster_k:\n",
    "        precisions.append(get_precision(cluster_labels,class_labels,k,label))\n",
    "    return max(precisions)\n",
    "\n",
    "def get_total_purity(cluster_labels,class_labels):\n",
    "    purities = []\n",
    "    labels_in_cluster_k = np.unique(cluster_labels)\n",
    "\n",
    "    for cluster in labels_in_cluster_k:\n",
    "        purities.append(get_cluster_purity(cluster_labels,class_labels,cluster)*(get_count_nk(cluster_labels,cluster)/len(cluster_labels)))\n",
    "    return sum(purities)\n",
    "\n",
    "def get_accuracy(cluster_labels,class_labels):\n",
    "    return sum(cluster_labels == class_labels)/len(class_labels)"
   ]
  },
  {
   "cell_type": "code",
   "execution_count": 12,
   "id": "53dc5a6b",
   "metadata": {},
   "outputs": [],
   "source": [
    "def get_cluster_metrics(cluster_labels,class_labels,model_name):\n",
    "    \n",
    "    accuracy = get_accuracy(cluster_labels,class_labels)\n",
    "    \n",
    "    cluster_label_unique = np.sort(np.unique(cluster_labels))\n",
    "    class_label_unique = np.sort(np.unique(class_labels))\n",
    "    \n",
    "    precisions = [] \n",
    "    recalls = [] \n",
    "    \n",
    "    purities = []\n",
    "    \n",
    "    for k in cluster_label_unique:\n",
    "        for j in class_label_unique:\n",
    "            precisions.append(get_precision(cluster_labels,class_labels,k,j))\n",
    "        purities.append(get_cluster_purity(cluster_labels,class_labels,k))\n",
    "        \n",
    "    for j in class_label_unique:\n",
    "        for k in cluster_label_unique:\n",
    "            recalls.append(get_recall(cluster_labels,class_labels,k,j))\n",
    "    \n",
    "    tot_purity = get_total_purity(cluster_labels,class_labels)\n",
    "    \n",
    "    jaccard = sklearn.metrics.jaccard_score(class_labels, cluster_labels)\n",
    "    \n",
    "    data = {\n",
    "        'Accuracy':[accuracy],\n",
    "        'p_00':[precisions[0]],\n",
    "        'p_01':[precisions[1]],\n",
    "        'p_10':[precisions[2]],\n",
    "        'p_11':[precisions[3]],\n",
    "        'r_00':[recalls[0]],\n",
    "        'r_01':[recalls[1]],\n",
    "        'r_10':[recalls[2]],\n",
    "        'r_11':[recalls[3]],\n",
    "        'p_0':[purities[0]],\n",
    "        'p_1':[purities[1]],\n",
    "        'tot_purity':[tot_purity],\n",
    "        'jaccard':[jaccard],\n",
    "        \n",
    "    }\n",
    "    data = pd.DataFrame(data)\n",
    "    data.rename(index={0: model_name}, inplace=True)\n",
    "    return data # return accuracy, precisions, recalls, purities, tot_purity, jaccard"
   ]
  },
  {
   "cell_type": "code",
   "execution_count": 13,
   "id": "018c93d3",
   "metadata": {},
   "outputs": [],
   "source": [
    "import umap\n",
    "\n",
    "# function to print the UMAP\n",
    "def plot_UMAP(X,cluster_labels,class_labels,n_pc,use_cluster_labels=True):\n",
    "    umap_model = umap.UMAP(n_components=41, random_state=42)\n",
    "    umap_representation = umap_model.fit_transform(X)\n",
    "    \n",
    "    if use_cluster_labels:\n",
    "        for label in np.unique(cluster_labels):\n",
    "            if label == -1:\n",
    "                plt.scatter(umap_representation[cluster_labels == label, 0], umap_representation[cluster_labels == label, 1],\n",
    "                            color='gray', label='Noise', s=50)\n",
    "            else:\n",
    "                plt.scatter(umap_representation[cluster_labels == label, 0], umap_representation[cluster_labels == label, 1],\n",
    "                            label=f'Cluster {label}', s=50)\n",
    "    else:\n",
    "        plt.figure(figsize=(8, 6))\n",
    "        for label in np.unique(class_labels):\n",
    "            plt.scatter(umap_representation[class_labels == label, 0], umap_representation[class_labels == label, 1],\n",
    "                        label=f'Class {label}', s=50)\n",
    "\n",
    "    plt.xlabel('UMAP Dimension 1')\n",
    "    plt.ylabel('UMAP Dimension 2')\n",
    "    plt.title('UMAP Representation of DBSCAN Clustering Results')\n",
    "    plt.legend()\n",
    "    plt.show()"
   ]
  },
  {
   "cell_type": "markdown",
   "id": "41eafc0b",
   "metadata": {},
   "source": [
    "## 3.3 PCA"
   ]
  },
  {
   "cell_type": "markdown",
   "id": "8d4a2289",
   "metadata": {},
   "source": [
    "Since our dataset has a lot of features, we perform PCA to reduce the dimension. We keep a number of components that explains at least 75% of the variance and we will perform our clustering analysis based on PCA results."
   ]
  },
  {
   "cell_type": "code",
   "execution_count": 15,
   "id": "81fef0e7",
   "metadata": {},
   "outputs": [
    {
     "name": "stdout",
     "output_type": "stream",
     "text": [
      "Number of components that explain at least 75% of variance:  10\n"
     ]
    }
   ],
   "source": [
    "pca = PCA()\n",
    "X_train_pca = pca.fit_transform(X_train_scaled)\n",
    "\n",
    "explained_variance_ratio_cumsum = np.cumsum(pca.explained_variance_ratio_)\n",
    "\n",
    "n_components = np.argmax(explained_variance_ratio_cumsum >= 0.75) + 1\n",
    "print(\"Number of components that explain at least 75% of variance: \", n_components)\n",
    "\n",
    "pca = PCA(n_components=n_components)\n",
    "X_train_pca = pca.fit_transform(X_train_scaled)\n",
    "X_test_pca = pca.transform(X_test_scaled)"
   ]
  },
  {
   "cell_type": "markdown",
   "id": "c464272c",
   "metadata": {},
   "source": [
    "Here we report the UMAP with the first and second principal component."
   ]
  },
  {
   "cell_type": "code",
   "execution_count": 16,
   "id": "e7251d71",
   "metadata": {},
   "outputs": [
    {
     "data": {
      "text/plain": [
       "<AxesSubplot:>"
      ]
     },
     "execution_count": 16,
     "metadata": {},
     "output_type": "execute_result"
    },
    {
     "data": {
      "image/png": "[encoded data removed]",
      "text/plain": [
       "<Figure size 640x480 with 1 Axes>"
      ]
     },
     "metadata": {},
     "output_type": "display_data"
    }
   ],
   "source": [
    "X0_range = (X_train_pca[:,0].min(), X_train_pca[:,0].max())\n",
    "X1_range = (X_train_pca[:,1].min(), X_train_pca[:,1].max())\n",
    "\n",
    "sns.scatterplot(x=X_train_pca[:,0], y=X_train_pca[:,1], hue=y_train, marker='o')\n",
    "#sns.scatterplot(X_test_pca[:,0], X_test_pca[:,1], hue=y_test, marker='^')\n"
   ]
  },
  {
   "cell_type": "markdown",
   "id": "d48018e5",
   "metadata": {},
   "source": [
    "## 3.4 Clustering"
   ]
  },
  {
   "cell_type": "markdown",
   "id": "6f839b3b",
   "metadata": {},
   "source": [
    "Vogliamo fare un'analisi del dataset attraverso il clustering, per poi confrontare l'algoritmo di clustering migliore con il miglior algoritmo di classificazione. Decidiamo di costruire sia hierarchical clustering (bottom-up) che partitioning clustering (k-means e DBSCAN).\n",
    "\n",
    "Per valutare l'algoritmo di clustering migliore, ci basiamo su external indexes, in particolare porremo l'attenzione su purity e Jaccard similarity. Usiamo questo tipo di indici perchè vogliamo predire l'outcome della variabile binaria \"Revenue\" e quindi sarà importante valutare anche la coerenza tra cluster e classe."
   ]
  },
  {
   "cell_type": "markdown",
   "id": "588ffc95",
   "metadata": {},
   "source": [
    "## 3.5 Hierarchical clustering"
   ]
  },
  {
   "cell_type": "markdown",
   "id": "9a598037",
   "metadata": {},
   "source": [
    "### Bottom-up"
   ]
  },
  {
   "cell_type": "code",
   "execution_count": 17,
   "id": "37e38147",
   "metadata": {},
   "outputs": [],
   "source": [
    "model_agglomerative = AgglomerativeClustering(n_clusters=n_clusters, affinity=element_distance_metric, linkage=linkage)\n",
    "labels_agglomerative = model_agglomerative.fit_predict(X_train_pca)"
   ]
  },
  {
   "cell_type": "code",
   "execution_count": 18,
   "id": "ec3e5e5d",
   "metadata": {},
   "outputs": [
    {
     "data": {
      "text/html": [
       "<div>\n",
       "<style scoped>\n",
       "    .dataframe tbody tr th:only-of-type {\n",
       "        vertical-align: middle;\n",
       "    }\n",
       "\n",
       "    .dataframe tbody tr th {\n",
       "        vertical-align: top;\n",
       "    }\n",
       "\n",
       "    .dataframe thead th {\n",
       "        text-align: right;\n",
       "    }\n",
       "</style>\n",
       "<table border=\"1\" class=\"dataframe\">\n",
       "  <thead>\n",
       "    <tr style=\"text-align: right;\">\n",
       "      <th></th>\n",
       "      <th>Accuracy</th>\n",
       "      <th>p_00</th>\n",
       "      <th>p_01</th>\n",
       "      <th>p_10</th>\n",
       "      <th>p_11</th>\n",
       "      <th>r_00</th>\n",
       "      <th>r_01</th>\n",
       "      <th>r_10</th>\n",
       "      <th>r_11</th>\n",
       "      <th>p_0</th>\n",
       "      <th>p_1</th>\n",
       "      <th>tot_purity</th>\n",
       "      <th>jaccard</th>\n",
       "    </tr>\n",
       "  </thead>\n",
       "  <tbody>\n",
       "    <tr>\n",
       "      <th>Agglomerative</th>\n",
       "      <td>0.749027</td>\n",
       "      <td>0.828189</td>\n",
       "      <td>0.171811</td>\n",
       "      <td>0.994382</td>\n",
       "      <td>0.005618</td>\n",
       "      <td>0.88664</td>\n",
       "      <td>0.11336</td>\n",
       "      <td>0.99653</td>\n",
       "      <td>0.00347</td>\n",
       "      <td>0.828189</td>\n",
       "      <td>0.994382</td>\n",
       "      <td>0.844183</td>\n",
       "      <td>0.00215</td>\n",
       "    </tr>\n",
       "  </tbody>\n",
       "</table>\n",
       "</div>"
      ],
      "text/plain": [
       "               Accuracy      p_00      p_01      p_10      p_11     r_00  \\\n",
       "Agglomerative  0.749027  0.828189  0.171811  0.994382  0.005618  0.88664   \n",
       "\n",
       "                  r_01     r_10     r_11       p_0       p_1  tot_purity  \\\n",
       "Agglomerative  0.11336  0.99653  0.00347  0.828189  0.994382    0.844183   \n",
       "\n",
       "               jaccard  \n",
       "Agglomerative  0.00215  "
      ]
     },
     "execution_count": 18,
     "metadata": {},
     "output_type": "execute_result"
    }
   ],
   "source": [
    "metrics_agglomerative = get_cluster_metrics(labels_agglomerative,y_train,'Agglomerative')\n",
    "metrics_agglomerative"
   ]
  },
  {
   "cell_type": "markdown",
   "id": "b085eed6",
   "metadata": {},
   "source": [
    "## 3.6 Partitioning clustering"
   ]
  },
  {
   "cell_type": "markdown",
   "id": "f75ea8f0",
   "metadata": {},
   "source": [
    "### K-means"
   ]
  },
  {
   "cell_type": "code",
   "execution_count": 21,
   "id": "a03b0a4f",
   "metadata": {},
   "outputs": [],
   "source": [
    "model_kmeans = KMeans(n_clusters=2, init='k-means++', random_state=0)             \n",
    "labels_kmeans = model_kmeans.fit_predict(X_train_pca)"
   ]
  },
  {
   "cell_type": "code",
   "execution_count": 22,
   "id": "480b6c03",
   "metadata": {},
   "outputs": [
    {
     "data": {
      "text/html": [
       "<div>\n",
       "<style scoped>\n",
       "    .dataframe tbody tr th:only-of-type {\n",
       "        vertical-align: middle;\n",
       "    }\n",
       "\n",
       "    .dataframe tbody tr th {\n",
       "        vertical-align: top;\n",
       "    }\n",
       "\n",
       "    .dataframe thead th {\n",
       "        text-align: right;\n",
       "    }\n",
       "</style>\n",
       "<table border=\"1\" class=\"dataframe\">\n",
       "  <thead>\n",
       "    <tr style=\"text-align: right;\">\n",
       "      <th></th>\n",
       "      <th>Accuracy</th>\n",
       "      <th>p_00</th>\n",
       "      <th>p_01</th>\n",
       "      <th>p_10</th>\n",
       "      <th>p_11</th>\n",
       "      <th>r_00</th>\n",
       "      <th>r_01</th>\n",
       "      <th>r_10</th>\n",
       "      <th>r_11</th>\n",
       "      <th>p_0</th>\n",
       "      <th>p_1</th>\n",
       "      <th>tot_purity</th>\n",
       "      <th>jaccard</th>\n",
       "    </tr>\n",
       "  </thead>\n",
       "  <tbody>\n",
       "    <tr>\n",
       "      <th>K-means</th>\n",
       "      <td>0.77952</td>\n",
       "      <td>0.866548</td>\n",
       "      <td>0.133452</td>\n",
       "      <td>0.716667</td>\n",
       "      <td>0.283333</td>\n",
       "      <td>0.873319</td>\n",
       "      <td>0.126681</td>\n",
       "      <td>0.728661</td>\n",
       "      <td>0.271339</td>\n",
       "      <td>0.866548</td>\n",
       "      <td>0.716667</td>\n",
       "      <td>0.844183</td>\n",
       "      <td>0.160905</td>\n",
       "    </tr>\n",
       "  </tbody>\n",
       "</table>\n",
       "</div>"
      ],
      "text/plain": [
       "         Accuracy      p_00      p_01      p_10      p_11      r_00      r_01  \\\n",
       "K-means   0.77952  0.866548  0.133452  0.716667  0.283333  0.873319  0.126681   \n",
       "\n",
       "             r_10      r_11       p_0       p_1  tot_purity   jaccard  \n",
       "K-means  0.728661  0.271339  0.866548  0.716667    0.844183  0.160905  "
      ]
     },
     "execution_count": 22,
     "metadata": {},
     "output_type": "execute_result"
    }
   ],
   "source": [
    "metrics_kmeans = get_cluster_metrics(labels_kmeans,y_train,'K-means')\n",
    "metrics_kmeans"
   ]
  },
  {
   "cell_type": "markdown",
   "id": "1fa7b1c3",
   "metadata": {},
   "source": [
    "### DBSCAN"
   ]
  },
  {
   "cell_type": "code",
   "execution_count": 24,
   "id": "fa18c134",
   "metadata": {},
   "outputs": [],
   "source": [
    "model_DBSCAN = DBSCAN(eps=4, min_samples=3)\n",
    "labels_DBSCAN = model_DBSCAN.fit_predict(X_train_pca)"
   ]
  },
  {
   "cell_type": "code",
   "execution_count": 26,
   "id": "ef05a5ae",
   "metadata": {},
   "outputs": [
    {
     "data": {
      "text/html": [
       "<div>\n",
       "<style scoped>\n",
       "    .dataframe tbody tr th:only-of-type {\n",
       "        vertical-align: middle;\n",
       "    }\n",
       "\n",
       "    .dataframe tbody tr th {\n",
       "        vertical-align: top;\n",
       "    }\n",
       "\n",
       "    .dataframe thead th {\n",
       "        text-align: right;\n",
       "    }\n",
       "</style>\n",
       "<table border=\"1\" class=\"dataframe\">\n",
       "  <thead>\n",
       "    <tr style=\"text-align: right;\">\n",
       "      <th></th>\n",
       "      <th>Accuracy</th>\n",
       "      <th>p_00</th>\n",
       "      <th>p_01</th>\n",
       "      <th>p_10</th>\n",
       "      <th>p_11</th>\n",
       "      <th>r_00</th>\n",
       "      <th>r_01</th>\n",
       "      <th>r_10</th>\n",
       "      <th>r_11</th>\n",
       "      <th>p_0</th>\n",
       "      <th>p_1</th>\n",
       "      <th>tot_purity</th>\n",
       "      <th>jaccard</th>\n",
       "    </tr>\n",
       "  </thead>\n",
       "  <tbody>\n",
       "    <tr>\n",
       "      <th>DBSCAN</th>\n",
       "      <td>0.844285</td>\n",
       "      <td>0.84456</td>\n",
       "      <td>0.15544</td>\n",
       "      <td>1.0</td>\n",
       "      <td>0.0</td>\n",
       "      <td>0.999615</td>\n",
       "      <td>0.000385</td>\n",
       "      <td>1.0</td>\n",
       "      <td>0.0</td>\n",
       "      <td>0.84456</td>\n",
       "      <td>1.0</td>\n",
       "      <td>0.844611</td>\n",
       "      <td>0.0</td>\n",
       "    </tr>\n",
       "  </tbody>\n",
       "</table>\n",
       "</div>"
      ],
      "text/plain": [
       "        Accuracy     p_00     p_01  p_10  p_11      r_00      r_01  r_10  \\\n",
       "DBSCAN  0.844285  0.84456  0.15544   1.0   0.0  0.999615  0.000385   1.0   \n",
       "\n",
       "        r_11      p_0  p_1  tot_purity  jaccard  \n",
       "DBSCAN   0.0  0.84456  1.0    0.844611      0.0  "
      ]
     },
     "execution_count": 26,
     "metadata": {},
     "output_type": "execute_result"
    }
   ],
   "source": [
    "metrics_DBSCAN = get_cluster_metrics(labels_DBSCAN[labels_DBSCAN!=-1],y_train[labels_DBSCAN!=-1],'DBSCAN')\n",
    "metrics_DBSCAN"
   ]
  },
  {
   "cell_type": "markdown",
   "id": "d069e468",
   "metadata": {},
   "source": [
    "Mettere elbow"
   ]
  },
  {
   "cell_type": "markdown",
   "id": "8fd699a6",
   "metadata": {},
   "source": [
    "## 3.7 Comparison between algorithms"
   ]
  },
  {
   "cell_type": "code",
   "execution_count": 27,
   "id": "bd030d2e",
   "metadata": {},
   "outputs": [
    {
     "data": {
      "text/html": [
       "<div>\n",
       "<style scoped>\n",
       "    .dataframe tbody tr th:only-of-type {\n",
       "        vertical-align: middle;\n",
       "    }\n",
       "\n",
       "    .dataframe tbody tr th {\n",
       "        vertical-align: top;\n",
       "    }\n",
       "\n",
       "    .dataframe thead th {\n",
       "        text-align: right;\n",
       "    }\n",
       "</style>\n",
       "<table border=\"1\" class=\"dataframe\">\n",
       "  <thead>\n",
       "    <tr style=\"text-align: right;\">\n",
       "      <th></th>\n",
       "      <th>Accuracy</th>\n",
       "      <th>p_00</th>\n",
       "      <th>p_01</th>\n",
       "      <th>p_10</th>\n",
       "      <th>p_11</th>\n",
       "      <th>r_00</th>\n",
       "      <th>r_01</th>\n",
       "      <th>r_10</th>\n",
       "      <th>r_11</th>\n",
       "      <th>p_0</th>\n",
       "      <th>p_1</th>\n",
       "      <th>tot_purity</th>\n",
       "      <th>jaccard</th>\n",
       "    </tr>\n",
       "  </thead>\n",
       "  <tbody>\n",
       "    <tr>\n",
       "      <th>Agglomerative</th>\n",
       "      <td>0.749027</td>\n",
       "      <td>0.828189</td>\n",
       "      <td>0.171811</td>\n",
       "      <td>0.994382</td>\n",
       "      <td>0.005618</td>\n",
       "      <td>0.886640</td>\n",
       "      <td>0.113360</td>\n",
       "      <td>0.996530</td>\n",
       "      <td>0.003470</td>\n",
       "      <td>0.828189</td>\n",
       "      <td>0.994382</td>\n",
       "      <td>0.844183</td>\n",
       "      <td>0.002150</td>\n",
       "    </tr>\n",
       "    <tr>\n",
       "      <th>K-means</th>\n",
       "      <td>0.779520</td>\n",
       "      <td>0.866548</td>\n",
       "      <td>0.133452</td>\n",
       "      <td>0.716667</td>\n",
       "      <td>0.283333</td>\n",
       "      <td>0.873319</td>\n",
       "      <td>0.126681</td>\n",
       "      <td>0.728661</td>\n",
       "      <td>0.271339</td>\n",
       "      <td>0.866548</td>\n",
       "      <td>0.716667</td>\n",
       "      <td>0.844183</td>\n",
       "      <td>0.160905</td>\n",
       "    </tr>\n",
       "    <tr>\n",
       "      <th>DBSCAN</th>\n",
       "      <td>0.844285</td>\n",
       "      <td>0.844560</td>\n",
       "      <td>0.155440</td>\n",
       "      <td>1.000000</td>\n",
       "      <td>0.000000</td>\n",
       "      <td>0.999615</td>\n",
       "      <td>0.000385</td>\n",
       "      <td>1.000000</td>\n",
       "      <td>0.000000</td>\n",
       "      <td>0.844560</td>\n",
       "      <td>1.000000</td>\n",
       "      <td>0.844611</td>\n",
       "      <td>0.000000</td>\n",
       "    </tr>\n",
       "  </tbody>\n",
       "</table>\n",
       "</div>"
      ],
      "text/plain": [
       "               Accuracy      p_00      p_01      p_10      p_11      r_00  \\\n",
       "Agglomerative  0.749027  0.828189  0.171811  0.994382  0.005618  0.886640   \n",
       "K-means        0.779520  0.866548  0.133452  0.716667  0.283333  0.873319   \n",
       "DBSCAN         0.844285  0.844560  0.155440  1.000000  0.000000  0.999615   \n",
       "\n",
       "                   r_01      r_10      r_11       p_0       p_1  tot_purity  \\\n",
       "Agglomerative  0.113360  0.996530  0.003470  0.828189  0.994382    0.844183   \n",
       "K-means        0.126681  0.728661  0.271339  0.866548  0.716667    0.844183   \n",
       "DBSCAN         0.000385  1.000000  0.000000  0.844560  1.000000    0.844611   \n",
       "\n",
       "                jaccard  \n",
       "Agglomerative  0.002150  \n",
       "K-means        0.160905  \n",
       "DBSCAN         0.000000  "
      ]
     },
     "execution_count": 27,
     "metadata": {},
     "output_type": "execute_result"
    }
   ],
   "source": [
    "metrics_df = pd.DataFrame()\n",
    "metrics_df = pd.concat([metrics_agglomerative,metrics_kmeans,metrics_DBSCAN],axis=0)\n",
    "metrics_df"
   ]
  },
  {
   "cell_type": "code",
   "execution_count": 28,
   "id": "0438d314",
   "metadata": {},
   "outputs": [
    {
     "data": {
      "image/png": "[encoded data removed]",
      "text/plain": [
       "<Figure size 1500x500 with 3 Axes>"
      ]
     },
     "metadata": {},
     "output_type": "display_data"
    }
   ],
   "source": [
    "columns = ['Accuracy', 'tot_purity', 'jaccard']\n",
    "\n",
    "num_cols = len(columns)\n",
    "fig, axes = plt.subplots(nrows=1, ncols=num_cols, figsize=(15, 5))\n",
    "\n",
    "sns.set_style('whitegrid')\n",
    "palette = 'Set2'\n",
    "\n",
    "for i, col in enumerate(columns):\n",
    "    values = metrics_df.loc[:,col]\n",
    "    axes[i].bar(metrics_df.index, values, color=\"darkblue\")\n",
    "    axes[i].set_title(f\"Barplot '{col}'\")\n",
    "    axes[i].set_xlabel('Algorithm')\n",
    "    axes[i].set_ylabel(col)\n",
    "\n",
    "plt.tight_layout()\n",
    "plt.show();\n"
   ]
  },
  {
   "cell_type": "code",
   "execution_count": null,
   "id": "238f1ef3",
   "metadata": {},
   "outputs": [],
   "source": []
  }
 ],
 "metadata": {
  "kernelspec": {
   "display_name": "Python 3 (ipykernel)",
   "language": "python",
   "name": "python3"
  },
  "language_info": {
   "codemirror_mode": {
    "name": "ipython",
    "version": 3
   },
   "file_extension": ".py",
   "mimetype": "text/x-python",
   "name": "python",
   "nbconvert_exporter": "python",
   "pygments_lexer": "ipython3",
   "version": "3.9.13"
  }
 },
 "nbformat": 4,
 "nbformat_minor": 5
}
