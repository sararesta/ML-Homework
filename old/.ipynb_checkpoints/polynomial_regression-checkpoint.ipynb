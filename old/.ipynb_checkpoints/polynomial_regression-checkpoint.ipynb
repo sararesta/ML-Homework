{
 "cells": [
  {
   "cell_type": "code",
   "execution_count": 1,
   "id": "f2f06886",
   "metadata": {},
   "outputs": [],
   "source": [
    "# Run this code to make Jupyter print every\n",
    "# printable statement and not just the last one\n",
    "from IPython.core.interactiveshell import InteractiveShell\n",
    "InteractiveShell.ast_node_interactivity = \"all\"\n",
    "\n",
    "# To visualize the data\n",
    "import matplotlib.pyplot as plt\n",
    "\n",
    "# Generic libraries\n",
    "import seaborn as sns\n",
    "import pandas as pd\n",
    "import numpy as np\n",
    "\n",
    "# Regression models\n",
    "import sklearn\n",
    "import scipy\n",
    "from scipy.stats import t\n",
    "import sklearn\n",
    "from sklearn.model_selection import train_test_split #split the data into training and test\n",
    "from sklearn.linear_model import LinearRegression #linear regression\n",
    "from sklearn.preprocessing import PolynomialFeatures #for polynomial regression\n",
    "from sklearn.metrics import r2_score, mean_squared_error\n",
    "\n",
    "# 5-folds crossvalidation\n",
    "from sklearn.model_selection import cross_val_score\n",
    "from sklearn.metrics import make_scorer\n",
    "from sklearn.pipeline import Pipeline\n"
   ]
  },
  {
   "cell_type": "markdown",
   "id": "7cf8b05a",
   "metadata": {},
   "source": [
    "# Regression"
   ]
  },
  {
   "cell_type": "markdown",
   "id": "7fcbec53",
   "metadata": {},
   "source": [
    "Import the datasets (for this step we need only the training set)"
   ]
  },
  {
   "cell_type": "code",
   "execution_count": 2,
   "id": "d21ec1f5",
   "metadata": {},
   "outputs": [],
   "source": [
    "training_set = pd.read_csv(\"data/training_set_online_shoppers_intention.csv\")"
   ]
  },
  {
   "cell_type": "markdown",
   "id": "ab7767b2",
   "metadata": {},
   "source": [
    "We set all the categorical types as category $\\rightarrow$ non so se sia davvero utile o no, magari lo teniamo solo per la heatmap, l'ho tolto perché così facendo c'erano dei problemi con la riassegnazione della categoria other: TypeError: Cannot setitem on a Categorical with a new category (Others), set the categories first\n",
    "\n",
    "Ho pensato che tanto poi le trasformiamo tutte in binarie, quindi fa lo stesso. Magari poi ne creiamo una copia se decidiamo di fare visual inspection sul training."
   ]
  },
  {
   "cell_type": "markdown",
   "id": "21d12f58",
   "metadata": {},
   "source": [
    "Here we group the categories with the lowest number of elements into 'others'. Since these categories doesn't have a significant number of elements we don't expect them to be significant. Giving too many importance to them may lead to overfitting problems (di questa cosa non sono sicura ed è anche scritta in un inglese che fa pena)"
   ]
  },
  {
   "cell_type": "code",
   "execution_count": 3,
   "id": "70b244db",
   "metadata": {
    "scrolled": false
   },
   "outputs": [],
   "source": [
    "# VisitorType -> others removed\n",
    "training_set = training_set[training_set['VisitorType']!='Other']\n",
    "\n",
    "#VisitorType -> 1 = returning, 0 = new\n",
    "training_set['VisitorType'] = np.where(training_set['VisitorType']=='Returning_Visitor',1,0)\n",
    "\n",
    "# Weekend\n",
    "training_set['Weekend'] = np.where(training_set['Weekend']=='False',1,0)\n",
    "\n",
    "# Split categorical variables\n",
    "months = pd.get_dummies(training_set.Month, prefix='Month')\n",
    "regions = pd.get_dummies(training_set.Region, prefix='Region')\n",
    "\n",
    "def cut_levels(x, threshold, new_value):\n",
    "    x = x.copy()\n",
    "    value_counts = x.value_counts()\n",
    "    labels = value_counts.index[value_counts < threshold]\n",
    "    x[np.in1d(x, labels)] = new_value\n",
    "    return x\n",
    "\n",
    "training_set['Browser'] = cut_levels(training_set['Browser'],100,'Others')\n",
    "training_set['TrafficType'] = cut_levels(training_set['TrafficType'],100,'Others')\n",
    "training_set['OperatingSystems'] = cut_levels(training_set['OperatingSystems'],100,'Others')\n",
    "\n",
    "browser = pd.get_dummies(training_set.Browser, prefix='Browser')\n",
    "traffic_type = pd.get_dummies(training_set.TrafficType, prefix='TrafficType')\n",
    "operating_systems = pd.get_dummies(training_set.OperatingSystems, prefix='OperatingSystems')"
   ]
  },
  {
   "cell_type": "markdown",
   "id": "f830a376",
   "metadata": {},
   "source": [
    "Here we replace the categorical features with the dummies variables obtaining binary features"
   ]
  },
  {
   "cell_type": "code",
   "execution_count": 4,
   "id": "5f721f57",
   "metadata": {},
   "outputs": [
    {
     "data": {
      "text/plain": [
       "(9182, 57)"
      ]
     },
     "execution_count": 4,
     "metadata": {},
     "output_type": "execute_result"
    }
   ],
   "source": [
    "training_set = training_set.drop(['Unnamed: 0','Month','Region','Browser','TrafficType','OperatingSystems'], axis=1).join([months,regions,browser,traffic_type,operating_systems])\n",
    "training_set.shape"
   ]
  },
  {
   "cell_type": "code",
   "execution_count": 5,
   "id": "3219dd24",
   "metadata": {},
   "outputs": [],
   "source": [
    "# split the training set to separate the rows with missing values\n",
    "mask = training_set['ExitRates'].isna()\n",
    "training_set_missing = training_set[mask]\n",
    "#training_set_missing.head()\n",
    "training_set_no_missing = training_set[mask==False]\n",
    "#training_set_no_missing.head()"
   ]
  },
  {
   "cell_type": "code",
   "execution_count": 6,
   "id": "943a84d2",
   "metadata": {},
   "outputs": [],
   "source": [
    "X_all_features = list(np.delete(training_set.columns.values, [np.where(training_set.columns.values=='ExitRates'),np.where(training_set.columns.values=='Revenue')], axis=None))\n",
    "X = training_set_no_missing[X_all_features].to_numpy()\n",
    "y = training_set_no_missing['ExitRates'].to_numpy()"
   ]
  },
  {
   "cell_type": "markdown",
   "id": "40de9b6c",
   "metadata": {},
   "source": [
    "Now we split the training data to obtain a train and a test set to train the regression model and to compute the performance scores."
   ]
  },
  {
   "cell_type": "code",
   "execution_count": 13,
   "id": "2fc6a037",
   "metadata": {},
   "outputs": [
    {
     "name": "stdout",
     "output_type": "stream",
     "text": [
      "X_train.shape  (5776, 55)\n",
      "X_test.shape  (642, 55)\n"
     ]
    }
   ],
   "source": [
    "#splitting data\n",
    "test_size = 0.1\n",
    "test_seed = 50\n",
    "# Split X and y into train and test\n",
    "X_train, X_test, y_train, y_test = train_test_split(X, y, test_size=test_size, random_state=test_seed)\n",
    "print(\"X_train.shape \", X_train.shape)\n",
    "print(\"X_test.shape \", X_test.shape)"
   ]
  },
  {
   "cell_type": "markdown",
   "id": "ee716a47",
   "metadata": {},
   "source": [
    "Now we fit different polynomial regression models"
   ]
  },
  {
   "cell_type": "markdown",
   "id": "0fe088cb",
   "metadata": {},
   "source": [
    "## Hyperparameter selection"
   ]
  },
  {
   "cell_type": "code",
   "execution_count": 15,
   "id": "135c5b54",
   "metadata": {},
   "outputs": [
    {
     "name": "stdout",
     "output_type": "stream",
     "text": [
      "Best degree:  1 \n",
      "Val score:  0.8595520704086624\n",
      "Test score: 0.85272883935813\n"
     ]
    }
   ],
   "source": [
    "# NOTE: same code as before, we just changed the way we\n",
    "# compute the validation score. Instead on a single fold,\n",
    "# we use a cross validation score for each possibility!\n",
    "# Look at how 'val_score' is computed!\n",
    "# NOTE: We don't need to explicitely train the model, the\n",
    "# function will do it for us for each train split. Also\n",
    "# train scores are not reported, only the cv score!\n",
    "# ======================================================\n",
    "\n",
    "# NOTE: The API always maximises the score, so score that\n",
    "# must be minimized are retured as negative values!\n",
    "r2_scorer = make_scorer(r2_score, greater_is_better=True)\n",
    "\n",
    "# or ...\n",
    "# mse_scorer = 'neg_mean_squared_error'\n",
    "\n",
    "degree = list(range(1,3))\n",
    "val_scores = np.zeros(len(degree))\n",
    "# Validation\n",
    "for i, d in enumerate(degree):\n",
    "    model = Pipeline([('poly', PolynomialFeatures(degree=d, include_bias=False)),\n",
    "                      ('linear', LinearRegression(fit_intercept=True))])\n",
    "    scores = cross_val_score(model, X_train, y_train, scoring=r2_scorer, cv=5)\n",
    "    val_scores[i] = np.mean(scores)\n",
    "\n",
    "# Identifies which is the best degree\n",
    "best_model_idx = np.argmax(val_scores)\n",
    "best_degree = degree[best_model_idx]\n",
    "# And the corresponding (best) validation score\n",
    "best_val_score = val_scores[best_model_idx]\n",
    "print(\"Best degree: \", best_degree,\n",
    "      \"\\nVal score: \", best_val_score)\n",
    "    \n",
    "    \n",
    "# Train again the Pipeline using the best parameter and the whole training set\n",
    "model = Pipeline([('poly', PolynomialFeatures(degree=best_degree, include_bias=False)),\n",
    "                  ('linear', LinearRegression(fit_intercept=True))])\n",
    "# Note: we train on X_train_small + X_val\n",
    "model = model.fit(np.concatenate([X_train]), np.concatenate([y_train]))\n",
    "y_predict = model.predict(X_test)\n",
    "test_score = r2_score(y_test, y_predict)\n",
    "\n",
    "print(\"Test score:\", test_score)"
   ]
  },
  {
   "cell_type": "code",
   "execution_count": 20,
   "id": "9f2bf659",
   "metadata": {},
   "outputs": [
    {
     "data": {
      "text/plain": [
       "<matplotlib.collections.PathCollection at 0x1d803558310>"
      ]
     },
     "execution_count": 20,
     "metadata": {},
     "output_type": "execute_result"
    },
    {
     "data": {
      "image/png": "[encoded data removed]",
      "text/plain": [
       "<Figure size 640x480 with 1 Axes>"
      ]
     },
     "metadata": {},
     "output_type": "display_data"
    },
    {
     "name": "stdout",
     "output_type": "stream",
     "text": [
      "Train R2 score  0.8634539292692086\n",
      "Train MSE score  0.0003125960071219233\n",
      "Test R2 score  0.85272883935813\n",
      "Test MSE score  0.0003539379274492473\n"
     ]
    }
   ],
   "source": [
    "residuals = y_test-y_predict\n",
    "plt.scatter(residuals,y_predict)\n",
    "plt.show()\n",
    "\n",
    "print(\"Train R2 score \", r2_score(y_train, y_predict_train))\n",
    "print(\"Train MSE score \", mean_squared_error(y_train, y_predict_train))\n",
    "\n",
    "print(\"Test R2 score \", r2_score(y_test, y_predict_test))\n",
    "print(\"Test MSE score \", mean_squared_error(y_test, y_predict_test))"
   ]
  },
  {
   "cell_type": "markdown",
   "id": "d0df386b",
   "metadata": {},
   "source": [
    "We also try to transform the response y into a log function:"
   ]
  },
  {
   "cell_type": "code",
   "execution_count": 29,
   "id": "c3d8a0dd",
   "metadata": {},
   "outputs": [
    {
     "name": "stdout",
     "output_type": "stream",
     "text": [
      "Test score: -7.666420146013209\n"
     ]
    }
   ],
   "source": [
    "# Train again the Pipeline using the best parameter and the whole training set\n",
    "model = Pipeline([('poly', PolynomialFeatures(degree=best_degree, include_bias=False)),\n",
    "                  ('linear', LinearRegression(fit_intercept=True))])\n",
    "# Note: we train on X_train_small + X_val\n",
    "model = model.fit(np.concatenate([X_train]), np.concatenate([np.sqrt(y_train)]))\n",
    "y_predict = model.predict(X_test)\n",
    "test_score = r2_score(y_test, y_predict)\n",
    "\n",
    "print(\"Test score:\", test_score)"
   ]
  }
 ],
 "metadata": {
  "kernelspec": {
   "display_name": "Python 3 (ipykernel)",
   "language": "python",
   "name": "python3"
  },
  "language_info": {
   "codemirror_mode": {
    "name": "ipython",
    "version": 3
   },
   "file_extension": ".py",
   "mimetype": "text/x-python",
   "name": "python",
   "nbconvert_exporter": "python",
   "pygments_lexer": "ipython3",
   "version": "3.9.13"
  }
 },
 "nbformat": 4,
 "nbformat_minor": 5
}
