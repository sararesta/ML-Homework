{
 "cells": [
  {
   "cell_type": "markdown",
   "id": "032be6f8",
   "metadata": {},
   "source": [
    "# ML Homework 2022\n",
    "Valentina Margiotta () \n",
    "Sara Resta (225418)"
   ]
  },
  {
   "cell_type": "code",
   "execution_count": 1,
   "id": "9cc0f0b8",
   "metadata": {},
   "outputs": [],
   "source": [
    "# Run this code to make Jupyter print every\n",
    "# printable statement and not just the last one\n",
    "from IPython.core.interactiveshell import InteractiveShell\n",
    "InteractiveShell.ast_node_interactivity = \"all\"\n",
    "import matplotlib.pyplot as plt\n",
    "import seaborn as sns\n",
    "import pandas as pd\n",
    "import numpy as np\n",
    "import sklearn\n",
    "import scipy\n",
    "from scipy.stats import t"
   ]
  },
  {
   "cell_type": "markdown",
   "id": "8934f8ea",
   "metadata": {},
   "source": [
    "Importing the datasets"
   ]
  },
  {
   "cell_type": "code",
   "execution_count": 3,
   "id": "6a27e3d9",
   "metadata": {
    "scrolled": false
   },
   "outputs": [
    {
     "data": {
      "text/html": [
       "<div>\n",
       "<style scoped>\n",
       "    .dataframe tbody tr th:only-of-type {\n",
       "        vertical-align: middle;\n",
       "    }\n",
       "\n",
       "    .dataframe tbody tr th {\n",
       "        vertical-align: top;\n",
       "    }\n",
       "\n",
       "    .dataframe thead th {\n",
       "        text-align: right;\n",
       "    }\n",
       "</style>\n",
       "<table border=\"1\" class=\"dataframe\">\n",
       "  <thead>\n",
       "    <tr style=\"text-align: right;\">\n",
       "      <th></th>\n",
       "      <th>Administrative</th>\n",
       "      <th>Administrative_Duration</th>\n",
       "      <th>Informational</th>\n",
       "      <th>Informational_Duration</th>\n",
       "      <th>ProductRelated</th>\n",
       "      <th>ProductRelated_Duration</th>\n",
       "      <th>BounceRates</th>\n",
       "      <th>ExitRates</th>\n",
       "      <th>PageValues</th>\n",
       "      <th>SpecialDay</th>\n",
       "      <th>Month</th>\n",
       "      <th>OperatingSystems</th>\n",
       "      <th>Browser</th>\n",
       "      <th>Region</th>\n",
       "      <th>TrafficType</th>\n",
       "      <th>VisitorType</th>\n",
       "      <th>Weekend</th>\n",
       "      <th>Revenue</th>\n",
       "    </tr>\n",
       "  </thead>\n",
       "  <tbody>\n",
       "    <tr>\n",
       "      <th>0</th>\n",
       "      <td>0</td>\n",
       "      <td>0.0</td>\n",
       "      <td>0</td>\n",
       "      <td>0.0</td>\n",
       "      <td>1</td>\n",
       "      <td>0.000000</td>\n",
       "      <td>0.20</td>\n",
       "      <td>0.20</td>\n",
       "      <td>0.0</td>\n",
       "      <td>0.0</td>\n",
       "      <td>Feb</td>\n",
       "      <td>1</td>\n",
       "      <td>1</td>\n",
       "      <td>1</td>\n",
       "      <td>1</td>\n",
       "      <td>Returning_Visitor</td>\n",
       "      <td>False</td>\n",
       "      <td>False</td>\n",
       "    </tr>\n",
       "    <tr>\n",
       "      <th>1</th>\n",
       "      <td>0</td>\n",
       "      <td>0.0</td>\n",
       "      <td>0</td>\n",
       "      <td>0.0</td>\n",
       "      <td>2</td>\n",
       "      <td>64.000000</td>\n",
       "      <td>0.00</td>\n",
       "      <td>0.10</td>\n",
       "      <td>0.0</td>\n",
       "      <td>0.0</td>\n",
       "      <td>Feb</td>\n",
       "      <td>2</td>\n",
       "      <td>2</td>\n",
       "      <td>1</td>\n",
       "      <td>2</td>\n",
       "      <td>Returning_Visitor</td>\n",
       "      <td>False</td>\n",
       "      <td>False</td>\n",
       "    </tr>\n",
       "    <tr>\n",
       "      <th>2</th>\n",
       "      <td>0</td>\n",
       "      <td>0.0</td>\n",
       "      <td>0</td>\n",
       "      <td>0.0</td>\n",
       "      <td>1</td>\n",
       "      <td>0.000000</td>\n",
       "      <td>0.20</td>\n",
       "      <td>0.20</td>\n",
       "      <td>0.0</td>\n",
       "      <td>0.0</td>\n",
       "      <td>Feb</td>\n",
       "      <td>4</td>\n",
       "      <td>1</td>\n",
       "      <td>9</td>\n",
       "      <td>3</td>\n",
       "      <td>Returning_Visitor</td>\n",
       "      <td>False</td>\n",
       "      <td>False</td>\n",
       "    </tr>\n",
       "    <tr>\n",
       "      <th>3</th>\n",
       "      <td>0</td>\n",
       "      <td>0.0</td>\n",
       "      <td>0</td>\n",
       "      <td>0.0</td>\n",
       "      <td>2</td>\n",
       "      <td>2.666667</td>\n",
       "      <td>0.05</td>\n",
       "      <td>0.14</td>\n",
       "      <td>0.0</td>\n",
       "      <td>0.0</td>\n",
       "      <td>Feb</td>\n",
       "      <td>3</td>\n",
       "      <td>2</td>\n",
       "      <td>2</td>\n",
       "      <td>4</td>\n",
       "      <td>Returning_Visitor</td>\n",
       "      <td>False</td>\n",
       "      <td>False</td>\n",
       "    </tr>\n",
       "    <tr>\n",
       "      <th>4</th>\n",
       "      <td>0</td>\n",
       "      <td>0.0</td>\n",
       "      <td>0</td>\n",
       "      <td>0.0</td>\n",
       "      <td>10</td>\n",
       "      <td>627.500000</td>\n",
       "      <td>0.02</td>\n",
       "      <td>0.05</td>\n",
       "      <td>0.0</td>\n",
       "      <td>0.0</td>\n",
       "      <td>Feb</td>\n",
       "      <td>3</td>\n",
       "      <td>3</td>\n",
       "      <td>1</td>\n",
       "      <td>4</td>\n",
       "      <td>Returning_Visitor</td>\n",
       "      <td>True</td>\n",
       "      <td>False</td>\n",
       "    </tr>\n",
       "  </tbody>\n",
       "</table>\n",
       "</div>"
      ],
      "text/plain": [
       "   Administrative  Administrative_Duration  Informational  \\\n",
       "0               0                      0.0              0   \n",
       "1               0                      0.0              0   \n",
       "2               0                      0.0              0   \n",
       "3               0                      0.0              0   \n",
       "4               0                      0.0              0   \n",
       "\n",
       "   Informational_Duration  ProductRelated  ProductRelated_Duration  \\\n",
       "0                     0.0               1                 0.000000   \n",
       "1                     0.0               2                64.000000   \n",
       "2                     0.0               1                 0.000000   \n",
       "3                     0.0               2                 2.666667   \n",
       "4                     0.0              10               627.500000   \n",
       "\n",
       "   BounceRates  ExitRates  PageValues  SpecialDay Month  OperatingSystems  \\\n",
       "0         0.20       0.20         0.0         0.0   Feb                 1   \n",
       "1         0.00       0.10         0.0         0.0   Feb                 2   \n",
       "2         0.20       0.20         0.0         0.0   Feb                 4   \n",
       "3         0.05       0.14         0.0         0.0   Feb                 3   \n",
       "4         0.02       0.05         0.0         0.0   Feb                 3   \n",
       "\n",
       "   Browser  Region  TrafficType        VisitorType  Weekend  Revenue  \n",
       "0        1       1            1  Returning_Visitor    False    False  \n",
       "1        2       1            2  Returning_Visitor    False    False  \n",
       "2        1       9            3  Returning_Visitor    False    False  \n",
       "3        2       2            4  Returning_Visitor    False    False  \n",
       "4        3       1            4  Returning_Visitor     True    False  "
      ]
     },
     "execution_count": 3,
     "metadata": {},
     "output_type": "execute_result"
    },
    {
     "data": {
      "text/html": [
       "<div>\n",
       "<style scoped>\n",
       "    .dataframe tbody tr th:only-of-type {\n",
       "        vertical-align: middle;\n",
       "    }\n",
       "\n",
       "    .dataframe tbody tr th {\n",
       "        vertical-align: top;\n",
       "    }\n",
       "\n",
       "    .dataframe thead th {\n",
       "        text-align: right;\n",
       "    }\n",
       "</style>\n",
       "<table border=\"1\" class=\"dataframe\">\n",
       "  <thead>\n",
       "    <tr style=\"text-align: right;\">\n",
       "      <th></th>\n",
       "      <th>Unnamed: 0</th>\n",
       "      <th>Administrative</th>\n",
       "      <th>Administrative_Duration</th>\n",
       "      <th>Informational</th>\n",
       "      <th>Informational_Duration</th>\n",
       "      <th>ProductRelated</th>\n",
       "      <th>ProductRelated_Duration</th>\n",
       "      <th>BounceRates</th>\n",
       "      <th>ExitRates</th>\n",
       "      <th>PageValues</th>\n",
       "      <th>SpecialDay</th>\n",
       "      <th>Month</th>\n",
       "      <th>OperatingSystems</th>\n",
       "      <th>Browser</th>\n",
       "      <th>Region</th>\n",
       "      <th>TrafficType</th>\n",
       "      <th>VisitorType</th>\n",
       "      <th>Weekend</th>\n",
       "      <th>Revenue</th>\n",
       "    </tr>\n",
       "  </thead>\n",
       "  <tbody>\n",
       "    <tr>\n",
       "      <th>0</th>\n",
       "      <td>3496</td>\n",
       "      <td>0</td>\n",
       "      <td>0.000000</td>\n",
       "      <td>0</td>\n",
       "      <td>0.0</td>\n",
       "      <td>5</td>\n",
       "      <td>19.000000</td>\n",
       "      <td>0.000000</td>\n",
       "      <td>0.080000</td>\n",
       "      <td>0.000000</td>\n",
       "      <td>0.6</td>\n",
       "      <td>May</td>\n",
       "      <td>2</td>\n",
       "      <td>2</td>\n",
       "      <td>1</td>\n",
       "      <td>3</td>\n",
       "      <td>Returning_Visitor</td>\n",
       "      <td>False</td>\n",
       "      <td>False</td>\n",
       "    </tr>\n",
       "    <tr>\n",
       "      <th>1</th>\n",
       "      <td>9415</td>\n",
       "      <td>5</td>\n",
       "      <td>158.700000</td>\n",
       "      <td>0</td>\n",
       "      <td>0.0</td>\n",
       "      <td>51</td>\n",
       "      <td>1364.266667</td>\n",
       "      <td>0.007692</td>\n",
       "      <td>0.011987</td>\n",
       "      <td>0.000000</td>\n",
       "      <td>0.0</td>\n",
       "      <td>Nov</td>\n",
       "      <td>3</td>\n",
       "      <td>2</td>\n",
       "      <td>3</td>\n",
       "      <td>2</td>\n",
       "      <td>Returning_Visitor</td>\n",
       "      <td>True</td>\n",
       "      <td>False</td>\n",
       "    </tr>\n",
       "    <tr>\n",
       "      <th>2</th>\n",
       "      <td>9419</td>\n",
       "      <td>7</td>\n",
       "      <td>87.916667</td>\n",
       "      <td>1</td>\n",
       "      <td>0.0</td>\n",
       "      <td>46</td>\n",
       "      <td>1621.025379</td>\n",
       "      <td>0.004082</td>\n",
       "      <td>0.020544</td>\n",
       "      <td>6.023523</td>\n",
       "      <td>0.0</td>\n",
       "      <td>Dec</td>\n",
       "      <td>1</td>\n",
       "      <td>1</td>\n",
       "      <td>3</td>\n",
       "      <td>2</td>\n",
       "      <td>Returning_Visitor</td>\n",
       "      <td>False</td>\n",
       "      <td>False</td>\n",
       "    </tr>\n",
       "    <tr>\n",
       "      <th>3</th>\n",
       "      <td>3837</td>\n",
       "      <td>1</td>\n",
       "      <td>4.000000</td>\n",
       "      <td>0</td>\n",
       "      <td>0.0</td>\n",
       "      <td>37</td>\n",
       "      <td>1296.942857</td>\n",
       "      <td>0.013889</td>\n",
       "      <td>NaN</td>\n",
       "      <td>0.000000</td>\n",
       "      <td>0.8</td>\n",
       "      <td>May</td>\n",
       "      <td>2</td>\n",
       "      <td>2</td>\n",
       "      <td>4</td>\n",
       "      <td>2</td>\n",
       "      <td>Returning_Visitor</td>\n",
       "      <td>False</td>\n",
       "      <td>False</td>\n",
       "    </tr>\n",
       "    <tr>\n",
       "      <th>4</th>\n",
       "      <td>7305</td>\n",
       "      <td>2</td>\n",
       "      <td>132.400000</td>\n",
       "      <td>0</td>\n",
       "      <td>0.0</td>\n",
       "      <td>11</td>\n",
       "      <td>296.300000</td>\n",
       "      <td>0.000000</td>\n",
       "      <td>NaN</td>\n",
       "      <td>0.000000</td>\n",
       "      <td>0.0</td>\n",
       "      <td>Sep</td>\n",
       "      <td>2</td>\n",
       "      <td>4</td>\n",
       "      <td>3</td>\n",
       "      <td>2</td>\n",
       "      <td>New_Visitor</td>\n",
       "      <td>False</td>\n",
       "      <td>False</td>\n",
       "    </tr>\n",
       "  </tbody>\n",
       "</table>\n",
       "</div>"
      ],
      "text/plain": [
       "   Unnamed: 0  Administrative  Administrative_Duration  Informational  \\\n",
       "0        3496               0                 0.000000              0   \n",
       "1        9415               5               158.700000              0   \n",
       "2        9419               7                87.916667              1   \n",
       "3        3837               1                 4.000000              0   \n",
       "4        7305               2               132.400000              0   \n",
       "\n",
       "   Informational_Duration  ProductRelated  ProductRelated_Duration  \\\n",
       "0                     0.0               5                19.000000   \n",
       "1                     0.0              51              1364.266667   \n",
       "2                     0.0              46              1621.025379   \n",
       "3                     0.0              37              1296.942857   \n",
       "4                     0.0              11               296.300000   \n",
       "\n",
       "   BounceRates  ExitRates  PageValues  SpecialDay Month  OperatingSystems  \\\n",
       "0     0.000000   0.080000    0.000000         0.6   May                 2   \n",
       "1     0.007692   0.011987    0.000000         0.0   Nov                 3   \n",
       "2     0.004082   0.020544    6.023523         0.0   Dec                 1   \n",
       "3     0.013889        NaN    0.000000         0.8   May                 2   \n",
       "4     0.000000        NaN    0.000000         0.0   Sep                 2   \n",
       "\n",
       "   Browser  Region  TrafficType        VisitorType  Weekend  Revenue  \n",
       "0        2       1            3  Returning_Visitor    False    False  \n",
       "1        2       3            2  Returning_Visitor     True    False  \n",
       "2        1       3            2  Returning_Visitor    False    False  \n",
       "3        2       4            2  Returning_Visitor    False    False  \n",
       "4        4       3            2        New_Visitor    False    False  "
      ]
     },
     "execution_count": 3,
     "metadata": {},
     "output_type": "execute_result"
    }
   ],
   "source": [
    "online_shoppers = pd.read_csv(\"data/online_shoppers_intention.csv\")\n",
    "training_set = pd.read_csv(\"data/training_set_online_shoppers_intention.csv\")\n",
    "test_set = pd.read_csv(\"data/test_set_online_shoppers_intention.csv\")\n",
    "online_shoppers.head()\n",
    "training_set.head()"
   ]
  },
  {
   "cell_type": "markdown",
   "id": "f460f48b",
   "metadata": {},
   "source": [
    "Assign \"categorical\" to type of variables which are considered like that, so that they cannot be considered as \"numeric\""
   ]
  },
  {
   "cell_type": "code",
   "execution_count": 4,
   "id": "893fcc9e",
   "metadata": {},
   "outputs": [],
   "source": [
    "online_shoppers['Month']=online_shoppers['Month'].astype('category')\n",
    "online_shoppers['OperatingSystems']=online_shoppers['OperatingSystems'].astype('category')\n",
    "online_shoppers['Browser']=online_shoppers['Browser'].astype('category')\n",
    "online_shoppers['Region']=online_shoppers['Region'].astype('category')\n",
    "online_shoppers['TrafficType']=online_shoppers['TrafficType'].astype('category')\n",
    "online_shoppers['VisitorType']=online_shoppers['VisitorType'].astype('category')\n",
    "online_shoppers['Weekend']=online_shoppers['Weekend'].astype('category')"
   ]
  },
  {
   "cell_type": "markdown",
   "id": "c380cbaa",
   "metadata": {},
   "source": [
    "# 1. Dataset inspection and regression"
   ]
  },
  {
   "cell_type": "markdown",
   "id": "8d4400c6",
   "metadata": {},
   "source": [
    "## 1.1 Dataset inspection"
   ]
  },
  {
   "cell_type": "markdown",
   "id": "ccb6f775",
   "metadata": {},
   "source": [
    "First of all, we do some visual inspection on our data."
   ]
  },
  {
   "cell_type": "code",
   "execution_count": 16,
   "id": "c7e6dff4",
   "metadata": {
    "scrolled": true
   },
   "outputs": [
    {
     "data": {
      "text/plain": [
       "<AxesSubplot:xlabel='Month'>"
      ]
     },
     "execution_count": 16,
     "metadata": {},
     "output_type": "execute_result"
    },
    {
     "data": {
      "image/png": "[encoded data removed]",
      "text/plain": [
       "<Figure size 640x480 with 1 Axes>"
      ]
     },
     "metadata": {},
     "output_type": "display_data"
    }
   ],
   "source": [
    "# Month --> categorical\n",
    "#online_shoppers['Month'].unique() # 10 categories\n",
    "df = pd.DataFrame({'Month':list(online_shoppers['Month'].value_counts().index), \n",
    "                   'counts':list(online_shoppers['Month'].value_counts().values)})\n",
    "df.plot.bar(x='Month', y='counts', rot=0)"
   ]
  },
  {
   "cell_type": "code",
   "execution_count": 1,
   "id": "e0bd3c68",
   "metadata": {
    "scrolled": true
   },
   "outputs": [
    {
     "ename": "NameError",
     "evalue": "name 'online_shoppers' is not defined",
     "output_type": "error",
     "traceback": [
      "\u001b[1;31m---------------------------------------------------------------------------\u001b[0m",
      "\u001b[1;31mNameError\u001b[0m                                 Traceback (most recent call last)",
      "\u001b[1;32m~\\AppData\\Local\\Temp\\ipykernel_21440\\3618566755.py\u001b[0m in \u001b[0;36m<module>\u001b[1;34m\u001b[0m\n\u001b[0;32m      1\u001b[0m \u001b[1;31m# OperatingSystems --> categorical\u001b[0m\u001b[1;33m\u001b[0m\u001b[1;33m\u001b[0m\u001b[0m\n\u001b[1;32m----> 2\u001b[1;33m \u001b[0monline_shoppers\u001b[0m\u001b[1;33m[\u001b[0m\u001b[1;34m'OperatingSystems'\u001b[0m\u001b[1;33m]\u001b[0m\u001b[1;33m.\u001b[0m\u001b[0munique\u001b[0m\u001b[1;33m(\u001b[0m\u001b[1;33m)\u001b[0m \u001b[1;31m# 8 categories\u001b[0m\u001b[1;33m\u001b[0m\u001b[1;33m\u001b[0m\u001b[0m\n\u001b[0m\u001b[0;32m      3\u001b[0m \u001b[0monline_shoppers\u001b[0m\u001b[1;33m[\u001b[0m\u001b[1;34m'OperatingSystems'\u001b[0m\u001b[1;33m]\u001b[0m\u001b[1;33m.\u001b[0m\u001b[0mvalue_counts\u001b[0m\u001b[1;33m(\u001b[0m\u001b[1;33m)\u001b[0m\u001b[1;33m\u001b[0m\u001b[1;33m\u001b[0m\u001b[0m\n\u001b[0;32m      4\u001b[0m df = pd.DataFrame({'Operating system':list(online_shoppers['OperatingSystems'].value_counts().index), \n\u001b[0;32m      5\u001b[0m                    'counts':list(online_shoppers['OperatingSystems'].value_counts().values)})\n",
      "\u001b[1;31mNameError\u001b[0m: name 'online_shoppers' is not defined"
     ]
    }
   ],
   "source": [
    "# OperatingSystems --> categorical\n",
    "online_shoppers['OperatingSystems'].unique() # 8 categories\n",
    "online_shoppers['OperatingSystems'].value_counts()\n",
    "df = pd.DataFrame({'Operating system':list(online_shoppers['OperatingSystems'].value_counts().index), \n",
    "                   'counts':list(online_shoppers['OperatingSystems'].value_counts().values)})\n",
    "df.plot.bar(x='Operating system', y='counts', rot=0)"
   ]
  },
  {
   "cell_type": "code",
   "execution_count": null,
   "id": "b776dcc9",
   "metadata": {
    "scrolled": true
   },
   "outputs": [],
   "source": [
    "# Browser --> categorical\n",
    "online_shoppers['Browser'].unique() # 13 categories\n",
    "online_shoppers['Browser'].value_counts()\n",
    "df = pd.DataFrame({'Browser':list(online_shoppers['Browser'].value_counts().index), \n",
    "                   'counts':list(online_shoppers['Browser'].value_counts().values)})\n",
    "df.plot.bar(x='Browser', y='counts', rot=0)"
   ]
  },
  {
   "cell_type": "code",
   "execution_count": null,
   "id": "bb18adfa",
   "metadata": {
    "scrolled": true
   },
   "outputs": [],
   "source": [
    "# Region --> categorical\n",
    "online_shoppers['Region'].unique() # 9 categories\n",
    "online_shoppers['Region'].value_counts()\n",
    "df = pd.DataFrame({'Region':list(online_shoppers['Region'].value_counts().index), \n",
    "                   'counts':list(online_shoppers['Region'].value_counts().values)})\n",
    "df.plot.bar(x='Region', y='counts', rot=0)"
   ]
  },
  {
   "cell_type": "code",
   "execution_count": 17,
   "id": "08eb4b93",
   "metadata": {
    "scrolled": true
   },
   "outputs": [
    {
     "data": {
      "text/plain": [
       "[1, 2, 3, 4, 5, ..., 18, 19, 16, 17, 20]\n",
       "Length: 20\n",
       "Categories (20, int64): [1, 2, 3, 4, ..., 17, 18, 19, 20]"
      ]
     },
     "execution_count": 17,
     "metadata": {},
     "output_type": "execute_result"
    },
    {
     "data": {
      "text/plain": [
       "2     3913\n",
       "1     2451\n",
       "3     2052\n",
       "4     1069\n",
       "13     738\n",
       "10     450\n",
       "6      444\n",
       "8      343\n",
       "5      260\n",
       "11     247\n",
       "20     198\n",
       "9       42\n",
       "7       40\n",
       "15      38\n",
       "19      17\n",
       "14      13\n",
       "18      10\n",
       "16       3\n",
       "12       1\n",
       "17       1\n",
       "Name: TrafficType, dtype: int64"
      ]
     },
     "execution_count": 17,
     "metadata": {},
     "output_type": "execute_result"
    },
    {
     "data": {
      "text/plain": [
       "<AxesSubplot:xlabel='Traffic type'>"
      ]
     },
     "execution_count": 17,
     "metadata": {},
     "output_type": "execute_result"
    },
    {
     "data": {
      "image/png": "[encoded data removed]",
      "text/plain": [
       "<Figure size 640x480 with 1 Axes>"
      ]
     },
     "metadata": {},
     "output_type": "display_data"
    }
   ],
   "source": [
    "# TrafficType --> categorical\n",
    "online_shoppers['TrafficType'].unique() # 20 categories\n",
    "online_shoppers['TrafficType'].value_counts()\n",
    "df = pd.DataFrame({'Traffic type':list(online_shoppers['TrafficType'].value_counts().index), \n",
    "                   'counts':list(online_shoppers['TrafficType'].value_counts().values)})\n",
    "df.plot.bar(x='Traffic type', y='counts', rot=0)"
   ]
  },
  {
   "cell_type": "code",
   "execution_count": null,
   "id": "05dbc60c",
   "metadata": {
    "scrolled": true
   },
   "outputs": [],
   "source": [
    "# VisitorType --> categorical\n",
    "online_shoppers['VisitorType'].unique() # 3 categories\n",
    "online_shoppers['VisitorType'].value_counts()\n",
    "df_bar = pd.DataFrame({'Visitor type':list(online_shoppers['VisitorType'].value_counts().index), \n",
    "                       'counts':list(online_shoppers['VisitorType'].value_counts().values)})\n",
    "df_bar.plot.bar(x='Visitor type', y='counts', rot=0)\n",
    "df_pie = pd.DataFrame({'Visitor type': list(online_shoppers['VisitorType'].value_counts().values)},\n",
    "                  index=list(online_shoppers['VisitorType'].value_counts().index))\n",
    "df_pie.plot.pie(y='Visitor type', figsize=(5, 5))"
   ]
  },
  {
   "cell_type": "code",
   "execution_count": null,
   "id": "8dfbd390",
   "metadata": {
    "scrolled": true
   },
   "outputs": [],
   "source": [
    "# Weekend --> categorical\n",
    "online_shoppers['Weekend'].unique() # 2 categories (binary)\n",
    "online_shoppers['Weekend'].value_counts()\n",
    "df_bar = pd.DataFrame({'Weekend':list(online_shoppers['Weekend'].value_counts().index), \n",
    "                       'counts':list(online_shoppers['Weekend'].value_counts().values)})\n",
    "df_bar.plot.bar(x='Weekend', y='counts', rot=0)\n",
    "df_pie = pd.DataFrame({'Weekend': list(online_shoppers['Weekend'].value_counts().values)},\n",
    "                  index=list(online_shoppers['Weekend'].value_counts().index))\n",
    "df_pie.plot.pie(y='Weekend', figsize=(5, 5))"
   ]
  },
  {
   "cell_type": "code",
   "execution_count": null,
   "id": "b453b584",
   "metadata": {},
   "outputs": [],
   "source": [
    "df = pd.DataFrame({'Administrative':online_shoppers['Administrative'],\n",
    "                   'Administrative_Duration':online_shoppers['Administrative_Duration'],\n",
    "                   'Informational':online_shoppers['Informational'],\n",
    "                   'Informational_Duration':online_shoppers['Informational_Duration'],\n",
    "                   'ProductRelated':online_shoppers['ProductRelated'], \n",
    "                   'ProductRelated_Duration':online_shoppers['ProductRelated_Duration'],\n",
    "                   'BounceRates':online_shoppers['BounceRates'], \n",
    "                   'ExitRates':online_shoppers['ExitRates'],\n",
    "                   'PageValues':online_shoppers['PageValues'], \n",
    "                   'SpecialDay':online_shoppers['SpecialDay']}) \n",
    "df.describe()"
   ]
  },
  {
   "cell_type": "code",
   "execution_count": null,
   "id": "55e4ad69",
   "metadata": {
    "scrolled": true
   },
   "outputs": [],
   "source": [
    "df = pd.DataFrame({'Administrative':online_shoppers['Administrative'], \n",
    "                   'Informational':online_shoppers['Informational'],\n",
    "                   'ProductRelated':online_shoppers['ProductRelated']}) \n",
    "df.describe()\n",
    "# Administrative --> continue\n",
    "sns.boxplot(data=df['Administrative'], orient='v', fliersize = 0)\n",
    "plt.ylim(-1, 15)\n",
    "# toglie fliersize nel boxplot per visualizzare gli outliers"
   ]
  },
  {
   "cell_type": "code",
   "execution_count": null,
   "id": "45109f82",
   "metadata": {
    "scrolled": true
   },
   "outputs": [],
   "source": [
    "# Informational --> continue\n",
    "sns.boxplot(data=df['Informational'], orient='v', fliersize = 0)\n",
    "plt.ylim(-1, 5)"
   ]
  },
  {
   "cell_type": "code",
   "execution_count": null,
   "id": "56642efd",
   "metadata": {
    "scrolled": true
   },
   "outputs": [],
   "source": [
    "# ProductRelated --> continue\n",
    "sns.boxplot(data=df['ProductRelated'], orient='v', fliersize = 0)\n",
    "plt.ylim(-1, 100)"
   ]
  },
  {
   "cell_type": "code",
   "execution_count": null,
   "id": "299529fa",
   "metadata": {
    "scrolled": true
   },
   "outputs": [],
   "source": [
    "sns.boxplot(data=df, orient='v', fliersize = 0)\n",
    "plt.ylim(-10, 100)"
   ]
  },
  {
   "cell_type": "code",
   "execution_count": null,
   "id": "a8ba68b5",
   "metadata": {
    "scrolled": true
   },
   "outputs": [],
   "source": [
    "df = pd.DataFrame({'Administrative_Duration':online_shoppers['Administrative_Duration'], \n",
    "                   'Informational_Duration':online_shoppers['Informational_Duration'],\n",
    "                   'ProductRelated_Duration':online_shoppers['ProductRelated_Duration']}) \n",
    "df.describe()\n",
    "# Administrative_Duration --> continue\n",
    "sns.boxplot(data=df['Administrative_Duration'], orient='v', fliersize = 0)\n",
    "plt.ylim(-10, 300)"
   ]
  },
  {
   "cell_type": "code",
   "execution_count": null,
   "id": "b51cd9fe",
   "metadata": {
    "scrolled": true
   },
   "outputs": [],
   "source": [
    "# Informational_Duration --> continue\n",
    "sns.boxplot(data=df['Informational_Duration'], orient='v', fliersize = 0)\n",
    "plt.ylim(-1, 5)"
   ]
  },
  {
   "cell_type": "code",
   "execution_count": null,
   "id": "6a6109d2",
   "metadata": {
    "scrolled": true
   },
   "outputs": [],
   "source": [
    "# ProductRelated_Duration --> continue\n",
    "sns.boxplot(data=df['ProductRelated_Duration'], orient='v', fliersize = 0)\n",
    "plt.ylim(-100, 4000)"
   ]
  },
  {
   "cell_type": "code",
   "execution_count": null,
   "id": "f62de582",
   "metadata": {
    "scrolled": true
   },
   "outputs": [],
   "source": [
    "sns.boxplot(data=df, orient='v', fliersize = 0)\n",
    "plt.ylim(-100, 4000)"
   ]
  },
  {
   "cell_type": "code",
   "execution_count": null,
   "id": "c42df317",
   "metadata": {
    "scrolled": true
   },
   "outputs": [],
   "source": [
    "df = pd.DataFrame({'BounceRates':online_shoppers['BounceRates'], \n",
    "                   'ExitRates':online_shoppers['ExitRates']}) \n",
    "df.describe()\n",
    "# BounceRates and ExitRates --> continues\n",
    "sns.boxplot(data=df[['BounceRates', 'ExitRates']], orient='v', fliersize=0)\n",
    "plt.ylim(-1, 5)"
   ]
  },
  {
   "cell_type": "code",
   "execution_count": null,
   "id": "28abb490",
   "metadata": {
    "scrolled": true
   },
   "outputs": [],
   "source": [
    "# PageValues --> continue\n",
    "online_shoppers['PageValues'].describe()\n",
    "sns.boxplot(data=online_shoppers['PageValues'], orient='v', fliersize=0)\n",
    "plt.ylim(-1, 5)"
   ]
  },
  {
   "cell_type": "code",
   "execution_count": null,
   "id": "f26010a5",
   "metadata": {
    "scrolled": true
   },
   "outputs": [],
   "source": [
    "# SpecialDay --> continue\n",
    "online_shoppers['SpecialDay'].describe()\n",
    "sns.boxplot(data=online_shoppers['SpecialDay'], orient='v', fliersize=0)\n",
    "plt.ylim(-1, 5)"
   ]
  },
  {
   "cell_type": "markdown",
   "id": "cfe30208",
   "metadata": {},
   "source": [
    "We want to know which are the most correlated variables with the target class and if there is any correlation between the variables.\n",
    "We start considering if there is a correlation between some variables"
   ]
  },
  {
   "cell_type": "markdown",
   "id": "3cdce7b0",
   "metadata": {},
   "source": [
    "We firstly check if there is any correlation printing the heatmap to see if there is any correlation between the dataset features. The most correlated variables are:\n",
    "* Administrative, Administrative_Duration\n",
    "* Informational, Informational_Duration\n",
    "* ProductRelated, ProductRelated_Duration\n",
    "* BounceRates (% of visitors that leave the website without viewing any other page), ExitRates (% of visitors that leave the website from that page without purchasing)"
   ]
  },
  {
   "cell_type": "code",
   "execution_count": null,
   "id": "88458c97",
   "metadata": {
    "scrolled": false
   },
   "outputs": [],
   "source": [
    "sns.heatmap(online_shoppers.corr())"
   ]
  },
  {
   "cell_type": "markdown",
   "id": "c7c40445",
   "metadata": {},
   "source": [
    "Now we print a scatterplot for the pairs of variables for which we found a correlation"
   ]
  },
  {
   "cell_type": "code",
   "execution_count": null,
   "id": "28c8b5b2",
   "metadata": {},
   "outputs": [],
   "source": [
    "online_shoppers.plot.scatter('Administrative','Administrative_Duration')\n",
    "online_shoppers.plot.scatter('Informational','Informational_Duration')\n",
    "online_shoppers.plot.scatter('ProductRelated','ProductRelated_Duration')\n",
    "online_shoppers.plot.scatter('BounceRates','ExitRates')"
   ]
  },
  {
   "cell_type": "markdown",
   "id": "64903c37",
   "metadata": {},
   "source": [
    "## 1.2 Regression"
   ]
  },
  {
   "cell_type": "code",
   "execution_count": 7,
   "id": "54555dbc",
   "metadata": {},
   "outputs": [],
   "source": [
    "# split the training set to separate the rows with missing values\n",
    "mask = training_set['ExitRates'].isna()\n",
    "training_set_missing = training_set[mask]\n",
    "#training_set_missing.head()\n",
    "training_set_no_missing = training_set[mask==False]\n",
    "#training_set_no_missing.head()\n",
    "training_set_no_missing = training_set_no_missing.drop('Unnamed: 0', axis=1)\n",
    "training_set_missing = training_set_missing.drop('Unnamed: 0', axis=1)\n",
    "\n"
   ]
  },
  {
   "cell_type": "code",
   "execution_count": 13,
   "id": "b788ad76",
   "metadata": {},
   "outputs": [],
   "source": [
    "# Split the features of the dataset\n",
    "X_all_features = ['Administrative', 'Administrative_Duration', 'Informational',\n",
    "            'Informational_Duration', 'ProductRelated', 'ProductRelated_Duration',\n",
    "            'BounceRates','PageValues','SpecialDay','Month','OperatingSystems','Browser','Region',\n",
    "                 'TrafficType','VisitorType','Weekend']\n",
    "X = training_set_no_missing[X_all_features].to_numpy()\n",
    "y = training_set_no_missing['ExitRates'].to_numpy()"
   ]
  },
  {
   "cell_type": "code",
   "execution_count": 15,
   "id": "2cad4f20",
   "metadata": {},
   "outputs": [
    {
     "ename": "ValueError",
     "evalue": "could not convert string to float: 'May'",
     "output_type": "error",
     "traceback": [
      "\u001b[1;31m---------------------------------------------------------------------------\u001b[0m",
      "\u001b[1;31mValueError\u001b[0m                                Traceback (most recent call last)",
      "\u001b[1;32m~\\AppData\\Local\\Temp\\ipykernel_25296\\3820535072.py\u001b[0m in \u001b[0;36m<module>\u001b[1;34m\u001b[0m\n\u001b[0;32m      3\u001b[0m \u001b[1;31m# Fit the LinearRegression predictor\u001b[0m\u001b[1;33m\u001b[0m\u001b[1;33m\u001b[0m\u001b[0m\n\u001b[0;32m      4\u001b[0m \u001b[0mmodel\u001b[0m \u001b[1;33m=\u001b[0m \u001b[0mLinearRegression\u001b[0m\u001b[1;33m(\u001b[0m\u001b[0mfit_intercept\u001b[0m\u001b[1;33m=\u001b[0m\u001b[1;32mTrue\u001b[0m\u001b[1;33m)\u001b[0m \u001b[1;31m# 1- hyperparams selection\u001b[0m\u001b[1;33m\u001b[0m\u001b[1;33m\u001b[0m\u001b[0m\n\u001b[1;32m----> 5\u001b[1;33m \u001b[0mmodel\u001b[0m \u001b[1;33m=\u001b[0m \u001b[0mmodel\u001b[0m\u001b[1;33m.\u001b[0m\u001b[0mfit\u001b[0m\u001b[1;33m(\u001b[0m\u001b[0mX\u001b[0m\u001b[1;33m,\u001b[0m \u001b[0my\u001b[0m\u001b[1;33m)\u001b[0m          \u001b[1;31m# 2- model fitting\u001b[0m\u001b[1;33m\u001b[0m\u001b[1;33m\u001b[0m\u001b[0m\n\u001b[0m\u001b[0;32m      6\u001b[0m \u001b[1;31m#y_predict_test = model.predict(X_test)       # 3- prediction\u001b[0m\u001b[1;33m\u001b[0m\u001b[1;33m\u001b[0m\u001b[0m\n\u001b[0;32m      7\u001b[0m \u001b[1;31m#y_predict_train = model.predict(X_train)\u001b[0m\u001b[1;33m\u001b[0m\u001b[1;33m\u001b[0m\u001b[0m\n",
      "\u001b[1;32m~\\anaconda3\\lib\\site-packages\\sklearn\\linear_model\\_base.py\u001b[0m in \u001b[0;36mfit\u001b[1;34m(self, X, y, sample_weight)\u001b[0m\n\u001b[0;32m    660\u001b[0m         \u001b[0maccept_sparse\u001b[0m \u001b[1;33m=\u001b[0m \u001b[1;32mFalse\u001b[0m \u001b[1;32mif\u001b[0m \u001b[0mself\u001b[0m\u001b[1;33m.\u001b[0m\u001b[0mpositive\u001b[0m \u001b[1;32melse\u001b[0m \u001b[1;33m[\u001b[0m\u001b[1;34m\"csr\"\u001b[0m\u001b[1;33m,\u001b[0m \u001b[1;34m\"csc\"\u001b[0m\u001b[1;33m,\u001b[0m \u001b[1;34m\"coo\"\u001b[0m\u001b[1;33m]\u001b[0m\u001b[1;33m\u001b[0m\u001b[1;33m\u001b[0m\u001b[0m\n\u001b[0;32m    661\u001b[0m \u001b[1;33m\u001b[0m\u001b[0m\n\u001b[1;32m--> 662\u001b[1;33m         X, y = self._validate_data(\n\u001b[0m\u001b[0;32m    663\u001b[0m             \u001b[0mX\u001b[0m\u001b[1;33m,\u001b[0m \u001b[0my\u001b[0m\u001b[1;33m,\u001b[0m \u001b[0maccept_sparse\u001b[0m\u001b[1;33m=\u001b[0m\u001b[0maccept_sparse\u001b[0m\u001b[1;33m,\u001b[0m \u001b[0my_numeric\u001b[0m\u001b[1;33m=\u001b[0m\u001b[1;32mTrue\u001b[0m\u001b[1;33m,\u001b[0m \u001b[0mmulti_output\u001b[0m\u001b[1;33m=\u001b[0m\u001b[1;32mTrue\u001b[0m\u001b[1;33m\u001b[0m\u001b[1;33m\u001b[0m\u001b[0m\n\u001b[0;32m    664\u001b[0m         )\n",
      "\u001b[1;32m~\\anaconda3\\lib\\site-packages\\sklearn\\base.py\u001b[0m in \u001b[0;36m_validate_data\u001b[1;34m(self, X, y, reset, validate_separately, **check_params)\u001b[0m\n\u001b[0;32m    579\u001b[0m                 \u001b[0my\u001b[0m \u001b[1;33m=\u001b[0m \u001b[0mcheck_array\u001b[0m\u001b[1;33m(\u001b[0m\u001b[0my\u001b[0m\u001b[1;33m,\u001b[0m \u001b[1;33m**\u001b[0m\u001b[0mcheck_y_params\u001b[0m\u001b[1;33m)\u001b[0m\u001b[1;33m\u001b[0m\u001b[1;33m\u001b[0m\u001b[0m\n\u001b[0;32m    580\u001b[0m             \u001b[1;32melse\u001b[0m\u001b[1;33m:\u001b[0m\u001b[1;33m\u001b[0m\u001b[1;33m\u001b[0m\u001b[0m\n\u001b[1;32m--> 581\u001b[1;33m                 \u001b[0mX\u001b[0m\u001b[1;33m,\u001b[0m \u001b[0my\u001b[0m \u001b[1;33m=\u001b[0m \u001b[0mcheck_X_y\u001b[0m\u001b[1;33m(\u001b[0m\u001b[0mX\u001b[0m\u001b[1;33m,\u001b[0m \u001b[0my\u001b[0m\u001b[1;33m,\u001b[0m \u001b[1;33m**\u001b[0m\u001b[0mcheck_params\u001b[0m\u001b[1;33m)\u001b[0m\u001b[1;33m\u001b[0m\u001b[1;33m\u001b[0m\u001b[0m\n\u001b[0m\u001b[0;32m    582\u001b[0m             \u001b[0mout\u001b[0m \u001b[1;33m=\u001b[0m \u001b[0mX\u001b[0m\u001b[1;33m,\u001b[0m \u001b[0my\u001b[0m\u001b[1;33m\u001b[0m\u001b[1;33m\u001b[0m\u001b[0m\n\u001b[0;32m    583\u001b[0m \u001b[1;33m\u001b[0m\u001b[0m\n",
      "\u001b[1;32m~\\anaconda3\\lib\\site-packages\\sklearn\\utils\\validation.py\u001b[0m in \u001b[0;36mcheck_X_y\u001b[1;34m(X, y, accept_sparse, accept_large_sparse, dtype, order, copy, force_all_finite, ensure_2d, allow_nd, multi_output, ensure_min_samples, ensure_min_features, y_numeric, estimator)\u001b[0m\n\u001b[0;32m    962\u001b[0m         \u001b[1;32mraise\u001b[0m \u001b[0mValueError\u001b[0m\u001b[1;33m(\u001b[0m\u001b[1;34m\"y cannot be None\"\u001b[0m\u001b[1;33m)\u001b[0m\u001b[1;33m\u001b[0m\u001b[1;33m\u001b[0m\u001b[0m\n\u001b[0;32m    963\u001b[0m \u001b[1;33m\u001b[0m\u001b[0m\n\u001b[1;32m--> 964\u001b[1;33m     X = check_array(\n\u001b[0m\u001b[0;32m    965\u001b[0m         \u001b[0mX\u001b[0m\u001b[1;33m,\u001b[0m\u001b[1;33m\u001b[0m\u001b[1;33m\u001b[0m\u001b[0m\n\u001b[0;32m    966\u001b[0m         \u001b[0maccept_sparse\u001b[0m\u001b[1;33m=\u001b[0m\u001b[0maccept_sparse\u001b[0m\u001b[1;33m,\u001b[0m\u001b[1;33m\u001b[0m\u001b[1;33m\u001b[0m\u001b[0m\n",
      "\u001b[1;32m~\\anaconda3\\lib\\site-packages\\sklearn\\utils\\validation.py\u001b[0m in \u001b[0;36mcheck_array\u001b[1;34m(array, accept_sparse, accept_large_sparse, dtype, order, copy, force_all_finite, ensure_2d, allow_nd, ensure_min_samples, ensure_min_features, estimator)\u001b[0m\n\u001b[0;32m    744\u001b[0m                     \u001b[0marray\u001b[0m \u001b[1;33m=\u001b[0m \u001b[0marray\u001b[0m\u001b[1;33m.\u001b[0m\u001b[0mastype\u001b[0m\u001b[1;33m(\u001b[0m\u001b[0mdtype\u001b[0m\u001b[1;33m,\u001b[0m \u001b[0mcasting\u001b[0m\u001b[1;33m=\u001b[0m\u001b[1;34m\"unsafe\"\u001b[0m\u001b[1;33m,\u001b[0m \u001b[0mcopy\u001b[0m\u001b[1;33m=\u001b[0m\u001b[1;32mFalse\u001b[0m\u001b[1;33m)\u001b[0m\u001b[1;33m\u001b[0m\u001b[1;33m\u001b[0m\u001b[0m\n\u001b[0;32m    745\u001b[0m                 \u001b[1;32melse\u001b[0m\u001b[1;33m:\u001b[0m\u001b[1;33m\u001b[0m\u001b[1;33m\u001b[0m\u001b[0m\n\u001b[1;32m--> 746\u001b[1;33m                     \u001b[0marray\u001b[0m \u001b[1;33m=\u001b[0m \u001b[0mnp\u001b[0m\u001b[1;33m.\u001b[0m\u001b[0masarray\u001b[0m\u001b[1;33m(\u001b[0m\u001b[0marray\u001b[0m\u001b[1;33m,\u001b[0m \u001b[0morder\u001b[0m\u001b[1;33m=\u001b[0m\u001b[0morder\u001b[0m\u001b[1;33m,\u001b[0m \u001b[0mdtype\u001b[0m\u001b[1;33m=\u001b[0m\u001b[0mdtype\u001b[0m\u001b[1;33m)\u001b[0m\u001b[1;33m\u001b[0m\u001b[1;33m\u001b[0m\u001b[0m\n\u001b[0m\u001b[0;32m    747\u001b[0m             \u001b[1;32mexcept\u001b[0m \u001b[0mComplexWarning\u001b[0m \u001b[1;32mas\u001b[0m \u001b[0mcomplex_warning\u001b[0m\u001b[1;33m:\u001b[0m\u001b[1;33m\u001b[0m\u001b[1;33m\u001b[0m\u001b[0m\n\u001b[0;32m    748\u001b[0m                 raise ValueError(\n",
      "\u001b[1;31mValueError\u001b[0m: could not convert string to float: 'May'"
     ]
    }
   ],
   "source": [
    "from sklearn.linear_model import LinearRegression\n",
    "\n",
    "# Fit the LinearRegression predictor\n",
    "model = LinearRegression(fit_intercept=True) # 1- hyperparams selection\n",
    "model = model.fit(X, y)          # 2- model fitting\n",
    "#y_predict_test = model.predict(X_test)       # 3- prediction\n",
    "#y_predict_train = model.predict(X_train)\n",
    "\n",
    "\n",
    "print(\"Train R2 score \", r2_score(y_train, y_predict_train))\n",
    "print(\"Train MSE score \", mean_squared_error(y_train, y_predict_train))\n",
    "betas = np.array([model.intercept_, *model.coef_]).reshape(-1, 1)\n",
    "show_stats(X, y, betas, ['Intercept', *X_all_features], alpha=0.001)"
   ]
  }
 ],
 "metadata": {
  "kernelspec": {
   "display_name": "Python 3 (ipykernel)",
   "language": "python",
   "name": "python3"
  },
  "language_info": {
   "codemirror_mode": {
    "name": "ipython",
    "version": 3
   },
   "file_extension": ".py",
   "mimetype": "text/x-python",
   "name": "python",
   "nbconvert_exporter": "python",
   "pygments_lexer": "ipython3",
   "version": "3.9.13"
  }
 },
 "nbformat": 4,
 "nbformat_minor": 5
}
