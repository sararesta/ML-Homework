{
 "cells": [
  {
   "cell_type": "markdown",
   "id": "9475290a",
   "metadata": {},
   "source": [
    "# 3. Clustering"
   ]
  },
  {
   "cell_type": "code",
   "execution_count": 1,
   "id": "ae8c5103",
   "metadata": {},
   "outputs": [],
   "source": [
    "# Run this code to make Jupyter print every\n",
    "# printable statement and not just the last one\n",
    "from IPython.core.interactiveshell import InteractiveShell\n",
    "InteractiveShell.ast_node_interactivity = \"all\"\n",
    "\n",
    "# To visualize the data\n",
    "import matplotlib.pyplot as plt\n",
    "\n",
    "# Generic libraries\n",
    "import seaborn as sns\n",
    "import pandas as pd\n",
    "import numpy as np\n",
    "\n",
    "# Regression models\n",
    "import sklearn\n",
    "import scipy\n",
    "from scipy.stats import *\n",
    "import sklearn\n",
    "from sklearn.model_selection import train_test_split, GridSearchCV #split the data into training and test\n",
    "from sklearn.linear_model import LinearRegression #linear regression\n",
    "from sklearn.preprocessing import PolynomialFeatures #for polynomial regression\n",
    "from sklearn.metrics import r2_score, mean_squared_error\n",
    "\n",
    "# 5-folds crossvalidation\n",
    "from sklearn.model_selection import cross_val_score\n",
    "from sklearn.metrics import make_scorer, classification_report\n",
    "from sklearn.pipeline import Pipeline\n",
    "\n",
    "#classification\n",
    "from sklearn.linear_model import LogisticRegression\n",
    "from sklearn.discriminant_analysis import LinearDiscriminantAnalysis as LDA\n",
    "from sklearn.discriminant_analysis import QuadraticDiscriminantAnalysis as QDA\n",
    "from sklearn.neighbors import KNeighborsClassifier "
   ]
  },
  {
   "cell_type": "code",
   "execution_count": 5,
   "id": "2a967eeb",
   "metadata": {},
   "outputs": [],
   "source": [
    "# Libraries specific for clustering\n",
    "import matplotlib.colors as mcolors\n",
    "import random\n",
    "from sklearn.datasets import load_digits\n",
    "from sklearn.decomposition import PCA\n",
    "from scipy.cluster.hierarchy import dendrogram, linkage\n",
    "from scipy.cluster.hierarchy import dendrogram, linkage\n",
    "from scipy.cluster.hierarchy import dendrogram\n",
    "from sklearn.cluster import AgglomerativeClustering\n",
    "from sklearn.cluster import AgglomerativeClustering\n",
    "from sklearn.metrics import pairwise_distances\n",
    "from sklearn.preprocessing import normalize\n",
    "from sklearn.metrics import silhouette_score\n",
    "from sklearn.cluster import KMeans\n",
    "from sklearn import cluster, datasets\n",
    "from sklearn.preprocessing import StandardScaler\n",
    "from sklearn.cluster import DBSCAN\n",
    "from sklearn.preprocessing import StandardScaler\n"
   ]
  },
  {
   "cell_type": "code",
   "execution_count": 2,
   "id": "97b52dfb",
   "metadata": {},
   "outputs": [
    {
     "data": {
      "text/plain": [
       "0    7807\n",
       "1    1441\n",
       "Name: Revenue, dtype: int64"
      ]
     },
     "execution_count": 2,
     "metadata": {},
     "output_type": "execute_result"
    },
    {
     "data": {
      "text/plain": [
       "0    2615\n",
       "1     467\n",
       "Name: Revenue, dtype: int64"
      ]
     },
     "execution_count": 2,
     "metadata": {},
     "output_type": "execute_result"
    }
   ],
   "source": [
    "training_set = pd.read_csv(\"training_set_complete.csv\")\n",
    "test_set = pd.read_csv(\"test_set_complete.csv\")\n",
    "training_set = training_set.drop(columns=['Unnamed: 0'])\n",
    "test_set = test_set.drop(columns=['Unnamed: 0'])\n",
    "training_set['Revenue'] = training_set['Revenue'].astype(int)\n",
    "test_set['Revenue'] = test_set['Revenue'].astype(int)\n",
    "training_set['Revenue'].value_counts()\n",
    "test_set['Revenue'].value_counts()\n",
    "categorical_features = ['Month_Aug', 'Month_Dec', 'Month_Feb', 'Month_Jul', 'Month_June',\n",
    "       'Month_Mar', 'Month_May', 'Month_Nov', 'Month_Oct', 'Month_Sep',\n",
    "       'OperatingSystems_1', 'OperatingSystems_2', 'OperatingSystems_3',\n",
    "       'OperatingSystems_4', 'OperatingSystems_5', 'OperatingSystems_6',\n",
    "       'OperatingSystems_7', 'OperatingSystems_8', 'Browser_1', 'Browser_2',\n",
    "       'Browser_3', 'Browser_4', 'Browser_5', 'Browser_6', 'Browser_7',\n",
    "       'Browser_8', 'Browser_9', 'Browser_10', 'Browser_11', 'Browser_12',\n",
    "       'Browser_13', 'Region_1', 'Region_2', 'Region_3', 'Region_4',\n",
    "       'Region_5', 'Region_6', 'Region_7', 'Region_8', 'Region_9',\n",
    "       'TrafficType_1', 'TrafficType_2', 'TrafficType_3', 'TrafficType_4',\n",
    "       'TrafficType_5', 'TrafficType_6', 'TrafficType_7', 'TrafficType_8',\n",
    "       'TrafficType_9', 'TrafficType_10', 'TrafficType_11', 'TrafficType_12',\n",
    "       'TrafficType_13', 'TrafficType_14', 'TrafficType_15', 'TrafficType_16',\n",
    "       'TrafficType_17', 'TrafficType_18', 'TrafficType_19', 'TrafficType_20',\n",
    "       'VisitorType_New_Visitor', 'VisitorType_Other',\n",
    "       'VisitorType_Returning_Visitor', 'Weekend_False', 'Weekend_True']\n",
    "training_set[categorical_features] = training_set[categorical_features].astype('category')\n",
    "test_set[categorical_features] = test_set[categorical_features].astype('category')"
   ]
  },
  {
   "cell_type": "code",
   "execution_count": 3,
   "id": "46ea10dd",
   "metadata": {},
   "outputs": [],
   "source": [
    "X_train_full = training_set.drop(columns=['Revenue'])\n",
    "X_test_full = test_set.drop(columns=['Revenue'])\n",
    "y_train = training_set['Revenue']\n",
    "y_test = test_set['Revenue']"
   ]
  },
  {
   "cell_type": "code",
   "execution_count": 4,
   "id": "4650f3ec",
   "metadata": {},
   "outputs": [
    {
     "name": "stdout",
     "output_type": "stream",
     "text": [
      "['Administrative', 'Administrative_Duration', 'Informational', 'Informational_Duration', 'ProductRelated', 'ProductRelated_Duration', 'BounceRates', 'ExitRates', 'PageValues', 'SpecialDay', 'Month_Aug', 'Month_Dec', 'Month_Feb', 'Month_Jul', 'Month_June', 'Month_Mar', 'Month_May', 'Month_Nov', 'Month_Oct', 'Month_Sep', 'OperatingSystems_1', 'OperatingSystems_2', 'OperatingSystems_3', 'OperatingSystems_4', 'OperatingSystems_6', 'OperatingSystems_8', 'Browser_1', 'Browser_2', 'Browser_3', 'Browser_4', 'Browser_5', 'Browser_6', 'Browser_7', 'Browser_8', 'Browser_10', 'Browser_13', 'Region_1', 'Region_2', 'Region_3', 'Region_4', 'Region_5', 'Region_6', 'Region_7', 'Region_8', 'Region_9', 'TrafficType_1', 'TrafficType_2', 'TrafficType_3', 'TrafficType_4', 'TrafficType_5', 'TrafficType_6', 'TrafficType_7', 'TrafficType_8', 'TrafficType_9', 'TrafficType_10', 'TrafficType_11', 'TrafficType_13', 'TrafficType_15', 'TrafficType_19', 'TrafficType_20', 'VisitorType_New_Visitor', 'VisitorType_Other', 'VisitorType_Returning_Visitor', 'Weekend_False', 'Weekend_True']\n"
     ]
    }
   ],
   "source": [
    "from sklearn.feature_selection import VarianceThreshold\n",
    "\n",
    "# Creazione dell'oggetto VarianceThreshold e specifica della soglia di varianza\n",
    "threshold = 0.001  # Soglia di varianza desiderata\n",
    "variance_selector = VarianceThreshold(threshold=threshold)\n",
    "\n",
    "# Applicazione della selezione della varianza sul dataset\n",
    "\n",
    "X_train = X_train_full.loc[:, variance_selector.fit(X_train_full).get_support()]\n",
    "columns_remaining = X_train_full.columns.tolist()\n",
    "\n",
    "X_test = X_test_full[columns_remaining]\n",
    "print(X_train.columns.tolist())"
   ]
  },
  {
   "cell_type": "markdown",
   "id": "c8afa3c6",
   "metadata": {},
   "source": [
    "## Setting the constant parameters"
   ]
  },
  {
   "cell_type": "code",
   "execution_count": 16,
   "id": "32545c90",
   "metadata": {},
   "outputs": [],
   "source": [
    "n_clusters = 2\n",
    "element_distance_metric = 'euclidean'\n",
    "linkage = 'ward'"
   ]
  },
  {
   "cell_type": "markdown",
   "id": "a338a713",
   "metadata": {},
   "source": [
    "## Functions to evaluate clustering performances"
   ]
  },
  {
   "cell_type": "markdown",
   "id": "1d7d07ed",
   "metadata": {},
   "source": [
    "### Crosscorrelation index"
   ]
  },
  {
   "cell_type": "code",
   "execution_count": null,
   "id": "9f1ed932",
   "metadata": {},
   "outputs": [],
   "source": [
    "# similarity matrix\n",
    "def plot_similarity_matrix(X,y,metric=element_distance_metric):\n",
    "    sim = similarity_mat(X, metric=element_distance_metric)\n",
    "    plot_sorted_mat(sim, y)\n",
    "\n",
    "# incidence matrix\n",
    "def plot_incidence_matrix(y_pred):\n",
    "    inc = incidence_mat(y_predict)\n",
    "    plot_sorted_mat(inc, y_predict)"
   ]
  },
  {
   "cell_type": "markdown",
   "id": "c87d57ce",
   "metadata": {},
   "source": [
    "### Internal indexes"
   ]
  },
  {
   "cell_type": "code",
   "execution_count": null,
   "id": "2bfe1842",
   "metadata": {},
   "outputs": [],
   "source": []
  },
  {
   "cell_type": "markdown",
   "id": "28dc3ba2",
   "metadata": {},
   "source": [
    "### External Indexes"
   ]
  },
  {
   "cell_type": "code",
   "execution_count": 54,
   "id": "89c73920",
   "metadata": {},
   "outputs": [],
   "source": [
    "def get_count_nk(cluster_labels,k):\n",
    "    return np.count_nonzero(cluster_labels == k)\n",
    "\n",
    "def get_count_nj(class_labels,j):\n",
    "    return np.count_nonzero(class_labels == j)\n",
    "\n",
    "def get_count_nkj(cluster_labels,class_labels,k,j):\n",
    "    return len(np.intersect1d(np.where(cluster_labels == k)[0], np.where(class_labels == j)[0]))\n",
    "\n",
    "def get_precision(cluster_labels, class_labels, k, j):\n",
    "    return get_count_nkj(cluster_labels,class_labels,k,j)/get_count_nk(cluster_labels,k)\n",
    "\n",
    "def get_recall(cluster_labels, class_labels, k, j):\n",
    "    return get_count_nkj(cluster_labels,class_labels,k,j)/get_count_nj(class_labels,j)\n",
    "\n",
    "## da rivedere\n",
    "def get_cluster_purity(cluster_labels,class_labels,k):\n",
    "    precisions = []\n",
    "    labels_in_cluster_k = np.unique(cluster_labels)\n",
    "    for label in labels_in_cluster_k:\n",
    "        precisions.append(get_precision(cluster_labels,class_labels,k,label))\n",
    "    return max(precisions)\n",
    "\n",
    "## da rivedere\n",
    "def get_total_purity(cluster_labels,class_labels):\n",
    "    purities = []\n",
    "    labels_in_cluster_k = np.unique(cluster_labels)\n",
    "\n",
    "    for cluster in labels_in_cluster_k:\n",
    "        purities.append(get_cluster_purity(cluster_labels,class_labels,cluster)*(get_count_nk(cluster_labels,cluster)/len(cluster_labels)))\n",
    "    return sum(purities)\n",
    "\n",
    "def get_accuracy(cluster_labels,class_labels):\n",
    "    return sum(cluster_labels == class_labels)/len(class_labels)"
   ]
  },
  {
   "cell_type": "code",
   "execution_count": 83,
   "id": "53dc5a6b",
   "metadata": {},
   "outputs": [],
   "source": [
    "def get_cluster_metrics(cluster_labels,class_labels,model_name):\n",
    "    \n",
    "    accuracy = get_accuracy(cluster_labels,class_labels)\n",
    "    \n",
    "    cluster_label_unique = np.sort(np.unique(cluster_labels))\n",
    "    class_label_unique = np.sort(np.unique(class_labels))\n",
    "    \n",
    "    precisions = [] # ordine: 00,01,10,11 (prima cifra: cluster, seconda cifra: classe)\n",
    "    recalls = [] # ordine: 00,01,10,11 (prima cifra: cluster, seconda cifra: classe)\n",
    "    \n",
    "    purities = []\n",
    "    \n",
    "    for k in cluster_label_unique:\n",
    "        for j in class_label_unique:\n",
    "            precisions.append(get_precision(cluster_labels,class_labels,k,j))\n",
    "        purities.append(get_cluster_purity(cluster_labels,class_labels,k))\n",
    "        \n",
    "    for j in class_label_unique:\n",
    "        for k in cluster_label_unique:\n",
    "            recalls.append(get_recall(cluster_labels,class_labels,k,j))\n",
    "    \n",
    "    tot_purity = get_total_purity(cluster_labels,class_labels)\n",
    "    \n",
    "    jaccard = sklearn.metrics.jaccard_score(class_labels,cluster_labels)\n",
    "    \n",
    "    data = {\n",
    "        'Accuracy':[accuracy],\n",
    "        'p_00':[precisions[0]],\n",
    "        'p_01':[precisions[1]],\n",
    "        'p_10':[precisions[2]],\n",
    "        'p_11':[precisions[3]],\n",
    "        'r_00':[recalls[0]],\n",
    "        'r_01':[recalls[1]],\n",
    "        'r_10':[recalls[2]],\n",
    "        'r_11':[recalls[3]],\n",
    "        'p_0':[purities[0]],\n",
    "        'p_1':[purities[1]],\n",
    "        'tot_purity':[tot_purity],\n",
    "        'jaccard':[jaccard],\n",
    "        \n",
    "    }\n",
    "    data = pd.DataFrame(data)\n",
    "    data.rename(index={0: model_name}, inplace=True)\n",
    "    return data\n",
    "    #return accuracy,precisions,recalls,purities,tot_purity,jaccard\n",
    "    "
   ]
  },
  {
   "cell_type": "markdown",
   "id": "41eafc0b",
   "metadata": {},
   "source": [
    "## PCA\n",
    "Since our dataset has a lot of features, we perform PCA to reduce the dimension. We keep a number of components that explains the 95% of the variance. We first scale the numeric features."
   ]
  },
  {
   "cell_type": "code",
   "execution_count": 6,
   "id": "0b0a0177",
   "metadata": {},
   "outputs": [],
   "source": [
    "from sklearn.preprocessing import StandardScaler\n",
    "\n",
    "# Assuming you have your feature data X\n",
    "numeric_features = ['Administrative', 'Administrative_Duration', 'Informational',\n",
    "       'Informational_Duration', 'ProductRelated', 'ProductRelated_Duration',\n",
    "       'BounceRates', 'ExitRates', 'PageValues', 'SpecialDay']\n",
    "categorical_features = ['Month_Aug', 'Month_Dec', 'Month_Feb', 'Month_Jul', 'Month_June', 'Month_Mar', 'Month_May', \n",
    "                        'Month_Nov', 'Month_Oct', 'Month_Sep', 'OperatingSystems_1', 'OperatingSystems_2', 'OperatingSystems_3', 'OperatingSystems_4', 'OperatingSystems_6', 'OperatingSystems_8', 'Browser_1', 'Browser_2', 'Browser_3', 'Browser_4', 'Browser_5', 'Browser_6', 'Browser_7', 'Browser_8', 'Browser_10', 'Browser_13', 'Region_1', 'Region_2', 'Region_3', 'Region_4', 'Region_5',\n",
    "                        'Region_6', 'Region_7', 'Region_8', 'Region_9', 'TrafficType_1', 'TrafficType_2', \n",
    "                        'TrafficType_3', 'TrafficType_4', 'TrafficType_5', 'TrafficType_6', 'TrafficType_7', \n",
    "                        'TrafficType_8', 'TrafficType_9', 'TrafficType_10', 'TrafficType_11', 'TrafficType_13', \n",
    "                        'TrafficType_15', 'TrafficType_19', 'TrafficType_20', 'VisitorType_New_Visitor', 'VisitorType_Other', 'VisitorType_Returning_Visitor', 'Weekend_False', 'Weekend_True']\n",
    "scaler = StandardScaler()\n",
    "train_scaled = pd.DataFrame(scaler.fit_transform(X_train[numeric_features]))\n",
    "test_scaled = pd.DataFrame(scaler.fit_transform(X_test[numeric_features]))\n",
    "train_scaled.columns = X_train[numeric_features].columns\n",
    "test_scaled.columns = X_test[numeric_features].columns\n",
    "X_train_scaled = pd.concat([train_scaled,X_train[categorical_features]],axis=1)\n",
    "X_test_scaled = pd.concat([test_scaled,X_test[categorical_features]],axis=1)"
   ]
  },
  {
   "cell_type": "code",
   "execution_count": 124,
   "id": "81fef0e7",
   "metadata": {},
   "outputs": [],
   "source": [
    "pca = PCA()\n",
    "X_train_pca = pca.fit_transform(X_train_scaled)\n",
    "\n",
    "# Compute the cumulative percentage of variance explained\n",
    "explained_variance_ratio_cumsum = np.cumsum(pca.explained_variance_ratio_)\n",
    "\n",
    "# Find the number of components that explains the 95% of the variance\n",
    "n_components = np.argmax(explained_variance_ratio_cumsum >= 0.95) + 1 #27\n",
    "\n",
    "# Riduci la dimensionalità del dataset utilizzando il numero selezionato di componenti principali\n",
    "pca = PCA(n_components=n_components)\n",
    "X_train_pca = pca.fit_transform(X_train_scaled)\n",
    "X_test_pca = pca.transform(X_test_scaled)"
   ]
  },
  {
   "cell_type": "markdown",
   "id": "c464272c",
   "metadata": {},
   "source": [
    "### Visual inspection of the first two PCs\n",
    "Here we report the UMAP with the first and second principal component."
   ]
  },
  {
   "cell_type": "code",
   "execution_count": 14,
   "id": "e7251d71",
   "metadata": {},
   "outputs": [
    {
     "data": {
      "text/plain": [
       "<AxesSubplot:>"
      ]
     },
     "execution_count": 14,
     "metadata": {},
     "output_type": "execute_result"
    },
    {
     "data": {
      "image/png": "[encoded data removed]",
      "text/plain": [
       "<Figure size 640x480 with 1 Axes>"
      ]
     },
     "metadata": {},
     "output_type": "display_data"
    }
   ],
   "source": [
    "X0_range = (X_train_pca[:,0].min(), X_train_pca[:,0].max())\n",
    "X1_range = (X_train_pca[:,1].min(), X_train_pca[:,1].max())\n",
    "\n",
    "sns.scatterplot(x=X_train_pca[:,0], y=X_train_pca[:,1], hue=y_train, marker='o')\n",
    "#sns.scatterplot(X_test_pca[:,0], X_test_pca[:,1], hue=y_test, marker='^')\n"
   ]
  },
  {
   "cell_type": "markdown",
   "id": "d48018e5",
   "metadata": {},
   "source": [
    "## Hierarchical clustering"
   ]
  },
  {
   "cell_type": "markdown",
   "id": "8ae75a3d",
   "metadata": {},
   "source": [
    "### Agglomerative clustering"
   ]
  },
  {
   "cell_type": "code",
   "execution_count": 18,
   "id": "37e38147",
   "metadata": {},
   "outputs": [
    {
     "name": "stdout",
     "output_type": "stream",
     "text": [
      "Tempo totale di esecuzione: 5.22 sec\n"
     ]
    }
   ],
   "source": [
    "model_agglomerative = AgglomerativeClustering(n_clusters=n_clusters, affinity=element_distance_metric, linkage=linkage)\n",
    "labels_agglomerative = model_agglomerative.fit_predict(X_train_pca)\n"
   ]
  },
  {
   "cell_type": "code",
   "execution_count": 84,
   "id": "ec3e5e5d",
   "metadata": {},
   "outputs": [
    {
     "data": {
      "text/html": [
       "<div>\n",
       "<style scoped>\n",
       "    .dataframe tbody tr th:only-of-type {\n",
       "        vertical-align: middle;\n",
       "    }\n",
       "\n",
       "    .dataframe tbody tr th {\n",
       "        vertical-align: top;\n",
       "    }\n",
       "\n",
       "    .dataframe thead th {\n",
       "        text-align: right;\n",
       "    }\n",
       "</style>\n",
       "<table border=\"1\" class=\"dataframe\">\n",
       "  <thead>\n",
       "    <tr style=\"text-align: right;\">\n",
       "      <th></th>\n",
       "      <th>Accuracy</th>\n",
       "      <th>p_00</th>\n",
       "      <th>p_01</th>\n",
       "      <th>p_10</th>\n",
       "      <th>p_11</th>\n",
       "      <th>r_00</th>\n",
       "      <th>r_01</th>\n",
       "      <th>r_10</th>\n",
       "      <th>r_11</th>\n",
       "      <th>p_0</th>\n",
       "      <th>p_1</th>\n",
       "      <th>tot_purity</th>\n",
       "      <th>jaccard</th>\n",
       "    </tr>\n",
       "  </thead>\n",
       "  <tbody>\n",
       "    <tr>\n",
       "      <th>Agglomerative</th>\n",
       "      <td>0.734645</td>\n",
       "      <td>0.825648</td>\n",
       "      <td>0.174352</td>\n",
       "      <td>0.992225</td>\n",
       "      <td>0.007775</td>\n",
       "      <td>0.86922</td>\n",
       "      <td>0.13078</td>\n",
       "      <td>0.994448</td>\n",
       "      <td>0.005552</td>\n",
       "      <td>0.825648</td>\n",
       "      <td>0.992225</td>\n",
       "      <td>0.844183</td>\n",
       "      <td>0.003249</td>\n",
       "    </tr>\n",
       "  </tbody>\n",
       "</table>\n",
       "</div>"
      ],
      "text/plain": [
       "               Accuracy      p_00      p_01      p_10      p_11     r_00  \\\n",
       "Agglomerative  0.734645  0.825648  0.174352  0.992225  0.007775  0.86922   \n",
       "\n",
       "                  r_01      r_10      r_11       p_0       p_1  tot_purity  \\\n",
       "Agglomerative  0.13078  0.994448  0.005552  0.825648  0.992225    0.844183   \n",
       "\n",
       "                jaccard  \n",
       "Agglomerative  0.003249  "
      ]
     },
     "execution_count": 84,
     "metadata": {},
     "output_type": "execute_result"
    }
   ],
   "source": [
    "metrics_agglomerative = get_cluster_metrics(labels_agglomerative,y_train,'Agglomerative')\n",
    "metrics_agglomerative"
   ]
  },
  {
   "cell_type": "markdown",
   "id": "f75ea8f0",
   "metadata": {},
   "source": [
    "## K-means"
   ]
  },
  {
   "cell_type": "code",
   "execution_count": 86,
   "id": "a03b0a4f",
   "metadata": {},
   "outputs": [],
   "source": [
    "model_kmeans = KMeans(n_clusters=2, init='k-means++', random_state=0)             \n",
    "labels_kmeans = model_kmeans.fit_predict(X_train_pca)"
   ]
  },
  {
   "cell_type": "code",
   "execution_count": 88,
   "id": "480b6c03",
   "metadata": {},
   "outputs": [
    {
     "data": {
      "text/html": [
       "<div>\n",
       "<style scoped>\n",
       "    .dataframe tbody tr th:only-of-type {\n",
       "        vertical-align: middle;\n",
       "    }\n",
       "\n",
       "    .dataframe tbody tr th {\n",
       "        vertical-align: top;\n",
       "    }\n",
       "\n",
       "    .dataframe thead th {\n",
       "        text-align: right;\n",
       "    }\n",
       "</style>\n",
       "<table border=\"1\" class=\"dataframe\">\n",
       "  <thead>\n",
       "    <tr style=\"text-align: right;\">\n",
       "      <th></th>\n",
       "      <th>Accuracy</th>\n",
       "      <th>p_00</th>\n",
       "      <th>p_01</th>\n",
       "      <th>p_10</th>\n",
       "      <th>p_11</th>\n",
       "      <th>r_00</th>\n",
       "      <th>r_01</th>\n",
       "      <th>r_10</th>\n",
       "      <th>r_11</th>\n",
       "      <th>p_0</th>\n",
       "      <th>p_1</th>\n",
       "      <th>tot_purity</th>\n",
       "      <th>jaccard</th>\n",
       "    </tr>\n",
       "  </thead>\n",
       "  <tbody>\n",
       "    <tr>\n",
       "      <th>K-means</th>\n",
       "      <td>0.221021</td>\n",
       "      <td>0.717376</td>\n",
       "      <td>0.282624</td>\n",
       "      <td>0.866556</td>\n",
       "      <td>0.133444</td>\n",
       "      <td>0.12745</td>\n",
       "      <td>0.87255</td>\n",
       "      <td>0.272033</td>\n",
       "      <td>0.727967</td>\n",
       "      <td>0.717376</td>\n",
       "      <td>0.866556</td>\n",
       "      <td>0.844183</td>\n",
       "      <td>0.127105</td>\n",
       "    </tr>\n",
       "  </tbody>\n",
       "</table>\n",
       "</div>"
      ],
      "text/plain": [
       "         Accuracy      p_00      p_01      p_10      p_11     r_00     r_01  \\\n",
       "K-means  0.221021  0.717376  0.282624  0.866556  0.133444  0.12745  0.87255   \n",
       "\n",
       "             r_10      r_11       p_0       p_1  tot_purity   jaccard  \n",
       "K-means  0.272033  0.727967  0.717376  0.866556    0.844183  0.127105  "
      ]
     },
     "execution_count": 88,
     "metadata": {},
     "output_type": "execute_result"
    }
   ],
   "source": [
    "metrics_kmeans = get_cluster_metrics(labels_kmeans,y_train,'K-means')\n",
    "metrics_kmeans"
   ]
  },
  {
   "cell_type": "markdown",
   "id": "b101332d",
   "metadata": {},
   "source": [
    "## K-medoids\n"
   ]
  },
  {
   "cell_type": "code",
   "execution_count": 120,
   "id": "a4c9190d",
   "metadata": {},
   "outputs": [],
   "source": [
    "from sklearn_extra.cluster import KMedoids\n",
    "from sklearn.datasets import make_blobs\n",
    "import gower\n",
    "\n",
    "# QUESTA PARTE DEL CODICE è DA RIELABORARE, è MOOOLTO SCOPIAZZATA e fatta male\n",
    "\n",
    "#data, _ = make_blobs(n_samples=X_train_pca.shape[0], centers=2, random_state=42)\n",
    "data=pd.read_csv(\"data/training_set_online_shoppers_intention.csv\")\n",
    "data = data.drop(columns=['Revenue','Unnamed: 0'])\n",
    "data.loc[:,'ExitRates'] = X_train['ExitRates']\n",
    "categorical_cols = data.columns[10:17]\n",
    "for col in categorical_cols:\n",
    "    data.loc[:,col] = data[col].astype('category')\n",
    "gower_mat = gower.gower_matrix(data, cat_features = [False,False,False,False,False,False,False,False,False,False,\n",
    "                                                    True,True,True,True,True,True,True])\n",
    "\n",
    "#distance_matrix = pairwise_distances(data, metric='euclidean')\n",
    "#gower_dist = gower_matrix(data)\n",
    "model_kmedoids = KMedoids(n_clusters=2, random_state=0, metric='precomputed')\n",
    "#gower_mat = gower.gower_matrix(X_train_pca)\n",
    "labels_kmedoids = model_kmedoids.fit_predict(gower_mat)\n"
   ]
  },
  {
   "cell_type": "code",
   "execution_count": 121,
   "id": "47facfec",
   "metadata": {},
   "outputs": [
    {
     "data": {
      "text/html": [
       "<div>\n",
       "<style scoped>\n",
       "    .dataframe tbody tr th:only-of-type {\n",
       "        vertical-align: middle;\n",
       "    }\n",
       "\n",
       "    .dataframe tbody tr th {\n",
       "        vertical-align: top;\n",
       "    }\n",
       "\n",
       "    .dataframe thead th {\n",
       "        text-align: right;\n",
       "    }\n",
       "</style>\n",
       "<table border=\"1\" class=\"dataframe\">\n",
       "  <thead>\n",
       "    <tr style=\"text-align: right;\">\n",
       "      <th></th>\n",
       "      <th>Accuracy</th>\n",
       "      <th>p_00</th>\n",
       "      <th>p_01</th>\n",
       "      <th>p_10</th>\n",
       "      <th>p_11</th>\n",
       "      <th>r_00</th>\n",
       "      <th>r_01</th>\n",
       "      <th>r_10</th>\n",
       "      <th>r_11</th>\n",
       "      <th>p_0</th>\n",
       "      <th>p_1</th>\n",
       "      <th>tot_purity</th>\n",
       "      <th>jaccard</th>\n",
       "    </tr>\n",
       "  </thead>\n",
       "  <tbody>\n",
       "    <tr>\n",
       "      <th>K-medoids</th>\n",
       "      <td>0.433067</td>\n",
       "      <td>0.774283</td>\n",
       "      <td>0.225717</td>\n",
       "      <td>0.91561</td>\n",
       "      <td>0.08439</td>\n",
       "      <td>0.463558</td>\n",
       "      <td>0.536442</td>\n",
       "      <td>0.73213</td>\n",
       "      <td>0.26787</td>\n",
       "      <td>0.774283</td>\n",
       "      <td>0.91561</td>\n",
       "      <td>0.844183</td>\n",
       "      <td>0.068573</td>\n",
       "    </tr>\n",
       "  </tbody>\n",
       "</table>\n",
       "</div>"
      ],
      "text/plain": [
       "           Accuracy      p_00      p_01     p_10     p_11      r_00      r_01  \\\n",
       "K-medoids  0.433067  0.774283  0.225717  0.91561  0.08439  0.463558  0.536442   \n",
       "\n",
       "              r_10     r_11       p_0      p_1  tot_purity   jaccard  \n",
       "K-medoids  0.73213  0.26787  0.774283  0.91561    0.844183  0.068573  "
      ]
     },
     "execution_count": 121,
     "metadata": {},
     "output_type": "execute_result"
    }
   ],
   "source": [
    "metrics_kmedoids = get_cluster_metrics(labels_kmedoids,y_train,'K-medoids')\n",
    "metrics_kmedoids"
   ]
  },
  {
   "cell_type": "markdown",
   "id": "1fa7b1c3",
   "metadata": {},
   "source": [
    "## DBSCAN"
   ]
  },
  {
   "cell_type": "code",
   "execution_count": 126,
   "id": "fa18c134",
   "metadata": {},
   "outputs": [],
   "source": [
    "model_DBSCAN = DBSCAN(eps=20, min_samples=10)\n",
    "labels_DBSCAN = model_DBSCAN.fit_predict(X_train_pca)"
   ]
  },
  {
   "cell_type": "code",
   "execution_count": 127,
   "id": "ef05a5ae",
   "metadata": {},
   "outputs": [
    {
     "data": {
      "text/html": [
       "<div>\n",
       "<style scoped>\n",
       "    .dataframe tbody tr th:only-of-type {\n",
       "        vertical-align: middle;\n",
       "    }\n",
       "\n",
       "    .dataframe tbody tr th {\n",
       "        vertical-align: top;\n",
       "    }\n",
       "\n",
       "    .dataframe thead th {\n",
       "        text-align: right;\n",
       "    }\n",
       "</style>\n",
       "<table border=\"1\" class=\"dataframe\">\n",
       "  <thead>\n",
       "    <tr style=\"text-align: right;\">\n",
       "      <th></th>\n",
       "      <th>Accuracy</th>\n",
       "      <th>p_00</th>\n",
       "      <th>p_01</th>\n",
       "      <th>p_10</th>\n",
       "      <th>p_11</th>\n",
       "      <th>r_00</th>\n",
       "      <th>r_01</th>\n",
       "      <th>r_10</th>\n",
       "      <th>r_11</th>\n",
       "      <th>p_0</th>\n",
       "      <th>p_1</th>\n",
       "      <th>tot_purity</th>\n",
       "      <th>jaccard</th>\n",
       "    </tr>\n",
       "  </thead>\n",
       "  <tbody>\n",
       "    <tr>\n",
       "      <th>DBSCAN</th>\n",
       "      <td>0.433067</td>\n",
       "      <td>0.774283</td>\n",
       "      <td>0.225717</td>\n",
       "      <td>0.91561</td>\n",
       "      <td>0.08439</td>\n",
       "      <td>0.463558</td>\n",
       "      <td>0.536442</td>\n",
       "      <td>0.73213</td>\n",
       "      <td>0.26787</td>\n",
       "      <td>0.774283</td>\n",
       "      <td>0.91561</td>\n",
       "      <td>0.844183</td>\n",
       "      <td>0.068573</td>\n",
       "    </tr>\n",
       "  </tbody>\n",
       "</table>\n",
       "</div>"
      ],
      "text/plain": [
       "        Accuracy      p_00      p_01     p_10     p_11      r_00      r_01  \\\n",
       "DBSCAN  0.433067  0.774283  0.225717  0.91561  0.08439  0.463558  0.536442   \n",
       "\n",
       "           r_10     r_11       p_0      p_1  tot_purity   jaccard  \n",
       "DBSCAN  0.73213  0.26787  0.774283  0.91561    0.844183  0.068573  "
      ]
     },
     "execution_count": 127,
     "metadata": {},
     "output_type": "execute_result"
    }
   ],
   "source": [
    "metrics_DBSCAN = get_cluster_metrics(labels_kmedoids,y_train,'DBSCAN')\n",
    "metrics_DBSCAN"
   ]
  },
  {
   "cell_type": "markdown",
   "id": "8fd699a6",
   "metadata": {},
   "source": [
    "## Comparison between the algorithms"
   ]
  },
  {
   "cell_type": "code",
   "execution_count": 136,
   "id": "bd030d2e",
   "metadata": {},
   "outputs": [
    {
     "data": {
      "text/html": [
       "<div>\n",
       "<style scoped>\n",
       "    .dataframe tbody tr th:only-of-type {\n",
       "        vertical-align: middle;\n",
       "    }\n",
       "\n",
       "    .dataframe tbody tr th {\n",
       "        vertical-align: top;\n",
       "    }\n",
       "\n",
       "    .dataframe thead th {\n",
       "        text-align: right;\n",
       "    }\n",
       "</style>\n",
       "<table border=\"1\" class=\"dataframe\">\n",
       "  <thead>\n",
       "    <tr style=\"text-align: right;\">\n",
       "      <th></th>\n",
       "      <th>Accuracy</th>\n",
       "      <th>p_00</th>\n",
       "      <th>p_01</th>\n",
       "      <th>p_10</th>\n",
       "      <th>p_11</th>\n",
       "      <th>r_00</th>\n",
       "      <th>r_01</th>\n",
       "      <th>r_10</th>\n",
       "      <th>r_11</th>\n",
       "      <th>p_0</th>\n",
       "      <th>p_1</th>\n",
       "      <th>tot_purity</th>\n",
       "      <th>jaccard</th>\n",
       "    </tr>\n",
       "  </thead>\n",
       "  <tbody>\n",
       "    <tr>\n",
       "      <th>Agglomerative</th>\n",
       "      <td>0.734645</td>\n",
       "      <td>0.825648</td>\n",
       "      <td>0.174352</td>\n",
       "      <td>0.992225</td>\n",
       "      <td>0.007775</td>\n",
       "      <td>0.869220</td>\n",
       "      <td>0.130780</td>\n",
       "      <td>0.994448</td>\n",
       "      <td>0.005552</td>\n",
       "      <td>0.825648</td>\n",
       "      <td>0.992225</td>\n",
       "      <td>0.844183</td>\n",
       "      <td>0.003249</td>\n",
       "    </tr>\n",
       "    <tr>\n",
       "      <th>K-means</th>\n",
       "      <td>0.221021</td>\n",
       "      <td>0.717376</td>\n",
       "      <td>0.282624</td>\n",
       "      <td>0.866556</td>\n",
       "      <td>0.133444</td>\n",
       "      <td>0.127450</td>\n",
       "      <td>0.872550</td>\n",
       "      <td>0.272033</td>\n",
       "      <td>0.727967</td>\n",
       "      <td>0.717376</td>\n",
       "      <td>0.866556</td>\n",
       "      <td>0.844183</td>\n",
       "      <td>0.127105</td>\n",
       "    </tr>\n",
       "    <tr>\n",
       "      <th>K-medoids</th>\n",
       "      <td>0.433067</td>\n",
       "      <td>0.774283</td>\n",
       "      <td>0.225717</td>\n",
       "      <td>0.915610</td>\n",
       "      <td>0.084390</td>\n",
       "      <td>0.463558</td>\n",
       "      <td>0.536442</td>\n",
       "      <td>0.732130</td>\n",
       "      <td>0.267870</td>\n",
       "      <td>0.774283</td>\n",
       "      <td>0.915610</td>\n",
       "      <td>0.844183</td>\n",
       "      <td>0.068573</td>\n",
       "    </tr>\n",
       "    <tr>\n",
       "      <th>DBSCAN</th>\n",
       "      <td>0.433067</td>\n",
       "      <td>0.774283</td>\n",
       "      <td>0.225717</td>\n",
       "      <td>0.915610</td>\n",
       "      <td>0.084390</td>\n",
       "      <td>0.463558</td>\n",
       "      <td>0.536442</td>\n",
       "      <td>0.732130</td>\n",
       "      <td>0.267870</td>\n",
       "      <td>0.774283</td>\n",
       "      <td>0.915610</td>\n",
       "      <td>0.844183</td>\n",
       "      <td>0.068573</td>\n",
       "    </tr>\n",
       "  </tbody>\n",
       "</table>\n",
       "</div>"
      ],
      "text/plain": [
       "               Accuracy      p_00      p_01      p_10      p_11      r_00  \\\n",
       "Agglomerative  0.734645  0.825648  0.174352  0.992225  0.007775  0.869220   \n",
       "K-means        0.221021  0.717376  0.282624  0.866556  0.133444  0.127450   \n",
       "K-medoids      0.433067  0.774283  0.225717  0.915610  0.084390  0.463558   \n",
       "DBSCAN         0.433067  0.774283  0.225717  0.915610  0.084390  0.463558   \n",
       "\n",
       "                   r_01      r_10      r_11       p_0       p_1  tot_purity  \\\n",
       "Agglomerative  0.130780  0.994448  0.005552  0.825648  0.992225    0.844183   \n",
       "K-means        0.872550  0.272033  0.727967  0.717376  0.866556    0.844183   \n",
       "K-medoids      0.536442  0.732130  0.267870  0.774283  0.915610    0.844183   \n",
       "DBSCAN         0.536442  0.732130  0.267870  0.774283  0.915610    0.844183   \n",
       "\n",
       "                jaccard  \n",
       "Agglomerative  0.003249  \n",
       "K-means        0.127105  \n",
       "K-medoids      0.068573  \n",
       "DBSCAN         0.068573  "
      ]
     },
     "execution_count": 136,
     "metadata": {},
     "output_type": "execute_result"
    }
   ],
   "source": [
    "metrics_df = pd.DataFrame()\n",
    "metrics_df = pd.concat([metrics_agglomerative,metrics_kmeans,metrics_kmedoids,metrics_DBSCAN],axis=0)\n",
    "metrics_df"
   ]
  },
  {
   "cell_type": "code",
   "execution_count": 155,
   "id": "0438d314",
   "metadata": {},
   "outputs": [
    {
     "data": {
      "image/png": "[encoded data removed]",
      "text/plain": [
       "<Figure size 1500x500 with 3 Axes>"
      ]
     },
     "metadata": {},
     "output_type": "display_data"
    }
   ],
   "source": [
    "columns = ['Accuracy', 'tot_purity', 'jaccard']\n",
    "\n",
    "num_cols = len(columns)\n",
    "fig, axes = plt.subplots(nrows=1, ncols=num_cols, figsize=(15, 5))\n",
    "\n",
    "sns.set_style('whitegrid')\n",
    "palette = 'Set2'\n",
    "\n",
    "for i, col in enumerate(columns):\n",
    "    values = metrics_df.loc[:,col]\n",
    "    axes[i].bar(metrics_df.index, values)\n",
    "    axes[i].set_title(f\"Barplot '{col}'\")\n",
    "    axes[i].set_xlabel('Algorithm')\n",
    "    axes[i].set_ylabel(col)\n",
    "\n",
    "plt.tight_layout()\n",
    "plt.show();\n"
   ]
  },
  {
   "cell_type": "code",
   "execution_count": null,
   "id": "238f1ef3",
   "metadata": {},
   "outputs": [],
   "source": []
  }
 ],
 "metadata": {
  "kernelspec": {
   "display_name": "Python 3 (ipykernel)",
   "language": "python",
   "name": "python3"
  },
  "language_info": {
   "codemirror_mode": {
    "name": "ipython",
    "version": 3
   },
   "file_extension": ".py",
   "mimetype": "text/x-python",
   "name": "python",
   "nbconvert_exporter": "python",
   "pygments_lexer": "ipython3",
   "version": "3.9.13"
  }
 },
 "nbformat": 4,
 "nbformat_minor": 5
}
