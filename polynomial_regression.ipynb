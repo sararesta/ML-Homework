{
 "cells": [
  {
   "cell_type": "code",
   "execution_count": 1,
   "id": "f2f06886",
   "metadata": {},
   "outputs": [],
   "source": [
    "# Run this code to make Jupyter print every\n",
    "# printable statement and not just the last one\n",
    "from IPython.core.interactiveshell import InteractiveShell\n",
    "InteractiveShell.ast_node_interactivity = \"all\"\n",
    "\n",
    "# To visualize the data\n",
    "import matplotlib.pyplot as plt\n",
    "\n",
    "# Generic libraries\n",
    "import seaborn as sns\n",
    "import pandas as pd\n",
    "import numpy as np\n",
    "\n",
    "# Regression models\n",
    "import sklearn\n",
    "import scipy\n",
    "from scipy.stats import t\n",
    "import sklearn\n",
    "from sklearn.model_selection import train_test_split #split the data into training and test\n",
    "from sklearn.linear_model import LinearRegression #linear regression\n",
    "from sklearn.preprocessing import PolynomialFeatures #for polynomial regression\n",
    "from sklearn.metrics import r2_score, mean_squared_error\n",
    "\n",
    "# 5-folds crossvalidation\n",
    "from sklearn.model_selection import cross_val_score\n",
    "from sklearn.metrics import make_scorer\n",
    "from sklearn.pipeline import Pipeline\n"
   ]
  },
  {
   "cell_type": "markdown",
   "id": "7cf8b05a",
   "metadata": {},
   "source": [
    "# Regression"
   ]
  },
  {
   "cell_type": "markdown",
   "id": "7fcbec53",
   "metadata": {},
   "source": [
    "Import the datasets (for this step we need only the training set)"
   ]
  },
  {
   "cell_type": "code",
   "execution_count": 78,
   "id": "d21ec1f5",
   "metadata": {},
   "outputs": [],
   "source": [
    "training_set = pd.read_csv(\"data/training_set_online_shoppers_intention.csv\")"
   ]
  },
  {
   "cell_type": "markdown",
   "id": "ab7767b2",
   "metadata": {},
   "source": [
    "We set all the categorical types as category $\\rightarrow$ non so se sia davvero utile o no, magari lo teniamo solo per la heatmap, l'ho tolto perché così facendo c'erano dei problemi con la riassegnazione della categoria other: TypeError: Cannot setitem on a Categorical with a new category (Others), set the categories first\n",
    "\n",
    "Ho pensato che tanto poi le trasformiamo tutte in binarie, quindi fa lo stesso. Magari poi ne creiamo una copia se decidiamo di fare visual inspection sul training."
   ]
  },
  {
   "cell_type": "markdown",
   "id": "21d12f58",
   "metadata": {},
   "source": [
    "Here we group the categories with the lowest number of elements into 'others'. Since these categories doesn't have a significant number of elements we don't expect them to be significant. Giving too many importance to them may lead to overfitting problems (di questa cosa non sono sicura ed è anche scritta in un inglese che fa pena)"
   ]
  },
  {
   "cell_type": "code",
   "execution_count": 79,
   "id": "70b244db",
   "metadata": {
    "scrolled": false
   },
   "outputs": [],
   "source": [
    "# VisitorType -> others removed\n",
    "training_set = training_set[training_set['VisitorType']!='Other']\n",
    "\n",
    "#VisitorType -> 1 = returning, 0 = new\n",
    "training_set['VisitorType'] = np.where(training_set['VisitorType']=='Returning_Visitor',1,0)\n",
    "\n",
    "# Weekend\n",
    "training_set['Weekend'] = np.where(training_set['Weekend']=='False',1,0)\n",
    "\n",
    "# Split categorical variables\n",
    "months = pd.get_dummies(training_set.Month, prefix='Month')\n",
    "regions = pd.get_dummies(training_set.Region, prefix='Region')\n",
    "\n",
    "def cut_levels(x, threshold, new_value):\n",
    "    x = x.copy()\n",
    "    value_counts = x.value_counts()\n",
    "    labels = value_counts.index[value_counts < threshold]\n",
    "    x[np.in1d(x, labels)] = new_value\n",
    "    return x\n",
    "\n",
    "training_set['Browser'] = cut_levels(training_set['Browser'],100,'Others')\n",
    "training_set['TrafficType'] = cut_levels(training_set['TrafficType'],100,'Others')\n",
    "training_set['OperatingSystems'] = cut_levels(training_set['OperatingSystems'],100,'Others')\n",
    "\n",
    "browser = pd.get_dummies(training_set.Browser, prefix='Browser')\n",
    "traffic_type = pd.get_dummies(training_set.TrafficType, prefix='TrafficType')\n",
    "operating_systems = pd.get_dummies(training_set.OperatingSystems, prefix='OperatingSystems')"
   ]
  },
  {
   "cell_type": "markdown",
   "id": "f830a376",
   "metadata": {},
   "source": [
    "Here we replace the categorical features with the dummies variables obtaining binary features"
   ]
  },
  {
   "cell_type": "code",
   "execution_count": 80,
   "id": "5f721f57",
   "metadata": {},
   "outputs": [
    {
     "data": {
      "text/plain": [
       "(9182, 57)"
      ]
     },
     "execution_count": 80,
     "metadata": {},
     "output_type": "execute_result"
    }
   ],
   "source": [
    "training_set = training_set.drop(['Unnamed: 0','Month','Region','Browser','TrafficType','OperatingSystems'], axis=1).join([months,regions,browser,traffic_type,operating_systems])\n",
    "training_set.shape"
   ]
  },
  {
   "cell_type": "code",
   "execution_count": 81,
   "id": "3219dd24",
   "metadata": {},
   "outputs": [],
   "source": [
    "# split the training set to separate the rows with missing values\n",
    "mask = training_set['ExitRates'].isna()\n",
    "training_set_missing = training_set[mask]\n",
    "#training_set_missing.head()\n",
    "training_set_no_missing = training_set[mask==False]\n",
    "#training_set_no_missing.head()"
   ]
  },
  {
   "cell_type": "code",
   "execution_count": 82,
   "id": "943a84d2",
   "metadata": {},
   "outputs": [],
   "source": [
    "X_all_features = list(np.delete(training_set.columns.values, [np.where(training_set.columns.values=='ExitRates'),np.where(training_set.columns.values=='Revenue')], axis=None))\n",
    "X = training_set_no_missing[X_all_features].to_numpy()\n",
    "y = training_set_no_missing['ExitRates'].to_numpy()"
   ]
  },
  {
   "cell_type": "markdown",
   "id": "40de9b6c",
   "metadata": {},
   "source": [
    "Now we split the training data to obtain a train and a test set to train the regression model and to compute the performance scores. QUI ALLA FINE HO CAMBIATO IL SEED PER FAR SI' CHE NON AVESSIMO UN TEST SCORE MIGLIORE DI TRAIN SCORE"
   ]
  },
  {
   "cell_type": "code",
   "execution_count": 83,
   "id": "2fc6a037",
   "metadata": {},
   "outputs": [
    {
     "name": "stdout",
     "output_type": "stream",
     "text": [
      "X_train.shape  (5134, 55)\n",
      "X_test.shape  (1284, 55)\n"
     ]
    }
   ],
   "source": [
    "#splitting data\n",
    "test_size = 0.2\n",
    "test_seed = 50\n",
    "# Split X and y into train and test\n",
    "X_train, X_test, y_train, y_test = train_test_split(X, y, test_size=test_size, random_state=test_seed)\n",
    "print(\"X_train.shape \", X_train.shape)\n",
    "print(\"X_test.shape \", X_test.shape)"
   ]
  },
  {
   "cell_type": "markdown",
   "id": "ee716a47",
   "metadata": {},
   "source": [
    "Now we fit different polynomial regression models"
   ]
  },
  {
   "cell_type": "markdown",
   "id": "0fe088cb",
   "metadata": {},
   "source": [
    "## Hyperparameter selection\n",
    "We want to know which is the best degree for our polynome. So we fit regression model with different grades and then we use 5-fold cv to evaluate their performances"
   ]
  },
  {
   "cell_type": "code",
   "execution_count": 85,
   "id": "135c5b54",
   "metadata": {},
   "outputs": [
    {
     "name": "stdout",
     "output_type": "stream",
     "text": [
      "Best degree:  1 \n",
      "Val score:  0.8620573044723215\n",
      "Test score: 0.84777677678708\n"
     ]
    }
   ],
   "source": [
    "r2_scorer = make_scorer(r2_score, greater_is_better=True)\n",
    "\n",
    "degree = list(range(1,3))\n",
    "val_scores = np.zeros(len(degree))\n",
    "# Validation\n",
    "for i, d in enumerate(degree):\n",
    "    # build the model\n",
    "    model = Pipeline([('poly', PolynomialFeatures(degree=d, include_bias=False)),\n",
    "                      ('linear', LinearRegression(fit_intercept=True))])\n",
    "    scores = cross_val_score(model, X_train, y_train, scoring=r2_scorer, cv=5)\n",
    "    val_scores[i] = np.mean(scores)\n",
    "\n",
    "# Identifies which is the best degree\n",
    "best_model_idx = np.argmax(val_scores)\n",
    "best_degree = degree[best_model_idx]\n",
    "# And the corresponding (best) validation score\n",
    "best_val_score = val_scores[best_model_idx]\n",
    "print(\"Best degree: \", best_degree,\n",
    "      \"\\nVal score: \", best_val_score)\n",
    "    \n",
    "    \n",
    "# Train again the Pipeline using the best parameter and the whole training set\n",
    "model = Pipeline([('poly', PolynomialFeatures(degree=best_degree, include_bias=False)),\n",
    "                  ('linear', LinearRegression(fit_intercept=True))])\n",
    "# Note: we train on X_train_small + X_val\n",
    "model = model.fit(np.concatenate([X_train]), np.concatenate([y_train]))\n",
    "y_predict = model.predict(X_test)\n",
    "test_score = r2_score(y_test, y_predict)\n",
    "\n",
    "#print(\"Train R2 score \", r2_score(y_train, model.predict(X_train)))\n",
    "#print(\"Train MSE score \", mean_squared_error(y_train, model.predict(X_train)))\n",
    "\n",
    "#print(\"Test R2 score \", r2_score(y_test, model.predict(X_test)))\n",
    "#print(\"Test MSE score \", mean_squared_error(y_test, model.predict(X_test)))\n",
    "\n",
    "print(\"Test score:\", test_score)"
   ]
  },
  {
   "cell_type": "code",
   "execution_count": 87,
   "id": "c3166071",
   "metadata": {},
   "outputs": [
    {
     "data": {
      "text/plain": [
       "GridSearchCV(cv=3,\n",
       "             estimator=Pipeline(steps=[('poly',\n",
       "                                        PolynomialFeatures(degree=1,\n",
       "                                                           include_bias=False)),\n",
       "                                       ('linear', LinearRegression())]),\n",
       "             param_grid={'poly__degree': [1, 2, 3, 4]},\n",
       "             scoring=make_scorer(r2_score))"
      ]
     },
     "execution_count": 87,
     "metadata": {},
     "output_type": "execute_result"
    }
   ],
   "source": [
    "# Validation\n",
    "model = Pipeline([('poly', PolynomialFeatures(degree=1, include_bias=False)),\n",
    "                  ('linear', LinearRegression(fit_intercept=True))])\n",
    "\n",
    "# Select parameters to optimize\n",
    "parameters = {'poly__degree': list(range(1,5))}\n",
    "              #'linear__fit_intercept': [True, False],\n",
    "              #'linear__normalize': [True, False]}\n",
    "\n",
    "cv = GridSearchCV(model, parameters, scoring=r2_scorer, cv=3, refit=True)\n",
    "cv.fit(X_train, y_train)"
   ]
  },
  {
   "cell_type": "markdown",
   "id": "d62f8903",
   "metadata": {},
   "source": [
    "Now we plot the residuals. Except for some outliers, they show an almost random distribution centered in zero."
   ]
  },
  {
   "cell_type": "code",
   "execution_count": 56,
   "id": "226b53e8",
   "metadata": {},
   "outputs": [
    {
     "data": {
      "text/plain": [
       "<matplotlib.collections.PathCollection at 0x2c92fecea30>"
      ]
     },
     "execution_count": 56,
     "metadata": {},
     "output_type": "execute_result"
    },
    {
     "data": {
      "image/png": "[encoded data removed]",
      "text/plain": [
       "<Figure size 640x480 with 1 Axes>"
      ]
     },
     "metadata": {},
     "output_type": "display_data"
    }
   ],
   "source": [
    "residuals = y_test-y_predict\n",
    "plt.scatter(y_predict,residuals)\n",
    "plt.show()"
   ]
  },
  {
   "cell_type": "code",
   "execution_count": 57,
   "id": "c65753da",
   "metadata": {},
   "outputs": [
    {
     "data": {
      "text/plain": [
       "array([-9.95602077e-04,  1.61411580e-07,  2.57944047e-04, -6.89468639e-07,\n",
       "       -1.37713487e-04,  5.47149390e-07,  8.60693792e-01, -1.27318983e-04,\n",
       "        5.77272142e-03,  7.98897379e-03, -3.66373598e-15,  3.76456923e-04,\n",
       "        1.02406907e-03, -4.77562929e-03,  2.75372626e-04,  6.45581512e-03,\n",
       "       -5.28861289e-04, -3.78233941e-04,  6.64458633e-04, -7.33886626e-04,\n",
       "       -2.37956123e-03,  4.05339776e-04, -8.08726083e-04,  9.62422065e-04,\n",
       "       -9.03819110e-05,  2.80706852e-04, -9.02504810e-04, -9.03329262e-04,\n",
       "       -2.10497306e-04,  1.26697068e-03,  8.22202890e-04, -5.11678701e-04,\n",
       "       -2.71893762e-04, -1.41717956e-03, -1.15247657e-03,  2.99382495e-03,\n",
       "       -1.62181870e-03,  1.15901946e-03,  2.23324272e-03, -2.77924368e-03,\n",
       "        3.38422666e-03, -1.85108941e-03,  1.18256842e-03,  6.36396356e-04,\n",
       "       -2.18724005e-03, -3.62582262e-04,  7.42449165e-04,  4.19976458e-03,\n",
       "       -1.46463308e-03, -3.73385942e-03, -1.74681673e-04,  3.64448719e-03,\n",
       "       -1.28706578e-03,  2.00441331e-03, -4.18715304e-03])"
      ]
     },
     "execution_count": 57,
     "metadata": {},
     "output_type": "execute_result"
    }
   ],
   "source": [
    "model.named_steps['linear'].coef_"
   ]
  },
  {
   "cell_type": "code",
   "execution_count": 58,
   "id": "aca566cc",
   "metadata": {},
   "outputs": [],
   "source": [
    "# Convert back from numpy arrays to data frames\n",
    "X_train_pd = pd.DataFrame(X_train, columns=X_all_features)\n",
    "X_test_pd = pd.DataFrame(X_test, columns=X_all_features)"
   ]
  },
  {
   "cell_type": "markdown",
   "id": "d906fce1",
   "metadata": {},
   "source": [
    "## Ridge"
   ]
  },
  {
   "cell_type": "code",
   "execution_count": 59,
   "id": "ca579a2d",
   "metadata": {},
   "outputs": [
    {
     "data": {
      "text/plain": [
       "Ridge(alpha=0.1)"
      ]
     },
     "execution_count": 59,
     "metadata": {},
     "output_type": "execute_result"
    },
    {
     "name": "stdout",
     "output_type": "stream",
     "text": [
      "R-squared: 0.847793033499308\n",
      "Mean Squared Error: 0.0003544048094394468\n"
     ]
    }
   ],
   "source": [
    "from sklearn.linear_model import Ridge\n",
    "ridge_model = Ridge(alpha=0.1)\n",
    "ridge_model.fit(X_train, y_train)\n",
    "y_pred = ridge_model.predict(X_test)\n",
    "r2 = r2_score(y_test, y_pred)\n",
    "mse = mean_squared_error(y_test, y_pred)\n",
    "print(\"R-squared:\", r2)\n",
    "print(\"Mean Squared Error:\", mse)"
   ]
  },
  {
   "cell_type": "markdown",
   "id": "da2cd131",
   "metadata": {},
   "source": [
    "## Forward stepwise selection to find the best subset of features"
   ]
  },
  {
   "cell_type": "code",
   "execution_count": 65,
   "id": "0848e8f7",
   "metadata": {},
   "outputs": [],
   "source": [
    "def rss(y_true, y_pred):\n",
    "    # First we make sure the shapes are the same\n",
    "    y_true = y_true.reshape(y_pred.shape)\n",
    "    return np.sum((y_true - y_pred) ** 2)"
   ]
  },
  {
   "cell_type": "code",
   "execution_count": 66,
   "id": "4e1f00b7",
   "metadata": {},
   "outputs": [
    {
     "data": {
      "text/plain": [
       "'def cp(y_pred, y_true, n, d, sigma):\\n    sigma2 = sigma**2\\n    return (rss(y_pred, y_true) + 2*d*sigma2) / n\\n\\ndef aic(y_pred, y_true, n, d, sigma):\\n    sigma2 = sigma**2\\n    return (rss(y_pred, y_true) + 2*d*sigma2) / (n*sigma2)\\n\\n\\n\\ndef adj_r2(y_pred, y_true, n, d, sigma):\\n    sigma2 = sigma**2\\n    RSS = rss(y_pred, y_true)\\n    TSS = tss(y_true)\\n    return 1 - (RSS/(n-d-1)) / (TSS/(n-1))'"
      ]
     },
     "execution_count": 66,
     "metadata": {},
     "output_type": "execute_result"
    }
   ],
   "source": [
    "def estimate_sigma(Xtrain_pd, ytrain):\n",
    "    # Sigma is usually estimated using the model with all features\n",
    "    n, p = Xtrain_pd.shape\n",
    "    model = LinearRegression(fit_intercept=True)\n",
    "    model.fit(Xtrain_pd, ytrain)\n",
    "    y_pred = model.predict(Xtrain_pd)\n",
    "    RSS = rss(y_pred, ytrain)\n",
    "    RSE = np.sqrt(RSS / (n-p))\n",
    "    return RSE\n",
    "\n",
    "def bic(y_pred, y_true, n, d, sigma):\n",
    "    sigma2 = sigma**2\n",
    "    return (rss(y_pred, y_true) + np.log(n)*d*sigma2) / (n*sigma2)\n",
    "\n",
    "'''def cp(y_pred, y_true, n, d, sigma):\n",
    "    sigma2 = sigma**2\n",
    "    return (rss(y_pred, y_true) + 2*d*sigma2) / n\n",
    "\n",
    "def aic(y_pred, y_true, n, d, sigma):\n",
    "    sigma2 = sigma**2\n",
    "    return (rss(y_pred, y_true) + 2*d*sigma2) / (n*sigma2)\n",
    "\n",
    "\n",
    "\n",
    "def adj_r2(y_pred, y_true, n, d, sigma):\n",
    "    sigma2 = sigma**2\n",
    "    RSS = rss(y_pred, y_true)\n",
    "    TSS = tss(y_true)\n",
    "    return 1 - (RSS/(n-d-1)) / (TSS/(n-1))'''\n"
   ]
  },
  {
   "cell_type": "code",
   "execution_count": 67,
   "id": "50dfe61c",
   "metadata": {},
   "outputs": [],
   "source": [
    "def get_sigma_scorer(metric, sigma):\n",
    "    def scorer(model, X, y):\n",
    "        n, d = X.shape\n",
    "        y_pred = model.predict(X)\n",
    "        return metric(y_pred, y, n, d, sigma)\n",
    "    \n",
    "    return scorer\n",
    "\n",
    "sigma = estimate_sigma(X_train_pd, y_train)"
   ]
  },
  {
   "cell_type": "code",
   "execution_count": 68,
   "id": "e56522b6",
   "metadata": {},
   "outputs": [],
   "source": [
    "def get_evaluator(scorer):\n",
    "    def evaluator(model, X, y, trained=False):\n",
    "        if not trained:\n",
    "            model = model.fit(X, y)\n",
    "        score = scorer(model, X, y)\n",
    "        return model, score\n",
    "    return evaluator  "
   ]
  },
  {
   "cell_type": "code",
   "execution_count": 69,
   "id": "5b9c3369",
   "metadata": {},
   "outputs": [],
   "source": [
    "from sklearn.dummy import DummyRegressor\n",
    "\n",
    "def forward_selection(Xtrain_pd, ytrain, Xtest_pd, ytest,\n",
    "                      candidates_evaluator, candidates_argbest, # Metric to be used at 2.b\n",
    "                      subsets_evaluator, subsets_argbest,       # Metric to be used at 3\n",
    "                      test_evaluator=None, test_argbest=None,\n",
    "                      candidates_scorer_name=None,  # Name of 2. figure\n",
    "                      subsets_scorer_name=None,     # Name of 3. figure\n",
    "                      verbose=True, weight_step3=0):   \n",
    "    test_evaluator = subsets_evaluator if not test_evaluator else test_evaluator\n",
    "    test_argbest = subsets_argbest if not test_argbest else test_argbest\n",
    "    \n",
    "    # Global variable init\n",
    "    # ====================\n",
    "    num_features = Xtrain_pd.shape[-1]\n",
    "    best_candidate_metric = []\n",
    "    # subsets_* are lists containing one value for each Mk model (the best of the Mk candidates)\n",
    "    subsets_test = []\n",
    "    subsets_metric = []        # The best metric of each subset of dimension 'dim'\n",
    "    subsets_best_features = [] # The best features combination in each subset of dimension 'dim'\n",
    "    # A figure to keep track of candidates scores in each Mk subset\n",
    "    plt.figure()\n",
    "    candidate_fig = plt.subplot(111) # A global matplotlib figure\n",
    "    num_evaluations = 0        # A conter to keep track of the total number of trials\n",
    "    \n",
    "    selected_features = []  # <------ !! We keep track of selected features !!\n",
    "    all_features = Xtrain_pd.columns\n",
    "    \n",
    "    \n",
    "    # 1. Train M0\n",
    "    # ===========\n",
    "    model = DummyRegressor()\n",
    "    # Compute (2.b) metrics\n",
    "    model, score = candidates_evaluator(model, Xtrain_pd[[]], ytrain)\n",
    "    best_candidate_metric.append(score)\n",
    "    subsets_best_features.append([])\n",
    "    _ = candidate_fig.scatter([0], [score], color=\"b\")\n",
    "    # Compute metric for step 3.\n",
    "    _, score = subsets_evaluator(model, Xtrain_pd[[]], ytrain, trained=True)\n",
    "    subsets_metric.append(score)\n",
    "    _, score = test_evaluator(model, Xtrain_pd[[]], ytrain, trained=True)\n",
    "    subsets_test.append(score)\n",
    "    \n",
    "    # 2. Evaluate all Mk candidates with\n",
    "    #    k=0...P features\n",
    "    # =========================================\n",
    "    #!! The loop condition is slightly changed\n",
    "    #!! How many iterations we need to perform?\n",
    "    for dim in range(num_features):\n",
    "        candidate_metrics = [] # Keep track of candidates metrics. Will be used to select the best\n",
    "        candidate_models = []  # Keep track of candidates trained models\n",
    "        \n",
    "        # 2.a Given the previous Mk model, test remaining\n",
    "        # features and select the one providing the best\n",
    "        # performance increment\n",
    "        # ===============================================\n",
    "        remaining_features = Xtrain_pd.columns.difference(selected_features)\n",
    "        \n",
    "        for new_column in remaining_features:\n",
    "            Xtrain_sub = Xtrain_pd[selected_features+[new_column]].to_numpy()\n",
    "            model = LinearRegression(fit_intercept=True)\n",
    "            model, score = candidates_evaluator(model, Xtrain_sub, ytrain)\n",
    "            candidate_models.append(model)\n",
    "            candidate_metrics.append(score)\n",
    "            num_evaluations += 1\n",
    "            \n",
    "        _ = candidate_fig.scatter([Xtrain_sub.shape[-1]]*len(candidate_metrics), candidate_metrics,\n",
    "                                  color=\"b\")\n",
    "            \n",
    "        # 2.b Select the best candidate in (2.a)\n",
    "        # ===============================================\n",
    "        idx_best_candidate = candidates_argbest(candidate_metrics)\n",
    "        #!!! Update selected feature\n",
    "        # ==========================\n",
    "        selected_features.append(remaining_features[idx_best_candidate])\n",
    "        # Save best candidate features\n",
    "        best_candidate_metric.append(candidate_metrics[idx_best_candidate])\n",
    "        best_features = selected_features.copy()\n",
    "        subsets_best_features.append(best_features)\n",
    "        \n",
    "        # Compute metric for step 3.\n",
    "        best_subset_model = candidate_models[idx_best_candidate]\n",
    "        best_subset_Xtrain = Xtrain_pd[best_features].to_numpy()\n",
    "        _, score = subsets_evaluator(best_subset_model, best_subset_Xtrain, ytrain, trained=True)\n",
    "        subsets_metric.append(score)\n",
    "        best_subset_Xtest = Xtest_pd[best_features].to_numpy()\n",
    "        _, score_test = test_evaluator(best_subset_model, best_subset_Xtest, ytest, trained=True)\n",
    "        subsets_test.append(score_test)\n",
    "        num_evaluations += weight_step3 \n",
    "        \n",
    "        if verbose:\n",
    "            print(\"............\")\n",
    "            print(\"Best model (M{}) with {} features: {}\".format(dim, dim+1, best_features))\n",
    "            print(\"M{} subset score (3.): {}\".format(dim, score))\n",
    "        \n",
    "    # 3. Among all best candidates with increasing number\n",
    "    #    of features, select the best one\n",
    "    # ===================================================\n",
    "    best_subset_idx = subsets_argbest(subsets_metric)\n",
    "    best_features = subsets_best_features[best_subset_idx]\n",
    "    \n",
    "    if verbose:\n",
    "        print(\"\\n\\nBest configuration has {} features\".format(best_subset_idx))\n",
    "        print(\"Features: {}\".format(subsets_best_features[best_subset_idx]))\n",
    "        print(\"Total number of trained models:\", num_evaluations)\n",
    "    \n",
    "    # Complete the subsets_fig figure by plotting\n",
    "    # a line connecting all best candidate score\n",
    "    best_candidate_score_idx = candidates_argbest(best_candidate_metric)\n",
    "    _ = candidate_fig.plot(range(len(best_candidate_metric)), best_candidate_metric)\n",
    "    _ = candidate_fig.scatter(best_candidate_score_idx, best_candidate_metric[best_candidate_score_idx],\n",
    "                              marker='X', label=\"Best\", color=\"r\")\n",
    "    candidate_fig.set_title(candidates_scorer_name)\n",
    "    candidate_fig.legend()\n",
    "    \n",
    "    # Plot a figure to show how te 3. metric evolves\n",
    "    plt.figure()\n",
    "    subsets_fig = plt.subplot(111)\n",
    "    _ = subsets_fig.plot(range(len(subsets_metric)), subsets_metric, label=\"Selection (3.) scores\")\n",
    "    _ = subsets_fig.scatter(best_subset_idx, subsets_metric[best_subset_idx],\n",
    "                              marker='X', label=\"Best (3.) score\", color=\"r\")\n",
    "    best_test_score_idx = test_argbest(subsets_test)\n",
    "    _ = subsets_fig.plot(range(len(subsets_test)), subsets_test, label=\"Test scores\")\n",
    "    _ = subsets_fig.scatter(best_test_score_idx, subsets_test[best_test_score_idx],\n",
    "                              marker='X', label=\"Best test score\", color=\"y\")\n",
    "    subsets_fig.set_title(subsets_scorer_name)\n",
    "    subsets_fig.legend()"
   ]
  },
  {
   "cell_type": "code",
   "execution_count": 70,
   "id": "8f8fce8f",
   "metadata": {
    "scrolled": true
   },
   "outputs": [
    {
     "name": "stdout",
     "output_type": "stream",
     "text": [
      "............\n",
      "Best model (M0) with 1 features: ['BounceRates']\n",
      "M0 subset score (3.): 1.2241171982719121\n",
      "............\n",
      "Best model (M1) with 2 features: ['BounceRates', 'Administrative']\n",
      "M1 subset score (3.): 1.1321984173156296\n",
      "............\n",
      "Best model (M2) with 3 features: ['BounceRates', 'Administrative', 'ProductRelated']\n",
      "M2 subset score (3.): 1.0931144210868404\n",
      "............\n",
      "Best model (M3) with 4 features: ['BounceRates', 'Administrative', 'ProductRelated', 'VisitorType']\n",
      "M3 subset score (3.): 1.0563853097735425\n",
      "............\n",
      "Best model (M4) with 5 features: ['BounceRates', 'Administrative', 'ProductRelated', 'VisitorType', 'PageValues']\n",
      "M4 subset score (3.): 1.0397560131731711\n",
      "............\n",
      "Best model (M5) with 6 features: ['BounceRates', 'Administrative', 'ProductRelated', 'VisitorType', 'PageValues', 'TrafficType_2']\n",
      "M5 subset score (3.): 1.0315673657213256\n",
      "............\n",
      "Best model (M6) with 7 features: ['BounceRates', 'Administrative', 'ProductRelated', 'VisitorType', 'PageValues', 'TrafficType_2', 'OperatingSystems_2']\n",
      "M6 subset score (3.): 1.0241832519280747\n",
      "............\n",
      "Best model (M7) with 8 features: ['BounceRates', 'Administrative', 'ProductRelated', 'VisitorType', 'PageValues', 'TrafficType_2', 'OperatingSystems_2', 'TrafficType_4']\n",
      "M7 subset score (3.): 1.0225875068427073\n",
      "............\n",
      "Best model (M8) with 9 features: ['BounceRates', 'Administrative', 'ProductRelated', 'VisitorType', 'PageValues', 'TrafficType_2', 'OperatingSystems_2', 'TrafficType_4', 'Month_June']\n",
      "M8 subset score (3.): 1.02104506077815\n",
      "............\n",
      "Best model (M9) with 10 features: ['BounceRates', 'Administrative', 'ProductRelated', 'VisitorType', 'PageValues', 'TrafficType_2', 'OperatingSystems_2', 'TrafficType_4', 'Month_June', 'SpecialDay']\n",
      "M9 subset score (3.): 1.0193046888703559\n",
      "............\n",
      "Best model (M10) with 11 features: ['BounceRates', 'Administrative', 'ProductRelated', 'VisitorType', 'PageValues', 'TrafficType_2', 'OperatingSystems_2', 'TrafficType_4', 'Month_June', 'SpecialDay', 'OperatingSystems_3']\n",
      "M10 subset score (3.): 1.0190154361693842\n",
      "............\n",
      "Best model (M11) with 12 features: ['BounceRates', 'Administrative', 'ProductRelated', 'VisitorType', 'PageValues', 'TrafficType_2', 'OperatingSystems_2', 'TrafficType_4', 'Month_June', 'SpecialDay', 'OperatingSystems_3', 'TrafficType_Others']\n",
      "M11 subset score (3.): 1.0192977105741101\n",
      "............\n",
      "Best model (M12) with 13 features: ['BounceRates', 'Administrative', 'ProductRelated', 'VisitorType', 'PageValues', 'TrafficType_2', 'OperatingSystems_2', 'TrafficType_4', 'Month_June', 'SpecialDay', 'OperatingSystems_3', 'TrafficType_Others', 'TrafficType_8']\n",
      "M12 subset score (3.): 1.0198666719346985\n",
      "............\n",
      "Best model (M13) with 14 features: ['BounceRates', 'Administrative', 'ProductRelated', 'VisitorType', 'PageValues', 'TrafficType_2', 'OperatingSystems_2', 'TrafficType_4', 'Month_June', 'SpecialDay', 'OperatingSystems_3', 'TrafficType_Others', 'TrafficType_8', 'ProductRelated_Duration']\n",
      "M13 subset score (3.): 1.0207127502519673\n",
      "............\n",
      "Best model (M14) with 15 features: ['BounceRates', 'Administrative', 'ProductRelated', 'VisitorType', 'PageValues', 'TrafficType_2', 'OperatingSystems_2', 'TrafficType_4', 'Month_June', 'SpecialDay', 'OperatingSystems_3', 'TrafficType_Others', 'TrafficType_8', 'ProductRelated_Duration', 'TrafficType_13']\n",
      "M14 subset score (3.): 1.0215997754786554\n",
      "............\n",
      "Best model (M15) with 16 features: ['BounceRates', 'Administrative', 'ProductRelated', 'VisitorType', 'PageValues', 'TrafficType_2', 'OperatingSystems_2', 'TrafficType_4', 'Month_June', 'SpecialDay', 'OperatingSystems_3', 'TrafficType_Others', 'TrafficType_8', 'ProductRelated_Duration', 'TrafficType_13', 'TrafficType_3']\n",
      "M15 subset score (3.): 1.0222179723702574\n",
      "............\n",
      "Best model (M16) with 17 features: ['BounceRates', 'Administrative', 'ProductRelated', 'VisitorType', 'PageValues', 'TrafficType_2', 'OperatingSystems_2', 'TrafficType_4', 'Month_June', 'SpecialDay', 'OperatingSystems_3', 'TrafficType_Others', 'TrafficType_8', 'ProductRelated_Duration', 'TrafficType_13', 'TrafficType_3', 'TrafficType_1']\n",
      "M16 subset score (3.): 1.0230919207068119\n",
      "............\n",
      "Best model (M17) with 18 features: ['BounceRates', 'Administrative', 'ProductRelated', 'VisitorType', 'PageValues', 'TrafficType_2', 'OperatingSystems_2', 'TrafficType_4', 'Month_June', 'SpecialDay', 'OperatingSystems_3', 'TrafficType_Others', 'TrafficType_8', 'ProductRelated_Duration', 'TrafficType_13', 'TrafficType_3', 'TrafficType_1', 'Month_Feb']\n",
      "M17 subset score (3.): 1.0239589362152068\n",
      "............\n",
      "Best model (M18) with 19 features: ['BounceRates', 'Administrative', 'ProductRelated', 'VisitorType', 'PageValues', 'TrafficType_2', 'OperatingSystems_2', 'TrafficType_4', 'Month_June', 'SpecialDay', 'OperatingSystems_3', 'TrafficType_Others', 'TrafficType_8', 'ProductRelated_Duration', 'TrafficType_13', 'TrafficType_3', 'TrafficType_1', 'Month_Feb', 'Month_Sep']\n",
      "M18 subset score (3.): 1.0249748252726034\n",
      "............\n",
      "Best model (M19) with 20 features: ['BounceRates', 'Administrative', 'ProductRelated', 'VisitorType', 'PageValues', 'TrafficType_2', 'OperatingSystems_2', 'TrafficType_4', 'Month_June', 'SpecialDay', 'OperatingSystems_3', 'TrafficType_Others', 'TrafficType_8', 'ProductRelated_Duration', 'TrafficType_13', 'TrafficType_3', 'TrafficType_1', 'Month_Feb', 'Month_Sep', 'Region_3']\n",
      "M19 subset score (3.): 1.026184589863815\n",
      "............\n",
      "Best model (M20) with 21 features: ['BounceRates', 'Administrative', 'ProductRelated', 'VisitorType', 'PageValues', 'TrafficType_2', 'OperatingSystems_2', 'TrafficType_4', 'Month_June', 'SpecialDay', 'OperatingSystems_3', 'TrafficType_Others', 'TrafficType_8', 'ProductRelated_Duration', 'TrafficType_13', 'TrafficType_3', 'TrafficType_1', 'Month_Feb', 'Month_Sep', 'Region_3', 'Region_1']\n",
      "M20 subset score (3.): 1.0274211814871026\n",
      "............\n",
      "Best model (M21) with 22 features: ['BounceRates', 'Administrative', 'ProductRelated', 'VisitorType', 'PageValues', 'TrafficType_2', 'OperatingSystems_2', 'TrafficType_4', 'Month_June', 'SpecialDay', 'OperatingSystems_3', 'TrafficType_Others', 'TrafficType_8', 'ProductRelated_Duration', 'TrafficType_13', 'TrafficType_3', 'TrafficType_1', 'Month_Feb', 'Month_Sep', 'Region_3', 'Region_1', 'Region_9']\n",
      "M21 subset score (3.): 1.028655923160735\n",
      "............\n",
      "Best model (M22) with 23 features: ['BounceRates', 'Administrative', 'ProductRelated', 'VisitorType', 'PageValues', 'TrafficType_2', 'OperatingSystems_2', 'TrafficType_4', 'Month_June', 'SpecialDay', 'OperatingSystems_3', 'TrafficType_Others', 'TrafficType_8', 'ProductRelated_Duration', 'TrafficType_13', 'TrafficType_3', 'TrafficType_1', 'Month_Feb', 'Month_Sep', 'Region_3', 'Region_1', 'Region_9', 'Month_Dec']\n",
      "M22 subset score (3.): 1.029970895689471\n",
      "............\n",
      "Best model (M23) with 24 features: ['BounceRates', 'Administrative', 'ProductRelated', 'VisitorType', 'PageValues', 'TrafficType_2', 'OperatingSystems_2', 'TrafficType_4', 'Month_June', 'SpecialDay', 'OperatingSystems_3', 'TrafficType_Others', 'TrafficType_8', 'ProductRelated_Duration', 'TrafficType_13', 'TrafficType_3', 'TrafficType_1', 'Month_Feb', 'Month_Sep', 'Region_3', 'Region_1', 'Region_9', 'Month_Dec', 'Month_Nov']\n",
      "M23 subset score (3.): 1.0312530422777781\n",
      "............\n",
      "Best model (M24) with 25 features: ['BounceRates', 'Administrative', 'ProductRelated', 'VisitorType', 'PageValues', 'TrafficType_2', 'OperatingSystems_2', 'TrafficType_4', 'Month_June', 'SpecialDay', 'OperatingSystems_3', 'TrafficType_Others', 'TrafficType_8', 'ProductRelated_Duration', 'TrafficType_13', 'TrafficType_3', 'TrafficType_1', 'Month_Feb', 'Month_Sep', 'Region_3', 'Region_1', 'Region_9', 'Month_Dec', 'Month_Nov', 'OperatingSystems_Others']\n",
      "M24 subset score (3.): 1.0326042523223034\n",
      "............\n",
      "Best model (M25) with 26 features: ['BounceRates', 'Administrative', 'ProductRelated', 'VisitorType', 'PageValues', 'TrafficType_2', 'OperatingSystems_2', 'TrafficType_4', 'Month_June', 'SpecialDay', 'OperatingSystems_3', 'TrafficType_Others', 'TrafficType_8', 'ProductRelated_Duration', 'TrafficType_13', 'TrafficType_3', 'TrafficType_1', 'Month_Feb', 'Month_Sep', 'Region_3', 'Region_1', 'Region_9', 'Month_Dec', 'Month_Nov', 'OperatingSystems_Others', 'OperatingSystems_1']\n",
      "M25 subset score (3.): 1.0340512897272989\n"
     ]
    },
    {
     "name": "stdout",
     "output_type": "stream",
     "text": [
      "............\n",
      "Best model (M26) with 27 features: ['BounceRates', 'Administrative', 'ProductRelated', 'VisitorType', 'PageValues', 'TrafficType_2', 'OperatingSystems_2', 'TrafficType_4', 'Month_June', 'SpecialDay', 'OperatingSystems_3', 'TrafficType_Others', 'TrafficType_8', 'ProductRelated_Duration', 'TrafficType_13', 'TrafficType_3', 'TrafficType_1', 'Month_Feb', 'Month_Sep', 'Region_3', 'Region_1', 'Region_9', 'Month_Dec', 'Month_Nov', 'OperatingSystems_Others', 'OperatingSystems_1', 'Browser_8']\n",
      "M26 subset score (3.): 1.035513618493027\n",
      "............\n",
      "Best model (M27) with 28 features: ['BounceRates', 'Administrative', 'ProductRelated', 'VisitorType', 'PageValues', 'TrafficType_2', 'OperatingSystems_2', 'TrafficType_4', 'Month_June', 'SpecialDay', 'OperatingSystems_3', 'TrafficType_Others', 'TrafficType_8', 'ProductRelated_Duration', 'TrafficType_13', 'TrafficType_3', 'TrafficType_1', 'Month_Feb', 'Month_Sep', 'Region_3', 'Region_1', 'Region_9', 'Month_Dec', 'Month_Nov', 'OperatingSystems_Others', 'OperatingSystems_1', 'Browser_8', 'Browser_1']\n",
      "M27 subset score (3.): 1.0369812766210333\n",
      "............\n",
      "Best model (M28) with 29 features: ['BounceRates', 'Administrative', 'ProductRelated', 'VisitorType', 'PageValues', 'TrafficType_2', 'OperatingSystems_2', 'TrafficType_4', 'Month_June', 'SpecialDay', 'OperatingSystems_3', 'TrafficType_Others', 'TrafficType_8', 'ProductRelated_Duration', 'TrafficType_13', 'TrafficType_3', 'TrafficType_1', 'Month_Feb', 'Month_Sep', 'Region_3', 'Region_1', 'Region_9', 'Month_Dec', 'Month_Nov', 'OperatingSystems_Others', 'OperatingSystems_1', 'Browser_8', 'Browser_1', 'Informational']\n",
      "M28 subset score (3.): 1.0384675193288173\n",
      "............\n",
      "Best model (M29) with 30 features: ['BounceRates', 'Administrative', 'ProductRelated', 'VisitorType', 'PageValues', 'TrafficType_2', 'OperatingSystems_2', 'TrafficType_4', 'Month_June', 'SpecialDay', 'OperatingSystems_3', 'TrafficType_Others', 'TrafficType_8', 'ProductRelated_Duration', 'TrafficType_13', 'TrafficType_3', 'TrafficType_1', 'Month_Feb', 'Month_Sep', 'Region_3', 'Region_1', 'Region_9', 'Month_Dec', 'Month_Nov', 'OperatingSystems_Others', 'OperatingSystems_1', 'Browser_8', 'Browser_1', 'Informational', 'TrafficType_20']\n",
      "M29 subset score (3.): 1.0400106692036\n",
      "............\n",
      "Best model (M30) with 31 features: ['BounceRates', 'Administrative', 'ProductRelated', 'VisitorType', 'PageValues', 'TrafficType_2', 'OperatingSystems_2', 'TrafficType_4', 'Month_June', 'SpecialDay', 'OperatingSystems_3', 'TrafficType_Others', 'TrafficType_8', 'ProductRelated_Duration', 'TrafficType_13', 'TrafficType_3', 'TrafficType_1', 'Month_Feb', 'Month_Sep', 'Region_3', 'Region_1', 'Region_9', 'Month_Dec', 'Month_Nov', 'OperatingSystems_Others', 'OperatingSystems_1', 'Browser_8', 'Browser_1', 'Informational', 'TrafficType_20', 'TrafficType_10']\n",
      "M30 subset score (3.): 1.0415486545252852\n",
      "............\n",
      "Best model (M31) with 32 features: ['BounceRates', 'Administrative', 'ProductRelated', 'VisitorType', 'PageValues', 'TrafficType_2', 'OperatingSystems_2', 'TrafficType_4', 'Month_June', 'SpecialDay', 'OperatingSystems_3', 'TrafficType_Others', 'TrafficType_8', 'ProductRelated_Duration', 'TrafficType_13', 'TrafficType_3', 'TrafficType_1', 'Month_Feb', 'Month_Sep', 'Region_3', 'Region_1', 'Region_9', 'Month_Dec', 'Month_Nov', 'OperatingSystems_Others', 'OperatingSystems_1', 'Browser_8', 'Browser_1', 'Informational', 'TrafficType_20', 'TrafficType_10', 'Browser_5']\n",
      "M31 subset score (3.): 1.043111662821854\n",
      "............\n",
      "Best model (M32) with 33 features: ['BounceRates', 'Administrative', 'ProductRelated', 'VisitorType', 'PageValues', 'TrafficType_2', 'OperatingSystems_2', 'TrafficType_4', 'Month_June', 'SpecialDay', 'OperatingSystems_3', 'TrafficType_Others', 'TrafficType_8', 'ProductRelated_Duration', 'TrafficType_13', 'TrafficType_3', 'TrafficType_1', 'Month_Feb', 'Month_Sep', 'Region_3', 'Region_1', 'Region_9', 'Month_Dec', 'Month_Nov', 'OperatingSystems_Others', 'OperatingSystems_1', 'Browser_8', 'Browser_1', 'Informational', 'TrafficType_20', 'TrafficType_10', 'Browser_5', 'Browser_Others']\n",
      "M32 subset score (3.): 1.044679431413662\n",
      "............\n",
      "Best model (M33) with 34 features: ['BounceRates', 'Administrative', 'ProductRelated', 'VisitorType', 'PageValues', 'TrafficType_2', 'OperatingSystems_2', 'TrafficType_4', 'Month_June', 'SpecialDay', 'OperatingSystems_3', 'TrafficType_Others', 'TrafficType_8', 'ProductRelated_Duration', 'TrafficType_13', 'TrafficType_3', 'TrafficType_1', 'Month_Feb', 'Month_Sep', 'Region_3', 'Region_1', 'Region_9', 'Month_Dec', 'Month_Nov', 'OperatingSystems_Others', 'OperatingSystems_1', 'Browser_8', 'Browser_1', 'Informational', 'TrafficType_20', 'TrafficType_10', 'Browser_5', 'Browser_Others', 'Region_4']\n",
      "M33 subset score (3.): 1.0462598068110605\n",
      "............\n",
      "Best model (M34) with 35 features: ['BounceRates', 'Administrative', 'ProductRelated', 'VisitorType', 'PageValues', 'TrafficType_2', 'OperatingSystems_2', 'TrafficType_4', 'Month_June', 'SpecialDay', 'OperatingSystems_3', 'TrafficType_Others', 'TrafficType_8', 'ProductRelated_Duration', 'TrafficType_13', 'TrafficType_3', 'TrafficType_1', 'Month_Feb', 'Month_Sep', 'Region_3', 'Region_1', 'Region_9', 'Month_Dec', 'Month_Nov', 'OperatingSystems_Others', 'OperatingSystems_1', 'Browser_8', 'Browser_1', 'Informational', 'TrafficType_20', 'TrafficType_10', 'Browser_5', 'Browser_Others', 'Region_4', 'Region_5']\n",
      "M34 subset score (3.): 1.047837506189692\n",
      "............\n",
      "Best model (M35) with 36 features: ['BounceRates', 'Administrative', 'ProductRelated', 'VisitorType', 'PageValues', 'TrafficType_2', 'OperatingSystems_2', 'TrafficType_4', 'Month_June', 'SpecialDay', 'OperatingSystems_3', 'TrafficType_Others', 'TrafficType_8', 'ProductRelated_Duration', 'TrafficType_13', 'TrafficType_3', 'TrafficType_1', 'Month_Feb', 'Month_Sep', 'Region_3', 'Region_1', 'Region_9', 'Month_Dec', 'Month_Nov', 'OperatingSystems_Others', 'OperatingSystems_1', 'Browser_8', 'Browser_1', 'Informational', 'TrafficType_20', 'TrafficType_10', 'Browser_5', 'Browser_Others', 'Region_4', 'Region_5', 'Month_Aug']\n",
      "M35 subset score (3.): 1.049437787196136\n",
      "............\n",
      "Best model (M36) with 37 features: ['BounceRates', 'Administrative', 'ProductRelated', 'VisitorType', 'PageValues', 'TrafficType_2', 'OperatingSystems_2', 'TrafficType_4', 'Month_June', 'SpecialDay', 'OperatingSystems_3', 'TrafficType_Others', 'TrafficType_8', 'ProductRelated_Duration', 'TrafficType_13', 'TrafficType_3', 'TrafficType_1', 'Month_Feb', 'Month_Sep', 'Region_3', 'Region_1', 'Region_9', 'Month_Dec', 'Month_Nov', 'OperatingSystems_Others', 'OperatingSystems_1', 'Browser_8', 'Browser_1', 'Informational', 'TrafficType_20', 'TrafficType_10', 'Browser_5', 'Browser_Others', 'Region_4', 'Region_5', 'Month_Aug', 'Month_Jul']\n",
      "M36 subset score (3.): 1.0510449115999791\n",
      "............\n",
      "Best model (M37) with 38 features: ['BounceRates', 'Administrative', 'ProductRelated', 'VisitorType', 'PageValues', 'TrafficType_2', 'OperatingSystems_2', 'TrafficType_4', 'Month_June', 'SpecialDay', 'OperatingSystems_3', 'TrafficType_Others', 'TrafficType_8', 'ProductRelated_Duration', 'TrafficType_13', 'TrafficType_3', 'TrafficType_1', 'Month_Feb', 'Month_Sep', 'Region_3', 'Region_1', 'Region_9', 'Month_Dec', 'Month_Nov', 'OperatingSystems_Others', 'OperatingSystems_1', 'Browser_8', 'Browser_1', 'Informational', 'TrafficType_20', 'TrafficType_10', 'Browser_5', 'Browser_Others', 'Region_4', 'Region_5', 'Month_Aug', 'Month_Jul', 'Browser_10']\n",
      "M37 subset score (3.): 1.0526535332516793\n",
      "............\n",
      "Best model (M38) with 39 features: ['BounceRates', 'Administrative', 'ProductRelated', 'VisitorType', 'PageValues', 'TrafficType_2', 'OperatingSystems_2', 'TrafficType_4', 'Month_June', 'SpecialDay', 'OperatingSystems_3', 'TrafficType_Others', 'TrafficType_8', 'ProductRelated_Duration', 'TrafficType_13', 'TrafficType_3', 'TrafficType_1', 'Month_Feb', 'Month_Sep', 'Region_3', 'Region_1', 'Region_9', 'Month_Dec', 'Month_Nov', 'OperatingSystems_Others', 'OperatingSystems_1', 'Browser_8', 'Browser_1', 'Informational', 'TrafficType_20', 'TrafficType_10', 'Browser_5', 'Browser_Others', 'Region_4', 'Region_5', 'Month_Aug', 'Month_Jul', 'Browser_10', 'Region_8']\n",
      "M38 subset score (3.): 1.054271036551431\n"
     ]
    },
    {
     "name": "stdout",
     "output_type": "stream",
     "text": [
      "............\n",
      "Best model (M39) with 40 features: ['BounceRates', 'Administrative', 'ProductRelated', 'VisitorType', 'PageValues', 'TrafficType_2', 'OperatingSystems_2', 'TrafficType_4', 'Month_June', 'SpecialDay', 'OperatingSystems_3', 'TrafficType_Others', 'TrafficType_8', 'ProductRelated_Duration', 'TrafficType_13', 'TrafficType_3', 'TrafficType_1', 'Month_Feb', 'Month_Sep', 'Region_3', 'Region_1', 'Region_9', 'Month_Dec', 'Month_Nov', 'OperatingSystems_Others', 'OperatingSystems_1', 'Browser_8', 'Browser_1', 'Informational', 'TrafficType_20', 'TrafficType_10', 'Browser_5', 'Browser_Others', 'Region_4', 'Region_5', 'Month_Aug', 'Month_Jul', 'Browser_10', 'Region_8', 'Browser_6']\n",
      "M39 subset score (3.): 1.0559118677106167\n",
      "............\n",
      "Best model (M40) with 41 features: ['BounceRates', 'Administrative', 'ProductRelated', 'VisitorType', 'PageValues', 'TrafficType_2', 'OperatingSystems_2', 'TrafficType_4', 'Month_June', 'SpecialDay', 'OperatingSystems_3', 'TrafficType_Others', 'TrafficType_8', 'ProductRelated_Duration', 'TrafficType_13', 'TrafficType_3', 'TrafficType_1', 'Month_Feb', 'Month_Sep', 'Region_3', 'Region_1', 'Region_9', 'Month_Dec', 'Month_Nov', 'OperatingSystems_Others', 'OperatingSystems_1', 'Browser_8', 'Browser_1', 'Informational', 'TrafficType_20', 'TrafficType_10', 'Browser_5', 'Browser_Others', 'Region_4', 'Region_5', 'Month_Aug', 'Month_Jul', 'Browser_10', 'Region_8', 'Browser_6', 'Informational_Duration']\n",
      "M40 subset score (3.): 1.0575584453320794\n",
      "............\n",
      "Best model (M41) with 42 features: ['BounceRates', 'Administrative', 'ProductRelated', 'VisitorType', 'PageValues', 'TrafficType_2', 'OperatingSystems_2', 'TrafficType_4', 'Month_June', 'SpecialDay', 'OperatingSystems_3', 'TrafficType_Others', 'TrafficType_8', 'ProductRelated_Duration', 'TrafficType_13', 'TrafficType_3', 'TrafficType_1', 'Month_Feb', 'Month_Sep', 'Region_3', 'Region_1', 'Region_9', 'Month_Dec', 'Month_Nov', 'OperatingSystems_Others', 'OperatingSystems_1', 'Browser_8', 'Browser_1', 'Informational', 'TrafficType_20', 'TrafficType_10', 'Browser_5', 'Browser_Others', 'Region_4', 'Region_5', 'Month_Aug', 'Month_Jul', 'Browser_10', 'Region_8', 'Browser_6', 'Informational_Duration', 'Month_May']\n",
      "M41 subset score (3.): 1.059210667273712\n",
      "............\n",
      "Best model (M42) with 43 features: ['BounceRates', 'Administrative', 'ProductRelated', 'VisitorType', 'PageValues', 'TrafficType_2', 'OperatingSystems_2', 'TrafficType_4', 'Month_June', 'SpecialDay', 'OperatingSystems_3', 'TrafficType_Others', 'TrafficType_8', 'ProductRelated_Duration', 'TrafficType_13', 'TrafficType_3', 'TrafficType_1', 'Month_Feb', 'Month_Sep', 'Region_3', 'Region_1', 'Region_9', 'Month_Dec', 'Month_Nov', 'OperatingSystems_Others', 'OperatingSystems_1', 'Browser_8', 'Browser_1', 'Informational', 'TrafficType_20', 'TrafficType_10', 'Browser_5', 'Browser_Others', 'Region_4', 'Region_5', 'Month_Aug', 'Month_Jul', 'Browser_10', 'Region_8', 'Browser_6', 'Informational_Duration', 'Month_May', 'TrafficType_5']\n",
      "M42 subset score (3.): 1.0608629346974592\n",
      "............\n",
      "Best model (M43) with 44 features: ['BounceRates', 'Administrative', 'ProductRelated', 'VisitorType', 'PageValues', 'TrafficType_2', 'OperatingSystems_2', 'TrafficType_4', 'Month_June', 'SpecialDay', 'OperatingSystems_3', 'TrafficType_Others', 'TrafficType_8', 'ProductRelated_Duration', 'TrafficType_13', 'TrafficType_3', 'TrafficType_1', 'Month_Feb', 'Month_Sep', 'Region_3', 'Region_1', 'Region_9', 'Month_Dec', 'Month_Nov', 'OperatingSystems_Others', 'OperatingSystems_1', 'Browser_8', 'Browser_1', 'Informational', 'TrafficType_20', 'TrafficType_10', 'Browser_5', 'Browser_Others', 'Region_4', 'Region_5', 'Month_Aug', 'Month_Jul', 'Browser_10', 'Region_8', 'Browser_6', 'Informational_Duration', 'Month_May', 'TrafficType_5', 'Browser_2']\n",
      "M43 subset score (3.): 1.0625167485543106\n",
      "............\n",
      "Best model (M44) with 45 features: ['BounceRates', 'Administrative', 'ProductRelated', 'VisitorType', 'PageValues', 'TrafficType_2', 'OperatingSystems_2', 'TrafficType_4', 'Month_June', 'SpecialDay', 'OperatingSystems_3', 'TrafficType_Others', 'TrafficType_8', 'ProductRelated_Duration', 'TrafficType_13', 'TrafficType_3', 'TrafficType_1', 'Month_Feb', 'Month_Sep', 'Region_3', 'Region_1', 'Region_9', 'Month_Dec', 'Month_Nov', 'OperatingSystems_Others', 'OperatingSystems_1', 'Browser_8', 'Browser_1', 'Informational', 'TrafficType_20', 'TrafficType_10', 'Browser_5', 'Browser_Others', 'Region_4', 'Region_5', 'Month_Aug', 'Month_Jul', 'Browser_10', 'Region_8', 'Browser_6', 'Informational_Duration', 'Month_May', 'TrafficType_5', 'Browser_2', 'Month_Mar']\n",
      "M44 subset score (3.): 1.0641761905017317\n",
      "............\n",
      "Best model (M45) with 46 features: ['BounceRates', 'Administrative', 'ProductRelated', 'VisitorType', 'PageValues', 'TrafficType_2', 'OperatingSystems_2', 'TrafficType_4', 'Month_June', 'SpecialDay', 'OperatingSystems_3', 'TrafficType_Others', 'TrafficType_8', 'ProductRelated_Duration', 'TrafficType_13', 'TrafficType_3', 'TrafficType_1', 'Month_Feb', 'Month_Sep', 'Region_3', 'Region_1', 'Region_9', 'Month_Dec', 'Month_Nov', 'OperatingSystems_Others', 'OperatingSystems_1', 'Browser_8', 'Browser_1', 'Informational', 'TrafficType_20', 'TrafficType_10', 'Browser_5', 'Browser_Others', 'Region_4', 'Region_5', 'Month_Aug', 'Month_Jul', 'Browser_10', 'Region_8', 'Browser_6', 'Informational_Duration', 'Month_May', 'TrafficType_5', 'Browser_2', 'Month_Mar', 'Region_2']\n",
      "M45 subset score (3.): 1.0658387925843233\n",
      "............\n",
      "Best model (M46) with 47 features: ['BounceRates', 'Administrative', 'ProductRelated', 'VisitorType', 'PageValues', 'TrafficType_2', 'OperatingSystems_2', 'TrafficType_4', 'Month_June', 'SpecialDay', 'OperatingSystems_3', 'TrafficType_Others', 'TrafficType_8', 'ProductRelated_Duration', 'TrafficType_13', 'TrafficType_3', 'TrafficType_1', 'Month_Feb', 'Month_Sep', 'Region_3', 'Region_1', 'Region_9', 'Month_Dec', 'Month_Nov', 'OperatingSystems_Others', 'OperatingSystems_1', 'Browser_8', 'Browser_1', 'Informational', 'TrafficType_20', 'TrafficType_10', 'Browser_5', 'Browser_Others', 'Region_4', 'Region_5', 'Month_Aug', 'Month_Jul', 'Browser_10', 'Region_8', 'Browser_6', 'Informational_Duration', 'Month_May', 'TrafficType_5', 'Browser_2', 'Month_Mar', 'Region_2', 'Administrative_Duration']\n",
      "M46 subset score (3.): 1.06750164711949\n",
      "............\n",
      "Best model (M47) with 48 features: ['BounceRates', 'Administrative', 'ProductRelated', 'VisitorType', 'PageValues', 'TrafficType_2', 'OperatingSystems_2', 'TrafficType_4', 'Month_June', 'SpecialDay', 'OperatingSystems_3', 'TrafficType_Others', 'TrafficType_8', 'ProductRelated_Duration', 'TrafficType_13', 'TrafficType_3', 'TrafficType_1', 'Month_Feb', 'Month_Sep', 'Region_3', 'Region_1', 'Region_9', 'Month_Dec', 'Month_Nov', 'OperatingSystems_Others', 'OperatingSystems_1', 'Browser_8', 'Browser_1', 'Informational', 'TrafficType_20', 'TrafficType_10', 'Browser_5', 'Browser_Others', 'Region_4', 'Region_5', 'Month_Aug', 'Month_Jul', 'Browser_10', 'Region_8', 'Browser_6', 'Informational_Duration', 'Month_May', 'TrafficType_5', 'Browser_2', 'Month_Mar', 'Region_2', 'Administrative_Duration', 'TrafficType_11']\n",
      "M47 subset score (3.): 1.069165317041274\n",
      "............\n",
      "Best model (M48) with 49 features: ['BounceRates', 'Administrative', 'ProductRelated', 'VisitorType', 'PageValues', 'TrafficType_2', 'OperatingSystems_2', 'TrafficType_4', 'Month_June', 'SpecialDay', 'OperatingSystems_3', 'TrafficType_Others', 'TrafficType_8', 'ProductRelated_Duration', 'TrafficType_13', 'TrafficType_3', 'TrafficType_1', 'Month_Feb', 'Month_Sep', 'Region_3', 'Region_1', 'Region_9', 'Month_Dec', 'Month_Nov', 'OperatingSystems_Others', 'OperatingSystems_1', 'Browser_8', 'Browser_1', 'Informational', 'TrafficType_20', 'TrafficType_10', 'Browser_5', 'Browser_Others', 'Region_4', 'Region_5', 'Month_Aug', 'Month_Jul', 'Browser_10', 'Region_8', 'Browser_6', 'Informational_Duration', 'Month_May', 'TrafficType_5', 'Browser_2', 'Month_Mar', 'Region_2', 'Administrative_Duration', 'TrafficType_11', 'Region_7']\n",
      "M48 subset score (3.): 1.0708294463790655\n",
      "............\n",
      "Best model (M49) with 50 features: ['BounceRates', 'Administrative', 'ProductRelated', 'VisitorType', 'PageValues', 'TrafficType_2', 'OperatingSystems_2', 'TrafficType_4', 'Month_June', 'SpecialDay', 'OperatingSystems_3', 'TrafficType_Others', 'TrafficType_8', 'ProductRelated_Duration', 'TrafficType_13', 'TrafficType_3', 'TrafficType_1', 'Month_Feb', 'Month_Sep', 'Region_3', 'Region_1', 'Region_9', 'Month_Dec', 'Month_Nov', 'OperatingSystems_Others', 'OperatingSystems_1', 'Browser_8', 'Browser_1', 'Informational', 'TrafficType_20', 'TrafficType_10', 'Browser_5', 'Browser_Others', 'Region_4', 'Region_5', 'Month_Aug', 'Month_Jul', 'Browser_10', 'Region_8', 'Browser_6', 'Informational_Duration', 'Month_May', 'TrafficType_5', 'Browser_2', 'Month_Mar', 'Region_2', 'Administrative_Duration', 'TrafficType_11', 'Region_7', 'Region_6']\n",
      "M49 subset score (3.): 1.0724935757833178\n",
      "............\n",
      "Best model (M50) with 51 features: ['BounceRates', 'Administrative', 'ProductRelated', 'VisitorType', 'PageValues', 'TrafficType_2', 'OperatingSystems_2', 'TrafficType_4', 'Month_June', 'SpecialDay', 'OperatingSystems_3', 'TrafficType_Others', 'TrafficType_8', 'ProductRelated_Duration', 'TrafficType_13', 'TrafficType_3', 'TrafficType_1', 'Month_Feb', 'Month_Sep', 'Region_3', 'Region_1', 'Region_9', 'Month_Dec', 'Month_Nov', 'OperatingSystems_Others', 'OperatingSystems_1', 'Browser_8', 'Browser_1', 'Informational', 'TrafficType_20', 'TrafficType_10', 'Browser_5', 'Browser_Others', 'Region_4', 'Region_5', 'Month_Aug', 'Month_Jul', 'Browser_10', 'Region_8', 'Browser_6', 'Informational_Duration', 'Month_May', 'TrafficType_5', 'Browser_2', 'Month_Mar', 'Region_2', 'Administrative_Duration', 'TrafficType_11', 'Region_7', 'Region_6', 'Month_Oct']\n",
      "M50 subset score (3.): 1.07415770518757\n",
      "............\n",
      "Best model (M51) with 52 features: ['BounceRates', 'Administrative', 'ProductRelated', 'VisitorType', 'PageValues', 'TrafficType_2', 'OperatingSystems_2', 'TrafficType_4', 'Month_June', 'SpecialDay', 'OperatingSystems_3', 'TrafficType_Others', 'TrafficType_8', 'ProductRelated_Duration', 'TrafficType_13', 'TrafficType_3', 'TrafficType_1', 'Month_Feb', 'Month_Sep', 'Region_3', 'Region_1', 'Region_9', 'Month_Dec', 'Month_Nov', 'OperatingSystems_Others', 'OperatingSystems_1', 'Browser_8', 'Browser_1', 'Informational', 'TrafficType_20', 'TrafficType_10', 'Browser_5', 'Browser_Others', 'Region_4', 'Region_5', 'Month_Aug', 'Month_Jul', 'Browser_10', 'Region_8', 'Browser_6', 'Informational_Duration', 'Month_May', 'TrafficType_5', 'Browser_2', 'Month_Mar', 'Region_2', 'Administrative_Duration', 'TrafficType_11', 'Region_7', 'Region_6', 'Month_Oct', 'Browser_4']\n",
      "M51 subset score (3.): 1.0758218345918225\n"
     ]
    },
    {
     "name": "stdout",
     "output_type": "stream",
     "text": [
      "............\n",
      "Best model (M52) with 53 features: ['BounceRates', 'Administrative', 'ProductRelated', 'VisitorType', 'PageValues', 'TrafficType_2', 'OperatingSystems_2', 'TrafficType_4', 'Month_June', 'SpecialDay', 'OperatingSystems_3', 'TrafficType_Others', 'TrafficType_8', 'ProductRelated_Duration', 'TrafficType_13', 'TrafficType_3', 'TrafficType_1', 'Month_Feb', 'Month_Sep', 'Region_3', 'Region_1', 'Region_9', 'Month_Dec', 'Month_Nov', 'OperatingSystems_Others', 'OperatingSystems_1', 'Browser_8', 'Browser_1', 'Informational', 'TrafficType_20', 'TrafficType_10', 'Browser_5', 'Browser_Others', 'Region_4', 'Region_5', 'Month_Aug', 'Month_Jul', 'Browser_10', 'Region_8', 'Browser_6', 'Informational_Duration', 'Month_May', 'TrafficType_5', 'Browser_2', 'Month_Mar', 'Region_2', 'Administrative_Duration', 'TrafficType_11', 'Region_7', 'Region_6', 'Month_Oct', 'Browser_4', 'Weekend']\n",
      "M52 subset score (3.): 1.0774859639960745\n",
      "............\n",
      "Best model (M53) with 54 features: ['BounceRates', 'Administrative', 'ProductRelated', 'VisitorType', 'PageValues', 'TrafficType_2', 'OperatingSystems_2', 'TrafficType_4', 'Month_June', 'SpecialDay', 'OperatingSystems_3', 'TrafficType_Others', 'TrafficType_8', 'ProductRelated_Duration', 'TrafficType_13', 'TrafficType_3', 'TrafficType_1', 'Month_Feb', 'Month_Sep', 'Region_3', 'Region_1', 'Region_9', 'Month_Dec', 'Month_Nov', 'OperatingSystems_Others', 'OperatingSystems_1', 'Browser_8', 'Browser_1', 'Informational', 'TrafficType_20', 'TrafficType_10', 'Browser_5', 'Browser_Others', 'Region_4', 'Region_5', 'Month_Aug', 'Month_Jul', 'Browser_10', 'Region_8', 'Browser_6', 'Informational_Duration', 'Month_May', 'TrafficType_5', 'Browser_2', 'Month_Mar', 'Region_2', 'Administrative_Duration', 'TrafficType_11', 'Region_7', 'Region_6', 'Month_Oct', 'Browser_4', 'Weekend', 'TrafficType_6']\n",
      "M53 subset score (3.): 1.0791500934003269\n",
      "............\n",
      "Best model (M54) with 55 features: ['BounceRates', 'Administrative', 'ProductRelated', 'VisitorType', 'PageValues', 'TrafficType_2', 'OperatingSystems_2', 'TrafficType_4', 'Month_June', 'SpecialDay', 'OperatingSystems_3', 'TrafficType_Others', 'TrafficType_8', 'ProductRelated_Duration', 'TrafficType_13', 'TrafficType_3', 'TrafficType_1', 'Month_Feb', 'Month_Sep', 'Region_3', 'Region_1', 'Region_9', 'Month_Dec', 'Month_Nov', 'OperatingSystems_Others', 'OperatingSystems_1', 'Browser_8', 'Browser_1', 'Informational', 'TrafficType_20', 'TrafficType_10', 'Browser_5', 'Browser_Others', 'Region_4', 'Region_5', 'Month_Aug', 'Month_Jul', 'Browser_10', 'Region_8', 'Browser_6', 'Informational_Duration', 'Month_May', 'TrafficType_5', 'Browser_2', 'Month_Mar', 'Region_2', 'Administrative_Duration', 'TrafficType_11', 'Region_7', 'Region_6', 'Month_Oct', 'Browser_4', 'Weekend', 'TrafficType_6', 'OperatingSystems_4']\n",
      "M54 subset score (3.): 1.0808142228045792\n",
      "\n",
      "\n",
      "Best configuration has 11 features\n",
      "Features: ['BounceRates', 'Administrative', 'ProductRelated', 'VisitorType', 'PageValues', 'TrafficType_2', 'OperatingSystems_2', 'TrafficType_4', 'Month_June', 'SpecialDay', 'OperatingSystems_3']\n",
      "Total number of trained models: 1540\n"
     ]
    },
    {
     "data": {
      "image/png": "[encoded data removed]",
      "text/plain": [
       "<Figure size 640x480 with 1 Axes>"
      ]
     },
     "metadata": {},
     "output_type": "display_data"
    },
    {
     "data": {
      "image/png": "[encoded data removed]",
      "text/plain": [
       "<Figure size 640x480 with 1 Axes>"
      ]
     },
     "metadata": {},
     "output_type": "display_data"
    }
   ],
   "source": [
    "forward_selection(X_train_pd, y_train, X_test_pd, y_test,\n",
    "                  get_evaluator(make_scorer(r2_score)), np.argmax, # 2.\n",
    "                  get_evaluator(get_sigma_scorer(bic, sigma)), np.argmin, # 3.\n",
    "                  get_evaluator(make_scorer(mean_squared_error)), np.argmin, # test\n",
    "                  candidates_scorer_name=\"R^2\",\n",
    "                  subsets_scorer_name=\"BIC\",\n",
    "                  verbose=True)"
   ]
  },
  {
   "cell_type": "markdown",
   "id": "614b51fa",
   "metadata": {},
   "source": [
    "Now we try to search for the best polynomial model with our reduced set of features."
   ]
  },
  {
   "cell_type": "code",
   "execution_count": 71,
   "id": "68956114",
   "metadata": {},
   "outputs": [
    {
     "name": "stdout",
     "output_type": "stream",
     "text": [
      "X_train.shape  (5134, 11)\n",
      "X_test.shape  (1284, 11)\n",
      "Best degree:  2 \n",
      "Val score:  0.8766889815952688\n",
      "Test score: 0.8463873249470446\n"
     ]
    }
   ],
   "source": [
    "X_features_best = ['BounceRates', 'Administrative', 'ProductRelated', 'VisitorType', 'PageValues', 'TrafficType_2', 'OperatingSystems_2', 'TrafficType_4', 'Month_June', 'SpecialDay', 'OperatingSystems_3']\n",
    "X = training_set_no_missing[X_features_best].to_numpy()\n",
    "y = training_set_no_missing['ExitRates'].to_numpy()\n",
    "\n",
    "#splitting data\n",
    "test_size = 0.2\n",
    "test_seed = 50\n",
    "# Split X and y into train and test\n",
    "X_train, X_test, y_train, y_test = train_test_split(X, y, test_size=test_size, random_state=test_seed)\n",
    "print(\"X_train.shape \", X_train.shape)\n",
    "print(\"X_test.shape \", X_test.shape)\n",
    "\n",
    "\n",
    "degree = list(range(1,5))\n",
    "val_scores = np.zeros(len(degree))\n",
    "# Validation\n",
    "for i, d in enumerate(degree):\n",
    "    model = Pipeline([('poly', PolynomialFeatures(degree=d, include_bias=False)),\n",
    "                      ('linear', LinearRegression(fit_intercept=True))])\n",
    "    scores = cross_val_score(model, X_train, y_train, scoring=r2_scorer, cv=5)\n",
    "    val_scores[i] = np.mean(scores)\n",
    "\n",
    "# Identifies which is the best degree\n",
    "best_model_idx = np.argmax(val_scores)\n",
    "best_degree = degree[best_model_idx]\n",
    "# And the corresponding (best) validation score\n",
    "best_val_score = val_scores[best_model_idx]\n",
    "print(\"Best degree: \", best_degree,\n",
    "      \"\\nVal score: \", best_val_score)\n",
    "    \n",
    "    \n",
    "# Train again the Pipeline using the best parameter and the whole training set\n",
    "model = Pipeline([('poly', PolynomialFeatures(degree=best_degree, include_bias=False)),\n",
    "                  ('linear', LinearRegression(fit_intercept=True))])\n",
    "# Note: we train on X_train_small + X_val\n",
    "model = model.fit(np.concatenate([X_train]), np.concatenate([y_train]))\n",
    "y_predict = model.predict(X_test)\n",
    "test_score = r2_score(y_test, y_predict)\n",
    "\n",
    "print(\"Test score:\", test_score)"
   ]
  },
  {
   "cell_type": "code",
   "execution_count": 72,
   "id": "2651ae75",
   "metadata": {},
   "outputs": [
    {
     "data": {
      "text/plain": [
       "GridSearchCV(cv=5,\n",
       "             estimator=Pipeline(steps=[('poly',\n",
       "                                        PolynomialFeatures(include_bias=False)),\n",
       "                                       ('lasso', Lasso())]),\n",
       "             param_grid={'lasso__alpha': [0.01, 0.1, 1.0, 10.0]})"
      ]
     },
     "execution_count": 72,
     "metadata": {},
     "output_type": "execute_result"
    },
    {
     "name": "stdout",
     "output_type": "stream",
     "text": [
      "Best alpha: 0.01\n",
      "Best coefficients: [ 0.00000000e+00 -2.29518683e-03 -1.20656001e-03  0.00000000e+00\n",
      " -6.14465420e-04 -0.00000000e+00 -0.00000000e+00 -0.00000000e+00\n",
      "  0.00000000e+00  0.00000000e+00  0.00000000e+00  0.00000000e+00\n",
      "  0.00000000e+00  0.00000000e+00  0.00000000e+00  0.00000000e+00\n",
      "  0.00000000e+00  0.00000000e+00  0.00000000e+00  0.00000000e+00\n",
      "  0.00000000e+00  0.00000000e+00 -3.89282133e-05  2.47942093e-05\n",
      " -0.00000000e+00  0.00000000e+00 -0.00000000e+00 -0.00000000e+00\n",
      " -0.00000000e+00  0.00000000e+00  0.00000000e+00 -0.00000000e+00\n",
      "  1.66323049e-06  4.16096034e-04  3.42060741e-06 -0.00000000e+00\n",
      "  3.37620411e-06 -0.00000000e+00  0.00000000e+00  0.00000000e+00\n",
      "  1.13410674e-05  0.00000000e+00 -0.00000000e+00 -0.00000000e+00\n",
      "  0.00000000e+00 -0.00000000e+00  0.00000000e+00  0.00000000e+00\n",
      "  0.00000000e+00  1.39631202e-06 -0.00000000e+00 -0.00000000e+00\n",
      " -0.00000000e+00  0.00000000e+00 -0.00000000e+00 -0.00000000e+00\n",
      " -0.00000000e+00 -0.00000000e+00  0.00000000e+00 -0.00000000e+00\n",
      " -0.00000000e+00 -0.00000000e+00 -0.00000000e+00 -0.00000000e+00\n",
      "  0.00000000e+00  0.00000000e+00  0.00000000e+00 -0.00000000e+00\n",
      "  0.00000000e+00  0.00000000e+00 -0.00000000e+00  0.00000000e+00\n",
      "  0.00000000e+00  0.00000000e+00  0.00000000e+00  0.00000000e+00\n",
      "  0.00000000e+00]\n"
     ]
    }
   ],
   "source": [
    "from sklearn.linear_model import Lasso\n",
    "pipeline = Pipeline([\n",
    "    ('poly', PolynomialFeatures(degree=best_degree, include_bias=False)),\n",
    "    ('lasso', Lasso())  # Lasso estimator without specifying alpha\n",
    "])\n",
    "\n",
    "# Define the parameter grid to search for the best alpha value\n",
    "param_grid = {\n",
    "    'lasso__alpha': [0.01, 0.1, 1.0, 10.0]  # Add more values if needed\n",
    "}\n",
    "\n",
    "# Create the GridSearchCV object\n",
    "grid_search = GridSearchCV(pipeline, param_grid, cv=5)  # cv specifies the number of cross-validation folds\n",
    "\n",
    "# Fit the GridSearchCV object to the data (this will perform the cross-validation)\n",
    "grid_search.fit(X_train, y_train)\n",
    "\n",
    "# Access the best alpha value and best estimator\n",
    "best_alpha = grid_search.best_params_['lasso__alpha']\n",
    "best_estimator = grid_search.best_estimator_\n",
    "# Print the best alpha value and best coefficients\n",
    "print(\"Best alpha:\", best_alpha)\n",
    "print(\"Best coefficients:\", best_estimator.named_steps['lasso'].coef_)"
   ]
  },
  {
   "cell_type": "code",
   "execution_count": 77,
   "id": "6c2474e2",
   "metadata": {},
   "outputs": [
    {
     "data": {
      "text/plain": [
       "Pipeline(steps=[('poly', PolynomialFeatures(include_bias=False)),\n",
       "                ('ridge', Lasso(alpha=0.5))])"
      ]
     },
     "execution_count": 77,
     "metadata": {},
     "output_type": "execute_result"
    },
    {
     "name": "stdout",
     "output_type": "stream",
     "text": [
      "R-squared: 0.014067087374027731\n",
      "Mean Squared Error: 0.0022956857629620893\n"
     ]
    }
   ],
   "source": [
    "best_degree = 2\n",
    "best_alpha = 0.5  # Assuming you have the best alpha value from cross-validation\n",
    "\n",
    "model = Pipeline([\n",
    "    ('poly', PolynomialFeatures(degree=best_degree, include_bias=False)),\n",
    "    ('ridge', Lasso(alpha=best_alpha))\n",
    "])\n",
    "model.fit(X_train, y_train)\n",
    "y_pred = model.predict(X_test)\n",
    "r2 = r2_score(y_test, y_pred)\n",
    "mse = mean_squared_error(y_test, y_pred)\n",
    "print(\"R-squared:\", r2)\n",
    "print(\"Mean Squared Error:\", mse)"
   ]
  },
  {
   "cell_type": "code",
   "execution_count": 28,
   "id": "dcb42b01",
   "metadata": {},
   "outputs": [
    {
     "data": {
      "text/plain": [
       "<matplotlib.collections.PathCollection at 0x2c92ca78f70>"
      ]
     },
     "execution_count": 28,
     "metadata": {},
     "output_type": "execute_result"
    },
    {
     "data": {
      "image/png": "[encoded data removed]",
      "text/plain": [
       "<Figure size 640x480 with 1 Axes>"
      ]
     },
     "metadata": {},
     "output_type": "display_data"
    }
   ],
   "source": [
    "residuals = y_test-y_predict\n",
    "plt.scatter(y_predict,residuals)\n",
    "plt.show()"
   ]
  },
  {
   "cell_type": "markdown",
   "id": "1c8516ae",
   "metadata": {},
   "source": [
    "## Forward stepwise selection and crossvalidation"
   ]
  },
  {
   "cell_type": "code",
   "execution_count": 29,
   "id": "a0718e1f",
   "metadata": {},
   "outputs": [
    {
     "name": "stdout",
     "output_type": "stream",
     "text": [
      "............\n",
      "Best model (M0) with 1 features: ['BounceRates']\n",
      "M0 subset score (3.): 0.8304605217081183\n",
      "............\n",
      "Best model (M1) with 2 features: ['BounceRates', 'Administrative']\n",
      "M1 subset score (3.): 0.8434204393988033\n",
      "............\n",
      "Best model (M2) with 3 features: ['BounceRates', 'Administrative', 'ProductRelated']\n",
      "M2 subset score (3.): 0.8491255163985041\n",
      "............\n",
      "Best model (M3) with 4 features: ['BounceRates', 'Administrative', 'ProductRelated', 'VisitorType']\n",
      "M3 subset score (3.): 0.8543938057380792\n",
      "............\n",
      "Best model (M4) with 5 features: ['BounceRates', 'Administrative', 'ProductRelated', 'VisitorType', 'PageValues']\n",
      "M4 subset score (3.): 0.8568548601387838\n",
      "............\n",
      "Best model (M5) with 6 features: ['BounceRates', 'Administrative', 'ProductRelated', 'VisitorType', 'PageValues', 'TrafficType_2']\n",
      "M5 subset score (3.): 0.8581235986429971\n",
      "............\n",
      "Best model (M6) with 7 features: ['BounceRates', 'Administrative', 'ProductRelated', 'VisitorType', 'PageValues', 'TrafficType_2', 'OperatingSystems_2']\n",
      "M6 subset score (3.): 0.8592148288989371\n",
      "............\n",
      "Best model (M7) with 8 features: ['BounceRates', 'Administrative', 'ProductRelated', 'VisitorType', 'PageValues', 'TrafficType_2', 'OperatingSystems_2', 'TrafficType_4']\n",
      "M7 subset score (3.): 0.8596150116279728\n",
      "............\n",
      "Best model (M8) with 9 features: ['BounceRates', 'Administrative', 'ProductRelated', 'VisitorType', 'PageValues', 'TrafficType_2', 'OperatingSystems_2', 'TrafficType_4', 'Month_June']\n",
      "M8 subset score (3.): 0.859975129974108\n",
      "............\n",
      "Best model (M9) with 10 features: ['BounceRates', 'Administrative', 'ProductRelated', 'VisitorType', 'PageValues', 'TrafficType_2', 'OperatingSystems_2', 'TrafficType_4', 'Month_June', 'SpecialDay']\n",
      "M9 subset score (3.): 0.8603615745800022\n",
      "............\n",
      "Best model (M10) with 11 features: ['BounceRates', 'Administrative', 'ProductRelated', 'VisitorType', 'PageValues', 'TrafficType_2', 'OperatingSystems_2', 'TrafficType_4', 'Month_June', 'SpecialDay', 'OperatingSystems_3']\n",
      "M10 subset score (3.): 0.8605660496362587\n",
      "............\n",
      "Best model (M11) with 12 features: ['BounceRates', 'Administrative', 'ProductRelated', 'VisitorType', 'PageValues', 'TrafficType_2', 'OperatingSystems_2', 'TrafficType_4', 'Month_June', 'SpecialDay', 'OperatingSystems_3', 'TrafficType_Others']\n",
      "M11 subset score (3.): 0.8607312039080017\n",
      "............\n",
      "Best model (M12) with 13 features: ['BounceRates', 'Administrative', 'ProductRelated', 'VisitorType', 'PageValues', 'TrafficType_2', 'OperatingSystems_2', 'TrafficType_4', 'Month_June', 'SpecialDay', 'OperatingSystems_3', 'TrafficType_Others', 'TrafficType_8']\n",
      "M12 subset score (3.): 0.8608490508615592\n",
      "............\n",
      "Best model (M13) with 14 features: ['BounceRates', 'Administrative', 'ProductRelated', 'VisitorType', 'PageValues', 'TrafficType_2', 'OperatingSystems_2', 'TrafficType_4', 'Month_June', 'SpecialDay', 'OperatingSystems_3', 'TrafficType_Others', 'TrafficType_8', 'ProductRelated_Duration']\n",
      "M13 subset score (3.): 0.8609568879735123\n",
      "............\n",
      "Best model (M14) with 15 features: ['BounceRates', 'Administrative', 'ProductRelated', 'VisitorType', 'PageValues', 'TrafficType_2', 'OperatingSystems_2', 'TrafficType_4', 'Month_June', 'SpecialDay', 'OperatingSystems_3', 'TrafficType_Others', 'TrafficType_8', 'ProductRelated_Duration', 'TrafficType_13']\n",
      "M14 subset score (3.): 0.8609794396079531\n",
      "............\n",
      "Best model (M15) with 16 features: ['BounceRates', 'Administrative', 'ProductRelated', 'VisitorType', 'PageValues', 'TrafficType_2', 'OperatingSystems_2', 'TrafficType_4', 'Month_June', 'SpecialDay', 'OperatingSystems_3', 'TrafficType_Others', 'TrafficType_8', 'ProductRelated_Duration', 'TrafficType_13', 'TrafficType_3']\n",
      "M15 subset score (3.): 0.861094587729099\n",
      "............\n",
      "Best model (M16) with 17 features: ['BounceRates', 'Administrative', 'ProductRelated', 'VisitorType', 'PageValues', 'TrafficType_2', 'OperatingSystems_2', 'TrafficType_4', 'Month_June', 'SpecialDay', 'OperatingSystems_3', 'TrafficType_Others', 'TrafficType_8', 'ProductRelated_Duration', 'TrafficType_13', 'TrafficType_3', 'TrafficType_1']\n",
      "M16 subset score (3.): 0.8611008242211449\n",
      "............\n",
      "Best model (M17) with 18 features: ['BounceRates', 'Administrative', 'ProductRelated', 'VisitorType', 'PageValues', 'TrafficType_2', 'OperatingSystems_2', 'TrafficType_4', 'Month_June', 'SpecialDay', 'OperatingSystems_3', 'TrafficType_Others', 'TrafficType_8', 'ProductRelated_Duration', 'TrafficType_13', 'TrafficType_3', 'TrafficType_1', 'Month_Feb']\n",
      "M17 subset score (3.): 0.8611706338864481\n",
      "............\n",
      "Best model (M18) with 19 features: ['BounceRates', 'Administrative', 'ProductRelated', 'VisitorType', 'PageValues', 'TrafficType_2', 'OperatingSystems_2', 'TrafficType_4', 'Month_June', 'SpecialDay', 'OperatingSystems_3', 'TrafficType_Others', 'TrafficType_8', 'ProductRelated_Duration', 'TrafficType_13', 'TrafficType_3', 'TrafficType_1', 'Month_Feb', 'Month_Sep']\n",
      "M18 subset score (3.): 0.8612352805095892\n",
      "............\n",
      "Best model (M19) with 20 features: ['BounceRates', 'Administrative', 'ProductRelated', 'VisitorType', 'PageValues', 'TrafficType_2', 'OperatingSystems_2', 'TrafficType_4', 'Month_June', 'SpecialDay', 'OperatingSystems_3', 'TrafficType_Others', 'TrafficType_8', 'ProductRelated_Duration', 'TrafficType_13', 'TrafficType_3', 'TrafficType_1', 'Month_Feb', 'Month_Sep', 'Region_3']\n",
      "M19 subset score (3.): 0.8612710115877148\n",
      "............\n",
      "Best model (M20) with 21 features: ['BounceRates', 'Administrative', 'ProductRelated', 'VisitorType', 'PageValues', 'TrafficType_2', 'OperatingSystems_2', 'TrafficType_4', 'Month_June', 'SpecialDay', 'OperatingSystems_3', 'TrafficType_Others', 'TrafficType_8', 'ProductRelated_Duration', 'TrafficType_13', 'TrafficType_3', 'TrafficType_1', 'Month_Feb', 'Month_Sep', 'Region_3', 'Region_1']\n",
      "M20 subset score (3.): 0.8612440700252059\n",
      "............\n",
      "Best model (M21) with 22 features: ['BounceRates', 'Administrative', 'ProductRelated', 'VisitorType', 'PageValues', 'TrafficType_2', 'OperatingSystems_2', 'TrafficType_4', 'Month_June', 'SpecialDay', 'OperatingSystems_3', 'TrafficType_Others', 'TrafficType_8', 'ProductRelated_Duration', 'TrafficType_13', 'TrafficType_3', 'TrafficType_1', 'Month_Feb', 'Month_Sep', 'Region_3', 'Region_1', 'Region_9']\n",
      "M21 subset score (3.): 0.8612405837745598\n",
      "............\n",
      "Best model (M22) with 23 features: ['BounceRates', 'Administrative', 'ProductRelated', 'VisitorType', 'PageValues', 'TrafficType_2', 'OperatingSystems_2', 'TrafficType_4', 'Month_June', 'SpecialDay', 'OperatingSystems_3', 'TrafficType_Others', 'TrafficType_8', 'ProductRelated_Duration', 'TrafficType_13', 'TrafficType_3', 'TrafficType_1', 'Month_Feb', 'Month_Sep', 'Region_3', 'Region_1', 'Region_9', 'Month_Dec']\n",
      "M22 subset score (3.): 0.8612618605551644\n",
      "............\n",
      "Best model (M23) with 24 features: ['BounceRates', 'Administrative', 'ProductRelated', 'VisitorType', 'PageValues', 'TrafficType_2', 'OperatingSystems_2', 'TrafficType_4', 'Month_June', 'SpecialDay', 'OperatingSystems_3', 'TrafficType_Others', 'TrafficType_8', 'ProductRelated_Duration', 'TrafficType_13', 'TrafficType_3', 'TrafficType_1', 'Month_Feb', 'Month_Sep', 'Region_3', 'Region_1', 'Region_9', 'Month_Dec', 'Month_Nov']\n",
      "M23 subset score (3.): 0.8612540495416073\n",
      "............\n",
      "Best model (M24) with 25 features: ['BounceRates', 'Administrative', 'ProductRelated', 'VisitorType', 'PageValues', 'TrafficType_2', 'OperatingSystems_2', 'TrafficType_4', 'Month_June', 'SpecialDay', 'OperatingSystems_3', 'TrafficType_Others', 'TrafficType_8', 'ProductRelated_Duration', 'TrafficType_13', 'TrafficType_3', 'TrafficType_1', 'Month_Feb', 'Month_Sep', 'Region_3', 'Region_1', 'Region_9', 'Month_Dec', 'Month_Nov', 'OperatingSystems_Others']\n",
      "M24 subset score (3.): 0.8612737472782026\n",
      "............\n",
      "Best model (M25) with 26 features: ['BounceRates', 'Administrative', 'ProductRelated', 'VisitorType', 'PageValues', 'TrafficType_2', 'OperatingSystems_2', 'TrafficType_4', 'Month_June', 'SpecialDay', 'OperatingSystems_3', 'TrafficType_Others', 'TrafficType_8', 'ProductRelated_Duration', 'TrafficType_13', 'TrafficType_3', 'TrafficType_1', 'Month_Feb', 'Month_Sep', 'Region_3', 'Region_1', 'Region_9', 'Month_Dec', 'Month_Nov', 'OperatingSystems_Others', 'OperatingSystems_1']\n",
      "M25 subset score (3.): 0.8612428929334669\n"
     ]
    },
    {
     "name": "stdout",
     "output_type": "stream",
     "text": [
      "............\n",
      "Best model (M26) with 27 features: ['BounceRates', 'Administrative', 'ProductRelated', 'VisitorType', 'PageValues', 'TrafficType_2', 'OperatingSystems_2', 'TrafficType_4', 'Month_June', 'SpecialDay', 'OperatingSystems_3', 'TrafficType_Others', 'TrafficType_8', 'ProductRelated_Duration', 'TrafficType_13', 'TrafficType_3', 'TrafficType_1', 'Month_Feb', 'Month_Sep', 'Region_3', 'Region_1', 'Region_9', 'Month_Dec', 'Month_Nov', 'OperatingSystems_Others', 'OperatingSystems_1', 'Browser_8']\n",
      "M26 subset score (3.): 0.8611522978642545\n",
      "............\n",
      "Best model (M27) with 28 features: ['BounceRates', 'Administrative', 'ProductRelated', 'VisitorType', 'PageValues', 'TrafficType_2', 'OperatingSystems_2', 'TrafficType_4', 'Month_June', 'SpecialDay', 'OperatingSystems_3', 'TrafficType_Others', 'TrafficType_8', 'ProductRelated_Duration', 'TrafficType_13', 'TrafficType_3', 'TrafficType_1', 'Month_Feb', 'Month_Sep', 'Region_3', 'Region_1', 'Region_9', 'Month_Dec', 'Month_Nov', 'OperatingSystems_Others', 'OperatingSystems_1', 'Browser_8', 'Browser_1']\n",
      "M27 subset score (3.): 0.8611442608170095\n",
      "............\n",
      "Best model (M28) with 29 features: ['BounceRates', 'Administrative', 'ProductRelated', 'VisitorType', 'PageValues', 'TrafficType_2', 'OperatingSystems_2', 'TrafficType_4', 'Month_June', 'SpecialDay', 'OperatingSystems_3', 'TrafficType_Others', 'TrafficType_8', 'ProductRelated_Duration', 'TrafficType_13', 'TrafficType_3', 'TrafficType_1', 'Month_Feb', 'Month_Sep', 'Region_3', 'Region_1', 'Region_9', 'Month_Dec', 'Month_Nov', 'OperatingSystems_Others', 'OperatingSystems_1', 'Browser_8', 'Browser_1', 'Informational']\n",
      "M28 subset score (3.): 0.8611498774203357\n",
      "............\n",
      "Best model (M29) with 30 features: ['BounceRates', 'Administrative', 'ProductRelated', 'VisitorType', 'PageValues', 'TrafficType_2', 'OperatingSystems_2', 'TrafficType_4', 'Month_June', 'SpecialDay', 'OperatingSystems_3', 'TrafficType_Others', 'TrafficType_8', 'ProductRelated_Duration', 'TrafficType_13', 'TrafficType_3', 'TrafficType_1', 'Month_Feb', 'Month_Sep', 'Region_3', 'Region_1', 'Region_9', 'Month_Dec', 'Month_Nov', 'OperatingSystems_Others', 'OperatingSystems_1', 'Browser_8', 'Browser_1', 'Informational', 'TrafficType_20']\n",
      "M29 subset score (3.): 0.8610514223525669\n",
      "............\n",
      "Best model (M30) with 31 features: ['BounceRates', 'Administrative', 'ProductRelated', 'VisitorType', 'PageValues', 'TrafficType_2', 'OperatingSystems_2', 'TrafficType_4', 'Month_June', 'SpecialDay', 'OperatingSystems_3', 'TrafficType_Others', 'TrafficType_8', 'ProductRelated_Duration', 'TrafficType_13', 'TrafficType_3', 'TrafficType_1', 'Month_Feb', 'Month_Sep', 'Region_3', 'Region_1', 'Region_9', 'Month_Dec', 'Month_Nov', 'OperatingSystems_Others', 'OperatingSystems_1', 'Browser_8', 'Browser_1', 'Informational', 'TrafficType_20', 'TrafficType_10']\n",
      "M30 subset score (3.): 0.8609482573374617\n",
      "............\n",
      "Best model (M31) with 32 features: ['BounceRates', 'Administrative', 'ProductRelated', 'VisitorType', 'PageValues', 'TrafficType_2', 'OperatingSystems_2', 'TrafficType_4', 'Month_June', 'SpecialDay', 'OperatingSystems_3', 'TrafficType_Others', 'TrafficType_8', 'ProductRelated_Duration', 'TrafficType_13', 'TrafficType_3', 'TrafficType_1', 'Month_Feb', 'Month_Sep', 'Region_3', 'Region_1', 'Region_9', 'Month_Dec', 'Month_Nov', 'OperatingSystems_Others', 'OperatingSystems_1', 'Browser_8', 'Browser_1', 'Informational', 'TrafficType_20', 'TrafficType_10', 'Browser_5']\n",
      "M31 subset score (3.): 0.8608981705123295\n",
      "............\n",
      "Best model (M32) with 33 features: ['BounceRates', 'Administrative', 'ProductRelated', 'VisitorType', 'PageValues', 'TrafficType_2', 'OperatingSystems_2', 'TrafficType_4', 'Month_June', 'SpecialDay', 'OperatingSystems_3', 'TrafficType_Others', 'TrafficType_8', 'ProductRelated_Duration', 'TrafficType_13', 'TrafficType_3', 'TrafficType_1', 'Month_Feb', 'Month_Sep', 'Region_3', 'Region_1', 'Region_9', 'Month_Dec', 'Month_Nov', 'OperatingSystems_Others', 'OperatingSystems_1', 'Browser_8', 'Browser_1', 'Informational', 'TrafficType_20', 'TrafficType_10', 'Browser_5', 'Browser_Others']\n",
      "M32 subset score (3.): 0.8608812706833475\n",
      "............\n",
      "Best model (M33) with 34 features: ['BounceRates', 'Administrative', 'ProductRelated', 'VisitorType', 'PageValues', 'TrafficType_2', 'OperatingSystems_2', 'TrafficType_4', 'Month_June', 'SpecialDay', 'OperatingSystems_3', 'TrafficType_Others', 'TrafficType_8', 'ProductRelated_Duration', 'TrafficType_13', 'TrafficType_3', 'TrafficType_1', 'Month_Feb', 'Month_Sep', 'Region_3', 'Region_1', 'Region_9', 'Month_Dec', 'Month_Nov', 'OperatingSystems_Others', 'OperatingSystems_1', 'Browser_8', 'Browser_1', 'Informational', 'TrafficType_20', 'TrafficType_10', 'Browser_5', 'Browser_Others', 'Region_4']\n",
      "M33 subset score (3.): 0.8608029101958496\n",
      "............\n",
      "Best model (M34) with 35 features: ['BounceRates', 'Administrative', 'ProductRelated', 'VisitorType', 'PageValues', 'TrafficType_2', 'OperatingSystems_2', 'TrafficType_4', 'Month_June', 'SpecialDay', 'OperatingSystems_3', 'TrafficType_Others', 'TrafficType_8', 'ProductRelated_Duration', 'TrafficType_13', 'TrafficType_3', 'TrafficType_1', 'Month_Feb', 'Month_Sep', 'Region_3', 'Region_1', 'Region_9', 'Month_Dec', 'Month_Nov', 'OperatingSystems_Others', 'OperatingSystems_1', 'Browser_8', 'Browser_1', 'Informational', 'TrafficType_20', 'TrafficType_10', 'Browser_5', 'Browser_Others', 'Region_4', 'Region_5']\n",
      "M34 subset score (3.): 0.860685746297557\n",
      "............\n",
      "Best model (M35) with 36 features: ['BounceRates', 'Administrative', 'ProductRelated', 'VisitorType', 'PageValues', 'TrafficType_2', 'OperatingSystems_2', 'TrafficType_4', 'Month_June', 'SpecialDay', 'OperatingSystems_3', 'TrafficType_Others', 'TrafficType_8', 'ProductRelated_Duration', 'TrafficType_13', 'TrafficType_3', 'TrafficType_1', 'Month_Feb', 'Month_Sep', 'Region_3', 'Region_1', 'Region_9', 'Month_Dec', 'Month_Nov', 'OperatingSystems_Others', 'OperatingSystems_1', 'Browser_8', 'Browser_1', 'Informational', 'TrafficType_20', 'TrafficType_10', 'Browser_5', 'Browser_Others', 'Region_4', 'Region_5', 'Month_Aug']\n",
      "M35 subset score (3.): 0.8605675432903389\n",
      "............\n",
      "Best model (M36) with 37 features: ['BounceRates', 'Administrative', 'ProductRelated', 'VisitorType', 'PageValues', 'TrafficType_2', 'OperatingSystems_2', 'TrafficType_4', 'Month_June', 'SpecialDay', 'OperatingSystems_3', 'TrafficType_Others', 'TrafficType_8', 'ProductRelated_Duration', 'TrafficType_13', 'TrafficType_3', 'TrafficType_1', 'Month_Feb', 'Month_Sep', 'Region_3', 'Region_1', 'Region_9', 'Month_Dec', 'Month_Nov', 'OperatingSystems_Others', 'OperatingSystems_1', 'Browser_8', 'Browser_1', 'Informational', 'TrafficType_20', 'TrafficType_10', 'Browser_5', 'Browser_Others', 'Region_4', 'Region_5', 'Month_Aug', 'Month_Jul']\n",
      "M36 subset score (3.): 0.8605282626141966\n",
      "............\n",
      "Best model (M37) with 38 features: ['BounceRates', 'Administrative', 'ProductRelated', 'VisitorType', 'PageValues', 'TrafficType_2', 'OperatingSystems_2', 'TrafficType_4', 'Month_June', 'SpecialDay', 'OperatingSystems_3', 'TrafficType_Others', 'TrafficType_8', 'ProductRelated_Duration', 'TrafficType_13', 'TrafficType_3', 'TrafficType_1', 'Month_Feb', 'Month_Sep', 'Region_3', 'Region_1', 'Region_9', 'Month_Dec', 'Month_Nov', 'OperatingSystems_Others', 'OperatingSystems_1', 'Browser_8', 'Browser_1', 'Informational', 'TrafficType_20', 'TrafficType_10', 'Browser_5', 'Browser_Others', 'Region_4', 'Region_5', 'Month_Aug', 'Month_Jul', 'Browser_10']\n",
      "M37 subset score (3.): 0.8604832086766727\n",
      "............\n",
      "Best model (M38) with 39 features: ['BounceRates', 'Administrative', 'ProductRelated', 'VisitorType', 'PageValues', 'TrafficType_2', 'OperatingSystems_2', 'TrafficType_4', 'Month_June', 'SpecialDay', 'OperatingSystems_3', 'TrafficType_Others', 'TrafficType_8', 'ProductRelated_Duration', 'TrafficType_13', 'TrafficType_3', 'TrafficType_1', 'Month_Feb', 'Month_Sep', 'Region_3', 'Region_1', 'Region_9', 'Month_Dec', 'Month_Nov', 'OperatingSystems_Others', 'OperatingSystems_1', 'Browser_8', 'Browser_1', 'Informational', 'TrafficType_20', 'TrafficType_10', 'Browser_5', 'Browser_Others', 'Region_4', 'Region_5', 'Month_Aug', 'Month_Jul', 'Browser_10', 'Region_8']\n",
      "M38 subset score (3.): 0.8604495545887975\n"
     ]
    },
    {
     "name": "stdout",
     "output_type": "stream",
     "text": [
      "............\n",
      "Best model (M39) with 40 features: ['BounceRates', 'Administrative', 'ProductRelated', 'VisitorType', 'PageValues', 'TrafficType_2', 'OperatingSystems_2', 'TrafficType_4', 'Month_June', 'SpecialDay', 'OperatingSystems_3', 'TrafficType_Others', 'TrafficType_8', 'ProductRelated_Duration', 'TrafficType_13', 'TrafficType_3', 'TrafficType_1', 'Month_Feb', 'Month_Sep', 'Region_3', 'Region_1', 'Region_9', 'Month_Dec', 'Month_Nov', 'OperatingSystems_Others', 'OperatingSystems_1', 'Browser_8', 'Browser_1', 'Informational', 'TrafficType_20', 'TrafficType_10', 'Browser_5', 'Browser_Others', 'Region_4', 'Region_5', 'Month_Aug', 'Month_Jul', 'Browser_10', 'Region_8', 'Browser_6']\n",
      "M39 subset score (3.): 0.8603840927353105\n",
      "............\n",
      "Best model (M40) with 41 features: ['BounceRates', 'Administrative', 'ProductRelated', 'VisitorType', 'PageValues', 'TrafficType_2', 'OperatingSystems_2', 'TrafficType_4', 'Month_June', 'SpecialDay', 'OperatingSystems_3', 'TrafficType_Others', 'TrafficType_8', 'ProductRelated_Duration', 'TrafficType_13', 'TrafficType_3', 'TrafficType_1', 'Month_Feb', 'Month_Sep', 'Region_3', 'Region_1', 'Region_9', 'Month_Dec', 'Month_Nov', 'OperatingSystems_Others', 'OperatingSystems_1', 'Browser_8', 'Browser_1', 'Informational', 'TrafficType_20', 'TrafficType_10', 'Browser_5', 'Browser_Others', 'Region_4', 'Region_5', 'Month_Aug', 'Month_Jul', 'Browser_10', 'Region_8', 'Browser_6', 'Informational_Duration']\n",
      "M40 subset score (3.): 0.8603594920295216\n",
      "............\n",
      "Best model (M41) with 42 features: ['BounceRates', 'Administrative', 'ProductRelated', 'VisitorType', 'PageValues', 'TrafficType_2', 'OperatingSystems_2', 'TrafficType_4', 'Month_June', 'SpecialDay', 'OperatingSystems_3', 'TrafficType_Others', 'TrafficType_8', 'ProductRelated_Duration', 'TrafficType_13', 'TrafficType_3', 'TrafficType_1', 'Month_Feb', 'Month_Sep', 'Region_3', 'Region_1', 'Region_9', 'Month_Dec', 'Month_Nov', 'OperatingSystems_Others', 'OperatingSystems_1', 'Browser_8', 'Browser_1', 'Informational', 'TrafficType_20', 'TrafficType_10', 'Browser_5', 'Browser_Others', 'Region_4', 'Region_5', 'Month_Aug', 'Month_Jul', 'Browser_10', 'Region_8', 'Browser_6', 'Informational_Duration', 'Month_May']\n",
      "M41 subset score (3.): 0.8602893435061523\n",
      "............\n",
      "Best model (M42) with 43 features: ['BounceRates', 'Administrative', 'ProductRelated', 'VisitorType', 'PageValues', 'TrafficType_2', 'OperatingSystems_2', 'TrafficType_4', 'Month_June', 'SpecialDay', 'OperatingSystems_3', 'TrafficType_Others', 'TrafficType_8', 'ProductRelated_Duration', 'TrafficType_13', 'TrafficType_3', 'TrafficType_1', 'Month_Feb', 'Month_Sep', 'Region_3', 'Region_1', 'Region_9', 'Month_Dec', 'Month_Nov', 'OperatingSystems_Others', 'OperatingSystems_1', 'Browser_8', 'Browser_1', 'Informational', 'TrafficType_20', 'TrafficType_10', 'Browser_5', 'Browser_Others', 'Region_4', 'Region_5', 'Month_Aug', 'Month_Jul', 'Browser_10', 'Region_8', 'Browser_6', 'Informational_Duration', 'Month_May', 'TrafficType_5']\n",
      "M42 subset score (3.): 0.8602174363064524\n",
      "............\n",
      "Best model (M43) with 44 features: ['BounceRates', 'Administrative', 'ProductRelated', 'VisitorType', 'PageValues', 'TrafficType_2', 'OperatingSystems_2', 'TrafficType_4', 'Month_June', 'SpecialDay', 'OperatingSystems_3', 'TrafficType_Others', 'TrafficType_8', 'ProductRelated_Duration', 'TrafficType_13', 'TrafficType_3', 'TrafficType_1', 'Month_Feb', 'Month_Sep', 'Region_3', 'Region_1', 'Region_9', 'Month_Dec', 'Month_Nov', 'OperatingSystems_Others', 'OperatingSystems_1', 'Browser_8', 'Browser_1', 'Informational', 'TrafficType_20', 'TrafficType_10', 'Browser_5', 'Browser_Others', 'Region_4', 'Region_5', 'Month_Aug', 'Month_Jul', 'Browser_10', 'Region_8', 'Browser_6', 'Informational_Duration', 'Month_May', 'TrafficType_5', 'Browser_2']\n",
      "M43 subset score (3.): 0.8601903184423095\n",
      "............\n",
      "Best model (M44) with 45 features: ['BounceRates', 'Administrative', 'ProductRelated', 'VisitorType', 'PageValues', 'TrafficType_2', 'OperatingSystems_2', 'TrafficType_4', 'Month_June', 'SpecialDay', 'OperatingSystems_3', 'TrafficType_Others', 'TrafficType_8', 'ProductRelated_Duration', 'TrafficType_13', 'TrafficType_3', 'TrafficType_1', 'Month_Feb', 'Month_Sep', 'Region_3', 'Region_1', 'Region_9', 'Month_Dec', 'Month_Nov', 'OperatingSystems_Others', 'OperatingSystems_1', 'Browser_8', 'Browser_1', 'Informational', 'TrafficType_20', 'TrafficType_10', 'Browser_5', 'Browser_Others', 'Region_4', 'Region_5', 'Month_Aug', 'Month_Jul', 'Browser_10', 'Region_8', 'Browser_6', 'Informational_Duration', 'Month_May', 'TrafficType_5', 'Browser_2', 'Month_Mar']\n",
      "M44 subset score (3.): 0.8601295178461792\n",
      "............\n",
      "Best model (M45) with 46 features: ['BounceRates', 'Administrative', 'ProductRelated', 'VisitorType', 'PageValues', 'TrafficType_2', 'OperatingSystems_2', 'TrafficType_4', 'Month_June', 'SpecialDay', 'OperatingSystems_3', 'TrafficType_Others', 'TrafficType_8', 'ProductRelated_Duration', 'TrafficType_13', 'TrafficType_3', 'TrafficType_1', 'Month_Feb', 'Month_Sep', 'Region_3', 'Region_1', 'Region_9', 'Month_Dec', 'Month_Nov', 'OperatingSystems_Others', 'OperatingSystems_1', 'Browser_8', 'Browser_1', 'Informational', 'TrafficType_20', 'TrafficType_10', 'Browser_5', 'Browser_Others', 'Region_4', 'Region_5', 'Month_Aug', 'Month_Jul', 'Browser_10', 'Region_8', 'Browser_6', 'Informational_Duration', 'Month_May', 'TrafficType_5', 'Browser_2', 'Month_Mar', 'Region_2']\n",
      "M45 subset score (3.): 0.860057915907397\n",
      "............\n",
      "Best model (M46) with 47 features: ['BounceRates', 'Administrative', 'ProductRelated', 'VisitorType', 'PageValues', 'TrafficType_2', 'OperatingSystems_2', 'TrafficType_4', 'Month_June', 'SpecialDay', 'OperatingSystems_3', 'TrafficType_Others', 'TrafficType_8', 'ProductRelated_Duration', 'TrafficType_13', 'TrafficType_3', 'TrafficType_1', 'Month_Feb', 'Month_Sep', 'Region_3', 'Region_1', 'Region_9', 'Month_Dec', 'Month_Nov', 'OperatingSystems_Others', 'OperatingSystems_1', 'Browser_8', 'Browser_1', 'Informational', 'TrafficType_20', 'TrafficType_10', 'Browser_5', 'Browser_Others', 'Region_4', 'Region_5', 'Month_Aug', 'Month_Jul', 'Browser_10', 'Region_8', 'Browser_6', 'Informational_Duration', 'Month_May', 'TrafficType_5', 'Browser_2', 'Month_Mar', 'Region_2', 'Administrative_Duration']\n",
      "M46 subset score (3.): 0.8599961684068991\n",
      "............\n",
      "Best model (M47) with 48 features: ['BounceRates', 'Administrative', 'ProductRelated', 'VisitorType', 'PageValues', 'TrafficType_2', 'OperatingSystems_2', 'TrafficType_4', 'Month_June', 'SpecialDay', 'OperatingSystems_3', 'TrafficType_Others', 'TrafficType_8', 'ProductRelated_Duration', 'TrafficType_13', 'TrafficType_3', 'TrafficType_1', 'Month_Feb', 'Month_Sep', 'Region_3', 'Region_1', 'Region_9', 'Month_Dec', 'Month_Nov', 'OperatingSystems_Others', 'OperatingSystems_1', 'Browser_8', 'Browser_1', 'Informational', 'TrafficType_20', 'TrafficType_10', 'Browser_5', 'Browser_Others', 'Region_4', 'Region_5', 'Month_Aug', 'Month_Jul', 'Browser_10', 'Region_8', 'Browser_6', 'Informational_Duration', 'Month_May', 'TrafficType_5', 'Browser_2', 'Month_Mar', 'Region_2', 'Administrative_Duration', 'TrafficType_11']\n",
      "M47 subset score (3.): 0.8599368345148435\n",
      "............\n",
      "Best model (M48) with 49 features: ['BounceRates', 'Administrative', 'ProductRelated', 'VisitorType', 'PageValues', 'TrafficType_2', 'OperatingSystems_2', 'TrafficType_4', 'Month_June', 'SpecialDay', 'OperatingSystems_3', 'TrafficType_Others', 'TrafficType_8', 'ProductRelated_Duration', 'TrafficType_13', 'TrafficType_3', 'TrafficType_1', 'Month_Feb', 'Month_Sep', 'Region_3', 'Region_1', 'Region_9', 'Month_Dec', 'Month_Nov', 'OperatingSystems_Others', 'OperatingSystems_1', 'Browser_8', 'Browser_1', 'Informational', 'TrafficType_20', 'TrafficType_10', 'Browser_5', 'Browser_Others', 'Region_4', 'Region_5', 'Month_Aug', 'Month_Jul', 'Browser_10', 'Region_8', 'Browser_6', 'Informational_Duration', 'Month_May', 'TrafficType_5', 'Browser_2', 'Month_Mar', 'Region_2', 'Administrative_Duration', 'TrafficType_11', 'Region_7']\n",
      "M48 subset score (3.): 0.8598665058195575\n",
      "............\n",
      "Best model (M49) with 50 features: ['BounceRates', 'Administrative', 'ProductRelated', 'VisitorType', 'PageValues', 'TrafficType_2', 'OperatingSystems_2', 'TrafficType_4', 'Month_June', 'SpecialDay', 'OperatingSystems_3', 'TrafficType_Others', 'TrafficType_8', 'ProductRelated_Duration', 'TrafficType_13', 'TrafficType_3', 'TrafficType_1', 'Month_Feb', 'Month_Sep', 'Region_3', 'Region_1', 'Region_9', 'Month_Dec', 'Month_Nov', 'OperatingSystems_Others', 'OperatingSystems_1', 'Browser_8', 'Browser_1', 'Informational', 'TrafficType_20', 'TrafficType_10', 'Browser_5', 'Browser_Others', 'Region_4', 'Region_5', 'Month_Aug', 'Month_Jul', 'Browser_10', 'Region_8', 'Browser_6', 'Informational_Duration', 'Month_May', 'TrafficType_5', 'Browser_2', 'Month_Mar', 'Region_2', 'Administrative_Duration', 'TrafficType_11', 'Region_7', 'Region_6']\n",
      "M49 subset score (3.): 0.8598665058195605\n"
     ]
    },
    {
     "name": "stdout",
     "output_type": "stream",
     "text": [
      "............\n",
      "Best model (M50) with 51 features: ['BounceRates', 'Administrative', 'ProductRelated', 'VisitorType', 'PageValues', 'TrafficType_2', 'OperatingSystems_2', 'TrafficType_4', 'Month_June', 'SpecialDay', 'OperatingSystems_3', 'TrafficType_Others', 'TrafficType_8', 'ProductRelated_Duration', 'TrafficType_13', 'TrafficType_3', 'TrafficType_1', 'Month_Feb', 'Month_Sep', 'Region_3', 'Region_1', 'Region_9', 'Month_Dec', 'Month_Nov', 'OperatingSystems_Others', 'OperatingSystems_1', 'Browser_8', 'Browser_1', 'Informational', 'TrafficType_20', 'TrafficType_10', 'Browser_5', 'Browser_Others', 'Region_4', 'Region_5', 'Month_Aug', 'Month_Jul', 'Browser_10', 'Region_8', 'Browser_6', 'Informational_Duration', 'Month_May', 'TrafficType_5', 'Browser_2', 'Month_Mar', 'Region_2', 'Administrative_Duration', 'TrafficType_11', 'Region_7', 'Region_6', 'Month_Oct']\n",
      "M50 subset score (3.): 0.8598665058195596\n",
      "............\n",
      "Best model (M51) with 52 features: ['BounceRates', 'Administrative', 'ProductRelated', 'VisitorType', 'PageValues', 'TrafficType_2', 'OperatingSystems_2', 'TrafficType_4', 'Month_June', 'SpecialDay', 'OperatingSystems_3', 'TrafficType_Others', 'TrafficType_8', 'ProductRelated_Duration', 'TrafficType_13', 'TrafficType_3', 'TrafficType_1', 'Month_Feb', 'Month_Sep', 'Region_3', 'Region_1', 'Region_9', 'Month_Dec', 'Month_Nov', 'OperatingSystems_Others', 'OperatingSystems_1', 'Browser_8', 'Browser_1', 'Informational', 'TrafficType_20', 'TrafficType_10', 'Browser_5', 'Browser_Others', 'Region_4', 'Region_5', 'Month_Aug', 'Month_Jul', 'Browser_10', 'Region_8', 'Browser_6', 'Informational_Duration', 'Month_May', 'TrafficType_5', 'Browser_2', 'Month_Mar', 'Region_2', 'Administrative_Duration', 'TrafficType_11', 'Region_7', 'Region_6', 'Month_Oct', 'Browser_4']\n",
      "M51 subset score (3.): 0.859866505819558\n",
      "............\n",
      "Best model (M52) with 53 features: ['BounceRates', 'Administrative', 'ProductRelated', 'VisitorType', 'PageValues', 'TrafficType_2', 'OperatingSystems_2', 'TrafficType_4', 'Month_June', 'SpecialDay', 'OperatingSystems_3', 'TrafficType_Others', 'TrafficType_8', 'ProductRelated_Duration', 'TrafficType_13', 'TrafficType_3', 'TrafficType_1', 'Month_Feb', 'Month_Sep', 'Region_3', 'Region_1', 'Region_9', 'Month_Dec', 'Month_Nov', 'OperatingSystems_Others', 'OperatingSystems_1', 'Browser_8', 'Browser_1', 'Informational', 'TrafficType_20', 'TrafficType_10', 'Browser_5', 'Browser_Others', 'Region_4', 'Region_5', 'Month_Aug', 'Month_Jul', 'Browser_10', 'Region_8', 'Browser_6', 'Informational_Duration', 'Month_May', 'TrafficType_5', 'Browser_2', 'Month_Mar', 'Region_2', 'Administrative_Duration', 'TrafficType_11', 'Region_7', 'Region_6', 'Month_Oct', 'Browser_4', 'Weekend']\n",
      "M52 subset score (3.): 0.8598665058195574\n",
      "............\n",
      "Best model (M53) with 54 features: ['BounceRates', 'Administrative', 'ProductRelated', 'VisitorType', 'PageValues', 'TrafficType_2', 'OperatingSystems_2', 'TrafficType_4', 'Month_June', 'SpecialDay', 'OperatingSystems_3', 'TrafficType_Others', 'TrafficType_8', 'ProductRelated_Duration', 'TrafficType_13', 'TrafficType_3', 'TrafficType_1', 'Month_Feb', 'Month_Sep', 'Region_3', 'Region_1', 'Region_9', 'Month_Dec', 'Month_Nov', 'OperatingSystems_Others', 'OperatingSystems_1', 'Browser_8', 'Browser_1', 'Informational', 'TrafficType_20', 'TrafficType_10', 'Browser_5', 'Browser_Others', 'Region_4', 'Region_5', 'Month_Aug', 'Month_Jul', 'Browser_10', 'Region_8', 'Browser_6', 'Informational_Duration', 'Month_May', 'TrafficType_5', 'Browser_2', 'Month_Mar', 'Region_2', 'Administrative_Duration', 'TrafficType_11', 'Region_7', 'Region_6', 'Month_Oct', 'Browser_4', 'Weekend', 'TrafficType_6']\n",
      "M53 subset score (3.): 0.8598668081207459\n",
      "............\n",
      "Best model (M54) with 55 features: ['BounceRates', 'Administrative', 'ProductRelated', 'VisitorType', 'PageValues', 'TrafficType_2', 'OperatingSystems_2', 'TrafficType_4', 'Month_June', 'SpecialDay', 'OperatingSystems_3', 'TrafficType_Others', 'TrafficType_8', 'ProductRelated_Duration', 'TrafficType_13', 'TrafficType_3', 'TrafficType_1', 'Month_Feb', 'Month_Sep', 'Region_3', 'Region_1', 'Region_9', 'Month_Dec', 'Month_Nov', 'OperatingSystems_Others', 'OperatingSystems_1', 'Browser_8', 'Browser_1', 'Informational', 'TrafficType_20', 'TrafficType_10', 'Browser_5', 'Browser_Others', 'Region_4', 'Region_5', 'Month_Aug', 'Month_Jul', 'Browser_10', 'Region_8', 'Browser_6', 'Informational_Duration', 'Month_May', 'TrafficType_5', 'Browser_2', 'Month_Mar', 'Region_2', 'Administrative_Duration', 'TrafficType_11', 'Region_7', 'Region_6', 'Month_Oct', 'Browser_4', 'Weekend', 'TrafficType_6', 'OperatingSystems_4']\n",
      "M54 subset score (3.): 0.8598670949730041\n",
      "\n",
      "\n",
      "Best configuration has 25 features\n",
      "Features: ['BounceRates', 'Administrative', 'ProductRelated', 'VisitorType', 'PageValues', 'TrafficType_2', 'OperatingSystems_2', 'TrafficType_4', 'Month_June', 'SpecialDay', 'OperatingSystems_3', 'TrafficType_Others', 'TrafficType_8', 'ProductRelated_Duration', 'TrafficType_13', 'TrafficType_3', 'TrafficType_1', 'Month_Feb', 'Month_Sep', 'Region_3', 'Region_1', 'Region_9', 'Month_Dec', 'Month_Nov', 'OperatingSystems_Others']\n",
      "Total number of trained models: 2090\n"
     ]
    },
    {
     "data": {
      "image/png": "[encoded data removed]",
      "text/plain": [
       "<Figure size 640x480 with 1 Axes>"
      ]
     },
     "metadata": {},
     "output_type": "display_data"
    },
    {
     "data": {
      "image/png": "[encoded data removed]",
      "text/plain": [
       "<Figure size 640x480 with 1 Axes>"
      ]
     },
     "metadata": {},
     "output_type": "display_data"
    }
   ],
   "source": [
    "def get_val_evaluator(scorer, val_size=0.3):\n",
    "    def evaluator(model, X, y, trained=False):\n",
    "        X_train_small, X_val, y_train_small, y_val = train_test_split(X, y, \n",
    "                                                                      test_size=val_size,\n",
    "                                                                      random_state=90)\n",
    "        \n",
    "        if not trained:\n",
    "            model = model.fit(X_train_small, y_train_small)\n",
    "        score = scorer(model, X_val, y_val) \n",
    "        \n",
    "        return model, score\n",
    "    \n",
    "    return evaluator\n",
    "\n",
    "def get_cv_evaluator(scorer, cv=3):\n",
    "    def evaluator(model, X, y, trained=False):            \n",
    "        scores = cross_val_score(model, X, y, scoring=scorer, cv=cv)\n",
    "        if not trained:\n",
    "            model = model.fit(X, y)\n",
    "        return model, np.mean(scores)\n",
    "    \n",
    "    return evaluator\n",
    "\n",
    "\n",
    "cv = 10\n",
    "sigma = estimate_sigma(X_train_pd, y_train)\n",
    "forward_selection(X_train_pd, y_train, X_test_pd, y_test,\n",
    "                  get_evaluator(make_scorer(r2_score)), np.argmax, # 2.b\n",
    "                  # Use either 5-fold CV or (1-fold cross) validation to \n",
    "                  # estimate the test R^2 error at step (3.) of the algorithm\n",
    "                  get_cv_evaluator(make_scorer(r2_score), cv=cv), np.argmax, # 3.\n",
    "                  get_evaluator(make_scorer(r2_score)), np.argmax, # test\n",
    "                  candidates_scorer_name=\"cv(R^2)\",\n",
    "                  subsets_scorer_name=\"cv(R^2)\",\n",
    "                  verbose=True, weight_step3=10)"
   ]
  },
  {
   "cell_type": "code",
   "execution_count": null,
   "id": "907da6a3",
   "metadata": {},
   "outputs": [],
   "source": [
    "X_features_best = ['BounceRates', 'Administrative', 'ProductRelated', 'VisitorType', 'PageValues', 'TrafficType_2', 'OperatingSystems_2', 'TrafficType_4', 'Month_June', 'SpecialDay', 'OperatingSystems_3', 'TrafficType_Others', 'TrafficType_8', 'ProductRelated_Duration', 'TrafficType_13', 'TrafficType_3', 'TrafficType_1', 'Month_Feb',\n",
    "                   'Month_Sep', 'Region_3', 'Region_1', 'Region_9', 'Month_Dec', 'Month_Nov', 'OperatingSystems_Others']\n",
    "X = training_set_no_missing[X_features_best].to_numpy()\n",
    "y = training_set_no_missing['ExitRates'].to_numpy()\n",
    "\n",
    "#splitting data\n",
    "test_size = 0.2\n",
    "test_seed = 50\n",
    "# Split X and y into train and test\n",
    "X_train, X_test, y_train, y_test = train_test_split(X, y, test_size=test_size, random_state=test_seed)\n",
    "print(\"X_train.shape \", X_train.shape)\n",
    "print(\"X_test.shape \", X_test.shape)\n",
    "\n",
    "\n",
    "degree = list(range(1,3))\n",
    "val_scores = np.zeros(len(degree))\n",
    "# Validation\n",
    "for i, d in enumerate(degree):\n",
    "    model = Pipeline([('poly', PolynomialFeatures(degree=d, include_bias=False)),\n",
    "                      ('linear', LinearRegression(fit_intercept=True))])\n",
    "    scores = cross_val_score(model, X_train, y_train, scoring=r2_scorer, cv=5)\n",
    "    val_scores[i] = np.mean(scores)\n",
    "\n",
    "# Identifies which is the best degree\n",
    "best_model_idx = np.argmax(val_scores)\n",
    "best_degree = degree[best_model_idx]\n",
    "# And the corresponding (best) validation score\n",
    "best_val_score = val_scores[best_model_idx]\n",
    "print(\"Best degree: \", best_degree,\n",
    "      \"\\nVal score: \", best_val_score)\n",
    "    \n",
    "    \n",
    "# Train again the Pipeline using the best parameter and the whole training set\n",
    "model = Pipeline([('poly', PolynomialFeatures(degree=best_degree, include_bias=False)),\n",
    "                  ('linear', LinearRegression(fit_intercept=True))])\n",
    "# Note: we train on X_train_small + X_val\n",
    "model = model.fit(np.concatenate([X_train]), np.concatenate([y_train]))\n",
    "y_predict = model.predict(X_test)\n",
    "test_score = r2_score(y_test, y_predict)\n",
    "\n",
    "print(\"Test score:\", test_score)"
   ]
  },
  {
   "cell_type": "code",
   "execution_count": 30,
   "id": "3cd4e494",
   "metadata": {},
   "outputs": [
    {
     "data": {
      "text/plain": [
       "<matplotlib.collections.PathCollection at 0x2c92cc87040>"
      ]
     },
     "execution_count": 30,
     "metadata": {},
     "output_type": "execute_result"
    },
    {
     "data": {
      "image/png": "[encoded data removed]",
      "text/plain": [
       "<Figure size 640x480 with 1 Axes>"
      ]
     },
     "metadata": {},
     "output_type": "display_data"
    }
   ],
   "source": [
    "residuals = y_test-y_predict\n",
    "plt.scatter(y_predict,residuals)\n",
    "plt.show()"
   ]
  }
 ],
 "metadata": {
  "kernelspec": {
   "display_name": "Python 3 (ipykernel)",
   "language": "python",
   "name": "python3"
  },
  "language_info": {
   "codemirror_mode": {
    "name": "ipython",
    "version": 3
   },
   "file_extension": ".py",
   "mimetype": "text/x-python",
   "name": "python",
   "nbconvert_exporter": "python",
   "pygments_lexer": "ipython3",
   "version": "3.9.13"
  }
 },
 "nbformat": 4,
 "nbformat_minor": 5
}
