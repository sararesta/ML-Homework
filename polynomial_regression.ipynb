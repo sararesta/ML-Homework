{
 "cells": [
  {
   "cell_type": "code",
   "execution_count": 1,
   "id": "f2f06886",
   "metadata": {},
   "outputs": [],
   "source": [
    "# Run this code to make Jupyter print every\n",
    "# printable statement and not just the last one\n",
    "from IPython.core.interactiveshell import InteractiveShell\n",
    "InteractiveShell.ast_node_interactivity = \"all\"\n",
    "\n",
    "# To visualize the data\n",
    "import matplotlib.pyplot as plt\n",
    "\n",
    "# Generic libraries\n",
    "import seaborn as sns\n",
    "import pandas as pd\n",
    "import numpy as np\n",
    "\n",
    "# Regression models\n",
    "import sklearn\n",
    "import scipy\n",
    "from scipy.stats import t\n",
    "import sklearn\n",
    "from sklearn.model_selection import train_test_split #split the data into training and test\n",
    "from sklearn.linear_model import LinearRegression #linear regression\n",
    "from sklearn.preprocessing import PolynomialFeatures #for polynomial regression\n",
    "from sklearn.metrics import r2_score, mean_squared_error\n",
    "\n",
    "# 5-folds crossvalidation\n",
    "from sklearn.model_selection import cross_val_score\n",
    "from sklearn.metrics import make_scorer\n",
    "from sklearn.pipeline import Pipeline\n"
   ]
  },
  {
   "cell_type": "markdown",
   "id": "7cf8b05a",
   "metadata": {},
   "source": [
    "# Regression"
   ]
  },
  {
   "cell_type": "markdown",
   "id": "7fcbec53",
   "metadata": {},
   "source": [
    "Import the datasets (for this step we need only the training set)"
   ]
  },
  {
   "cell_type": "code",
   "execution_count": 2,
   "id": "d21ec1f5",
   "metadata": {},
   "outputs": [],
   "source": [
    "training_set = pd.read_csv(\"data/training_set_online_shoppers_intention.csv\")"
   ]
  },
  {
   "cell_type": "markdown",
   "id": "ab7767b2",
   "metadata": {},
   "source": [
    "We set all the categorical types as category $\\rightarrow$ non so se sia davvero utile o no, magari lo teniamo solo per la heatmap, l'ho tolto perché così facendo c'erano dei problemi con la riassegnazione della categoria other: TypeError: Cannot setitem on a Categorical with a new category (Others), set the categories first\n",
    "\n",
    "Ho pensato che tanto poi le trasformiamo tutte in binarie, quindi fa lo stesso. Magari poi ne creiamo una copia se decidiamo di fare visual inspection sul training."
   ]
  },
  {
   "cell_type": "markdown",
   "id": "21d12f58",
   "metadata": {},
   "source": [
    "Here we group the categories with the lowest number of elements into 'others'. Since these categories doesn't have a significant number of elements we don't expect them to be significant. Giving too many importance to them may lead to overfitting problems (di questa cosa non sono sicura ed è anche scritta in un inglese che fa pena)"
   ]
  },
  {
   "cell_type": "code",
   "execution_count": 3,
   "id": "70b244db",
   "metadata": {
    "scrolled": false
   },
   "outputs": [],
   "source": [
    "# VisitorType -> others removed\n",
    "training_set = training_set[training_set['VisitorType']!='Other']\n",
    "\n",
    "#VisitorType -> 1 = returning, 0 = new\n",
    "training_set['VisitorType'] = np.where(training_set['VisitorType']=='Returning_Visitor',1,0)\n",
    "\n",
    "# Weekend\n",
    "training_set['Weekend'] = np.where(training_set['Weekend']=='False',1,0)\n",
    "\n",
    "# Split categorical variables\n",
    "months = pd.get_dummies(training_set.Month, prefix='Month')\n",
    "regions = pd.get_dummies(training_set.Region, prefix='Region')\n",
    "\n",
    "def cut_levels(x, threshold, new_value):\n",
    "    x = x.copy()\n",
    "    value_counts = x.value_counts()\n",
    "    labels = value_counts.index[value_counts < threshold]\n",
    "    x[np.in1d(x, labels)] = new_value\n",
    "    return x\n",
    "\n",
    "training_set['Browser'] = cut_levels(training_set['Browser'],100,'Others')\n",
    "training_set['TrafficType'] = cut_levels(training_set['TrafficType'],100,'Others')\n",
    "training_set['OperatingSystems'] = cut_levels(training_set['OperatingSystems'],100,'Others')\n",
    "\n",
    "browser = pd.get_dummies(training_set.Browser, prefix='Browser')\n",
    "traffic_type = pd.get_dummies(training_set.TrafficType, prefix='TrafficType')\n",
    "operating_systems = pd.get_dummies(training_set.OperatingSystems, prefix='OperatingSystems')"
   ]
  },
  {
   "cell_type": "markdown",
   "id": "f830a376",
   "metadata": {},
   "source": [
    "Here we replace the categorical features with the dummies variables obtaining binary features"
   ]
  },
  {
   "cell_type": "code",
   "execution_count": 4,
   "id": "5f721f57",
   "metadata": {},
   "outputs": [
    {
     "data": {
      "text/plain": [
       "(9182, 57)"
      ]
     },
     "execution_count": 4,
     "metadata": {},
     "output_type": "execute_result"
    }
   ],
   "source": [
    "training_set = training_set.drop(['Unnamed: 0','Month','Region','Browser','TrafficType','OperatingSystems'], axis=1).join([months,regions,browser,traffic_type,operating_systems])\n",
    "training_set.shape"
   ]
  },
  {
   "cell_type": "code",
   "execution_count": 5,
   "id": "3219dd24",
   "metadata": {},
   "outputs": [],
   "source": [
    "# split the training set to separate the rows with missing values\n",
    "mask = training_set['ExitRates'].isna()\n",
    "training_set_missing = training_set[mask]\n",
    "#training_set_missing.head()\n",
    "training_set_no_missing = training_set[mask==False]\n",
    "#training_set_no_missing.head()"
   ]
  },
  {
   "cell_type": "code",
   "execution_count": 6,
   "id": "943a84d2",
   "metadata": {},
   "outputs": [],
   "source": [
    "X_all_features = list(np.delete(training_set.columns.values, [np.where(training_set.columns.values=='ExitRates'),np.where(training_set.columns.values=='Revenue')], axis=None))\n",
    "X = training_set_no_missing[X_all_features].to_numpy()\n",
    "y = training_set_no_missing['ExitRates'].to_numpy()"
   ]
  },
  {
   "cell_type": "markdown",
   "id": "40de9b6c",
   "metadata": {},
   "source": [
    "Now we split the training data to obtain a train and a test set to train the regression model and to compute the performance scores."
   ]
  },
  {
   "cell_type": "code",
   "execution_count": 13,
   "id": "2fc6a037",
   "metadata": {},
   "outputs": [
    {
     "name": "stdout",
     "output_type": "stream",
     "text": [
      "X_train.shape  (5776, 55)\n",
      "X_test.shape  (642, 55)\n"
     ]
    }
   ],
   "source": [
    "#splitting data\n",
    "test_size = 0.1\n",
    "test_seed = 50\n",
    "# Split X and y into train and test\n",
    "X_train, X_test, y_train, y_test = train_test_split(X, y, test_size=test_size, random_state=test_seed)\n",
    "print(\"X_train.shape \", X_train.shape)\n",
    "print(\"X_test.shape \", X_test.shape)"
   ]
  },
  {
   "cell_type": "markdown",
   "id": "ee716a47",
   "metadata": {},
   "source": [
    "Now we fit different polynomial regression models"
   ]
  },
  {
   "cell_type": "markdown",
   "id": "0fe088cb",
   "metadata": {},
   "source": [
    "## Hyperparameter selection"
   ]
  },
  {
   "cell_type": "code",
   "execution_count": 15,
   "id": "135c5b54",
   "metadata": {},
   "outputs": [
    {
     "name": "stdout",
     "output_type": "stream",
     "text": [
      "Best degree:  1 \n",
      "Val score:  0.8595520704086624\n",
      "Test score: 0.85272883935813\n"
     ]
    }
   ],
   "source": [
    "# NOTE: same code as before, we just changed the way we\n",
    "# compute the validation score. Instead on a single fold,\n",
    "# we use a cross validation score for each possibility!\n",
    "# Look at how 'val_score' is computed!\n",
    "# NOTE: We don't need to explicitely train the model, the\n",
    "# function will do it for us for each train split. Also\n",
    "# train scores are not reported, only the cv score!\n",
    "# ======================================================\n",
    "\n",
    "# NOTE: The API always maximises the score, so score that\n",
    "# must be minimized are retured as negative values!\n",
    "r2_scorer = make_scorer(r2_score, greater_is_better=True)\n",
    "\n",
    "# or ...\n",
    "# mse_scorer = 'neg_mean_squared_error'\n",
    "\n",
    "degree = list(range(1,3))\n",
    "val_scores = np.zeros(len(degree))\n",
    "# Validation\n",
    "for i, d in enumerate(degree):\n",
    "    model = Pipeline([('poly', PolynomialFeatures(degree=d, include_bias=False)),\n",
    "                      ('linear', LinearRegression(fit_intercept=True))])\n",
    "    scores = cross_val_score(model, X_train, y_train, scoring=r2_scorer, cv=5)\n",
    "    val_scores[i] = np.mean(scores)\n",
    "\n",
    "# Identifies which is the best degree\n",
    "best_model_idx = np.argmax(val_scores)\n",
    "best_degree = degree[best_model_idx]\n",
    "# And the corresponding (best) validation score\n",
    "best_val_score = val_scores[best_model_idx]\n",
    "print(\"Best degree: \", best_degree,\n",
    "      \"\\nVal score: \", best_val_score)\n",
    "    \n",
    "    \n",
    "# Train again the Pipeline using the best parameter and the whole training set\n",
    "model = Pipeline([('poly', PolynomialFeatures(degree=best_degree, include_bias=False)),\n",
    "                  ('linear', LinearRegression(fit_intercept=True))])\n",
    "# Note: we train on X_train_small + X_val\n",
    "model = model.fit(np.concatenate([X_train]), np.concatenate([y_train]))\n",
    "y_predict = model.predict(X_test)\n",
    "test_score = r2_score(y_test, y_predict)\n",
    "\n",
    "print(\"Test score:\", test_score)"
   ]
  },
  {
   "cell_type": "code",
   "execution_count": 30,
   "id": "95b42b2b",
   "metadata": {},
   "outputs": [
    {
     "data": {
      "text/plain": [
       "<matplotlib.collections.PathCollection at 0x1d80342ae50>"
      ]
     },
     "execution_count": 30,
     "metadata": {},
     "output_type": "execute_result"
    },
    {
     "data": {
      "image/png": "[encoded data removed]",
      "text/plain": [
       "<Figure size 640x480 with 1 Axes>"
      ]
     },
     "metadata": {},
     "output_type": "display_data"
    },
    {
     "name": "stdout",
     "output_type": "stream",
     "text": [
      "Train R2 score  0.8634539292692086\n",
      "Train MSE score  0.0003125960071219233\n",
      "Test R2 score  0.85272883935813\n",
      "Test MSE score  0.0003539379274492473\n"
     ]
    }
   ],
   "source": [
    "residuals = y_test-y_predict\n",
    "plt.scatter(y_predict,residuals)\n",
    "plt.show()\n",
    "\n",
    "print(\"Train R2 score \", r2_score(y_train, y_predict_train))\n",
    "print(\"Train MSE score \", mean_squared_error(y_train, y_predict_train))\n",
    "\n",
    "print(\"Test R2 score \", r2_score(y_test, y_predict_test))\n",
    "print(\"Test MSE score \", mean_squared_error(y_test, y_predict_test))"
   ]
  },
  {
   "cell_type": "code",
   "execution_count": 31,
   "id": "b7015aac",
   "metadata": {},
   "outputs": [],
   "source": [
    "# Convert back from numpy arrays to data frames\n",
    "# just for convenience, since we can use names to\n",
    "# index features\n",
    "X_train_pd = pd.DataFrame(X_train, columns=X_all_features)\n",
    "X_test_pd = pd.DataFrame(X_test, columns=X_all_features)"
   ]
  },
  {
   "cell_type": "code",
   "execution_count": 32,
   "id": "68456249",
   "metadata": {},
   "outputs": [
    {
     "data": {
      "text/html": [
       "<div>\n",
       "<style scoped>\n",
       "    .dataframe tbody tr th:only-of-type {\n",
       "        vertical-align: middle;\n",
       "    }\n",
       "\n",
       "    .dataframe tbody tr th {\n",
       "        vertical-align: top;\n",
       "    }\n",
       "\n",
       "    .dataframe thead th {\n",
       "        text-align: right;\n",
       "    }\n",
       "</style>\n",
       "<table border=\"1\" class=\"dataframe\">\n",
       "  <thead>\n",
       "    <tr style=\"text-align: right;\">\n",
       "      <th></th>\n",
       "      <th>Administrative</th>\n",
       "      <th>Administrative_Duration</th>\n",
       "      <th>Informational</th>\n",
       "    </tr>\n",
       "  </thead>\n",
       "  <tbody>\n",
       "    <tr>\n",
       "      <th>0</th>\n",
       "      <td>0.0</td>\n",
       "      <td>0.0</td>\n",
       "      <td>0.0</td>\n",
       "    </tr>\n",
       "    <tr>\n",
       "      <th>1</th>\n",
       "      <td>1.0</td>\n",
       "      <td>229.8</td>\n",
       "      <td>0.0</td>\n",
       "    </tr>\n",
       "    <tr>\n",
       "      <th>2</th>\n",
       "      <td>4.0</td>\n",
       "      <td>87.5</td>\n",
       "      <td>1.0</td>\n",
       "    </tr>\n",
       "    <tr>\n",
       "      <th>3</th>\n",
       "      <td>0.0</td>\n",
       "      <td>0.0</td>\n",
       "      <td>0.0</td>\n",
       "    </tr>\n",
       "    <tr>\n",
       "      <th>4</th>\n",
       "      <td>0.0</td>\n",
       "      <td>0.0</td>\n",
       "      <td>0.0</td>\n",
       "    </tr>\n",
       "  </tbody>\n",
       "</table>\n",
       "</div>"
      ],
      "text/plain": [
       "   Administrative  Administrative_Duration  Informational\n",
       "0             0.0                      0.0            0.0\n",
       "1             1.0                    229.8            0.0\n",
       "2             4.0                     87.5            1.0\n",
       "3             0.0                      0.0            0.0\n",
       "4             0.0                      0.0            0.0"
      ]
     },
     "execution_count": 32,
     "metadata": {},
     "output_type": "execute_result"
    },
    {
     "data": {
      "text/html": [
       "<div>\n",
       "<style scoped>\n",
       "    .dataframe tbody tr th:only-of-type {\n",
       "        vertical-align: middle;\n",
       "    }\n",
       "\n",
       "    .dataframe tbody tr th {\n",
       "        vertical-align: top;\n",
       "    }\n",
       "\n",
       "    .dataframe thead th {\n",
       "        text-align: right;\n",
       "    }\n",
       "</style>\n",
       "<table border=\"1\" class=\"dataframe\">\n",
       "  <thead>\n",
       "    <tr style=\"text-align: right;\">\n",
       "      <th></th>\n",
       "      <th>Administrative</th>\n",
       "      <th>Administrative_Duration</th>\n",
       "      <th>Informational_Duration</th>\n",
       "    </tr>\n",
       "  </thead>\n",
       "  <tbody>\n",
       "    <tr>\n",
       "      <th>0</th>\n",
       "      <td>0.0</td>\n",
       "      <td>0.0</td>\n",
       "      <td>0.0</td>\n",
       "    </tr>\n",
       "    <tr>\n",
       "      <th>1</th>\n",
       "      <td>1.0</td>\n",
       "      <td>229.8</td>\n",
       "      <td>0.0</td>\n",
       "    </tr>\n",
       "    <tr>\n",
       "      <th>2</th>\n",
       "      <td>4.0</td>\n",
       "      <td>87.5</td>\n",
       "      <td>20.0</td>\n",
       "    </tr>\n",
       "    <tr>\n",
       "      <th>3</th>\n",
       "      <td>0.0</td>\n",
       "      <td>0.0</td>\n",
       "      <td>0.0</td>\n",
       "    </tr>\n",
       "    <tr>\n",
       "      <th>4</th>\n",
       "      <td>0.0</td>\n",
       "      <td>0.0</td>\n",
       "      <td>0.0</td>\n",
       "    </tr>\n",
       "  </tbody>\n",
       "</table>\n",
       "</div>"
      ],
      "text/plain": [
       "   Administrative  Administrative_Duration  Informational_Duration\n",
       "0             0.0                      0.0                     0.0\n",
       "1             1.0                    229.8                     0.0\n",
       "2             4.0                     87.5                    20.0\n",
       "3             0.0                      0.0                     0.0\n",
       "4             0.0                      0.0                     0.0"
      ]
     },
     "execution_count": 32,
     "metadata": {},
     "output_type": "execute_result"
    }
   ],
   "source": [
    "import itertools\n",
    "def get_subsets(X_pd, dim):\n",
    "    feature_names = X_pd.columns.tolist()\n",
    "    # Compute all possibile combinations of 'dim' values\n",
    "    subset_names = itertools.combinations(feature_names, dim) # list of list of names [[name of first candidate, ...], [...]]\n",
    "    # Convert names into datasets\n",
    "    data_subsets = [X_pd[list(fnames)] for fnames in subset_names]\n",
    "    return data_subsets\n",
    "\n",
    "subsets = get_subsets(X_train_pd, 3)\n",
    "subsets[0].head() # training set of the first subset\n",
    "subsets[1].head() # training set of the second subset"
   ]
  },
  {
   "cell_type": "code",
   "execution_count": 35,
   "id": "52ee201c",
   "metadata": {},
   "outputs": [],
   "source": [
    "def rss(y_true, y_pred):\n",
    "    # First we make sure the shapes are the same\n",
    "    y_true = y_true.reshape(y_pred.shape)\n",
    "    return np.sum((y_true - y_pred) ** 2)"
   ]
  },
  {
   "cell_type": "code",
   "execution_count": 36,
   "id": "32450450",
   "metadata": {},
   "outputs": [],
   "source": [
    "def estimate_sigma(Xtrain_pd, ytrain):\n",
    "    # Sigma is usually estimated using the model with all features\n",
    "    n, p = Xtrain_pd.shape\n",
    "    model = LinearRegression(fit_intercept=True)\n",
    "    model.fit(Xtrain_pd, ytrain)\n",
    "    y_pred = model.predict(Xtrain_pd)\n",
    "    RSS = rss(y_pred, ytrain)\n",
    "    RSE = np.sqrt(RSS / (n-p))\n",
    "    return RSE\n",
    "\n",
    "def cp(y_pred, y_true, n, d, sigma):\n",
    "    sigma2 = sigma**2\n",
    "    return (rss(y_pred, y_true) + 2*d*sigma2) / n\n",
    "\n",
    "def aic(y_pred, y_true, n, d, sigma):\n",
    "    sigma2 = sigma**2\n",
    "    return (rss(y_pred, y_true) + 2*d*sigma2) / (n*sigma2)\n",
    "\n",
    "def bic(y_pred, y_true, n, d, sigma):\n",
    "    sigma2 = sigma**2\n",
    "    return (rss(y_pred, y_true) + np.log(n)*d*sigma2) / (n*sigma2)\n",
    "\n",
    "def adj_r2(y_pred, y_true, n, d, sigma):\n",
    "    sigma2 = sigma**2\n",
    "    RSS = rss(y_pred, y_true)\n",
    "    TSS = tss(y_true)\n",
    "    return 1 - (RSS/(n-d-1)) / (TSS/(n-1))\n"
   ]
  },
  {
   "cell_type": "code",
   "execution_count": 38,
   "id": "c99cd1a4",
   "metadata": {},
   "outputs": [
    {
     "data": {
      "text/plain": [
       "'subset_selection(X_train_pd, y_train, X_test_pd, y_test,\\n                 get_evaluator(make_scorer(rss)), np.argmin, # 2.\\n                 get_evaluator(get_sigma_scorer(bic, sigma)), np.argmin, # 3.\\n                 get_evaluator(make_scorer(mean_squared_error)), np.argmin, # test\\n                 candidates_scorer_name=\"RSS\",\\n                 subsets_scorer_name=\"BIC\",\\n                 verbose=True)'"
      ]
     },
     "execution_count": 38,
     "metadata": {},
     "output_type": "execute_result"
    }
   ],
   "source": [
    "def get_sigma_scorer(metric, sigma):\n",
    "    def scorer(model, X, y):\n",
    "        n, d = X.shape\n",
    "        y_pred = model.predict(X)\n",
    "        return metric(y_pred, y, n, d, sigma)\n",
    "    \n",
    "    return scorer\n",
    "\n",
    "sigma = estimate_sigma(X_train_pd, y_train)\n",
    "'''subset_selection(X_train_pd, y_train, X_test_pd, y_test,\n",
    "                 get_evaluator(make_scorer(rss)), np.argmin, # 2.\n",
    "                 get_evaluator(get_sigma_scorer(bic, sigma)), np.argmin, # 3.\n",
    "                 get_evaluator(make_scorer(mean_squared_error)), np.argmin, # test\n",
    "                 candidates_scorer_name=\"RSS\",\n",
    "                 subsets_scorer_name=\"BIC\",\n",
    "                 verbose=True)'''"
   ]
  },
  {
   "cell_type": "code",
   "execution_count": 41,
   "id": "d43b1431",
   "metadata": {},
   "outputs": [],
   "source": [
    "def get_evaluator(scorer):\n",
    "    def evaluator(model, X, y, trained=False):\n",
    "        if not trained:\n",
    "            model = model.fit(X, y)\n",
    "        score = scorer(model, X, y)\n",
    "        return model, score\n",
    "    return evaluator  "
   ]
  },
  {
   "cell_type": "code",
   "execution_count": 39,
   "id": "5786aadc",
   "metadata": {},
   "outputs": [],
   "source": [
    "from sklearn.dummy import DummyRegressor\n",
    "\n",
    "def forward_selection(Xtrain_pd, ytrain, Xtest_pd, ytest,\n",
    "                      candidates_evaluator, candidates_argbest, # Metric to be used at 2.b\n",
    "                      subsets_evaluator, subsets_argbest,       # Metric to be used at 3\n",
    "                      test_evaluator=None, test_argbest=None,\n",
    "                      candidates_scorer_name=None,  # Name of 2. figure\n",
    "                      subsets_scorer_name=None,     # Name of 3. figure\n",
    "                      verbose=True, weight_step3=0):   \n",
    "    test_evaluator = subsets_evaluator if not test_evaluator else test_evaluator\n",
    "    test_argbest = subsets_argbest if not test_argbest else test_argbest\n",
    "    \n",
    "    # Global variable init\n",
    "    # ====================\n",
    "    num_features = Xtrain_pd.shape[-1]\n",
    "    best_candidate_metric = []\n",
    "    # subsets_* are lists containing one value for each Mk model (the best of the Mk candidates)\n",
    "    subsets_test = []\n",
    "    subsets_metric = []        # The best metric of each subset of dimension 'dim'\n",
    "    subsets_best_features = [] # The best features combination in each subset of dimension 'dim'\n",
    "    # A figure to keep track of candidates scores in each Mk subset\n",
    "    plt.figure()\n",
    "    candidate_fig = plt.subplot(111) # A global matplotlib figure\n",
    "    num_evaluations = 0        # A conter to keep track of the total number of trials\n",
    "    \n",
    "    selected_features = []  # <------ !! We keep track of selected features !!\n",
    "    all_features = Xtrain_pd.columns\n",
    "    \n",
    "    \n",
    "    # 1. Train M0\n",
    "    # ===========\n",
    "    model = DummyRegressor()\n",
    "    # Compute (2.b) metrics\n",
    "    model, score = candidates_evaluator(model, Xtrain_pd[[]], ytrain)\n",
    "    best_candidate_metric.append(score)\n",
    "    subsets_best_features.append([])\n",
    "    _ = candidate_fig.scatter([0], [score], color=\"b\")\n",
    "    # Compute metric for step 3.\n",
    "    _, score = subsets_evaluator(model, Xtrain_pd[[]], ytrain, trained=True)\n",
    "    subsets_metric.append(score)\n",
    "    _, score = test_evaluator(model, Xtrain_pd[[]], ytrain, trained=True)\n",
    "    subsets_test.append(score)\n",
    "    \n",
    "    # 2. Evaluate all Mk candidates with\n",
    "    #    k=0...P features\n",
    "    # =========================================\n",
    "    #!! The loop condition is slightly changed\n",
    "    #!! How many iterations we need to perform?\n",
    "    for dim in range(num_features):\n",
    "        candidate_metrics = [] # Keep track of candidates metrics. Will be used to select the best\n",
    "        candidate_models = []  # Keep track of candidates trained models\n",
    "        \n",
    "        # 2.a Given the previous Mk model, test remaining\n",
    "        # features and select the one providing the best\n",
    "        # performance increment\n",
    "        # ===============================================\n",
    "        remaining_features = Xtrain_pd.columns.difference(selected_features)\n",
    "        \n",
    "        for new_column in remaining_features:\n",
    "            Xtrain_sub = Xtrain_pd[selected_features+[new_column]].to_numpy()\n",
    "            model = LinearRegression(fit_intercept=True)\n",
    "            model, score = candidates_evaluator(model, Xtrain_sub, ytrain)\n",
    "            candidate_models.append(model)\n",
    "            candidate_metrics.append(score)\n",
    "            num_evaluations += 1\n",
    "            \n",
    "        _ = candidate_fig.scatter([Xtrain_sub.shape[-1]]*len(candidate_metrics), candidate_metrics,\n",
    "                                  color=\"b\")\n",
    "            \n",
    "        # 2.b Select the best candidate in (2.a)\n",
    "        # ===============================================\n",
    "        idx_best_candidate = candidates_argbest(candidate_metrics)\n",
    "        #!!! Update selected feature\n",
    "        # ==========================\n",
    "        selected_features.append(remaining_features[idx_best_candidate])\n",
    "        # Save best candidate features\n",
    "        best_candidate_metric.append(candidate_metrics[idx_best_candidate])\n",
    "        best_features = selected_features.copy()\n",
    "        subsets_best_features.append(best_features)\n",
    "        \n",
    "        # Compute metric for step 3.\n",
    "        best_subset_model = candidate_models[idx_best_candidate]\n",
    "        best_subset_Xtrain = Xtrain_pd[best_features].to_numpy()\n",
    "        _, score = subsets_evaluator(best_subset_model, best_subset_Xtrain, ytrain, trained=True)\n",
    "        subsets_metric.append(score)\n",
    "        best_subset_Xtest = Xtest_pd[best_features].to_numpy()\n",
    "        _, score_test = test_evaluator(best_subset_model, best_subset_Xtest, ytest, trained=True)\n",
    "        subsets_test.append(score_test)\n",
    "        num_evaluations += weight_step3 \n",
    "        \n",
    "        if verbose:\n",
    "            print(\"............\")\n",
    "            print(\"Best model (M{}) with {} features: {}\".format(dim, dim+1, best_features))\n",
    "            print(\"M{} subset score (3.): {}\".format(dim, score))\n",
    "        \n",
    "    # 3. Among all best candidates with increasing number\n",
    "    #    of features, select the best one\n",
    "    # ===================================================\n",
    "    best_subset_idx = subsets_argbest(subsets_metric)\n",
    "    best_features = subsets_best_features[best_subset_idx]\n",
    "    \n",
    "    if verbose:\n",
    "        print(\"\\n\\nBest configuration has {} features\".format(best_subset_idx))\n",
    "        print(\"Features: {}\".format(subsets_best_features[best_subset_idx]))\n",
    "        print(\"Total number of trained models:\", num_evaluations)\n",
    "    \n",
    "    # Complete the subsets_fig figure by plotting\n",
    "    # a line connecting all best candidate score\n",
    "    best_candidate_score_idx = candidates_argbest(best_candidate_metric)\n",
    "    _ = candidate_fig.plot(range(len(best_candidate_metric)), best_candidate_metric)\n",
    "    _ = candidate_fig.scatter(best_candidate_score_idx, best_candidate_metric[best_candidate_score_idx],\n",
    "                              marker='X', label=\"Best\", color=\"r\")\n",
    "    candidate_fig.set_title(candidates_scorer_name)\n",
    "    candidate_fig.legend()\n",
    "    \n",
    "    # Plot a figure to show how te 3. metric evolves\n",
    "    plt.figure()\n",
    "    subsets_fig = plt.subplot(111)\n",
    "    _ = subsets_fig.plot(range(len(subsets_metric)), subsets_metric, label=\"Selection (3.) scores\")\n",
    "    _ = subsets_fig.scatter(best_subset_idx, subsets_metric[best_subset_idx],\n",
    "                              marker='X', label=\"Best (3.) score\", color=\"r\")\n",
    "    best_test_score_idx = test_argbest(subsets_test)\n",
    "    _ = subsets_fig.plot(range(len(subsets_test)), subsets_test, label=\"Test scores\")\n",
    "    _ = subsets_fig.scatter(best_test_score_idx, subsets_test[best_test_score_idx],\n",
    "                              marker='X', label=\"Best test score\", color=\"y\")\n",
    "    subsets_fig.set_title(subsets_scorer_name)\n",
    "    subsets_fig.legend()"
   ]
  },
  {
   "cell_type": "code",
   "execution_count": 42,
   "id": "d4e1ddae",
   "metadata": {
    "scrolled": true
   },
   "outputs": [
    {
     "name": "stdout",
     "output_type": "stream",
     "text": [
      "............\n",
      "Best model (M0) with 1 features: ['BounceRates']\n",
      "M0 subset score (3.): 1.2137088406848757\n",
      "............\n",
      "Best model (M1) with 2 features: ['BounceRates', 'Administrative']\n",
      "M1 subset score (3.): 1.1251127580335574\n",
      "............\n",
      "Best model (M2) with 3 features: ['BounceRates', 'Administrative', 'ProductRelated']\n",
      "M2 subset score (3.): 1.0893882194437539\n",
      "............\n",
      "Best model (M3) with 4 features: ['BounceRates', 'Administrative', 'ProductRelated', 'VisitorType']\n",
      "M3 subset score (3.): 1.05412198789536\n",
      "............\n",
      "Best model (M4) with 5 features: ['BounceRates', 'Administrative', 'ProductRelated', 'VisitorType', 'PageValues']\n",
      "M4 subset score (3.): 1.0367647397248339\n",
      "............\n",
      "Best model (M5) with 6 features: ['BounceRates', 'Administrative', 'ProductRelated', 'VisitorType', 'PageValues', 'TrafficType_2']\n",
      "M5 subset score (3.): 1.02889760992174\n",
      "............\n",
      "Best model (M6) with 7 features: ['BounceRates', 'Administrative', 'ProductRelated', 'VisitorType', 'PageValues', 'TrafficType_2', 'OperatingSystems_2']\n",
      "M6 subset score (3.): 1.021986799804767\n",
      "............\n",
      "Best model (M7) with 8 features: ['BounceRates', 'Administrative', 'ProductRelated', 'VisitorType', 'PageValues', 'TrafficType_2', 'OperatingSystems_2', 'SpecialDay']\n",
      "M7 subset score (3.): 1.0190506692034742\n",
      "............\n",
      "Best model (M8) with 9 features: ['BounceRates', 'Administrative', 'ProductRelated', 'VisitorType', 'PageValues', 'TrafficType_2', 'OperatingSystems_2', 'SpecialDay', 'TrafficType_4']\n",
      "M8 subset score (3.): 1.0172931873952542\n",
      "............\n",
      "Best model (M9) with 10 features: ['BounceRates', 'Administrative', 'ProductRelated', 'VisitorType', 'PageValues', 'TrafficType_2', 'OperatingSystems_2', 'SpecialDay', 'TrafficType_4', 'Month_June']\n",
      "M9 subset score (3.): 1.0161525831920104\n",
      "............\n",
      "Best model (M10) with 11 features: ['BounceRates', 'Administrative', 'ProductRelated', 'VisitorType', 'PageValues', 'TrafficType_2', 'OperatingSystems_2', 'SpecialDay', 'TrafficType_4', 'Month_June', 'OperatingSystems_3']\n",
      "M10 subset score (3.): 1.0155574011047943\n",
      "............\n",
      "Best model (M11) with 12 features: ['BounceRates', 'Administrative', 'ProductRelated', 'VisitorType', 'PageValues', 'TrafficType_2', 'OperatingSystems_2', 'SpecialDay', 'TrafficType_4', 'Month_June', 'OperatingSystems_3', 'ProductRelated_Duration']\n",
      "M11 subset score (3.): 1.0161933611435763\n",
      "............\n",
      "Best model (M12) with 13 features: ['BounceRates', 'Administrative', 'ProductRelated', 'VisitorType', 'PageValues', 'TrafficType_2', 'OperatingSystems_2', 'SpecialDay', 'TrafficType_4', 'Month_June', 'OperatingSystems_3', 'ProductRelated_Duration', 'TrafficType_3']\n",
      "M12 subset score (3.): 1.0169094505436953\n",
      "............\n",
      "Best model (M13) with 14 features: ['BounceRates', 'Administrative', 'ProductRelated', 'VisitorType', 'PageValues', 'TrafficType_2', 'OperatingSystems_2', 'SpecialDay', 'TrafficType_4', 'Month_June', 'OperatingSystems_3', 'ProductRelated_Duration', 'TrafficType_3', 'TrafficType_13']\n",
      "M13 subset score (3.): 1.0176224213185499\n",
      "............\n",
      "Best model (M14) with 15 features: ['BounceRates', 'Administrative', 'ProductRelated', 'VisitorType', 'PageValues', 'TrafficType_2', 'OperatingSystems_2', 'SpecialDay', 'TrafficType_4', 'Month_June', 'OperatingSystems_3', 'ProductRelated_Duration', 'TrafficType_3', 'TrafficType_13', 'TrafficType_1']\n",
      "M14 subset score (3.): 1.0179660857111448\n",
      "............\n",
      "Best model (M15) with 16 features: ['BounceRates', 'Administrative', 'ProductRelated', 'VisitorType', 'PageValues', 'TrafficType_2', 'OperatingSystems_2', 'SpecialDay', 'TrafficType_4', 'Month_June', 'OperatingSystems_3', 'ProductRelated_Duration', 'TrafficType_3', 'TrafficType_13', 'TrafficType_1', 'Month_Sep']\n",
      "M15 subset score (3.): 1.01879796844952\n",
      "............\n",
      "Best model (M16) with 17 features: ['BounceRates', 'Administrative', 'ProductRelated', 'VisitorType', 'PageValues', 'TrafficType_2', 'OperatingSystems_2', 'SpecialDay', 'TrafficType_4', 'Month_June', 'OperatingSystems_3', 'ProductRelated_Duration', 'TrafficType_3', 'TrafficType_13', 'TrafficType_1', 'Month_Sep', 'Region_3']\n",
      "M16 subset score (3.): 1.019623541154018\n",
      "............\n",
      "Best model (M17) with 18 features: ['BounceRates', 'Administrative', 'ProductRelated', 'VisitorType', 'PageValues', 'TrafficType_2', 'OperatingSystems_2', 'SpecialDay', 'TrafficType_4', 'Month_June', 'OperatingSystems_3', 'ProductRelated_Duration', 'TrafficType_3', 'TrafficType_13', 'TrafficType_1', 'Month_Sep', 'Region_3', 'Region_1']\n",
      "M17 subset score (3.): 1.0207122909350543\n",
      "............\n",
      "Best model (M18) with 19 features: ['BounceRates', 'Administrative', 'ProductRelated', 'VisitorType', 'PageValues', 'TrafficType_2', 'OperatingSystems_2', 'SpecialDay', 'TrafficType_4', 'Month_June', 'OperatingSystems_3', 'ProductRelated_Duration', 'TrafficType_3', 'TrafficType_13', 'TrafficType_1', 'Month_Sep', 'Region_3', 'Region_1', 'Region_9']\n",
      "M18 subset score (3.): 1.021747062202472\n",
      "............\n",
      "Best model (M19) with 20 features: ['BounceRates', 'Administrative', 'ProductRelated', 'VisitorType', 'PageValues', 'TrafficType_2', 'OperatingSystems_2', 'SpecialDay', 'TrafficType_4', 'Month_June', 'OperatingSystems_3', 'ProductRelated_Duration', 'TrafficType_3', 'TrafficType_13', 'TrafficType_1', 'Month_Sep', 'Region_3', 'Region_1', 'Region_9', 'Month_Dec']\n",
      "M19 subset score (3.): 1.0228973530576004\n",
      "............\n",
      "Best model (M20) with 21 features: ['BounceRates', 'Administrative', 'ProductRelated', 'VisitorType', 'PageValues', 'TrafficType_2', 'OperatingSystems_2', 'SpecialDay', 'TrafficType_4', 'Month_June', 'OperatingSystems_3', 'ProductRelated_Duration', 'TrafficType_3', 'TrafficType_13', 'TrafficType_1', 'Month_Sep', 'Region_3', 'Region_1', 'Region_9', 'Month_Dec', 'Region_4']\n",
      "M20 subset score (3.): 1.024095856515949\n",
      "............\n",
      "Best model (M21) with 22 features: ['BounceRates', 'Administrative', 'ProductRelated', 'VisitorType', 'PageValues', 'TrafficType_2', 'OperatingSystems_2', 'SpecialDay', 'TrafficType_4', 'Month_June', 'OperatingSystems_3', 'ProductRelated_Duration', 'TrafficType_3', 'TrafficType_13', 'TrafficType_1', 'Month_Sep', 'Region_3', 'Region_1', 'Region_9', 'Month_Dec', 'Region_4', 'Month_Jul']\n",
      "M21 subset score (3.): 1.0253507837625606\n",
      "............\n",
      "Best model (M22) with 23 features: ['BounceRates', 'Administrative', 'ProductRelated', 'VisitorType', 'PageValues', 'TrafficType_2', 'OperatingSystems_2', 'SpecialDay', 'TrafficType_4', 'Month_June', 'OperatingSystems_3', 'ProductRelated_Duration', 'TrafficType_3', 'TrafficType_13', 'TrafficType_1', 'Month_Sep', 'Region_3', 'Region_1', 'Region_9', 'Month_Dec', 'Region_4', 'Month_Jul', 'Month_Nov']\n",
      "M22 subset score (3.): 1.0265914748284575\n",
      "............\n",
      "Best model (M23) with 24 features: ['BounceRates', 'Administrative', 'ProductRelated', 'VisitorType', 'PageValues', 'TrafficType_2', 'OperatingSystems_2', 'SpecialDay', 'TrafficType_4', 'Month_June', 'OperatingSystems_3', 'ProductRelated_Duration', 'TrafficType_3', 'TrafficType_13', 'TrafficType_1', 'Month_Sep', 'Region_3', 'Region_1', 'Region_9', 'Month_Dec', 'Region_4', 'Month_Jul', 'Month_Nov', 'OperatingSystems_Others']\n",
      "M23 subset score (3.): 1.0278598470872307\n",
      "............\n",
      "Best model (M24) with 25 features: ['BounceRates', 'Administrative', 'ProductRelated', 'VisitorType', 'PageValues', 'TrafficType_2', 'OperatingSystems_2', 'SpecialDay', 'TrafficType_4', 'Month_June', 'OperatingSystems_3', 'ProductRelated_Duration', 'TrafficType_3', 'TrafficType_13', 'TrafficType_1', 'Month_Sep', 'Region_3', 'Region_1', 'Region_9', 'Month_Dec', 'Region_4', 'Month_Jul', 'Month_Nov', 'OperatingSystems_Others', 'TrafficType_Others']\n",
      "M24 subset score (3.): 1.0291720454706148\n",
      "............\n",
      "Best model (M25) with 26 features: ['BounceRates', 'Administrative', 'ProductRelated', 'VisitorType', 'PageValues', 'TrafficType_2', 'OperatingSystems_2', 'SpecialDay', 'TrafficType_4', 'Month_June', 'OperatingSystems_3', 'ProductRelated_Duration', 'TrafficType_3', 'TrafficType_13', 'TrafficType_1', 'Month_Sep', 'Region_3', 'Region_1', 'Region_9', 'Month_Dec', 'Region_4', 'Month_Jul', 'Month_Nov', 'OperatingSystems_Others', 'TrafficType_Others', 'OperatingSystems_1']\n",
      "M25 subset score (3.): 1.0304926977579028\n",
      "............\n",
      "Best model (M26) with 27 features: ['BounceRates', 'Administrative', 'ProductRelated', 'VisitorType', 'PageValues', 'TrafficType_2', 'OperatingSystems_2', 'SpecialDay', 'TrafficType_4', 'Month_June', 'OperatingSystems_3', 'ProductRelated_Duration', 'TrafficType_3', 'TrafficType_13', 'TrafficType_1', 'Month_Sep', 'Region_3', 'Region_1', 'Region_9', 'Month_Dec', 'Region_4', 'Month_Jul', 'Month_Nov', 'OperatingSystems_Others', 'TrafficType_Others', 'OperatingSystems_1', 'Browser_10']\n",
      "M26 subset score (3.): 1.0318226065419123\n"
     ]
    },
    {
     "name": "stdout",
     "output_type": "stream",
     "text": [
      "............\n",
      "Best model (M27) with 28 features: ['BounceRates', 'Administrative', 'ProductRelated', 'VisitorType', 'PageValues', 'TrafficType_2', 'OperatingSystems_2', 'SpecialDay', 'TrafficType_4', 'Month_June', 'OperatingSystems_3', 'ProductRelated_Duration', 'TrafficType_3', 'TrafficType_13', 'TrafficType_1', 'Month_Sep', 'Region_3', 'Region_1', 'Region_9', 'Month_Dec', 'Region_4', 'Month_Jul', 'Month_Nov', 'OperatingSystems_Others', 'TrafficType_Others', 'OperatingSystems_1', 'Browser_10', 'TrafficType_20']\n",
      "M27 subset score (3.): 1.0331784599118883\n",
      "............\n",
      "Best model (M28) with 29 features: ['BounceRates', 'Administrative', 'ProductRelated', 'VisitorType', 'PageValues', 'TrafficType_2', 'OperatingSystems_2', 'SpecialDay', 'TrafficType_4', 'Month_June', 'OperatingSystems_3', 'ProductRelated_Duration', 'TrafficType_3', 'TrafficType_13', 'TrafficType_1', 'Month_Sep', 'Region_3', 'Region_1', 'Region_9', 'Month_Dec', 'Region_4', 'Month_Jul', 'Month_Nov', 'OperatingSystems_Others', 'TrafficType_Others', 'OperatingSystems_1', 'Browser_10', 'TrafficType_20', 'TrafficType_8']\n",
      "M28 subset score (3.): 1.0345036435114157\n",
      "............\n",
      "Best model (M29) with 30 features: ['BounceRates', 'Administrative', 'ProductRelated', 'VisitorType', 'PageValues', 'TrafficType_2', 'OperatingSystems_2', 'SpecialDay', 'TrafficType_4', 'Month_June', 'OperatingSystems_3', 'ProductRelated_Duration', 'TrafficType_3', 'TrafficType_13', 'TrafficType_1', 'Month_Sep', 'Region_3', 'Region_1', 'Region_9', 'Month_Dec', 'Region_4', 'Month_Jul', 'Month_Nov', 'OperatingSystems_Others', 'TrafficType_Others', 'OperatingSystems_1', 'Browser_10', 'TrafficType_20', 'TrafficType_8', 'Browser_Others']\n",
      "M29 subset score (3.): 1.0359120810954332\n",
      "............\n",
      "Best model (M30) with 31 features: ['BounceRates', 'Administrative', 'ProductRelated', 'VisitorType', 'PageValues', 'TrafficType_2', 'OperatingSystems_2', 'SpecialDay', 'TrafficType_4', 'Month_June', 'OperatingSystems_3', 'ProductRelated_Duration', 'TrafficType_3', 'TrafficType_13', 'TrafficType_1', 'Month_Sep', 'Region_3', 'Region_1', 'Region_9', 'Month_Dec', 'Region_4', 'Month_Jul', 'Month_Nov', 'OperatingSystems_Others', 'TrafficType_Others', 'OperatingSystems_1', 'Browser_10', 'TrafficType_20', 'TrafficType_8', 'Browser_Others', 'Region_7']\n",
      "M30 subset score (3.): 1.0373454039341752\n",
      "............\n",
      "Best model (M31) with 32 features: ['BounceRates', 'Administrative', 'ProductRelated', 'VisitorType', 'PageValues', 'TrafficType_2', 'OperatingSystems_2', 'SpecialDay', 'TrafficType_4', 'Month_June', 'OperatingSystems_3', 'ProductRelated_Duration', 'TrafficType_3', 'TrafficType_13', 'TrafficType_1', 'Month_Sep', 'Region_3', 'Region_1', 'Region_9', 'Month_Dec', 'Region_4', 'Month_Jul', 'Month_Nov', 'OperatingSystems_Others', 'TrafficType_Others', 'OperatingSystems_1', 'Browser_10', 'TrafficType_20', 'TrafficType_8', 'Browser_Others', 'Region_7', 'Browser_5']\n",
      "M31 subset score (3.): 1.0387866302075532\n",
      "............\n",
      "Best model (M32) with 33 features: ['BounceRates', 'Administrative', 'ProductRelated', 'VisitorType', 'PageValues', 'TrafficType_2', 'OperatingSystems_2', 'SpecialDay', 'TrafficType_4', 'Month_June', 'OperatingSystems_3', 'ProductRelated_Duration', 'TrafficType_3', 'TrafficType_13', 'TrafficType_1', 'Month_Sep', 'Region_3', 'Region_1', 'Region_9', 'Month_Dec', 'Region_4', 'Month_Jul', 'Month_Nov', 'OperatingSystems_Others', 'TrafficType_Others', 'OperatingSystems_1', 'Browser_10', 'TrafficType_20', 'TrafficType_8', 'Browser_Others', 'Region_7', 'Browser_5', 'Region_6']\n",
      "M32 subset score (3.): 1.0402391982675216\n",
      "............\n",
      "Best model (M33) with 34 features: ['BounceRates', 'Administrative', 'ProductRelated', 'VisitorType', 'PageValues', 'TrafficType_2', 'OperatingSystems_2', 'SpecialDay', 'TrafficType_4', 'Month_June', 'OperatingSystems_3', 'ProductRelated_Duration', 'TrafficType_3', 'TrafficType_13', 'TrafficType_1', 'Month_Sep', 'Region_3', 'Region_1', 'Region_9', 'Month_Dec', 'Region_4', 'Month_Jul', 'Month_Nov', 'OperatingSystems_Others', 'TrafficType_Others', 'OperatingSystems_1', 'Browser_10', 'TrafficType_20', 'TrafficType_8', 'Browser_Others', 'Region_7', 'Browser_5', 'Region_6', 'Browser_2']\n",
      "M33 subset score (3.): 1.0416954547408273\n",
      "............\n",
      "Best model (M34) with 35 features: ['BounceRates', 'Administrative', 'ProductRelated', 'VisitorType', 'PageValues', 'TrafficType_2', 'OperatingSystems_2', 'SpecialDay', 'TrafficType_4', 'Month_June', 'OperatingSystems_3', 'ProductRelated_Duration', 'TrafficType_3', 'TrafficType_13', 'TrafficType_1', 'Month_Sep', 'Region_3', 'Region_1', 'Region_9', 'Month_Dec', 'Region_4', 'Month_Jul', 'Month_Nov', 'OperatingSystems_Others', 'TrafficType_Others', 'OperatingSystems_1', 'Browser_10', 'TrafficType_20', 'TrafficType_8', 'Browser_Others', 'Region_7', 'Browser_5', 'Region_6', 'Browser_2', 'Month_Oct']\n",
      "M34 subset score (3.): 1.0431601453517445\n",
      "............\n",
      "Best model (M35) with 36 features: ['BounceRates', 'Administrative', 'ProductRelated', 'VisitorType', 'PageValues', 'TrafficType_2', 'OperatingSystems_2', 'SpecialDay', 'TrafficType_4', 'Month_June', 'OperatingSystems_3', 'ProductRelated_Duration', 'TrafficType_3', 'TrafficType_13', 'TrafficType_1', 'Month_Sep', 'Region_3', 'Region_1', 'Region_9', 'Month_Dec', 'Region_4', 'Month_Jul', 'Month_Nov', 'OperatingSystems_Others', 'TrafficType_Others', 'OperatingSystems_1', 'Browser_10', 'TrafficType_20', 'TrafficType_8', 'Browser_Others', 'Region_7', 'Browser_5', 'Region_6', 'Browser_2', 'Month_Oct', 'Month_Feb']\n",
      "M35 subset score (3.): 1.0446270246836638\n",
      "............\n",
      "Best model (M36) with 37 features: ['BounceRates', 'Administrative', 'ProductRelated', 'VisitorType', 'PageValues', 'TrafficType_2', 'OperatingSystems_2', 'SpecialDay', 'TrafficType_4', 'Month_June', 'OperatingSystems_3', 'ProductRelated_Duration', 'TrafficType_3', 'TrafficType_13', 'TrafficType_1', 'Month_Sep', 'Region_3', 'Region_1', 'Region_9', 'Month_Dec', 'Region_4', 'Month_Jul', 'Month_Nov', 'OperatingSystems_Others', 'TrafficType_Others', 'OperatingSystems_1', 'Browser_10', 'TrafficType_20', 'TrafficType_8', 'Browser_Others', 'Region_7', 'Browser_5', 'Region_6', 'Browser_2', 'Month_Oct', 'Month_Feb', 'Region_2']\n",
      "M36 subset score (3.): 1.0460967776339998\n",
      "............\n",
      "Best model (M37) with 38 features: ['BounceRates', 'Administrative', 'ProductRelated', 'VisitorType', 'PageValues', 'TrafficType_2', 'OperatingSystems_2', 'SpecialDay', 'TrafficType_4', 'Month_June', 'OperatingSystems_3', 'ProductRelated_Duration', 'TrafficType_3', 'TrafficType_13', 'TrafficType_1', 'Month_Sep', 'Region_3', 'Region_1', 'Region_9', 'Month_Dec', 'Region_4', 'Month_Jul', 'Month_Nov', 'OperatingSystems_Others', 'TrafficType_Others', 'OperatingSystems_1', 'Browser_10', 'TrafficType_20', 'TrafficType_8', 'Browser_Others', 'Region_7', 'Browser_5', 'Region_6', 'Browser_2', 'Month_Oct', 'Month_Feb', 'Region_2', 'TrafficType_10']\n",
      "M37 subset score (3.): 1.0475670087244813\n",
      "............\n",
      "Best model (M38) with 39 features: ['BounceRates', 'Administrative', 'ProductRelated', 'VisitorType', 'PageValues', 'TrafficType_2', 'OperatingSystems_2', 'SpecialDay', 'TrafficType_4', 'Month_June', 'OperatingSystems_3', 'ProductRelated_Duration', 'TrafficType_3', 'TrafficType_13', 'TrafficType_1', 'Month_Sep', 'Region_3', 'Region_1', 'Region_9', 'Month_Dec', 'Region_4', 'Month_Jul', 'Month_Nov', 'OperatingSystems_Others', 'TrafficType_Others', 'OperatingSystems_1', 'Browser_10', 'TrafficType_20', 'TrafficType_8', 'Browser_Others', 'Region_7', 'Browser_5', 'Region_6', 'Browser_2', 'Month_Oct', 'Month_Feb', 'Region_2', 'TrafficType_10', 'Administrative_Duration']\n",
      "M38 subset score (3.): 1.049052100654898\n",
      "............\n",
      "Best model (M39) with 40 features: ['BounceRates', 'Administrative', 'ProductRelated', 'VisitorType', 'PageValues', 'TrafficType_2', 'OperatingSystems_2', 'SpecialDay', 'TrafficType_4', 'Month_June', 'OperatingSystems_3', 'ProductRelated_Duration', 'TrafficType_3', 'TrafficType_13', 'TrafficType_1', 'Month_Sep', 'Region_3', 'Region_1', 'Region_9', 'Month_Dec', 'Region_4', 'Month_Jul', 'Month_Nov', 'OperatingSystems_Others', 'TrafficType_Others', 'OperatingSystems_1', 'Browser_10', 'TrafficType_20', 'TrafficType_8', 'Browser_Others', 'Region_7', 'Browser_5', 'Region_6', 'Browser_2', 'Month_Oct', 'Month_Feb', 'Region_2', 'TrafficType_10', 'Administrative_Duration', 'Informational']\n",
      "M39 subset score (3.): 1.0505369952212467\n",
      "............\n",
      "Best model (M40) with 41 features: ['BounceRates', 'Administrative', 'ProductRelated', 'VisitorType', 'PageValues', 'TrafficType_2', 'OperatingSystems_2', 'SpecialDay', 'TrafficType_4', 'Month_June', 'OperatingSystems_3', 'ProductRelated_Duration', 'TrafficType_3', 'TrafficType_13', 'TrafficType_1', 'Month_Sep', 'Region_3', 'Region_1', 'Region_9', 'Month_Dec', 'Region_4', 'Month_Jul', 'Month_Nov', 'OperatingSystems_Others', 'TrafficType_Others', 'OperatingSystems_1', 'Browser_10', 'TrafficType_20', 'TrafficType_8', 'Browser_Others', 'Region_7', 'Browser_5', 'Region_6', 'Browser_2', 'Month_Oct', 'Month_Feb', 'Region_2', 'TrafficType_10', 'Administrative_Duration', 'Informational', 'Informational_Duration']\n",
      "M40 subset score (3.): 1.0520123829042511\n"
     ]
    },
    {
     "name": "stdout",
     "output_type": "stream",
     "text": [
      "............\n",
      "Best model (M41) with 42 features: ['BounceRates', 'Administrative', 'ProductRelated', 'VisitorType', 'PageValues', 'TrafficType_2', 'OperatingSystems_2', 'SpecialDay', 'TrafficType_4', 'Month_June', 'OperatingSystems_3', 'ProductRelated_Duration', 'TrafficType_3', 'TrafficType_13', 'TrafficType_1', 'Month_Sep', 'Region_3', 'Region_1', 'Region_9', 'Month_Dec', 'Region_4', 'Month_Jul', 'Month_Nov', 'OperatingSystems_Others', 'TrafficType_Others', 'OperatingSystems_1', 'Browser_10', 'TrafficType_20', 'TrafficType_8', 'Browser_Others', 'Region_7', 'Browser_5', 'Region_6', 'Browser_2', 'Month_Oct', 'Month_Feb', 'Region_2', 'TrafficType_10', 'Administrative_Duration', 'Informational', 'Informational_Duration', 'TrafficType_5']\n",
      "M41 subset score (3.): 1.0535011117997772\n",
      "............\n",
      "Best model (M42) with 43 features: ['BounceRates', 'Administrative', 'ProductRelated', 'VisitorType', 'PageValues', 'TrafficType_2', 'OperatingSystems_2', 'SpecialDay', 'TrafficType_4', 'Month_June', 'OperatingSystems_3', 'ProductRelated_Duration', 'TrafficType_3', 'TrafficType_13', 'TrafficType_1', 'Month_Sep', 'Region_3', 'Region_1', 'Region_9', 'Month_Dec', 'Region_4', 'Month_Jul', 'Month_Nov', 'OperatingSystems_Others', 'TrafficType_Others', 'OperatingSystems_1', 'Browser_10', 'TrafficType_20', 'TrafficType_8', 'Browser_Others', 'Region_7', 'Browser_5', 'Region_6', 'Browser_2', 'Month_Oct', 'Month_Feb', 'Region_2', 'TrafficType_10', 'Administrative_Duration', 'Informational', 'Informational_Duration', 'TrafficType_5', 'Browser_8']\n",
      "M42 subset score (3.): 1.0549912850533767\n",
      "............\n",
      "Best model (M43) with 44 features: ['BounceRates', 'Administrative', 'ProductRelated', 'VisitorType', 'PageValues', 'TrafficType_2', 'OperatingSystems_2', 'SpecialDay', 'TrafficType_4', 'Month_June', 'OperatingSystems_3', 'ProductRelated_Duration', 'TrafficType_3', 'TrafficType_13', 'TrafficType_1', 'Month_Sep', 'Region_3', 'Region_1', 'Region_9', 'Month_Dec', 'Region_4', 'Month_Jul', 'Month_Nov', 'OperatingSystems_Others', 'TrafficType_Others', 'OperatingSystems_1', 'Browser_10', 'TrafficType_20', 'TrafficType_8', 'Browser_Others', 'Region_7', 'Browser_5', 'Region_6', 'Browser_2', 'Month_Oct', 'Month_Feb', 'Region_2', 'TrafficType_10', 'Administrative_Duration', 'Informational', 'Informational_Duration', 'TrafficType_5', 'Browser_8', 'Browser_1']\n",
      "M43 subset score (3.): 1.0564692214509135\n",
      "............\n",
      "Best model (M44) with 45 features: ['BounceRates', 'Administrative', 'ProductRelated', 'VisitorType', 'PageValues', 'TrafficType_2', 'OperatingSystems_2', 'SpecialDay', 'TrafficType_4', 'Month_June', 'OperatingSystems_3', 'ProductRelated_Duration', 'TrafficType_3', 'TrafficType_13', 'TrafficType_1', 'Month_Sep', 'Region_3', 'Region_1', 'Region_9', 'Month_Dec', 'Region_4', 'Month_Jul', 'Month_Nov', 'OperatingSystems_Others', 'TrafficType_Others', 'OperatingSystems_1', 'Browser_10', 'TrafficType_20', 'TrafficType_8', 'Browser_Others', 'Region_7', 'Browser_5', 'Region_6', 'Browser_2', 'Month_Oct', 'Month_Feb', 'Region_2', 'TrafficType_10', 'Administrative_Duration', 'Informational', 'Informational_Duration', 'TrafficType_5', 'Browser_8', 'Browser_1', 'Region_5']\n",
      "M44 subset score (3.): 1.0579639955182967\n",
      "............\n",
      "Best model (M45) with 46 features: ['BounceRates', 'Administrative', 'ProductRelated', 'VisitorType', 'PageValues', 'TrafficType_2', 'OperatingSystems_2', 'SpecialDay', 'TrafficType_4', 'Month_June', 'OperatingSystems_3', 'ProductRelated_Duration', 'TrafficType_3', 'TrafficType_13', 'TrafficType_1', 'Month_Sep', 'Region_3', 'Region_1', 'Region_9', 'Month_Dec', 'Region_4', 'Month_Jul', 'Month_Nov', 'OperatingSystems_Others', 'TrafficType_Others', 'OperatingSystems_1', 'Browser_10', 'TrafficType_20', 'TrafficType_8', 'Browser_Others', 'Region_7', 'Browser_5', 'Region_6', 'Browser_2', 'Month_Oct', 'Month_Feb', 'Region_2', 'TrafficType_10', 'Administrative_Duration', 'Informational', 'Informational_Duration', 'TrafficType_5', 'Browser_8', 'Browser_1', 'Region_5', 'Month_May']\n",
      "M45 subset score (3.): 1.0594599468152024\n",
      "............\n",
      "Best model (M46) with 47 features: ['BounceRates', 'Administrative', 'ProductRelated', 'VisitorType', 'PageValues', 'TrafficType_2', 'OperatingSystems_2', 'SpecialDay', 'TrafficType_4', 'Month_June', 'OperatingSystems_3', 'ProductRelated_Duration', 'TrafficType_3', 'TrafficType_13', 'TrafficType_1', 'Month_Sep', 'Region_3', 'Region_1', 'Region_9', 'Month_Dec', 'Region_4', 'Month_Jul', 'Month_Nov', 'OperatingSystems_Others', 'TrafficType_Others', 'OperatingSystems_1', 'Browser_10', 'TrafficType_20', 'TrafficType_8', 'Browser_Others', 'Region_7', 'Browser_5', 'Region_6', 'Browser_2', 'Month_Oct', 'Month_Feb', 'Region_2', 'TrafficType_10', 'Administrative_Duration', 'Informational', 'Informational_Duration', 'TrafficType_5', 'Browser_8', 'Browser_1', 'Region_5', 'Month_May', 'Browser_4']\n",
      "M46 subset score (3.): 1.0609575734990755\n",
      "............\n",
      "Best model (M47) with 48 features: ['BounceRates', 'Administrative', 'ProductRelated', 'VisitorType', 'PageValues', 'TrafficType_2', 'OperatingSystems_2', 'SpecialDay', 'TrafficType_4', 'Month_June', 'OperatingSystems_3', 'ProductRelated_Duration', 'TrafficType_3', 'TrafficType_13', 'TrafficType_1', 'Month_Sep', 'Region_3', 'Region_1', 'Region_9', 'Month_Dec', 'Region_4', 'Month_Jul', 'Month_Nov', 'OperatingSystems_Others', 'TrafficType_Others', 'OperatingSystems_1', 'Browser_10', 'TrafficType_20', 'TrafficType_8', 'Browser_Others', 'Region_7', 'Browser_5', 'Region_6', 'Browser_2', 'Month_Oct', 'Month_Feb', 'Region_2', 'TrafficType_10', 'Administrative_Duration', 'Informational', 'Informational_Duration', 'TrafficType_5', 'Browser_8', 'Browser_1', 'Region_5', 'Month_May', 'Browser_4', 'Month_Aug']\n",
      "M47 subset score (3.): 1.062456827493375\n",
      "............\n",
      "Best model (M48) with 49 features: ['BounceRates', 'Administrative', 'ProductRelated', 'VisitorType', 'PageValues', 'TrafficType_2', 'OperatingSystems_2', 'SpecialDay', 'TrafficType_4', 'Month_June', 'OperatingSystems_3', 'ProductRelated_Duration', 'TrafficType_3', 'TrafficType_13', 'TrafficType_1', 'Month_Sep', 'Region_3', 'Region_1', 'Region_9', 'Month_Dec', 'Region_4', 'Month_Jul', 'Month_Nov', 'OperatingSystems_Others', 'TrafficType_Others', 'OperatingSystems_1', 'Browser_10', 'TrafficType_20', 'TrafficType_8', 'Browser_Others', 'Region_7', 'Browser_5', 'Region_6', 'Browser_2', 'Month_Oct', 'Month_Feb', 'Region_2', 'TrafficType_10', 'Administrative_Duration', 'Informational', 'Informational_Duration', 'TrafficType_5', 'Browser_8', 'Browser_1', 'Region_5', 'Month_May', 'Browser_4', 'Month_Aug', 'TrafficType_11']\n",
      "M48 subset score (3.): 1.0639563482250796\n",
      "............\n",
      "Best model (M49) with 50 features: ['BounceRates', 'Administrative', 'ProductRelated', 'VisitorType', 'PageValues', 'TrafficType_2', 'OperatingSystems_2', 'SpecialDay', 'TrafficType_4', 'Month_June', 'OperatingSystems_3', 'ProductRelated_Duration', 'TrafficType_3', 'TrafficType_13', 'TrafficType_1', 'Month_Sep', 'Region_3', 'Region_1', 'Region_9', 'Month_Dec', 'Region_4', 'Month_Jul', 'Month_Nov', 'OperatingSystems_Others', 'TrafficType_Others', 'OperatingSystems_1', 'Browser_10', 'TrafficType_20', 'TrafficType_8', 'Browser_Others', 'Region_7', 'Browser_5', 'Region_6', 'Browser_2', 'Month_Oct', 'Month_Feb', 'Region_2', 'TrafficType_10', 'Administrative_Duration', 'Informational', 'Informational_Duration', 'TrafficType_5', 'Browser_8', 'Browser_1', 'Region_5', 'Month_May', 'Browser_4', 'Month_Aug', 'TrafficType_11', 'Browser_6']\n",
      "M49 subset score (3.): 1.065455909630996\n",
      "............\n",
      "Best model (M50) with 51 features: ['BounceRates', 'Administrative', 'ProductRelated', 'VisitorType', 'PageValues', 'TrafficType_2', 'OperatingSystems_2', 'SpecialDay', 'TrafficType_4', 'Month_June', 'OperatingSystems_3', 'ProductRelated_Duration', 'TrafficType_3', 'TrafficType_13', 'TrafficType_1', 'Month_Sep', 'Region_3', 'Region_1', 'Region_9', 'Month_Dec', 'Region_4', 'Month_Jul', 'Month_Nov', 'OperatingSystems_Others', 'TrafficType_Others', 'OperatingSystems_1', 'Browser_10', 'TrafficType_20', 'TrafficType_8', 'Browser_Others', 'Region_7', 'Browser_5', 'Region_6', 'Browser_2', 'Month_Oct', 'Month_Feb', 'Region_2', 'TrafficType_10', 'Administrative_Duration', 'Informational', 'Informational_Duration', 'TrafficType_5', 'Browser_8', 'Browser_1', 'Region_5', 'Month_May', 'Browser_4', 'Month_Aug', 'TrafficType_11', 'Browser_6', 'Month_Mar']\n",
      "M50 subset score (3.): 1.0669554710369122\n",
      "............\n",
      "Best model (M51) with 52 features: ['BounceRates', 'Administrative', 'ProductRelated', 'VisitorType', 'PageValues', 'TrafficType_2', 'OperatingSystems_2', 'SpecialDay', 'TrafficType_4', 'Month_June', 'OperatingSystems_3', 'ProductRelated_Duration', 'TrafficType_3', 'TrafficType_13', 'TrafficType_1', 'Month_Sep', 'Region_3', 'Region_1', 'Region_9', 'Month_Dec', 'Region_4', 'Month_Jul', 'Month_Nov', 'OperatingSystems_Others', 'TrafficType_Others', 'OperatingSystems_1', 'Browser_10', 'TrafficType_20', 'TrafficType_8', 'Browser_Others', 'Region_7', 'Browser_5', 'Region_6', 'Browser_2', 'Month_Oct', 'Month_Feb', 'Region_2', 'TrafficType_10', 'Administrative_Duration', 'Informational', 'Informational_Duration', 'TrafficType_5', 'Browser_8', 'Browser_1', 'Region_5', 'Month_May', 'Browser_4', 'Month_Aug', 'TrafficType_11', 'Browser_6', 'Month_Mar', 'OperatingSystems_4']\n",
      "M51 subset score (3.): 1.0684550324428286\n",
      "............\n",
      "Best model (M52) with 53 features: ['BounceRates', 'Administrative', 'ProductRelated', 'VisitorType', 'PageValues', 'TrafficType_2', 'OperatingSystems_2', 'SpecialDay', 'TrafficType_4', 'Month_June', 'OperatingSystems_3', 'ProductRelated_Duration', 'TrafficType_3', 'TrafficType_13', 'TrafficType_1', 'Month_Sep', 'Region_3', 'Region_1', 'Region_9', 'Month_Dec', 'Region_4', 'Month_Jul', 'Month_Nov', 'OperatingSystems_Others', 'TrafficType_Others', 'OperatingSystems_1', 'Browser_10', 'TrafficType_20', 'TrafficType_8', 'Browser_Others', 'Region_7', 'Browser_5', 'Region_6', 'Browser_2', 'Month_Oct', 'Month_Feb', 'Region_2', 'TrafficType_10', 'Administrative_Duration', 'Informational', 'Informational_Duration', 'TrafficType_5', 'Browser_8', 'Browser_1', 'Region_5', 'Month_May', 'Browser_4', 'Month_Aug', 'TrafficType_11', 'Browser_6', 'Month_Mar', 'OperatingSystems_4', 'Region_8']\n",
      "M52 subset score (3.): 1.069954593848745\n",
      "............\n",
      "Best model (M53) with 54 features: ['BounceRates', 'Administrative', 'ProductRelated', 'VisitorType', 'PageValues', 'TrafficType_2', 'OperatingSystems_2', 'SpecialDay', 'TrafficType_4', 'Month_June', 'OperatingSystems_3', 'ProductRelated_Duration', 'TrafficType_3', 'TrafficType_13', 'TrafficType_1', 'Month_Sep', 'Region_3', 'Region_1', 'Region_9', 'Month_Dec', 'Region_4', 'Month_Jul', 'Month_Nov', 'OperatingSystems_Others', 'TrafficType_Others', 'OperatingSystems_1', 'Browser_10', 'TrafficType_20', 'TrafficType_8', 'Browser_Others', 'Region_7', 'Browser_5', 'Region_6', 'Browser_2', 'Month_Oct', 'Month_Feb', 'Region_2', 'TrafficType_10', 'Administrative_Duration', 'Informational', 'Informational_Duration', 'TrafficType_5', 'Browser_8', 'Browser_1', 'Region_5', 'Month_May', 'Browser_4', 'Month_Aug', 'TrafficType_11', 'Browser_6', 'Month_Mar', 'OperatingSystems_4', 'Region_8', 'Weekend']\n",
      "M53 subset score (3.): 1.0714541552312997\n",
      "............\n",
      "Best model (M54) with 55 features: ['BounceRates', 'Administrative', 'ProductRelated', 'VisitorType', 'PageValues', 'TrafficType_2', 'OperatingSystems_2', 'SpecialDay', 'TrafficType_4', 'Month_June', 'OperatingSystems_3', 'ProductRelated_Duration', 'TrafficType_3', 'TrafficType_13', 'TrafficType_1', 'Month_Sep', 'Region_3', 'Region_1', 'Region_9', 'Month_Dec', 'Region_4', 'Month_Jul', 'Month_Nov', 'OperatingSystems_Others', 'TrafficType_Others', 'OperatingSystems_1', 'Browser_10', 'TrafficType_20', 'TrafficType_8', 'Browser_Others', 'Region_7', 'Browser_5', 'Region_6', 'Browser_2', 'Month_Oct', 'Month_Feb', 'Region_2', 'TrafficType_10', 'Administrative_Duration', 'Informational', 'Informational_Duration', 'TrafficType_5', 'Browser_8', 'Browser_1', 'Region_5', 'Month_May', 'Browser_4', 'Month_Aug', 'TrafficType_11', 'Browser_6', 'Month_Mar', 'OperatingSystems_4', 'Region_8', 'Weekend', 'TrafficType_6']\n",
      "M54 subset score (3.): 1.072953716900042\n",
      "\n",
      "\n",
      "Best configuration has 11 features\n",
      "Features: ['BounceRates', 'Administrative', 'ProductRelated', 'VisitorType', 'PageValues', 'TrafficType_2', 'OperatingSystems_2', 'SpecialDay', 'TrafficType_4', 'Month_June', 'OperatingSystems_3']\n",
      "Total number of trained models: 1540\n"
     ]
    },
    {
     "data": {
      "image/png": "[encoded data removed]",
      "text/plain": [
       "<Figure size 640x480 with 1 Axes>"
      ]
     },
     "metadata": {},
     "output_type": "display_data"
    },
    {
     "data": {
      "image/png": "[encoded data removed]",
      "text/plain": [
       "<Figure size 640x480 with 1 Axes>"
      ]
     },
     "metadata": {},
     "output_type": "display_data"
    }
   ],
   "source": [
    "forward_selection(X_train_pd, y_train, X_test_pd, y_test,\n",
    "                  get_evaluator(make_scorer(r2_score)), np.argmax, # 2.\n",
    "                  get_evaluator(get_sigma_scorer(bic, sigma)), np.argmin, # 3.\n",
    "                  get_evaluator(make_scorer(mean_squared_error)), np.argmin, # test\n",
    "                  candidates_scorer_name=\"R^2\",\n",
    "                  subsets_scorer_name=\"BIC\",\n",
    "                  verbose=True)"
   ]
  },
  {
   "cell_type": "code",
   "execution_count": 47,
   "id": "dbb21437",
   "metadata": {},
   "outputs": [
    {
     "name": "stdout",
     "output_type": "stream",
     "text": [
      "X_train.shape  (5776, 11)\n",
      "X_test.shape  (642, 11)\n",
      "Best degree:  2 \n",
      "Val score:  0.8711778368283956\n",
      "Test score: 0.8661454521860186\n"
     ]
    }
   ],
   "source": [
    "X_features_best = ['BounceRates', 'Administrative', 'ProductRelated', 'VisitorType', 'PageValues', 'TrafficType_2', 'OperatingSystems_2', 'SpecialDay', 'TrafficType_4', 'Month_June', 'OperatingSystems_3']\n",
    "\n",
    "X = training_set_no_missing[X_features_best].to_numpy()\n",
    "y = training_set_no_missing['ExitRates'].to_numpy()\n",
    "\n",
    "#splitting data\n",
    "test_size = 0.1\n",
    "test_seed = 50\n",
    "# Split X and y into train and test\n",
    "X_train, X_test, y_train, y_test = train_test_split(X, y, test_size=test_size, random_state=test_seed)\n",
    "print(\"X_train.shape \", X_train.shape)\n",
    "print(\"X_test.shape \", X_test.shape)\n",
    "\n",
    "\n",
    "degree = list(range(1,3))\n",
    "val_scores = np.zeros(len(degree))\n",
    "# Validation\n",
    "for i, d in enumerate(degree):\n",
    "    model = Pipeline([('poly', PolynomialFeatures(degree=d, include_bias=False)),\n",
    "                      ('linear', LinearRegression(fit_intercept=True))])\n",
    "    scores = cross_val_score(model, X_train, y_train, scoring=r2_scorer, cv=5)\n",
    "    val_scores[i] = np.mean(scores)\n",
    "\n",
    "# Identifies which is the best degree\n",
    "best_model_idx = np.argmax(val_scores)\n",
    "best_degree = degree[best_model_idx]\n",
    "# And the corresponding (best) validation score\n",
    "best_val_score = val_scores[best_model_idx]\n",
    "print(\"Best degree: \", best_degree,\n",
    "      \"\\nVal score: \", best_val_score)\n",
    "    \n",
    "    \n",
    "# Train again the Pipeline using the best parameter and the whole training set\n",
    "model = Pipeline([('poly', PolynomialFeatures(degree=best_degree, include_bias=False)),\n",
    "                  ('linear', LinearRegression(fit_intercept=True))])\n",
    "# Note: we train on X_train_small + X_val\n",
    "model = model.fit(np.concatenate([X_train]), np.concatenate([y_train]))\n",
    "y_predict = model.predict(X_test)\n",
    "test_score = r2_score(y_test, y_predict)\n",
    "\n",
    "print(\"Test score:\", test_score)"
   ]
  }
 ],
 "metadata": {
  "kernelspec": {
   "display_name": "Python 3 (ipykernel)",
   "language": "python",
   "name": "python3"
  },
  "language_info": {
   "codemirror_mode": {
    "name": "ipython",
    "version": 3
   },
   "file_extension": ".py",
   "mimetype": "text/x-python",
   "name": "python",
   "nbconvert_exporter": "python",
   "pygments_lexer": "ipython3",
   "version": "3.9.13"
  }
 },
 "nbformat": 4,
 "nbformat_minor": 5
}
