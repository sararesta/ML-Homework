{
 "cells": [
  {
   "cell_type": "markdown",
   "id": "547a6093",
   "metadata": {},
   "source": [
    "# 2. Classification"
   ]
  },
  {
   "cell_type": "code",
   "execution_count": 1,
   "id": "82fa7b16",
   "metadata": {},
   "outputs": [],
   "source": [
    "# Run this code to make Jupyter print every\n",
    "# printable statement and not just the last one\n",
    "import warnings\n",
    "warnings.filterwarnings(\"ignore\")\n",
    "from IPython.core.interactiveshell import InteractiveShell\n",
    "InteractiveShell.ast_node_interactivity = \"all\"\n",
    "\n",
    "# To visualize the data\n",
    "import matplotlib.pyplot as plt\n",
    "\n",
    "# Generic libraries\n",
    "import seaborn as sns\n",
    "import pandas as pd\n",
    "import numpy as np\n",
    "\n",
    "# Regression models\n",
    "import sklearn\n",
    "import scipy\n",
    "from scipy.stats import *\n",
    "import sklearn\n",
    "from sklearn.model_selection import train_test_split, GridSearchCV #split the data into training and test\n",
    "from sklearn.linear_model import LinearRegression #linear regression\n",
    "from sklearn.preprocessing import PolynomialFeatures #for polynomial regression\n",
    "from sklearn.metrics import r2_score, mean_squared_error\n",
    "\n",
    "# 5-folds crossvalidation\n",
    "from sklearn.model_selection import cross_val_score\n",
    "from sklearn.metrics import make_scorer, classification_report, roc_auc_score\n",
    "from sklearn.pipeline import Pipeline\n",
    "\n",
    "#classification\n",
    "from sklearn.linear_model import LogisticRegression\n",
    "from sklearn.discriminant_analysis import LinearDiscriminantAnalysis as LDA\n",
    "from sklearn.discriminant_analysis import QuadraticDiscriminantAnalysis as QDA\n",
    "from sklearn.neighbors import KNeighborsClassifier \n",
    "from sklearn.model_selection import KFold\n",
    "from sklearn.svm import SVC\n",
    "from sklearn.svm import LinearSVC"
   ]
  },
  {
   "cell_type": "markdown",
   "id": "3bb4a7cb",
   "metadata": {},
   "source": [
    "## Preprocessing"
   ]
  },
  {
   "cell_type": "code",
   "execution_count": 8,
   "id": "37d14762",
   "metadata": {},
   "outputs": [
    {
     "data": {
      "text/html": [
       "<div>\n",
       "<style scoped>\n",
       "    .dataframe tbody tr th:only-of-type {\n",
       "        vertical-align: middle;\n",
       "    }\n",
       "\n",
       "    .dataframe tbody tr th {\n",
       "        vertical-align: top;\n",
       "    }\n",
       "\n",
       "    .dataframe thead th {\n",
       "        text-align: right;\n",
       "    }\n",
       "</style>\n",
       "<table border=\"1\" class=\"dataframe\">\n",
       "  <thead>\n",
       "    <tr style=\"text-align: right;\">\n",
       "      <th></th>\n",
       "      <th>Unnamed: 0</th>\n",
       "      <th>Administrative</th>\n",
       "      <th>Administrative_Duration</th>\n",
       "      <th>Informational</th>\n",
       "      <th>Informational_Duration</th>\n",
       "      <th>ProductRelated</th>\n",
       "      <th>ProductRelated_Duration</th>\n",
       "      <th>BounceRates</th>\n",
       "      <th>ExitRates</th>\n",
       "      <th>PageValues</th>\n",
       "      <th>SpecialDay</th>\n",
       "      <th>Month</th>\n",
       "      <th>OperatingSystems</th>\n",
       "      <th>Browser</th>\n",
       "      <th>Region</th>\n",
       "      <th>TrafficType</th>\n",
       "      <th>VisitorType</th>\n",
       "      <th>Weekend</th>\n",
       "      <th>Revenue</th>\n",
       "    </tr>\n",
       "  </thead>\n",
       "  <tbody>\n",
       "    <tr>\n",
       "      <th>0</th>\n",
       "      <td>3496</td>\n",
       "      <td>0</td>\n",
       "      <td>0.000000</td>\n",
       "      <td>0</td>\n",
       "      <td>0.0</td>\n",
       "      <td>5</td>\n",
       "      <td>19.000000</td>\n",
       "      <td>0.000000</td>\n",
       "      <td>0.080000</td>\n",
       "      <td>0.000000</td>\n",
       "      <td>0.6</td>\n",
       "      <td>May</td>\n",
       "      <td>2</td>\n",
       "      <td>2</td>\n",
       "      <td>1</td>\n",
       "      <td>3</td>\n",
       "      <td>Returning_Visitor</td>\n",
       "      <td>FALSO</td>\n",
       "      <td>FALSO</td>\n",
       "    </tr>\n",
       "    <tr>\n",
       "      <th>1</th>\n",
       "      <td>9415</td>\n",
       "      <td>5</td>\n",
       "      <td>158.700000</td>\n",
       "      <td>0</td>\n",
       "      <td>0.0</td>\n",
       "      <td>51</td>\n",
       "      <td>1364.266667</td>\n",
       "      <td>0.007692</td>\n",
       "      <td>0.011987</td>\n",
       "      <td>0.000000</td>\n",
       "      <td>0.0</td>\n",
       "      <td>Nov</td>\n",
       "      <td>3</td>\n",
       "      <td>2</td>\n",
       "      <td>3</td>\n",
       "      <td>2</td>\n",
       "      <td>Returning_Visitor</td>\n",
       "      <td>VERO</td>\n",
       "      <td>FALSO</td>\n",
       "    </tr>\n",
       "    <tr>\n",
       "      <th>2</th>\n",
       "      <td>9419</td>\n",
       "      <td>7</td>\n",
       "      <td>87.916667</td>\n",
       "      <td>1</td>\n",
       "      <td>0.0</td>\n",
       "      <td>46</td>\n",
       "      <td>1621.025379</td>\n",
       "      <td>0.004082</td>\n",
       "      <td>0.020544</td>\n",
       "      <td>6.023523</td>\n",
       "      <td>0.0</td>\n",
       "      <td>Dec</td>\n",
       "      <td>1</td>\n",
       "      <td>1</td>\n",
       "      <td>3</td>\n",
       "      <td>2</td>\n",
       "      <td>Returning_Visitor</td>\n",
       "      <td>FALSO</td>\n",
       "      <td>FALSO</td>\n",
       "    </tr>\n",
       "    <tr>\n",
       "      <th>3</th>\n",
       "      <td>3837</td>\n",
       "      <td>1</td>\n",
       "      <td>4.000000</td>\n",
       "      <td>0</td>\n",
       "      <td>0.0</td>\n",
       "      <td>37</td>\n",
       "      <td>1296.942857</td>\n",
       "      <td>0.013889</td>\n",
       "      <td>0.039815</td>\n",
       "      <td>0.000000</td>\n",
       "      <td>0.8</td>\n",
       "      <td>May</td>\n",
       "      <td>2</td>\n",
       "      <td>2</td>\n",
       "      <td>4</td>\n",
       "      <td>2</td>\n",
       "      <td>Returning_Visitor</td>\n",
       "      <td>FALSO</td>\n",
       "      <td>FALSO</td>\n",
       "    </tr>\n",
       "    <tr>\n",
       "      <th>4</th>\n",
       "      <td>7305</td>\n",
       "      <td>2</td>\n",
       "      <td>132.400000</td>\n",
       "      <td>0</td>\n",
       "      <td>0.0</td>\n",
       "      <td>11</td>\n",
       "      <td>296.300000</td>\n",
       "      <td>0.000000</td>\n",
       "      <td>0.015385</td>\n",
       "      <td>0.000000</td>\n",
       "      <td>0.0</td>\n",
       "      <td>Sep</td>\n",
       "      <td>2</td>\n",
       "      <td>4</td>\n",
       "      <td>3</td>\n",
       "      <td>2</td>\n",
       "      <td>New_Visitor</td>\n",
       "      <td>FALSO</td>\n",
       "      <td>FALSO</td>\n",
       "    </tr>\n",
       "    <tr>\n",
       "      <th>...</th>\n",
       "      <td>...</td>\n",
       "      <td>...</td>\n",
       "      <td>...</td>\n",
       "      <td>...</td>\n",
       "      <td>...</td>\n",
       "      <td>...</td>\n",
       "      <td>...</td>\n",
       "      <td>...</td>\n",
       "      <td>...</td>\n",
       "      <td>...</td>\n",
       "      <td>...</td>\n",
       "      <td>...</td>\n",
       "      <td>...</td>\n",
       "      <td>...</td>\n",
       "      <td>...</td>\n",
       "      <td>...</td>\n",
       "      <td>...</td>\n",
       "      <td>...</td>\n",
       "      <td>...</td>\n",
       "    </tr>\n",
       "    <tr>\n",
       "      <th>9243</th>\n",
       "      <td>7878</td>\n",
       "      <td>10</td>\n",
       "      <td>130.550000</td>\n",
       "      <td>1</td>\n",
       "      <td>23.2</td>\n",
       "      <td>7</td>\n",
       "      <td>128.233333</td>\n",
       "      <td>0.006667</td>\n",
       "      <td>0.015238</td>\n",
       "      <td>0.000000</td>\n",
       "      <td>0.0</td>\n",
       "      <td>Oct</td>\n",
       "      <td>2</td>\n",
       "      <td>2</td>\n",
       "      <td>6</td>\n",
       "      <td>5</td>\n",
       "      <td>New_Visitor</td>\n",
       "      <td>FALSO</td>\n",
       "      <td>FALSO</td>\n",
       "    </tr>\n",
       "    <tr>\n",
       "      <th>9244</th>\n",
       "      <td>6568</td>\n",
       "      <td>14</td>\n",
       "      <td>260.736111</td>\n",
       "      <td>3</td>\n",
       "      <td>186.5</td>\n",
       "      <td>51</td>\n",
       "      <td>2921.902778</td>\n",
       "      <td>0.013661</td>\n",
       "      <td>0.029891</td>\n",
       "      <td>8.339172</td>\n",
       "      <td>0.0</td>\n",
       "      <td>Nov</td>\n",
       "      <td>4</td>\n",
       "      <td>2</td>\n",
       "      <td>7</td>\n",
       "      <td>1</td>\n",
       "      <td>Returning_Visitor</td>\n",
       "      <td>VERO</td>\n",
       "      <td>VERO</td>\n",
       "    </tr>\n",
       "    <tr>\n",
       "      <th>9245</th>\n",
       "      <td>6989</td>\n",
       "      <td>7</td>\n",
       "      <td>109.500000</td>\n",
       "      <td>0</td>\n",
       "      <td>0.0</td>\n",
       "      <td>25</td>\n",
       "      <td>349.696970</td>\n",
       "      <td>0.000000</td>\n",
       "      <td>0.019048</td>\n",
       "      <td>0.000000</td>\n",
       "      <td>0.0</td>\n",
       "      <td>Oct</td>\n",
       "      <td>1</td>\n",
       "      <td>1</td>\n",
       "      <td>1</td>\n",
       "      <td>2</td>\n",
       "      <td>Returning_Visitor</td>\n",
       "      <td>FALSO</td>\n",
       "      <td>FALSO</td>\n",
       "    </tr>\n",
       "    <tr>\n",
       "      <th>9246</th>\n",
       "      <td>7640</td>\n",
       "      <td>4</td>\n",
       "      <td>82.700000</td>\n",
       "      <td>0</td>\n",
       "      <td>0.0</td>\n",
       "      <td>26</td>\n",
       "      <td>405.283333</td>\n",
       "      <td>0.000000</td>\n",
       "      <td>0.001429</td>\n",
       "      <td>0.000000</td>\n",
       "      <td>0.0</td>\n",
       "      <td>Nov</td>\n",
       "      <td>2</td>\n",
       "      <td>2</td>\n",
       "      <td>1</td>\n",
       "      <td>2</td>\n",
       "      <td>New_Visitor</td>\n",
       "      <td>FALSO</td>\n",
       "      <td>FALSO</td>\n",
       "    </tr>\n",
       "    <tr>\n",
       "      <th>9247</th>\n",
       "      <td>5064</td>\n",
       "      <td>0</td>\n",
       "      <td>0.000000</td>\n",
       "      <td>0</td>\n",
       "      <td>0.0</td>\n",
       "      <td>41</td>\n",
       "      <td>881.166667</td>\n",
       "      <td>0.009756</td>\n",
       "      <td>0.021138</td>\n",
       "      <td>0.000000</td>\n",
       "      <td>0.6</td>\n",
       "      <td>May</td>\n",
       "      <td>2</td>\n",
       "      <td>5</td>\n",
       "      <td>1</td>\n",
       "      <td>3</td>\n",
       "      <td>Returning_Visitor</td>\n",
       "      <td>FALSO</td>\n",
       "      <td>FALSO</td>\n",
       "    </tr>\n",
       "  </tbody>\n",
       "</table>\n",
       "<p>9248 rows × 19 columns</p>\n",
       "</div>"
      ],
      "text/plain": [
       "      Unnamed: 0  Administrative  Administrative_Duration  Informational  \\\n",
       "0           3496               0                 0.000000              0   \n",
       "1           9415               5               158.700000              0   \n",
       "2           9419               7                87.916667              1   \n",
       "3           3837               1                 4.000000              0   \n",
       "4           7305               2               132.400000              0   \n",
       "...          ...             ...                      ...            ...   \n",
       "9243        7878              10               130.550000              1   \n",
       "9244        6568              14               260.736111              3   \n",
       "9245        6989               7               109.500000              0   \n",
       "9246        7640               4                82.700000              0   \n",
       "9247        5064               0                 0.000000              0   \n",
       "\n",
       "      Informational_Duration  ProductRelated  ProductRelated_Duration  \\\n",
       "0                        0.0               5                19.000000   \n",
       "1                        0.0              51              1364.266667   \n",
       "2                        0.0              46              1621.025379   \n",
       "3                        0.0              37              1296.942857   \n",
       "4                        0.0              11               296.300000   \n",
       "...                      ...             ...                      ...   \n",
       "9243                    23.2               7               128.233333   \n",
       "9244                   186.5              51              2921.902778   \n",
       "9245                     0.0              25               349.696970   \n",
       "9246                     0.0              26               405.283333   \n",
       "9247                     0.0              41               881.166667   \n",
       "\n",
       "      BounceRates  ExitRates  PageValues  SpecialDay Month  OperatingSystems  \\\n",
       "0        0.000000   0.080000    0.000000         0.6   May                 2   \n",
       "1        0.007692   0.011987    0.000000         0.0   Nov                 3   \n",
       "2        0.004082   0.020544    6.023523         0.0   Dec                 1   \n",
       "3        0.013889   0.039815    0.000000         0.8   May                 2   \n",
       "4        0.000000   0.015385    0.000000         0.0   Sep                 2   \n",
       "...           ...        ...         ...         ...   ...               ...   \n",
       "9243     0.006667   0.015238    0.000000         0.0   Oct                 2   \n",
       "9244     0.013661   0.029891    8.339172         0.0   Nov                 4   \n",
       "9245     0.000000   0.019048    0.000000         0.0   Oct                 1   \n",
       "9246     0.000000   0.001429    0.000000         0.0   Nov                 2   \n",
       "9247     0.009756   0.021138    0.000000         0.6   May                 2   \n",
       "\n",
       "      Browser  Region  TrafficType        VisitorType Weekend Revenue  \n",
       "0           2       1            3  Returning_Visitor   FALSO   FALSO  \n",
       "1           2       3            2  Returning_Visitor    VERO   FALSO  \n",
       "2           1       3            2  Returning_Visitor   FALSO   FALSO  \n",
       "3           2       4            2  Returning_Visitor   FALSO   FALSO  \n",
       "4           4       3            2        New_Visitor   FALSO   FALSO  \n",
       "...       ...     ...          ...                ...     ...     ...  \n",
       "9243        2       6            5        New_Visitor   FALSO   FALSO  \n",
       "9244        2       7            1  Returning_Visitor    VERO    VERO  \n",
       "9245        1       1            2  Returning_Visitor   FALSO   FALSO  \n",
       "9246        2       1            2        New_Visitor   FALSO   FALSO  \n",
       "9247        5       1            3  Returning_Visitor   FALSO   FALSO  \n",
       "\n",
       "[9248 rows x 19 columns]"
      ]
     },
     "execution_count": 8,
     "metadata": {},
     "output_type": "execute_result"
    }
   ],
   "source": [
    "training_set = pd.read_csv(\"training_set_complete1.csv\")\n",
    "\n",
    "#test_set = pd.read_csv(\"test_set_complete.csv\")\n",
    "training_set = training_set.drop(columns=['Unnamed: 0'])\n",
    "#test_set = test_set.drop(columns=['Unnamed: 0'])\n",
    "#training_set['Revenue'] = training_set['Revenue'].astype(int)\n",
    "\n",
    "# DA TOGLIERE UNA VOLTA CHE UNIAMO I NOTEBOOK!!!!\n",
    "\n",
    "training_set['Month']=training_set['Month'].astype('category')\n",
    "training_set['OperatingSystems']=training_set['OperatingSystems'].astype('category')\n",
    "training_set['Browser']=training_set['Browser'].astype('category')\n",
    "training_set['Region']=training_set['Region'].astype('category')\n",
    "training_set['TrafficType']=training_set['TrafficType'].astype('category')\n",
    "training_set['VisitorType']=training_set['VisitorType'].astype('category')\n",
    "training_set['Weekend']=training_set['Weekend'].astype('category')\n",
    "training_set['Revenue']=training_set['Revenue'].astype('category')\n",
    "\n",
    "\n",
    "# We uniform the categories between training and test set\n",
    "\n",
    "all_categories_browser = list(range(1,14))\n",
    "all_categories_traffic_type = list(range(1,21))\n",
    "training_set['Browser'] = training_set['Browser'].cat.set_categories(all_categories_browser)\n",
    "training_set['TrafficType'] = training_set['TrafficType'].cat.set_categories(all_categories_traffic_type)\n",
    "#training_set['Weekend'] = np.where(training_set['Weekend']=='True',1,0)\n",
    "\n",
    "training_set = pd.get_dummies(training_set, columns=['Month', 'OperatingSystems', 'Browser', 'Region', 'TrafficType', 'VisitorType','Weekend'], drop_first=False)\n",
    "\n",
    "\n",
    "\n",
    "#test_set['Revenue'] = test_set['Revenue'].astype(int)\n",
    "#training_set['Revenue'].value_counts()\n",
    "#test_set['Revenue'].value_counts()\n",
    "categorical_features = ['Month_Aug', 'Month_Dec', 'Month_Feb', 'Month_Jul', 'Month_June',\n",
    "       'Month_Mar', 'Month_May', 'Month_Nov', 'Month_Oct', 'Month_Sep',\n",
    "       'OperatingSystems_1', 'OperatingSystems_2', 'OperatingSystems_3',\n",
    "       'OperatingSystems_4', 'OperatingSystems_5', 'OperatingSystems_6',\n",
    "       'OperatingSystems_7', 'OperatingSystems_8', 'Browser_1', 'Browser_2',\n",
    "       'Browser_3', 'Browser_4', 'Browser_5', 'Browser_6', 'Browser_7',\n",
    "       'Browser_8', 'Browser_9', 'Browser_10', 'Browser_11', 'Browser_12',\n",
    "       'Browser_13', 'Region_1', 'Region_2', 'Region_3', 'Region_4',\n",
    "       'Region_5', 'Region_6', 'Region_7', 'Region_8', 'Region_9',\n",
    "       'TrafficType_1', 'TrafficType_2', 'TrafficType_3', 'TrafficType_4',\n",
    "       'TrafficType_5', 'TrafficType_6', 'TrafficType_7', 'TrafficType_8',\n",
    "       'TrafficType_9', 'TrafficType_10', 'TrafficType_11', 'TrafficType_12',\n",
    "       'TrafficType_13', 'TrafficType_14', 'TrafficType_15', 'TrafficType_16',\n",
    "       'TrafficType_17', 'TrafficType_18', 'TrafficType_19', 'TrafficType_20',\n",
    "       'VisitorType_New_Visitor', 'VisitorType_Other',\n",
    "       'VisitorType_Returning_Visitor', 'Weekend_False', 'Weekend_True']\n",
    "#training_set[categorical_features] = training_set[categorical_features].astype('category')\n",
    "#test_set[categorical_features] = test_set[categorical_features].astype('category')"
   ]
  },
  {
   "cell_type": "code",
   "execution_count": 3,
   "id": "0a8acdf4",
   "metadata": {},
   "outputs": [],
   "source": [
    "X_train_full = training_set.drop(columns=['Revenue'])\n",
    "#X_test_full = test_set.drop(columns=['Revenue'])\n",
    "y_train = training_set['Revenue']\n",
    "#y_test = test_set['Revenue']"
   ]
  },
  {
   "cell_type": "markdown",
   "id": "f0ef0717",
   "metadata": {},
   "source": [
    "### Variance selection\n",
    "We apply variance selection to remove all the features with a very low variance."
   ]
  },
  {
   "cell_type": "code",
   "execution_count": 4,
   "id": "4622c48b",
   "metadata": {},
   "outputs": [
    {
     "name": "stdout",
     "output_type": "stream",
     "text": [
      "['Administrative', 'Administrative_Duration', 'Informational', 'Informational_Duration', 'ProductRelated', 'ProductRelated_Duration', 'BounceRates', 'ExitRates', 'PageValues', 'SpecialDay', 'Month_Aug', 'Month_Dec', 'Month_Feb', 'Month_Jul', 'Month_June', 'Month_Mar', 'Month_May', 'Month_Nov', 'Month_Oct', 'Month_Sep', 'OperatingSystems_1', 'OperatingSystems_2', 'OperatingSystems_3', 'OperatingSystems_4', 'OperatingSystems_6', 'OperatingSystems_8', 'Browser_1', 'Browser_2', 'Browser_3', 'Browser_4', 'Browser_5', 'Browser_6', 'Browser_7', 'Browser_8', 'Browser_10', 'Browser_13', 'Region_1', 'Region_2', 'Region_3', 'Region_4', 'Region_5', 'Region_6', 'Region_7', 'Region_8', 'Region_9', 'TrafficType_1', 'TrafficType_2', 'TrafficType_3', 'TrafficType_4', 'TrafficType_5', 'TrafficType_6', 'TrafficType_7', 'TrafficType_8', 'TrafficType_9', 'TrafficType_10', 'TrafficType_11', 'TrafficType_13', 'TrafficType_15', 'TrafficType_19', 'TrafficType_20', 'VisitorType_New_Visitor', 'VisitorType_Other', 'VisitorType_Returning_Visitor', 'Weekend_False', 'Weekend_True']\n"
     ]
    },
    {
     "data": {
      "text/plain": [
       "65"
      ]
     },
     "execution_count": 4,
     "metadata": {},
     "output_type": "execute_result"
    }
   ],
   "source": [
    "from sklearn.feature_selection import VarianceThreshold\n",
    "\n",
    "threshold = 0.001  # Soglia di varianza desiderata\n",
    "variance_selector = VarianceThreshold(threshold=threshold)\n",
    "\n",
    "# Applicazione della selezione della varianza sul dataset\n",
    "\n",
    "X_train = X_train_full.loc[:, variance_selector.fit(X_train_full).get_support()]\n",
    "columns_remaining = X_train.columns.tolist()\n",
    "\n",
    "X_test = X_test_full[columns_remaining]\n",
    "print(X_train.columns.tolist())\n",
    "len(columns_remaining)"
   ]
  },
  {
   "cell_type": "markdown",
   "id": "63e2ae20",
   "metadata": {},
   "source": [
    "### Functions and algorithms"
   ]
  },
  {
   "cell_type": "markdown",
   "id": "6dfbd150",
   "metadata": {},
   "source": [
    "#### Feature selection: Forward stepwise selection\n",
    "We chose this algorithm because it's more scalable on a big dataset."
   ]
  },
  {
   "cell_type": "code",
   "execution_count": 21,
   "id": "f488230e",
   "metadata": {},
   "outputs": [],
   "source": [
    "from sklearn.dummy import DummyRegressor\n",
    "from sklearn.model_selection import cross_val_score\n",
    "from sklearn.metrics import make_scorer\n",
    "\n",
    "def get_evaluator(scorer):\n",
    "    def evaluator(model, X, y, trained=False):\n",
    "        if not trained:\n",
    "            model = model.fit(X, y)\n",
    "        score = scorer(model, X, y)\n",
    "        return model, score\n",
    "    return evaluator   \n",
    "\n",
    "def get_cv_evaluator(scorer, cv=3):\n",
    "    def evaluator(model, X, y, trained=False):            \n",
    "        scores = cross_val_score(model, X, y, scoring=scorer, cv=cv)\n",
    "        if not trained:\n",
    "            model = model.fit(X, y)\n",
    "        return model, np.mean(scores)\n",
    "    \n",
    "    return evaluator\n",
    "\n",
    "def get_val_evaluator(scorer, val_size=0.1):\n",
    "    def evaluator(model, X, y, trained=False):\n",
    "        X_train_small, X_val, y_train_small, y_val = train_test_split(X, y, \n",
    "                                                                      test_size=val_size,\n",
    "                                                                      random_state=0)\n",
    "        \n",
    "        if not trained:\n",
    "            model = model.fit(X_train_small, y_train_small)\n",
    "        score = scorer(model, X_val, y_val) \n",
    "        \n",
    "        return model, score\n",
    "    \n",
    "    return evaluator\n",
    "\n",
    "\n",
    "possible_models = {\n",
    "    \"LogisticRegression\":LogisticRegression(solver=\"newton-cg\", max_iter=1000),\n",
    "    \"LDA\":LDA(),\n",
    "    \"QDA\":QDA(),\n",
    "    #\"KNN\":KNeighborsClassifier(n_neighbors=6),\n",
    "    \"LinearRegression\":LinearRegression(fit_intercept=True),\n",
    "    \"SVM\":LinearSVC(C=0.1,max_iter=1000)\n",
    "}\n",
    "\n",
    "#da qui inizia il ctrl Z\n",
    "\n",
    "def forward_selection(Xtrain_pd, ytrain, model_chosen,\n",
    "                      candidates_evaluator, candidates_argbest, # Metric to be used at 2.b\n",
    "                      subsets_evaluator, subsets_argbest,       # Metric to be used at 3\n",
    "                      candidates_scorer_name=None,  # Name of 2. figure\n",
    "                      subsets_scorer_name=None,     # Name of 3. figure\n",
    "                      verbose=True, weight_step3=0):   \n",
    "    \n",
    "    \n",
    "    # Global variable init\n",
    "    # ====================\n",
    "    num_features = Xtrain_pd.shape[-1]\n",
    "    best_candidate_metric = []\n",
    "    # subsets_* are lists containing one value for each Mk model (the best of the Mk candidates)\n",
    "    subsets_metric = []        # The best metric of each subset of dimension 'dim'\n",
    "    subsets_best_features = [] # The best features combination in each subset of dimension 'dim'\n",
    "    # A figure to keep track of candidates scores in each Mk subset\n",
    "    num_evaluations = 0        # A conter to keep track of the total number of trials\n",
    "    \n",
    "    selected_features = []\n",
    "    all_features = Xtrain_pd.columns\n",
    "    \n",
    "    \n",
    "    # 1. Train M0\n",
    "    # ===========\n",
    "    model = DummyRegressor()\n",
    "    # Compute (2.b) metrics\n",
    "    model, score = candidates_evaluator(model, Xtrain_pd[[]], ytrain)\n",
    "    best_candidate_metric.append(score)\n",
    "    subsets_best_features.append([])\n",
    "    # Compute metric for step 3.\n",
    "    _, score = subsets_evaluator(model, Xtrain_pd[[]], ytrain, trained=True)\n",
    "    subsets_metric.append(score)\n",
    "    \n",
    "    \n",
    "    for dim in range(num_features):\n",
    "        candidate_metrics = [] # metrics for all the models with dim features\n",
    "        candidate_models = []  # models with dim features\n",
    "        \n",
    "        remaining_features = all_features.difference(selected_features)\n",
    "        \n",
    "        # fit all the models with k features\n",
    "        for new_column in remaining_features:\n",
    "            Xtrain_sub = Xtrain_pd[selected_features+[new_column]].to_numpy()\n",
    "            model = possible_models[model_chosen]\n",
    "            #print(new_column)\n",
    "            model, score = candidates_evaluator(model, Xtrain_sub, ytrain)\n",
    "            candidate_models.append(model)\n",
    "            candidate_metrics.append(score)\n",
    "            num_evaluations += 1\n",
    "            \n",
    "        \n",
    "        idx_best_candidate = candidates_argbest(candidate_metrics) # select the best Mk model\n",
    "        selected_features.append(remaining_features[idx_best_candidate]) # Update selected feature\n",
    "        best_candidate_metric.append(candidate_metrics[idx_best_candidate]) # Save best candidate features\n",
    "        best_features = selected_features.copy()\n",
    "        subsets_best_features.append(best_features)\n",
    "        \n",
    "        \n",
    "        # Compute metric for the final step -> comparison of all the best models\n",
    "        best_subset_model = candidate_models[idx_best_candidate] # save the best model\n",
    "        best_subset_Xtrain = Xtrain_pd[best_features].to_numpy()\n",
    "        _, score = subsets_evaluator(best_subset_model, best_subset_Xtrain, ytrain, trained=True)\n",
    "        subsets_metric.append(score) #computing the metrics for the training set\n",
    "        num_evaluations += weight_step3 \n",
    "        \n",
    "        if verbose:\n",
    "            print(\"............\")\n",
    "            print(\"Best model (M{}) with {} features: {}\".format(dim+1, dim+1, best_features))\n",
    "            print(\"M{} subset score (3.): {}\".format(dim+1, score))\n",
    "        \n",
    "    # choose the best candidates\n",
    "    best_subset_idx = subsets_argbest(subsets_metric)\n",
    "    best_features = subsets_best_features[best_subset_idx]\n",
    "    \n",
    "    if verbose:\n",
    "        print(\"\\n Best configuration has {} features\".format(best_subset_idx))\n",
    "        print(\"Features: {}\".format(subsets_best_features[best_subset_idx]))\n",
    "        print(\"Total number of trained models:\", num_evaluations)\n",
    "    \n",
    "    # Complete the subsets_fig figure by plotting\n",
    "    # a line connecting all best candidate score\n",
    "    best_candidate_score_idx = candidates_argbest(best_candidate_metric)\n",
    "    return best_features\n",
    "    "
   ]
  },
  {
   "cell_type": "markdown",
   "id": "b06c7e91",
   "metadata": {},
   "source": [
    "#### Accuracy"
   ]
  },
  {
   "cell_type": "code",
   "execution_count": 6,
   "id": "6fd571b8",
   "metadata": {},
   "outputs": [],
   "source": [
    "def accuracy(y_pred, y_true):\n",
    "    return (y_pred == y_true).mean()\n",
    "\n",
    "def calculate_sensitivity_specificity(confusion_matrix):\n",
    "    # Extract values from the confusion matrix\n",
    "    TN, FP, FN, TP = confusion_matrix.ravel()\n",
    "\n",
    "    # Calculate Sensitivity (Recall)\n",
    "    sensitivity = TP / (TP + FN)\n",
    "\n",
    "    # Calculate Specificity\n",
    "    specificity = TN / (TN + FP)\n",
    "\n",
    "    return sensitivity, specificity"
   ]
  },
  {
   "cell_type": "markdown",
   "id": "982a7418",
   "metadata": {},
   "source": [
    "#### Evaluation metrics"
   ]
  },
  {
   "cell_type": "code",
   "execution_count": 7,
   "id": "160e03e6",
   "metadata": {},
   "outputs": [],
   "source": [
    "from sklearn.metrics import confusion_matrix\n",
    "\n",
    "def classification_metrics_training(model, model_name, X_train, y_train, cv):\n",
    "    #sensitivity\n",
    "    sensitivity_train = np.mean(np.absolute(cross_val_score(model, X_train, y_train, cv=cv, scoring='recall', n_jobs=-1)))\n",
    "    \n",
    "    #specificity\n",
    "    specificity_train = np.mean(np.absolute(cross_val_score(model, X_train, y_train, cv=cv, scoring='precision', n_jobs=-1)))\n",
    "    \n",
    "    #accuracy\n",
    "    accuracy_train = np.mean(np.absolute(cross_val_score(model, X_train, y_train, cv=cv, scoring='accuracy', n_jobs=-1)))\n",
    "                         \n",
    "    # building a dataframe\n",
    "    data = {\n",
    "        'Model': [model_name],\n",
    "        'Accuracy': [accuracy_train],\n",
    "        'Sensitivity': [sensitivity_train],\n",
    "        'Specificity': [specificity_train],\n",
    "    }\n",
    "    return pd.DataFrame(data)                    "
   ]
  },
  {
   "cell_type": "code",
   "execution_count": 8,
   "id": "e866b1d7",
   "metadata": {},
   "outputs": [],
   "source": [
    "def classification_metrics_test(model, model_name,X_train,y_train,X_test,y_test,threshold):\n",
    "    # building the confusion matrix for test performances\n",
    "    model = model.fit(X_train,y_train)\n",
    "    #ypred = model.predict(X_test)\n",
    "    y_pred_proba = model.predict_proba(X_test)[:, 1]  # Probability of positive class (class 1)\n",
    "\n",
    "    # Convert probabilities to binary predictions\n",
    "    ypred = (y_pred_proba > threshold).astype(int)\n",
    "    \n",
    "    cm = confusion_matrix(y_test.to_numpy(), np.array(ypred))\n",
    "    sensitivity_test, specificity_test = calculate_sensitivity_specificity(cm)\n",
    "    \n",
    "    accuracy_test = accuracy(ypred, y_test)\n",
    "    \n",
    "    # building a dataframe\n",
    "    data = {\n",
    "        'Model': [model_name],\n",
    "        'Accuracy': [accuracy_test],\n",
    "        'Sensitivity': [sensitivity_test],\n",
    "        'Specificity': [specificity_test],\n",
    "    }\n",
    "    return pd.DataFrame(data), cm"
   ]
  },
  {
   "cell_type": "code",
   "execution_count": 9,
   "id": "bd019a07",
   "metadata": {},
   "outputs": [],
   "source": [
    "# We compute the empirical threshold\n",
    "empirical_threshold = y_train.mean()\n",
    "\n",
    "from sklearn.metrics import accuracy_score, precision_score, recall_score, f1_score\n",
    "def classification_metrics_empirical_threshold(model, model_name, X_train, y_train,threshold=0.5):\n",
    "    \n",
    "    model = model.fit(X_train, y_train)\n",
    "    \n",
    "    # Get predicted probabilities\n",
    "    y_pred_proba = model.predict_proba(X_train)[:, 1]  # Probability of positive class (class 1)\n",
    "\n",
    "    # Convert probabilities to binary predictions\n",
    "    y_pred = (y_pred_proba > threshold).astype(int)\n",
    "\n",
    "    # Evaluate the performance using various metrics\n",
    "    accuracy = accuracy_score(y_train, y_pred)\n",
    "    specificity = precision_score(y_train, y_pred)\n",
    "    sensitivity = recall_score(y_train, y_pred)\n",
    "    f1 = f1_score(y_train, y_pred)\n",
    "    \n",
    "    data = {\n",
    "        'Model': [model_name],\n",
    "        'Accuracy': [accuracy],\n",
    "        'Sensitivity': [sensitivity],\n",
    "        'Specificity': [specificity],\n",
    "    }\n",
    "    return pd.DataFrame(data) \n"
   ]
  },
  {
   "cell_type": "markdown",
   "id": "12901cd6",
   "metadata": {},
   "source": [
    "## Logistic regression"
   ]
  },
  {
   "cell_type": "markdown",
   "id": "792f64c9",
   "metadata": {},
   "source": [
    "### Scaling data\n",
    "We scale the numerical features to avoid convergence problem with logistic regression."
   ]
  },
  {
   "cell_type": "code",
   "execution_count": 23,
   "id": "f0fd591a",
   "metadata": {},
   "outputs": [],
   "source": [
    "# FACCIAMO QUESTO STEP PER EVITARE PROBLEMI DI CONVERGENZA NEL MODELLO\n",
    "from sklearn.preprocessing import StandardScaler\n",
    "\n",
    "# Assuming you have your feature data X\n",
    "numeric_features = ['Administrative', 'Administrative_Duration', 'Informational',\n",
    "       'Informational_Duration', 'ProductRelated', 'ProductRelated_Duration',\n",
    "       'BounceRates', 'ExitRates', 'PageValues', 'SpecialDay']\n",
    "categorical_features = ['Month_Aug', 'Month_Dec', 'Month_Feb', 'Month_Jul', 'Month_June', 'Month_Mar', 'Month_May', \n",
    "                        'Month_Nov', 'Month_Oct', 'Month_Sep', 'OperatingSystems_1', 'OperatingSystems_2', 'OperatingSystems_3', 'OperatingSystems_4', 'OperatingSystems_6', 'OperatingSystems_8', 'Browser_1', 'Browser_2', 'Browser_3', 'Browser_4', 'Browser_5', 'Browser_6', 'Browser_7', 'Browser_8', 'Browser_10', 'Browser_13', 'Region_1', 'Region_2', 'Region_3', 'Region_4', 'Region_5',\n",
    "                        'Region_6', 'Region_7', 'Region_8', 'Region_9', 'TrafficType_1', 'TrafficType_2', \n",
    "                        'TrafficType_3', 'TrafficType_4', 'TrafficType_5', 'TrafficType_6', 'TrafficType_7', \n",
    "                        'TrafficType_8', 'TrafficType_9', 'TrafficType_10', 'TrafficType_11', 'TrafficType_13', \n",
    "                        'TrafficType_15', 'TrafficType_19', 'TrafficType_20', 'VisitorType_New_Visitor', 'VisitorType_Other', 'VisitorType_Returning_Visitor', 'Weekend_False', 'Weekend_True']\n",
    "scaler = StandardScaler()\n",
    "train_scaled = pd.DataFrame(scaler.fit_transform(X_train[numeric_features]))\n",
    "test_scaled = pd.DataFrame(scaler.fit_transform(X_test[numeric_features]))\n",
    "train_scaled.columns = X_train[numeric_features].columns\n",
    "test_scaled.columns = X_test[numeric_features].columns\n",
    "X_train_scaled = pd.concat([train_scaled,X_train[categorical_features]],axis=1)\n",
    "X_test_scaled = pd.concat([test_scaled,X_test[categorical_features]],axis=1)"
   ]
  },
  {
   "cell_type": "markdown",
   "id": "687db0bf",
   "metadata": {},
   "source": [
    "### Feature selection"
   ]
  },
  {
   "cell_type": "code",
   "execution_count": 32,
   "id": "535ef449",
   "metadata": {
    "scrolled": true
   },
   "outputs": [
    {
     "name": "stdout",
     "output_type": "stream",
     "text": [
      "............\n",
      "Best model (M1) with 1 features: ['PageValues']\n",
      "M1 subset score (3.): 0.8801900808325904\n",
      "............\n",
      "Best model (M2) with 2 features: ['PageValues', 'VisitorType_New_Visitor']\n",
      "M2 subset score (3.): 0.8822445441655826\n",
      "............\n",
      "Best model (M3) with 3 features: ['PageValues', 'VisitorType_New_Visitor', 'Region_9']\n",
      "M3 subset score (3.): 0.8822447195708418\n",
      "............\n",
      "Best model (M4) with 4 features: ['PageValues', 'VisitorType_New_Visitor', 'Region_9', 'Browser_7']\n",
      "M4 subset score (3.): 0.8822447195708418\n",
      "............\n",
      "Best model (M5) with 5 features: ['PageValues', 'VisitorType_New_Visitor', 'Region_9', 'Browser_7', 'Browser_3']\n",
      "M5 subset score (3.): 0.882460935787058\n",
      "............\n",
      "Best model (M6) with 6 features: ['PageValues', 'VisitorType_New_Visitor', 'Region_9', 'Browser_7', 'Browser_3', 'TrafficType_11']\n",
      "M6 subset score (3.): 0.8827853770482219\n",
      "............\n",
      "Best model (M7) with 7 features: ['PageValues', 'VisitorType_New_Visitor', 'Region_9', 'Browser_7', 'Browser_3', 'TrafficType_11', 'Month_Feb']\n",
      "M7 subset score (3.): 0.8827854939850613\n",
      "............\n",
      "Best model (M8) with 8 features: ['PageValues', 'VisitorType_New_Visitor', 'Region_9', 'Browser_7', 'Browser_3', 'TrafficType_11', 'Month_Feb', 'Browser_2']\n",
      "M8 subset score (3.): 0.8831098183093857\n",
      "............\n",
      "Best model (M9) with 9 features: ['PageValues', 'VisitorType_New_Visitor', 'Region_9', 'Browser_7', 'Browser_3', 'TrafficType_11', 'Month_Feb', 'Browser_2', 'TrafficType_6']\n",
      "M9 subset score (3.): 0.88289348515633\n",
      "............\n",
      "Best model (M10) with 10 features: ['PageValues', 'VisitorType_New_Visitor', 'Region_9', 'Browser_7', 'Browser_3', 'TrafficType_11', 'Month_Feb', 'Browser_2', 'TrafficType_6', 'OperatingSystems_8']\n",
      "M10 subset score (3.): 0.88289348515633\n",
      "............\n",
      "Best model (M11) with 11 features: ['PageValues', 'VisitorType_New_Visitor', 'Region_9', 'Browser_7', 'Browser_3', 'TrafficType_11', 'Month_Feb', 'Browser_2', 'TrafficType_6', 'OperatingSystems_8', 'Region_8']\n",
      "M11 subset score (3.): 0.8830015932644381\n",
      "............\n",
      "Best model (M12) with 12 features: ['PageValues', 'VisitorType_New_Visitor', 'Region_9', 'Browser_7', 'Browser_3', 'TrafficType_11', 'Month_Feb', 'Browser_2', 'TrafficType_6', 'OperatingSystems_8', 'Region_8', 'Region_7']\n",
      "M12 subset score (3.): 0.8831097013725462\n",
      "............\n",
      "Best model (M13) with 13 features: ['PageValues', 'VisitorType_New_Visitor', 'Region_9', 'Browser_7', 'Browser_3', 'TrafficType_11', 'Month_Feb', 'Browser_2', 'TrafficType_6', 'OperatingSystems_8', 'Region_8', 'Region_7', 'OperatingSystems_6']\n",
      "M13 subset score (3.): 0.8830015347960183\n",
      "............\n",
      "Best model (M14) with 14 features: ['PageValues', 'VisitorType_New_Visitor', 'Region_9', 'Browser_7', 'Browser_3', 'TrafficType_11', 'Month_Feb', 'Browser_2', 'TrafficType_6', 'OperatingSystems_8', 'Region_8', 'Region_7', 'OperatingSystems_6', 'Browser_8']\n",
      "M14 subset score (3.): 0.8828934266879103\n",
      "............\n",
      "Best model (M15) with 15 features: ['PageValues', 'VisitorType_New_Visitor', 'Region_9', 'Browser_7', 'Browser_3', 'TrafficType_11', 'Month_Feb', 'Browser_2', 'TrafficType_6', 'OperatingSystems_8', 'Region_8', 'Region_7', 'OperatingSystems_6', 'Browser_8', 'Region_5']\n",
      "M15 subset score (3.): 0.8830015347960183\n",
      "............\n",
      "Best model (M16) with 16 features: ['PageValues', 'VisitorType_New_Visitor', 'Region_9', 'Browser_7', 'Browser_3', 'TrafficType_11', 'Month_Feb', 'Browser_2', 'TrafficType_6', 'OperatingSystems_8', 'Region_8', 'Region_7', 'OperatingSystems_6', 'Browser_8', 'Region_5', 'Month_Aug']\n",
      "M16 subset score (3.): 0.8831097013725462\n",
      "............\n",
      "Best model (M17) with 17 features: ['PageValues', 'VisitorType_New_Visitor', 'Region_9', 'Browser_7', 'Browser_3', 'TrafficType_11', 'Month_Feb', 'Browser_2', 'TrafficType_6', 'OperatingSystems_8', 'Region_8', 'Region_7', 'OperatingSystems_6', 'Browser_8', 'Region_5', 'Month_Aug', 'Region_2']\n",
      "M17 subset score (3.): 0.8831095844357068\n",
      "............\n",
      "Best model (M18) with 18 features: ['PageValues', 'VisitorType_New_Visitor', 'Region_9', 'Browser_7', 'Browser_3', 'TrafficType_11', 'Month_Feb', 'Browser_2', 'TrafficType_6', 'OperatingSystems_8', 'Region_8', 'Region_7', 'OperatingSystems_6', 'Browser_8', 'Region_5', 'Month_Aug', 'Region_2', 'TrafficType_7']\n",
      "M18 subset score (3.): 0.8831095844357068\n",
      "............\n",
      "Best model (M19) with 19 features: ['PageValues', 'VisitorType_New_Visitor', 'Region_9', 'Browser_7', 'Browser_3', 'TrafficType_11', 'Month_Feb', 'Browser_2', 'TrafficType_6', 'OperatingSystems_8', 'Region_8', 'Region_7', 'OperatingSystems_6', 'Browser_8', 'Region_5', 'Month_Aug', 'Region_2', 'TrafficType_7', 'TrafficType_15']\n",
      "M19 subset score (3.): 0.8831096429041265\n",
      "............\n",
      "Best model (M20) with 20 features: ['PageValues', 'VisitorType_New_Visitor', 'Region_9', 'Browser_7', 'Browser_3', 'TrafficType_11', 'Month_Feb', 'Browser_2', 'TrafficType_6', 'OperatingSystems_8', 'Region_8', 'Region_7', 'OperatingSystems_6', 'Browser_8', 'Region_5', 'Month_Aug', 'Region_2', 'TrafficType_7', 'TrafficType_15', 'TrafficType_19']\n",
      "M20 subset score (3.): 0.8831096429041265\n",
      "............\n",
      "Best model (M21) with 21 features: ['PageValues', 'VisitorType_New_Visitor', 'Region_9', 'Browser_7', 'Browser_3', 'TrafficType_11', 'Month_Feb', 'Browser_2', 'TrafficType_6', 'OperatingSystems_8', 'Region_8', 'Region_7', 'OperatingSystems_6', 'Browser_8', 'Region_5', 'Month_Aug', 'Region_2', 'TrafficType_7', 'TrafficType_15', 'TrafficType_19', 'TrafficType_9']\n",
      "M21 subset score (3.): 0.8831096429041265\n",
      "............\n",
      "Best model (M22) with 22 features: ['PageValues', 'VisitorType_New_Visitor', 'Region_9', 'Browser_7', 'Browser_3', 'TrafficType_11', 'Month_Feb', 'Browser_2', 'TrafficType_6', 'OperatingSystems_8', 'Region_8', 'Region_7', 'OperatingSystems_6', 'Browser_8', 'Region_5', 'Month_Aug', 'Region_2', 'TrafficType_7', 'TrafficType_15', 'TrafficType_19', 'TrafficType_9', 'TrafficType_5']\n",
      "M22 subset score (3.): 0.8832178094806544\n",
      "............\n",
      "Best model (M23) with 23 features: ['PageValues', 'VisitorType_New_Visitor', 'Region_9', 'Browser_7', 'Browser_3', 'TrafficType_11', 'Month_Feb', 'Browser_2', 'TrafficType_6', 'OperatingSystems_8', 'Region_8', 'Region_7', 'OperatingSystems_6', 'Browser_8', 'Region_5', 'Month_Aug', 'Region_2', 'TrafficType_7', 'TrafficType_15', 'TrafficType_19', 'TrafficType_9', 'TrafficType_5', 'Region_3']\n",
      "M23 subset score (3.): 0.8833258591203427\n",
      "............\n",
      "Best model (M24) with 24 features: ['PageValues', 'VisitorType_New_Visitor', 'Region_9', 'Browser_7', 'Browser_3', 'TrafficType_11', 'Month_Feb', 'Browser_2', 'TrafficType_6', 'OperatingSystems_8', 'Region_8', 'Region_7', 'OperatingSystems_6', 'Browser_8', 'Region_5', 'Month_Aug', 'Region_2', 'TrafficType_7', 'TrafficType_15', 'TrafficType_19', 'TrafficType_9', 'TrafficType_5', 'Region_3', 'VisitorType_Other']\n",
      "M24 subset score (3.): 0.8834339672284507\n",
      "............\n",
      "Best model (M25) with 25 features: ['PageValues', 'VisitorType_New_Visitor', 'Region_9', 'Browser_7', 'Browser_3', 'TrafficType_11', 'Month_Feb', 'Browser_2', 'TrafficType_6', 'OperatingSystems_8', 'Region_8', 'Region_7', 'OperatingSystems_6', 'Browser_8', 'Region_5', 'Month_Aug', 'Region_2', 'TrafficType_7', 'TrafficType_15', 'TrafficType_19', 'TrafficType_9', 'TrafficType_5', 'Region_3', 'VisitorType_Other', 'TrafficType_10']\n",
      "M25 subset score (3.): 0.8836502419130868\n",
      "............\n",
      "Best model (M26) with 26 features: ['PageValues', 'VisitorType_New_Visitor', 'Region_9', 'Browser_7', 'Browser_3', 'TrafficType_11', 'Month_Feb', 'Browser_2', 'TrafficType_6', 'OperatingSystems_8', 'Region_8', 'Region_7', 'OperatingSystems_6', 'Browser_8', 'Region_5', 'Month_Aug', 'Region_2', 'TrafficType_7', 'TrafficType_15', 'TrafficType_19', 'TrafficType_9', 'TrafficType_5', 'Region_3', 'VisitorType_Other', 'TrafficType_10', 'Browser_13']\n",
      "M26 subset score (3.): 0.8836502419130868\n",
      "............\n",
      "Best model (M27) with 27 features: ['PageValues', 'VisitorType_New_Visitor', 'Region_9', 'Browser_7', 'Browser_3', 'TrafficType_11', 'Month_Feb', 'Browser_2', 'TrafficType_6', 'OperatingSystems_8', 'Region_8', 'Region_7', 'OperatingSystems_6', 'Browser_8', 'Region_5', 'Month_Aug', 'Region_2', 'TrafficType_7', 'TrafficType_15', 'TrafficType_19', 'TrafficType_9', 'TrafficType_5', 'Region_3', 'VisitorType_Other', 'TrafficType_10', 'Browser_13', 'Month_Jul']\n",
      "M27 subset score (3.): 0.8834339087600311\n"
     ]
    },
    {
     "name": "stdout",
     "output_type": "stream",
     "text": [
      "............\n",
      "Best model (M28) with 28 features: ['PageValues', 'VisitorType_New_Visitor', 'Region_9', 'Browser_7', 'Browser_3', 'TrafficType_11', 'Month_Feb', 'Browser_2', 'TrafficType_6', 'OperatingSystems_8', 'Region_8', 'Region_7', 'OperatingSystems_6', 'Browser_8', 'Region_5', 'Month_Aug', 'Region_2', 'TrafficType_7', 'TrafficType_15', 'TrafficType_19', 'TrafficType_9', 'TrafficType_5', 'Region_3', 'VisitorType_Other', 'TrafficType_10', 'Browser_13', 'Month_Jul', 'VisitorType_Returning_Visitor']\n",
      "M28 subset score (3.): 0.8834339087600311\n",
      "............\n",
      "Best model (M29) with 29 features: ['PageValues', 'VisitorType_New_Visitor', 'Region_9', 'Browser_7', 'Browser_3', 'TrafficType_11', 'Month_Feb', 'Browser_2', 'TrafficType_6', 'OperatingSystems_8', 'Region_8', 'Region_7', 'OperatingSystems_6', 'Browser_8', 'Region_5', 'Month_Aug', 'Region_2', 'TrafficType_7', 'TrafficType_15', 'TrafficType_19', 'TrafficType_9', 'TrafficType_5', 'Region_3', 'VisitorType_Other', 'TrafficType_10', 'Browser_13', 'Month_Jul', 'VisitorType_Returning_Visitor', 'Month_June']\n",
      "M29 subset score (3.): 0.8833258591203427\n",
      "............\n",
      "Best model (M30) with 30 features: ['PageValues', 'VisitorType_New_Visitor', 'Region_9', 'Browser_7', 'Browser_3', 'TrafficType_11', 'Month_Feb', 'Browser_2', 'TrafficType_6', 'OperatingSystems_8', 'Region_8', 'Region_7', 'OperatingSystems_6', 'Browser_8', 'Region_5', 'Month_Aug', 'Region_2', 'TrafficType_7', 'TrafficType_15', 'TrafficType_19', 'TrafficType_9', 'TrafficType_5', 'Region_3', 'VisitorType_Other', 'TrafficType_10', 'Browser_13', 'Month_Jul', 'VisitorType_Returning_Visitor', 'Month_June', 'Browser_6']\n",
      "M30 subset score (3.): 0.8834340256968705\n",
      "............\n",
      "Best model (M31) with 31 features: ['PageValues', 'VisitorType_New_Visitor', 'Region_9', 'Browser_7', 'Browser_3', 'TrafficType_11', 'Month_Feb', 'Browser_2', 'TrafficType_6', 'OperatingSystems_8', 'Region_8', 'Region_7', 'OperatingSystems_6', 'Browser_8', 'Region_5', 'Month_Aug', 'Region_2', 'TrafficType_7', 'TrafficType_15', 'TrafficType_19', 'TrafficType_9', 'TrafficType_5', 'Region_3', 'VisitorType_Other', 'TrafficType_10', 'Browser_13', 'Month_Jul', 'VisitorType_Returning_Visitor', 'Month_June', 'Browser_6', 'Region_6']\n",
      "M31 subset score (3.): 0.8836503588499263\n",
      "............\n",
      "Best model (M32) with 32 features: ['PageValues', 'VisitorType_New_Visitor', 'Region_9', 'Browser_7', 'Browser_3', 'TrafficType_11', 'Month_Feb', 'Browser_2', 'TrafficType_6', 'OperatingSystems_8', 'Region_8', 'Region_7', 'OperatingSystems_6', 'Browser_8', 'Region_5', 'Month_Aug', 'Region_2', 'TrafficType_7', 'TrafficType_15', 'TrafficType_19', 'TrafficType_9', 'TrafficType_5', 'Region_3', 'VisitorType_Other', 'TrafficType_10', 'Browser_13', 'Month_Jul', 'VisitorType_Returning_Visitor', 'Month_June', 'Browser_6', 'Region_6', 'OperatingSystems_4']\n",
      "M32 subset score (3.): 0.8835421922733984\n",
      "............\n",
      "Best model (M33) with 33 features: ['PageValues', 'VisitorType_New_Visitor', 'Region_9', 'Browser_7', 'Browser_3', 'TrafficType_11', 'Month_Feb', 'Browser_2', 'TrafficType_6', 'OperatingSystems_8', 'Region_8', 'Region_7', 'OperatingSystems_6', 'Browser_8', 'Region_5', 'Month_Aug', 'Region_2', 'TrafficType_7', 'TrafficType_15', 'TrafficType_19', 'TrafficType_9', 'TrafficType_5', 'Region_3', 'VisitorType_Other', 'TrafficType_10', 'Browser_13', 'Month_Jul', 'VisitorType_Returning_Visitor', 'Month_June', 'Browser_6', 'Region_6', 'OperatingSystems_4', 'Browser_4']\n",
      "M33 subset score (3.): 0.8834339672284507\n",
      "............\n",
      "Best model (M34) with 34 features: ['PageValues', 'VisitorType_New_Visitor', 'Region_9', 'Browser_7', 'Browser_3', 'TrafficType_11', 'Month_Feb', 'Browser_2', 'TrafficType_6', 'OperatingSystems_8', 'Region_8', 'Region_7', 'OperatingSystems_6', 'Browser_8', 'Region_5', 'Month_Aug', 'Region_2', 'TrafficType_7', 'TrafficType_15', 'TrafficType_19', 'TrafficType_9', 'TrafficType_5', 'Region_3', 'VisitorType_Other', 'TrafficType_10', 'Browser_13', 'Month_Jul', 'VisitorType_Returning_Visitor', 'Month_June', 'Browser_6', 'Region_6', 'OperatingSystems_4', 'Browser_4', 'Browser_5']\n",
      "M34 subset score (3.): 0.8835421922733984\n",
      "............\n",
      "Best model (M35) with 35 features: ['PageValues', 'VisitorType_New_Visitor', 'Region_9', 'Browser_7', 'Browser_3', 'TrafficType_11', 'Month_Feb', 'Browser_2', 'TrafficType_6', 'OperatingSystems_8', 'Region_8', 'Region_7', 'OperatingSystems_6', 'Browser_8', 'Region_5', 'Month_Aug', 'Region_2', 'TrafficType_7', 'TrafficType_15', 'TrafficType_19', 'TrafficType_9', 'TrafficType_5', 'Region_3', 'VisitorType_Other', 'TrafficType_10', 'Browser_13', 'Month_Jul', 'VisitorType_Returning_Visitor', 'Month_June', 'Browser_6', 'Region_6', 'OperatingSystems_4', 'Browser_4', 'Browser_5', 'Month_Oct']\n",
      "M35 subset score (3.): 0.8834341426337101\n",
      "............\n",
      "Best model (M36) with 36 features: ['PageValues', 'VisitorType_New_Visitor', 'Region_9', 'Browser_7', 'Browser_3', 'TrafficType_11', 'Month_Feb', 'Browser_2', 'TrafficType_6', 'OperatingSystems_8', 'Region_8', 'Region_7', 'OperatingSystems_6', 'Browser_8', 'Region_5', 'Month_Aug', 'Region_2', 'TrafficType_7', 'TrafficType_15', 'TrafficType_19', 'TrafficType_9', 'TrafficType_5', 'Region_3', 'VisitorType_Other', 'TrafficType_10', 'Browser_13', 'Month_Jul', 'VisitorType_Returning_Visitor', 'Month_June', 'Browser_6', 'Region_6', 'OperatingSystems_4', 'Browser_4', 'Browser_5', 'Month_Oct', 'Browser_10']\n",
      "M36 subset score (3.): 0.8835421922733984\n",
      "............\n",
      "Best model (M37) with 37 features: ['PageValues', 'VisitorType_New_Visitor', 'Region_9', 'Browser_7', 'Browser_3', 'TrafficType_11', 'Month_Feb', 'Browser_2', 'TrafficType_6', 'OperatingSystems_8', 'Region_8', 'Region_7', 'OperatingSystems_6', 'Browser_8', 'Region_5', 'Month_Aug', 'Region_2', 'TrafficType_7', 'TrafficType_15', 'TrafficType_19', 'TrafficType_9', 'TrafficType_5', 'Region_3', 'VisitorType_Other', 'TrafficType_10', 'Browser_13', 'Month_Jul', 'VisitorType_Returning_Visitor', 'Month_June', 'Browser_6', 'Region_6', 'OperatingSystems_4', 'Browser_4', 'Browser_5', 'Month_Oct', 'Browser_10', 'Browser_1']\n",
      "M37 subset score (3.): 0.8835421922733984\n",
      "............\n",
      "Best model (M38) with 38 features: ['PageValues', 'VisitorType_New_Visitor', 'Region_9', 'Browser_7', 'Browser_3', 'TrafficType_11', 'Month_Feb', 'Browser_2', 'TrafficType_6', 'OperatingSystems_8', 'Region_8', 'Region_7', 'OperatingSystems_6', 'Browser_8', 'Region_5', 'Month_Aug', 'Region_2', 'TrafficType_7', 'TrafficType_15', 'TrafficType_19', 'TrafficType_9', 'TrafficType_5', 'Region_3', 'VisitorType_Other', 'TrafficType_10', 'Browser_13', 'Month_Jul', 'VisitorType_Returning_Visitor', 'Month_June', 'Browser_6', 'Region_6', 'OperatingSystems_4', 'Browser_4', 'Browser_5', 'Month_Oct', 'Browser_10', 'Browser_1', 'OperatingSystems_1']\n",
      "M38 subset score (3.): 0.8832178094806544\n",
      "............\n",
      "Best model (M39) with 39 features: ['PageValues', 'VisitorType_New_Visitor', 'Region_9', 'Browser_7', 'Browser_3', 'TrafficType_11', 'Month_Feb', 'Browser_2', 'TrafficType_6', 'OperatingSystems_8', 'Region_8', 'Region_7', 'OperatingSystems_6', 'Browser_8', 'Region_5', 'Month_Aug', 'Region_2', 'TrafficType_7', 'TrafficType_15', 'TrafficType_19', 'TrafficType_9', 'TrafficType_5', 'Region_3', 'VisitorType_Other', 'TrafficType_10', 'Browser_13', 'Month_Jul', 'VisitorType_Returning_Visitor', 'Month_June', 'Browser_6', 'Region_6', 'OperatingSystems_4', 'Browser_4', 'Browser_5', 'Month_Oct', 'Browser_10', 'Browser_1', 'OperatingSystems_1', 'TrafficType_20']\n",
      "M39 subset score (3.): 0.8830015347960183\n",
      "............\n",
      "Best model (M40) with 40 features: ['PageValues', 'VisitorType_New_Visitor', 'Region_9', 'Browser_7', 'Browser_3', 'TrafficType_11', 'Month_Feb', 'Browser_2', 'TrafficType_6', 'OperatingSystems_8', 'Region_8', 'Region_7', 'OperatingSystems_6', 'Browser_8', 'Region_5', 'Month_Aug', 'Region_2', 'TrafficType_7', 'TrafficType_15', 'TrafficType_19', 'TrafficType_9', 'TrafficType_5', 'Region_3', 'VisitorType_Other', 'TrafficType_10', 'Browser_13', 'Month_Jul', 'VisitorType_Returning_Visitor', 'Month_June', 'Browser_6', 'Region_6', 'OperatingSystems_4', 'Browser_4', 'Browser_5', 'Month_Oct', 'Browser_10', 'Browser_1', 'OperatingSystems_1', 'TrafficType_20', 'Region_4']\n",
      "M40 subset score (3.): 0.8824608188502185\n"
     ]
    },
    {
     "name": "stdout",
     "output_type": "stream",
     "text": [
      "............\n",
      "Best model (M41) with 41 features: ['PageValues', 'VisitorType_New_Visitor', 'Region_9', 'Browser_7', 'Browser_3', 'TrafficType_11', 'Month_Feb', 'Browser_2', 'TrafficType_6', 'OperatingSystems_8', 'Region_8', 'Region_7', 'OperatingSystems_6', 'Browser_8', 'Region_5', 'Month_Aug', 'Region_2', 'TrafficType_7', 'TrafficType_15', 'TrafficType_19', 'TrafficType_9', 'TrafficType_5', 'Region_3', 'VisitorType_Other', 'TrafficType_10', 'Browser_13', 'Month_Jul', 'VisitorType_Returning_Visitor', 'Month_June', 'Browser_6', 'Region_6', 'OperatingSystems_4', 'Browser_4', 'Browser_5', 'Month_Oct', 'Browser_10', 'Browser_1', 'OperatingSystems_1', 'TrafficType_20', 'Region_4', 'Region_1']\n",
      "M41 subset score (3.): 0.8823526522736908\n",
      "............\n",
      "Best model (M42) with 42 features: ['PageValues', 'VisitorType_New_Visitor', 'Region_9', 'Browser_7', 'Browser_3', 'TrafficType_11', 'Month_Feb', 'Browser_2', 'TrafficType_6', 'OperatingSystems_8', 'Region_8', 'Region_7', 'OperatingSystems_6', 'Browser_8', 'Region_5', 'Month_Aug', 'Region_2', 'TrafficType_7', 'TrafficType_15', 'TrafficType_19', 'TrafficType_9', 'TrafficType_5', 'Region_3', 'VisitorType_Other', 'TrafficType_10', 'Browser_13', 'Month_Jul', 'VisitorType_Returning_Visitor', 'Month_June', 'Browser_6', 'Region_6', 'OperatingSystems_4', 'Browser_4', 'Browser_5', 'Month_Oct', 'Browser_10', 'Browser_1', 'OperatingSystems_1', 'TrafficType_20', 'Region_4', 'Region_1', 'TrafficType_8']\n",
      "M42 subset score (3.): 0.8824607603817988\n",
      "............\n",
      "Best model (M43) with 43 features: ['PageValues', 'VisitorType_New_Visitor', 'Region_9', 'Browser_7', 'Browser_3', 'TrafficType_11', 'Month_Feb', 'Browser_2', 'TrafficType_6', 'OperatingSystems_8', 'Region_8', 'Region_7', 'OperatingSystems_6', 'Browser_8', 'Region_5', 'Month_Aug', 'Region_2', 'TrafficType_7', 'TrafficType_15', 'TrafficType_19', 'TrafficType_9', 'TrafficType_5', 'Region_3', 'VisitorType_Other', 'TrafficType_10', 'Browser_13', 'Month_Jul', 'VisitorType_Returning_Visitor', 'Month_June', 'Browser_6', 'Region_6', 'OperatingSystems_4', 'Browser_4', 'Browser_5', 'Month_Oct', 'Browser_10', 'Browser_1', 'OperatingSystems_1', 'TrafficType_20', 'Region_4', 'Region_1', 'TrafficType_8', 'TrafficType_4']\n",
      "M43 subset score (3.): 0.8818119947963107\n",
      "............\n",
      "Best model (M44) with 44 features: ['PageValues', 'VisitorType_New_Visitor', 'Region_9', 'Browser_7', 'Browser_3', 'TrafficType_11', 'Month_Feb', 'Browser_2', 'TrafficType_6', 'OperatingSystems_8', 'Region_8', 'Region_7', 'OperatingSystems_6', 'Browser_8', 'Region_5', 'Month_Aug', 'Region_2', 'TrafficType_7', 'TrafficType_15', 'TrafficType_19', 'TrafficType_9', 'TrafficType_5', 'Region_3', 'VisitorType_Other', 'TrafficType_10', 'Browser_13', 'Month_Jul', 'VisitorType_Returning_Visitor', 'Month_June', 'Browser_6', 'Region_6', 'OperatingSystems_4', 'Browser_4', 'Browser_5', 'Month_Oct', 'Browser_10', 'Browser_1', 'OperatingSystems_1', 'TrafficType_20', 'Region_4', 'Region_1', 'TrafficType_8', 'TrafficType_4', 'TrafficType_3']\n",
      "M44 subset score (3.): 0.8819200444359991\n",
      "............\n",
      "Best model (M45) with 45 features: ['PageValues', 'VisitorType_New_Visitor', 'Region_9', 'Browser_7', 'Browser_3', 'TrafficType_11', 'Month_Feb', 'Browser_2', 'TrafficType_6', 'OperatingSystems_8', 'Region_8', 'Region_7', 'OperatingSystems_6', 'Browser_8', 'Region_5', 'Month_Aug', 'Region_2', 'TrafficType_7', 'TrafficType_15', 'TrafficType_19', 'TrafficType_9', 'TrafficType_5', 'Region_3', 'VisitorType_Other', 'TrafficType_10', 'Browser_13', 'Month_Jul', 'VisitorType_Returning_Visitor', 'Month_June', 'Browser_6', 'Region_6', 'OperatingSystems_4', 'Browser_4', 'Browser_5', 'Month_Oct', 'Browser_10', 'Browser_1', 'OperatingSystems_1', 'TrafficType_20', 'Region_4', 'Region_1', 'TrafficType_8', 'TrafficType_4', 'TrafficType_3', 'OperatingSystems_3']\n",
      "M45 subset score (3.): 0.8819203367780977\n",
      "............\n",
      "Best model (M46) with 46 features: ['PageValues', 'VisitorType_New_Visitor', 'Region_9', 'Browser_7', 'Browser_3', 'TrafficType_11', 'Month_Feb', 'Browser_2', 'TrafficType_6', 'OperatingSystems_8', 'Region_8', 'Region_7', 'OperatingSystems_6', 'Browser_8', 'Region_5', 'Month_Aug', 'Region_2', 'TrafficType_7', 'TrafficType_15', 'TrafficType_19', 'TrafficType_9', 'TrafficType_5', 'Region_3', 'VisitorType_Other', 'TrafficType_10', 'Browser_13', 'Month_Jul', 'VisitorType_Returning_Visitor', 'Month_June', 'Browser_6', 'Region_6', 'OperatingSystems_4', 'Browser_4', 'Browser_5', 'Month_Oct', 'Browser_10', 'Browser_1', 'OperatingSystems_1', 'TrafficType_20', 'Region_4', 'Region_1', 'TrafficType_8', 'TrafficType_4', 'TrafficType_3', 'OperatingSystems_3', 'BounceRates']\n",
      "M46 subset score (3.): 0.8823525353368511\n",
      "............\n",
      "Best model (M47) with 47 features: ['PageValues', 'VisitorType_New_Visitor', 'Region_9', 'Browser_7', 'Browser_3', 'TrafficType_11', 'Month_Feb', 'Browser_2', 'TrafficType_6', 'OperatingSystems_8', 'Region_8', 'Region_7', 'OperatingSystems_6', 'Browser_8', 'Region_5', 'Month_Aug', 'Region_2', 'TrafficType_7', 'TrafficType_15', 'TrafficType_19', 'TrafficType_9', 'TrafficType_5', 'Region_3', 'VisitorType_Other', 'TrafficType_10', 'Browser_13', 'Month_Jul', 'VisitorType_Returning_Visitor', 'Month_June', 'Browser_6', 'Region_6', 'OperatingSystems_4', 'Browser_4', 'Browser_5', 'Month_Oct', 'Browser_10', 'Browser_1', 'OperatingSystems_1', 'TrafficType_20', 'Region_4', 'Region_1', 'TrafficType_8', 'TrafficType_4', 'TrafficType_3', 'OperatingSystems_3', 'BounceRates', 'TrafficType_2']\n",
      "M47 subset score (3.): 0.8827850847061232\n",
      "............\n",
      "Best model (M48) with 48 features: ['PageValues', 'VisitorType_New_Visitor', 'Region_9', 'Browser_7', 'Browser_3', 'TrafficType_11', 'Month_Feb', 'Browser_2', 'TrafficType_6', 'OperatingSystems_8', 'Region_8', 'Region_7', 'OperatingSystems_6', 'Browser_8', 'Region_5', 'Month_Aug', 'Region_2', 'TrafficType_7', 'TrafficType_15', 'TrafficType_19', 'TrafficType_9', 'TrafficType_5', 'Region_3', 'VisitorType_Other', 'TrafficType_10', 'Browser_13', 'Month_Jul', 'VisitorType_Returning_Visitor', 'Month_June', 'Browser_6', 'Region_6', 'OperatingSystems_4', 'Browser_4', 'Browser_5', 'Month_Oct', 'Browser_10', 'Browser_1', 'OperatingSystems_1', 'TrafficType_20', 'Region_4', 'Region_1', 'TrafficType_8', 'TrafficType_4', 'TrafficType_3', 'OperatingSystems_3', 'BounceRates', 'TrafficType_2', 'Weekend_False']\n",
      "M48 subset score (3.): 0.8822446611024221\n",
      "............\n",
      "Best model (M49) with 49 features: ['PageValues', 'VisitorType_New_Visitor', 'Region_9', 'Browser_7', 'Browser_3', 'TrafficType_11', 'Month_Feb', 'Browser_2', 'TrafficType_6', 'OperatingSystems_8', 'Region_8', 'Region_7', 'OperatingSystems_6', 'Browser_8', 'Region_5', 'Month_Aug', 'Region_2', 'TrafficType_7', 'TrafficType_15', 'TrafficType_19', 'TrafficType_9', 'TrafficType_5', 'Region_3', 'VisitorType_Other', 'TrafficType_10', 'Browser_13', 'Month_Jul', 'VisitorType_Returning_Visitor', 'Month_June', 'Browser_6', 'Region_6', 'OperatingSystems_4', 'Browser_4', 'Browser_5', 'Month_Oct', 'Browser_10', 'Browser_1', 'OperatingSystems_1', 'TrafficType_20', 'Region_4', 'Region_1', 'TrafficType_8', 'TrafficType_4', 'TrafficType_3', 'OperatingSystems_3', 'BounceRates', 'TrafficType_2', 'Weekend_False', 'Weekend_True']\n",
      "M49 subset score (3.): 0.8822446611024221\n"
     ]
    },
    {
     "name": "stderr",
     "output_type": "stream",
     "text": [
      "C:\\Users\\sarar\\anaconda3\\lib\\site-packages\\sklearn\\linear_model\\_sag.py:352: ConvergenceWarning: The max_iter was reached which means the coef_ did not converge\n",
      "  warnings.warn(\n"
     ]
    },
    {
     "name": "stdout",
     "output_type": "stream",
     "text": [
      "............\n",
      "Best model (M50) with 50 features: ['PageValues', 'VisitorType_New_Visitor', 'Region_9', 'Browser_7', 'Browser_3', 'TrafficType_11', 'Month_Feb', 'Browser_2', 'TrafficType_6', 'OperatingSystems_8', 'Region_8', 'Region_7', 'OperatingSystems_6', 'Browser_8', 'Region_5', 'Month_Aug', 'Region_2', 'TrafficType_7', 'TrafficType_15', 'TrafficType_19', 'TrafficType_9', 'TrafficType_5', 'Region_3', 'VisitorType_Other', 'TrafficType_10', 'Browser_13', 'Month_Jul', 'VisitorType_Returning_Visitor', 'Month_June', 'Browser_6', 'Region_6', 'OperatingSystems_4', 'Browser_4', 'Browser_5', 'Month_Oct', 'Browser_10', 'Browser_1', 'OperatingSystems_1', 'TrafficType_20', 'Region_4', 'Region_1', 'TrafficType_8', 'TrafficType_4', 'TrafficType_3', 'OperatingSystems_3', 'BounceRates', 'TrafficType_2', 'Weekend_False', 'Weekend_True', 'OperatingSystems_2']\n",
      "M50 subset score (3.): 0.8821364945258943\n"
     ]
    },
    {
     "name": "stderr",
     "output_type": "stream",
     "text": [
      "C:\\Users\\sarar\\anaconda3\\lib\\site-packages\\sklearn\\linear_model\\_sag.py:352: ConvergenceWarning: The max_iter was reached which means the coef_ did not converge\n",
      "  warnings.warn(\n",
      "C:\\Users\\sarar\\anaconda3\\lib\\site-packages\\sklearn\\linear_model\\_sag.py:352: ConvergenceWarning: The max_iter was reached which means the coef_ did not converge\n",
      "  warnings.warn(\n",
      "C:\\Users\\sarar\\anaconda3\\lib\\site-packages\\sklearn\\linear_model\\_sag.py:352: ConvergenceWarning: The max_iter was reached which means the coef_ did not converge\n",
      "  warnings.warn(\n",
      "C:\\Users\\sarar\\anaconda3\\lib\\site-packages\\sklearn\\linear_model\\_sag.py:352: ConvergenceWarning: The max_iter was reached which means the coef_ did not converge\n",
      "  warnings.warn(\n",
      "C:\\Users\\sarar\\anaconda3\\lib\\site-packages\\sklearn\\linear_model\\_sag.py:352: ConvergenceWarning: The max_iter was reached which means the coef_ did not converge\n",
      "  warnings.warn(\n"
     ]
    },
    {
     "name": "stdout",
     "output_type": "stream",
     "text": [
      "............\n",
      "Best model (M51) with 51 features: ['PageValues', 'VisitorType_New_Visitor', 'Region_9', 'Browser_7', 'Browser_3', 'TrafficType_11', 'Month_Feb', 'Browser_2', 'TrafficType_6', 'OperatingSystems_8', 'Region_8', 'Region_7', 'OperatingSystems_6', 'Browser_8', 'Region_5', 'Month_Aug', 'Region_2', 'TrafficType_7', 'TrafficType_15', 'TrafficType_19', 'TrafficType_9', 'TrafficType_5', 'Region_3', 'VisitorType_Other', 'TrafficType_10', 'Browser_13', 'Month_Jul', 'VisitorType_Returning_Visitor', 'Month_June', 'Browser_6', 'Region_6', 'OperatingSystems_4', 'Browser_4', 'Browser_5', 'Month_Oct', 'Browser_10', 'Browser_1', 'OperatingSystems_1', 'TrafficType_20', 'Region_4', 'Region_1', 'TrafficType_8', 'TrafficType_4', 'TrafficType_3', 'OperatingSystems_3', 'BounceRates', 'TrafficType_2', 'Weekend_False', 'Weekend_True', 'OperatingSystems_2', 'TrafficType_1']\n",
      "M51 subset score (3.): 0.8821364945258943\n"
     ]
    },
    {
     "name": "stderr",
     "output_type": "stream",
     "text": [
      "C:\\Users\\sarar\\anaconda3\\lib\\site-packages\\sklearn\\linear_model\\_sag.py:352: ConvergenceWarning: The max_iter was reached which means the coef_ did not converge\n",
      "  warnings.warn(\n",
      "C:\\Users\\sarar\\anaconda3\\lib\\site-packages\\sklearn\\linear_model\\_sag.py:352: ConvergenceWarning: The max_iter was reached which means the coef_ did not converge\n",
      "  warnings.warn(\n",
      "C:\\Users\\sarar\\anaconda3\\lib\\site-packages\\sklearn\\linear_model\\_sag.py:352: ConvergenceWarning: The max_iter was reached which means the coef_ did not converge\n",
      "  warnings.warn(\n",
      "C:\\Users\\sarar\\anaconda3\\lib\\site-packages\\sklearn\\linear_model\\_sag.py:352: ConvergenceWarning: The max_iter was reached which means the coef_ did not converge\n",
      "  warnings.warn(\n",
      "C:\\Users\\sarar\\anaconda3\\lib\\site-packages\\sklearn\\linear_model\\_sag.py:352: ConvergenceWarning: The max_iter was reached which means the coef_ did not converge\n",
      "  warnings.warn(\n",
      "C:\\Users\\sarar\\anaconda3\\lib\\site-packages\\sklearn\\linear_model\\_sag.py:352: ConvergenceWarning: The max_iter was reached which means the coef_ did not converge\n",
      "  warnings.warn(\n",
      "C:\\Users\\sarar\\anaconda3\\lib\\site-packages\\sklearn\\linear_model\\_sag.py:352: ConvergenceWarning: The max_iter was reached which means the coef_ did not converge\n",
      "  warnings.warn(\n",
      "C:\\Users\\sarar\\anaconda3\\lib\\site-packages\\sklearn\\linear_model\\_sag.py:352: ConvergenceWarning: The max_iter was reached which means the coef_ did not converge\n",
      "  warnings.warn(\n",
      "C:\\Users\\sarar\\anaconda3\\lib\\site-packages\\sklearn\\linear_model\\_sag.py:352: ConvergenceWarning: The max_iter was reached which means the coef_ did not converge\n",
      "  warnings.warn(\n",
      "C:\\Users\\sarar\\anaconda3\\lib\\site-packages\\sklearn\\linear_model\\_sag.py:352: ConvergenceWarning: The max_iter was reached which means the coef_ did not converge\n",
      "  warnings.warn(\n"
     ]
    },
    {
     "name": "stdout",
     "output_type": "stream",
     "text": [
      "............\n",
      "Best model (M52) with 52 features: ['PageValues', 'VisitorType_New_Visitor', 'Region_9', 'Browser_7', 'Browser_3', 'TrafficType_11', 'Month_Feb', 'Browser_2', 'TrafficType_6', 'OperatingSystems_8', 'Region_8', 'Region_7', 'OperatingSystems_6', 'Browser_8', 'Region_5', 'Month_Aug', 'Region_2', 'TrafficType_7', 'TrafficType_15', 'TrafficType_19', 'TrafficType_9', 'TrafficType_5', 'Region_3', 'VisitorType_Other', 'TrafficType_10', 'Browser_13', 'Month_Jul', 'VisitorType_Returning_Visitor', 'Month_June', 'Browser_6', 'Region_6', 'OperatingSystems_4', 'Browser_4', 'Browser_5', 'Month_Oct', 'Browser_10', 'Browser_1', 'OperatingSystems_1', 'TrafficType_20', 'Region_4', 'Region_1', 'TrafficType_8', 'TrafficType_4', 'TrafficType_3', 'OperatingSystems_3', 'BounceRates', 'TrafficType_2', 'Weekend_False', 'Weekend_True', 'OperatingSystems_2', 'TrafficType_1', 'TrafficType_13']\n",
      "M52 subset score (3.): 0.8821364360574744\n"
     ]
    },
    {
     "name": "stderr",
     "output_type": "stream",
     "text": [
      "C:\\Users\\sarar\\anaconda3\\lib\\site-packages\\sklearn\\linear_model\\_sag.py:352: ConvergenceWarning: The max_iter was reached which means the coef_ did not converge\n",
      "  warnings.warn(\n"
     ]
    },
    {
     "name": "stdout",
     "output_type": "stream",
     "text": [
      "............\n",
      "Best model (M53) with 53 features: ['PageValues', 'VisitorType_New_Visitor', 'Region_9', 'Browser_7', 'Browser_3', 'TrafficType_11', 'Month_Feb', 'Browser_2', 'TrafficType_6', 'OperatingSystems_8', 'Region_8', 'Region_7', 'OperatingSystems_6', 'Browser_8', 'Region_5', 'Month_Aug', 'Region_2', 'TrafficType_7', 'TrafficType_15', 'TrafficType_19', 'TrafficType_9', 'TrafficType_5', 'Region_3', 'VisitorType_Other', 'TrafficType_10', 'Browser_13', 'Month_Jul', 'VisitorType_Returning_Visitor', 'Month_June', 'Browser_6', 'Region_6', 'OperatingSystems_4', 'Browser_4', 'Browser_5', 'Month_Oct', 'Browser_10', 'Browser_1', 'OperatingSystems_1', 'TrafficType_20', 'Region_4', 'Region_1', 'TrafficType_8', 'TrafficType_4', 'TrafficType_3', 'OperatingSystems_3', 'BounceRates', 'TrafficType_2', 'Weekend_False', 'Weekend_True', 'OperatingSystems_2', 'TrafficType_1', 'TrafficType_13', 'Month_Dec']\n",
      "M53 subset score (3.): 0.8827851431745429\n"
     ]
    },
    {
     "name": "stderr",
     "output_type": "stream",
     "text": [
      "C:\\Users\\sarar\\anaconda3\\lib\\site-packages\\sklearn\\linear_model\\_sag.py:352: ConvergenceWarning: The max_iter was reached which means the coef_ did not converge\n",
      "  warnings.warn(\n"
     ]
    },
    {
     "name": "stdout",
     "output_type": "stream",
     "text": [
      "............\n",
      "Best model (M54) with 54 features: ['PageValues', 'VisitorType_New_Visitor', 'Region_9', 'Browser_7', 'Browser_3', 'TrafficType_11', 'Month_Feb', 'Browser_2', 'TrafficType_6', 'OperatingSystems_8', 'Region_8', 'Region_7', 'OperatingSystems_6', 'Browser_8', 'Region_5', 'Month_Aug', 'Region_2', 'TrafficType_7', 'TrafficType_15', 'TrafficType_19', 'TrafficType_9', 'TrafficType_5', 'Region_3', 'VisitorType_Other', 'TrafficType_10', 'Browser_13', 'Month_Jul', 'VisitorType_Returning_Visitor', 'Month_June', 'Browser_6', 'Region_6', 'OperatingSystems_4', 'Browser_4', 'Browser_5', 'Month_Oct', 'Browser_10', 'Browser_1', 'OperatingSystems_1', 'TrafficType_20', 'Region_4', 'Region_1', 'TrafficType_8', 'TrafficType_4', 'TrafficType_3', 'OperatingSystems_3', 'BounceRates', 'TrafficType_2', 'Weekend_False', 'Weekend_True', 'OperatingSystems_2', 'TrafficType_1', 'TrafficType_13', 'Month_Dec', 'Month_Sep']\n",
      "M54 subset score (3.): 0.8826769765980151\n"
     ]
    },
    {
     "name": "stderr",
     "output_type": "stream",
     "text": [
      "C:\\Users\\sarar\\anaconda3\\lib\\site-packages\\sklearn\\linear_model\\_sag.py:352: ConvergenceWarning: The max_iter was reached which means the coef_ did not converge\n",
      "  warnings.warn(\n"
     ]
    },
    {
     "name": "stdout",
     "output_type": "stream",
     "text": [
      "............\n",
      "Best model (M55) with 55 features: ['PageValues', 'VisitorType_New_Visitor', 'Region_9', 'Browser_7', 'Browser_3', 'TrafficType_11', 'Month_Feb', 'Browser_2', 'TrafficType_6', 'OperatingSystems_8', 'Region_8', 'Region_7', 'OperatingSystems_6', 'Browser_8', 'Region_5', 'Month_Aug', 'Region_2', 'TrafficType_7', 'TrafficType_15', 'TrafficType_19', 'TrafficType_9', 'TrafficType_5', 'Region_3', 'VisitorType_Other', 'TrafficType_10', 'Browser_13', 'Month_Jul', 'VisitorType_Returning_Visitor', 'Month_June', 'Browser_6', 'Region_6', 'OperatingSystems_4', 'Browser_4', 'Browser_5', 'Month_Oct', 'Browser_10', 'Browser_1', 'OperatingSystems_1', 'TrafficType_20', 'Region_4', 'Region_1', 'TrafficType_8', 'TrafficType_4', 'TrafficType_3', 'OperatingSystems_3', 'BounceRates', 'TrafficType_2', 'Weekend_False', 'Weekend_True', 'OperatingSystems_2', 'TrafficType_1', 'TrafficType_13', 'Month_Dec', 'Month_Sep', 'SpecialDay']\n",
      "M55 subset score (3.): 0.8828931928142312\n"
     ]
    },
    {
     "name": "stderr",
     "output_type": "stream",
     "text": [
      "C:\\Users\\sarar\\anaconda3\\lib\\site-packages\\sklearn\\linear_model\\_sag.py:352: ConvergenceWarning: The max_iter was reached which means the coef_ did not converge\n",
      "  warnings.warn(\n"
     ]
    },
    {
     "name": "stdout",
     "output_type": "stream",
     "text": [
      "............\n",
      "Best model (M56) with 56 features: ['PageValues', 'VisitorType_New_Visitor', 'Region_9', 'Browser_7', 'Browser_3', 'TrafficType_11', 'Month_Feb', 'Browser_2', 'TrafficType_6', 'OperatingSystems_8', 'Region_8', 'Region_7', 'OperatingSystems_6', 'Browser_8', 'Region_5', 'Month_Aug', 'Region_2', 'TrafficType_7', 'TrafficType_15', 'TrafficType_19', 'TrafficType_9', 'TrafficType_5', 'Region_3', 'VisitorType_Other', 'TrafficType_10', 'Browser_13', 'Month_Jul', 'VisitorType_Returning_Visitor', 'Month_June', 'Browser_6', 'Region_6', 'OperatingSystems_4', 'Browser_4', 'Browser_5', 'Month_Oct', 'Browser_10', 'Browser_1', 'OperatingSystems_1', 'TrafficType_20', 'Region_4', 'Region_1', 'TrafficType_8', 'TrafficType_4', 'TrafficType_3', 'OperatingSystems_3', 'BounceRates', 'TrafficType_2', 'Weekend_False', 'Weekend_True', 'OperatingSystems_2', 'TrafficType_1', 'TrafficType_13', 'Month_Dec', 'Month_Sep', 'SpecialDay', 'ProductRelated_Duration']\n",
      "M56 subset score (3.): 0.8818121702015699\n"
     ]
    },
    {
     "name": "stderr",
     "output_type": "stream",
     "text": [
      "C:\\Users\\sarar\\anaconda3\\lib\\site-packages\\sklearn\\linear_model\\_sag.py:352: ConvergenceWarning: The max_iter was reached which means the coef_ did not converge\n",
      "  warnings.warn(\n",
      "C:\\Users\\sarar\\anaconda3\\lib\\site-packages\\sklearn\\linear_model\\_sag.py:352: ConvergenceWarning: The max_iter was reached which means the coef_ did not converge\n",
      "  warnings.warn(\n",
      "C:\\Users\\sarar\\anaconda3\\lib\\site-packages\\sklearn\\linear_model\\_sag.py:352: ConvergenceWarning: The max_iter was reached which means the coef_ did not converge\n",
      "  warnings.warn(\n",
      "C:\\Users\\sarar\\anaconda3\\lib\\site-packages\\sklearn\\linear_model\\_sag.py:352: ConvergenceWarning: The max_iter was reached which means the coef_ did not converge\n",
      "  warnings.warn(\n"
     ]
    },
    {
     "name": "stdout",
     "output_type": "stream",
     "text": [
      "............\n",
      "Best model (M57) with 57 features: ['PageValues', 'VisitorType_New_Visitor', 'Region_9', 'Browser_7', 'Browser_3', 'TrafficType_11', 'Month_Feb', 'Browser_2', 'TrafficType_6', 'OperatingSystems_8', 'Region_8', 'Region_7', 'OperatingSystems_6', 'Browser_8', 'Region_5', 'Month_Aug', 'Region_2', 'TrafficType_7', 'TrafficType_15', 'TrafficType_19', 'TrafficType_9', 'TrafficType_5', 'Region_3', 'VisitorType_Other', 'TrafficType_10', 'Browser_13', 'Month_Jul', 'VisitorType_Returning_Visitor', 'Month_June', 'Browser_6', 'Region_6', 'OperatingSystems_4', 'Browser_4', 'Browser_5', 'Month_Oct', 'Browser_10', 'Browser_1', 'OperatingSystems_1', 'TrafficType_20', 'Region_4', 'Region_1', 'TrafficType_8', 'TrafficType_4', 'TrafficType_3', 'OperatingSystems_3', 'BounceRates', 'TrafficType_2', 'Weekend_False', 'Weekend_True', 'OperatingSystems_2', 'TrafficType_1', 'TrafficType_13', 'Month_Dec', 'Month_Sep', 'SpecialDay', 'ProductRelated_Duration', 'Informational_Duration']\n",
      "M57 subset score (3.): 0.8814877289404061\n"
     ]
    },
    {
     "name": "stderr",
     "output_type": "stream",
     "text": [
      "C:\\Users\\sarar\\anaconda3\\lib\\site-packages\\sklearn\\linear_model\\_sag.py:352: ConvergenceWarning: The max_iter was reached which means the coef_ did not converge\n",
      "  warnings.warn(\n",
      "C:\\Users\\sarar\\anaconda3\\lib\\site-packages\\sklearn\\linear_model\\_sag.py:352: ConvergenceWarning: The max_iter was reached which means the coef_ did not converge\n",
      "  warnings.warn(\n",
      "C:\\Users\\sarar\\anaconda3\\lib\\site-packages\\sklearn\\linear_model\\_sag.py:352: ConvergenceWarning: The max_iter was reached which means the coef_ did not converge\n",
      "  warnings.warn(\n",
      "C:\\Users\\sarar\\anaconda3\\lib\\site-packages\\sklearn\\linear_model\\_sag.py:352: ConvergenceWarning: The max_iter was reached which means the coef_ did not converge\n",
      "  warnings.warn(\n",
      "C:\\Users\\sarar\\anaconda3\\lib\\site-packages\\sklearn\\linear_model\\_sag.py:352: ConvergenceWarning: The max_iter was reached which means the coef_ did not converge\n",
      "  warnings.warn(\n",
      "C:\\Users\\sarar\\anaconda3\\lib\\site-packages\\sklearn\\linear_model\\_sag.py:352: ConvergenceWarning: The max_iter was reached which means the coef_ did not converge\n",
      "  warnings.warn(\n",
      "C:\\Users\\sarar\\anaconda3\\lib\\site-packages\\sklearn\\linear_model\\_sag.py:352: ConvergenceWarning: The max_iter was reached which means the coef_ did not converge\n",
      "  warnings.warn(\n",
      "C:\\Users\\sarar\\anaconda3\\lib\\site-packages\\sklearn\\linear_model\\_sag.py:352: ConvergenceWarning: The max_iter was reached which means the coef_ did not converge\n",
      "  warnings.warn(\n",
      "C:\\Users\\sarar\\anaconda3\\lib\\site-packages\\sklearn\\linear_model\\_sag.py:352: ConvergenceWarning: The max_iter was reached which means the coef_ did not converge\n",
      "  warnings.warn(\n",
      "C:\\Users\\sarar\\anaconda3\\lib\\site-packages\\sklearn\\linear_model\\_sag.py:352: ConvergenceWarning: The max_iter was reached which means the coef_ did not converge\n",
      "  warnings.warn(\n"
     ]
    },
    {
     "name": "stdout",
     "output_type": "stream",
     "text": [
      "............\n",
      "Best model (M58) with 58 features: ['PageValues', 'VisitorType_New_Visitor', 'Region_9', 'Browser_7', 'Browser_3', 'TrafficType_11', 'Month_Feb', 'Browser_2', 'TrafficType_6', 'OperatingSystems_8', 'Region_8', 'Region_7', 'OperatingSystems_6', 'Browser_8', 'Region_5', 'Month_Aug', 'Region_2', 'TrafficType_7', 'TrafficType_15', 'TrafficType_19', 'TrafficType_9', 'TrafficType_5', 'Region_3', 'VisitorType_Other', 'TrafficType_10', 'Browser_13', 'Month_Jul', 'VisitorType_Returning_Visitor', 'Month_June', 'Browser_6', 'Region_6', 'OperatingSystems_4', 'Browser_4', 'Browser_5', 'Month_Oct', 'Browser_10', 'Browser_1', 'OperatingSystems_1', 'TrafficType_20', 'Region_4', 'Region_1', 'TrafficType_8', 'TrafficType_4', 'TrafficType_3', 'OperatingSystems_3', 'BounceRates', 'TrafficType_2', 'Weekend_False', 'Weekend_True', 'OperatingSystems_2', 'TrafficType_1', 'TrafficType_13', 'Month_Dec', 'Month_Sep', 'SpecialDay', 'ProductRelated_Duration', 'Informational_Duration', 'Administrative_Duration']\n",
      "M58 subset score (3.): 0.8809470129946064\n"
     ]
    },
    {
     "name": "stderr",
     "output_type": "stream",
     "text": [
      "C:\\Users\\sarar\\anaconda3\\lib\\site-packages\\sklearn\\linear_model\\_sag.py:352: ConvergenceWarning: The max_iter was reached which means the coef_ did not converge\n",
      "  warnings.warn(\n",
      "C:\\Users\\sarar\\anaconda3\\lib\\site-packages\\sklearn\\linear_model\\_sag.py:352: ConvergenceWarning: The max_iter was reached which means the coef_ did not converge\n",
      "  warnings.warn(\n",
      "C:\\Users\\sarar\\anaconda3\\lib\\site-packages\\sklearn\\linear_model\\_sag.py:352: ConvergenceWarning: The max_iter was reached which means the coef_ did not converge\n",
      "  warnings.warn(\n",
      "C:\\Users\\sarar\\anaconda3\\lib\\site-packages\\sklearn\\linear_model\\_sag.py:352: ConvergenceWarning: The max_iter was reached which means the coef_ did not converge\n",
      "  warnings.warn(\n",
      "C:\\Users\\sarar\\anaconda3\\lib\\site-packages\\sklearn\\linear_model\\_sag.py:352: ConvergenceWarning: The max_iter was reached which means the coef_ did not converge\n",
      "  warnings.warn(\n",
      "C:\\Users\\sarar\\anaconda3\\lib\\site-packages\\sklearn\\linear_model\\_sag.py:352: ConvergenceWarning: The max_iter was reached which means the coef_ did not converge\n",
      "  warnings.warn(\n",
      "C:\\Users\\sarar\\anaconda3\\lib\\site-packages\\sklearn\\linear_model\\_sag.py:352: ConvergenceWarning: The max_iter was reached which means the coef_ did not converge\n",
      "  warnings.warn(\n",
      "C:\\Users\\sarar\\anaconda3\\lib\\site-packages\\sklearn\\linear_model\\_sag.py:352: ConvergenceWarning: The max_iter was reached which means the coef_ did not converge\n",
      "  warnings.warn(\n",
      "C:\\Users\\sarar\\anaconda3\\lib\\site-packages\\sklearn\\linear_model\\_sag.py:352: ConvergenceWarning: The max_iter was reached which means the coef_ did not converge\n",
      "  warnings.warn(\n",
      "C:\\Users\\sarar\\anaconda3\\lib\\site-packages\\sklearn\\linear_model\\_sag.py:352: ConvergenceWarning: The max_iter was reached which means the coef_ did not converge\n",
      "  warnings.warn(\n",
      "C:\\Users\\sarar\\anaconda3\\lib\\site-packages\\sklearn\\linear_model\\_sag.py:352: ConvergenceWarning: The max_iter was reached which means the coef_ did not converge\n",
      "  warnings.warn(\n"
     ]
    },
    {
     "name": "stdout",
     "output_type": "stream",
     "text": [
      "............\n",
      "Best model (M59) with 59 features: ['PageValues', 'VisitorType_New_Visitor', 'Region_9', 'Browser_7', 'Browser_3', 'TrafficType_11', 'Month_Feb', 'Browser_2', 'TrafficType_6', 'OperatingSystems_8', 'Region_8', 'Region_7', 'OperatingSystems_6', 'Browser_8', 'Region_5', 'Month_Aug', 'Region_2', 'TrafficType_7', 'TrafficType_15', 'TrafficType_19', 'TrafficType_9', 'TrafficType_5', 'Region_3', 'VisitorType_Other', 'TrafficType_10', 'Browser_13', 'Month_Jul', 'VisitorType_Returning_Visitor', 'Month_June', 'Browser_6', 'Region_6', 'OperatingSystems_4', 'Browser_4', 'Browser_5', 'Month_Oct', 'Browser_10', 'Browser_1', 'OperatingSystems_1', 'TrafficType_20', 'Region_4', 'Region_1', 'TrafficType_8', 'TrafficType_4', 'TrafficType_3', 'OperatingSystems_3', 'BounceRates', 'TrafficType_2', 'Weekend_False', 'Weekend_True', 'OperatingSystems_2', 'TrafficType_1', 'TrafficType_13', 'Month_Dec', 'Month_Sep', 'SpecialDay', 'ProductRelated_Duration', 'Informational_Duration', 'Administrative_Duration', 'Administrative']\n",
      "M59 subset score (3.): 0.8811631707424027\n"
     ]
    },
    {
     "name": "stderr",
     "output_type": "stream",
     "text": [
      "C:\\Users\\sarar\\anaconda3\\lib\\site-packages\\sklearn\\linear_model\\_sag.py:352: ConvergenceWarning: The max_iter was reached which means the coef_ did not converge\n",
      "  warnings.warn(\n",
      "C:\\Users\\sarar\\anaconda3\\lib\\site-packages\\sklearn\\linear_model\\_sag.py:352: ConvergenceWarning: The max_iter was reached which means the coef_ did not converge\n",
      "  warnings.warn(\n",
      "C:\\Users\\sarar\\anaconda3\\lib\\site-packages\\sklearn\\linear_model\\_sag.py:352: ConvergenceWarning: The max_iter was reached which means the coef_ did not converge\n",
      "  warnings.warn(\n",
      "C:\\Users\\sarar\\anaconda3\\lib\\site-packages\\sklearn\\linear_model\\_sag.py:352: ConvergenceWarning: The max_iter was reached which means the coef_ did not converge\n",
      "  warnings.warn(\n",
      "C:\\Users\\sarar\\anaconda3\\lib\\site-packages\\sklearn\\linear_model\\_sag.py:352: ConvergenceWarning: The max_iter was reached which means the coef_ did not converge\n",
      "  warnings.warn(\n",
      "C:\\Users\\sarar\\anaconda3\\lib\\site-packages\\sklearn\\linear_model\\_sag.py:352: ConvergenceWarning: The max_iter was reached which means the coef_ did not converge\n",
      "  warnings.warn(\n",
      "C:\\Users\\sarar\\anaconda3\\lib\\site-packages\\sklearn\\linear_model\\_sag.py:352: ConvergenceWarning: The max_iter was reached which means the coef_ did not converge\n",
      "  warnings.warn(\n",
      "C:\\Users\\sarar\\anaconda3\\lib\\site-packages\\sklearn\\linear_model\\_sag.py:352: ConvergenceWarning: The max_iter was reached which means the coef_ did not converge\n",
      "  warnings.warn(\n",
      "C:\\Users\\sarar\\anaconda3\\lib\\site-packages\\sklearn\\linear_model\\_sag.py:352: ConvergenceWarning: The max_iter was reached which means the coef_ did not converge\n",
      "  warnings.warn(\n",
      "C:\\Users\\sarar\\anaconda3\\lib\\site-packages\\sklearn\\linear_model\\_sag.py:352: ConvergenceWarning: The max_iter was reached which means the coef_ did not converge\n",
      "  warnings.warn(\n"
     ]
    },
    {
     "name": "stdout",
     "output_type": "stream",
     "text": [
      "............\n",
      "Best model (M60) with 60 features: ['PageValues', 'VisitorType_New_Visitor', 'Region_9', 'Browser_7', 'Browser_3', 'TrafficType_11', 'Month_Feb', 'Browser_2', 'TrafficType_6', 'OperatingSystems_8', 'Region_8', 'Region_7', 'OperatingSystems_6', 'Browser_8', 'Region_5', 'Month_Aug', 'Region_2', 'TrafficType_7', 'TrafficType_15', 'TrafficType_19', 'TrafficType_9', 'TrafficType_5', 'Region_3', 'VisitorType_Other', 'TrafficType_10', 'Browser_13', 'Month_Jul', 'VisitorType_Returning_Visitor', 'Month_June', 'Browser_6', 'Region_6', 'OperatingSystems_4', 'Browser_4', 'Browser_5', 'Month_Oct', 'Browser_10', 'Browser_1', 'OperatingSystems_1', 'TrafficType_20', 'Region_4', 'Region_1', 'TrafficType_8', 'TrafficType_4', 'TrafficType_3', 'OperatingSystems_3', 'BounceRates', 'TrafficType_2', 'Weekend_False', 'Weekend_True', 'OperatingSystems_2', 'TrafficType_1', 'TrafficType_13', 'Month_Dec', 'Month_Sep', 'SpecialDay', 'ProductRelated_Duration', 'Informational_Duration', 'Administrative_Duration', 'Administrative', 'Informational']\n",
      "M60 subset score (3.): 0.8810552380395539\n"
     ]
    },
    {
     "name": "stderr",
     "output_type": "stream",
     "text": [
      "C:\\Users\\sarar\\anaconda3\\lib\\site-packages\\sklearn\\linear_model\\_sag.py:352: ConvergenceWarning: The max_iter was reached which means the coef_ did not converge\n",
      "  warnings.warn(\n",
      "C:\\Users\\sarar\\anaconda3\\lib\\site-packages\\sklearn\\linear_model\\_sag.py:352: ConvergenceWarning: The max_iter was reached which means the coef_ did not converge\n",
      "  warnings.warn(\n",
      "C:\\Users\\sarar\\anaconda3\\lib\\site-packages\\sklearn\\linear_model\\_sag.py:352: ConvergenceWarning: The max_iter was reached which means the coef_ did not converge\n",
      "  warnings.warn(\n",
      "C:\\Users\\sarar\\anaconda3\\lib\\site-packages\\sklearn\\linear_model\\_sag.py:352: ConvergenceWarning: The max_iter was reached which means the coef_ did not converge\n",
      "  warnings.warn(\n",
      "C:\\Users\\sarar\\anaconda3\\lib\\site-packages\\sklearn\\linear_model\\_sag.py:352: ConvergenceWarning: The max_iter was reached which means the coef_ did not converge\n",
      "  warnings.warn(\n",
      "C:\\Users\\sarar\\anaconda3\\lib\\site-packages\\sklearn\\linear_model\\_sag.py:352: ConvergenceWarning: The max_iter was reached which means the coef_ did not converge\n",
      "  warnings.warn(\n",
      "C:\\Users\\sarar\\anaconda3\\lib\\site-packages\\sklearn\\linear_model\\_sag.py:352: ConvergenceWarning: The max_iter was reached which means the coef_ did not converge\n",
      "  warnings.warn(\n",
      "C:\\Users\\sarar\\anaconda3\\lib\\site-packages\\sklearn\\linear_model\\_sag.py:352: ConvergenceWarning: The max_iter was reached which means the coef_ did not converge\n",
      "  warnings.warn(\n"
     ]
    },
    {
     "name": "stdout",
     "output_type": "stream",
     "text": [
      "............\n",
      "Best model (M61) with 61 features: ['PageValues', 'VisitorType_New_Visitor', 'Region_9', 'Browser_7', 'Browser_3', 'TrafficType_11', 'Month_Feb', 'Browser_2', 'TrafficType_6', 'OperatingSystems_8', 'Region_8', 'Region_7', 'OperatingSystems_6', 'Browser_8', 'Region_5', 'Month_Aug', 'Region_2', 'TrafficType_7', 'TrafficType_15', 'TrafficType_19', 'TrafficType_9', 'TrafficType_5', 'Region_3', 'VisitorType_Other', 'TrafficType_10', 'Browser_13', 'Month_Jul', 'VisitorType_Returning_Visitor', 'Month_June', 'Browser_6', 'Region_6', 'OperatingSystems_4', 'Browser_4', 'Browser_5', 'Month_Oct', 'Browser_10', 'Browser_1', 'OperatingSystems_1', 'TrafficType_20', 'Region_4', 'Region_1', 'TrafficType_8', 'TrafficType_4', 'TrafficType_3', 'OperatingSystems_3', 'BounceRates', 'TrafficType_2', 'Weekend_False', 'Weekend_True', 'OperatingSystems_2', 'TrafficType_1', 'TrafficType_13', 'Month_Dec', 'Month_Sep', 'SpecialDay', 'ProductRelated_Duration', 'Informational_Duration', 'Administrative_Duration', 'Administrative', 'Informational', 'Month_May']\n",
      "M61 subset score (3.): 0.880081797319223\n"
     ]
    },
    {
     "name": "stderr",
     "output_type": "stream",
     "text": [
      "C:\\Users\\sarar\\anaconda3\\lib\\site-packages\\sklearn\\linear_model\\_sag.py:352: ConvergenceWarning: The max_iter was reached which means the coef_ did not converge\n",
      "  warnings.warn(\n",
      "C:\\Users\\sarar\\anaconda3\\lib\\site-packages\\sklearn\\linear_model\\_sag.py:352: ConvergenceWarning: The max_iter was reached which means the coef_ did not converge\n",
      "  warnings.warn(\n",
      "C:\\Users\\sarar\\anaconda3\\lib\\site-packages\\sklearn\\linear_model\\_sag.py:352: ConvergenceWarning: The max_iter was reached which means the coef_ did not converge\n",
      "  warnings.warn(\n",
      "C:\\Users\\sarar\\anaconda3\\lib\\site-packages\\sklearn\\linear_model\\_sag.py:352: ConvergenceWarning: The max_iter was reached which means the coef_ did not converge\n",
      "  warnings.warn(\n",
      "C:\\Users\\sarar\\anaconda3\\lib\\site-packages\\sklearn\\linear_model\\_sag.py:352: ConvergenceWarning: The max_iter was reached which means the coef_ did not converge\n",
      "  warnings.warn(\n",
      "C:\\Users\\sarar\\anaconda3\\lib\\site-packages\\sklearn\\linear_model\\_sag.py:352: ConvergenceWarning: The max_iter was reached which means the coef_ did not converge\n",
      "  warnings.warn(\n"
     ]
    },
    {
     "name": "stdout",
     "output_type": "stream",
     "text": [
      "............\n",
      "Best model (M62) with 62 features: ['PageValues', 'VisitorType_New_Visitor', 'Region_9', 'Browser_7', 'Browser_3', 'TrafficType_11', 'Month_Feb', 'Browser_2', 'TrafficType_6', 'OperatingSystems_8', 'Region_8', 'Region_7', 'OperatingSystems_6', 'Browser_8', 'Region_5', 'Month_Aug', 'Region_2', 'TrafficType_7', 'TrafficType_15', 'TrafficType_19', 'TrafficType_9', 'TrafficType_5', 'Region_3', 'VisitorType_Other', 'TrafficType_10', 'Browser_13', 'Month_Jul', 'VisitorType_Returning_Visitor', 'Month_June', 'Browser_6', 'Region_6', 'OperatingSystems_4', 'Browser_4', 'Browser_5', 'Month_Oct', 'Browser_10', 'Browser_1', 'OperatingSystems_1', 'TrafficType_20', 'Region_4', 'Region_1', 'TrafficType_8', 'TrafficType_4', 'TrafficType_3', 'OperatingSystems_3', 'BounceRates', 'TrafficType_2', 'Weekend_False', 'Weekend_True', 'OperatingSystems_2', 'TrafficType_1', 'TrafficType_13', 'Month_Dec', 'Month_Sep', 'SpecialDay', 'ProductRelated_Duration', 'Informational_Duration', 'Administrative_Duration', 'Administrative', 'Informational', 'Month_May', 'ProductRelated']\n",
      "M62 subset score (3.): 0.8805144051569146\n"
     ]
    },
    {
     "name": "stderr",
     "output_type": "stream",
     "text": [
      "C:\\Users\\sarar\\anaconda3\\lib\\site-packages\\sklearn\\linear_model\\_sag.py:352: ConvergenceWarning: The max_iter was reached which means the coef_ did not converge\n",
      "  warnings.warn(\n",
      "C:\\Users\\sarar\\anaconda3\\lib\\site-packages\\sklearn\\linear_model\\_sag.py:352: ConvergenceWarning: The max_iter was reached which means the coef_ did not converge\n",
      "  warnings.warn(\n",
      "C:\\Users\\sarar\\anaconda3\\lib\\site-packages\\sklearn\\linear_model\\_sag.py:352: ConvergenceWarning: The max_iter was reached which means the coef_ did not converge\n",
      "  warnings.warn(\n",
      "C:\\Users\\sarar\\anaconda3\\lib\\site-packages\\sklearn\\linear_model\\_sag.py:352: ConvergenceWarning: The max_iter was reached which means the coef_ did not converge\n",
      "  warnings.warn(\n",
      "C:\\Users\\sarar\\anaconda3\\lib\\site-packages\\sklearn\\linear_model\\_sag.py:352: ConvergenceWarning: The max_iter was reached which means the coef_ did not converge\n",
      "  warnings.warn(\n"
     ]
    },
    {
     "name": "stdout",
     "output_type": "stream",
     "text": [
      "............\n",
      "Best model (M63) with 63 features: ['PageValues', 'VisitorType_New_Visitor', 'Region_9', 'Browser_7', 'Browser_3', 'TrafficType_11', 'Month_Feb', 'Browser_2', 'TrafficType_6', 'OperatingSystems_8', 'Region_8', 'Region_7', 'OperatingSystems_6', 'Browser_8', 'Region_5', 'Month_Aug', 'Region_2', 'TrafficType_7', 'TrafficType_15', 'TrafficType_19', 'TrafficType_9', 'TrafficType_5', 'Region_3', 'VisitorType_Other', 'TrafficType_10', 'Browser_13', 'Month_Jul', 'VisitorType_Returning_Visitor', 'Month_June', 'Browser_6', 'Region_6', 'OperatingSystems_4', 'Browser_4', 'Browser_5', 'Month_Oct', 'Browser_10', 'Browser_1', 'OperatingSystems_1', 'TrafficType_20', 'Region_4', 'Region_1', 'TrafficType_8', 'TrafficType_4', 'TrafficType_3', 'OperatingSystems_3', 'BounceRates', 'TrafficType_2', 'Weekend_False', 'Weekend_True', 'OperatingSystems_2', 'TrafficType_1', 'TrafficType_13', 'Month_Dec', 'Month_Sep', 'SpecialDay', 'ProductRelated_Duration', 'Informational_Duration', 'Administrative_Duration', 'Administrative', 'Informational', 'Month_May', 'ProductRelated', 'ExitRates']\n",
      "M63 subset score (3.): 0.8799739230847938\n"
     ]
    },
    {
     "name": "stderr",
     "output_type": "stream",
     "text": [
      "C:\\Users\\sarar\\anaconda3\\lib\\site-packages\\sklearn\\linear_model\\_sag.py:352: ConvergenceWarning: The max_iter was reached which means the coef_ did not converge\n",
      "  warnings.warn(\n",
      "C:\\Users\\sarar\\anaconda3\\lib\\site-packages\\sklearn\\linear_model\\_sag.py:352: ConvergenceWarning: The max_iter was reached which means the coef_ did not converge\n",
      "  warnings.warn(\n"
     ]
    },
    {
     "name": "stdout",
     "output_type": "stream",
     "text": [
      "............\n",
      "Best model (M64) with 64 features: ['PageValues', 'VisitorType_New_Visitor', 'Region_9', 'Browser_7', 'Browser_3', 'TrafficType_11', 'Month_Feb', 'Browser_2', 'TrafficType_6', 'OperatingSystems_8', 'Region_8', 'Region_7', 'OperatingSystems_6', 'Browser_8', 'Region_5', 'Month_Aug', 'Region_2', 'TrafficType_7', 'TrafficType_15', 'TrafficType_19', 'TrafficType_9', 'TrafficType_5', 'Region_3', 'VisitorType_Other', 'TrafficType_10', 'Browser_13', 'Month_Jul', 'VisitorType_Returning_Visitor', 'Month_June', 'Browser_6', 'Region_6', 'OperatingSystems_4', 'Browser_4', 'Browser_5', 'Month_Oct', 'Browser_10', 'Browser_1', 'OperatingSystems_1', 'TrafficType_20', 'Region_4', 'Region_1', 'TrafficType_8', 'TrafficType_4', 'TrafficType_3', 'OperatingSystems_3', 'BounceRates', 'TrafficType_2', 'Weekend_False', 'Weekend_True', 'OperatingSystems_2', 'TrafficType_1', 'TrafficType_13', 'Month_Dec', 'Month_Sep', 'SpecialDay', 'ProductRelated_Duration', 'Informational_Duration', 'Administrative_Duration', 'Administrative', 'Informational', 'Month_May', 'ProductRelated', 'ExitRates', 'Month_Mar']\n",
      "M64 subset score (3.): 0.8810550041658749\n"
     ]
    },
    {
     "name": "stderr",
     "output_type": "stream",
     "text": [
      "C:\\Users\\sarar\\anaconda3\\lib\\site-packages\\sklearn\\linear_model\\_sag.py:352: ConvergenceWarning: The max_iter was reached which means the coef_ did not converge\n",
      "  warnings.warn(\n",
      "C:\\Users\\sarar\\anaconda3\\lib\\site-packages\\sklearn\\linear_model\\_sag.py:352: ConvergenceWarning: The max_iter was reached which means the coef_ did not converge\n",
      "  warnings.warn(\n",
      "C:\\Users\\sarar\\anaconda3\\lib\\site-packages\\sklearn\\linear_model\\_sag.py:352: ConvergenceWarning: The max_iter was reached which means the coef_ did not converge\n",
      "  warnings.warn(\n",
      "C:\\Users\\sarar\\anaconda3\\lib\\site-packages\\sklearn\\linear_model\\_sag.py:352: ConvergenceWarning: The max_iter was reached which means the coef_ did not converge\n",
      "  warnings.warn(\n",
      "C:\\Users\\sarar\\anaconda3\\lib\\site-packages\\sklearn\\linear_model\\_sag.py:352: ConvergenceWarning: The max_iter was reached which means the coef_ did not converge\n",
      "  warnings.warn(\n"
     ]
    },
    {
     "name": "stdout",
     "output_type": "stream",
     "text": [
      "............\n",
      "Best model (M65) with 65 features: ['PageValues', 'VisitorType_New_Visitor', 'Region_9', 'Browser_7', 'Browser_3', 'TrafficType_11', 'Month_Feb', 'Browser_2', 'TrafficType_6', 'OperatingSystems_8', 'Region_8', 'Region_7', 'OperatingSystems_6', 'Browser_8', 'Region_5', 'Month_Aug', 'Region_2', 'TrafficType_7', 'TrafficType_15', 'TrafficType_19', 'TrafficType_9', 'TrafficType_5', 'Region_3', 'VisitorType_Other', 'TrafficType_10', 'Browser_13', 'Month_Jul', 'VisitorType_Returning_Visitor', 'Month_June', 'Browser_6', 'Region_6', 'OperatingSystems_4', 'Browser_4', 'Browser_5', 'Month_Oct', 'Browser_10', 'Browser_1', 'OperatingSystems_1', 'TrafficType_20', 'Region_4', 'Region_1', 'TrafficType_8', 'TrafficType_4', 'TrafficType_3', 'OperatingSystems_3', 'BounceRates', 'TrafficType_2', 'Weekend_False', 'Weekend_True', 'OperatingSystems_2', 'TrafficType_1', 'TrafficType_13', 'Month_Dec', 'Month_Sep', 'SpecialDay', 'ProductRelated_Duration', 'Informational_Duration', 'Administrative_Duration', 'Administrative', 'Informational', 'Month_May', 'ProductRelated', 'ExitRates', 'Month_Mar', 'Month_Nov']\n",
      "M65 subset score (3.): 0.880946837589347\n",
      "\n",
      " Best configuration has 31 features\n",
      "Features: ['PageValues', 'VisitorType_New_Visitor', 'Region_9', 'Browser_7', 'Browser_3', 'TrafficType_11', 'Month_Feb', 'Browser_2', 'TrafficType_6', 'OperatingSystems_8', 'Region_8', 'Region_7', 'OperatingSystems_6', 'Browser_8', 'Region_5', 'Month_Aug', 'Region_2', 'TrafficType_7', 'TrafficType_15', 'TrafficType_19', 'TrafficType_9', 'TrafficType_5', 'Region_3', 'VisitorType_Other', 'TrafficType_10', 'Browser_13', 'Month_Jul', 'VisitorType_Returning_Visitor', 'Month_June', 'Browser_6', 'Region_6']\n",
      "Total number of trained models: 2470\n"
     ]
    },
    {
     "name": "stderr",
     "output_type": "stream",
     "text": [
      "C:\\Users\\sarar\\anaconda3\\lib\\site-packages\\sklearn\\linear_model\\_sag.py:352: ConvergenceWarning: The max_iter was reached which means the coef_ did not converge\n",
      "  warnings.warn(\n"
     ]
    },
    {
     "data": {
      "text/plain": [
       "['PageValues',\n",
       " 'VisitorType_New_Visitor',\n",
       " 'Region_9',\n",
       " 'Browser_7',\n",
       " 'Browser_3',\n",
       " 'TrafficType_11',\n",
       " 'Month_Feb',\n",
       " 'Browser_2',\n",
       " 'TrafficType_6',\n",
       " 'OperatingSystems_8',\n",
       " 'Region_8',\n",
       " 'Region_7',\n",
       " 'OperatingSystems_6',\n",
       " 'Browser_8',\n",
       " 'Region_5',\n",
       " 'Month_Aug',\n",
       " 'Region_2',\n",
       " 'TrafficType_7',\n",
       " 'TrafficType_15',\n",
       " 'TrafficType_19',\n",
       " 'TrafficType_9',\n",
       " 'TrafficType_5',\n",
       " 'Region_3',\n",
       " 'VisitorType_Other',\n",
       " 'TrafficType_10',\n",
       " 'Browser_13',\n",
       " 'Month_Jul',\n",
       " 'VisitorType_Returning_Visitor',\n",
       " 'Month_June',\n",
       " 'Browser_6',\n",
       " 'Region_6']"
      ]
     },
     "execution_count": 32,
     "metadata": {},
     "output_type": "execute_result"
    }
   ],
   "source": [
    "cv = KFold(n_splits=5, random_state=42, shuffle=True)\n",
    "features_logistic = forward_selection(X_train_scaled, y_train, \"LogisticRegression\",\n",
    "                  get_evaluator(make_scorer(accuracy)), np.argmax, # 2.\n",
    "                  get_cv_evaluator(make_scorer(accuracy), cv), np.argmax, # 3.\n",
    "                  candidates_scorer_name=\"Accuracy\",\n",
    "                  subsets_scorer_name=\"Accuracy (CV)\",\n",
    "                  verbose=True, weight_step3=cv.n_splits)\n",
    "features_logistic"
   ]
  },
  {
   "cell_type": "markdown",
   "id": "6efe8489",
   "metadata": {},
   "source": [
    "### Evaluation Metrics"
   ]
  },
  {
   "cell_type": "code",
   "execution_count": null,
   "id": "dcc10a78",
   "metadata": {},
   "outputs": [],
   "source": [
    "model_logistic = LogisticRegression(solver=\"newton-cg\",penalty=\"none\",max_iter=1000)\n",
    "train_scores_logistic = classification_metrics_training(model_logistic, \"LogisticRegression\", X_train_scaled[features_logistic], y_train,cv)\n",
    "train_scores_logistic"
   ]
  },
  {
   "cell_type": "markdown",
   "id": "3ec82040",
   "metadata": {},
   "source": [
    "The sensitivity is very low, we try to improve it using the empirical threshold"
   ]
  },
  {
   "cell_type": "code",
   "execution_count": null,
   "id": "bf18bb67",
   "metadata": {},
   "outputs": [],
   "source": [
    "train_scores_logistic_empirical = classification_metrics_empirical_threshold(model_logistic, 'LogisticRegression', X_train_scaled[features_logistic], y_train,empirical_threshold)\n",
    "train_scores_logistic_empirical"
   ]
  },
  {
   "cell_type": "markdown",
   "id": "17bd991c",
   "metadata": {},
   "source": [
    "# LDA"
   ]
  },
  {
   "cell_type": "markdown",
   "id": "bc563bb6",
   "metadata": {},
   "source": [
    "### Feature selection"
   ]
  },
  {
   "cell_type": "code",
   "execution_count": null,
   "id": "29d04943",
   "metadata": {},
   "outputs": [],
   "source": [
    "cv = KFold(n_splits=5, random_state=42, shuffle=True)\n",
    "features_LDA = forward_selection(X_train_scaled, y_train, \"LDA\",\n",
    "                  get_evaluator(make_scorer(accuracy)), np.argmax, # 2.\n",
    "                  get_cv_evaluator(make_scorer(accuracy), cv), np.argmax, # 3.\n",
    "                  candidates_scorer_name=\"Accuracy\",\n",
    "                  subsets_scorer_name=\"Accuracy (CV)\",\n",
    "                  verbose=True, weight_step3=cv.n_splits)\n",
    "features_LDA"
   ]
  },
  {
   "cell_type": "markdown",
   "id": "a043ba09",
   "metadata": {},
   "source": [
    "### Evaluation metrics"
   ]
  },
  {
   "cell_type": "code",
   "execution_count": null,
   "id": "dc267b38",
   "metadata": {},
   "outputs": [],
   "source": [
    "model_LDA =LDA(store_covariance=True)\n",
    "train_scores_LDA = classification_metrics_training(model_LDA, \"LDA\", X_train_scaled[features_LDA], y_train, cv)\n",
    "train_scores_LDA"
   ]
  },
  {
   "cell_type": "markdown",
   "id": "51b16029",
   "metadata": {},
   "source": [
    "We try to improve the sensitivity by setting the empirical threshold"
   ]
  },
  {
   "cell_type": "code",
   "execution_count": null,
   "id": "b1e3cb3b",
   "metadata": {},
   "outputs": [],
   "source": [
    "train_scores_LDA_empirical = classification_metrics_empirical_threshold(model_LDA, 'LDA', X_train_scaled[features_LDA], y_train,empirical_threshold)\n",
    "train_scores_LDA_empirical"
   ]
  },
  {
   "cell_type": "markdown",
   "id": "cb0d07a9",
   "metadata": {},
   "source": [
    "## QDA"
   ]
  },
  {
   "cell_type": "markdown",
   "id": "6265074c",
   "metadata": {},
   "source": [
    "### Feature selection"
   ]
  },
  {
   "cell_type": "code",
   "execution_count": null,
   "id": "0ee0e365",
   "metadata": {
    "scrolled": true
   },
   "outputs": [],
   "source": [
    "#import warnings\n",
    "#warnings.filterwarnings(\"ignore\")\n",
    "cv = KFold(n_splits=5, random_state=42, shuffle=True)\n",
    "features_QDA = forward_selection(X_train_scaled, y_train, \"QDA\",\n",
    "                  get_evaluator(make_scorer(accuracy)), np.argmax, # 2.\n",
    "                  get_cv_evaluator(make_scorer(accuracy), cv), np.argmax, # 3.\n",
    "                  candidates_scorer_name=\"Accuracy\",\n",
    "                  subsets_scorer_name=\"Accuracy (CV)\",\n",
    "                  verbose=True, weight_step3=cv.n_splits)\n",
    "features_QDA"
   ]
  },
  {
   "cell_type": "markdown",
   "id": "7033b22a",
   "metadata": {},
   "source": [
    "### Evaluation"
   ]
  },
  {
   "cell_type": "code",
   "execution_count": null,
   "id": "4cb46676",
   "metadata": {},
   "outputs": [],
   "source": [
    "model_QDA = QDA(store_covariance=True)\n",
    "train_scores_QDA = classification_metrics_training(model_QDA, \"QDA\", X_train_scaled[features_QDA], y_train, cv)\n",
    "train_scores_QDA"
   ]
  },
  {
   "cell_type": "markdown",
   "id": "723e77d7",
   "metadata": {},
   "source": [
    "The sensitivity is very high with respect to the specificity, so we try to set the empirical threshold"
   ]
  },
  {
   "cell_type": "code",
   "execution_count": null,
   "id": "b9f41197",
   "metadata": {},
   "outputs": [],
   "source": [
    "train_scores_QDA_empirical = classification_metrics_empirical_threshold(model_QDA, 'QDA', X_train_scaled[features_QDA], y_train, empirical_threshold)\n",
    "train_scores_QDA_empirical"
   ]
  },
  {
   "cell_type": "markdown",
   "id": "d91233d5",
   "metadata": {},
   "source": [
    "## KNN"
   ]
  },
  {
   "cell_type": "markdown",
   "id": "8a20dd3a",
   "metadata": {},
   "source": [
    "### With all features"
   ]
  },
  {
   "cell_type": "code",
   "execution_count": null,
   "id": "f3215791",
   "metadata": {},
   "outputs": [],
   "source": [
    "from sklearn.model_selection import GridSearchCV\n",
    "import warnings\n",
    "warnings.filterwarnings(\"ignore\")"
   ]
  },
  {
   "cell_type": "code",
   "execution_count": null,
   "id": "f92da8ca",
   "metadata": {},
   "outputs": [],
   "source": [
    "model_KNN_all = KNeighborsClassifier()\n",
    "params = {'n_neighbors': range(1, 15)}\n",
    "cv = KFold(n_splits=5, random_state=42, shuffle=True)\n",
    "cv_KNN_all = GridSearchCV(model_KNN_all, params, refit=True, cv=cv, \n",
    "                  scoring=make_scorer(accuracy))\n",
    "cv_KNN_all.fit(X_train, y_train)"
   ]
  },
  {
   "cell_type": "code",
   "execution_count": null,
   "id": "04a2d1a1",
   "metadata": {},
   "outputs": [],
   "source": [
    "model_KNN_all = KNeighborsClassifier(n_neighbors=cv_KNN_all.best_params_['n_neighbors'])\n",
    "train_scores_KNN_all = classification_metrics_training(model_KNN_all, \"KNN\", X_train, y_train, cv)\n",
    "train_scores_KNN_all"
   ]
  },
  {
   "cell_type": "code",
   "execution_count": null,
   "id": "5a86f80c",
   "metadata": {},
   "outputs": [],
   "source": [
    "train_scores_KNN_all_empirical = classification_metrics_empirical_threshold(model_KNN_all, 'KNN', X_train, y_train,empirical_threshold)\n",
    "train_scores_KNN_all_empirical"
   ]
  },
  {
   "cell_type": "markdown",
   "id": "3fc0b4fc",
   "metadata": {},
   "source": [
    "### With only numeric features\n",
    "KNN has two main issues: \n",
    "1. It is not scalable with a large amount of features\n",
    "2. It relies on a distance metric to compute the distance between points. This distance may not be significant in case of categorical variables (even if we use one-hot encoding)\n",
    "3. From the previous analysis we can also notice that even with the empirical threshold the performances don't improve significantly\n",
    "\n",
    "So for these reasons we also fit a model with just the numeric features."
   ]
  },
  {
   "cell_type": "code",
   "execution_count": null,
   "id": "00843bca",
   "metadata": {},
   "outputs": [],
   "source": [
    "model_KNN_numeric = KNeighborsClassifier()\n",
    "params = {'n_neighbors': range(1, 50)}\n",
    "cv_KNN_numeric = GridSearchCV(model_KNN_numeric, params, refit=True, cv=cv, \n",
    "                  scoring=make_scorer(accuracy))\n",
    "cv_KNN_numeric.fit(X_train[numeric_features], y_train)\n",
    "model_KNN_numeric = KNeighborsClassifier(n_neighbors=cv_KNN_numeric.best_params_['n_neighbors'])\n"
   ]
  },
  {
   "cell_type": "code",
   "execution_count": null,
   "id": "b9984ba5",
   "metadata": {},
   "outputs": [],
   "source": [
    "train_scores_KNN_numeric = classification_metrics_training(model_KNN_numeric, \"KNN\", X_train[numeric_features], y_train, cv)\n",
    "train_scores_KNN_numeric"
   ]
  },
  {
   "cell_type": "code",
   "execution_count": null,
   "id": "0611f3e7",
   "metadata": {},
   "outputs": [],
   "source": [
    "train_scores_KNN_numeric_empirical = classification_metrics_empirical_threshold(model_KNN_numeric, 'KNN', X_train[numeric_features], y_train, empirical_threshold)\n",
    "train_scores_KNN_numeric_empirical"
   ]
  },
  {
   "cell_type": "markdown",
   "id": "ee7590e1",
   "metadata": {},
   "source": [
    "## SVM"
   ]
  },
  {
   "cell_type": "markdown",
   "id": "3ab17648",
   "metadata": {},
   "source": [
    "### Choosing the optimal kernel"
   ]
  },
  {
   "cell_type": "code",
   "execution_count": 14,
   "id": "36026f0d",
   "metadata": {},
   "outputs": [
    {
     "name": "stdout",
     "output_type": "stream",
     "text": [
      "linear\n",
      "sono linear...\n",
      "rbf\n",
      "nonlinear\n",
      "poly\n",
      "nonlinear\n",
      "sigmoid\n",
      "nonlinear\n"
     ]
    },
    {
     "ename": "NameError",
     "evalue": "name 'time' is not defined",
     "output_type": "error",
     "traceback": [
      "\u001b[1;31m---------------------------------------------------------------------------\u001b[0m",
      "\u001b[1;31mNameError\u001b[0m                                 Traceback (most recent call last)",
      "\u001b[1;32m~\\AppData\\Local\\Temp\\ipykernel_34176\\4093062901.py\u001b[0m in \u001b[0;36m<module>\u001b[1;34m\u001b[0m\n\u001b[0;32m     16\u001b[0m \u001b[0mbest_kernel\u001b[0m \u001b[1;33m=\u001b[0m \u001b[0mkernels\u001b[0m\u001b[1;33m[\u001b[0m\u001b[0mmax_index\u001b[0m\u001b[1;33m]\u001b[0m\u001b[1;33m\u001b[0m\u001b[1;33m\u001b[0m\u001b[0m\n\u001b[0;32m     17\u001b[0m \u001b[0macc_best_model\u001b[0m \u001b[1;33m=\u001b[0m \u001b[0mmax\u001b[0m\u001b[1;33m(\u001b[0m\u001b[0mscore\u001b[0m\u001b[1;33m)\u001b[0m\u001b[1;33m\u001b[0m\u001b[1;33m\u001b[0m\u001b[0m\n\u001b[1;32m---> 18\u001b[1;33m \u001b[0mend_time\u001b[0m \u001b[1;33m=\u001b[0m \u001b[0mtime\u001b[0m\u001b[1;33m.\u001b[0m\u001b[0mtime\u001b[0m\u001b[1;33m(\u001b[0m\u001b[1;33m)\u001b[0m\u001b[1;33m\u001b[0m\u001b[1;33m\u001b[0m\u001b[0m\n\u001b[0m\u001b[0;32m     19\u001b[0m \u001b[0mtotal_time\u001b[0m \u001b[1;33m=\u001b[0m \u001b[1;33m(\u001b[0m\u001b[0mend_time\u001b[0m \u001b[1;33m-\u001b[0m \u001b[0mstart_time\u001b[0m\u001b[1;33m)\u001b[0m\u001b[1;33m\u001b[0m\u001b[1;33m\u001b[0m\u001b[0m\n\u001b[0;32m     20\u001b[0m \u001b[1;33m\u001b[0m\u001b[0m\n",
      "\u001b[1;31mNameError\u001b[0m: name 'time' is not defined"
     ]
    }
   ],
   "source": [
    "kernels = ['linear', 'rbf', 'poly', 'sigmoid']\n",
    "score = []\n",
    "for kern in kernels:\n",
    "    cv = KFold(n_splits=5, random_state=1, shuffle=True)\n",
    "    print(kern)\n",
    "    if kern == 'linear':\n",
    "        print('sono linear...')\n",
    "        model_SVM = LinearSVC()\n",
    "    else:\n",
    "        print('nonlinear')\n",
    "        model_SVM = SVC(kernel=kern)\n",
    "    scores = cross_val_score(model_SVM, X_train, y_train, scoring='accuracy', cv=cv, n_jobs=-1)\n",
    "    score.append(np.mean(scores))\n",
    "\n",
    "max_index = score.index(max(score))\n",
    "best_kernel = kernels[max_index]\n",
    "acc_best_model = max(score)"
   ]
  },
  {
   "cell_type": "markdown",
   "id": "5352c4c6",
   "metadata": {},
   "source": [
    "### Choosing the best C"
   ]
  },
  {
   "cell_type": "code",
   "execution_count": 15,
   "id": "77a910fe",
   "metadata": {},
   "outputs": [
    {
     "data": {
      "text/plain": [
       "0.1"
      ]
     },
     "execution_count": 15,
     "metadata": {},
     "output_type": "execute_result"
    }
   ],
   "source": [
    "C_s= [0.1,1,10,100]\n",
    "\n",
    "score_c = []\n",
    "   \n",
    "for c in C_s:\n",
    "    model_SVM = LinearSVC(C=c)\n",
    "    cv = KFold(n_splits=5, random_state=1, shuffle=True)\n",
    "    scores_score = cross_val_score(model_SVM, X_train, y_train, scoring='accuracy', cv=cv, n_jobs=-1)\n",
    "    score_c.append(np.mean(scores_score))\n",
    "best_score_c = score_c.index(max(score_c))\n",
    "   \n",
    "\n",
    "best_c = C_s[best_score_c]\n",
    "best_c"
   ]
  },
  {
   "cell_type": "code",
   "execution_count": 24,
   "id": "5f0f0f8a",
   "metadata": {},
   "outputs": [
    {
     "name": "stdout",
     "output_type": "stream",
     "text": [
      "............\n",
      "Best model (M1) with 1 features: ['PageValues']\n",
      "M1 subset score (3.): 0.8788924911931943\n",
      "............\n",
      "Best model (M2) with 2 features: ['PageValues', 'BounceRates']\n",
      "M2 subset score (3.): 0.8791087658778303\n",
      "............\n",
      "Best model (M3) with 3 features: ['PageValues', 'BounceRates', 'TrafficType_1']\n",
      "M3 subset score (3.): 0.8795412567786824\n",
      "............\n",
      "Best model (M4) with 4 features: ['PageValues', 'BounceRates', 'TrafficType_1', 'TrafficType_11']\n",
      "M4 subset score (3.): 0.8796493648867905\n",
      "............\n",
      "Best model (M5) with 5 features: ['PageValues', 'BounceRates', 'TrafficType_1', 'TrafficType_11', 'Browser_7']\n",
      "M5 subset score (3.): 0.8796493648867905\n",
      "............\n",
      "Best model (M6) with 6 features: ['PageValues', 'BounceRates', 'TrafficType_1', 'TrafficType_11', 'Browser_7', 'Browser_3']\n",
      "M6 subset score (3.): 0.8796493648867905\n",
      "............\n",
      "Best model (M7) with 7 features: ['PageValues', 'BounceRates', 'TrafficType_1', 'TrafficType_11', 'Browser_7', 'Browser_3', 'VisitorType_Other']\n",
      "M7 subset score (3.): 0.8799736892111149\n",
      "............\n",
      "Best model (M8) with 8 features: ['PageValues', 'BounceRates', 'TrafficType_1', 'TrafficType_11', 'Browser_7', 'Browser_3', 'VisitorType_Other', 'Month_Aug']\n",
      "M8 subset score (3.): 0.8798655811030066\n",
      "............\n",
      "Best model (M9) with 9 features: ['PageValues', 'BounceRates', 'TrafficType_1', 'TrafficType_11', 'Browser_7', 'Browser_3', 'VisitorType_Other', 'Month_Aug', 'Browser_10']\n",
      "M9 subset score (3.): 0.8798655811030066\n",
      "............\n",
      "Best model (M10) with 10 features: ['PageValues', 'BounceRates', 'TrafficType_1', 'TrafficType_11', 'Browser_7', 'Browser_3', 'VisitorType_Other', 'Month_Aug', 'Browser_10', 'Browser_13']\n",
      "M10 subset score (3.): 0.8798655811030066\n",
      "............\n",
      "Best model (M11) with 11 features: ['PageValues', 'BounceRates', 'TrafficType_1', 'TrafficType_11', 'Browser_7', 'Browser_3', 'VisitorType_Other', 'Month_Aug', 'Browser_10', 'Browser_13', 'Month_Sep']\n",
      "M11 subset score (3.): 0.8800819142560623\n",
      "............\n",
      "Best model (M12) with 12 features: ['PageValues', 'BounceRates', 'TrafficType_1', 'TrafficType_11', 'Browser_7', 'Browser_3', 'VisitorType_Other', 'Month_Aug', 'Browser_10', 'Browser_13', 'Month_Sep', 'OperatingSystems_2']\n",
      "M12 subset score (3.): 0.8806227471387016\n",
      "............\n",
      "Best model (M13) with 13 features: ['PageValues', 'BounceRates', 'TrafficType_1', 'TrafficType_11', 'Browser_7', 'Browser_3', 'VisitorType_Other', 'Month_Aug', 'Browser_10', 'Browser_13', 'Month_Sep', 'OperatingSystems_2', 'TrafficType_2']\n",
      "M13 subset score (3.): 0.8805145805621738\n",
      "............\n",
      "Best model (M14) with 14 features: ['PageValues', 'BounceRates', 'TrafficType_1', 'TrafficType_11', 'Browser_7', 'Browser_3', 'VisitorType_Other', 'Month_Aug', 'Browser_10', 'Browser_13', 'Month_Sep', 'OperatingSystems_2', 'TrafficType_2', 'Month_Feb']\n",
      "M14 subset score (3.): 0.880622688670282\n",
      "............\n",
      "Best model (M15) with 15 features: ['PageValues', 'BounceRates', 'TrafficType_1', 'TrafficType_11', 'Browser_7', 'Browser_3', 'VisitorType_Other', 'Month_Aug', 'Browser_10', 'Browser_13', 'Month_Sep', 'OperatingSystems_2', 'TrafficType_2', 'Month_Feb', 'OperatingSystems_1']\n",
      "M15 subset score (3.): 0.8806227471387016\n",
      "............\n",
      "Best model (M16) with 16 features: ['PageValues', 'BounceRates', 'TrafficType_1', 'TrafficType_11', 'Browser_7', 'Browser_3', 'VisitorType_Other', 'Month_Aug', 'Browser_10', 'Browser_13', 'Month_Sep', 'OperatingSystems_2', 'TrafficType_2', 'Month_Feb', 'OperatingSystems_1', 'Region_2']\n",
      "M16 subset score (3.): 0.880838963354918\n",
      "............\n",
      "Best model (M17) with 17 features: ['PageValues', 'BounceRates', 'TrafficType_1', 'TrafficType_11', 'Browser_7', 'Browser_3', 'VisitorType_Other', 'Month_Aug', 'Browser_10', 'Browser_13', 'Month_Sep', 'OperatingSystems_2', 'TrafficType_2', 'Month_Feb', 'OperatingSystems_1', 'Region_2', 'TrafficType_20']\n",
      "M17 subset score (3.): 0.8806226302018623\n",
      "............\n",
      "Best model (M18) with 18 features: ['PageValues', 'BounceRates', 'TrafficType_1', 'TrafficType_11', 'Browser_7', 'Browser_3', 'VisitorType_Other', 'Month_Aug', 'Browser_10', 'Browser_13', 'Month_Sep', 'OperatingSystems_2', 'TrafficType_2', 'Month_Feb', 'OperatingSystems_1', 'Region_2', 'TrafficType_20', 'Month_June']\n",
      "M18 subset score (3.): 0.8805145805621738\n",
      "............\n",
      "Best model (M19) with 19 features: ['PageValues', 'BounceRates', 'TrafficType_1', 'TrafficType_11', 'Browser_7', 'Browser_3', 'VisitorType_Other', 'Month_Aug', 'Browser_10', 'Browser_13', 'Month_Sep', 'OperatingSystems_2', 'TrafficType_2', 'Month_Feb', 'OperatingSystems_1', 'Region_2', 'TrafficType_20', 'Month_June', 'Browser_8']\n",
      "M19 subset score (3.): 0.8804064724540657\n",
      "............\n",
      "Best model (M20) with 20 features: ['PageValues', 'BounceRates', 'TrafficType_1', 'TrafficType_11', 'Browser_7', 'Browser_3', 'VisitorType_Other', 'Month_Aug', 'Browser_10', 'Browser_13', 'Month_Sep', 'OperatingSystems_2', 'TrafficType_2', 'Month_Feb', 'OperatingSystems_1', 'Region_2', 'TrafficType_20', 'Month_June', 'Browser_8', 'OperatingSystems_3']\n",
      "M20 subset score (3.): 0.8801901393010102\n",
      "............\n",
      "Best model (M21) with 21 features: ['PageValues', 'BounceRates', 'TrafficType_1', 'TrafficType_11', 'Browser_7', 'Browser_3', 'VisitorType_Other', 'Month_Aug', 'Browser_10', 'Browser_13', 'Month_Sep', 'OperatingSystems_2', 'TrafficType_2', 'Month_Feb', 'OperatingSystems_1', 'Region_2', 'TrafficType_20', 'Month_June', 'Browser_8', 'OperatingSystems_3', 'OperatingSystems_4']\n",
      "M21 subset score (3.): 0.8804064724540657\n",
      "............\n",
      "Best model (M22) with 22 features: ['PageValues', 'BounceRates', 'TrafficType_1', 'TrafficType_11', 'Browser_7', 'Browser_3', 'VisitorType_Other', 'Month_Aug', 'Browser_10', 'Browser_13', 'Month_Sep', 'OperatingSystems_2', 'TrafficType_2', 'Month_Feb', 'OperatingSystems_1', 'Region_2', 'TrafficType_20', 'Month_June', 'Browser_8', 'OperatingSystems_3', 'OperatingSystems_4', 'OperatingSystems_6']\n",
      "M22 subset score (3.): 0.8804064724540657\n",
      "............\n",
      "Best model (M23) with 23 features: ['PageValues', 'BounceRates', 'TrafficType_1', 'TrafficType_11', 'Browser_7', 'Browser_3', 'VisitorType_Other', 'Month_Aug', 'Browser_10', 'Browser_13', 'Month_Sep', 'OperatingSystems_2', 'TrafficType_2', 'Month_Feb', 'OperatingSystems_1', 'Region_2', 'TrafficType_20', 'Month_June', 'Browser_8', 'OperatingSystems_3', 'OperatingSystems_4', 'OperatingSystems_6', 'OperatingSystems_8']\n",
      "M23 subset score (3.): 0.8804064724540657\n",
      "............\n",
      "Best model (M24) with 24 features: ['PageValues', 'BounceRates', 'TrafficType_1', 'TrafficType_11', 'Browser_7', 'Browser_3', 'VisitorType_Other', 'Month_Aug', 'Browser_10', 'Browser_13', 'Month_Sep', 'OperatingSystems_2', 'TrafficType_2', 'Month_Feb', 'OperatingSystems_1', 'Region_2', 'TrafficType_20', 'Month_June', 'Browser_8', 'OperatingSystems_3', 'OperatingSystems_4', 'OperatingSystems_6', 'OperatingSystems_8', 'Region_4']\n",
      "M24 subset score (3.): 0.8802983058775379\n",
      "............\n",
      "Best model (M25) with 25 features: ['PageValues', 'BounceRates', 'TrafficType_1', 'TrafficType_11', 'Browser_7', 'Browser_3', 'VisitorType_Other', 'Month_Aug', 'Browser_10', 'Browser_13', 'Month_Sep', 'OperatingSystems_2', 'TrafficType_2', 'Month_Feb', 'OperatingSystems_1', 'Region_2', 'TrafficType_20', 'Month_June', 'Browser_8', 'OperatingSystems_3', 'OperatingSystems_4', 'OperatingSystems_6', 'OperatingSystems_8', 'Region_4', 'Browser_4']\n",
      "M25 subset score (3.): 0.8802983058775379\n",
      "............\n",
      "Best model (M26) with 26 features: ['PageValues', 'BounceRates', 'TrafficType_1', 'TrafficType_11', 'Browser_7', 'Browser_3', 'VisitorType_Other', 'Month_Aug', 'Browser_10', 'Browser_13', 'Month_Sep', 'OperatingSystems_2', 'TrafficType_2', 'Month_Feb', 'OperatingSystems_1', 'Region_2', 'TrafficType_20', 'Month_June', 'Browser_8', 'OperatingSystems_3', 'OperatingSystems_4', 'OperatingSystems_6', 'OperatingSystems_8', 'Region_4', 'Browser_4', 'TrafficType_3']\n",
      "M26 subset score (3.): 0.880838963354918\n",
      "............\n",
      "Best model (M27) with 27 features: ['PageValues', 'BounceRates', 'TrafficType_1', 'TrafficType_11', 'Browser_7', 'Browser_3', 'VisitorType_Other', 'Month_Aug', 'Browser_10', 'Browser_13', 'Month_Sep', 'OperatingSystems_2', 'TrafficType_2', 'Month_Feb', 'OperatingSystems_1', 'Region_2', 'TrafficType_20', 'Month_June', 'Browser_8', 'OperatingSystems_3', 'OperatingSystems_4', 'OperatingSystems_6', 'OperatingSystems_8', 'Region_4', 'Browser_4', 'TrafficType_3', 'TrafficType_6']\n",
      "M27 subset score (3.): 0.8805146390305936\n"
     ]
    },
    {
     "name": "stdout",
     "output_type": "stream",
     "text": [
      "............\n",
      "Best model (M28) with 28 features: ['PageValues', 'BounceRates', 'TrafficType_1', 'TrafficType_11', 'Browser_7', 'Browser_3', 'VisitorType_Other', 'Month_Aug', 'Browser_10', 'Browser_13', 'Month_Sep', 'OperatingSystems_2', 'TrafficType_2', 'Month_Feb', 'OperatingSystems_1', 'Region_2', 'TrafficType_20', 'Month_June', 'Browser_8', 'OperatingSystems_3', 'OperatingSystems_4', 'OperatingSystems_6', 'OperatingSystems_8', 'Region_4', 'Browser_4', 'TrafficType_3', 'TrafficType_6', 'Browser_1']\n",
      "M28 subset score (3.): 0.8806227471387016\n",
      "............\n",
      "Best model (M29) with 29 features: ['PageValues', 'BounceRates', 'TrafficType_1', 'TrafficType_11', 'Browser_7', 'Browser_3', 'VisitorType_Other', 'Month_Aug', 'Browser_10', 'Browser_13', 'Month_Sep', 'OperatingSystems_2', 'TrafficType_2', 'Month_Feb', 'OperatingSystems_1', 'Region_2', 'TrafficType_20', 'Month_June', 'Browser_8', 'OperatingSystems_3', 'OperatingSystems_4', 'OperatingSystems_6', 'OperatingSystems_8', 'Region_4', 'Browser_4', 'TrafficType_3', 'TrafficType_6', 'Browser_1', 'Browser_2']\n",
      "M29 subset score (3.): 0.8805146390305936\n",
      "............\n",
      "Best model (M30) with 30 features: ['PageValues', 'BounceRates', 'TrafficType_1', 'TrafficType_11', 'Browser_7', 'Browser_3', 'VisitorType_Other', 'Month_Aug', 'Browser_10', 'Browser_13', 'Month_Sep', 'OperatingSystems_2', 'TrafficType_2', 'Month_Feb', 'OperatingSystems_1', 'Region_2', 'TrafficType_20', 'Month_June', 'Browser_8', 'OperatingSystems_3', 'OperatingSystems_4', 'OperatingSystems_6', 'OperatingSystems_8', 'Region_4', 'Browser_4', 'TrafficType_3', 'TrafficType_6', 'Browser_1', 'Browser_2', 'Region_5']\n",
      "M30 subset score (3.): 0.8804065309224856\n",
      "............\n",
      "Best model (M31) with 31 features: ['PageValues', 'BounceRates', 'TrafficType_1', 'TrafficType_11', 'Browser_7', 'Browser_3', 'VisitorType_Other', 'Month_Aug', 'Browser_10', 'Browser_13', 'Month_Sep', 'OperatingSystems_2', 'TrafficType_2', 'Month_Feb', 'OperatingSystems_1', 'Region_2', 'TrafficType_20', 'Month_June', 'Browser_8', 'OperatingSystems_3', 'OperatingSystems_4', 'OperatingSystems_6', 'OperatingSystems_8', 'Region_4', 'Browser_4', 'TrafficType_3', 'TrafficType_6', 'Browser_1', 'Browser_2', 'Region_5', 'Region_8']\n",
      "M31 subset score (3.): 0.8804065309224856\n",
      "............\n",
      "Best model (M32) with 32 features: ['PageValues', 'BounceRates', 'TrafficType_1', 'TrafficType_11', 'Browser_7', 'Browser_3', 'VisitorType_Other', 'Month_Aug', 'Browser_10', 'Browser_13', 'Month_Sep', 'OperatingSystems_2', 'TrafficType_2', 'Month_Feb', 'OperatingSystems_1', 'Region_2', 'TrafficType_20', 'Month_June', 'Browser_8', 'OperatingSystems_3', 'OperatingSystems_4', 'OperatingSystems_6', 'OperatingSystems_8', 'Region_4', 'Browser_4', 'TrafficType_3', 'TrafficType_6', 'Browser_1', 'Browser_2', 'Region_5', 'Region_8', 'TrafficType_15']\n",
      "M32 subset score (3.): 0.8804065309224856\n",
      "............\n",
      "Best model (M33) with 33 features: ['PageValues', 'BounceRates', 'TrafficType_1', 'TrafficType_11', 'Browser_7', 'Browser_3', 'VisitorType_Other', 'Month_Aug', 'Browser_10', 'Browser_13', 'Month_Sep', 'OperatingSystems_2', 'TrafficType_2', 'Month_Feb', 'OperatingSystems_1', 'Region_2', 'TrafficType_20', 'Month_June', 'Browser_8', 'OperatingSystems_3', 'OperatingSystems_4', 'OperatingSystems_6', 'OperatingSystems_8', 'Region_4', 'Browser_4', 'TrafficType_3', 'TrafficType_6', 'Browser_1', 'Browser_2', 'Region_5', 'Region_8', 'TrafficType_15', 'TrafficType_5']\n",
      "M33 subset score (3.): 0.8804065309224856\n",
      "............\n",
      "Best model (M34) with 34 features: ['PageValues', 'BounceRates', 'TrafficType_1', 'TrafficType_11', 'Browser_7', 'Browser_3', 'VisitorType_Other', 'Month_Aug', 'Browser_10', 'Browser_13', 'Month_Sep', 'OperatingSystems_2', 'TrafficType_2', 'Month_Feb', 'OperatingSystems_1', 'Region_2', 'TrafficType_20', 'Month_June', 'Browser_8', 'OperatingSystems_3', 'OperatingSystems_4', 'OperatingSystems_6', 'OperatingSystems_8', 'Region_4', 'Browser_4', 'TrafficType_3', 'TrafficType_6', 'Browser_1', 'Browser_2', 'Region_5', 'Region_8', 'TrafficType_15', 'TrafficType_5', 'Region_7']\n",
      "M34 subset score (3.): 0.8802984228143774\n",
      "............\n",
      "Best model (M35) with 35 features: ['PageValues', 'BounceRates', 'TrafficType_1', 'TrafficType_11', 'Browser_7', 'Browser_3', 'VisitorType_Other', 'Month_Aug', 'Browser_10', 'Browser_13', 'Month_Sep', 'OperatingSystems_2', 'TrafficType_2', 'Month_Feb', 'OperatingSystems_1', 'Region_2', 'TrafficType_20', 'Month_June', 'Browser_8', 'OperatingSystems_3', 'OperatingSystems_4', 'OperatingSystems_6', 'OperatingSystems_8', 'Region_4', 'Browser_4', 'TrafficType_3', 'TrafficType_6', 'Browser_1', 'Browser_2', 'Region_5', 'Region_8', 'TrafficType_15', 'TrafficType_5', 'Region_7', 'TrafficType_19']\n",
      "M35 subset score (3.): 0.8802984228143774\n",
      "............\n",
      "Best model (M36) with 36 features: ['PageValues', 'BounceRates', 'TrafficType_1', 'TrafficType_11', 'Browser_7', 'Browser_3', 'VisitorType_Other', 'Month_Aug', 'Browser_10', 'Browser_13', 'Month_Sep', 'OperatingSystems_2', 'TrafficType_2', 'Month_Feb', 'OperatingSystems_1', 'Region_2', 'TrafficType_20', 'Month_June', 'Browser_8', 'OperatingSystems_3', 'OperatingSystems_4', 'OperatingSystems_6', 'OperatingSystems_8', 'Region_4', 'Browser_4', 'TrafficType_3', 'TrafficType_6', 'Browser_1', 'Browser_2', 'Region_5', 'Region_8', 'TrafficType_15', 'TrafficType_5', 'Region_7', 'TrafficType_19', 'TrafficType_7']\n",
      "M36 subset score (3.): 0.8802984228143774\n",
      "............\n",
      "Best model (M37) with 37 features: ['PageValues', 'BounceRates', 'TrafficType_1', 'TrafficType_11', 'Browser_7', 'Browser_3', 'VisitorType_Other', 'Month_Aug', 'Browser_10', 'Browser_13', 'Month_Sep', 'OperatingSystems_2', 'TrafficType_2', 'Month_Feb', 'OperatingSystems_1', 'Region_2', 'TrafficType_20', 'Month_June', 'Browser_8', 'OperatingSystems_3', 'OperatingSystems_4', 'OperatingSystems_6', 'OperatingSystems_8', 'Region_4', 'Browser_4', 'TrafficType_3', 'TrafficType_6', 'Browser_1', 'Browser_2', 'Region_5', 'Region_8', 'TrafficType_15', 'TrafficType_5', 'Region_7', 'TrafficType_19', 'TrafficType_7', 'TrafficType_9']\n",
      "M37 subset score (3.): 0.8802984228143774\n",
      "............\n",
      "Best model (M38) with 38 features: ['PageValues', 'BounceRates', 'TrafficType_1', 'TrafficType_11', 'Browser_7', 'Browser_3', 'VisitorType_Other', 'Month_Aug', 'Browser_10', 'Browser_13', 'Month_Sep', 'OperatingSystems_2', 'TrafficType_2', 'Month_Feb', 'OperatingSystems_1', 'Region_2', 'TrafficType_20', 'Month_June', 'Browser_8', 'OperatingSystems_3', 'OperatingSystems_4', 'OperatingSystems_6', 'OperatingSystems_8', 'Region_4', 'Browser_4', 'TrafficType_3', 'TrafficType_6', 'Browser_1', 'Browser_2', 'Region_5', 'Region_8', 'TrafficType_15', 'TrafficType_5', 'Region_7', 'TrafficType_19', 'TrafficType_7', 'TrafficType_9', 'Browser_5']\n",
      "M38 subset score (3.): 0.8801903147062692\n",
      "............\n",
      "Best model (M39) with 39 features: ['PageValues', 'BounceRates', 'TrafficType_1', 'TrafficType_11', 'Browser_7', 'Browser_3', 'VisitorType_Other', 'Month_Aug', 'Browser_10', 'Browser_13', 'Month_Sep', 'OperatingSystems_2', 'TrafficType_2', 'Month_Feb', 'OperatingSystems_1', 'Region_2', 'TrafficType_20', 'Month_June', 'Browser_8', 'OperatingSystems_3', 'OperatingSystems_4', 'OperatingSystems_6', 'OperatingSystems_8', 'Region_4', 'Browser_4', 'TrafficType_3', 'TrafficType_6', 'Browser_1', 'Browser_2', 'Region_5', 'Region_8', 'TrafficType_15', 'TrafficType_5', 'Region_7', 'TrafficType_19', 'TrafficType_7', 'TrafficType_9', 'Browser_5', 'Month_Jul']\n",
      "M39 subset score (3.): 0.8802983643459577\n",
      "............\n",
      "Best model (M40) with 40 features: ['PageValues', 'BounceRates', 'TrafficType_1', 'TrafficType_11', 'Browser_7', 'Browser_3', 'VisitorType_Other', 'Month_Aug', 'Browser_10', 'Browser_13', 'Month_Sep', 'OperatingSystems_2', 'TrafficType_2', 'Month_Feb', 'OperatingSystems_1', 'Region_2', 'TrafficType_20', 'Month_June', 'Browser_8', 'OperatingSystems_3', 'OperatingSystems_4', 'OperatingSystems_6', 'OperatingSystems_8', 'Region_4', 'Browser_4', 'TrafficType_3', 'TrafficType_6', 'Browser_1', 'Browser_2', 'Region_5', 'Region_8', 'TrafficType_15', 'TrafficType_5', 'Region_7', 'TrafficType_19', 'TrafficType_7', 'TrafficType_9', 'Browser_5', 'Month_Jul', 'TrafficType_13']\n",
      "M40 subset score (3.): 0.8801902562378496\n"
     ]
    },
    {
     "name": "stdout",
     "output_type": "stream",
     "text": [
      "............\n",
      "Best model (M41) with 41 features: ['PageValues', 'BounceRates', 'TrafficType_1', 'TrafficType_11', 'Browser_7', 'Browser_3', 'VisitorType_Other', 'Month_Aug', 'Browser_10', 'Browser_13', 'Month_Sep', 'OperatingSystems_2', 'TrafficType_2', 'Month_Feb', 'OperatingSystems_1', 'Region_2', 'TrafficType_20', 'Month_June', 'Browser_8', 'OperatingSystems_3', 'OperatingSystems_4', 'OperatingSystems_6', 'OperatingSystems_8', 'Region_4', 'Browser_4', 'TrafficType_3', 'TrafficType_6', 'Browser_1', 'Browser_2', 'Region_5', 'Region_8', 'TrafficType_15', 'TrafficType_5', 'Region_7', 'TrafficType_19', 'TrafficType_7', 'TrafficType_9', 'Browser_5', 'Month_Jul', 'TrafficType_13', 'TrafficType_10']\n",
      "M41 subset score (3.): 0.8801902562378496\n",
      "............\n",
      "Best model (M42) with 42 features: ['PageValues', 'BounceRates', 'TrafficType_1', 'TrafficType_11', 'Browser_7', 'Browser_3', 'VisitorType_Other', 'Month_Aug', 'Browser_10', 'Browser_13', 'Month_Sep', 'OperatingSystems_2', 'TrafficType_2', 'Month_Feb', 'OperatingSystems_1', 'Region_2', 'TrafficType_20', 'Month_June', 'Browser_8', 'OperatingSystems_3', 'OperatingSystems_4', 'OperatingSystems_6', 'OperatingSystems_8', 'Region_4', 'Browser_4', 'TrafficType_3', 'TrafficType_6', 'Browser_1', 'Browser_2', 'Region_5', 'Region_8', 'TrafficType_15', 'TrafficType_5', 'Region_7', 'TrafficType_19', 'TrafficType_7', 'TrafficType_9', 'Browser_5', 'Month_Jul', 'TrafficType_13', 'TrafficType_10', 'Region_6']\n",
      "M42 subset score (3.): 0.8802983643459577\n",
      "............\n",
      "Best model (M43) with 43 features: ['PageValues', 'BounceRates', 'TrafficType_1', 'TrafficType_11', 'Browser_7', 'Browser_3', 'VisitorType_Other', 'Month_Aug', 'Browser_10', 'Browser_13', 'Month_Sep', 'OperatingSystems_2', 'TrafficType_2', 'Month_Feb', 'OperatingSystems_1', 'Region_2', 'TrafficType_20', 'Month_June', 'Browser_8', 'OperatingSystems_3', 'OperatingSystems_4', 'OperatingSystems_6', 'OperatingSystems_8', 'Region_4', 'Browser_4', 'TrafficType_3', 'TrafficType_6', 'Browser_1', 'Browser_2', 'Region_5', 'Region_8', 'TrafficType_15', 'TrafficType_5', 'Region_7', 'TrafficType_19', 'TrafficType_7', 'TrafficType_9', 'Browser_5', 'Month_Jul', 'TrafficType_13', 'TrafficType_10', 'Region_6', 'Browser_6']\n",
      "M43 subset score (3.): 0.8802983643459577\n",
      "............\n",
      "Best model (M44) with 44 features: ['PageValues', 'BounceRates', 'TrafficType_1', 'TrafficType_11', 'Browser_7', 'Browser_3', 'VisitorType_Other', 'Month_Aug', 'Browser_10', 'Browser_13', 'Month_Sep', 'OperatingSystems_2', 'TrafficType_2', 'Month_Feb', 'OperatingSystems_1', 'Region_2', 'TrafficType_20', 'Month_June', 'Browser_8', 'OperatingSystems_3', 'OperatingSystems_4', 'OperatingSystems_6', 'OperatingSystems_8', 'Region_4', 'Browser_4', 'TrafficType_3', 'TrafficType_6', 'Browser_1', 'Browser_2', 'Region_5', 'Region_8', 'TrafficType_15', 'TrafficType_5', 'Region_7', 'TrafficType_19', 'TrafficType_7', 'TrafficType_9', 'Browser_5', 'Month_Jul', 'TrafficType_13', 'TrafficType_10', 'Region_6', 'Browser_6', 'Month_Oct']\n",
      "M44 subset score (3.): 0.8801902562378496\n",
      "............\n",
      "Best model (M45) with 45 features: ['PageValues', 'BounceRates', 'TrafficType_1', 'TrafficType_11', 'Browser_7', 'Browser_3', 'VisitorType_Other', 'Month_Aug', 'Browser_10', 'Browser_13', 'Month_Sep', 'OperatingSystems_2', 'TrafficType_2', 'Month_Feb', 'OperatingSystems_1', 'Region_2', 'TrafficType_20', 'Month_June', 'Browser_8', 'OperatingSystems_3', 'OperatingSystems_4', 'OperatingSystems_6', 'OperatingSystems_8', 'Region_4', 'Browser_4', 'TrafficType_3', 'TrafficType_6', 'Browser_1', 'Browser_2', 'Region_5', 'Region_8', 'TrafficType_15', 'TrafficType_5', 'Region_7', 'TrafficType_19', 'TrafficType_7', 'TrafficType_9', 'Browser_5', 'Month_Jul', 'TrafficType_13', 'TrafficType_10', 'Region_6', 'Browser_6', 'Month_Oct', 'Region_3']\n",
      "M45 subset score (3.): 0.8801902562378496\n",
      "............\n",
      "Best model (M46) with 46 features: ['PageValues', 'BounceRates', 'TrafficType_1', 'TrafficType_11', 'Browser_7', 'Browser_3', 'VisitorType_Other', 'Month_Aug', 'Browser_10', 'Browser_13', 'Month_Sep', 'OperatingSystems_2', 'TrafficType_2', 'Month_Feb', 'OperatingSystems_1', 'Region_2', 'TrafficType_20', 'Month_June', 'Browser_8', 'OperatingSystems_3', 'OperatingSystems_4', 'OperatingSystems_6', 'OperatingSystems_8', 'Region_4', 'Browser_4', 'TrafficType_3', 'TrafficType_6', 'Browser_1', 'Browser_2', 'Region_5', 'Region_8', 'TrafficType_15', 'TrafficType_5', 'Region_7', 'TrafficType_19', 'TrafficType_7', 'TrafficType_9', 'Browser_5', 'Month_Jul', 'TrafficType_13', 'TrafficType_10', 'Region_6', 'Browser_6', 'Month_Oct', 'Region_3', 'Weekend_False']\n",
      "M46 subset score (3.): 0.8802983058775379\n",
      "............\n",
      "Best model (M47) with 47 features: ['PageValues', 'BounceRates', 'TrafficType_1', 'TrafficType_11', 'Browser_7', 'Browser_3', 'VisitorType_Other', 'Month_Aug', 'Browser_10', 'Browser_13', 'Month_Sep', 'OperatingSystems_2', 'TrafficType_2', 'Month_Feb', 'OperatingSystems_1', 'Region_2', 'TrafficType_20', 'Month_June', 'Browser_8', 'OperatingSystems_3', 'OperatingSystems_4', 'OperatingSystems_6', 'OperatingSystems_8', 'Region_4', 'Browser_4', 'TrafficType_3', 'TrafficType_6', 'Browser_1', 'Browser_2', 'Region_5', 'Region_8', 'TrafficType_15', 'TrafficType_5', 'Region_7', 'TrafficType_19', 'TrafficType_7', 'TrafficType_9', 'Browser_5', 'Month_Jul', 'TrafficType_13', 'TrafficType_10', 'Region_6', 'Browser_6', 'Month_Oct', 'Region_3', 'Weekend_False', 'ExitRates']\n",
      "M47 subset score (3.): 0.8804065893909053\n",
      "............\n",
      "Best model (M48) with 48 features: ['PageValues', 'BounceRates', 'TrafficType_1', 'TrafficType_11', 'Browser_7', 'Browser_3', 'VisitorType_Other', 'Month_Aug', 'Browser_10', 'Browser_13', 'Month_Sep', 'OperatingSystems_2', 'TrafficType_2', 'Month_Feb', 'OperatingSystems_1', 'Region_2', 'TrafficType_20', 'Month_June', 'Browser_8', 'OperatingSystems_3', 'OperatingSystems_4', 'OperatingSystems_6', 'OperatingSystems_8', 'Region_4', 'Browser_4', 'TrafficType_3', 'TrafficType_6', 'Browser_1', 'Browser_2', 'Region_5', 'Region_8', 'TrafficType_15', 'TrafficType_5', 'Region_7', 'TrafficType_19', 'TrafficType_7', 'TrafficType_9', 'Browser_5', 'Month_Jul', 'TrafficType_13', 'TrafficType_10', 'Region_6', 'Browser_6', 'Month_Oct', 'Region_3', 'Weekend_False', 'ExitRates', 'Month_Mar']\n",
      "M48 subset score (3.): 0.8805145805621738\n",
      "............\n",
      "Best model (M49) with 49 features: ['PageValues', 'BounceRates', 'TrafficType_1', 'TrafficType_11', 'Browser_7', 'Browser_3', 'VisitorType_Other', 'Month_Aug', 'Browser_10', 'Browser_13', 'Month_Sep', 'OperatingSystems_2', 'TrafficType_2', 'Month_Feb', 'OperatingSystems_1', 'Region_2', 'TrafficType_20', 'Month_June', 'Browser_8', 'OperatingSystems_3', 'OperatingSystems_4', 'OperatingSystems_6', 'OperatingSystems_8', 'Region_4', 'Browser_4', 'TrafficType_3', 'TrafficType_6', 'Browser_1', 'Browser_2', 'Region_5', 'Region_8', 'TrafficType_15', 'TrafficType_5', 'Region_7', 'TrafficType_19', 'TrafficType_7', 'TrafficType_9', 'Browser_5', 'Month_Jul', 'TrafficType_13', 'TrafficType_10', 'Region_6', 'Browser_6', 'Month_Oct', 'Region_3', 'Weekend_False', 'ExitRates', 'Month_Mar', 'Weekend_True']\n",
      "M49 subset score (3.): 0.8804064139856459\n",
      "............\n",
      "Best model (M50) with 50 features: ['PageValues', 'BounceRates', 'TrafficType_1', 'TrafficType_11', 'Browser_7', 'Browser_3', 'VisitorType_Other', 'Month_Aug', 'Browser_10', 'Browser_13', 'Month_Sep', 'OperatingSystems_2', 'TrafficType_2', 'Month_Feb', 'OperatingSystems_1', 'Region_2', 'TrafficType_20', 'Month_June', 'Browser_8', 'OperatingSystems_3', 'OperatingSystems_4', 'OperatingSystems_6', 'OperatingSystems_8', 'Region_4', 'Browser_4', 'TrafficType_3', 'TrafficType_6', 'Browser_1', 'Browser_2', 'Region_5', 'Region_8', 'TrafficType_15', 'TrafficType_5', 'Region_7', 'TrafficType_19', 'TrafficType_7', 'TrafficType_9', 'Browser_5', 'Month_Jul', 'TrafficType_13', 'TrafficType_10', 'Region_6', 'Browser_6', 'Month_Oct', 'Region_3', 'Weekend_False', 'ExitRates', 'Month_Mar', 'Weekend_True', 'VisitorType_New_Visitor']\n",
      "M50 subset score (3.): 0.8809471299314457\n",
      "............\n",
      "Best model (M51) with 51 features: ['PageValues', 'BounceRates', 'TrafficType_1', 'TrafficType_11', 'Browser_7', 'Browser_3', 'VisitorType_Other', 'Month_Aug', 'Browser_10', 'Browser_13', 'Month_Sep', 'OperatingSystems_2', 'TrafficType_2', 'Month_Feb', 'OperatingSystems_1', 'Region_2', 'TrafficType_20', 'Month_June', 'Browser_8', 'OperatingSystems_3', 'OperatingSystems_4', 'OperatingSystems_6', 'OperatingSystems_8', 'Region_4', 'Browser_4', 'TrafficType_3', 'TrafficType_6', 'Browser_1', 'Browser_2', 'Region_5', 'Region_8', 'TrafficType_15', 'TrafficType_5', 'Region_7', 'TrafficType_19', 'TrafficType_7', 'TrafficType_9', 'Browser_5', 'Month_Jul', 'TrafficType_13', 'TrafficType_10', 'Region_6', 'Browser_6', 'Month_Oct', 'Region_3', 'Weekend_False', 'ExitRates', 'Month_Mar', 'Weekend_True', 'VisitorType_New_Visitor', 'TrafficType_8']\n",
      "M51 subset score (3.): 0.8812716296610293\n"
     ]
    },
    {
     "name": "stdout",
     "output_type": "stream",
     "text": [
      "............\n",
      "Best model (M52) with 52 features: ['PageValues', 'BounceRates', 'TrafficType_1', 'TrafficType_11', 'Browser_7', 'Browser_3', 'VisitorType_Other', 'Month_Aug', 'Browser_10', 'Browser_13', 'Month_Sep', 'OperatingSystems_2', 'TrafficType_2', 'Month_Feb', 'OperatingSystems_1', 'Region_2', 'TrafficType_20', 'Month_June', 'Browser_8', 'OperatingSystems_3', 'OperatingSystems_4', 'OperatingSystems_6', 'OperatingSystems_8', 'Region_4', 'Browser_4', 'TrafficType_3', 'TrafficType_6', 'Browser_1', 'Browser_2', 'Region_5', 'Region_8', 'TrafficType_15', 'TrafficType_5', 'Region_7', 'TrafficType_19', 'TrafficType_7', 'TrafficType_9', 'Browser_5', 'Month_Jul', 'TrafficType_13', 'TrafficType_10', 'Region_6', 'Browser_6', 'Month_Oct', 'Region_3', 'Weekend_False', 'ExitRates', 'Month_Mar', 'Weekend_True', 'VisitorType_New_Visitor', 'TrafficType_8', 'VisitorType_Returning_Visitor']\n",
      "M52 subset score (3.): 0.8812715711926096\n",
      "............\n",
      "Best model (M53) with 53 features: ['PageValues', 'BounceRates', 'TrafficType_1', 'TrafficType_11', 'Browser_7', 'Browser_3', 'VisitorType_Other', 'Month_Aug', 'Browser_10', 'Browser_13', 'Month_Sep', 'OperatingSystems_2', 'TrafficType_2', 'Month_Feb', 'OperatingSystems_1', 'Region_2', 'TrafficType_20', 'Month_June', 'Browser_8', 'OperatingSystems_3', 'OperatingSystems_4', 'OperatingSystems_6', 'OperatingSystems_8', 'Region_4', 'Browser_4', 'TrafficType_3', 'TrafficType_6', 'Browser_1', 'Browser_2', 'Region_5', 'Region_8', 'TrafficType_15', 'TrafficType_5', 'Region_7', 'TrafficType_19', 'TrafficType_7', 'TrafficType_9', 'Browser_5', 'Month_Jul', 'TrafficType_13', 'TrafficType_10', 'Region_6', 'Browser_6', 'Month_Oct', 'Region_3', 'Weekend_False', 'ExitRates', 'Month_Mar', 'Weekend_True', 'VisitorType_New_Visitor', 'TrafficType_8', 'VisitorType_Returning_Visitor', 'TrafficType_4']\n",
      "M53 subset score (3.): 0.8813797377691375\n",
      "............\n",
      "Best model (M54) with 54 features: ['PageValues', 'BounceRates', 'TrafficType_1', 'TrafficType_11', 'Browser_7', 'Browser_3', 'VisitorType_Other', 'Month_Aug', 'Browser_10', 'Browser_13', 'Month_Sep', 'OperatingSystems_2', 'TrafficType_2', 'Month_Feb', 'OperatingSystems_1', 'Region_2', 'TrafficType_20', 'Month_June', 'Browser_8', 'OperatingSystems_3', 'OperatingSystems_4', 'OperatingSystems_6', 'OperatingSystems_8', 'Region_4', 'Browser_4', 'TrafficType_3', 'TrafficType_6', 'Browser_1', 'Browser_2', 'Region_5', 'Region_8', 'TrafficType_15', 'TrafficType_5', 'Region_7', 'TrafficType_19', 'TrafficType_7', 'TrafficType_9', 'Browser_5', 'Month_Jul', 'TrafficType_13', 'TrafficType_10', 'Region_6', 'Browser_6', 'Month_Oct', 'Region_3', 'Weekend_False', 'ExitRates', 'Month_Mar', 'Weekend_True', 'VisitorType_New_Visitor', 'TrafficType_8', 'VisitorType_Returning_Visitor', 'TrafficType_4', 'Region_1']\n",
      "M54 subset score (3.): 0.8809471299314457\n",
      "............\n",
      "Best model (M55) with 55 features: ['PageValues', 'BounceRates', 'TrafficType_1', 'TrafficType_11', 'Browser_7', 'Browser_3', 'VisitorType_Other', 'Month_Aug', 'Browser_10', 'Browser_13', 'Month_Sep', 'OperatingSystems_2', 'TrafficType_2', 'Month_Feb', 'OperatingSystems_1', 'Region_2', 'TrafficType_20', 'Month_June', 'Browser_8', 'OperatingSystems_3', 'OperatingSystems_4', 'OperatingSystems_6', 'OperatingSystems_8', 'Region_4', 'Browser_4', 'TrafficType_3', 'TrafficType_6', 'Browser_1', 'Browser_2', 'Region_5', 'Region_8', 'TrafficType_15', 'TrafficType_5', 'Region_7', 'TrafficType_19', 'TrafficType_7', 'TrafficType_9', 'Browser_5', 'Month_Jul', 'TrafficType_13', 'TrafficType_10', 'Region_6', 'Browser_6', 'Month_Oct', 'Region_3', 'Weekend_False', 'ExitRates', 'Month_Mar', 'Weekend_True', 'VisitorType_New_Visitor', 'TrafficType_8', 'VisitorType_Returning_Visitor', 'TrafficType_4', 'Region_1', 'Region_9']\n",
      "M55 subset score (3.): 0.8809471299314457\n",
      "............\n",
      "Best model (M56) with 56 features: ['PageValues', 'BounceRates', 'TrafficType_1', 'TrafficType_11', 'Browser_7', 'Browser_3', 'VisitorType_Other', 'Month_Aug', 'Browser_10', 'Browser_13', 'Month_Sep', 'OperatingSystems_2', 'TrafficType_2', 'Month_Feb', 'OperatingSystems_1', 'Region_2', 'TrafficType_20', 'Month_June', 'Browser_8', 'OperatingSystems_3', 'OperatingSystems_4', 'OperatingSystems_6', 'OperatingSystems_8', 'Region_4', 'Browser_4', 'TrafficType_3', 'TrafficType_6', 'Browser_1', 'Browser_2', 'Region_5', 'Region_8', 'TrafficType_15', 'TrafficType_5', 'Region_7', 'TrafficType_19', 'TrafficType_7', 'TrafficType_9', 'Browser_5', 'Month_Jul', 'TrafficType_13', 'TrafficType_10', 'Region_6', 'Browser_6', 'Month_Oct', 'Region_3', 'Weekend_False', 'ExitRates', 'Month_Mar', 'Weekend_True', 'VisitorType_New_Visitor', 'TrafficType_8', 'VisitorType_Returning_Visitor', 'TrafficType_4', 'Region_1', 'Region_9', 'SpecialDay']\n",
      "M56 subset score (3.): 0.8806228056071215\n",
      "............\n",
      "Best model (M57) with 57 features: ['PageValues', 'BounceRates', 'TrafficType_1', 'TrafficType_11', 'Browser_7', 'Browser_3', 'VisitorType_Other', 'Month_Aug', 'Browser_10', 'Browser_13', 'Month_Sep', 'OperatingSystems_2', 'TrafficType_2', 'Month_Feb', 'OperatingSystems_1', 'Region_2', 'TrafficType_20', 'Month_June', 'Browser_8', 'OperatingSystems_3', 'OperatingSystems_4', 'OperatingSystems_6', 'OperatingSystems_8', 'Region_4', 'Browser_4', 'TrafficType_3', 'TrafficType_6', 'Browser_1', 'Browser_2', 'Region_5', 'Region_8', 'TrafficType_15', 'TrafficType_5', 'Region_7', 'TrafficType_19', 'TrafficType_7', 'TrafficType_9', 'Browser_5', 'Month_Jul', 'TrafficType_13', 'TrafficType_10', 'Region_6', 'Browser_6', 'Month_Oct', 'Region_3', 'Weekend_False', 'ExitRates', 'Month_Mar', 'Weekend_True', 'VisitorType_New_Visitor', 'TrafficType_8', 'VisitorType_Returning_Visitor', 'TrafficType_4', 'Region_1', 'Region_9', 'SpecialDay', 'Informational']\n",
      "M57 subset score (3.): 0.879865990381945\n",
      "............\n",
      "Best model (M58) with 58 features: ['PageValues', 'BounceRates', 'TrafficType_1', 'TrafficType_11', 'Browser_7', 'Browser_3', 'VisitorType_Other', 'Month_Aug', 'Browser_10', 'Browser_13', 'Month_Sep', 'OperatingSystems_2', 'TrafficType_2', 'Month_Feb', 'OperatingSystems_1', 'Region_2', 'TrafficType_20', 'Month_June', 'Browser_8', 'OperatingSystems_3', 'OperatingSystems_4', 'OperatingSystems_6', 'OperatingSystems_8', 'Region_4', 'Browser_4', 'TrafficType_3', 'TrafficType_6', 'Browser_1', 'Browser_2', 'Region_5', 'Region_8', 'TrafficType_15', 'TrafficType_5', 'Region_7', 'TrafficType_19', 'TrafficType_7', 'TrafficType_9', 'Browser_5', 'Month_Jul', 'TrafficType_13', 'TrafficType_10', 'Region_6', 'Browser_6', 'Month_Oct', 'Region_3', 'Weekend_False', 'ExitRates', 'Month_Mar', 'Weekend_True', 'VisitorType_New_Visitor', 'TrafficType_8', 'VisitorType_Returning_Visitor', 'TrafficType_4', 'Region_1', 'Region_9', 'SpecialDay', 'Informational', 'Informational_Duration']\n",
      "M58 subset score (3.): 0.8799741569584729\n"
     ]
    },
    {
     "name": "stderr",
     "output_type": "stream",
     "text": [
      "C:\\Users\\sarar\\anaconda3\\lib\\site-packages\\sklearn\\svm\\_base.py:1206: ConvergenceWarning: Liblinear failed to converge, increase the number of iterations.\n",
      "  warnings.warn(\n"
     ]
    },
    {
     "name": "stdout",
     "output_type": "stream",
     "text": [
      "............\n",
      "Best model (M59) with 59 features: ['PageValues', 'BounceRates', 'TrafficType_1', 'TrafficType_11', 'Browser_7', 'Browser_3', 'VisitorType_Other', 'Month_Aug', 'Browser_10', 'Browser_13', 'Month_Sep', 'OperatingSystems_2', 'TrafficType_2', 'Month_Feb', 'OperatingSystems_1', 'Region_2', 'TrafficType_20', 'Month_June', 'Browser_8', 'OperatingSystems_3', 'OperatingSystems_4', 'OperatingSystems_6', 'OperatingSystems_8', 'Region_4', 'Browser_4', 'TrafficType_3', 'TrafficType_6', 'Browser_1', 'Browser_2', 'Region_5', 'Region_8', 'TrafficType_15', 'TrafficType_5', 'Region_7', 'TrafficType_19', 'TrafficType_7', 'TrafficType_9', 'Browser_5', 'Month_Jul', 'TrafficType_13', 'TrafficType_10', 'Region_6', 'Browser_6', 'Month_Oct', 'Region_3', 'Weekend_False', 'ExitRates', 'Month_Mar', 'Weekend_True', 'VisitorType_New_Visitor', 'TrafficType_8', 'VisitorType_Returning_Visitor', 'TrafficType_4', 'Region_1', 'Region_9', 'SpecialDay', 'Informational', 'Informational_Duration', 'Month_May']\n",
      "M59 subset score (3.): 0.8790007162381419\n"
     ]
    },
    {
     "name": "stderr",
     "output_type": "stream",
     "text": [
      "C:\\Users\\sarar\\anaconda3\\lib\\site-packages\\sklearn\\svm\\_base.py:1206: ConvergenceWarning: Liblinear failed to converge, increase the number of iterations.\n",
      "  warnings.warn(\n",
      "C:\\Users\\sarar\\anaconda3\\lib\\site-packages\\sklearn\\svm\\_base.py:1206: ConvergenceWarning: Liblinear failed to converge, increase the number of iterations.\n",
      "  warnings.warn(\n"
     ]
    },
    {
     "name": "stdout",
     "output_type": "stream",
     "text": [
      "............\n",
      "Best model (M60) with 60 features: ['PageValues', 'BounceRates', 'TrafficType_1', 'TrafficType_11', 'Browser_7', 'Browser_3', 'VisitorType_Other', 'Month_Aug', 'Browser_10', 'Browser_13', 'Month_Sep', 'OperatingSystems_2', 'TrafficType_2', 'Month_Feb', 'OperatingSystems_1', 'Region_2', 'TrafficType_20', 'Month_June', 'Browser_8', 'OperatingSystems_3', 'OperatingSystems_4', 'OperatingSystems_6', 'OperatingSystems_8', 'Region_4', 'Browser_4', 'TrafficType_3', 'TrafficType_6', 'Browser_1', 'Browser_2', 'Region_5', 'Region_8', 'TrafficType_15', 'TrafficType_5', 'Region_7', 'TrafficType_19', 'TrafficType_7', 'TrafficType_9', 'Browser_5', 'Month_Jul', 'TrafficType_13', 'TrafficType_10', 'Region_6', 'Browser_6', 'Month_Oct', 'Region_3', 'Weekend_False', 'ExitRates', 'Month_Mar', 'Weekend_True', 'VisitorType_New_Visitor', 'TrafficType_8', 'VisitorType_Returning_Visitor', 'TrafficType_4', 'Region_1', 'Region_9', 'SpecialDay', 'Informational', 'Informational_Duration', 'Month_May', 'Administrative_Duration']\n",
      "M60 subset score (3.): 0.8790007162381418\n"
     ]
    },
    {
     "name": "stderr",
     "output_type": "stream",
     "text": [
      "C:\\Users\\sarar\\anaconda3\\lib\\site-packages\\sklearn\\svm\\_base.py:1206: ConvergenceWarning: Liblinear failed to converge, increase the number of iterations.\n",
      "  warnings.warn(\n",
      "C:\\Users\\sarar\\anaconda3\\lib\\site-packages\\sklearn\\svm\\_base.py:1206: ConvergenceWarning: Liblinear failed to converge, increase the number of iterations.\n",
      "  warnings.warn(\n",
      "C:\\Users\\sarar\\anaconda3\\lib\\site-packages\\sklearn\\svm\\_base.py:1206: ConvergenceWarning: Liblinear failed to converge, increase the number of iterations.\n",
      "  warnings.warn(\n"
     ]
    },
    {
     "name": "stdout",
     "output_type": "stream",
     "text": [
      "............\n",
      "Best model (M61) with 61 features: ['PageValues', 'BounceRates', 'TrafficType_1', 'TrafficType_11', 'Browser_7', 'Browser_3', 'VisitorType_Other', 'Month_Aug', 'Browser_10', 'Browser_13', 'Month_Sep', 'OperatingSystems_2', 'TrafficType_2', 'Month_Feb', 'OperatingSystems_1', 'Region_2', 'TrafficType_20', 'Month_June', 'Browser_8', 'OperatingSystems_3', 'OperatingSystems_4', 'OperatingSystems_6', 'OperatingSystems_8', 'Region_4', 'Browser_4', 'TrafficType_3', 'TrafficType_6', 'Browser_1', 'Browser_2', 'Region_5', 'Region_8', 'TrafficType_15', 'TrafficType_5', 'Region_7', 'TrafficType_19', 'TrafficType_7', 'TrafficType_9', 'Browser_5', 'Month_Jul', 'TrafficType_13', 'TrafficType_10', 'Region_6', 'Browser_6', 'Month_Oct', 'Region_3', 'Weekend_False', 'ExitRates', 'Month_Mar', 'Weekend_True', 'VisitorType_New_Visitor', 'TrafficType_8', 'VisitorType_Returning_Visitor', 'TrafficType_4', 'Region_1', 'Region_9', 'SpecialDay', 'Informational', 'Informational_Duration', 'Month_May', 'Administrative_Duration', 'Month_Nov']\n",
      "M61 subset score (3.): 0.8785682838057095\n"
     ]
    },
    {
     "name": "stderr",
     "output_type": "stream",
     "text": [
      "C:\\Users\\sarar\\anaconda3\\lib\\site-packages\\sklearn\\svm\\_base.py:1206: ConvergenceWarning: Liblinear failed to converge, increase the number of iterations.\n",
      "  warnings.warn(\n",
      "C:\\Users\\sarar\\anaconda3\\lib\\site-packages\\sklearn\\svm\\_base.py:1206: ConvergenceWarning: Liblinear failed to converge, increase the number of iterations.\n",
      "  warnings.warn(\n",
      "C:\\Users\\sarar\\anaconda3\\lib\\site-packages\\sklearn\\svm\\_base.py:1206: ConvergenceWarning: Liblinear failed to converge, increase the number of iterations.\n",
      "  warnings.warn(\n"
     ]
    },
    {
     "name": "stdout",
     "output_type": "stream",
     "text": [
      "............\n",
      "Best model (M62) with 62 features: ['PageValues', 'BounceRates', 'TrafficType_1', 'TrafficType_11', 'Browser_7', 'Browser_3', 'VisitorType_Other', 'Month_Aug', 'Browser_10', 'Browser_13', 'Month_Sep', 'OperatingSystems_2', 'TrafficType_2', 'Month_Feb', 'OperatingSystems_1', 'Region_2', 'TrafficType_20', 'Month_June', 'Browser_8', 'OperatingSystems_3', 'OperatingSystems_4', 'OperatingSystems_6', 'OperatingSystems_8', 'Region_4', 'Browser_4', 'TrafficType_3', 'TrafficType_6', 'Browser_1', 'Browser_2', 'Region_5', 'Region_8', 'TrafficType_15', 'TrafficType_5', 'Region_7', 'TrafficType_19', 'TrafficType_7', 'TrafficType_9', 'Browser_5', 'Month_Jul', 'TrafficType_13', 'TrafficType_10', 'Region_6', 'Browser_6', 'Month_Oct', 'Region_3', 'Weekend_False', 'ExitRates', 'Month_Mar', 'Weekend_True', 'VisitorType_New_Visitor', 'TrafficType_8', 'VisitorType_Returning_Visitor', 'TrafficType_4', 'Region_1', 'Region_9', 'SpecialDay', 'Informational', 'Informational_Duration', 'Month_May', 'Administrative_Duration', 'Month_Nov', 'ProductRelated']\n",
      "M62 subset score (3.): 0.8787845584903454\n"
     ]
    },
    {
     "name": "stderr",
     "output_type": "stream",
     "text": [
      "C:\\Users\\sarar\\anaconda3\\lib\\site-packages\\sklearn\\svm\\_base.py:1206: ConvergenceWarning: Liblinear failed to converge, increase the number of iterations.\n",
      "  warnings.warn(\n",
      "C:\\Users\\sarar\\anaconda3\\lib\\site-packages\\sklearn\\svm\\_base.py:1206: ConvergenceWarning: Liblinear failed to converge, increase the number of iterations.\n",
      "  warnings.warn(\n",
      "C:\\Users\\sarar\\anaconda3\\lib\\site-packages\\sklearn\\svm\\_base.py:1206: ConvergenceWarning: Liblinear failed to converge, increase the number of iterations.\n",
      "  warnings.warn(\n",
      "C:\\Users\\sarar\\anaconda3\\lib\\site-packages\\sklearn\\svm\\_base.py:1206: ConvergenceWarning: Liblinear failed to converge, increase the number of iterations.\n",
      "  warnings.warn(\n",
      "C:\\Users\\sarar\\anaconda3\\lib\\site-packages\\sklearn\\svm\\_base.py:1206: ConvergenceWarning: Liblinear failed to converge, increase the number of iterations.\n",
      "  warnings.warn(\n"
     ]
    },
    {
     "name": "stdout",
     "output_type": "stream",
     "text": [
      "............\n",
      "Best model (M63) with 63 features: ['PageValues', 'BounceRates', 'TrafficType_1', 'TrafficType_11', 'Browser_7', 'Browser_3', 'VisitorType_Other', 'Month_Aug', 'Browser_10', 'Browser_13', 'Month_Sep', 'OperatingSystems_2', 'TrafficType_2', 'Month_Feb', 'OperatingSystems_1', 'Region_2', 'TrafficType_20', 'Month_June', 'Browser_8', 'OperatingSystems_3', 'OperatingSystems_4', 'OperatingSystems_6', 'OperatingSystems_8', 'Region_4', 'Browser_4', 'TrafficType_3', 'TrafficType_6', 'Browser_1', 'Browser_2', 'Region_5', 'Region_8', 'TrafficType_15', 'TrafficType_5', 'Region_7', 'TrafficType_19', 'TrafficType_7', 'TrafficType_9', 'Browser_5', 'Month_Jul', 'TrafficType_13', 'TrafficType_10', 'Region_6', 'Browser_6', 'Month_Oct', 'Region_3', 'Weekend_False', 'ExitRates', 'Month_Mar', 'Weekend_True', 'VisitorType_New_Visitor', 'TrafficType_8', 'VisitorType_Returning_Visitor', 'TrafficType_4', 'Region_1', 'Region_9', 'SpecialDay', 'Informational', 'Informational_Duration', 'Month_May', 'Administrative_Duration', 'Month_Nov', 'ProductRelated', 'Administrative']\n",
      "M63 subset score (3.): 0.8790007747065616\n"
     ]
    },
    {
     "name": "stderr",
     "output_type": "stream",
     "text": [
      "C:\\Users\\sarar\\anaconda3\\lib\\site-packages\\sklearn\\svm\\_base.py:1206: ConvergenceWarning: Liblinear failed to converge, increase the number of iterations.\n",
      "  warnings.warn(\n",
      "C:\\Users\\sarar\\anaconda3\\lib\\site-packages\\sklearn\\svm\\_base.py:1206: ConvergenceWarning: Liblinear failed to converge, increase the number of iterations.\n",
      "  warnings.warn(\n",
      "C:\\Users\\sarar\\anaconda3\\lib\\site-packages\\sklearn\\svm\\_base.py:1206: ConvergenceWarning: Liblinear failed to converge, increase the number of iterations.\n",
      "  warnings.warn(\n",
      "C:\\Users\\sarar\\anaconda3\\lib\\site-packages\\sklearn\\svm\\_base.py:1206: ConvergenceWarning: Liblinear failed to converge, increase the number of iterations.\n",
      "  warnings.warn(\n",
      "C:\\Users\\sarar\\anaconda3\\lib\\site-packages\\sklearn\\svm\\_base.py:1206: ConvergenceWarning: Liblinear failed to converge, increase the number of iterations.\n",
      "  warnings.warn(\n",
      "C:\\Users\\sarar\\anaconda3\\lib\\site-packages\\sklearn\\svm\\_base.py:1206: ConvergenceWarning: Liblinear failed to converge, increase the number of iterations.\n",
      "  warnings.warn(\n"
     ]
    },
    {
     "name": "stdout",
     "output_type": "stream",
     "text": [
      "............\n",
      "Best model (M64) with 64 features: ['PageValues', 'BounceRates', 'TrafficType_1', 'TrafficType_11', 'Browser_7', 'Browser_3', 'VisitorType_Other', 'Month_Aug', 'Browser_10', 'Browser_13', 'Month_Sep', 'OperatingSystems_2', 'TrafficType_2', 'Month_Feb', 'OperatingSystems_1', 'Region_2', 'TrafficType_20', 'Month_June', 'Browser_8', 'OperatingSystems_3', 'OperatingSystems_4', 'OperatingSystems_6', 'OperatingSystems_8', 'Region_4', 'Browser_4', 'TrafficType_3', 'TrafficType_6', 'Browser_1', 'Browser_2', 'Region_5', 'Region_8', 'TrafficType_15', 'TrafficType_5', 'Region_7', 'TrafficType_19', 'TrafficType_7', 'TrafficType_9', 'Browser_5', 'Month_Jul', 'TrafficType_13', 'TrafficType_10', 'Region_6', 'Browser_6', 'Month_Oct', 'Region_3', 'Weekend_False', 'ExitRates', 'Month_Mar', 'Weekend_True', 'VisitorType_New_Visitor', 'TrafficType_8', 'VisitorType_Returning_Visitor', 'TrafficType_4', 'Region_1', 'Region_9', 'SpecialDay', 'Informational', 'Informational_Duration', 'Month_May', 'Administrative_Duration', 'Month_Nov', 'ProductRelated', 'Administrative', 'Month_Dec']\n",
      "M64 subset score (3.): 0.8790007162381418\n"
     ]
    },
    {
     "name": "stderr",
     "output_type": "stream",
     "text": [
      "C:\\Users\\sarar\\anaconda3\\lib\\site-packages\\sklearn\\svm\\_base.py:1206: ConvergenceWarning: Liblinear failed to converge, increase the number of iterations.\n",
      "  warnings.warn(\n",
      "C:\\Users\\sarar\\anaconda3\\lib\\site-packages\\sklearn\\svm\\_base.py:1206: ConvergenceWarning: Liblinear failed to converge, increase the number of iterations.\n",
      "  warnings.warn(\n",
      "C:\\Users\\sarar\\anaconda3\\lib\\site-packages\\sklearn\\svm\\_base.py:1206: ConvergenceWarning: Liblinear failed to converge, increase the number of iterations.\n",
      "  warnings.warn(\n",
      "C:\\Users\\sarar\\anaconda3\\lib\\site-packages\\sklearn\\svm\\_base.py:1206: ConvergenceWarning: Liblinear failed to converge, increase the number of iterations.\n",
      "  warnings.warn(\n",
      "C:\\Users\\sarar\\anaconda3\\lib\\site-packages\\sklearn\\svm\\_base.py:1206: ConvergenceWarning: Liblinear failed to converge, increase the number of iterations.\n",
      "  warnings.warn(\n"
     ]
    },
    {
     "name": "stdout",
     "output_type": "stream",
     "text": [
      "............\n",
      "Best model (M65) with 65 features: ['PageValues', 'BounceRates', 'TrafficType_1', 'TrafficType_11', 'Browser_7', 'Browser_3', 'VisitorType_Other', 'Month_Aug', 'Browser_10', 'Browser_13', 'Month_Sep', 'OperatingSystems_2', 'TrafficType_2', 'Month_Feb', 'OperatingSystems_1', 'Region_2', 'TrafficType_20', 'Month_June', 'Browser_8', 'OperatingSystems_3', 'OperatingSystems_4', 'OperatingSystems_6', 'OperatingSystems_8', 'Region_4', 'Browser_4', 'TrafficType_3', 'TrafficType_6', 'Browser_1', 'Browser_2', 'Region_5', 'Region_8', 'TrafficType_15', 'TrafficType_5', 'Region_7', 'TrafficType_19', 'TrafficType_7', 'TrafficType_9', 'Browser_5', 'Month_Jul', 'TrafficType_13', 'TrafficType_10', 'Region_6', 'Browser_6', 'Month_Oct', 'Region_3', 'Weekend_False', 'ExitRates', 'Month_Mar', 'Weekend_True', 'VisitorType_New_Visitor', 'TrafficType_8', 'VisitorType_Returning_Visitor', 'TrafficType_4', 'Region_1', 'Region_9', 'SpecialDay', 'Informational', 'Informational_Duration', 'Month_May', 'Administrative_Duration', 'Month_Nov', 'ProductRelated', 'Administrative', 'Month_Dec', 'ProductRelated_Duration']\n",
      "M65 subset score (3.): 0.8783518337158143\n",
      "\n",
      " Best configuration has 53 features\n",
      "Features: ['PageValues', 'BounceRates', 'TrafficType_1', 'TrafficType_11', 'Browser_7', 'Browser_3', 'VisitorType_Other', 'Month_Aug', 'Browser_10', 'Browser_13', 'Month_Sep', 'OperatingSystems_2', 'TrafficType_2', 'Month_Feb', 'OperatingSystems_1', 'Region_2', 'TrafficType_20', 'Month_June', 'Browser_8', 'OperatingSystems_3', 'OperatingSystems_4', 'OperatingSystems_6', 'OperatingSystems_8', 'Region_4', 'Browser_4', 'TrafficType_3', 'TrafficType_6', 'Browser_1', 'Browser_2', 'Region_5', 'Region_8', 'TrafficType_15', 'TrafficType_5', 'Region_7', 'TrafficType_19', 'TrafficType_7', 'TrafficType_9', 'Browser_5', 'Month_Jul', 'TrafficType_13', 'TrafficType_10', 'Region_6', 'Browser_6', 'Month_Oct', 'Region_3', 'Weekend_False', 'ExitRates', 'Month_Mar', 'Weekend_True', 'VisitorType_New_Visitor', 'TrafficType_8', 'VisitorType_Returning_Visitor', 'TrafficType_4']\n",
      "Total number of trained models: 2470\n"
     ]
    },
    {
     "data": {
      "text/plain": [
       "['PageValues',\n",
       " 'BounceRates',\n",
       " 'TrafficType_1',\n",
       " 'TrafficType_11',\n",
       " 'Browser_7',\n",
       " 'Browser_3',\n",
       " 'VisitorType_Other',\n",
       " 'Month_Aug',\n",
       " 'Browser_10',\n",
       " 'Browser_13',\n",
       " 'Month_Sep',\n",
       " 'OperatingSystems_2',\n",
       " 'TrafficType_2',\n",
       " 'Month_Feb',\n",
       " 'OperatingSystems_1',\n",
       " 'Region_2',\n",
       " 'TrafficType_20',\n",
       " 'Month_June',\n",
       " 'Browser_8',\n",
       " 'OperatingSystems_3',\n",
       " 'OperatingSystems_4',\n",
       " 'OperatingSystems_6',\n",
       " 'OperatingSystems_8',\n",
       " 'Region_4',\n",
       " 'Browser_4',\n",
       " 'TrafficType_3',\n",
       " 'TrafficType_6',\n",
       " 'Browser_1',\n",
       " 'Browser_2',\n",
       " 'Region_5',\n",
       " 'Region_8',\n",
       " 'TrafficType_15',\n",
       " 'TrafficType_5',\n",
       " 'Region_7',\n",
       " 'TrafficType_19',\n",
       " 'TrafficType_7',\n",
       " 'TrafficType_9',\n",
       " 'Browser_5',\n",
       " 'Month_Jul',\n",
       " 'TrafficType_13',\n",
       " 'TrafficType_10',\n",
       " 'Region_6',\n",
       " 'Browser_6',\n",
       " 'Month_Oct',\n",
       " 'Region_3',\n",
       " 'Weekend_False',\n",
       " 'ExitRates',\n",
       " 'Month_Mar',\n",
       " 'Weekend_True',\n",
       " 'VisitorType_New_Visitor',\n",
       " 'TrafficType_8',\n",
       " 'VisitorType_Returning_Visitor',\n",
       " 'TrafficType_4']"
      ]
     },
     "execution_count": 24,
     "metadata": {},
     "output_type": "execute_result"
    }
   ],
   "source": [
    "import warnings\n",
    "#warnings.filterwarnings(\"ignore\")\n",
    "warnings.filterwarnings(\"default\")\n",
    "\n",
    "cv = KFold(n_splits=5, random_state=42, shuffle=True)\n",
    "features_SVM = forward_selection(X_train_scaled, y_train, \"SVM\",\n",
    "                  get_evaluator(make_scorer(accuracy)), np.argmax, # 2.\n",
    "                  get_cv_evaluator(make_scorer(accuracy), cv), np.argmax, # 3.\n",
    "                  candidates_scorer_name=\"Accuracy\",\n",
    "                  subsets_scorer_name=\"Accuracy (CV)\",\n",
    "                  verbose=True, weight_step3=cv.n_splits)\n",
    "features_SVM"
   ]
  },
  {
   "cell_type": "code",
   "execution_count": 26,
   "id": "349158e7",
   "metadata": {},
   "outputs": [
    {
     "name": "stderr",
     "output_type": "stream",
     "text": [
      "C:\\Users\\sarar\\anaconda3\\lib\\site-packages\\sklearn\\svm\\_base.py:1206: ConvergenceWarning: Liblinear failed to converge, increase the number of iterations.\n",
      "  warnings.warn(\n"
     ]
    }
   ],
   "source": [
    "model_SVM = LinearSVC()\n",
    "model_SVM = model_SVM.fit(X_train_scaled[features_SVM],y_train)"
   ]
  },
  {
   "cell_type": "code",
   "execution_count": 28,
   "id": "62db157d",
   "metadata": {},
   "outputs": [
    {
     "data": {
      "text/html": [
       "<div>\n",
       "<style scoped>\n",
       "    .dataframe tbody tr th:only-of-type {\n",
       "        vertical-align: middle;\n",
       "    }\n",
       "\n",
       "    .dataframe tbody tr th {\n",
       "        vertical-align: top;\n",
       "    }\n",
       "\n",
       "    .dataframe thead th {\n",
       "        text-align: right;\n",
       "    }\n",
       "</style>\n",
       "<table border=\"1\" class=\"dataframe\">\n",
       "  <thead>\n",
       "    <tr style=\"text-align: right;\">\n",
       "      <th></th>\n",
       "      <th>Model</th>\n",
       "      <th>Accuracy</th>\n",
       "      <th>Sensitivity</th>\n",
       "      <th>Specificity</th>\n",
       "    </tr>\n",
       "  </thead>\n",
       "  <tbody>\n",
       "    <tr>\n",
       "      <th>0</th>\n",
       "      <td>SVM</td>\n",
       "      <td>0.881055</td>\n",
       "      <td>0.331061</td>\n",
       "      <td>0.780808</td>\n",
       "    </tr>\n",
       "  </tbody>\n",
       "</table>\n",
       "</div>"
      ],
      "text/plain": [
       "  Model  Accuracy  Sensitivity  Specificity\n",
       "0   SVM  0.881055     0.331061     0.780808"
      ]
     },
     "execution_count": 28,
     "metadata": {},
     "output_type": "execute_result"
    }
   ],
   "source": [
    "train_scores_SVM = classification_metrics_training(model_SVM, \"SVM\", X_train_scaled[features_SVM], y_train, cv)\n",
    "train_scores_SVM"
   ]
  },
  {
   "cell_type": "code",
   "execution_count": 30,
   "id": "bd05b05f",
   "metadata": {},
   "outputs": [],
   "source": [
    "#train_scores_SVM_empirical = classification_metrics_empirical_threshold(model_SVM, 'SVM', X_train_scaled[features_SVM], y_train, empirical_threshold)\n",
    "#train_scores_SVM_empirical"
   ]
  },
  {
   "cell_type": "markdown",
   "id": "4fff5c13",
   "metadata": {},
   "source": [
    "## Algorithm comparison"
   ]
  },
  {
   "cell_type": "markdown",
   "id": "8418f866",
   "metadata": {},
   "source": [
    "### Metric comparison"
   ]
  },
  {
   "cell_type": "markdown",
   "id": "d769180a",
   "metadata": {},
   "source": [
    "#### Threshold = 0.5"
   ]
  },
  {
   "cell_type": "code",
   "execution_count": 31,
   "id": "9660726d",
   "metadata": {},
   "outputs": [
    {
     "ename": "NameError",
     "evalue": "name 'train_scores_logistic' is not defined",
     "output_type": "error",
     "traceback": [
      "\u001b[1;31m---------------------------------------------------------------------------\u001b[0m",
      "\u001b[1;31mNameError\u001b[0m                                 Traceback (most recent call last)",
      "\u001b[1;32m~\\AppData\\Local\\Temp\\ipykernel_34176\\262959393.py\u001b[0m in \u001b[0;36m<module>\u001b[1;34m\u001b[0m\n\u001b[1;32m----> 1\u001b[1;33m \u001b[0mmetrics_df\u001b[0m \u001b[1;33m=\u001b[0m \u001b[0mpd\u001b[0m\u001b[1;33m.\u001b[0m\u001b[0mconcat\u001b[0m\u001b[1;33m(\u001b[0m\u001b[1;33m[\u001b[0m\u001b[0mtrain_scores_logistic\u001b[0m\u001b[1;33m,\u001b[0m\u001b[0mtrain_scores_LDA\u001b[0m\u001b[1;33m,\u001b[0m\u001b[0mtrain_scores_QDA\u001b[0m\u001b[1;33m,\u001b[0m\u001b[0mtrain_scores_KNN_all\u001b[0m\u001b[1;33m,\u001b[0m\u001b[0mtrain_scores_KNN_numeric\u001b[0m\u001b[1;33m,\u001b[0m\u001b[0mtrain_scores_SVM\u001b[0m\u001b[1;33m]\u001b[0m\u001b[1;33m,\u001b[0m\u001b[0maxis\u001b[0m\u001b[1;33m=\u001b[0m\u001b[1;36m0\u001b[0m\u001b[1;33m)\u001b[0m\u001b[1;33m\u001b[0m\u001b[1;33m\u001b[0m\u001b[0m\n\u001b[0m\u001b[0;32m      2\u001b[0m \u001b[0mmetrics_df\u001b[0m\u001b[1;33m\u001b[0m\u001b[1;33m\u001b[0m\u001b[0m\n",
      "\u001b[1;31mNameError\u001b[0m: name 'train_scores_logistic' is not defined"
     ]
    }
   ],
   "source": [
    "metrics_df = pd.concat([train_scores_logistic,train_scores_LDA,train_scores_QDA,train_scores_KNN_all,train_scores_KNN_numeric,train_scores_SVM],axis=0)\n",
    "metrics_df"
   ]
  },
  {
   "cell_type": "markdown",
   "id": "611b6d11",
   "metadata": {},
   "source": [
    "#### Empirical threshold"
   ]
  },
  {
   "cell_type": "code",
   "execution_count": null,
   "id": "e60add0f",
   "metadata": {},
   "outputs": [],
   "source": [
    "metrics_df_empirical = pd.concat([train_scores_logistic_empirical,train_scores_LDA_empirical,train_scores_QDA_empirical,train_scores_KNN_all_empirical,train_scores_KNN_numeric_empirical],axis=0)\n",
    "metrics_df_empirical"
   ]
  },
  {
   "cell_type": "code",
   "execution_count": null,
   "id": "45ae2a35",
   "metadata": {},
   "outputs": [],
   "source": [
    "from sklearn.metrics import roc_curve\n",
    "\n",
    "def plot_roc(predict_fn, X, y, label=None):\n",
    "    fprs, tprs, t = roc_curve(y, predict_fn(X)[:,-1])\n",
    "    \n",
    "    # Plot the ROC\n",
    "    plt.plot(fprs, tprs, label=\"ROC \"+label)\n",
    "    plt.xlabel(\"FPR = 1 - specificity\")\n",
    "    plt.ylabel(\"TPR = sensitivity\")\n",
    "    plt.legend()\n",
    "\n",
    "auc_list = []\n",
    "\n",
    "for name, model, X in [('lr', model_logistic, X_train_scaled[features_logistic]), \n",
    "                    ('lda', model_LDA, X_train_scaled[features_LDA]), \n",
    "                    ('qda', model_QDA, X_train_scaled[features_QDA]),\n",
    "                    ('SVM', model_SVM,X_train_scaled[features_SVM]),\n",
    "                    ('KNN-all', model_KNN_all, X_train),\n",
    "                    ('KNN-numeric', model_KNN_numeric, X_train[numeric_features])\n",
    "                   ]:\n",
    "    model.fit(X, y_train) # sistemare questa parte, fitta i modelli prima in modo che sia tutto ok\n",
    "    plot_roc(model.predict_proba, X, y_train, name)\n",
    "    y_prob_pred = model.predict_proba(X)[:, 1]\n",
    "    auc = roc_auc_score(y_train, y_prob_pred)\n",
    "    auc_list.append(auc)\n",
    "auc_list"
   ]
  },
  {
   "cell_type": "code",
   "execution_count": null,
   "id": "055f4667",
   "metadata": {},
   "outputs": [],
   "source": []
  }
 ],
 "metadata": {
  "kernelspec": {
   "display_name": "Python 3 (ipykernel)",
   "language": "python",
   "name": "python3"
  },
  "language_info": {
   "codemirror_mode": {
    "name": "ipython",
    "version": 3
   },
   "file_extension": ".py",
   "mimetype": "text/x-python",
   "name": "python",
   "nbconvert_exporter": "python",
   "pygments_lexer": "ipython3",
   "version": "3.9.13"
  }
 },
 "nbformat": 4,
 "nbformat_minor": 5
}
