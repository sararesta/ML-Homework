{
 "cells": [
  {
   "cell_type": "code",
   "execution_count": null,
   "id": "349158e7",
   "metadata": {},
   "outputs": [],
   "source": [
    "model_SVM = LinearSVC()\n",
    "model_SVM = model_SVM.fit(X_train_scaled[features_SVM],y_train)"
   ]
  },
  {
   "cell_type": "code",
   "execution_count": null,
   "id": "62db157d",
   "metadata": {},
   "outputs": [],
   "source": [
    "train_scores_SVM = classification_metrics_training(model_SVM, \"SVM\", X_train_scaled[features_SVM], y_train, cv)\n",
    "train_scores_SVM"
   ]
  },
  {
   "cell_type": "markdown",
   "id": "4fff5c13",
   "metadata": {},
   "source": [
    "## Algorithm comparison"
   ]
  },
  {
   "cell_type": "markdown",
   "id": "8418f866",
   "metadata": {},
   "source": [
    "### Metric comparison"
   ]
  },
  {
   "cell_type": "markdown",
   "id": "d769180a",
   "metadata": {},
   "source": [
    "#### Threshold = 0.5"
   ]
  },
  {
   "cell_type": "code",
   "execution_count": null,
   "id": "9660726d",
   "metadata": {},
   "outputs": [],
   "source": [
    "metrics_df = pd.concat([train_scores_logistic,train_scores_LDA,train_scores_QDA,train_scores_KNN_all,train_scores_KNN_numeric,train_scores_SVM],axis=0)\n",
    "metrics_df"
   ]
  },
  {
   "cell_type": "markdown",
   "id": "611b6d11",
   "metadata": {},
   "source": [
    "#### Empirical threshold"
   ]
  },
  {
   "cell_type": "code",
   "execution_count": null,
   "id": "e60add0f",
   "metadata": {},
   "outputs": [],
   "source": [
    "metrics_df_empirical = pd.concat([train_scores_logistic_empirical,train_scores_LDA_empirical,train_scores_QDA_empirical,train_scores_KNN_all_empirical,train_scores_KNN_numeric_empirical],axis=0)\n",
    "metrics_df_empirical"
   ]
  },
  {
   "cell_type": "code",
   "execution_count": null,
   "id": "45ae2a35",
   "metadata": {},
   "outputs": [],
   "source": [
    "from sklearn.metrics import roc_curve\n",
    "\n",
    "calibrated_svc = CalibratedClassifierCV(model_SVM, method='sigmoid', cv='prefit')\n",
    "\n",
    "def plot_roc(predict_fn, X, y, label=None):\n",
    "    fprs, tprs, t = roc_curve(y, predict_fn(X)[:,-1])\n",
    "    \n",
    "    # Plot the ROC\n",
    "    plt.plot(fprs, tprs, label=\"ROC \"+label)\n",
    "    plt.xlabel(\"FPR = 1 - specificity\")\n",
    "    plt.ylabel(\"TPR = sensitivity\")\n",
    "    plt.legend()\n",
    "\n",
    "auc_list = []\n",
    "\n",
    "for name, model, X in [('lr', model_logistic, X_train_scaled[features_logistic]), \n",
    "                    ('lda', model_LDA, X_train_scaled[features_LDA]), \n",
    "                    ('qda', model_QDA, X_train_scaled[features_QDA]),\n",
    "                    ('SVC', calibrated_svc,X_train_scaled[features_SVM]),\n",
    "                    ('KNN-all', model_KNN_all, X_train),\n",
    "                    ('KNN-numeric', model_KNN_numeric, X_train[numeric_features])\n",
    "                   ]:\n",
    "    model.fit(X, y_train) # sistemare questa parte, fitta i modelli prima in modo che sia tutto ok\n",
    "    plot_roc(model.predict_proba, X, y_train, name)\n",
    "    y_prob_pred = model.predict_proba(X)[:, 1]\n",
    "    auc = roc_auc_score(y_train, y_prob_pred)\n",
    "    auc_list.append(auc)\n",
    "auc_list"
   ]
  },
  {
   "cell_type": "code",
   "execution_count": null,
   "id": "055f4667",
   "metadata": {},
   "outputs": [],
   "source": []
  }
 ],
 "metadata": {
  "kernelspec": {
   "display_name": "Python 3 (ipykernel)",
   "language": "python",
   "name": "python3"
  },
  "language_info": {
   "codemirror_mode": {
    "name": "ipython",
    "version": 3
   },
   "file_extension": ".py",
   "mimetype": "text/x-python",
   "name": "python",
   "nbconvert_exporter": "python",
   "pygments_lexer": "ipython3",
   "version": "3.9.13"
  }
 },
 "nbformat": 4,
 "nbformat_minor": 5
}
