{
 "cells": [
  {
   "cell_type": "markdown",
   "id": "9c9526d1",
   "metadata": {},
   "source": [
    "# ML Homework 2022\n",
    "Valentina Margiotta () \n",
    "Sara Resta (225418)"
   ]
  },
  {
   "cell_type": "code",
   "execution_count": 3,
   "id": "c6986be2",
   "metadata": {},
   "outputs": [],
   "source": [
    "# Run this code to make Jupyter print every\n",
    "# printable statement and not just the last one\n",
    "from IPython.core.interactiveshell import InteractiveShell\n",
    "InteractiveShell.ast_node_interactivity = \"all\"\n",
    "import pandas as pd\n",
    "import matplotlib\n",
    "import matplotlib.pyplot as plt"
   ]
  },
  {
   "cell_type": "markdown",
   "id": "b730627c",
   "metadata": {},
   "source": [
    "Importing the datasets"
   ]
  },
  {
   "cell_type": "code",
   "execution_count": null,
   "id": "49841409",
   "metadata": {},
   "outputs": [],
   "source": [
    "online_shoppers = pd.read_csv(\"data/online_shoppers_intention.csv\")\n",
    "online_shoppers_training = pd.read_csv(\"data/training_set_online_shoppers_intention.csv\")\n",
    "online_shoppers_test = pd.read_csv(\"data/test_set_online_shoppers_intention.csv\")"
   ]
  },
  {
   "cell_type": "markdown",
   "id": "dac8f1a9",
   "metadata": {},
   "source": [
    "# 1. Dataset inspection"
   ]
  },
  {
   "cell_type": "code",
   "execution_count": null,
   "id": "773c08bd",
   "metadata": {},
   "outputs": [],
   "source": []
  }
 ],
 "metadata": {
  "kernelspec": {
   "display_name": "Python 3 (ipykernel)",
   "language": "python",
   "name": "python3"
  },
  "language_info": {
   "codemirror_mode": {
    "name": "ipython",
    "version": 3
   },
   "file_extension": ".py",
   "mimetype": "text/x-python",
   "name": "python",
   "nbconvert_exporter": "python",
   "pygments_lexer": "ipython3",
   "version": "3.9.13"
  }
 },
 "nbformat": 4,
 "nbformat_minor": 5
}
