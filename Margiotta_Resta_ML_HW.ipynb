{
 "cells": [
  {
   "cell_type": "markdown",
   "id": "032be6f8",
   "metadata": {},
   "source": [
    "# ML Homework 2022\n",
    "Valentina Margiotta () \n",
    "Sara Resta (225418)"
   ]
  },
  {
   "cell_type": "code",
   "execution_count": 1,
   "id": "9cc0f0b8",
   "metadata": {},
   "outputs": [],
   "source": [
    "# Run this code to make Jupyter print every\n",
    "# printable statement and not just the last one\n",
    "from IPython.core.interactiveshell import InteractiveShell\n",
    "InteractiveShell.ast_node_interactivity = \"all\"\n",
    "import matplotlib.pyplot as plt\n",
    "import seaborn as sns\n",
    "import pandas as pd\n",
    "import numpy as np\n",
    "import sklearn\n",
    "import scipy\n",
    "from scipy.stats import t\n",
    "import sklearn\n",
    "from sklearn.model_selection import train_test_split\n",
    "from sklearn.linear_model import LinearRegression\n",
    "from sklearn.metrics import *\n"
   ]
  },
  {
   "cell_type": "markdown",
   "id": "8934f8ea",
   "metadata": {},
   "source": [
    "Importing the datasets"
   ]
  },
  {
   "cell_type": "code",
   "execution_count": 4,
   "id": "6a27e3d9",
   "metadata": {
    "scrolled": false
   },
   "outputs": [
    {
     "data": {
      "text/html": [
       "<div>\n",
       "<style scoped>\n",
       "    .dataframe tbody tr th:only-of-type {\n",
       "        vertical-align: middle;\n",
       "    }\n",
       "\n",
       "    .dataframe tbody tr th {\n",
       "        vertical-align: top;\n",
       "    }\n",
       "\n",
       "    .dataframe thead th {\n",
       "        text-align: right;\n",
       "    }\n",
       "</style>\n",
       "<table border=\"1\" class=\"dataframe\">\n",
       "  <thead>\n",
       "    <tr style=\"text-align: right;\">\n",
       "      <th></th>\n",
       "      <th>Administrative</th>\n",
       "      <th>Administrative_Duration</th>\n",
       "      <th>Informational</th>\n",
       "      <th>Informational_Duration</th>\n",
       "      <th>ProductRelated</th>\n",
       "      <th>ProductRelated_Duration</th>\n",
       "      <th>BounceRates</th>\n",
       "      <th>ExitRates</th>\n",
       "      <th>PageValues</th>\n",
       "      <th>SpecialDay</th>\n",
       "      <th>Month</th>\n",
       "      <th>OperatingSystems</th>\n",
       "      <th>Browser</th>\n",
       "      <th>Region</th>\n",
       "      <th>TrafficType</th>\n",
       "      <th>VisitorType</th>\n",
       "      <th>Weekend</th>\n",
       "      <th>Revenue</th>\n",
       "    </tr>\n",
       "  </thead>\n",
       "  <tbody>\n",
       "    <tr>\n",
       "      <th>0</th>\n",
       "      <td>0</td>\n",
       "      <td>0.0</td>\n",
       "      <td>0</td>\n",
       "      <td>0.0</td>\n",
       "      <td>1</td>\n",
       "      <td>0.000000</td>\n",
       "      <td>0.20</td>\n",
       "      <td>0.20</td>\n",
       "      <td>0.0</td>\n",
       "      <td>0.0</td>\n",
       "      <td>Feb</td>\n",
       "      <td>1</td>\n",
       "      <td>1</td>\n",
       "      <td>1</td>\n",
       "      <td>1</td>\n",
       "      <td>Returning_Visitor</td>\n",
       "      <td>False</td>\n",
       "      <td>False</td>\n",
       "    </tr>\n",
       "    <tr>\n",
       "      <th>1</th>\n",
       "      <td>0</td>\n",
       "      <td>0.0</td>\n",
       "      <td>0</td>\n",
       "      <td>0.0</td>\n",
       "      <td>2</td>\n",
       "      <td>64.000000</td>\n",
       "      <td>0.00</td>\n",
       "      <td>0.10</td>\n",
       "      <td>0.0</td>\n",
       "      <td>0.0</td>\n",
       "      <td>Feb</td>\n",
       "      <td>2</td>\n",
       "      <td>2</td>\n",
       "      <td>1</td>\n",
       "      <td>2</td>\n",
       "      <td>Returning_Visitor</td>\n",
       "      <td>False</td>\n",
       "      <td>False</td>\n",
       "    </tr>\n",
       "    <tr>\n",
       "      <th>2</th>\n",
       "      <td>0</td>\n",
       "      <td>0.0</td>\n",
       "      <td>0</td>\n",
       "      <td>0.0</td>\n",
       "      <td>1</td>\n",
       "      <td>0.000000</td>\n",
       "      <td>0.20</td>\n",
       "      <td>0.20</td>\n",
       "      <td>0.0</td>\n",
       "      <td>0.0</td>\n",
       "      <td>Feb</td>\n",
       "      <td>4</td>\n",
       "      <td>1</td>\n",
       "      <td>9</td>\n",
       "      <td>3</td>\n",
       "      <td>Returning_Visitor</td>\n",
       "      <td>False</td>\n",
       "      <td>False</td>\n",
       "    </tr>\n",
       "    <tr>\n",
       "      <th>3</th>\n",
       "      <td>0</td>\n",
       "      <td>0.0</td>\n",
       "      <td>0</td>\n",
       "      <td>0.0</td>\n",
       "      <td>2</td>\n",
       "      <td>2.666667</td>\n",
       "      <td>0.05</td>\n",
       "      <td>0.14</td>\n",
       "      <td>0.0</td>\n",
       "      <td>0.0</td>\n",
       "      <td>Feb</td>\n",
       "      <td>3</td>\n",
       "      <td>2</td>\n",
       "      <td>2</td>\n",
       "      <td>4</td>\n",
       "      <td>Returning_Visitor</td>\n",
       "      <td>False</td>\n",
       "      <td>False</td>\n",
       "    </tr>\n",
       "    <tr>\n",
       "      <th>4</th>\n",
       "      <td>0</td>\n",
       "      <td>0.0</td>\n",
       "      <td>0</td>\n",
       "      <td>0.0</td>\n",
       "      <td>10</td>\n",
       "      <td>627.500000</td>\n",
       "      <td>0.02</td>\n",
       "      <td>0.05</td>\n",
       "      <td>0.0</td>\n",
       "      <td>0.0</td>\n",
       "      <td>Feb</td>\n",
       "      <td>3</td>\n",
       "      <td>3</td>\n",
       "      <td>1</td>\n",
       "      <td>4</td>\n",
       "      <td>Returning_Visitor</td>\n",
       "      <td>True</td>\n",
       "      <td>False</td>\n",
       "    </tr>\n",
       "  </tbody>\n",
       "</table>\n",
       "</div>"
      ],
      "text/plain": [
       "   Administrative  Administrative_Duration  Informational  \\\n",
       "0               0                      0.0              0   \n",
       "1               0                      0.0              0   \n",
       "2               0                      0.0              0   \n",
       "3               0                      0.0              0   \n",
       "4               0                      0.0              0   \n",
       "\n",
       "   Informational_Duration  ProductRelated  ProductRelated_Duration  \\\n",
       "0                     0.0               1                 0.000000   \n",
       "1                     0.0               2                64.000000   \n",
       "2                     0.0               1                 0.000000   \n",
       "3                     0.0               2                 2.666667   \n",
       "4                     0.0              10               627.500000   \n",
       "\n",
       "   BounceRates  ExitRates  PageValues  SpecialDay Month  OperatingSystems  \\\n",
       "0         0.20       0.20         0.0         0.0   Feb                 1   \n",
       "1         0.00       0.10         0.0         0.0   Feb                 2   \n",
       "2         0.20       0.20         0.0         0.0   Feb                 4   \n",
       "3         0.05       0.14         0.0         0.0   Feb                 3   \n",
       "4         0.02       0.05         0.0         0.0   Feb                 3   \n",
       "\n",
       "   Browser  Region  TrafficType        VisitorType  Weekend  Revenue  \n",
       "0        1       1            1  Returning_Visitor    False    False  \n",
       "1        2       1            2  Returning_Visitor    False    False  \n",
       "2        1       9            3  Returning_Visitor    False    False  \n",
       "3        2       2            4  Returning_Visitor    False    False  \n",
       "4        3       1            4  Returning_Visitor     True    False  "
      ]
     },
     "execution_count": 4,
     "metadata": {},
     "output_type": "execute_result"
    },
    {
     "data": {
      "text/html": [
       "<div>\n",
       "<style scoped>\n",
       "    .dataframe tbody tr th:only-of-type {\n",
       "        vertical-align: middle;\n",
       "    }\n",
       "\n",
       "    .dataframe tbody tr th {\n",
       "        vertical-align: top;\n",
       "    }\n",
       "\n",
       "    .dataframe thead th {\n",
       "        text-align: right;\n",
       "    }\n",
       "</style>\n",
       "<table border=\"1\" class=\"dataframe\">\n",
       "  <thead>\n",
       "    <tr style=\"text-align: right;\">\n",
       "      <th></th>\n",
       "      <th>Unnamed: 0</th>\n",
       "      <th>Administrative</th>\n",
       "      <th>Administrative_Duration</th>\n",
       "      <th>Informational</th>\n",
       "      <th>Informational_Duration</th>\n",
       "      <th>ProductRelated</th>\n",
       "      <th>ProductRelated_Duration</th>\n",
       "      <th>BounceRates</th>\n",
       "      <th>ExitRates</th>\n",
       "      <th>PageValues</th>\n",
       "      <th>SpecialDay</th>\n",
       "      <th>Month</th>\n",
       "      <th>OperatingSystems</th>\n",
       "      <th>Browser</th>\n",
       "      <th>Region</th>\n",
       "      <th>TrafficType</th>\n",
       "      <th>VisitorType</th>\n",
       "      <th>Weekend</th>\n",
       "      <th>Revenue</th>\n",
       "    </tr>\n",
       "  </thead>\n",
       "  <tbody>\n",
       "    <tr>\n",
       "      <th>0</th>\n",
       "      <td>3496</td>\n",
       "      <td>0</td>\n",
       "      <td>0.000000</td>\n",
       "      <td>0</td>\n",
       "      <td>0.0</td>\n",
       "      <td>5</td>\n",
       "      <td>19.000000</td>\n",
       "      <td>0.000000</td>\n",
       "      <td>0.080000</td>\n",
       "      <td>0.000000</td>\n",
       "      <td>0.6</td>\n",
       "      <td>May</td>\n",
       "      <td>2</td>\n",
       "      <td>2</td>\n",
       "      <td>1</td>\n",
       "      <td>3</td>\n",
       "      <td>Returning_Visitor</td>\n",
       "      <td>False</td>\n",
       "      <td>False</td>\n",
       "    </tr>\n",
       "    <tr>\n",
       "      <th>1</th>\n",
       "      <td>9415</td>\n",
       "      <td>5</td>\n",
       "      <td>158.700000</td>\n",
       "      <td>0</td>\n",
       "      <td>0.0</td>\n",
       "      <td>51</td>\n",
       "      <td>1364.266667</td>\n",
       "      <td>0.007692</td>\n",
       "      <td>0.011987</td>\n",
       "      <td>0.000000</td>\n",
       "      <td>0.0</td>\n",
       "      <td>Nov</td>\n",
       "      <td>3</td>\n",
       "      <td>2</td>\n",
       "      <td>3</td>\n",
       "      <td>2</td>\n",
       "      <td>Returning_Visitor</td>\n",
       "      <td>True</td>\n",
       "      <td>False</td>\n",
       "    </tr>\n",
       "    <tr>\n",
       "      <th>2</th>\n",
       "      <td>9419</td>\n",
       "      <td>7</td>\n",
       "      <td>87.916667</td>\n",
       "      <td>1</td>\n",
       "      <td>0.0</td>\n",
       "      <td>46</td>\n",
       "      <td>1621.025379</td>\n",
       "      <td>0.004082</td>\n",
       "      <td>0.020544</td>\n",
       "      <td>6.023523</td>\n",
       "      <td>0.0</td>\n",
       "      <td>Dec</td>\n",
       "      <td>1</td>\n",
       "      <td>1</td>\n",
       "      <td>3</td>\n",
       "      <td>2</td>\n",
       "      <td>Returning_Visitor</td>\n",
       "      <td>False</td>\n",
       "      <td>False</td>\n",
       "    </tr>\n",
       "    <tr>\n",
       "      <th>3</th>\n",
       "      <td>3837</td>\n",
       "      <td>1</td>\n",
       "      <td>4.000000</td>\n",
       "      <td>0</td>\n",
       "      <td>0.0</td>\n",
       "      <td>37</td>\n",
       "      <td>1296.942857</td>\n",
       "      <td>0.013889</td>\n",
       "      <td>NaN</td>\n",
       "      <td>0.000000</td>\n",
       "      <td>0.8</td>\n",
       "      <td>May</td>\n",
       "      <td>2</td>\n",
       "      <td>2</td>\n",
       "      <td>4</td>\n",
       "      <td>2</td>\n",
       "      <td>Returning_Visitor</td>\n",
       "      <td>False</td>\n",
       "      <td>False</td>\n",
       "    </tr>\n",
       "    <tr>\n",
       "      <th>4</th>\n",
       "      <td>7305</td>\n",
       "      <td>2</td>\n",
       "      <td>132.400000</td>\n",
       "      <td>0</td>\n",
       "      <td>0.0</td>\n",
       "      <td>11</td>\n",
       "      <td>296.300000</td>\n",
       "      <td>0.000000</td>\n",
       "      <td>NaN</td>\n",
       "      <td>0.000000</td>\n",
       "      <td>0.0</td>\n",
       "      <td>Sep</td>\n",
       "      <td>2</td>\n",
       "      <td>4</td>\n",
       "      <td>3</td>\n",
       "      <td>2</td>\n",
       "      <td>New_Visitor</td>\n",
       "      <td>False</td>\n",
       "      <td>False</td>\n",
       "    </tr>\n",
       "  </tbody>\n",
       "</table>\n",
       "</div>"
      ],
      "text/plain": [
       "   Unnamed: 0  Administrative  Administrative_Duration  Informational  \\\n",
       "0        3496               0                 0.000000              0   \n",
       "1        9415               5               158.700000              0   \n",
       "2        9419               7                87.916667              1   \n",
       "3        3837               1                 4.000000              0   \n",
       "4        7305               2               132.400000              0   \n",
       "\n",
       "   Informational_Duration  ProductRelated  ProductRelated_Duration  \\\n",
       "0                     0.0               5                19.000000   \n",
       "1                     0.0              51              1364.266667   \n",
       "2                     0.0              46              1621.025379   \n",
       "3                     0.0              37              1296.942857   \n",
       "4                     0.0              11               296.300000   \n",
       "\n",
       "   BounceRates  ExitRates  PageValues  SpecialDay Month  OperatingSystems  \\\n",
       "0     0.000000   0.080000    0.000000         0.6   May                 2   \n",
       "1     0.007692   0.011987    0.000000         0.0   Nov                 3   \n",
       "2     0.004082   0.020544    6.023523         0.0   Dec                 1   \n",
       "3     0.013889        NaN    0.000000         0.8   May                 2   \n",
       "4     0.000000        NaN    0.000000         0.0   Sep                 2   \n",
       "\n",
       "   Browser  Region  TrafficType        VisitorType  Weekend  Revenue  \n",
       "0        2       1            3  Returning_Visitor    False    False  \n",
       "1        2       3            2  Returning_Visitor     True    False  \n",
       "2        1       3            2  Returning_Visitor    False    False  \n",
       "3        2       4            2  Returning_Visitor    False    False  \n",
       "4        4       3            2        New_Visitor    False    False  "
      ]
     },
     "execution_count": 4,
     "metadata": {},
     "output_type": "execute_result"
    }
   ],
   "source": [
    "online_shoppers = pd.read_csv(\"data/online_shoppers_intention.csv\")\n",
    "training_set = pd.read_csv(\"data/training_set_online_shoppers_intention.csv\")\n",
    "test_set = pd.read_csv(\"data/test_set_online_shoppers_intention.csv\")\n",
    "online_shoppers.head()\n",
    "training_set.head()"
   ]
  },
  {
   "cell_type": "markdown",
   "id": "f460f48b",
   "metadata": {},
   "source": [
    "Assign \"categorical\" to type of variables which are considered like that, so that they cannot be considered as \"numeric\""
   ]
  },
  {
   "cell_type": "code",
   "execution_count": null,
   "id": "893fcc9e",
   "metadata": {},
   "outputs": [],
   "source": [
    "online_shoppers['Month']=online_shoppers['Month'].astype('category')\n",
    "online_shoppers['OperatingSystems']=online_shoppers['OperatingSystems'].astype('category')\n",
    "online_shoppers['Browser']=online_shoppers['Browser'].astype('category')\n",
    "online_shoppers['Region']=online_shoppers['Region'].astype('category')\n",
    "online_shoppers['TrafficType']=online_shoppers['TrafficType'].astype('category')\n",
    "online_shoppers['VisitorType']=online_shoppers['VisitorType'].astype('category')\n",
    "online_shoppers['Weekend']=online_shoppers['Weekend'].astype('category')"
   ]
  },
  {
   "cell_type": "markdown",
   "id": "c380cbaa",
   "metadata": {},
   "source": [
    "# 1. Dataset inspection and regression"
   ]
  },
  {
   "cell_type": "markdown",
   "id": "cec85efc",
   "metadata": {},
   "source": [
    "## 1.1 Dataset inspection"
   ]
  },
  {
   "cell_type": "markdown",
   "id": "ccb6f775",
   "metadata": {},
   "source": [
    "First of all, we do some visual inspection on our data."
   ]
  },
  {
   "cell_type": "code",
   "execution_count": 72,
   "id": "c7e6dff4",
   "metadata": {
    "scrolled": false
   },
   "outputs": [
    {
     "data": {
      "text/plain": [
       "<AxesSubplot:xlabel='Month'>"
      ]
     },
     "execution_count": 72,
     "metadata": {},
     "output_type": "execute_result"
    },
    {
     "data": {
      "image/png": "[encoded data removed]",
      "text/plain": [
       "<Figure size 640x480 with 1 Axes>"
      ]
     },
     "metadata": {},
     "output_type": "display_data"
    }
   ],
   "source": [
    "# Month --> categorical\n",
    "#online_shoppers['Month'].unique() # 10 categories\n",
    "df = pd.DataFrame({'Month':list(online_shoppers['Month'].value_counts().index), \n",
    "                   'counts':list(online_shoppers['Month'].value_counts().values)})\n",
    "df.plot.bar(x='Month', y='counts', rot=0)"
   ]
  },
  {
   "cell_type": "code",
   "execution_count": 73,
   "id": "e0bd3c68",
   "metadata": {
    "scrolled": false
   },
   "outputs": [
    {
     "data": {
      "text/plain": [
       "array([1, 2, 4, 3, 7, 6, 8, 5], dtype=int64)"
      ]
     },
     "execution_count": 73,
     "metadata": {},
     "output_type": "execute_result"
    },
    {
     "data": {
      "text/plain": [
       "2    6601\n",
       "1    2585\n",
       "3    2555\n",
       "4     478\n",
       "8      79\n",
       "6      19\n",
       "7       7\n",
       "5       6\n",
       "Name: OperatingSystems, dtype: int64"
      ]
     },
     "execution_count": 73,
     "metadata": {},
     "output_type": "execute_result"
    },
    {
     "data": {
      "text/plain": [
       "<AxesSubplot:xlabel='Operating system'>"
      ]
     },
     "execution_count": 73,
     "metadata": {},
     "output_type": "execute_result"
    },
    {
     "data": {
      "image/png": "[encoded data removed]",
      "text/plain": [
       "<Figure size 640x480 with 1 Axes>"
      ]
     },
     "metadata": {},
     "output_type": "display_data"
    }
   ],
   "source": [
    "# OperatingSystems --> categorical\n",
    "online_shoppers['OperatingSystems'].unique() # 8 categories\n",
    "online_shoppers['OperatingSystems'].value_counts()\n",
    "df = pd.DataFrame({'Operating system':list(online_shoppers['OperatingSystems'].value_counts().index), \n",
    "                   'counts':list(online_shoppers['OperatingSystems'].value_counts().values)})\n",
    "df.plot.bar(x='Operating system', y='counts', rot=0)"
   ]
  },
  {
   "cell_type": "code",
   "execution_count": 74,
   "id": "b776dcc9",
   "metadata": {
    "scrolled": false
   },
   "outputs": [
    {
     "data": {
      "text/plain": [
       "array([ 1,  2,  3,  4,  5,  6,  7, 10,  8,  9, 12, 13, 11], dtype=int64)"
      ]
     },
     "execution_count": 74,
     "metadata": {},
     "output_type": "execute_result"
    },
    {
     "data": {
      "text/plain": [
       "2     7961\n",
       "1     2462\n",
       "4      736\n",
       "5      467\n",
       "6      174\n",
       "10     163\n",
       "8      135\n",
       "3      105\n",
       "13      61\n",
       "7       49\n",
       "12      10\n",
       "11       6\n",
       "9        1\n",
       "Name: Browser, dtype: int64"
      ]
     },
     "execution_count": 74,
     "metadata": {},
     "output_type": "execute_result"
    },
    {
     "data": {
      "text/plain": [
       "<AxesSubplot:xlabel='Browser'>"
      ]
     },
     "execution_count": 74,
     "metadata": {},
     "output_type": "execute_result"
    },
    {
     "data": {
      "image/png": "[encoded data removed]",
      "text/plain": [
       "<Figure size 640x480 with 1 Axes>"
      ]
     },
     "metadata": {},
     "output_type": "display_data"
    }
   ],
   "source": [
    "# Browser --> categorical\n",
    "online_shoppers['Browser'].unique() # 13 categories\n",
    "online_shoppers['Browser'].value_counts()\n",
    "df = pd.DataFrame({'Browser':list(online_shoppers['Browser'].value_counts().index), \n",
    "                   'counts':list(online_shoppers['Browser'].value_counts().values)})\n",
    "df.plot.bar(x='Browser', y='counts', rot=0)"
   ]
  },
  {
   "cell_type": "code",
   "execution_count": 75,
   "id": "bb18adfa",
   "metadata": {
    "scrolled": false
   },
   "outputs": [
    {
     "data": {
      "text/plain": [
       "array([1, 9, 2, 3, 4, 5, 6, 7, 8], dtype=int64)"
      ]
     },
     "execution_count": 75,
     "metadata": {},
     "output_type": "execute_result"
    },
    {
     "data": {
      "text/plain": [
       "1    4780\n",
       "3    2403\n",
       "4    1182\n",
       "2    1136\n",
       "6     805\n",
       "7     761\n",
       "9     511\n",
       "8     434\n",
       "5     318\n",
       "Name: Region, dtype: int64"
      ]
     },
     "execution_count": 75,
     "metadata": {},
     "output_type": "execute_result"
    },
    {
     "data": {
      "text/plain": [
       "<AxesSubplot:xlabel='Region'>"
      ]
     },
     "execution_count": 75,
     "metadata": {},
     "output_type": "execute_result"
    },
    {
     "data": {
      "image/png": "[encoded data removed]",
      "text/plain": [
       "<Figure size 640x480 with 1 Axes>"
      ]
     },
     "metadata": {},
     "output_type": "display_data"
    }
   ],
   "source": [
    "# Region --> categorical\n",
    "online_shoppers['Region'].unique() # 9 categories\n",
    "online_shoppers['Region'].value_counts()\n",
    "df = pd.DataFrame({'Region':list(online_shoppers['Region'].value_counts().index), \n",
    "                   'counts':list(online_shoppers['Region'].value_counts().values)})\n",
    "df.plot.bar(x='Region', y='counts', rot=0)"
   ]
  },
  {
   "cell_type": "code",
   "execution_count": 76,
   "id": "08eb4b93",
   "metadata": {
    "scrolled": false
   },
   "outputs": [
    {
     "data": {
      "text/plain": [
       "array([ 1,  2,  3,  4,  5,  6,  7,  8,  9, 10, 11, 12, 13, 14, 15, 18, 19,\n",
       "       16, 17, 20], dtype=int64)"
      ]
     },
     "execution_count": 76,
     "metadata": {},
     "output_type": "execute_result"
    },
    {
     "data": {
      "text/plain": [
       "2     3913\n",
       "1     2451\n",
       "3     2052\n",
       "4     1069\n",
       "13     738\n",
       "10     450\n",
       "6      444\n",
       "8      343\n",
       "5      260\n",
       "11     247\n",
       "20     198\n",
       "9       42\n",
       "7       40\n",
       "15      38\n",
       "19      17\n",
       "14      13\n",
       "18      10\n",
       "16       3\n",
       "12       1\n",
       "17       1\n",
       "Name: TrafficType, dtype: int64"
      ]
     },
     "execution_count": 76,
     "metadata": {},
     "output_type": "execute_result"
    },
    {
     "data": {
      "text/plain": [
       "<AxesSubplot:xlabel='Traffic type'>"
      ]
     },
     "execution_count": 76,
     "metadata": {},
     "output_type": "execute_result"
    },
    {
     "data": {
      "image/png": "[encoded data removed]",
      "text/plain": [
       "<Figure size 640x480 with 1 Axes>"
      ]
     },
     "metadata": {},
     "output_type": "display_data"
    }
   ],
   "source": [
    "# TrafficType --> categorical\n",
    "online_shoppers['TrafficType'].unique() # 20 categories\n",
    "online_shoppers['TrafficType'].value_counts()\n",
    "df = pd.DataFrame({'Traffic type':list(online_shoppers['TrafficType'].value_counts().index), \n",
    "                   'counts':list(online_shoppers['TrafficType'].value_counts().values)})\n",
    "df.plot.bar(x='Traffic type', y='counts', rot=0)"
   ]
  },
  {
   "cell_type": "code",
   "execution_count": 77,
   "id": "05dbc60c",
   "metadata": {
    "scrolled": false
   },
   "outputs": [
    {
     "data": {
      "text/plain": [
       "array(['Returning_Visitor', 'New_Visitor', 'Other'], dtype=object)"
      ]
     },
     "execution_count": 77,
     "metadata": {},
     "output_type": "execute_result"
    },
    {
     "data": {
      "text/plain": [
       "Returning_Visitor    10551\n",
       "New_Visitor           1694\n",
       "Other                   85\n",
       "Name: VisitorType, dtype: int64"
      ]
     },
     "execution_count": 77,
     "metadata": {},
     "output_type": "execute_result"
    },
    {
     "data": {
      "text/plain": [
       "<AxesSubplot:xlabel='Visitor type'>"
      ]
     },
     "execution_count": 77,
     "metadata": {},
     "output_type": "execute_result"
    },
    {
     "data": {
      "text/plain": [
       "<AxesSubplot:ylabel='Visitor type'>"
      ]
     },
     "execution_count": 77,
     "metadata": {},
     "output_type": "execute_result"
    },
    {
     "data": {
      "image/png": "[encoded data removed]",
      "text/plain": [
       "<Figure size 640x480 with 1 Axes>"
      ]
     },
     "metadata": {},
     "output_type": "display_data"
    },
    {
     "data": {
      "image/png": "[encoded data removed]",
      "text/plain": [
       "<Figure size 500x500 with 1 Axes>"
      ]
     },
     "metadata": {},
     "output_type": "display_data"
    }
   ],
   "source": [
    "# VisitorType --> categorical\n",
    "online_shoppers['VisitorType'].unique() # 3 categories\n",
    "online_shoppers['VisitorType'].value_counts()\n",
    "df_bar = pd.DataFrame({'Visitor type':list(online_shoppers['VisitorType'].value_counts().index), \n",
    "                       'counts':list(online_shoppers['VisitorType'].value_counts().values)})\n",
    "df_bar.plot.bar(x='Visitor type', y='counts', rot=0)\n",
    "df_pie = pd.DataFrame({'Visitor type': list(online_shoppers['VisitorType'].value_counts().values)},\n",
    "                  index=list(online_shoppers['VisitorType'].value_counts().index))\n",
    "df_pie.plot.pie(y='Visitor type', figsize=(5, 5))"
   ]
  },
  {
   "cell_type": "code",
   "execution_count": 78,
   "id": "8dfbd390",
   "metadata": {
    "scrolled": false
   },
   "outputs": [
    {
     "data": {
      "text/plain": [
       "array([False,  True])"
      ]
     },
     "execution_count": 78,
     "metadata": {},
     "output_type": "execute_result"
    },
    {
     "data": {
      "text/plain": [
       "False    9462\n",
       "True     2868\n",
       "Name: Weekend, dtype: int64"
      ]
     },
     "execution_count": 78,
     "metadata": {},
     "output_type": "execute_result"
    },
    {
     "data": {
      "text/plain": [
       "<AxesSubplot:xlabel='Weekend'>"
      ]
     },
     "execution_count": 78,
     "metadata": {},
     "output_type": "execute_result"
    },
    {
     "data": {
      "text/plain": [
       "<AxesSubplot:ylabel='Weekend'>"
      ]
     },
     "execution_count": 78,
     "metadata": {},
     "output_type": "execute_result"
    },
    {
     "data": {
      "image/png": "[encoded data removed]",
      "text/plain": [
       "<Figure size 640x480 with 1 Axes>"
      ]
     },
     "metadata": {},
     "output_type": "display_data"
    },
    {
     "data": {
      "image/png": "[encoded data removed]",
      "text/plain": [
       "<Figure size 500x500 with 1 Axes>"
      ]
     },
     "metadata": {},
     "output_type": "display_data"
    }
   ],
   "source": [
    "# Weekend --> categorical\n",
    "online_shoppers['Weekend'].unique() # 2 categories (binary)\n",
    "online_shoppers['Weekend'].value_counts()\n",
    "df_bar = pd.DataFrame({'Weekend':list(online_shoppers['Weekend'].value_counts().index), \n",
    "                       'counts':list(online_shoppers['Weekend'].value_counts().values)})\n",
    "df_bar.plot.bar(x='Weekend', y='counts', rot=0)\n",
    "df_pie = pd.DataFrame({'Weekend': list(online_shoppers['Weekend'].value_counts().values)},\n",
    "                  index=list(online_shoppers['Weekend'].value_counts().index))\n",
    "df_pie.plot.pie(y='Weekend', figsize=(5, 5))"
   ]
  },
  {
   "cell_type": "code",
   "execution_count": 79,
   "id": "b453b584",
   "metadata": {},
   "outputs": [
    {
     "data": {
      "text/html": [
       "<div>\n",
       "<style scoped>\n",
       "    .dataframe tbody tr th:only-of-type {\n",
       "        vertical-align: middle;\n",
       "    }\n",
       "\n",
       "    .dataframe tbody tr th {\n",
       "        vertical-align: top;\n",
       "    }\n",
       "\n",
       "    .dataframe thead th {\n",
       "        text-align: right;\n",
       "    }\n",
       "</style>\n",
       "<table border=\"1\" class=\"dataframe\">\n",
       "  <thead>\n",
       "    <tr style=\"text-align: right;\">\n",
       "      <th></th>\n",
       "      <th>Administrative</th>\n",
       "      <th>Administrative_Duration</th>\n",
       "      <th>Informational</th>\n",
       "      <th>Informational_Duration</th>\n",
       "      <th>ProductRelated</th>\n",
       "      <th>ProductRelated_Duration</th>\n",
       "      <th>BounceRates</th>\n",
       "      <th>ExitRates</th>\n",
       "      <th>PageValues</th>\n",
       "      <th>SpecialDay</th>\n",
       "    </tr>\n",
       "  </thead>\n",
       "  <tbody>\n",
       "    <tr>\n",
       "      <th>count</th>\n",
       "      <td>12330.000000</td>\n",
       "      <td>12330.000000</td>\n",
       "      <td>12330.000000</td>\n",
       "      <td>12330.000000</td>\n",
       "      <td>12330.000000</td>\n",
       "      <td>12330.000000</td>\n",
       "      <td>12330.000000</td>\n",
       "      <td>12330.000000</td>\n",
       "      <td>12330.000000</td>\n",
       "      <td>12330.000000</td>\n",
       "    </tr>\n",
       "    <tr>\n",
       "      <th>mean</th>\n",
       "      <td>2.315166</td>\n",
       "      <td>80.818611</td>\n",
       "      <td>0.503569</td>\n",
       "      <td>34.472398</td>\n",
       "      <td>31.731468</td>\n",
       "      <td>1194.746220</td>\n",
       "      <td>0.022191</td>\n",
       "      <td>0.043073</td>\n",
       "      <td>5.889258</td>\n",
       "      <td>0.061427</td>\n",
       "    </tr>\n",
       "    <tr>\n",
       "      <th>std</th>\n",
       "      <td>3.321784</td>\n",
       "      <td>176.779107</td>\n",
       "      <td>1.270156</td>\n",
       "      <td>140.749294</td>\n",
       "      <td>44.475503</td>\n",
       "      <td>1913.669288</td>\n",
       "      <td>0.048488</td>\n",
       "      <td>0.048597</td>\n",
       "      <td>18.568437</td>\n",
       "      <td>0.198917</td>\n",
       "    </tr>\n",
       "    <tr>\n",
       "      <th>min</th>\n",
       "      <td>0.000000</td>\n",
       "      <td>0.000000</td>\n",
       "      <td>0.000000</td>\n",
       "      <td>0.000000</td>\n",
       "      <td>0.000000</td>\n",
       "      <td>0.000000</td>\n",
       "      <td>0.000000</td>\n",
       "      <td>0.000000</td>\n",
       "      <td>0.000000</td>\n",
       "      <td>0.000000</td>\n",
       "    </tr>\n",
       "    <tr>\n",
       "      <th>25%</th>\n",
       "      <td>0.000000</td>\n",
       "      <td>0.000000</td>\n",
       "      <td>0.000000</td>\n",
       "      <td>0.000000</td>\n",
       "      <td>7.000000</td>\n",
       "      <td>184.137500</td>\n",
       "      <td>0.000000</td>\n",
       "      <td>0.014286</td>\n",
       "      <td>0.000000</td>\n",
       "      <td>0.000000</td>\n",
       "    </tr>\n",
       "    <tr>\n",
       "      <th>50%</th>\n",
       "      <td>1.000000</td>\n",
       "      <td>7.500000</td>\n",
       "      <td>0.000000</td>\n",
       "      <td>0.000000</td>\n",
       "      <td>18.000000</td>\n",
       "      <td>598.936905</td>\n",
       "      <td>0.003112</td>\n",
       "      <td>0.025156</td>\n",
       "      <td>0.000000</td>\n",
       "      <td>0.000000</td>\n",
       "    </tr>\n",
       "    <tr>\n",
       "      <th>75%</th>\n",
       "      <td>4.000000</td>\n",
       "      <td>93.256250</td>\n",
       "      <td>0.000000</td>\n",
       "      <td>0.000000</td>\n",
       "      <td>38.000000</td>\n",
       "      <td>1464.157214</td>\n",
       "      <td>0.016813</td>\n",
       "      <td>0.050000</td>\n",
       "      <td>0.000000</td>\n",
       "      <td>0.000000</td>\n",
       "    </tr>\n",
       "    <tr>\n",
       "      <th>max</th>\n",
       "      <td>27.000000</td>\n",
       "      <td>3398.750000</td>\n",
       "      <td>24.000000</td>\n",
       "      <td>2549.375000</td>\n",
       "      <td>705.000000</td>\n",
       "      <td>63973.522230</td>\n",
       "      <td>0.200000</td>\n",
       "      <td>0.200000</td>\n",
       "      <td>361.763742</td>\n",
       "      <td>1.000000</td>\n",
       "    </tr>\n",
       "  </tbody>\n",
       "</table>\n",
       "</div>"
      ],
      "text/plain": [
       "       Administrative  Administrative_Duration  Informational  \\\n",
       "count    12330.000000             12330.000000   12330.000000   \n",
       "mean         2.315166                80.818611       0.503569   \n",
       "std          3.321784               176.779107       1.270156   \n",
       "min          0.000000                 0.000000       0.000000   \n",
       "25%          0.000000                 0.000000       0.000000   \n",
       "50%          1.000000                 7.500000       0.000000   \n",
       "75%          4.000000                93.256250       0.000000   \n",
       "max         27.000000              3398.750000      24.000000   \n",
       "\n",
       "       Informational_Duration  ProductRelated  ProductRelated_Duration  \\\n",
       "count            12330.000000    12330.000000             12330.000000   \n",
       "mean                34.472398       31.731468              1194.746220   \n",
       "std                140.749294       44.475503              1913.669288   \n",
       "min                  0.000000        0.000000                 0.000000   \n",
       "25%                  0.000000        7.000000               184.137500   \n",
       "50%                  0.000000       18.000000               598.936905   \n",
       "75%                  0.000000       38.000000              1464.157214   \n",
       "max               2549.375000      705.000000             63973.522230   \n",
       "\n",
       "        BounceRates     ExitRates    PageValues    SpecialDay  \n",
       "count  12330.000000  12330.000000  12330.000000  12330.000000  \n",
       "mean       0.022191      0.043073      5.889258      0.061427  \n",
       "std        0.048488      0.048597     18.568437      0.198917  \n",
       "min        0.000000      0.000000      0.000000      0.000000  \n",
       "25%        0.000000      0.014286      0.000000      0.000000  \n",
       "50%        0.003112      0.025156      0.000000      0.000000  \n",
       "75%        0.016813      0.050000      0.000000      0.000000  \n",
       "max        0.200000      0.200000    361.763742      1.000000  "
      ]
     },
     "execution_count": 79,
     "metadata": {},
     "output_type": "execute_result"
    }
   ],
   "source": [
    "df = pd.DataFrame({'Administrative':online_shoppers['Administrative'],\n",
    "                   'Administrative_Duration':online_shoppers['Administrative_Duration'],\n",
    "                   'Informational':online_shoppers['Informational'],\n",
    "                   'Informational_Duration':online_shoppers['Informational_Duration'],\n",
    "                   'ProductRelated':online_shoppers['ProductRelated'], \n",
    "                   'ProductRelated_Duration':online_shoppers['ProductRelated_Duration'],\n",
    "                   'BounceRates':online_shoppers['BounceRates'], \n",
    "                   'ExitRates':online_shoppers['ExitRates'],\n",
    "                   'PageValues':online_shoppers['PageValues'], \n",
    "                   'SpecialDay':online_shoppers['SpecialDay']}) \n",
    "df.describe()"
   ]
  },
  {
   "cell_type": "code",
   "execution_count": 80,
   "id": "55e4ad69",
   "metadata": {
    "scrolled": false
   },
   "outputs": [
    {
     "data": {
      "text/html": [
       "<div>\n",
       "<style scoped>\n",
       "    .dataframe tbody tr th:only-of-type {\n",
       "        vertical-align: middle;\n",
       "    }\n",
       "\n",
       "    .dataframe tbody tr th {\n",
       "        vertical-align: top;\n",
       "    }\n",
       "\n",
       "    .dataframe thead th {\n",
       "        text-align: right;\n",
       "    }\n",
       "</style>\n",
       "<table border=\"1\" class=\"dataframe\">\n",
       "  <thead>\n",
       "    <tr style=\"text-align: right;\">\n",
       "      <th></th>\n",
       "      <th>Administrative</th>\n",
       "      <th>Informational</th>\n",
       "      <th>ProductRelated</th>\n",
       "    </tr>\n",
       "  </thead>\n",
       "  <tbody>\n",
       "    <tr>\n",
       "      <th>count</th>\n",
       "      <td>12330.000000</td>\n",
       "      <td>12330.000000</td>\n",
       "      <td>12330.000000</td>\n",
       "    </tr>\n",
       "    <tr>\n",
       "      <th>mean</th>\n",
       "      <td>2.315166</td>\n",
       "      <td>0.503569</td>\n",
       "      <td>31.731468</td>\n",
       "    </tr>\n",
       "    <tr>\n",
       "      <th>std</th>\n",
       "      <td>3.321784</td>\n",
       "      <td>1.270156</td>\n",
       "      <td>44.475503</td>\n",
       "    </tr>\n",
       "    <tr>\n",
       "      <th>min</th>\n",
       "      <td>0.000000</td>\n",
       "      <td>0.000000</td>\n",
       "      <td>0.000000</td>\n",
       "    </tr>\n",
       "    <tr>\n",
       "      <th>25%</th>\n",
       "      <td>0.000000</td>\n",
       "      <td>0.000000</td>\n",
       "      <td>7.000000</td>\n",
       "    </tr>\n",
       "    <tr>\n",
       "      <th>50%</th>\n",
       "      <td>1.000000</td>\n",
       "      <td>0.000000</td>\n",
       "      <td>18.000000</td>\n",
       "    </tr>\n",
       "    <tr>\n",
       "      <th>75%</th>\n",
       "      <td>4.000000</td>\n",
       "      <td>0.000000</td>\n",
       "      <td>38.000000</td>\n",
       "    </tr>\n",
       "    <tr>\n",
       "      <th>max</th>\n",
       "      <td>27.000000</td>\n",
       "      <td>24.000000</td>\n",
       "      <td>705.000000</td>\n",
       "    </tr>\n",
       "  </tbody>\n",
       "</table>\n",
       "</div>"
      ],
      "text/plain": [
       "       Administrative  Informational  ProductRelated\n",
       "count    12330.000000   12330.000000    12330.000000\n",
       "mean         2.315166       0.503569       31.731468\n",
       "std          3.321784       1.270156       44.475503\n",
       "min          0.000000       0.000000        0.000000\n",
       "25%          0.000000       0.000000        7.000000\n",
       "50%          1.000000       0.000000       18.000000\n",
       "75%          4.000000       0.000000       38.000000\n",
       "max         27.000000      24.000000      705.000000"
      ]
     },
     "execution_count": 80,
     "metadata": {},
     "output_type": "execute_result"
    },
    {
     "data": {
      "text/plain": [
       "<AxesSubplot:>"
      ]
     },
     "execution_count": 80,
     "metadata": {},
     "output_type": "execute_result"
    },
    {
     "data": {
      "text/plain": [
       "(-1.0, 15.0)"
      ]
     },
     "execution_count": 80,
     "metadata": {},
     "output_type": "execute_result"
    },
    {
     "data": {
      "image/png": "[encoded data removed]",
      "text/plain": [
       "<Figure size 640x480 with 1 Axes>"
      ]
     },
     "metadata": {},
     "output_type": "display_data"
    }
   ],
   "source": [
    "df = pd.DataFrame({'Administrative':online_shoppers['Administrative'], \n",
    "                   'Informational':online_shoppers['Informational'],\n",
    "                   'ProductRelated':online_shoppers['ProductRelated']}) \n",
    "df.describe()\n",
    "# Administrative --> continue\n",
    "sns.boxplot(data=df['Administrative'], orient='v', fliersize = 0)\n",
    "plt.ylim(-1, 15)\n",
    "# toglie fliersize nel boxplot per visualizzare gli outliers"
   ]
  },
  {
   "cell_type": "code",
   "execution_count": 81,
   "id": "45109f82",
   "metadata": {
    "scrolled": false
   },
   "outputs": [
    {
     "data": {
      "text/plain": [
       "<AxesSubplot:>"
      ]
     },
     "execution_count": 81,
     "metadata": {},
     "output_type": "execute_result"
    },
    {
     "data": {
      "text/plain": [
       "(-1.0, 5.0)"
      ]
     },
     "execution_count": 81,
     "metadata": {},
     "output_type": "execute_result"
    },
    {
     "data": {
      "image/png": "[encoded data removed]",
      "text/plain": [
       "<Figure size 640x480 with 1 Axes>"
      ]
     },
     "metadata": {},
     "output_type": "display_data"
    }
   ],
   "source": [
    "# Informational --> continue\n",
    "sns.boxplot(data=df['Informational'], orient='v', fliersize = 0)\n",
    "plt.ylim(-1, 5)"
   ]
  },
  {
   "cell_type": "code",
   "execution_count": 82,
   "id": "56642efd",
   "metadata": {
    "scrolled": false
   },
   "outputs": [
    {
     "data": {
      "text/plain": [
       "<AxesSubplot:>"
      ]
     },
     "execution_count": 82,
     "metadata": {},
     "output_type": "execute_result"
    },
    {
     "data": {
      "text/plain": [
       "(-1.0, 100.0)"
      ]
     },
     "execution_count": 82,
     "metadata": {},
     "output_type": "execute_result"
    },
    {
     "data": {
      "image/png": "[encoded data removed]",
      "text/plain": [
       "<Figure size 640x480 with 1 Axes>"
      ]
     },
     "metadata": {},
     "output_type": "display_data"
    }
   ],
   "source": [
    "# ProductRelated --> continue\n",
    "sns.boxplot(data=df['ProductRelated'], orient='v', fliersize = 0)\n",
    "plt.ylim(-1, 100)"
   ]
  },
  {
   "cell_type": "code",
   "execution_count": 83,
   "id": "299529fa",
   "metadata": {
    "scrolled": false
   },
   "outputs": [
    {
     "data": {
      "text/plain": [
       "<AxesSubplot:>"
      ]
     },
     "execution_count": 83,
     "metadata": {},
     "output_type": "execute_result"
    },
    {
     "data": {
      "text/plain": [
       "(-10.0, 100.0)"
      ]
     },
     "execution_count": 83,
     "metadata": {},
     "output_type": "execute_result"
    },
    {
     "data": {
      "image/png": "[encoded data removed]",
      "text/plain": [
       "<Figure size 640x480 with 1 Axes>"
      ]
     },
     "metadata": {},
     "output_type": "display_data"
    }
   ],
   "source": [
    "sns.boxplot(data=df, orient='v', fliersize = 0)\n",
    "plt.ylim(-10, 100)"
   ]
  },
  {
   "cell_type": "code",
   "execution_count": null,
   "id": "a8ba68b5",
   "metadata": {
    "scrolled": true
   },
   "outputs": [],
   "source": [
    "df = pd.DataFrame({'Administrative_Duration':online_shoppers['Administrative_Duration'], \n",
    "                   'Informational_Duration':online_shoppers['Informational_Duration'],\n",
    "                   'ProductRelated_Duration':online_shoppers['ProductRelated_Duration']}) \n",
    "df.describe()\n",
    "# Administrative_Duration --> continue\n",
    "sns.boxplot(data=df['Administrative_Duration'], orient='v', fliersize = 0)\n",
    "plt.ylim(-10, 300)"
   ]
  },
  {
   "cell_type": "code",
   "execution_count": null,
   "id": "b51cd9fe",
   "metadata": {
    "scrolled": true
   },
   "outputs": [],
   "source": [
    "# Informational_Duration --> continue\n",
    "sns.boxplot(data=df['Informational_Duration'], orient='v', fliersize = 0)\n",
    "plt.ylim(-1, 5)"
   ]
  },
  {
   "cell_type": "code",
   "execution_count": null,
   "id": "6a6109d2",
   "metadata": {
    "scrolled": true
   },
   "outputs": [],
   "source": [
    "# ProductRelated_Duration --> continue\n",
    "sns.boxplot(data=df['ProductRelated_Duration'], orient='v', fliersize = 0)\n",
    "plt.ylim(-100, 4000)"
   ]
  },
  {
   "cell_type": "code",
   "execution_count": null,
   "id": "f62de582",
   "metadata": {
    "scrolled": true
   },
   "outputs": [],
   "source": [
    "sns.boxplot(data=df, orient='v', fliersize = 0)\n",
    "plt.ylim(-100, 4000)"
   ]
  },
  {
   "cell_type": "code",
   "execution_count": null,
   "id": "c42df317",
   "metadata": {
    "scrolled": true
   },
   "outputs": [],
   "source": [
    "df = pd.DataFrame({'BounceRates':online_shoppers['BounceRates'], \n",
    "                   'ExitRates':online_shoppers['ExitRates']}) \n",
    "df.describe()\n",
    "# BounceRates and ExitRates --> continues\n",
    "sns.boxplot(data=df[['BounceRates', 'ExitRates']], orient='v', fliersize=0)\n",
    "plt.ylim(-1, 5)"
   ]
  },
  {
   "cell_type": "code",
   "execution_count": null,
   "id": "28abb490",
   "metadata": {
    "scrolled": true
   },
   "outputs": [],
   "source": [
    "# PageValues --> continue\n",
    "online_shoppers['PageValues'].describe()\n",
    "sns.boxplot(data=online_shoppers['PageValues'], orient='v', fliersize=0)\n",
    "plt.ylim(-1, 5)"
   ]
  },
  {
   "cell_type": "code",
   "execution_count": null,
   "id": "f26010a5",
   "metadata": {
    "scrolled": true
   },
   "outputs": [],
   "source": [
    "# SpecialDay --> continue\n",
    "online_shoppers['SpecialDay'].describe()\n",
    "sns.boxplot(data=online_shoppers['SpecialDay'], orient='v', fliersize=0)\n",
    "plt.ylim(-1, 5)"
   ]
  },
  {
   "cell_type": "markdown",
   "id": "cfe30208",
   "metadata": {},
   "source": [
    "We want to know which are the most correlated variables with the target class and if there is any correlation between the variables.\n",
    "We start considering if there is a correlation between some variables"
   ]
  },
  {
   "cell_type": "markdown",
   "id": "3cdce7b0",
   "metadata": {},
   "source": [
    "We firstly check if there is any correlation printing the heatmap to see if there is any correlation between the dataset features. The most correlated variables are:\n",
    "* Administrative, Administrative_Duration\n",
    "* Informational, Informational_Duration\n",
    "* ProductRelated, ProductRelated_Duration\n",
    "* BounceRates (% of visitors that leave the website without viewing any other page), ExitRates (% of visitors that leave the website from that page without purchasing)"
   ]
  },
  {
   "cell_type": "code",
   "execution_count": null,
   "id": "88458c97",
   "metadata": {
    "scrolled": false
   },
   "outputs": [],
   "source": [
    "sns.heatmap(online_shoppers.corr())"
   ]
  },
  {
   "cell_type": "markdown",
   "id": "c7c40445",
   "metadata": {},
   "source": [
    "Now we print a scatterplot for the pairs of variables for which we found a correlation"
   ]
  },
  {
   "cell_type": "code",
   "execution_count": null,
   "id": "28c8b5b2",
   "metadata": {},
   "outputs": [],
   "source": [
    "online_shoppers.plot.scatter('Administrative','Administrative_Duration')\n",
    "online_shoppers.plot.scatter('Informational','Informational_Duration')\n",
    "online_shoppers.plot.scatter('ProductRelated','ProductRelated_Duration')\n",
    "online_shoppers.plot.scatter('BounceRates','ExitRates')"
   ]
  },
  {
   "cell_type": "markdown",
   "id": "d387bcf9",
   "metadata": {},
   "source": [
    "## 1.2 Regression"
   ]
  },
  {
   "cell_type": "code",
   "execution_count": 6,
   "id": "1fb6f27a",
   "metadata": {},
   "outputs": [
    {
     "data": {
      "text/plain": [
       "2         5954\n",
       "1         1821\n",
       "4          559\n",
       "5          356\n",
       "6          136\n",
       "Others     126\n",
       "10         124\n",
       "8          106\n",
       "Name: Browser, dtype: int64"
      ]
     },
     "execution_count": 6,
     "metadata": {},
     "output_type": "execute_result"
    },
    {
     "data": {
      "text/plain": [
       "2         2963\n",
       "1         1839\n",
       "3         1505\n",
       "4          804\n",
       "13         557\n",
       "10         331\n",
       "6          319\n",
       "8          255\n",
       "5          209\n",
       "11         175\n",
       "Others     116\n",
       "20         109\n",
       "Name: TrafficType, dtype: int64"
      ]
     },
     "execution_count": 6,
     "metadata": {},
     "output_type": "execute_result"
    },
    {
     "data": {
      "text/plain": [
       "2         4934\n",
       "3         1927\n",
       "1         1924\n",
       "4          355\n",
       "Others      42\n",
       "Name: OperatingSystems, dtype: int64"
      ]
     },
     "execution_count": 6,
     "metadata": {},
     "output_type": "execute_result"
    }
   ],
   "source": [
    "# VisitorType -> others removed\n",
    "training_set = training_set[training_set['VisitorType']!='Other']\n",
    "\n",
    "#VisitorType -> 1 = returning, 0 = new\n",
    "training_set['VisitorType'] = np.where(training_set['VisitorType']=='Returning_Visitor',1,0)\n",
    "\n",
    "# Weekend\n",
    "training_set['Weekend'] = np.where(training_set['Weekend']=='False',1,0)\n",
    "\n",
    "# Split categorical variables\n",
    "months = pd.get_dummies(training_set.Month, prefix='Month')\n",
    "regions = pd.get_dummies(training_set.Region, prefix='Region')\n",
    "\n",
    "\n",
    "# Looking at the other data to decide if we can set a threshold for the 'other' category\n",
    "#training_set['Browser'].value_counts()\n",
    "#training_set['TrafficType'].value_counts()\n",
    "#training_set['OperatingSystems'].value_counts()\n",
    "\n",
    "def cut_levels(x, threshold, new_value):\n",
    "    x = x.copy()\n",
    "    value_counts = x.value_counts()\n",
    "    labels = value_counts.index[value_counts < threshold]\n",
    "    x[np.in1d(x, labels)] = new_value\n",
    "    return x\n",
    "\n",
    "training_set['Browser'] = cut_levels(training_set['Browser'],100,'Others')\n",
    "training_set['TrafficType'] = cut_levels(training_set['TrafficType'],100,'Others')\n",
    "training_set['OperatingSystems'] = cut_levels(training_set['OperatingSystems'],100,'Others')\n",
    "\n",
    "# Looking at the other data to decide if we can set a threshold for the 'other' category\n",
    "training_set['Browser'].value_counts()\n",
    "training_set['TrafficType'].value_counts()\n",
    "training_set['OperatingSystems'].value_counts()\n",
    "\n",
    "browser = pd.get_dummies(training_set.Browser, prefix='Browser')\n",
    "traffic_type = pd.get_dummies(training_set.TrafficType, prefix='TrafficType')\n",
    "operating_systems = pd.get_dummies(training_set.OperatingSystems, prefix='OperatingSystems')"
   ]
  },
  {
   "cell_type": "code",
   "execution_count": 7,
   "id": "272a3f50",
   "metadata": {},
   "outputs": [
    {
     "data": {
      "text/plain": [
       "(9182, 57)"
      ]
     },
     "execution_count": 7,
     "metadata": {},
     "output_type": "execute_result"
    }
   ],
   "source": [
    "# Replacing the old categorical features with the new ones\n",
    "training_set = training_set.drop(['Unnamed: 0','Month','Region','Browser','TrafficType','OperatingSystems'], axis=1).join([months,regions,browser,traffic_type,operating_systems])\n",
    "training_set.shape"
   ]
  },
  {
   "cell_type": "code",
   "execution_count": 9,
   "id": "597c19bf",
   "metadata": {},
   "outputs": [],
   "source": [
    "# split the training set to separate the rows with missing values\n",
    "mask = training_set['ExitRates'].isna()\n",
    "training_set_missing = training_set[mask]\n",
    "#training_set_missing.head()\n",
    "training_set_no_missing = training_set[mask==False]\n",
    "#training_set_no_missing.head()"
   ]
  },
  {
   "cell_type": "code",
   "execution_count": 107,
   "id": "ff957070",
   "metadata": {},
   "outputs": [],
   "source": [
    "# Split the features of the dataset\n",
    "X_all_features = list(np.delete(training_set.columns.values, [np.where(training_set.columns.values=='ExitRates'),np.where(training_set.columns.values=='Revenue')], axis=None))\n",
    "#X_all_features = ['Administrative','Administrative_Duration','Informational','Informational_Duration','ProductRelated','ProductRelated_Duration','BounceRates','PageValues','SpecialDay','VisitorType']\n",
    "#X_all_features = ['Weekend']\n",
    "X = training_set_no_missing[X_all_features].to_numpy()\n",
    "y = training_set_no_missing['ExitRates'].to_numpy()"
   ]
  },
  {
   "cell_type": "code",
   "execution_count": 108,
   "id": "d561eaaa",
   "metadata": {},
   "outputs": [
    {
     "name": "stdout",
     "output_type": "stream",
     "text": [
      "Train R2 score  0.859778723005465\n",
      "Train MSE score  0.0003226202857362456\n"
     ]
    },
    {
     "data": {
      "text/plain": [
       "array([[ 2.79716655e-02],\n",
       "       [-9.12099077e-04],\n",
       "       [-2.44409516e-06],\n",
       "       [ 7.95267500e-05],\n",
       "       [ 1.51349671e-06],\n",
       "       [-1.16465378e-04],\n",
       "       [ 5.56637339e-07],\n",
       "       [ 8.64449325e-01],\n",
       "       [-1.43807128e-04],\n",
       "       [ 6.78246136e-03],\n",
       "       [ 1.60982339e-15],\n",
       "       [-3.05311332e-16],\n",
       "       [-1.23425223e-03],\n",
       "       [ 3.88133462e-04],\n",
       "       [ 6.57798501e-04],\n",
       "       [ 5.54856136e-04],\n",
       "       [ 5.52494336e-03],\n",
       "       [-6.94861943e-04],\n",
       "       [-6.77800880e-04],\n",
       "       [ 4.12527596e-05],\n",
       "       [-2.07837979e-03],\n",
       "       [-2.48168936e-03],\n",
       "       [ 5.75895008e-04],\n",
       "       [-7.10637714e-04],\n",
       "       [ 9.29056890e-04],\n",
       "       [ 3.84798506e-04],\n",
       "       [ 1.38104430e-05],\n",
       "       [-6.60042646e-04],\n",
       "       [-1.47664751e-03],\n",
       "       [-7.13873362e-04],\n",
       "       [ 1.65764039e-03],\n",
       "       [ 1.69260119e-04],\n",
       "       [-3.99508616e-04],\n",
       "       [-7.35689901e-05],\n",
       "       [-5.81347998e-04],\n",
       "       [ 5.00938434e-04],\n",
       "       [ 1.01896919e-03],\n",
       "       [-2.50729726e-03],\n",
       "       [ 1.87255513e-03],\n",
       "       [ 3.02152427e-03],\n",
       "       [-3.10887073e-03],\n",
       "       [ 3.29802518e-03],\n",
       "       [-1.43184042e-03],\n",
       "       [-1.46647832e-03],\n",
       "       [ 1.00348502e-03],\n",
       "       [-3.73640131e-03],\n",
       "       [ 5.33337829e-04],\n",
       "       [-8.00700073e-05],\n",
       "       [ 4.31771924e-03],\n",
       "       [ 8.70182551e-05],\n",
       "       [-2.43744900e-03],\n",
       "       [ 2.87828860e-04],\n",
       "       [ 3.14371046e-03],\n",
       "       [-1.18463164e-03],\n",
       "       [ 1.89910308e-03],\n",
       "       [-4.14601076e-03]])"
      ]
     },
     "execution_count": 108,
     "metadata": {},
     "output_type": "execute_result"
    }
   ],
   "source": [
    "# Fit the LinearRegression predictors\n",
    "\n",
    "model = LinearRegression(fit_intercept=True) # 1- hyperparams selection\n",
    "model = model.fit(X, y)          # 2- model fitting\n",
    "#y_predict_test = model.predict(X_test)       # 3- prediction\n",
    "y_predict_train = model.predict(X)\n",
    "\n",
    "\n",
    "print(\"Train R2 score \", r2_score(y, y_predict_train))\n",
    "print(\"Train MSE score \", mean_squared_error(y, y_predict_train))\n",
    "betas = np.array([model.intercept_, *model.coef_]).reshape(-1, 1)\n",
    "betas"
   ]
  },
  {
   "cell_type": "code",
   "execution_count": 102,
   "id": "81eb1f61",
   "metadata": {},
   "outputs": [],
   "source": [
    "# Computes coefficient statistcs\n",
    "def show_stats(X, y, betas, names, alpha=None):\n",
    "    n_samples, n_features = X.shape\n",
    "    deg = n_samples-n_features\n",
    "    \n",
    "    # If the ones column has not been added\n",
    "    if X.shape[1] + 1 == betas.shape[0]:\n",
    "        X = np.concatenate([np.ones([X.shape[0], 1]), X], axis=-1)\n",
    "    #print(X)\n",
    "    # Compute the prediction\n",
    "    pred = X.dot(betas).reshape(-1)\n",
    "    betas = betas.reshape(-1)\n",
    "    y = y.reshape(-1)\n",
    "    RSE = ((y-pred)**2).sum()/(n_samples - n_features)\n",
    "\n",
    "    # Compute the t statistics\n",
    "    se2_b = RSE*(np.linalg.inv(np.dot(X.T, X)).diagonal())\n",
    "    print(se2_b)\n",
    "    se_b = np.sqrt(se2_b)\n",
    "    t_stat_b = (betas - 0) / se_b\n",
    "\n",
    "    # Compute the p-value\n",
    "    p_values = np.array([2*t.sf(np.abs(t_stat), deg) for t_stat in t_stat_b])\n",
    "    \n",
    "    df = pd.DataFrame()\n",
    "    df[\"Name\"] = names\n",
    "    df[\"Coefficients\"] = betas\n",
    "    df[\"Standard Errors\"] = se_b\n",
    "    df[\"t-stat\"] = t_stat_b\n",
    "    df[\"p-value\"] = p_values\n",
    "    if alpha:\n",
    "        rejectH0 = p_values < alpha\n",
    "        df[\"reject H0\"] = rejectH0    \n",
    "    \n",
    "    RSS = np.sum((y - pred)**2)\n",
    "    MSE = RSS/y.shape[0]\n",
    "    #print(\"RSS: {}\".format(RSS))\n",
    "    \n",
    "    return df"
   ]
  },
  {
   "cell_type": "code",
   "execution_count": 103,
   "id": "ca9dbaf1",
   "metadata": {},
   "outputs": [
    {
     "ename": "LinAlgError",
     "evalue": "Singular matrix",
     "output_type": "error",
     "traceback": [
      "\u001b[1;31m---------------------------------------------------------------------------\u001b[0m",
      "\u001b[1;31mLinAlgError\u001b[0m                               Traceback (most recent call last)",
      "\u001b[1;32m~\\AppData\\Local\\Temp\\ipykernel_25820\\1422733326.py\u001b[0m in \u001b[0;36m<module>\u001b[1;34m\u001b[0m\n\u001b[1;32m----> 1\u001b[1;33m \u001b[0mshow_stats\u001b[0m\u001b[1;33m(\u001b[0m\u001b[0mX\u001b[0m\u001b[1;33m,\u001b[0m \u001b[0my\u001b[0m\u001b[1;33m,\u001b[0m \u001b[0mbetas\u001b[0m\u001b[1;33m,\u001b[0m \u001b[1;33m[\u001b[0m\u001b[1;34m'Intercept'\u001b[0m\u001b[1;33m,\u001b[0m \u001b[1;33m*\u001b[0m\u001b[0mX_all_features\u001b[0m\u001b[1;33m]\u001b[0m\u001b[1;33m,\u001b[0m \u001b[0malpha\u001b[0m\u001b[1;33m=\u001b[0m\u001b[1;36m0.001\u001b[0m\u001b[1;33m)\u001b[0m\u001b[1;33m\u001b[0m\u001b[1;33m\u001b[0m\u001b[0m\n\u001b[0m",
      "\u001b[1;32m~\\AppData\\Local\\Temp\\ipykernel_25820\\2852110915.py\u001b[0m in \u001b[0;36mshow_stats\u001b[1;34m(X, y, betas, names, alpha)\u001b[0m\n\u001b[0;32m     15\u001b[0m \u001b[1;33m\u001b[0m\u001b[0m\n\u001b[0;32m     16\u001b[0m     \u001b[1;31m# Compute the t statistics\u001b[0m\u001b[1;33m\u001b[0m\u001b[1;33m\u001b[0m\u001b[0m\n\u001b[1;32m---> 17\u001b[1;33m     \u001b[0mse2_b\u001b[0m \u001b[1;33m=\u001b[0m \u001b[0mRSE\u001b[0m\u001b[1;33m*\u001b[0m\u001b[1;33m(\u001b[0m\u001b[0mnp\u001b[0m\u001b[1;33m.\u001b[0m\u001b[0mlinalg\u001b[0m\u001b[1;33m.\u001b[0m\u001b[0minv\u001b[0m\u001b[1;33m(\u001b[0m\u001b[0mnp\u001b[0m\u001b[1;33m.\u001b[0m\u001b[0mdot\u001b[0m\u001b[1;33m(\u001b[0m\u001b[0mX\u001b[0m\u001b[1;33m.\u001b[0m\u001b[0mT\u001b[0m\u001b[1;33m,\u001b[0m \u001b[0mX\u001b[0m\u001b[1;33m)\u001b[0m\u001b[1;33m)\u001b[0m\u001b[1;33m.\u001b[0m\u001b[0mdiagonal\u001b[0m\u001b[1;33m(\u001b[0m\u001b[1;33m)\u001b[0m\u001b[1;33m)\u001b[0m\u001b[1;33m\u001b[0m\u001b[1;33m\u001b[0m\u001b[0m\n\u001b[0m\u001b[0;32m     18\u001b[0m     \u001b[0mprint\u001b[0m\u001b[1;33m(\u001b[0m\u001b[0mse2_b\u001b[0m\u001b[1;33m)\u001b[0m\u001b[1;33m\u001b[0m\u001b[1;33m\u001b[0m\u001b[0m\n\u001b[0;32m     19\u001b[0m     \u001b[0mse_b\u001b[0m \u001b[1;33m=\u001b[0m \u001b[0mnp\u001b[0m\u001b[1;33m.\u001b[0m\u001b[0msqrt\u001b[0m\u001b[1;33m(\u001b[0m\u001b[0mse2_b\u001b[0m\u001b[1;33m)\u001b[0m\u001b[1;33m\u001b[0m\u001b[1;33m\u001b[0m\u001b[0m\n",
      "\u001b[1;32m<__array_function__ internals>\u001b[0m in \u001b[0;36minv\u001b[1;34m(*args, **kwargs)\u001b[0m\n",
      "\u001b[1;32m~\\anaconda3\\lib\\site-packages\\numpy\\linalg\\linalg.py\u001b[0m in \u001b[0;36minv\u001b[1;34m(a)\u001b[0m\n\u001b[0;32m    543\u001b[0m     \u001b[0msignature\u001b[0m \u001b[1;33m=\u001b[0m \u001b[1;34m'D->D'\u001b[0m \u001b[1;32mif\u001b[0m \u001b[0misComplexType\u001b[0m\u001b[1;33m(\u001b[0m\u001b[0mt\u001b[0m\u001b[1;33m)\u001b[0m \u001b[1;32melse\u001b[0m \u001b[1;34m'd->d'\u001b[0m\u001b[1;33m\u001b[0m\u001b[1;33m\u001b[0m\u001b[0m\n\u001b[0;32m    544\u001b[0m     \u001b[0mextobj\u001b[0m \u001b[1;33m=\u001b[0m \u001b[0mget_linalg_error_extobj\u001b[0m\u001b[1;33m(\u001b[0m\u001b[0m_raise_linalgerror_singular\u001b[0m\u001b[1;33m)\u001b[0m\u001b[1;33m\u001b[0m\u001b[1;33m\u001b[0m\u001b[0m\n\u001b[1;32m--> 545\u001b[1;33m     \u001b[0mainv\u001b[0m \u001b[1;33m=\u001b[0m \u001b[0m_umath_linalg\u001b[0m\u001b[1;33m.\u001b[0m\u001b[0minv\u001b[0m\u001b[1;33m(\u001b[0m\u001b[0ma\u001b[0m\u001b[1;33m,\u001b[0m \u001b[0msignature\u001b[0m\u001b[1;33m=\u001b[0m\u001b[0msignature\u001b[0m\u001b[1;33m,\u001b[0m \u001b[0mextobj\u001b[0m\u001b[1;33m=\u001b[0m\u001b[0mextobj\u001b[0m\u001b[1;33m)\u001b[0m\u001b[1;33m\u001b[0m\u001b[1;33m\u001b[0m\u001b[0m\n\u001b[0m\u001b[0;32m    546\u001b[0m     \u001b[1;32mreturn\u001b[0m \u001b[0mwrap\u001b[0m\u001b[1;33m(\u001b[0m\u001b[0mainv\u001b[0m\u001b[1;33m.\u001b[0m\u001b[0mastype\u001b[0m\u001b[1;33m(\u001b[0m\u001b[0mresult_t\u001b[0m\u001b[1;33m,\u001b[0m \u001b[0mcopy\u001b[0m\u001b[1;33m=\u001b[0m\u001b[1;32mFalse\u001b[0m\u001b[1;33m)\u001b[0m\u001b[1;33m)\u001b[0m\u001b[1;33m\u001b[0m\u001b[1;33m\u001b[0m\u001b[0m\n\u001b[0;32m    547\u001b[0m \u001b[1;33m\u001b[0m\u001b[0m\n",
      "\u001b[1;32m~\\anaconda3\\lib\\site-packages\\numpy\\linalg\\linalg.py\u001b[0m in \u001b[0;36m_raise_linalgerror_singular\u001b[1;34m(err, flag)\u001b[0m\n\u001b[0;32m     86\u001b[0m \u001b[1;33m\u001b[0m\u001b[0m\n\u001b[0;32m     87\u001b[0m \u001b[1;32mdef\u001b[0m \u001b[0m_raise_linalgerror_singular\u001b[0m\u001b[1;33m(\u001b[0m\u001b[0merr\u001b[0m\u001b[1;33m,\u001b[0m \u001b[0mflag\u001b[0m\u001b[1;33m)\u001b[0m\u001b[1;33m:\u001b[0m\u001b[1;33m\u001b[0m\u001b[1;33m\u001b[0m\u001b[0m\n\u001b[1;32m---> 88\u001b[1;33m     \u001b[1;32mraise\u001b[0m \u001b[0mLinAlgError\u001b[0m\u001b[1;33m(\u001b[0m\u001b[1;34m\"Singular matrix\"\u001b[0m\u001b[1;33m)\u001b[0m\u001b[1;33m\u001b[0m\u001b[1;33m\u001b[0m\u001b[0m\n\u001b[0m\u001b[0;32m     89\u001b[0m \u001b[1;33m\u001b[0m\u001b[0m\n\u001b[0;32m     90\u001b[0m \u001b[1;32mdef\u001b[0m \u001b[0m_raise_linalgerror_nonposdef\u001b[0m\u001b[1;33m(\u001b[0m\u001b[0merr\u001b[0m\u001b[1;33m,\u001b[0m \u001b[0mflag\u001b[0m\u001b[1;33m)\u001b[0m\u001b[1;33m:\u001b[0m\u001b[1;33m\u001b[0m\u001b[1;33m\u001b[0m\u001b[0m\n",
      "\u001b[1;31mLinAlgError\u001b[0m: Singular matrix"
     ]
    }
   ],
   "source": [
    "show_stats(X, y, betas, ['Intercept', *X_all_features], alpha=0.001)"
   ]
  }
 ],
 "metadata": {
  "kernelspec": {
   "display_name": "Python 3 (ipykernel)",
   "language": "python",
   "name": "python3"
  },
  "language_info": {
   "codemirror_mode": {
    "name": "ipython",
    "version": 3
   },
   "file_extension": ".py",
   "mimetype": "text/x-python",
   "name": "python",
   "nbconvert_exporter": "python",
   "pygments_lexer": "ipython3",
   "version": "3.9.13"
  }
 },
 "nbformat": 4,
 "nbformat_minor": 5
}
